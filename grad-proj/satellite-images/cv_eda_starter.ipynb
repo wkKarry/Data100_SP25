{
 "cells": [
  {
   "cell_type": "code",
   "execution_count": null,
   "metadata": {},
   "outputs": [],
   "source": [
    "import json\n",
    "import matplotlib.pyplot as plt\n",
    "import numpy as np\n",
    "import pandas as pd\n",
    "import seaborn as sns"
   ]
  },
  {
   "cell_type": "markdown",
   "metadata": {},
   "source": [
    "# Loading the data\n",
    "To get started let's first load in the data! We will make use of the helper functions provided in `data_utils.py`"
   ]
  },
  {
   "cell_type": "code",
   "execution_count": null,
   "metadata": {},
   "outputs": [],
   "source": [
    "from data_utils import get_images, get_labels"
   ]
  },
  {
   "cell_type": "markdown",
   "metadata": {},
   "source": [
    "The following is the list of disasters in our dataset. "
   ]
  },
  {
   "cell_type": "code",
   "execution_count": null,
   "metadata": {},
   "outputs": [],
   "source": [
    "disaster_list = [\"hurricane-matthew\", \"socal-fire\", \"midwest-flooding\"]"
   ]
  },
  {
   "cell_type": "markdown",
   "metadata": {},
   "source": [
    "We will load each disaster train dataset into a dictionary. Recall that each disaster consists of images and labels (0 - 3) of the damage level."
   ]
  },
  {
   "cell_type": "code",
   "execution_count": null,
   "metadata": {},
   "outputs": [],
   "source": [
    "data = {}\n",
    "split = \"train\"\n",
    "with open('config.json') as config_file:\n",
    "    config = json.load(config_file)\n",
    "    data_dir = config['data_dir']\n",
    "\n",
    "for disaster in disaster_list:\n",
    "    print(f\"Loading {split} images and labels for {disaster} dataset...\")\n",
    "    images = get_images(data_dir, disaster, split=split)\n",
    "    labels = get_labels(data_dir, disaster, split=split)\n",
    "    data[disaster] = {\"images\": images, \"labels\": labels}"
   ]
  },
  {
   "cell_type": "markdown",
   "metadata": {},
   "source": [
    "Let's visualize an image and its label in the dataset. "
   ]
  },
  {
   "cell_type": "code",
   "execution_count": null,
   "metadata": {},
   "outputs": [],
   "source": [
    "disaster = disaster_list[0]\n",
    "images = data[disaster][\"images\"]\n",
    "labels = data[disaster][\"labels\"]\n",
    "\n",
    "# index of the image to display\n",
    "idx = 0\n",
    "img = images[idx]\n",
    "label = labels[idx]\n",
    "\n",
    "plt.title(f\"{disaster}, image {idx}, label {label}\")\n",
    "plt.imshow(img.astype(np.uint8))\n",
    "plt.axis(\"off\")\n",
    "plt.show()\n",
    "\n",
    "#\n",
    "print(f\"image shape: {img.shape}\")"
   ]
  },
  {
   "cell_type": "markdown",
   "metadata": {},
   "source": [
    "# Extracting Color Information\n",
    "Each image is an RGB image represented as a numpy array of dimensions (width, height, 3). The last dimension corresponds to the RGB *color channels* in the image. We can split the image by color channels and visualize each of them individually."
   ]
  },
  {
   "cell_type": "code",
   "execution_count": null,
   "metadata": {},
   "outputs": [],
   "source": [
    "plt.figure(figsize=(12, 12))\n",
    "\n",
    "plt.subplot(2, 2, 1)\n",
    "plt.imshow(img)\n",
    "plt.title(\"Original Image\")\n",
    "plt.axis(\"off\")\n",
    "\n",
    "plt.subplot(2, 2, 2)\n",
    "plt.imshow(img[:, :, 0], cmap=\"Reds\", vmin=0, vmax=255)\n",
    "plt.title(\"Red Channel\")\n",
    "plt.axis(\"off\")\n",
    "\n",
    "plt.subplot(2, 2, 3)\n",
    "plt.imshow(img[:, :, 1], cmap=\"Greens\", vmin=0, vmax=255)\n",
    "plt.title(\"Green Channel\")\n",
    "plt.axis(\"off\")\n",
    "\n",
    "plt.subplot(2, 2, 4)\n",
    "plt.imshow(img[:, :, 2], cmap=\"Blues\", vmin=0, vmax=255)\n",
    "plt.title(\"Blue Channel\")\n",
    "plt.axis(\"off\")\n",
    "\n",
    "plt.show()"
   ]
  },
  {
   "cell_type": "markdown",
   "metadata": {},
   "source": [
    "We can zoom in on just a pixel as well."
   ]
  },
  {
   "cell_type": "code",
   "execution_count": null,
   "metadata": {},
   "outputs": [],
   "source": [
    "coord = (15, 35)\n",
    "pixel_value = img[coord[0], coord[1], :]\n",
    "pixel_image = np.array([[pixel_value]])\n",
    "\n",
    "plt.imshow(pixel_image)\n",
    "plt.axis(\"off\")\n",
    "plt.show()\n",
    "\n",
    "print(f\"Pixel value: {pixel_value}, coordinate: {coord}\")"
   ]
  },
  {
   "cell_type": "markdown",
   "metadata": {},
   "source": [
    "# Extracting Edge and Texture Information\n",
    "\n",
    "So far we have considered the **color** information in an image. However, other important aspects of an image are the edges and texture. \n",
    "\n",
    "Let us consider some popular feature processing methods for extracting edge and texture information. We will use the utilities provided in `feature_utils.py`."
   ]
  },
  {
   "cell_type": "code",
   "execution_count": null,
   "metadata": {},
   "outputs": [],
   "source": [
    "from feature_utils import get_sobel_features, get_gabor_features, generate_gabor_kernel, get_local_binary_pattern"
   ]
  },
  {
   "cell_type": "markdown",
   "metadata": {},
   "source": [
    "Let's try the Sobel Edge Filter. \n",
    "\n",
    "Read more about Sobel edge detection: https://en.wikipedia.org/wiki/Sobel_operator and https://scikit-image.org/docs/stable/auto_examples/edges/plot_edge_filter.html"
   ]
  },
  {
   "cell_type": "code",
   "execution_count": null,
   "metadata": {},
   "outputs": [],
   "source": [
    "edges = get_sobel_features(img)\n",
    "plt.imshow(edges, cmap=\"gray\")\n",
    "plt.title(\"Sobel Edge Detection\")\n",
    "plt.axis(\"off\")\n",
    "plt.show()"
   ]
  },
  {
   "cell_type": "markdown",
   "metadata": {},
   "source": [
    "Now let's look at local binary patterns. \n",
    "\n",
    "Read more about LBP: https://en.wikipedia.org/wiki/Local_binary_patterns and https://scikit-image.org/docs/stable/auto_examples/features_detection/plot_local_binary_pattern.html"
   ]
  },
  {
   "cell_type": "code",
   "execution_count": null,
   "metadata": {},
   "outputs": [],
   "source": [
    "lbp = get_local_binary_pattern(img, radius=3)\n",
    "plt.imshow(lbp, cmap=\"gray\")\n",
    "plt.axis(\"off\")\n",
    "plt.title(\"Local Binary Pattern (LBP)\")\n",
    "plt.show()"
   ]
  },
  {
   "cell_type": "markdown",
   "metadata": {},
   "source": [
    "Another popular filter for image processing is the Gabor filter. The Gabor filters are a family of filters parametrized by orientation, frequency, bandwith, etc. Let's generate one such filter.\n",
    "\n",
    "Read more about Gabor filters: https://en.wikipedia.org/wiki/Gabor_filter and https://scikit-image.org/docs/stable/auto_examples/features_detection/plot_gabor.html"
   ]
  },
  {
   "cell_type": "code",
   "execution_count": null,
   "metadata": {},
   "outputs": [],
   "source": [
    "theta = 0\n",
    "sigma = 1.0\n",
    "frequency = 0.1\n",
    "\n",
    "kernel = generate_gabor_kernel(theta, sigma, frequency)\n",
    "gabor = get_gabor_features(img, kernel)"
   ]
  },
  {
   "cell_type": "markdown",
   "metadata": {},
   "source": [
    "Let's visualize this filter (aka kernel) and the response of the image when we apply the filter. Concretely we are taking the convolution of the image with the filter. See https://en.wikipedia.org/wiki/Kernel_(image_processing) for more details."
   ]
  },
  {
   "cell_type": "code",
   "execution_count": null,
   "metadata": {},
   "outputs": [],
   "source": [
    "fig, axs = plt.subplots(1, 2, figsize=(10, 5))  # 1 row, 2 columns\n",
    "\n",
    "# Plot Gabor Kernel\n",
    "axs[0].imshow(kernel, cmap=\"gray\")\n",
    "axs[0].axis(\"off\")  # Remove axis\n",
    "axs[0].set_title(\"Gabor Kernel\")\n",
    "\n",
    "# Plot Gabor Kernel Response\n",
    "axs[1].imshow(gabor, cmap=\"gray\")\n",
    "axs[1].axis(\"off\")  # Remove axis\n",
    "axs[1].set_title(\"Gabor Kernel Response\")\n",
    "\n",
    "plt.show()"
   ]
  },
  {
   "cell_type": "markdown",
   "metadata": {},
   "source": [
    "# Exploratory Data Analysis\n",
    "\n",
    "The agency would like you to start performing some exploratory data analysis to build an initial understanding of the data. As part of the exploratory data analysis, the agency is interested in understanding certain aspects of the dataset better. \n",
    "\n",
    "Feel free to add more cells as you see fit for your analysis. "
   ]
  },
  {
   "cell_type": "markdown",
   "metadata": {},
   "source": [
    "# EDA - Basic Statistics"
   ]
  },
  {
   "cell_type": "markdown",
   "metadata": {},
   "source": [
    "## Number of Images per Disaster Type\n"
   ]
  },
  {
   "cell_type": "code",
   "execution_count": null,
   "metadata": {},
   "outputs": [],
   "source": []
  },
  {
   "cell_type": "code",
   "execution_count": null,
   "metadata": {},
   "outputs": [],
   "source": []
  },
  {
   "cell_type": "markdown",
   "metadata": {},
   "source": [
    "## Distribution of Image Sizes in Each Dataset"
   ]
  },
  {
   "cell_type": "code",
   "execution_count": null,
   "metadata": {},
   "outputs": [],
   "source": []
  },
  {
   "cell_type": "code",
   "execution_count": null,
   "metadata": {},
   "outputs": [],
   "source": []
  },
  {
   "cell_type": "markdown",
   "metadata": {},
   "source": [
    "## Distribution of Damage Labels"
   ]
  },
  {
   "cell_type": "code",
   "execution_count": null,
   "metadata": {},
   "outputs": [],
   "source": []
  },
  {
   "cell_type": "code",
   "execution_count": null,
   "metadata": {},
   "outputs": [],
   "source": []
  },
  {
   "cell_type": "markdown",
   "metadata": {},
   "source": [
    "# EDA - Useful Image Features for Classification\n",
    "\n",
    "The agency is looking for insights into useful image features for classifying images based on disaster type or damage level. You are tasked with verifying this and exploring whether color, edge, or texture features can effectively differentiate:\n",
    "\n",
    "1. `midwest-flooding` from `socal-fire` images.\n",
    "2. Damage levels 1 and 3 within the `hurricane-matthew` dataset.\n",
    "\n",
    "Previous interns have found color information to be potentially useful."
   ]
  },
  {
   "cell_type": "markdown",
   "metadata": {},
   "source": [
    "## Distribution of Color (RGB)"
   ]
  },
  {
   "cell_type": "code",
   "execution_count": null,
   "metadata": {},
   "outputs": [],
   "source": []
  },
  {
   "cell_type": "code",
   "execution_count": null,
   "metadata": {},
   "outputs": [],
   "source": []
  },
  {
   "cell_type": "markdown",
   "metadata": {},
   "source": [
    "## How are the distributions \"separable\"?\n",
    "\n",
    "The below are a non-exhaustive list of ways we can think about classifying these disaster images. You do not have to include all of them in your analysis.\n",
    "\n",
    "### 1. `midwest-flooding` vs `socal-fire`\n",
    "\n",
    "Among the different disaster events, are there are distinctions in:\n",
    "\n",
    "- image height, width, or overall size?\n",
    "- RGB values?\n",
    "- Sobel edges?\n",
    "- Local Binary Patterns?\n",
    "- Gabor kernels?\n",
    "\n"
   ]
  },
  {
   "cell_type": "code",
   "execution_count": null,
   "metadata": {},
   "outputs": [],
   "source": []
  },
  {
   "cell_type": "code",
   "execution_count": null,
   "metadata": {},
   "outputs": [],
   "source": []
  },
  {
   "cell_type": "markdown",
   "metadata": {},
   "source": [
    "### 2. Damage levels 1 vs 3 within the `hurricane-matthew` dataset\n",
    "\n",
    "Is there a relationship between the damage level and:\n",
    "\n",
    "- image height, width, or overall size?\n",
    "- RGB values?\n",
    "- Sobel edges?\n",
    "- Local Binary Patterns?\n",
    "- Gabor kernels?"
   ]
  },
  {
   "cell_type": "code",
   "execution_count": null,
   "metadata": {},
   "outputs": [],
   "source": []
  },
  {
   "cell_type": "code",
   "execution_count": null,
   "metadata": {},
   "outputs": [],
   "source": []
  }
 ],
 "metadata": {
  "kernelspec": {
   "display_name": "Python 3 (ipykernel)",
   "language": "python",
   "name": "python3"
  },
  "language_info": {
   "codemirror_mode": {
    "name": "ipython",
    "version": 3
   },
   "file_extension": ".py",
   "mimetype": "text/x-python",
   "name": "python",
   "nbconvert_exporter": "python",
   "pygments_lexer": "ipython3",
   "version": "3.11.11"
  }
 },
 "nbformat": 4,
 "nbformat_minor": 4
}
