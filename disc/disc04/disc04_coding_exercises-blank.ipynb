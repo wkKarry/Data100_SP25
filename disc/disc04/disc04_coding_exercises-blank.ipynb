{
 "cells": [
  {
   "attachments": {},
   "cell_type": "markdown",
   "id": "d21093a4",
   "metadata": {},
   "source": [
    "# Discussion 4: Visualizing Bigfoot"
   ]
  },
  {
   "cell_type": "markdown",
   "id": "df0f3d1d-a24d-4b35-a2c7-afb756176a71",
   "metadata": {},
   "source": [
    "**The following  questions are the same as question 2 in the discussion 4 worksheet**"
   ]
  },
  {
   "attachments": {},
   "cell_type": "markdown",
   "id": "a37ebceb",
   "metadata": {},
   "source": [
    "Many of you have probably heard of Bigfoot before. It's a mysterious ape-like creature that is said to live in North American forests. Most doubt its existence, but a passionate few swear that Bigfoot is real. In this discussion, you will be working with a dataset on Bigfoot sightings, visualizing variable distributions and combinations thereof to better understand how/when/where Bigfoot is reportedly spotted, and possibly either confirm or cast doubt on its existence. The Bigfoot data contains a ton of variables about each reported Bigfoot spotting, including location information, weather, and moon phase."
   ]
  },
  {
   "cell_type": "code",
   "execution_count": 1,
   "id": "484c40b6",
   "metadata": {},
   "outputs": [],
   "source": [
    "# Importing packages\n",
    "\n",
    "import pandas as pd\n",
    "import matplotlib.pyplot as plt\n",
    "import seaborn as sns\n",
    "\n",
    "import warnings\n",
    "warnings.filterwarnings('ignore')"
   ]
  },
  {
   "cell_type": "code",
   "execution_count": 2,
   "id": "7e62158e",
   "metadata": {},
   "outputs": [],
   "source": [
    "# Loading bigfoot data\n",
    "\n",
    "url = 'https://raw.githubusercontent.com/rfordatascience/tidytuesday/master/data/2022/2022-09-13/bigfoot.csv'\n",
    "df = pd.read_csv(url)"
   ]
  },
  {
   "attachments": {},
   "cell_type": "markdown",
   "id": "2a86b6b2",
   "metadata": {},
   "source": [
    "This dataset is extremely messy, with observations missing many values across multiple columns. This is normally the case with data based on citizen reports (many do not fill out all required fields). For the purposes of this discussion, we will drop all observations with any missing values and some unneeded columns. However, note this is not a good practice and you should almost never do this in real life!"
   ]
  },
  {
   "cell_type": "code",
   "execution_count": 3,
   "id": "d93f2db1",
   "metadata": {},
   "outputs": [],
   "source": [
    "# Drop unneeded rows and observations with missing values\n",
    "\n",
    "bigfoot = df.dropna().rename({'temperature_high':'temp_high' ,'temperature_low':'temp_low'},axis = 1)\n",
    "bigfoot = bigfoot.drop(['observed', 'location_details', 'county', 'state', 'title',\n",
    "       'latitude', 'longitude', 'number', 'classification', 'geohash',\n",
    "       'temperature_mid', 'dew_point','precip_probability', 'precip_type','summary', \n",
    "       'wind_bearing'], axis = 1)"
   ]
  },
  {
   "attachments": {},
   "cell_type": "markdown",
   "id": "7e9823a6",
   "metadata": {},
   "source": [
    "Here are the first few entries of the `bigfoot` table:"
   ]
  },
  {
   "cell_type": "code",
   "execution_count": 4,
   "id": "1d1d3419",
   "metadata": {},
   "outputs": [
    {
     "data": {
      "text/html": [
       "<div>\n",
       "<style scoped>\n",
       "    .dataframe tbody tr th:only-of-type {\n",
       "        vertical-align: middle;\n",
       "    }\n",
       "\n",
       "    .dataframe tbody tr th {\n",
       "        vertical-align: top;\n",
       "    }\n",
       "\n",
       "    .dataframe thead th {\n",
       "        text-align: right;\n",
       "    }\n",
       "</style>\n",
       "<table border=\"1\" class=\"dataframe\">\n",
       "  <thead>\n",
       "    <tr style=\"text-align: right;\">\n",
       "      <th></th>\n",
       "      <th>season</th>\n",
       "      <th>date</th>\n",
       "      <th>temp_high</th>\n",
       "      <th>temp_low</th>\n",
       "      <th>humidity</th>\n",
       "      <th>cloud_cover</th>\n",
       "      <th>moon_phase</th>\n",
       "      <th>precip_intensity</th>\n",
       "      <th>pressure</th>\n",
       "      <th>uv_index</th>\n",
       "      <th>visibility</th>\n",
       "      <th>wind_speed</th>\n",
       "    </tr>\n",
       "  </thead>\n",
       "  <tbody>\n",
       "    <tr>\n",
       "      <th>10</th>\n",
       "      <td>Summer</td>\n",
       "      <td>2016-06-07</td>\n",
       "      <td>74.69</td>\n",
       "      <td>53.80</td>\n",
       "      <td>0.79</td>\n",
       "      <td>0.61</td>\n",
       "      <td>0.10</td>\n",
       "      <td>0.0010</td>\n",
       "      <td>998.87</td>\n",
       "      <td>6.0</td>\n",
       "      <td>9.70</td>\n",
       "      <td>0.49</td>\n",
       "    </tr>\n",
       "    <tr>\n",
       "      <th>21</th>\n",
       "      <td>Summer</td>\n",
       "      <td>2015-10-02</td>\n",
       "      <td>49.06</td>\n",
       "      <td>44.24</td>\n",
       "      <td>0.87</td>\n",
       "      <td>0.93</td>\n",
       "      <td>0.67</td>\n",
       "      <td>0.0092</td>\n",
       "      <td>1022.92</td>\n",
       "      <td>3.0</td>\n",
       "      <td>9.16</td>\n",
       "      <td>2.87</td>\n",
       "    </tr>\n",
       "    <tr>\n",
       "      <th>32</th>\n",
       "      <td>Fall</td>\n",
       "      <td>2009-10-31</td>\n",
       "      <td>69.01</td>\n",
       "      <td>34.42</td>\n",
       "      <td>0.77</td>\n",
       "      <td>0.81</td>\n",
       "      <td>0.42</td>\n",
       "      <td>0.0158</td>\n",
       "      <td>1011.48</td>\n",
       "      <td>3.0</td>\n",
       "      <td>1.97</td>\n",
       "      <td>3.94</td>\n",
       "    </tr>\n",
       "    <tr>\n",
       "      <th>34</th>\n",
       "      <td>Summer</td>\n",
       "      <td>1978-07-15</td>\n",
       "      <td>68.56</td>\n",
       "      <td>63.05</td>\n",
       "      <td>0.88</td>\n",
       "      <td>0.80</td>\n",
       "      <td>0.33</td>\n",
       "      <td>0.0285</td>\n",
       "      <td>1014.70</td>\n",
       "      <td>5.0</td>\n",
       "      <td>5.71</td>\n",
       "      <td>5.47</td>\n",
       "    </tr>\n",
       "    <tr>\n",
       "      <th>55</th>\n",
       "      <td>Summer</td>\n",
       "      <td>2015-11-26</td>\n",
       "      <td>20.49</td>\n",
       "      <td>5.35</td>\n",
       "      <td>0.65</td>\n",
       "      <td>0.08</td>\n",
       "      <td>0.54</td>\n",
       "      <td>0.0002</td>\n",
       "      <td>1037.98</td>\n",
       "      <td>1.0</td>\n",
       "      <td>10.00</td>\n",
       "      <td>0.40</td>\n",
       "    </tr>\n",
       "  </tbody>\n",
       "</table>\n",
       "</div>"
      ],
      "text/plain": [
       "    season        date  temp_high  temp_low  humidity  cloud_cover  \\\n",
       "10  Summer  2016-06-07      74.69     53.80      0.79         0.61   \n",
       "21  Summer  2015-10-02      49.06     44.24      0.87         0.93   \n",
       "32    Fall  2009-10-31      69.01     34.42      0.77         0.81   \n",
       "34  Summer  1978-07-15      68.56     63.05      0.88         0.80   \n",
       "55  Summer  2015-11-26      20.49      5.35      0.65         0.08   \n",
       "\n",
       "    moon_phase  precip_intensity  pressure  uv_index  visibility  wind_speed  \n",
       "10        0.10            0.0010    998.87       6.0        9.70        0.49  \n",
       "21        0.67            0.0092   1022.92       3.0        9.16        2.87  \n",
       "32        0.42            0.0158   1011.48       3.0        1.97        3.94  \n",
       "34        0.33            0.0285   1014.70       5.0        5.71        5.47  \n",
       "55        0.54            0.0002   1037.98       1.0       10.00        0.40  "
      ]
     },
     "execution_count": 4,
     "metadata": {},
     "output_type": "execute_result"
    }
   ],
   "source": [
    "bigfoot.head(5)"
   ]
  },
  {
   "attachments": {},
   "cell_type": "markdown",
   "id": "5e4aeeae",
   "metadata": {},
   "source": [
    "## Question 2\n",
    "\n",
    "Let's first look at distributions of individual quantitative variables. Let's say we're interested in `wind_speed`. \n",
    "### Part A\n",
    "Which of the following are appropriate visualizations for plotting the distribution of a quantitative variable? (Select all that apply.)\n",
    "\n",
    "A. Pie charts\n",
    "\n",
    "B. Kernel Density Plot\n",
    "\n",
    "C. Scatter plot\n",
    "\n",
    "D. Box plot\n",
    "\n",
    "E. Histogram\n",
    "\n",
    "F. Hex plot"
   ]
  },
  {
   "cell_type": "markdown",
   "id": "36eb1cdd-e2d6-4894-bedc-ee5a8dae9b1a",
   "metadata": {},
   "source": [
    "**Solution**: Write your solution here"
   ]
  },
  {
   "cell_type": "markdown",
   "id": "44e3cf1f-22cf-452b-b5d5-bd0615d464ca",
   "metadata": {},
   "source": [
    "### Part B"
   ]
  },
  {
   "cell_type": "markdown",
   "id": "2e349766-a48a-4ad1-adec-ddda163303c6",
   "metadata": {},
   "source": [
    "Write a line of code that produces a visualization that depicts the variable’s **distribution** (example shown below).\n",
    "\n",
    "![](windspeed.png)\n"
   ]
  },
  {
   "cell_type": "code",
   "execution_count": 5,
   "id": "17dc51f6-b1aa-4776-bead-5821df54afcb",
   "metadata": {},
   "outputs": [],
   "source": [
    "# YOUR CODE HERE"
   ]
  },
  {
   "cell_type": "markdown",
   "id": "e38075aa-5e49-478f-b021-82cbd874cb4f",
   "metadata": {},
   "source": [
    "### Part C"
   ]
  },
  {
   "cell_type": "markdown",
   "id": "36b6a39e-98f5-45dc-b7b7-345561c3a137",
   "metadata": {},
   "source": [
    "Now, let's look at some qualitative variables. Write a line of code that produces a visualization that shows the distribution of bigfoot sightings across the variable `season` (example shown below). \n",
    "\n",
    "**Hint:** Use `seaborn`'s `sns.countplot` or `matplotlib`'s `plt.bar`.\n",
    "\n",
    "![](season_bar.png)"
   ]
  },
  {
   "cell_type": "code",
   "execution_count": 6,
   "id": "98c396d5-f8dc-4360-8ed0-98cb104288c4",
   "metadata": {},
   "outputs": [],
   "source": [
    "# YOUR CODE HERE"
   ]
  },
  {
   "cell_type": "markdown",
   "id": "46556bbb-f0f2-4bd8-a470-d2d97e020c51",
   "metadata": {},
   "source": [
    "### Part D"
   ]
  },
  {
   "cell_type": "markdown",
   "id": "ead1370b-c2d1-4acc-9c06-826196cba65b",
   "metadata": {},
   "source": [
    "Finally, produce a single visualization that showcases how the prevalence of bigfoot sightings at particular combinations of `moon_phase` and `wind_speed` vary across each season.\n",
    "\n",
    "**Hint**: Think about color as the third information channel in the plot.\n",
    "\n",
    "![](moon_vs_wind.png)"
   ]
  },
  {
   "cell_type": "code",
   "execution_count": 7,
   "id": "9a8d5d92-066c-458a-9b1a-8c63e8bf065b",
   "metadata": {},
   "outputs": [],
   "source": [
    "# YOUR CODE HERE"
   ]
  }
 ],
 "metadata": {
  "kernelspec": {
   "display_name": "Python 3 (ipykernel)",
   "language": "python",
   "name": "python3"
  },
  "language_info": {
   "codemirror_mode": {
    "name": "ipython",
    "version": 3
   },
   "file_extension": ".py",
   "mimetype": "text/x-python",
   "name": "python",
   "nbconvert_exporter": "python",
   "pygments_lexer": "ipython3",
   "version": "3.11.11"
  },
  "vscode": {
   "interpreter": {
    "hash": "aea83e800b3f611b156506e3451d6446f84c720051bc83a1d66a677713fe7b36"
   }
  }
 },
 "nbformat": 4,
 "nbformat_minor": 5
}
