{
 "cells": [
  {
   "attachments": {},
   "cell_type": "markdown",
   "id": "d60227e8",
   "metadata": {},
   "source": [
    "# Discussion 2: Pandas Practice\n",
    "\n",
    "This discussion is all about practicing using `pandas`, and testing your knowledge about its various functionalities to accomplish small tasks.\n",
    "\n",
    "We will be using the `elections` dataset from lecture."
   ]
  },
  {
   "cell_type": "code",
   "execution_count": 4,
   "id": "f26a152e",
   "metadata": {},
   "outputs": [
    {
     "data": {
      "text/html": [
       "<div>\n",
       "<style scoped>\n",
       "    .dataframe tbody tr th:only-of-type {\n",
       "        vertical-align: middle;\n",
       "    }\n",
       "\n",
       "    .dataframe tbody tr th {\n",
       "        vertical-align: top;\n",
       "    }\n",
       "\n",
       "    .dataframe thead th {\n",
       "        text-align: right;\n",
       "    }\n",
       "</style>\n",
       "<table border=\"1\" class=\"dataframe\">\n",
       "  <thead>\n",
       "    <tr style=\"text-align: right;\">\n",
       "      <th></th>\n",
       "      <th>Year</th>\n",
       "      <th>Candidate</th>\n",
       "      <th>Party</th>\n",
       "      <th>Popular vote</th>\n",
       "      <th>Result</th>\n",
       "      <th>%</th>\n",
       "    </tr>\n",
       "  </thead>\n",
       "  <tbody>\n",
       "    <tr>\n",
       "      <th>0</th>\n",
       "      <td>1824</td>\n",
       "      <td>Andrew Jackson</td>\n",
       "      <td>Democratic-Republican</td>\n",
       "      <td>151271</td>\n",
       "      <td>loss</td>\n",
       "      <td>57.210122</td>\n",
       "    </tr>\n",
       "    <tr>\n",
       "      <th>1</th>\n",
       "      <td>1824</td>\n",
       "      <td>John Quincy Adams</td>\n",
       "      <td>Democratic-Republican</td>\n",
       "      <td>113142</td>\n",
       "      <td>win</td>\n",
       "      <td>42.789878</td>\n",
       "    </tr>\n",
       "    <tr>\n",
       "      <th>2</th>\n",
       "      <td>1828</td>\n",
       "      <td>Andrew Jackson</td>\n",
       "      <td>Democratic</td>\n",
       "      <td>642806</td>\n",
       "      <td>win</td>\n",
       "      <td>56.203927</td>\n",
       "    </tr>\n",
       "    <tr>\n",
       "      <th>3</th>\n",
       "      <td>1828</td>\n",
       "      <td>John Quincy Adams</td>\n",
       "      <td>National Republican</td>\n",
       "      <td>500897</td>\n",
       "      <td>loss</td>\n",
       "      <td>43.796073</td>\n",
       "    </tr>\n",
       "    <tr>\n",
       "      <th>4</th>\n",
       "      <td>1832</td>\n",
       "      <td>Andrew Jackson</td>\n",
       "      <td>Democratic</td>\n",
       "      <td>702735</td>\n",
       "      <td>win</td>\n",
       "      <td>54.574789</td>\n",
       "    </tr>\n",
       "    <tr>\n",
       "      <th>5</th>\n",
       "      <td>1832</td>\n",
       "      <td>Henry Clay</td>\n",
       "      <td>National Republican</td>\n",
       "      <td>484205</td>\n",
       "      <td>loss</td>\n",
       "      <td>37.603628</td>\n",
       "    </tr>\n",
       "    <tr>\n",
       "      <th>6</th>\n",
       "      <td>1832</td>\n",
       "      <td>William Wirt</td>\n",
       "      <td>Anti-Masonic</td>\n",
       "      <td>100715</td>\n",
       "      <td>loss</td>\n",
       "      <td>7.821583</td>\n",
       "    </tr>\n",
       "    <tr>\n",
       "      <th>7</th>\n",
       "      <td>1836</td>\n",
       "      <td>Hugh Lawson White</td>\n",
       "      <td>Whig</td>\n",
       "      <td>146109</td>\n",
       "      <td>loss</td>\n",
       "      <td>10.005985</td>\n",
       "    </tr>\n",
       "    <tr>\n",
       "      <th>8</th>\n",
       "      <td>1836</td>\n",
       "      <td>Martin Van Buren</td>\n",
       "      <td>Democratic</td>\n",
       "      <td>763291</td>\n",
       "      <td>win</td>\n",
       "      <td>52.272472</td>\n",
       "    </tr>\n",
       "    <tr>\n",
       "      <th>9</th>\n",
       "      <td>1836</td>\n",
       "      <td>William Henry Harrison</td>\n",
       "      <td>Whig</td>\n",
       "      <td>550816</td>\n",
       "      <td>loss</td>\n",
       "      <td>37.721543</td>\n",
       "    </tr>\n",
       "  </tbody>\n",
       "</table>\n",
       "</div>"
      ],
      "text/plain": [
       "   Year               Candidate                  Party  Popular vote Result  \\\n",
       "0  1824          Andrew Jackson  Democratic-Republican        151271   loss   \n",
       "1  1824       John Quincy Adams  Democratic-Republican        113142    win   \n",
       "2  1828          Andrew Jackson             Democratic        642806    win   \n",
       "3  1828       John Quincy Adams    National Republican        500897   loss   \n",
       "4  1832          Andrew Jackson             Democratic        702735    win   \n",
       "5  1832              Henry Clay    National Republican        484205   loss   \n",
       "6  1832            William Wirt           Anti-Masonic        100715   loss   \n",
       "7  1836       Hugh Lawson White                   Whig        146109   loss   \n",
       "8  1836        Martin Van Buren             Democratic        763291    win   \n",
       "9  1836  William Henry Harrison                   Whig        550816   loss   \n",
       "\n",
       "           %  \n",
       "0  57.210122  \n",
       "1  42.789878  \n",
       "2  56.203927  \n",
       "3  43.796073  \n",
       "4  54.574789  \n",
       "5  37.603628  \n",
       "6   7.821583  \n",
       "7  10.005985  \n",
       "8  52.272472  \n",
       "9  37.721543  "
      ]
     },
     "execution_count": 4,
     "metadata": {},
     "output_type": "execute_result"
    }
   ],
   "source": [
    "# import packages\n",
    "import pandas as pd\n",
    "import numpy as np\n",
    "elections = pd.read_csv('elections.csv')\n",
    "elections.head(10)"
   ]
  },
  {
   "cell_type": "markdown",
   "id": "38fff9fa-3188-4b85-93eb-da5dbd60b329",
   "metadata": {},
   "source": [
    "## Problem 1\n",
    "Write a line of code that returns the elections table sorted in descending order by `\"popular vote\"`. Store your result in a variable named `sorted`. Would calling `sorted.iloc[[0], :]` give the same result as `sorted.loc[[0], :]`?\n",
    "\n",
    "*Answer*: "
   ]
  },
  {
   "cell_type": "code",
   "execution_count": null,
   "id": "bcf22ee3-43ec-41f3-992e-8a478ffbd112",
   "metadata": {},
   "outputs": [],
   "source": [
    "sorted = ..."
   ]
  },
  {
   "cell_type": "code",
   "execution_count": null,
   "id": "54fd5752-2583-4327-b0a2-7177d8f7416a",
   "metadata": {},
   "outputs": [],
   "source": [
    "sorted.iloc[[0], :]"
   ]
  },
  {
   "cell_type": "code",
   "execution_count": null,
   "id": "0c400590-19b5-41a6-ba1b-d5a564e0bdca",
   "metadata": {},
   "outputs": [],
   "source": [
    "sorted.loc[[0], :]"
   ]
  },
  {
   "attachments": {},
   "cell_type": "markdown",
   "id": "dc2fa590",
   "metadata": {},
   "source": [
    "## Problem 2\n",
    "\n",
    "Using Boolean slicing, write one line of `pandas` code that returns a `DataFrame` that only contains election results from the 1900s.\n",
    "\n",
    "*Answer*:"
   ]
  },
  {
   "cell_type": "code",
   "execution_count": null,
   "id": "dad407f0",
   "metadata": {},
   "outputs": [],
   "source": []
  },
  {
   "cell_type": "markdown",
   "id": "6f5217c9-4bb6-44c6-b01c-dbf22b815faa",
   "metadata": {},
   "source": [
    "## Problem 3\n",
    "\n",
    "Write one line of `pandas` code that returns a `Series`, where the index is the `\"Party\"`, \n",
    "and the values are how many times that party won an election. Only include parties that have won an election.\n",
    "\n",
    "_Answer:_"
   ]
  },
  {
   "cell_type": "code",
   "execution_count": null,
   "id": "6f5462d6-7f8d-43d5-9775-fce661382209",
   "metadata": {},
   "outputs": [],
   "source": []
  },
  {
   "attachments": {},
   "cell_type": "markdown",
   "id": "701ba9a6",
   "metadata": {},
   "source": [
    "## Problem 4\n",
    "\n",
    "Write a line of `pandas` code that returns a `Series` whose index is the years and whose values are the number of candidates that participated in those years' elections.\n",
    "\n",
    "*Answer:*"
   ]
  },
  {
   "cell_type": "code",
   "execution_count": null,
   "id": "037501e2",
   "metadata": {},
   "outputs": [],
   "source": []
  },
  {
   "cell_type": "code",
   "execution_count": null,
   "id": "e05bcafd-9a5b-49bc-a1e3-aaa33b134a86",
   "metadata": {},
   "outputs": [],
   "source": []
  },
  {
   "cell_type": "markdown",
   "id": "1299cf2b-bdaf-432d-8d67-efc5860ed38f",
   "metadata": {},
   "source": [
    "## Problem 5\n",
    "\n",
    "Write a line of `pandas` code that creates a filtered `DataFrame` named `filtered_parties`\n",
    "from the elections dataset and keeps only the parties that have at least one election %\n",
    "more than 50%.\n",
    "\n",
    "*Answer*: "
   ]
  },
  {
   "cell_type": "code",
   "execution_count": null,
   "id": "e5d0a86c-5fa2-47a3-8bda-3ee1e60e209e",
   "metadata": {},
   "outputs": [],
   "source": []
  },
  {
   "cell_type": "markdown",
   "id": "66b71e25-5eba-495a-8530-708d7996f16d",
   "metadata": {},
   "source": [
    "## Problem 6\n",
    "\n",
    "Write a line of `pandas` code that uses the `filtered_parties` `DataFrame` to return a new\n",
    "`DataFrame` with row indices that correspond to the year and columns that correspond\n",
    "to each party. Each entry should be the total percentage of votes for all the candidates\n",
    "that ran during that particular year for the specified party. Missing values from the dataset (the cases where a party did not have a candidate in a particular year) should be entered as 0. Below is an example.\n",
    "\n",
    "![](pivot.png)"
   ]
  },
  {
   "cell_type": "code",
   "execution_count": null,
   "id": "d63728c8-4f44-4eff-9f03-92a40251cffc",
   "metadata": {},
   "outputs": [],
   "source": []
  }
 ],
 "metadata": {
  "kernelspec": {
   "display_name": "Python 3 (ipykernel)",
   "language": "python",
   "name": "python3"
  },
  "language_info": {
   "codemirror_mode": {
    "name": "ipython",
    "version": 3
   },
   "file_extension": ".py",
   "mimetype": "text/x-python",
   "name": "python",
   "nbconvert_exporter": "python",
   "pygments_lexer": "ipython3",
   "version": "3.11.11"
  },
  "vscode": {
   "interpreter": {
    "hash": "aea83e800b3f611b156506e3451d6446f84c720051bc83a1d66a677713fe7b36"
   }
  }
 },
 "nbformat": 4,
 "nbformat_minor": 5
}
