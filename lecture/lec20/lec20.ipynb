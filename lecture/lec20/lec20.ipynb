{
 "cells": [
  {
   "cell_type": "markdown",
   "id": "a750c9e0",
   "metadata": {
    "tags": []
   },
   "source": [
    "# Lecture 20 – Data 100, Spring 2025\n",
    "\n",
    "Data 100, Spring 2025\n",
    "\n",
    "[Acknowledgments Page](https://ds100.org/sp25/acks/)"
   ]
  },
  {
   "cell_type": "markdown",
   "id": "851dbb4e-77e5-456e-903f-d8df3aea6707",
   "metadata": {},
   "source": [
    "## Starting Up SQL"
   ]
  },
  {
   "cell_type": "markdown",
   "id": "863c24e4-6422-47c8-a194-575b7b7488ae",
   "metadata": {},
   "source": [
    "Before we look at SQL syntax in detail, let's first get ourselves set up to run SQL queries in Jupyter."
   ]
  },
  {
   "cell_type": "markdown",
   "id": "d4c43259-2e11-4cb3-b2ed-04f2a4148d60",
   "metadata": {},
   "source": [
    "### Approach #1: SQL Magic"
   ]
  },
  {
   "cell_type": "markdown",
   "id": "f699330c-aee9-4036-bc7d-0fe329410f7b",
   "metadata": {},
   "source": [
    "**1. Load the `sql` Module.** \n",
    "\n",
    "Load `%%sql` cell magic."
   ]
  },
  {
   "cell_type": "code",
   "execution_count": 1,
   "id": "d809a9ab-fe04-4e65-99b9-bd1e0c6a0daf",
   "metadata": {},
   "outputs": [],
   "source": [
    "%load_ext sql"
   ]
  },
  {
   "cell_type": "markdown",
   "id": "b155e056-d307-4f69-8083-dee31155224e",
   "metadata": {},
   "source": [
    "**2. Connect to a database.**  \n",
    "\n",
    "Here, we connect to the SQLite database `basic_examples.db` and duckdb database `example_duck.db`."
   ]
  },
  {
   "cell_type": "code",
   "execution_count": 2,
   "id": "b2bc260a-13c7-496d-9577-bd7575a030fc",
   "metadata": {},
   "outputs": [
    {
     "data": {
      "text/html": [
       "<span style=\"None\">Connecting to &#x27;sqlite&#x27;</span>"
      ],
      "text/plain": [
       "Connecting to 'sqlite'"
      ]
     },
     "metadata": {},
     "output_type": "display_data"
    }
   ],
   "source": [
    "%sql sqlite:///data/basic_examples.db --alias sqlite"
   ]
  },
  {
   "cell_type": "code",
   "execution_count": 3,
   "id": "480982be-9b63-44f4-8ca2-e3b29cd04877",
   "metadata": {},
   "outputs": [
    {
     "data": {
      "text/html": [
       "<span style=\"None\">Connecting and switching to connection &#x27;duckdb&#x27;</span>"
      ],
      "text/plain": [
       "Connecting and switching to connection 'duckdb'"
      ]
     },
     "metadata": {},
     "output_type": "display_data"
    }
   ],
   "source": [
    "%sql duckdb:///data/example_duck.db --alias duckdb"
   ]
  },
  {
   "cell_type": "markdown",
   "id": "8c66752c-1a7c-4e8a-977e-95e27896a057",
   "metadata": {},
   "source": [
    "If you were connecting to an \"enterprise data platform\"\n",
    "\n",
    "```python\n",
    "from sqlalchemy import create_engine\n",
    "\n",
    "snow_engine = create_engine(\n",
    "    f\"snowflake://{user}:{password}@{account_identifier}\")\n",
    "%sql snow_engine --alias snow\n",
    "\n",
    "db_engine = create_engine(\n",
    "  url = f\"databricks://token:{access_token}@{server_hostname}?\" +\n",
    "        f\"http_path={http_path}&catalog={catalog}&schema={schema}\"\n",
    ")\n",
    "%sql db_engine --alias db\n",
    "```"
   ]
  },
  {
   "cell_type": "markdown",
   "id": "1b9a53ac-58d6-439f-a33e-926e15144e97",
   "metadata": {},
   "source": [
    "<br/>\n",
    "\n",
    "**3. Run a simple SQL query.** \n",
    "\n",
    "`%sql` parses only the immmediate line as a SQL command."
   ]
  },
  {
   "cell_type": "code",
   "execution_count": 4,
   "id": "c2cdb41a-e846-48d7-ae4a-11052fd00c26",
   "metadata": {},
   "outputs": [
    {
     "data": {
      "text/html": [
       "<span style=\"None\">Running query in &#x27;duckdb&#x27;</span>"
      ],
      "text/plain": [
       "Running query in 'duckdb'"
      ]
     },
     "metadata": {},
     "output_type": "display_data"
    },
    {
     "data": {
      "text/html": [
       "<table>\n",
       "    <thead>\n",
       "        <tr>\n",
       "            <th>name</th>\n",
       "            <th>year</th>\n",
       "            <th>cute</th>\n",
       "        </tr>\n",
       "    </thead>\n",
       "    <tbody>\n",
       "        <tr>\n",
       "            <td>hiccup</td>\n",
       "            <td>2010</td>\n",
       "            <td>10</td>\n",
       "        </tr>\n",
       "        <tr>\n",
       "            <td>drogon</td>\n",
       "            <td>2011</td>\n",
       "            <td>-100</td>\n",
       "        </tr>\n",
       "        <tr>\n",
       "            <td>dragon 2</td>\n",
       "            <td>2019</td>\n",
       "            <td>0</td>\n",
       "        </tr>\n",
       "        <tr>\n",
       "            <td>puff</td>\n",
       "            <td>2010</td>\n",
       "            <td>100</td>\n",
       "        </tr>\n",
       "        <tr>\n",
       "            <td>smaug</td>\n",
       "            <td>2011</td>\n",
       "            <td>None</td>\n",
       "        </tr>\n",
       "    </tbody>\n",
       "</table>"
      ],
      "text/plain": [
       "+----------+------+------+\n",
       "|   name   | year | cute |\n",
       "+----------+------+------+\n",
       "|  hiccup  | 2010 |  10  |\n",
       "|  drogon  | 2011 | -100 |\n",
       "| dragon 2 | 2019 |  0   |\n",
       "|   puff   | 2010 | 100  |\n",
       "|  smaug   | 2011 | None |\n",
       "+----------+------+------+"
      ]
     },
     "execution_count": 4,
     "metadata": {},
     "output_type": "execute_result"
    }
   ],
   "source": [
    "%sql SELECT * FROM Dragon;"
   ]
  },
  {
   "cell_type": "markdown",
   "id": "66a103f2-6a8b-40c2-ba11-3c287f8bcb6f",
   "metadata": {},
   "source": [
    "The `%%sql` command, on the other hand, lets Jupyter parse the rest of the lines (the entire code block) as a SQL command."
   ]
  },
  {
   "cell_type": "code",
   "execution_count": 5,
   "id": "8c172229-1ae6-408a-80b6-ef7985fbe386",
   "metadata": {},
   "outputs": [
    {
     "data": {
      "text/html": [
       "<span style=\"None\">Running query in &#x27;duckdb&#x27;</span>"
      ],
      "text/plain": [
       "Running query in 'duckdb'"
      ]
     },
     "metadata": {},
     "output_type": "display_data"
    },
    {
     "data": {
      "text/html": [
       "<table>\n",
       "    <thead>\n",
       "        <tr>\n",
       "            <th>name</th>\n",
       "            <th>year</th>\n",
       "            <th>cute</th>\n",
       "        </tr>\n",
       "    </thead>\n",
       "    <tbody>\n",
       "        <tr>\n",
       "            <td>hiccup</td>\n",
       "            <td>2010</td>\n",
       "            <td>10</td>\n",
       "        </tr>\n",
       "        <tr>\n",
       "            <td>drogon</td>\n",
       "            <td>2011</td>\n",
       "            <td>-100</td>\n",
       "        </tr>\n",
       "        <tr>\n",
       "            <td>dragon 2</td>\n",
       "            <td>2019</td>\n",
       "            <td>0</td>\n",
       "        </tr>\n",
       "        <tr>\n",
       "            <td>puff</td>\n",
       "            <td>2010</td>\n",
       "            <td>100</td>\n",
       "        </tr>\n",
       "        <tr>\n",
       "            <td>smaug</td>\n",
       "            <td>2011</td>\n",
       "            <td>None</td>\n",
       "        </tr>\n",
       "    </tbody>\n",
       "</table>"
      ],
      "text/plain": [
       "+----------+------+------+\n",
       "|   name   | year | cute |\n",
       "+----------+------+------+\n",
       "|  hiccup  | 2010 |  10  |\n",
       "|  drogon  | 2011 | -100 |\n",
       "| dragon 2 | 2019 |  0   |\n",
       "|   puff   | 2010 | 100  |\n",
       "|  smaug   | 2011 | None |\n",
       "+----------+------+------+"
      ]
     },
     "execution_count": 5,
     "metadata": {},
     "output_type": "execute_result"
    }
   ],
   "source": [
    "%%sql\n",
    "SELECT * FROM Dragon;"
   ]
  },
  {
   "cell_type": "markdown",
   "id": "3e2fbecc-ccf6-4807-b810-7de159a111a1",
   "metadata": {},
   "source": [
    "Simple query, this time on two different lines."
   ]
  },
  {
   "cell_type": "code",
   "execution_count": 6,
   "id": "4cbb0a40-63e7-46aa-a65f-a212e1a7858a",
   "metadata": {},
   "outputs": [
    {
     "data": {
      "text/html": [
       "<span style=\"None\">Running query in &#x27;duckdb&#x27;</span>"
      ],
      "text/plain": [
       "Running query in 'duckdb'"
      ]
     },
     "metadata": {},
     "output_type": "display_data"
    },
    {
     "data": {
      "text/html": [
       "<table>\n",
       "    <thead>\n",
       "        <tr>\n",
       "            <th>name</th>\n",
       "            <th>year</th>\n",
       "            <th>cute</th>\n",
       "        </tr>\n",
       "    </thead>\n",
       "    <tbody>\n",
       "        <tr>\n",
       "            <td>hiccup</td>\n",
       "            <td>2010</td>\n",
       "            <td>10</td>\n",
       "        </tr>\n",
       "        <tr>\n",
       "            <td>drogon</td>\n",
       "            <td>2011</td>\n",
       "            <td>-100</td>\n",
       "        </tr>\n",
       "        <tr>\n",
       "            <td>dragon 2</td>\n",
       "            <td>2019</td>\n",
       "            <td>0</td>\n",
       "        </tr>\n",
       "        <tr>\n",
       "            <td>puff</td>\n",
       "            <td>2010</td>\n",
       "            <td>100</td>\n",
       "        </tr>\n",
       "        <tr>\n",
       "            <td>smaug</td>\n",
       "            <td>2011</td>\n",
       "            <td>None</td>\n",
       "        </tr>\n",
       "    </tbody>\n",
       "</table>"
      ],
      "text/plain": [
       "+----------+------+------+\n",
       "|   name   | year | cute |\n",
       "+----------+------+------+\n",
       "|  hiccup  | 2010 |  10  |\n",
       "|  drogon  | 2011 | -100 |\n",
       "| dragon 2 | 2019 |  0   |\n",
       "|   puff   | 2010 | 100  |\n",
       "|  smaug   | 2011 | None |\n",
       "+----------+------+------+"
      ]
     },
     "execution_count": 6,
     "metadata": {},
     "output_type": "execute_result"
    }
   ],
   "source": [
    "%%sql\n",
    "SELECT *\n",
    "FROM Dragon;"
   ]
  },
  {
   "cell_type": "markdown",
   "id": "4f6a115d-5d45-48bd-89ee-ff40ea299878",
   "metadata": {},
   "source": [
    "#### Storing one-line `%sql` queries\n",
    "\n",
    "For simple one-line queries, you can use IPython's ability to store the result of a magic command like `%sql` as if it were any other Python statement, and save the output to a variable:"
   ]
  },
  {
   "cell_type": "code",
   "execution_count": 7,
   "id": "ab49b102-b47b-4304-b131-169ddb5c8d9d",
   "metadata": {},
   "outputs": [
    {
     "data": {
      "text/html": [
       "<span style=\"None\">Running query in &#x27;duckdb&#x27;</span>"
      ],
      "text/plain": [
       "Running query in 'duckdb'"
      ]
     },
     "metadata": {},
     "output_type": "display_data"
    },
    {
     "data": {
      "text/html": [
       "<table>\n",
       "    <thead>\n",
       "        <tr>\n",
       "            <th>name</th>\n",
       "            <th>year</th>\n",
       "            <th>cute</th>\n",
       "        </tr>\n",
       "    </thead>\n",
       "    <tbody>\n",
       "        <tr>\n",
       "            <td>hiccup</td>\n",
       "            <td>2010</td>\n",
       "            <td>10</td>\n",
       "        </tr>\n",
       "        <tr>\n",
       "            <td>drogon</td>\n",
       "            <td>2011</td>\n",
       "            <td>-100</td>\n",
       "        </tr>\n",
       "        <tr>\n",
       "            <td>dragon 2</td>\n",
       "            <td>2019</td>\n",
       "            <td>0</td>\n",
       "        </tr>\n",
       "        <tr>\n",
       "            <td>puff</td>\n",
       "            <td>2010</td>\n",
       "            <td>100</td>\n",
       "        </tr>\n",
       "        <tr>\n",
       "            <td>smaug</td>\n",
       "            <td>2011</td>\n",
       "            <td>None</td>\n",
       "        </tr>\n",
       "    </tbody>\n",
       "</table>"
      ],
      "text/plain": [
       "+----------+------+------+\n",
       "|   name   | year | cute |\n",
       "+----------+------+------+\n",
       "|  hiccup  | 2010 |  10  |\n",
       "|  drogon  | 2011 | -100 |\n",
       "| dragon 2 | 2019 |  0   |\n",
       "|   puff   | 2010 | 100  |\n",
       "|  smaug   | 2011 | None |\n",
       "+----------+------+------+"
      ]
     },
     "execution_count": 7,
     "metadata": {},
     "output_type": "execute_result"
    }
   ],
   "source": [
    "dragon_table = %sql SELECT * FROM Dragon\n",
    "dragon_table"
   ]
  },
  {
   "cell_type": "markdown",
   "id": "655d836f-007c-4ea4-9860-a29ced8bb947",
   "metadata": {},
   "source": [
    "As noted above, the result of the query is a Python variable of type `ResultSet`, more specifically:"
   ]
  },
  {
   "cell_type": "code",
   "execution_count": 8,
   "id": "bb205d1e-3456-458b-ba1d-04166dd355f7",
   "metadata": {},
   "outputs": [
    {
     "data": {
      "text/plain": [
       "sql.run.resultset.ResultSet"
      ]
     },
     "execution_count": 8,
     "metadata": {},
     "output_type": "execute_result"
    }
   ],
   "source": [
    "type(dragon_table)"
   ]
  },
  {
   "cell_type": "markdown",
   "id": "8b2e03dd-b54c-411b-b72d-679e4cc3dcc4",
   "metadata": {},
   "source": [
    "You need to manually convert it to a Pandas `DataFrame` if you want to do pandas-things with its content:"
   ]
  },
  {
   "cell_type": "code",
   "execution_count": 9,
   "id": "3c35735a-e30e-47a2-acfe-5486550a52bf",
   "metadata": {},
   "outputs": [
    {
     "data": {
      "text/html": [
       "<div>\n",
       "<style scoped>\n",
       "    .dataframe tbody tr th:only-of-type {\n",
       "        vertical-align: middle;\n",
       "    }\n",
       "\n",
       "    .dataframe tbody tr th {\n",
       "        vertical-align: top;\n",
       "    }\n",
       "\n",
       "    .dataframe thead th {\n",
       "        text-align: right;\n",
       "    }\n",
       "</style>\n",
       "<table border=\"1\" class=\"dataframe\">\n",
       "  <thead>\n",
       "    <tr style=\"text-align: right;\">\n",
       "      <th></th>\n",
       "      <th>name</th>\n",
       "      <th>year</th>\n",
       "      <th>cute</th>\n",
       "    </tr>\n",
       "  </thead>\n",
       "  <tbody>\n",
       "    <tr>\n",
       "      <th>0</th>\n",
       "      <td>hiccup</td>\n",
       "      <td>2010</td>\n",
       "      <td>10.0</td>\n",
       "    </tr>\n",
       "    <tr>\n",
       "      <th>1</th>\n",
       "      <td>drogon</td>\n",
       "      <td>2011</td>\n",
       "      <td>-100.0</td>\n",
       "    </tr>\n",
       "    <tr>\n",
       "      <th>2</th>\n",
       "      <td>dragon 2</td>\n",
       "      <td>2019</td>\n",
       "      <td>0.0</td>\n",
       "    </tr>\n",
       "    <tr>\n",
       "      <th>3</th>\n",
       "      <td>puff</td>\n",
       "      <td>2010</td>\n",
       "      <td>100.0</td>\n",
       "    </tr>\n",
       "    <tr>\n",
       "      <th>4</th>\n",
       "      <td>smaug</td>\n",
       "      <td>2011</td>\n",
       "      <td>NaN</td>\n",
       "    </tr>\n",
       "  </tbody>\n",
       "</table>\n",
       "</div>"
      ],
      "text/plain": [
       "       name  year   cute\n",
       "0    hiccup  2010   10.0\n",
       "1    drogon  2011 -100.0\n",
       "2  dragon 2  2019    0.0\n",
       "3      puff  2010  100.0\n",
       "4     smaug  2011    NaN"
      ]
     },
     "execution_count": 9,
     "metadata": {},
     "output_type": "execute_result"
    }
   ],
   "source": [
    "dragon_df = dragon_table.DataFrame()\n",
    "dragon_df"
   ]
  },
  {
   "cell_type": "markdown",
   "id": "c278afd7-1c61-4928-b316-62b4cdc0c21e",
   "metadata": {},
   "source": [
    "You can configure `jupysql` to _automatically_ convert all outputs to Pandas DataFrames. This can be handy if you intend all your Python-side work to be done with Pandas, as it saves you from manually having to call `.DataFrame()` first on all outputs. On the other hand, you don't get access to the original SQL `ResultSet` object, which have a number of interesting properties and capabilities. You can learn more about those in the [jupysql documentation](https://jupysql.ploomber.io).\n",
    "\n",
    "For now, let's turn this on so you can see how this simplified, \"pandas all the way\" workflow looks like:"
   ]
  },
  {
   "cell_type": "code",
   "execution_count": 10,
   "id": "997ad531-c5e0-4b60-96b7-4d8c0d78890c",
   "metadata": {},
   "outputs": [],
   "source": [
    "%config SqlMagic.autopandas = True"
   ]
  },
  {
   "cell_type": "code",
   "execution_count": 11,
   "id": "c4b32c92-97d1-4044-b8e3-7a0ccbded620",
   "metadata": {},
   "outputs": [
    {
     "data": {
      "text/html": [
       "<span style=\"None\">Running query in &#x27;duckdb&#x27;</span>"
      ],
      "text/plain": [
       "Running query in 'duckdb'"
      ]
     },
     "metadata": {},
     "output_type": "display_data"
    },
    {
     "data": {
      "text/html": [
       "<div>\n",
       "<style scoped>\n",
       "    .dataframe tbody tr th:only-of-type {\n",
       "        vertical-align: middle;\n",
       "    }\n",
       "\n",
       "    .dataframe tbody tr th {\n",
       "        vertical-align: top;\n",
       "    }\n",
       "\n",
       "    .dataframe thead th {\n",
       "        text-align: right;\n",
       "    }\n",
       "</style>\n",
       "<table border=\"1\" class=\"dataframe\">\n",
       "  <thead>\n",
       "    <tr style=\"text-align: right;\">\n",
       "      <th></th>\n",
       "      <th>name</th>\n",
       "      <th>year</th>\n",
       "      <th>cute</th>\n",
       "    </tr>\n",
       "  </thead>\n",
       "  <tbody>\n",
       "    <tr>\n",
       "      <th>0</th>\n",
       "      <td>hiccup</td>\n",
       "      <td>2010</td>\n",
       "      <td>10.0</td>\n",
       "    </tr>\n",
       "    <tr>\n",
       "      <th>1</th>\n",
       "      <td>drogon</td>\n",
       "      <td>2011</td>\n",
       "      <td>-100.0</td>\n",
       "    </tr>\n",
       "    <tr>\n",
       "      <th>2</th>\n",
       "      <td>dragon 2</td>\n",
       "      <td>2019</td>\n",
       "      <td>0.0</td>\n",
       "    </tr>\n",
       "    <tr>\n",
       "      <th>3</th>\n",
       "      <td>puff</td>\n",
       "      <td>2010</td>\n",
       "      <td>100.0</td>\n",
       "    </tr>\n",
       "    <tr>\n",
       "      <th>4</th>\n",
       "      <td>smaug</td>\n",
       "      <td>2011</td>\n",
       "      <td>NaN</td>\n",
       "    </tr>\n",
       "  </tbody>\n",
       "</table>\n",
       "</div>"
      ],
      "text/plain": [
       "       name  year   cute\n",
       "0    hiccup  2010   10.0\n",
       "1    drogon  2011 -100.0\n",
       "2  dragon 2  2019    0.0\n",
       "3      puff  2010  100.0\n",
       "4     smaug  2011    NaN"
      ]
     },
     "execution_count": 11,
     "metadata": {},
     "output_type": "execute_result"
    }
   ],
   "source": [
    "dragon_df = %sql SELECT * FROM Dragon\n",
    "dragon_df"
   ]
  },
  {
   "cell_type": "code",
   "execution_count": 12,
   "id": "18f834c2-8511-4c9a-8562-ddd6ed4a6ff4",
   "metadata": {},
   "outputs": [
    {
     "data": {
      "text/plain": [
       "pandas.core.frame.DataFrame"
      ]
     },
     "execution_count": 12,
     "metadata": {},
     "output_type": "execute_result"
    }
   ],
   "source": [
    "type(dragon_df)"
   ]
  },
  {
   "cell_type": "markdown",
   "id": "72ec03c1-d649-4f47-890a-68c29fbb5014",
   "metadata": {},
   "source": [
    "#### Storing output of multiple SQL lines\n",
    "\n",
    "You can use the `variable <<` syntax in jupysql to store its output (this will honor your `autopandas` state and store either a `sql.run.ResultState` or a Pandas `DataFrame`):"
   ]
  },
  {
   "cell_type": "code",
   "execution_count": 13,
   "id": "653b628c-9ccf-4b49-8c2e-00460439189c",
   "metadata": {},
   "outputs": [
    {
     "data": {
      "text/html": [
       "<span style=\"None\">Running query in &#x27;duckdb&#x27;</span>"
      ],
      "text/plain": [
       "Running query in 'duckdb'"
      ]
     },
     "metadata": {},
     "output_type": "display_data"
    }
   ],
   "source": [
    "%%sql res <<\n",
    "SELECT *\n",
    "FROM Dragon;"
   ]
  },
  {
   "cell_type": "code",
   "execution_count": 14,
   "id": "76a28177-08c1-4ddb-9f7c-5aca714fb186",
   "metadata": {},
   "outputs": [
    {
     "data": {
      "text/html": [
       "<div>\n",
       "<style scoped>\n",
       "    .dataframe tbody tr th:only-of-type {\n",
       "        vertical-align: middle;\n",
       "    }\n",
       "\n",
       "    .dataframe tbody tr th {\n",
       "        vertical-align: top;\n",
       "    }\n",
       "\n",
       "    .dataframe thead th {\n",
       "        text-align: right;\n",
       "    }\n",
       "</style>\n",
       "<table border=\"1\" class=\"dataframe\">\n",
       "  <thead>\n",
       "    <tr style=\"text-align: right;\">\n",
       "      <th></th>\n",
       "      <th>name</th>\n",
       "      <th>year</th>\n",
       "      <th>cute</th>\n",
       "    </tr>\n",
       "  </thead>\n",
       "  <tbody>\n",
       "    <tr>\n",
       "      <th>0</th>\n",
       "      <td>hiccup</td>\n",
       "      <td>2010</td>\n",
       "      <td>10.0</td>\n",
       "    </tr>\n",
       "    <tr>\n",
       "      <th>1</th>\n",
       "      <td>drogon</td>\n",
       "      <td>2011</td>\n",
       "      <td>-100.0</td>\n",
       "    </tr>\n",
       "    <tr>\n",
       "      <th>2</th>\n",
       "      <td>dragon 2</td>\n",
       "      <td>2019</td>\n",
       "      <td>0.0</td>\n",
       "    </tr>\n",
       "    <tr>\n",
       "      <th>3</th>\n",
       "      <td>puff</td>\n",
       "      <td>2010</td>\n",
       "      <td>100.0</td>\n",
       "    </tr>\n",
       "    <tr>\n",
       "      <th>4</th>\n",
       "      <td>smaug</td>\n",
       "      <td>2011</td>\n",
       "      <td>NaN</td>\n",
       "    </tr>\n",
       "  </tbody>\n",
       "</table>\n",
       "</div>"
      ],
      "text/plain": [
       "       name  year   cute\n",
       "0    hiccup  2010   10.0\n",
       "1    drogon  2011 -100.0\n",
       "2  dragon 2  2019    0.0\n",
       "3      puff  2010  100.0\n",
       "4     smaug  2011    NaN"
      ]
     },
     "execution_count": 14,
     "metadata": {},
     "output_type": "execute_result"
    }
   ],
   "source": [
    "res"
   ]
  },
  {
   "cell_type": "markdown",
   "id": "4d7ac386-94a9-4d3e-9b65-122d5213314a",
   "metadata": {
    "tags": []
   },
   "source": [
    "### Approach #2: `pd.read_sql`\n",
    "\n",
    "It turns out that `pandas` has a special-purpose function to parse SQL queries. We can pass in a SQL query as a string to return a `pandas` DataFrame. To achieve the same result as we did using cell magic above, we can do the following."
   ]
  },
  {
   "cell_type": "markdown",
   "id": "54b68e95-db18-4bc5-83aa-7631f53520f2",
   "metadata": {},
   "source": [
    "**1. Connect to a database**"
   ]
  },
  {
   "cell_type": "code",
   "execution_count": 15,
   "id": "3a8939f0-cbfc-4891-b575-4730df1d8aa5",
   "metadata": {},
   "outputs": [],
   "source": [
    "import sqlalchemy \n",
    "import pandas as pd\n",
    "\n",
    "engine = sqlalchemy.create_engine(\"duckdb:///data/example_duck.db\")"
   ]
  },
  {
   "cell_type": "markdown",
   "id": "170c65bd-6971-45fe-a719-46d4f7b67ddd",
   "metadata": {},
   "source": [
    "**2. Run a simple SQL query**"
   ]
  },
  {
   "cell_type": "code",
   "execution_count": 16,
   "id": "f3c78d9d-a192-476d-a1c8-3a6262f940db",
   "metadata": {},
   "outputs": [
    {
     "data": {
      "text/html": [
       "<div>\n",
       "<style scoped>\n",
       "    .dataframe tbody tr th:only-of-type {\n",
       "        vertical-align: middle;\n",
       "    }\n",
       "\n",
       "    .dataframe tbody tr th {\n",
       "        vertical-align: top;\n",
       "    }\n",
       "\n",
       "    .dataframe thead th {\n",
       "        text-align: right;\n",
       "    }\n",
       "</style>\n",
       "<table border=\"1\" class=\"dataframe\">\n",
       "  <thead>\n",
       "    <tr style=\"text-align: right;\">\n",
       "      <th></th>\n",
       "      <th>name</th>\n",
       "      <th>year</th>\n",
       "      <th>cute</th>\n",
       "    </tr>\n",
       "  </thead>\n",
       "  <tbody>\n",
       "    <tr>\n",
       "      <th>0</th>\n",
       "      <td>hiccup</td>\n",
       "      <td>2010</td>\n",
       "      <td>10.0</td>\n",
       "    </tr>\n",
       "    <tr>\n",
       "      <th>1</th>\n",
       "      <td>drogon</td>\n",
       "      <td>2011</td>\n",
       "      <td>-100.0</td>\n",
       "    </tr>\n",
       "    <tr>\n",
       "      <th>2</th>\n",
       "      <td>dragon 2</td>\n",
       "      <td>2019</td>\n",
       "      <td>0.0</td>\n",
       "    </tr>\n",
       "    <tr>\n",
       "      <th>3</th>\n",
       "      <td>puff</td>\n",
       "      <td>2010</td>\n",
       "      <td>100.0</td>\n",
       "    </tr>\n",
       "    <tr>\n",
       "      <th>4</th>\n",
       "      <td>smaug</td>\n",
       "      <td>2011</td>\n",
       "      <td>NaN</td>\n",
       "    </tr>\n",
       "  </tbody>\n",
       "</table>\n",
       "</div>"
      ],
      "text/plain": [
       "       name  year   cute\n",
       "0    hiccup  2010   10.0\n",
       "1    drogon  2011 -100.0\n",
       "2  dragon 2  2019    0.0\n",
       "3      puff  2010  100.0\n",
       "4     smaug  2011    NaN"
      ]
     },
     "execution_count": 16,
     "metadata": {},
     "output_type": "execute_result"
    }
   ],
   "source": [
    "query = \"\"\"\n",
    "SELECT * \n",
    "FROM Dragon;\n",
    "\"\"\"\n",
    "\n",
    "df = pd.read_sql(query, engine)\n",
    "df"
   ]
  },
  {
   "cell_type": "markdown",
   "id": "c6fd1c3c-ca0b-4211-a140-f8ca128ba793",
   "metadata": {},
   "source": [
    "### Approach #3 -- DuckDB Special"
   ]
  },
  {
   "cell_type": "markdown",
   "id": "1425235a-cf7d-4e64-826d-d924224b401a",
   "metadata": {},
   "source": [
    "Now that we are using DuckDB we can do something extra crazy:"
   ]
  },
  {
   "cell_type": "code",
   "execution_count": 17,
   "id": "d9236ab8-ae87-4c26-b0f3-2634d3080233",
   "metadata": {},
   "outputs": [],
   "source": [
    "import seaborn as sns\n",
    "import duckdb\n",
    "mpg = sns.load_dataset(\"mpg\")"
   ]
  },
  {
   "cell_type": "code",
   "execution_count": 18,
   "id": "88a112e8-961e-46bb-9f35-a9ad5c1a6c52",
   "metadata": {},
   "outputs": [
    {
     "data": {
      "text/html": [
       "<div>\n",
       "<style scoped>\n",
       "    .dataframe tbody tr th:only-of-type {\n",
       "        vertical-align: middle;\n",
       "    }\n",
       "\n",
       "    .dataframe tbody tr th {\n",
       "        vertical-align: top;\n",
       "    }\n",
       "\n",
       "    .dataframe thead th {\n",
       "        text-align: right;\n",
       "    }\n",
       "</style>\n",
       "<table border=\"1\" class=\"dataframe\">\n",
       "  <thead>\n",
       "    <tr style=\"text-align: right;\">\n",
       "      <th></th>\n",
       "      <th>mpg</th>\n",
       "      <th>cylinders</th>\n",
       "      <th>displacement</th>\n",
       "      <th>horsepower</th>\n",
       "      <th>weight</th>\n",
       "      <th>acceleration</th>\n",
       "      <th>model_year</th>\n",
       "      <th>origin</th>\n",
       "      <th>name</th>\n",
       "    </tr>\n",
       "  </thead>\n",
       "  <tbody>\n",
       "    <tr>\n",
       "      <th>0</th>\n",
       "      <td>18.0</td>\n",
       "      <td>8</td>\n",
       "      <td>307.0</td>\n",
       "      <td>130.0</td>\n",
       "      <td>3504</td>\n",
       "      <td>12.0</td>\n",
       "      <td>70</td>\n",
       "      <td>usa</td>\n",
       "      <td>chevrolet chevelle malibu</td>\n",
       "    </tr>\n",
       "    <tr>\n",
       "      <th>1</th>\n",
       "      <td>15.0</td>\n",
       "      <td>8</td>\n",
       "      <td>350.0</td>\n",
       "      <td>165.0</td>\n",
       "      <td>3693</td>\n",
       "      <td>11.5</td>\n",
       "      <td>70</td>\n",
       "      <td>usa</td>\n",
       "      <td>buick skylark 320</td>\n",
       "    </tr>\n",
       "    <tr>\n",
       "      <th>2</th>\n",
       "      <td>18.0</td>\n",
       "      <td>8</td>\n",
       "      <td>318.0</td>\n",
       "      <td>150.0</td>\n",
       "      <td>3436</td>\n",
       "      <td>11.0</td>\n",
       "      <td>70</td>\n",
       "      <td>usa</td>\n",
       "      <td>plymouth satellite</td>\n",
       "    </tr>\n",
       "    <tr>\n",
       "      <th>3</th>\n",
       "      <td>16.0</td>\n",
       "      <td>8</td>\n",
       "      <td>304.0</td>\n",
       "      <td>150.0</td>\n",
       "      <td>3433</td>\n",
       "      <td>12.0</td>\n",
       "      <td>70</td>\n",
       "      <td>usa</td>\n",
       "      <td>amc rebel sst</td>\n",
       "    </tr>\n",
       "    <tr>\n",
       "      <th>4</th>\n",
       "      <td>17.0</td>\n",
       "      <td>8</td>\n",
       "      <td>302.0</td>\n",
       "      <td>140.0</td>\n",
       "      <td>3449</td>\n",
       "      <td>10.5</td>\n",
       "      <td>70</td>\n",
       "      <td>usa</td>\n",
       "      <td>ford torino</td>\n",
       "    </tr>\n",
       "    <tr>\n",
       "      <th>...</th>\n",
       "      <td>...</td>\n",
       "      <td>...</td>\n",
       "      <td>...</td>\n",
       "      <td>...</td>\n",
       "      <td>...</td>\n",
       "      <td>...</td>\n",
       "      <td>...</td>\n",
       "      <td>...</td>\n",
       "      <td>...</td>\n",
       "    </tr>\n",
       "    <tr>\n",
       "      <th>393</th>\n",
       "      <td>27.0</td>\n",
       "      <td>4</td>\n",
       "      <td>140.0</td>\n",
       "      <td>86.0</td>\n",
       "      <td>2790</td>\n",
       "      <td>15.6</td>\n",
       "      <td>82</td>\n",
       "      <td>usa</td>\n",
       "      <td>ford mustang gl</td>\n",
       "    </tr>\n",
       "    <tr>\n",
       "      <th>394</th>\n",
       "      <td>44.0</td>\n",
       "      <td>4</td>\n",
       "      <td>97.0</td>\n",
       "      <td>52.0</td>\n",
       "      <td>2130</td>\n",
       "      <td>24.6</td>\n",
       "      <td>82</td>\n",
       "      <td>europe</td>\n",
       "      <td>vw pickup</td>\n",
       "    </tr>\n",
       "    <tr>\n",
       "      <th>395</th>\n",
       "      <td>32.0</td>\n",
       "      <td>4</td>\n",
       "      <td>135.0</td>\n",
       "      <td>84.0</td>\n",
       "      <td>2295</td>\n",
       "      <td>11.6</td>\n",
       "      <td>82</td>\n",
       "      <td>usa</td>\n",
       "      <td>dodge rampage</td>\n",
       "    </tr>\n",
       "    <tr>\n",
       "      <th>396</th>\n",
       "      <td>28.0</td>\n",
       "      <td>4</td>\n",
       "      <td>120.0</td>\n",
       "      <td>79.0</td>\n",
       "      <td>2625</td>\n",
       "      <td>18.6</td>\n",
       "      <td>82</td>\n",
       "      <td>usa</td>\n",
       "      <td>ford ranger</td>\n",
       "    </tr>\n",
       "    <tr>\n",
       "      <th>397</th>\n",
       "      <td>31.0</td>\n",
       "      <td>4</td>\n",
       "      <td>119.0</td>\n",
       "      <td>82.0</td>\n",
       "      <td>2720</td>\n",
       "      <td>19.4</td>\n",
       "      <td>82</td>\n",
       "      <td>usa</td>\n",
       "      <td>chevy s-10</td>\n",
       "    </tr>\n",
       "  </tbody>\n",
       "</table>\n",
       "<p>398 rows × 9 columns</p>\n",
       "</div>"
      ],
      "text/plain": [
       "      mpg  cylinders  displacement  horsepower  weight  acceleration  \\\n",
       "0    18.0          8         307.0       130.0    3504          12.0   \n",
       "1    15.0          8         350.0       165.0    3693          11.5   \n",
       "2    18.0          8         318.0       150.0    3436          11.0   \n",
       "3    16.0          8         304.0       150.0    3433          12.0   \n",
       "4    17.0          8         302.0       140.0    3449          10.5   \n",
       "..    ...        ...           ...         ...     ...           ...   \n",
       "393  27.0          4         140.0        86.0    2790          15.6   \n",
       "394  44.0          4          97.0        52.0    2130          24.6   \n",
       "395  32.0          4         135.0        84.0    2295          11.6   \n",
       "396  28.0          4         120.0        79.0    2625          18.6   \n",
       "397  31.0          4         119.0        82.0    2720          19.4   \n",
       "\n",
       "     model_year  origin                       name  \n",
       "0            70     usa  chevrolet chevelle malibu  \n",
       "1            70     usa          buick skylark 320  \n",
       "2            70     usa         plymouth satellite  \n",
       "3            70     usa              amc rebel sst  \n",
       "4            70     usa                ford torino  \n",
       "..          ...     ...                        ...  \n",
       "393          82     usa            ford mustang gl  \n",
       "394          82  europe                  vw pickup  \n",
       "395          82     usa              dodge rampage  \n",
       "396          82     usa                ford ranger  \n",
       "397          82     usa                 chevy s-10  \n",
       "\n",
       "[398 rows x 9 columns]"
      ]
     },
     "execution_count": 18,
     "metadata": {},
     "output_type": "execute_result"
    }
   ],
   "source": [
    "duckdb.query(\"SELECT * FROM mpg\").df()"
   ]
  },
  {
   "cell_type": "markdown",
   "id": "03ee3aa7-621d-46ff-af9f-968b7b3ea4cb",
   "metadata": {},
   "source": [
    "DuckDB can also see my dataframes in the python environment allowing me to do dataframe manipulation in SQL!"
   ]
  },
  {
   "cell_type": "markdown",
   "id": "fc681cfe-8de9-4af0-87dd-46942ea9f1c8",
   "metadata": {},
   "source": [
    "\n",
    "---\n",
    "\n",
    "## Tables and Schema\n",
    "\n",
    "A **database** contains a collection of SQL **tables**. Let's connect to our \"toy\" database `example_duck.db` and explore the tables it stores."
   ]
  },
  {
   "cell_type": "code",
   "execution_count": 19,
   "id": "f32da741",
   "metadata": {
    "tags": []
   },
   "outputs": [
    {
     "data": {
      "text/html": [
       "<span style=\"None\">Running query in &#x27;duckdb&#x27;</span>"
      ],
      "text/plain": [
       "Running query in 'duckdb'"
      ]
     },
     "metadata": {},
     "output_type": "display_data"
    },
    {
     "data": {
      "text/html": [
       "<div>\n",
       "<style scoped>\n",
       "    .dataframe tbody tr th:only-of-type {\n",
       "        vertical-align: middle;\n",
       "    }\n",
       "\n",
       "    .dataframe tbody tr th {\n",
       "        vertical-align: top;\n",
       "    }\n",
       "\n",
       "    .dataframe thead th {\n",
       "        text-align: right;\n",
       "    }\n",
       "</style>\n",
       "<table border=\"1\" class=\"dataframe\">\n",
       "  <thead>\n",
       "    <tr style=\"text-align: right;\">\n",
       "      <th></th>\n",
       "      <th>table_catalog</th>\n",
       "      <th>table_schema</th>\n",
       "      <th>table_name</th>\n",
       "      <th>table_type</th>\n",
       "      <th>self_referencing_column_name</th>\n",
       "      <th>reference_generation</th>\n",
       "      <th>user_defined_type_catalog</th>\n",
       "      <th>user_defined_type_schema</th>\n",
       "      <th>user_defined_type_name</th>\n",
       "      <th>is_insertable_into</th>\n",
       "      <th>is_typed</th>\n",
       "      <th>commit_action</th>\n",
       "      <th>TABLE_COMMENT</th>\n",
       "    </tr>\n",
       "  </thead>\n",
       "  <tbody>\n",
       "    <tr>\n",
       "      <th>0</th>\n",
       "      <td>example_duck</td>\n",
       "      <td>main</td>\n",
       "      <td>dish</td>\n",
       "      <td>BASE TABLE</td>\n",
       "      <td>None</td>\n",
       "      <td>None</td>\n",
       "      <td>None</td>\n",
       "      <td>None</td>\n",
       "      <td>None</td>\n",
       "      <td>YES</td>\n",
       "      <td>NO</td>\n",
       "      <td>None</td>\n",
       "      <td>None</td>\n",
       "    </tr>\n",
       "    <tr>\n",
       "      <th>1</th>\n",
       "      <td>example_duck</td>\n",
       "      <td>main</td>\n",
       "      <td>dragon</td>\n",
       "      <td>BASE TABLE</td>\n",
       "      <td>None</td>\n",
       "      <td>None</td>\n",
       "      <td>None</td>\n",
       "      <td>None</td>\n",
       "      <td>None</td>\n",
       "      <td>YES</td>\n",
       "      <td>NO</td>\n",
       "      <td>None</td>\n",
       "      <td>None</td>\n",
       "    </tr>\n",
       "    <tr>\n",
       "      <th>2</th>\n",
       "      <td>example_duck</td>\n",
       "      <td>main</td>\n",
       "      <td>scene</td>\n",
       "      <td>BASE TABLE</td>\n",
       "      <td>None</td>\n",
       "      <td>None</td>\n",
       "      <td>None</td>\n",
       "      <td>None</td>\n",
       "      <td>None</td>\n",
       "      <td>YES</td>\n",
       "      <td>NO</td>\n",
       "      <td>None</td>\n",
       "      <td>None</td>\n",
       "    </tr>\n",
       "  </tbody>\n",
       "</table>\n",
       "</div>"
      ],
      "text/plain": [
       "  table_catalog table_schema table_name  table_type  \\\n",
       "0  example_duck         main       dish  BASE TABLE   \n",
       "1  example_duck         main     dragon  BASE TABLE   \n",
       "2  example_duck         main      scene  BASE TABLE   \n",
       "\n",
       "  self_referencing_column_name reference_generation user_defined_type_catalog  \\\n",
       "0                         None                 None                      None   \n",
       "1                         None                 None                      None   \n",
       "2                         None                 None                      None   \n",
       "\n",
       "  user_defined_type_schema user_defined_type_name is_insertable_into is_typed  \\\n",
       "0                     None                   None                YES       NO   \n",
       "1                     None                   None                YES       NO   \n",
       "2                     None                   None                YES       NO   \n",
       "\n",
       "  commit_action TABLE_COMMENT  \n",
       "0          None          None  \n",
       "1          None          None  \n",
       "2          None          None  "
      ]
     },
     "execution_count": 19,
     "metadata": {},
     "output_type": "execute_result"
    }
   ],
   "source": [
    "%%sql\n",
    "SELECT * FROM information_schema.tables"
   ]
  },
  {
   "cell_type": "code",
   "execution_count": 20,
   "id": "cedc4bd6-c8fd-4bcb-bb1d-a5781cebb94a",
   "metadata": {},
   "outputs": [
    {
     "data": {
      "text/html": [
       "<span style=\"None\">Running query in &#x27;duckdb&#x27;</span>"
      ],
      "text/plain": [
       "Running query in 'duckdb'"
      ]
     },
     "metadata": {},
     "output_type": "display_data"
    },
    {
     "data": {
      "text/html": [
       "<div>\n",
       "<style scoped>\n",
       "    .dataframe tbody tr th:only-of-type {\n",
       "        vertical-align: middle;\n",
       "    }\n",
       "\n",
       "    .dataframe tbody tr th {\n",
       "        vertical-align: top;\n",
       "    }\n",
       "\n",
       "    .dataframe thead th {\n",
       "        text-align: right;\n",
       "    }\n",
       "</style>\n",
       "<table border=\"1\" class=\"dataframe\">\n",
       "  <thead>\n",
       "    <tr style=\"text-align: right;\">\n",
       "      <th></th>\n",
       "      <th>table_catalog</th>\n",
       "      <th>table_schema</th>\n",
       "      <th>table_name</th>\n",
       "      <th>column_name</th>\n",
       "      <th>ordinal_position</th>\n",
       "      <th>column_default</th>\n",
       "      <th>is_nullable</th>\n",
       "      <th>data_type</th>\n",
       "      <th>character_maximum_length</th>\n",
       "      <th>character_octet_length</th>\n",
       "      <th>...</th>\n",
       "      <th>identity_generation</th>\n",
       "      <th>identity_start</th>\n",
       "      <th>identity_increment</th>\n",
       "      <th>identity_maximum</th>\n",
       "      <th>identity_minimum</th>\n",
       "      <th>identity_cycle</th>\n",
       "      <th>is_generated</th>\n",
       "      <th>generation_expression</th>\n",
       "      <th>is_updatable</th>\n",
       "      <th>COLUMN_COMMENT</th>\n",
       "    </tr>\n",
       "  </thead>\n",
       "  <tbody>\n",
       "    <tr>\n",
       "      <th>0</th>\n",
       "      <td>example_duck</td>\n",
       "      <td>main</td>\n",
       "      <td>dish</td>\n",
       "      <td>name</td>\n",
       "      <td>1</td>\n",
       "      <td>None</td>\n",
       "      <td>NO</td>\n",
       "      <td>VARCHAR</td>\n",
       "      <td>NaN</td>\n",
       "      <td>NaN</td>\n",
       "      <td>...</td>\n",
       "      <td>None</td>\n",
       "      <td>None</td>\n",
       "      <td>None</td>\n",
       "      <td>None</td>\n",
       "      <td>None</td>\n",
       "      <td>NaN</td>\n",
       "      <td>None</td>\n",
       "      <td>None</td>\n",
       "      <td>NaN</td>\n",
       "      <td>None</td>\n",
       "    </tr>\n",
       "    <tr>\n",
       "      <th>1</th>\n",
       "      <td>example_duck</td>\n",
       "      <td>main</td>\n",
       "      <td>dish</td>\n",
       "      <td>type</td>\n",
       "      <td>2</td>\n",
       "      <td>None</td>\n",
       "      <td>YES</td>\n",
       "      <td>VARCHAR</td>\n",
       "      <td>NaN</td>\n",
       "      <td>NaN</td>\n",
       "      <td>...</td>\n",
       "      <td>None</td>\n",
       "      <td>None</td>\n",
       "      <td>None</td>\n",
       "      <td>None</td>\n",
       "      <td>None</td>\n",
       "      <td>NaN</td>\n",
       "      <td>None</td>\n",
       "      <td>None</td>\n",
       "      <td>NaN</td>\n",
       "      <td>None</td>\n",
       "    </tr>\n",
       "    <tr>\n",
       "      <th>2</th>\n",
       "      <td>example_duck</td>\n",
       "      <td>main</td>\n",
       "      <td>dish</td>\n",
       "      <td>cost</td>\n",
       "      <td>3</td>\n",
       "      <td>None</td>\n",
       "      <td>YES</td>\n",
       "      <td>INTEGER</td>\n",
       "      <td>NaN</td>\n",
       "      <td>NaN</td>\n",
       "      <td>...</td>\n",
       "      <td>None</td>\n",
       "      <td>None</td>\n",
       "      <td>None</td>\n",
       "      <td>None</td>\n",
       "      <td>None</td>\n",
       "      <td>NaN</td>\n",
       "      <td>None</td>\n",
       "      <td>None</td>\n",
       "      <td>NaN</td>\n",
       "      <td>None</td>\n",
       "    </tr>\n",
       "    <tr>\n",
       "      <th>3</th>\n",
       "      <td>example_duck</td>\n",
       "      <td>main</td>\n",
       "      <td>dragon</td>\n",
       "      <td>name</td>\n",
       "      <td>1</td>\n",
       "      <td>None</td>\n",
       "      <td>NO</td>\n",
       "      <td>VARCHAR</td>\n",
       "      <td>NaN</td>\n",
       "      <td>NaN</td>\n",
       "      <td>...</td>\n",
       "      <td>None</td>\n",
       "      <td>None</td>\n",
       "      <td>None</td>\n",
       "      <td>None</td>\n",
       "      <td>None</td>\n",
       "      <td>NaN</td>\n",
       "      <td>None</td>\n",
       "      <td>None</td>\n",
       "      <td>NaN</td>\n",
       "      <td>None</td>\n",
       "    </tr>\n",
       "    <tr>\n",
       "      <th>4</th>\n",
       "      <td>example_duck</td>\n",
       "      <td>main</td>\n",
       "      <td>dragon</td>\n",
       "      <td>year</td>\n",
       "      <td>2</td>\n",
       "      <td>None</td>\n",
       "      <td>YES</td>\n",
       "      <td>INTEGER</td>\n",
       "      <td>NaN</td>\n",
       "      <td>NaN</td>\n",
       "      <td>...</td>\n",
       "      <td>None</td>\n",
       "      <td>None</td>\n",
       "      <td>None</td>\n",
       "      <td>None</td>\n",
       "      <td>None</td>\n",
       "      <td>NaN</td>\n",
       "      <td>None</td>\n",
       "      <td>None</td>\n",
       "      <td>NaN</td>\n",
       "      <td>None</td>\n",
       "    </tr>\n",
       "    <tr>\n",
       "      <th>5</th>\n",
       "      <td>example_duck</td>\n",
       "      <td>main</td>\n",
       "      <td>dragon</td>\n",
       "      <td>cute</td>\n",
       "      <td>3</td>\n",
       "      <td>None</td>\n",
       "      <td>YES</td>\n",
       "      <td>INTEGER</td>\n",
       "      <td>NaN</td>\n",
       "      <td>NaN</td>\n",
       "      <td>...</td>\n",
       "      <td>None</td>\n",
       "      <td>None</td>\n",
       "      <td>None</td>\n",
       "      <td>None</td>\n",
       "      <td>None</td>\n",
       "      <td>NaN</td>\n",
       "      <td>None</td>\n",
       "      <td>None</td>\n",
       "      <td>NaN</td>\n",
       "      <td>None</td>\n",
       "    </tr>\n",
       "    <tr>\n",
       "      <th>6</th>\n",
       "      <td>example_duck</td>\n",
       "      <td>main</td>\n",
       "      <td>scene</td>\n",
       "      <td>id</td>\n",
       "      <td>1</td>\n",
       "      <td>None</td>\n",
       "      <td>NO</td>\n",
       "      <td>INTEGER</td>\n",
       "      <td>NaN</td>\n",
       "      <td>NaN</td>\n",
       "      <td>...</td>\n",
       "      <td>None</td>\n",
       "      <td>None</td>\n",
       "      <td>None</td>\n",
       "      <td>None</td>\n",
       "      <td>None</td>\n",
       "      <td>NaN</td>\n",
       "      <td>None</td>\n",
       "      <td>None</td>\n",
       "      <td>NaN</td>\n",
       "      <td>None</td>\n",
       "    </tr>\n",
       "    <tr>\n",
       "      <th>7</th>\n",
       "      <td>example_duck</td>\n",
       "      <td>main</td>\n",
       "      <td>scene</td>\n",
       "      <td>biome</td>\n",
       "      <td>2</td>\n",
       "      <td>None</td>\n",
       "      <td>NO</td>\n",
       "      <td>VARCHAR</td>\n",
       "      <td>NaN</td>\n",
       "      <td>NaN</td>\n",
       "      <td>...</td>\n",
       "      <td>None</td>\n",
       "      <td>None</td>\n",
       "      <td>None</td>\n",
       "      <td>None</td>\n",
       "      <td>None</td>\n",
       "      <td>NaN</td>\n",
       "      <td>None</td>\n",
       "      <td>None</td>\n",
       "      <td>NaN</td>\n",
       "      <td>None</td>\n",
       "    </tr>\n",
       "    <tr>\n",
       "      <th>8</th>\n",
       "      <td>example_duck</td>\n",
       "      <td>main</td>\n",
       "      <td>scene</td>\n",
       "      <td>city</td>\n",
       "      <td>3</td>\n",
       "      <td>None</td>\n",
       "      <td>NO</td>\n",
       "      <td>VARCHAR</td>\n",
       "      <td>NaN</td>\n",
       "      <td>NaN</td>\n",
       "      <td>...</td>\n",
       "      <td>None</td>\n",
       "      <td>None</td>\n",
       "      <td>None</td>\n",
       "      <td>None</td>\n",
       "      <td>None</td>\n",
       "      <td>NaN</td>\n",
       "      <td>None</td>\n",
       "      <td>None</td>\n",
       "      <td>NaN</td>\n",
       "      <td>None</td>\n",
       "    </tr>\n",
       "    <tr>\n",
       "      <th>9</th>\n",
       "      <td>example_duck</td>\n",
       "      <td>main</td>\n",
       "      <td>scene</td>\n",
       "      <td>visitors</td>\n",
       "      <td>4</td>\n",
       "      <td>None</td>\n",
       "      <td>YES</td>\n",
       "      <td>INTEGER</td>\n",
       "      <td>NaN</td>\n",
       "      <td>NaN</td>\n",
       "      <td>...</td>\n",
       "      <td>None</td>\n",
       "      <td>None</td>\n",
       "      <td>None</td>\n",
       "      <td>None</td>\n",
       "      <td>None</td>\n",
       "      <td>NaN</td>\n",
       "      <td>None</td>\n",
       "      <td>None</td>\n",
       "      <td>NaN</td>\n",
       "      <td>None</td>\n",
       "    </tr>\n",
       "    <tr>\n",
       "      <th>10</th>\n",
       "      <td>example_duck</td>\n",
       "      <td>main</td>\n",
       "      <td>scene</td>\n",
       "      <td>created_at</td>\n",
       "      <td>5</td>\n",
       "      <td>current_date()</td>\n",
       "      <td>YES</td>\n",
       "      <td>TIMESTAMP</td>\n",
       "      <td>NaN</td>\n",
       "      <td>NaN</td>\n",
       "      <td>...</td>\n",
       "      <td>None</td>\n",
       "      <td>None</td>\n",
       "      <td>None</td>\n",
       "      <td>None</td>\n",
       "      <td>None</td>\n",
       "      <td>NaN</td>\n",
       "      <td>None</td>\n",
       "      <td>None</td>\n",
       "      <td>NaN</td>\n",
       "      <td>None</td>\n",
       "    </tr>\n",
       "  </tbody>\n",
       "</table>\n",
       "<p>11 rows × 45 columns</p>\n",
       "</div>"
      ],
      "text/plain": [
       "   table_catalog table_schema table_name column_name  ordinal_position  \\\n",
       "0   example_duck         main       dish        name                 1   \n",
       "1   example_duck         main       dish        type                 2   \n",
       "2   example_duck         main       dish        cost                 3   \n",
       "3   example_duck         main     dragon        name                 1   \n",
       "4   example_duck         main     dragon        year                 2   \n",
       "5   example_duck         main     dragon        cute                 3   \n",
       "6   example_duck         main      scene          id                 1   \n",
       "7   example_duck         main      scene       biome                 2   \n",
       "8   example_duck         main      scene        city                 3   \n",
       "9   example_duck         main      scene    visitors                 4   \n",
       "10  example_duck         main      scene  created_at                 5   \n",
       "\n",
       "    column_default is_nullable  data_type  character_maximum_length  \\\n",
       "0             None          NO    VARCHAR                       NaN   \n",
       "1             None         YES    VARCHAR                       NaN   \n",
       "2             None         YES    INTEGER                       NaN   \n",
       "3             None          NO    VARCHAR                       NaN   \n",
       "4             None         YES    INTEGER                       NaN   \n",
       "5             None         YES    INTEGER                       NaN   \n",
       "6             None          NO    INTEGER                       NaN   \n",
       "7             None          NO    VARCHAR                       NaN   \n",
       "8             None          NO    VARCHAR                       NaN   \n",
       "9             None         YES    INTEGER                       NaN   \n",
       "10  current_date()         YES  TIMESTAMP                       NaN   \n",
       "\n",
       "    character_octet_length  ...  identity_generation  identity_start  \\\n",
       "0                      NaN  ...                 None            None   \n",
       "1                      NaN  ...                 None            None   \n",
       "2                      NaN  ...                 None            None   \n",
       "3                      NaN  ...                 None            None   \n",
       "4                      NaN  ...                 None            None   \n",
       "5                      NaN  ...                 None            None   \n",
       "6                      NaN  ...                 None            None   \n",
       "7                      NaN  ...                 None            None   \n",
       "8                      NaN  ...                 None            None   \n",
       "9                      NaN  ...                 None            None   \n",
       "10                     NaN  ...                 None            None   \n",
       "\n",
       "    identity_increment  identity_maximum identity_minimum  identity_cycle  \\\n",
       "0                 None              None             None             NaN   \n",
       "1                 None              None             None             NaN   \n",
       "2                 None              None             None             NaN   \n",
       "3                 None              None             None             NaN   \n",
       "4                 None              None             None             NaN   \n",
       "5                 None              None             None             NaN   \n",
       "6                 None              None             None             NaN   \n",
       "7                 None              None             None             NaN   \n",
       "8                 None              None             None             NaN   \n",
       "9                 None              None             None             NaN   \n",
       "10                None              None             None             NaN   \n",
       "\n",
       "   is_generated generation_expression is_updatable COLUMN_COMMENT  \n",
       "0          None                  None          NaN           None  \n",
       "1          None                  None          NaN           None  \n",
       "2          None                  None          NaN           None  \n",
       "3          None                  None          NaN           None  \n",
       "4          None                  None          NaN           None  \n",
       "5          None                  None          NaN           None  \n",
       "6          None                  None          NaN           None  \n",
       "7          None                  None          NaN           None  \n",
       "8          None                  None          NaN           None  \n",
       "9          None                  None          NaN           None  \n",
       "10         None                  None          NaN           None  \n",
       "\n",
       "[11 rows x 45 columns]"
      ]
     },
     "execution_count": 20,
     "metadata": {},
     "output_type": "execute_result"
    }
   ],
   "source": [
    "%%sql\n",
    "SELECT * FROM information_schema.columns"
   ]
  },
  {
   "cell_type": "markdown",
   "id": "8cadf0c7-11b0-4c6d-93a5-5aa4c2142993",
   "metadata": {},
   "source": [
    "### Getting Schema information with SQLAlchemy \n",
    "How you list the tables varies across database platforms.  For example, the statement:\n",
    "\n",
    "```sql\n",
    "SELECT * FROM information_schema.columns\n",
    "```\n",
    "\n",
    "only works on Postgres compatible databases.\n",
    "\n",
    "For example, if we wanted to get the schema for tables in sqlite we would need the following:"
   ]
  },
  {
   "cell_type": "code",
   "execution_count": 21,
   "id": "d8153b0f-4b1b-4ba8-81f1-e409f313abf6",
   "metadata": {},
   "outputs": [
    {
     "data": {
      "text/html": [
       "<div>\n",
       "<style scoped>\n",
       "    .dataframe tbody tr th:only-of-type {\n",
       "        vertical-align: middle;\n",
       "    }\n",
       "\n",
       "    .dataframe tbody tr th {\n",
       "        vertical-align: top;\n",
       "    }\n",
       "\n",
       "    .dataframe thead th {\n",
       "        text-align: right;\n",
       "    }\n",
       "</style>\n",
       "<table border=\"1\" class=\"dataframe\">\n",
       "  <thead>\n",
       "    <tr style=\"text-align: right;\">\n",
       "      <th></th>\n",
       "      <th>type</th>\n",
       "      <th>name</th>\n",
       "      <th>tbl_name</th>\n",
       "      <th>rootpage</th>\n",
       "      <th>sql</th>\n",
       "    </tr>\n",
       "  </thead>\n",
       "  <tbody>\n",
       "    <tr>\n",
       "      <th>0</th>\n",
       "      <td>table</td>\n",
       "      <td>sqlite_sequence</td>\n",
       "      <td>sqlite_sequence</td>\n",
       "      <td>7</td>\n",
       "      <td>CREATE TABLE sqlite_sequence(name,seq)</td>\n",
       "    </tr>\n",
       "    <tr>\n",
       "      <th>1</th>\n",
       "      <td>table</td>\n",
       "      <td>Dragon</td>\n",
       "      <td>Dragon</td>\n",
       "      <td>2</td>\n",
       "      <td>CREATE TABLE Dragon (\\n    name TEXT PRIMARY K...</td>\n",
       "    </tr>\n",
       "    <tr>\n",
       "      <th>2</th>\n",
       "      <td>index</td>\n",
       "      <td>sqlite_autoindex_Dragon_1</td>\n",
       "      <td>Dragon</td>\n",
       "      <td>3</td>\n",
       "      <td>None</td>\n",
       "    </tr>\n",
       "    <tr>\n",
       "      <th>3</th>\n",
       "      <td>table</td>\n",
       "      <td>Dish</td>\n",
       "      <td>Dish</td>\n",
       "      <td>4</td>\n",
       "      <td>CREATE TABLE Dish (\\n    name TEXT PRIMARY KEY...</td>\n",
       "    </tr>\n",
       "    <tr>\n",
       "      <th>4</th>\n",
       "      <td>index</td>\n",
       "      <td>sqlite_autoindex_Dish_1</td>\n",
       "      <td>Dish</td>\n",
       "      <td>5</td>\n",
       "      <td>None</td>\n",
       "    </tr>\n",
       "    <tr>\n",
       "      <th>5</th>\n",
       "      <td>table</td>\n",
       "      <td>Scene</td>\n",
       "      <td>Scene</td>\n",
       "      <td>6</td>\n",
       "      <td>CREATE TABLE Scene (\\n    id INTEGER PRIMARY K...</td>\n",
       "    </tr>\n",
       "  </tbody>\n",
       "</table>\n",
       "</div>"
      ],
      "text/plain": [
       "    type                       name         tbl_name  rootpage  \\\n",
       "0  table            sqlite_sequence  sqlite_sequence         7   \n",
       "1  table                     Dragon           Dragon         2   \n",
       "2  index  sqlite_autoindex_Dragon_1           Dragon         3   \n",
       "3  table                       Dish             Dish         4   \n",
       "4  index    sqlite_autoindex_Dish_1             Dish         5   \n",
       "5  table                      Scene            Scene         6   \n",
       "\n",
       "                                                 sql  \n",
       "0             CREATE TABLE sqlite_sequence(name,seq)  \n",
       "1  CREATE TABLE Dragon (\\n    name TEXT PRIMARY K...  \n",
       "2                                               None  \n",
       "3  CREATE TABLE Dish (\\n    name TEXT PRIMARY KEY...  \n",
       "4                                               None  \n",
       "5  CREATE TABLE Scene (\\n    id INTEGER PRIMARY K...  "
      ]
     },
     "execution_count": 21,
     "metadata": {},
     "output_type": "execute_result"
    }
   ],
   "source": [
    "pd.read_sql(\"SELECT * FROM sqlite_schema\", \"sqlite:///data/basic_examples.db\")"
   ]
  },
  {
   "cell_type": "markdown",
   "id": "5af2d8be-39ed-444b-aba1-f8c28a6278e3",
   "metadata": {},
   "source": [
    "Fortunately, SQLAlchemy has some generic tools that will be helpful regardless of what database platform you use."
   ]
  },
  {
   "cell_type": "code",
   "execution_count": 22,
   "id": "1d43214f-679e-4d47-b188-55509e81b9f4",
   "metadata": {},
   "outputs": [
    {
     "data": {
      "text/plain": [
       "['dish', 'dragon', 'scene']"
      ]
     },
     "execution_count": 22,
     "metadata": {},
     "output_type": "execute_result"
    }
   ],
   "source": [
    "from sqlalchemy import inspect\n",
    "inspector = inspect(engine)\n",
    "inspector.get_table_names()"
   ]
  },
  {
   "cell_type": "code",
   "execution_count": 23,
   "id": "2cdbec81-350f-4c09-add4-8ed4256e7796",
   "metadata": {},
   "outputs": [
    {
     "data": {
      "text/plain": [
       "[{'name': 'id',\n",
       "  'type': Integer(),\n",
       "  'nullable': False,\n",
       "  'default': None,\n",
       "  'autoincrement': False,\n",
       "  'comment': None},\n",
       " {'name': 'biome',\n",
       "  'type': String(),\n",
       "  'nullable': False,\n",
       "  'default': None,\n",
       "  'autoincrement': False,\n",
       "  'comment': None},\n",
       " {'name': 'city',\n",
       "  'type': String(),\n",
       "  'nullable': False,\n",
       "  'default': None,\n",
       "  'autoincrement': False,\n",
       "  'comment': None},\n",
       " {'name': 'visitors',\n",
       "  'type': Integer(),\n",
       "  'nullable': True,\n",
       "  'default': None,\n",
       "  'autoincrement': False,\n",
       "  'comment': None},\n",
       " {'name': 'created_at',\n",
       "  'type': TIMESTAMP(),\n",
       "  'nullable': True,\n",
       "  'default': 'current_date()',\n",
       "  'autoincrement': False,\n",
       "  'comment': None}]"
      ]
     },
     "execution_count": 23,
     "metadata": {},
     "output_type": "execute_result"
    }
   ],
   "source": [
    "inspector.get_columns('scene')"
   ]
  },
  {
   "cell_type": "markdown",
   "id": "cf0c19c9-7188-49da-b678-75945fbf79b9",
   "metadata": {},
   "source": [
    "Same with SQLite"
   ]
  },
  {
   "cell_type": "code",
   "execution_count": 24,
   "id": "bb6d2cb4-e4fa-4890-aab1-7d44c2fc7c95",
   "metadata": {},
   "outputs": [
    {
     "data": {
      "text/plain": [
       "[{'name': 'id',\n",
       "  'type': INTEGER(),\n",
       "  'nullable': True,\n",
       "  'default': None,\n",
       "  'primary_key': 1},\n",
       " {'name': 'biome',\n",
       "  'type': TEXT(),\n",
       "  'nullable': False,\n",
       "  'default': None,\n",
       "  'primary_key': 0},\n",
       " {'name': 'city',\n",
       "  'type': TEXT(),\n",
       "  'nullable': False,\n",
       "  'default': None,\n",
       "  'primary_key': 0},\n",
       " {'name': 'visitors',\n",
       "  'type': INTEGER(),\n",
       "  'nullable': True,\n",
       "  'default': None,\n",
       "  'primary_key': 0},\n",
       " {'name': 'created_at',\n",
       "  'type': DATETIME(),\n",
       "  'nullable': True,\n",
       "  'default': \"DATETIME('now')\",\n",
       "  'primary_key': 0}]"
      ]
     },
     "execution_count": 24,
     "metadata": {},
     "output_type": "execute_result"
    }
   ],
   "source": [
    "sqlite_engine = sqlalchemy.create_engine(\"sqlite:///data/basic_examples.db\")\n",
    "inspect(sqlite_engine).get_columns(\"scene\")"
   ]
  },
  {
   "cell_type": "markdown",
   "id": "202c6a6f-69aa-4b14-b203-8e94ce2d8470",
   "metadata": {},
   "source": [
    "More advanced example of creating tables with primary and foreign key constraints:"
   ]
  },
  {
   "cell_type": "code",
   "execution_count": 25,
   "id": "f3252cfc-1e56-4238-8502-b9bd1c0fcd8d",
   "metadata": {},
   "outputs": [
    {
     "data": {
      "text/html": [
       "<span style=\"None\">Connecting and switching to connection &#x27;student_db&#x27;</span>"
      ],
      "text/plain": [
       "Connecting and switching to connection 'student_db'"
      ]
     },
     "metadata": {},
     "output_type": "display_data"
    }
   ],
   "source": [
    "%sql duckdb:///data/duckdb_example.db --alias student_db"
   ]
  },
  {
   "cell_type": "code",
   "execution_count": 26,
   "id": "601f6e5f-b625-4d71-b703-9877d99ca44e",
   "metadata": {},
   "outputs": [
    {
     "data": {
      "text/html": [
       "<div>\n",
       "<style scoped>\n",
       "    .dataframe tbody tr th:only-of-type {\n",
       "        vertical-align: middle;\n",
       "    }\n",
       "\n",
       "    .dataframe tbody tr th {\n",
       "        vertical-align: top;\n",
       "    }\n",
       "\n",
       "    .dataframe thead th {\n",
       "        text-align: right;\n",
       "    }\n",
       "</style>\n",
       "<table border=\"1\" class=\"dataframe\">\n",
       "  <thead>\n",
       "    <tr style=\"text-align: right;\">\n",
       "      <th></th>\n",
       "      <th>Success</th>\n",
       "    </tr>\n",
       "  </thead>\n",
       "  <tbody>\n",
       "  </tbody>\n",
       "</table>\n",
       "</div>"
      ],
      "text/plain": [
       "Empty DataFrame\n",
       "Columns: [Success]\n",
       "Index: []"
      ]
     },
     "execution_count": 26,
     "metadata": {},
     "output_type": "execute_result"
    }
   ],
   "source": [
    "%%sql student_db\n",
    "\n",
    "DROP TABLE IF EXISTS grade;\n",
    "DROP TABLE IF EXISTS assignment;\n",
    "DROP TABLE IF EXISTS student;\n",
    "\n",
    "\n",
    "CREATE TABLE student (\n",
    "    student_id INTEGER PRIMARY KEY,\n",
    "    name VARCHAR,\n",
    "    email VARCHAR\n",
    ");\n",
    "\n",
    "CREATE TABLE assignment (\n",
    "    assignment_id INTEGER PRIMARY KEY,\n",
    "    description VARCHAR\n",
    ");\n",
    "\n",
    "CREATE TABLE grade (\n",
    "    student_id INTEGER,\n",
    "    assignment_id INTEGER,\n",
    "    score REAL CHECK (score > 0 AND score <= 100),\n",
    "    FOREIGN KEY (student_id) REFERENCES student(student_id),\n",
    "    FOREIGN KEY (assignment_id) REFERENCES assignment(assignment_id)\n",
    ");\n",
    "\n",
    "INSERT INTO student VALUES\n",
    "(123, 'JoeyG', 'jegonzal@berkeley.edu'),\n",
    "(456, 'NargesN', 'norouzi@berkeley.edu');\n",
    "\n",
    "INSERT INTO assignment VALUES\n",
    "(1, 'easy assignment'),\n",
    "(2, 'hard assignment');"
   ]
  },
  {
   "cell_type": "code",
   "execution_count": 27,
   "id": "5ecb5b9a-3a69-462e-839a-7378a7632473",
   "metadata": {},
   "outputs": [
    {
     "data": {
      "text/html": [
       "<span style=\"None\">Running query in &#x27;student_db&#x27;</span>"
      ],
      "text/plain": [
       "Running query in 'student_db'"
      ]
     },
     "metadata": {},
     "output_type": "display_data"
    },
    {
     "data": {
      "text/html": [
       "<div>\n",
       "<style scoped>\n",
       "    .dataframe tbody tr th:only-of-type {\n",
       "        vertical-align: middle;\n",
       "    }\n",
       "\n",
       "    .dataframe tbody tr th {\n",
       "        vertical-align: top;\n",
       "    }\n",
       "\n",
       "    .dataframe thead th {\n",
       "        text-align: right;\n",
       "    }\n",
       "</style>\n",
       "<table border=\"1\" class=\"dataframe\">\n",
       "  <thead>\n",
       "    <tr style=\"text-align: right;\">\n",
       "      <th></th>\n",
       "      <th>Success</th>\n",
       "    </tr>\n",
       "  </thead>\n",
       "  <tbody>\n",
       "  </tbody>\n",
       "</table>\n",
       "</div>"
      ],
      "text/plain": [
       "Empty DataFrame\n",
       "Columns: [Success]\n",
       "Index: []"
      ]
     },
     "execution_count": 27,
     "metadata": {},
     "output_type": "execute_result"
    }
   ],
   "source": [
    "%%sql \n",
    "INSERT INTO grade VALUES\n",
    "(123, 1, 80),\n",
    "(123, 2, 42),\n",
    "(456, 2, 100);"
   ]
  },
  {
   "cell_type": "code",
   "execution_count": 28,
   "id": "19ebe953-1167-40b4-9b5e-38dc069f8514",
   "metadata": {},
   "outputs": [
    {
     "data": {
      "text/html": [
       "<span style=\"None\">Running query in &#x27;student_db&#x27;</span>"
      ],
      "text/plain": [
       "Running query in 'student_db'"
      ]
     },
     "metadata": {},
     "output_type": "display_data"
    },
    {
     "data": {
      "text/html": [
       "<div>\n",
       "<style scoped>\n",
       "    .dataframe tbody tr th:only-of-type {\n",
       "        vertical-align: middle;\n",
       "    }\n",
       "\n",
       "    .dataframe tbody tr th {\n",
       "        vertical-align: top;\n",
       "    }\n",
       "\n",
       "    .dataframe thead th {\n",
       "        text-align: right;\n",
       "    }\n",
       "</style>\n",
       "<table border=\"1\" class=\"dataframe\">\n",
       "  <thead>\n",
       "    <tr style=\"text-align: right;\">\n",
       "      <th></th>\n",
       "      <th>student_id</th>\n",
       "      <th>assignment_id</th>\n",
       "      <th>score</th>\n",
       "    </tr>\n",
       "  </thead>\n",
       "  <tbody>\n",
       "    <tr>\n",
       "      <th>0</th>\n",
       "      <td>123</td>\n",
       "      <td>1</td>\n",
       "      <td>80.0</td>\n",
       "    </tr>\n",
       "    <tr>\n",
       "      <th>1</th>\n",
       "      <td>123</td>\n",
       "      <td>2</td>\n",
       "      <td>42.0</td>\n",
       "    </tr>\n",
       "    <tr>\n",
       "      <th>2</th>\n",
       "      <td>456</td>\n",
       "      <td>2</td>\n",
       "      <td>100.0</td>\n",
       "    </tr>\n",
       "  </tbody>\n",
       "</table>\n",
       "</div>"
      ],
      "text/plain": [
       "   student_id  assignment_id  score\n",
       "0         123              1   80.0\n",
       "1         123              2   42.0\n",
       "2         456              2  100.0"
      ]
     },
     "execution_count": 28,
     "metadata": {},
     "output_type": "execute_result"
    }
   ],
   "source": [
    "%sql SELECT * FROM grade;"
   ]
  },
  {
   "cell_type": "markdown",
   "id": "74946c12-47af-42a2-9de5-b20b41eb0160",
   "metadata": {},
   "source": [
    "<br/>\n",
    "\n",
    "---\n",
    "\n",
    "## Basic Queries\n",
    "\n",
    "### `SELECT` and `FROM`\n",
    "Every SQL query *must* contain a `SELECT` and `FROM` clause.\n",
    "\n",
    "* `SELECT`: specify the column(s) to return in the output.\n",
    "* `FROM`: specify the database table from which to extract data."
   ]
  },
  {
   "cell_type": "code",
   "execution_count": 29,
   "id": "8b10641e",
   "metadata": {},
   "outputs": [
    {
     "data": {
      "text/html": [
       "<span style=\"None\">Switching to connection &#x27;duckdb&#x27;</span>"
      ],
      "text/plain": [
       "Switching to connection 'duckdb'"
      ]
     },
     "metadata": {},
     "output_type": "display_data"
    },
    {
     "data": {
      "text/html": [
       "<div>\n",
       "<style scoped>\n",
       "    .dataframe tbody tr th:only-of-type {\n",
       "        vertical-align: middle;\n",
       "    }\n",
       "\n",
       "    .dataframe tbody tr th {\n",
       "        vertical-align: top;\n",
       "    }\n",
       "\n",
       "    .dataframe thead th {\n",
       "        text-align: right;\n",
       "    }\n",
       "</style>\n",
       "<table border=\"1\" class=\"dataframe\">\n",
       "  <thead>\n",
       "    <tr style=\"text-align: right;\">\n",
       "      <th></th>\n",
       "      <th>name</th>\n",
       "      <th>year</th>\n",
       "      <th>cute</th>\n",
       "    </tr>\n",
       "  </thead>\n",
       "  <tbody>\n",
       "    <tr>\n",
       "      <th>0</th>\n",
       "      <td>hiccup</td>\n",
       "      <td>2010</td>\n",
       "      <td>10.0</td>\n",
       "    </tr>\n",
       "    <tr>\n",
       "      <th>1</th>\n",
       "      <td>drogon</td>\n",
       "      <td>2011</td>\n",
       "      <td>-100.0</td>\n",
       "    </tr>\n",
       "    <tr>\n",
       "      <th>2</th>\n",
       "      <td>dragon 2</td>\n",
       "      <td>2019</td>\n",
       "      <td>0.0</td>\n",
       "    </tr>\n",
       "    <tr>\n",
       "      <th>3</th>\n",
       "      <td>puff</td>\n",
       "      <td>2010</td>\n",
       "      <td>100.0</td>\n",
       "    </tr>\n",
       "    <tr>\n",
       "      <th>4</th>\n",
       "      <td>smaug</td>\n",
       "      <td>2011</td>\n",
       "      <td>NaN</td>\n",
       "    </tr>\n",
       "  </tbody>\n",
       "</table>\n",
       "</div>"
      ],
      "text/plain": [
       "       name  year   cute\n",
       "0    hiccup  2010   10.0\n",
       "1    drogon  2011 -100.0\n",
       "2  dragon 2  2019    0.0\n",
       "3      puff  2010  100.0\n",
       "4     smaug  2011    NaN"
      ]
     },
     "execution_count": 29,
     "metadata": {},
     "output_type": "execute_result"
    }
   ],
   "source": [
    "%%sql duckdb\n",
    "SELECT * FROM Dragon;"
   ]
  },
  {
   "cell_type": "code",
   "execution_count": 30,
   "id": "0db25a51",
   "metadata": {},
   "outputs": [
    {
     "data": {
      "text/html": [
       "<span style=\"None\">Running query in &#x27;duckdb&#x27;</span>"
      ],
      "text/plain": [
       "Running query in 'duckdb'"
      ]
     },
     "metadata": {},
     "output_type": "display_data"
    },
    {
     "data": {
      "text/html": [
       "<div>\n",
       "<style scoped>\n",
       "    .dataframe tbody tr th:only-of-type {\n",
       "        vertical-align: middle;\n",
       "    }\n",
       "\n",
       "    .dataframe tbody tr th {\n",
       "        vertical-align: top;\n",
       "    }\n",
       "\n",
       "    .dataframe thead th {\n",
       "        text-align: right;\n",
       "    }\n",
       "</style>\n",
       "<table border=\"1\" class=\"dataframe\">\n",
       "  <thead>\n",
       "    <tr style=\"text-align: right;\">\n",
       "      <th></th>\n",
       "      <th>cute</th>\n",
       "      <th>year</th>\n",
       "    </tr>\n",
       "  </thead>\n",
       "  <tbody>\n",
       "    <tr>\n",
       "      <th>0</th>\n",
       "      <td>10.0</td>\n",
       "      <td>2010</td>\n",
       "    </tr>\n",
       "    <tr>\n",
       "      <th>1</th>\n",
       "      <td>-100.0</td>\n",
       "      <td>2011</td>\n",
       "    </tr>\n",
       "    <tr>\n",
       "      <th>2</th>\n",
       "      <td>0.0</td>\n",
       "      <td>2019</td>\n",
       "    </tr>\n",
       "    <tr>\n",
       "      <th>3</th>\n",
       "      <td>100.0</td>\n",
       "      <td>2010</td>\n",
       "    </tr>\n",
       "    <tr>\n",
       "      <th>4</th>\n",
       "      <td>NaN</td>\n",
       "      <td>2011</td>\n",
       "    </tr>\n",
       "  </tbody>\n",
       "</table>\n",
       "</div>"
      ],
      "text/plain": [
       "    cute  year\n",
       "0   10.0  2010\n",
       "1 -100.0  2011\n",
       "2    0.0  2019\n",
       "3  100.0  2010\n",
       "4    NaN  2011"
      ]
     },
     "execution_count": 30,
     "metadata": {},
     "output_type": "execute_result"
    }
   ],
   "source": [
    "%%sql\n",
    "SELECT cute, year FROM Dragon;"
   ]
  },
  {
   "cell_type": "markdown",
   "id": "9995de9b-c827-48b6-84bc-3b169cc5f549",
   "metadata": {},
   "source": [
    "### Aliasing with `AS`"
   ]
  },
  {
   "cell_type": "code",
   "execution_count": 31,
   "id": "75596c85-eb17-4d19-b065-984524dec1d8",
   "metadata": {},
   "outputs": [
    {
     "data": {
      "text/html": [
       "<span style=\"None\">Running query in &#x27;duckdb&#x27;</span>"
      ],
      "text/plain": [
       "Running query in 'duckdb'"
      ]
     },
     "metadata": {},
     "output_type": "display_data"
    },
    {
     "data": {
      "text/html": [
       "<div>\n",
       "<style scoped>\n",
       "    .dataframe tbody tr th:only-of-type {\n",
       "        vertical-align: middle;\n",
       "    }\n",
       "\n",
       "    .dataframe tbody tr th {\n",
       "        vertical-align: top;\n",
       "    }\n",
       "\n",
       "    .dataframe thead th {\n",
       "        text-align: right;\n",
       "    }\n",
       "</style>\n",
       "<table border=\"1\" class=\"dataframe\">\n",
       "  <thead>\n",
       "    <tr style=\"text-align: right;\">\n",
       "      <th></th>\n",
       "      <th>cuteness</th>\n",
       "      <th>birth year</th>\n",
       "    </tr>\n",
       "  </thead>\n",
       "  <tbody>\n",
       "    <tr>\n",
       "      <th>0</th>\n",
       "      <td>10.0</td>\n",
       "      <td>2010</td>\n",
       "    </tr>\n",
       "    <tr>\n",
       "      <th>1</th>\n",
       "      <td>-100.0</td>\n",
       "      <td>2011</td>\n",
       "    </tr>\n",
       "    <tr>\n",
       "      <th>2</th>\n",
       "      <td>0.0</td>\n",
       "      <td>2019</td>\n",
       "    </tr>\n",
       "    <tr>\n",
       "      <th>3</th>\n",
       "      <td>100.0</td>\n",
       "      <td>2010</td>\n",
       "    </tr>\n",
       "    <tr>\n",
       "      <th>4</th>\n",
       "      <td>NaN</td>\n",
       "      <td>2011</td>\n",
       "    </tr>\n",
       "  </tbody>\n",
       "</table>\n",
       "</div>"
      ],
      "text/plain": [
       "   cuteness  birth year\n",
       "0      10.0        2010\n",
       "1    -100.0        2011\n",
       "2       0.0        2019\n",
       "3     100.0        2010\n",
       "4       NaN        2011"
      ]
     },
     "execution_count": 31,
     "metadata": {},
     "output_type": "execute_result"
    }
   ],
   "source": [
    "%%sql\n",
    "SELECT cute AS cuteness,\n",
    "       year AS \"birth year\"\n",
    "FROM Dragon;"
   ]
  },
  {
   "cell_type": "markdown",
   "id": "8aba7a6c-2e1b-496e-944b-a752023dbb8a",
   "metadata": {},
   "source": [
    "### Uniqueness with `DISTINCT`"
   ]
  },
  {
   "cell_type": "code",
   "execution_count": 32,
   "id": "734189f7-de89-42ca-84e3-306cb564f34e",
   "metadata": {},
   "outputs": [
    {
     "data": {
      "text/html": [
       "<span style=\"None\">Running query in &#x27;duckdb&#x27;</span>"
      ],
      "text/plain": [
       "Running query in 'duckdb'"
      ]
     },
     "metadata": {},
     "output_type": "display_data"
    },
    {
     "data": {
      "text/html": [
       "<div>\n",
       "<style scoped>\n",
       "    .dataframe tbody tr th:only-of-type {\n",
       "        vertical-align: middle;\n",
       "    }\n",
       "\n",
       "    .dataframe tbody tr th {\n",
       "        vertical-align: top;\n",
       "    }\n",
       "\n",
       "    .dataframe thead th {\n",
       "        text-align: right;\n",
       "    }\n",
       "</style>\n",
       "<table border=\"1\" class=\"dataframe\">\n",
       "  <thead>\n",
       "    <tr style=\"text-align: right;\">\n",
       "      <th></th>\n",
       "      <th>year</th>\n",
       "    </tr>\n",
       "  </thead>\n",
       "  <tbody>\n",
       "    <tr>\n",
       "      <th>0</th>\n",
       "      <td>2010</td>\n",
       "    </tr>\n",
       "    <tr>\n",
       "      <th>1</th>\n",
       "      <td>2019</td>\n",
       "    </tr>\n",
       "    <tr>\n",
       "      <th>2</th>\n",
       "      <td>2011</td>\n",
       "    </tr>\n",
       "  </tbody>\n",
       "</table>\n",
       "</div>"
      ],
      "text/plain": [
       "   year\n",
       "0  2010\n",
       "1  2019\n",
       "2  2011"
      ]
     },
     "execution_count": 32,
     "metadata": {},
     "output_type": "execute_result"
    }
   ],
   "source": [
    "%%sql\n",
    "SELECT DISTINCT year\n",
    "FROM Dragon;"
   ]
  },
  {
   "cell_type": "markdown",
   "id": "fca8c73c-ca03-4f65-9dfe-72e2368bd795",
   "metadata": {},
   "source": [
    "### Filtering with `WHERE`"
   ]
  },
  {
   "cell_type": "code",
   "execution_count": 33,
   "id": "2a28705b-7d0d-4252-b544-346194d2eea0",
   "metadata": {},
   "outputs": [
    {
     "data": {
      "text/html": [
       "<span style=\"None\">Running query in &#x27;duckdb&#x27;</span>"
      ],
      "text/plain": [
       "Running query in 'duckdb'"
      ]
     },
     "metadata": {},
     "output_type": "display_data"
    },
    {
     "data": {
      "text/html": [
       "<div>\n",
       "<style scoped>\n",
       "    .dataframe tbody tr th:only-of-type {\n",
       "        vertical-align: middle;\n",
       "    }\n",
       "\n",
       "    .dataframe tbody tr th {\n",
       "        vertical-align: top;\n",
       "    }\n",
       "\n",
       "    .dataframe thead th {\n",
       "        text-align: right;\n",
       "    }\n",
       "</style>\n",
       "<table border=\"1\" class=\"dataframe\">\n",
       "  <thead>\n",
       "    <tr style=\"text-align: right;\">\n",
       "      <th></th>\n",
       "      <th>name</th>\n",
       "      <th>year</th>\n",
       "    </tr>\n",
       "  </thead>\n",
       "  <tbody>\n",
       "    <tr>\n",
       "      <th>0</th>\n",
       "      <td>hiccup</td>\n",
       "      <td>2010</td>\n",
       "    </tr>\n",
       "    <tr>\n",
       "      <th>1</th>\n",
       "      <td>puff</td>\n",
       "      <td>2010</td>\n",
       "    </tr>\n",
       "  </tbody>\n",
       "</table>\n",
       "</div>"
      ],
      "text/plain": [
       "     name  year\n",
       "0  hiccup  2010\n",
       "1    puff  2010"
      ]
     },
     "execution_count": 33,
     "metadata": {},
     "output_type": "execute_result"
    }
   ],
   "source": [
    "%%sql\n",
    "SELECT name, year\n",
    "FROM Dragon\n",
    "WHERE cute > 0;"
   ]
  },
  {
   "cell_type": "code",
   "execution_count": 34,
   "id": "b8a3e2ce-9be3-41fa-8fcb-02b63095d269",
   "metadata": {},
   "outputs": [
    {
     "data": {
      "text/html": [
       "<span style=\"None\">Running query in &#x27;duckdb&#x27;</span>"
      ],
      "text/plain": [
       "Running query in 'duckdb'"
      ]
     },
     "metadata": {},
     "output_type": "display_data"
    },
    {
     "data": {
      "text/html": [
       "<div>\n",
       "<style scoped>\n",
       "    .dataframe tbody tr th:only-of-type {\n",
       "        vertical-align: middle;\n",
       "    }\n",
       "\n",
       "    .dataframe tbody tr th {\n",
       "        vertical-align: top;\n",
       "    }\n",
       "\n",
       "    .dataframe thead th {\n",
       "        text-align: right;\n",
       "    }\n",
       "</style>\n",
       "<table border=\"1\" class=\"dataframe\">\n",
       "  <thead>\n",
       "    <tr style=\"text-align: right;\">\n",
       "      <th></th>\n",
       "      <th>name</th>\n",
       "      <th>cute</th>\n",
       "      <th>year</th>\n",
       "    </tr>\n",
       "  </thead>\n",
       "  <tbody>\n",
       "    <tr>\n",
       "      <th>0</th>\n",
       "      <td>hiccup</td>\n",
       "      <td>10</td>\n",
       "      <td>2010</td>\n",
       "    </tr>\n",
       "    <tr>\n",
       "      <th>1</th>\n",
       "      <td>puff</td>\n",
       "      <td>100</td>\n",
       "      <td>2010</td>\n",
       "    </tr>\n",
       "    <tr>\n",
       "      <th>2</th>\n",
       "      <td>dragon 2</td>\n",
       "      <td>0</td>\n",
       "      <td>2019</td>\n",
       "    </tr>\n",
       "  </tbody>\n",
       "</table>\n",
       "</div>"
      ],
      "text/plain": [
       "       name  cute  year\n",
       "0    hiccup    10  2010\n",
       "1      puff   100  2010\n",
       "2  dragon 2     0  2019"
      ]
     },
     "execution_count": 34,
     "metadata": {},
     "output_type": "execute_result"
    }
   ],
   "source": [
    "%%sql\n",
    "SELECT name, cute, year\n",
    "FROM Dragon\n",
    "WHERE cute > 0 OR year > 2013;"
   ]
  },
  {
   "cell_type": "code",
   "execution_count": 35,
   "id": "9cbbfe9a-7098-48c4-b015-c81b6ff5acb8",
   "metadata": {},
   "outputs": [
    {
     "data": {
      "text/html": [
       "<span style=\"None\">Running query in &#x27;duckdb&#x27;</span>"
      ],
      "text/plain": [
       "Running query in 'duckdb'"
      ]
     },
     "metadata": {},
     "output_type": "display_data"
    },
    {
     "data": {
      "text/html": [
       "<div>\n",
       "<style scoped>\n",
       "    .dataframe tbody tr th:only-of-type {\n",
       "        vertical-align: middle;\n",
       "    }\n",
       "\n",
       "    .dataframe tbody tr th {\n",
       "        vertical-align: top;\n",
       "    }\n",
       "\n",
       "    .dataframe thead th {\n",
       "        text-align: right;\n",
       "    }\n",
       "</style>\n",
       "<table border=\"1\" class=\"dataframe\">\n",
       "  <thead>\n",
       "    <tr style=\"text-align: right;\">\n",
       "      <th></th>\n",
       "      <th>name</th>\n",
       "      <th>year</th>\n",
       "    </tr>\n",
       "  </thead>\n",
       "  <tbody>\n",
       "    <tr>\n",
       "      <th>0</th>\n",
       "      <td>puff</td>\n",
       "      <td>2010</td>\n",
       "    </tr>\n",
       "    <tr>\n",
       "      <th>1</th>\n",
       "      <td>hiccup</td>\n",
       "      <td>2010</td>\n",
       "    </tr>\n",
       "  </tbody>\n",
       "</table>\n",
       "</div>"
      ],
      "text/plain": [
       "     name  year\n",
       "0    puff  2010\n",
       "1  hiccup  2010"
      ]
     },
     "execution_count": 35,
     "metadata": {},
     "output_type": "execute_result"
    }
   ],
   "source": [
    "%%sql\n",
    "SELECT name, year\n",
    "FROM Dragon \n",
    "WHERE name IN ('puff', 'hiccup');"
   ]
  },
  {
   "cell_type": "code",
   "execution_count": 36,
   "id": "03dac425-d2e2-4699-99b9-5ca9bbbc1ab0",
   "metadata": {},
   "outputs": [
    {
     "data": {
      "text/html": [
       "<span style=\"None\">Running query in &#x27;duckdb&#x27;</span>"
      ],
      "text/plain": [
       "Running query in 'duckdb'"
      ]
     },
     "metadata": {},
     "output_type": "display_data"
    },
    {
     "data": {
      "text/html": [
       "<div>\n",
       "<style scoped>\n",
       "    .dataframe tbody tr th:only-of-type {\n",
       "        vertical-align: middle;\n",
       "    }\n",
       "\n",
       "    .dataframe tbody tr th {\n",
       "        vertical-align: top;\n",
       "    }\n",
       "\n",
       "    .dataframe thead th {\n",
       "        text-align: right;\n",
       "    }\n",
       "</style>\n",
       "<table border=\"1\" class=\"dataframe\">\n",
       "  <thead>\n",
       "    <tr style=\"text-align: right;\">\n",
       "      <th></th>\n",
       "      <th>name</th>\n",
       "      <th>cute</th>\n",
       "    </tr>\n",
       "  </thead>\n",
       "  <tbody>\n",
       "    <tr>\n",
       "      <th>0</th>\n",
       "      <td>hiccup</td>\n",
       "      <td>10</td>\n",
       "    </tr>\n",
       "    <tr>\n",
       "      <th>1</th>\n",
       "      <td>drogon</td>\n",
       "      <td>-100</td>\n",
       "    </tr>\n",
       "    <tr>\n",
       "      <th>2</th>\n",
       "      <td>dragon 2</td>\n",
       "      <td>0</td>\n",
       "    </tr>\n",
       "    <tr>\n",
       "      <th>3</th>\n",
       "      <td>puff</td>\n",
       "      <td>100</td>\n",
       "    </tr>\n",
       "  </tbody>\n",
       "</table>\n",
       "</div>"
      ],
      "text/plain": [
       "       name  cute\n",
       "0    hiccup    10\n",
       "1    drogon  -100\n",
       "2  dragon 2     0\n",
       "3      puff   100"
      ]
     },
     "execution_count": 36,
     "metadata": {},
     "output_type": "execute_result"
    }
   ],
   "source": [
    "%%sql\n",
    "SELECT name, cute\n",
    "FROM Dragon\n",
    "WHERE cute IS NOT NULL;"
   ]
  },
  {
   "cell_type": "markdown",
   "id": "fc92df7a-14b4-4379-9c68-b1326c2a6b7d",
   "metadata": {},
   "source": [
    "### Ordering data using `ORDER BY`"
   ]
  },
  {
   "cell_type": "code",
   "execution_count": 37,
   "id": "e92fcdcb-7b45-486c-a1f7-8d6c7e25413c",
   "metadata": {},
   "outputs": [
    {
     "data": {
      "text/html": [
       "<span style=\"None\">Running query in &#x27;duckdb&#x27;</span>"
      ],
      "text/plain": [
       "Running query in 'duckdb'"
      ]
     },
     "metadata": {},
     "output_type": "display_data"
    },
    {
     "data": {
      "text/html": [
       "<div>\n",
       "<style scoped>\n",
       "    .dataframe tbody tr th:only-of-type {\n",
       "        vertical-align: middle;\n",
       "    }\n",
       "\n",
       "    .dataframe tbody tr th {\n",
       "        vertical-align: top;\n",
       "    }\n",
       "\n",
       "    .dataframe thead th {\n",
       "        text-align: right;\n",
       "    }\n",
       "</style>\n",
       "<table border=\"1\" class=\"dataframe\">\n",
       "  <thead>\n",
       "    <tr style=\"text-align: right;\">\n",
       "      <th></th>\n",
       "      <th>name</th>\n",
       "      <th>year</th>\n",
       "      <th>cute</th>\n",
       "    </tr>\n",
       "  </thead>\n",
       "  <tbody>\n",
       "    <tr>\n",
       "      <th>0</th>\n",
       "      <td>puff</td>\n",
       "      <td>2010</td>\n",
       "      <td>100.0</td>\n",
       "    </tr>\n",
       "    <tr>\n",
       "      <th>1</th>\n",
       "      <td>hiccup</td>\n",
       "      <td>2010</td>\n",
       "      <td>10.0</td>\n",
       "    </tr>\n",
       "    <tr>\n",
       "      <th>2</th>\n",
       "      <td>dragon 2</td>\n",
       "      <td>2019</td>\n",
       "      <td>0.0</td>\n",
       "    </tr>\n",
       "    <tr>\n",
       "      <th>3</th>\n",
       "      <td>drogon</td>\n",
       "      <td>2011</td>\n",
       "      <td>-100.0</td>\n",
       "    </tr>\n",
       "    <tr>\n",
       "      <th>4</th>\n",
       "      <td>smaug</td>\n",
       "      <td>2011</td>\n",
       "      <td>NaN</td>\n",
       "    </tr>\n",
       "  </tbody>\n",
       "</table>\n",
       "</div>"
      ],
      "text/plain": [
       "       name  year   cute\n",
       "0      puff  2010  100.0\n",
       "1    hiccup  2010   10.0\n",
       "2  dragon 2  2019    0.0\n",
       "3    drogon  2011 -100.0\n",
       "4     smaug  2011    NaN"
      ]
     },
     "execution_count": 37,
     "metadata": {},
     "output_type": "execute_result"
    }
   ],
   "source": [
    "%%sql\n",
    "SELECT *\n",
    "FROM Dragon\n",
    "ORDER BY cute DESC;"
   ]
  },
  {
   "cell_type": "markdown",
   "id": "7972bc77-a058-477e-a945-828888c48147",
   "metadata": {},
   "source": [
    "### Restricting output with `LIMIT` and `OFFSET`"
   ]
  },
  {
   "cell_type": "code",
   "execution_count": 38,
   "id": "afc34d86-ab22-4b0b-aad2-959247fe2494",
   "metadata": {},
   "outputs": [
    {
     "data": {
      "text/html": [
       "<span style=\"None\">Running query in &#x27;duckdb&#x27;</span>"
      ],
      "text/plain": [
       "Running query in 'duckdb'"
      ]
     },
     "metadata": {},
     "output_type": "display_data"
    },
    {
     "data": {
      "text/html": [
       "<div>\n",
       "<style scoped>\n",
       "    .dataframe tbody tr th:only-of-type {\n",
       "        vertical-align: middle;\n",
       "    }\n",
       "\n",
       "    .dataframe tbody tr th {\n",
       "        vertical-align: top;\n",
       "    }\n",
       "\n",
       "    .dataframe thead th {\n",
       "        text-align: right;\n",
       "    }\n",
       "</style>\n",
       "<table border=\"1\" class=\"dataframe\">\n",
       "  <thead>\n",
       "    <tr style=\"text-align: right;\">\n",
       "      <th></th>\n",
       "      <th>name</th>\n",
       "      <th>year</th>\n",
       "      <th>cute</th>\n",
       "    </tr>\n",
       "  </thead>\n",
       "  <tbody>\n",
       "    <tr>\n",
       "      <th>0</th>\n",
       "      <td>hiccup</td>\n",
       "      <td>2010</td>\n",
       "      <td>10</td>\n",
       "    </tr>\n",
       "    <tr>\n",
       "      <th>1</th>\n",
       "      <td>drogon</td>\n",
       "      <td>2011</td>\n",
       "      <td>-100</td>\n",
       "    </tr>\n",
       "  </tbody>\n",
       "</table>\n",
       "</div>"
      ],
      "text/plain": [
       "     name  year  cute\n",
       "0  hiccup  2010    10\n",
       "1  drogon  2011  -100"
      ]
     },
     "execution_count": 38,
     "metadata": {},
     "output_type": "execute_result"
    }
   ],
   "source": [
    "%%sql\n",
    "SELECT *\n",
    "FROM Dragon\n",
    "LIMIT 2;"
   ]
  },
  {
   "cell_type": "code",
   "execution_count": 39,
   "id": "80802839-9169-4768-b2b1-49368ded674b",
   "metadata": {},
   "outputs": [
    {
     "data": {
      "text/html": [
       "<span style=\"None\">Running query in &#x27;duckdb&#x27;</span>"
      ],
      "text/plain": [
       "Running query in 'duckdb'"
      ]
     },
     "metadata": {},
     "output_type": "display_data"
    },
    {
     "data": {
      "text/html": [
       "<div>\n",
       "<style scoped>\n",
       "    .dataframe tbody tr th:only-of-type {\n",
       "        vertical-align: middle;\n",
       "    }\n",
       "\n",
       "    .dataframe tbody tr th {\n",
       "        vertical-align: top;\n",
       "    }\n",
       "\n",
       "    .dataframe thead th {\n",
       "        text-align: right;\n",
       "    }\n",
       "</style>\n",
       "<table border=\"1\" class=\"dataframe\">\n",
       "  <thead>\n",
       "    <tr style=\"text-align: right;\">\n",
       "      <th></th>\n",
       "      <th>name</th>\n",
       "      <th>year</th>\n",
       "      <th>cute</th>\n",
       "    </tr>\n",
       "  </thead>\n",
       "  <tbody>\n",
       "    <tr>\n",
       "      <th>0</th>\n",
       "      <td>drogon</td>\n",
       "      <td>2011</td>\n",
       "      <td>-100</td>\n",
       "    </tr>\n",
       "    <tr>\n",
       "      <th>1</th>\n",
       "      <td>dragon 2</td>\n",
       "      <td>2019</td>\n",
       "      <td>0</td>\n",
       "    </tr>\n",
       "  </tbody>\n",
       "</table>\n",
       "</div>"
      ],
      "text/plain": [
       "       name  year  cute\n",
       "0    drogon  2011  -100\n",
       "1  dragon 2  2019     0"
      ]
     },
     "execution_count": 39,
     "metadata": {},
     "output_type": "execute_result"
    }
   ],
   "source": [
    "%%sql\n",
    "SELECT *\n",
    "FROM Dragon\n",
    "LIMIT 2\n",
    "OFFSET 1;"
   ]
  },
  {
   "cell_type": "markdown",
   "id": "249ad449-99d0-422a-8058-c92aa66ad284",
   "metadata": {},
   "source": [
    "### Sampling with `RANDOM()`\n",
    "What if we wanted a random sample:"
   ]
  },
  {
   "cell_type": "code",
   "execution_count": 40,
   "id": "1dab307f-2461-4e84-9605-8d9839e979c1",
   "metadata": {},
   "outputs": [
    {
     "data": {
      "text/html": [
       "<span style=\"None\">Running query in &#x27;duckdb&#x27;</span>"
      ],
      "text/plain": [
       "Running query in 'duckdb'"
      ]
     },
     "metadata": {},
     "output_type": "display_data"
    },
    {
     "data": {
      "text/html": [
       "<div>\n",
       "<style scoped>\n",
       "    .dataframe tbody tr th:only-of-type {\n",
       "        vertical-align: middle;\n",
       "    }\n",
       "\n",
       "    .dataframe tbody tr th {\n",
       "        vertical-align: top;\n",
       "    }\n",
       "\n",
       "    .dataframe thead th {\n",
       "        text-align: right;\n",
       "    }\n",
       "</style>\n",
       "<table border=\"1\" class=\"dataframe\">\n",
       "  <thead>\n",
       "    <tr style=\"text-align: right;\">\n",
       "      <th></th>\n",
       "      <th>name</th>\n",
       "      <th>year</th>\n",
       "      <th>cute</th>\n",
       "    </tr>\n",
       "  </thead>\n",
       "  <tbody>\n",
       "    <tr>\n",
       "      <th>0</th>\n",
       "      <td>dragon 2</td>\n",
       "      <td>2019</td>\n",
       "      <td>0</td>\n",
       "    </tr>\n",
       "    <tr>\n",
       "      <th>1</th>\n",
       "      <td>drogon</td>\n",
       "      <td>2011</td>\n",
       "      <td>-100</td>\n",
       "    </tr>\n",
       "  </tbody>\n",
       "</table>\n",
       "</div>"
      ],
      "text/plain": [
       "       name  year  cute\n",
       "0  dragon 2  2019     0\n",
       "1    drogon  2011  -100"
      ]
     },
     "execution_count": 40,
     "metadata": {},
     "output_type": "execute_result"
    }
   ],
   "source": [
    "%%sql\n",
    "SELECT *\n",
    "FROM Dragon\n",
    "ORDER BY RANDOM() \n",
    "LIMIT 2"
   ]
  },
  {
   "cell_type": "code",
   "execution_count": 41,
   "id": "a3bc8fc2-956c-4c7b-847d-db8778ae884a",
   "metadata": {},
   "outputs": [
    {
     "data": {
      "text/html": [
       "<span style=\"None\">Running query in &#x27;duckdb&#x27;</span>"
      ],
      "text/plain": [
       "Running query in 'duckdb'"
      ]
     },
     "metadata": {},
     "output_type": "display_data"
    },
    {
     "data": {
      "text/html": [
       "<div>\n",
       "<style scoped>\n",
       "    .dataframe tbody tr th:only-of-type {\n",
       "        vertical-align: middle;\n",
       "    }\n",
       "\n",
       "    .dataframe tbody tr th {\n",
       "        vertical-align: top;\n",
       "    }\n",
       "\n",
       "    .dataframe thead th {\n",
       "        text-align: right;\n",
       "    }\n",
       "</style>\n",
       "<table border=\"1\" class=\"dataframe\">\n",
       "  <thead>\n",
       "    <tr style=\"text-align: right;\">\n",
       "      <th></th>\n",
       "      <th>name</th>\n",
       "      <th>year</th>\n",
       "      <th>cute</th>\n",
       "    </tr>\n",
       "  </thead>\n",
       "  <tbody>\n",
       "    <tr>\n",
       "      <th>0</th>\n",
       "      <td>puff</td>\n",
       "      <td>2010</td>\n",
       "      <td>100</td>\n",
       "    </tr>\n",
       "    <tr>\n",
       "      <th>1</th>\n",
       "      <td>drogon</td>\n",
       "      <td>2011</td>\n",
       "      <td>-100</td>\n",
       "    </tr>\n",
       "  </tbody>\n",
       "</table>\n",
       "</div>"
      ],
      "text/plain": [
       "     name  year  cute\n",
       "0    puff  2010   100\n",
       "1  drogon  2011  -100"
      ]
     },
     "execution_count": 41,
     "metadata": {},
     "output_type": "execute_result"
    }
   ],
   "source": [
    "%%sql\n",
    "SELECT * \n",
    "FROM Dragon USING SAMPLE reservoir(2 ROWS) REPEATABLE (100);"
   ]
  },
  {
   "cell_type": "markdown",
   "id": "62f0b944-eead-44e7-8c3c-35a2326cbe01",
   "metadata": {},
   "source": [
    "## Grouping Data with `GROUP BY`"
   ]
  },
  {
   "cell_type": "code",
   "execution_count": 42,
   "id": "660cd78d-7639-4875-aa3e-7a840d0d37a4",
   "metadata": {},
   "outputs": [
    {
     "data": {
      "text/html": [
       "<span style=\"None\">Running query in &#x27;duckdb&#x27;</span>"
      ],
      "text/plain": [
       "Running query in 'duckdb'"
      ]
     },
     "metadata": {},
     "output_type": "display_data"
    },
    {
     "data": {
      "text/html": [
       "<div>\n",
       "<style scoped>\n",
       "    .dataframe tbody tr th:only-of-type {\n",
       "        vertical-align: middle;\n",
       "    }\n",
       "\n",
       "    .dataframe tbody tr th {\n",
       "        vertical-align: top;\n",
       "    }\n",
       "\n",
       "    .dataframe thead th {\n",
       "        text-align: right;\n",
       "    }\n",
       "</style>\n",
       "<table border=\"1\" class=\"dataframe\">\n",
       "  <thead>\n",
       "    <tr style=\"text-align: right;\">\n",
       "      <th></th>\n",
       "      <th>name</th>\n",
       "      <th>type</th>\n",
       "      <th>cost</th>\n",
       "    </tr>\n",
       "  </thead>\n",
       "  <tbody>\n",
       "    <tr>\n",
       "      <th>0</th>\n",
       "      <td>ravioli</td>\n",
       "      <td>entree</td>\n",
       "      <td>10</td>\n",
       "    </tr>\n",
       "    <tr>\n",
       "      <th>1</th>\n",
       "      <td>ramen</td>\n",
       "      <td>entree</td>\n",
       "      <td>13</td>\n",
       "    </tr>\n",
       "    <tr>\n",
       "      <th>2</th>\n",
       "      <td>taco</td>\n",
       "      <td>entree</td>\n",
       "      <td>7</td>\n",
       "    </tr>\n",
       "    <tr>\n",
       "      <th>3</th>\n",
       "      <td>edamame</td>\n",
       "      <td>appetizer</td>\n",
       "      <td>4</td>\n",
       "    </tr>\n",
       "    <tr>\n",
       "      <th>4</th>\n",
       "      <td>fries</td>\n",
       "      <td>appetizer</td>\n",
       "      <td>4</td>\n",
       "    </tr>\n",
       "    <tr>\n",
       "      <th>5</th>\n",
       "      <td>potsticker</td>\n",
       "      <td>appetizer</td>\n",
       "      <td>4</td>\n",
       "    </tr>\n",
       "    <tr>\n",
       "      <th>6</th>\n",
       "      <td>ice cream</td>\n",
       "      <td>dessert</td>\n",
       "      <td>5</td>\n",
       "    </tr>\n",
       "  </tbody>\n",
       "</table>\n",
       "</div>"
      ],
      "text/plain": [
       "         name       type  cost\n",
       "0     ravioli     entree    10\n",
       "1       ramen     entree    13\n",
       "2        taco     entree     7\n",
       "3     edamame  appetizer     4\n",
       "4       fries  appetizer     4\n",
       "5  potsticker  appetizer     4\n",
       "6   ice cream    dessert     5"
      ]
     },
     "execution_count": 42,
     "metadata": {},
     "output_type": "execute_result"
    }
   ],
   "source": [
    "%%sql\n",
    "SELECT *\n",
    "FROM Dish;"
   ]
  },
  {
   "cell_type": "code",
   "execution_count": 43,
   "id": "b8fdab3a-0f93-4e39-b344-3a5068ae228b",
   "metadata": {},
   "outputs": [
    {
     "data": {
      "text/html": [
       "<span style=\"None\">Running query in &#x27;duckdb&#x27;</span>"
      ],
      "text/plain": [
       "Running query in 'duckdb'"
      ]
     },
     "metadata": {},
     "output_type": "display_data"
    },
    {
     "data": {
      "text/html": [
       "<div>\n",
       "<style scoped>\n",
       "    .dataframe tbody tr th:only-of-type {\n",
       "        vertical-align: middle;\n",
       "    }\n",
       "\n",
       "    .dataframe tbody tr th {\n",
       "        vertical-align: top;\n",
       "    }\n",
       "\n",
       "    .dataframe thead th {\n",
       "        text-align: right;\n",
       "    }\n",
       "</style>\n",
       "<table border=\"1\" class=\"dataframe\">\n",
       "  <thead>\n",
       "    <tr style=\"text-align: right;\">\n",
       "      <th></th>\n",
       "      <th>type</th>\n",
       "    </tr>\n",
       "  </thead>\n",
       "  <tbody>\n",
       "    <tr>\n",
       "      <th>0</th>\n",
       "      <td>entree</td>\n",
       "    </tr>\n",
       "    <tr>\n",
       "      <th>1</th>\n",
       "      <td>entree</td>\n",
       "    </tr>\n",
       "    <tr>\n",
       "      <th>2</th>\n",
       "      <td>entree</td>\n",
       "    </tr>\n",
       "    <tr>\n",
       "      <th>3</th>\n",
       "      <td>appetizer</td>\n",
       "    </tr>\n",
       "    <tr>\n",
       "      <th>4</th>\n",
       "      <td>appetizer</td>\n",
       "    </tr>\n",
       "    <tr>\n",
       "      <th>5</th>\n",
       "      <td>appetizer</td>\n",
       "    </tr>\n",
       "    <tr>\n",
       "      <th>6</th>\n",
       "      <td>dessert</td>\n",
       "    </tr>\n",
       "  </tbody>\n",
       "</table>\n",
       "</div>"
      ],
      "text/plain": [
       "        type\n",
       "0     entree\n",
       "1     entree\n",
       "2     entree\n",
       "3  appetizer\n",
       "4  appetizer\n",
       "5  appetizer\n",
       "6    dessert"
      ]
     },
     "execution_count": 43,
     "metadata": {},
     "output_type": "execute_result"
    }
   ],
   "source": [
    "%%sql\n",
    "SELECT type\n",
    "FROM Dish;"
   ]
  },
  {
   "cell_type": "code",
   "execution_count": 44,
   "id": "6369bcf3-c7ae-46e3-8b63-c6adfd6e9611",
   "metadata": {},
   "outputs": [
    {
     "data": {
      "text/html": [
       "<span style=\"None\">Running query in &#x27;duckdb&#x27;</span>"
      ],
      "text/plain": [
       "Running query in 'duckdb'"
      ]
     },
     "metadata": {},
     "output_type": "display_data"
    },
    {
     "data": {
      "text/html": [
       "<div>\n",
       "<style scoped>\n",
       "    .dataframe tbody tr th:only-of-type {\n",
       "        vertical-align: middle;\n",
       "    }\n",
       "\n",
       "    .dataframe tbody tr th {\n",
       "        vertical-align: top;\n",
       "    }\n",
       "\n",
       "    .dataframe thead th {\n",
       "        text-align: right;\n",
       "    }\n",
       "</style>\n",
       "<table border=\"1\" class=\"dataframe\">\n",
       "  <thead>\n",
       "    <tr style=\"text-align: right;\">\n",
       "      <th></th>\n",
       "      <th>type</th>\n",
       "    </tr>\n",
       "  </thead>\n",
       "  <tbody>\n",
       "    <tr>\n",
       "      <th>0</th>\n",
       "      <td>entree</td>\n",
       "    </tr>\n",
       "    <tr>\n",
       "      <th>1</th>\n",
       "      <td>dessert</td>\n",
       "    </tr>\n",
       "    <tr>\n",
       "      <th>2</th>\n",
       "      <td>appetizer</td>\n",
       "    </tr>\n",
       "  </tbody>\n",
       "</table>\n",
       "</div>"
      ],
      "text/plain": [
       "        type\n",
       "0     entree\n",
       "1    dessert\n",
       "2  appetizer"
      ]
     },
     "execution_count": 44,
     "metadata": {},
     "output_type": "execute_result"
    }
   ],
   "source": [
    "%%sql\n",
    "SELECT type\n",
    "FROM Dish\n",
    "GROUP BY type;"
   ]
  },
  {
   "cell_type": "code",
   "execution_count": 45,
   "id": "50792e27-c504-43a3-9e65-a1f2aa891828",
   "metadata": {},
   "outputs": [
    {
     "data": {
      "text/html": [
       "<span style=\"None\">Running query in &#x27;duckdb&#x27;</span>"
      ],
      "text/plain": [
       "Running query in 'duckdb'"
      ]
     },
     "metadata": {},
     "output_type": "display_data"
    },
    {
     "data": {
      "text/html": [
       "<div>\n",
       "<style scoped>\n",
       "    .dataframe tbody tr th:only-of-type {\n",
       "        vertical-align: middle;\n",
       "    }\n",
       "\n",
       "    .dataframe tbody tr th {\n",
       "        vertical-align: top;\n",
       "    }\n",
       "\n",
       "    .dataframe thead th {\n",
       "        text-align: right;\n",
       "    }\n",
       "</style>\n",
       "<table border=\"1\" class=\"dataframe\">\n",
       "  <thead>\n",
       "    <tr style=\"text-align: right;\">\n",
       "      <th></th>\n",
       "      <th>type</th>\n",
       "      <th>sum(\"cost\")</th>\n",
       "    </tr>\n",
       "  </thead>\n",
       "  <tbody>\n",
       "    <tr>\n",
       "      <th>0</th>\n",
       "      <td>appetizer</td>\n",
       "      <td>12.0</td>\n",
       "    </tr>\n",
       "    <tr>\n",
       "      <th>1</th>\n",
       "      <td>entree</td>\n",
       "      <td>30.0</td>\n",
       "    </tr>\n",
       "    <tr>\n",
       "      <th>2</th>\n",
       "      <td>dessert</td>\n",
       "      <td>5.0</td>\n",
       "    </tr>\n",
       "  </tbody>\n",
       "</table>\n",
       "</div>"
      ],
      "text/plain": [
       "        type  sum(\"cost\")\n",
       "0  appetizer         12.0\n",
       "1     entree         30.0\n",
       "2    dessert          5.0"
      ]
     },
     "execution_count": 45,
     "metadata": {},
     "output_type": "execute_result"
    }
   ],
   "source": [
    "%%sql\n",
    "SELECT type, SUM(cost)\n",
    "FROM Dish\n",
    "GROUP BY type;"
   ]
  },
  {
   "cell_type": "code",
   "execution_count": 46,
   "id": "cd7495a5-0008-49ba-abb7-4e9da953f5a6",
   "metadata": {},
   "outputs": [
    {
     "data": {
      "text/html": [
       "<span style=\"None\">Running query in &#x27;duckdb&#x27;</span>"
      ],
      "text/plain": [
       "Running query in 'duckdb'"
      ]
     },
     "metadata": {},
     "output_type": "display_data"
    },
    {
     "data": {
      "text/html": [
       "<div>\n",
       "<style scoped>\n",
       "    .dataframe tbody tr th:only-of-type {\n",
       "        vertical-align: middle;\n",
       "    }\n",
       "\n",
       "    .dataframe tbody tr th {\n",
       "        vertical-align: top;\n",
       "    }\n",
       "\n",
       "    .dataframe thead th {\n",
       "        text-align: right;\n",
       "    }\n",
       "</style>\n",
       "<table border=\"1\" class=\"dataframe\">\n",
       "  <thead>\n",
       "    <tr style=\"text-align: right;\">\n",
       "      <th></th>\n",
       "      <th>type</th>\n",
       "      <th>sum(\"cost\")</th>\n",
       "      <th>min(\"cost\")</th>\n",
       "      <th>max(\"name\")</th>\n",
       "    </tr>\n",
       "  </thead>\n",
       "  <tbody>\n",
       "    <tr>\n",
       "      <th>0</th>\n",
       "      <td>entree</td>\n",
       "      <td>30.0</td>\n",
       "      <td>7</td>\n",
       "      <td>taco</td>\n",
       "    </tr>\n",
       "    <tr>\n",
       "      <th>1</th>\n",
       "      <td>dessert</td>\n",
       "      <td>5.0</td>\n",
       "      <td>5</td>\n",
       "      <td>ice cream</td>\n",
       "    </tr>\n",
       "    <tr>\n",
       "      <th>2</th>\n",
       "      <td>appetizer</td>\n",
       "      <td>12.0</td>\n",
       "      <td>4</td>\n",
       "      <td>potsticker</td>\n",
       "    </tr>\n",
       "  </tbody>\n",
       "</table>\n",
       "</div>"
      ],
      "text/plain": [
       "        type  sum(\"cost\")  min(\"cost\") max(\"name\")\n",
       "0     entree         30.0            7        taco\n",
       "1    dessert          5.0            5   ice cream\n",
       "2  appetizer         12.0            4  potsticker"
      ]
     },
     "execution_count": 46,
     "metadata": {},
     "output_type": "execute_result"
    }
   ],
   "source": [
    "%%sql\n",
    "SELECT type, \n",
    "       SUM(cost), \n",
    "       MIN(cost),\n",
    "       MAX(name)\n",
    "FROM Dish\n",
    "GROUP BY type;"
   ]
  }
 ],
 "metadata": {
  "kernelspec": {
   "display_name": "Python 3 (ipykernel)",
   "language": "python",
   "name": "python3"
  },
  "language_info": {
   "codemirror_mode": {
    "name": "ipython",
    "version": 3
   },
   "file_extension": ".py",
   "mimetype": "text/x-python",
   "name": "python",
   "nbconvert_exporter": "python",
   "pygments_lexer": "ipython3",
   "version": "3.11.11"
  },
  "vscode": {
   "interpreter": {
    "hash": "b0fa6594d8f4cbf19f97940f81e996739fb7646882a419484c72d19e05852a7e"
   }
  }
 },
 "nbformat": 4,
 "nbformat_minor": 5
}
