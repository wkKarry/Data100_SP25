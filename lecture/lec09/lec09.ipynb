{
 "cells": [
  {
   "cell_type": "markdown",
   "id": "8848a155-69fb-4e89-b179-ebc52a2d9009",
   "metadata": {},
   "source": [
    "\n",
    "# 🗳️ Lecture 9 – Data 100, Spring 2025\n",
    "\n",
    "Data 100, Spring 2025\n",
    "\n",
    "[Acknowledgments Page](https://ds100.org/sp25/acks/)"
   ]
  },
  {
   "cell_type": "markdown",
   "id": "ee315693",
   "metadata": {},
   "source": [
    "<img src=\"lit-digest-results.jpg\" width=\"600\">"
   ]
  },
  {
   "cell_type": "markdown",
   "id": "18a0d947",
   "metadata": {},
   "source": [
    "The picture above shows the poll results printed in Literary Digest in 1936. You might think about how tedious it would be to tabulate 2.4 million responses and organize the results in this table **by hand**. We will use this data later in the demo."
   ]
  },
  {
   "cell_type": "code",
   "execution_count": null,
   "id": "69c92aba-18f9-43d7-90a7-9c850375cbaf",
   "metadata": {},
   "outputs": [],
   "source": [
    "import matplotlib.pyplot as plt\n",
    "import numpy as np\n",
    "import pandas as pd\n",
    "import seaborn as sns\n",
    "import zipfile\n",
    "\n",
    "sns.set_theme(style='darkgrid', font_scale = 1.5,\n",
    "              rc={'figure.figsize':(7,5)})"
   ]
  },
  {
   "cell_type": "markdown",
   "id": "6fc02f3c-6adc-445a-9419-cd0c1b264e62",
   "metadata": {
    "tags": []
   },
   "source": [
    "## 🇺🇸 1936 Presidential Election Results\n",
    "\n",
    "Let's start with the real election results from the 1936 election.\n",
    "\n",
    "* Each row of `votes` represents a single voter.\n",
    "* `voted_dem` is 0/1 variable indicating whether the voter voted for Franklin D. Roosevelt, who was the Democratic candidate in 1936. If 0, the voter voted for Alf Landon, the Republican candidate.\n",
    "\n",
    "Votes for other parties are excluded from this dataset.\n"
   ]
  },
  {
   "cell_type": "code",
   "execution_count": 3,
   "id": "143c1a2c-370c-42f9-b7f8-117b3b93d7f9",
   "metadata": {
    "tags": []
   },
   "outputs": [
    {
     "data": {
      "text/html": [
       "<div>\n",
       "<style scoped>\n",
       "    .dataframe tbody tr th:only-of-type {\n",
       "        vertical-align: middle;\n",
       "    }\n",
       "\n",
       "    .dataframe tbody tr th {\n",
       "        vertical-align: top;\n",
       "    }\n",
       "\n",
       "    .dataframe thead th {\n",
       "        text-align: right;\n",
       "    }\n",
       "</style>\n",
       "<table border=\"1\" class=\"dataframe\">\n",
       "  <thead>\n",
       "    <tr style=\"text-align: right;\">\n",
       "      <th></th>\n",
       "      <th>voted_dem</th>\n",
       "    </tr>\n",
       "  </thead>\n",
       "  <tbody>\n",
       "    <tr>\n",
       "      <th>0</th>\n",
       "      <td>1</td>\n",
       "    </tr>\n",
       "    <tr>\n",
       "      <th>1</th>\n",
       "      <td>1</td>\n",
       "    </tr>\n",
       "    <tr>\n",
       "      <th>2</th>\n",
       "      <td>0</td>\n",
       "    </tr>\n",
       "    <tr>\n",
       "      <th>3</th>\n",
       "      <td>1</td>\n",
       "    </tr>\n",
       "    <tr>\n",
       "      <th>4</th>\n",
       "      <td>1</td>\n",
       "    </tr>\n",
       "  </tbody>\n",
       "</table>\n",
       "</div>"
      ],
      "text/plain": [
       "   voted_dem\n",
       "0          1\n",
       "1          1\n",
       "2          0\n",
       "3          1\n",
       "4          1"
      ]
     },
     "execution_count": 3,
     "metadata": {},
     "output_type": "execute_result"
    }
   ],
   "source": [
    "# The large CSV containing all the votes is compressed to reduce storage size.\n",
    "# This code unzips the file and reads the CSV into a pandas DataFrame.\n",
    "# No need to be familiar with the unzipping code for Data 100!\n",
    "with zipfile.ZipFile(\"1936_votes.zip\", 'r') as z:\n",
    "    with z.open(\"1936_votes.csv\") as csv_file:\n",
    "        votes = pd.read_csv(csv_file)\n",
    "\n",
    "votes.head()"
   ]
  },
  {
   "cell_type": "markdown",
   "id": "dbc228e4",
   "metadata": {},
   "source": [
    "How many votes were cast for either Roosevelt or Landon in 1936?"
   ]
  },
  {
   "cell_type": "code",
   "execution_count": 4,
   "id": "7460efea",
   "metadata": {},
   "outputs": [
    {
     "data": {
      "text/plain": [
       "44430549"
      ]
     },
     "execution_count": 4,
     "metadata": {},
     "output_type": "execute_result"
    }
   ],
   "source": [
    "len(votes)"
   ]
  },
  {
   "cell_type": "markdown",
   "id": "a170ed3e",
   "metadata": {},
   "source": [
    "What fraction of voters voted for Roosevelt, the Democratic candidate?"
   ]
  },
  {
   "cell_type": "code",
   "execution_count": 5,
   "id": "10267baa",
   "metadata": {},
   "outputs": [
    {
     "data": {
      "text/plain": [
       "0.6245897614274358"
      ]
     },
     "execution_count": 5,
     "metadata": {},
     "output_type": "execute_result"
    }
   ],
   "source": [
    "votes['voted_dem'].sum() / len(votes)"
   ]
  },
  {
   "cell_type": "markdown",
   "id": "0366a3a8",
   "metadata": {},
   "source": [
    "> But wait, don't the slides say that Roosevelt won 61% of the vote?\n",
    ">\n",
    "> Yes! But, he won 61% of **all** votes. If we filter to just the voters who\n",
    "> voted for Roosevelt or Landon, Roosevelt won 62.5% of votes."
   ]
  },
  {
   "cell_type": "markdown",
   "id": "e04a30cd",
   "metadata": {},
   "source": [
    "Useful tip: The mean of a 0/1 column is the same as the proportion of values that are 1."
   ]
  },
  {
   "cell_type": "code",
   "execution_count": 6,
   "id": "72f53f03",
   "metadata": {},
   "outputs": [
    {
     "data": {
      "text/plain": [
       "0.6245897614274358"
      ]
     },
     "execution_count": 6,
     "metadata": {},
     "output_type": "execute_result"
    }
   ],
   "source": [
    "votes['voted_dem'].mean()"
   ]
  },
  {
   "cell_type": "markdown",
   "id": "43d2a184-f19f-4612-b441-83197cd7c994",
   "metadata": {},
   "source": [
    "Of the **44,430,549** voters who voted for either Roosevelt or Landon, **62.5\\%** voted for Roosevelt."
   ]
  },
  {
   "cell_type": "markdown",
   "id": "d7114fc0",
   "metadata": {},
   "source": [
    "## 🎩 Simple Random Sample (SRS)\n",
    "\n",
    "Note: An SRS is sometimes called a \"names in a hat\" sample, since it's a lot like putting each observation on a slip of paper, putting all the slips in a big hat, and then randomly drawing slips one at a time.\n",
    "\n",
    "If we were to take a simple random sample of just 1,000 voters and calculate the proportion who planned to vote for Roosevelt, how close would we be to 62.5%?"
   ]
  },
  {
   "cell_type": "code",
   "execution_count": 7,
   "id": "2e3d54c6",
   "metadata": {},
   "outputs": [
    {
     "data": {
      "text/plain": [
       "0.628"
      ]
     },
     "execution_count": 7,
     "metadata": {},
     "output_type": "execute_result"
    }
   ],
   "source": [
    "votes['voted_dem'].sample(1000).mean()"
   ]
  },
  {
   "cell_type": "markdown",
   "id": "5c81504a",
   "metadata": {},
   "source": [
    "Note that the cell above is a little slow, since we're sampling from a `DataFrame` with almost 45 million rows.\n",
    "\n",
    "We can speed up the sampling using `NumPy`:"
   ]
  },
  {
   "cell_type": "code",
   "execution_count": 8,
   "id": "ceff4318",
   "metadata": {},
   "outputs": [
    {
     "data": {
      "text/plain": [
       "0.614"
      ]
     },
     "execution_count": 8,
     "metadata": {},
     "output_type": "execute_result"
    }
   ],
   "source": [
    "# Construct a random number generator object.\n",
    "# No need to be familiar with using NumPy this way in Data 100!\n",
    "rng = np.random.default_rng()\n",
    "\n",
    "n_votes = len(votes)\n",
    "\n",
    "# Generate 1000 random integers from 0 to (number of votes - 1)\n",
    "idx = rng.integers(low=0, high=n_votes-1, size=1000)\n",
    "\n",
    "votes['voted_dem'].iloc[idx].mean()"
   ]
  },
  {
   "cell_type": "markdown",
   "id": "d38c4c91",
   "metadata": {},
   "source": [
    "Both of the estimates above are pretty close to 62.5%! They are much closer than the estimate from the Literary Digest poll, which predicted that 43% of votes would go to Roosevelt.\n",
    "\n",
    "This is no fluke! If we repeat this over and over, we tend to hover around 62.5%. "
   ]
  },
  {
   "cell_type": "code",
   "execution_count": 9,
   "id": "9635f724",
   "metadata": {},
   "outputs": [
    {
     "name": "stdout",
     "output_type": "stream",
     "text": [
      "0.622\n",
      "0.638\n",
      "0.613\n",
      "0.654\n",
      "0.635\n",
      "0.624\n",
      "0.648\n",
      "0.635\n",
      "0.628\n",
      "0.623\n"
     ]
    }
   ],
   "source": [
    "for _ in range(10):\n",
    "  idx = rng.integers(low=0, high=n_votes-1, size=1000)\n",
    "  print(votes['voted_dem'].iloc[idx].mean())"
   ]
  },
  {
   "cell_type": "markdown",
   "id": "6bcbb52d",
   "metadata": {},
   "source": [
    "Let's randomly generate 10,000 estimates:"
   ]
  },
  {
   "cell_type": "code",
   "execution_count": 10,
   "id": "930eb047",
   "metadata": {},
   "outputs": [
    {
     "data": {
      "text/plain": [
       "[0.617, 0.65, 0.636, 0.61, 0.62, 0.621, 0.637, 0.619, 0.613, 0.59]"
      ]
     },
     "execution_count": 10,
     "metadata": {},
     "output_type": "execute_result"
    }
   ],
   "source": [
    "nrep = 10000   # number of simulations\n",
    "n = 1000       # size of our sample\n",
    "results = []   # list to store the sampling results\n",
    "\n",
    "for i in range(0, nrep):\n",
    "    idx = rng.integers(low=0, high=n_votes, size=1000)\n",
    "    results.append(votes['voted_dem'].iloc[idx].mean())\n",
    "\n",
    "# First 10 simulated sample proportions\n",
    "results[:10]"
   ]
  },
  {
   "cell_type": "markdown",
   "id": "b0d84674",
   "metadata": {},
   "source": [
    "Plotting our estimates with KDE:"
   ]
  },
  {
   "cell_type": "code",
   "execution_count": 11,
   "id": "2a6e6f29",
   "metadata": {},
   "outputs": [
    {
     "data": {
      "image/png": "[encoded data removed]",
      "text/plain": [
       "<Figure size 864x216 with 1 Axes>"
      ]
     },
     "metadata": {
      "needs_background": "light"
     },
     "output_type": "display_data"
    }
   ],
   "source": [
    "plt.figure(figsize=(12, 3))\n",
    "p = sns.histplot(x=results, kde=True, bins=10)\n",
    "\n",
    "# Make x-axis centered at 0.625 with 0.01 intervals\n",
    "p.set_xticks(np.arange(0.625 - 5 * 0.01, 0.625 + 5 * 0.01, 0.01));"
   ]
  },
  {
   "cell_type": "markdown",
   "id": "bfd20929",
   "metadata": {},
   "source": [
    "We get an approximate normal distribution centered around 62.5%, with most of the mass of the distribution (say, 95\\% of the mass) within about 3 percentage points (0.03) on each side.\n",
    "\n",
    "As it turns out, with a sample size of 1000, our estimate of the proportion of voters supporting Roosevelt has a margin of error of about 3 percentage points (3pp) at a 95\\% confidence level (CL), so long as we take a simple random sample (SRS) of actual voters. \n",
    "\n",
    "- Note: You tend to see 3pp and 95% CL quite a lot in political polling! \n",
    "\n",
    "We'll learn what these values mean and how to calculate them when we (re)learn the Central Limit Theorem later in the semester.\n",
    "\n",
    "<br><br>\n",
    "\n",
    "**Instructor Note: Return to slides!**"
   ]
  },
  {
   "cell_type": "markdown",
   "id": "08b7b196-d446-4cb7-9381-5e5d841c4c46",
   "metadata": {},
   "source": [
    "## ⏪ Revisiting the 1936 Literary Digest Poll\n",
    "\n",
    "The `poll` `DataFrame` contains a summary of the 1936 Literary Digest Poll, along with polling results and actual election results from 1932 and 1936.\n",
    "\n",
    "* Each row of `poll` represents a U.S. state.\n",
    "* `state`: name of the U.S. state.\n",
    "* `electoral_votes`: # electoral votes allocated to the given state.\n",
    "* `actual_dem_1936`: # votes for Roosevelt (the Democratic candidate) in 1936.\n",
    "* `actual_rep_1936`: # votes for Landon (the Republican candidate) in 1936.\n",
    "* `ld_dem_1936`: # Literary Digest respondents who planned to vote for Roosevelt in 1936.\n",
    "* `ld_rep_1936`: # Literary Digest respondents who plannted to vote for Landon in 1936.\n",
    "\n",
    "Literary Digest also had a 1932 poll! We will use this data for post-stratification:\n",
    "* `actual_dem_1932`: # votes for the Democratic candidate in 1932.\n",
    "* `actual_rep_1932`: # votes for the Republican candidate in 1932.\n",
    "* `ld_dem_1932`: # of 1936 Literary Digest respondents who voted for the Democratic candidate in 1932.\n",
    "* `ld_rep_1932`: # of 1936 Literary Digest respondents who voted for Republican candidate in 1932.\n",
    "\n",
    "Note: Votes from parties other than Democratic and Republican are excluded from this dataset."
   ]
  },
  {
   "cell_type": "code",
   "execution_count": 12,
   "id": "6535d8a2",
   "metadata": {},
   "outputs": [
    {
     "data": {
      "text/html": [
       "<div>\n",
       "<style scoped>\n",
       "    .dataframe tbody tr th:only-of-type {\n",
       "        vertical-align: middle;\n",
       "    }\n",
       "\n",
       "    .dataframe tbody tr th {\n",
       "        vertical-align: top;\n",
       "    }\n",
       "\n",
       "    .dataframe thead th {\n",
       "        text-align: right;\n",
       "    }\n",
       "</style>\n",
       "<table border=\"1\" class=\"dataframe\">\n",
       "  <thead>\n",
       "    <tr style=\"text-align: right;\">\n",
       "      <th></th>\n",
       "      <th>state</th>\n",
       "      <th>electoral_votes</th>\n",
       "      <th>actual_dem_1936</th>\n",
       "      <th>actual_rep_1936</th>\n",
       "      <th>ld_rep_1936</th>\n",
       "      <th>ld_dem_1936</th>\n",
       "      <th>actual_dem_1932</th>\n",
       "      <th>actual_rep_1932</th>\n",
       "      <th>ld_dem_1932</th>\n",
       "      <th>ld_rep_1932</th>\n",
       "    </tr>\n",
       "  </thead>\n",
       "  <tbody>\n",
       "    <tr>\n",
       "      <th>0</th>\n",
       "      <td>Alabama</td>\n",
       "      <td>11</td>\n",
       "      <td>238196</td>\n",
       "      <td>35358</td>\n",
       "      <td>3060</td>\n",
       "      <td>10082</td>\n",
       "      <td>207910</td>\n",
       "      <td>34675</td>\n",
       "      <td>9828</td>\n",
       "      <td>1589</td>\n",
       "    </tr>\n",
       "    <tr>\n",
       "      <th>1</th>\n",
       "      <td>Arizona</td>\n",
       "      <td>3</td>\n",
       "      <td>86722</td>\n",
       "      <td>33433</td>\n",
       "      <td>2337</td>\n",
       "      <td>1975</td>\n",
       "      <td>79264</td>\n",
       "      <td>36104</td>\n",
       "      <td>2202</td>\n",
       "      <td>1679</td>\n",
       "    </tr>\n",
       "    <tr>\n",
       "      <th>2</th>\n",
       "      <td>Arkansas</td>\n",
       "      <td>9</td>\n",
       "      <td>146765</td>\n",
       "      <td>32049</td>\n",
       "      <td>2724</td>\n",
       "      <td>7608</td>\n",
       "      <td>189602</td>\n",
       "      <td>28467</td>\n",
       "      <td>7608</td>\n",
       "      <td>1566</td>\n",
       "    </tr>\n",
       "    <tr>\n",
       "      <th>3</th>\n",
       "      <td>California</td>\n",
       "      <td>22</td>\n",
       "      <td>1766836</td>\n",
       "      <td>836431</td>\n",
       "      <td>89516</td>\n",
       "      <td>77245</td>\n",
       "      <td>1324157</td>\n",
       "      <td>847902</td>\n",
       "      <td>69720</td>\n",
       "      <td>80525</td>\n",
       "    </tr>\n",
       "    <tr>\n",
       "      <th>4</th>\n",
       "      <td>Colorado</td>\n",
       "      <td>6</td>\n",
       "      <td>295021</td>\n",
       "      <td>181267</td>\n",
       "      <td>15949</td>\n",
       "      <td>10025</td>\n",
       "      <td>250877</td>\n",
       "      <td>189617</td>\n",
       "      <td>9970</td>\n",
       "      <td>13619</td>\n",
       "    </tr>\n",
       "  </tbody>\n",
       "</table>\n",
       "</div>"
      ],
      "text/plain": [
       "        state  electoral_votes  actual_dem_1936  actual_rep_1936  ld_rep_1936  \\\n",
       "0     Alabama               11           238196            35358         3060   \n",
       "1     Arizona                3            86722            33433         2337   \n",
       "2    Arkansas                9           146765            32049         2724   \n",
       "3  California               22          1766836           836431        89516   \n",
       "4    Colorado                6           295021           181267        15949   \n",
       "\n",
       "   ld_dem_1936  actual_dem_1932  actual_rep_1932  ld_dem_1932  ld_rep_1932  \n",
       "0        10082           207910            34675         9828         1589  \n",
       "1         1975            79264            36104         2202         1679  \n",
       "2         7608           189602            28467         7608         1566  \n",
       "3        77245          1324157           847902        69720        80525  \n",
       "4        10025           250877           189617         9970        13619  "
      ]
     },
     "execution_count": 12,
     "metadata": {},
     "output_type": "execute_result"
    }
   ],
   "source": [
    "poll = pd.read_csv('literary-digest-summary-data.csv')\n",
    "poll.head()"
   ]
  },
  {
   "cell_type": "markdown",
   "id": "428b6fc0",
   "metadata": {},
   "source": [
    "As a sanity check, let's make sure we have the same number of votes as the first dataset (44,430,549):"
   ]
  },
  {
   "cell_type": "code",
   "execution_count": 13,
   "id": "3bc53567",
   "metadata": {},
   "outputs": [
    {
     "data": {
      "text/plain": [
       "44430549"
      ]
     },
     "execution_count": 13,
     "metadata": {},
     "output_type": "execute_result"
    }
   ],
   "source": [
    "poll['actual_dem_1936'].sum() + poll['actual_rep_1936'].sum()"
   ]
  },
  {
   "cell_type": "markdown",
   "id": "0f569ed7",
   "metadata": {},
   "source": [
    "Let's also check that we get the reported Literary Digest prediction of 43% for Roosevelt.\n",
    "\n",
    "- Remember, Roosevelt received 62.5% of the actual vote."
   ]
  },
  {
   "cell_type": "code",
   "execution_count": 14,
   "id": "dbd43870",
   "metadata": {},
   "outputs": [
    {
     "data": {
      "text/plain": [
       "0.4289439704056572"
      ]
     },
     "execution_count": 14,
     "metadata": {},
     "output_type": "execute_result"
    }
   ],
   "source": [
    "poll['ld_dem_1936'].sum() / (poll['ld_dem_1936'].sum() + poll['ld_rep_1936'].sum())"
   ]
  },
  {
   "cell_type": "markdown",
   "id": "c38071f0",
   "metadata": {},
   "source": [
    "## 🥞 Post-stratification with Literary Digest responses from 1932 and 1936\n",
    "\n",
    "Using **post-stratification**, let's see if we can improve the Literary Digest poll result using the **same information available to Literary Digest in 1936**. \n",
    "\n",
    "- In other words, without using data from the future!\n",
    "\n",
    "Recall the steps of post-stratification:\n",
    "1. Divide the sample and population into cells defined by chosen characteristics.\n",
    "2. Calculate the overall response in each sample cell.\n",
    "3. Aggregate over sample cells, reweighting by the size of the corresponding population cell.\n",
    "\n",
    "**Sample**: Responses to the Literary Digest poll from 1932, among 1936 poll respondents\n",
    "\n",
    "**Population**: The actual election outcomes in 1932\n",
    "\n",
    "**Cells**: Every combination of state and political party\n",
    "\n",
    "> Wait, aren't we interested in the 1936 Literary Digest poll?\n",
    "> \n",
    "> - Yes! But, we can use responses from the older 1932 poll and 1932 election results to get our **sample cell weights**, and then use these weights to turn the 1936 poll results into a prediction of the 1936 election results.\n",
    ">\n",
    "> - Note that this approach assumes that over- and under-representation of voters among the poll respondents in state and party is the same in 1932 and 1936!\n",
    "\n",
    "Let's start with step 1. We divide our population and sample into cells defined by each combination of **state** and **choice of party in 1932**:\n",
    "\n",
    "- Cell 1: Alabama + Republican in 1932\n",
    "- Cell 2: Alabama + Democratic in 1932\n",
    "- Cell 3: Arizona + Republican in 1932\n",
    "- Cell 4: Arizona + Democratic in 1932\n",
    "- ...\n",
    "\n",
    "> Note: Alaska and Hawaii were not U.S. states until after 1936.\n",
    "\n",
    "The population cells are already in `polls`: `actual_dem_1932` and `actual_rep_1932` provide the actual vote counts for each party and state in 1932.\n",
    "\n",
    "The sample cells are also in `polls`: `ld_dem_1932` and `ld_rep_1932` provide the number of responses to the 1932 Literary Digest poll, among 1936 poll respondents, for each party.\n",
    "\n",
    "Let's make the **big** assumption that respondents in `ld_dem_1932` are representative of all voters in `actual_dem_1932` for each state, and the same for `ld_rep_1932` and `actual_rep_1932`.\n",
    "\n",
    "- In other words, we claim that response rates and outreach for Democrats and Republicans from each state in 1932 can differ, but ultimately **poll respondents from a particular party+state combination are representative of actual voters for each party+state combination**.\n",
    "\n",
    "- Then, we can calculate the **reweighting factor**, or how over- or under-represented poll respondents are relative to actual voters.\n",
    "\n",
    "- All we need to do is divide the actual vote counts by the corresponding number of respondents, for each combination of party and state."
   ]
  },
  {
   "cell_type": "code",
   "execution_count": 15,
   "id": "a37dbea9",
   "metadata": {},
   "outputs": [
    {
     "data": {
      "text/html": [
       "<div>\n",
       "<style scoped>\n",
       "    .dataframe tbody tr th:only-of-type {\n",
       "        vertical-align: middle;\n",
       "    }\n",
       "\n",
       "    .dataframe tbody tr th {\n",
       "        vertical-align: top;\n",
       "    }\n",
       "\n",
       "    .dataframe thead th {\n",
       "        text-align: right;\n",
       "    }\n",
       "</style>\n",
       "<table border=\"1\" class=\"dataframe\">\n",
       "  <thead>\n",
       "    <tr style=\"text-align: right;\">\n",
       "      <th></th>\n",
       "      <th>state</th>\n",
       "      <th>electoral_votes</th>\n",
       "      <th>actual_dem_1936</th>\n",
       "      <th>actual_rep_1936</th>\n",
       "      <th>ld_rep_1936</th>\n",
       "      <th>ld_dem_1936</th>\n",
       "      <th>actual_dem_1932</th>\n",
       "      <th>actual_rep_1932</th>\n",
       "      <th>ld_dem_1932</th>\n",
       "      <th>ld_rep_1932</th>\n",
       "      <th>dem_reweight_factor</th>\n",
       "      <th>rep_reweight_factor</th>\n",
       "    </tr>\n",
       "  </thead>\n",
       "  <tbody>\n",
       "    <tr>\n",
       "      <th>43</th>\n",
       "      <td>Virginia</td>\n",
       "      <td>11</td>\n",
       "      <td>234980</td>\n",
       "      <td>98336</td>\n",
       "      <td>10223</td>\n",
       "      <td>16783</td>\n",
       "      <td>203979</td>\n",
       "      <td>89637</td>\n",
       "      <td>16194</td>\n",
       "      <td>6817</td>\n",
       "      <td>12.595961</td>\n",
       "      <td>13.149039</td>\n",
       "    </tr>\n",
       "    <tr>\n",
       "      <th>44</th>\n",
       "      <td>Washington</td>\n",
       "      <td>8</td>\n",
       "      <td>459579</td>\n",
       "      <td>206892</td>\n",
       "      <td>21370</td>\n",
       "      <td>15300</td>\n",
       "      <td>353260</td>\n",
       "      <td>208645</td>\n",
       "      <td>16223</td>\n",
       "      <td>17122</td>\n",
       "      <td>21.775257</td>\n",
       "      <td>12.185784</td>\n",
       "    </tr>\n",
       "    <tr>\n",
       "      <th>45</th>\n",
       "      <td>West Virginia</td>\n",
       "      <td>8</td>\n",
       "      <td>502582</td>\n",
       "      <td>325358</td>\n",
       "      <td>13660</td>\n",
       "      <td>10235</td>\n",
       "      <td>405124</td>\n",
       "      <td>330731</td>\n",
       "      <td>10818</td>\n",
       "      <td>11338</td>\n",
       "      <td>37.449066</td>\n",
       "      <td>29.170136</td>\n",
       "    </tr>\n",
       "    <tr>\n",
       "      <th>46</th>\n",
       "      <td>Wisconsin</td>\n",
       "      <td>12</td>\n",
       "      <td>802984</td>\n",
       "      <td>380828</td>\n",
       "      <td>33796</td>\n",
       "      <td>20781</td>\n",
       "      <td>707410</td>\n",
       "      <td>347741</td>\n",
       "      <td>24073</td>\n",
       "      <td>25731</td>\n",
       "      <td>29.386034</td>\n",
       "      <td>13.514477</td>\n",
       "    </tr>\n",
       "    <tr>\n",
       "      <th>47</th>\n",
       "      <td>Wyoming</td>\n",
       "      <td>3</td>\n",
       "      <td>62624</td>\n",
       "      <td>38739</td>\n",
       "      <td>2526</td>\n",
       "      <td>1533</td>\n",
       "      <td>54370</td>\n",
       "      <td>39583</td>\n",
       "      <td>1654</td>\n",
       "      <td>2072</td>\n",
       "      <td>32.871826</td>\n",
       "      <td>19.103764</td>\n",
       "    </tr>\n",
       "  </tbody>\n",
       "</table>\n",
       "</div>"
      ],
      "text/plain": [
       "            state  electoral_votes  actual_dem_1936  actual_rep_1936  \\\n",
       "43       Virginia               11           234980            98336   \n",
       "44     Washington                8           459579           206892   \n",
       "45  West Virginia                8           502582           325358   \n",
       "46      Wisconsin               12           802984           380828   \n",
       "47        Wyoming                3            62624            38739   \n",
       "\n",
       "    ld_rep_1936  ld_dem_1936  actual_dem_1932  actual_rep_1932  ld_dem_1932  \\\n",
       "43        10223        16783           203979            89637        16194   \n",
       "44        21370        15300           353260           208645        16223   \n",
       "45        13660        10235           405124           330731        10818   \n",
       "46        33796        20781           707410           347741        24073   \n",
       "47         2526         1533            54370            39583         1654   \n",
       "\n",
       "    ld_rep_1932  dem_reweight_factor  rep_reweight_factor  \n",
       "43         6817            12.595961            13.149039  \n",
       "44        17122            21.775257            12.185784  \n",
       "45        11338            37.449066            29.170136  \n",
       "46        25731            29.386034            13.514477  \n",
       "47         2072            32.871826            19.103764  "
      ]
     },
     "execution_count": 15,
     "metadata": {},
     "output_type": "execute_result"
    }
   ],
   "source": [
    "poll['dem_reweight_factor'] = poll['actual_dem_1932'] / poll['ld_dem_1932']\n",
    "poll['rep_reweight_factor'] = poll['actual_rep_1932'] / poll['ld_rep_1932']\n",
    "poll.tail()"
   ]
  },
  {
   "cell_type": "markdown",
   "id": "7eff2d78",
   "metadata": {},
   "source": [
    "Note that `dem_reweight_factor` is about 36 for Arizona.\n",
    "\n",
    "- In other words, there were 36 times as many Democratic voters in Arizona than Democratic poll respondents.\n",
    "\n",
    "Similarly, `rep_reweight_factor` is about 21.5 for Arizona.\n",
    "\n",
    "- So, Democratic voters are **underrepresented** in the 1932 Literary Digest poll responses, relative to Republican voters.\n",
    "\n",
    "- Based on the Republican bias in the Literary Digest sample discussed in lecture (i.e., wealthier folks with phones, cars, and magazines), this is expected!"
   ]
  },
  {
   "cell_type": "markdown",
   "id": "851ba197",
   "metadata": {},
   "source": [
    "Next, we apply these same weights to inflate the 1936 poll results into vote predictions.\n",
    "\n",
    "- Again, note that this approach assumes over- and under-representation patterns are the same in the 1932 and 1936 polls!"
   ]
  },
  {
   "cell_type": "code",
   "execution_count": 16,
   "id": "6a7d179c",
   "metadata": {},
   "outputs": [
    {
     "data": {
      "text/html": [
       "<div>\n",
       "<style scoped>\n",
       "    .dataframe tbody tr th:only-of-type {\n",
       "        vertical-align: middle;\n",
       "    }\n",
       "\n",
       "    .dataframe tbody tr th {\n",
       "        vertical-align: top;\n",
       "    }\n",
       "\n",
       "    .dataframe thead th {\n",
       "        text-align: right;\n",
       "    }\n",
       "</style>\n",
       "<table border=\"1\" class=\"dataframe\">\n",
       "  <thead>\n",
       "    <tr style=\"text-align: right;\">\n",
       "      <th></th>\n",
       "      <th>state</th>\n",
       "      <th>electoral_votes</th>\n",
       "      <th>actual_dem_1936</th>\n",
       "      <th>actual_rep_1936</th>\n",
       "      <th>ld_rep_1936</th>\n",
       "      <th>ld_dem_1936</th>\n",
       "      <th>actual_dem_1932</th>\n",
       "      <th>actual_rep_1932</th>\n",
       "      <th>ld_dem_1932</th>\n",
       "      <th>ld_rep_1932</th>\n",
       "      <th>dem_reweight_factor</th>\n",
       "      <th>rep_reweight_factor</th>\n",
       "      <th>pred_dem_1936</th>\n",
       "      <th>pred_rep_1936</th>\n",
       "    </tr>\n",
       "  </thead>\n",
       "  <tbody>\n",
       "    <tr>\n",
       "      <th>0</th>\n",
       "      <td>Alabama</td>\n",
       "      <td>11</td>\n",
       "      <td>238196</td>\n",
       "      <td>35358</td>\n",
       "      <td>3060</td>\n",
       "      <td>10082</td>\n",
       "      <td>207910</td>\n",
       "      <td>34675</td>\n",
       "      <td>9828</td>\n",
       "      <td>1589</td>\n",
       "      <td>21.154864</td>\n",
       "      <td>21.821901</td>\n",
       "      <td>213283.0</td>\n",
       "      <td>66775.0</td>\n",
       "    </tr>\n",
       "    <tr>\n",
       "      <th>1</th>\n",
       "      <td>Arizona</td>\n",
       "      <td>3</td>\n",
       "      <td>86722</td>\n",
       "      <td>33433</td>\n",
       "      <td>2337</td>\n",
       "      <td>1975</td>\n",
       "      <td>79264</td>\n",
       "      <td>36104</td>\n",
       "      <td>2202</td>\n",
       "      <td>1679</td>\n",
       "      <td>35.996367</td>\n",
       "      <td>21.503276</td>\n",
       "      <td>71093.0</td>\n",
       "      <td>50253.0</td>\n",
       "    </tr>\n",
       "    <tr>\n",
       "      <th>2</th>\n",
       "      <td>Arkansas</td>\n",
       "      <td>9</td>\n",
       "      <td>146765</td>\n",
       "      <td>32049</td>\n",
       "      <td>2724</td>\n",
       "      <td>7608</td>\n",
       "      <td>189602</td>\n",
       "      <td>28467</td>\n",
       "      <td>7608</td>\n",
       "      <td>1566</td>\n",
       "      <td>24.921399</td>\n",
       "      <td>18.178161</td>\n",
       "      <td>189602.0</td>\n",
       "      <td>49517.0</td>\n",
       "    </tr>\n",
       "    <tr>\n",
       "      <th>3</th>\n",
       "      <td>California</td>\n",
       "      <td>22</td>\n",
       "      <td>1766836</td>\n",
       "      <td>836431</td>\n",
       "      <td>89516</td>\n",
       "      <td>77245</td>\n",
       "      <td>1324157</td>\n",
       "      <td>847902</td>\n",
       "      <td>69720</td>\n",
       "      <td>80525</td>\n",
       "      <td>18.992499</td>\n",
       "      <td>10.529674</td>\n",
       "      <td>1467076.0</td>\n",
       "      <td>942574.0</td>\n",
       "    </tr>\n",
       "    <tr>\n",
       "      <th>4</th>\n",
       "      <td>Colorado</td>\n",
       "      <td>6</td>\n",
       "      <td>295021</td>\n",
       "      <td>181267</td>\n",
       "      <td>15949</td>\n",
       "      <td>10025</td>\n",
       "      <td>250877</td>\n",
       "      <td>189617</td>\n",
       "      <td>9970</td>\n",
       "      <td>13619</td>\n",
       "      <td>25.163190</td>\n",
       "      <td>13.922975</td>\n",
       "      <td>252261.0</td>\n",
       "      <td>222058.0</td>\n",
       "    </tr>\n",
       "  </tbody>\n",
       "</table>\n",
       "</div>"
      ],
      "text/plain": [
       "        state  electoral_votes  actual_dem_1936  actual_rep_1936  ld_rep_1936  \\\n",
       "0     Alabama               11           238196            35358         3060   \n",
       "1     Arizona                3            86722            33433         2337   \n",
       "2    Arkansas                9           146765            32049         2724   \n",
       "3  California               22          1766836           836431        89516   \n",
       "4    Colorado                6           295021           181267        15949   \n",
       "\n",
       "   ld_dem_1936  actual_dem_1932  actual_rep_1932  ld_dem_1932  ld_rep_1932  \\\n",
       "0        10082           207910            34675         9828         1589   \n",
       "1         1975            79264            36104         2202         1679   \n",
       "2         7608           189602            28467         7608         1566   \n",
       "3        77245          1324157           847902        69720        80525   \n",
       "4        10025           250877           189617         9970        13619   \n",
       "\n",
       "   dem_reweight_factor  rep_reweight_factor  pred_dem_1936  pred_rep_1936  \n",
       "0            21.154864            21.821901       213283.0        66775.0  \n",
       "1            35.996367            21.503276        71093.0        50253.0  \n",
       "2            24.921399            18.178161       189602.0        49517.0  \n",
       "3            18.992499            10.529674      1467076.0       942574.0  \n",
       "4            25.163190            13.922975       252261.0       222058.0  "
      ]
     },
     "execution_count": 16,
     "metadata": {},
     "output_type": "execute_result"
    }
   ],
   "source": [
    "poll['pred_dem_1936'] = round(poll['ld_dem_1936'] * poll['dem_reweight_factor'])\n",
    "poll['pred_rep_1936'] = round(poll['ld_rep_1936'] * poll['rep_reweight_factor'])\n",
    "poll.head()"
   ]
  },
  {
   "cell_type": "markdown",
   "id": "0ba05b43",
   "metadata": {},
   "source": [
    "Finally, let's calculate the proportion of **predicted** votes that are allocated to Roosevelt in 1936.\n",
    "\n",
    "- Remember that Roosevelt received 62.5% of the **actual** vote in 1936. "
   ]
  },
  {
   "cell_type": "code",
   "execution_count": 17,
   "id": "b3b9af89",
   "metadata": {},
   "outputs": [
    {
     "data": {
      "text/plain": [
       "0.5422251022375592"
      ]
     },
     "execution_count": 17,
     "metadata": {},
     "output_type": "execute_result"
    }
   ],
   "source": [
    "poll['pred_dem_1936'].sum() / (poll['pred_dem_1936'].sum() + poll['pred_rep_1936'].sum())"
   ]
  },
  {
   "cell_type": "markdown",
   "id": "cfd0df53",
   "metadata": {},
   "source": [
    "54% is a majority! Using post-stratification, we have shifted the Literary Digest prediction of a Roosevelt loss with 43% of the vote to a (correct) Roosevelt win with 54%. \n",
    "\n",
    "- There is no cheating here; we used the same data available to Literary Digest in 1936.\n",
    "\n",
    "- Note that post-stratification is not perfect. We are still off by almost 10 percentage points. But, we've moved in the right direction."
   ]
  },
  {
   "cell_type": "markdown",
   "id": "783c1ae1",
   "metadata": {},
   "source": [
    "## 🎁 Bonus: Follow Up Improvements\n",
    "\n",
    "As a follow-up exercise, we can compare the predicted 1936 vote totals to the actual 1932 vote totals.\n",
    "\n",
    "- Then, we could apply a **correction factor** to change the predicted number of 1936 votes to be in line with the total number of votes in 1932.\n",
    "\n",
    "- This exercise assumes that the total number of votes cast in 1932 would be the same in 1936, but the poll response rates and outreach might change between 1932 and 1936."
   ]
  },
  {
   "cell_type": "code",
   "execution_count": 18,
   "id": "1ecd5213",
   "metadata": {},
   "outputs": [
    {
     "data": {
      "text/html": [
       "<div>\n",
       "<style scoped>\n",
       "    .dataframe tbody tr th:only-of-type {\n",
       "        vertical-align: middle;\n",
       "    }\n",
       "\n",
       "    .dataframe tbody tr th {\n",
       "        vertical-align: top;\n",
       "    }\n",
       "\n",
       "    .dataframe thead th {\n",
       "        text-align: right;\n",
       "    }\n",
       "</style>\n",
       "<table border=\"1\" class=\"dataframe\">\n",
       "  <thead>\n",
       "    <tr style=\"text-align: right;\">\n",
       "      <th></th>\n",
       "      <th>state</th>\n",
       "      <th>electoral_votes</th>\n",
       "      <th>actual_dem_1936</th>\n",
       "      <th>actual_rep_1936</th>\n",
       "      <th>ld_rep_1936</th>\n",
       "      <th>ld_dem_1936</th>\n",
       "      <th>actual_dem_1932</th>\n",
       "      <th>actual_rep_1932</th>\n",
       "      <th>ld_dem_1932</th>\n",
       "      <th>ld_rep_1932</th>\n",
       "      <th>dem_reweight_factor</th>\n",
       "      <th>rep_reweight_factor</th>\n",
       "      <th>pred_dem_1936</th>\n",
       "      <th>pred_rep_1936</th>\n",
       "      <th>pred_total_1936</th>\n",
       "      <th>actual_total_1932</th>\n",
       "      <th>correction_factor</th>\n",
       "    </tr>\n",
       "  </thead>\n",
       "  <tbody>\n",
       "    <tr>\n",
       "      <th>0</th>\n",
       "      <td>Alabama</td>\n",
       "      <td>11</td>\n",
       "      <td>238196</td>\n",
       "      <td>35358</td>\n",
       "      <td>3060</td>\n",
       "      <td>10082</td>\n",
       "      <td>207910</td>\n",
       "      <td>34675</td>\n",
       "      <td>9828</td>\n",
       "      <td>1589</td>\n",
       "      <td>21.154864</td>\n",
       "      <td>21.821901</td>\n",
       "      <td>213283.0</td>\n",
       "      <td>66775.0</td>\n",
       "      <td>280058.0</td>\n",
       "      <td>242585</td>\n",
       "      <td>0.866196</td>\n",
       "    </tr>\n",
       "    <tr>\n",
       "      <th>1</th>\n",
       "      <td>Arizona</td>\n",
       "      <td>3</td>\n",
       "      <td>86722</td>\n",
       "      <td>33433</td>\n",
       "      <td>2337</td>\n",
       "      <td>1975</td>\n",
       "      <td>79264</td>\n",
       "      <td>36104</td>\n",
       "      <td>2202</td>\n",
       "      <td>1679</td>\n",
       "      <td>35.996367</td>\n",
       "      <td>21.503276</td>\n",
       "      <td>71093.0</td>\n",
       "      <td>50253.0</td>\n",
       "      <td>121346.0</td>\n",
       "      <td>115368</td>\n",
       "      <td>0.950736</td>\n",
       "    </tr>\n",
       "    <tr>\n",
       "      <th>2</th>\n",
       "      <td>Arkansas</td>\n",
       "      <td>9</td>\n",
       "      <td>146765</td>\n",
       "      <td>32049</td>\n",
       "      <td>2724</td>\n",
       "      <td>7608</td>\n",
       "      <td>189602</td>\n",
       "      <td>28467</td>\n",
       "      <td>7608</td>\n",
       "      <td>1566</td>\n",
       "      <td>24.921399</td>\n",
       "      <td>18.178161</td>\n",
       "      <td>189602.0</td>\n",
       "      <td>49517.0</td>\n",
       "      <td>239119.0</td>\n",
       "      <td>218069</td>\n",
       "      <td>0.911969</td>\n",
       "    </tr>\n",
       "    <tr>\n",
       "      <th>3</th>\n",
       "      <td>California</td>\n",
       "      <td>22</td>\n",
       "      <td>1766836</td>\n",
       "      <td>836431</td>\n",
       "      <td>89516</td>\n",
       "      <td>77245</td>\n",
       "      <td>1324157</td>\n",
       "      <td>847902</td>\n",
       "      <td>69720</td>\n",
       "      <td>80525</td>\n",
       "      <td>18.992499</td>\n",
       "      <td>10.529674</td>\n",
       "      <td>1467076.0</td>\n",
       "      <td>942574.0</td>\n",
       "      <td>2409650.0</td>\n",
       "      <td>2172059</td>\n",
       "      <td>0.901400</td>\n",
       "    </tr>\n",
       "    <tr>\n",
       "      <th>4</th>\n",
       "      <td>Colorado</td>\n",
       "      <td>6</td>\n",
       "      <td>295021</td>\n",
       "      <td>181267</td>\n",
       "      <td>15949</td>\n",
       "      <td>10025</td>\n",
       "      <td>250877</td>\n",
       "      <td>189617</td>\n",
       "      <td>9970</td>\n",
       "      <td>13619</td>\n",
       "      <td>25.163190</td>\n",
       "      <td>13.922975</td>\n",
       "      <td>252261.0</td>\n",
       "      <td>222058.0</td>\n",
       "      <td>474319.0</td>\n",
       "      <td>440494</td>\n",
       "      <td>0.928687</td>\n",
       "    </tr>\n",
       "  </tbody>\n",
       "</table>\n",
       "</div>"
      ],
      "text/plain": [
       "        state  electoral_votes  actual_dem_1936  actual_rep_1936  ld_rep_1936  \\\n",
       "0     Alabama               11           238196            35358         3060   \n",
       "1     Arizona                3            86722            33433         2337   \n",
       "2    Arkansas                9           146765            32049         2724   \n",
       "3  California               22          1766836           836431        89516   \n",
       "4    Colorado                6           295021           181267        15949   \n",
       "\n",
       "   ld_dem_1936  actual_dem_1932  actual_rep_1932  ld_dem_1932  ld_rep_1932  \\\n",
       "0        10082           207910            34675         9828         1589   \n",
       "1         1975            79264            36104         2202         1679   \n",
       "2         7608           189602            28467         7608         1566   \n",
       "3        77245          1324157           847902        69720        80525   \n",
       "4        10025           250877           189617         9970        13619   \n",
       "\n",
       "   dem_reweight_factor  rep_reweight_factor  pred_dem_1936  pred_rep_1936  \\\n",
       "0            21.154864            21.821901       213283.0        66775.0   \n",
       "1            35.996367            21.503276        71093.0        50253.0   \n",
       "2            24.921399            18.178161       189602.0        49517.0   \n",
       "3            18.992499            10.529674      1467076.0       942574.0   \n",
       "4            25.163190            13.922975       252261.0       222058.0   \n",
       "\n",
       "   pred_total_1936  actual_total_1932  correction_factor  \n",
       "0         280058.0             242585           0.866196  \n",
       "1         121346.0             115368           0.950736  \n",
       "2         239119.0             218069           0.911969  \n",
       "3        2409650.0            2172059           0.901400  \n",
       "4         474319.0             440494           0.928687  "
      ]
     },
     "execution_count": 18,
     "metadata": {},
     "output_type": "execute_result"
    }
   ],
   "source": [
    "poll['pred_total_1936'] = poll['pred_dem_1936'] + poll['pred_rep_1936']\n",
    "poll['actual_total_1932'] = poll['actual_dem_1932'] + poll['actual_rep_1932']\n",
    "poll['correction_factor'] = poll['actual_total_1932'] / poll['pred_total_1936']\n",
    "poll.head()"
   ]
  },
  {
   "cell_type": "code",
   "execution_count": 19,
   "id": "4369dbdc",
   "metadata": {},
   "outputs": [
    {
     "data": {
      "text/plain": [
       "0.5419440974611633"
      ]
     },
     "execution_count": 19,
     "metadata": {},
     "output_type": "execute_result"
    }
   ],
   "source": [
    "poll['pred_dem_1936_corrected'] = poll['pred_dem_1936'] * poll['correction_factor']\n",
    "poll['pred_rep_1936_corrected'] = poll['pred_rep_1936'] * poll['correction_factor']\n",
    "\n",
    "poll['pred_dem_1936_corrected'].sum() / (poll['pred_dem_1936_corrected'].sum() + poll['pred_rep_1936_corrected'].sum())"
   ]
  },
  {
   "cell_type": "markdown",
   "id": "83adbee7",
   "metadata": {},
   "source": [
    "Looks like a pretty similar prediction for Roosevelt of 54%.\n",
    "\n",
    "As it turns out, it looks like our original (i.e., uncorrected) predictions had a vote total closer to the true 1936 vote total:"
   ]
  },
  {
   "cell_type": "code",
   "execution_count": 20,
   "id": "81cfdf28",
   "metadata": {},
   "outputs": [
    {
     "name": "stdout",
     "output_type": "stream",
     "text": [
      "Actual 1936 vote total:\n",
      "44430549\n",
      "Predicted 1936 vote total, uncorrected:\n",
      "42058418.0\n",
      "Predicted 1936 vote total, corrected:\n",
      "38582531.0\n"
     ]
    }
   ],
   "source": [
    "print('Actual 1936 vote total:')\n",
    "print(poll['actual_dem_1936'].sum() + poll['actual_rep_1936'].sum())\n",
    "\n",
    "print('Predicted 1936 vote total, uncorrected:')\n",
    "print(poll['pred_dem_1936'].sum() + poll['pred_rep_1936'].sum())\n",
    "\n",
    "print('Predicted 1936 vote total, corrected:')\n",
    "print(poll['pred_dem_1936_corrected'].sum() + poll['pred_rep_1936_corrected'].sum())\n"
   ]
  },
  {
   "cell_type": "markdown",
   "id": "2a430aad",
   "metadata": {},
   "source": [
    "Furthermore, we can check whether post-stratification would have led to a predicted win for Roosevelt in the electoral college, which is what actually determines the election outcome. \n",
    "\n",
    "- To do this, we allocate **all** of the electoral votes in each state to the candidate with the most predicted votes in that state, and then sum up the total number of electoral votes allocated to each candidate across states. "
   ]
  },
  {
   "cell_type": "code",
   "execution_count": 21,
   "id": "0ec71c75",
   "metadata": {},
   "outputs": [
    {
     "name": "stdout",
     "output_type": "stream",
     "text": [
      "Total predicted Roosevelt electoral votes:\n",
      "380\n",
      "Total predicted Landon electoral votes:\n",
      "151\n"
     ]
    }
   ],
   "source": [
    "poll['dem_wins'] = poll['pred_dem_1936'] > poll['pred_rep_1936']\n",
    "\n",
    "print('Total predicted Roosevelt electoral votes:')\n",
    "print(( poll['dem_wins'] * poll['electoral_votes'] ).sum())\n",
    "\n",
    "print('Total predicted Landon electoral votes:')\n",
    "print(( (1-poll['dem_wins']) * poll['electoral_votes'] ).sum())"
   ]
  },
  {
   "cell_type": "markdown",
   "id": "9a573b7a",
   "metadata": {},
   "source": [
    "We (correctly) predict a Roosevelt landslide in the electoral college!\n",
    "\n",
    "- But, note that the actual electoral college landslide was much bigger: 523 to 8\n",
    "\n",
    "- This is the largest electoral college landslide since 1820 (as of 2025)."
   ]
  }
 ],
 "metadata": {
  "kernelspec": {
   "display_name": "Python 3",
   "language": "python",
   "name": "python3"
  },
  "language_info": {
   "codemirror_mode": {
    "name": "ipython",
    "version": 3
   },
   "file_extension": ".py",
   "mimetype": "text/x-python",
   "name": "python",
   "nbconvert_exporter": "python",
   "pygments_lexer": "ipython3",
   "version": "3.9.12"
  }
 },
 "nbformat": 4,
 "nbformat_minor": 5
}
