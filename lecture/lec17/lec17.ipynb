{
  "cells": [
    {
      "cell_type": "markdown",
      "id": "b3b49008-1dff-4ddc-84c7-fd52e3fb248f",
      "metadata": {},
      "source": [
        "# 🎲 Lecture 17 – Data 100, Spring 2025\n",
        "\n",
        "Data 100, Spring 2025\n",
        "\n",
        "[Acknowledgments Page](https://ds100.org/sp25/acks/)"
      ]
    },
    {
      "cell_type": "code",
      "execution_count": 1,
      "id": "d411a32e-6183-4364-b735-cf241e4a7477",
      "metadata": {},
      "outputs": [
        {
          "ename": "ModuleNotFoundError",
          "evalue": "No module named 'pandas'",
          "output_type": "error",
          "traceback": [
            "\u001b[0;31m---------------------------------------------------------------------------\u001b[0m",
            "\u001b[0;31mModuleNotFoundError\u001b[0m                       Traceback (most recent call last)",
            "Cell \u001b[0;32mIn[1], line 1\u001b[0m\n\u001b[0;32m----> 1\u001b[0m \u001b[38;5;28;01mimport\u001b[39;00m\u001b[38;5;250m \u001b[39m\u001b[38;5;21;01mpandas\u001b[39;00m\u001b[38;5;250m \u001b[39m\u001b[38;5;28;01mas\u001b[39;00m\u001b[38;5;250m \u001b[39m\u001b[38;5;21;01mpd\u001b[39;00m\n\u001b[1;32m      2\u001b[0m \u001b[38;5;28;01mimport\u001b[39;00m\u001b[38;5;250m \u001b[39m\u001b[38;5;21;01mnumpy\u001b[39;00m\u001b[38;5;250m \u001b[39m\u001b[38;5;28;01mas\u001b[39;00m\u001b[38;5;250m \u001b[39m\u001b[38;5;21;01mnp\u001b[39;00m\n\u001b[1;32m      3\u001b[0m \u001b[38;5;28;01mimport\u001b[39;00m\u001b[38;5;250m \u001b[39m\u001b[38;5;21;01mplotly\u001b[39;00m\u001b[38;5;21;01m.\u001b[39;00m\u001b[38;5;21;01mexpress\u001b[39;00m\u001b[38;5;250m \u001b[39m\u001b[38;5;28;01mas\u001b[39;00m\u001b[38;5;250m \u001b[39m\u001b[38;5;21;01mpx\u001b[39;00m\n",
            "\u001b[0;31mModuleNotFoundError\u001b[0m: No module named 'pandas'"
          ]
        }
      ],
      "source": [
        "import pandas as pd\n",
        "import numpy as np\n",
        "import plotly.express as px\n",
        "import seaborn as sns\n",
        "import matplotlib.pyplot as plt\n",
        "\n",
        "plt.rcParams['figure.dpi'] = 300"
      ]
    },
    {
      "cell_type": "markdown",
      "id": "7194028a-64b6-421a-a247-8a32c6c41cfa",
      "metadata": {},
      "source": [
        "\n",
        "---\n",
        "\n",
        "## A Random Variable $X$\n",
        "\n",
        "> This section just replicates figures in the lecture. We won't go through it together.\n",
        "\n",
        "Our probability distribution of $X$, shown as a table:"
      ]
    },
    {
      "cell_type": "code",
      "execution_count": null,
      "id": "cd8a09c3-7aff-4c20-a7e6-dc81c836c481",
      "metadata": {},
      "outputs": [
        {
          "data": {
            "text/html": [
              "<div>\n",
              "<style scoped>\n",
              "    .dataframe tbody tr th:only-of-type {\n",
              "        vertical-align: middle;\n",
              "    }\n",
              "\n",
              "    .dataframe tbody tr th {\n",
              "        vertical-align: top;\n",
              "    }\n",
              "\n",
              "    .dataframe thead th {\n",
              "        text-align: right;\n",
              "    }\n",
              "</style>\n",
              "<table border=\"1\" class=\"dataframe\">\n",
              "  <thead>\n",
              "    <tr style=\"text-align: right;\">\n",
              "      <th></th>\n",
              "      <th>x</th>\n",
              "      <th>P(X = x)</th>\n",
              "    </tr>\n",
              "  </thead>\n",
              "  <tbody>\n",
              "    <tr>\n",
              "      <th>0</th>\n",
              "      <td>3</td>\n",
              "      <td>0.1</td>\n",
              "    </tr>\n",
              "    <tr>\n",
              "      <th>1</th>\n",
              "      <td>4</td>\n",
              "      <td>0.2</td>\n",
              "    </tr>\n",
              "    <tr>\n",
              "      <th>2</th>\n",
              "      <td>6</td>\n",
              "      <td>0.4</td>\n",
              "    </tr>\n",
              "    <tr>\n",
              "      <th>3</th>\n",
              "      <td>8</td>\n",
              "      <td>0.3</td>\n",
              "    </tr>\n",
              "  </tbody>\n",
              "</table>\n",
              "</div>"
            ],
            "text/plain": [
              "   x  P(X = x)\n",
              "0  3       0.1\n",
              "1  4       0.2\n",
              "2  6       0.4\n",
              "3  8       0.3"
            ]
          },
          "execution_count": 2,
          "metadata": {},
          "output_type": "execute_result"
        }
      ],
      "source": [
        "# Our random variable X\n",
        "dist_df = pd.DataFrame({\"x\": [3, 4, 6, 8],\n",
        "                        \"P(X = x)\": [0.1, 0.2, 0.4, 0.3]})\n",
        "dist_df"
      ]
    },
    {
      "cell_type": "code",
      "execution_count": null,
      "id": "e5a72a8f-b8c2-4c3b-805c-4fe248a3aff7",
      "metadata": {},
      "outputs": [
        {
          "data": {
            "application/vnd.plotly.v1+json": {
              "config": {
                "plotlyServerURL": "https://plot.ly"
              },
              "data": [
                {
                  "hovertemplate": "x=%{x}<br>P(X = x)=%{y}<extra></extra>",
                  "legendgroup": "",
                  "marker": {
                    "color": "#636efa",
                    "pattern": {
                      "shape": ""
                    }
                  },
                  "name": "",
                  "orientation": "v",
                  "showlegend": false,
                  "textposition": "auto",
                  "type": "bar",
                  "x": {
                    "bdata": "AwQGCA==",
                    "dtype": "i1"
                  },
                  "xaxis": "x",
                  "y": {
                    "bdata": "mpmZmZmZuT+amZmZmZnJP5qZmZmZmdk/MzMzMzMz0z8=",
                    "dtype": "f8"
                  },
                  "yaxis": "y"
                }
              ],
              "layout": {
                "barmode": "relative",
                "legend": {
                  "tracegroupgap": 0
                },
                "template": {
                  "data": {
                    "bar": [
                      {
                        "error_x": {
                          "color": "#2a3f5f"
                        },
                        "error_y": {
                          "color": "#2a3f5f"
                        },
                        "marker": {
                          "line": {
                            "color": "#E5ECF6",
                            "width": 0.5
                          },
                          "pattern": {
                            "fillmode": "overlay",
                            "size": 10,
                            "solidity": 0.2
                          }
                        },
                        "type": "bar"
                      }
                    ],
                    "barpolar": [
                      {
                        "marker": {
                          "line": {
                            "color": "#E5ECF6",
                            "width": 0.5
                          },
                          "pattern": {
                            "fillmode": "overlay",
                            "size": 10,
                            "solidity": 0.2
                          }
                        },
                        "type": "barpolar"
                      }
                    ],
                    "carpet": [
                      {
                        "aaxis": {
                          "endlinecolor": "#2a3f5f",
                          "gridcolor": "white",
                          "linecolor": "white",
                          "minorgridcolor": "white",
                          "startlinecolor": "#2a3f5f"
                        },
                        "baxis": {
                          "endlinecolor": "#2a3f5f",
                          "gridcolor": "white",
                          "linecolor": "white",
                          "minorgridcolor": "white",
                          "startlinecolor": "#2a3f5f"
                        },
                        "type": "carpet"
                      }
                    ],
                    "choropleth": [
                      {
                        "colorbar": {
                          "outlinewidth": 0,
                          "ticks": ""
                        },
                        "type": "choropleth"
                      }
                    ],
                    "contour": [
                      {
                        "colorbar": {
                          "outlinewidth": 0,
                          "ticks": ""
                        },
                        "colorscale": [
                          [
                            0,
                            "#0d0887"
                          ],
                          [
                            0.1111111111111111,
                            "#46039f"
                          ],
                          [
                            0.2222222222222222,
                            "#7201a8"
                          ],
                          [
                            0.3333333333333333,
                            "#9c179e"
                          ],
                          [
                            0.4444444444444444,
                            "#bd3786"
                          ],
                          [
                            0.5555555555555556,
                            "#d8576b"
                          ],
                          [
                            0.6666666666666666,
                            "#ed7953"
                          ],
                          [
                            0.7777777777777778,
                            "#fb9f3a"
                          ],
                          [
                            0.8888888888888888,
                            "#fdca26"
                          ],
                          [
                            1,
                            "#f0f921"
                          ]
                        ],
                        "type": "contour"
                      }
                    ],
                    "contourcarpet": [
                      {
                        "colorbar": {
                          "outlinewidth": 0,
                          "ticks": ""
                        },
                        "type": "contourcarpet"
                      }
                    ],
                    "heatmap": [
                      {
                        "colorbar": {
                          "outlinewidth": 0,
                          "ticks": ""
                        },
                        "colorscale": [
                          [
                            0,
                            "#0d0887"
                          ],
                          [
                            0.1111111111111111,
                            "#46039f"
                          ],
                          [
                            0.2222222222222222,
                            "#7201a8"
                          ],
                          [
                            0.3333333333333333,
                            "#9c179e"
                          ],
                          [
                            0.4444444444444444,
                            "#bd3786"
                          ],
                          [
                            0.5555555555555556,
                            "#d8576b"
                          ],
                          [
                            0.6666666666666666,
                            "#ed7953"
                          ],
                          [
                            0.7777777777777778,
                            "#fb9f3a"
                          ],
                          [
                            0.8888888888888888,
                            "#fdca26"
                          ],
                          [
                            1,
                            "#f0f921"
                          ]
                        ],
                        "type": "heatmap"
                      }
                    ],
                    "histogram": [
                      {
                        "marker": {
                          "pattern": {
                            "fillmode": "overlay",
                            "size": 10,
                            "solidity": 0.2
                          }
                        },
                        "type": "histogram"
                      }
                    ],
                    "histogram2d": [
                      {
                        "colorbar": {
                          "outlinewidth": 0,
                          "ticks": ""
                        },
                        "colorscale": [
                          [
                            0,
                            "#0d0887"
                          ],
                          [
                            0.1111111111111111,
                            "#46039f"
                          ],
                          [
                            0.2222222222222222,
                            "#7201a8"
                          ],
                          [
                            0.3333333333333333,
                            "#9c179e"
                          ],
                          [
                            0.4444444444444444,
                            "#bd3786"
                          ],
                          [
                            0.5555555555555556,
                            "#d8576b"
                          ],
                          [
                            0.6666666666666666,
                            "#ed7953"
                          ],
                          [
                            0.7777777777777778,
                            "#fb9f3a"
                          ],
                          [
                            0.8888888888888888,
                            "#fdca26"
                          ],
                          [
                            1,
                            "#f0f921"
                          ]
                        ],
                        "type": "histogram2d"
                      }
                    ],
                    "histogram2dcontour": [
                      {
                        "colorbar": {
                          "outlinewidth": 0,
                          "ticks": ""
                        },
                        "colorscale": [
                          [
                            0,
                            "#0d0887"
                          ],
                          [
                            0.1111111111111111,
                            "#46039f"
                          ],
                          [
                            0.2222222222222222,
                            "#7201a8"
                          ],
                          [
                            0.3333333333333333,
                            "#9c179e"
                          ],
                          [
                            0.4444444444444444,
                            "#bd3786"
                          ],
                          [
                            0.5555555555555556,
                            "#d8576b"
                          ],
                          [
                            0.6666666666666666,
                            "#ed7953"
                          ],
                          [
                            0.7777777777777778,
                            "#fb9f3a"
                          ],
                          [
                            0.8888888888888888,
                            "#fdca26"
                          ],
                          [
                            1,
                            "#f0f921"
                          ]
                        ],
                        "type": "histogram2dcontour"
                      }
                    ],
                    "mesh3d": [
                      {
                        "colorbar": {
                          "outlinewidth": 0,
                          "ticks": ""
                        },
                        "type": "mesh3d"
                      }
                    ],
                    "parcoords": [
                      {
                        "line": {
                          "colorbar": {
                            "outlinewidth": 0,
                            "ticks": ""
                          }
                        },
                        "type": "parcoords"
                      }
                    ],
                    "pie": [
                      {
                        "automargin": true,
                        "type": "pie"
                      }
                    ],
                    "scatter": [
                      {
                        "fillpattern": {
                          "fillmode": "overlay",
                          "size": 10,
                          "solidity": 0.2
                        },
                        "type": "scatter"
                      }
                    ],
                    "scatter3d": [
                      {
                        "line": {
                          "colorbar": {
                            "outlinewidth": 0,
                            "ticks": ""
                          }
                        },
                        "marker": {
                          "colorbar": {
                            "outlinewidth": 0,
                            "ticks": ""
                          }
                        },
                        "type": "scatter3d"
                      }
                    ],
                    "scattercarpet": [
                      {
                        "marker": {
                          "colorbar": {
                            "outlinewidth": 0,
                            "ticks": ""
                          }
                        },
                        "type": "scattercarpet"
                      }
                    ],
                    "scattergeo": [
                      {
                        "marker": {
                          "colorbar": {
                            "outlinewidth": 0,
                            "ticks": ""
                          }
                        },
                        "type": "scattergeo"
                      }
                    ],
                    "scattergl": [
                      {
                        "marker": {
                          "colorbar": {
                            "outlinewidth": 0,
                            "ticks": ""
                          }
                        },
                        "type": "scattergl"
                      }
                    ],
                    "scattermap": [
                      {
                        "marker": {
                          "colorbar": {
                            "outlinewidth": 0,
                            "ticks": ""
                          }
                        },
                        "type": "scattermap"
                      }
                    ],
                    "scattermapbox": [
                      {
                        "marker": {
                          "colorbar": {
                            "outlinewidth": 0,
                            "ticks": ""
                          }
                        },
                        "type": "scattermapbox"
                      }
                    ],
                    "scatterpolar": [
                      {
                        "marker": {
                          "colorbar": {
                            "outlinewidth": 0,
                            "ticks": ""
                          }
                        },
                        "type": "scatterpolar"
                      }
                    ],
                    "scatterpolargl": [
                      {
                        "marker": {
                          "colorbar": {
                            "outlinewidth": 0,
                            "ticks": ""
                          }
                        },
                        "type": "scatterpolargl"
                      }
                    ],
                    "scatterternary": [
                      {
                        "marker": {
                          "colorbar": {
                            "outlinewidth": 0,
                            "ticks": ""
                          }
                        },
                        "type": "scatterternary"
                      }
                    ],
                    "surface": [
                      {
                        "colorbar": {
                          "outlinewidth": 0,
                          "ticks": ""
                        },
                        "colorscale": [
                          [
                            0,
                            "#0d0887"
                          ],
                          [
                            0.1111111111111111,
                            "#46039f"
                          ],
                          [
                            0.2222222222222222,
                            "#7201a8"
                          ],
                          [
                            0.3333333333333333,
                            "#9c179e"
                          ],
                          [
                            0.4444444444444444,
                            "#bd3786"
                          ],
                          [
                            0.5555555555555556,
                            "#d8576b"
                          ],
                          [
                            0.6666666666666666,
                            "#ed7953"
                          ],
                          [
                            0.7777777777777778,
                            "#fb9f3a"
                          ],
                          [
                            0.8888888888888888,
                            "#fdca26"
                          ],
                          [
                            1,
                            "#f0f921"
                          ]
                        ],
                        "type": "surface"
                      }
                    ],
                    "table": [
                      {
                        "cells": {
                          "fill": {
                            "color": "#EBF0F8"
                          },
                          "line": {
                            "color": "white"
                          }
                        },
                        "header": {
                          "fill": {
                            "color": "#C8D4E3"
                          },
                          "line": {
                            "color": "white"
                          }
                        },
                        "type": "table"
                      }
                    ]
                  },
                  "layout": {
                    "annotationdefaults": {
                      "arrowcolor": "#2a3f5f",
                      "arrowhead": 0,
                      "arrowwidth": 1
                    },
                    "autotypenumbers": "strict",
                    "coloraxis": {
                      "colorbar": {
                        "outlinewidth": 0,
                        "ticks": ""
                      }
                    },
                    "colorscale": {
                      "diverging": [
                        [
                          0,
                          "#8e0152"
                        ],
                        [
                          0.1,
                          "#c51b7d"
                        ],
                        [
                          0.2,
                          "#de77ae"
                        ],
                        [
                          0.3,
                          "#f1b6da"
                        ],
                        [
                          0.4,
                          "#fde0ef"
                        ],
                        [
                          0.5,
                          "#f7f7f7"
                        ],
                        [
                          0.6,
                          "#e6f5d0"
                        ],
                        [
                          0.7,
                          "#b8e186"
                        ],
                        [
                          0.8,
                          "#7fbc41"
                        ],
                        [
                          0.9,
                          "#4d9221"
                        ],
                        [
                          1,
                          "#276419"
                        ]
                      ],
                      "sequential": [
                        [
                          0,
                          "#0d0887"
                        ],
                        [
                          0.1111111111111111,
                          "#46039f"
                        ],
                        [
                          0.2222222222222222,
                          "#7201a8"
                        ],
                        [
                          0.3333333333333333,
                          "#9c179e"
                        ],
                        [
                          0.4444444444444444,
                          "#bd3786"
                        ],
                        [
                          0.5555555555555556,
                          "#d8576b"
                        ],
                        [
                          0.6666666666666666,
                          "#ed7953"
                        ],
                        [
                          0.7777777777777778,
                          "#fb9f3a"
                        ],
                        [
                          0.8888888888888888,
                          "#fdca26"
                        ],
                        [
                          1,
                          "#f0f921"
                        ]
                      ],
                      "sequentialminus": [
                        [
                          0,
                          "#0d0887"
                        ],
                        [
                          0.1111111111111111,
                          "#46039f"
                        ],
                        [
                          0.2222222222222222,
                          "#7201a8"
                        ],
                        [
                          0.3333333333333333,
                          "#9c179e"
                        ],
                        [
                          0.4444444444444444,
                          "#bd3786"
                        ],
                        [
                          0.5555555555555556,
                          "#d8576b"
                        ],
                        [
                          0.6666666666666666,
                          "#ed7953"
                        ],
                        [
                          0.7777777777777778,
                          "#fb9f3a"
                        ],
                        [
                          0.8888888888888888,
                          "#fdca26"
                        ],
                        [
                          1,
                          "#f0f921"
                        ]
                      ]
                    },
                    "colorway": [
                      "#636efa",
                      "#EF553B",
                      "#00cc96",
                      "#ab63fa",
                      "#FFA15A",
                      "#19d3f3",
                      "#FF6692",
                      "#B6E880",
                      "#FF97FF",
                      "#FECB52"
                    ],
                    "font": {
                      "color": "#2a3f5f"
                    },
                    "geo": {
                      "bgcolor": "white",
                      "lakecolor": "white",
                      "landcolor": "#E5ECF6",
                      "showlakes": true,
                      "showland": true,
                      "subunitcolor": "white"
                    },
                    "hoverlabel": {
                      "align": "left"
                    },
                    "hovermode": "closest",
                    "mapbox": {
                      "style": "light"
                    },
                    "paper_bgcolor": "white",
                    "plot_bgcolor": "#E5ECF6",
                    "polar": {
                      "angularaxis": {
                        "gridcolor": "white",
                        "linecolor": "white",
                        "ticks": ""
                      },
                      "bgcolor": "#E5ECF6",
                      "radialaxis": {
                        "gridcolor": "white",
                        "linecolor": "white",
                        "ticks": ""
                      }
                    },
                    "scene": {
                      "xaxis": {
                        "backgroundcolor": "#E5ECF6",
                        "gridcolor": "white",
                        "gridwidth": 2,
                        "linecolor": "white",
                        "showbackground": true,
                        "ticks": "",
                        "zerolinecolor": "white"
                      },
                      "yaxis": {
                        "backgroundcolor": "#E5ECF6",
                        "gridcolor": "white",
                        "gridwidth": 2,
                        "linecolor": "white",
                        "showbackground": true,
                        "ticks": "",
                        "zerolinecolor": "white"
                      },
                      "zaxis": {
                        "backgroundcolor": "#E5ECF6",
                        "gridcolor": "white",
                        "gridwidth": 2,
                        "linecolor": "white",
                        "showbackground": true,
                        "ticks": "",
                        "zerolinecolor": "white"
                      }
                    },
                    "shapedefaults": {
                      "line": {
                        "color": "#2a3f5f"
                      }
                    },
                    "ternary": {
                      "aaxis": {
                        "gridcolor": "white",
                        "linecolor": "white",
                        "ticks": ""
                      },
                      "baxis": {
                        "gridcolor": "white",
                        "linecolor": "white",
                        "ticks": ""
                      },
                      "bgcolor": "#E5ECF6",
                      "caxis": {
                        "gridcolor": "white",
                        "linecolor": "white",
                        "ticks": ""
                      }
                    },
                    "title": {
                      "x": 0.05
                    },
                    "xaxis": {
                      "automargin": true,
                      "gridcolor": "white",
                      "linecolor": "white",
                      "ticks": "",
                      "title": {
                        "standoff": 15
                      },
                      "zerolinecolor": "white",
                      "zerolinewidth": 2
                    },
                    "yaxis": {
                      "automargin": true,
                      "gridcolor": "white",
                      "linecolor": "white",
                      "ticks": "",
                      "title": {
                        "standoff": 15
                      },
                      "zerolinecolor": "white",
                      "zerolinewidth": 2
                    }
                  }
                },
                "title": {
                  "text": "Distribution of X"
                },
                "xaxis": {
                  "anchor": "y",
                  "domain": [
                    0,
                    1
                  ],
                  "title": {
                    "text": "x"
                  }
                },
                "yaxis": {
                  "anchor": "x",
                  "domain": [
                    0,
                    1
                  ],
                  "title": {
                    "text": "P(X = x)"
                  }
                }
              }
            }
          },
          "metadata": {},
          "output_type": "display_data"
        }
      ],
      "source": [
        "fig = px.bar(dist_df, x=\"x\", y=\"P(X = x)\", title=\"Distribution of X\")\n",
        "# fig.write_image(\"distX.png\", \"png\",scale=2)\n",
        "fig"
      ]
    },
    {
      "cell_type": "markdown",
      "id": "1cf640ff-21a1-41d3-8ad0-661723ef3f24",
      "metadata": {},
      "source": [
        "Let's use this probability distribution to generate a table of $X_i$'s (i.e., simulated draws from the probability distirbution above)."
      ]
    },
    {
      "cell_type": "code",
      "execution_count": null,
      "id": "54f59b75-1915-4cf0-89c9-cb47cc2bd2bd",
      "metadata": {},
      "outputs": [
        {
          "data": {
            "text/html": [
              "<div>\n",
              "<style scoped>\n",
              "    .dataframe tbody tr th:only-of-type {\n",
              "        vertical-align: middle;\n",
              "    }\n",
              "\n",
              "    .dataframe tbody tr th {\n",
              "        vertical-align: top;\n",
              "    }\n",
              "\n",
              "    .dataframe thead th {\n",
              "        text-align: right;\n",
              "    }\n",
              "</style>\n",
              "<table border=\"1\" class=\"dataframe\">\n",
              "  <thead>\n",
              "    <tr style=\"text-align: right;\">\n",
              "      <th></th>\n",
              "      <th>X</th>\n",
              "    </tr>\n",
              "  </thead>\n",
              "  <tbody>\n",
              "    <tr>\n",
              "      <th>0</th>\n",
              "      <td>8</td>\n",
              "    </tr>\n",
              "    <tr>\n",
              "      <th>1</th>\n",
              "      <td>6</td>\n",
              "    </tr>\n",
              "    <tr>\n",
              "      <th>2</th>\n",
              "      <td>8</td>\n",
              "    </tr>\n",
              "    <tr>\n",
              "      <th>3</th>\n",
              "      <td>8</td>\n",
              "    </tr>\n",
              "    <tr>\n",
              "      <th>4</th>\n",
              "      <td>3</td>\n",
              "    </tr>\n",
              "    <tr>\n",
              "      <th>...</th>\n",
              "      <td>...</td>\n",
              "    </tr>\n",
              "    <tr>\n",
              "      <th>79995</th>\n",
              "      <td>8</td>\n",
              "    </tr>\n",
              "    <tr>\n",
              "      <th>79996</th>\n",
              "      <td>4</td>\n",
              "    </tr>\n",
              "    <tr>\n",
              "      <th>79997</th>\n",
              "      <td>6</td>\n",
              "    </tr>\n",
              "    <tr>\n",
              "      <th>79998</th>\n",
              "      <td>4</td>\n",
              "    </tr>\n",
              "    <tr>\n",
              "      <th>79999</th>\n",
              "      <td>8</td>\n",
              "    </tr>\n",
              "  </tbody>\n",
              "</table>\n",
              "<p>80000 rows × 1 columns</p>\n",
              "</div>"
            ],
            "text/plain": [
              "       X\n",
              "0      8\n",
              "1      6\n",
              "2      8\n",
              "3      8\n",
              "4      3\n",
              "...   ..\n",
              "79995  8\n",
              "79996  4\n",
              "79997  6\n",
              "79998  4\n",
              "79999  8\n",
              "\n",
              "[80000 rows x 1 columns]"
            ]
          },
          "execution_count": 5,
          "metadata": {},
          "output_type": "execute_result"
        }
      ],
      "source": [
        "N = 80000\n",
        "samples = np.random.choice(\n",
        "    dist_df[\"x\"], # Draw from these choiecs\n",
        "    size=N, # This many times\n",
        "    p=dist_df[\"P(X = x)\"]) # According to this distribution\n",
        "\n",
        "sim_df = pd.DataFrame({\"X\": samples})\n",
        "sim_df"
      ]
    },
    {
      "cell_type": "markdown",
      "id": "1aaadf3f-2dff-4736-9a27-4bf49c1a7cd6",
      "metadata": {},
      "source": [
        "<br/><br/>\n",
        "Let's check how well this simulated sample matches our probability distribution!"
      ]
    },
    {
      "cell_type": "code",
      "execution_count": null,
      "id": "f664b4d1-22b8-4151-9214-d6c408892dda",
      "metadata": {},
      "outputs": [
        {
          "data": {
            "application/vnd.plotly.v1+json": {
              "config": {
                "plotlyServerURL": "https://plot.ly"
              },
              "data": [
                {
                  "bingroup": "x",
                  "histnorm": "probability",
                  "hovertemplate": "X=%{x}<br>probability=%{y}<extra></extra>",
                  "legendgroup": "",
                  "marker": {
                    "color": "#636efa",
                    "pattern": {
                      "shape": ""
                    }
                  },
                  "name": "",
                  "orientation": "v",
                  "showlegend": false,
                  "type": "histogram",
                  "x": {
                    "bdata": "CAYICAMECAgGAwYGCAgGCAYGBAQGCAgECAYICAgDCAgGBAYGBgYIAwYGCAYDBAQIBAgIBggGCAgEBAMGBAYEBggGCAgGBgMGBggDBgYECAYIBgYGBAgICAYGBAgGBgYIBggIBgYEBAYEBAQDBAMIBgYGBAYGAwYDAwYEBAYEBgQECAgGBggIBAgIBAYECAYDBgMGBAgICAQIBgYEBAgGBgQECAQEBgMGBgYIBgYGBgMIBgYIBgYGBgYGBgQIBgYGBAgDAwYGCAYGCAgIBAYEBgQGBgYDBAgICAYGCAYGCAYIAwQDCAQGBAQGCAYGBggICAgGBgYEAwgEBgYGBggIAwYICAYGBgYIBgYICAYGBgQGBAgEBggGBgYGBAYICAgECAgIBggGAwYGBAYGAwgIBgQICAYECAQGAwQIBggIAwQICAgGBAgECAYIAwQGBgYGAwYIBggGCAgGCAgGCAMIBAgIBggDAwYGBggGBAYEAwYGCAYEBgYGAwYIBgQGCAYGCAYICAYGCAQDCAYICAYGCAgGBggIBAgIBgYDAwgIBgQGBAMIBgYECAYEBgYGBgQIBgYGBgQGBAgICAQGBgYGCAgEBgQEBgQECAQGCAgECAgEBgYGBgYGAwQGBggIBgYEAwgGCAQIBggGAwMGBggDCAYIBgQDBgYIBgQGBAYGBAMIBgYIBggGAwgICAYIAwYIBAgIBAYEBggGBgQEBggDAwgEBAYGBgQIBAQGCAYIBggGBgYGBgYICAgGCAgGCAYECAYEBgQDBgMIBAYECAYEBggDCAQIAwYGAwgGBggIBgYIAwMIBgYGBAQIBgQGBggIBggIBAQGBgYICAgIBAQIBgYICAYGBAgIBggGBggECAYDBAQECAgGBggGCAgGBgYGBggECAMGCAYIBgMGCAYIBgYGBgQICAYEBgQGBgQGAwYIBgYICAgIBgYGBgQGCAgDCAMEBggEBgYGCAMEBAQEBAYGBgQEAwgICAQGBAYDCAYGCAgEBAQIBAYIBgQGBggECAQIBAYDBgQGBAgIBAMGCAMIBAgECAMIBAYIBAYEAwYEBgYIBgYGBgMECAgDCAMICAYGCAYGAwMEBgYECAYGBAYIBgYGCAgGBAgDBAgEBggGBgYECAgIBAYIBggEBAQDBgQGAwYIAwgEBgYECAMICAgDCAgGCAYDCAgIBgYIBgYDCAgGBgQECAQGBgYGBgQEBgQDBAgEBAYGBggIBgQICAYGBAYEBAYIBgQEBgYGBgYICAQIBAMEBgQGCAMDBAMECAYIBAYGCAYGBgQGBgYGCAYGBAgGCAgGBggGBgMEBggIBgQEBggDBgQIBgYGCAYIBggIAwMIBgQGCAYICAQEBggEBgQGCAMEBgYGBgYICAgDCAgGCAYGAwQDBgYGCAYGBAMDCAYDBgQGCAgGCAMIBAgGBgQDCAYEBggGCAgDBgYDCAYICAMICAQGBAgEBgQIBggGBgYGAwYEBggGBgQICAgEAwYGCAQIBgYGCAYGBgMGAwQICAQEBggEAwgIBggEBAYIAwYGBgQGCAYGCAgIAwQGBAYIAwgGBgMGBgYIBgYGAwYGBAYDBgYGBAYICAMIBggGCAYGAwYEBgYGAwMGBgMICAYGBAQGBAYIBAYGCAgEBgYIBgYDCAgDBgYEBAMGBgYGAwMEBggIBggGAwMICAYGBAgGAwYIBgMGBggGBggECAYICAQGBgQICAQICAYECAgEBggGBggEBAYIBAgIAwMEBAgGBgYGAwYGBAYGCAQGAwYDBgQECAYGBAQECAYECAYGAwgGCAQICAgGBAQIBgYGBAYDAwYIBgYGCAQGCAgDBgYIBgQDBgYECAYDBgMEBggGBgQEBAgIBgYICAgICAYGBgMGCAgIAwQDAwYGCAMEBgYIBgYGBggGCAYGCAYIBAYIBgYEBAQIBAYDAwYICAgGCAYGBgQGBAgGCAgEBgMIBAQGCAYEBgYGCAgEBgYGCAQIBgYGAwMGCAgGCAYIBgYGCAgIBgQGBAMGBgYDBAgIAwYICAQEBggIBgYGCAgIBgYGBAYICAQGCAQICAYGCAgGBggIBAYDCAgEBAMIAwYEBAQIBgYGCAMEAwgGBAgIAwQICAYEBgQDBAgGCAYGCAYIBgMIBAYEBggEBAgECAQIAwYGBgYGBgYGBAYGAwQGBAYIBAgGBAQGBAYGCAYIAwgIBgYGBAgDCAgECAQGCAMGCAgIBggIBgMDBgQDBgYECAYIAwgGAwgIBggGBggDBgYIBgQGAwMGBAYEBgQIBgQEAwQGBggEBggGBAgIBAQEBgYGBgYECAYGCAYEBgYGBAMIBggDBggGCAMICAgEBgYGAwQIBAgIBgMIBgYGBgYGCAgIBAQGCAYECAQGAwYIBAQGBggGCAgIBgYIBgYIBgYGBggGBgYGCAMEBgYDCAYGBgYIBAgIBgYEAwQGCAgGBggIBgYIBgQIBggGBgYIAwgGCAgIBggEAwYGBgYECAYDBAYGCAYICAQGBAgEBgYGBgQEAwYGAwQICAMIBgYIAwgIAwQIBAYICAgICAgGBgYGBAQICAQGBgQGBAQICAQIAwQDCAQGCAYIBgMEBAgGCAgGBgMECAQEBgMEBgYGBggICAMECAQGBgMIAwMGBggICAYDBAgECAYGAwQIBgYGBgYGBggIBgYGCAgGBgYGCAQDBgYEBgYIBAQIBgYGCAYECAYGCAMEAwQEBgYEBggDCAQEAwgGCAYDBAYGBAgGBAgDBgMDBgYIBgMGAwYICAgICAgEBAgGAwYGBgYECAQDCAQGCAMEBgQGBAYICAMGBAgIBgYGCAMIBAQEAwgGCAYGBAYICAQICAQGCAMGBggIBggDBgMGBAQIBAgEBgYEAwgGBAMIBAQGCAYGCAMGBAYICAYICAYGBgYGCAgIBgYGCAgGCAQGBAQGBgYGBggECAgIBgQGCAQDBgYECAYGBAgDCAgGBgQIBggEBgQIBggICAYICAgGAwgEAwMGCAYGBgMIBgYEBAgGCAgIBgMEBAYGBAMGBgYIBAQDBggGBgYIBgYDBggIBggIBggGAwYICAYGCAMIBAgIBgYDBgYEBAYECAgGAwYECAgGBgQGBggGAwYDAwgEBAQGAwgGBgYGCAMICAYIBgYECAYGCAQGBgYGCAYIBgYDBgYGCAgICAQGBAgGCAgDBgYGCAYECAYICAYGBgQGAwMEBggGBgYGCAYIAwYECAYGCAMIBAYIBAQDBAgGCAgECAYGCAMDBggIBgYGCAgECAQGBgQIBgQGBAgDBAMDAwYIBggGBAYEBggIBgYIBgYGBAQIBAYGCAYIBgYICAQGBgQEBgYGBgQEBgQGCAgEAwgICAQGBggIBAQDBgYIBgMECAgECAYGBgYEBAYGBAgICAYGBAQGAwgGBAYGBAgICAYGBAgIBAYGCAgEAwQEBgMEBAYGCAQECAYGBggICAYIBAgIBAQIBgYEAwgGBgYGBgYICAQGBAMGBgMEBgQIBgYGBAgGBgYGCAgDBgYEBgYECAgGBgQGBAYIBgYDBAgECAQGBggIBAYGBAYEAwgGAwQIBAYGBggICAYGCAMGBAMECAMEBggICAQGBgYGBggGBgYEAwMEBggGCAYGBgYIBgYGBgYEBAgDBggICAYECAYIBggECAQECAgGBAgEBggIBggGCAYECAQGCAYEBgYEAwYGBgYIBgMDBgQEBggGBAYEBggDBggIBgYGBAYEBgYIBggGCAMGAwQGBggECAYGBggICAMGBAYIBAQGBggGCAQECAgGBgQIBgYDBgYGBAYEBgYGBAYGCAYGBgMDBAgGBgQGAwQDBAQGCAgGBAYIBgQGAwgICAgECAMEBAgIBgQECAQEAwYGCAgDBgYEBggGBgMGCAYGCAMIBAgIBAYGBAgDCAQGBgQEAwgDBggEBgQDAwgGAwgIBgYIBgYIBggICAgIBAMGBAYDCAgIBAQIBgQECAYGAwQGCAYGAwgGBggIBgQDBggGBggGBggGBAQIBgMEBgYEBAgGCAgEBgYIBAMDCAgEBAYEAwQDCAgEBAQGCAQGBgYICAYGCAgEBAYIAwQIBgMGBgYICAgEBgYIBgYGBggEBAMEBAYGCAYGCAYIBgYGBgQGCAYGAwgGBgYIBgYECAgIBAQIBAQDCAMGCAgGBAQGCAYGCAYGCAgIBAgGBgQGBAgGBgQEBgYEBgYGBgYICAQIBgYDBgMIBggIBgYGCAMIBgYEBAQEAwYEAwYGCAYIBAYIBAMIBggGBgQGBgYIBAgGBAgGCAQEBAYEBAMGCAYGCAMEBgQDBgQGCAMGAwgGAwgIBAgDBggIBgQGAwYIBgYICAQGBAQDCAQGCAQIBAgICAYGAwYIBgYIAwQECAYIBAYIBgYGBgQIAwYGBgMICAgECAQIBggIAwgGBAYEBggICAQGBgYGBgYGBggEBgYEBgQIBAgICAgICAQICAgEBgYEBgYGCAYGAwQGCAMGBAgDBAYECAYGBgQDBggECAQGAwMIBAgDCAQEBgYGBgQIAwgDBggGBgYEBAgGBgYICAQIBAYGBAQDAwYGBAYIBggGCAYICAYECAgDBAgIBgYECAgGBgQGCAQGCAYEBgYEBgQIBggGCAYGBgYDBAgIBgYDCAgGBgYGCAYICAYICAYIBAYGBAMICAgECAQGBgYDBgYIBgYIBgYGCAYIBAgDBgMDBAQDCAgGBggIBgMDCAMICAYDBAgIAwYGAwYGBggGCAgICAYGBAQGBgYGCAYIBAQICAMDCAYIAwYGAwgGAwgGCAYGCAYEBAgGCAMGBgYGCAQEBAYEBAgICAgEBgYECAQGCAMIBgYGBgYGAwgEBgYGBgYIBAgDBgQICAYGBgYGCAQECAgECAYICAgIAwQGCAYGAwQGBAYDCAYEBgMICAgGBgQGBggDBgQGBgYGAwQGBAgECAYDBAgICAYIAwMIBAYGBgQECAYICAYGCAYGBAgDAwQEBAMGBAQDBggICAYIBggGBgYGCAQGBAgGBgYICAgGCAYGBAYECAYIAwQICAYIBgYIBgQICAYGAwMECAgIBggGCAYIBgYGBAQGCAQGBggGBgQIAwgGBggGCAgEBAgGBgYGBAYGCAgGBgYGBgYGCAgIBAYDBggGCAYIBAYGCAQEBAgEBgYIBAYGCAgEBgYEBgMGCAYEBAQGBgMIBAMGBgQDBAgDBgQIBAgIBgYECAQEBAYIBgMICAYICAMIBgQICAYIBgYGAwYIBAgGCAQGBgQIBggGCAYEAwMIBgQGCAMEBgYECAMDBggIAwgGAwQIBAQEAwYIBggGAwYDBgQGCAgIBAYGBgYGCAYEBgQGCAYEBgYICAYIBgYGBggGBgYGBgYICAQIAwYDBgQGBggGCAgEAwMIBggIAwgGCAMGCAMIBgMEBggGBgYGBgYEBgYEAwQICAQGAwYIAwYGCAgGCAYDCAQGAwYGCAgICAYGCAYGCAQEBAYICAYGBAYGCAQGCAYEAwYGBggGAwMGBgMGCAgIBgQICAQIBgQICAYICAYGCAgICAMEBgMDBggEBgYGBgYDBgQGBAYEBgQICAYGBAYEBgYEBggGAwQGCAgIBggICAMIAwgEBgYGBAQGCAgEBgYGBgQIBAQEBAgEBgMIBggECAgIBgYGCAgECAgGAwgGBAQIBAYEBggIBgYGBggGCAQIAwgIBAYDBgYICAMECAgGBAYEBAQIBAQEBgYGBggEBAYECAgGBgMIBggECAYEBgYICAYEAwYGCAYGAwYEAwYGBgYECAYGBgMGAwYEBgQGBAQICAgGCAYGBggGBAYGBAYEBgMGBgMGBgMGCAgEBAYEBgQECAgICAgGBgYGBggEBgYGAwMGBggIAwgIBAYEBgYIBgYEBgMICAgICAQICAgIAwgECAYIBgMIBAYEBgQGBgYGCAYGCAgGCAQIBgMGBAgEBAQGBAgIBgYGBgYECAgDAwYDAwgGBgQDCAQEBgMEBgQDCAYDBAgICAQGCAQICAQEBgQIBAgGBgYIBgQECAYIBggGBAQIBgYEAwgICAQGBggDCAYIBAYGAwYGAwYEBgQEBgQECAQEBggECAgICAYIBgYIBgYGCAMGAwYDBgYIBgMGBggEBAgECAYDCAgICAYEBAQIBgYECAYEBAMGBgYGCAQECAgGBgQGBgMGBggGAwgDCAYGBggIBAYEBgYICAYGCAQGBAYGCAgEAwgDCAgIBAgIBggIBAYICAgGBAYGBgYGBggGCAQGBgYDCAQDBAQGBgYEBggGAwMGBgMGCAYICAYIAwgEBggGBAYIBgYGBgMGCAgGBgQGCAQGBAgEBgQDCAQDBgYIBggGBggEBgQGBggGCAgIBgQIAwYDBgYECAQEBgYGBgYGBgYEAwYECAQICAMEBgQGAwQGBAYGBAYGCAYGCAMICAQIAwQDCAYEAwYDBAgICAgEBggDAwYGBgYICAYGCAgIBAYIBggIBgQICAQGBggGBAgEBAgIBggIBgQIBAgIBgYDBAMGBAYGAwYIBggDCAYECAgGBggGCAYIAwgECAgGBAgEBgQGCAYGBggDBAYGBgQIBAYGBggEAwQECAYIBgYICAgGAwYIBgYDBAMGBAYIBAQDCAgGAwYGBgQIBAYIBAQGBgQGBgQEBggGBgYIBAQGCAYGCAQEAwQGBgYGCAQGBgYEAwgEBggGBAgGBgYEBgYGBggEBgYGBAMGAwgGBgYIBAQGBAgDBgQGCAYGCAgIAwYDBggGBgQDBgMIBgYGBgYIAwYIBgQGAwMGCAYEBAYGCAYGBAYECAYGBAQIAwYICAQEBgYGBgYICAgEBAYGCAYIBAgGCAYEAwYGAwMGBgYECAMIBggIBgYECAYECAYDBgYDBAYGCAMGBgYGBgYGCAYIBAYGBgYIBgQIBggICAgEBggICAYEBggGBAYGBgQICAgEAwYGCAgGCAMGBgYECAMGCAgEBAYEBgYECAYEBgYDCAYGBAgEBgQGBAgGAwYECAgDCAQIBgYIAwgEBgMIBgQGBAQGBggEBggDAwgEBAYEBAYICAgGCAgIBAgIBAYDBgYECAQIBgYGCAYECAYGAwMIBggICAYGCAYICAYIAwQGCAYGAwgGBgQICAgDBAYIBgYEBggGBggGCAYDBgYEBgYGBggIBggIBgYICAYGCAYGBgYIAwgIBgYDBAYECAYEAwQGBAQGBggIBgYEAwYDBgQIBggICAYICAgECAYGCAgIAwYICAQGBgQGAwMGCAgDCAYECAYIBAYEBggGBgYGBAYGBgMGBgQICAYDCAYDBAQIBggIAwgDCAQGCAMEBgMDAwYGBggEBgQIBgYIBgYEBAQGBgYGCAgGBgYGBgYEBgMGCAMECAMEAwQGBgMICAQEBAQGBAYICAYIBggIBAQIBggGCAYGAwQEAwQGBgYGCAYGBgYECAgGCAMICAYGBgYEBgQECAYGBgYIBgMGBggIBAgGBAQICAYGBgYIBgQDBgYEBAQGAwYEBgYGBggIBAYIBgYICAQGBggEBgYICAgIBgQIBAgGBgYEBAQDBgQGBgYGAwQGBAQEBggEBgYGCAMGBgQGBgYGBgYIBgQGBAQIBAYIBgQGBggIBAgDCAQICAQIBgMEBAgEBgMEBgQDCAQEBgYGBAgGBAQICAgEAwgGBgYGCAMEBAQGBggIBgYGBgYIBAYICAYEBgYGBgQDBggIBAMICAgEAwgGCAMGCAMDAwgIBgQGBAQGBgMEAwMIBgYGCAYIBgMGBggGBggDBAQGCAQGBAMICAYIBAQDCAgEAwYICAYGBAQDBgYICAYIBggGBAgICAQDBgQGBgYEBggIBAgGBgYECAMIBgMGBgMGBAgDCAQIBAYIAwYIBgYECAgGBgQGBgQGBAYGCAYIBgQGBgYGCAgGBggGBgMGBggIBAgICAQGCAYGCAYIBggGBAYIAwMICAgGBggECAgGBggGBgQICAYEAwMIBAYGBAgGAwMIBggECAQGCAYGBgMDBAgGBgYIBggGBgYIBggICAYGBgYIBgYGBgMEBAYEBggGBggICAMIBggEBgYEBAYDBAMGCAQEBgYDBggDBggGCAYGBAYDAwYIAwgEBggECAQDCAMGBggDCAQIBAgGBgYGBggEBgQEBgMIAwgGCAQEBggICAYGBggEBggGBAMECAYECAQICAgGCAgEBgMICAQDBgMIBAYICAQIBgQGBAYGBgYICAYICAYGCAYIBggIBAgEBgYICAgGCAYIBgMEBgYIBAYIBgYGBgYGBAQIBgQDBAgIBgYECAYIBAYGBgYIBAQGCAMGBggDCAQGBgYIBgYDBAYIBgYEBgQGBggGCAYECAQICAQGCAgGBgQIAwYDBAYGCAYEBAYICAgICAQEBgQGCAYICAgGBggIAwgIBgYICAYIBgYGBgQICAQGBgQGCAgGAwYIBAgGBgMEBggIBAgDBAYDCAgGCAYIBgYIBggGAwgIBAYEBgYGAwQDBgYIBggIBggGAwYICAgIBgYIBAQDCAgEBAgIBggIBgYEBggEBAYGBggGCAgGCAYEAwYECAgDBAMICAgGCAYIAwYDCAYGCAYIBAYGCAMGCAMEBAYGCAgEBgQDBgQGCAYIBgQGBAgICAYECAQECAYGCAYDBggIBgYGCAMGBgYGCAYGBgMGCAMECAYGBggGAwgEBAMDBgQGBgQGAwgGBgQGBAgDAwYIBgMDBggECAQGAwMIAwQGBAgGBgYIBgQEBgYEBgYIBgYDCAQIBgQIBAYGAwgDBggGCAgICAgEBAMGBAQIBAgGAwYDBAgECAgGCAgGAwMGBAYECAYEBAYGCAQIBggGCAgDAwYECAYGBgYGBAgGBAYIAwYDAwYGBgYIBAYGBAgDCAgEBAMDCAYIBgYGAwYGAwYEBggGCAgGBggGBggGBgYEBgQDCAgICAMGBAYGBgYIBggGAwYGCAYDCAYDCAQGBggDBgYDCAYIBAYEBgYGCAQGBAgGCAYICAYGBgYIBAYEBgMGCAYDBgQDBgYDBAgICAQEBAYEBgYGBggICAQEAwQIBggGBgMIBggIBgYGBAQGBgYICAYGBggGCAMIBggDCAYEBAQGCAYEBAYEBgYICAgGAwgEBgQDBAgIBAMIBggGBgYGBAYEBgQGCAYEBAQICAQECAYEBAYIBAMGAwMIBAYIBAgGCAgIBAMDBgYGAwYIAwQGBAQEBggGAwgGBgYIAwMDBgYGBAgICAYEBAgEAwYEBggIBAQIBAgEBgYICAYEBAQGBgYDCAYGCAYGCAYGBAYGCAYGBAQICAYGBggGBAYGBgYGBgYGBgQEBgQGBgQGAwYGBgYIBAQECAYIBgQGCAQGBggGBAYGBggICAQGAwgIAwYDCAYICAYGBAQIBgQGBAQGCAMDBggGBgQICAgDBAYIAwgGBgQECAYIBgMGBgQIBgYDBgYIBAYECAgDCAQDAwQDBAQECAYEBAYGBgMIBgMDBgMGBgQIBAYIBAgGBggICAgEBAMGBgYGCAQGBgYGCAgEBAYDCAYEBAgIBggICAYDBAYGBgYECAMGBgYIBAgICAYGCAMEBAYIBAgGBAgGCAYEBAYEBAQICAgECAMGCAYIBgYGBgMGBggIBAgGBggGBggIBAQECAYEBAgGBgYGBggECAYGBggEBAQGBAgDBgQIBgQGBgYGCAQICAgEBAQIBgYGBgYIAwgGAwMICAYECAgGBAgDCAMDAwgIBAYIBggEBgMIBAgGCAQIBggEBAQICAgEBggECAgIBggEBAQGBAMEBAYICAYGBgQGAwQIBAYEBAgDBggIBgMIBgYICAQIBgQGAwgDBgYGBAQIBggGBgYEBgQIBgQGBgYEBggDBAQEBggGAwYGBggGBAQGBgYIBgYGCAgDBAYGBgYGBgMGCAgIBAYGCAgIBgQGCAYEBgMEBggDBAgEBgYGBggEBgQDBgQEBgYIBgQGBgYGCAYGCAgEBAMICAQGBgYGBggGBgYEBAYIBAgGBgQGBAYEBgYIBAgIBAQDCAYIBgMGBAgICAYGBgQGBAYECAgIBgYIAwYGAwgDBgYGBAQGBAgICAgGCAYICAQEBgQGCAYGBgQIBgYGBgQIBAMGCAQICAYICAMICAYECAQEBgMGCAYGCAgGBggEAwQIBgYIBAgGBggIBAgEBAgIBAgEBgMIBAYDCAgIBAQGBgYIAwQIBgQIBAYIBggGBAYGBAYICAgIBgQICAYGBAQGBggIBgYIBAYGBgYICAgICAgGCAYIBgYECAgGBgQGBggGBgYIBAQIBggICAgDBgYEBAQIBAQIBgYGBggEBggGBggGCAYGBAYEBgQGBgYGBAgGCAYGBAMICAMIBAQECAYIBAgGCAQGBgYGCAYDCAYGBAYEBggGCAgGBgYICAMGBgYIBgYEBAYEBgYDAwgIBgQDCAYEBAQGBgYDCAQGBgYGAwQGAwQGCAgGCAYGBgQGBAYIBggIBgYEAwQDAwMDCAMICAYGAwQGBgMGAwQGCAQDBAgGCAYIAwYGBAYEBAYGBgQIBAQGBgQGBAYGBggEBgYGBggIBgQECAYIBAgGCAgIBgYICAgGBAgGCAgIBgYGBAgGBgYIBggDCAYIAwgGCAYIBgQDCAQGBgYGAwYGCAMIBgYGCAYGBgYGAwQGAwYEAwQGAwQIBggEBgMGBAMEBgYDBggIBAYGBAgGCAYGBggECAQGBgQECAQECAgIBAgIBggGCAYEBAgIBgYGBggIBgQGBAYGBgYEAwYICAQICAYGAwQICAgGAwYGBggIBgQDBgQGBggGCAgGBggIBAYEBAQGBgQEBAMDCAYIBAgGCAYGBgQECAYGBgQEBggICAYIBAgIBAYGBAYDCAgICAQIBgYIBggGBgYECAYIBgYGBAYGCAgECAYEBgYIBAQIBgQICAYICAgICAYGBgYDCAgIBAgICAgGBAgGBgMGAwMIBgQGBgMGBggGCAQIBgYIAwgGBgYECAQGBAMEBgQGCAYECAgDBgQIBAgICAQICAgGBAgGAwgGBgYIBAgIBAYGBgYIBgQGBgYDBAYGBAQEBgQICAQGBAgGBAYDBgYDBAgGBAgIBgQECAgIBgYGBggEBggECAQGBgYIBgMGCAMEBAYEBAYGBggGBgYDAwYEBAQIBAQGBAMGAwYDCAYIBgQGBgMIBggGAwYDBAQIBAYIBgYDCAQIAwQECAgGCAQIBgYGCAgEBggDBgYEBAYIBgYGCAYICAYIBgYIBggDCAQGCAYGBgYGAwQDCAYGBAgEBAYICAQICAYECAYIBAYGBgYGBAQEBgMIBAYIBggEBggDCAQECAYGBAQGBAgIBggGBAQGCAYIBgMIBAQICAYGBAQDAwQECAYIBgYICAQIBAQGBgYGBgQIBgQIBggDBAgGBAYEBAgGBAgEBggDBAYGBgYECAYEBggICAYGCAMGBggECAYICAYICAYGBAgEBggECAYGBgYGAwgEBAYGBgYGCAQDBgQDCAgGBgYGBgYECAgICAYEBAYGBgQGBgYGAwYIBAQGBgYIBAgEBAMECAQDBgMECAgGBgYDCAMGBggGCAQEBAYEBAYIBggGBAYGAwgGBggIBgYGCAgEBggEBgMGBAYDBAYIBAgEBggGBgQICAgGBAYICAYIBgQIBgYGBAgEBAYGBgMGBgQGBAQIBggEBgQIBAYDBgQEBggGCAQGBgYEBggGAwMEBgYECAMGCAYGCAQGBgYEAwQGCAQICAgGBAYDBggDBggIBAYEBgMEBgYIBgQGBgYIBAgEBgMGAwQIBgYGBgMECAYIAwYGCAQGBgQGBAgECAQEBgYGBAYICAgGCAYIBgMIBgYGCAgGCAgEBgYGBAgEBAgIBggGCAMDBAYEBgMGCAYIBgYIBggEBAYIAwYECAgEBAYGCAQGCAYDBggEBgYGBAgICAQGBgYEBAYDBgYGBgQGBgYGCAMGCAYIAwMEBAgIAwQGBgYGCAYEBggIBAYIBgYIBAgGCAYIBgYGBggGCAYECAgGBgMGBggGBggIBAgGBAYGCAQGBggIBgYIBgMEBgQICAYDCAYGBAgGCAQIBggGAwgEBAgGBggEBgQICAQIBgYDCAMECAgEBggIAwgGBgQGCAYDCAYICAYGBggDCAYGBggEBggGBgMDBggDBAgDCAQECAMGAwYGAwQGAwgICAYGBggGCAYIBgYEBAQEBgMEBAgGCAgIAwQGBgQICAYGAwYDBAQGCAYGBgQICAYECAYGBgMDCAYICAgGBAYGBggGCAQIBAYDBAYEBAYIBAgGBgQEBgYIAwgDBgYECAQGBAYGCAYEBAMIBgQDBgQIAwgIBgYDCAgGBgYGCAgECAgIBgYGBgQGCAYGCAYGAwMIBgQEBAgECAQDBggGBAMGCAMGBgYGBgYGBggGBgYICAQIBgYIBgYGBAQGBAMIBAgIBgMEAwMEAwYGCAYICAYEAwYIBgYGBgYGBAQIBggGBgMICAgGAwMIBgYEBAYECAgGBgQIBggECAQIBAYGBgYGBgYGCAgIBggEBggIBgYEBgQGAwQIBAgGBAYGCAgGCAQIBgQGBgYGCAQECAgGBgQDBggIBggDBgQEBAQGBgYEBgYEAwQGCAgICAYGBggEBggGBgYGBggIBggICAYEBAYGCAQGCAMIAwYGCAgIBggDCAMGBAgICAYEBgQDAwQICAgGBggEAwYICAYIBgQGCAgICAMDBgYGCAYGBAgEBgYGBAYEBggECAYICAQICAYEBgYGCAQIBAgGCAYIBgMICAMGBgQIBAMIBgQIBggIBgYGBAYIBgYGCAQDAwMICAQICAgDBAgIBggGBAYIBgYDCAQGBggGBggGBAgEBggDBgYGBgYDBgYEAwgGBAgIBgYDCAQGBAYECAQECAgGBgYEBAYEAwYGBAMICAYICAYEAwQDBgYEBgYIBgMGBgYIBgYEBgMICAgICAQIBgQGBAYGBgQICAQGBgYGBAgGAwYDCAgGCAgEBAYIBAYIBgYEBAYEBggICAgGBgYGBgYDBgQGBAQICAgGAwYEBgYICAQIBgYGBgYGBggDCAgIBgQGBAYGBggEBgQGBgQGBAYIBAYICAYEBggGBgYICAQIBggDBAYECAMGBgYEBAgICAYGBgYEBAgGBAYDBgYEBggIBAYEBggEBAYDBAgIBgYIBggEBAQEBAYGBggGBggGCAQGAwgGAwgGBAgGBAYIBAYEAwQGBggGCAgICAQGBgMIAwYEBAYGBAYGBAgGBggGBggGBgQDCAgGCAYGAwgGCAMEAwYEBgQGBggGCAgGCAgGBgYGCAgICAQGCAYGCAQGCAQGBgQIBAYEBggECAYGBgYGBAMGBggGBgYIBgQEBgYGCAYICAYEBgYICAYIBgYGBggGAwYGBgQDBAYGBgMEBgYGBAYGAwYEBggGCAYGBgYEBgYGBAYEBAYDBAYICAMGBgMGCAQIBgMGCAgIBAYGBAQEBgYEBAgIBgYECAYGBAgIBggEBAQDBAQGAwMGCAgICAYIAwYICAYGAwYIBAQGAwgEBgYIBgYECAgGBAQICAgIBgYGBAYEBgYGBAgICAYGBAYEBgQICAQGCAQIBgYIBggGBAQGCAgGBgQECAQGBAgIBgMDBggIBgYECAMECAYGBAYECAgIBgYICAMICAMDCAgICAMICAMECAYECAQGCAgECAYEBggDBAgGBgQEBgQIBAYGBAYGCAYGAwQGCAgEAwYIBgYICAgGBgYIBggGBAQIBgYGBggIBggGCAYGBAYICAYEBggGBAgGBgYEBAgIBgYIBggIBgYICAYGBAYIBgQGBgYIBgMGBAQDCAQDBgQIBggEBgYICAMICAQECAgECAgICAYGBggIBgMECAgGBgYGBAYEBAYDBAgGBggEBgYICAYGCAgICAgEBAMEBgYGCAgGBAQGCAQEBgYIAwYIAwYDCAYGBAgGCAgEAwQGBgYIBAYGCAYECAYICAgGAwYEBgYICAgIBgYEBgQGCAYIBAYIBAgEBAQGCAgGAwYGBgQECAgIBAgICAgIBggIBggEBgMICAMGBgMGBggEAwgICAYEBggGBAgIAwMIBgQIBggEBgYICAYIBgYGBgQIBAYIBgMGBggGCAYIBgYDBgYGCAQEBgYGCAMGBgMICAQICAgIAwYDCAQICAgICAYICAYIBggEBggICAYDBgQEBggEAwYIBggECAYIBAYGCAYGAwYICAYIAwgGBAgGAwYIBggGBggECAYGBAYGCAgIBgYECAQGCAYICAYDCAgGBggEBgQGCAYGBAQIBgYIBgYGCAMEBAYGBgMGBgYEBAgEBgMIBggGBgQGAwgIAwgGBgYGBggGBgYGBgYIBgYIBAMEBgYGBggGBggIBgQGBggECAYIAwQGBggGBgYGBggGCAgDBggGBgQIBgYDBAYDBgYGBAQGBgYDAwYGBgMDBggGBggGAwYECAMEAwgICAYIBggGBgYIAwgGBAYIBgMECAYGCAQGBggICAYEBgYIBgMGBgQICAgGCAgIBgYICAMECAYGBgQEAwgEBggGBAYEBgQGCAYIBgYEBAgIAwgGBAYEBggEBgMECAQGBggICAgEBgYECAYGBgYGBgMGCAQIAwQECAQIBgYIBggEBgYICAYIBgYIBgYIBggIBgQIBgQICAgGBAYICAQGBgQECAQECAgGAwQGCAYIBggGCAYECAYECAMGBgYICAYIBAMDBggGCAYGBgQDCAgGCAQIBgQEBAgIBggDCAYGBggICAQGBAYIBAYGBggEBAQICAQEBgYGCAgICAMGAwYGBgQICAYEBAYGCAYIBgQGBgMIBgYGBgYIBggIBggGBgYEBgYGBAYICAgEBgYEBgQDAwgGBggGBAQIBAMGBAQIBgYGCAMEBggECAYIBAYIBggGCAYGBgQEBAQGBAgGAwYGBggEBggGBAYICAQICAgDBggECAYIBAYEBgYIBAQGCAMICAYEBggICAYGCAYDAwYEBAQIBgQGCAYDAwQECAQGCAYGBgQGAwYECAMEBgQIBgYGBAMGCAMGBgYGCAYDBggICAQGBggGCAgECAYGBAQEBgYEAwYDBgYICAgEAwgEBAQEBgYIBgYIBAYEBgYIBgMICAgGBggIBgQEBggGCAMIBgYGBgQGCAgEAwgGCAMDCAQICAgGCAgGCAgGAwQICAgIBggDBAgGCAQGBggGBggEBgQGBggGBAYEBgMIBggDCAQGCAMIAwgIBgYEBgQDBggGCAQIBgMIBgYIAwYIBgYGBAMIAwYGBAYECAgDCAQIBAgIBAgIBggGBgYECAMGCAgGAwQGBAQGBgYICAgGBgQEBggGBgYGCAYDBAgICAgGCAYGBAgGBgYIBgQDBgYEBggEBgQECAQGCAQGBggEAwgGBgYGBggGBggGBAQECAgIBggIBAYGBgYGBgYIBAgEAwQICAYDCAgGCAYEAwYIBgYEBggGBggGCAYEBgYGCAYGBgYGBgQIBAYGBAYDBggGBgMGCAMIBggGCAgGAwMICAgICAQICAYDBggIBgYIBgQEBgMGBgYIBgMICAMGBgYGBggEAwgDBggEBAYEBgMGCAQEBgYIBgQIBAgGCAYIBgYGBggIBgYEBgYEBggGBgYDBgMECAQGBAYEBggEAwgEBggGCAYIBAYGBAYGBgQDBAYDBAgGCAgICAYGBgYEAwgECAgGCAMGBggDAwgGBggEBgQGBAYDBggIBgYIBAMDBgYGBggEAwgICAYICAQGBgYEBgYEBAYDCAYEBgQGCAYEBAgDCAgGCAQIBAgICAYIBgMGCAQDBgYDBgYICAQIBgQGAwQEBgQEBAYIBAYIBAYGAwgIBAgGBAYICAYGCAgECAYIBgYGBgMGCAYGCAgECAYIBAYGAwQGBAYEBgMGCAYGBggGBAgGBgQGBggGBgYICAgGBggIBggDCAYDAwgGBggGBgQICAQGBgYGCAgIBggGBgQIBgYICAYICAYGAwQIBggGBggIBAQIBgYIBgQGBgYGBggICAMIBAYIAwQICAYECAgEBAYDBAQECAYEBAQGBgQGCAgEBgYGCAgDBggGBgYIBgQIBAYECAYGAwYGBgYIBgYECAYICAgIBggGBggEBggGAwgGAwYGAwQGBgYGBgMECAQGCAgGAwgIBgYDCAMGAwgIBAMGBggDCAYGBgQGBAMDAwYEBggEAwYECAQIBgQGBgQIBggGBAgECAYICAgDBgQGBAYIBAYEBggIAwMDCAYGBgYIBAQICAYIBggIBggIBggGBggEBAYECAYICAYIBggEBgYIBAgIBAYDCAgGBgQGBgQDBgMICAgEBgMGBgYDBggGBgYGBAQGBgYGCAgIAwMGAwYIBggICAgIBAQGAwMICAgIAwMECAYIBgMGBggGBgYEAwgICAYDBAgEBgYGAwgIBAgGAwYGBggDBAgEBggGBgYEBAYIBAYIBAYIBgMIBgQGBgQGBgYGAwgIBggIBgYECAYIBgYGBgYICAgDBgMICAQECAYGAwYGCAYEBggICAgIBgQICAYGBggGBggICAMGBggIBggDBgYGBAYDBgYIBgYEBggDCAgECAYGCAQECAgGBAQICAgDBgMDCAQEBAQEBgQGCAgIBggECAYDAwYICAgIAwYGAwYICAYGCAgGCAMIBggGBAgEBgYDCAQIBgYIBggGCAgEBgYICAMGAwYGBgQEBggIBggICAgGCAYIBAYEBgQGBgYGBAYEBgYICAYIAwgIBgMDBAgGAwQECAgICAgGBgYDBgYGBgYECAMEBggGBgYEBgQIBggIBggGCAgECAQGBgYICAYGBgQGBgYECAQGBAQECAMEBAQIBgYEBgYEBAQGCAgDBgQEBgMGCAYGBAgIBgQEBggGCAgGBggIBggECAQEBgQGBggIBAYEBgYGAwYGCAYGBgYDCAgGBgQIBAYGBAgIBAQIBgYGBgYGBggDBAQGBggEBAgIAwYGBggGBgYIBAgDAwQIBgQGAwQIBggGCAYEBgYGBAYDBgYIBAgICAYIBAMIBAYGBgYGBgMGCAYDCAYGBAgGBgYIBgQEBgYGBggICAQDCAgEBAYEBAYGBgYGCAYIBggEBgYECAQGBgYEBggICAgGBgYGCAQIBggIBggDAwgEBgYIBggICAgEBgQGCAQDBggGCAgECAQECAgGCAgEBggICAYGCAgGCAgGBggDBggGBgYEBgYIAwQIBAMGCAgICAMGAwMGBgQEBAQGBgYEBggIBAgIBgYICAgEAwgGBAYICAYGBggGBgQGAwYICAgGCAQIBgQECAYGBAgDAwgEBgQIAwYICAMGBggIBgYECAgEBAgICAQIBAQGCAYGCAYGCAgGCAYIBgYEBAQGCAQDBgYIBggGAwQGCAgGBgYDCAMEBAYIBgYDBAMICAgEBgYGBAgIBgQGBggECAYIBggECAgEBAMEBggIBggGBAYICAQGBgYDBgYIBggIBggGBgQGCAgEBAYIBAYIAwMDBgYIBgYECAMGBAgGBAMDCAgGCAYIBgMGAwMGBggIBAYICAgGBgYGBggDBAYEBAYECAYIBgMGBgQIBgMGBAgGBggEAwQIAwYGBgYEBAYEBgYGCAMGBAMEBgYGBAQIBggGBgYICAQEBggICAYEAwQGCAQEBggGBgYDBgQGBAYGBAgDBgYGBgQGBgQICAYGBAYGBggEBgYECAQEBgYGBgMGBggDBgYIBgYEAwQIAwMGBAYECAgECAYDBggIBAYGBgMGBggEBggDBgYGCAQDBAgEBgQDCAQECAYIBgYGBgMIBgMDBggGBgYDBAYEBAQEAwYEBgYEBgYGCAYGBgMEBgMECAYIBgYECAYICAMGCAgGBgYDBgYECAQGCAgGBggICAQIAwYECAYGCAgGCAgGBgYDBAQDBgYGBgYIBggICAYGBgMICAQGBgYIAwgGAwYECAYDCAgIBgYGBggGBAYEBgMGCAgGBgQIBgMIBgQDBgYGAwYDCAQGCAMIAwYECAgECAYECAYICAgEBgYGBAYGBgYICAYGAwMIBgYGBggGBgYICAgGBgQIBAgGBggIBgQIBgYGCAYIBgQECAQECAgEBgYGBAYIBgYIBgYIAwYDAwgGBggGCAYDBAgGCAYIBggEBgYDBAQGBgYEAwYGBggDBAgIBgYGAwgGCAQGBAYICAQGBAgGBgYDCAYGCAYICAMDBgYECAYEAwYICAgGAwgEBAYGBAYGBgMEBAgGAwYECAYGAwgDBgMEBgQEBgYECAgGCAQEBAMICAYIBAgGBgYIAwgEBggEBggEBgYGBggDBgQIBgYEBAMGBAgECAYGBggECAYEBgMEBAgGAwQGCAYGBAQIBgYGAwYGCAgEBAMGBAYECAMGBAgGBAYGBAQDBggDBggGBgYGAwYIBAgIBgYICAMGBggEBggGBgQIBAgGBgYDCAgGBAgIBgYGCAYIBgYGCAYICAgDBgQDBAgGCAgIBAYIAwgIBAYIAwgGCAYGCAYGBAYGBggEBAYGBggIBggEBggGAwYECAYGBggGBAYIBgMIAwMIAwYGBggGBAMIBggGCAgIAwQIBggGBggGBggGCAQIBAYGBAYGBAQGBgYEBgYIBgQIBggICAgIBgMIBgYGBgMDBggICAgECAgGBgYIBgYGBggGBgQEBggGAwYEBggICAMECAMIAwMICAYGCAgICAYIAwYGCAgGCAQGBggDCAYICAQIBgYGBggIBgYGBgMEAwYEBggGCAYGBggIBAQGBgYIBgYEBAYIBAgGBAMIBgYGBgYDCAgGCAYEBgYDBggIBgQIBggGAwYEBgQEBAQGCAMEBggICAMECAYEAwgGAwYGCAYGCAYIBgQIBAQGBgQIBggGBgYGBAgEBgMIBAYECAYGBgYGCAQEBgQGBAgIAwQEBgMGBAYGBAgGBggGCAMIBAYGBgYIBggGAwQGBAQGCAYGCAgIBAQICAQGBggGBgYIAwQIBgQGBAYIAwYECAQECAgGBgYDBgYEAwYICAgDBgYECAQGCAgIBgYDBgMGBAgGCAgICAMICAYGBAgGBggIBggGCAgECAQGAwYDCAgEBgYEBgMECAQGBgMIBggIBgQIBggGBgMDBAgGCAYIAwYICAYIBAgGCAYGBgYEBgYGBgQIAwQGCAQGBgYICAgGBgMIBAgGBgYDAwYGCAQIBgYGCAQGBAMIBggDAwYEBAYICAgGBggIBgMDBAMGBgQIBgMECAYGBAMIBAQEAwgIBgYDCAgDBgQGBgYEAwYGBgYGBAYGBAgGBAYIBgQEBggIAwQDBgYGBgYIBgQECAgIBAYDBAYGBggGBggDCAQICAgIBgQGBAgIBggECAMGBggGBAYIBgYIAwgIBAQEBgQIBAYEAwgGBAYIAwgICAYGCAYIBgYEBgYEBggEBAYGCAYEBggGBgYGBAYIAwYGBggICAgEBAYEBgQIBgQIAwQDBAYDCAQGAwgGBgYDBgMIBggEAwYGAwgIBAMIBAgECAMEBgYECAgIBgQIBggIBAgDBgQECAYGBAQICAQEBgYEBAMIBAYIBgYEBAgEBAYICAgICAgIAwMGBgMEBgYICAYEBgQGBgYEBggDAwYICAYGBAgICAYDBggIBAgGBAYDBggDBgYGCAYGBAYDBgQIBgQDBggGBgYGBgMGCAQECAgGBgYICAYGCAYGCAgIBgQDCAQGBgMIBgYGCAQGAwgIAwYEBAQGBAgGAwgDBggEBAMGBgQIAwYIAwgGCAgIBAMIBAQIBgYGCAYDCAgEBgYIAwQGBAYGBAQEBgYIBgYDBgYGBAYEBgYIBgQEBggECAgICAQGBggEBgYEBAgGBgQIBAQICAYGAwMIBAQEBgYGBggGAwgEBgYIBggGCAYEBgYIBAQGBAQGCAQEAwQIBgYGBgQIAwYICAgEBgQEBggICAQGBAgIBggEBggGCAQIBAgGBgYGBgYIBgQGBAYGBggIBgYDBggDBAgECAMIAwYECAgGAwYIBAYGCAYECAYGBggECAgIBgQEBAMGCAQEBgYDBgQGBAMDCAgECAYIBggGBggGCAYEBggGBggGBAQGBgYGCAgGBggIBAgDAwgDBgQEBgYECAgDBggGCAQDBAYIBggGCAgGCAgICAQICAgGBAgGBAMGBgQGCAQICAgDBAYICAgGCAQGCAMGBgMEBggGBAgGBAgEBgYIBggEBgQGAwgGBAYGBAYGBggGBgYDCAYEBgYGBAQIBggGCAYIBgYIBgYIBAQGBgYECAgIBgYICAQIAwgIBggDAwYICAgIBAQECAQGAwgECAYIBgYEBAYDAwgECAYEAwQECAYIBgYEBAYGCAYGAwMGBggIBggGCAQEBgYEBAYGCAYDBgQIBgYICAQGCAgGBggDCAYIBAQGCAYGCAgIBAYEBAQEBgQIBggDBAYGBAQIBAYGBgYGCAQGBgMDAwgGBggGBAgGBggEAwQGCAgICAYIBgQECAYGCAMGCAYICAgECAgDBAgGCAMIBAYGBgYEBAYEBgYGBAYICAgGBgYGCAQEBAMICAYGBggICAQGBgQDAwQGAwQGCAYGAwgGBgQIBgQECAgECAMIBAQGBggGBggECAMIBggGCAMGBgYGCAgIBgYIBAQEBgYIAwQGBggEBgQGBggGAwMGBggGCAYGBgYGBAQEBAQECAYECAYGCAYDBgYGCAQECAMEBAgGCAYICAYIBAYGCAYEBgQICAgGBggGBgYGBggDBgYGCAgGCAgEBAgIBAQECAgICAMGCAQEBAgECAYGCAgECAQGCAgDBAgGCAYICAgIBgQDAwQGCAYGCAYGBgQIBAQEBgMGCAgGBgQGBgYGBAYGCAYIBgQGCAYIBgYEBgQGBgYIBgQIBgYIBAQGBgYICAYGBAgGCAgGAwgEBgYIAwQICAgGBAgECAMGAwQEBAYGCAYEBAgIBgQGAwgIBgYGBAYDCAYDBAYGAwgGBAYICAYGCAYEBgQGBgQICAQGAwgECAgIBAgIBggDCAgGBAMIAwQICAYEBggICAYEBAMICAgEBgMGAwMGBgYGCAQDCAYIBggGBgYICAQGCAgICAQGBgYECAYGCAYEBgMEAwgICAQDCAgIAwYECAQGBAYDBAYGBgYICAQEBggGAwQIBAgIBAgEAwMECAMIBgYIBgYEBAgECAgGBggIBAYDBgQIBgQGBgQGBgYGBAYEAwgEBgYEBAQIBAQEBAQGCAYIBgMDBggGCAYGBggDCAQEBgYGCAMICAYIBAgIBgYGBgYEBggEAwQDBAQEBAYDBgYGBgQICAMGAwYGBgYIBgQIBgYEBAYICAYICAQEBAQIBAQDCAMGBggEBgYECAYIBAYGCAQGBgYDCAYIBAQICAYDBgYIBgYGBAgGAwYDBgQDAwYDBgYDCAYGBggGAwYGBgYGBAQEBgYGCAgEAwYDBAYGCAYGBAYGBgQICAYGCAgEAwQECAgEBgMIBAQIBAYICAQECAgGBAQGBAYEBgQGBggGCAgIBAYIAwQIBgYEBAMICAYECAYEBggIBAYIBggEBgQICAgGCAYDCAQGCAQEBgYGAwgGBggGBggIAwYIAwgIBgMIBgQGBgQDBAYEBgMECAYGCAQIBAYECAMICAYGBggIBgYIBggGCAQICAgEAwYGBAgEBgMEBAYIAwQGBAgEBAQIBgYGCAYGCAYGBggGCAMDBggGBgYDBgQGBAMGCAYGCAgGCAYECAQGBAgGAwgECAgICAYIBgQDBgYGBAgEAwYEBAYIBgMIBAQDBgQIBgQEBgYGBAgDBgYIBggGAwgICAQGBgYGCAYEBgYIAwQEBgMGBgQGBggICAYICAQGBgYIBggGBgYIBggDBggGBgMGCAMIBAQGBAMGAwgDBgYGCAYGBAYIBgYICAYGCAgECAYEBgYEBgYGCAYGBggIBggGBggIAwYGBgYEAwYICAYGBAYICAQICAYECAMGBgYIBgQGBAYIBggIBAQICAQGBgYECAQECAQIBggGBAYGCAgGBggECAMGBgMGCAYIBgMGBggGBAQICAYEBAYGBAgGCAYGBgMGBggDBAgGAwYGBAgIAwgGCAYDBAQICAYEBgYECAgIBggIAwQGCAQIBAgICAMEBAYEBAgGBgYGBgMGBAQDBgYEBAMGCAYGCAgGCAQGBggIBggIBgYGCAQGBgQIBggIBAgGBAMGAwYEBgQIBAgEBgYGBAQGBAYICAMGBAYIBgQDBgMDAwYGCAQGBggEBgQDCAQIBgYGBgQDCAMGBgYEBgYGCAMEBgYIAwQGCAMICAgIBgYIBgYIBAQDCAQIBgMGCAgGBgQEBgQIBAYECAYGCAYIBgQIBggDCAgICAYICAQGBgYGBggIBgYIBAQDBggEBggDCAYIBAgIBAQEAwgDBgYECAYGAwYEBgQGBggIBgQGBgYIBAgGBAYIBAYGBgYGBgYGBgYICAgDCAYIAwYGBgQGCAQGBAYICAQGBgYGBAQDBggGCAMICAQDCAYGAwYIBAMGBgYGBgYGCAQIBAgGCAgIAwgGCAMIBggGBgYECAgGBgYGBAQGBAQICAgGCAgEBgYIBgQIBgQEBAYGCAQGCAYGBgYIBggDBgQGCAYICAYIAwgDAwYGCAgIBgYEBgYICAYEBAgICAgICAYGCAYIBgYGCAQDBggIBAgEBAYGBgYGBggGCAMGBgYGBgYEBgQEBAYGBAgICAQICAYGBggEAwYIBAYICAQECAMGBAYECAYIBAYIBAYIBgMEBgYGBgYGCAYEBggDBAQGBgMIBgYDCAYEBgYIAwYIBgYDBgMGCAgEBgYIBgYICAgEBggEBggGBggICAgGAwgGBgYIBgQIAwMGBgYIBAYGBgQEAwgEBgYGBgYGBgMIBggGCAYGBgQGBgMDBAgGBgYIBAQIBgYEBAMEBAgEBgYIBgYEBAgIBgQGBgYECAgIBggGBgYIBAYEAwQDBAQGCAQEBgYGCAgGCAgGBggEAwYDBAYIBAgGCAMGBggECAgDBggGBgQGAwYECAQDAwYIBgMDCAQIBgQIBgYGAwMGCAYGBgYGCAgDCAgGBgYGBAMEBAYGBAgEBAgGCAYIBgMIBgYIBAgGBgQEBAgECAYGBAYEBAMECAYGCAYIBgYICAgDBggGBAMEBgYDBAgGBggDCAYICAQGCAgDAwYGCAYECAYGBgYGCAgEBgQDAwYGBggGCAgDBgYGBgYDCAMGBAYDBgYIBgQGBgYGBAQEBggIBggICAgICAYDAwQGBgMDBAYEBgYEAwMGBggEAwgIBggGBgMECAYECAQGBgMGBgYIBAYIBAYGBggEBgYECAgGBAQICAQGBgYEBgYGCAMEBggEBggIAwQGBggEBAQGBgYGBggGBAYECAYGBgYGCAYGCAgEAwYDBggIBggGBAgEBAgIBggGAwQIBgMDBgMECAYDAwYGBgYDBgYGAwgEBAMGAwYGBggGBggGCAYIBgMECAgGAwMIBgQIBgYICAYIBggGBAgGBAYIBgYGAwYIBgYGCAQGBgQIBgYICAYDBgYGBggIBgYGBAYEBAYGAwgEBgMIAwMICAYGBAgGBgQDBgQIBAYECAYGBgQGBgYIBgYGBgYGCAMECAQDBgYGCAQIBgYGCAYEBAgICAQEBAYDCAQGBgYIBggGBgYDBgMGAwQGBAYEBgYGBAgDBggGCAQGCAgEBAYIAwQGAwMECAQECAQGBggDBggIBAQGBgQEBgYGBggIBgYECAMGCAYICAYEBAQICAYEBAYIBggIBgQIBggEBggICAQIBggDBAYGCAMGBgYDCAYGCAgGCAYGCAYIBgMIBAgIBggGCAQGBAYECAYIBAYICAYEBgYGBggGBgMEBgQEBAMEBgYGBgQICAYEBgYECAgGCAgIAwYDBgYEBggICAQICAQEBgQIBAYGCAgGBgYDBAYDCAMIAwYICAQEBAMEBAgEAwYGBAgDBggGAwgGBggEBAYIBAQIBggGBgYICAgIBggGBgMIBAMGCAgDCAQGAwYDCAgGCAQIBggDBgQDCAYEBAMIAwYGBAYIBgYDCAQECAMEBgMICAgGCAQDBAgGCAQGCAYGCAgDBgYGBAMGBgYECAgEBAYIAwYIBgYGBAYEBgYEBAYDBAYIBgYGBgYGCAYECAQICAMEBggECAMECAYGBgYEBAQEBAYGCAYGCAYDBgQGCAYGCAgIBAQIBAgIBAgICAgGCAgICAgEBggGBggGBggGBAgECAYEBgYGBgQICAYIBAgGBgMIBgQGBgQDBgYIBAYGBAgGBgMGBAYGBgYIAwgGCAYIBgMICAYGCAMIBggGBAYGCAQDBgQIBgQGAwgGCAYICAgGBgQGBgYGBgYICAYGCAYEBgQGBggICAgGCAQGCAYGBAgGBgYIBgYGAwMECAYGCAgIBgQDAwgIBgYGBAMICAQGAwgECAYICAQGAwgIBgYGBgYIAwQIBgQGCAYGBggIBAgGBgYIBggGCAYIBAYDAwgIBgYDBAgGBAgIBgYEBggDCAgICAgGBAgECAMIAwQGBgQDCAYGBgYGBAgEAwYICAYGCAgICAYGBAgIBgYDBAQGAwYECAYGCAYIAwYEBgMGBgQIBAQECAYICAYGBgYIBggIBgYICAYICAgEBAQEBggEBggIBgQEBAQGBgYGBgQIBggIBgYIBAgGBAYIBgYECAgIBgMEBgYGBAgGBgQGBgYGBggIBggGCAgEBgQECAMGBgYGCAYGCAQGBgYICAgEBgYICAQIBgMGBAgGAwgGCAYDCAgGBgYGCAYGCAgGCAQGCAQEAwgGBgYICAgIBgQGBAgDCAMIBggICAYECAgDBAQDBggGBgYGBggICAgEBAYEBgYGBAYGCAQGCAYIAwYGCAQIBggGBAMEBgQGCAQGCAgICAYGBAYDBggECAgGBggIBgMGBgQGCAYDBgMGBAQGBggICAYEBgYDCAMEAwYIBgMECAYDCAYGAwMEBggEBggDAwQGCAYIBAYGBgMGBggIBAQIBAYDBggGBgYGBggICAYIBgYIBAgICAgICAMEBgYGBggECAgGBgQECAMDBAYDCAYGAwYEAwYGBAgICAQDBgMIBgYGAwQECAQGBgYICAgEBgMIBggICAQGCAYGCAYECAYICAQGBgYGBgYICAYGBgQGBAgICAYIBggGBgQEBgYIBAgGCAgICAYEBAYGBAYGAwYEAwQIBAYGAwYEBgQECAYGBAMECAgECAYGAwYIBggEBgYDCAMIBAYIBAYEBAMGCAgEBggEBgQDBgYGBgYEBAYDCAYGBAYICAYGBAgEBgQIBggGBAYGBAQEAwYEBggECAgEBggDBgYDBggGBAYGBggGBAQGCAYEBgYGBgYICAYEBgYIBgQGCAQGBggEBAYGBggIBggICAYGBggIAwQGCAYIBgQIBAMICAQDCAYEBgQGBAgGAwYEAwgGBAQGCAYIBAgGBgYDBAYEBAYGBggGCAQGAwYEBgYGBAgEBggGCAYGCAgECAgGBAgEBAYIBgQGBggECAgIBgYGCAgEBgQIBgYICAQEBgYECAYICAgIBggEAwgGBggIBAQIBgQIBggDBgQGBgMGBgMGCAYDCAYIBAgIBAYIBggEBAYEBAMGAwQDBAgGBgYGBgYEBggEBAgGBAYGCAgIBAMEBAgEBAQIAwMGCAgIAwQGBggGCAYEBAYEBggICAYIBgYGBggIBAQGBAYICAgGBAQGBggICAMEBAMIBgYDBgYGBggGBgYDBgYEBgMGBAgGCAgGBggGCAgDBggGCAMIAwQGAwYEBAgGBgMEBgYIBAgEBgYECAgGBAYICAYGBAQECAQGCAgIBgYIBAYDBgYGBAYGCAQEBggDBgQEAwgIBgYDBgQDBggEBAgEBgYGCAgIAwYEBAgGBgYIBAYEBgYIBgYIAwYICAQIBAYIBggICAQGCAQDBggGCAYEBgMGBgYIBgQIBgYECAYEBgQGAwYICAQEBgMEBggEAwYEBgYGBAQGCAYEBggIAwYGCAYEBgQEBgYEBAgGCAgDAwYICAgICAYGCAgIBgYGBgYDAwYIBgYIAwgIBAgGBAgIBggICAMICAQIBgMIBgQGCAYEBAgICAYICAQEBgYDCAgEBggGCAYECAYIBAgGBgQEBggEAwMICAYGBgYGBgYICAgEBggEAwYGBggECAMICAMEBgMECAYECAQEBgYICAMGAwgIBggDCAgGBgMIAwYGBggGCAYICAYICAYIBggGBgMGCAYGBgYEBAMDBAYGAwgGBgQGBAgICAYGBgYGBgYEBgYIBAQGAwgGBAYGCAYICAgIAwYEBAgGCAgICAMDCAYIBgYECAMECAQDBAYEBgYIBAYGBAgIBgYGCAgDCAMGCAgEBAQDBgYGBgYEAwgDBAMIAwgEAwMGAwgGBgYEBgMGBAQGAwQICAgEAwQGBAQIBggIAwYGCAYGBgYIBAgGAwQIBAYIBAMGBgQDBgYDBgQIAwYEBAMICAgEAwMGCAMGBgMEBAYGBggGBgYEBgYGBgYDBgYIBAYGBggGCAgEBAYIBgYGCAYIBAgIBgYGAwYIBgQECAMECAQGBgYIBggEBAYIAwYICAYGBgQDBgMGCAMECAQGAwQGCAYGBggGBAMIBgQEBgYGBgYICAgDBAYICAgGCAQIAwgEBgYECAgECAQGAwQEAwgGAwYEBgQIAwYGCAQIBggEBAgGCAgICAQGBAQIAwQDAwgDBggEBAQGBgYGBgYGBgYIBAgIBgYGCAMEBAYGBggECAYEBgQGCAgGBgQGCAgDCAQDCAQGBAgGBgQIBggGBgYEBgYGBgYDBgYDBgYEBAYGCAYDCAYIBggGBgYGCAQGAwgEBggECAQICAYICAYDCAYICAgGBgQIBggGBAYEBAYGCAgIBgQGAwYGBgQECAYGAwQIBgYDBggGBAYGBgMICAQICAMEAwYIBgQGCAYGBAYIBgQEBAYGBAQIBAgECAgGBgQDBAMGCAQECAYICAYIBAYGBAQECAYICAYIBggDBAQICAYDBgQGBgMECAYICAYGBgQDBAYECAYGBAMECAYIBAYGCAMGCAYGBgYDBAYIBgQEBAYGCAYEBgQGBggDBAgGBgMGCAgECAgGBAgDCAQEBgYGBAYDBgYIBgQGCAgDAwYIAwYIBAQGBgYEBggIBAgDCAYGCAYICAgDBgYECAQDBggGCAgGBggGBgMIBAgIBgYECAgEBAgGAwQGCAYGAwYDCAgGBgYGAwQGBAgGBgYGBAgIBAgIBgYECAYGBAMIBggEBgYGBAYECAYIBAMIBAgGBgQDBAYGCAQEBgYEBgYICAQDCAgDAwgDBAYGBgYGBgYGBgQDBgYICAYIBggIBgYGCAYIBAYICAYGBgYGBggIBgYIBAQECAMEBgYGBAgGAwgICAMEBAYICAQGCAYECAMGBAYEBAYIAwYGBAYGBgMEBgYGBgQGBggIBAYGBAMGBAMGBgMIBgMGBAgGAwQGCAgGBgQGBAQGBAgGBAQECAYGBggDBAQGAwMICAMIBAQGBgYIBAgGBggICAQIAwQGBggICAgEBgYGCAYGBggIBgYDBAgGCAgGBggICAgGBgYDCAQGBAYIAwYEAwYIBAYIBAMIBAYICAQGBAYIBgYICAYEBgQICAYDCAgGBAYICAQGCAgIBgYDCAMGCAYGBAYEBgQIBAgGBgQGBgYICAYGBgYEBAMDBggDCAgGBgMICAgGCAgDCAYGCAYDBAQGBggGBAYICAMICAQECAgGBAgICAYDAwMEBAgDBgYGCAYECAMGBAQIBgQGCAgGBgQGCAYGAwYICAgGBggDBgQIBggEBgYGCAMIBAgEBAgGBgMDCAMEBggGCAYIBgYEBgYGCAQEBgYIBgQGBgYICAMIBgQGBAYGBgYEBggEBAQIBAMIBAYGCAgGBgYICAgEBgQDBgYGBgYIBAQGBAgICAgEAwYGAwQIBggIBggDAwYIBgQGBgQGBAgIBggIBggGBgYIAwYDCAYIBgMGBggGAwQGBAQGCAYEAwMIBgQEBgQIBAYIBAgGBggICAYGBgYIBgQICAQEBggICAYECAgGBggGAwgIBAYGBAQECAgGBgYICAQGCAgEBggIBAgGCAYGCAYGBgYGCAYGBgQIBgYIBgYGBggIBggGBggEBgYGBAgIBAQGCAQGBggIBgYGCAQDCAQICAYEAwYEBgYGBAMICAgGBggICAYEBgYGAwYIBAYECAMDBgYEBggIBgYIBgYEBgYGAwYGAwMIBgQGBgYGBgQEBAYGBAgGBggGCAgIBAYECAYGBAQEBggGBAYEAwgECAgECAYGBgYICAgEBgQIBgMECAgGCAMGCAgGBAYECAMGBggEAwYIBgQGBggIBggICAYGCAYDBAYICAMGBAYIBgYICAMEBgYEBAYICAYGAwQEBAYGCAYGCAYDBAgICAYGBgQDBAYGAwYEBAMEBggGCAgIBgYGBggGCAgECAQGAwgGBgYGBgQEBgYDBgYICAYEBAYGBgQEBgMGCAYDBgYGBAYIBgMIAwQGAwYEBgYGBAYGBAgEBggICAYGAwYEAwYGBggGBAYIBAYGCAgEAwgICAQEBAgIAwQGCAYECAgGBAQGBAgICAgGBgMGCAgIBgQIBAYGCAYEBAYGCAgICAgEBAgIBggECAQECAYECAYEAwQIBggGBAQIBAgDBgQGCAQGBAYIBgYDBggIBAYGBgYIBgQIBggIBgQDBAgGCAQGBggGBgQICAgIBAMECAYIBgQGBggICAgEAwYEBgYEBAQEBAQGAwQEBgYIBgYIBAgGCAgGBgYGBgYECAYIBgMIAwYECAQGCAQIBAYICAgEBAQGAwYGBgYIBggGCAgIBAgEBgYIAwMEBgQEAwYGBAYICAYEBgQGBAgGBgMIBgYGCAYGCAYECAQEBggECAYICAgIBggGBAYGBAMECAQECAMIBgQEBAgEAwQGAwQIBggDCAYICAYIBAYEBgYDBAgGCAYGBgMDAwMGBAMGCAMIBgYGAwYEBgYICAgICAQIBgMICAYEBAYIAwQGBgQICAQEBgQGBAQEBgYIAwgEBAgDCAYGBAgGBggIBggGCAgGBggEAwMDBAQIAwgECAMDBgYEAwQGCAQDBgYDBAMGBgMGCAYIBgYICAYICAYECAgDBgMGBgYGBAYGBgYGBggEBgMIAwYICAQECAYIBAgGBgYEBAgGBgYGBgMGBgQIAwMGCAYIBgYGBgQGBgQIBgQGBAQGBggEBgYEBgMGBgQIBgYDBAYECAQDCAYEBgYEBAYIBgQGBAYEBAYEBgYIBggIBAMIBAYEBAQIAwgIBgYICAgEBgYIBgYECAgDCAMICAMIBggGBgYGBgQIBgYIAwQECAMGCAYEBgYIAwYEBgYGBgYICAgICAMIBgYIBgQEBAYIBgQIBgYDBAYIBAMIBgYGBgQGCAQGCAgGAwQGBgQEBgYGCAQDCAgGBAYEBgYEBgYDCAQICAYECAgIAwYDBAQGCAYDBAYECAYDBgQICAQGBgQGCAQGCAMEBgYGBggIBgYGAwgGBgYECAQGCAYEBgQICAYGBAYIBgYEBgYDBAQGCAYECAYIBggGBgYGBAMGBgMGBgQGCAYIAwYIBggEAwYGCAgGBgQGBAQDCAMEBggICAYGBgQGCAMECAgGCAYGBggGAwYDBgYEBgMICAgGBggGCAMEBggECAYICAYGBAgICAYGBAYDBAgGBggICAgIBAgGCAQIBgMGBgYIBggDBgYIBAYDBAgGCAgDBAYEBAgGCAgDBAMIBAgIBgYIBgMGCAYIBgYDCAYECAQGCAMGCAMGCAYIBgMIBgMGBgQIBAQGBgYECAMICAgIAwYGCAYGCAMICAYGAwMDBgYGCAQICAYIBgYEBgYEAwYGBAYIBggEBggECAQDBAYGBgYECAYIBggEAwYGBgMGCAMGBAQICAgGBgMEBAYGCAQGAwgEBggIBgYGBgYGBgQEAwYEBgYIBgYEBAgDBggECAYDBgQIBAYIBggIBAYGBggGCAYGBAYIAwgIAwQEAwYICAYDBggGBgQICAYEBgYEBgYGCAYEBAQICAQDCAQEBgYGBAYGBAYGBAMECAYGBAYIAwgGBAgGCAYEAwMGAwYIBggGAwQIBAQEBgYGCAQDCAYICAQGCAgGBgYGCAQGAwgGCAgGCAQIBggDCAgEBgQICAgECAMIBgQICAgGCAMEBgYICAYGBgQICAgICAYIBAgGBAYGCAYICAYIBgQGBAYEBgYGBggGCAQGCAQGAwYIBgYEBgQICAgICAYIBggIBgYEBggEBggGCAgIBAYDBAQGCAYIAwQICAgGCAgGBAYDCAgGBgYIBgQEBAgGCAgEBAgGBAgGCAgDCAgGBAgIBAgIBggGBAQIBAQIBAgEBgQICAgGBAgGAwYDAwMICAYDCAgEBAMICAYEBAMICAQGBAYGAwYDBgQECAYGBgQDAwYGBgYGCAYGBggDBgYIBgYGBAQEBgMGBAQGCAgIBAYGBgQGCAYGBgQGAwgIAwYGCAgICAYECAQIBAQICAYGBgYGBAMECAYGBAYIAwMICAgEBgYECAQDBAYGBggGBAQGCAgEBAgEAwQIAwgGBgMGBggIBggICAQGCAMGCAYGCAYGBAMGCAQEBAMGCAQGCAQGBgQGBgQGBgYIBAYGBggDBggIBAQGCAgGBAMIBgQECAQGCAgGCAgEAwMGBAgICAYEBAYECAYGCAMGBgMGBAYDBgQEBgQGCAYECAgIAwYECAYICAQIBgYEBAYIAwQGBAMGBggGCAYDBAYGCAgGCAgEBAYGBgQICAYEBgYIBAYIBggGBAgDCAYEBgYGCAgECAYGBAQIBgYGBAgGBggICAQIBgQIAwYICAMEBAgDBAgECAYGBggGAwMECAYGBggGBgYGBgYIBgQEAwgGCAYGCAYGBAgGBggEBggDBgYGCAYGCAgDBAgECAYGBgYGCAgGBggIBgQGBgYDBAQICAgGBgYIBggECAYGBAYDBAgIBgQEBgQGBAQGBgMEBggGBgYGBgYGBgYGCAYECAYIBgQECAYICAYECAYGBgYGBgQECAQDCAYECAYIBgYEBgQEBAgEBgQIAwYEBggGAwQEBAQIAwYIBgQEBggIBAYICAYGBgYGAwYDBgYGBgYGCAYECAgIBgYIBAYGBgYGCAYGAwgGBgMEBgQIAwQGAwYGBggGBggICAYIBAQECAYIBgYGBgYGBgYIBgMGAwgICAYGAwMGBgYDBggGCAQGBgYGCAYECAQIBAYGBgQDCAgGBgQEBAMGBgMEBAgGAwgIAwQGBAgICAYGCAYDCAYGCAYGBgYIBggGCAMEBgQEAwYGCAYGBggEBgMDBAYGBAMGBgYIBgQDBgYEBggGCAMEBAYECAQEBgYIBgQIBgYGCAMEAwQEBAgDCAMIBgQGAwMIBAgEBgYGCAYIBgYGBgYEBggECAMGBggIBAYGBgYDBggEBAgECAgIBAgECAgGBgYICAgICAQIBggIBggDCAYEBggIBAQGBgYGCAgIBAYGBgYICAgGCAYECAgDBgMGBgQGBggGBAMGBggIAwYGCAYGBgYECAgEBggIBgYIBAYEBgYDAwQIBAYIBgQGBAQEAwgIBgMEBgYGBgYICAMIBgQEBAQIBAgDBggGBgQGBggGAwgECAYIBgYIBAMIBAYDCAMEBggGCAYDBggIBggICAYIBgYIBgYGBgYECAMGBgQEBggGBAgICAgEAwYECAQGAwQDBgMIBgYIBAQGBAgICAYGCAYECAMDAwgIBAQGBgQICAYDBgYGBAYGCAMICAQICAYDBAYDBggDBAgICAYGBAQECAYIBAYDCAMGCAMDBgQGBgYEBgYIBgQEBgQICAgGCAYDCAQIBggGCAQEBgQIBgYIBgYGAwgGCAYEBggDBAgECAMGBAQGCAYEBggIBAgGCAQGBgYIBgYICAQGBgYEBAgICAQGAwYGCAYEBgYGAwQEAwgIBAYGBgQDBAYIBAYGBgYGBAYIBAYIBAQIBggGBggGBggGBAgEBgYGAwYGCAMIBAYGBAYIBAgGCAYGCAYGBgYDBggDCAgECAYGBgQIBAgGAwYIBgYIBgYGBgYICAYGBgQGBAgICAgECAgICAMGBAQGCAgGBggGBgQGBAYGAwYIAwMICAYDCAYEBgYEBgYIBgMDBggGBggDBggGBAYGCAYIBAYICAMDBAQECAgEBggGBgYIAwYGBggEBAYIBggEBgYECAQICAgICAgGBgQEBAYGBAgECAgGBAYGBggIBgYIAwQGBgQGCAYIBgYGAwgGCAYICAgICAYEBggIBAgICAYICAYEBAgDCAYGBgYGBgQGBgMGAwgIBAgGBgMGAwgGBgYGBgYIAwQGCAYGBgYGBgYIBgQEBgYGAwgIBgQICAgGBgYGBAQGBAgGBgMIBggGBggIBAQICAYGBgQIBgYEBAYEBggDBAQGBAgGCAgICAQICAYGBgYICAgEAwYGAwQGAwgIBgQGBggGCAQEAwYGAwQGBAMIBggIBgMEBAYEBgQIBggIBAQDCAgECAYDBgYGBgQEAwgICAYIBAYGAwYDAwgIBgQGCAgICAYDBggICAYGBgYGCAQIBgMIAwYGAwQDBgYIBgYGCAgIAwgGBggIBAQDCAgIBAQDCAgGBgYEBAgIBgYGBggIBggIBgYEAwYIBgYGBAQEAwYECAYGCAYIBAYGBAMEBgYIBgQICAYGBgYGBAgEBAYICAYGBggICAYGCAQGBgYGBgQICAQIBgYGBgYIBggGCAYIBggEBgYGBgYEBgMIBggIBggGCAgIBAMGBAYIBggIBgYGBAYICAQICAgGCAgIAwQDCAgDBAgEBAYEBgYGAwgECAgEBgMEBgMGBgQEBAYIBAgGBgYDCAYGBAQIAwYGCAYEBAQEBggICAQGBgYGBgQDBgYGAwYGBAMGBgMECAYIBAYGBgYGBgQIBggICAQGBAgGBgYGAwYIAwYGCAQGBAgIBAMGCAgIBgQEBgQIBggGBAgDBgYGBgYGBAYIBgMECAYGBgYIBAgGAwQGBAYDCAgGCAQEBgQGCAQICAgECAYGBgQGBAQGBAYICAYEBgYICAYIBAQEBgYEAwYIBgYIBAYGCAYGBgYGBAYICAMEBggIBgYGAwQIBAQECAYIBggECAgGBAQICAYGBggGBgYGBgYIBgQGCAQEBgMGBAYEBggGCAQIBgYIBgYIBgQECAYICAMIBggDBgQECAgICAMGBgYDAwYGCAQGAwgIBAQGBgYGBgQEBAQEBAQDBgYECAgGBgYIBggGBAgGBgYECAYGBAgEBgQIBgYGBAMGCAYGCAYGBAYGBgQEBAgDCAYGBgQGBgQECAYECAgGCAYICAgGCAYGCAQECAYGCAQGBAYGBggGBgYGBAgGBggEBAQGBAQICAYGCAYGBgYGBgYGBggDBggIBgYGBgQGCAYGBAMGCAYICAMIBggECAMIBAYGCAgGBgQIBAgICAQGBAYGBAYGCAgGBgQIBgYDBgYGBgYGCAgIBgYGBggGAwYECAQGBgMICAYGCAYICAQGBAgIBgYEBggEBgYGBAMEBgMIBgYGCAMGCAYICAYEBggGBgQGBAgEBgYEBgYGBggICAQDBgYDCAMDCAYICAYGBgQEBAQGBgYDBAgEBAgICAgIBggEAwMGCAgDCAYGBgMEBgMGCAMICAgGCAYGCAQGBAYGAwgEBgYGBggICAgEBAYDBggDBAYEBgYGBggGBgYGBgYGCAQIBgYGBgQGBggIBAYGAwQIBAQIBAMICAQIBAgEAwQGBAgGCAgEBgQGBgYGBgQGBgQDBgYGCAYGBgYDBggGBggGBgMICAQGBgYGBAYIBggGCAMEBgYEBgYIAwYGBAYGCAYGBgYEBAMGBggGBgQGBggIBgYIBggIBgYGBgMGBgQGBAgIBgYGBgYECAQGCAYECAYIBgQGBggIBAgEBAQGBgQGBgYIAwMGCAYIBgYGBAgGAwQICAgGBAYGBgYIBggGBgQEBgYEBAQIBAgEAwgGCAYDBAYIAwYICAMIBAgEBAgIBAQGBAYGBgQGBggICAgEBgYIBgQGBgMGCAYICAQIBAYIBgYEBAYDAwYGBgYICAgGBAgGBggGCAgEBgYEBAMGCAQIBgYGCAYGBgMIBgYIBggEAwQGCAgICAYGCAgEAwYGCAMGBgQGCAYGCAYIBgYGBAYGCAgGBgMGBgYICAYIAwgEBgQGBgYICAYDCAYICAgGCAQEBggGAwYGBggGCAYICAYGBgYDBAQICAQDCAQIBgQGBgQGBgQGBgYEBAYGBggIBAQEBAYICAgIBgMGCAgGBAgECAYGCAYGBgYGCAMGBgYGCAMEBgYECAgEBggGBggEBggDAwYICAYDCAgGBgYEBgYECAMIBggDAwYIBgMGAwgGBgQGBgYDBgYIBgYDCAQGBgQEBgYIBAgGCAYEBgYEBgQGBgYIBAgGBggIBgYGBggIBAgEBgMEBAgEBgYIBAgGBAgGBggGCAQECAMGCAYEBgYGCAgICAMGCAYICAQIBggGBgYIAwYIBAYGBgYDBAYEBAYIBggGBggGBgQIBgYICAgICAgIBAMICAgEBgYICAQGBAYGAwgIBgYIBgYDAwYGBgYDBggGCAQGBggGCAgGCAgDBAQGAwgGCAgGAwgGBAgIBgYECAYGBAYICAYDBggECAgGBggIBggIAwQICAMIBgYIBgYGCAYEBAgIAwYGBgYGCAQGBgYGCAQGCAYGBgQGCAgEBAYICAgGAwYIBAYGCAMEBgMIBgMGAwMGCAQDAwQICAgEBgQGBgYICAgIBgYIBgYECAgGAwYIBggGCAYIBggGCAgIBgYICAMDBgQEBggGCAYECAYGBgYGBgQGCAMICAQICAQGBAYGBgYICAMICAgGBggDBgYGCAQIBAgECAYGBgYGAwgIBAYIBggGCAgGBgMGBAQEBgYIBgYGAwQGCAYGCAYEBAgGBggGCAgIBAYIAwYGCAYDBAQDBgYGBgQGBAYIBggGCAQEBggEBgMGCAYEBgMGBggIBggGAwgIBAgEBAgDBgYGCAgDBgMGAwQEBAgEBAgGBAMGBggGCAQGCAgECAQIAwYIBgMIBgMIBAYGCAYIBggGAwgGBAgECAQDBgYGBggIBAMEBAgGCAgGAwgGBgYGBAYGAwQGAwYICAQDBgYICAgIBAQEAwYIBAMGBAgDCAQICAQGBggGBgMGCAMDBgYGBggGAwYDBggDBggGBAYEAwgDAwYEBgYIBggGBgYIBgYIBggECAgGBgYGCAgEBgYGBgYGAwYECAgDBgYEAwgGCAgGBgYEBAgIBgYGBAYIBggGAwgIBgYEBgYIBgMIBggIBgYGBAYGBgMIBgQEBgYGCAYDCAMGCAQGCAYIBAYGCAQDCAgGCAgECAYGBAgIAwYGAwYGBgYGBggECAgGCAgGBAgIBggDCAYIBgYGAwgGBgYICAYIBgYECAYIAwYIBAMGCAQEBgQEBAMEAwgICAYIBAgIBggECAgIBggIBgYGBAYGBAQGBAYDCAYDBAQGBAgECAMIBAgEBAQGBgMEAwQDCAgGBAYECAYEBgYGAwgEBgYGCAYEBgYDCAMICAYICAQIBgQGCAQGBAQGBAYGAwQGBggICAgIAwQGBgYGBAYICAYICAYECAgIBgYDAwYGBggEAwYECAYECAYGBAYICAgGBgYECAQGBAMECAYIBgYGBgYICAYDBAgGCAgICAYEBAQECAYIBgYGCAYECAQGBAQICAYEBgYGCAYGAwYIBAMGBgYEBAQEBgMDAwQGBAYIBgMGAwgIBAYEBgYIBggIBgYEBgQDBAYGCAgICAYGBgMEBAYGBgMEBAYGCAYGBAYGAwgGCAgECAQGBgQEBggGCAQIBgQIAwYGCAQGBgYEBAYGCAQEBgYGBgYGCAgGCAYICAYICAgICAQGCAMGCAYIBggIBgMIAwYGAwgIBggIBggGCAQECAQIBAgIBAQIBgYGBggEBggGBAMECAgICAQIAwgGBgMIBAYIBggGBggIBgQEBAYEBAQECAQIBAYECAgDBggGBAgIAwMDBgYEBgQIAwMGBAYGBgYGAwYIAwYGBggGBAgGBAYEBgYGBggEBAQGBgYIBgMGBgYGCAQIBggGBgQGCAYGBAYGAwgIBAQICAQIAwQEBgYIBgYGBgYGBgYGBgYGBAYGBgQIBAQEBgYGBggGCAYGCAYEBgYICAYGCAYGBgYIBgYGCAgDBgYICAgEBgMGBggEBAYGBAgIBAQGCAYICAgEBgQGBggGAwQEBAYDBAQICAgGBgMICAYGAwYGAwQIBAQICAgICAgICAMIBgYIBggEBggGAwQEAwYGCAYGBgYIBAYGBggGCAYEBgYEAwYIBAYDCAQEBggIAwgEAwYGBAgGBAYEBggGCAYGBgQGBgMGCAgGCAgGCAYDBAMGBAgGBgQIBAgGAwgEBgMGBgQGBgYGCAgEBgMIBgYDBgQICAQIBgQGAwYEBgYIBAMGBgQDBggGAwYGCAMGBggEBgYIBgYEBAYDBggIBgYGBgQGBAYGCAQIBgYGBggEBAgGBggICAMGBggGCAgIBgQICAgGBgYEBggEBAYGBAgGBgYIBgYGBAQIBgQEBggECAQGBgYDBggGBgYGAwgGCAgGBgYGBggGCAYIBAMGBAYICAQIBAgEBgYDAwYIBggGBgMIBgQGCAYGBggIBggEBAYEAwYECAMICAgECAgEBgYGBAQGCAYGCAgIBgYEBggDAwYGAwYIBgYICAgGCAYEBgYEBAgEAwQIBgQGAwYGBgQIBgYECAYECAQIAwMGCAYDAwYIBAgGCAMECAgIBggGBAgIAwYIBgQGBgYGBgQEAwgEBAMGBggICAMEBggGBAMGBAMICAMGBAQIBgYDBgYICAYIBgYIBAgGBgYGBgQIBgQEBAgICAYEBAYICAQGAwgGBgYGCAQGBgYEBgQIBgYIBgYDBgMGBgYEBgYECAQGAwQECAgIBAgICAgECAgGBggGCAYEBgMGBAYIBggGBgYGBggEBggEBgMEBgYGBgYGBgYGAwgDCAMGCAYEAwQGBgMGBgYIBAYDBgYEBggIBgYGBAQGBAQGAwYDCAgICAYICAgDCAQGBgMGCAQGBAYGBggGBgQGAwgGBAYIBAYDCAgGBgQECAQGBgYIBgQIAwYDBAMIAwgIBgQDBgYICAYGAwgGBAYGBgQGBgYIAwYGBggDBgMDAwYGAwgGBgYEBgQGBgMGBAQIAwgGAwQGBggIBgYGCAYECAMDBAQDBgMEBgYGCAYECAgDBAYICAYIBAYGBggGCAYGBggECAgGCAQGBAgGBAQGCAQIAwQGBgYECAYIBgYIBAMIAwYGBgQGBAYIBAYIBgQEBAYDBgQICAgIAwYIBgYIBAgEAwYDCAYECAgECAYEBggDBgQGBggDAwYGBgYIBAYECAgDBgYGAwYGAwYGBggIBAYDBggGAwYICAgEBAgIBgYGCAQIBgQIBAYIBggEAwYIBgQIAwYEAwgEAwYGBgQICAgGBgMGCAQECAgIBAYGAwgIAwMGAwYIBAYEBgYECAMIBAgIBggIBAYDBgQGBggGBgMIBggDBgMGBAYIBAgGCAYEBAgIBgYGBgYIBggEBAMEBgYGCAMIAwgECAQECAQGBggGCAQGBgMICAYECAgICAgICAgEBgYICAYGAwgICAQDAwgGBgQDBgQIAwgEBgQGBgQDBAMDBggGBAgGBAgGBAYIBgQIBgQIAwYDCAMICAgEAwMGBAYEBggICAYEBggEBgQDBAYGCAgDBAMGAwYIBAYDBAgEBAYEBgQIAwMIBggIBAYIBgYECAgGBAgEBgYEAwMDBAMEBggIAwMGCAYIAwgICAQECAQICAYEBAYGCAgIBgMGCAQDBggGBggDBAYEBAgECAYGAwYECAYIBggGCAgGBAgDBgQDBAgGBAQEBgQGCAQIAwgIBgQGCAQECAYIBAMGBgQGBggIBgYIBggGBgYDBAYGBgMICAYICAQGBgMGCAQGBgYGCAQGBggGBAgGBAYGBAYGBgYGBgMGCAgDAwYGCAgDBAYEBAYGBgQGBgQIBAYICAQDBggIBggICAYEBggICAYECAYGCAgGBgMIBgYEBgYDCAgGBggIBggICAQICAYGBgYICAgDBAYDBgQIBgMECAgEBggGCAgGBAgEAwQICAQGBAYGBgQGCAQIBAYIBggIBgMGCAgGBggGCAMICAYGBgYGAwYEBgYGBAYEBAQGAwYGBgQIBggGBgQGBgQEBgMGCAQICAQICAYGBggGBgYIAwgDCAYGBgMDBAMGBgQGBgYEBgYDCAgECAYECAMIBAgGBgYGBggEBgMGBggICAQDBgMGCAgGBAYGBgMIBggGBAYIBgQGBgQIBggEBgYGCAgIAwYGBgQGBAgGCAQIBggIBgYIBgQGCAQIBgYECAQEAwQIAwYEBggIBggIBAMECAYEBggICAgGCAYGCAMEBgYIBgYIAwgGBgYGAwgGCAYGBgYGCAgGBAMECAQIAwYIBgYGCAYECAYEBgYGBAgEBAYGBAgEBgMECAYICAQGBgYIBgYIBgYGCAgECAYGCAMGCAMIBgYGCAQECAYGAwYICAQIAwgGBggGBggEBgYIBgYGAwYIBggGBggGBAYICAYGBgMIAwYGCAYEBggICAgGBgYICAgEBAgICAYIBAYGBgYDAwYICAYGBggGBgQGBggIBAgDBAgEBAYEBgMECAgECAYGCAMIBgYGBAYGBgMDBAYIBAQEBgQGBggICAQIBgYDCAYGBgYGBggGBAgGBAYEBAQGBAYICAYIBgYEBggIBggEAwMICAYDBgYGBggIBggGBgYICAYGBgYGBgQGAwYICAYGCAgIBAgGCAMIBgQICAgGCAYEBAMICAgECAgGBggEBggECAgGBAYGBAQDBAYDCAgDBggEBAgGBAgGBgYDBAYEAwMEBAYIBggGBgYIBAYGCAgGAwQICAYEBgMGBggECAQGCAMECAYICAYIBgQGBAYEBAgGCAgICAYGBAQGCAgEBgYGBAQGBgYICAYIBAYGBAgEAwYIBgQIBgYIBgYGBgYGBggIBggIBgYIBgYEBggEBggDBgQICAQDAwQGBAgIBAYIBAYIBgMIAwQEBAQGBggGBgYGBgYGBAYGCAQIAwQGAwQECAgGBgYIBggGBAgGBggGBgYIBgQECAYICAQGBgMDBggEBAYIBAgIBgYGCAQGAwgGBgYGBAQEBgQIBgYECAgECAgICAYGBgQIBggIBggGAwQIBgYECAQICAYGBgYGBAgEBggGBgMDCAgEAwQICAYGBgYGCAYGAwgGBgQECAQIBAgEAwgGBAQGBggIAwQGCAMEBggEBggIBgQEBgQIBggGBAYEBAYDBgYEBggGCAYIBgMGAwYDAwgGCAQGBggEBAYEBggGBgYIBggIBgYEAwQGBAQEBgYICAYGBgQGBAgGAwQICAQGBAgGAwgEBAgICAYICAYEBAgGAwMDAwYIBgYECAQGBgQDBgYGBggICAYEBgMIBgYICAgDCAMIBgYEBggGBggIBgYGBggIBAgGBgYGBggGBgYGBAYIAwQDBgYEBgMDCAgGCAMGBggGBgYDBggGBgYGBgYIAwMGBgYEBAgICAQGCAQGBgQICAQGCAYGBgYICAQDBggICAYECAgICAQGCAQDCAYGBAYGCAYDAwQEBAYGBAMICAQIAwgICAQDBggGBggIAwYGCAYGBggGBgYGBgYGAwQICAYICAYICAQGBAYEBgYDBgYGBAgGBAgGBAgGBAQDBAQGBgYGCAYICAYGCAYIBgQEBggGBAQIBgYGBggIBAYGBAYIBggIBAgICAMIAwYEBAQICAYIAwgGBgYECAgGBAQIBgMEBgYGBgMIBAQEBgYGCAYGBggDBgYGCAYEBAgEBgYIBAgGCAgIBgQDBgYGBggIBgYICAgIBggGBAgGBggGBAQIBggICAQGCAQGCAQGCAYIBgYGCAgGBggGBggDCAYIBAYECAQECAYGBgMDBAMGBAQGBggGBgYICAYIAwYGCAgDBggICAYIBAYGBgQIBAMGBAgGBgQGBAYGBgMGBAYEBgQECAgEAwMICAQICAMIBAMGAwQGBgYGBAMIBgYGBgQGBAgIBgMGBgMGAwQEBgQGCAQGAwYGBAgICAgICAYGBgYGBgYIBgQGBggGAwgGBgYEBgQDBgYIBAgICAQGBggDBgQIBgQIBAgDBAgEAwgICAMDCAgDBgQICAYGBgYEBgYGBAQIBgYEAwgGBAYICAMECAQEBgYIBgYEBAgGCAMGBgQIBgYGBAYEBgYGBgYDBggGBggGBgYGCAYIBAYGBAMDCAYEBgQGBgYGBggGBAgECAgGAwgEBggDBgYIBggDBAgIBggEBgQEBgYICAgIBggGBgYIAwgGBgYEAwgGBgYGBgQGCAQGCAYECAYICAYIAwQIBggGBAMIBgQIBgYEBAQGBAgGBAYICAgIBAgEBgMDBAgIAwMIBAMEBAYGBgYIBAYGBgYICAYIBAgICAYGAwQGBAYEBgYGBgMGBggEBggDCAgDBAQGBgYGAwMECAMGCAQICAgGBAgIBAYICAgIBgYGAwYIBgQGBgQGCAYIBgYGBggEAwYECAgGBgMGCAQGBgYIBgQGBgYEBggGBAMEBAgIBAYECAgIBggGBgYICAMDBgYGBgQEBAYICAYECAYGBgYGBgYGBgYEBAYGBgYGCAQGBggEBgYDBAQICAQGBgYGBAgIBggIBgYEBggEAwgGCAgGBgMICAYIBgYGCAgEBggECAQIBAgDBgYICAQECAMEBgYICAQECAMECAQGBAYGBggICAgGBgYGCAYGBggEBAYGBgYIBAYGCAgGBgMGBAgEBgQGBgMGCAgGBgQIBgQEBAMGBgMGCAgDBgYICAQGBgQGBggGCAYIBggDBgQECAgECAgEBAgIBgQICAQGCAgGBgMDCAgGCAMEBAgGCAgGCAYGBgYIBgYGBAMECAYGAwgGCAgDCAYGBgYGBgYGBgYEBgYGCAQGBgYIBAYIBgQGBAgECAYEBAYEBgYIBAYECAQGBgYGCAYIBgYDAwYGBggDBgYICAgECAgIBgYICAgGBggICAQIBggIBggDBAYGBAQICAQEBAMGBggICAYDBAYEBgYIBgYEAwgDBgYICAgGCAYGAwgIBgYIBgQGBgYIBgQGBAMICAQGBgMGCAMGBAgGAwgIBgQGAwQGAwQEAwYDCAYIBgYGBgYICAYEBAYEAwYEBggIBAgIBggDBgYEBgMICAQIBggEBgQIAwgICAgIBgYGAwMGAwgIBAYEBAMGCAYIBgQGBgYGCAgGBgQEBgQIBggGBgQEBAMGBggEBggIAwYICAgDBgQGBgYGAwgICAgEBAQECAYDBAMEBgMIBgMGBAQICAgIAwQEBAMIBAYDBAQGAwYGCAYIBgQEBgYGBAQGCAgEBgYEBggGBggEBAYIAwQICAgICAQGBgYGCAYDBgYIBAYECAQGBggIBgYICAMDBAQIAwYGBgQICAMIBAYGCAYGAwQECAYIBggEBAQGCAQDBggEAwQIBgQICAYICAgGBgMGAwgIBAQIBgYIAwYGCAYGBggGBAYDBgMDBggICAgICAYGBggICAYICAYIBgYEBAgGBgQGAwYIBgYDBgYGBAMGBgYGAwgEBgMICAYGAwgGBggECAQGBgMIBgYGBgYIBAYICAQIBggGBggGCAYGBggGBgYIBAYICAYEBgQICAgGBgQIAwYECAYGBgQIBgMIBggGCAYGAwgDBgYECAgECAYGBgYGCAYDBAQGBAYGCAgGCAYEBAgGBgYICAgGCAYGCAYDCAYGBgQIBgYGBAMDAwYDBgYDCAYGCAYICAgGCAYEBAgDBAgEBAgIBAgIBgYDCAYEBgYGAwgECAYIBAYGAwYGCAYECAMGBAMICAYICAYGBggIAwgECAgICAQGAwgIBggIBggEBggIBAYIBggIBgYEBgYGCAgGCAYDCAYECAQIBAMIBgYIBAgIBAYIBgQGBAMGBgYGBAgIAwQGCAgIBgYECAYIBggIAwQEBAYIBggECAgGCAgIBgQIBgQICAYEBAQIAwYEBAYGBAgDCAMIBgYIBAgDCAgEBggEBgQGBgQEBAYIBgMGBggDBgYIBgYGAwYIBAgGBAYGBggIBggECAgIBgYGBgQEBgQGBAgGBggIAwYEBgYGCAYICAQGCAYGBAgDBgYEAwQGBAYECAQIBgQICAYGCAYGBAMIBgYIBgYICAgICAQICAYEBggIBgQECAYECAYEAwQGAwgGBgYGBgQECAgECAgDBAYEBAYECAgGCAMEAwYDBgQDCAgIAwYGBgYDBgQGCAQDBggGBAgGCAgEBAYDBggGBAQIAwgGBgMGBgYIBgQGAwMGBgMGBAQDCAgDCAQECAYECAYIBAgGBggGCAgIBgMDCAgIAwQEBgMIBgQICAMECAYGBgQDBgMIAwYECAgGBgYDCAYECAQGBgQEBAYGBgMEBAYGCAgEBgQGBgYIBgMGBAYDCAgECAQGAwYEBgYEBgYEBgYIAwQIBgYDBAQGCAgIBggIBgQDBgYIBgYICAgIBgYICAYIBgYIAwgGBAMGBggGBgYEAwQDAwgGBgYGBAYEBgYIBgMGBAYGBgYGBgQEBAYIBggIBAgEBgQGBggGAwYEBgYGBgYEBAYECAgGCAYDAwQEBggIBgYGCAQDBgYECAYEBgYDCAYEBggECAYGCAgGCAYDCAYGBgYIBgYDBgYECAYIBgMEBAQICAYGCAYGBAQGBggGCAgGBgQGCAMGCAYDBgQGBggGCAQGAwQGBgQGCAgEBgQIBAYICAgIAwgEBgYECAYDBAQEBggGBAQECAYGAwYIBAgGCAgGBgYIBgYDBggGCAQIBgYICAgGCAYEAwgDBAgGAwQIAwYICAQEBAQIBggEBggEBAgDBgQIAwYGCAgECAYGBgQIBggICAgIAwQICAYEBggECAQECAYDCAgGCAgGBggECAQGCAgIBgQDBAMEBAMGCAMIBgYICAYIBggGBAgDAwgEAwQGBAQGAwYGBgQDBgQGAwQEBgMDBgYGBggGCAYDBAYDBgQICAgGCAYGAwYGBggEAwYEAwYEBAMDBgQGBggGCAQGBAYGAwgGBgQIBgMECAQIBgQEBggGBAgGBggIAwYEBAQEBggIBggGCAYICAYECAYGCAgEBggGCAQIBggGBgYICAYGCAgGCAYECAQICAgGBgYGBAQICAMEBAgGBgMGCAYICAYGCAYGCAYDAwgGBgYGBgYGCAYGBAQGBAYGBgQICAMEBgQIBAgGBAYDBgYGBgYGBAYGBggEBgYECAQGBggGBgYEBAMDBgQGCAgDBgYDBgYDCAYEBgYIBgYGBgQICAgGBAYGBAgIBgYGBggIBggGBgMICAYIBggGCAYIBAYGBgYICAgGBAYEBAYGCAMGBAYGCAgIBgQGBggGBgYECAgGBgYGBAYGCAYGBgQGBgQGCAYGBAQICAYIBgQDCAYGCAgGCAYECAYIBgYGBAQIBgQICAgICAgIBggIBgQGBggEBgYEBgYDBgQDBgYIAwYEBgQGBgMEAwQIBgYIBggEBggEBAYGBgMIAwMEBAYGBggIBggGBgQEBAMDBgQIBggGAwgDBgQEBgYIBAQGBAYICAMICAYGBgYEBgYGBgYEAwYIBgYGBAgDCAYIBAMICAMDCAgIBAQDBgYIBAQGCAgICAgEBgYGBgQGBggGBAYIBgMGCAYICAYGAwQICAQEBggGAwMECAMGAwMDBggGBgQIBAgEBAgGCAYGCAYICAgECAQGBggDBggIBAMGBgYDBAMIBAMIBgQGBgMIBggEBggGBgYGAwgGCAMIBgYGCAgGBgYGBgMIBgYECAgGCAQICAYEAwMEBAYGAwQEAwYDCAYIBgYGCAQGBAgDBgQGBgMGBAgGBgYDCAgICAQGBgQGCAQDCAYEBAYEAwYGCAQDCAQDAwQECAYICAYGCAgGBgQGBggGBgYIBAQGBAYECAgIBgYDBggDCAMIBAYECAgECAYICAgGBAMIBAYEBgMDBgQDCAYGBgYGBgQGBgYGBAYICAQIBAQEBAQGBAgICAYIBgMICAQEBgYGCAYGBgYEBgYDBggDBggEBggGBggGCAYGBAYIBgYIBggGAwQECAYGBgYIBggECAQGCAYGAwQDBgYGAwYGAwYIBgQIAwgGBAYEBgYIBgYGBAgGBggGBAQIAwYEBgQIBgQIBgYECAYEBgYICAgGBAYGBAYEAwYIBggICAQIBAgECAgGCAMIBgMGBAQEBgQDCAYIBggGBAYEAwQGCAgICAYICAQGBAQEBggGBggDBggGAwQGBAgEBggIBgYGAwMEAwMEBAYECAgGBAYGBgMECAQIBgQEBggGBggGAwYGBgYDCAQIBggGCAYGBAYGBgYGBAgICAQIBAMIBAYDBgYIBgYIAwgEBgYEBggGBgQGBgYGBAQGBgYICAYGCAYIBAgGAwYEBggEBAgGCAgGBgQGBggIBgMICAgGBgYDBAgGCAgGBgYICAYECAgICAgGBggGBAYGCAYGCAgGBggEBgYIBgYGBgQEBgYGCAgGCAgGBAYICAQIBAQICAMICAMIBgQICAgICAgDBggGAwMIBgYEBgQIBgYEBgYEBggEAwgIBgYECAYICAgGBgYGAwMICAYEBAgEBgQGBAgGBAgGBgYGCAMGBggIBgYGBAMECAYEBgYDBgYGAwgGBAQICAgIAwgGCAYGBggGAwYGBAYGBggGBgYICAQGAwYICAYIBAYICAYGBgYEBAYGBAQEAwQECAgEBgYGBggDCAYGBAYIBgYGCAQIBAYDBgQECAgDBAgICAgGBggGBAQDCAYGCAgEBgYICAgGCAYDBAQGBgYGCAgGBgQDBAYEBggDCAgGBgYICAgGCAgIBgQICAYICAgICAYIBAQGBggGBgYEBAgEBAgGAwYGBAgIBggDAwYDAwYIBgYGBgQGBgMDBgYIBAgGCAgGBAMICAYIBggGAwMIBggGCAQIBgYICAgGCAMGBAQGCAYICAgIBggIBgQGBgQEBggGCAQIBAQECAgDCAQGBgQGBgYGBgMECAQGAwYGBggGCAQGCAYGBgYIBgQEBAMGCAYIBggICAYGBAYIBgMEBAQGBgYDBAMGCAYDBgYEBggGCAgDBggGCAMIBAQIBgQGCAQGCAYICAYICAgGCAgGCAQGBAgGBAYDBAgEBAYGCAMGBgYECAQGAwgGCAYIBgMEAwYIBgMICAMDBgYGCAYEBggEBAYGBAgICAYGBggGCAYDBggGCAYEBAgECAQICAQECAYIAwYIBggIAwMEAwgDBgMDBggIAwYDCAgIBggICAQGAwgGCAQGBggGBgMDBggGBAMICAgGBgYEAwgEBAYEBgYGCAYGCAQICAgICAgICAYICAMECAYEBgMGBAgIBAgEBAgIBgYGCAYEBggGBggIBgMDBgYGCAgICAgGBAQEBgYIBgYICAYIAwYEAwgEAwYGBgYIBAYEBgYGCAQICAYICAYGBgQGBggDBgQGBgQGBAQGAwMGBAQGCAMIBAgGAwMIBgYGCAQIBAgEBAYGCAMGCAgIBAgGBAMDBgYEAwgICAQGBggGAwgIBggGBgQIBgMDBgYIAwgGBggGBgQEBAgDCAMEBAYEBgYEBgQIBggGCAYGAwgDBgQEBggDBgQGCAYGBgYGBgYDBAQECAYGBAMGCAgDBAgGBgYGBAYECAYEBgQECAYGBAYIBgYICAgIBAMIAwQDBggIBgYGBggDCAgECAYECAQGCAYGBAMIBgYDBAgEBggECAgGBgQDBAMECAMGBAgGBgQEBgYGAwMGCAgIBgQDBgYGCAYGBgYIBAYICAgIBggIBggIBgQGCAYGCAYECAgEBggGBAgGAwgIBgYDBAYGCAQGCAQGBggEBggEBggDCAYGBgQICAYIBAQEBggGBAMIBAQGBggIBggGBgYIBggEBAYIBgYEAwMICAYIBgYIBggGAwgGBggGBgYDBgYIBgYICAgGBAgIBAYGBgYGBgMIBgYEBAQIAwgGBAQICAMIBgQEBAgEBggIBggGBgYGAwYEBgYGBAgGBgYGAwYGBAMICAYGAwgEBggEBgQGCAgGCAgDCAgGBgQGBgQDAwYEBggGBggEBgYGBgMGBAYEBggGCAYGCAYGBAYGAwYGCAQIBgYDBAYIAwYDBgQGCAgEBgYGBgYIAwYICAYGCAYICAYIBAgIBgYGBgYGBAMIBAYGCAYEBggDBAgGBAYGCAYECAQIBgMEAwgIBgYGCAYIBggGCAgGBgYGBAYEBAgDBAQICAYEBAMECAgECAYGBgQGCAgGBggIAwgGCAYIAwgICAgDAwYDCAYIBAQDBgYDBAYEBAgGCAQIBggGCAYICAQGBgYGBAQGBgQIBgQDAwgIBgYIAwYGBggGBgYGBggGCAgICAQDBggICAgGCAQECAMDBgYIAwQIBgYGCAYIAwYECAQGBgYGBgMGBggGAwgGBAYECAQIBgQDBgQGBAYICAQDBggGBggICAYECAYGAwQGBgYEBgMGBggDCAQECAMECAYGCAMIBggIAwYGBgYGBAgIAwYGBAgICAgEBggGBgQICAYGBgYEBAgGBAQICAQEBAgGBgYIBggIBgMECAQICAQECAYEBgYIBAYGBgYIBgYDCAYIBgYGBAMIBAQGAwQIBggGCAYDBAgIBgYEBAQGBggICAYIBggEBAYGBggGAwYECAYECAMGBggIBgYEBggICAQGBAYECAQGCAgGCAQIBAQECAYIBggEBgYIAwgICAgDCAQGBgQGBAgGAwYGBAMGCAgIBgYICAYGBgYGBgQECAgDCAYEAwYDCAMGBgQEBggIAwQIBgYGCAYICAgGBgYIBgQDBgQICAgDBggGBgYIBgMGCAgGBgMICAYGBAYICAQGBgYGBAYGBAgDBgYIAwYIAwYEBggEBgYIBAgIBggGBggIBgQDBgYGCAMIBgMIBggDBgYGCAgGBgYIBgYEBAgGCAYICAQEBAgGCAQIBggICAgGBAMICAYGBggECAMECAYEBgYEBAYIBgQEBggGCAMGBggGBgYGBAYIBAgECAMGAwQIBggGBgMIBggGAwgECAgICAYIBgQGCAQEBgMEBAYDBAYIBgYICAQECAYECAYICAYGAwQDCAYIBggIBgYECAgEBAgEBgQIAwMDBggDCAQIBggEBgYGBgYICAQIBgYGBggICAgIBAQGBgYEBgYIBgMGBggIBgYEBgYICAYICAYGBggGBAgEBgYICAgGBggGBAYGCAMGBgQGAwgDCAQICAgEBAgDCAYIBgQICAYEBAQGBAYIBgYGCAQEBgYGBAgGCAYGCAgIBAgEBgQGBggEAwYGCAQICAYGAwgGBgQIAwgEBgYGAwQICAgGCAQGBAYIBgQECAgGCAQEBAQEBggGBAQIBgQECAgDBgQEBAYGCAQGBAYICAgEAwgGBAQIBAgICAgEBgQGBAgICAQGBAYGBgQIBggGBgMGCAQIBAYDBgYIBgYIBgMIBggDBgYEBAgIBAgICAQDCAQGBAYGBgYIBgYICAYGCAgIBAYGBggGCAgGCAgECAYGCAYIBAMGBggICAYIBAQGCAYGCAYDAwYIBAMECAYGBAYIBggIBgQEAwgGBggICAYGBggGBggGBgYDCAYDBgYGBggDBgYGBAYEBgQGCAQDCAYGCAYEBggGBgYGBggGBAQGBAgGBgYIAwgGCAgEBggGBAgICAMEBgYIBAYIBgYECAYGCAQDBAYGCAQDBgQGBgQIBgYICAgGAwgIBggIAwYGBgMDBAYIAwYIBgMICAgGBggDCAgGBgQGBgYGBgYGCAYIBgYGCAQECAYGBgQGCAgEBgMGBgYECAMGCAQEBAYICAYGAwgIBgYGBgYGCAgGCAgIBgMDBgYDCAgGCAgIBgQGAwgGBgYGCAYGAwYEBgQEBgQIBAgIBAQGCAYGCAYICAYGBAgGCAQDBgMEBgQECAQIBAQIBAYIBAgGCAYGAwQGBgQGBAQIBgYGBAgGAwMGBgYIBgQIBgYGBAQGBAYICAQGAwYGCAgIBggGBgYICAgIAwgIBggGCAQEBggDBgYICAgIAwYGBggDBgQGCAMIBAYIBAYIBgYIBgYICAYIBAYECAMDBgYGBgMIBAYECAgGCAYGAwYIBgYGCAgGCAgIAwYGBAMGBgYICAgGBAQIBAgICAYGCAgECAYGCAgDBgYGCAYIBAQIBggGAwQIBggIBgYDBgQDCAgEBggIBggGBgQICAQGCAgECAQGBggEBgYGBggGAwYECAQDCAQEBAQICAYEBgYGCAgEBAYDBggICAQEBgYIBgYGCAQECAYGBAMIBAQIBgYIBgQICAQGBAQGBggGAwQGBgQGCAQIBggECAYGCAYDBgYDAwYIBggIBgQICAgDBAgGCAQICAgGBAQICAgIBgYGCAgIAwYGBggECAQICAMDCAQEBgYICAgIBggECAYGBgQGAwMGCAYGCAgGBgYIBgQGCAYIAwYGBAYECAYEBgQDBgQICAYGBgYIBAYEBgYECAYGAwQGBgYGBAYGBAYGAwYDBAgECAQGBgYIBAYGCAYEAwYGBggIAwMGCAgIAwYEBAgGBggGCAMIBgQIBAQGCAgDBAQIBgYGBgYGBAgEBAYIBgYDCAgIBgQDBgYGAwgIBAMEBgMEBAgGBAgICAQIBAYGBAYEBAYGBgQEBgYECAMIBAQEAwYECAYECAgGBAYGBAYGAwYIBAgIBAgIBgQGAwYICAYECAQIBgQIBAgIBgMIBgYICAYGCAYGBgYEBgYDBggIBgYGBgYGCAQGBgMGBgYICAYGAwgDBgYDBggIBgYEBggIBgYGBgYEBAMEAwQEBAgEBAQIBgMICAYICAYGCAYDCAgGAwYICAgICAYIBgMEBAYGCAQGCAQEBgQGCAQGBgQECAYICAYICAYECAYICAYGCAQDCAQEBgYICAgDCAYGCAgEBgQDCAYGBgMEBggDBAgIAwgEBgYEBAYGBgMGCAYEBgQIBAgIBggIBAgIBAQGBgQIBggIBAgGBgQGAwMECAYGBggICAgIBggICAgGBgQEAwYICAYIBgYGCAYEBgYGBAYIBAQDBgYIAwYGAwYIBgYICAMGCAgEBgQECAQECAYEBggIAwQGBggGBgYECAMGBAYGCAYGCAYIBgYGBAYEBggEBgYGCAQGBgYGBAgIBggDCAQGCAgGCAMGBAMEBggIBAYICAgGCAQICAgEBAYGBAYGCAYIBggIBAMICAYIBAgGCAYIBAYGBAQGCAQEBAYGBggGBgYIBAgIBgQGAwYGBgQGBggGBggGBAgGBgYICAYIBgMGAwYIBgQIAwYGBgQIBggIBAgEBgMEBggGBAQEBgYIAwYGBAYGBggDCAgDBgYGBggGBgQGBAMEBAYGBgYGBgYGCAQGCAYGBggGCAgIBAgIBgYGAwQDBAYGBgQGAwMICAQGBAgGCAgECAgGBgMGAwQIBAYGCAYDBgMEBAYICAgIBgMGBgQDCAMIBgQIBgQGBAQGBAYEAwYGBggIBggIAwgGCAQGBAYGBggDBgQIBggIBAYGBAYEBgYEAwQGCAYGBgYGBgYIBgYGCAQGCAQDBgYGBgYIAwgIAwgEBAQEBgYECAQIBggDCAYECAgGBAgDBgYIBAQGCAgGCAQGCAYGCAYDCAgICAQIBgYEBAMIAwYEBgQDBggGBgYGCAYIAwYGBggGBAgICAgGBAMEAwYGBAYGBgYGAwgGBggIBAYDAwQEAwYGBggEBgMDAwMGCAQGBgYGBgYECAYICAQDCAYECAQIBggGBgYGCAgGCAYGCAYICAYECAQGBggECAYEBAMGBAQGCAQGBgYICAYGBAYGCAMIBgYECAgEBgYGBggGBgYGCAYGBgQDBgQDCAQIBgYGBgYICAgICAgIBAgGBgQGBggEBgYICAMIBggGBggICAMIAwYDBgYDBgQEBgMECAQEBgYGAwYIBggGAwQIBAgIBAMDBggIBgYGBggIBgQGCAgIBgYECAQDBgYGBgYGBgQEBAQDBggICAYGBgMGCAYIBggDCAMICAYDCAQGBgQGBAQEBgQGBggEBggEBAgGBggICAYGBggGCAYECAMGCAQIBAgIBAMIBAMGBggIBAYGCAYGBgYEBAYIBAgECAYGBgYIBggEBgYEBgYIAwgDBAgGCAYDBgYEBgQICAgEBgYGCAYICAYECAYGBggICAgEBgQIBggGBgYECAgGBgYECAQGCAgGCAYIAwYEBAYGCAYGBAYECAgIBgMGBgYIBAQGBggGBggICAgIBAgGBgQDCAYDAwYGBggICAMGBgYGCAYGBAYGBAQGBgYGBgYIBgQIBgYGAwgGBggGBAYGCAYGBggICAgEBggIBAgIAwYGCAYGAwQGCAQECAYIBAYIBggEBggGCAYIAwQICAgEBgQGCAQEAwYGBgQGBAYEBAgGBggGAwQEAwMIBAQIBggEBAgDCAgEBgYIAwgGCAYIBggGBAgEBgQDCAYGBAgICAYDBAQIBgYEBAYEAwQIBgMIBAYGCAMIBgYGBgYDBAgGBAYECAYIBAQICAYICAYEBgYGAwYECAMDBgYIBgYGCAYGAwYIBgYIBAYEBAQDCAgECAYGBgYDAwgDBgMGBgYIBAQICAgGCAYGBgYIBAYEBAYGBgQICAgIAwYGAwMIBAgGBAMGAwgEAwMEAwgECAYICAgGBAgGBAgGBgYECAYIBgQEBgYIAwYGBAYEAwYEBgQIBgQGBggGAwMGCAgECAYIBgMIBgMIBAYICAgGCAYICAQGBAgEBgYIAwgGCAgECAgGCAYICAgIBgYEBAYECAQGBgQEBAQEBgYIAwYGBAQIBgYIBgQIAwQICAYIBggGCAgDAwgGAwgGBgYICAYGBggICAYGBgYGBggIBAMECAQDBgYICAgGCAMGCAYDBggGBgMECAgEBgMGCAgGCAgICAYIBgYGCAgGBggECAYGBAYIAwYGBgYIAwgIBAgGCAgIBgYGBAgGCAYDBAYIBAYGBAYDAwgIBggGCAYECAQGCAQDBggICAYGCAYDCAYGAwMGBAgGCAgIBAYGCAMIBAgIBAgECAgGBgMGCAgEBgQIBgQGBAYGCAYGBAMDBgYGBgQEBgYIBAgEBAQGCAYGBgYGBgYGAwgIBgYGCAYGBggGCAMECAYGBgQGCAYEBgYEAwYIBgYIBgYEBAMIBAYEBgQGCAYDBAgIBgQGCAQGAwQGBAgEAwYDCAYGBggGAwgIBggEAwQDCAYIBAYIAwQGBggICAMDBggDBAYEAwgICAgGBgQGBgQDBgYGBAQICAYIAwgEBgQIBgYGBAYEBAMIBAYGBgMGAwgICAYGAwQGCAYGBgMEBggEBgQGAwQIBgYDBAYGCAYIBgMIBggIBAgIBAQDCAgEBggIBggGBgYEBgQGBgYGBAYDBggICAQDBgYGBgMGBAgICAYECAYIBggGBgYGBAYEBgQECAQGBgQGBggGCAYEAwQEBAgDBgYECAYGBggGAwQIBggEBAgICAMIBggICAQGBgYDAwgGCAYGBgQIBAgGBAYEBgYIBggGCAQECAYGBgQEBgYDBgQGCAYGCAgGBAgDBgQEBggIBAgDCAMGBggDAwYGBAYGAwQGCAMICAQDAwgEBgMIBgMICAYIBgYDBAYDBgMGBgYICAYIBggIBgYGBgYECAgGCAgIAwgDCAYIBgMGBggGBAgEBggGBAYEBgYDBAgIBgYIBggICAMGBggGCAYDBggGCAQGBgQGBAYDBgYGBgYGAwMDBgQGAwYECAMIBAYGBggDCAYGCAgICAMIBggEBgYIBgYEBgMIBAgDBAgECAgICAQIBgYGBggGBgYEBgYIBggGBgYEBgYGBAgIBggGBAYGBgQGCAYIBggGCAQGBggECAgGBAgDBAMIBgYGBggIBgMGAwgEBgYIBgQDAwgGBggEBgYGBggIBAgIAwYEAwgIBgYGBggICAgIBAYIBAYEBgYEBAQGBAYGCAMIBggGBggECAQEBgYGBgYGBAYDBgYGBgYEBgQECAQEBggIBgMGBgYEAwgIAwgICAYGCAYIBgQGBAQGAwgICAQICAQGBgYGAwQGAwgIBggEBgYICAgGCAgGCAYIBAYGCAMIBgYIBggEBgQGCAgGBAYGAwgECAYGBgMGBgYIBAgECAYIBgYEBgYGBgYDBgYEBgQECAYICAYGBgYGBAYGBAYICAQECAYGAwQGCAgGBgQEBgYEBggGBgQDAwYICAYIBAgGBggDBgQIBAMGBgYIBAYIAwYGCAYICAgIBAYEBgQDCAYIBgQGBgQIBggDCAQEBAQIBggICAMEBggIBAgGBggIBggGCAYEBAQICAMEBggIBgQGBggIBgQEBAgIBgQIBggIBAgIAwQIBgYGBAQIBgYICAQGCAMGBgYGBggGAwYDBAgGAwYEBAgIBgYEBgYIBgYDBAgGBgYEBggICAgECAgIBAgEBgYICAQGBAgIBgYGBAgGBgQECAYEBggEBgYIBggGBgYGBAQDBggGBgYEBAYGBAYGAwgGBgYGBgYEBgQIBggICAYDCAgGBgYECAYEBgQGBAgGCAQEAwYGCAYIBAQGBAYIBgMGBgMIBgYGBgYGCAgICAQECAYGAwMIBgQECAQECAYIBggGBAgGBggECAYDCAgGCAgGBgYGCAQGBAYICAMICAgGCAQECAYIBAgIBgYDBggGBAYGBgYECAYDBggIBgYECAQEAwMEBggEBgQICAYGCAgIAwgGBgYGCAQEBAgGCAYGBgYEAwYGCAYGBAgICAgIBggEBgYICAgICAQGAwgGCAgGBAYGAwgGBAgICAgICAMGBgYEBggGCAYDBggGCAQIBgYGCAgGAwYIBgYIBggGBgQDAwYDBAgIBgMIBgQGBgYICAYEBgQIBgQICAYIBgMGBgYGBgMECAgIBggECAQIBAYICAYIBgYGAwYDCAYICAYGCAYIBggDAwMEAwMGBAgGBggIAwYGBgYGBggIBgYGBgQIBggGCAYDAwQGCAYEBggECAYIAwYGCAYGCAYIBgYGBAYGBggDCAMGCAgGBAMECAYGCAYIBgQDBAYDBggECAYICAgGBggDBAQGCAgEBggEBgYEBAgGBgQIBAYDBgYGBggDCAYIBgQECAgIBggGBgQGBgYGBgMGBggDAwMICAgDBAgEBgQEBAYEBgYICAgIAwMIBAgEBgMICAgICAQEBAgGBgYDBAgECAgDAwYGBggICAYIBggDBgYEAwYDBggEBgYEBgYGCAMGBAQIBAYGBggIBggGBggDBgYECAYIBgYGBgMGBggDBgMECAQGBggGCAMGBgYDBgMIBAgGBAQECAYEBgQGBAgEBAYEBgQGCAQICAMGBAMGBAQDCAYGCAgIBAgGBgYIBgYDBAQIBgYIAwQGBgYIBggICAgDBAYEBAYICAgEBgMGBAgEBAQIBgYGCAgICAQGCAgGBggEAwgEBgYEBgMDBAYGBgQDBgYIBgYICAYGCAYICAYGCAgGCAQGCAQECAYGBgQEBAQICAYIAwQIBAYGCAYGBgYGBgYGBgMGBgYEBgQIBAYIBgYEBgYGCAQIBgQGBggEBggGBAQIBgYIBgMICAgGAwYIBgYGBAYGBAQGBgQIBAQGCAMICAgEBgQIAwMGBgQIBggGBgYIBgYDBAYGBgYGAwgDBAYIBAgGBgYIBgMDCAgIBgQGCAYIBgQGBAYEBgMGBgQGBAQEAwYICAYIAwMEBAYDBAYIBAQGBAYICAgGCAYGBAgIBgYGCAQIBgYGBgMEBAgGCAYDBgYGBgYGBgYGBAYGCAQGCAgGCAgGAwYGAwMDBAgECAgEBAYGBgYGBgQDBgQDCAYIBAgGBgYIBgMGBgYIBgYIBgYIAwMEBAgECAQIBggGCAgGCAYIBAgGBggDBAgGBAQEBggEBgYICAMIBgYGCAgGBggEBAYIAwQECAgEBgYECAgICAgICAQGBAYGBAgEBAgIBgYIBgMECAQIBAYIBggDBgQGBAYGAwgGBgYDBggIBAgIAwYDBAQEBAYICAgGBgQGBAMGBAgGBAQEAwYGCAYDCAYDBgYGCAYICAMICAYGCAQGBgYGCAYICAgEBgQGBgYGBAYGBgYGCAYGBAYECAgEBgYGCAYGBggIBggICAgICAMECAMIBggGBgYGCAYGCAMEBAYEBgYGBAgGCAYEBAMGBgYGBgYIAwYEBgMEBgQGCAQEBAQDAwYGBggICAgGBgMGBgQIBgQGBgYGBgQICAgIAwMIBgYDBAgEBgYIBgQGBAgGAwgGBAQGCAgIBgYGBggGBAYECAMEBggGCAQEAwYIBggICAgEBAgGBgYDBgYGBggGBggGBggICAgEBAYIBgYEBggEBAYIBgYICAYGBgYICAgGCAQDBAgGBgYDBAYECAYGBggIBggGBggGBgQICAQGBgYGCAYDBggGCAQIBggDBggIBAMGBAYDBgQECAYIBggIBgYECAgIAwgIBgQGBgQGBAYIBggEBgMIBgMGAwMDBggGBAYDCAgDCAMICAYEBggECAQGBAgIAwMGBAgDAwgEBAgIBAYGBgQEBgYIBgYIBgYDCAQGBgYIBgQGCAYEBgMEBgMIBgYIBgYGCAYIBAYIBAgIBAgGAwYGAwQGBAMGBgYIBAMGAwYGBgYECAYGBgYGAwYIBAYDBgYDBAYGCAMICAYDBgYICAgIBAYGCAQGCAgECAgIBAQDAwgICAYGBAMECAYDCAYEBAYGBAgGBAYGCAYGBgYIBgYGCAQDBggGBAYICAYEBAQDBgQDBgYIBggGAwYECAgICAYEBAQGBAgGBAgDBggEBgYGBAYICAYGBgMDBgYICAQECAYIBgQGBgYEBgYEBgYIBgYDCAgEAwQGBgQIBggDCAYICAgDAwYGCAMIAwQDBgQICAYECAQGCAgGCAgICAYDBgYIAwYEBggGBAgGBgQGBgYGBgMDAwgGCAgGBAgGBgYIBggGBgYIBgYIBAQIAwgIBAgIBAYGBgYECAgGBgYGAwQEAwgIBggGBAMICAYGBgQDBgYGBAMGBggECAYIBgQDBgYGBgYGBAYEBgMIBAgDBAYGBgYGBgYGBAgGBgYEAwYDBgYIBggIBgQGCAYICAgDAwgDBggIBggEBAYIAwYICAYGBggEBAYICAYDAwYGCAYGBgYICAgGBgMGBgQECAgIBAgGBAYDAwYGBgYIBgYGBgQEBAYECAYIBgYECAMGCAYEBAgEBAgGBggGAwgGCAQICAQEBggIBAYIBAYGBggEAwQIBgYIAwYGCAYEAwgGCAMGCAYEBgQIBAYGAwgEBggECAYGCAMEBgQGCAYEBgQGBgMGBAMDCAgIBgMIBggEBgYEAwQEBAgIBAYDCAgECAQGCAMECAgECAYIBAgEAwYGCAYGCAgGBAYEBgYGCAMIBgMIBgYIBAgDBAYGBgQIBggGAwYGAwQECAYIBAgIBAMIBAYDBggIBgYIBggDAwQIBgQEBgYDCAQEBggGCAYIAwQICAMICAgICAgICAYIBAQICAQIBAYICAYEBAgGAwQICAQECAgIBggGBAQGBgQEBAQIBgYGBggGBgYIBgYGCAQIBgYGCAYECAYDBgYIBggIBggEBgQGBAYECAgGCAYGBgYGBgYICAgECAgGBgQIBAYEBgYIBAMGBgYGCAMEBAYIAwgIBgYDCAgEBggGCAgEBgQGBgYGBAgGAwMGBgQICAYICAYECAgGBgYICAQIBgYECAYGCAYICAYGBgMEBAgGAwYEBAYIBgYEBgYGBgYEBggGBAQGAwYGCAQECAQGBAQGBgYGBAgGBggIBgYGBggECAYEBAYGCAgIBggGCAYICAMIBAMIBggGCAYEBggGCAgGBAQICAgDBAYGBgYGBggIBggGBgQDBAMGAwQEBgYEBgYEBgQIBggEBgQICAYIBgYIBgQICAYIBgMDCAYECAYIBAYGAwgGCAYIBggGCAQGAwYGBAMIBgYGCAgECAYGCAgICAMGCAQIBAMGBgMGBAgGBgYEBggGCAgIBAgGBggGCAgGCAgICAgGBgYEAwMICAgICAYGBAYDBgQGBAYEBAQGBggGAwgGAwYECAQIBAYIBAgGBgMDBgQGBAYGBggICAYGBgYIAwgICAgGCAgICAMGCAYIAwQDBAgICAQGBAQGBgYECAYGAwgGAwMGBgQGAwgEAwYECAYIAwgEBAYICAQIBgYGBggGCAgDCAgECAYGBgYICAQICAYIAwYEBgQGCAgGCAgGBAgIBggIAwQGCAQGBAYIBgQGCAYDCAgGBgYIBgQICAYEBAgGBgYEBgYIBggGBgYIBggGBggEBgYEBgQGBggGCAYEBgYIBgYECAYEBAYEBgYGBgYECAgGBggGBgYECAYGAwYIBgYICAYEAwYIBggIBAgIBAgIBgQDBAYIBAYGCAgGCAQIBAgIBggDCAgEBgQDCAgEBggIBAYGBgYGCAQGBggGBgYGCAMIBggGBAMGBgYDBgYIBgQIAwQEBgYGBAgGAwYDBggEBgYIBAgGAwQGBgMIBggICAgGBgYIBgQICAgIBAQGCAYECAgGCAYIBAYEAwQGBAgIBAYIBAYEBAQGBgYIAwYGBggECAYEBgQGAwgDBgQIAwYGBgYDBAgGCAYGBAYEBgYIBggEAwYEBAQIAwQIBggICAgIAwQDBgQIBAgICAgGAwYGCAYECAYECAYGCAYGBgYGCAQEBggGAwgGCAMECAYGCAQEAwYECAYICAYEBgQDBgYGBgYGBgQIAwMEBgYIBgYIBAYEBAgGBggEAwYICAgGCAQIBggGCAgDBggGBgQGBAYGBAgEBAYGBgMIBgYGBggGCAYDBAMDBggECAQGCAYICAgDAwQIBAQDBgYEBggIAwYGCAQIBAYIBgYECAYICAYGBgYGCAYDCAYEBgQIBAMEBgYGCAYECAQEBAYDCAYGBgYDCAYIBgYECAYGCAgIBgQIBggGBgYICAYGBAQEBAgGBggEBgYGCAYEBAYGCAgIAwgDBgQGBggDBgQGBgQGBgMEBgYGAwgDBAYIAwgIAwgGBgQGBgQGBgYGBAgDBAYIBAQGBAgGBAgDBgMIBAQIBAYEAwYGBgYDBgMIBggDBAYDBggIBggGBAQEBgYGCAgEBggEBAgGBggECAgGAwMIBAYGBggGCAgDCAYGCAgIBAYIBggGBAQICAgEBAgECAYEBAMGBgMICAYICAgEBggEBgYEBAQGBggEBggIAwYIAwYGBgQGAwQDBggDBAQGBgQIAwgGBgYGCAQIBAgEBAYEAwMEBAQECAYEBggIBAYECAgGBgYDBggGBggEBAQGBgYIBgYECAYEAwMGBAgGCAgEBgYGBgQDCAMIBgQECAQEBgMGCAgEBgYGCAYGCAYGCAYIBgYIBAgIBggIBgYGBgQIAwgGBAgGCAQIBggGBAYGBAYIBAYIBggIBAQIBggECAYIBgMICAMGCAYGBgYICAYEAwYGBAYIAwgEBgYECAgGAwgIBAYEAwQGBgQIAwgGBAQEBAYICAgGBAYGBggEBggDBAYIBAgGBggGBgQIBAMECAgGCAQICAgDBgMEAwgIBgMGBAgGCAMGBgYGAwQIBggGBgYGBgQICAgGCAYGCAMGCAQEBgYEBAgIAwgGAwQIBAYIBAYIAwgGBAYICAYGBAQGBgYIBAYDCAgGBggEBgYGBAgGBggEBgYECAYEBgYEBAMICAYDBggGBgYGBAYGBgYGBggDCAMGBgMGBgYGBgYGBgMGBAYDBgQECAYIBgYEBAQEAwQEBgMGBggDBggGCAYGAwYGCAMIBgYIBggIBggDCAYGBggGBgMIBgYGBggECAYGBgYGBgYECAQICAgIBgYIBggGBgQIBgYEBAQIBAYECAQIBgYGBgYEBggGBAgECAMIAwMGCAgIBAMDBgYECAYDCAgGCAYEBgYICAgEAwYIAwQICAgIBAYIBgQGBgYICAYGBgMICAgGBgMGBgYICAYGBgYICAYDAwQDCAQECAYIAwYEBAQDBggIBAgEBgQGBAgGCAYGCAYEBgQICAYGBgMECAQGBgQGCAMIBAMIBgQGBAgGBgYIBgYGBggIAwYDBAYEBgQEBggGBgYGBggGBggIBggDBAQGCAMGCAgIBAgIBggGBgQIBggICAYIBggGBgYGCAMGBggGBgQECAgECAQGBgYECAYEAwYEBgMGBgQICAgGBgYECAMGBgYECAQGBgYDBgYICAYGCAgGCAMICAgGBgYGBgYICAQIBgYIBggEBggGBAgGBggGBAgIBggICAgIAwgGBAYGBgYGBgQGCAgIAwgGBgYGBgQGCAMEBgYDCAMGBggEBAYIBgYEBggDBAMEBgYIBAQGBggGCAgDBAgICAgICAMIBAYEAwYDBAgGCAMGBgYIBgYEBggIAwYIBgQIBAYEBAQIBAYGBgQGBgQGBggGBgYICAgGCAQGBgYICAYGBggGBAMEBgYGAwYGAwQGBAgGBgYIBAYGBgYIBAgGCAgGBgQICAYEBAMGBgQIBgQGBAMGBggGCAMEBAgGAwMGBgMICAgGCAYGCAMIBgQGBggGCAYIBAYGAwYGCAYGBgYDBgYIBgYIBAQGCAgGBgYGBAgIBgMGCAgIAwYGBAYGAwYGBAYGCAgGCAYGCAgGBgYICAgDBggGBgQGBggEBgQGAwQICAgEBAMGBgYEBAgEBggIBgYIBgMIAwgIBggEBAMIBgYICAYEBgMGBggGBAQIBgMEBAYIBgYICAYIBgQGBgYDBgYDAwMDBAgGBgYICAYEAwYIBAYGAwgEBggICAQIBgYEBgYDBggECAYGBgYEBggGBggGCAgEBgYGBAQEBgYEBgYGBggDBgYIBggIBgYGBggGBAYIBAgEBgQGCAQIBggIBggGCAYGBgMICAgIAwYGCAYGBAQIBgQEBggGBAYGCAQECAQGBAQGBgMGCAgDBgMIBgQGBgYDBgMIBggICAYGCAgEBggGBggGBgQGBgYGCAYGCAgIBgQDBgYDAwgGBAYDBgYGBgYIBgYGBAYDBgMIBgYEBggGCAgEAwgGBAYGCAgGCAMICAMEBgYGCAQDBggICAgGBgQGBAQICAgIAwQDBAMICAgEAwgICAgEBgQIBgMIBgYGBggDBAQGBggGBgYIBgYEBgQGBggEBAYDBgYGBgYGBgYECAQIBAgEBggICAgEBgYGBAgEBggICAgDCAQIBgYGBgYIBgYGCAgEBAQIAwQGBgYIBggECAYIBggGBgQGBgYIBgYIBggIBAgGBggIBggEBgQDBAgGCAgECAgIBggGBgYGBgYEBAYEAwYGBAYECAgGCAgECAgDBgQDCAYEBAgDBgYDBAYECAgEBAQDCAgICAQGBgYGBgQEBgYGCAYGBgYDCAgGBggGBAQDBgYGBAgEBgYEBgYICAQDCAQDAwYIBgQEBgYDBgYGBAYIBgYGCAMDCAgICAgGBggGBAYICAQDBAQDAwgGAwMEBAYIBgQIBAMDCAYGBAQIAwYGBgYDBgQGAwYGBAMIBgQGBAYGBAgIBgYIBgYGCAgGCAgGBgYICAQDBgYECAQDBggGAwgGBgYGAwgIAwQICAQDBgQIBAQGAwQIBggGCAYICAMGBgQICAYDBggGAwYGBAYEBgQGBgYGBAYGCAgEBgMIAwMICAQIBggEBggIBggEBAgGBggGAwQGAwgIAwQGBgQICAMGBggIAwgIBggGCAQGBgYGCAgDAwYGBgYGBggEBAgICAYDBAMGBggIBAgGCAgECAYIBgQDAwgIBAQGCAgGCAQGBggICAMGBgYGBggIBAgGCAYIBAYIBAMGBgQDBggDCAYIBAYEBggDCAYGBgYGBggEAwgGAwQGBggIBAYIBgYEBgYECAgDBgYDBgYEBgQGCAYICAQGAwMGBgMEBgYIAwYIBAYEBgYEBAQDBAYGCAQGBgYEAwQECAYICAYGBgYIAwMGBgQECAYGAwYECAYGBgQGBgMEBgYEAwgGCAYGCAgGBgQDBggECAQECAQDBAQDBAgDBgYIBAMGBgQDBgQGCAYGBgYGBAgIBAYECAYEBgYGBAYEBgQECAYDBgYECAYICAgGBgYGBgQECAgGBgMIBAgGBAgGAwYGBgMGBAYICAYGBgQEBgYEBgQIBAgGBgMECAQIBAYICAYGAwMDBAMGBgMIBAgEBgYIAwYIBgYIBgYIBAYGCAYGCAMGCAgGBgYDCAYEBgQIAwMICAYEBAgEAwYEBggEBggGBAYGBAMECAgDBgYECAYIBgMGAwYIBgYEBggIAwgICAQIBggIBgQGCAgIAwYGBAgICAgGBgQDBAQICAgDCAgECAgGCAYGAwYIBgYGCAMIBgYGAwYEBAgEBggECAYGAwMGCAYIBgYEBAQEBAYGCAYEBAMEBgMIBgYEBAYDBgYDBggGAwgGCAYIBgQICAQGBAYDBAQIBgYECAgDBggIBgQECAgDBggICAYEBgYDCAYGCAYGBAMGCAgEAwQIBAQICAYGBAYEBAYGCAgIBgYIBAQGAwQGCAgGBAYGBgQGBAYIBggIBgYGAwMIBgQEBgYDCAgGCAgECAMIBAQGAwgGCAgIBgYGCAYGBgMGBgYGBggGAwQDAwYGAwQGBgQEBgQECAMGBgMGAwYICAQGBggDBAYGBAgGBgYGBgYDBAgIBAMIBgYECAYIBgYGBAYGAwgICAgDCAMIBgQGBAQDBAMIBAQICAYIBggGCAYGBgYDBAYGBgYGBggICAgGBgYGBgQIBgQIBgMIBAQGAwYGAwQGBAgICAQECAYECAQIBAgGAwYGBgYEBAYDBgYDBAgEAwMIBgYEAwYGCAQDBgQECAYGBggEBAgGBgQGBAgEBAMGBggICAgICAgGBgMICAYGBgYIBAYGBggICAgGBgMGCAgGBggDBAQEBAYGBgMGBgYGBggGBggDBAQGBgYIAwMIBAgGBAYEBAMICAgICAgICAYEBgYGBAYIBgYGBggGBAYEBgYGBgYGCAgGBgQGBAYEBggGBAgDBAgEBggICAgIBgYGCAMDCAgECAMEAwYICAgGCAYIBgQICAYEBAgIBggGBggGBggIBgYEBAYDBAgIBggIBAYDBAQGCAYGBAQIBgYGAwgEBgQGBgYEBgQGBAYICAgECAYGBAYECAQGAwgECAYICAgICAQGBgYIBgYEBAYECAgEBgYGAwgGCAQDCAMDBAgGCAYEBgMEAwYIBgYGCAYGBgMEBgYIBggIBAYDCAYGBgYIBgYGBgYGBggDBAgDBggECAYEBAYEBgYGBgMEBgQDBgQGCAgGBggICAMGCAgGBAYIBgYICAgICAgGBgYIBAQEBAMGBgYGBggECAgEBggEBgYDCAYGCAgICAQICAMECAYDAwgICAYGBAYICAgEBgMIBgYIBgYDBggEBgQIBAQGCAQECAYDBgYGBAgIBggEBAQEAwYEBAQIBAgEBAQDCAYDBgQICAQICAYECAgGCAYGBgYIBggGBgMDBgYGBgYEBgYGBAQECAQGBgYGCAYGCAgIAwgDAwgDBggEBgYIBgYGCAYIBAQGBgYEBgYGBAgIBggGAwgGBgQIBggEBgYGBgMGBAYECAQGBgMGCAMGBggGBAQEBggGAwYDBggGCAgGCAYECAgECAYDCAQEBgMICAgEBgMEBAYGAwYGBgYGCAYIBAYIBgYEBAYGBAYECAYGBggDAwQGCAYICAYGBAYIBAYEAwMGBgYEBAYGCAgGBgQIBgYGBAYGBggEBggGBgMECAQIBggGCAgECAMDBAQIAwYIBgQGCAYIBAYIBggGBggGCAgGBggDBAgICAYDCAMGBAQEBgYGAwgIBggIBAYGCAMIBggGCAYIBAYECAQGBAYDAwMEBgYIBgYIBgYDAwQDBAQDBggGBggGAwYICAgDBgQGBggGBgQIBgYIBgYGBAgGBAMEBAYEBgQDCAgDBgQGCAgGCAMICAYIAwgGBAMGCAYIBgQIBAQGBgYICAQIBgYGBAYDBgYGBgYGAwQIBgYGBAYGBgYEBAgIBgMGCAYGCAQGBgQGCAYGBAQICAYICAYEBAYEBggGAwYICAYGCAYGBggGBgMICAQGBgYEAwYDBAQICAYDBgYECAYIBgYEBgYGCAMIBgYIBAgGCAgIBAgGBAgGAwYDCAQDBgYGBAMDBggGCAQEBAQEAwYEBggDCAgGBgQGBgYGAwgGCAMGBggGBAQGCAQIBgQGCAgGCAQGBgQIBgQIBggDBAQGAwYIAwYGBAgIBgYGCAMICAgGBggGBgYDBggIBgYGBgYGCAQDBggGBgYGBAYGCAgEBAYECAYICAYIBgYIAwgDBAgGBggIBgYIBgYEBgQGBgYDCAYEBAYICAQIAwYGBgYICAYDBggGBgYGBAgGCAMGBgQGBAgIAwQIBgYGBggGCAgGAwgGBggDBAgICAYGCAMGBggIBAgIBggDBggGCAgGAwYGBgYICAgEBgYGCAgECAgICAYEAwQGBAQGBgYIBgYIBggEBgYGBggIBggICAYGBgYEBAQICAQEBAQDBggIAwgIBAYIBgMGBgYGCAYGBgYEBAgIBAYECAYGCAgEBgYIBAQICAYEAwYEBggICAYIAwMIBgYGBggGCAYGCAYIBAQGBAYIAwgICAYDCAYIBAYIBgQICAgGBAYGBgQGCAYIAwYICAMEBgYGCAYIBggICAgGBggGBAYGBggDCAYGCAYGBgYGCAYGBgQDAwgICAgGBAYGCAgECAgIBggECAMIBAgGCAgIBgYGCAQGBgMIBgQGBAYGCAQGCAQDCAYDBgYIBgQDCAgGBggICAYGCAYICAYICAQGBAgEBgMEBAYIBgYIAwYGBAYEBAYIBgYGBgYGBAYGCAgICAQEBgYEBAYEBgQIBgYIBAQDBAQGBgMGBAYIBgMIBgYEBggGCAQEBAgGCAYGBAgGCAYGCAYICAQIBAMICAgIBAgEBgYGAwYIAwgGCAYDBAgGBggIBAMIAwQGBgYICAYGBAQICAgIBgYICAYEBgYDBgYGBggICAQDCAQEBAgIBggECAYDCAYICAQGCAgGCAQEAwYGBgYDBggEBAMIBgQEBgYGBgYGBggEBAYICAYIBAgECAgGBAQDCAgIBggGCAQIBggGBAgGBAgICAgGCAgEBAgECAgGBggEBgMGBAQICAQIBggGCAgGBgYDAwgGBggGBggECAYGCAgEBgYIBAYIAwgEBgYGBAYGBgYDBgQGBgQGCAYIAwgGBgQIBAgICAgECAQGAwgGBAgGCAQGCAMGCAQEAwMICAMIBggEBgYGCAgGCAYGBgMECAYGBgYEBAYIAwMIBAgGBgYEBgYEBgYIAwQDBAgGBgQECAgEAwYIAwgGBggGAwQGBgYGCAgECAYEBAMEBgYIBgYGBAMIBgYIAwYGBggGCAYICAQGCAYECAgIBgYGCAYGCAYIBAYEBggGBggGBAYGBggECAgGBAgIBggIAwYECAgIAwYEBAgGCAYGAwgECAQGAwQGBAgGCAgGCAQEBAYGBgQDCAQGBgYGBggDBAQICAMIBgYEBggICAQIBgYGCAgGBgYGCAgECAQIBggGCAgECAQGBggIBAYIBgQICAQGAwYIAwQIAwgGBggIBggEBgQGCAYICAgGBAgGBgQGAwYIBggGBgQICAMDAwQIBggIBgQGBgYECAgEBAgEBggGCAQGBAQGBgQGCAYEBAYIBgQEBggDBgMIBAYECAgGBgQGAwYGCAMIBgYIBgQGBAMGBggGCAYEBgYGBggECAYEBgQIBgYGBAQEAwYIAwgIBgMGBgYDBgMDBgQGBgYIAwYGCAYGBgMGCAMICAYGBgQGBAYGBggIBgQIBgQGCAYDBggIBgMGBAYGAwYIBAMGBAYIBgQGCAYGAwYDBggGCAgIBAYEBggGCAYGBggDBAYICAQGBAQGBAYIBgYEBgYGCAYEBggGCAQGAwgGBgYEBAYGCAYEBAQIBgQICAYDBgYEBggEBggGBAgEBgMIBgQICAgIBAYDBggIBgQDBgQIBggICAYEBgQICAQICAgGBgMGBgQIBAgEBgYGCAMGBggDCAQEBAYGCAgIBgYDBgYEBggIAwQGCAQGBgYIBgYECAgGBAYGBAgECAYGCAQIAwgIBgQIBgQGBgMEAwYGCAgGBAgEBggECAgGBAgIBggECAYEBAYGCAYGAwgDCAYDCAYGCAgGAwYICAgGBgQGCAYGCAYIBgMEAwYICAQEBgYIBgQIBgQGCAYGCAYECAQGBggECAQIBgQICAYDBAgEAwQICAQGBgQGCAYEBAgGBgYIBAYGBggEBgMIBggEBAgEBgYIBggEBAgIBAgIBAYDCAYGCAgICAMECAYIBgQGCAYIBgQGBggIBgYEBggGCAYGAwQIBAYEAwgICAgIBgYICAQEBggIBgYGBAYGBgYECAQECAgIBAgIBgYGCAYDBgYEBAYGBgQIBgMICAgIBgYDCAYGBAgIBgYIBggGCAYGBgQIBAYIBAgICAYGBAYDCAgEBggGBgYEBggGAwYIBgMIBgYIBAMGCAYGBAgEAwQIBggIBgMDCAgGAwgICAgGCAQGBgYGBgYGBgQGAwYECAYIBggDBgYICAYDBAYGCAYIBAQGBggIBgYIBgYDCAYGBAMEBAMGBgQGCAYGBAYGBgYDBggEBggGBgYGBAgIBgYDBAgGCAgGAwMEBgQDBggGBgQEAwQGBgYDBggDCAYECAYECAYDBAYDBAgEBgQGBAMIBgMGBgQGBgYICAgIBgQIBAQIBggGAwQEBAYGBAYIBAYGBgQDCAYEBgYIBAgEAwgECAgGCAQEBAMDBgQDBAQDBAMDCAYIBgYGCAYGBAgIBgYICAQGBAYGBgYGBAgEBgYDBgQIBgYDBgQEBgYGBggICAYGBAQGCAQICAYICAYIBgYEBAYGBAgDBAQEBAYDCAYGCAYECAYGBAYGBAgEBggGCAYEBgYEBggGBggGBggGBggGBgQGBgQECAYECAYGCAgIBgQGBggIAwgGCAYICAYICAgDBggIBAQIBgMIBAQDCAYICAYIBAgGBAgEBAQGAwQEBggIAwYIBAYGBggGBgYGBgQGBgYGBgYIBgYECAYIBAQGBgYDCAQGCAgDCAQIBAgGBAMICAYIBAgIBgQGBgMICAYGBgQEBgQIBgYICAYICAQEBgMICAYGCAQIAwMEAwYGBgYDCAYGBgYICAYGBggGCAQGCAYIAwgECAgICAQGBggECAgIBgYGCAYIBgYGBgYGCAgEBgQGCAMDAwYEBAYGBAgICAYGBggECAQECAgGBggGBAYIBggEAwYGBAgGAwYGCAgEBgYGBggICAYIBgMICAYEBAYECAMDBAgIBggGBgYEBgQICAYIBgMGBgQGAwYICAgDBAgGBggGBggEBgMIBAQGAwQEBgYIBgQECAYIBAYEBgQEBgYGBggGBgYIBggGBgQICAgIBgMGBgMGBAgIAwYICAgICAYGBgMDBggDBAYGCAYEBggICAQGCAQEBgQIBAYGCAYIBAYICAgICAgICAgIBggIBggIBggEBgYEBgQIBAQGBAYGBgYIBAQDBAgDBggGBgQEBgMEAwgIBgMIBgYICAYGBgMIBAYICAgIBgYGBggIBAgIBgYIBgQGCAYGBgYICAgICAMGBgQIBgYIBgMGBAgECAQGAwQGAwQDCAgIBgYGCAgEBAgDCAgEBgYIBggGBggDBgYDBgMGCAYECAYGCAgGCAMIBAMEBggGCAYEBgMEAwgGBgYIBAgGAwMEAwgGBgMIAwYIBgMIBgYIBggECAgIBgQDBAYGBgYICAYECAMIAwMIBgMECAYIBAYIBgYGCAgIBAgEBgQGCAYIBAYEBgYGCAYIAwQGBgQDBAgGBgYIBgMGCAgGCAQGCAQDCAQIBAgICAYGBgYICAQDBAQGBAgEAwYECAYGBgQIBgYIBgYIBAYGBgQIAwgGCAgDCAYDAwYGBgMGBAgGBAYGBgMGBAgIBgMECAYEBAYEAwYIBggGCAgICAYDCAgIBggECAQGCAYDCAMICAYDBAgDBgQIBggGCAMGBggIBgQECAgGBgYDCAYICAYGBAgIAwgGCAQGBgQIBgQGBgYGBgYIBAMECAYEBgQGBgQICAYGAwgGBgQGBgYIBAYGBggGBggDCAYGCAQGBAYGBgMIBAYIBAgEBgYGAwgIBAYEBAgGAwQIBAQDBggICAYGBggGBggIBAYGBggGBgMIBAYDBgYIBAYGBgYIBgQGCAgGBAgGBggGBgQGBAgEBgQICAgGCAQGBAQIBggIBggECAQGBAgGCAgGBgYIBggIBAQGBgYDAwgDAwgICAYICAgGBgMDCAYGAwgEBgYECAQGBggECAQECAYEBgYGBgYGAwQIBgQGCAQEBAgGCAgGBggIBggGBggEAwMDBAQIAwgIBgMDBgYEAwQICAYIAwMGBgQEBgQEBgQEBgYDBgYGBgYGCAYEBggDAwgDBgQEBAYEBggGBgYIBgQIBgQGBAMGBAgDBAYICAYEBggICAYGCAMIBggGCAQIBggEBAYIBggEBgYICAQIBgYDBggICAYIBAQIBAYEBggEBgYGBAQECAQIBgMGBgYGBAMIBggIBgYIBAYIBgYIBgYIAwgIBggIBgMGCAYGCAQGCAYIBgYGCAYIBAQECAQGCAgGBAYIBAQICAQGAwgGCAQGCAYGCAMEBgYGBAgDBgQICAYICAgGBgYGBggIBgYIBgQGBgYEBggDBAYGBAgIBgYGBgQGBggIBgQGBggEBAYICAMICAQECAQEBggICAQIBgYGBgYICAMGAwYIAwQEBgYEBggGAwgIBgYGBAYGCAYGBgMEAwYDAwQGBgYIBgYIBAQIBAYGBggDBgYGBAgGAwgIBAQIAwgICAQIBgYIBggGBgYIAwYGCAgICAYGBAgEBAgIBgMIAwQGBgYGCAYEBgMGBgYGBggIBgYGBAgICAYDBgYGBgQGBAMGBAQIBAgIBAYGBAQGBgYECAYGBggGCAQECAYGBgYEBAgDBgYECAQGCAQDCAYDBAYICAgGBgMICAMIBAMGCAgECAYDCAYIBAYEBAQDBAQEAwgGCAQEBAYIBgYIBggGCAgGCAYGCAQIBgMEBgYDBAYGCAYECAYGBggIBggEBgYGBgYEBggGCAgEAwgIBAQEBgQDBgYGBgYGBggEBggICAYGBAYIBggECAgIBgYGBgQGCAYGBgQGBAgIBgYEAwgGBggDBggIBgYEBgYIBgMGBgYIBgYICAgEAwYDCAgDBAQDBggICAgIBgYICAYIBgQDBgYICAQGBgYGBgQDCAYGCAgGBAQGBAgGCAgGBAYIBgYDCAgECAYGCAMIAwYGBgYGBgYGBgYGCAQECAMIBAQDAwMGBggICAYDBgYICAgECAQECAYECAYIBAgGCAQIBAYIBAYDAwYGCAMGBgQGBgQIBAMIBgMIBggIAwQEAwgGCAYGBgYEBggECAgIBgYDBggGCAQIBAgGCAYGAwYGAwgIBgYGBAYGCAMIBgMGCAYGBgYGBgYGBgYGCAgIBgMEBAYIBggICAMEBgMICAgICAMECAYICAgIAwYGBggGBgYDBgYIBAQGBggEBAYGBgYIBgYICAYEBggIAwYGBAQDAwYDAwYGCAYDBggGBgMEBAYECAYGBgYGCAgIBgYGBgQGBgYGCAgICAQECAgGBgYGBggDBgMEAwgIBgYIBAgEBgYDBggEBAQGBggGBAgICAQGCAgDCAQIBggIAwYGBAgGCAgEBgMGCAQECAYDAwMEBggIBgQGBAYIBgYGBgYIBgYICAYEBgYEBAYIBAgGBgYGCAgIBAYDBggIBAMICAYGCAYICAgGCAYDCAYGBgYEBggEBAgIBAQICAYEBAYGCAgGBgMDBgYIBggECAYIBggGCAMIAwQIBAgGBggGBggEBgQIBAYGCAgIBAYECAQGCAYGBAQEBgYGAwYGCAgEBgYDBAYGBgQIAwYGBAQECAgGBggGBAQGBgMIBAYIBgQECAYEAwMGAwQEAwgDBgYGBgYECAYEAwYIBgYGBgYIBAYGCAMIBgYIBAgGAwgEBgYGBgYGBggECAgECAgIAwYICAYICAgGCAgGBgQEAwgGBgYGBgYICAYIBAYIBgYGBgYDAwYIBgYGBggIBgYIBggICAYEBgYGCAYIBgQICAQGBggICAgDAwQECAYGBggGAwMEBggGBgQGAwMGBAYEAwgICAYEBgYIBggGBgMGBAYGCAQEAwQIBgMICAQIBgYDAwgGCAMGBgYIBggGBgMGBAYGCAgICAQGCAgIAwYIAwQEAwgICAgGBgYIBAYIBAQGCAMDBgYEBAgIBgYICAQEBggDCAgIBgYGCAgIBgQGCAgEBgYGBggGBggGBgMIBAgIBAgICAQDBgQECAYEAwMICAYDBgYIBgYGCAYIAwYICAYECAYEBAgIAwQIBgYEBAYGBgYDAwMEAwMGBgQEBgQDCAgGCAgEBgMICAgEBgYICAMIBgYEBAgGCAYEBgYDBgYIBgQIBAgGBgQIBAYGBgYDCAYIBAgGCAYICAgIBAQEBgQIBAgIBgYDCAgDBAgGBgQGBgQICAYDBAYGBgQGBggGBgQGBgYIBAgGCAYIBAgGBAQGBgYGBAYGBggEBgYIBgMIAwgGBgQICAYECAgICAYGBgQGBggDBgMEBAYIAwYDCAgICAgIBgYICAQDCAgEBgYECAYGCAYGCAYEBggGBgYEBAgGBAYIBggIBAQEBgQGBAgGCAYIBggDCAgGAwQECAgIBggGCAgGBAYECAYICAgDBgYEBggICAYIAwYGCAQDCAYIBgQIBgYDBgYDBggIBggICAYGBgMDCAgIBggGBgYGBggIBgMGBgMIBAYIBgYECAQICAMGCAgGBAYECAYECAYEBAgDAwgIBAQGCAgEBgQICAYGBggGBAYECAYICAYGBgYEBggGBAQIBggGBAgGCAYGAwgGAwYGBgMEBgYGCAYDAwYDBggDBAgGBgQDBgYIAwYGBgYGBgYICAYECAgECAYGAwgEBggECAQEBgYEBgQIBAgGBAgGBgMGBgQGBAgEBgYGBAYDBAYEBgQIBgQIBggGBgMEBAgDCAYIBAgICAgDCAYICAgGCAYICAYGBAgIBggDCAQECAQIBAYECAYGCAgDCAQECAQGBgYGBAgIBAYGCAgGCAYGBggECAQDCAYGBAgGBgYGBAYGBgYIBAgGCAMGBAQGAwMGBAYGBAYEBAYIBgYGCAQGBAYEBAQGBgYGBAYEBgQIAwgICAYGBgYDBAgGBAQEAwQEBgYEBAYGBgYICAgGCAYEBgYEBgQGBgYICAgEBggGBgYECAYDBggEBAYGBgYGBgYDBAgECAMIBgQDCAYGBggICAMGBgQGBAQDBgQIBAYGCAYICAYEBAgICAgECAgGBAYEAwQIBAgEBAQICAYEBgYGBggGBAgGBAgGCAYIBgYEBgQIAwYECAYEBAQGBgYDCAYGBgYDBgYEAwgEBgYGBAQDBgMGBAgDBgYIAwgGBAQDBAgECAQGCAYGCAgEAwQICAgGBggEBAQECAQGCAYIAwQEBAQIBgQEBAQDBggGBgYGBgYGBggECAgGBggDBgYGBggGBgYGAwgIBAYGBgYGCAQGBgMGCAgDBAYIBgYECAMGCAYICAgIBgQGBAMIBgYIAwQGBgMICAQGBgYIBggGBggGBAgICAYGBAMEBgQICAYICAgIBgYIBgYGAwgIBgYIBgQGCAQGCAYIBggDBgYIBgYECAQIBgYIBgYGBgQIBgMDBgMEAwgICAgECAYGCAYIBgYECAYICAQDCAYIBAYECAMIBggGCAQECAMEBgYIBggGCAQIAwgEBAgICAgIBAgDCAgGBgQGBAYGBAYIAwMDBgYDCAgIBgYICAYGBAgEBggGBAQIBggIAwYICAQICAgGAwQGBgQICAYIBggIAwQDBgQECAYECAgGBgYEBAMGAwYEBAMDAwQIBAYGBgYGBAYIAwMEBggDBggGBgYIBAQECAYIAwMECAQEBggGBgQICAMIBggGBAgEBggGBAQGBgYGBgYIBAYGCAgECAgICAQIBAYIBgQDCAQGBAYEBgMICAgGCAQIBgQIBgYGBgYIAwYIBgYGBgYGBAgDCAgGBAYGBgMDBAYIBgYGAwYGBgMIBgYGBggECAYGBAgICAMIBAQDCAYGCAgGBAYGBgYGCAgEBgMICAYIBAYDBAgIBgQGBAYIBgQIAwYIBgYGCAMECAQGBgYGCAQEBgYGBggGAwMICAQGCAgICAYICAgGCAYIBAYEBggGCAgGBgYIBgQEBAYGAwQGBAYGBgQGCAQEBggICAgGBgYEAwYGBggGCAYICAQIBgQIBAQEBgYGBgQGBAYGAwgIBggGBAMGCAYGBAYGCAYGBgYECAYIBgMGBgMECAYEAwYICAQIBggGBggECAYGCAYICAYIAwgDBgQICAQGAwMICAgICAgECAYDBAYIBAgICAQEAwYEBggEBAMIBgYDCAQGBAYGBgYGBAgGBgYIBggEBAYGCAgDCAgGBAgGBggGBggIBgMGCAYECAYGAwgDBgYEBAQIBgQEBgMEBgYGBgYIBgYEBAgECAYGBggIAwMDCAYICAQEBgMGBgQEAwQEBgYGCAYIBgYGBgYIBgYDBAYIBgQEBAQGCAYDBgYEBgYIBgYIBAYDBgYICAgGCAQIBAgIBAYGCAgEBgYDCAQIBgMGAwYECAYGBgQECAYGBgYIBgYGBgQECAQDCAYIBgYGAwQICAYIBgYGBAYDCAQICAQIAwgEBgQIBgYGBAYGBggIBgQDCAgGBgQEBgYGCAQDBAgEBggGCAgDBgQGBAYGBgQGBgQICAYIAwgGBAYEBAQGBgYIBgMGCAYGBggGCAQECAYICAQIBgQGBAQDCAYGBgYGCAYECAgGAwgDBgQEBgMGBgQEBgQECAQIBAgGCAgIBggGBgYICAYIBgYGCAgDBgYEBgYIBAQGBggIBgYIBAgGCAQDBAYGBAMIBgYDCAQGCAgEAwQGAwQGBggGCAYICAQGBgYICAgECAQIBgQIBgYEBgYEBgQIBgYECAgGBggEBAYECAgGBggEBgYGBgYGBAgIBgQGAwYDBAgGBgQGBAgIAwQGBgYICAgEBggDBAYGBggIBAYDBgQICAQEBAQGBgYIBAgGCAYIBggECAgICAYGAwMGBggGCAgIBggIBAYGBAYICAgDBggGBgMDBAMDBAQGBggIAwQDAwYIBgYGBAgGCAYGCAgEBggICAYGCAYIBAgIBAgGAwYGBgQGAwMICAYICAYGCAgEAwYICAMGBgYGAwQGBggECAQECAQEBgYGBAgDBggIBggEBAgICAYDAwYICAgGAwYGBgYIBgQEAwYGBAgGBgQIBggICAgIBAQEBAYGAwQDAwYIBgYEAwYGAwYEBgYDBAgGBAgICAgEBgQECAQGBgMIBgQGBgQGBgQIBgQGCAQGCAYEBgQIBAgGCAYICAYIAwgECAMGBggGBgYDCAgGCAYIBggDBggEBAQECAgIAwQGAwMDCAMGCAgICAQGBgYICAgDBgYGCAYECAYGBgYIBggECAgGBgYGCAgGBggIBgYGBAYIBAgICAMGBggIBAgGBgYGCAQGCAQEBAgGBggIBAgGBgYGCAYGAwMGCAYGBgQDBggECAYGBAgIBgYIBgYICAYGCAgECAYEBAYGCAMGBAgEBgQIBgYEBggIAwQGBgYGBAMIAwYEBgYDBAgECAgEBgYDCAgGBAgGBAgDBgYGCAQICAgICAgECAgIBAYGCAYIBgQGBgYDAwYICAQIBgYEBgYIBAMIAwQECAYECAYDBAQECAMEBggIBggGBgMIBgMGCAYGAwMEBAgEBggIBggGAwgEBgYGBggEBAMIBAYEAwYDAwQIBgYGCAYECAgEBggIBggGBAYIBggDBgYGBAMIBgYGAwYGCAgECAQDBAQGCAYDCAQEBgYGBgYEBAgGCAYGAwMGCAYGBgYICAYGBggIBAgGBggGBAMDBgYDBgYGBggDCAQEBgYGBggICAgGBggIBgQEBAgGCAYGBAgEBgYGBgYIBAYIBAYDAwYEBgYECAYGBAgGBgYGBgQIBgMDBgQEBAQDBgYECAMGBAYGCAYIBAMICAQEBgYECAgIBgQGCAYEBggECAQICAQICAQIBggECAgEBgYICAgICAgGBgQECAYGBgMGBgYIBgYGBAYGCAgICAgIBAQIBgMECAMGCAMEAwQGCAQGCAYIAwQECAgDBggECAgGCAYICAQGBgYGBAgGBgYGBAYEBggGCAMIBgYEBAYEBgQGCAYGBAQGBgMGBgYIBgYGAwgGBAgDCAMGCAYGCAQEBgYECAQDAwgEBgYGAwMEBAQEBgQGBgYICAQEBggIBgMGBgYEBggGBggIAwYECAgGBgYEBgYGBgMECAgICAMEBggICAgIBggGCAMGBggEBAgEAwYGCAgGBggIBgYEBgYEBggGCAYDBAYEBgQGBgYGBAgGBAQGBAQEBgYGBgMEBAYEBggGCAYEBAgDBAYICAgECAgECAMDCAQIBAYIBAgGCAYIBgYGBggGBgQICAYECAMIBggEBgYIBgYGBgQGCAQIBgYIBAgIBAgGBAYGCAgGBgQEBgMDCAQEBggGBgQIBgQGBAgGBAQGBgYGBgYGCAYIBgYICAYGBAYICAYGBAgGBAYIBggDBgQGAwgGCAYIBAMGCAQGBgYIBggEBgYGCAQIBAgIAwMIAwYGBgYEAwgIBgYDCAgGAwQDCAQIBAYIBgYGCAQICAYICAQIBgQGCAgIBAYGBAgGBggIBggICAYGBAQDBAgGCAgGBgYICAgDCAYIBgYGAwYGBgMGCAQICAMICAgGBAYGBgQEAwYGBgQGCAgIBAgECAYGBggGBggIBgYICAgICAgEBAMEBgYEBgQEBAgEBgYIBgYGAwYIBAgGBAgGCAgGCAgIBgQGAwYGBgYGAwYIBgYIBgYGCAYEBAgGBggGBggIBgYDBgYIBAgGCAgGBAgEBgQDAwYIAwYIAwgECAYGBgMEBggGBgYEBgYGCAYGAwgEBAgGCAgIBggIBgQGBAQGCAgDBgYIBggGBgYIBAMIBgYGBgMGBAYIAwgIBgMECAYGBAQECAMEBAYIBAYECAQGBAYGCAYGBAgIBAMGBggGAwQICAgGAwMIBAYIBAYGBAYGCAgGBgYICAMDBgQDBggIBgMIBgYGBgYGCAgGCAYECAQGBgQGCAYGCAMIBAYGCAMECAYICAgGBAYDBAQGBAgGCAMGBAYIAwQECAQGCAgDCAgIBgMECAgGBggIBAYEAwgIBAQIBgYECAgGBAYGBgYEBAgIBAQICAQGCAgIBgYIBgQEBAgGBggGCAYECAgICAgGBggDBggEBgYGCAYIBAgIBAQGCAYIBgYGBAgIBggGBggDBgYEBgYIBAgECAMGBgYIBgQDBgQGCAYGBggGCAYEBAYGBAgIBgMICAgGBAYEBgYGCAYGBggIBggEBgQIBAgGBAgEBggIBggIBgYGBggEBAYGBgQDBgQICAgDCAQDBAYGCAQGAwMIBAgDBggGCAYIBgYEBgMGBAYIBAYIBAYGBAMEBggGBggECAgGAwgGCAQGBgYGCAQEBggICAYGCAYGCAgGCAgGBAQGBAYDCAYEBAQECAQIBAgGBgYDBgQDCAQIAwQGBgYIBAQIBgYEBAgGAwQIBgMGAwQGBgMIBggIAwYEAwYGAwgDCAYIAwYIAwYECAgIBggICAYGBAYGBggGAwgEBgQECAQGBggICAYDCAMIBgYGCAQGCAQGBgQIBgYGBgQIAwgIBgYGBggGBggGBAQGBAQGBgMICAYIBgYDBAYEBAYECAYGBgQGBgYECAYGBgMICAMGBggIBgMICAYEBgYDCAMGBgYIBgQGBAMECAYDBgQGBAgIBgQICAQIAwQGBgYECAgDBgMIBggGBgMGBggGBAgGCAMGAwQGCAgEBgMGCAgGCAQIBAYICAYGBAYGBggECAYGBAQGBgYEBgMIAwgDCAQGCAYIBggIBgQGBggDCAYECAQGAwgGBgMGBgQGBgYGBgQGCAYICAgGBAYGBAYEBggGBAYGBggGCAYEBAYGBggGBggGBggIBggEBggGCAYIBAYGBAYEBggGBgYEAwYGCAgGCAgGBggGCAYDAwYGCAgGCAYIBgMGCAQGBgYIBAgGBAYGAwgGBAMGCAYGBgYEBggGBgYEAwYIBgQIBgYICAYEBAYIBggICAYGBAQGCAMEBgYEBggGBgQGBgMECAgEAwMIBggIAwYIBgYIBAYIBggGBAQGBAYIBgYIBgQDBAgIBAMGBgYDAwQGCAgIAwYIBgYIAwMECAMGCAMEBgYIBgYICAMIAwMGCAQGBggGCAgIBggIBggDBAQGBggGBgQIBggGCAgECAYIBAYGCAMDCAYGCAYEBgYGBgYGCAYEBggIAwgICAgGCAgIBggIBggIBgYEBAYIBAgICAQGBAYEBgQIBAQIBAYICAYGCAYGBgYIAwYDBAYGBgMIAwgECAgGBgMIBggEBAQGCAgGCAgGBgQIBgYICAMGCAgIBgYIBgQGCAgIBgQGBAgGCAMEBgMIBggGBggIBgYICAQGBAYIBggEBgYGBAQGCAYGBAYECAQGBAQDBgYGBAYIBAYGBgYGBgYECAYIBgYGCAYDBAQEBAYEAwYEBggEBgYIBggGAwgEBAYGBgYIBAYIBgYGBAgIBAYGBgQIBgQGBgMDAwQDBggDBAMGBAYECAgGBgQICAYIAwYEBAYIBggEBgYECAgGBgYICAYGBggIAwQGBAYEBgYGBgYGBggECAYGBggIBggIAwgGCAQICAgIBAQIBggIBgYGBgYGBgYEBgQEBgYGCAYDCAgIBAMIBAYIBgYGBAQGCAYEBggICAYGBggIBgYGCAQGCAQGAwYICAgGCAYECAQGCAQGCAYDAwgICAgDCAgGBgQGBgQIBgQICAYECAgGAwYIBAQGCAYGBAYIBgYDBggGBgYICAMGCAgIBAQIBAgEBgYGBAQGCAYEBAYGBgQGBgMGBAgGBgYGCAQIBggIBggGBAYEBgYGAwMIBAYICAYIBgYIAwYICAgGBggECAYGAwYIBAgEBgYGBggGBgMICAgGBAYGBggDAwgGBgQDBgYGCAQIBgMIBAgICAYICAYIBgQEAwYDBggIBggGCAgEBAYGBgQGBgYDBgQICAgGBggIBggGBgYGBggGAwQIBAMICAQGBgQEBggGBAgEBgQGCAgGBAgIBAgGBggDCAQIBgQECAQICAgIAwYICAgIAwMGCAgIBggIBAgGCAYGBggIBgYGBggECAYGCAgIBAYGCAgIBgYIBgYIBgYGCAYDBAQGCAMEAwYGAwYEBgMIBgMGBAgGCAgGBAYGBgYEBgYGBAgIBggDBgMIAwgEBAQDBAYEBgYGBggIBgYGBgYIBAgGCAQGBgMIBggGBgYGBAgICAgECAYGBgYEAwYICAgICAgECAgIBAQICAgDBgYIBggEBgQIBggDBggECAgIAwYGCAgECAgGBAgGCAYIBggGCAYGBgYECAgGBgYGBAYECAgGBAQGBAYGBAgGAwgIAwgDBAgIBAQEBAgEBAYGCAYIBggGBggICAYGBAYIBggGBgYGBgYICAYEAwgIBAQGAwYGBAMGBgMIBAYGBAMIBAgGBgMIBggGCAYGBgYGBgMECAgGBgQEAwYGBgQGCAYEBAYGBgMEBgMGBggGCAQEBAYDCAgEBgYIBgYDBgYGBAYGBAYICAYIBgQGCAYGBgYGBggDBggGBgYGBgMGBggGCAYGBgQICAYEAwYDAwgIBgYICAYICAYEAwQGBggGBAgIBgMGBgQGCAMICAYIAwQICAYEBggECAgGBAQIBAQIBAgIBgYIAwQGCAQGCAgDBAQGCAYECAYGBgQEBAYGCAQGBggGBAQGBAgGCAYIBgYDBgYGBAgGCAgGBggGBgYGBggGCAMIBgYGBgMIBAgIAwYGBgQEBAgGCAgGBggGAwMICAYEBAYDBAgGCAYDCAgDBAYDBggDBAgECAYICAYGBAMEBgYGBAQGCAYIBgYEBgQIBggIBggEAwYGBgYDCAgIBAYDBAYEBAQDBgYEBggDBgQECAgECAMECAgDCAMEBggGBAgIBgQIBgYDBgYEBAQGBAYEBgQGBgYIAwYGCAgEBgYDBggGBAgGBgQGBgQGCAYDBggICAMGAwgICAYIBgYGBgQIAwYDBAMGBggIBgYIBgYIAwgGBgYIBgMGBgYGBggEBAgECAYEBgYIBgYIBgYGAwYEAwQDBgYGCAQGBgYIBgYGBAgDAwgEBggGCAYGAwgICAgGBAQECAMECAgGBAYGAwgDAwgICAMIBgMECAgICAQGCAYGCAYEBggGBAgEBAYGBAMEBgYIBAgEAwgGCAgGBgMEBAgGBAYEBgYGAwQGCAMECAgEBAgICAQGCAYGCAgIBAYIBAYGCAMGBggECAQIBAQGCAgEBggECAYGBgMGCAgDBgYEBggGAwQEBAYGCAQIBgYGBAgDBgQICAYGBAQEBgYECAQGCAQGBAYIBggIBggGBgYGBgMGAwYDBAgIBAYGBAgDBgQIBgQEBAYICAYECAYGBgQGBgYGCAYGCAYEBgMGCAYGBgQGBggICAYICAYGCAQICAYIBgYIAwYEBggGBggGCAYEAwYEBgMGCAYEAwMIBgMICAQICAYIBgMDBgYDBgYEBgQGCAYEBAgGCAgDBAgIBAYEBgQGBgYGBgMDCAQGBAYIBAYDCAgIBgQGBAQIBAgGCAQIBgQEBAgICAgGBAQGBAMEBgQDCAYDCAYDBAQGBgQGBggDCAMIBAgIBgQGCAQICAQIBgMGBgQIBggGBgYICAMIBAgIBAQDCAYGCAQGCAYGCAYDBgYIBggIBggEBgQDBgQICAQIBgYIAwQICAYGBgQIBAQGBAYECAYDAwYECAYIBAYGBAgIBgQEBggGCAMGBAgIBgYEBAYIBAYIBAQGCAYGCAYGBgYGBgMGCAgGCAYDBgYGCAMIBAYGCAgEBggEAwYGCAMIBAQIAwQDCAQICAgECAYEBggDAwgIBggIBAQEBAgGBgMIAwgICAMDCAYDCAYGBgYGBgYDCAgGBgYEBAMDCAQGAwgEBAYIBgMGCAYGAwgGAwgGAwMEBAMICAgEBggGBgMGBgYEAwQECAMGCAQEBggICAYGBAYGBggDBAgICAYIBggGCAgEBgQGCAQEBggICAgGBAYGBgYGBAYIAwYIBgQECAYDBAgGBAYICAgIAwgGCAYGBAgGCAQECAQGBgYICAYDAwYGBggICAgEBgYDBgQDAwQGAwQGCAYEAwYGBgYGCAQEBAYICAYEBAMICAgIBggECAYDCAQGCAYGBAYIBgYGBAYECAgDBgYGBggGCAgIBAQGCAMGCAgGBgYIBgYIBgQEBAgEBgYICAgECAgGAwgICAYICAgIBgYGBgYGCAYGCAYGCAgGBggDAwQGCAMECAgEBgQIBgYIBgYGCAgICAYDBggIBggIBgQIBgQECAgGBgYIBgYEAwYGBgMGBgQDAwYGAwQGCAYEBgYEBgYECAYDAwgDBgYDBgYGBgYIBgYEBggIBAYGBAgIBgQGBggIAwgGBggIBgYDAwYGCAYDBggDBAQGBgYEBAQGBggICAYIBgYDBgQGCAgGBgQIBgQIBAQEAwYGBAYECAYGBgYGBAgICAYIBgQGCAgICAYGBgYICAYDCAMIBAYECAYGBggICAYIBggIBggGBggIBgYIBAYEBAQIBAQIBAYECAgGCAgEBgYGCAgDCAYIAwgEBgQEBgYEAwgIBgMICAgGBAgEBggGCAgIBggGBgQGBgQIBAgICAYDBgYGAwgIBAYICAYGBgYGCAQICAYGCAYIBggIBAgGBgYIBAgEBggGCAQGCAYGBggECAYECAgECAQGCAYEBgYGCAYGBgYDAwgGCAgECAYIBgYIBAMEBgQGBgQIBgMICAQDCAYICAYIBgQECAYEBAQGBAgDBAgGBgYIBAYGAwYGBAYGBgQGBggGBAgGCAgEBgYGBgQDAwYIBAYGBggGBgYGAwQECAYDBgYDAwQECAQECAgIBgMGBgQGCAYIBAYGBggGBgYGCAgGBgQGCAYIBgQIBgYGBgMGCAgGBgYECAQGBggGBAgGAwYIBggGBAQGBAYEBAYICAQGBAMIAwYIBgYEAwQEBgYIBgYGBAYIBAYEBgMIBgYIBggEBgQGBgQICAMDBggDCAYGCAMICAgGBggDCAMIBAgGBggGBgQEAwgDBAQGCAQGBgQGBgYGCAYECAgDBgYGBgYGCAYIAwYGBgQGCAYGBggECAYIBgYEBAYGBgYGCAgICAYGBgYGBgYGBAYGBgYEBgYGBggGBgYGAwYGBgYGBgYGCAYDCAYEBggDAwgEBggGBgYIBAYEBggEBgYDCAMGBggGCAYGCAQEBgQEAwgICAgIBgQDBggGCAgIBgQEBgMIAwgGBAYEBgMGBAgGCAQGBggEAwgDBgYIBggEBgQDBgQGCAMDBgMIBggGBgQGBAgIBggICAgGAwgIBgYGBAYEAwgECAgDCAYECAYGCAgGCAgIBAYEAwgICAQGBAgGBAYEBgMEBgQGBgYIBgYECAYGAwYGAwgEBgYGBAYDAwQEBgQICAgGBgYECAYIBgYIBgYDBgYIBggEBAYEAwgGBgYECAYEBAYIBggGBgQEBAYDCAYGBggEBAYDBgQGBAYDAwgGCAYIBgYGCAMIBggGCAYEAwgEBggIBgMGBgYDBggECAQIAwQDBgYGBgQDBAMIBAYICAYEAwQGBAQIAwgICAYECAgDBggGBgYIBAQEBAgIAwQGCAQEBAYGBgYGBAYGBggGBgQDCAQEBAgICAMGCAYEBgMEBgYEBgMGBggIBgQGCAgICAQGCAQDBAYICAQIBggIBAQGCAYEBggDBAgECAgECAYGBgYGBAYIBAgGCAQGBAgIBAQIBgYGBgYECAMECAYGBgYEAwMGCAQEAwYGBgYGBAgDBgYECAMEAwYEBAgEBggIBAYGBAMGBggIAwYDBAYGCAgGBggIBAYGCAgGBgYIBAMEBAYGBgMIBgMIBAgEBggECAYGBgQDBgYECAYECAYGCAYGBgQGBAgGCAYICAYIBAgDCAgECAgEBgYECAQGBggGBgYEBgMDBgYGBgYIBAYGBgYDBgYIBAgGBAgGBggGBgYGCAMECAYGBgYGBgYECAgGBggEBAYEBgYIBggGBgYECAYGCAMEAwgDCAMGBAYGCAYGBAYICAgEBgMEBAQICAQIBggIBgQGCAYEBggGBAYDBAYIBgYDBggGBgYDAwYDCAYECAgGCAgGBggEBAYGBAYIBgQGBAMEBAYGBgYGBAYGBAgEBgYICAQGBgYICAMGBgMEBAgECAgICAYIAwYDCAQGBgYEBggEAwYGCAMEBgMEBggGBggGBggGBAgICAYEBgYDCAYGBAYIBgYIBggEBggGCAYEBgMDBgYICAYGCAMGCAQECAQICAQGCAYIBgMGCAYDBgYGAwYGCAQICAYECAgEBggIBgYIBgMGBgQICAQGBAYGCAYGBggICAgIBgYGBgQEAwgIBggGBggIBggEBAgGCAQEBAYECAYGBAgEBgQGAwQGBgMDCAMEAwYGCAYEBAYIBAYDBgYGAwYDCAMICAYGAwgGBgYEBgQEBggIBgYIBgYEBgYIBggGBgYGBggECAgECAQGCAgIBggEAwYIBggIBggGBgYDBAgGBgYIBgYEBgQGCAYEBAgGBgMICAgECAgEBgYDBggIAwQGAwMGCAYIAwgDBggGBAgEBAMEBggDBgYGAwQICAgGBgQGBAgGCAgGBgYEBgQIBgYGBggIBggGBggIBAYGCAYGBggEBgYIBgYGBgYEBgQGBAYIBgQGCAgECAgICAMGBAYGAwgGCAMGBgYEBgQIAwgEBgYEBggICAYGBgYICAYGBgQIBggDAwYIBgMIBAgDCAQGCAMGCAgGBAYEBAQECAYGBAYGBAMDBgYIBgQEBAYECAYIBggIBgYIBAgICAYEAwYIBgQGAwgIBgYEAwQICAgIBAYIAwYDCAYIBgYIAwYICAYGBAgGCAgGCAYEBgMIBgQGCAYEAwYEBggGBAYGBggEAwQDBgQGBgQIBgYGCAYECAYGBAgICAgGCAgICAYGBggICAMICAgIBgYDBAMICAYICAQEBAYIBAYEBgYEBAgGBggGCAYGCAYDAwYGBgYEBAYDBggIAwQICAYGAwgGBgMIBAgGBAgGCAQIBgQGCAgGBgQGCAMEBggGAwQIBgYGBgYIBAMGBgMEBgQDBAgEAwQIBAQIBAYECAgECAYGBAgEAwgEBAgGCAYIBAMGAwMGAwYEBgMEBggGBAYDAwgEBgQGBgYGCAgGBgYIBgQGBggIBgMDAwYDCAMGBgQGBAgGBAQICAQIBgYGBggEBgQICAMIBAMDBAQIBgYIBgYGBggICAgGBgQGAwgEBAQEBgQGBAgGCAMGCAgICAQGCAQDBggDAwgGCAMECAYGBAMGBgYIBgYGCAYIBggIBggIBAgGCAgEBgQEBgQEAwQDBgQGAwMIBggEBggIBAYEBAYECAYGBAYGBAYDBgYIBAgGAwYIBAYEBgYGCAQGBAYECAgIBAMGBggGBgQIBgQICAYGCAgEBgQIBgYGCAgIBgQGAwYDBgQEAwgIBAQICAYIBgQGAwQDAwgGCAYEBgYIAwQEBgYIBgQEAwgEBgYGCAMGBgQEAwYGCAYGBgYEBggGAwYGCAQIAwYGCAYICAgGBggIBggICAQEBAQGCAYGBgYECAYGBgQICAQGCAYIBggGCAMIBgYICAMGBgYGCAQICAMECAYIBAgIBgYEBggDBgYGAwYIBgQIBgQGCAQGBgYECAQDCAgIBAYICAYGAwQGBgYEBAgIBgYGBggEAwgIAwYIBAYGBgYGBAQGBggGCAQIAwQIBAYICAYIAwYDBAYGCAYGCAgIBgQIAwYECAYGBAgGBgQIBgQIBgYGAwYGBgQGBgQGBgYIBgYGBgYIBggIBgQICAQEBAgGBggICAgIBggIBAgGCAgEBgQGBAYIBAQGCAYGCAgICAgGCAQIBgYICAYDBAQEBAgEBgMICAQDAwgDBggIBggIBgYGCAQEBAgDBAQGBAYGBggICAYGCAgICAYGBggGCAYGBAgGCAMGCAYGCAgGCAYIBggICAgGBgQGCAYGCAYICAYGBggIBgYDAwgEBAgIBAYIAwQEBggGBgQGBgQGBgQGCAYGCAQIBgYGBAYDBAYGCAgDBgQDCAYIBggGCAgIAwQIBgYICAYIBgMIBgYGAwgGBgYDCAYECAQIAwYICAQIBAQDBggIBgYEBAgDCAYEBAYIBAgIAwQIBgQGCAQGBgQEBAgGBAYGAwgGCAYIBgYICAgGCAgGBggEBgQIBgQIBAYECAMGBAYIBgQEBAQDBgYICAYGBgYGBAQECAYIAwQGBgQICAYGBgQIBgQICAgEBgQGBgYGCAgDBgQIBggEBgYGBgQIBgYGBAMGBgQICAYIBgYGBAYGCAgIAwgIBAYGCAYEBgYGCAgIBgYIAwgECAQEBgYEBgYIBggECAQDBgYEAwYICAgGCAQDCAYGCAYIAwYGCAYEBgMDCAQGBgMICAMEBgYECAYGBgMGBgYGBgMIBgYGCAgICAgIBAYGBgMECAYIBgYIBgQIBggEBggGBgYEBggEBgQGBAYIBAYICAQGCAYGCAYICAMGAwgECAYICAgIBgQGBgMECAgEBggIBAYIBggIBggGCAgGBAgICAMEBAgGBggGBgQECAYIBgYICAQGBgYGAwgGCAMIBggGAwYEBgQGBgYDCAgGBAYGBggIAwgICAgDAwQGBgYIBgYGBAMEBgYGBgMGBAYGBAYIBggGCAgGBAgEBgQGBggICAYGAwYIAwgEAwYGBgQDBAYECAYGBAgGBgQGCAYEBggGAwgICAYGAwQGBgYIBAMGCAMICAYDBgYECAQECAMIBgMGAwgGAwQGBggICAMGCAMGBAYDBggGCAYEBgMGCAgGBAYGBgYIBggIAwQICAgGCAYDBgQEBggECAYIBAYGBgYIBAMEBgYEBAYIBgQGBgQGCAgGCAMEAwYICAgGBAQIBAYGCAMIBgYICAgDBggIBAYGBgQGCAMGBgMDBgMGBgQGBgQGAwQGBAYDBgYIBgYIAwgGBggGBgYICAYGBgYGBgYIBAYIBgQGCAYECAYDBAQGAwQDBgYICAYEBggIBgYIBAgECAQICAYIBAYGBgYGCAYGCAgGBAQEBggGBgQGBgQIBAYGBgYIBAYECAYICAgIBgQIBAYIBgQGCAYIBAgDBAgECAYEAwQECAMIBggGBgQGCAQGCAYIBAQIBAYIBAYDAwgEBgQECAQGCAYIBgYIBggGCAQGAwgECAgICAYGBggGCAYIBAgEBAYICAMGBAQGBggICAYGBgQEBgYIBgYGCAYGCAgECAQGBAgDCAYDBAgGBgYDBgQGBAQIAwYIBgQIBgYGBAgIAwQECAQGCAMIBggGBgYEBgYIBgYEBAYIBgQGBgQICAgEBgYEBggEBggGBgQGCAQGAwgGAwYEAwYEBgYGBAYIBgQIAwQGCAgDBAYICAQGBAQGBAYGBAYIAwYICAYGBgYDBgQGBggIBgQIBgQGBAYGBgYIBAYEBAYICAQGBgYGBgYIBggGCAgGBAQGBgYIBAgIBgQGAwQDBAgEBgYIBAgEAwYECAgICAYDCAYGAwgIBggGBggEAwYGBAgGBggDBgYIBgYGCAYGBgYGCAYGBgYGBggGBAgGBggICAYICAQGBgYICAgGBgQGBgQGCAgEBAgGBAYECAYGCAgECAgDBgYEBAgGBAYGCAYIBAgGBAYGBAgGCAgECAgGCAYGCAgDBAQGBgYGBgQGBAgGBAYEBAYGBgQGCAYGBgQGBgYDBgQIBgYGAwQDBgYGCAYIBAYGAwQIAwYGCAgGCAYEBAMIAwQIBAMGBgYECAMEBAYGBggGCAYIBgQGBggIBggDBAgIBAYEAwYIBAgDBAgECAYGCAYIBggEAwQDCAYGBggDAwYGBAgECAgGBgYEBgMEBgQICAQGCAQICAgGBAgIBAYGBgYIAwQGBAgGBAgICAQDBggGCAQGCAYGBggICAYGBgYEBAgEBgYGBgQGBAMIBggGBAgGBgYGCAgIAwQGCAgECAYGBgYIBAYGBAYEBggIAwQGBAQIBgYGCAYGBAgGBgYECAYGBgQIBgYGBggIAwYEBgQGCAgGBgQICAQIBgMGAwgEBAgGCAQICAYGCAQECAYICAgECAgGBgYGBAYICAgEAwYGBgYDCAMGBgMIBggGCAgIBgYICAYIAwQEBAQDBgMEAwYGBgYIBgQECAYEBAQICAYGBAYIBAgDBgYGBgQGBAYEBAYECAYGBgYIBAgEBgYGBggECAgGBggECAgGAwQGBAgECAQDBggIAwYECAYGBggIBAYIAwYDCAgDBAgIBgYDCAYGBAYECAYEBgQIBAYDCAMECAYGBgYIAwYGCAYGBAQGAwQDAwgGBgYGCAQIBAgEBggIBgMIBgQIBggGBAgGBgYICAYDBgMIBgMGBAYEBgYGBgYIBggGBgQGBAMICAYGBAgGAwMGAwYDBAgIAwgIBAYECAYGCAYIBgQECAYGAwMGBAYGBgYDBgYDCAQGBgYGAwYIBAYGBgYGBgYGBgYIBgMEBgQICAgIBgYIBggEBgYIBAYGBAQGBAYICAYGBAYDBggIBgYGBgQIBAYIBAYEBgYICAYGBggEBgMGBAgIBgYGAwQIBgQGCAMEBgYEBggEBgYIAwYGBAQGBgYGCAYICAYEBggICAQGBAYICAYICAYGBAYIBAMGBggICAYECAgIBAYEBgYGCAYIBgYIBgMGCAMIBggGCAQEBgQGCAYGBgYICAQECAgGCAQEBggGBgYGBggIBAYGCAQGBgQDBAYGBggIBgYIBAgEBAMGBgYIBgQICAQEAwMGCAYICAgGBAYEBgYEBgYEBggDCAMIBgYGBAQGBgYGCAYIBggGAwQIBgQEBAQGBgYEBgMGAwMGCAYGBgYIBAMIBAQEBgYGBAgIBAYGBAYICAMDBgYEBgYGBgQGBAYECAYICAMEBAYIBgYECAYIBgMGCAgEBgYIBgYIBgQIBAYIBAYDCAQIBgYGAwYICAgDCAgDBgMIBAgGBAgEBggIBggIBgQICAgEAwYGBAQGCAYGBgQGCAYDBgYGBgYGAwYIBgYGCAgGCAgICAgIAwYGBgMGBgYEBgQDBggGBgQECAYGCAQGCAYGBgQGBgYGBAYICAYGBgYEBAYGBAYEBgYIAwgGAwYGBAYGBgYICAgGCAYIBgQEBggGBgYIBggGBAgIAwQEBgYEBggGAwYGCAgICAYGBgYIBgQGAwQGCAYGBAgGCAgDBAgDBAQGCAYECAYIAwgIBAgIBgQIBAgGBAYEBAYGBAgIBggEBggGCAYIBAMIBgYEBgQGCAgDCAQEBAMDCAQDBAYDCAQGBggGBggIBAQICAgECAgGBAQEBgYGBAYIBgYGBAQGCAYIBAYIBggDBgYGBAgECAQICAQECAgEBgQGBgQIBggEBgQGBgYDAwgGBAQGBgMIBgYGCAQEBgMEAwgDBAMEBggICAgICAQGBgYIBggGCAYGBgQEBgQEBgQIBAYGCAYGCAQICAQICAYGBgYEAwgGBgYGBgYDBAYGBAQIBgYGBAMDBgQIBggDBAYGAwMGBgYICAYIBAYIBgMDBAYICAgGBggICAYIBAQECAgGBggGCAYIBgYGCAYGAwMIBgYGCAMGBgYIBgYICAgDBAYIBAQEBgYGBgQICAYECAgICAgEBAYEBggGBggECAQGCAYIBgQGBAYGBgYGCAgEBAYGCAQIBgQEBgQDCAQIBggGBggDBAgEAwYICAYIBggIBAQIBgYECAQGAwMIBggECAgGBggDBgMGBAMGBgYGBggICAgIBggECAMGBAMEBggGBgYGBgYGCAQIBggGBAYEBAQGBAgIBgYEBAYGBggGCAYGCAYIBAYICAYEBggGBgMEBgQIBgYGCAgDAwYGCAgIBgYGCAgEBgMGCAQEBAYGBgYGBAYICAgDBgQIBggIBggGCAYEAwYGAwgGBgMDCAYGBAgECAgIBAMGBggGAwgICAgGCAYGBgQIAwgIBggGBgMEBAYIBgYIAwQGBgQGAwgGBggDBgYGCAMGBgQGBAgGCAgGBAgGBggECAgIBggIBAYICAgEBAQGCAYICAQICAgIBgYGCAYGCAQECAgGBggICAYGCAYIBggGCAYICAMGBggIBgYGCAgGBAYGCAgICAQGBgYGBgQGAwQGBgQICAYGBgMECAQGBggGBgYGBgQEBgQDAwgIBgYGBggGBggIBAMIBAQIBAQGCAYGBAgEBggEBggGBgQGBgYDBAgIBAYGAwYGBggDCAgGAwMEBgYEBAgGBAYEBgMECAQGCAYEBggIBAYGBgYIBggEBgYGBAQDBgYEBggGCAQICAQEBggGBggGBAQGAwgGCAgEBAgIBgYGBAYECAgDBggDBgYGBgMICAQICAQDBAYGBAgICAQGBgYEBgQGCAYGBggEBAYDBAgICAYGAwYGAwYIBAMGCAgECAYGCAMEBggGBgYGBAQGBgMGBgMEBggIBggGBAYIBggICAYGCAgGBgYGCAYGCAYDCAgECAgIBgYGBggGBAgECAYGCAgIBgYIBAYGBgYGBAgGBggGCAQGAwgIBAgIBAgIBAMIAwYEBggGBAYEBAQICAYIBAYIBgYICAgIBAYIBggICAQGBAYGBAYEBAYGCAgIAwYEBAYDBgYIBggGAwgGBgYEBgQIBAQEBggEBgYGBgQGCAYICAYGBgYGCAgGBgYGCAMGCAYGAwYIBgYIBAMIBAMIAwYIBAYGBAYGBgMGBgQDCAQGAwgIBgMIAwgICAQIBAgGBggICAYGCAYGBggGCAQECAQGAwgGCAYDBAMIBgMGAwYIBAgIBgYEBAgGCAQECAYICAYGBgYGBgQECAYGBAgEBgYIBgQIBgYGBgYGBAgIBggICAYGBgQICAYIBgYGBgYEBggGAwYGBAMEBAYIAwYIBgYDBgQIBggECAgGBgYGCAYGCAYGCAYIBgYEBgYIBgYGBAgIBAYIBgYGBgYGAwgGBgYIBAYICAYIBggGBgYGCAgEBgYEBAMGBAYGBgYDBAMIAwgGBggICAgGBgQIBgQGBgYIBAYEBAQIAwgIBggDAwQGBggEBAQGBggGBAgIBggECAgIBAQIBggDBgYGBAgIBggGBAgGCAYDBgYIBgYEAwYIBAYGBggGCAQIBgMDCAYEBggDBggICAQGCAQICAgGBgYGBAMGCAYGBgYGBgYGBgYEBAYEBgMGBggGCAMDBggIBAYIAwgGCAgECAgGBAQIBgYECAQGBgMDBAgEBgYEBgQIAwYGCAgGBgMGBAYICAgEAwYIBgYIBgQGBgQIBAYDBAgIBggIBAgDBgYECAMGCAYEBgQGBgMEBAgGBgYICAQECAYGBggGCAMGBgYIAwMGBAYGBAgGCAgGBgYICAMECAQEAwgICAYICAQGAwQIAwgIBAYGBggICAgEBAQEBgYGCAgECAYGBggICAMEBgMEBggECAMDBggDBgYIBgMGBgYEBAYICAgEBggIBggGCAQEBgQEBgYGAwYGBAQGBgYICAgICAgGBgQIBggGBAgIBgQIBgQGCAMGAwMEBAQGBggGBgYGBAgEAwYEBAQICAYGAwMEBgYDAwgGBgMGBAQEBAQGBAQICAgIBgYGBgYECAgGCAYEBgQGBAgIBggIBgYGCAQEBgYDAwYEBAYDCAgGBAYEBAYDCAYICAYIBggGAwgECAQIBAMDCAYECAgIAwgIAwgICAYIBAgGBAgIBgYGCAQEBAQGCAYICAgGBgYGCAYIBggECAQGBgYDBgYIAwYDBAgDAwQICAQGBgMGBggGCAgEAwgGBgMIBAMGBgMGBAYDBgYICAMGBggIBgMEBAQGCAgICAYICAgGCAMEBAQICAQECAYIBAYDCAgIBAQGBggGBggGBAYEBgMGCAgGBggIBggEBgMGBgQDCAQGCAgEBgMECAgIBgYDBggGAwYEBgQIBggGBgYGCAYEBggICAQGBAYEBgQGBgYGCAYICAgGBgQEBgYDBAgDCAYGBAgDAwYIBgMGBAMECAYIBAMIBAYGBggECAgGCAYIBAYICAgGBAgICAgGBAYGBggIBAYIBgMGBAYEBggGBAYGBAQECAYGCAgGBgMIBgMICAYGCAQIBggIBggIBAgGBAYGBAMECAYGCAYGCAYEBggGBAgGBgYECAYEBgQGBggGBAYIBAQICAgGCAYGCAYICAYICAgIBgYDBggGBgMGBggIBAMDAwgGBggEBgQEAwMIAwgIBggIBggGAwYECAQIBgQGBAgIBgYIBgYEBAMICAQGCAgDCAYDCAYDBgYGBAYGBAQICAMGBgYDBgYIBgQEBgYGBAMGBggIBgYICAgIBggDCAMGCAQEAwgGBgQGAwYGCAYDBgQGBAYIBggIBAYICAgGBAgECAgGBAQGAwQEBggGCAgGBggIBggGAwgDBgMDCAgICAQDBgYIBggIAwYGCAYGBgYIAwYIBAQIBgQDCAMEBgYIBgYEBAgDBgQGCAYGBAYGBAgIAwYGBggEBggIBggECAQGBAYGCAgIBAQIAwQGCAgIBgYICAYIBggIAwgIBgYGBgMIBAMIAwMIAwYGBgYICAYGBggECAgIBAgGAwMEBggGBAgECAYGBAYGCAQIBgYGBgQGCAgEBAgDAwYGBggICAYIBggEBggDCAMGCAgIBggIBggECAYGCAYIBgYGCAYGBgQECAgECAYIBgYECAYGBgYIBggGBAYGBgYGBgYIBgQEBgYGCAMEBggGAwYGBAQICAQDBgYICAQICAYICAYGBAYEBgYGBAMIAwQDBggDBAgGBAgICAYICAgIBAgEBggIBAYECAgIBggGBgYGCAYGBAQICAQGAwMGBgQIBgYEBggIBAYGBgYDCAQGCAQGAwgGCAYICAYECAYIBgYEBgYIBgYIBgYDCAMGBAMGAwMGBgMDCAMDBggDCAgDBgYGCAQGBAYGCAYICAQGBgYEAwYDBggGBAYIBgYECAMICAYGCAYGCAYEBggGCAMIBggICAYGBgQIBgYIAwYGCAYGBgQGCAgGBggGCAQICAgEBgYGBAgIBAYECAYIBgYEBgYGCAgGBgYGBAgDCAYIBAYGCAQEBgQDBggEAwgGBgMGBgYICAgIBggDCAMGCAMIBggIAwgEBgQGCAYGBAgGBggICAgGBggEBAMIBAgGBgYGCAMIAwYGCAgIBAMGBgYGBAgIBggGBgMEBgYEBggEBggICAgICAYICAgIBgYEBggGBggGCAYICAYICAQGBggGBgYGBgYEBgQGCAYIBAYEBAYGCAYIBgMIBgMECAMIBAQIBAMECAgGBgQGBAQGBggIBggDBgYICAgIBggECAYIBAMEBgYDBgYGBggGCAYGBgYIBggIBgMEBAYDBAgGBAQGAwYGCAMIBggEBggGBgMIBgYDBgYGBgQGCAYGBgYIAwgDBAYIBAMDCAYIBgQGBgYGBgQGBggGCAYEBggGBAYGBgYEBAYGBggDBgQGBggGCAgGBgYEBgQGBggIBgYICAgIBggECAYGCAQGBgMGBggECAYGBgYGBgMDBAgGBggGCAYIBAYICAYGAwYEBAQICAQGAwYICAYEBgMIBAQGBAYEBgYECAYGBAYGCAgGBAYGCAYIBgYIAwQGCAgGAwMIBAgEBAYEBAgICAgEBggDCAYGCAQIBAYICAYGBgYEBAYEBggICAMDAwQGAwgGBggEBgYIBAYIBgYDBgYIBAYIBggECAQIBAYGCAMGCAMECAYICAgDBgYICAQIAwgIBgYGAwgECAYIBgMIBAgIBgYICAQGAwQGCAYGCAgGBAYGBgYEBAgDBAYIBAQDCAgEBAgGAwQGAwgIBggICAgEAwYIBAYICAQGBAMGCAQGBAgEBggIAwMGCAgIBgMGBAgECAMECAgIBAYIBAQGBgQEBgYGCAQEBAYIBgMGBAYGBAYGBgQICAgECAgGCAgECAgIBggEBgYEBAgGCAMIAwgGBgQGBggGCAgIBgQGBgQGCAgECAMECAYIBAgGBgQIBgYDCAYIAwYEBgMDBgMGBgQIBgYGBgYGCAYIBAQGBggGCAgIBgYECAYGBgYGBAYDCAQGBggGCAgGCAYGBAgEBAYEBgYIBAMDAwgEBggGCAgDAwQGAwgIBggIAwgGBgYGBgQECAgGCAgEBgYECAgIBggGBggEBggGBggGBgYGBgYEBAYGCAgGBgYEBAQIBgMGCAQICAYIBAQIBAgGCAgICAMIBgQGCAQGBggICAMEBAYEBgYIBAQGCAYGCAYECAYIAwYGBAMGBgQGBgMDBggGBAgEBgMGCAYDBAYICAgICAYDBgYICAgIBAgGBgMECAgGCAgEBAQICAQGBggGCAQGCAgGBgYDBgQGCAYEBAgGAwgDBgYGBgMIBAQECAQECAgECAgECAMGBAYGBAgEBgYIAwYIBAMGBAYGBgMIBgMICAMIAwgEBAYGAwQEBAYDBgYICAYGBggGBgYGCAgGBgQGCAYGBggGCAYIBggEBgYGCAgGBAgIBgQEBgYIBAQGBggGAwYGBAMGBgYGCAQGBgQDAwMIBggGBggIBgQIAwYGCAgDAwgGBAgGBgQGCAYGBgQECAgGCAQICAQDBAQGBgYGCAgGBggEBgYECAYGBgYGBgYGCAYDBgYGBAgGAwYIBAgDBgMGBAgICAgGBgYICAQEBgYEAwMECAYEBgQGAwYGBgYGBgYEBgYGCAMGBAgICAQIBggIBggICAQIBgMGCAYEAwgGBgYEBgYEBAYGBgYICAYDBggGCAMGCAgDBgYIBgYECAYGCAQEBgYEAwQGCAgIBgYGCAYIBgYICAgIBgMGAwQIBggGBgQIBAYGBgYGBgQGBgYDCAYEBgYIBgYIBAQEBgYGCAYICAYGBAgGBggGBAMIBgYGCAYECAYGBgQDCAYIBAgGCAYGCAYGBggGBAQDBggICAYECAQICAQGCAYGCAQICAgDBgYECAgICAQIBggEAwgEBgYEBggGBgYICAYIBAMIBAYEBAYGAwQIBggGBAQEBgYDBAgGCAgEBgMIBgMGBgYEBgYIBgYIAwQIBggGBgYGBAQIBggIBAgECAgGBAgDAwYEBgYIBAQDCAQGCAYIBAYEAwgECAgIBgYEAwQGBgYGBAQGCAYICAYGBAYIAwQGAwQECAYECAgICAQIBAYIBggDBgQGAwgECAYECAYGCAQGCAYGBgMDBAgDAwYECAQEAwYIBgYGBgYGBgYICAMGBAgGBggDBgMGBgYICAYGBggEBAYGBAMIAwYDAwYDCAYICAQIBAYEBgYGCAYEBgYGCAYGBAgIBgYGCAYGCAgICAQIBAgEBgQEBAQGBggGBAQGBggGBggIBgQECAgGCAgEBgYGCAYGBgQGBgYGBggGAwYICAYIBgYGCAMIBggGBAYICAMGBAYGBAYEBgMIBAQGBAQIAwYGAwYIBAgGBgQGCAQEAwYIAwYEBAYGBAYGBAYIAwMEBgYEAwYGAwYDBggIBgYECAQEBgYGBgYIBggIBggIBAgIBgYIBggEBAgEBgYGCAgGBAgGBAgIBgYEBAgGBAQGBggEBgYGBggDAwMGBAYECAYDBgYGBggGBAgGBgQIBAMGBggIBggGBgYGBgYGCAgIBgYIBgYGCAYGCAgGAwYGBgQICAgGBgQEBgYIBggIAwQICAYICAQIBgYEBAYGBAYGBgYIBgQGBggDBAgEBgYIBgYDBgQGCAQGCAgDBgYGBgYICAgEBgQEBgYGBgMEAwgGBggIBAgGBggDBAYGCAMGBgMDBAgIBgQECAYGCAQIAwQEBgYDBgYIBAMGBgYGCAYICAYGBAYIAwQGBgYGCAYGBAYGBAgIBggGBgYIBggGBgQGCAQGBAYGAwgGBAgIBAQEAwQDCAMGCAgEBAYDAwQGBgYIBAQIBggGBgYGAwQECAMGCAgICAYEAwYGCAQIBAgICAYEBAQIBgQEBggICAgIBgYGCAgEBgYGCAgGAwYEBgQDCAQGBggGBgYECAYGBAgIBggIBgQEBgYGCAgIBAgEBAMICAYDBAgDBAQIBggIAwYDCAgIBggIAwYGCAgIBgYGBgYEBgYGCAgIBgMEBgYGAwgDBgYIAwMECAgEBgQDBgYGBggECAYIBAgGBgQECAgEBgQEBgYGBggGBAgGBggECAMIBgMGBAMIBAQGBgYDBgQGBggGBAgGCAMGCAMEBAYIBgYDCAYIAwYGBgYGBAQEBgYEBgYEBggGBAYEBAYECAYEBgMGBAYICAgGCAYIBgQEAwQEBggGBggECAYGCAYDBgYIBAMECAYGBgQGBgMDBgQIBggGCAQGBggGBgQGCAgGBgYIBggEBggEBgYIBgYIBAQGBgYGBgYEBggICAYEBAgICAQIBgQECAQEBggGBAMIBAQDCAYICAYGCAYDBggGBAgGBgYEBAgGBgQGBAYGAwMEBAYIBggGCAQIBAgEBAgDAwYICAMGBgYECAQGBAQGBgMGCAgGCAgIAwYGBgYGBAQECAYGBggECAYGBgMEBAQGBAYEAwYEBAQGBAMGBgYGBgYGCAQDBggGBgQIBAYGBggEBAgGBggIAwgGBggGBggGBAgGCAQDBggGCAgGCAgDCAYIBgQGAwQEBAMEBAgEBAgDBgQGCAYEBggEBgYGBAYEBgQGBgYIBgQGBggGAwMICAQGBAgICAYGBgQDBAMGBgMIBAYGBggDBAQDBggGBgMGCAgEBggEBgMEBgQIBgMIAwYGCAgGBgYIBggEAwgICAQGBggIBgQDBggEBggGBgQDBgQICAQICAQICAMDBgQEBAQEBggICAYIAwMEBAQDBggDAwQIBggGCAgGBgYGBAQDBgQGBAQGCAYGBggGBgYIBgYGBAQICAQGBgYEBgMDCAgEBAgIAwYIBgYGAwYIBgYGAwQGBggGBAYDBgYGAwQGAwgIBgYGCAYDBgQGBAgGCAYGBgQICAgEBggEBgYEBgMEBAYEAwgECAgIBgYIBggIAwYEBAgGCAQICAQIBAQGBgQGBggICAYGBggEBgYIBgQIAwYIBgMGCAgGBgYGBgYGCAYGAwgGBAgIAwgGBggGCAQGBAgGCAgICAgICAMGBAYIAwgICAQEBggECAgDAwYGBgQDBggDAwYICAgGBgQGBggIBgYIBgYGCAgGCAYGBgYIBAYGCAgEBAYEBAgGBAgGBggIBggICAgGBAgEBAQGBgYGBgYGCAYGAwYGCAgDAwYGCAgGCAgIBggIBAYIBgYIBggIBggIAwQDBgYGBgMIBAgIBggECAYDBggDAwMDBgQIBgYIBggGBggIBAgGBgYIBgYICAQEBgYIBgYGCAYEBAQDBAYIBgQIBgYEBAYIBAgDCAQECAgIBAgGBgYGBgMGBAYGBAYGBgQGAwYIBgYIBgYEBgYEBAYDCAYGCAgECAYICAYECAMIBAgGCAYGCAYIBggGBggDBgMECAQGBgQDCAQGBAgGBgYGBgYIBgYIBgYEBggGBgYICAQEAwgEBgYEBgMIAwYGCAgGBAQEBAYECAYEBggGCAQIBgYGBAYGCAgEBAYICAgIBAQGCAQEBgYGBgYGCAgIBggDCAQGBAYGAwgIBggGBAYIBgYEBAgDBAQGCAYGAwMGCAgIBAQIBgQIBgQEBAMECAQICAYEAwYICAgGBgQGBAYIBgYIBgQGCAYGCAgGBgYGCAYGBAYICAYDCAYICAQEBgMEBgMGBAgIBgYGBgYECAYDBgYGBgYIBAYGCAQICAgGBgQDCAYIBAYGCAYGCAgGBAYGBAQGBAgIBgYDBgYGAwgICAgEBgMIBgQGBgQIAwYGBgYIBggIBggGCAYDBAYGBAQDCAYGBgQGCAYECAYGAwgIAwYIBAQDCAQIBAQGBggDCAgGBgYGBgYGCAQEBAgIAwYICAQECAgGBAQGBgQEBgMIBgYIBAYGBgYICAYGBggICAgIBgYEBAYIBAgICAQGBggGBAYEBAgGBAgDBgYICAgICAYGCAYIBgYGCAgEBggGAwgIBggGCAYEBAQEBAYICAYIBgQGBgYGBgYEBggGBggGCAYICAQGCAYGBAgIBgQIBAQEBgQIBgQICAYGBgYGAwQDBgMIBgYIAwYIBAMECAQECAMDBgYECAYECAgGBgYEAwgDCAgIBggEBggIBggGBggGBgQEBgYIBggIBggECAMIAwYGCAYGBAYDBgYIAwQGBgYGBggDAwgICAgGBggIBgQEBAYIBgYGBAgGCAQEBAgGBgQGBAYGBAgICAQECAYIBAYGBgYGBgYGAwgGCAQGBAMDBggGCAQIBAgIBgYGBgYDCAgDCAMICAgDAwgGBggIBgYEBgYGCAQGAwYIAwQIBggEBgYEBgYIBAMIBAQICAgGCAYGBgMIBAgGBgQGBggGBgQEBgYGCAQGBggEBgMGBAQGCAQIBggGBgYICAYECAgECAMECAMGCAYEAwQIBAgGBgYEBgQEBAYGBAQIBggEBggIBAQGCAYDBgYEBgQICAYGBgYGBgMIBgMEBAYECAgICAgIAwgDBgYEBgQGCAYGBgMIBggEBgMGBggICAYIBggIBggGBggECAMICAYGAwMEBAQEBgMEBgQGCAYDAwgGCAYICAYECAMEBAgICAYGBAYIBAYIBgYIBgYEBggECAYGBgQICAMDCAQGAwYECAgIBAQIAwQECAQDBgYGBAQIBAYGCAMGBAgICAYICAMIBAYIBgYEBggICAMGBAgIAwgDCAgGBgYGAwgGBgYIBggECAgEBgQICAYECAgGBgQGBAQECAMGCAYGCAYGBgYGCAYGCAgGCAMGBgQGBAgDBgYIBggGBgYIBAgIBgYGBgYEBAgDBggGCAYDBggIBggGBgYGAwQIBgQECAQIBggGBggGCAYGBgQEBgYDCAQECAYDBAYEBgYECAQIBgYIBggGBgMGBgYGBgYGBgMECAgGBggEBgYGBgQECAMGCAYIBAgDCAgEBAMECAMGBgMIBgYGBgMGBAYGCAMEBAMGBgYGAwgEBgMICAYGBgQIBgYGBAgEBgMIBgYEBgYEBAYEBgYGAwYGBgMGBAQIBgYIBAQECAQGBAYGBAYGBAgGBAQICAYGAwYDAwgIBgYGCAgGBgQGBgYGAwgGBgYEBgQGBggGBAYICAMIBgMDCAMGCAYEBAQIBggGAwgIBggGCAgEBgYGAwgIBgYICAYIBAgICAgICAYGBAQEBgQEBAMICAMGBAgDBAYIAwQGCAYICAgIBgQDBAgECAQEAwYDBgYIBAgDBggIBAQIBgYGCAgEBAgICAgGAwMIBggECAYIBAYICAQEBgYGBAYGCAYIBgMGBgYEBggGBgYGBggIBAgIAwgGBgYDBAYDCAgIBgQECAgEAwQEBgYEBgYGCAYIBAgIBgQGCAQGCAgICAgGBAQECAgGCAYIBgYGBAYIBgYGBgYEBgQGAwYIBgYDBAQECAgGAwYIAwYGBgYGBgYICAMEBgYGAwYIBggIAwYGBgQIBgQECAMGBgQGCAYEAwYIBAgIBgMICAYGBgYGBgYICAMEAwMGBAYICAYGCAYGBgYGBAMIAwgEBgQIBgYICAYIBAYICAQEBgQGBgQGBggIBgYDBAgEAwQDCAgICAQGBggIBAYEBgYIBAQGBggECAYGBgYGBAYEAwYIBgYGAwgECAgDBgMGCAgGBAQIBggGCAgGBgYGCAQGBggICAgIBAYEBgMGCAgICAYGBAgIBAYICAYGBggEBAgGCAYGBggGBAYIBggIBggGBAgEBAYGBgYIBgYGCAYIBgYGBgQGBgYEAwYGBgYGBgYEBgYEBgQGBgMGAwQIAwgECAQGCAYGBggIBggGBgYGBgYICAQGCAMGAwYEBggGBgQGBAYIBggGBAMIBgYDCAMGCAQIBgQGBAYGCAQEBgYDCAYIBgQGBgYEBgYICAgGBAgGBggDBAYDBAQGCAQDCAgEAwgGBAYICAYICAYGAwgGBgYGCAMGBAgEBgYEBAQGBgYIBAQGBAMGBgMIBgYGCAYDBAQGBggGCAYDBgYIBgYICAYIAwgIAwgIBAgECAMGCAYGCAQGBgYGBAYECAgGBggECAgICAMGAwMGCAgIBAgICAYIBggDAwYGCAYECAgICAYGBgQIAwYEBAYICAgEAwgEBAgDBgQIBgYIBggGCAYGBAgIAwgIAwgGBAgEBggGCAYICAYGAwgIBgQGAwgICAYGAwQDBAgIBggGBggGAwQGBAYIBgYGBgYGCAgICAMGCAgEBAYGBgYIBAYECAYEBgYIBgYIBggGAwYIAwYDCAYGBgYIBgQGAwMGBAMIAwQGCAgGBAYGCAgGBAgEBgYIBgYICAMGBgYICAMIBgYEBAYEAwQIBgQEBggGBgYDBgQEBgYEAwQICAYGBgYGBgQEBgYICAYIBgQIBAQEBgQICAgIBgYICAYGBAYIBgYGBAQDBAYIAwYIBggGBgMEBAMECAYIBgQGBAgEBggEBgQICAgGBgQGBgYGBggGCAYGBggEBgYICAgEBgYDCAYEAwgGBgQGBAYIBgYGBgYIAwQGBgQGBgMGCAQIBgYICAYIBgYGBgMEBgMGBAYEBgYICAYICAYIBgQEAwgGBAYEAwYEBgYEAwQDBAQGBgYECAgIBgMGCAgIAwYIBgMGBAgGAwgICAgECAgGBgMEAwYIBggIBAMGBgYICAYDBgYGCAYEBAMGBggGBAYDAwQEAwQEBggICAQGBggICAgEBAQEAwMIBgYEBggDBAgIBgQICAgGBgYIBgYGBggIBAYGBgQGBggEBAgGBggECAYGBAQGBAYGBAgGBgYGBggGAwYEBgYEBggGAwYIBAYIBAYDBggIBAgGBAYIBgYDCAYGBAQEBAMGCAQICAMGCAQGBgQEBgMECAQIBAQIBAYEBgQIBgYIBgYDAwgGBgYIBggGAwQECAYEBggEBggGBAgGAwYEBAQICAYEBgMGBgYGBgYIBAQECAgGCAgGCAMGBAQGBAYIBAgEBgYGCAYIAwYIBAgGAwYGBgYIBggIBgYGCAQGAwQGBggGCAYGCAgEBAYIAwYGBAgEAwgIBgMIBgYICAgEBgYIBgYGAwYGBAYICAYECAYGBgYEBggGBAQECAQGCAYICAgICAMGBAYIBAYDBAYGCAgGCAYEBgQIBgMGBggGBgYECAYICAgECAYICAYIBgYEAwQIBgYGCAQIBgYGBggIAwYDAwMEBAQIBggGBAYECAgGCAYIBggIBggEAwQDBAgGBggIBgMDBgQECAYGBgMGBAQECAgGBgQGBAYEBggICAgGBggGCAMIBgYDCAYGBggEBAgIBAQEBAYICAgGBggICAgGBAYGBgYIBggGCAQGBggGBgMGBgMGBgYICAgGAwYGBgYECAQIAwYDBgQGBgMGBAYGCAYIBgQGBgMGCAQDBggGBggGCAYEBggGAwMDCAYGBgMGBgYGCAQGAwYDBgYICAQGBAQECAMIBggGCAgGBgMGBAQICAgIBAgIBgYEBggDAwMEBAQGBgQICAgIAwgEAwYGAwQGBAMGAwMIBAYEBAQIBgYIBAYGAwgEBgYICAgGBAMGBgQIBggGBAYEAwYEBggGBAYGBgQIAwYGBAYDBgYGBAYIBAQGCAgGBggIBAgIBAgDCAYIBggECAYGCAMEBAYGCAgGBAYGCAYGBggGCAgEAwQDBgQGBAYEBgQGBgMDBgMIBAYIAwYGBAYDCAYGCAgIBggDBAMIBgYGBgYEBgQICAYGCAYDBAQIBggECAQGBgQICAMGCAYIAwMIBggIBggIBgYGAwgIBgYGBAgIBAYIAwgIBAQGBgYGBAYGBgQIBggEBgYDCAgEBAMEAwYGBgYIBgYGAwgDAwYDCAYIBgYIBAYDCAQGBggGCAYGBggIBgYECAgECAYGBgQGCAgIBAgGAwgGCAQGBgYEBAMDBAYGBgQGBgYECAYGCAYGBggEBgMDBAYECAMIBAQEBgQIBgMDAwMGBgYEBAgGBgQIBgYGBgYECAYGBggGBAQIAwYGBgQECAYGBgYICAYEBgYGCAYGBAQDCAYECAYGBgMGBgYECAgECAYGAwMGBAYIBgYEBAYICAgIBAYGCAYGBgYICAYICAQEBgYIBggDBgQGBgYIBggECAMIBgYEBgYGBAYIBAQGCAYGCAQGBAgGCAQECAYIBgYIBgMIBgYIAwgEBgYGAwgGBgMIBggIBgYGBgMIBgYIBggIBgYIBAYEBAgIBAgECAYICAYGBAYGBAYGBgYIAwQEBgQGBAgECAYIBgMIAwMGBgYIBgQIBAYIBgYGBggIBgYGBggIBgYIBgYECAMIBgYEBAYDCAgGBgQDBAgGBAgICAYIBgQGAwQGCAQGBgYEBggGCAYGBggGBAQICAgDBggIAwYIBggGCAYIBgQGBggECAYICAgGCAYECAYGAwYGBggGBAgICAQGCAYIBgMICAYGAwYECAYECAYDBgMGCAYICAYIBgYGCAYGCAgGBggGBAYIAwQIBAQDCAgIBgYEAwQGAwMGBAgGBgQGBAYIBgQIAwgECAMGCAQGBgYEBAYGBgQGAwYIBggIBggIBgYEBgYIBAMGBAQGBggIBggGCAQIBgQIBggIBAMEBggDCAYGAwYEBAYICAYIBgQDCAgIBgQEBAYGBgYGBgYGBggGCAQICAgGCAYEBggICAgIAwQEBggEBAMICAgECAYGBgYEAwQIBAQGCAYEBAgGCAYICAYGBggDBgYGAwgGAwgICAgIAwQICAQEBAgGCAgGBAYGBAQGCAMEBggICAYIBgYICAgECAYECAYEAwYGBgQGBAMGBgYICAYGAwYIBggECAgECAQICAgDCAgECAQEBgMGBAgDCAgIBgYIBggIBgQGCAgICAYDBAQIAwYGCAYIBggDBgYIBAgICAMDAwgDAwQGBgQGBggDCAgEBAgECAYGBgYICAYGCAgICAgICAQIBgMEBAYGCAYEAwgGBAMGAwgDCAQICAYICAMGBAQGBgYGBgYGBggGCAgGBAgGBggEBAYGBAgICAQGBggGBgQIBgQDCAQDAwYIBAgEBggICAgGBgMIBgQICAYGBgMGCAYDBgYGBgQGBgQEBgYECAYICAMGCAQIBgQDBAQICAgGBgQGAwYEBgQGBgQECAQEBAgIBggIBAYDCAYGBAgIBAgEBAMGCAgIBgQIBggDBAgGAwQGAwYIAwMEBggGCAQECAYEBgYGAwQGCAYECAQGBgMIBgYIBgMEBggGBgYIBgQICAgEBAYDCAYIBAQECAgGBgYIBAQIBAQDBggIBgYGCAMICAYGBAYDBgYEBggDBggGAwQGCAQGAwQGCAQGBggDBAYDBgQICAYGBgQEBAYDCAgGCAQIBgYEBgYEBgQGBAQEBgYGBAQICAYDCAQGAwYIBgYGCAYGAwMEBgYECAQEBggEAwgDBAYGBgMGBAgEBgYGBAYIAwYGCAQGCAYGBggGCAYGCAYEBAgGAwYGCAQEBgMIBAgIBgQICAgGBgQGBAYIBggECAMGBAgGCAYGBgMGBggEBgYICAYIBAgGBgYGBAgIAwQGBAYECAYDBgYICAYGBAgGCAYGAwMGBgYIBAgGBggGCAYIBgQICAYIBAgEBgQEBggGCAgIAwYEBAYIBgYGCAYIBgYGCAMEBggICAYGBgMGBAYDBggGCAYICAYEBggDBggECAgEBAYDBgYGBAQIBgYDBggECAMECAgECAgIBggDCAQDBAgIBggIBggGCAgIBgQEBggGBgYEBggGBAYECAYECAQGCAYDBAYGBggIBgQIBgQGAwgIBggGBgMIBgYEBgYECAYDBAYEBgQGBAYDCAYEBAgECAYGBAMEBgQGBAQGBAgDBAYGCAQIBAgEAwgEBAQIBAYICAYGBAMGAwYICAYIBggECAQEBAMGAwQEBAQECAgDCAYIBgYEAwgICAQIBgQGBgYIBgYDBggECAQICAYIBAYGBAYEAwgECAgGBggEAwgIBgQEBAgGCAYECAgECAgECAYICAQGCAYGBAgICAYGCAYGBggEBggIBggECAYGBAYGBAYEBggGCAgGAwYGCAgICAQGBgQIBggIBAYGBgQGCAYGBgYEAwYIBggEBAMGBggEBggECAMGBgYGCAYGBAYDAwQGBgQGBgQIBAQGCAgEBgQGBAYEBgYIBgYGBggIBgMGAwgICAMEBAgGCAYGBAQIAwQDBAYGAwgGBgYIAwgECAYGBgYIBAgGCAQGBgYIBggGCAYIBAQECAQIBAYIBgQECAQIBgQGBAYGCAQGBgQEBgYGBAYGBAQGBgYIAwgDCAYECAYGBAYDBAYIBgQIBAYGBggECAYGCAYICAYGBAYGCAQGBggGBggECAQDBgYGAwYGCAYGCAYGCAYEBgYICAQEBAYGBgMGAwMIAwYIBgQIBAgDBggIAwgICAYGCAgGBgMIBAYDCAYIBgYGBAMECAQIBgYGBgMEBAYIBgQGBAQICAYGCAYEBAYGAwYEBAQEBggGAwgECAYGBAMEBgMIBgQGCAgIAwgIBAYDBAgICAYICAgEBgYICAYGAwYGBgQIBgYICAYIAwQDBAYDBgYGBgQGBAgDBggEBggICAgECAYGCAYGBgQECAgICAQEBAYGBAYICAgGBgYGBgYECAYEBggIBAQIBgQICAgGBgYGBAYGAwgICAYIBAQGBggGBgQGBAgGCAYGBAYGBggEBggECAMGBAMGBgQIBgYGBgYGAwQICAYIBAYIBAgECAYEBAYICAgGBAMGBgYGBgQICAYECAgGBggGCAgICAMECAYECAYEBgQGBggIBAYGCAMICAgEBggICAgEBggGBgYGBgQIBgYGCAQECAYDBggIAwgECAYGBAMGBggGBgYGAwgGBAYICAYEBgYICAYEBAgGCAYEBggIBgYGBggGCAQICAYGBAYIBgYECAYEBAYGCAMIBggIBgYGCAgGBAYGBAQEBggIBggIBAQEBgYEBgQICAgGAwYEBgQDCAQGBggGBgYGCAYEBAQECAgECAYIBAQGBggIBgYECAYEBAQGBAYECAYGCAYGAwYIBgYDBgYICAYIBggDBAQICAYIBggECAYGBgMDBggGBgMECAgIBgYGCAQEBggDBgQIBgMDCAMIBAYICAMIBAMECAgEBAYIBAQICAgGBAYDBgQEBgYEBgQGBgQGBAQIAwYICAYEBggGBAgGBgQIBgYGCAMECAQDBggEBggDBgMEBggGBggGBgYIAwgICAQGBgYEBgYEBggIBgYIBAgEBgYGCAYGAwgEBAgIBAgEBggGAwgICAYGAwgGAwYGBgYIAwgEBgYICAYEBgQDBgYIBgYIAwQECAYGBgQEBggIAwgIBAYICAYEBgMECAgECAYIBgYIBggEBgYGAwYGBggGCAYICAgDBAgGBgYIBggGBgYGBAgDAwYICAQECAMGBgYICAgGCAQDBAgEBgYECAYIBAQIAwQIBgQICAQDCAYIBgQIBgMGBAQEBgQEBgQIBAgIAwYIBgQGCAYEBgYGBAYGBgMGBAgGBgYGBgYGBgQGBgQIBgMGBggDBAgGAwYIBAYIBgQGAwgIBgQGCAQGBgYEBAYECAgDBgYIBgYEBAgGCAgGBgYGBAgECAgIBAMDAwYEBAgIBgYIBAQGCAgICAYIBggGBAMECAYGBggGBgQDBgYIBAYICAgGBgYEBgYGBgYDCAgGCAYIAwQGBAYGBgQGBAYGAwQIBgYEBgQIBAgEBAgEAwQGBgQGBgYGBAgGAwYGCAYEBgMGCAYIBgYIBAgDBAgEBgQECAYECAYIBAQGBAYEBgMGBgQGCAYECAYECAQECAgIBgMGBgQICAgGCAQGBAMGCAYIAwgGBggICAgIBggGBggEBggIBgQGBgYICAYIBgYGBgQGBAYEBggICAYICAgICAYIBAYECAgEBggIBAQEBggGBAQICAQEBggDBgQGCAYECAgGBggIBAQIBgYGBggGCAYICAYGBgMEBgYGCAYICAYDAwYEBAMICAYGBgQEBAYGBgQEBAQGCAYICAYGCAYGBggICAYIBggGCAYGCAgGCAgIBgYIBggECAYGCAQGBAYGBggICAQEAwgDCAYIBAYGBgYIAwYGBggGBAYICAYGCAYDCAYIBAgGCAMIBAYECAMICAgGBAYIBAMGAwgGBAQIBggECAMEBgYDBAYIAwgGBggGCAYGBgYGBgYIBgYIBgYIBgYEBgYGAwYECAgGBgYDBgMGBgYGBAgEBAgGBAMEBgQGBgYIAwYGCAMEBggGBgYGBgQIBgYECAYGCAgGBgYDCAgGCAMECAgGBgMGCAMEBAgGBgYGBggICAQIBAYGAwgGBAYEBAQIBgMGBgYGBggIBggDBgYIBAQGBgYEBgYGAwgECAYGCAYGBAYEBAgGBggGAwYICAgDCAYIBgYEBAgDBAYDBgQIBAgICAQGCAQGBAYECAQICAMGCAQICAYECAgEBgYEBgYDCAQGBgYEBgYGBAMIBAMDCAYIBgMICAgGBgQEBAYDCAgGBgYIBggIBgYEBAgICAYDBgYGBgQICAYGCAgECAYICAYGCAYDCAMDAwQEBgYGAwMGCAYGAwgGBAQGAwgDBgYDCAYEBggGBAYICAYDBAYGCAgGBggGCAYGBgMEBAMGBgYICAgEBgMDCAYIBgYEBgMGBgQIBgYDCAYGAwgGBAgIAwYGBgQIBggECAYGCAQGCAQICAQGCAYIBgYGBAgIBAQECAYIAwYGBgQIAwYICAYGBgYEAwYIBAYDBgYGBgYGCAgIBggGBgYEBgMIAwgGBAgIBAYGCAQIBAgGBAQEBAQDBgMICAYGAwgICAgGBgMIAwgDBAYGBggGBAMECAYGBgYGBgQGBAMGCAgGBAQGCAYGCAgGCAQGBAQICAQGBAgEBgQGCAQGCAgICAYGBgQDBgYIBgMIBggIBAgGCAgEAwYIAwMIBAQIBgQIBgQGBAQIBgMECAYICAYGBAMIBAYICAQDBgYEBAQGCAYIBAgEBgQDCAQIBgYGCAgGCAYIBgYGBggGBgQGCAYGAwgGCAQIBggIBAgGBAYGCAgIBgMGCAgGBAgDBggECAYGCAgGBAYGCAYIBAYEBgQIBAgGBgQGCAgEBgQEBgYGBAYIBggIBgYICAQGBgQEBgYGBAgGCAgIBgQGCAgGBgQGBggGBgQGBgYECAgGCAYEBggIBgYDCAYGBggICAgGBgYGCAQGBggGCAQGBAQGCAYDBgYIBggDBgYIBAYGCAMECAYGBAQGBAYGBggGBggGBAMGBgQEBgYEBgYGCAgGCAYGAwYIBgYGBgQGBggIBgQGCAgIBgQEAwYGBgYGBAgICAQIBAgECAYGCAQIBgQGBAQGBAYGAwYIBAQEBAgICAMDCAYGBgYIBgYGBgMIBAgIBAgEBgMIBggGCAgICAYEBAYGAwMIBgQGCAgIBAMGCAgECAgDAwYEBAQECAYGCAMGBgYGBgYGBAgGBgYGBggEBAgGCAYIBAQGCAgGBAQIBgQICAQIBgQGBgYICAgECAQDAwgECAQGCAgDCAYEBgYEAwYGBggEAwQIBAQGCAMICAYGBgYICAYIBAYICAYICAQGBAMIBgMICAMGAwgDCAgGBgYICAYIAwYICAgIBAYGBAgECAYIBgYIBAQICAQICAgIBgYGBgQGBggECAgGAwYGCAgGBgYICAMICAYEBAQECAQEBAQGBAYIBgYICAYEBggGBgMEBAgIBAMGCAMGCAQIBAYGBgYECAQGCAgGBggIAwYGAwYGCAgGCAgICAQGBgYIBgYGBgQGBgYGBAYGBgYEBgQECAgEBggEAwQEBAgGCAgGBggGBAYICAgGCAgGAwYIBAMGCAMGCAgEBgMEBggECAYGBAMIBgYGBggIBAgGCAYEBAQGAwQEBgYICAgIBggICAgGBAgIBgYEBgMICAYECAYGBgYICAYGBggGCAMECAgGCAgGCAYICAgGBggEAwYDBAgIBAMGBAYGBggGBAQIBgQIAwYEBggGAwMEBgQIBggDCAQIBAYEBggIBgYGBgQIBAQIBgQGBgYDAwYEBggEBAYGBggDBAgGAwgGBAgICAgEBggGCAYGBgQGBgQGCAYGCAYGBgMEAwYEBgYIBAQIBAMGCAYGBgYDBAQECAYGBggDAwYEBAgIBgQEBAYIBAYIBAYEAwYIBAYICAYIBgYIBAYIBggGBAYIBgQICAgGCAgGCAMGCAYGBggICAYDCAQIBgQIBgYEBgYIBAQIAwYGBgMIBAQIAwgICAQGCAYGCAYGAwYIBgMGBgMGCAYIAwYIBggIBggICAMGCAMIBgQECAgGAwQGBgYEBAQGBgYGCAgEAwgGCAQDCAYGBgYEBggIBAgGBAYGBAQECAYGBgYICAQICAgIBgYGCAgGBggDCAYGBgYGCAQIBggGBgMGCAgGCAgIBgQGBAgGCAYGCAYECAYGBgYDBgYGBgQGBgYGBgYIBAgGBAYGBgYICAYICAQIBAYEBgYDCAQECAQIAwgGAwYGBAYIBgYGAwYGBggGBAYGCAYGBgQEBgMGBAgDBAQGBgQGCAYGCAYEBgYIBgYECAMIBggECAQGCAgIBAQIAwgEBgYGCAYEBgYGBgQEBggIBgQICAgIBgQICAYICAYGBAYEBggEBAYIBAgIAwYICAMIBgYDBgYGCAYDCAQDCAQGCAYGCAYDBgQGBgYGCAgGCAYGCAYIBAQGAwgDCAQEBgYIBggEBgYEBAYGCAMGCAgDBgYGBgMDBgYGBAYIBAYIAwQIBAgIBAYICAgGBggGBgYIBgMGBgYGBAQIBgYICAYIBggGBggDBggGBggEBgYGBAYGCAYGCAYDBAMDCAQGCAQGBgMGBAgGBgYGCAQIAwYEBgQIBgYIBggDBggGCAYIBgYIBgQGCAYIBAYICAYEBAYGCAYICAYGCAYICAMGBgQEBAgIBAMECAYDCAYIBgYDCAgIBggIBgYICAgIBAQGBggICAYDCAgEBAYIBAgGBggGBAQGAwYICAYECAgDCAgGBgYEAwQDBAYGBAgEBggEAwgGCAMGBAgICAYIBggDBgYIBAYEBggGCAgIAwQGBAgGBAQIBggIBgMIBggIBgQGCAYECAYGBgQGCAgGAwQICAgGBAYDBggICAYDAwYDBgMGAwYECAgGAwQEBggICAYIBgYDCAQEBgYECAgIBAYEBAYGCAYGCAgIBgYIBAgIBggGBggEAwgECAYIBAQGCAYGBAYICAgGCAQEBAgEAwQIBgQECAYGAwQDBgYECAQGCAMIAwQDCAYEBgQEBggICAQIBAYEBgYGBgYIBAMGCAYIBgQIBgYEBgQDBAgIBggGCAYEAwgDBgYDBAgIBggGCAgEBgYGBgYGBgMIBgYGBgMICAYIBggGBAYIAwgGCAgEBAYGBgYDCAgEBgYGBggECAYGBgYGCAYIBgYGCAYEBAgIBggECAgIAwYGBAQIBAMIBAYGCAQDCAYGCAQICAYECAgECAgGCAYGBAYIAwgECAYGCAQDCAgIBAgECAYGBgQGBggICAMIBAYDBAgEBAgGBgQEBgQGBAYICAgICAQIBgYGCAgIAwgGBgQGBAYEBgMIBgYIBAQEBgYGCAYIBAgIBAgECAMGCAMGBgYGBgYIBgMGBgYGCAgGBgQGCAYGAwQIBAgICAgDBggIBgYGBgQGBAYDCAQEAwQGBggICAgECAgDCAQGAwgGBgYEBgQEAwgGCAYECAYGBgYIBAQICAgDCAQDCAYGCAQGBggGBgYICAgDBggIBgYIBgYIBgQGCAQIBggGBggGBgQIBgYDCAYICAYDCAYGCAYGBggIBAQGCAQEBggGBggIBAgIBAgIBgMGBAYIBgYDAwQGBAgDBgYGBgYECAYGCAMDCAgGBAQEBAYICAgDBggGBgYECAQGBAQECAYIBgYGBggECAYGAwMDBgMGBgYICAgGCAgGCAYECAYIBggGCAYEBAMEAwQEBgYICAgIBgYEBgQECAYECAQGCAYGAwYICAYGBAQIBgYGBgQGCAMGBAQIBAQGCAgECAQEAwYGBgYDBgYIBAYGCAYGBgYGAwYDCAQIBgYIBgMEBAgEBAQEBgQIBgQGBgQEBggIAwMGBAQGBggICAgIBgYDBgMEBgQICAYDCAgGBgYIBgQIBgYDBgYECAgGBAYDBgQICAQEBAYGBAYIBgMGAwgGBgYGBAYDBggICAgECAgEBAYIBggICAYEBAYEBggECAQGCAgEBgQIBgYDCAgICAMGCAgGBggIBgYECAgIAwQIBgQEBggGBgQIBAMGAwYICAYGBgYGCAQEBAYECAgGCAYDCAQDCAgGBgYDBggDCAgDCAYICAQEBgYIBAQGBggIBggGBAgIAwQIBgYGAwQDBAMEBgQGCAgEBgQICAYGCAYGBgQEBAYGBgYGCAQIBgYICAQIBggGBAMGAwgIBgMGCAQGBggGAwgIAwYGAwYICAQIAwYDAwYEBgQGBAgECAgICAYIBggGCAYGBgYICAYGBggGBgQIBgYGCAYGBgYEAwgEBggGBAQGBAYDBgYIBAMDBgYDBAgDBgYIBgYGBggDAwYICAQEBggICAYGBgQGBgMIBggIBAMGBgMGCAYIBgYGBggGBgYIBAQICAgEBggEBgYDCAYGBAMIBAgGBgYGCAYEBAYGBAgIAwQIBAYICAgGBggGBAMGBAYGCAgIBgYEBggGBAYGBggICAYGCAYIBgYIBgMGBggIBAgIBgMDCAYEBgYICAgIAwYEBgYICAMIBggICAgECAYIBggGBgYECAYGCAMGAwYECAYEBggIBgMIBAgGBgMDBgQIBgYGBAYIBgYIBgYGBgYGBAQEBgYGAwMGAwYGCAMICAQGCAYGCAYGBgQGCAMIBgMGBAgGBAgIBgQEBgYEAwgDCAgGBgYIAwgGBAQECAQIBggECAQGCAYGCAQICAQIBAgGBAgGBAgEAwgIBgYIBgMGBAMEBAYIBgQGBggEAwYGAwgGBAYGBAQIAwYGBAYDCAgECAYEBAgDAwMIBAQIBgYGCAQGCAgGBAQGBgYGBggGCAgEBgYIBggGBgYDBAgGAwYIBgQEBgYECAgIAwYECAQEBAYGBAYGBgQDBAYIBAYDBgYGBgMDCAYDCAQECAgGCAgECAYIBAgGCAYDBgYIBgQIBggEBgYGBgYECAQGCAgEAwgGBgMEAwYEBgYEBgYDCAQEAwYIBAMGBgMGBAgICAQEBAgGBgYGCAYDBAQDCAgECAQGBggIBgYIBggGBgYGBAYIAwYGCAMGBgYEBgYDAwgGCAYIBggDBAQIBAgGBggICAgIBgQDBAYIBAYIBgYGBgMGCAYGBgYDBgYGBggIBAQGBggIBggDBgYIBAYGBgQGBAYGBAYIAwgGAwYECAYIBAYGCAYICAYIBAYGBgQIBgYIBggGCAMICAMGBAYECAgGCAgECAYIBgQGCAgECAYIBgQECAYDBggIBgMEBgYGBggGAwQDCAYDBgYEAwgIBgYIBgQIBgQICAQDBAgEAwQGCAYICAQGBAg=",
                    "dtype": "i1"
                  },
                  "xaxis": "x",
                  "yaxis": "y"
                }
              ],
              "layout": {
                "barmode": "relative",
                "legend": {
                  "tracegroupgap": 0
                },
                "template": {
                  "data": {
                    "bar": [
                      {
                        "error_x": {
                          "color": "#2a3f5f"
                        },
                        "error_y": {
                          "color": "#2a3f5f"
                        },
                        "marker": {
                          "line": {
                            "color": "#E5ECF6",
                            "width": 0.5
                          },
                          "pattern": {
                            "fillmode": "overlay",
                            "size": 10,
                            "solidity": 0.2
                          }
                        },
                        "type": "bar"
                      }
                    ],
                    "barpolar": [
                      {
                        "marker": {
                          "line": {
                            "color": "#E5ECF6",
                            "width": 0.5
                          },
                          "pattern": {
                            "fillmode": "overlay",
                            "size": 10,
                            "solidity": 0.2
                          }
                        },
                        "type": "barpolar"
                      }
                    ],
                    "carpet": [
                      {
                        "aaxis": {
                          "endlinecolor": "#2a3f5f",
                          "gridcolor": "white",
                          "linecolor": "white",
                          "minorgridcolor": "white",
                          "startlinecolor": "#2a3f5f"
                        },
                        "baxis": {
                          "endlinecolor": "#2a3f5f",
                          "gridcolor": "white",
                          "linecolor": "white",
                          "minorgridcolor": "white",
                          "startlinecolor": "#2a3f5f"
                        },
                        "type": "carpet"
                      }
                    ],
                    "choropleth": [
                      {
                        "colorbar": {
                          "outlinewidth": 0,
                          "ticks": ""
                        },
                        "type": "choropleth"
                      }
                    ],
                    "contour": [
                      {
                        "colorbar": {
                          "outlinewidth": 0,
                          "ticks": ""
                        },
                        "colorscale": [
                          [
                            0,
                            "#0d0887"
                          ],
                          [
                            0.1111111111111111,
                            "#46039f"
                          ],
                          [
                            0.2222222222222222,
                            "#7201a8"
                          ],
                          [
                            0.3333333333333333,
                            "#9c179e"
                          ],
                          [
                            0.4444444444444444,
                            "#bd3786"
                          ],
                          [
                            0.5555555555555556,
                            "#d8576b"
                          ],
                          [
                            0.6666666666666666,
                            "#ed7953"
                          ],
                          [
                            0.7777777777777778,
                            "#fb9f3a"
                          ],
                          [
                            0.8888888888888888,
                            "#fdca26"
                          ],
                          [
                            1,
                            "#f0f921"
                          ]
                        ],
                        "type": "contour"
                      }
                    ],
                    "contourcarpet": [
                      {
                        "colorbar": {
                          "outlinewidth": 0,
                          "ticks": ""
                        },
                        "type": "contourcarpet"
                      }
                    ],
                    "heatmap": [
                      {
                        "colorbar": {
                          "outlinewidth": 0,
                          "ticks": ""
                        },
                        "colorscale": [
                          [
                            0,
                            "#0d0887"
                          ],
                          [
                            0.1111111111111111,
                            "#46039f"
                          ],
                          [
                            0.2222222222222222,
                            "#7201a8"
                          ],
                          [
                            0.3333333333333333,
                            "#9c179e"
                          ],
                          [
                            0.4444444444444444,
                            "#bd3786"
                          ],
                          [
                            0.5555555555555556,
                            "#d8576b"
                          ],
                          [
                            0.6666666666666666,
                            "#ed7953"
                          ],
                          [
                            0.7777777777777778,
                            "#fb9f3a"
                          ],
                          [
                            0.8888888888888888,
                            "#fdca26"
                          ],
                          [
                            1,
                            "#f0f921"
                          ]
                        ],
                        "type": "heatmap"
                      }
                    ],
                    "histogram": [
                      {
                        "marker": {
                          "pattern": {
                            "fillmode": "overlay",
                            "size": 10,
                            "solidity": 0.2
                          }
                        },
                        "type": "histogram"
                      }
                    ],
                    "histogram2d": [
                      {
                        "colorbar": {
                          "outlinewidth": 0,
                          "ticks": ""
                        },
                        "colorscale": [
                          [
                            0,
                            "#0d0887"
                          ],
                          [
                            0.1111111111111111,
                            "#46039f"
                          ],
                          [
                            0.2222222222222222,
                            "#7201a8"
                          ],
                          [
                            0.3333333333333333,
                            "#9c179e"
                          ],
                          [
                            0.4444444444444444,
                            "#bd3786"
                          ],
                          [
                            0.5555555555555556,
                            "#d8576b"
                          ],
                          [
                            0.6666666666666666,
                            "#ed7953"
                          ],
                          [
                            0.7777777777777778,
                            "#fb9f3a"
                          ],
                          [
                            0.8888888888888888,
                            "#fdca26"
                          ],
                          [
                            1,
                            "#f0f921"
                          ]
                        ],
                        "type": "histogram2d"
                      }
                    ],
                    "histogram2dcontour": [
                      {
                        "colorbar": {
                          "outlinewidth": 0,
                          "ticks": ""
                        },
                        "colorscale": [
                          [
                            0,
                            "#0d0887"
                          ],
                          [
                            0.1111111111111111,
                            "#46039f"
                          ],
                          [
                            0.2222222222222222,
                            "#7201a8"
                          ],
                          [
                            0.3333333333333333,
                            "#9c179e"
                          ],
                          [
                            0.4444444444444444,
                            "#bd3786"
                          ],
                          [
                            0.5555555555555556,
                            "#d8576b"
                          ],
                          [
                            0.6666666666666666,
                            "#ed7953"
                          ],
                          [
                            0.7777777777777778,
                            "#fb9f3a"
                          ],
                          [
                            0.8888888888888888,
                            "#fdca26"
                          ],
                          [
                            1,
                            "#f0f921"
                          ]
                        ],
                        "type": "histogram2dcontour"
                      }
                    ],
                    "mesh3d": [
                      {
                        "colorbar": {
                          "outlinewidth": 0,
                          "ticks": ""
                        },
                        "type": "mesh3d"
                      }
                    ],
                    "parcoords": [
                      {
                        "line": {
                          "colorbar": {
                            "outlinewidth": 0,
                            "ticks": ""
                          }
                        },
                        "type": "parcoords"
                      }
                    ],
                    "pie": [
                      {
                        "automargin": true,
                        "type": "pie"
                      }
                    ],
                    "scatter": [
                      {
                        "fillpattern": {
                          "fillmode": "overlay",
                          "size": 10,
                          "solidity": 0.2
                        },
                        "type": "scatter"
                      }
                    ],
                    "scatter3d": [
                      {
                        "line": {
                          "colorbar": {
                            "outlinewidth": 0,
                            "ticks": ""
                          }
                        },
                        "marker": {
                          "colorbar": {
                            "outlinewidth": 0,
                            "ticks": ""
                          }
                        },
                        "type": "scatter3d"
                      }
                    ],
                    "scattercarpet": [
                      {
                        "marker": {
                          "colorbar": {
                            "outlinewidth": 0,
                            "ticks": ""
                          }
                        },
                        "type": "scattercarpet"
                      }
                    ],
                    "scattergeo": [
                      {
                        "marker": {
                          "colorbar": {
                            "outlinewidth": 0,
                            "ticks": ""
                          }
                        },
                        "type": "scattergeo"
                      }
                    ],
                    "scattergl": [
                      {
                        "marker": {
                          "colorbar": {
                            "outlinewidth": 0,
                            "ticks": ""
                          }
                        },
                        "type": "scattergl"
                      }
                    ],
                    "scattermap": [
                      {
                        "marker": {
                          "colorbar": {
                            "outlinewidth": 0,
                            "ticks": ""
                          }
                        },
                        "type": "scattermap"
                      }
                    ],
                    "scattermapbox": [
                      {
                        "marker": {
                          "colorbar": {
                            "outlinewidth": 0,
                            "ticks": ""
                          }
                        },
                        "type": "scattermapbox"
                      }
                    ],
                    "scatterpolar": [
                      {
                        "marker": {
                          "colorbar": {
                            "outlinewidth": 0,
                            "ticks": ""
                          }
                        },
                        "type": "scatterpolar"
                      }
                    ],
                    "scatterpolargl": [
                      {
                        "marker": {
                          "colorbar": {
                            "outlinewidth": 0,
                            "ticks": ""
                          }
                        },
                        "type": "scatterpolargl"
                      }
                    ],
                    "scatterternary": [
                      {
                        "marker": {
                          "colorbar": {
                            "outlinewidth": 0,
                            "ticks": ""
                          }
                        },
                        "type": "scatterternary"
                      }
                    ],
                    "surface": [
                      {
                        "colorbar": {
                          "outlinewidth": 0,
                          "ticks": ""
                        },
                        "colorscale": [
                          [
                            0,
                            "#0d0887"
                          ],
                          [
                            0.1111111111111111,
                            "#46039f"
                          ],
                          [
                            0.2222222222222222,
                            "#7201a8"
                          ],
                          [
                            0.3333333333333333,
                            "#9c179e"
                          ],
                          [
                            0.4444444444444444,
                            "#bd3786"
                          ],
                          [
                            0.5555555555555556,
                            "#d8576b"
                          ],
                          [
                            0.6666666666666666,
                            "#ed7953"
                          ],
                          [
                            0.7777777777777778,
                            "#fb9f3a"
                          ],
                          [
                            0.8888888888888888,
                            "#fdca26"
                          ],
                          [
                            1,
                            "#f0f921"
                          ]
                        ],
                        "type": "surface"
                      }
                    ],
                    "table": [
                      {
                        "cells": {
                          "fill": {
                            "color": "#EBF0F8"
                          },
                          "line": {
                            "color": "white"
                          }
                        },
                        "header": {
                          "fill": {
                            "color": "#C8D4E3"
                          },
                          "line": {
                            "color": "white"
                          }
                        },
                        "type": "table"
                      }
                    ]
                  },
                  "layout": {
                    "annotationdefaults": {
                      "arrowcolor": "#2a3f5f",
                      "arrowhead": 0,
                      "arrowwidth": 1
                    },
                    "autotypenumbers": "strict",
                    "coloraxis": {
                      "colorbar": {
                        "outlinewidth": 0,
                        "ticks": ""
                      }
                    },
                    "colorscale": {
                      "diverging": [
                        [
                          0,
                          "#8e0152"
                        ],
                        [
                          0.1,
                          "#c51b7d"
                        ],
                        [
                          0.2,
                          "#de77ae"
                        ],
                        [
                          0.3,
                          "#f1b6da"
                        ],
                        [
                          0.4,
                          "#fde0ef"
                        ],
                        [
                          0.5,
                          "#f7f7f7"
                        ],
                        [
                          0.6,
                          "#e6f5d0"
                        ],
                        [
                          0.7,
                          "#b8e186"
                        ],
                        [
                          0.8,
                          "#7fbc41"
                        ],
                        [
                          0.9,
                          "#4d9221"
                        ],
                        [
                          1,
                          "#276419"
                        ]
                      ],
                      "sequential": [
                        [
                          0,
                          "#0d0887"
                        ],
                        [
                          0.1111111111111111,
                          "#46039f"
                        ],
                        [
                          0.2222222222222222,
                          "#7201a8"
                        ],
                        [
                          0.3333333333333333,
                          "#9c179e"
                        ],
                        [
                          0.4444444444444444,
                          "#bd3786"
                        ],
                        [
                          0.5555555555555556,
                          "#d8576b"
                        ],
                        [
                          0.6666666666666666,
                          "#ed7953"
                        ],
                        [
                          0.7777777777777778,
                          "#fb9f3a"
                        ],
                        [
                          0.8888888888888888,
                          "#fdca26"
                        ],
                        [
                          1,
                          "#f0f921"
                        ]
                      ],
                      "sequentialminus": [
                        [
                          0,
                          "#0d0887"
                        ],
                        [
                          0.1111111111111111,
                          "#46039f"
                        ],
                        [
                          0.2222222222222222,
                          "#7201a8"
                        ],
                        [
                          0.3333333333333333,
                          "#9c179e"
                        ],
                        [
                          0.4444444444444444,
                          "#bd3786"
                        ],
                        [
                          0.5555555555555556,
                          "#d8576b"
                        ],
                        [
                          0.6666666666666666,
                          "#ed7953"
                        ],
                        [
                          0.7777777777777778,
                          "#fb9f3a"
                        ],
                        [
                          0.8888888888888888,
                          "#fdca26"
                        ],
                        [
                          1,
                          "#f0f921"
                        ]
                      ]
                    },
                    "colorway": [
                      "#636efa",
                      "#EF553B",
                      "#00cc96",
                      "#ab63fa",
                      "#FFA15A",
                      "#19d3f3",
                      "#FF6692",
                      "#B6E880",
                      "#FF97FF",
                      "#FECB52"
                    ],
                    "font": {
                      "color": "#2a3f5f"
                    },
                    "geo": {
                      "bgcolor": "white",
                      "lakecolor": "white",
                      "landcolor": "#E5ECF6",
                      "showlakes": true,
                      "showland": true,
                      "subunitcolor": "white"
                    },
                    "hoverlabel": {
                      "align": "left"
                    },
                    "hovermode": "closest",
                    "mapbox": {
                      "style": "light"
                    },
                    "paper_bgcolor": "white",
                    "plot_bgcolor": "#E5ECF6",
                    "polar": {
                      "angularaxis": {
                        "gridcolor": "white",
                        "linecolor": "white",
                        "ticks": ""
                      },
                      "bgcolor": "#E5ECF6",
                      "radialaxis": {
                        "gridcolor": "white",
                        "linecolor": "white",
                        "ticks": ""
                      }
                    },
                    "scene": {
                      "xaxis": {
                        "backgroundcolor": "#E5ECF6",
                        "gridcolor": "white",
                        "gridwidth": 2,
                        "linecolor": "white",
                        "showbackground": true,
                        "ticks": "",
                        "zerolinecolor": "white"
                      },
                      "yaxis": {
                        "backgroundcolor": "#E5ECF6",
                        "gridcolor": "white",
                        "gridwidth": 2,
                        "linecolor": "white",
                        "showbackground": true,
                        "ticks": "",
                        "zerolinecolor": "white"
                      },
                      "zaxis": {
                        "backgroundcolor": "#E5ECF6",
                        "gridcolor": "white",
                        "gridwidth": 2,
                        "linecolor": "white",
                        "showbackground": true,
                        "ticks": "",
                        "zerolinecolor": "white"
                      }
                    },
                    "shapedefaults": {
                      "line": {
                        "color": "#2a3f5f"
                      }
                    },
                    "ternary": {
                      "aaxis": {
                        "gridcolor": "white",
                        "linecolor": "white",
                        "ticks": ""
                      },
                      "baxis": {
                        "gridcolor": "white",
                        "linecolor": "white",
                        "ticks": ""
                      },
                      "bgcolor": "#E5ECF6",
                      "caxis": {
                        "gridcolor": "white",
                        "linecolor": "white",
                        "ticks": ""
                      }
                    },
                    "title": {
                      "x": 0.05
                    },
                    "xaxis": {
                      "automargin": true,
                      "gridcolor": "white",
                      "linecolor": "white",
                      "ticks": "",
                      "title": {
                        "standoff": 15
                      },
                      "zerolinecolor": "white",
                      "zerolinewidth": 2
                    },
                    "yaxis": {
                      "automargin": true,
                      "gridcolor": "white",
                      "linecolor": "white",
                      "ticks": "",
                      "title": {
                        "standoff": 15
                      },
                      "zerolinecolor": "white",
                      "zerolinewidth": 2
                    }
                  }
                },
                "title": {
                  "text": "Empirical distribution of X"
                },
                "xaxis": {
                  "anchor": "y",
                  "domain": [
                    0,
                    1
                  ],
                  "title": {
                    "text": "X"
                  }
                },
                "yaxis": {
                  "anchor": "x",
                  "domain": [
                    0,
                    1
                  ],
                  "title": {
                    "text": "probability"
                  }
                }
              }
            }
          },
          "metadata": {},
          "output_type": "display_data"
        }
      ],
      "source": [
        "fig = px.histogram(sim_df, x=\"X\", title=\"Empirical distribution of X\", \n",
        "                   histnorm=\"probability\")\n",
        "# fig.write_image(\"empirical_dist.png\", \"png\",scale=2)\n",
        "fig"
      ]
    },
    {
      "cell_type": "code",
      "execution_count": null,
      "id": "38aa5185-ea85-499b-bfdc-8b19b9bf03df",
      "metadata": {},
      "outputs": [
        {
          "name": "stdout",
          "output_type": "stream",
          "text": [
            "Simulated E[X]: 5.9060375\n",
            "Simulated Var[X]: 2.8703194275865953\n"
          ]
        }
      ],
      "source": [
        "print(\"Simulated E[X]:\", sim_df['X'].mean())\n",
        "print(\"Simulated Var[X]:\", sim_df['X'].var())"
      ]
    },
    {
      "cell_type": "code",
      "execution_count": null,
      "id": "7bca11b1-d875-4ef2-8ebd-c1c9557a9e0e",
      "metadata": {},
      "outputs": [
        {
          "name": "stdout",
          "output_type": "stream",
          "text": [
            "E[X]: 5.9\n"
          ]
        }
      ],
      "source": [
        "E_x = dist_df[\"x\"] @ dist_df[\"P(X = x)\"]\n",
        "print(\"E[X]:\",E_x)"
      ]
    },
    {
      "cell_type": "code",
      "execution_count": null,
      "id": "763a1ef8-2435-4bdf-b082-567ec0e844b0",
      "metadata": {},
      "outputs": [
        {
          "name": "stdout",
          "output_type": "stream",
          "text": [
            "Var[X]: 2.8900000000000006\n"
          ]
        }
      ],
      "source": [
        "Var_x = dist_df[\"x\"]**2 @ dist_df[\"P(X = x)\"] - E_x**2\n",
        "print(\"Var[X]:\", Var_x)"
      ]
    },
    {
      "cell_type": "markdown",
      "id": "d7ba72db-9a35-4dc4-93c2-31a187f30e80",
      "metadata": {
        "tags": []
      },
      "source": [
        "<br/><br/>\n",
        "\n",
        "---\n",
        "\n",
        "# 🎲 🎲 Sum of 2 Dice Rolls\n",
        "\n",
        "> Here's where the lecture demo starts!\n",
        "\n",
        "Here's the distribution of a single die roll:"
      ]
    },
    {
      "cell_type": "code",
      "execution_count": null,
      "id": "9a21d743-1f24-407e-b782-f74c5633d599",
      "metadata": {
        "lines_to_next_cell": 2
      },
      "outputs": [
        {
          "data": {
            "text/html": [
              "<div>\n",
              "<style scoped>\n",
              "    .dataframe tbody tr th:only-of-type {\n",
              "        vertical-align: middle;\n",
              "    }\n",
              "\n",
              "    .dataframe tbody tr th {\n",
              "        vertical-align: top;\n",
              "    }\n",
              "\n",
              "    .dataframe thead th {\n",
              "        text-align: right;\n",
              "    }\n",
              "</style>\n",
              "<table border=\"1\" class=\"dataframe\">\n",
              "  <thead>\n",
              "    <tr style=\"text-align: right;\">\n",
              "      <th></th>\n",
              "      <th>x</th>\n",
              "      <th>P(X = x)</th>\n",
              "    </tr>\n",
              "  </thead>\n",
              "  <tbody>\n",
              "    <tr>\n",
              "      <th>0</th>\n",
              "      <td>1</td>\n",
              "      <td>0.166667</td>\n",
              "    </tr>\n",
              "    <tr>\n",
              "      <th>1</th>\n",
              "      <td>2</td>\n",
              "      <td>0.166667</td>\n",
              "    </tr>\n",
              "    <tr>\n",
              "      <th>2</th>\n",
              "      <td>3</td>\n",
              "      <td>0.166667</td>\n",
              "    </tr>\n",
              "    <tr>\n",
              "      <th>3</th>\n",
              "      <td>4</td>\n",
              "      <td>0.166667</td>\n",
              "    </tr>\n",
              "    <tr>\n",
              "      <th>4</th>\n",
              "      <td>5</td>\n",
              "      <td>0.166667</td>\n",
              "    </tr>\n",
              "    <tr>\n",
              "      <th>5</th>\n",
              "      <td>6</td>\n",
              "      <td>0.166667</td>\n",
              "    </tr>\n",
              "  </tbody>\n",
              "</table>\n",
              "</div>"
            ],
            "text/plain": [
              "   x  P(X = x)\n",
              "0  1  0.166667\n",
              "1  2  0.166667\n",
              "2  3  0.166667\n",
              "3  4  0.166667\n",
              "4  5  0.166667\n",
              "5  6  0.166667"
            ]
          },
          "execution_count": 12,
          "metadata": {},
          "output_type": "execute_result"
        }
      ],
      "source": [
        "roll_df = pd.DataFrame({\"x\": [1, 2, 3, 4, 5, 6],\n",
        "                        \"P(X = x)\": np.ones(6)/6})\n",
        "roll_df"
      ]
    },
    {
      "cell_type": "code",
      "execution_count": null,
      "id": "1694be9f-7549-4a16-a4db-7ab256ac0891",
      "metadata": {},
      "outputs": [
        {
          "data": {
            "application/vnd.plotly.v1+json": {
              "config": {
                "plotlyServerURL": "https://plot.ly"
              },
              "data": [
                {
                  "hovertemplate": "x=%{x}<br>P(X = x)=%{y}<extra></extra>",
                  "legendgroup": "",
                  "marker": {
                    "color": "#636efa",
                    "pattern": {
                      "shape": ""
                    }
                  },
                  "name": "",
                  "orientation": "v",
                  "showlegend": false,
                  "textposition": "auto",
                  "type": "bar",
                  "x": {
                    "bdata": "AQIDBAUG",
                    "dtype": "i1"
                  },
                  "xaxis": "x",
                  "y": {
                    "bdata": "VVVVVVVVxT9VVVVVVVXFP1VVVVVVVcU/VVVVVVVVxT9VVVVVVVXFP1VVVVVVVcU/",
                    "dtype": "f8"
                  },
                  "yaxis": "y"
                }
              ],
              "layout": {
                "barmode": "relative",
                "legend": {
                  "tracegroupgap": 0
                },
                "template": {
                  "data": {
                    "bar": [
                      {
                        "error_x": {
                          "color": "#2a3f5f"
                        },
                        "error_y": {
                          "color": "#2a3f5f"
                        },
                        "marker": {
                          "line": {
                            "color": "#E5ECF6",
                            "width": 0.5
                          },
                          "pattern": {
                            "fillmode": "overlay",
                            "size": 10,
                            "solidity": 0.2
                          }
                        },
                        "type": "bar"
                      }
                    ],
                    "barpolar": [
                      {
                        "marker": {
                          "line": {
                            "color": "#E5ECF6",
                            "width": 0.5
                          },
                          "pattern": {
                            "fillmode": "overlay",
                            "size": 10,
                            "solidity": 0.2
                          }
                        },
                        "type": "barpolar"
                      }
                    ],
                    "carpet": [
                      {
                        "aaxis": {
                          "endlinecolor": "#2a3f5f",
                          "gridcolor": "white",
                          "linecolor": "white",
                          "minorgridcolor": "white",
                          "startlinecolor": "#2a3f5f"
                        },
                        "baxis": {
                          "endlinecolor": "#2a3f5f",
                          "gridcolor": "white",
                          "linecolor": "white",
                          "minorgridcolor": "white",
                          "startlinecolor": "#2a3f5f"
                        },
                        "type": "carpet"
                      }
                    ],
                    "choropleth": [
                      {
                        "colorbar": {
                          "outlinewidth": 0,
                          "ticks": ""
                        },
                        "type": "choropleth"
                      }
                    ],
                    "contour": [
                      {
                        "colorbar": {
                          "outlinewidth": 0,
                          "ticks": ""
                        },
                        "colorscale": [
                          [
                            0,
                            "#0d0887"
                          ],
                          [
                            0.1111111111111111,
                            "#46039f"
                          ],
                          [
                            0.2222222222222222,
                            "#7201a8"
                          ],
                          [
                            0.3333333333333333,
                            "#9c179e"
                          ],
                          [
                            0.4444444444444444,
                            "#bd3786"
                          ],
                          [
                            0.5555555555555556,
                            "#d8576b"
                          ],
                          [
                            0.6666666666666666,
                            "#ed7953"
                          ],
                          [
                            0.7777777777777778,
                            "#fb9f3a"
                          ],
                          [
                            0.8888888888888888,
                            "#fdca26"
                          ],
                          [
                            1,
                            "#f0f921"
                          ]
                        ],
                        "type": "contour"
                      }
                    ],
                    "contourcarpet": [
                      {
                        "colorbar": {
                          "outlinewidth": 0,
                          "ticks": ""
                        },
                        "type": "contourcarpet"
                      }
                    ],
                    "heatmap": [
                      {
                        "colorbar": {
                          "outlinewidth": 0,
                          "ticks": ""
                        },
                        "colorscale": [
                          [
                            0,
                            "#0d0887"
                          ],
                          [
                            0.1111111111111111,
                            "#46039f"
                          ],
                          [
                            0.2222222222222222,
                            "#7201a8"
                          ],
                          [
                            0.3333333333333333,
                            "#9c179e"
                          ],
                          [
                            0.4444444444444444,
                            "#bd3786"
                          ],
                          [
                            0.5555555555555556,
                            "#d8576b"
                          ],
                          [
                            0.6666666666666666,
                            "#ed7953"
                          ],
                          [
                            0.7777777777777778,
                            "#fb9f3a"
                          ],
                          [
                            0.8888888888888888,
                            "#fdca26"
                          ],
                          [
                            1,
                            "#f0f921"
                          ]
                        ],
                        "type": "heatmap"
                      }
                    ],
                    "histogram": [
                      {
                        "marker": {
                          "pattern": {
                            "fillmode": "overlay",
                            "size": 10,
                            "solidity": 0.2
                          }
                        },
                        "type": "histogram"
                      }
                    ],
                    "histogram2d": [
                      {
                        "colorbar": {
                          "outlinewidth": 0,
                          "ticks": ""
                        },
                        "colorscale": [
                          [
                            0,
                            "#0d0887"
                          ],
                          [
                            0.1111111111111111,
                            "#46039f"
                          ],
                          [
                            0.2222222222222222,
                            "#7201a8"
                          ],
                          [
                            0.3333333333333333,
                            "#9c179e"
                          ],
                          [
                            0.4444444444444444,
                            "#bd3786"
                          ],
                          [
                            0.5555555555555556,
                            "#d8576b"
                          ],
                          [
                            0.6666666666666666,
                            "#ed7953"
                          ],
                          [
                            0.7777777777777778,
                            "#fb9f3a"
                          ],
                          [
                            0.8888888888888888,
                            "#fdca26"
                          ],
                          [
                            1,
                            "#f0f921"
                          ]
                        ],
                        "type": "histogram2d"
                      }
                    ],
                    "histogram2dcontour": [
                      {
                        "colorbar": {
                          "outlinewidth": 0,
                          "ticks": ""
                        },
                        "colorscale": [
                          [
                            0,
                            "#0d0887"
                          ],
                          [
                            0.1111111111111111,
                            "#46039f"
                          ],
                          [
                            0.2222222222222222,
                            "#7201a8"
                          ],
                          [
                            0.3333333333333333,
                            "#9c179e"
                          ],
                          [
                            0.4444444444444444,
                            "#bd3786"
                          ],
                          [
                            0.5555555555555556,
                            "#d8576b"
                          ],
                          [
                            0.6666666666666666,
                            "#ed7953"
                          ],
                          [
                            0.7777777777777778,
                            "#fb9f3a"
                          ],
                          [
                            0.8888888888888888,
                            "#fdca26"
                          ],
                          [
                            1,
                            "#f0f921"
                          ]
                        ],
                        "type": "histogram2dcontour"
                      }
                    ],
                    "mesh3d": [
                      {
                        "colorbar": {
                          "outlinewidth": 0,
                          "ticks": ""
                        },
                        "type": "mesh3d"
                      }
                    ],
                    "parcoords": [
                      {
                        "line": {
                          "colorbar": {
                            "outlinewidth": 0,
                            "ticks": ""
                          }
                        },
                        "type": "parcoords"
                      }
                    ],
                    "pie": [
                      {
                        "automargin": true,
                        "type": "pie"
                      }
                    ],
                    "scatter": [
                      {
                        "fillpattern": {
                          "fillmode": "overlay",
                          "size": 10,
                          "solidity": 0.2
                        },
                        "type": "scatter"
                      }
                    ],
                    "scatter3d": [
                      {
                        "line": {
                          "colorbar": {
                            "outlinewidth": 0,
                            "ticks": ""
                          }
                        },
                        "marker": {
                          "colorbar": {
                            "outlinewidth": 0,
                            "ticks": ""
                          }
                        },
                        "type": "scatter3d"
                      }
                    ],
                    "scattercarpet": [
                      {
                        "marker": {
                          "colorbar": {
                            "outlinewidth": 0,
                            "ticks": ""
                          }
                        },
                        "type": "scattercarpet"
                      }
                    ],
                    "scattergeo": [
                      {
                        "marker": {
                          "colorbar": {
                            "outlinewidth": 0,
                            "ticks": ""
                          }
                        },
                        "type": "scattergeo"
                      }
                    ],
                    "scattergl": [
                      {
                        "marker": {
                          "colorbar": {
                            "outlinewidth": 0,
                            "ticks": ""
                          }
                        },
                        "type": "scattergl"
                      }
                    ],
                    "scattermap": [
                      {
                        "marker": {
                          "colorbar": {
                            "outlinewidth": 0,
                            "ticks": ""
                          }
                        },
                        "type": "scattermap"
                      }
                    ],
                    "scattermapbox": [
                      {
                        "marker": {
                          "colorbar": {
                            "outlinewidth": 0,
                            "ticks": ""
                          }
                        },
                        "type": "scattermapbox"
                      }
                    ],
                    "scatterpolar": [
                      {
                        "marker": {
                          "colorbar": {
                            "outlinewidth": 0,
                            "ticks": ""
                          }
                        },
                        "type": "scatterpolar"
                      }
                    ],
                    "scatterpolargl": [
                      {
                        "marker": {
                          "colorbar": {
                            "outlinewidth": 0,
                            "ticks": ""
                          }
                        },
                        "type": "scatterpolargl"
                      }
                    ],
                    "scatterternary": [
                      {
                        "marker": {
                          "colorbar": {
                            "outlinewidth": 0,
                            "ticks": ""
                          }
                        },
                        "type": "scatterternary"
                      }
                    ],
                    "surface": [
                      {
                        "colorbar": {
                          "outlinewidth": 0,
                          "ticks": ""
                        },
                        "colorscale": [
                          [
                            0,
                            "#0d0887"
                          ],
                          [
                            0.1111111111111111,
                            "#46039f"
                          ],
                          [
                            0.2222222222222222,
                            "#7201a8"
                          ],
                          [
                            0.3333333333333333,
                            "#9c179e"
                          ],
                          [
                            0.4444444444444444,
                            "#bd3786"
                          ],
                          [
                            0.5555555555555556,
                            "#d8576b"
                          ],
                          [
                            0.6666666666666666,
                            "#ed7953"
                          ],
                          [
                            0.7777777777777778,
                            "#fb9f3a"
                          ],
                          [
                            0.8888888888888888,
                            "#fdca26"
                          ],
                          [
                            1,
                            "#f0f921"
                          ]
                        ],
                        "type": "surface"
                      }
                    ],
                    "table": [
                      {
                        "cells": {
                          "fill": {
                            "color": "#EBF0F8"
                          },
                          "line": {
                            "color": "white"
                          }
                        },
                        "header": {
                          "fill": {
                            "color": "#C8D4E3"
                          },
                          "line": {
                            "color": "white"
                          }
                        },
                        "type": "table"
                      }
                    ]
                  },
                  "layout": {
                    "annotationdefaults": {
                      "arrowcolor": "#2a3f5f",
                      "arrowhead": 0,
                      "arrowwidth": 1
                    },
                    "autotypenumbers": "strict",
                    "coloraxis": {
                      "colorbar": {
                        "outlinewidth": 0,
                        "ticks": ""
                      }
                    },
                    "colorscale": {
                      "diverging": [
                        [
                          0,
                          "#8e0152"
                        ],
                        [
                          0.1,
                          "#c51b7d"
                        ],
                        [
                          0.2,
                          "#de77ae"
                        ],
                        [
                          0.3,
                          "#f1b6da"
                        ],
                        [
                          0.4,
                          "#fde0ef"
                        ],
                        [
                          0.5,
                          "#f7f7f7"
                        ],
                        [
                          0.6,
                          "#e6f5d0"
                        ],
                        [
                          0.7,
                          "#b8e186"
                        ],
                        [
                          0.8,
                          "#7fbc41"
                        ],
                        [
                          0.9,
                          "#4d9221"
                        ],
                        [
                          1,
                          "#276419"
                        ]
                      ],
                      "sequential": [
                        [
                          0,
                          "#0d0887"
                        ],
                        [
                          0.1111111111111111,
                          "#46039f"
                        ],
                        [
                          0.2222222222222222,
                          "#7201a8"
                        ],
                        [
                          0.3333333333333333,
                          "#9c179e"
                        ],
                        [
                          0.4444444444444444,
                          "#bd3786"
                        ],
                        [
                          0.5555555555555556,
                          "#d8576b"
                        ],
                        [
                          0.6666666666666666,
                          "#ed7953"
                        ],
                        [
                          0.7777777777777778,
                          "#fb9f3a"
                        ],
                        [
                          0.8888888888888888,
                          "#fdca26"
                        ],
                        [
                          1,
                          "#f0f921"
                        ]
                      ],
                      "sequentialminus": [
                        [
                          0,
                          "#0d0887"
                        ],
                        [
                          0.1111111111111111,
                          "#46039f"
                        ],
                        [
                          0.2222222222222222,
                          "#7201a8"
                        ],
                        [
                          0.3333333333333333,
                          "#9c179e"
                        ],
                        [
                          0.4444444444444444,
                          "#bd3786"
                        ],
                        [
                          0.5555555555555556,
                          "#d8576b"
                        ],
                        [
                          0.6666666666666666,
                          "#ed7953"
                        ],
                        [
                          0.7777777777777778,
                          "#fb9f3a"
                        ],
                        [
                          0.8888888888888888,
                          "#fdca26"
                        ],
                        [
                          1,
                          "#f0f921"
                        ]
                      ]
                    },
                    "colorway": [
                      "#636efa",
                      "#EF553B",
                      "#00cc96",
                      "#ab63fa",
                      "#FFA15A",
                      "#19d3f3",
                      "#FF6692",
                      "#B6E880",
                      "#FF97FF",
                      "#FECB52"
                    ],
                    "font": {
                      "color": "#2a3f5f"
                    },
                    "geo": {
                      "bgcolor": "white",
                      "lakecolor": "white",
                      "landcolor": "#E5ECF6",
                      "showlakes": true,
                      "showland": true,
                      "subunitcolor": "white"
                    },
                    "hoverlabel": {
                      "align": "left"
                    },
                    "hovermode": "closest",
                    "mapbox": {
                      "style": "light"
                    },
                    "paper_bgcolor": "white",
                    "plot_bgcolor": "#E5ECF6",
                    "polar": {
                      "angularaxis": {
                        "gridcolor": "white",
                        "linecolor": "white",
                        "ticks": ""
                      },
                      "bgcolor": "#E5ECF6",
                      "radialaxis": {
                        "gridcolor": "white",
                        "linecolor": "white",
                        "ticks": ""
                      }
                    },
                    "scene": {
                      "xaxis": {
                        "backgroundcolor": "#E5ECF6",
                        "gridcolor": "white",
                        "gridwidth": 2,
                        "linecolor": "white",
                        "showbackground": true,
                        "ticks": "",
                        "zerolinecolor": "white"
                      },
                      "yaxis": {
                        "backgroundcolor": "#E5ECF6",
                        "gridcolor": "white",
                        "gridwidth": 2,
                        "linecolor": "white",
                        "showbackground": true,
                        "ticks": "",
                        "zerolinecolor": "white"
                      },
                      "zaxis": {
                        "backgroundcolor": "#E5ECF6",
                        "gridcolor": "white",
                        "gridwidth": 2,
                        "linecolor": "white",
                        "showbackground": true,
                        "ticks": "",
                        "zerolinecolor": "white"
                      }
                    },
                    "shapedefaults": {
                      "line": {
                        "color": "#2a3f5f"
                      }
                    },
                    "ternary": {
                      "aaxis": {
                        "gridcolor": "white",
                        "linecolor": "white",
                        "ticks": ""
                      },
                      "baxis": {
                        "gridcolor": "white",
                        "linecolor": "white",
                        "ticks": ""
                      },
                      "bgcolor": "#E5ECF6",
                      "caxis": {
                        "gridcolor": "white",
                        "linecolor": "white",
                        "ticks": ""
                      }
                    },
                    "title": {
                      "x": 0.05
                    },
                    "xaxis": {
                      "automargin": true,
                      "gridcolor": "white",
                      "linecolor": "white",
                      "ticks": "",
                      "title": {
                        "standoff": 15
                      },
                      "zerolinecolor": "white",
                      "zerolinewidth": 2
                    },
                    "yaxis": {
                      "automargin": true,
                      "gridcolor": "white",
                      "linecolor": "white",
                      "ticks": "",
                      "title": {
                        "standoff": 15
                      },
                      "zerolinecolor": "white",
                      "zerolinewidth": 2
                    }
                  }
                },
                "title": {
                  "text": "Distribution of X"
                },
                "xaxis": {
                  "anchor": "y",
                  "domain": [
                    0,
                    1
                  ],
                  "title": {
                    "text": "x"
                  }
                },
                "yaxis": {
                  "anchor": "x",
                  "domain": [
                    0,
                    1
                  ],
                  "title": {
                    "text": "P(X = x)"
                  }
                }
              }
            }
          },
          "metadata": {},
          "output_type": "display_data"
        }
      ],
      "source": [
        "fig = px.bar(roll_df, x=\"x\", y=\"P(X = x)\", title=\"Distribution of X\")\n",
        "# fig.write_image(\"die.png\", \"png\",scale=2)\n",
        "fig"
      ]
    },
    {
      "cell_type": "markdown",
      "id": "f44d0eba-4671-420a-93c7-3cce60c0b8c8",
      "metadata": {},
      "source": [
        "Let $X_1, X_2$ are the outcomes of two dice rolls. Note $X_1$ and $X_2$ are i.i.d. (independent and identically distributed)."
      ]
    },
    {
      "cell_type": "markdown",
      "id": "e70994a3-39b6-4813-9198-2736cbbf554f",
      "metadata": {},
      "source": [
        "Below, we simulate an 80,000-row table of $X_1, X_2$ values. \n",
        "\n",
        "The code uses `np.random.choice(arr, size, p)` ([documentation](https://numpy.org/doc/stable/reference/random/generated/numpy.random.choice.html)) where `arr` is the array the values and `p` is the probability associated with choosing each value. "
      ]
    },
    {
      "cell_type": "code",
      "execution_count": null,
      "id": "ceec826e-409d-4929-b4cf-2572fd0301be",
      "metadata": {},
      "outputs": [
        {
          "data": {
            "text/html": [
              "<div>\n",
              "<style scoped>\n",
              "    .dataframe tbody tr th:only-of-type {\n",
              "        vertical-align: middle;\n",
              "    }\n",
              "\n",
              "    .dataframe tbody tr th {\n",
              "        vertical-align: top;\n",
              "    }\n",
              "\n",
              "    .dataframe thead th {\n",
              "        text-align: right;\n",
              "    }\n",
              "</style>\n",
              "<table border=\"1\" class=\"dataframe\">\n",
              "  <thead>\n",
              "    <tr style=\"text-align: right;\">\n",
              "      <th></th>\n",
              "      <th>X_1</th>\n",
              "      <th>X_2</th>\n",
              "    </tr>\n",
              "  </thead>\n",
              "  <tbody>\n",
              "    <tr>\n",
              "      <th>0</th>\n",
              "      <td>6</td>\n",
              "      <td>6</td>\n",
              "    </tr>\n",
              "    <tr>\n",
              "      <th>1</th>\n",
              "      <td>3</td>\n",
              "      <td>4</td>\n",
              "    </tr>\n",
              "    <tr>\n",
              "      <th>2</th>\n",
              "      <td>3</td>\n",
              "      <td>4</td>\n",
              "    </tr>\n",
              "    <tr>\n",
              "      <th>3</th>\n",
              "      <td>2</td>\n",
              "      <td>5</td>\n",
              "    </tr>\n",
              "    <tr>\n",
              "      <th>4</th>\n",
              "      <td>1</td>\n",
              "      <td>6</td>\n",
              "    </tr>\n",
              "    <tr>\n",
              "      <th>...</th>\n",
              "      <td>...</td>\n",
              "      <td>...</td>\n",
              "    </tr>\n",
              "    <tr>\n",
              "      <th>79995</th>\n",
              "      <td>1</td>\n",
              "      <td>4</td>\n",
              "    </tr>\n",
              "    <tr>\n",
              "      <th>79996</th>\n",
              "      <td>1</td>\n",
              "      <td>3</td>\n",
              "    </tr>\n",
              "    <tr>\n",
              "      <th>79997</th>\n",
              "      <td>6</td>\n",
              "      <td>3</td>\n",
              "    </tr>\n",
              "    <tr>\n",
              "      <th>79998</th>\n",
              "      <td>2</td>\n",
              "      <td>6</td>\n",
              "    </tr>\n",
              "    <tr>\n",
              "      <th>79999</th>\n",
              "      <td>1</td>\n",
              "      <td>5</td>\n",
              "    </tr>\n",
              "  </tbody>\n",
              "</table>\n",
              "<p>80000 rows × 2 columns</p>\n",
              "</div>"
            ],
            "text/plain": [
              "       X_1  X_2\n",
              "0        6    6\n",
              "1        3    4\n",
              "2        3    4\n",
              "3        2    5\n",
              "4        1    6\n",
              "...    ...  ...\n",
              "79995    1    4\n",
              "79996    1    3\n",
              "79997    6    3\n",
              "79998    2    6\n",
              "79999    1    5\n",
              "\n",
              "[80000 rows x 2 columns]"
            ]
          },
          "execution_count": 17,
          "metadata": {},
          "output_type": "execute_result"
        }
      ],
      "source": [
        "N = 80000\n",
        "\n",
        "# roll_df[\"x\"] are the values 1 through 6\n",
        "# roll_df[\"P(X=x)\"] is a column of a constant 1/6, since all faces are \n",
        "# equally likely\n",
        "sim_rolls_df = pd.DataFrame({\n",
        "    \"X_1\": np.random.choice(roll_df[\"x\"], size = N, p = roll_df[\"P(X = x)\"]),\n",
        "    \"X_2\": np.random.choice(roll_df[\"x\"], size = N, p = roll_df[\"P(X = x)\"])\n",
        "})\n",
        "\n",
        "sim_rolls_df"
      ]
    },
    {
      "cell_type": "markdown",
      "id": "a75854f6-dd31-4b01-b5fa-c36115a467d8",
      "metadata": {},
      "source": [
        "We can use our simulated values of $X_1, X_2$ to create new columns $2 X_1$ and $X_1 + X_2$:"
      ]
    },
    {
      "cell_type": "code",
      "execution_count": null,
      "id": "f09f6b7d-241b-4fcc-ab72-e4d15da3ea8a",
      "metadata": {},
      "outputs": [
        {
          "data": {
            "text/html": [
              "<div>\n",
              "<style scoped>\n",
              "    .dataframe tbody tr th:only-of-type {\n",
              "        vertical-align: middle;\n",
              "    }\n",
              "\n",
              "    .dataframe tbody tr th {\n",
              "        vertical-align: top;\n",
              "    }\n",
              "\n",
              "    .dataframe thead th {\n",
              "        text-align: right;\n",
              "    }\n",
              "</style>\n",
              "<table border=\"1\" class=\"dataframe\">\n",
              "  <thead>\n",
              "    <tr style=\"text-align: right;\">\n",
              "      <th></th>\n",
              "      <th>X_1</th>\n",
              "      <th>X_2</th>\n",
              "      <th>2 X_1</th>\n",
              "      <th>X_1 + X_2</th>\n",
              "    </tr>\n",
              "  </thead>\n",
              "  <tbody>\n",
              "    <tr>\n",
              "      <th>0</th>\n",
              "      <td>6</td>\n",
              "      <td>6</td>\n",
              "      <td>12</td>\n",
              "      <td>12</td>\n",
              "    </tr>\n",
              "    <tr>\n",
              "      <th>1</th>\n",
              "      <td>3</td>\n",
              "      <td>4</td>\n",
              "      <td>6</td>\n",
              "      <td>7</td>\n",
              "    </tr>\n",
              "    <tr>\n",
              "      <th>2</th>\n",
              "      <td>3</td>\n",
              "      <td>4</td>\n",
              "      <td>6</td>\n",
              "      <td>7</td>\n",
              "    </tr>\n",
              "    <tr>\n",
              "      <th>3</th>\n",
              "      <td>2</td>\n",
              "      <td>5</td>\n",
              "      <td>4</td>\n",
              "      <td>7</td>\n",
              "    </tr>\n",
              "    <tr>\n",
              "      <th>4</th>\n",
              "      <td>1</td>\n",
              "      <td>6</td>\n",
              "      <td>2</td>\n",
              "      <td>7</td>\n",
              "    </tr>\n",
              "    <tr>\n",
              "      <th>...</th>\n",
              "      <td>...</td>\n",
              "      <td>...</td>\n",
              "      <td>...</td>\n",
              "      <td>...</td>\n",
              "    </tr>\n",
              "    <tr>\n",
              "      <th>79995</th>\n",
              "      <td>1</td>\n",
              "      <td>4</td>\n",
              "      <td>2</td>\n",
              "      <td>5</td>\n",
              "    </tr>\n",
              "    <tr>\n",
              "      <th>79996</th>\n",
              "      <td>1</td>\n",
              "      <td>3</td>\n",
              "      <td>2</td>\n",
              "      <td>4</td>\n",
              "    </tr>\n",
              "    <tr>\n",
              "      <th>79997</th>\n",
              "      <td>6</td>\n",
              "      <td>3</td>\n",
              "      <td>12</td>\n",
              "      <td>9</td>\n",
              "    </tr>\n",
              "    <tr>\n",
              "      <th>79998</th>\n",
              "      <td>2</td>\n",
              "      <td>6</td>\n",
              "      <td>4</td>\n",
              "      <td>8</td>\n",
              "    </tr>\n",
              "    <tr>\n",
              "      <th>79999</th>\n",
              "      <td>1</td>\n",
              "      <td>5</td>\n",
              "      <td>2</td>\n",
              "      <td>6</td>\n",
              "    </tr>\n",
              "  </tbody>\n",
              "</table>\n",
              "<p>80000 rows × 4 columns</p>\n",
              "</div>"
            ],
            "text/plain": [
              "       X_1  X_2  2 X_1  X_1 + X_2\n",
              "0        6    6     12         12\n",
              "1        3    4      6          7\n",
              "2        3    4      6          7\n",
              "3        2    5      4          7\n",
              "4        1    6      2          7\n",
              "...    ...  ...    ...        ...\n",
              "79995    1    4      2          5\n",
              "79996    1    3      2          4\n",
              "79997    6    3     12          9\n",
              "79998    2    6      4          8\n",
              "79999    1    5      2          6\n",
              "\n",
              "[80000 rows x 4 columns]"
            ]
          },
          "execution_count": 19,
          "metadata": {},
          "output_type": "execute_result"
        }
      ],
      "source": [
        "sim_rolls_df['2 X_1'] = 2 * sim_rolls_df['X_1']\n",
        "sim_rolls_df['X_1 + X_2'] = sim_rolls_df['X_1'] + sim_rolls_df['X_2']\n",
        "sim_rolls_df"
      ]
    },
    {
      "cell_type": "markdown",
      "id": "c426ce79-473f-4189-99e4-5f1a6f7a0bc3",
      "metadata": {},
      "source": [
        "Now that we have simulated samples of $2 X_1$ and $X_1 + X_2$, we can plot histograms to see their distributions:\n"
      ]
    },
    {
      "cell_type": "code",
      "execution_count": null,
      "id": "4fa29cc7-1110-46ba-8f78-04c4e797bfff",
      "metadata": {},
      "outputs": [
        {
          "data": {
            "text/html": [
              "<div>\n",
              "<style scoped>\n",
              "    .dataframe tbody tr th:only-of-type {\n",
              "        vertical-align: middle;\n",
              "    }\n",
              "\n",
              "    .dataframe tbody tr th {\n",
              "        vertical-align: top;\n",
              "    }\n",
              "\n",
              "    .dataframe thead th {\n",
              "        text-align: right;\n",
              "    }\n",
              "</style>\n",
              "<table border=\"1\" class=\"dataframe\">\n",
              "  <thead>\n",
              "    <tr style=\"text-align: right;\">\n",
              "      <th></th>\n",
              "      <th>variable</th>\n",
              "      <th>value</th>\n",
              "    </tr>\n",
              "  </thead>\n",
              "  <tbody>\n",
              "    <tr>\n",
              "      <th>128252</th>\n",
              "      <td>X_1 + X_2</td>\n",
              "      <td>10</td>\n",
              "    </tr>\n",
              "    <tr>\n",
              "      <th>105628</th>\n",
              "      <td>X_1 + X_2</td>\n",
              "      <td>6</td>\n",
              "    </tr>\n",
              "    <tr>\n",
              "      <th>39602</th>\n",
              "      <td>2 X_1</td>\n",
              "      <td>4</td>\n",
              "    </tr>\n",
              "    <tr>\n",
              "      <th>136543</th>\n",
              "      <td>X_1 + X_2</td>\n",
              "      <td>7</td>\n",
              "    </tr>\n",
              "    <tr>\n",
              "      <th>28592</th>\n",
              "      <td>2 X_1</td>\n",
              "      <td>6</td>\n",
              "    </tr>\n",
              "  </tbody>\n",
              "</table>\n",
              "</div>"
            ],
            "text/plain": [
              "         variable  value\n",
              "128252  X_1 + X_2     10\n",
              "105628  X_1 + X_2      6\n",
              "39602       2 X_1      4\n",
              "136543  X_1 + X_2      7\n",
              "28592       2 X_1      6"
            ]
          },
          "metadata": {},
          "output_type": "display_data"
        },
        {
          "data": {
            "application/vnd.plotly.v1+json": {
              "config": {
                "plotlyServerURL": "https://plot.ly"
              },
              "data": [
                {
                  "bingroup": "x",
                  "histnorm": "probability",
                  "hovertemplate": "variable=2 X_1<br>value=%{x}<br>probability=%{y}<extra></extra>",
                  "legendgroup": "2 X_1",
                  "marker": {
                    "color": "#636efa",
                    "opacity": 0.5,
                    "pattern": {
                      "shape": ""
                    }
                  },
                  "name": "2 X_1",
                  "orientation": "v",
                  "showlegend": true,
                  "type": "histogram",
                  "x": {
                    "bdata": "DAYGBAIGDAoIDAgEBAYGCgIGDAIECAgCCgoECAwGCgQEBggIDAQICgQKBAwCBAwICAwIBAYKBgQICgoMCAYGCgQICAoGAgQKAgwCCAIICAYGAgYEAggGAggMBAYIDAgCBgQGBAQKBggCBggEBgIMBAQMBgwKCAwCDAoCAggCCAIIAgQGCgYEBAwIDAwCAgQGDAYEBAIKDAIIBgwMDAoCBAoGBAwEDAYKDAwCDAoKDAwKCgQCCAQCCAoCAgoEBAgKCgIMCgYGCAoICgIIBAIEDAgCBAoMAgQMBgQECgwEAggEDAIMDAoMAgIMBAICBgYKBAQEBAQCCAQKDAYGBgQCBAQGCgIKCgoCBAQGDAoKCgIEBgQEBgwCCAwMDAIGDAIEBAIEAgwEAgQMDAgCCgQICAICBgYKCgYEDAwCBAIKCAQGAgYEBggGBAIMBAYMBAgEBAgGDAwGCgQGDAICBAQCBAoKCggGAgYGDAYCCAgMDAgCBgwKBggKAgQCBAYICAQEAgYKCggKDAoECAoMBAQIDAIEDAgEBAwKBgICCAoICgoCBAwEAggMBAIKDAgCBgYIDAgCCgYEBAYMAgwEBAwKAgIKBAYGCAIIBAIGAgIGAgoGCggCBAICAgICBgoKAggGAggGBAQEBgIKCgIGAgwGDAQMCgoGCgYIAgwKBAIECAIKAgIECgYMCggMBAQGDAoMCAQGDAQEAggCAgYKAgQMCgoMCAQKDAQIBgQGCAQIAggGCAIMAgwCCgQMAggIAgwKCAQKDAQECgQGDAIGDAQMCgQIBAgEBgIIDAQGBgQMCgIIBgoIAggCDAgMBAYECAoIDAIECgwKBAYCCAgMCgQKCgwEBgwMBAwIAgIICgQCAgQMBAgIDAwIDAYCAgwGDAQMDAYMAgoCCAoCCgwIDAYKDAgCCgYKBgIGBAoIDAQMBgIICAIEBAQGBAwCBgYCAgYKCAoECAwCBggIAgQGBAgKBgQCAgwECgYCBgoMCAwIBgIGCAwGCgQCCgwIBggIBgIEAgoCBAIGDAQKBAYCDAQMBgwKBAoCAgwEAggGDAQMBAgGBgoMCAgMAgQEBgwCCgQGDAQCBAICDAgKCAYGDAoMDAYCBAwKBAoKDAoKBAgMDAYGCgIIDAwKCAwKBAQCCggMCAYMCgQICAgMCAwCBgoEAgwCDAgGCgQKCgwKBgIMCgIKBAgKDAgECgYIAgoMAgYCCAoCBggKDAIEAgwCCAYICAwCDAwKCggGBAYMAgIECgYCCgoKDAIGCggIDAoGAgwKAgoIBAQKAgoCAgwIAgQGBAIGBAIMBAICCAwCBAIEDAIIDAwMCgICBAIKBgYGCAoKCgwEBgwMBgICBgQGBAIMBgYIAgQIBgIGCAQEBgwGBAQMCAQECAQGBAoKBgYICgQGCgwMDAoGAggGDAgEDAYIBAwGBAIIDAwMBAoMDAIKDAgECAwIDAQEBggGBgYICAgKDAYCAgIEAgwKCgoICAIKAggCBAgCCgIMCgIGCAgKDAYCAgoMCAIKBgICCgoCBgYKCgwCCgYGCAYIDAoMBggCCgQICAgMCAwCCggMBAQIDAgKBAoKAgQMBgoCBgwGBAIEBggKBAgMDAwMBAwGCAYKBgQEBAwIBAgCCgYCAggGAgwEBgoMAgwCBgIECgQECAICBgYIBAIGCgQIDAQMAgYEDAIMBgQCDAIMBAQECAoGCgwKAgIMAgwKDAYMBgYIBgoICggCDAIKAggCDAgEAgwMBgoCCAQGBgoCDAoCBgYMCAgMDAoIBggGAgoIDAYMAggMCAYMCAQIDAoECgwKDAoMDAQKCAoGCAgKDAoGBAQGDAYGDAgMCgYGCAQCCgwMDAIECgYICgoCAgYCCAgKBAoMAgwECAIKCAQKBggEBgYECAYKBAoCCgoMCgIKDAoMBAoECgwCCggGCAwIAgoIBAYIBAYGBAIEBAwIAgYGBgwKBAwGBggIBAIKCAgICgIMBAoCDAoEAggGCgYCCgYEDAYGBAIGBAICCgoEAgIEAggKCgoMDAoECgYIDAgCDAwECgIMCAQMDAoGCgwICggMCAYIAgIIBAYKBAICDAwIBAQGDAoCDAYKCgwGBAoECgIMBAwKBAoMAgwCBAIIDAIMCAQMCgoCCgIGBAwGAgIKDAoKDAYKCAQGBAICAgwCBgICCgwICggICgoCBgQICAIMBAIGDAwMAgoMCAgGCAwEBAQKCgoCDAwMCAQGCgoMDAQICAQCBggECgYKAgQIBgQEDAgGCggEBgQMBgoICgoGCgoKCAQICAYMCgYIBgQEBgIGDAYIAgQCCgYEDAYGCAoMCgICDAoCAgYKCgoGAgwKCggMDAwIAggGCAYMCgIECgYKBggEAgYEBAQIAgYECAIIBgoGBAwECgoCBgQCCAYMCAwEAggKDAwMCgQMCgQCBAIIBggIDAwKCgoECAQKCAoEBAYGDAYMBAIKCAgMBggMAgoMDAIECgQIAgIGAgoGBAwMDAIECAgEBAwEBAgGCAoICgoECAIKBAoCBgIGCgQIBgoMCAgCCgYKBgQGBgwCBgIMCAIEDAoEAggMBgoEBAoCCAoKBAoECgwCBggEDAoCDAYKAgwKBggKDAIKBgoGDAgGAggIDAIMCggCBAwMBAoMCAgIBgYIAgoIAgQECAgGCAgGBgQKDAYEDAgKBAQGBAYGAgIEBgoICAwCBAgECgQKCAQIAgwCCAQMBAwGCAoGCAIMBAQMBAQIAgwMCAgMAgYKCAoGCAQECAYGDAwIDAoCBAYGCAwICgwEAgwKCgYKDAYECgYIDAwEAgoGDAwECAoKDAYMAgoCCgoEBAwCCAoECggEAggKDAgECgoICgIMBAYCBgYMAgQMAgQKAgwECgIECAIMCgoMAggEBgYICAQEBAwGCgYKDAYEDAgGDAIEDAoCBAQEBAIKBgQCDAIGAgIEAgQMDAQECAIGAggCBAoEBAwECgoGDAgMAggKAgwKDAIECggICAoGBAwEBAIKCgYEBggECAgMDAIIBgoGDAwEBAgICgoEAgoGCgIKBgIMDAgMCggKBgIKAgYIBgQKDAQGAgIICggCDAwIAgIIBAwECgoKBgoGCAICDAQCDAwGBAQECAQCCAwCBgwECAoEBggEBgQGAgIIBgQKBAQKDAgKCgoCCgIEAgQKCgQECggMDAoMAgoKBgYIBgoGAggKCAoMCgIGCgQGAgwICAIGCAICBAIGCAYEAgwMBgQEDAgMBgYGBgoMCgQKDAoMCAIGAgYMAgYMCAIMBAgCBAwMAgoIAgYKCgoMBgIICggMBggCDAIMDAoIBgIIDAQMBAoECggGBAoCBAoGBgQKAgYMDAwCCAgCAgIGCgoKAgYEBAgIBAwIAgQMCgYGDAIGBAwIBgwGDAoCAggIBgwIDAQIBggIDAwKDAgKBgoIAgoGDAoIAgQIDAIICgwGAgYKAgIEBAwMBAIMBgYCBAYGCAoKDAoIAggMCAIMCgIKBAICDAoKCggECAwGBgYCAgoCAggMCAoMCAYEAggGAgwKAggECAQICAYIBAQECggKBAwIDAQICgoCAgIIBgQMCAYMAgoKCAwICAgGAggCDAgCAgIKAgwEAgwEBAwKDAQMAgwMAgQGCggEBgQGDAgEAggCDAwKAgQCBAIGDAwGCggEDAYMAgwEBgwGBAYIBAQGCgIMAgoMCgoGCAIKBAIKDAoGBgYGBAwCAgYCCAYKAgICDAoKBAQCDAwKDAIIDAYIAgQICgQIBgYKBAQMCAgGBgwECAoIAgYIBgwMBgQIAggECAoGCgYCCgYKCggGCgIIAgoKBAYCAgoEDAgKBgYGAgYKAgYGAggCBAgMAgwIBgoCDAgEDAoCCgoEBAYECAQMBgoMDAIKDAIMDAIEAgIMBggMAgYKDAYICggGAgIEBAoGDAwEAgwGCAgEDAoIAggKDAoKCAwICgQCBAIGDAQKBAgIDAQMCAwGDAQIBggCBAQKBAYKBAYEBAwGCAgKBgIKBAQMAgQGBAoKDAwIBgwKAgwIBgIKBgoKCgIMDAoCCAIMCggIDAgCCgwKAggCBgYKDAoGBgwGBAoKCgQKBAwECAQGCgwICAgIBgIICgYMDAoICAQKCgIGBgYCCgoCDAwGBAIMBgYCAgoGBgYGBAoCBgYICAgMCAQEAgoCAgIECAQECAgEBAwGBAgECAoKAgQICgwEBgoKCggGCAIMBAYMCAYKDAIGBAYCCAQMBAIEBAgMCAICBgYCCgYMAgIMBgIEBAQGDAgMDAoMCAoIBgYEAgoKCAoIBAoGBgoMCgoEDAQGCgYGBAwCCgQGDAoMAgwKCgoGBAYMDAoMCAYGCgoKBgIMBAYGCAgKBAIICAwIBgwMBAIGBAYMCAoIBAwKDAgECAwMBAQGBAgCDAYIAgIGAgQCDAoMDAQKBgoIBgwEDAYGCAIMCgoKAggKCgIEBAYCBgQCCAoICggCAgYKBAYGBgoGBAoEBAgECAgECgoMCgIKBAoGAgICBAoGCgQCCgQMBAoMBAgEDAQGBgoCBggMDAYIBAIEDAwMBgIGBgoMAggMDAYCBAoKBgwIAggEBgYKBggCBgIMBAQEDAIEAgoGDAIMBAoCAgwCBggMAgoEBgIGBAYKDAQKDAgCDAQKDAgIDAIKAgwGAgIGBgQCAgYICgIKAgQMBAgMDAQECgYMDAwGCAIMBgICAgoGBgwCCAoEBgwIDAwGBAIMAgwGCAoIAgYIAggGCgYCDAIKBgwIBAwGDAgGAggCBAgEBgoMCAwIBgwCCggEDAQIAgQKDAQCCgoMBAYMBAwCDAoGCgYEAggIBAYKBgIKCAIICAwGAgQECAYCBgYIAgIGBgIGCgwEAgQCAgQCCAwGAggKDAICCggEBgIMBgQMBAgGBAIEAgoGBgwKBAYICAgICAYGAgoCBAICCAIKCgIIAgQKCAYEBggICAYEAgICDAwEBggCAgYIBAQECAwIDAgEDAQMDAoGBAoMDAoGAgwEAgQKCAgIBAQGBAYEBAoECgQECgIKCgYEDAQCCAgKCgYEAgYKBAwKBgYEBggCBgQCAgYIBgQMBggCCAYKCgoEDAwIBgQKCgoICgwGBAYICgoIAgIIDAQCAgoCBgIGDAQGCgIGBAoCDAoMBggCBAgEAgoCCgIMBAYCBgQMDAoIDAwIBAgGAgQCAgwMCgYGBgQEDAgGDAIMDAIICAIEAgoIBgoGBgoKCgoGBgIMBAgKCAgKCAwICgoMCAQKDAQKDAQICAIMDAQGBgQIDAYKBAIMAgIMAgIMCAQIBgQKBAQEAggCBgIMAgYICAQMCggMCggKCAYEAgQIBAIMBAQECgQKBgYCAgIEDAQECggICgYMBgIMDAwMAggMBAQKCgQIDAIGDAYMBgwKCgYIBAoECAYMDAYGBAYGCgwCDAwICgYCDAoMAgwICAgKBAwICAIKBgIIBAoMAgwECAQMBgYICggEAgQGAgwIBAoMCAgCCAYEDAoGCgYCDAQMBgIEAgoMBAQMBAwCAgQMBgYECgwIAgQECAwGBAIIBAYEBgYKDAQECAIIAgwEDAwMCAQMBAoKBAIGDAIIDAoIAgIMBgQIDAwIAgoGCAgKBgwICgIKCAQMCggGAgQMAgoECAgICgYKBggMCAoICAgKCgoMDAQGAgIICAwKCAQIBAwIBAQEBAQCBAwICAQECgYGBgoICgYCBggCDAwCCgYMBAIIBAYKDAgKAgQGCgwICggKDAYGAgwCCgoIAgwEDAwKBAgGDAQMBgoEAgwGBggKBAoKCAwGAgQMCAQECgQMBAQCAgIKBAwMAgwIAgIGCgIICAoCCgYMDAYEBggCCgQKDAwCCggKBAYECgwGDAwICAQEAgQCBAgEBgQIDAwGBgoMDAoIBgYCCgoGBAoCBAgECAgKBAYIBgoEAgYGBAgKCAwEAgQGBgQCBAoGBgYKCAgICAoICAoKCggGAgoGCAgKCgwMDAYKBAICCgwEBgIMCAQKCAoMBAwGBgYCCAYIAggGAgIICgIKCgwGDAQMAgQMBAIGAgYEBggKAgIIBAQMDAoMDAIKDAgMAgoKDAYKCgIEAgYIAgoGDAgKAgICAgwCBAQKDAIMDAIEBggICAYIBAgEBAIMCgIGCgwGCgwEBgQMBgIKBAICBgQICgwIBggMDAoGCAwCCgYEAgwMCgoICAQGDAgMCAQKAgQECAwEDAIGAgQMCAgKDAQMBAgCBAgEDAwMAgoEBAQKBAYEBgIGAgwGAgIECgYMBAwKCAQGBAgGAgwICAoKDAoIAgwKBggEDAgEDAwICAYGCgICDAQKBAYMAgQMDAwKBgQKCgQMCgoKCgoKDAwKCAYKAgoMCAoEBggGAgQIBAYECgwECgQKBAgCCgQCBAgCCAoMDAoGBAgMAgIGBAIMDAQEBgwCBgwEDAQECgICAggEDAIGDAIEAgoMCAwIBgwKAgQCCgQGBAgIBgIGCgQMAgwIAggGCAIKCgoMBAoCBAQIDAQMCgQGBAIMCgIMBgIMCAwCDAgGAgoEBgYMAgQGAgIKDAgEBAgGAgYIBAwCBAIGDAQGBgIKBgoGBgQCCAoKAgYIDAoEAgQIBAgCBAYICAoKBggECgwEBAYCAgYCBAQGBAIIDAoKCAgCBAgIBgoGCgYGBgQGAggEBgIMBgYMCAgECgIMBgQIDAYECAIKBAQCBAwIAgQGBAQECAgMBAoCBAQIBAIICgoMCAoMCAgMCAQIAgYMCgIKBAIKCgQEAgwICAQIBgwCBgwGBgIIDAgKCggGDAIGCAgIDAIKBgICAgwGBgYMCAgCBgIGCgYKBgYIBAQIBAoCBgwGCggMCggIBgoGCgwCBgYMCgwEAgwMBggCCAoGDAgCAgoKCgoICAgGBgIEBggIDAQKBAYIAgoECgoKBAYGBAwCBgQKAgwCBggICgQIDAIEAgYGAgIMCgYGDAoMCgwCBgwMCgYGDAgIBAoMBgYMAgwGCgQIBgQKBAQGDAYMCgoGCgIKCgYCBAwIDAQMDAQMBgYKCgwEBgoMBgYEAgoKBggIAgIECAoMCggMDAQKCgQCAgoKBgIGBAIKBAIIBgQECAIIBgwGBgIMAgQKBAoEBgYIAgwMCAgCAgYECAwKBgICAgIGCgQIBgwEDAQKBAgKCgwEBgwECAgIAgwEDAgEAgYMBgYCCgoEDAgGBgYICggMAgYMCAwMCAYIDAQMBAYKAgoCBgQGAggIBgQMBAgMCgoGCggCAgYKBAoCCAYIBgYCBAwKDAwICgoEAgwGAggMBAIICgYIBgIIBAgMCAYCCAoGBgICDAQKCAgEAgQGAgoIBgYGCggCBAQCDAYGBggGBAQECAwMCgQMAgwIBAIEDAoECAoCAgoMBgwKBAoECAYGCAIIBggECgwIBgYMBAIICAwMDAwMDAwIBAgGAgQECAwMBgwCCgYCCgQGDAgGAgwIAgQKCgYEDAIEDAIMBgoKDAgEDAYKDAwMCAYKCAwGDAYMDAoCAgICDAwGCgYECgIMDAgGDAgECgwMBAQKBgoEBggKAgoEBgQGCAYEBgQEBAwECAQCBgQEBAYCBgoKBgYMCAICBAwKBgwEAgwIBgQICAIEDAwGBAoGDAoKCAoEBgQKCgIICgYMAgIGCAoKCggKAgYKBAoICAQIAgYMBAQMCAgGDAoICgwECAQKDAwMBgIKBgQGCgYCCgYMAgQGDAYMCgYGDAoCBAwMDAoEBAgEDAQGAgIICAIIBAgKDAoCBgIGBgIIDAIKBgoGBAgIAgYKCgYKCAQKBgYKDAoMCgQCCggICgwIAgQCBgQKBAoIAgQICgwICgIICgIGCgYEBggGBAYGDAIMAgQGCAwKBAgCCgYGAgYIBAgCAgQECgQIBAgMCAQCAgoEBgYKAgwCBgQCDAgGBAQKCgQMAgwGBAoMBAwKBAQMCAwCCAYGDAICAgoMBgIEAgQGCgwEBgQEBAgICgYGBAoGAgoMBAwMCgYKBAoGCgYGDAoMBAYGBgwMBgYKBAIICgQEBggGCgIECAoGCAoCBAYCBAwGCgYKCAwEBAwIDAIGBAwMCgIMBgIMDAoKCAQGBAoMBAQECgQCCgQEAgIGCAoMCgoEBAQCBAQCCAQGAgwCDAgICAYCCAoGAggGAgIGBgQKCgwKCAgICAIEBgIMCgQKBAYIBAoEBAQMCgQKCAICAgQMDAgGDAgGBAYIDAQKCgICBAoKBAoEBAIECgoEBgQECggIDAQGAgwEAgQECAgGBAIKDAQCAgwECAQGDAwEBgYEAggEDAQIBAoIAggKCgoIAggGCAoKCAoKDAQCBAYKAgIICAwKBgwGBggCAgwGBAQKCgQMDAoMDAQICgQGBgICCAYMBAoIBAYMBAoGCAgMCAoGBgQIDAoICAwIAggIBgYMBAIECAIECggGBgQGAgwIBgIMCAwIAggIBAgCCAICBgQGBAIMAgoIBgIMCggMDAQICAoGCAgMBgIGAgYMCgoCAgQEBAYCDAoMCgoKBggGBgoGCgwCCgoIBAoEBgQKCgIEBAYCBgwCCAQKCAYEBAgCCAQGAgQCCAoCDAwGAgoCDAgKCgoIBgYIBggKCgQGAgICCgoMBgoMBAgGBgwMCAQGCAQGAgYEAggKDAoICgoIBgQECAYEAggMCggICgIKDAIICAgKBgQEDAIMCgQMBgYMCAwEDAIGCAwCAggEBgoMCAgMDAoKCAICDAwIBAgMBAQKCgQMAgwMCgwIBgIECAQECAwGAgwICgoCBAgKAgQEDAgICggCCAQMBggICgIMDAwCCgIEBAgKBAQCDAoMCAYIBgwCAgQCAgwCCAoCDAoIDAoCDAIEAgYMAgoKCAwEBgoKBAYEAgIKBggECgIGCgICDAgGAggCCAQKBggECggGBAYGDAYMCgoGBAYKDAwKCAYMBAQMAggCCggMAgYEDAgECAoIDAwICAgIBAoCBgoGBAIIBgQGBAwKDAYCDAYCCgwGBgYEBAYCCggEBAgGCAwCAgwICAYMBgwICgIKCAIGAgQIAgYGAgYMCAgIBAICDAwKBAYKDAoEBAwGDAYCDAwICgQICgYMDAwIBggICgoCCgYMAgwGBgoGBgIGBAQEAggKBAIGAgQMBAoEBgYIBAoKBAIGBAQIBgQGBAwIAgIMBAgKAgYEBggGDAIEBgYMDAIIBggGCgoECAoGAgQEBgQGBgoICgwKBgYGBgwKCAoGBgwEBgQMCAYEDAgKBAIIAggCBAQMCAoIBAYMBgYIAgQGCgYMBAoCCAwKBAYMBAIKCAgICAwMBAoKBAwMDAgGCAYMBAYCBAoIAggKCggICgwKBAwIBAgMAggCAgwECAIECgYMBAwKAgwKCAIKBggGAgwEAgwCCAgEBAoMDAYCDAoCCAQICgIECgIMAggGDAwGBgwMAgYKCgYEBggEDAIECgQCCgQECgIECAYECgwGBAIKBAICBggMBgwIBAQKCAwIAgIGDAYCBgIICgoMCAQIBgoICAYECgIEBgQICAIICAIECgYEBgwGDAQCDAwIBAQKBggCBgIIDAQIAgwCCAoGCgICDAoMBAoEAgoEDAQMCAgGBgICCAoCBAgECgwMBggCBAoMDAgICAYEAgYKBgQGCggICggGAgQEDAgMBgwIDAgCAgwICAYMAgoCAgICBgwKDAQKBAIEAggICgICAgIKDAwKDAQGAgoMDAIKAgQCAggGDAwIAggEBgYGCgoEBAgMAgYMDAQCCAgCCgIMAgQMCAYEAgoMCAYKBggMAgQIBAYIBggMCAYGBgYECAYCAgoGBAQEAggMDAoGCgIGCgIKCAQKCgICCggKBAYICggGDAIEDAwIAgoCCggMCAwKBAYKCAYIAgQKDAQGBggIBgQKBAIECAQCDAoIBggCBgwIDAIEBAoMBAgCCggKAggGCAgKBAYEAgIGCAoKCAwEAgoCCAICCAYECgQGDAgMAgoIBgICBgYCCAoIAgwIDAIMCgQGDAYGAgYMBAQEBggEBAoGBgwIBgoEBgoMBAYGBAoKCgIMCgoMBAoIDAIIAgwIBgwEBggKBgwIBgoEDAgCBgoKCAwGCgQCBAYEDAwKCAwCCAgMBAQEAgwCBggGAggCCAIMBAQICgYMBAwGAgoMBgYMBgIICAwGDAwGBAwGCgIMCggIBAYEBAwCCgoIBAoGCggKCgIEBgQGDAQICAQIBgwCCgYECgYEBgIKCgwCAgYCAgYKDAwMBgoCBAIKDAoGBAICCgYGCAIGCgwIAgwCCAYCBgoKDAoMCgwMCgICCggKCAYKAgQMCgIGCgwMDAwKBgoMAgYGBgwIAgQMDAIKCggMDAQIDAYIBgIGCgYCBggECAwGBAIKBAgCDAoMDAoKAgIMAgYGAgYKBgoMDAQCAgIMDAYCAgQEAgQEAgoEDAIEBAYEDAgICAQKAgwMBggEDAoGDAwIBAgKCAYKBggEBAgIAgQCCgQCBAoIAggMBggIDAIKCAQCCgoGDAwECAoGCAIMBgwICgIKBAYEBAwCBgYKBgwCDAIKBgQMAgoICAIEDAQCCgQMCAQKCAICAgoCBgQGBAQKCAwKCgwIBgwMCgIGAgYCCAgGCAoMCAIIBgIMCAYGAgoCCAQGBgoCBAwGDAIMAgQMCAQGCgwEBgYGCgQGBgQICAYGCAoCBAwIBAgCBgoKCAgICAwGBAoIDAwKDAgGCAgCBAwMCAIIDAgKBAIECAIEBgQGCgwKBgoCBgYICggEBAwMAgIGBgIEAgICDAYKBAoKAgYKBAYCCgQCBAoIDAgMDAwMDAYGCAQIAggMBggIBAICBgIKBgwECgoKCgwKBAoIBgYIDAgMDAoMDAwGCgQIBgIMDAwECAIIBgwGDAYICAwGDAgCBgYMBggMCAwCBAgCCgQEBAoKCAgCDAwMDAgGBgYKDAwKCgYEDAoGAgwCCAoECgoGBAYGAgoICgwGAgICBAwKCgIEAgYCBAwGAgYMCAIKCgQMCgwICAIICgwMBgYGAgoIBAwECgwEBAIKCAYIAgoEBAwECgwKBgYEBAoGCgQEBgQMCAIKAgIICAYCAgQKCgwECAwIBgIIBgoMBAoIBggCAgoEAgQMAgwMDAwGBAIKBAgGCAYECAYIBAQCBAYCBgIIDAoGBAoGAggMBAIMAgwGBgICDAwMBgYMBgoIAgIICAwMBgQMAgYEBAICBAwKAgoMAgoMAgoMBgIKBAwIBgwGCAoGBAIICAYKBAwMBgwIBAgECAQCCgQKDAoCBAwKBgwMBgoICgIEDAICAgQMCAQIDAYMBgwMCgwICggKAgYEAgIKBgQMCgYMDAwMCgIKBAoIBAIIAgoKAgIEDAIEDAIKDAgKCgwIAgYEDAwGAgoMCAQEAggEBgoICAoEBAYGAgwMBgwMBAwCAgoCAgYMBAwEBAQECgIKAgICCAwGDAICBAYCBgQCCggGBAYGAgYKAgQGCAQEAgoEAgoGCAYCBgYEDAQGBgIMCggKDAIECgYEAgoIBAIEBAoMCggECAYMCgIKCggICgIEBAQMCggIDAYIBAoIBggMDAIGBgYEDAgGBgwMDAIGDAwMCAQGDAoKBgYCDAwKDAoEBAgMBAYICAQMBgYKCgoCAgQEDAQIAgIGDAQMDAwKBgwICgwICgQMBAQMCgQEDAgCAgIICAgKBAgIAgYMDAYEAgwCCgIIDAwIAggCCAoKAgwIDAIEAgoCCgIICgwECgQECAwKCAIMAggMCAIKBAIMCggCDAwICAwKCAYCCgICAgIGDAgKBAYEBAwKCggCDAICBgoECAgMAggCCgYIAgQCBgQGDAwCBgYEDAgMBAIIBgoECggMBAoKCgYICAIMAgoIAgwCBgYKCAIMAgwCCAQMBgYIBggEBAIIBAQCAgYECggKAggKAgIGCgoCAgQECgoCDAoKDAYMCgYCCgQKDAQEDAgMDAYKBgICBAwGAgYKDAQECAwKAgwCBggKCgQECgYMAgIIBgoGCgwGCAQCCAwMCAwGBgwMCggECAYIAgQMBgQCAgIECgoCDAwEAgQMBAYMBAIKBgoCDAgMCgoGCgQMAgoKAgQEBgICCAoMCgYECAgKAgYKCAgMCgoIAggCCAICDAwIDAoEDAgKAgQGBgYKCgYKBgwIBgwIBAgMCAgIDAgKCgIIAgQICAoGBAYEAggMBgICBgICDAQKCgQICAYMCAYCCAgKAgQKAgYCBAwCAgICCggCBAIGCgICCgIEBgIICgwMCgoMBAYGBgIKCAQIAggEBgoGCgQCCAQEDAQIDAIIBgwGBgYIBgwKDAwGAgwICAQKBAwGAgICDAYKCgQKDAIKCgQMBAQKBAoGAgYMCgQGDAYEBgICCgYCDAICDAIEBAQICgIIBAoMAgwEDAQGBAgGBAwICgYECgQKBgoECAwKBAgMAgYKCAoMCAoKCAIMDAwIDAYCCgQCAggEBggKCAIGCAYKAgIIBgoIAgYEBgoEBAYCBgwGBAIMCgYMDAQCDAQKCAYMDAIMBAQECAwKCggKAgYICAgCBAIMAgwMCAoIAgwGAggMAgQKBgIECgIECgoGDAYCBAwMBAYKAgYIDAYMCAoKAgQECggGBAYCDAYCBAwIAgwIBgYIDAQGBAgECggIBAwKAgIKBAoGAgwCAgwMDAQMAgYCBAwGAgIMDAgKCgYGCgQECAgIBgwMCAIMAgQKDAYGDAwGCggEBgYICAoKBgoEDAwGCgIGDAIEDAoGBAoECAYIDAoIBgIGCgoCDAQGDAIMAgwCBAgGBgICAgIIAgoIAggMCgIMBgQIBAgGAgYCCAIIBgoCBAQMAgwKBAIKDAIICgIGCAoMCAQGAgoIAggGCAoMBgwKCAoEAgYCCAIMCgYIAgQECggGBgYICgIIDAIEAgwECAQMDAgCBAoGDAgMCgQMAgQGCgQGDAwGBAQCCggGCggMAgYKCgoGBgYIBAYGCgIIBgoCBAQKCgIGDAYCBgQEBAICDAQKBgYIAgIECAYIBAQMBgYIAgQKCgQKCgoKCgoMDAQEBAwCDAwKAgwKCAoGBAoGBAQIAgwKDAYEBAwEBgYEAgYGCggMAgIEBgQEAgQMCAoKCAYCDAICAgoCBgQGDAIMAgQCCggICAQKCgwECAoMBAwMBggEAgwMBAoKBgoIAgwICAwIAgwGBgYMCAwIAgYCAgwMBgQMBgIMCAgICAgKAgwGDAQKBgYEBAoCBggCBAwCDAQEAgIEDAQIBAQCCAgGCAwKBAgCBAYIBgwEBAQCBAQEDAgICAYGAgwMCgYEBggGBAYEDAIGCgIECAIMCAQGCgwEBgQIDAQCCAYMDAIMCAIEBAQMBAwMDAQMCAQGBAgECgQCCgQICgIMBAgCDAwECAoEBgIEBgwGAgoIAgoMDAgKBAYICggGDAgECggEBgYKAgIEDAYEBAICBAoMAgwMCAIICAIKCAYICAICCAgICAQCCAIKAggIBgoGBAYGDAwCDAIMBgwCAggCBgQGBgwIBAYKAgYCDAQCCAYMBgwGBgQGCAYKDAwKBgwGAggKCAwCAgIIBAIGDAYCBAIGCgQMCAoMAgwECgYMDAoIDAIGBAQMCgYGDAQCCgYIBgoCAgoCCgIMAgoMAgoCDAoMCgQECAIIAgwIBAIIBgQICgoMAgQKBgwIBAQGBgQCDAoEDAgGBAwCBggCCAQEBAgGCgIEBAIKBAYMCgIICAQEAgYKBggEBAQGCgQCCAoMAgQCCAwECggMBgQEBgQGDAoCBgIIBgoCCAQEBgQEBgwIAgYCAgYKCgQKDAoEBgQKBAYEDAQKDAQKBAQCBAYKAgYCBgQMCAgCCggGCAoEAgYCDAwEAgoMCAoKCgYMAgwCBgwEBAgMDAIGBAYGAggKDAQCBgwIBAYEBgwKDAgECgwCBAgGAggKBAgMBgICDAIEBAIKCAIKBAgCDAoEDAwICAIKDAoEBAoMBAoKDAQMDAgICAgKCgwKAggCAgoCBgwGCAYKAgYKCggIDAoKBggKCgQGAgQKBggKAgQGCAQICgoICgIMBgYEBgwKCgwICgoIBgQMCAwICAgKBgoKBgQMDAYMBAQGCgoEBgQCDAYKBgoCBAwGDAwGBgQIAggGAgIEAgQIBAwCBAQCAgwKCgIGBgwECgQGAggIAgoMDAoGBAICCgoGAgIGCgoKDAQIBgQGCgoGBgoCCAQKCgoCBAwGCgwIAgQMBAYMBgQKDAwCDAIIBAwEAgQCCAQKCgwEBAgCCgwGDAIICAIIBgoCDAYKCAYMCgQKAgYEBAwCDAgICgIIBgwEDAICCgwKBAwKAgwKAgwCDAwCAgICAgYECAoCAggIAgYKBAICAggGAggIAgIGBgIIDAgKAgQCBAYICgoMDAYGCgoGCAoKBAgMBAoKAgYIBgoCBAgICgICDAoCBAIMCAgCBAgICgYICgoGBgQEBgYKCAgIBAgGCAwMBAgCDAQIDAgCCgQMAgICBAgGCgwGAgYGAgQMBgIGCgoEDAIEBgoKCgwKCAYMAggMCgoIBgQMBggGCgwCDAoEDAwKCggCBgoEBAgMBggGCgQGBAgKBAgGDAYMAgwCCgYCAgIMBAYKCAIKBgIMDAICCggGCAwEBgIEBgwGBAYKAgIGBAwEBAgECAgMDAQKCgYMBgIIBgoCBAICBgYMDAQMDAQMBgoEBgwCBgIKCgICCgoKCAYGAgwMCgQCCgQIBgoIBAwICAQEDAYCBAQGCAIMCAoMAgoIBgwCAgoECAIKBAgMBAQGBggIBgIKAgwCBgYMAgYKCAgGCgQEAgoKBAgCBgoKCgYCAgoEBgoCBgQKCgwKDAoCBggMBggMCgoECgoICgYKCgwIBAQIDAgGDAICAgIGBAoIBAgGCAQKCAgEBAgECAgCCgoEBAICBggMAgwKDAoGBggGCAIKBgYIBgwICgYMCAgMBgQECgIMBgQKBgYEBAYMCAYGDAQKCAoMCgwMBAwCCAYKCAYIDAIIAgIIBgQKDAIIBggIBAwGCgQMCAIKCAoKCgoCBAgEAgoKCgIKBAIGCgwKCgwGCgoMBAIEAgwCDAgMBAoKBAoCBgwEDAgMCgoCBgwIAgQMDAoGBAwGBAgIDAwCAgQIDAgCBgQEAggMCAoKDAIGDAIGCgwCCgIMAggMBgICDAwKCAgECgoCBggIAgQCDAQMCgoCAgYMAgIIBAIIAgwCBAgGCAwICggMBAYICgQMBgoGDAIKDAIIAgwEBgYICAIICgwCBgQGCAIGDAoMDAwECgwIBgQCAggECAoECAoEDAQEAgoEBggKBAgEDAgCDAoMDAwGBAgICggEBAYMDAwICAgMCAIMBAoICgoKCAYIBAwKAgYMBAoMCgIEDAQMCgYIDAQMBAoCDAIEBgwMBgYKDAgCAgIICgQMBAQMDAoGDAoGCAQIDAoMCgIIBgQEAgYMBgwCCAIGAgIGDAYKDAoEDAgIAggEDAoIBAYCCAIKAgwECAIEBAgCAgoIBAICDAYGBgwECgQGCgwCCgIMCgQECAYICAoCCAgCBgYCBAgEBAoMCggEBAoGDAoCBgQGDAYGAgwGAgwCDAoKBAoCAgYCDAYKBgwMAgIMBgQCAgQEBAYGBAgIBggMDAgIBAYEAgwICgwGDAoMCAoKBgwGBggGAgIKCAwICAoGCAQCBgYIDAgIBgQEBAYGBAYIDAwEAgYIAgYEBAIGDAwGCAwKBggMCggGCAIIDAoCAgoICAwICAwEAgIIAgYMBAgKBggGAggCCgYMCAoMBggKBAYMBggCBgQGDAYKCAICDAIICAQGCAgIBAYICgICCggEAgoIAgQICgICBAgCDAIGCAwKDAYCCAoKBgoEDAgMCgQIBgIMBgQMCgYEAggKBgIEAgQCDAQMBAQMBAIMAgQIBAwKCgwKCgICBggCDAQGBgoIBAoCDAYIBgYCAgYGAgIIBgIEDAoCCAgECgIKBAoCBAoMCgYKBAwGCgoGCAgMAgIMBggMCgYMCgQCAgIICAwGDAoCAgwEAgIIDAYCCAwKCgwMAgQICAoEDAwCBAYKCAQEBAQIBAwMCAgIAgYMAgQCCAQGBAgMAgIGCgYEDAoEDAIIAgQMBggMBAoMDAwCDAoCBggCBAoEDAYGCAQGBgIKCAQICggGCgoGBgYMBgQGBAYIBgwKCgYIDAIGCgwMDAIKBAgICgQKBgQMCgIGCAIIBAwEAgYMDAYICAYICgoKBAgCAgwMAggMCgYMAgQKDAgMBggGCAYCAgQCDAIMBAIEAggKBgoKCAICBAwIBgoGBgYCCAYKBggGAgQECgIGAgoCBAQGBAwEBgQEBAoKAgQECAwGBgQMAgIKAgYCBAgKCAoMBAwMBgICCAICAgQCBgwMCAgCBAIMAggMDAYMCgQICgYGAgIEAgoGDAYGCAICCgICAgQMBgYCCAgMCgIEAggCBAQGAggKBggCBAwCCAoKBgQKCAYKCAoCCgYECggEAgQKDAwMCgQICAgICgQECgIMDAgMCggEBAgICgIEDAgCBgoICgQCBAYGDAoIBgoCBgoECgQEDAoGCgYGAgwIDAoGCgoKDAgKCAgMBAQCBAoMBgQMBgQIAgYCAggECgoGBAgKBgwICggKBAQMCgQMCgYGCAoCCgYEBAYCAgwGBgoEBgQCDAwMDAoGBAwEDAYKBggCCgYGDAgKCgoKDAwKBgoECAYMCAwGDAgGBAQGBgwCBgYKCAYKAgoCAgwMDAYECAwMBAgGAgICAgwGBgoGBgIIAgYKBgIGAgIGDAIEBAIKAggCDAQEBAwEDAIMDAwGCAQCBAIEBAwKCAoKBAYKDAYCBgYIBAgGDAgKBAYICggGBgoCAgYKAggKBAIMDAgEBgoIAgIMBggEAgIKCAgIAgIMBgYMBAQIBggKCAIEDAIIDAwGCAwEBgoEAggKCgwIBAwGCAQIBgoKBggCCAwKAgQECgICAggKBAgGBgYIBgQGBAwIDAYGCAwCCAQEBAYICAoKBAgCCAQCDAICDAgMBAwIAggIBggCDAgKCAgKCAQGCggCAggCBggMBgYEDAwKBAQEDAICCgoCCAICAgwKAgwEBgYIAgwGBAQMCAoKCAQCDAQKAgoCDAwKBgIMBAoEBAIKBgICBAQEDAYGAgYGDAwMDAgIBgYEBAwGCAgIBggEBAwIDAYKBggCDAQMCAwIBAoCDAYKDAwMCggGDAYGDAgEDAIMCggICAIKCAgICAICDAICDAIGCgQIBAgIBAwCAgIEBgoIAgQMBAwGBgwEBgYGDAgMBgoKBAQEBgQKBAQGAgIGCAYMDAgMBAwIAgwCCAgMDAwIDAwGDAgCCgwECAwKBgQGDAwIBAwECAwGBgYEBgoIAgYECgoGBAoGAgoGBAoEBgIMAgoMCgwECAoCDAYEAgIKAgQMCgYGAgoGBAgKBgoGBgQIDAoIBAoIDAoKBgwCBAwKAgYGDAIEBAwEAggIDAwMAgIIDAQECgIMAgoMAgwMBgoMBgoMBgQIAgwGBAoCCgIMCAoECgYEBAgIDAQMCgwGBAwMBAYKAgoCAgQCDAgCCAwGCAQEDAwMCgYGCggCAgwMBggCBAIMCgwCCgIEBAQCBAQIBAgMDAQEAgQIBgoEBAYMBgwMCAYEBAIMAggEBAgEAgwKBAQCBgQEDAYKAggMDAoCBggGBAoEDAwECgIEBAYGCAIGBgYGCAYIBgYGBAQGCAQCDAIMCgwIAgwIBAoGBAgECAIIAggIBgQIDAwIAgoEBgICBAoECAgICgQKCAIGDAYKDAQMDAYCDAwKCAgCCAYCAgYKBAoCDAIGAgoICAYGBggKDAgICgQIAgQCBgYIDAICBAwGBAoGCAQKCgwECAwIDAQGAgQGAggIDAwCBAgMBAYKCAYCCAIICgwGBgwKBAwEDAYCBAYMCAgMDAQMCgoGCAQCCAQMCAIMDAoGCgIKCAQGCAIKAgoCCgICBAwKBAQEBgYICAIECAgMAggICgIKCAYEBggGAgoKAgICAgQCBgIMBAgIBAoCDAoKCAoCAggCDAoEAgwEBAIKAgoKBggKCAoKBAgECgQIBAYECgQECgQMAgQECggMBggCBAICDAgCBgwMBAoCBAoICAYEDAwMBgoMBAQGBgoECAQGCAYGBggICgYKBAQECAIICAoKBAQGBgIGBAgICgYEBgQECgIMCgYMBAgEBAICCAwIDAQMCgIEAgoGCAwMCgIKBAwKDAYKCAQICgwMBgoMCAQKCgQCBgIEDAYGDAYMCgwGBgQEBgYGDAYGAgIGBgYGCAoIAgYMAgQECAgCCAwEDAIGDAIIBgYCCAYCBAoEAgwGDAoCBgwMBAwKCAgMAgoECgQICgQMDAIEDAIICgIKCggGCgQKBgwGCAgCBgIICgYIDAwGBgQECAIICAQGCgIECggGAgYECAQCDAYGDAwMAgoMDAwEAgYIDAoECgoKAgQMCAgIDAgIBAgECAgGBAoMCgYGBgoKBgwKBgoKCgoKCgYGBgIMBAQMAgYGCAgCBgQMAgQKDAgEAgoCDAgGAgQIDAgMCgQKDAgCAgYCCAIEDAYMBgoEAgoKCAgECgIMBAQCDAICBAYCCgoECAIKBAIKAgoIBgoCCgwEBAIIAggGDAwECAQEDAgGBgQICAYEDAQICgYMCAoICgYKBgQEDAYEAggKDAIGCAYKBAoIAgQIDAwGAgYCCggKBAQGDAgKBAIMAggICgwGBgwEBgwEAggGBAoCCAwGAggEBgoIBgIEBAYGCAwKDAgICAYIAgoIAgQMAgYCBgoKDAgKCAIMBgIICAgCCAIMDAIGBAIGDAYICgoGAgQMAgYKDAwMAggMCgIGCgYKAgoMBAwGCAYKDAIIBAQMDAQKCgwMBAgGBgoEAggMBAgGBgwMBgoKCAgGCAwMBAoMBAgKBgoMAgIMCgoIBgoCCAwICAYECgIIDAwKDAIGCgYICAoKCgwGBAgMCAYECggECgYKCgoIBAoMDAgEBgYCBgoMAgoMBgoKBAgCCAQEDAgKCgYKDAYEBAwECAoIBAYMAgwKAggCBgYMBAIGBgwCBgQCBgwGAgoIAgYGCgYIBgQCBgIKBggCBAIGDAwEBAwGAgoMBAQKBAoMBgQKCgwEBAwICgYMDAwKAgwEBggICAYKBgQCAgIIAgwIDAYECggGAggICgoIAgYMAgoECAIKCggKDAoKCggKBAgCAgwKBAwGCgwCCAIKBAQCBggIBgYKAgYKCAQMDAQGBAYGCgwIBggMBgwECgYKCggICgIGCAICCAQKDAgKDAwIDAQIBgwMBgQMDAYIAgIGCAoEBgYKBAIIBgIKCgoEAgIGBAgMAgoKCAQMBAIMDAIKBgIECAwGDAYGDAQICggCCgYMCAICBgwGBAQKCggICgoKBgQIDAwGBAYCCggMCgYIBgwMDAQECAYGBgwKDAQGBgYICgoKAgYIDAQMBAIMCgwCDAoGDAQKDAwGCAoKBgwGAgQGAgwMBgoGBAYCBAwMBAoMBAQIBAQGCggMBAwIBggIBgYKDAwCBAoECgQMBgYEBAQECAQEBgwKBAoMCAgGAgQEBAwICgoGCAoCCgYIBgoKCgYCCgYIBAICBAYMBAQMCgIKCggGBAoKDAgIBAIKBgYIBgQKCggGAgIIDAwCBAoMAgwKBgwECgwECggECAgICAQKDAQCCggKBgoMAgIEAgoGCgoICgICAggMAgYMBAwKAggGAgIKBgIIBAQCDAwIAgIIBggKBgoICAYCBAYICAwKCggKCAwIDAwMAggCBAYEBAQCAgICBAQKBAwCCAYMDAYEDAIKCAIKAgYKCAoMCAgECAQMBgoCCAYMDAYECAQEDAwEBggIDAoECgoIDAoGCgYICgIKBgoCCgQIBAQGAgYCBgoIAgoMAgwKAgoCDAYIDAoIAggCAgIGCgYIDAIIAgQGDAIEBAwICgwMBgICAgIECggMCAgEBAQKDAoCBgIMCAIKCgIEBAIEDAYKCgYEDAQICAYKBAgCBggGCgoEDAIIBAQMCggEBggKBgoGDAoIDAoGCAgKCAoIAgoECggKBAgIBAwEBgwECAYCCAQECgQKBAwCBAwIDAICCgwKCgIKAgQKAgoGBAYCAgoICgYKDAgICgYKDAgECAQICgIKCAYGCggKBgwCCgwGBAYGAgoGBgoGAgYCAgoIBAQIAgoKCAQEBgYGBgoICAwICAYKCgQGBAwKCgwMBAQCAgoIAgoEAgIMBAQGCgYGBggKBggKAgQCCAgCDAgCDAgECAoECgYMBgoEDAwKCggCBAwMBAoGBAwECAgGBAgEBAQKBggMBgIGBAYIBAwICAoCCAQCAgYCBAYECgICBAIMCAYCBAQGCgQCAgwECAQECAYEBgoMCAwMCAQKBgIEAgQECgYCAgwGDAIKBgwKDAIMDAoKCgoKCggIDAgMBAYMAgYGBAgCBgYGAgYMCgwKBAICCAIICAgCDAQKDAgEDAYGAggKCgoEDAoECgIIBAQCAgIMDAQIBAYEAgICDAQMAgwMBgoKCgIGBAwGBAoKCAYCAgoCAgwKDAQICgIEAgwICgQEAggKDAQKDAoKDAoMCAwKDAwGBggCAgIMBAoIAggCBAgGBggECgIECAQCCgoCBgwICAwKCAYMBgYMCAwKDAIEBgQGAggGAgYEBAoCBgIICgICCAIICgQKBAYMBAIGCAIIAgwECAoEDAIMCgoKCggKDAgGBgYKCgQKAgoIBgwMDAgMDAoECgwECgoCAgYCCAQICAgIAgYCDAIGDAwKBgwMDAYMAgIGDAYKAgYICggIDAgICAoEBgIKBgwGDAYKCAIMCAQKAgoGCgoEBgYKBggKCAYKBgIMDAwEDAYECAYEBgwCDAwEBgQMCgIICAIKBggECAoEBgoCAgQMBgoMAgYECgIGBAQGBAIECAIEAgwGAgwKCAwKCgoIBgIMCAQCAgIMBgIMCgQECAQKCAwCAgYECAICBgYGBgYMAgoGBAgGBAwGAgICAggMBAQICgwECggGDAgGBgwCDAwKCgYKDAQGCgYGCgYKBgQCDAQKCggECAgICAwGAgoGCAYKDAoMAgoGCgwCDAYECgQICgQMCgYGDAgCCAwKCAwCDAoKAgoGBgwMCAgGBgwCCggMBAQKBgICBgwCAgwMCgoGDAgEAgoCDAIICAYKBgIMCAoGCgICCAQECgwECgYGBAQMAgIGDAYCBgwCDAoICgYMDAoGBgwCCAoKDAwIDAwCBAgMCAoKBAoECggKBggECgIICgYGCgYEDAgMBgIMCAgECAIKCgwKCgwCCgwGCAwIAgYEAgwMBgQKDAoCAgwKBAwEDAIIBAIICAoMCgIEAgoEDAICCAQKCgYMBAoKCgYMAgIKBAoGCgYKAgoCAgwIBAwEBggICgoGCAwEAgYKCgoKBAYCAgoKBAYKAgYGBgoCCgYKBgQICAgMBgoCBAQCCAICBAwEBgIICgwMBAQECggGCgoCBgQCBgoEBAgKDAIEBAoCBgICCgQECggIBAgMBAIIDAIEBAwMCgYECAoCAgIKDAIKDAwICgoMAggMCgYCBgoCBAwECgQICAQGDAYKBAwCAgwMBAQGDAoCCAgCCgIKCgYEAgYIBgICAgIMCAwGBAICCAoCDAQIBAoECAgCAggCDAQICggIBgwMBAQEAggECgoIBAwEAgYEBgoIBAQKDAQKDAYEBAQGCgwIBgoCCAgIAgwIAgwIBgIMCAwCAgYCCAgCBggICAIKBAgICgwMAggMCAQECAgIBgQIDAIKDAwGDAIMAgQMBgQCAgoCBAgCAgQECAIMBAgKBgIMAgIECggGDAoGCAIMDAoCBgwCDAIICgwGBAQMCAoECggCDAgGBgQKDAgMDAgEAggGCAgECggCCgIGCgwCAgoEDAgGAgYEDAIIAggEDAgCAgwECgICCggKDAwMBAQMCgYKBggIBggKBAICBAoECAwICgYICAoKBgQMDAoEBgIKBggGAgwCAgwKCgoGBggCDAwCCAYCBAoICAQIBAoCAggEBgYGBgYCCAwKCAIEBAICAgQICAgGBAYMAgYGAgICDAwKCgwEBAgEBAQMBgoKDAgECgQIBgYMCAIMCAoICAQIAggEDAoMDAQCDAwCDAoMDAQMCgYIAgIIAgYGCgwECAwCBgoGAgoGDAQMDAYKDAoIBggKCAoCCAgCBgYEAgoGAggMBgQMDAwCCgIMDAgCCgIKBAIMBAwIDAIMAgQCAgwGCgYMBgIKBgQGAgIKAgYCAgYCDAwGBAwGBAgCCAoMBgoCBAYGCggKDAIGAgIKAgIICAYCCAIMCAIIDAYCCAQMBgYECgwCDAgIAgQIAgYMBAwKCgYIBAQIBAIGBAoIAgIIBAoKAgoMAgYMCAICCggGCAoEDAYKDAwEAgQKBgQIAggMCAYIDAgMAgYKDAQIBgoECgQEBAgKBAoECAwEBAoKAggCBgYKDAYMBgwICAoKBggGAggCBgYMCgYMBAwCBAIGDAQMAgwECAoKCgwKAgIECggGBgYIAgYGCAwIAggMAgQMBgoEBgYGDAoKCAgMCggMAgQCBgIKCgQMAgQGCAQGBgoEDAIMAgoGBgwIDAoGBAYICAgCDAYGAgoICgICAgwICAIMCAwEBAICAggKDAgMBgIMBAgMBAwKBgYGAgoEDAgECgYKAgoKDAQGBgIEAgQCBAQCBAgKCAYIDAwMCgwECgoGCAYICgoKCgQCBggIBAwGDAwMBgYIAggMCgIKCggCAgIKAggKBAgKAggECAoIAgYKCAwEAgoEAgwICggGCgIKCgoMCAIKBAYKCgoEBggIDAgIBggCCAwCDAoMAgQMCAwMDAICDAYMDAwKCAQKCgQGAgYIAgoCCAYCBgwICAwEBgoGCgQEAgQIDAwCDAgEAgIMDAQKDAgCBAQCBAgGCAIGBAIEBAoMBAIKBAYMAgIICAICBAwEBAoMBgYIBgIGBgICBgIKCAoGAgICCAQKBAQGCAIGCgoKBgoIBAgECgQCDAQGAggIAgIGDAIGCgYMDAgCCgoECAQGBgoCCAgEAgoCBgwKBAYCBgQICAQKDAoGAgIMCAoEDAYEAgYGCAwKAggICAYIAgwMAgQMBAIGAggKCAwGCAQIBAQGDAIMCAQGCAoMBAYIBAwGCAwMDAwMBgwCAgIIBAwGCgYEBgwIAgQIBggGBAIEBgoECgYGBAoGBggCCgIEDAoGCAQCCgwCBgwECAQIAgYEAgwMDAoKAgYGCgYIBgoCAggIBgwKCggKDAQIBAwCDAgCCgQKDAYCCAgICAIKBAQEBggMBgwCDAwMBgICBAoMBgQIBgIICggEBggIBgIIAgQGAgYICgoCCgwGAgYECAgEBAYGDAQGBgQGDAwMCgIIBgYECAICCgoIBAQIBgIGBAQIAgYCBAgGCAwKCAYMCggIDAwMDAIECAIGAgwMCgoGCggCDAgCCAIKDAwCCgoKBggKCgoEBgwGDAYKAgwGCAQEAgoCCgICCAgGBAQCBAYGBgwGAgoMDAgCBgQCDAYECgIEBAIIBgIIBgQKCAwCDAYMBAoKBgoGCAoCBAoIAgoCCAIICAQCCAQIBAQIAggECgoEBAoICAgMCgYECgQCDAQEBAgICAQGBggMDAYCDAoCBgwCCAgICggECAoEAgoGBgYKBAoICAICBggEBAwCBAwECAwGCAICBAwIBAoEBAIGBAYICAQMCgQECgYKDAIICggMDAgCCgYKAggGCAwEAggIAgYGDAgEAgQMAgwCCgwGCAwCBAQKBAgGDAIEDAoIBAgEBAoEDAYKCgQMBgIICgYCBggKCgIIBAIEBAIKAgwIAggGBAYIBAQMBgwMCgwIDAgKBgYKCAQMDAwEDAoMCAYIAgIMBgQKCgYGBAoKBAwGBAoMCAQEAgYEDAQMBAgICAgECgYKBgIICgYGCgQGAgIIAgIMDAYMAgYGAgQIDAYIDAIIAggGBgQGBgYMDAQIBggEAgwCCgQMAgwCCgwGDAIGDAYGBAoMCgQKDAYCCgwEDAYCCggCBgwICAIEBAICBgYCAgQKBgYIAgIMBAYGAgwICAoCCgIMCAoGAgIKDAIGBAwKBAwEAggIAgoKBggKAgoMCgoCBggGCAwEBAoCCgoMCgwCBAoCBAYCCggICAwIDAgKBgoCDAQCCAoEDAIGAgIEDAQECAoKCgoEDAoIBgQIAggEBAQKAgYMAgYMBAwEBAYMAgQGBAQECAoCAgQKCAgIBgoMBAYMBAQCCAwCDAYKAgQEBAYEAgYMBAoGCAwIBgICBAIICAoKDAoKCAIKAgYCCAIGCAYKAgQCCAgCCgIMAggKBAIKAgQCBAgEDAoCBgYECAYKBgoKBgwIAggGBAgCBAwMAgwGAgoEAggKBAYECAQEBAYEBAoGBAwCCAYKBAYIDAIIBgQMCAYCCgYGBAQCBAIEBgoIAgYIBAQCBAYCCAQEBAgCAgQKBAoIAggCDAYECAwCCAoKCAgGAgICCgYKBAgCAgYKBgYCBggKCgYIBAYCCgIMAgYCDAYKDAwEAggIDAwMDAwCAggEAgQIAgQIBAYCDAgEAgQMCggEBAIGCgIECgYCAgYGCgoCAgQGDAwCBgYEDAgCCgoECgYMBgQICAYKAgYIAgwEDAYECgQIBAoIBgIECggICggCCgYMDAYEBgIGBAoMAggKDAYMAgYCBgYCDAQKCAoKCgoMBgYMDAQECgoGBgIECAwECAoICggCCgIKAgwGDAIGAgICDAIIBAIKDAQKCgYECAIMAgoGBAIGDAIGAgoCCgoIBAYIDAYKCgIECgwGCAYMAggGDAICCAQMCgYECAgKBAQCCgoCDAoIAggGBggCAgwKBgQIAggCDAYCDAgKBggIBAoICggGBggEBAgMDAIIDAYECgwIBAQICgoIAgwMAgQGCAIECAoKDAgGCgQIBAIIBAIMCgoKCgoEBAgKDAwMBgIMBAwMBAIMBggIBgwEBAQGBAwMAgoGCAYCBAQKBgIKBgoICAwEBggGAgYKAgwIBgYMDAgMAgQCAgYCCAwGBggCBAoGAggMBAgGAggCAgQICgoGCAQIAgYEBgIKBAoCBAgEBgYGBAQCCggCDAgGDAgECAwEBgoMAggCBgYMDAgGDAoKBAoKCggGBgIMCgwMBgYGAgwKDAICDAoMDAoMBgQCBAgCAggKAgQICgQMAggICAQMBAYCBggGCgwIBAwECAwEBAYIDAoMBAQCCAwIBAgIBggKAgQGBAYKCAgCCAIMBgQGCggEBAwECAoGDAIKCgIICAgCCAoECAgEDAYMAgIGDAwGCAoMBAYECAQCCAgKBgYCCAYECAYGBgYGCAQCBAwGAgYMAgIMDAYGBAICBgIGBgQMDAIICAYCBgQKBAgECAoKDAIMCgoCBgwICgQEBAgCDAwCBAIGBAICBgIGCAYECgQIDAwGDAwKCAwEAgoEBgYCCgoMBAQEBgwEDAwMCAgIBgQGDAYGAgoCBAgGCAIIDAYKCgwKAgIKCAYEBgYCBAwCDAgMCAYEBAQKDAoGCAYCCgYKDAgIDAwGCgQEBAoKDAoKCAQICAIKBgIIAgoGDAoMBAIGDAYICgoGBgQMCgQIBgQCAgYECAQIAgIGCgICBAwECAIGDAIECgwCAgoICgwKBgwMBgYGBAIGCAIIBAwCCAgCAgwICAQECgoGBgYEDAYGDAwECAQICggMDAgKBAYICAgICgwEAgoCAgYGCAwMAgQCCggIDAgGCgYKDAoCCAIGBAYIAgIMBgwEDAwGDAgGAgIKBAQGDAgIDAYMCAQKCAIGCggEBgQIAgoCBAYMAgQGAgwKBAoMCAoCCgoMBgYCBAYKBAICCgIMCAIMDAgCDAoEBAgGBggEBggIAgIMAgoCAgoCBgIGDAoMBgIMCgwIBgQMDAgMBgoKCAoICAwMAgoECgoGBgwMCgYIAgQKCgIGCAQECggCBgwMAgQMDAgKCAICCAQECgoIBgQCBgYCCgQICggGBgIKBgIIAgwCBgoCCAYKAgIMBgQEAgYMCAgMAgIKDAwKCAgMCgoMAggGBgQCDAQCBAIGCAwCDAwECAwGBgwEBgIKBAYICAwECggKDAoCBgwMCgYGCgwGBAwGCAwMCggKCgoCBAYMCAQKBAQMCgIIBggMCAgIDAwEBgIICAgICggICAoECAoMBAQGCgoGCAgKBAYMBAoKAgoGBAoEBgIEAgwGBAwEAgoIAgwMCgIIAgoECAIMBgYCBAwEBAYICggECAIGCgYKAgQEDAICCAYGBAYIDAoMBgIKDAwKCgwIDAwEBgIMBggEAgICCAQGDAIGCAwCDAgGCAQIAgIGBAQKCgwKCAwEAgQMBAoGDAYKCgoIDAgGCAQMAgIKBggGBAQGDAoKAgwMBgoKCAQGCgQMBgYIDAoKBAoIBAoIBgYGCgwMDAwGAgoMBgoEBggEAgQKDAQIDAoGBAQKBAwCAgYGCAQGDAIMCgoECggIBAIEBAIEBAoMDAgEAgwGCgwCAgYKBggCAgIEBAgGBAYGCgoGCAQEAgoICAYMBAIGBAQMDAoCCAYGCgIIDAIEBgQKAgYKAgoKCgwICAgMBgoKDAYKBAwIBAQCAgYMCAQCBgQMDAoIBgQECgQKAgwGBAwECgoICAYGBAoMDAYGCgYKBAYMDAIGCgoCBggKAggCDAwKBAYMCAQIDAoKBgwKBgQIAgoCAgoECAoKCgIMCgIKBgIGAggMAgIMAgYKCAYCCgoGBgwMDAQMBAoGCAwMCAYKCAwEBAIEBgYGDAYEAggGBggKBAgGAgYKDAYKCggKCggICAIIDAoCAgoKDAoEDAQGCAYECggKDAwKCgQKDAwMBgIECgoCAgIGBgIGDAgGCAgCBgYICgYEBAQGBggICAIICAYIAgIKDAoGBgQKBgoIBAYMBgICBAoECgIIBAwEAgIKAgYKBAIGCgIMAgICBAIICAgMBgQGDAYMCAICDAYMBgQICAICDAQEAggMCgQMBAYKBAgIBggMAgwCAgIECAgICAQKBAwMBggECAoCBgIGCAwGCgoICAQCCAgKBgYKCAQGCgQMCAwMDAIMDAwKCAICBggEDAQGAgwKAgQIDAoKCAgCDAwGAgIGBAYCCgwECgIGAgIICgwCCggGBAoGCgQEBAwCAgoGBgwGCggICgoECgwKBAQCCAYMCgIECgQGBgYIDAYGCgwIDAQICAgICAgKCAYCCAIMCgoEBgoIDAIIDAYIBgYMDAwIBgYEBAQGCAwGBAgCAgIMBAQICgQKCAYMCggMAgYCCgoCBAgCCAQKCAgCDAYIBgwGCgIKAgIECggKCgYKDAoGBAIKCAQKCAIIDAwKDAwCAgYKCggCBAYGBAgCAgYEDAwGBAIIAgQIBgQICAQICAoMBAIGBgoIAgoEAgYMCAYIAgIECggKCAgKBgoCBgIGBgYEDAwICgQECAYIDAQKAgYEDAIKAggKAgwCDAYICAYIDAQEAgwCDAgKBggMAgoEDAoKCAIEBgoCDAgEBggGCgoCAgIGCgIMCgQCBAoECgoKCAgMAgYGDAIKDAIEBgIECgQEAgoMDAQIBAQGBgQEBgwKAgwIBAwCBgYIDAoKDAoCAgwEBgQKCAwKDAQEAgIKCgoEDAoECAYICAYKCgQECgQIAgYEAgoMCAgGBAIKAgwKCgoIAgQIBgYMBgwIAgQMBgwECgwKCgoECAwMBAYKBAoIAgICAgYGBAoKAgwKBAgGDAIKBgwGBAQCBgYGAgwIBAgIAgQCBggECgoIDAYGDAoECAoMBggCBAYIAggMAgICCAQKAgoKBggGBAgECgQIDAIGCAgEBgoKCAwIBAgKCggKCgwCBgoECgoMDAQCCAIMCAwKCgoGAgQIAggKBAQCBggCAgYCAgoGCAIMCgoMBAoCDAoECAoKDAwMAgQCAgQECgwMCgQKCAgGAgoMCgYCBAwMCAQCCAoCBgwEBAwMDAYMCAQICggMBAYECgICBAQKBgQICAQGBgQIAgoEBggMCAgICAQMBAIMBAwKBAQGBAQGCAoEBAIGCgIIBAgIAgwECgwMBggIAgIECAIKCgYCDAgEBgoCCAYKBAgGBgIGCAgMCgIMAgoGCAoGBgQICgwGBAQGCAICCggCBggEBgQGCAIMDAwMBAYMBAwMAgYGBAwCDAwKCgQGBAYCBAgECAwCDAQIBgYEDAYKBAQEBAoKCAICBggKAggGCAQECgQICgICBggECgYGCAYKCAYEBAQKBAQGCgYGDAgMCAwMCggCAgwCBggEBAgMCAIMBAwGCAgMBAwCDAICAgoECAQKDAIKAgoKBAwCCAgEDAoCCAoECAYGBAIGCAIIBggECAoMDAgMAgYMCggIDAoMCAoGCgoMBggKBgoKAgwCDAQGDAoKCAIECgYCCgoEDAQMCAYICgwIAgYKAgwCCgIKCAYMCgYKDAYCDAoMCgwCCgoKCgoEBgQGCgIGDAYEAgQGCgwGCggICgYEBAIEAgYEAgwMBAgGCAoKCgQEDAYIBAwKBAoGCggGDAgKCAQKDAYKDAgCAgIKCAoCBgQICgwGCgIGAgwMBAIKCAYCBgIIBgQICgQCCAIKCAwMBAgCDAwGBAQCCgYEAgQCBgwCCAgIDAQMCAICAgQGCgoKDAYKCAoGAgQIDAQCCAYCCAYICAoCBgoKCAwECAgIBAgMCAwIAgQKCAgCBgYGAggKBgIECgYGCgoMAgIMBAgCDAQGAgwMCgoMBAwEDAIIBgYGCgQKAgYEDAQIAggKAgwGCgYCBgoMCAIICgwMBgwMCgYEAgIECgoCAgwEBAYCAgYIDAQCDAYGCAgEDAYMAgwEBAQMCAgIBgwEBAYECgoCBAYICAYMCAYEBAoCDAwEBAgECgwKDAQMBAoIBAwMDAQCDAoEBAgICAYGAgwICgoIBAgKCgIGBgQMBAwCCgQEAgICAgwECAICBgwEAgYMBgoCDAYKAgIIBAYMDAYEBAwCCAoMDAgKCgoIDAoMCAYCBAwECggGBgQKCgQIBAIEBAYKCggECAYKCAgKDAwMBgQGBgIIBAQMCgoMCAwEDAIKDAIIBgYGBAgCCAQCBAoCCAQMCAQKBgICCAwGBgoECggCAggKCAwICAYKDAoGBAYCBgYCBggGCAQGBggGCgwGBAwKDAYCBAoGDAIKBAIKBAoMDAoEAgoEDAYCDAIMAgYCCgYMAgIGCggIDAwGBAIKCgoKBAgGCAYMBAYMDAoMCAQGAgYCBgYKDAgMCgQIAgQKCAgGCgwEAgYKAggKBAQMBgQKAgIIDAQIBgQMBggICAIGCAgCBgYIDAgMAgYKCgQIAgYGBgoCCgQIBgwKCgwICgYMDAgIDAgCBAgGCAQCCggCBAgMBAgCBAgGAgICCAoECAoIDAQMAggKCgQKCAYMCAwEBgYKCgwIBgIGBAwCCgwCCgIKBAoMCAwCAgQKCAgGCgwCCAYKCgQIBgYEBAgGCgoCCgYMBgoKBggIBAoKDAgEAggCAggMBgQGCAgMAgIKBAYEDAIMCAQICAYMCgoIBAgGBAgEDAoCBgwCCAYGAgoCCgIECAYCBAgGDAQMBAYKBgIKBggGAgQECgoGCgwGBAIKCAIIBgQKBAQEDAICDAgEBAgIAgIKBAgMAgwMCgIKBgoIAgoEDAoCBAYEDAwCBgIIBAwGBAgEAgQKCgQICAYCCgoMDAoIBgQIBgwCBgwKDAoIBAYIBAQMCAICDAoGBAYCCAYKBAQGCAQMBgQMCAoEDAIECAwMBgoMCgYMBgQIBAYMAggKBgoMBgoGCAQCDAwKDAIGBggCCAwCBgQGDAgGCgIKCAwIAggKDAQMBAQIAgICCAIECAQIBAIIBgoCAgQIDAoMAgQCDAoGAgIKBgQGBAgCBggGCggIDAYKAgoCDAwCAgwIBgQCBAwGAgIMCAgKBgoKDAgMBgICCAwIBggKBgYECAwCAgQKDAYMDAgECAwGCggGBgICBAoGBAIMDAYGBggEAggEBgwMBgQEAgoKAgwKBgwECAoIAgoEDAQMAgoIDAIGBgwMBAwIDAgEBgQCDAwGAgYGDAgMCgYCAggIDAgCCAICAggCBgYCDAwCCgoIAggGBgoEAgwCAgwCBggECgQICgwEBAQMCgIIDAgCDAQKAgIMCAIMDAICBgwCCAgKCAYKBAICDAQCCAIGCgoKCgYKCAYCCgIEDAYEBgYCCAoIDAwIAgIGAgoCCAYIDAgKBAwMBggMBAIKBAYMCgIGCggEBgwMBgIGAgwKDAoGCAwGCgwMAgIKBgoECgQGCgYGBAIMAggCCgoKCgwCCAoMDAQMBAQECggCDAIMCAYKDAQEAgIGAgIMBgoKAgYKCgoCBgoMDAICAgYGBgYIAggECAQCBAoGCAwIBggKAggKBgoEDAYGBgICCAoCCAYMCAwGBAYIAgoMDAIMDAYICgYGCgwGDAwCDAwMBAgEBAQECAwCBAwKBAICDAgMBAwICAgEBgQGAgoECAIEAgIEBAQMBgwCCgIGBAgEAgoMBgwCBAgGBggKCAwGDAgKBAQGAgQIBAwMBgQICgYMCggEDAYCBgwGBgYECgIMBAoKCgoCCgIKBgQEAgICAgwKDAwECAgECAQICAQIBgoCCAoKCggCCAIEBggGCgQEBgQKDAgEBgwKCAQEBAgKBAQGAgoECAYMBAgGDAgKCAQIAgICDAwGDAoMBgwKBgIIAgYCCAYKDAwMBAoECgwIAgYMCAoKCggCCAQKCAYMAggECggICAgCBAQGDAwEDAgKCgwMDAQICAQEBAoCCgQKCAoKBgoKBgIKBgoECgoGBggCBAQKCAIGDAQKAgwEAgIICgQECgQIBgQKAgIGBAwMBggCAgYEDAYCAggCDAgECAYCCAoECAIMCAoGCgQMCAgKCgYGCggMDAoIAgICAgoGBAoMAgoMCgIIBAIIBAgGCgIKBAYKCAQIBgYGCAQEBgYEDAgCCAQIAgQEDAIKCAoKAgoGCAIEBgIGCgIEBAYKCgIGDAgEAgoEBggMCgYEBAwKCAQMDAoKAgYKDAIMCgIMAgwGDAIMBAIIDAIGAgQKBAIICgYMAgoIAgIECAIGCAYMBgoIBgIKDAQMCAYGBgoECAoGCggMBgQEBgoICAoEBgQGCAYKDAIMBgYCAgoGCggMAggKAgYECAYCAggCCAYCAgIKBggKCAQGBAoMAgwCDAQKAgoIBgQKBAgCBAQICgwMBAQKDAYMCgYMBgwKCgYECgYCDAYMBAwIAggKBAQEDAgEBgQECAgECAQKBAwCCgQEDAgMCgYMBgoKCgoIBAIICAICCgoKCgIICAYMCAYKDAgCCAIEBggEBAYEDAgMBgYCCAoCDAYCBAIIAggKDAIGCAwMBAoMBggKBAQMAgQICAYICgIIAgYMDAYCAgYMBAwEDAICBgICAgYICgoIBgIIBgYMDAYIBgQGCgoMBgoKCggEDAoIBAgIBggMBggGCgIMDAwGDAYECgYMBAgKCgQEAgYMAgQGBgYGDAwKCgQEAggECgwEBggECAQCBgoKBAIMDAYGCAgECAwGBgwIBgQMCgYIDAYCBgQMCAQGBgIMCgoICggEBgQGAgYGBAwGBAgGDAQIDAgEBAIGBAoKCAYGAgIKAgwIAgwGCAYKBAQKAgYKBgoGDAgCBgYKDAIMCgYECAYGBAwICggMBAwCBAoIDAQGCAwECAwMCgwIBgICCgQKBgoCCgwGCgoGDAYCAggCDAQICAwKAgwEBgQMCAoIDAQEAgYGAgwKBAQCAggECAQECAwGBAQIBAgGBAQCAgYMCggKBgIECAgMCAgMAgoECgICBAQEAgoMCgYGBAgKCggCCAgMDAgIAgQGDAwIBAYGCAIIBggCCAoCAgYMAgQMBAwKCAYGBgYIBAQKDAQMBAoGCgYGDAwEBAgECgIIBgYKBAIMCAIMBgIEDAIKCAYMBggKCgwKBggCCgoECgoMBAQGBgwICgQMCAYECAgIAgwEBgIKCggMCAwKCgYGCgIGBAQMCAIMBAgKBggCBAwGDAgMCgYMCgIMBAIKCAQGAgYGCAQKBAQKBgQMDAgEBAgMBAoMAggEDAwCBAYIBAIIAgYCBAQGCggMCAIEBgYMAgwIDAQIDAgCAggIAgIEBgYEAgQICAIIBAwMCgoICgQCCgIKAgIMBgIIDAQKCAgIAgwIBgwIBgoCCgYECgQEBAwIBggKDAICDAgKCAwCCggGCgwEBgoECggCBgYMCAIIDAQIAgoCCggKBAoCDAwKCAgGCgYGCggCAgwECgwIAgwICggCDAgIBAIMCAgMBgIKAgQCCggECAwMAgQIBggKCAoCCggGCAQEAgIEAgwCBgwGBAYKDAYCDAQKDAYKCAIIBgwEAgYCBAgKCgoICAQCCgYGAgYMCAQIBAgGBgQIDAYCAgoKBAgGCgQKAgQCCgwMCgIEBgwCAgYICAgMCgQIBAoCBgIGDAoIBAQIAgYCDAgIBggKAgoKCAQMCggIBAIICAICBAoMBgwMDAoEBAgECgoGBggGBAoCCgIGCgIEDAwGBgwECAoCAggCDAgMDAoMDAwMBAYKCAYMAgIGCgwCCgIICggIAgwIAgQICgIMDAwMCgwGCggIBAoKBAYCCgYICAoCBAQECAQMBAoIAgwCDAoKBAQECAwKBgQCAgwKBgIKBAIKCAQCBAwMBgIECAYMDAwIAgoMDAIECggEAgQIAgYCDAIIAggKCAwICAYEAggIAgIKAgIMDAQCBgwGCAIMCggGAgQIBgICBAYKBAoEAggMCgwKDAICAgICAgoIBgwGDAICCAQCBgoEAgYKBAgKCgoMBAQMCAIICgYECAIGBgoEDAwEDAoGDAYIBAgEAgoKAgIIDAIKAgYKDAYICgQIDAwCDAIICgQGCAYKBgYIAgoEDAYCAgoCBAwGBgQKCggMDAwGAgoICAYGAggEBgoGBAYMCAgKCAYMAgICCgQGCgoCDAYGCgoKBgwGBgQGCgoCDAoMAgYCCAIICAQIAgwMAgwCAgoICgQIDAYIBggIDAIEBAwKCAoKBAoGBgYKBgoMCgIGCAYCCAYMBAoMDAoIAgQCBAwKAgQKBgQECgoKBgoMAgIIBAwCCggEBAYMCAQIDAoKCAICCAQMBAgGAgoICAIMDAYICAIKCgYMAggCBgYECgIKCgQEAgQGBggKCgIKBAIGBggGBgYKDAwEDAoKCAQEBgQIAgwGCgIIAgQGBAICCgoKCggGCgYEDAIMCAoCCAYKDAoMBggGCgwCCAYKCgQIBggGDAgGCAIEBgwCAgwMBAYGBAQIBgQGCgIEBgQKBggCAgIEBgQECAYCCAgECggMAgoICgoGAgwIDAYCCAYICAgMDAYMBgIIDAQEBgQKBAQGDAoGCggCBAwICAQKCgoMAgoECgwIBAgCBAwEDAoMCAYIBAoMCggCCAQGBgQCCgoKBgYGAgIEBAgECggKAgoGAgIGCAgGCgIGBgYIBgoCBgwIDAIGCgwMCAwEBAoKCAIKBAgGDAwCCgICCAwGBgwCCAwIBggGBgoKBAYIBAgCAgYECgYGAgYGCgoIDAwGBAICBAIKBAoCCggIBgIECgoEBAgMDAQCCgoCBAwKAgYCCAIKCAgEBgQGCgQICAIMDAwIBAgMDAQCBgQMDAoCCAwGDAIKAggKBgYEBggKDAoECAoKBAgCBAYGDAQMDAYCBggCCAgCBgwCBggEAgoCDAoEBgQKBggKAgoKBgYGAgQCBAICBAYGBAoMBAwKCgQGDAoEBAgKAgIIDAwCBAwCCAoMBAIMAgQEBAoICAgECgIMBAoIDAwECAwEDAgCBgwIDAYGBgYEBgoKBgYGBgQKDAYIDAICCAQECgoGDAQMCAQGBAIKCggECgQMCAICBggEBgoEDAQCBAQCCAoKAggIAgQMBgYKDAoCDAQKBgoMAgwCCAwMDAQIBAwECgoCCAIGBAIIBgIGBAQIBgIICgYMCggGDAYCCggGBAoCBgIGDAYMDAIGCAIGBgwEAgIMAgwIDAYKCAYMDAIKCggCDAQECgIMCAQKCAYECAgGAgoGCgQMDAwCBgQICgICCAwGBgIGCAIIDAQCCAoEBAgGAgQMCgYICAoGDAIICAYGAggCBgIKCgIMBgIGCAIMAgoEDAwMDAYMBAYCDAIMCAQGBgoEDAIIBgoKBAYCAgwCDAYMCgICAgQIBAYEBgwCBgoEBgYGBAoEBAICBgIIBAwMCggGDAoIBAYGCAICDAgMBAoEBgQCDAIIBgwMCgoCCgICCAICBAQMCAICAgwKAgoMCgoCCgoECgwIBgYECAgMBgQGDAwEAggMBAQGBggIBggKCgwEBggIDAICBAwCAgQCBgoEDAYCAgwKAggCAgoCCAQKAgwMBgQGCgoMCAQMAgQIBAoKDAIECAgGAggMCgwCDAoMCAgIAgQKAggMBAoCCAQECgQCBAYIBAIMBgoKAggKCAIKAgwIBgwGAggKBgoCBgICCgwECAwMDAYGAgQMCAoKBAoECAoIBgwGCAoGDAoGDAQIBggCDAYMDAoEDAIKBgQECAwCBgIKCAYMAgoMDAwMBgoKCAwGBAQICgQMCgQMDAwCCAoGBgQKDAoGDAYMBgYIBgwGCggMCgYGCggCBAwIBgwECAwMBAoMBAgMAgQKBgIEBAoIBgIGAgoECgICAgwIBgYKBgwICggGBAYGDAoKCAQGDAYCBgwKCgIEBgwCBAoMBgIKAgQIBAoCBgoGCAgECgoMAgIGCAwKBgoKBggMCAIKBgQMDAgMCAIECgYKDAIICggGDAQKAgYGCgwEDAoECAwKBAYCCAQMAgIKBAIMBAIKCgIIAgIMBAgGBAgCDAYECggECgoGAgYIBgICDAwGAgYGAgwEBAYICAIKBgwIBAoGBggGAgQKDAIECgwICgIECAoEAgoMCAoEDAYMBgoIBggCCAYIAggMBAQECAwKCgoGBAQEBggEDAIEBAQCBgYMAgQIBgoKDAYCCAwECAYKAgwIDAoKBAgMDAgKBgwECAgICAIMAgQKDAYGBgwMBAQEBAwGDAwGCgQIDAoCCgoMDAQMCggICggCBgIKAgwKCgYECggICAYMBAYEAgwIDAoCDAwIBAoCCggGBgoCBAwIBgIGAgYEAggKCAQGCgoIDAgEAgQICgIKBgoCAgIIBAgEAgoCCgYMBgYCAgoKAgwGCAQECAoCCgwEAggCDAoCAgICBgYKAgwGDAgMBAoKCAgICAYGDAQKDAIKCAgEAgoECggMCAQICggMDAQIAgwEDAYECgIMCgwGCAIKCAYEBggGBAIECggGCAwIAggICggMBAwMBgwIAggECAwGCAYMBgoGDAIGAgwCAgQECgQECAoMAgwKCgIICgQCAggIAgwGDAoIDAYKAgoCCAQMCAwGBgwMCgwECAIMCAQGCAQMCgIGBgoICAgIAggGDAYGAgoGBgYKDAYIAggIDAQMCgIGBgYECAQGCAQKCAQGBAoICAQCBgIKCgQIBgIIDAYMCAoMCggEAgQGCgoIBgoKDAIKCAwIAggECAgKCAgGCgQGAgoMCAQIDAwCBAQMDAQGCgQIBAIGCAYMAgQGBAQICgwKCgwICAoMDAoECAoIAgICCAgEBgoCBgwEBgIECAIEDAwECgIMDAIICgoMAgYGCggGDAoICgYECAoKDAQIAgIECAgMCgIKAgoCDAYKBAwIDAQCBgoGCgwCDAIGAgoEDAYKCAYKBAwCBAQCAggKBgwICgwEDAIMDAIECggGBAwGCggCAggEAgoICggCBAIKDAgCCAwMBAYIBAgGBgYCBAYEAgwCBgYCAgQKDAQEBgQMBgQKBggKDAgIDAgCAggKDAQKBAQIBAoECgYMCAwICAYEBAoIBggMCAgEBgwGAgQKBgoGCAgGBAwCCggCCAQKBAgGCgQEDAICCAwMCAIIBAIMDAgKDAoGBggICAIGAggICgoECggICAwEDAwGDAwKAgIGCAIGDAwGDAwMBgoGBAIMDAIIBAgIAgICDAgIAgQEDAICBAwKCgwIBgIGBgQCDAoCCAIKAgoMBggCCgwCAgwGCgQEBggGBAIMCAwICAgMDAYIBAwKAgwCCgwICgIKAgQMAgQCBAYCAgIMBggCCggIBgwEAggGCAQGBgIECAQMCgwEBgIGCgIKBgYEBAICBgwEBAgECAoEBggCDAwEBgwIAgICAgQCDAQGDAIKBAoMCgoECggIBAgCCAwECAIGDAgICAwKBgYEBgICCgwCDAgMCgYEBgYMBAgEBAwMBAYGAggEBgYMAggMBggIBgICBgoEAggCBgQMBgYMBgQIAgwIBAICDAgIAgoGAggMAgYMAgIKBgIMCgwMBAIMCgoKAgYEAgwIAgYIBgwCCAoMCAwEBgwGCAQCCAYEDAIGBggKBAgKDAIIBAgMAgYKAggGCgQEBgIIDAQGDAoIAgoEDAgICgYGAgQMCgwCBAIKCgwKBgIGBgIMCAoGCgQIDAoEBAQGDAQMCAYGBAoECgoGCAYEBAoEAggKCgYICgwECgIICggICgoECAoECAIKBAQMDAgIDAwKCAwCDAwIAgwIDAQMAgoEBAQEBAoMBgoKBgoMDAwKCgYCBgwMBAoECggECAIMAgQMBgQGAgQECgwMBAQMDAIGDAYECgoIBAIEBAgGBAQGCggKDAIICAQCBgoGBAQICAwKBAoKDAYEAgIGBAoICgoMDAQMCggGBAoGCAgCDAoGCAgIBAQCCAwCCgoEBAIIBAgIDAgGBAgIBgwCCgIGCgwGBgIKBAYEBAoKCAoICAwMAgICCAIIBAYECAgMCgIGBAwEBAgIBgIEBAQECgQKBgIICgIIAgYICAQCCgwKBAwGBgoICgQGBAQKCAIMDAIKAgwIDAwIBAoMBAgKCgoGCAYMAgQMCAwGCggGCgIKBgIIBAIMDAQCCAwKBAgMAggICggMCgYICgwKBAgEBAgCCggEAgwCAggKDAwEAgIICAQIBggMDAQGCAoCDAwGAgoIDAgKBgIMBgoMDAIEAgQGBgoMAggGCggICggIBgICBgoKCgQKBAgICAoMBAgGCAwKBAQCDAQEAgYCDAQECgQIBgIIBAgICAYMBggMCgoKDAgKAggKBAIECAgMAgwCBAQMCAYKDAoGBAwCAgwKAgYIAgQGCAoEBgQGBggCAgIIBgwIBAIICAgMDAwKCAgECAwMCgwCDAwKAggEAgIMBggEDAwMCgIMDAgCCgoECgYGDAgMAgQGBAgCAggMBgQGBgQGCgwIBAQCCgQCAgYIDAIGBgQCBgwCAgYIBgYEDAQGAgoIAgwIDAYEBgYCDAwEDAYEBgQIBggIBgoKAgIGCAoKAgYMBgIGAgYCCgoKCgYIAgoGCgwGCgICCgoMAgIKCAwGCgICBgwKCAwGAgoIDAgGBAQCDAgGAgwGCgQMCAoKBAIKAgYMDAYIBAgKCgYCCgoGDAoEDAgKCAIMDAwKAgIECAQKDAIKCgYECAYCAgQGCAoECAgEDAwCAgIIAgYIBgIIBgQIDAgCCAIKBgIMCgoGCAYCDAgGCAYCBAICBAQEAggCBAIKDAwMCggECAYGBAIEDAoCCAoKCgIKBgYIBgwKBAYGAggKDAgICAgKBAgICgwICAgGBgwECAYEAgIMBgICCAQKBAoCCAoEAgYKCAoCCAgEBAQECgICBAQIDAwECAwKBAoMBgIGBgoMAgIIDAYKCgIKBAoKBgoCBAQEBAIMBAoGDAgEAgIMBAoICgoECgYGBAwMCAQKBAYCDAoEAgIGBAwICgoEDAgECAoKBgwEBAYMBgwMAggKCgIMBggMBAQGBAoKBgQMAgYKBgwECgwKAgwMCAIEBAQKBAQEDAgMBAYIAgoEAgwGCgwCCAgECggKBAYIDAwMCgIMDAgGBAQCBgQMCAYGBgQECgoKBAQMDAwKBAQECAIGBgoKAgQECAIKCAwMCAgIBAwGDAYGDAgGAgQMCAQCBAYGBAwKCAICCAgECgwGCggECgIEDAYKBgwGCgoCCgQICAYMBgoKCAQKBAIMCggMCAwCDAoECgQKAgQMCAoGAgICAggECAgGBAoGDAgEDAgGCAoECgQCCAQCDAYGAgQCAgYMCgwMBAIMAgIEBAYECAQKBAoGAgYEBgoMAgIECAQCBAYCAgYGDAYECgIEDAQMBAYMBgIKCAIMBAQCCgIMCAQICAgGCgwECggECAQMAggECAQIBAoCCAoEDAYMAggCBAYKBgoCDAgIAgIMDAwCCAYGBAgGCAQGBAQEAgIMAgYCCgwCBAIMBAgIBgIMCggGBAgKBgQIDAoGCAgGCAIEBAIEDAYIBAwCCAQGAgIGCggIBgQECAQCBAwICgYGCAoKCgYKBAIGBAgKAgYIAgwIAgwMCgoKBgoKCgIKBAgGBgIMBAQICgIKCAoMDAwKBAgIBAoCBggKCAwGCAoEAgIIBgoIBgwMCgYCBgICDAwGDAIIBAgICgICAgwCCgoICAICBgQKCgQKCgwKDAwCBAgGAggIDAQCAgQKAgIKCgYGAggKDAgCBgQCDAoMCgwEDAYIAgQIBAgMAgoGCAgEBAYKAgQIDAoKBAgEAgYGCgIICAgMAgYMBgICCAQKCgYCCAwCBAQCDAwECAoGAgIGDAoCCgYMBAQGBgQIAgwMCgQGDAQMCgwECgYGBAICAgoCBAwIAggMCgYMCAgMDAQCBAwCCAoCDAwMDAgCCAIMAggGDAgGCgYIAgQEAgQCCgQIAggCBgYCDAwEDAIKDAYMBAwGDAwMCgQKBgwMBAwMCAYICAIMCAwKCAYKBgYCBAwKBgoKBggICAQMCggMDAIEBAwKCAQGBAYICAoMBAYICAYECgwCBAQKBgQCAgIGBAoECgoGCgYEBgQICgIEAgQIDAQMBggICgwIBAwIAgQEDAQGCAIMBAgICAYCBggIDAoGAggMCggCDAoCBgoICggMCgYKBAgEAggCCAwCBAgECAwIBAwGAgoIDAoKAgYEDAwGCAoCCAoKBgIGCggGCgICBgIGDAgICgYKCgICCAQGCAwKCgYKBAYECAYEDAIMAgQIBgoGDAoIAgQEBAYKBAwGDAIIDAQGCAwKCAIEDAgGBAYMCgICCAQKCgIECAYKBgIIAgoECgIIBAgECgYKDAoGDAwCBAQECAYCCAoKDAQIDAgCBAICBgYGCAIICAIMCAIKAgQIBAgKAgIICAIMCgIGBAQGBAoGBgIIBAgCBAgCCAoKCgIIAgYGBAIKBgwMAgQMDAIMBgIIBAYKCgQGDAIEBAYGCAICAgwMCgIEAggMCAYKBAwKCAQCCAQCAgoECAoICgoGCgIKAgwMDAQICgIEDAQCBAoEDAIKDAwGCAoCDAYEBgIEBAwKDAQCBgYEAggMAgwKCgoIAggKDAwICgIKDAQMBAwMAgIMAgIMBAoCDAICCAYEBgQMCAwKBggGDAgMDAwMCgQCAgIKBgwEBgYMBgQIBAIGBAoGBgwEBAYMBAQGDAIIBgYKCgYGBAwMBgoCCAwMCggKAgQIBAgEBAwGCAIIAgIKBAYECgwGAgQGBAYKCAIMBAgCBAwMDAgKCgYIBAgGCgYIAgYGCggGCgYCCgoCBgoEAgYICAgGDAIIBAIGDAQEAgIEBAgKAgYKCgYECAgGBAYCDAQIAgoECAwEAgQMBAQKAgwICAQGBggMDAgECgYCCAwGBgwGDAwGCgYGDAICAgwGDAIMCggMCggMBgIEBAICDAwMCggCBAQGCgICCgoCAgYECAgMCgICCgYGBAQIDAoEAgIKCggMCAwGCAIGDAQEBgIKAgQEAgwGBAoKBAoMBAgCAggEBgIMDAgGDAoMBAwIAgoMBgYEDAwCBgoEBAQKCgYEBgIMCAwMAgYMAgwCBggCCgQIAgYGBAwGBAIEDAwGCAoGBgYCCAIMDAYKBAwCCgIEDAwMCAQCDAYCDAwKBgIEAgYGCggCBAYGCAQIDAoEBggIAgIMDAYKBggICggGAggKCgoGDAoMDAoKDAwMBgYMBAgKAgwMDAQKBggKBAgGAgYCAgIKDAYIBAgCCgQCDAIGDAYEBgYKCAIICAoMBggCAgQICgIGDAYIBgYCBAQEDAIGAgIIDAYKCAoCDAYECgIMAggEDAwKBAQMBgwIDAwMBgIGAgoIDAYMCAwMCAwKCAwCBgoCCgoIDAwIBggMAgoEBgQKDAoKAgIGCAIGCgoKCgQGAgIMAgQGBgoIDAoMCgYIBAoMCAwGCAwKDAoKCgoEBgIEDAoMBggGCgYEBgIECAIMBgQEDAIEAgIEBgIKCgIKBAYKBAIKCgYGDAgEBAoICgIEBAIICgoKBgwIAgwGBgQIAgIIBAoCDAYKBAoGAggGBAYMAgQICAYEBgIMDAwIBAQIBAgGAgoMDAgMBAwCCgQMCgoCBAoMCgwMAgQEBAIGBAQCCgwEBAYEBAgGBgoGCgQMDAwCAgIICgQEBgQCBAIIDAYECAIEAgYCBAYEBgoEBAIICAwEBggMBgQMCAQMBAYKCgoEBgICCggGBAwGDAwCCgIIDAgGDAwEBgQEBgwKBAgKCgQEBggEBAgIBggICgoECAQMBAoCAgYMDAQIBAgCDAwEAggECAwCBgoKCgoKCgoECggGAgIGCAQMBgwICAwCDAoCBAoECgYMDAQKCAYMCgIMAgYECgYIBgwCBAIMCAQMBgIMDAgKDAQMBgoMBgYICggGBgwMBAQMBgwCAgYIBgYKCgwMBgwEAgQKDAoMCgIMCgIGDAYECgYECAIIDAgIDAIKBAoKDAwIBgQICAgKDAwCBAYMCAIKCAQMAgQKAgIEBAoKBAQICgoMCgIMDAQGDAoIBAoMBggGBgIEAgQKCAgICgIMAgQGAggCBAoECAQMBAYIDAQEAgYGCAgCBgoICgYMCgIGCAQIDAgECgYCAgwCCAoKBgYGBAIMBAIGAgYMDAwCAggCCgQIAgIGAgYMCAQMBgoEAgoIBAQMCgQMBgwMBgYMCAoIBAgCBgwICAwGCggICAIECAYIBgQKDAIKDAgICgwCCAoCDAoMCAICBAYMCgYMAgIIAgQCBAIGAggICAIGCgoCAgYMCgQECggGCAQMBAQKAgIKAgQGBAQKBgwIAgoGDAYKAgYEDAIIDAQIAgwKBggKBgIMDAQEDAQGCAQCCAwEBAoKCAoECgICCAQMBAYMCgoEDAQGAgIKAgwMBAoKBAIMBAgCAgQECgwMCAYCBgIKCAgCBAIMBAwKBggCBAgKBAoMCAoGCAwCDAwIBgIEAgIMAgYEBgQEDAYMBgIECAoIBgwECggCBggICgwEAgIMAgQKCAgGCggCBAIGBAgCBgQMCgoKBAYMAgYIBAYKBAQIBgQMBgwICgYGAgYCCAYECAYEBggIBgQECAoECAYKBgIMDAoEDAwMDAIMDAYGAggEBgIKBggKBAgGAgIGBgwCBAoIBAgGBggEAggICgoMBgYMCgwECAwEAgwMAgwGBgIICAIICAoMCAwMCggGCAQMCgIIBAYEDAIGCgYMCgIIAgIKBAwCBgwCAgoCBAwMCgYCAgIGAggMCAgIBAoICgoGDAgMCAIICAYGCAoEBAoMCAoGCAgCDAQKBgYCAgQGCAQKAggECAYIAgwMCAgCDAgIBAgMAgYCCgIMBAgECAgKCAICDAgGBAQMCgQCAggCCgYECgQKAggIBgYKBAYKDAYICAoKAggECgoEBAoMBggCDAoMAggICggCDAIIBAYMCAoMDAoECAQEBgQGCAgKAgIECgoEAgIMBgIIDAwEDAgICAQKDAYGCAoGBAwKBggIBAwGCggCCAYGDAgCDAoEBgIGBgIEDAoCCggCBgQCBAYGBAQEAgwMAgICCAoKDAYEBAIICgQCBgYGCAQEDAIKBAYCCgIKBgQKCgQIAgwIDAIECgwGAgwICgwMBAQIDAIICAoEBgYCCAgCAgQGCAgIDAICDAYECAQKAgwEBAgKCgQCBgIEDAYKBAQGCAIEDAYEAggECggECgIIDAYKBgQICgoEDAwCCgoCBgoKBAYEBAQCBAQGDAoECAIKBAQEDAIGAgoMDAwKBgIGBAgIBgIEBAIEAggGCggECAYKBAgCBgIMCAYIBAIEDAIGBgoEAgIICAwGBgIGBAIIAggECgQKAgICCAgMBgoGDAwKBgQCBAQICgwKDAQGBgQCBgYMAgYEBgYCDAYEDAwCCAgGCAIICgIGDAIMBAIMCggICAoGBAoEBgQKBAoCAgYCCAgEAgoKCAQIBAoMCgwGDAgIDAwGAgYGBgIIDAwGBAoCCgIKCAoIAgoGDAgKBAwEBAgGAggMBAgICgQICggIBgwCAgIGCAwECAIMCAQGBgICCgQIDAgKCgQCCAgCCAYICAQECAwMCAgEAgoKBAYMDAYEBggCDAgMDAYEBgICDAgGDAgIBAwEDAoMAgIKCAYGBAwIBAIMBAQKCgYCCgICBggCBgQCAgIMCgIIBggKDAwECgoGCAIKCgoCCAQMAggGAgwMAggKBgoMDAQMBAgECAQKDAoMCAYCBgIGCgYKBAoMDAgGBgoMBgoMAgQMAgICAgoMAggMBAQKBgoIAgIGBAIMCggIBAIEDAoEBggMDAgMCggMBgwGAgYKBggCCggKBAwGCgQMBAoGBgoICgYECgwCAgQMDAoCAgwMCAoEBgQEBgoMDAIGCAIKDAwCBgQIDAIKDAwECAQKBggGAgYMCggGAgYKBAYCDAYGAgoMBAgKCAYGCAgECgYMCggMBAIMCgoKDAgCCAwGBgwIDAoCCgoCBgoICAQECgIKAggMAggCAgYKBAwECAwMBgYEDAQECAYKBAgECggMCAgIAggKBAgECAYKCgIKCgwCBAQIBAYCBAgGDAgGBgoIAgoGBgoGBgYGBAoGCAoCCAICAgYIBAwIBAwMCAoICgwCDAQICgICAgQMCAwIBAoGAggGDAwIBgYEBgYECgICAgQCCAYEBAgCBAIMBAwIBAoEBAIKBAQIBAwMBAIMCggEBgoGAgQCBAgGCgoIBAgCBgIEAgICBgoCCAwKBgYIAgIKCAwKBAYGBgoMCAIEBggKCgICCAIMDAYGCAwCBgQIDAQGDAwMCAwKCgwICgwKBgoMBAgEDAQKBgoMCgIEAgYMBAoGBAYIAgIGBAYIAgoEBggMCgoIAgwGBgIMCgYGBAoCCgQICggICgYICgQGCAYGBAICDAoKDAgKDAQIBgQKAgICDAoMDAwCCAoMCAIIAggMDAQICAgMBgYEBgQEBgIIDAwCDAQIBAwKCAIGCgYGCgICDAgEBgwCCggMCgIECgQMDAYGCgYEBAwCCAoCBAQEBAwKBAYIDAYKCAIGBAICAgoCCAoGBAoEDAQGCAIMAgYEDAoICgQKBAYIAggGBgQECAwGCAgCBgIIAgYGBAwEBgQEBAgIBAwCDAQKCAgMBgoIDAoMCgIECAQKAgoCCAQCAgIGCAYIBgwGAgoKBAYEBggKBAYMBgIGCgIKCAIIBAgMAgoGDAgIAgoCBAoECAICCAQECggMBAwCAgoCDAQMCAwIDAgKCAQKDAIEDAwGCggKAgoCDAYMCAoEDAICAgoGCAQKCgQIDAQIBAwKCgoGBAQKCgYCBAoICAgMCAwMAgIICgoGCgYIDAgMAgoECAYCCgQKBgwCBgwIBAgCBAwICgQICggGBAQMAgwEAggCBAoGDAIICggMCgoKCAwCDAoCCAQIBAwIBgYMCgoICAwKAgwMBgQCAgwKCgIKDAoGAgQGCAgKCAoCBAwECgwKBgYKDAoKDAwCCAwCCgwIBAgECAIKDAoKCgQKCgIIDAgMDAQIAgYGBAoGBAoCBAQEAgYMCgwEAgYEDAQGBgYGBAoGBAQMBgwMCgYCAgwIBAQIDAQKBAwGCAIGBAYKBAQGDAYMBgoEBggMAggMAgIGBgwKBgwKCAgGDAQKDAYMBggECAIKBAIGBAQIBgQGBgQMBAwEBAgGAggKBAIGCgoGDAoMDAwCDAwKCgQCBgwMCgoMDAgGAgIEAgIGBAwMBgYEDAYCBAQGBgwGCgYCCggGBgoCDAoGDAwIBgwKDAQIAgoMBAYGBgIMBgQMDAwIAgwMAgQGAgYGBgIMDAgKBAYGDAoMBAIIAgoCCAYGBgQGCAIGBAQEBAQEBAwCBgIICAIMBgQCBAYIDAIMBgoGCAwGCAgKCAIIBgICDAgECgIGAgQGBAwKCggEBAIKCgoMCAYMCAgMBggECgQEAgICDAoCBgwECgwEDAYIBgwIAgYICgoKBgYCCgIECAQMAgwGDAwCDAwEAgoKCAQMCgQECAYMCgIEBAgKBAgICgQEAgYGCAQGAgQIAgwMBAwGAgwGBggKBAoCAgIGAgwCBAwKBgoMCAwCCAQCAgYIBAoMAgoMCAwGBgIICAICCgQMAgICBgICBAoEDAQCCAICCgYCAgwMCAYEBgYIAgwKBgwGCAwMAgQGDAgCDAQECggMCgwGBgoCCgwEAggEDAgIBAgKBgIGCAoGDAQKCgYIBgYCCAoKCgwGDAgMCgQCDAoGDAIMAgYKCgQGBAgMDAIMCAgKAggMAgQKCgwIDAIICgwEBgIICgwMDAwGCgIKDAQGDAIMAgoECgYKBgQKCgwGCgoMCAIKDAICDAIGCgwMCgQGAgoMAgYECAIKBAoECgQCBgQKBAYCDAIKAggIAggIAgoGCgwIBggCAggIDAYMCgoEAggGBgIIAgoKDAwGAgQGAggIAgIMBgQIDAQCAgYCCgoCAgIMBggEDAgCAgIKCAgEDAgIBAIMCAYCAgQGDAgMBgIICgwCCgwMBAwGAgoIAgIKAggKBAgKAgYEDAQMBAgKCgQKCAwKCAIIBggIAgYGBAIKCAoKBggKBgIGBggCCggCCAIIBAYGCgQGCAgKBgIGCgQGAggEBAQGCgoEDAwCCgQKDAoMCAoGBgYIAgwIBAwKDAQEAgIIBgYCCgwCCgIICggEDAwMBAwKDAgECAwKBAYECggKBgIKCAICAggIBgQKDAYMBgIGAgQGBgIGCAQECAoKBAQMDAQECAwMBggKAgwCBAIMBgwMBgwMDAIKDAIECggECgoGBAgKBAoGAgIICgIIBgQEAgoICgoMCAwECgIMAggKAggEDAIMBggMCAoCCgwCDAwEDAQGBAoKAggIBgIECAwCBAwMAgwICgoMCAYCAgYGAgoEBgoEDAQCBgICAgQCBgYEBggGBgwGBgQMBgwMCAYCCAYCCAoMCAQECggCBAYMCAgMCggMCgIKBAYCCAQKDAwCCgwICgoGAgwKCgQKCggIBAwMAgQIAggICgYMCAwECAQIBAQGCAwECgoICgYMCgQCCggKBAYMDAYKCgYIDAIMCgIKDAoKBgoMBgwIBAIECgYMCgIKCgwKBAYGBgQKDAIMCgoKDAQICAQCAgwIDAgMAgICDAoCAgwMAggGAgoIBAYGBAoICgoGCgICCAoMCgQGAgQMAggIDAgKBAwEDAwKBgIGDAgECgwMDAwMCAIIDAwCBAgMCAYKDAwECAIIBAIMBAwMCAIKCAQGCgwICgQGCgQMCAgKDAgMAgIKBAoKBgYCCgIKCgYEDAwKBAwIAgYGCgYCBgYMCggICgIECggIAggKBAQMDAYEAgYICggEBgoICgwMBgwEDAQICAQEAgIKBggIAggIDAQCCgIMCgIIAggMBgoCCgoEBgoIBgYEAgoCAgYKBgQMAgwCDAgGAgIIBggIBAIICAoGCgwGDAgEDAwMCAoCAgYMBgICCggGAgoIDAoCCgQIBAoIBgIEAgYEBgYMCgQMBAgIBAgEDAIICgwCBAoKAggIBgwKAgYEBgYMCgQIAgwKCggGBAYCBAIIBAYIAgoICAoMBggECggIAgYCAgIICgoMCggMDAIGCAIICgYIBgYIDAgMBAQICAwGDAQKCAYICgQGBggMDAgGAgoCAgQECAQMBAYGDAoCDAgECAICDAoIAgQIBggEBgIMBAYMCgwCDAYCBgwKBAIGCAgCBgYKDAoGBgoGBAQMBggKAgQCAgYMCAIEDAYCDAQMDAQMDAYGCAIICAwMBgoEBAQKDAIECgwMCgwMBAYIAgwGCgQMBgIIAgIGBgQCBggKDAgMDAgIBAICDAgKDAwMAgYCBgIIBgQMCAgEBgQCCAQMAgwKBggGBAoMBAIICAYEAgQCCAgKCAQKBAwKCgwECAQCCAIKAgYIBggEBAYMCgYEDAYGBAQKBAoEBgIKBAQICAYIBAgMDAQCBAIMCgoIBAYGCAgMBgYEBgwGAgIIBAwIBAYKAgoKBAwEDAoEDAgMDAoCBgoGAgQGAgoMBAICBgIICgoICgoGCAYEBgYEBggGAgYKBAoMDAwEDAQGBgIGCAQMDAQEAgYMCAgGBgwKCAYCCgQCAggGBAoGAgwEBgoCCAQMBggKCgYCBAYGAgQGCAgGDAIMCAQIBAYMBAYKBAoIBAYIDAIMBgoGCAoKBgwEDAgKCAQECAYKBAoICAgKBAgKBAYMCAgMBAIKCgQEBAIEBAoKDAIMBgoCBgQKBgoGAgYCBAgKCAQMBgQMCAQCCgQMDAgMAgoMBAICCAIGDAgCDAoCBgoKBAgGBAgGCAQGCgIKAgYCBgQGCgQKCggEBgwCAgIMDAwICggEBgoCBAwECAwIAgIKBAwEDAQECgwMDAwMAgwKDAgCDAYICAQCAgIEBgYMCgIGAgIMDAoMBAIGDAwCBgIIBAwEBgIECgQEDAIEBgQKAggKAggIAgwGBAIKAgIIBAwECggEDAwMCAQEBAoKCAgKDAYGBAYMCggGBgYKCAgEAgIEDAQICgwGDAoKCAYEBggCCAYIDAQCBgQIAggMDAgKCgYIDAYMCgQIDAYGBAoCAgYEBAoGCAgKBgQCCAYGCAQEBAwGCAwIBgQCCggMBgQKDAwEDAYCCAoEBAwEBgYKAgIIDAIECgwECgYMCAoGBAwCDAICBAwCCgQKBAwEDAYGDAgECgIMBAoICggEBgIKBgQCBAICCAQECgYCCgoKCAQIDAQIAgYGBAwKDAoGCAYMAgIMAgwEDAYIBgIIDAoCCAwMCAYGBAwKDAoEBgoCAgoGDAoMCAQMAgIMCAQKCAgEDAoGBgoKAgwEBAYMCAYMBggIBAIKCgoIBAIICAYCBgYIBAYMDAYEBAYMDAIMBgYMBAQMCAgCDAwIBgYGAgYKCgIKCgwKAgYGCAoKBgIEBgYICgoCCggKDAIMBAYICggKBgwIBAYEDAYIDAYGDAYEBAQMBggKCgwCCgQCCAQMDAgEBgQIDAwMAgoMAgQICggMCggGCgYGAgoMCAwECgQEAgYMBAwGBAwEDAoIDAwGBAQEAgQCBAgKAgoEBgwMBgIKCgYGBgIMCAYGDAoMAgoEDAwIBgQIDAYGDAoMCAICBgIKDAgKBgQKCgQEBgIGCAwECAgICgYEAgoIBgoMBgYECAwMDAYGBAoGDAgIBggGBAQICggEDAgICAQGBgQEBAIECggIBAYIBAYIBggCCgoCBAQMBAgKBgIKBgwEBAwEBgoCCAQECAoKAgoKCAIECgoEBAgEAgoECgQKBAoIBAYEBgYMBAwGBgwGCgYMCgoCBAQCAgYKCAgGBgwMDAgEAgQMBgIMBAYIDAQICAIEBgoGAgYKBgwICAwIBgoIDAgIBggKCAgCBAwGCgQMBgYMAgwCBAQKBgQCBAwEBgwKAgQEBAQICAICCgQMAgIKCAICAgQGAgYKBggKDAYEAgYMAgQIAgQKBgoECgoECgQGCAYKCgIIBAICCgwCAgoKBgwMCAoCDAQMCgIEAgYCDAoGCgYMBggEBAYECAQECgQECggEBgIMCAICAgYIBgwKDAwGBgoICAYKDAIECgwCCAYMCgQCDAwIAgoKDAQMBAYCDAoECAoIAgICAgoCBAgCCAIIAgwIDAQMCAIMBAgECAYECAYGAgIIBgQCDAQMCAgCBAICCAYEBgYGCggMBAgECAIMCAIKCAQIBAwKCAICDAwMCAYICgoGAgwEAgoEBAgIBAIGAgoMBgYCBgwIBggICgICBgYGCgQEBAgIAgoMDAYKAgYCCAIICgIICAQMBgoKCgQIBAwIBgQEBgYMDAQEDAIKBAgGBAgGDAoCCAgCBAwICAgCBgQKAgICBAwGBAgEBAYGCAQCBAwMBgQCCAwMCgwKCAoIDAIGBAQCBAgGBgQMBgwMCgwIBgwMCAwMBgoEBAgKBgQKBAwMBgQEBAIEDAoMCAICCgwCDAIECAgMBAgGBAoCDAYCCAgEBAwGBAICBAgIBgwMBgICBAoMAgYEBggIAgwGDAgMCAIGBgQGDAQCAgwKBAQEAgQCCAIMBgQCCgwIAgYCCgIMBAwICgIIBgoGAgIMBgoMCgoKBgIKBAoMAgYEDAgEBgIIAgoEDAQCDAIKBAQICgQMBgYMDAQCCgICCgQGBAYIBAIKCAoIBAQGAgIEAgIMCgwCCgYEAgoGCAwECAgIDAIMAgYECgoEAgYGCAQICAIEDAYMAgQKCgYIBgYCAgYEAgwCDAQEDAgCAggKDAgKBAwCAgwGCAYMBgoKBgwIBAwEAgQKCggIBAYCCAYMAgoEBggMBgwCBgwIBggCCgwKAgYKBgwECAwMCggMDAQKCAQGAgQMCAQEBggIDAwGCgQICggMBgIGCAwEBAQIAggKCAwKBAoKDAwEAgwICAoIAgIEBgYKBgQCBAYGDAwCBgQKDAoIBAICCgwEBgICAgQEDAYGAgIECAoIAgIMCAwGCAoGBAQECgICDAQECgQCDAQGCgYGBAQGDAgEBgQKDAgKCAYMDAYEDAwMBAwEDAwMBgIGAgQKBgQICgQGDAYIBgICDAYCCAwMBAIIAgwMBAwKBAoCBgYKCggIAgYICggGCAgIAgwEAgoMCAQCBAYICgoEDAgKAggMDAoGCAoICgIEAgoMBAIMDAgKDAgKBAYICgYKDAQIBAIKCAQGBgYIAgYEDAoCCAwCCgYGCAQGCAIMBggIBgIGDAwMBAIMBAoGBAwMCAYCDAIICggECAYIBgYICAYMDAoCBgwKDAIKBAQIBgYECgQICgQGDAQGBgYKAgICBgYCBAQICgoECgoGCgwKDAICCAIMCgQIBgoEDAoMDAQCCgIKDAoIAgoKBAwEAgQMDAQMCgwKAgoMCgwIDAoCAgwCAgYIBgwMBAwMBgoKBgwMBAoCAgQGBAoCBAQKAgYCCAwGCAQCDAoMDAgMBAYMBAwGBgoKCgQCAgQCAggEAgwGBgoCCAoCDAoIBgICDAwIBgoGCAIGCAwIBggEAgYEAggECgQGAgoKAgYMBgQECgwICgIGCAgGDAgKCAoMCAgMBAQMAgQIBgwMAgoMAgQCAgoGDAgKAggMDAYICAwIAgwEAgYMAgYEAgoCBgYMCAYECggMDAwCBAYIBAgMAggMBAQMCgIGCgYEBgwICAwECgYMCgQKBgoKCAQMDAoEBggKAgYKCAgGCAoGBgYKAggECggKBAwGAgwMDAICBAQGCgIMCgQKDAoMCAoICgYEBAIEAgQMAgoIBgoCCAwEBgQECgoMCgoGBgwIBAoIBAYCAgoKAgYEDAwEBAwCAgwEBgYCCAoEDAYKBgoCCgwEDAIMBggCBgwCBAIIBgQGCgwGDAwGDAYMDAIMCgoCCggECAgEBAYEDAwIAgIKCAICCgQGBgwICAYKCgwGCgIGAgQGBAYMBAQIBgYKAgQEAgwGDAoCBAYKBggMCAoIAgoMDAYIDAIGBAgGBAYGBgYCAggMCgYKBgwIBgIGCgQICAwEBgwKBAwGBgYCDAQGAgIKBAoEBAYICAIKAgQIDAwCBgwMBgYEBgoGAgYEBgoGCAgGDAYGAgoEDAgGAgQKBAwICAYCCAIICAYKBAICCgIGAgYEAgwKDAwCBAwKDAoKDAQMBAgGBgIKAgwECgQCAgICBggKCAgMBAYGDAIMBAwECgICBAgGCgwCCAgCDAgMCgoEAgYICAIICAoKCgoKBAwCBAIMCAgGCAICBgQICgwKCgQECAIMDAICDAYICAgGCgYECAQEBAYIBAIECAYMCgwMAgwMBggCDAgKCAwCCAoIDAQKBggEBAQMCgwIDAQGBgIKBgYGBgoICAIKAgoCCAYMDAQEBAoEAgoKAggGDAIGBgwKCgIMBAoIAgIMBgQMBAwIAgIEDAICAgoGBAYECgoEBAgIBAoIAgQCCgwMCgwGBAQMAgYCAgIIBgYECgwIBgYIAgIIAgoMCAQKBgYIAgwGAgoMCgYMBAQMBgwEDAoIDAYEBgwMCAIMBAwGDAICCAICCAgKCggCDAgCAgYCBAwGCAQEAgIMBAwCAgQEDAoICgIKBgwKAgoECAwGCAgKBgoCCgoEAgoGCgICCgQGCAQCDAoKCAIGBgYECAgECAQGCgQMDAIKAgwKBgwICgoKAgIMAgQEDAwCDAoKCAgEBAwCBgoGCgwECgoEAgIIBgICCgwEDAwIDAIICgIKBAwGAgwKBgIIDAYCBgYMCAgIBgQCBgoGCAIGBgIGBAQECgQECgoIBggCDAIMCAwKCgIGCggKBAIMBgwMDAgEBAgIBgwIDAwKAggIBAYCBgYMCAYGCAwMBAQGAgQMCAwKAgICCggGDAQMBgwEBAIKBAoECAwEBAgGBAoEDAQGAgwGDAgEBgwKCgoMBAYGCAoEBgQEDAoICAoICgQCBgYIDAQECAwECAgGCgICAggICgwKCggCAgIGDAQKAgoEBAwMCAoKCggCAggGDAIGBAQEDAQKBAYGAgoGBgoGBAgEBgQMCAYEDAYKBgQMCgQMCAIMBgQCCgIMDAoMCAgECAYIAgQCAgYICAICDAYGBgIMDAYMCgwIBAYGDAoMAgIIBgIGBAwCAgoMBgIGCgQMBAIKDAgGDAgGBAIMBggIBAgMCAICBgIMBAoIDAoMCAYGBgwMCAIGAgoIBAICCgoIBgwMDAgKDAQIDAIKCggIBgoEBgIGAgoKBgIICgYCDAoKCAYCAgQGBAQKDAYMBAYGCAwMCAQEBgwGDAoCCAoKDAYKCgoKAgIIBAgICAIEBAoGBAQMBggGAgYIAgYCBgIIDAoGBAgKDAQIAgwGBAwCBAoMCgwGBAIKAgQCBAICCAIEBgwCAgYEBggKBgQMCAQCCgQCDAYCBAgKDAwMCAIEBAgIAgwEDAIKCgoICAYCAgYKBAwEDAIKDAwECggGCAwCCggKBgIMBgYKBggGCAQGBgwMBgoGBAgCCAwICgoCAggCCAgKBAwKCgIGDAgGBAgKCggCBAwCAggCAgoGCggGCgYIBAwKCgoGCAICCAwKDAICCAIICAwGAgICBAwGCgICCAIECggIDAIKBAIKDAoIBAgKAgwKBgwECgwMBggKAggMAgwIAgIEDAwGBggEAgIKAgwMCgwICgQEBgYECggMBAYMDAYIBAYGCgQGDAgECgQCBAQECAYMCAQKAgYKBgQIDAwEBgIGBAwKCAQEBgwIBAYKAgoCAggEDAIKCAoGBgoKCggECAwGDAgMCgICAgQEBAgGDAoKDAQEBAgKAggCCgIKCAYICgYEBAgIAggMAgYIAgoCCgQMCAwIBgQICAwMAgQGAgoGCAwIAgoGAgYGAggEDAgGCgoKCAgIBgYICgYKBgYMBAIIDAIGBAQKCgYMCgYGCgYIAgwKCggCBAgGDAICDAwGBAwKBgICCAwMBgQKCgoCDAQMBAQMBgwGDAYECgYMBgIKCgQMAgQGCgoCDAYEDAIIBAgKDAIKBAIEDAYEAgQIBggMCgoICAIKCAoMCAwGDAIGCAIGCAoMDAwMDAIGBAIGAgoECAoMCgQIBgwKAgoMDAQICgQEBAYMBAIGBAYGDAwEAgQCAgIMCgoGCAYKDAwIBAwIDAwGCgQIBggGCgICAgIKCgwEBgwCCAYMAgQCBggCDAYKAgoCBAICBAoKCgQCCAoMCAYMBgwMBAwCCAgKBgQMBAYKBggCCAoKCgQKDAwKAgYCCAgKDAgIAgIIBggEBgQGCAYCAggECgoMBgIEBAoKBAwGBAQGBAgIBggIDAYMDAgGCggKBAYECAgECgYGBggCDAQIBgIMCAoECAoMCgYGCAwCAgIIDAwIDAQECAgEBgYKBgIGDAIKBgwMDAQKBgQGDAoMAggMAgwIBAYGCgwKDAYIBAQMBgIEAgIEBgIKBgoIAgIECAYEBAYMAgQMBAYKCAoIBAIMCggCDAYECAYIDAIKCgQMBAgCBgoICgoECAYMBAQGBgoCDAIEBgoKCAIMBAIEDAwIBAgEBAoCBAIECgwKBAwCAgYCBAwCAgQKBgYMBgYECAoGBAwMBgIGCgYKAgoKCAwICgoCCAgMAgQECgoMCgwGCAgICAgGAgoKBgQKCgQEBgYCAggCCgwCCAwGDAQMDAoIAgoGBgQMDAQGCAwKDAoKCgYGBAQMCAwIBgQKBgoECgwKCgwKBgYGBAQCBgYGCAwCCAoGBgwMDAwMBAoCCAwGCgoMAgYCDAwICAYIBAIIBgIECgoGBAIMBAYICAgCCAwKDAIKBgIKCgoIAgoGAgIGBAwECgwICAwICgIIBAgMDAIKDAYIDAYCAggCCgQEBAgCCgQICgQEBgICBAQECgwMBgYCCAYKAgoCCAIEBgwGCgYIAgQGCAgCCgwCDAIGDAgMAgwKBAYIBgwMBgwCDAQICgoGBAIKDAgKDAgMBAwEDAoCDAgCBAoGCAYGCAoEBgYEBAYCCgQCCgwCDAICBgQEAggCBAIEBAICCAYCAgYGCgIGBgIICAIMCgQCAgwGBgIEDAwKCggMDAQMCgwMDAYICAYMBAIIBAoICgYMCgQKAgoKCgQIDAYGBAoICAwGBgYCCgIIAgoEAgIGDAwGCAIMCAwKCggMCAQKCAwEBggGBAoIBgQKAgYMDAgICAQCDAoGBgoKCAwGAgwICggCBAoIAgIKBgoCAgIKBggCAgYIDAYCCAQKDAoKBgwECgwGDAgEBAQKAggKDAICBgoGDAQEBAwMBgoECAgKBgwKCgYIBAIMAggMCggCBgQIBAIKCgoEBggMBgYEDAIMDAICBAIICAgEAgoCBAQMCgwGBgYIAggCBgIIBAgKBAwEDAQKAgwECAgCBAICAgoICAIIBgQGBAgCBgYMBgwGBAgKBgwMAgQGDAQMBgIMCgwCDAQEDAwIBgQKCAQIBgYGCgIGBgIMBgYKAgYKCgIKBgQKBgwCBAQKBAgIBggGBAwMCgwGBggKDAIGCAQCCAYCAgwIAgYKCAQECAYGCAIECgYCBAgIDAQKCAoMBAgKCgYKCgYCAgwGBgwEAgQICAIKCAgEAgQCBAwKBgQICgQGCgoCAgQKCgYMAgwIBgQEBgYGCAIIBgIICAIKCgoMCggMBAIKCAYGCgQGCgIMBgwGBAQMBAwIDAIEAgoECgoGAggGAgIGCgwMCgYKDAQEBAQEBAICCAgCCAQKDAIMBgwICAgKBAYEAgoGAgIEAgYEBAYEBgIKDAQCBgIMBgICAgIKBAYGBAYEDAICCgoEBAIIBAIMBAwCCggMCgoMCAIEDAgICAgCBgwCCgQMCgYGCAIMDAIIDAIKAgoECgoGCggEAgoMBAYEAgYMBAgMBAgKCAYGBgoEBAoMDAoMCAwEAgwGDAgKBgIKDAoCBgQMCgQKCgQGCAQICgICCAIECAoECAYMCAwKCgYGDAoMBAIKBAwECgQECAwGDAoECAYKCAwCBgwGBAYMDAYEBgYMBgoEBgwIBgoEAgQGCgQIAgQMBAoGBAoCCgQGBAwICAYEAgQKCgQICAYGCAYEBAgMCggGBAgGBggIAgYCAgoGCggKBAIMBgoICAoIDAoKAgQECAwMBAYMBAwEBgQKAggGCgQICgoCDAwCAggEBgIMCgoICAoIAgQKCgwIDAIEBAoMBgIIBAoEBgIMDAwCAgwCDAQKBgQCAgQIAgIECgQIDAwCCAQCBgQMCAIEBAYMBgYECgYCCgQECAoGCAICBAQICAwIBgwGCAIMBgQECAoCDAoGDAoCCgIIBAIMCgQGCgQIDAgEBggEAggGBAgIDAQGDAoECAYGAgwKCgwKBgoKDAwECAQEBAIGBAgGCgYMAgoICgwEAgQMCAQEBggMAgYIDAoKCAgMDAgEBAgCBgoEAgQMCggEAgoIDAwKAgIKBggKBAYGDAIGDAwGDAIIAgwICAwMCgwKAgwKAggICAoECgYCBAgKCAYEBAoKBAgGBAgMDAgICAgKBAICDAgIBgYKBggGCAYMCAIICggECgQECggECggIBggKCgQCAgIICAIKCAQEAgQKCgQICgwECAIEDAQEBgwCBAIGBgQMAgICBAgEDAICCgICCAgICggCDAIIDAQKAgIGCgIGBgoGCgYMBgwIBgYGBgYIBgwMBgYCCAwCBgoMDAoIBgIEBAgEDAgGCAIKBgQCDAoGCAoKCAIMAgIGBAQGCgYCBgoGCgQMAggIBAYGBAoIBgQEBggCDAICCAoIBgIECgIKDAYGBgoGBAIMDAgIAggICgwMCAgICgwGDAoCDAwKCAoCAgIGDAQCBgQKAgoEBAYCDAYCBgYMCgQKAggMAgIEDAgGCAYMAgQGAgQCCAIGBgoECAYKCAIKDAYMBAYEDAYICgQIBgYEAgIICgwKDAwKBAoMCgQECgwCBgQMBAICDAICCAYCDAgCBAoIDAgMCggGDAgMDAoKBAYIDAoMAgIEAgoCCgQKBgYMDAoMAggIDAwKCAwCDAwKCAYGCgQCCgYKCgYGBggKCgIGBgQGBAgICgoECgoEAgoMBgIEBggGBgwCCAIKBAgIAgQGAgYGBggMCgICAgYMCgYCAgYCCAQMAgQKDAwCAgoGCAYMCgYCDAYMDAwCCAQEBAYGCAIICAIMCgYKDAQIAgIGCAQICgQCBgQEAgQKBAYKCAoGCAYCCAIIBAoCBAQIBAYKCAICAgYICAoMAgIEBAoGBAIICgoKBAoICgQMCgYEAgoCCgoIDAgICAoKCAQGCAgGBggKBgoIAggCDAwCDAYEBAQGCAYGDAYICgwEDAoIDAoGAgQIDAoCCgoEDAYGCgIGDAYECgoMBAoIBAgKAgoECggEBgoEAgwKDAYCBAwEDAIMBAQIAgwKBAgKCgIECAwKAgoMCgoIAgIKAggMBggEBAwMCgQEDAoMCAoKCAICBAQIBAwMDAoIAgwGCgICBAICCggGAggIDAwICAoMCgIMCgIKBgYMDAIKBggICAoIBggCCAIEBAoEBgYEBggIDAoECgwCBAQGBgIMAgoKCAoIDAYIAgIGBgoMBAYGBAYEBAoKBgYEBggMBgwMDAQECAgKBAoMBgwEBggKCgoCBAQECAQGDAIIBAQKCAQMCAQKCAgMBgwKCggGCAoMCgIIDAwGCgQEAgIMAggEBAgGCAIICgoECgoKCgwGAgwEBAYCDAwKBgIMBggMBAoIBAgIDAwEBAIGBAQCAggECgYKBggMBAoICAIIAgQKCgIKCAIIAgIGDAwCAgwGAgwCBgIGCgIKDAIIDAIMBAYCCgIICAwKCgQICgQECAICCAoMCAYEDAoGAgwEAgIIDAYKBgYCDAgCCAoKBgIEDAQKBgQICgYGBgwMDAQKCggIAgQCCAwCDAoGCAgCBAYIDAgEDAIEDAQGBgwGAgoICgoMCAYKBAICDAwMDAYICgIEBAoGAgoECgIICgIGDAQCAgYEBgoCCgYKBgoIBAoMBgQECAIKBgwKBgoGAgoMCAoGCAoGCAIGDAoGBAIIDAoGDAQECgQGAgwICgYMDAYIBAgGBgoEBgwKDAgKAgoIBggGBAIKCAIKCgIICgYCCggKCgQKAgoMBgIGDAgEAgQGAgIEDAwGCgQECAIKBggGAgQECAYECgIMAggKCAQCCAQICgYCDAYKCAwEAgwGBgoIBgwGBAYKCgYCAgwMCgICBAQCBAgECgQCDAQMBgwCCgIMCggKBAwEDAoGCAoCBAgECAwGCAQCBAoEBgoMBAIKAgoEDAgIBAwMBggMCAYMCAgCBgwCBAQIBggCDAIGBgoCCAICAggGBgoCDAQMBAwKAggGDAgEAgIECAwEAgoEBggMBAQKCgwKCAwCBAgEBgwECAgMAgYGCAwCAgQEDAYMCAoCBAwKCAwKCgQGBgICCgQIAgIGCgwICAgIDAYCAgYKDAYCCgoIBgwGDAQCAgwGCAYCCAIKBgYEDAIECAYGAgQGAgYCBAoKBAQEBAYCAgQMBggCDAgMDAoCDAQMBggCDAIECgwKAgoKCgoEDAgCCgIEBAgKBgICBgIECgwEBAoKBggGBgQCDAgKAgYKBgYIBAgECgwIBgwICgQGDAwCBgwKBgIKBAIKCgQMBAQIBgIMBgYIBgoMAgIIDAQICAoICAYMDAoIBgIEBAYGBAYCBAIMBAoMDAQKAgoGCgIEBAoKDAwECAICBAIKAggIDAoGBgwEBgIMDAwCAggECAgKCggKAgIGAgQKAgYKBgIECAgICAQCCAICAggMDAQCBAoMAgIGCAYMCAQIBAIKBgYMDAwCBAQIAgQMBAwKAgoICgYMBgoCBAQGCgwCBgYMAgYKAgoCDAYIAgoGBgoMDAwIDAICAgoGBgQGBAIGBgQKDAwKAgIICggIAggMBgIIBgwIAggIAgYICgICCAQMCAIMBggKDAYKBAIGCAQGBgYCCggMCAQMBgQKDAgGBAwMCAwMBAQIBAQKDAQIAgQMDAQGCgoKCgYIBgIKCAYMCAYEBAwIBgIMBgIIAgQCAgIICgwMCAgMAgwCDAIIDAQIBAIMBAgEAggMBgQGCgIMCAoMDAoGCAgICAgEBAIMBAoEDAIKBggGBAgEBggCAgwKBgwICAwICgQKBgYKBgwCAgoGCggIAgYEDAYKCgYMDAoGDAQKBAQIBgwGDAwCBgwEAggCAgoKDAoGBgQCBggIAgQICgoEDAQKCgIEDAIMAggCDAIEBgoMAgQKAgIICAQEBAIECAYGBAoEBAIGAgoKDAYEDAwCCAIKAgIGCggIAggCDAwCBAYCCgoIBgQKAgoECAwEDAwECgoGBAIKDAYGAgwGCAQKBAoGCgwIAgwKCgYKBAgGBAwIBAYIBggCBAgIBAQICgoMCAQEBAIKBAoKCggCBgYIBAwCBgQEBggICgQICgQGBgIICAYMDAIKCAoGCAYKCgoCCAYECgQMCAYMBgoIBAQGCgoKBAoGDAQEAgYEDAYMDAgEAgoIBAwCBgIMCgYICAYCCAwMDAQEBAIGCgIECgQMCAYMBAYCBAIGAgICAgYCBAgKBAgGBAwGAgoIBgoMBAYMAgwMBgYMAgQEDAQICggCCAoKBgoIAgQIAgoGCAQECAIGBAwICggIBAIGCggGBAIMDAYMCAgECAYCAgYCAgQIBAgKCgICDAwEBgoGCgICDAIMCgYGAgIGBAwMBAgCBgYCBgQKBAgIAggKCgIMAgwMBgoGBAwCAgQMDAQMCgYMDAwIBAYKCAYCDAIICAgGCAgEBgQMAgQKDAYGAgIEDAYIBAwGDAoCBgQCCggKCAoGBgQEDAgICggIBgoMBgoCAgQCDAQCCAoGAggMCgYGCAIGBgoMDAYCCgQCCAIEBgQKCgwKDAgIAgoMCAoIBAYKCAgGAgQGCggEDAQCBAQMCgwCCgQEDAgKAgYGAgQMBAYIAggICAQECggIBgIEBgYGBAIIBgwMBgwMCAoECgQCCAgEBAQKCgYCBgYCAggGDAIMCgoCBAQCBggKAgYCCgIMCAIMBAYIBAoMBAgCDAYEBAQMBAgKBAIIBAgCAgQICgoKBAgMDAIIBgwICAIMBAYKCggKDAIEBgwIDAYCBAoGBAQKBgoCAggEDAwCCgYMBAIKCgQGDAYKCggECgQCBAQKCgICCAQGBAwGCAgCAggMBAQCAgQMDAIGCAIMBAwMBgICCggGCAYEDAYEBAwGAggECgQKCgIEAgQMAgoCCAwEBAoICAQGBAgGCAYIDAQKBggGCAgIBgIGCggEDAQGCgYECggEAggIDAoGCAIGBgwMAgIIAgQMCgYKAgIMDAgKCAoCBgYCCAIMBgQMAgQCAggIBggECAwMBgwIBAgICgQKCgoKBAwEBAIIAgYICAIMCAgEAgQKBAwCCAwMCAgKDAwKAgIKCAoICgoCDAYEAggECgQGBgoKBggKBAgKCgoKBgYCCAIMBAgCCggKAgIICgoMBgQIBAwKCgYGBgwEBgwEBAwECgICCgYIAgYMBAgEBgQEBAwMDAIIDAYMAggKDAQEBgQICgIMCggCDAICBgYKAgQMCgQICgYCAgQGBAYMBgYMCAoKBgoGBAYICAIEDAQGDAoIBgIICgwKDAwKCgIKAgIKCggKBgwEDAYMAgoIBgIMCgICCggGAgoKDAwEDAgECAwCBgwICgYGCAIEBgQMDAgMAgYICAQICAIKDAYICgYKDAYMAgICAgQEBgwCBgIICgwKCAIEBgoKDAgGDAwCCAwIDAgMBAoCDAwGDAwKCgwKAgIICAYGBgIGBgIGDAIMBAICDAwCCAoGDAYCAgIKAgIEDAoMBAQGDAQMCAQMCgQIBgoKBAoKBAwECAYKCAQCBAQICgoGAggECggGCAwKCgwMAgwCCggGCAQGAgQIBgoKBgwIAgwEBAwMBgwCBAwMBAgEDAYECgIKCAQMCgQKCAIKAggIBAIECAYIAgoGAgwMBAoGCAQKCAQICgICCgYECgIGBAYKBAwGCgIMBAwIBgwCAgIEDAIMBAYKDAIMCAIECAIGAgwCCgwEAgYKDAICDAwMCAQKBAgKCAQMBgYKDAYMCgQCDAQIDAYMCAQGBgoMCAYMCgIICAIKBAQEAgQKCAoGBgYCBgwCBAgCBAYGBAIEAgYMBggMBgQICgQKBAIKAgQMBAYGBgIGAgIICgwKAgQKAggCCAYGBggCDAYKBAwCAgIIAggKDAoKBAwKDAoMCgYMCAoCDAQMAgQCDAgGDAwGDAwKDAIEBAYEAggKBgIMDAoIAgYMAgIEBgwKAgYCAggKCAQMCAgKCggIDAQEBgIMDAQIDAgKDAYMBgQKAgQEBgYEAgwIBAgEBgYKCgoMBAwCBgYCCAIGAgoKBAYKCAwCAggGBAQKBgwEDAQCDAgEBAgGCAIIAgwMAggCCgQCCAYMBAQCBgIECAwCBgoEAgoKDAYGBAwMBAYKCAoCBgwECAYGBgQMBggCCAYIAgwEBAYKCAwKCgIICAgIDAwMBAwEBgwCCgYIDAwKCgIGCAIMCgQEAgIKDAYEBgwEBAIECAwMBAIEBgwICgIMBAgKBAYEBgoGBgQKBAYKAggKDAYGCgwIBgwCDAwIDAYKCgwCCgYGBggGBgQKCAgEAgoECgoIBAIIDAQECAYKBAgEAgIECgwGBgYECAQMDAIKBgQMBAgIDAICCAQMCgIGBggKDAgCBAYEAggIAggIBAQCBgICDAQGBgIMCgwECAgMCAQMCAoKDAgEDAYKCgIGBggICAwGBgoECAYGBAYKAgYIBgQKCggECAQECAgKDAgKCAYEBAICAggCBgYEAgoGCAQKAgYCDAgCCggKBAwGCgIMCggMBgYKDAwKCgYGBAgMCgoMBAQEBAgKBAgIBgQGBAYICAoGCAYECAYCAgYEBAQIBggMBgYGCgoGBgwKAgwMCAYKDAwMBAoCAggKAgwMBAoEBAQCAggEBAQICAYICAQCBAwICAoKBgIMBgQECAYCCgoIBgIKDAIKBggCBgYIDAwKBAYIAgoMCgoCAgoIBAYMCggCBAgEAgYMDAYIBAoEBgoIDAgMCAYIDAoCAgQGBAwKAggGDAwCDAoMDAYMCgoEAgwKAgQKAgQMCgoEBgoECgQIDAgEBgQKCgQMCgoGAgIMBggGDAwKCAYMBAQIAgQGBgYMCAQMBAoMBAYKAgoMDAYEDAgCDAwGCgQIAgwKCgQGDAYMCggIDAIEAgIECgICAgoKBAQIDAgCCgwGCgoKCAoICAYEBAQCCAYCAgYICAIICgwEDAoIDAoKCgQEAgwICAwGCgYKBAwGBggIBAIKBgoGCgwGAgwEBgIGAgYEAgwIAgIGDAIGCgIGBgwEDAoCCAwKCAYCCAoIAgQIBggMAgwGBAYICggGBAgIDAoMAggMBAwMCgICCAgCBggKDAIGCgYCDAoCBAICCAYCCgoGCgYEBAYKAgwKAgwIAgQMAggGDAgEAgICCAIMAgQKBAIMBAIIBAQECgYMBgoIAggKBggGCgQGCgIKBgQCDAoKBAwKBAIGBgQKCAgGDAQGAgQCDAwKCAwGCAIEDAIGBgQCCAoEDAQKCAIKBAgKBggMDAgCBgIEBAgKBgoIAgoKAgIMBgIMCgoKBgIKCAwIBgQECgQECAwKCggGDAgKCgIKAggCBAQKBgoCDAQKAgwIAgoEBgQEBAIGCgwCCAoMAggMCAwKBggKCAYEDAgMBAICBgoEBggGCgoEBgwIBAYMCAwICAwKBAoMDAICCAoECgYMDAgKBgYCBAgGBgIKCgICBgwCBAwIBAwCCgYCBggGBgoCCAYCAgIEBgQEBAoKCgICBAQKDAYGCAoGCggIAggCCgoGCgIMDAoGBAwGCAYMCgIGBAIEDAQCAggGAgYIAgoCBgoKBggMAgoCDAgICAQMCgYEAgoIAggGDAoGBgQIBAoMAggKBgwGBAgKCgIMCAIGBAYGBAwCBgoIAggKBAgEBgwKBAgMBAwKBAgCBgQIBAwEBAYEDAgIAgIGAgIMBgIGCgwMBggMCgwCDAQMBAIMBgoMBAgKCgYKAgQGDAYKAgYKCgoICAwECAYKAgQKDAwGBAYMBAwMCAYKBAoGBAoKBgYKCAIIDAYCCggCAgwCCAgEAgwICAgMAgQKBAQGCgwCAgIGDAgECAoIBgIKAggEAggIDAwMCgIIAgYECgwCCgoKCAQGDAYKBgwKBAICDAgICggCCgIICgwMAggIDAwMBgoICgoGDAYMCggKAggMCAwIDAYICggMCAQIBAQIAgoECgQGDAoKCgYIBAIGCAoIDAoKCAYGDAYICgwKDAoEBAQGBAQMBAwGCggCBAwGBAoGCAwICAYGAggGCAgEDAIGDAYCDAwGCAgCCgoIAgQCCAQGCgQCBAIECAwKCAQMBAIIAgIGBgwCDAwGCgoKBgwIBgoECggKAgYGAgoCAgIMCAwICAwCBgoCCAYEAggEBAwCBAIMCAwECgwGDAgGBgIGDAIEAgwEBgQMCgICBAIKDAoGBAIGCAoEDAQEBgIMBgoGAggCDAQIDAIGAgICCAgEBAoGCAYGCgoCCAYKBAgMCgIKAgQMBAoCBgwIAgwKBgwGCAIMAgIMDAIGBAgEAgICDAQMCgIKBAoEBgwKCgwCCgIMCAwIBAwKBAoICAgCBAYMBgYKCAYCCgIMCggKBgIMAgYCDAoKBAQKCgQGCgIGDAYGCAgCCgYGDAwMBgIIBAgCDAgGBAgGCgQGBAoCCAoMCggKBAgMCgQECAgKAgQCDAQCAgIMBgwMAggMAgQICgICDAoKDAIICAICAgIEAgIMDAgGDAQMBAYEBgQMAgQGCggKDAgMCAIIBgIGCAIGDAYKCgwGCgYIAgoMAgQKDAYMCgQIBAwKBAgCCAIMCAoEDAoIDAoMDAwCBAwGBgoIDAwIBgwKCgYGAgIGDAgKAgIIDAYKCgoICAwKCAIMBAoMBgQIDAIECAoEAgoECAoGBggECAwGCggGCAQEBgYIDAwGBgoCBgICAgIEBAgGBAwGBgIGBAgGDAIIBAQIBgwCBgoCAgoIBgQIBAgEAggCBggMCgoGCgoEAgwICgoMAgoKBgIICgICBAgMDAwKAgYMCgIGCgoCCgoGDAQGDAQGDAoCCgoKCggMBAQICgQMCAQICAgCBAgGAgQGBggIDAgMDAgGBgwEDAwGCAYCCggIDAIGDAIGBggGCgoCCgwEAgIICAoCCAoMBAYICAYGCAYICAQIDAoCBAgIAgwMAgIMAggGBgIICAgKDAoEBggEAgwMAgQKBAYGDAwMBAoMDAgCBAIIBgQMBgQCAgwICAIICggKCgoIDAoCCAIIBgoICgYMDAgMCgwICAgIBggKDAIGBgwMCAIIBggGBAoICAYICAICAggCAggEBgoCAgwICgYGBAYGDAQICAIICAYGAgoIAgoGBgwCAgwIAggEDAYICAgMAgYECgoICgoMBAIECAgEDAYIBAgIBggKCgQIDAYGCggEBgQMBgQIBgQKDAIIAggMCAQICgoICgoECAoECAwIBAwMCAIMBgwKBggGBgYMCgQMDAwMBAoCDAIMBAoGCAYKAgIGDAYIBAoGBAYCCAgIBggCDAYEDAIIAgoEBgQMDAgGBAQKCAgKBgQCCgIGDAoGBggGAgYKBAoEBAIECAoCCAgIBggGDAgIBAoKBAoGDAoCBggGCAwIBgIEBAYCDAQKBAYKCAoGDAQCCgYMCgYGBgYMBAQICgoECAICCAgCCAQMAgQMCAYKDAICBgoCBAoGBAYIBggKBAgKBggMBgoECAYICAIICgYMDAIKBAIKAgoMDAgICggGCAYEBgYIBgIMCAoKCAQKBgwMBAwEBgIIBgQICgQEDAYMCAgGBAICBgQKAgoEBgQMCgQMDAwGBggEBAYEAgQCBAgKDAICAgYCBAgGDAwICAIECgQCCAIGBAoCCAoMDAgEDAIMAgoKCAYCBAwKDAgICgQIBAwCBAwIBgYKCAwGBAgCBgoEAggGBAYIAgIMCggGBgIMBgIKCgQEDAwKBgoGDAIMBgwMDAYMBAoIDAgEDAICBAoECAIEBgYMCgoCCAYGAgIEBAYCBAwEBgQKAgoMBAQCAgwMCgoGBgwIBgQEAgYECAoIDAoEAgYCBAoKCgYEBAIGDAoCBAgGCAQGBAoMCgYCDAwCCgoKDAoGBAIMCAYIBAQGCAwEDAQIAgoKCgwEBgQGCgoKDAYGAggCDAoGAgYGAgwKAgoMDAwIBAoGDAYKAgIMCAYGDAgEBAYECgICBAgIAgQKDAIMCgQMAgQIDAwGDAoIDAYGBgoIBgYICAwGDAIEBgYMBAQCBgoGDAgEAgoKBAIGDAgECAICCgQKAgoGCAoEBgQGDAQEBAQCCAIIAggIBAoCDAIKBggMCgoCCggGDAQCCgYIDAQCBgoKBgoKDAwMCAwKAggCBAoMCggCDAwKAgoKAgYEBgICCAYGDAYKBAwMBAIMBgQKCgYGBgYKCggCCAIICAgMDAwCCgQEDAoCCAICCAIKBggIBgYIDAwKAgYMDAoKBgIGAgYKBAQCCAoECAwKCgoMDAYKBAgGCgQGAgwECgoIAgYKCgQCCAgMCgIMBgwKBgQKBgQEBgQMCgIGCAwMBgoEAgYEAggICgYMAggICggMCAoMDAoICAYCBAYCCAIMCgICAgQKAgYICgYCAgQMAgQEBgYGBgIEBAwKDAgKDAYGBgIKBgwEDAgECAwGAggGCAQKBgoMBgYEBgIMCgYEDAQICAoCDAIGAgIMBggECgQEBgoEBgYMAgoGDAoECAQECgYIBgwEDAYCCAYKBAQGCAwECgIGAgIGAgoCAgYEDAwEBAoECAYGDAgIDAwMBAoKCAIGCAYECgIKBggICgQEBAIEDAQMBggCCgYMBgQKCggGDAgGCAoKCAIMBAYMDAgKCgwCCgIMAgQCCAwGCggEDAgKCAYCCAYICgwMCAgKCAgMDAYKBAQMBgoEDAIKAgwEBAYCAgIICgIMCggCDAIGBgwKDAQGAgYICAIGDAIIDAgICgYIBgIEBgIKBAgMBAgKDAQKBgQEBgYGCgoMCggMDAYCAgwEAgQMAgYICAwEBAQGCAwGBAwGDAYECgoGDAwMCgIMBgQCDAwCDAYIBAoKAgQCBAQCBgYEBAQCDAoMBgQICgIKCAgICAwICAgMAgoECAgMCggKDAQKCgIGBAIGCAYICgYKCAQGAggICAgGBAICCgoEDAQGBgwGBgYMBgoEBgIICgoMCAwMBgoCDAwEDAgKDAoECgYECgoECgQIAgYIBAIGCAwIBAYMCAwECAoKDAQGAgoGBAQICAQMCAgIBAYICAoMDAYEAgYGCgIKBAIKBgYMDAQKBAQGCAYMAgwIBgoIBgoEDAoICggMCgwKCgQGAgYMDAoECgoGAgwKBAgMBAIMBgIKBgYIBAwGCgQMDAIICAQGAgQEDAoKBAQEDAoICgIECgIGCgYKBAIGAgQECAoMCgICAgQCAgYGBgQMBgoMBgYEDAgEBgYKAggGCgwEDAgIAggEBAQIDAoMDAgKCAIICAoIAgICAgoCBgwECgQMAgQCCAICCgoICgIGDAwEDAQIAgIMAgwIBgoCAgYGBAIKBgwCBgIIBAwIAgIKDAgCCAIMDAwGAgIKBgwMAgwIBgIGCgwIDAoMBAoEBgQGCgoECAwCAgYMAgQKAgoIBgoKDAQCAgwIAgIICgICCgoECAQCDAoEBgQCCgoGBgQGCgoKCAwCBgQKDAIIBAIECAoECgwMBggKAgIKCAYKCAIKCgoCBgwIAgoGCgQIAgYGDAwKCAoIDAgEDAgIBAgCDAYKBAYEBAwGDAQGBggICAIGBAICCgoMCgQIBAYECAgMCggCBgoICgoMDAYGBAIIBAwICAYIBggKAgYGBgQICgoKDAQMCgwIBgQIBAgEAggKBAwICggCAgYCAgwECAYCCAIMCAQKCgoIBgYGBAQKCAICBgIIBAgECgIECAoMDAQIAgwCBAYGAgwKDAoEBAgIBAIIBgIMAgQIAgwIAgwKCAoECAIICgwKAgwIBggEBAwEBgYEDAwIDAwEBAwEDAQICgwECAQMBAQKCggKAggCCAIIBgoMCAoCBgIICgQIBggKCAQIBgYEAgQMCgYICggEBAoGAgoCCAIMCgQGCAgCBAgCCggGAgoMAgQECAQCCAQKDAIGCggCAgoCAgwEBgYGDAwEBgoECAwCDAQECgIGDAYICgwEBgYIAgIKBAIIAggKDAoECgIIBgoCBAQCCAIKAgICBgQMDAYCCAwECAYGCgwGAggKCAYECAQEBggIDAoMBgQIBAYKBAYKBAQCBAICBAQECAgGDAQGBggEBAwKCAwICAIMBgwEDAQMCAwMBAIGCgIIBAYKBggKBgIIDAgIBAIEBAoCAgYIDAQMAgQGBAgCAggMCAICAgwEAggKDAgKBgwIAgYCAggGCAYEBAoGBgQKCAQCBgwEBAQGAggIBAoKCAYCCggGDAQCCgYKCAoCBAoCCAoMDAIMCAoIBggEBgoKAggCDAoGBAQICgIIBgYCBAgIBgwEAggEDAQKCAoGCgQMCAQIBgICCAgIBAYIBgwEDAwICgoCBAQGDAgECgQGBgYMBAoCCgYKCgoMBAQMCAwMDAYGCgYGBgwIAgQGBgoMCgwKAgoICgwMAgoIBgYCCAgGCAoGCAIGCgYMBgIKBAIMBggEDAYMBgYCCgQMCAwECAYGAgQKCgoMCAQGDAoMBgICCAwECgQMDAQCDAIICAQGAgoIAgwCDAgMBAYMBAYKCAYMBAYMDAQEBgwICAoCCAgCAgQEBgwMDAQGDAQKCgwGDAQKBgIICAICCgwKAgQCCAYECgoGCgYMBAgKCAgCCAIECgYEDAwCCgYIDAYIBgYMCAoGAgoKBgoIDAwMAgoGDAIKBgIKCgYMCAYCCAIGBAwMCAICCAQKCAoICAYKAgwMDAYCBgoMCgICBAQMCgQGAgoIAgQMCgQIDAQCBAQIBgYKCggKDAoMCAwIAgoMCAwIBAgICggICgIGCAwGCgwMDAwMDAQMBgYMAgQMAgYKCAwKDAgEAggMBggEBAgMDAgMAgwCAggMDAwGCAQCCAYIBgwMBgYKDAYMBgQCCggECAgKAgIIDAQGBgoEAggIBAQEDAgGBgIICAQICgoMBAIMCAYEAgQKDAwGAgwICAwKCggKDAIIDAgKAgIGDAIECgwGAgoECAwIDAwKCAgGBAQGDAYGAgwCDAYIBgIMCggGBAIKBgwGBAYIBAYIDAIECgQECggCCgIEAgQECAwICgQIDAoCBgIEAggMCgQMBgIKCAIIDAgGDAQGBAoCBAICCAYKBAwCAgQKBAgGDAwMAgQGBgIIDAYMDAQEBAgKBgYKBAoIAgQCCAIKDAYMCggKDAgMBAYIBAQKAgQEAgIGBAwCBggMBAoKAggCAgIGAgIEBAoIAgoGBggMDAgGCgwCCAwKBAICCAIIDAYIDAYEBAQMCgQCBgwGDAgMBAYGCgIEAgwCDAQCCgoIDAwICgoEBggIAgwIBAgEDAYEAgYEBAwCBgwEBAoMCAYKBAoIAgQGBgICBgwICgYECgwGBAIMDAwCBAoGBgYCAgwMDAQCCgIKAgQGAgYMDAwGCAoKDAwMAgoEBgIMCgIMDAQCBgwICgIGCAwIBggECAwEAggMCgYCDAIKBAwMBAwCDAQIBgIKAgwKCAwIAgQMCAQKBAQKCAQCCgIEDAQKAgIIBgYKDAgEAgwEDAwKCggGBAwECggGCAIGCgQGBgIKDAIIDAIGAgQKCgQEBAoCAgQKBgYKCAQGAgoGBggKCgQEAgQKCgIGBAIMCAQMDAwCCAQKCgYKBgwMCAQGCAIGAgwGDAIIAgYIAgwMCgoIDAwEBgoMBAICCAwEDAIECAwCAgwIAgIGCgwCBAwCDAIICgQEDAYMCAIMCgYCCgYCCAwCCAoGDAoGBAwKAgQCCgIEDAwEAgoKCgIGCAgKCAgKDAwGDAQCCAIKDAgGBgIMCAwKCgYKBAoKCAQGBggMBAoICAwKDAoIDAoGCgQKCAQMCgQMCAYGDAIIBgwKBAIEDAIKCAYIAgIEBAgMDAYKAgIECggGAgYCAgYEBAoIBAYMCAYGDAwIAgYCCAgCDAYKCAwEAggCDAQIAgwECgYICgYEBAIIBgoKAgwECAIICAQEDAQMCAQICAwGCgoCBAwMCgwIAgwGAgoCBAwIBAIIBggKAgICCgQCBAYECgoMAggIBgIEAggCCggCCAYMAgwEAgIIDAwMDAIICgoIBAQMBgIIAgIIDAwIBAQCDAIECAwGDAoCCggICgYGCgQGDAgIAggEDAIMCAoKDAoECgoEAgYMBgwGCgQCCgQMCgoCAgIMBggCDAQCBAoKCAIIAggIDAQEBAgMCgwECgwMAgoICgwGCgYMDAoMCgoIAgYMBAQICgoIBgYMCgIKCgwEBgIKCAYIAgoKAgQKAgQKBgwCDAoCBAQCCAwECggIAgQICAICBAYICAwEBggEBAIMCAgECggCBgYGBgoMBgQMBgIKDAwCDAICCgIKBAIKAgQCCggKCAgGCgQMBgYCBggCCgoKAgIGCgIGCgwIBAYGDAYKDAgKBgYGCAwMAgwGDAYIDAYMCgwECgoCDAgGCggIAgoEBAIMCAIIBgoEAgQGDAgGDAgCAgwGCgwIBAgEBgoCCAoMCAoECAgGBAgCBggKCggGDAQKCgoKCgIGBggIDAwECgYMAgIMBAYICAIKBgIGDAoGBgoKBAYKAgwGDAIEAgQECggKAgIKCAwMBAIKDAIEAgYCBgIMCgQMCgoMAgYGBAgKCAIKBgIIBgwMCggKBAYGCgwCBgYCBgQKCgYCBAgGDAgKDAgIDAgEBAwGDAYKBgYIBAYIBgoCCgwECAwGBAQCCgYMCAQMCgQCDAYIDAYKAgYGDAQGDAgCCAwCDAoGCAIICgwEBAoMBAwECgIEBggMCgoGCAwEDAQECgoCBAYMAgIGDAgEAgoGBgQGBAoEAgYEBgYCDAQKDAgKCggEDAgMCAoECAoCDAoGAgoCCggKBgYGBAwCCAwGAgoIDAoKDAoIBggMAgwKCAQKBgQKBgIMBggMDAIKDAoCCggECggMBgQGDAIMBgoICAwKAggIBggKCAQMBAoEDAYGBgYCDAYMCgoKAgwGBAgICgIEAgwEAgICAgwGAgYCCAQECAQKAgoMAgQCCAYGCAoEBgQMCgQMCgYMAgYICAoMBAoCDAwEBgQGCAQEDAoECAoGBAgGDAwGCAYEDAQMBgQMDAQCBAoGBgYMCgwGBgQGAgYMAgIEDAIMCgQECAoICAICCggEBgYIAgQMAgoKCAwGCggKDAwEDAIKAgwGCAYGCgICCAwCCgQECgwEDAQKAggEBAQEBAQIAgoMAgIKCAoMBAQMBgIGCAIGCgwIBAQGDAQIAgwGAgQEDAQCBgIICAIMCggCDAQKBAwMBgQKBgIGBgwMAgoIBAoCAgoEDAoMCgwKBgYICAQIAgYGCAYEAgwICAgCCgQGDAgCBgoMBgIIBAIKBgICDAQMAgwGCAYEDAIICAoKDAYIDAgMBAIMDAgIDAwIDAYMAgQECgwEBgoEBgYKAgoMBgoKAgYMAgwKCAIMCAQEDAgGBgQKAgIEDAYEBAoGDAYMBAQCAgwKCgIEBAYICAoMCgoIAgoICgYEBgYMAgYMAgoMBAIECAIMCAgMBAwGCgYKDAoKDAgIDAwIDAYKCgYCDAYCBgIGDAwCCAgKDAoKCAwECgwCCgQCCAoEBgYIBgQECAYGBAQMAgYCBgYMAgIGBAYGCgQCDAoGDAYCBgQICgwCCAIMBAIEAgYEDAYKCgwKBgQKCgoIBAQECgoMBAoCCgoECAIGBAgIAggIDAwKAgoMDAoIAgwICgoCBgQMAgIEAgoGAgwKAgYCDAQGDAoKBAoMAggEAgQKCgICCgoECgYICAwEBgoCCggCAggIAgIKDAgCBAIIBggMBAoCBgoGBAoCDAQKBAwKBgoKCggGDAoKAgIGCAYCBAgMDAYECAoKCAQKBAQKDAoMDAICCAwIBAQKCgQIBAgEBggGBgYCBggCCAgGBgQIBgIEBAYIAgQMDAYMCgoICgICBgIKCAgEBgIEDAgCBAIIAgQMBAgEBAYMBgQCCAYECgoKDAICCAgECAIGCAQGDAgGDAQIBgYGBAIMCAQIDAgMBAICCAoIAgYIBgwMCAIIBgYMBgQKCAoMAgwICAoKDAoGBAYGBgoIBgwGBgQEBAoMCAQECgwKDAoKBAQCCAYIBAQGCgQCCAYECgYMAgoCBAQCAgwGCgoMCgIKAggCDAQICAQGCgIIDAYKDAoKCAIKCAgMDAgGCAIGCgQCBgYGAgQEDAoMDAoECAQCBggIDAYKBAYMDAQMCAQKCAoMAgYIBgYICAYGBgIIDAwMCgYKBgQKBggMDAgMCAICCAgIAgYCAggGBgQCCAIKBgIEDAgECAwCDAwIDAwKBAQICAgMBAQIAgQKBgwEBgQMCAoIBAgMCggIBggCCAgIBgwGCAoEAggEBAoCCgoGCggGBAwECgYKBAoKCAwMBgoIBgQKAgwKCgwIBAgECAYGCAgMBgoGBAgCBggIBAgIAgoGCgoMBAYMCgQKAgIIAgIKAgoCDAQMBgYEBAgMCgQMCgoGDAIKCgQGBAoGCgwMBAYKCAwECAwGDAwGAgQCCgoMAgYKDAQKCAICAgQICAICDAoIBAgGDAgGCAoIBgwEBggGCAoGCAgKBAQEAggEAggKCgwEDAwGDAoCBgICAgQGCAQECAoECAIKCAoKAgQIBAwCBgYGDAoKBggEBAYGBAYKCAYCAggCCAgKBAQEAgQECgICBgYGAgwKDAQEDAgGDAICCgQMCAoGCgYGBAIMBgYIBggMAgYKCAoICgIKBgYIBgQCAgQGCgwKBAIKAggKBgwIAgIGCAIMDAoKCAoMCAQCCAgMBAICCgICDAICCAQGDAoMBAgGBgwKBAIEBAoGCgYGBgwGAgoCBgoIDAwIBgwECAQEBgIKAgQIBgQCCAIGCAwMBgoEBgoICgQKCgQCAgwICAoGBAgGBAYCCgQCBAwECAoMAgoCDAQIBAYIBAwGCAoMCAgIAgYICgIKAgIKAgIMBggCAgIECgICCgYKCgwGBggMBgwCCAYKBggGBAQMBggICgQECAYCBgoEBAIMBAQCAgQKBAQCBgIMDAIEBAoIBgoKAgwIDAYGDAICCgwCAgQECgICBggGBgwIBgoCDAoKDAQMBgQIAgIECgQCCAwKDAoMBAoKAgIMBgQMCgIKBggKBAwIBAQEBAQEDAYGDAwEBAQGBgwGDAgCCgwGCgYMCgwKBgIGCgoMCgIICAoKCgwCBgwKBgIKCgoMCAYMDAYMCgYKCggECAYCBAQGBAgEBgwIAgwGCggCAgwKDAwCBAQMBgwGCggMCAoCCgQGCgYMCAoCBggMDAQGAgoGBgQCAgoMCggCCgQEDAIIBggCCAgEAggMBgICCgIGBAwEDAwMCgYKCgwGCgQCBAwCBgwGDAQIBAYCDAIMBgIMBgICDAYKCAgKCAoICgYKCAwEBgoCAgICBAYIDAoGBgIIBgYIAgoMDAoCBgoKDAQCBggEBgoCAgIMAgwGDAwKBAQMAgwMAgQCBgQGBgQKCAgICAYIDAoEBgIKDAoGAgwKCAYIAggGDAwCCgoIBAIMDAQIDAwMBgwKCAgECAIGCgoEAgYGBgoIBgQGDAoCAgwGCgYIDAwEDAYMBAgIBAQKDAwECgYICgwKBgYMDAgCCAwMBAwCCAQICAICAgYCBAIEDAIGCAwKCAIIAgoKBAwKCggMDAQCCggMCgIMCgoCCAQGCAgMBAYMAgwCBggGDAgGBgYIAgIKDAoGCgQCCgwIAgYMAgwEAgYEAgIKBgoKBgQMBgYMCggIAgYECgYICAQEBAgGDAYCBgYIBAoMDAoMCAQKCggICgICBAoKAgwEDAoEBAgMBgIGBAwIBgIMBAwEDAgMBAQKBAoCBgwMCAgCAgQKCAoCAgQCBAICDAoMDAoCCAgGCgIIDAQMCAwGCAoMBAgMBgoEBAYCCAYECgIKBggIAgoIAgQKDAoGBAoCCgYECAYGAgYKBAIKAgQGAgoCBgwEAgYGCAwGCggEDAoECAoMCgoCCAYCBgwGDAgEBgQECgoICAQGAggCBgwIBAIKBgYKDAQMAgYEBAQGCAQKBAYEAgQEBAYECAQECAoEAgQCAgIMDAgKAgYGCgQKDAIKCAgKBgIIBgwICAYCDAYEDAIECAIKBAYKCgwKCAQIBAwMBgoKAgIKDAIICAwKBgoGBAQCAgoCCAoCDAYCBAgCDAoECgQCBgQKCAQMCgoKDAoKCAgCCgYMAgYIAgoMBgQEBAgGBggKCAoICAwGAgYKBAoIBAwMCAIKBAIGDAgECgIMBAwKBgQMBggCBgYKDAYICAoICAwEBggEAgQCBAoEDAgECgIEBAgEBAQIDAIICAQGAgQCCAYGAgwIBAgCBgQICgYCDAwGDAIECggKDAoECAoGCgYMBAgEBAQCCgYKDAwGCgoECgoCCAgIBAYCCgYMAgwECAYEBAgKBAoKDAIEBgQCCgIGCAgMDAoIAggICgIGAgwMAgQCAgQMBgQKBAwCAgwGDAIMDAYCBgIGBAoGCgoECAYKDAQMBgQCDAYGDAQGCAYEAgoCAgIECgQGDAoCBAgKBgICCgwIBAICCAIKBgYIAgICBAIMBAoCBgoEAggCCAQMCgoICggEBgwMBAQCBgIGCggEBAYCDAIICgoGBgQKBgYEDAgCBgoCAgYMDAIKCgIGDAoGCggEBAgCBAoGCgQMAggKCAYECgQGAgoEBgIIBggIAggCAgoKAgwGDAQECAIMCggCCgQICgIEBAYCDAIMBAgCDAoCBAgCAggCBAIMBAwMAgQMCAYEBggGCAIGDAgEDAYKAggKCAYKAggMCgQKDAoICgYECAgICggCBgYGCgQEAgwMBgIEBgwICgwCAgYCAggGBgYGBgICCAYMAgIKDAICBgICDAoGCAwGBAwMBgQGBAwMDAYIDAgEBAgMCgYEBAwKBgYGAgIKDAYKCAICBAYCCgYMBgYCBAgIBAwICgQCBgIMDAoCAgYEBgoKCgoIDAQCCggKBAgGCgoMDAQEBgQMCgwCBAoCDAoCDAwKCgIKDAIKCgYECggKCgoKCgwGBAIKCgYIBAYCAgIMCAYKBgQIAgYKBAgICgYKDAoKCgQIBgYMBAgEDAQGCAQECggGCgIIAgQEDAgMBAwMBggMAgICDAoGCggCAggEAgwGBAoEAgYGCgwMCAgGBAwEBAYEAggMBgQIAgIKBgYMDAYCDAIEBAgKAggIDAwEAgYIDAYICgQKCgIKCggMBAwGBgQCBgICBgoMAgYMCAwEDAIIDAoEBgIGDAQICAIMCAYIBgYICAgIDAgCAgYIDAYGAggGBAoEBggCDAwMBAYEBgwEDAIGCggCCAwMBgwIBAgICAICBAgGBAgMCggEBAwCBgQMCgICDAIMBgIECAQGDAIICgIECgYMBAIKCggIBAQEDAgMBgIKBgoECggEDAoCCgIMBAIIBgoGCAwIDAgGCAwKBAQGBgYGCAwCBgIMBAQGDAIGBgYKBggIBAoCBgQGDAoMAggCDAIMAgwKDAoCBgIIAgYCCAYKCAQKAgIKAgoICgoGBAIMAgoCCAIGCAwMBgoCCgoKBgwGCAIIAgYIDAoMBAIICggCCgIIDAYCAgYEBgYGCAwCBAQMBgwCCgwKAgIMAgwGDAwMDAQECgQCBgoMAggIBgwCBgwKCgoGDAYCDAQKBgYCBgICDAoECAwIBgYEDAoMBgYICAwCAggKBAYKCAIMAgIMAggIBAQMBAQCDAQCBgQICgwGBgIEDAYGCAwCAgQMDAgCDAoCAggKBgoMCAYIBgYKDAQKCggICAoMCAoIDAQEDAoIDAwCDAQCBgQMBgYMDAwKCgQKCgQICgQCBgICCAoCCAoEBAIKBAQKCggEDAoECgIIBAIKBgIKBgYEBgIGDAgKDAwGBgIIAgYGDAICDAQEAgYMAgYCBgQCBggMAgwCCAIIBgwMCAQEAgwGCggMCgQKCAIEBgIKBAwEBAwCBgIMAgQECgQGCAIKBgwCCAgEDAYECgwCCgYMAggECAQKDAoCCggECAgCAgYIBAYKDAIEDAwIDAwCBggEBgYMAgQKCAQMBAgGCgIMCAICCAIGCggMDAgGAgQIBgQGCAQECAwGAgwIBAYCCAYCCgwCCgYCBAQIAgYIAggKBggGCAgKAgQGCAwEDAIKAgQICAgKDAIEDAoKAggCCAgMBgYECgwIBAQIDAICDAwMBAoGBgwKAgIIBgoGDAgMCAIMCgYCBAoKAgQGCgwIBgoIBAIMBgYMCgIEBAQCAgoEAgQEBAIIDAwCCgoCCgQCBgQICAwCBAQMDAgKBgYIBAoEAggGCAwMBgQCDAIEAgQGBAgEAgQMDAQCDAIIBAIMAggECAYEBggKBAYKCAwECgQKCgwEAgYKCAgKCgwMBAgEDAgCCAwGAgYMCAYGBAIMAgwKCgIIBgwGBggIDAIICAIKCAQICgYECAoGCgYGAgoECgICAgQECgYIAgQCCgQMCAgCBAoEAgQGBgwIBgYCAgQIAgwICgYCCggMCAQKDAIIAgYEDAYICAYECAoKBAIKAggCBggCCgYIBgIMCAYICgwCDAICAgwKCAIGBgYIBAwMDAwCBgwCAgYEBgwGDAICAgIMCggMBAoEAgQKBgoIDAwMDAYECAQMBgIIDAYEBgoIDAYCCAQCBAgEBAoEBgIKDAwCBAQKCAYEDAIKDAYEAgoMCggEAggMBgoGBgIMCAQKCgIKBAoKBAIMCAYKDAICCAoMAggMBAQEBggEDAQCBggCBAoEAgQKDAQCBggMCAYKCgYKCgYECAQCAgIGAggICAYGAgQEAggMBgoECAYICAgGCAIEBAIKBAoGCAIEDAICAgIEAgICCAYIBggEAgQCDAwGBAoIBggKBggMCggKBAoCDAgKBgYMDAgMAggEBAgIAgICBAYIBAIMBAICCgoGCgYKAgoEDAwIAgQGAggIDAoKBggCDAYGCAYKBAQIBAYGBAYEAgYCCAQCCgoCCgoGBAwMAgoICgQIAgwKBgoEBAQCBgoGBgoGAgoEAggMBAIEAgoKDAoCAgYGCgYKDAwEAggEBgYICgQIAggGCgwGCgoGBAYKCggGCgQCCAIGCAoIBgIGAgoCCAIMAgQKBgwGCAwECggKBAgICgwEDAQGCAQKCgoGBAYMCgoGAgoMCAgGDAQKCgQKAggIBgIEBAQCCggMCgQIDAoCDAoCDAwIAgwIDAgGDAoCCAICBgQMAggMBAQKBgoGAgQCCAIKCgICBAwMBgQMBAgEBAICBgwCDAQGDAwKCAoIAgQGBgYGDAQEDAgMBAgMCAwCCgoGCAgGAgQKCAIGCgIECAIKAgQEAgIGDAwCAgYKCAQECgYIDAwCBAYCCAIEBAgCBgICAggIBgYMBgIKBAIICAwGCAQGDAgGDAIMAgoCCgoGCAQGCAYIBgoCCAQIDAoIDAICCAYMBgoEAgYGBgwGAgIMCgwEBgYKDAwCBAoGBAwMDAYIBAwGBgYIBgYMCgoCBAIGDAIMCgwKAgQIAgwIBAgMAgQGCAYKBAwCCggIDAYMCgYICgYKBAwCDAQKDAoEAgIECAYEDAIMAgoICAIGAgQCBggCBgoGAggMAgoMCAoMCAwMDAQMBAIGDAwEBAoCCAQEBAoKCgoIDAIICgYKCgwMBAoKBgYIBAgEDAIICAQGAgQCBAgMCAgEBAgGBgIKCggGCAwCBgYCAgIIBgIGBAQGCggECAYKDAwKDAwECAwGBggCCgYGCgYEAgIMCggIDAQMAgICBgICBgIGBAYKDAIEAgYIAgICDAIGAgoEBAYCCgQKDAQIAgYIBAgGBAIICAgKBggKCAoMBgoICAwCCgIGCggKCggGCgIEBgwGAgwEDAwIAgQKBgYECAwCAgYCDAYKCgIEAgwKBgoCDAgKCgQGAgQKBAYGCAQECgQICAwMDAgEBAgGBAICCggKCgICCgwIBAYICAIIBAYECAYCBgYKAgIIDAQICgoGDAoMDAQGCggKCgoCBAoECAQKBAoCCAwMAgQIDAwKCgoKDAgKDAgGBAYEAgIKBAoKCAYMBgoCBAwMBgwCBgoECAIGCAQCBAYGAgoEDAQKCAwIDAQCBgICCAgMBgIIAgQEAgYIBAYKAgoIBggGAggECgQKDAQKDAwECggMCAYCAgoGBgYCDAgKDAgEDAwMCgYGCgwCCgoEBgwCBAIEDAYKBgQEDAwKCgoGBgYECgQGDAQCCgwGBgQICggCCgwCBAIMBAIGCggEBAYGBgwGDAQICggCCggGAgoKCAwMBgYGDAIIDAoIAgQCCAQCDAIIBgQMBgQCAggKBggGBgYEDAYCDAQIDAoGCAwKDAQCCgYKBgQEDAwGBgIKAgIICgYIBAIKAgIIAgQCBAIIBAQECAQMAgwIDAQMBgYMDAoIBgIGCgYMBgYCBgYGBAQIBgoGCAwMCgYEBAQKDAoMCgYIDAgIBAYGAgYGAggIBAIICAQCCAYCBgwICAgMBgoCAgQMCgoKAgYCBAQECgYIAgYIBgwKBgQMAgoKBgoGDAoGCggGCgYKBAgGBgYGBAwMDAoKCggECggMBgwECAQCCAgKCAQICgQGCAoECAoIAgoIBAIECgoMDAgMBAgECgQGBAoECAwICAoGBggCAggGAggKCAIMCAgCAgwGAgIGCAgGDAYIDAIIBAYEBgwICAQGDAwGCgwCDAQCAgwMDAYCAgIKCAQGDAoIDAgEBAgCBAoKBAQCCAoEDAQCBAQCBgIGBAQGBAwGBgwEDAgEAgwKCAwECAoIBgQGBAwIDAIKCgoKBgwEAgQGAggIBAwKBAoKDAgKBgoCAgwKDAoIAgoMAgQCBAgCCgQECAQGCgQCAgQGCAIEBAwGCgwKBgQMAgQCDAoIAgoICAICCgoICgwMCgYKDAYKCgQIBAYGCAgGBAYMDAICBAYICgQIBgIGCAYGCggIBggEBgIEBgYEBgoKBgQCBAgEDAoCCgIIBAYKCgIKCgYMDAYCCAwEAgQKDAQGBAQIAgYMBAQIBAQCAgQKDAgKCAoCCAIICAoCBgwEAgICCAoECAIKBgwGAgoCCAwKBAIKAgQKDAoKAggMDAoKCgoCCAgGBAYIBgoGCAwMAgoEBgIGBggKBAYGDAIKDAYKCAgEDAIGAgYMCAQEDAoGBgQCDAYCAgICBAIMCAIEBggICgQKBAIIAgoICggMBAwMBAIECgQICAoKBgYICAoCDAwGCAQECAIGCAwKBAoICgYGAgoCAgYEDAwKBgwKCAoMAgwKBgwMAgYIBgoMBgoECggICgQICAgCAgYGCgIEDAgMCgYCBgwKDAIGAgYMAgQCDAwCDAoGAgwGAgIEBAYCCAwEBggEAggMDAwIBAgIBgICAgYECAwEDAIICAwKCAgECgoIDAoCBAgIBggECAwKCAICCAQCBgwGCgYEAgQCBgwIAgYMBAoGBAYECAQIBgwMDAQIDAQCBAQCDAgGDAwMCAQMAggGBggMDAYGBAoKDAYCBgQMBAIGAggECAIKDAwMCAoICgwECAoCDAQGAgoGBgoCDAIEBgYECgYMCgoIBAYCDAoIDAoKDAIGCgoIBAYMAgQKCAwMDAoIBAIICAQKCgoIDAIGAgIMBAQEDAQKBAQGDAQICAwIBgwIBggKCgIGDAYGAgoMCAYMAgQMBggCBAYCCAQGDAoECAYICgwKBAgEAgYIDAoMCggIDAYCDAoCCAwCBAQEBggKDAYMBAYMCAgKCgoKCgICAgYMCggMCgYKBAYGCAoEBgwMBAQMCAwKAggEAgQCBgICCgoICAgIBAIMBgIGAgwICAYGCAoKAgIICggICAYMBAgGCAoEAgoIBgIGCAYIBAQIDAgCBAoEBgQKBgQECggKDAIICgQMDAIEDAIKBgIIBgYKDAQMCAoEBgQCBAYCCgYCBAIMDAQCAgYGDAgGBggMAgQGCgwCCAoKCgQKBgwCCgQEBgwGDAIEAgoGBAYICAQKBAoGAgQCAgQMCgwCBgQMAgYECgoIBAYICgICAgwKBAwGAgIMDAQICgoKBAIIBAoCDAYGCggIAgQIAggKCAwEAggMDAQICAoECAQEAgQMBgwGCgIKBgQCCAYKDAYCCgYCCggKAggGCAoIBAwGBggCCAYIDAICBgYMCgYEDAgMCgIICAYICgIGBAgIBgYICgQMAgoKDAoMAgQKBgQEBAoMCAQMBAgCBAwKBAQEBgQMBAQECAYEDAgCCAgCBAwCCgYCBggCCAIGAgYECAgKBAQMAggCBggKBgoKCggICAQMDAwIBAoICAQCBAoKCAIICgoCBAICCggMDAgEAggCCgwMCAYGCgwCBAoKCAgMCAIGCAIMCgIIDAICBgYIBgwKCggMBAoCBAQKCAwMBAoEAggMDAIKCAgIDAoKBAgGCgwGDAwEDAQMBAIMDAwMCggECAIMCgQMCAQKBgQIAgwGBAgCBAgGCgoGCgQCBgYIBAgCDAYCCAwIBAwKAggGCgQECgYKCAoIDAgMCAYECAoGDAIGCgQCBAIECgQICggCBAgGBggGDAIEBAgEBAQGBAQGBAgCCgIIBggKCAYMCgwCCAwKCgYMDAIMBgwGDAQKBAYEBgQCDAIEDAgIAggCCgICBgYGDAQCBgQIDAIGBAoGBAQGAgQMCAoICgwGDAgCCgIIBgwICgICCgQKBgwKBAgIAgoICAYECAgEBAwCAgQECgYIBgICBggECAQGCAoCDAYCCAICBgYCBgwGDAoICAoCCgwCAgICCAYEBgwKAgQECgQCBAQEBgQKCgICCgoGCgQKBggMCAIKDAgCBAoCBggKAgYICgIKBgICBgQCAgQEBAQGCAYCBAgEBAgKCgYEAgQECAYIBgIMBgIMAgwGBAwMCAYGBgYEBAgMBgwGDAQGCgIKDAYMAgIKCAYKBAoKCAQCDAYKCgIIBAIIDAwCCgQKCggECAwEBAwCAggGBggKBgYIBgYCAgwCBgYCCAgCBAoICAwECAICBAwGCgQICgQMBAgCDAoECAIEBggEDAoEBgoGBAoIBgQMBAIKAgwKBAYCDAoCBAwIBgQCCgQIDAgICgIKCAwMBAYIBAYKAgwGBAwCCAoMCAwICAwIDAYCBgYMAgIECgIGCgYCAgYIDAgMBAgGBgYCAgIGBAYMBAwMDAIGBAgKCgoGCgQKDAYCBgIKCAgKAgYMDAwCDAoEBAICCgQCCgwICgICBggCCggMCgoGAgoGCgYIDAoKBAgMCAYIBAICCggCCAICAgQGCgwEBAQICAwKCAoMCAgMCgwCCAQIDAgCCAgGCAQKBggCBgwIAgYIBgYMDAIMDAwICAgCBAYGCAIGBAgMBgwKAgYCBgwGDAwMBAIIBAYMCAQIAgYKCggEDAgMCAYMDAoGAggGBggCBgQGCAgIBAICBAoEAgQMBAQKAgwGDAgKCAwIBAoICAgIBAgMBAQMCAYMBAIKBAgIBAQMBgYMCAgGAgwEBAIIBAIMAggIAggICgYGBgYCBgYGBAIMBgYCCAoGBAYKCAoMCggMCAwEDAgKDAwEBAwEDAQEBgQCBgICAgYKBgIMBggMAgYGCgwEBgYKDAICBgYIAgwKCggECgwMBggCBgYMCAIKDAYIAgYICgIGBgYMBAYMBgoKDAwMBAQKDAQKDAQMCgYMAggGBAIEBgYMDAgGCgwKCgIKCAQMCgQIBgYEAgIKBgoGBggCBAwMBgYCBgoCAgIKBAwGBgICDAQIAgQKBgwGBAgGAgIGDAgKBgwCAgYMDAYICgwMAgwCCgYGAgoEBAgICgYGCggMAggGCAwGBAgGCgoKBgwICAwMBgoICAIIBAYEDAoIBAoKAgYKBgYMBgwMBgwEDAgEBgQMCgwMCAoIAgoICggIBAoMAgIICAoCBAoIBAIMCgwCCgQMAgQECAIEAgwMBAwIBgIMBggMCAoEDAgCCgwKBAQMCAoIAggIBAIKAgwECgwCDAwGAggCAgQIAgwCDAYIBgwEAgQEBgYMBAwKAgYGAgQGBAIMBgYKCAIKBgwIDAwKAgwEBgwICAIMAgYMCAIKAgwMCAQMBgIEBggGAgQKCgIMCgIGBAYGCgwMBgoEBgIMBgwIBAgGAgYKBAgMBAYEBAoKCAgEBgYMCgwIDAwMAgoKCgoIBgYCBgwGCggKDAoECgQKCgwGBgwKBgYCDAYCAggECgYEBAYICgYCCgYCBAoMCAQIBgoMAggKBAoGCAYMCAYKDAgCAgQCDAIICgYIBAQKBgwCCAYECggCBgYMAgIGDAoKCgQCCAwCAgIKDAoGDAwEAggMBgICBAIMCgwGAggEDAwMAgoKAgYICAIIBggMCAgIAgoECgoCCAwEAgQCAgYIBAwMAggGAgIGBAgGBAQEDAYKCAgKBAgKBggKCggICgQCBAQEDAgIDAYEAgQCDAoICAoECggCAgYCBgYEDAIECgwKCgwMCgIMBgoIAgwICAwCCAYEBAIMDAwKBgwMBAYMBgQECggCBAoICgwMDAICCAIKCAQICgYGCggGAgIKBAoKCAYMBAgKBAoICgQKAgoCAgwKCAoMDAIECgoKBgICBAIEBAYEBggIDAoGBAoEDAwKCAYIBAgIAgwEDAYIAgYIBgIMCgYCDAgEBAwIBAIKDAYMBgQCCAwCCAYKBAgKDAQMBgoCBgoEBAoIBggMCggCBgYGAggCDAQIDAIKCAIICAwIDAYCCgYMDAYCAgYIBgwIBggICAwEAgQKDAgGBgYGCAIEBAIGAggMBgwIBAgGDAQECAIMCAQECgIGCAQIAgYMCAoCAgYMAgwCBgQECAICAgwGCgYCBAoGDAwGBAQGCAIIAggCBAQGBgIGAgYGBggCDAwIDAoEDAIMBgYICgIMCAIKAgIIAgQGCgoGAgoCCgYKBggCCAoECAQCBAQCBAoIAggKBAwCBgIMAgwGBggKDAIEDAgCDAQCCAoCBgYCDAICBAIICggEDAYKCAwICAQCBgoKDAYKCAwIDAgKCAgMCgYCDAgMBAoEBgQEAgYEDAoIDAQMAgoEAgQECAYEDAQIAggCCAwMDAYIAgQGCgYMBAYIBAQKBAYKAgoCCgYCCAIKAgwMAggMAggMBgQCAgQGBAYEAgIGDAIGAgIIDAYKDAQGBgICBAYEBgYCBAwKAgIKCgQEBAQMDAYCCAoMBggIBgIKBgQKDAIGAgIMDAwCBAwICAwKBgoMBgoEDAYKCgoMCgwKCAoGCgQGCggCDAoKBAoMAgwGAgYKDAYKDAgMCAgKDAQIBgQKBAgGDAwKBAoKAgQEDAQCBggGDAQCDAQGCAgMDAIIDAIEDAQGAgYMBAQCBggEBAYECAYIDAgKBAgKBgQKBggGAggCCggGBAYGCgIMCgQMCgwIDAoGDAYECAQGDAYEBgYEBAoCDAQGCggIAgYCBgYMBgYKCAYKCAwKBAoEBAYIDAYGCAYCCAYCDAQMBgQICgIKBAIGCggGCAoKCAQGBgYMDAQIAgoECgQCDAwCBgYCCAwKCAICAgIKBgwCBgoIBgoECAQGDAoGDAQEBAwICgoGDAQEBgwMAgwKAgIMCAQKCggMAgwICAoECgYICAwIBAgIAggEBAoICAoCDAgGBgIEDAYIDAYEAggIBAQMCAgIDAYEDAoKCgQCCAgIBAgGAggCBgIGAgYKCAIMBgIICAoKAgIMCgYIBAQEBAwGCggCBggIBggGDAIEBAoGCAoIBggCBAYGDAoCBgYICgIMCgYMAggCBAQMBAoGAgQCDAwKBAgMDAgIAgIKAgIGBgwEBgICDAoIDAwMBAQECAwGDAQIBgoMBAwKDAwEDAoECggMBAYIBgoGBgwKDAwMBAoGCgIECgIKBAIEBgYKCAQGDAgKBggKCAwIDAQECAYCDAYMDAgCCAYCAgoICAgMDAYGBgoGBgwICAgIBAYKBgQICAwGCgoMBAYCBAgICAoKCggGCgwEDAoMCAoECAQCAgQKBgIKBgoMAgwCAgQGCAwMCAYKBAwGBgYKDAQCCgICCAoIBgwGAgwMCgQMAgYCCAgIAggECgwMBgIKBgoKCAwGAgYGDAQKDAwKAgYKBgoGBAoICgwKAgQMBgoCCAgCDAIMBgQEBAoKBAoEBAIEDAwECAIGBgIGAgoCBAYIDAICBgICDAICBgQMAgQMBAIIDAgKCgwMBAoGCAIECAYMDAwMBgIEBggMAgYGDAoCCgoMCAQKAgQMCgYGBgoIBggGCAgKDAoIAgIICAYGBgICBgQCAgoECgIKAgwMDAYMBgYEBAgIAgIGCgYGDAYKBggICgYEBAoMBAgCBgoMBgIGDAQCBAIECAYCCAwGCAQIAgwGCAIGBAoKBAwCCgIIDAQKCggMAgoIBgoEBAgKCAQCBAQIDAYEDAQIBAoKBgIKBgwIAggCBAoMCggMCgoKCAYKDAIGCgQEBAoKBAIECAQKCAwMCAoCCAIICAIIAgQKCgYMDAwCBgoCCgQEBAQGBAYKDAwICAIGCAIGCgoMAgwEDAQMBAQEAgYECAwGCAgMCgQCCAYKCgoMCggCDAwICgwMBgwCBAQCDAIGCAgKDAoCAgYKDAoGCAwCBgYGCAQMCgoCBgIEBAQGBggMBAoECAoCDAQCCAgECgYMCAICCgoKAgoMCgYECAoKDAIEBAYEBAgCCgYGDAYCDAYGBgoGCAQCCAoEAgQMAgQICggKAggCDAIICAwCAgICAgQCCgoGDAwKCggKBgIIAggMCgoCBAYCBgwCAgoGBgIMCAYIBgwMBggEBAgGBAIMBgYIAgYGCAYCAgYCAgYICAYMBggMDAYIBAoCCgQIBggEBAYEBgQMCAIKAgIKCAYMCgoICAwKAgoMBgoCBAQGCgoMCgwCCgQICgYGBgYGCgIIDAwEBgIMBgwMCAoGBgQKBgwEBAgMCgoEAgYICAgGDAQMCgIEDAQIAgQIDAIMCgYCBAwGCgoMCAYCDAgMCggCAgYKBgQIBAIEBAgEAgYEAgoICAoGBAQMAgIGCgIEAgIIBAYGCAICBgwCCAQIBgoMCAwMBgQIDAwCDAwECgIGCgICAgQCCgoGBAQKBAIMAgwCDAQGCAICBAYCBAoCBAgKBAgCCgoGDAwKBAgIAgwCBgICCAIKDAIGBgwGBAwMBgQGAgQKBgoCDAQGCgoMCgQECAQMCAYEAggCBgoEBgYEBAwKCgYICAoGCAQIBAoICAoCCgYEBgYMBAYKBAwCCAIKAgoGDAQKBAwEDAgICgQCAgIMCAQMBgQCAgwCBgQCCggEDAgEAgQEDAQKDAwMBgYEBAgGBAgMAggMCAIKBgoMDAgCCAIEBAYECgYKDAoGCAICCAQIAgYGBgoECgwKBAoECgQCDAwICgoCCAgKCAQGCgoICggKDAYGDAYMDAQCBAIMCgIEBgoCBgwCBAIICgIKDAgCAgIGBgYECAYICAwECgIEAggGBgYCBgoMCAQKAggGDAwGAgYGCgoECAgMAgYGCAICCgwKDAYIDAwGCAgKDAYIDAIKAgYEBgoMCggEBAoIAggCCAgMBgoMCgYECAYEAgQIAgYICAoKAgQICAgCBAgMDAYKBgYMCgoMAggEDAgGAggEDAoCCgoEBAgGDAIEBAwMBgYCCgQIDAQEDAwCCgwCBgIECgoECgwGAgQMBgoCCggGAggKCgQMCAgKAgICCAoMAgIIBAgMAgoCBAgIDAYMBggGCgwGCggIAgQEDAgCBgoEAgYKAggKCgYEBgQICAYKDAIEAgoIDAgKBAgGCAYGBAgGBAwGBAwCCAQCBgwIDAQGCgQEDAQGCggGDAYMDAgCAgIMCgIECAgKBgQIBAQGBgYICAgGDAQMBggMDAgMCAwGBAQCBggGAggIDAYCCgwECAwGBgYGBAoKBgYKBAIGBgoCBAQGAggGDAQGCgYKDAoMCAwCBAICDAIICgIEAgoCAgwMDAYMBAQCCAQMCAYMCAwKCAIEBgoIAgQECgoECAoEBgQCAgYKAggIBAIICAwCDAwKCAIIDAwCBgoKCgoKCggGCAoICAIIAgYEDAYGDAoMBAoGBgwKBgQEDAYIBgoCAgQEAggGCAoMAgoGCggICAgMCgIEBAIMBAQCDAQGDAwCDAYKBgwKAgoMBAQCDAIKCAgKCAgCAgQMCgwEAgwIDAIKBAgMBAQECAIKCAIGBgwGCAwEBgwGDAQGCAgEBgQGCAoEBgQKCgICBAYEAgIKCAQGCggKAgYICgYEAgIEBAwMDAoGCggKAgoCCgYIBAwGCAICDAYIBgQCCAgEBgoMCgIGBggGCggCBAQMCggCBggGCAIEDAgECgQIAgwICgYEDAQEDAwIBAYICgoIBAoIBAgKAgQGCAwGBAwIDAYKCgwEBgoICgYCAgYCCAYCAgYICAoMBAwMBgoMAgwGCAIECAgKDAYIAgIKCAgIBgQGCAYMCgoKCAYMBAQGCAwCBgwCBgIICgoKBgQGCgwMCgYGCAQKBAoCBgQGCgwKCgwECgIMCgQIBAwIBgQMAgQGCAgGCgQEDAYECAIGAgYEAggEBgYCAgQKCAYMDAQIDAICAggMCAQGCAIEDAoKBAYCDAYGCAgKCgYIAgoCAggKAgYICAIGBggMCAIIDAoKBgYKBAoICggCCAIICAQEDAwGDAQMCAgGCAwEBAYKCgwMBAwEBgYGAgQKCggGDAgCCAYIBgwGBAwEAgQCDAgIBgIIAgYMBggCBgoMCAIMDAYMCAQCAgYCDAIMCAgIAgwCAggGCgwCBggCBAwECAgECgQMAgYCAggGAgoEBgICBgICCgQMCAoCAgwGBAQKDAQMCAwMAgoMAggMCgoCBgYICggICAwEBggKBgQECgIIBgIKBAQMDAoCDAgECggCAgoGDAIGBgIIBgICCgQMCAoGAgYIBgIMBgYIBgwECgwKBggICgwICAgIAgoMCgoCAgQMDAQMAgwKCgoMCgIECgoKBgwICgwCBgICDAoMDAIIDAQGBgwIDAYKDAoEAgQKDAIKCAYIBAgCDAwGBAYICgwICAYGCggMCAIEBAQICgYIBgICAgIEBggMAgwKBAIMDAwEAgYCBgwICAYCCAIICAgICgYIBgIMDAYGDAYECAwEBgYCBgwKBgIECgIKAgwIAgQECAgICAgCDAoEBAwMBgYGDAQKAgoCCAgCBAoKCgQIDAoCCAoCAgYKBgoGCAgIBAgKAgYGCgYICAICDAIGCgQMCAIMDAwIDAYKBAYECgIMCgIGDAgKCgQIAggCCAoCDAIMAggMCggKAgwCDAgGBAQECAYEAggEBgQEBgoECAgGBAQGBgwICAoGAgYMAgoCBAoIBAQKBgQCAgYIAgIGAgwCBAgKBAYIBAIECAoIDAoGCAYCCgIKDAgKAgoIBAoGAgIGCAQMBAQGCAgGDAQKCgQCBgYIDAYEDAoCBAwKBAgGBAYGBAQCBgQEBgYMDAoKCgwIDAYGBgQEBgYIDAwGCgoICAQECAwMDAwKAgIKCgYKBAIKBAIECgwKAgwECAoKDAIGBgwEAgQICAoMAggGCAgKBAIEBgwEAgIIDAoEBAwIBgICCgwCBgwICAQICAoGCAIMBgwCDAIICgoCDAYKCAYECgICBgIEDAwCBAQMBggCDAgEBAYGBAICCgwMBgwGDAIMBgYCCAgGBAoIAgIEDAwMBgIEDAoEAgYGAgoCCAQEBgIGBgwMDAIKBgQKCAwEDAoCAgYKCAoCAgIGCAoMBgYGCAoMDAYCBAIKBgwIBAwMCAgGDAgKDAIECgoGDAYMBggGBgwCCAoMAgYKDAIEAgwIDAwICAIMCAoMBgQIBAIEDAoIBAYICAQMCAYIDAIMCgICBAICDAQKCAIIBAYGDAgICgwKDAoMBAwKBgYICgYKAgQCBggEBAoCCgwCCAoCAggIBAoIBgIMCAgKBgwMBAYMCAgEDAoICAgIAgIMAgoKBAwCBggECgIEAggEDAIKBAwECgQEBgwCBAwECAIGCgYGCAIEBAQGCgoECAQCBgwCCAoKAggMBAICBAICCAoMBAoIBgIKCgIKBAoEAgYCAggGBAgGAgYICgYIBgwIDAQMDAoKCAQMDAgGCggMDAYKBggECggCBAYEBgwICgQEBAIIBgoMCgoMCAYIAgYKAgIGCAwMAgwCCgoMBgQMBgoEDAQGBggEDAoICgwCBAwKBgwEAgIIDAQKBgQEAgwECgYICgYEBgQKBAQKBgYEAgYIBgoMCgoMBgwKBgoGCgQCDAYCDAIGAggIBgIEBAoIDAQEAgwKDAoCCAoGBgoKCgwKCAgCAggECgoEDAIKBAwEAgQICgYCBgQIBgIKCgoICgIICgIGDAoKCgQECgIICgwCCgIEDAgMBgwMBgQMCgIMBgQCDAQGBgIGBAwCDAoGBgwIBgYCCggGAgICBgIKBgYECggEDAgGBAIKBAwKAgIECgwMCAIIAgIECgoEAggEBgQGCgoEBAYMCgwGAgYCAgoCCAwIBAYIAgoIDAYCBgYGAgYGBgYCAgIEBgoGBgwCCAgGDAoIBAgKBAQCCAIGDAoEDAYKAgYCDAoGAggGBAQECgICDAYKBAICCgYMCAQGCgYECAYKDAwGBgQEBgoCBAQGAggEBggCCgYGDAYMAgwECgQKCAYMCAwMCgwIAgQCAgICDAgIBAIGBgICBgwMBAoKBgQMBgIIBAgEBgIIBAwGBAwICAIKBAYKDAIIBggMAgwEDAwGAgIIBAoGCAYKBAYCBgoMAgIMAgQGCgYEBAoKBgIIBgwKDAwIBAYEBAwCBAwCBAQKAgIGCAYKDAwEBAoGCAYKAggGBAgKAgQIBAgMCgoMCgIMBgYCDAYIAgwCCgYMBgQGCAwMBAgGBAYCBAgKBAoEBAQIAgYCBAIICAIEDAgECgYGBgoMDAwMDAgCAggCBgoIAgQEDAgEBgYMBgwCBAYECAwKCAwCCgwKCggKDAgEDAwKBgwEDAYEBAYKBgICDAgIAgYCBgYGCAQCBAICAggGBAwEBgQMCgIGDAwCBAoEBgIKAgoIDAwEAgQMAgQKBgYKCgQMAgoKDAQKDAQGAgoEBgwIDAQGBAoEBggIAgwICgYEBgwCCAIMDAIGBAgCBgQMAgYMCgoCAggCAgIMCgQECAwEBAwGBgYEBAIEDAICBgwKBAIGCggMAgoECgQGDAwMBAgGAgYCCgQMDAYEBAwMAggIDAICAgwKBgYGDAoGAggGBgQKAgQMAgIEBAgEDAoEDAICBgIMBgQGAgIEBgYMBgoIBAgMAgwGBAwKAgYKBAQKAggKBAYICgoKDAwGDAwICAgCBgoKBgYECgoEBgoMBgIECAoGBgoKBgYIDAoEBgYCBgYMCAgGBAgCCgoGBAgMCAgCDAIKCAYEBAwMBAYKCAgMAgQGDAIMBgICCgoCBgYGCAYKBAICDAIKCgoGDAgMCgQIBAIEAgoCAgIKCggGCgYGDAYKBgIGCgIGCgwIAgIGBgwECgQGCAgGCgYEDAgKCAIEAgQMCgwGAgIECgwIBAIGDAoGCggKCAIEDAIKAggKCAICDAoKCggECAYEAgICCgwMDAoMBAoGBgQMCAgGBAYGAgwMBAgCDAICCggMCgYEBgYGCAIEAggIDAgGDAgIDAQKBgIEAgIMCggKBAYKCAYEBgYGCAoGBgIGDAQGCAYIBAgIBggIBgQKBggCCgwGBgQICAYECgIMBgIICgIMCgwGAgoCBgQIBgoGBgQCDAgCBAIEBAQECgYCBAYIAgYEBAIMCggKCgYMCgYCBAYEDAoEAgwGDAQKBggMCgwKBAoIDAwIAgIMDAQGDAgKCgIKAgIMDAgIBAYGDAYEBgoEBggECAYGDAoECgwCBAQMCAwGBAIIBgwCDAgGCAoKCgQGBAQEDAQKAgwMCgYMCgIGAgwIAgoCBAICBgQECgIMCggICAICCAYIBAIGDAwICAQMBAIKAggCCAIMBAIEBgoGCAwGCgwMAgwGBggCBgQKAgYEDAgKBgoKDAoKCgYMCAgEBgIKBgYEBAIMCgwKAgoCDAgKDAwEBAIMCAYCDAwEDAIKDAQECgwMCggCCgQIBgIEBgwIAgYEDAgGBgwEAgoEDAwIAgIICAgKBAoIAgoKDAQCDAoIBggIAggGBgIEDAoCDAQMBgYIAgYKBAwGDAYECAwMCggIDAgMBgoMBAgEDAQKDAYKCAIEAggMBAIICgQIDAYECAoKBgoGBAoMBAwCAggEBgoGBAQKAgoEAgoGDAgIAgQKAggKAgwEBAQGDAIGDAoEBAwEBgICCgYCCAIKBAgMCAgCAgIMAgoMDAwGCAoMBAwEBgwGCAoGCgIKAgQEBggEBAoKCgIGDAQGDAICBAQGDAIGDAQKCgQCDAIECgIGCAoKDAIIDAgIAgwGAgYEDAwCCAgCCggKCAIICAQGCAoMDAoGCgoGCgoCCAgMCgQKBAwIDAwIAgwMCgQGBAYEBAQKBAoIBAYGCAIGBgoMBgQEBAoECAICCAIEBggKBgQMDAIGAggIAgoGBgICAgQECAYECgwIBAQEAgoMCAYCBAgCCggCCAQEBggGCgQCCAwKCgoECAQGBAIICAgEBgwEDAYKCAQICggGBggIBAoGCgwEBgIMCgYEBgwCCAgEBAIGCAoGBggCBAgEAgIGBAYKAgQIDAYMDAwECAoKAggKCAIKCgQKBggGCAYGBgwMDAgMCAYGBAwICAgMBAYKBgwIDAoKBAYIBAQGBggMAgYMDAYMBggKBAYCBAQIBgYKBgQGBAgIDAIICgYKCgQICgQICAoCDAgKCAoCBgIECAgGBAgKAgYKDAQGDAIMBAYEBgYKCgoGCAIIBAYMCAwKBgYICAIIBggIDAgGDAQICAgCBAIICAoEDAYMCgwKCAgCDAQIDAYCBgoCDAQIBgYMCAwGBggIAgICCAgKCAQEBAwCCAgCBAQGCAYKBgQEDAoMCgYECgQGDAoKDAgMBgYICAoKCgYIBgwKBgYKCgwICAQKBgIMBgoGBgoMCgQIAggIBAoMCAwMBAwEDAoMBAgIAgYEBgYIBgIGAgoEAgoGAgQMBgYMAgoCCgYCCgwCBAwKBAYGAggEBAwCDAoECgQIBgIMBAgCCgoKCAIECgQGBgQMDAIGAgQKDAQKBAwEBgIIAgoIBgQIBggCCgIKCAIKBggEDAYMBgQCCAYKDAwMBgYGCAwMBAoGBgYGBAwICgIKDAwMAgQCCgYEBAwMDAwGDAYIBAoKCgoIBgYGDAwGBAgEBgQMDAYICAQMBAgEDAYGCgoKAggIDAgECAIKCgwKCAQCCAwMAgIKAgYMAgIKBggECAQIBgYCBgwMAggMCAYCCAoKCggMDAQCCgYICAoCBgIKCAQCCAYGBAgCBggIBgoGAgwCBgIMCgQEAgYGAgYKCAYGCgIGCgYIDAgIDAYEDAIGCAoGCgYMCgQECgwKDAwICggGDAwKBgIICggIDAYICAoCDAICDAQCDAQKBAQKCAQIBAgIDAgICAwMCgoCBAoECAYMCggECAwMCAwIDAgMCgwGCgwEBgoKCgoMBAoECAICBAYEBgwCCggCDAQMBgYKAgIIBgoECgIKDAQKCAwMCgYKAggGCAIGDAQGCgoMDAQEBgQEDAQEBgQMBgoMDAgCCgoKAgYIBAQCDAwMCgwICAwGDAYGCAwMDAgKBgQKCgIGDAgKBgIGCgQMBgoKCAoMCgICBAIGAgoCCAoGCgoKBgYMBAwMCAYIDAIKDAIGAgYMBgQMCAgMCAYCBAQEDAQCAgQGBggIBAIGBAQGBAYGDAIKBgwKCAwKCgQEBAgEDAwGCAoCCAIICAQCDAIEDAICBAwGAgQECgYIBAgKBggECAwKCAIIBgoGAgQCDAoICgQECgYIBAIMAgYCBAYIDAwMAgwCCgoCBgYGBgIKCggMCAgGCgoGAgoEAggKBAQICgoKCAoGCgoKAggKAgIIBgIEAgIEDAoGBggCDAICAgoKAgwCCgIEBgQKAgQKCAQCBAoGBAoKCgQIBgoMCgYGCAYKDAoCAgYCBAQICAoIAgIIBgYEBgQGAgQIAgQCAgICAgoICgYKCgoICAYEDAQGCAgCCgoEDAYGBAoCAgYGBAgICAIMCgYMAggGAgwMBAgCBAwEAggCBgoIBgYECAIIAgoEBAgKDAgMAgYIBAwECAgCAgYCCAYGAgYMCAwMBAQCDAYGBggMBAYIBAYIDAQCBAYGAgoEAgwEBgoEAgwIDAIEDAgMBAYCCgwEAgQKBgIGAgwCAgYGBAgMCAwKCgIGCgIECAwIBgYIDAYECAQCDAYIDAQECgIIBggEDAIEDAQGCAgCBgQECgIMBgwEAggCDAwKAgwMCAwMAgQCCgQMBgoIBgIEBgYMCAQIBgYMAggKCggIAgoKBAwKAgQKBgIEAgYIBggEBAoIBgYGBAQEBAIGDAQEBgIMAgoKCggMBAgMCgoGDAwEAgYCCAICAgQGCgoCCAoICgwKAgIMDAQMCgIECgYKAgYCAgYCAggGBgwEBgQGAgIGBAoMBAYICAgMBAYEDAIEBAIEDAwKBAYKCgIMBgwMCgQKBAYIBgIMBAIKDAQMCgIICgoGBAQMCAYEBAQCCgIEAggICAwMCgoEDAoCBgwMBAoCBgoGDAIIBAwGAgoGCAgGDAwGCAYMBAQECAIEDAYMCggCCAgGCgoKDAgMAgIMBgYECgICBAoCCgYCCgQGCAwKAgQEBAoMBgwCAgwCDAwMCAYIDAwGCggEDAgKCAgGAgIGBggKCAIEAgQKAggIBAIEDAYMCggIBAIEDAwGBgQIBAgCDAoGCAoIAgwECAgIDAYGCAQEBAIKBAQCDAgEAgYMCgIGAgwKAgYKCAQCBgYGBgwECAYECgYGBgYCDAwMCAgEAgYICggCAgIMCAwEDAIEDAYMCgYCBgIKAgYECAIKBgYCDAYICgoGBgQIBAIGBAIEDAYMBgoIAggKBAoKCgwMBggCBAIKBAoCCgQCDAwGBgICCAwEBAIKCgYECAwEDAIKAgwEBAgIAgQMCgICAgQMCgYEBgwCCAoICAwECgQGBggCDAQKDAYMCgICCgoMBggGDAoGBAYMCggMAgwIBAQKBgIMBAIKAgwGBggKCAIGBggGAggGBAYCBAwMCAQEDAoEBAQKCgIGCAoKCgICCAwMAgoMDAoMBAYKDAgECAIKAgICCgwGCAwCBgwGDAgKBgIGCggCBgICBgYCAgoEAggCAgYGDAoEDAwMDAwGAgIEBAYECgoKCgoECAYIAgQCDAoKDAgIBgQMBAwCCgQKCAQKDAoCCgIMDAIMDAQICAQECgwGCgYEDAoKBAICAgIGBgwIAgQKBAwMBAQIAggCCgwMDAYGAgoGDAoIDAgKBgQGDAoGAgwGBAgCBAIGCAwCAgYEBAYKBAQKDAIIBAYKAgYMAgoEAggEBAYCBgIGCAgGCAgICAgKCAIIBAoCBAQGBgYGDAgEBAgIDAYMCAICCgYKCAIIBgICBgQKCgoGAgICBAQEBgQECgwCDAgGAggEBggCBAwCBgwGCggKDAwGDAgMBgoICgYEBggMBgoKBAwKCgIMAgoMDAoCAgQGCAgMBAYEBgwGCAQKBAQECgwKBAwGCAQEAgYIDAgKBgIMCAQICAQCBAwKDAYICgIGBggGBggKCAQGCAwEDAoEDAYEAggGDAoGAgYGDAoEBAoGBggCBAICCgYEBggEBgQCBgoMCAYKBAYEDAgKCAIIBAgKBggMAgYEBgwMCAQGDAQMBAIECAQGCgQKCAwIDAYKDAQECAQKAgwEBAIICgYGCgwIDAwKCgQMBAgIDAwCAgIKCAwMDAYGAgYGCAIGBggEBggECgIEBAoECAwMAggCCAYCDAgMCgYKBAQKAgYIAgIMBgwECggGCgYKAgwCBAYGAgwMCAwKDAQGAgoKBggGCgYGBAICAgwMBgYEDAQEAgQGCAYEDAgEBggECgYMBAQKCgoKBAYMDAIEDAoMDAQIDAIKBggEBAoGBAoKAgYEDAoECggKBAIECAoCDAQKCAYGCAICBgIMBAIMCggCBgQMCgoMCgYKAgIICgwCBAQKBAIGCgQGCgYCCAIGDAgCBAoKCggKCAIKDAYKCggMCAoMBAQMCAgKDAwMAgIMBAQIAgYIAgoKBAgGBgQGCAoEBAwKBAQKCgwICAwICgYICAIGCggMCAoEAgwMBgwIDAYGAgQKCgIMBAIGDAYIBggMCAIEAggIBAoMDAQIBgwEBAwCDAgKBggIDAQKCgQCBgYCBAgKAgQEDAYMCgoECgQICAgMBAICBAgEDAYMBAIKDAwMDAgMBgYIBAQCAgwGCAoCDAwKBAoEBgoIBgwMBgQKCgQEDAYMCAgGDAICBgQEDAwGCAoMDAoCBAYCDAgIDAgMBAgIAgYMDAIIBAQMBAQIAgQGDAYGAgIMBAgICgIKCAIMCAIEAggGCgQGCgYKCggGCgwMDAQMBgwCBAQCAgoKBggECAQMCAQMAgQEAgwECAwEBAYMBgQKCgIICggEBAoCBgQMBgYGBgIIBAgKDAgCAgYCDAQKCAwCAgwEAgICCAgEBAQCBgYIBAwGDAYEAggCCAwMCgQKBggIBgwGCAoIDAIKAgwCDAgMCAoCBgIKAggGCgQMBAgGBgwMAgQIBAQKAgQCCAoEDAIECAYCDAoKAgYGCAIGCAwCCgQECgYCDAwMDAQCBAgKCAoIBgIGCAwMDAIGCgYMDAYCBgQGCAYMDAYKCgoMBgIGBggCDAoKAggCCgIECAIEBgoMBgYGCAoGBgYCBgQKBAIKBAIECAQCDAwICgQKBAQGBAIGBgoKAgYCCAoIBgYCCAIKBggCAgQCCgwKAggIBAoCCggMAgwMBgoKCAoGAgQIBgQEBgYCCggKAgIMDAwGBAIECgQIDAIEBAwMDAoIDAgKBAoKDAYKBgoIBAIEBgoCCAoCAggKBAoCBgYIBAIKAgYIDAgMCAYKAgIGCAICCAwCBAIMCAQGBgwICAYEBAoECgwICgYKCgIMCgoCDAgGDAoCBAwCBgIMAgYCDAoECAYCCAQMDAQEBAQIAgYMBAgMBggMDAYKAgYECgIEBggMBgwGBAIKAgwKCgQCAggKCgwMCAQCCgIICgYGCgIMCgoGBgIGAgwCCAwCCgYMBgYIBAwEBggEAggECAYGCAICCAoMDAgCBAYICAIEBAYEDAoCDAwICgwCDAoGDAgECgQCDAgGBgwKCgIGAgIECggKBggICAoEBggMBggCBgQCBAYKDAoMDAYECAQKBgoCCgQGDAIEBgIEAgYIBgYMCAoKCAwIAggIBgYCBAwICgwIDAIGAgIECgwICAYEBgQCCgoEDAwCAgwCDAYICgYKAgYCCgQKCAIECgQEBggKBgICDAwCDAwIBgQIAgwKBggICAQIDAICCAgMDAwEDAgICAYCCgoGBgYKBAQMBgoEBAIGCAgGBAYIBAwICAYGBAgIBAoEBAwEAgQGDAQKDAYECgIECAgKDAoMBgIKBAICCgQCCgYICAICDAoIBgIIBAgCBgoCDAQICAQGCAQKAgwECAgCDAYKDAQGCggKCAgCAgIKDAwCBgwMCAIKDAoIDAQCCgoGBAQCBggEBgYMCgIGBggCAgoEDAYMBggEBgYIBAIIBgoGBAQGCgoMCAYMAgwKBAgMCgQGCggICgYGCAwIBgQCCgwICAYGDAwICgIEDAYKCAYMDAQKBggCBAIIDAoEBggGBgIGDAoKBggCCgIMBAwGCgIEAgwCBgYCCAQMBgoMCgwKCggIDAIMBgIICgwEAgwCCgIIDAYGBAoECAIGCgQMAgIICAIMBggEBAYIBAwGCgYICgYKCgYCCgwIBgYKDAgMAgIMDAwECggKBAoKCgYIBAYGBgIMCgIKCgYIBgQECggMAgQMCgQIBAIGCggMCgoEAgwEBAQMBgQEBgoKBgoEBgICBAQGAgQGDAoGCgYGDAwECgIECgQCCAYMCgYCCgoMCAgIBAQMCAgKDAYGBAQMDAwCCgwMBAoGBAoMBgYGCgQIAgYEBAICCAgMBAYMCAgCAgQKBAYGBAwECgQEDAwCAgwMCgIEBAgECAwIBAoCCgwICAoKDAoGBgQKAgwCDAICBgYIBgoIDAwCCggIBAQMCAgGDAgMCAIKCAQEBAoIBgwMDAwCAgYKCggCCAoGBgoKBAoIBgYECgIKAgQGBgwCAgwICggKCAwICgIGBAQEAgIGBAYKBgoIAgQMAggEBgIIBAYCAggECgYKCAoIBgYGCggMCAwECgQGBAYECgQMBgQEDAQMBAIKAgYGBgwIBggKAgIGCgwCDAwKBggCCggEBAwICgoCCAwGDAoICgQMCAIKCAQECggKCAoIBgYECAwEBgoKDAwGCAYCAgQECAgCAgYIBAQICgIMBgwGDAgGBgQECgYIDAQIDAIICAwECAgCBAQKAgYMCgQECgwICAIMAgoMCAQEBgYCCAYGCAYKCggICgYCCAIIBgYCCgQIAggMAggGBgQGCAwEBAwIBggKAgQCCgoKDAYIBAgCBgwMAgIMBgoIBAoCAgYCDAgCBAQIDAgGCgYEBAQEBgQCBgwGBggGAgwCAggECgoGCAYKCAYKBAQGBAwIBAgMBAYCBAwGCAIKCAQGCgQGBAYMAggICAQKBgoIBgQGBggICgYCAggGBggKAggICgYMBAQCCAQMDAYMBAYKCAwGBgQIBgoCCAICAgwIAgYKDAgKBAgICgoICAwIAgwKCAYMBgYMBgwKCggMDAYEDAIGCAIEAgoCBgwGAggEBgwECAoCAgICCggGCAQECAgCDAgGAgYCDAQMCAoCBgQMCggCDAoGBAICCAoEBgoGCAYGAgwCDAoGCgIKBggKCAQMCAoMDAgCCAQEAgQICAgCDAYKAggGBgwMCAoGCAQGCggCAgoMBAQGDAYCBAwGAgoMCggICAgEBgIICAYMCgQEBgoEBAQMBAYCAgQMAggCAgIMCgYEAgwIAgoGCggICgoMBAIECggMBAIMBgYICggIDAYMDAgICgQEBAoCBAgGCAYEDAgMCAwICggECgIKAgwECAoICgwECggICAICBAYECgoICAwKDAgKAgoEDAwEDAQICAgIAggEDAoGCAgECAwCBgwEBAgMCggKBAQGAgwMAgwMBAYKDAoGDAgEDAIECgQICgwMCAQMCgIICAoMDAYKCgoGCAgEBAICAgwIDAoCCAYEDAYGCgwMDAgEBAIIDAQMBgoGBgIGCAwEAgICBAQIBAgECgwKAgYECgoKDAYIDAYKDAgKBgoMDAIECgYKBAQGAgYKBAYMAgYMBgICAgIEBAYCBgoCAgwMCgYECgwECAYCBgQCAgYCCgQCAgYEDAoECgwKAgwMBAIIAgIEAgwGCgoMBAoKCAQGDAwKDAoKCgwGAgoCBgoECgIMDAQICgwGCAwECAQCDAICCgYCCgoGCgQGBAYEAgoMDAYMBAYGCAYGBgQMBgYIBgQKCAwMBAYMBAgEDAwEAgYECAoMBAIEBgoKDAIGBgQGCAYIBgwCBggEAgQCCAQKCggICgQGCgQECggMDAoCCgQEBgYCDAICCgwIBgYMAgwMAgYMDAQKCggKAggMDAQKBgIGBgwKCAQEBAgICgwCBgwGAgwECgQEBgQMBAICCggMBAQEBAIIBgIGBAoCAgoCCAIKCgwGCAgCBAgMCgoKCAYECAQCAgwMCggECgwIAgoGDAQKCgwKCgQMBgwMCgIEBgYCDAQIBAYKBAYEBgwIBgYEBgIGBgIMCggGDAYEBgQICAoEBAoIDAoGCgYKDAQICAIMCAYEBgwGCAIIAggMCgYCAggGBgwMCgYKDAgMBAwMDAoICggEBAYIBgQGCgYCAggCBAIGAgIIDAgICAQGCgQEAgwECgwCDAgCCgQGBgoGBAYICgwMAggCBggEBAgKCAgIBAICCgQKBgYEBAgIAggEDAYEAgYGBAoKDAYIBAwEBgwGCAgKBgYGCAQKAgIICAQIBgQKBgIKBggEAgYICgQMCAQMDAICBAoEBgoMBgwMCAgECggMCAIEAgYCCgYCBAYICgoICAoMDAoCCAoGCgQGDAICDAwGBAwCCggKBAYIDAICAgYGAgQMCAgCCAwCBAgGDAwEBAYMCAoKCAgEBAQECAoCAgYKDAQICAgCBggCCggIBAoCCAYCBAIKDAYMCAgECAwIAgQIBAQICgoGDAoCDAoICAwECgQMBAgICAwKBgoMBgIKDAICBAgCBgoKCAQCCAYCBgoICgQECgwMBAYICgwGBgYEAgYCCAoEBgoGBgQEDAgMCAgGBgYGCAoEBgYGCAYECgoMCgoCCgwCCgoMCggGAgYIAgwKCgQGAggIAgoIBAQCCgYKCggGDAIIBAIMDAwIAgIEBAYIAgYMDAQGCgYICgwKBAoCBggKDAwEBgIKCggGCAYMBAQKBAQKCgYGBgwICAIMCAgKCAIIBgoMBAIEBAYMCAgIAgIMBgoEBgQGAgwCAgQMCgYGCAoGCAoCCgwEBAYIBAYCCgwEBgQIBgQKCgoMAgoICgIEDAgMBgYGAgwIBAQIDAIKCgwCCAoEAgIEAgoMDAYIBAoIBgwIAgQMBgIMAgoCBgwECAwICgQEBAgEBAYKCAQCCAgIBgQECgIKAgYGDAgGDAoKDAQKBgYKDAoKBAIGCgYKCAgCBAIGCAgKAgIICgoMBgoEBAwKBAIIBAoIBgQMBAIECgoCAgwICAwGBAYGBAoGCAwGBgQGAggKBggCCAoCAgoMCgoEBAwMBgoEDAQKBAgKBAICCgoKCAgECAIECgwCDAQMBggCBggIAgQGAgoGBgoMCggIBAQMCgwCCAIECAoICAwMBAgIBgQMBggGBAIIBgYGCAQMBAQCCAIGCgwGBAoEBgoICgoICAgCCAoMCAYGAgYMCggCBgoMDAwGCgYMCgICDAoIAgYMBAwGDAwKBAwEBgIGBggMBgYKAgQMCAYCDAYECAoECAwEBgQKBgQCCAQGDAYGBgwCBAYICggCCgQMCAoMCgQMCAYIDAgIAgYCCgQGDAwKDAwKCgIGCgYGCgIMAggCCggMAgIGCgoKDAYCBgwGBgIKDAIKBggKBAYMAgIKDAYMCAIKBAYMBgwMBgQGAgQECAwKBgQGAgwMDAIGCgYCBAIKBAIGAgIGBAwECAwIBgYECgwGBAQKDAIMBAQMBAYKDAoIDAoEAggKCgwCCAgMBggMAggCCAIIBgIEBgQECAwECAoKCgYMDAQGBggGCgoMBggIBgwKBgQECgIICAYGAgIIBgwIAgwIBgQMDAYCBggGCggMCgYKDAQMBAIGBgIGBgQCCAoCDAIGCgQKAgwEBgYEBAoMCgYGCAQIBAQGBgQGCgQICgYMAgQMCgIMBggICAgIBAwCCAYMCAQGCgwEBgQMBAoMBAoCAgIIAgYEBAgCCgICBgYEAgYMCAQKBAIMCgICBAoMDAYGBgoEBAQKDAQGAgwMAggCDAgKAgQGCgwEDAoIBgYKCgIICAgEDAYKAgQICgwEBgoECggEBgwGBggEDAICBAwGBgYMBgoKCgIECAYICAwCCAIICgIMBAIKCAgGBgwMBAYICAQMBAQICgwKDAwCBgIGDAoECgQEBgwMCAwCAggGBAwCBgYKBAIMDAQECAwMCgIGAgIECAQKCggICgYGBgYKBggKDAoIAgIKBAoGDAwCCgIGBAQGBAgICAgGBAQKAgYEBggECAICDAoEDAgEBAgKBAwICgwCBAgICAQKCgwCCgwEBAwGCAICBAIGBgYKBAQIDAoMBgwCCAwGCgIMAgoCCggCCggGCgIECAoKCAYKBAYEAgYCAgQCDAIIBAIMCAgCDAICCgYIBAQECAQMAgwECgoKCAwKDAYKAgQCCgoEBgYCBAwGCgQIAggICgoMCAwMDAoMAgwCDAgICgYMBAYIDAwMBgwKCAoEBgQCDAQGDAYIAggCAgIKDAwGAgIIAgIICAgECgwGDAQKCAYGBAwKBggICgIEDAoEAggKCgQMBAgGBgIMDAoGBgYEAgIMAgQEDAYGCgIIBgIIBgoKBgQICAQEBgoGCgwGAggGBgYGBAoECAwGAgQICgwCBAQMCAYKCgYCCAwGDAYIDAwMCAIKBAYMBgQCBAQKCgoMDAQIDAwMDAYMDAwICgYGAgQICgYGCAwICgwEAgQICAIMAgoMCgYMDAwKCggKCggICAoGCgYECAgICAQCCgYEAggCDAgGCAIKCgwMCgQIBAIGCAYCDAwGBgwGBAIGDAoIDAgMDAoGBgwKCgoIAgwKCAIEDAwECgYCCAYCBgQKCAoICAICAgYIDAIECggEBAgIBgoKCAwEBAoKAgYKBgwMDAoIDAgECAIMAgQCCgQKDAQEBgwMAgwECAgGBgwEBgwKCggIDAgIBgoKAgYIBgwICgQGBAoGCgoGCAQEDAQMAgIKBAYKCAYGBggCDAQIBgQEBAoEBgYCBgwGCAIGBgwIBAIGCgoGCgIKBAoEAgICCAgMDAwIBgIMCAYECAYKCAIEBgIIBggGCggKCgwKBgIMCgYMBAQEDAwGCAYMCggCBAIIBgwKCAYMCgQMAgYIDAYKBggMAggIAgQCBgwGBAQMCAQMBAoCCgoMCAIKBgYEBAoIBAwGBgYCBgwKBAYMBAgEDAoCCgQGDAoKCAYEBAIEBgwGBAgMDAYCBggKBgoEAgQKAgYGBAgEBgoMBAgIDAgMDAQGCAYCCgoICgQMBAIEBAwECAIKBAgKCggMBgYICAoMBAgKDAwIBggGCgYMAgICCgoICAYGAgoKCAwCBgwMBAYGBgoGBAIMCgoIBAwKCAYKDAgKBgwGDAYIBAYIAggCCgwKDAgICAIMCgoKAgQIBAIIAgYGAgYEBAQMBAgIDAYCAgoIDAYGDAQKAggCDAQCCAIKBAYCAgQGCAQICgwCDAgMBAYICAwEAgYIAgoECgIEAgwECgQCDAIGCgIMCgICCgYGBAYKCggIBAwIBAYCBAwGCgQKCggKAgIIBgwIDAIIAggEAgIEBgQCDAgIAgwCDAwMAgQMCAgCAgYGCAoCCgoCAgoEBgoKAgQKBAgMBAICAgoGDAYCBAYMCAICCAQICAwKBAQIAgQCBAQKCAgICAIKAgwMBgQGBgoMDAQIAggECgwCCggECgoIDAYCBAIIAgYCAggCBAQGDAgKDAwGCAQKCAYECgIMAgIGBgwGDAwCDAwMBgQMDAYEBAgIDAYGBggMAgIEBgoKBAIMDAwMBggCAgICCAoKCAwMAggIBgQGDAwIBgQCBAoCCAgMCgYKBAoMCAwMAgwEBgwCCgoIDAgIBgYMCgwGCAgEBAwICgwECgIEAgwKCAYMCgIKBAQIBAYMCAYIAggMCgQKCgIEBAgCBgoKCAQMCAQEAggMBgQIBAoKBAgGDAYMAgYECAICCggMCgYEDAQCBgYGDAIMCgYEAgYKCAYMCgwMAgYKAggECAYICAgEAgIKBAoGBAICDAIEBgIMBgQEAgYMCAwEBAoKAggEDAIMCgQKCggICAQKDAwMBgYEDAQCCgIMBgQKCAQIAgoIBgQCBAgCBAICDAwGDAwEBAwEBgIIBAoKDAIMAgIMCgYCCgwCCAoKBgYGBAYKAgoEBgwMBAIIAgQEBgYCBAoECAgKBgIECgICBAYKBgQIDAwICggKDAQIBAgKDAQCDAoCAgQKBgwECggCCggCBAwIBgoGBggIDAYCCAwKBgoCAggGDAgIBgQMBgQCBAIKBgQIDAgGBgoEBgIIAgQCAggKBgYICAoIBAQEBgIMBgQKBgYIBgoKBgIGDAIECAIIBAYGDAgKBggMCgIMBgwKCAgGAgoCBAgKCAwIAgQEBAgKAggCDAQMCgQCDAwEBgoKDAwGDAwEBAwKCgwEAgQGBAgMCAQEBAoKBgwICggIAgIIBAQIBAoICgwIBgQKCgIKBAQMCgQMCgQIBgwGAgYGBggEDAgMCAIMAgIMAggEBAYECgQMCgoCCAoIBAQGCAwGDAoKAgQMCgYECgQICgQCCgwMAgYGAgIMCgwKBAwGDAYIDAoGCAYGBgoIDAIMDAIEBAoMBAgICAoMBgIEDAoGDAYEAgYCDAgEBAoIAgwMCggMCAYEBgwKDAgCBAYMDAgMBAICCgoGCAIMCgoIAgoGAgQMBAgEAgoMBAgKDAwMAgIKAggMCAQKBgYMCgQKBgYICAIICAQKDAYCCgQMAgQGAgICDAIEBAwCCAQEBAIEDAwIDAQGDAQICAYGDAICDAgCCAwIBgQGDAwEBgYIAgIGCAoGBgoIBgQGCAYCAgYMDAQCDAQCCAoKCgoMDAgKAggGAgoMCAgICgwKCAgICAYMBgwCBAoKBAYIBgwGCAoGCgICBAIEBgwCCgQIDAoKDAwCBAYGCggEDAIEBgwGDAICCgwIAgwCAgQIDAwMBAwEBAQIBgYKDAYKBAIKCgoECgICBgoGAgoIDAwGCAoKAgICAgwGAgQEDAgGCAoMDAwMCgICBgwIBAYMBAwKCgICCAwECgIECAQGAgYGCgQEBgoCAgwIBAIMCggKDAgCCAgMCgIKAgoGDAICBAoGDAgECgwMDAoKBggMDAoKDAwIAgoCBAoMBgwCCgIEDAwIBAQCCAwMCAwEBgoGDAgMCgIMBAYKCgIMCgwMAgwKBgoMCgwCCAwCBAwEBAYEAggMAgYMAgYKCgIECgoICgIMBAQMBAICCgoCCAwKCAYEBAgIBAQCBgoGCAoGBAYIBAQCAgIEBAICBgwGBAQCBgQCCgYMAgQKCgQEBAYICgIIAgoEAgIGBgICDAYCCAQGCAQCCAYMCAQMAgQICgQMAgwGDAYKDAgECAwGCgoMBgoCCAYICgoMBAYMAgoMBgICCAwMBggEDAwMBgYCBgwGCgIGDAgEDAIGCgIKAgwIDAICBAQMAgQCCAIEAggGAggIBAIMCgwGAgIKDAIGBAwMCgoECAwEBgoICggMCAQMBAwICAgECAQGBgYMBAwIDAIEBAgKBAQMCAYKBAgECAgGCgIICAoEDAQMDAwGBAYGAggCAggIBAoGCggIDAwMBgwMCAgEAgoCAgwCDAoCCAYCBgQKCAwCCgQGDAICBgQGCAIEDAQKBgQCAgwICAICBAwCDAQGDAIMBAwEDAYCBgwEAgYIBAwGDAYEDAQKAgoEBAQCCggCCgQICAwGBAIEBAYGAgwKCgQCDAYCCAIKCgwMBggCCgwMCgICBAYGAgoEBgIKAgIMBgIMCAgGCggEBAQECgQGAgIIDAYMDAQECAQGAgQGAgIEAgYKBAwGBAQCBgQKCggGDAYGCgIMBggEDAwICgwKBAwCCAgGCggMDAICBgoGCgQGBgYIBgYMDAQKCgoEAgoCBAgKBAQKCggGBAgECgYCBAgGBAgEAgoKBgYEAgQKCAQIBgIEBAQEBAICBgYECgIKCAoEBAQCBAwICgIEBAYEAgICAgQCBgQIDAYKAgYGBgwIBgQKBgQIDAQIDAYICAIIDAIIBAwCBggEBAYCDAIKBgYEBgYKAgoMAggMBAwGAggEBAwMCgICBgQEBAgMDAgMBAwCDAwECgoCCgIICgwMBgQMAggKAgQICgYGBAgMBAYCDAwCCAwGCAgMBAoMDAgEBAYCDAICBgIMCgwEBgICCAQIBgwEBAgMBAQCDAoIBAIGAggEAgIMDAoCCgYCBAoCBgIEBAgEDAQKDAwMBgICBgoMDAQMBAwIDAwKBgQKBAwMCgQGBgIEDAgKAgoCBAYCCggEBAYIAggIDAoGCAoGCgwCAgYEBAoICAIGBAgCAgwEDAoKCAoECggKBgIGBAQMBgQEDAQKBAgIBAICCAoICgQCBgQIAggEBAgMBggIBAgMCgIKCAgIBAYIAggCBAYCDAIECgoGCgIIAgwCAgYCAgIKCAQCCggIDAIKCgYCAgIIBAIKAgYMCggKAggEAggKCgQKDAIGCAwEDAIIBgwCBgQMAgwIAgYCBgIKDAYGAgwCCgoEDAgEAgQGBgQEDAwMCAQCBgoEAgIIBAgCAgICCAYIBAgEBAYMCgICCAQECgIMBAwICAgMDAoIDAYEDAwCDAIEBAIEDAoKAggICAoCBggMCgIKDAICBAwIBAYGCAgMBAICDAgMDAoEBAwGDAQEBggMDAoCCgIMCAYKAgoCBggGCgoIDAgMCgoIAgoKDAQIDAwIBgIGDAgIBgwKBAgICgoEAggGDAoECAgKAgICBAYKAggIAgwMCAIGBAQGDAYCBAIKAgQEDAQKBgYEDAgGBAgMCggMBAwMBAoKCggGCgIGAgwCCAgCCAQCAggKBggEAgQMCAwCCgoIBAoCAgQGCAgIDAQMBAoCDAgMCAwECAIECAoGBAoCAgoMAgYECgQMAgYGBgwEBAoKBgoCAgwECggEBAoCAgIGBgIMCAgGDAgMCgoCCAgMAggICgQIBAgGBgoKCgYKDAYEAgQEDAoECgwEBgoIAggKBAgICgQEBAoCBAoKCgQIAggMAgoCAggCCgIEBggGAgoICggGBgwGAggMCAYGCAQGAgIECgoIBAYGCAYIBgwIBgIICAwICAIMCgoIDAgKAggECAIICAgGDAQKAggCBgIMDAwEBgoCDAgKBgoIBAYEDAgICgwGBggICAYGCAYKCgIMAggKCgwMDAYMAgIKBAoIBgYMBAwCDAYKCAgEDAQCAggEDAICBggGCAgKDAQCDAIEAgwIBAwGDAQKAgIIBgoEAgQCDAgCAgQGBgQMAgIEDAYMDAwMCAwCCgoMCAYMDAgMCgoMBAwKBAYCDAgMCAgIAgoMCggEBgYKCgYGCAIMBAoIAgICBAYCCAoKDAIKAgQMCggCCAoEBAoGBggCBAQKBAYGDAwMDAQMBAICBgwIDAYICAQCDAwGBAgGBggCBAgKCAgMCAwECAgKBgIMDAwGBAIECgYGBgwECAwCCAIIDAQICAgMAgoICAgECAoIBAIMDAgMCgIGBgICBAgKCAoKCAoMBAgMCgoKBAQGCAIEBgIMCgIMCAwKCAgKCAQKDAoCBgoKBgQCBgwMBggICAoKAggIAgIMDAIKCgoEAgICCAgKCAwKAgQKCAIMCAQCDAQMAgQCCgIMBAYEBgIMBgoCBAgGCgQCBgQCCgQGDAoCBAYGBAQGDAgGBAoKDAwEBAQCDAoKBgYIBgQECAoKCAgMDAYMDAYCAgoEBgwCBAoCBggCAggEBAoCDAgECAwECAYKCAIIBAQEDAIMBAwKAgYMCAIMCAYEDAQKAgYGDAwIBgQGBgYGCAYMCAwGCgIICAICDAwGBAYCBAgKCgQGBgoCBAgMBgYEAgQECgoEBAoIBgYGBAYKBgQCBgoMDAQICgYICggCBAgIBAgIBAIIBAYICAwICAIICgYIDAYEBAgIBgQGDAICDAQGCAwCAgIKAgoIDAoMAgQGCgYGBgwIDAgECAQEDAwIBgwCDAQKBgYEBgwGCgICBAwKBgoMBgYKBgYEBAgGCggGCAQEBAwGCgYCCAoEDAQMCAQEDAIGBggEDAoMCgYCCgYCCgYGCgYKCAQGCAwMAggCBgwMDAwKAgQEDAYGAgwIBgYICAYICAwIAgIGDAIIAgoKCgIECAoEBAoGCAIKCAgKBAIGBAoCDAgEDAIIAgIMAgoMBggKCAIKAgIGBgYECgwCBAYIBgoMBgQKDAYMBggCBAQIBAgGBgIMCAwMAggCBgQEDAYMDAwCAgIEBgQEBgoKBAQCCgQGCggECgIMAgwMCAoEBgIKDAwGBgQGCAgECAwMCgoIDAgEBAgCAgIKBAYKBgoKDAgIBAYMBAoKAgIEBgIMCgoEAggICAgGBAYEBAIECgwECggKBgIMDAwGBAQGBAwEBgIIAgwKCAwGAgQMBAoCCAIEBgQCCAoKCgQCCgQGCAgKDAYGCAYGBAYIBAIGBgYGBgYEBgoECgYEAgIIAgIGCgQEAgIECgwECAQIDAYGBgwMBgwMCgQGAgoKBAoCCAgIBAwCCgoMBgoECAgKDAgKCAYGDAgECgwCCgQGAggEBAgKDAoMAgYICgwCBAIGAgIKCgoMBAgCDAwCBAgEDAgKCgYIAgIMBAQEBgoKDAQCAggGDAwMBgICBAwIDAgEDAIMDAoGBAoCAgwEDAYGCggMAgoKDAQECggGBAwGBAgCBAYCDAgMCgYICAYEBgwEBAYCDAwGCgYGBAwKBgwMCAIIBAgGCgYCBgQCBgYMBgIIDAIGDAIEAgoGBAQGBAYGDAQGCAIEDAoMBAIKAgYICAgGCgQMCggGBgYCBgYEBAYMCAgECAYECAgCBgYKBgQGCgQECggCBgQCBgoCBgQIBAoMBgwICAYIDAQKCgwGCggICAwICAwECAgECAgIDAIECgwMCAQCAgwGBggKCgoCCgYEAgIEDAIGBAQCBggMBAoMDAgGCAYIDAwIBAIGCgoCCgYICAYCCgoGAgYIBAIMBggGCggCDAwCAggICgoMBgoKBAYGDAoIBgYIBgYMDAYICgYMCggCCAwGCgQCBAIMDAQCBgYGCgIIBAIGBAYKCAoECgQCBAoGDAoEDAwECgQIDAYCCgYIBAIMBgYKDAgICgwEAgQCCgQGBggECgwEDAwIBAYGDAoICAYGBAwCBAQIBAoKCgIGCAwGBgIKDAwKCgoIBAgGBgoEAgoGDAoKCAQKCgwICgYECAQMBAwEBgIGCgoEBgwMCAgCDAICCAIKAgoGAgoKBAYICAoEBAwIBgwCBgoICgYGCAwICgIGAggECAgECAgKCAQMBAoKBgQICgYEAggGDAICBAgCAgwGBgYECgoMCggMDAYMBgwEDAQMAgwEBAgGBgQGAgYEAgIECgYGBgoECAIGBAYGBgoIDAYECgYKBggEDAQKBAQIDAgMDAIGBAoIDAQEBgIECAYGAgwGCAgKCAICDAIGDAQECgwGCgYKAggEBAQECAoMCAoEBAoGBgwKCAoEDAYCBAwMBgYEBgQIBAoMBgoGBAYEAgICBAwMCAgIAggKAgoIAggGBgoKDAoKAgoCBAwMBAgGBAYEDAgCCgYMDAQMBAYGBgwIBgQIAggEBAIIBAYCDAgCDAoIBgoGDAQIDAoCCAIGAgICCAQKCgYIBAgECAoMDAYMBAIMDAgKBAoMAgwCCgQCAgwKDAIMCAgGBAgCBggCBAYICgwCDAoIBAgKBAgGBAgEAgYMBggGCAYIDAYIBgYMBAoKCgwICAgKCggIDAYIAggCCgIGAgQCBAQICggMDAICCAYMCAgKCAwIDAoCCAwGAggIAggGDAIICgoEAgoEBAwEBAgGBAgGAgQICAwGDAQIAggMBgoKDAIMDAIKAgoGCgYMCgwKAgIMDAoMDAQKCgoIBgQEDAwGAgQMAgQKBAoMBggGBAwICAwECgoCCgQKDAQGCAwIBgwKBAoKCAgKCgIKCAwMCAgMDAIGDAQMDAYCBAwGAgoECgQGDAoKBAwICgIKAggGDAQIDAgMAgwGDAQGCAQCCAwEBAgGCgIMBgwKCAgECgYCCgYKBgYEDAoCCAYCCAQEBgoIAggKBAICCgYMAggCBgYCAgoMBAwGCgQEBAQCBAoKCAQEDAIKCAgMCggMAgIMBAwGDAQGBgwEBAoCCAwEBAgIDAQMCAoIBgoIAgoIBggGCggEBAgKDAIMBAgECggKCgQCDAoEBgYKAgoCAgIKAgQCCAwCDAoEBAoICAgMDAgKBgQEAgYGAgoGBgoIBgwKDAoIDAoCAgQEAgwKAgYKCgoCBgwMBAQMBAQICAQGCgICCgYICgYIBgYCCgQGDAoGCgwIBgIKCgIGAgYEBgQKCAQGDAgGAgQICgwKCAYECgQMBgwMBAIICAwCCAgIBAwCBggKBgIEBAQKDAoCDAwGDAwIDAQIBAoKCgQKCgQEBgwCCgIICAQCAgoCAgYEAgYICgQCBAQCDAwCBgICCgQMAgwCCgYCBAwCBggMDAQKAggKCgYMCgoIDAQGCAIICgYKAgIEBAQCBAwMBAoMDAgCAggCAgwMBgoGCgwICgIKBgYECggGCgQECAwKAgwCAgwECAoECggCBAICDAoEAgQEDAQGCgoKBggGCggEBggMBAwMCAgGBgoIBAYKCgwMBgoEBAYCCAIICggEBAIKBAgMAgICCggKCAYMCAQECggMAgYICgICCAwGBgwIBAQCAgwMBgYMDAIGAgIEBgYECAQIBAwGDAoMAgIECgwCCAoEAgIECAYGBAQMAgQICAQCCgQCAgoKBgoMCgIKBgwCBAgICAQGBAIGCAwIDAIIDAIGBgwKAgYEAgQEBAYGAggMAggIDAwCDAgGDAIIAggMCAIMBgoCAgQMCAIECAIGBgYGBAoMBgICAgIGBgoGCgIEBgoCCgYMCAQCAgoEDAQMAggGDAgIAgIECgIEAgIGBggKCAoECgwCCgwIBAICCgIIDAgGBgIKCAYKBAQGCggGBAoCCgwKAgwKCAgCCgwMCgwEBAQMAgYCBgwGCggMBgoCCgYICgQGAgoIDAIGCAoGCgoMAgQCAgIEDAwIDAIIBgIKBAQGBgwIBAwEBAoGAgYMCgQGBgIECgoKDAQGBgoKDAQGCgwECAoGCAgGCAQEAgIMCAYGBgwMCAgKCgQKBAIIAgYEAgwECAIECAwGBgwEBgYIBgoCDAwKBAIEBAwGCgoCDAwEBgQIAgQEBgYICgIICAYCAgwCCgYIBgYKAgYGBggIBggGBAwGBAYGBgoIAgIKAgIIBgYICAYECAIGCgQECgQECAwICAwEBAQGCggKDAYGDAQEDAYMBAQCDAwMBgwKBAwCDAIIBgYEBgIEBAwICAwCAgQCBgwIBAQKAgYICAQKDAQICgwCAgQIBAoMDAIEAgIEBgIECAQIDAoGAggCBAIMBgIGAgwICgYCAgYICAwGCgQMAgoICgYEBgwIBAIMBAYECgIKCgQIBgQGDAQGDAgECAwCBgwMBgQCBggICggGDAwEAgwKAgYMBAgMCAYKBgoCCgwICgIMBAIICAQMDAQGAgYMBAIEBgYIBgwEBgYEBgICAgQECgYGDAgIAgwKBgYGBgYMBAwKCgwKDAgCBgYEDAgIBAwIAgYEBggGCgwKBAICBAYIDAoMCgwICAQICgIIDAoMBAYCCAgCAggIBAIKCgIIAgIMAggIAgoGDAwKAgIKCAoECgoMDAIMBAIMDAgECgwEBggECgQICAQIDAwMCAwCAgwECgwMDAYGBAwICAQMBgYIBAoMBAwCDAoMCgwIAgwIAgQEBggKCAQICAwIBAoMCAoIBAgGCAgCBAIMBAwKCggKBgwGBgYKCAwCCgoIAggGBgYKAgICBgQGBAQMCgICCAYKDAYICggIAgoKCAIMCgQECAIGBAQGAgoCBAYGCAQEBgYMCggKAggMAgwICAwEAgIMCAIEAgYCCAYKCgYGDAQGBAIKDAYGBAYGAgYKBAYEDAoMCAwIAggKCgYMCgoKBAYEBgYECgIECAYIAgQEDAYKBgwIBgYKAgoEBgwEAggKDAgKBgoCCgIGBAoIDAQEDAYGCgQKCgwEAgwEAgIEAgQMBgYMBgYICgIICggEBAgCAgQGCgIMAgQGBAgEAgQKCAIMBgwCDAQCBgIMCgYMDAwCBAYIAgYCCAwMCAgIAgYEBgYGDAQKBggKCgoICAYCAgwMBAwKAgIKDAQCBgoKBgwGCgoGDAQKBgwMDAoIBggIBgQECgIKAgQMCgQCBggIAgoICAoIBAIKCggMCAQKCgQKAgwIBgwIBgIIAgwKBggECAoEAgwMAgQEDAgICAYMDAQCBAQGCAQKDAwICgYIDAIICAwMBgQEBAQMCAwECAwKAgYGCAIIAgwCCgoKCgIICgQCBgIIDAYCBAYKBgwEBAYIDAIGDAQKCgIMCgYMBgYCBggKBAgMBAoIBAIEAgYICgQIAggEAgQCCAoKCgoCBggMDAQKBgQGAgoGBAYCCAYKDAoKBAIIBgoCBgoMDAgMAgwMAggEBgICDAoKBAwCBAwECAYGCggKBgICDAwCDAYKCgYEBAwGDAQGBgQKAgQCCgwIDAIMBAQMCAgCDAgCCgYEDAwKAgoIDAQKBAoMBgIECgYKBAgIAggMAgoKCAwCAgIMCgoGCgYICAIEBgYKAgICBAYMCgwKAggEDAYCCAIKBAQEAgIMBAI=",
                    "dtype": "i1"
                  },
                  "xaxis": "x",
                  "yaxis": "y"
                },
                {
                  "bingroup": "x",
                  "histnorm": "probability",
                  "hovertemplate": "variable=X_1 + X_2<br>value=%{x}<br>probability=%{y}<extra></extra>",
                  "legendgroup": "X_1 + X_2",
                  "marker": {
                    "color": "#EF553B",
                    "opacity": 0.5,
                    "pattern": {
                      "shape": ""
                    }
                  },
                  "name": "X_1 + X_2",
                  "orientation": "v",
                  "showlegend": true,
                  "type": "histogram",
                  "x": {
                    "bdata": "DAcHBwcHCwcJDAgECAQICQcGBwIHBQoHCQcGBQcIBwcGCQkHCwYHCgQJBAkDAwoGBQsKAwkHCQUHBgcJBwgICwUJBQcFAwUKBwkCCQMHCQQHBQQIBQoEBQcMAwgHCwcHBQcEBQQJBQYEBwcFBwMJBwYKCQcGBgcECwkEAgoEBwMHBAMGCAUIBggICwcDBwgFCggICAMHCgMKBwcLCAgFBgYFCAsICggJCgcCBwsJCwgGBggCCQMFCAYEBgoGBwgLCQULCgcHCQgICQIHBgUFDAgEBQYHBAQKBwMHBwgDBgcDCAMMCQoKBQMHAwUFBQYIBwMGBQYHBQYLCAUIBwcHBwgFCgIIBwsGBwYECwoGCAMFBAYHBwsCCQoMDAIECgYEBQMHBggFBgULCAUFBgMICgIHCAUKBwkECQcCCAMKCgUFBgUDBAUHBQYHBggHAwgIBwYJDAkFCwQHDAYDCAgDBgYGBggJBwQECAgECQkJDAoGBwgIBwUJBgMEBgkFBwcHBggHBgYJCQsICQsJBgMHCwQFDAoFBAcGCAUGCQYKCgcHBQwIBAoJBAUJCAcGCQUFCgcDBwgFBwUIBAcDBAcKAgQIBggGBgMGAwQIBwIIBgoECAgCBQQCBAMFCAsIBQUJBwYIBwYECQUIBwcIBQgHCggLBwYECAgGBAkKBQIFCgMLBQMEBggLCAkIBwUHBwgIBwQFCAQEBwYDBAkIBAgLCAYJCQMJDAYIBAUFCQgGBwUECgMIAwwCCwULBAoIAgkKBgMHCAMGBwQEBwcHBwULCQcGAwYGCQMJCQMFBwQICAUGBggGBgoECQoIBQkFCgkKDAMDCQsKBAUFCQUHCgcGBwoICQgJBgoFAwcJCQMGBQYLBAoHCQoFCwYCBgoHCQULDAYKAgoCBwoGCQcHCgQGCwcHCggLCAYFCAcGBwQLBAQJBgMIBgQEBwsHCAkHBAcJCQkHBwoCBgcGBwgEBQcHBAYDBggFBwgFBQkLCAoICAQHBgwFCgYGBgkKBAUGBQcFAwoHBAYHBwcHAwQGCgMIBQgGBwoEBgcHAwcEDAQKBQkIBAsLBQoIAggHBQkDCAQFBwcFBgcDCAcGBwgEBwkHDAcHBgsHBAcLCAoLBAUJDAkHBgIKCwgJBwoGBwMHBwkJBgQJCAUICgYJBQkFCAgHAggHCgkFCgYGCgkKBAMICQcIBwgHCAoHCgYKBQoLBgcGCggGBQYLDAUEBgsDCQYHBwgGDAgHCAoJBwQHAgcDBgkECAcHCQYFCQgGCwsHBwsGAwcGBQQHBwsHAgwJBQUJBQIGCAUHCAYHBQoCCAMECAYKCAkJCgUHAwQLBQQIBgcLCggEBgoKBwMFCQYEBQYIBgYHAgUKBQUHCAUGBgwJBgQHCQUHBQQECAcJBAkJBggEBwwIDAkHAgkFCgYDDAYKCAwJBAQICgsLBgoIDAQKCAYGBggKDAcIBwgICAYFBgkLBwYDBQUEBQkLCQcICQUGBQkCBwcDBgcMBgUHCAUHBwkHBwkHBQIKBgQDBgsGCQgLCwwECwUHBQQGCAsJCQkHBgcHBgYMBwwGCAcIAwcGCAcGBggHBQcKBwoDBwgHAwQEBQoHBgoLCAwICAcGBwcGBAMHBQkFBQkGCQYEBQYFBAoECQYMBAoDCAcDBwUEBQMGBQgHBgQECgcKCQcIBAkGCwcJBgcHDAILBAcICgYICAsIBgYIBgsKDAQMCAcKBAgICwcHCQMJBQYECgUGAggMBQoECAcGCQYHCgcHBgkHCQYHCwsIBgcEBQsGCggHBgULCgcIBQgJCQsICQwGCAoLCgYJBQsJCQUJBwsHBwMGDAgFBwgLCAgFBwUDCwgHCgIGBgYFCAgCBgYECQUGBwgKBggHCQcKCgcKCAYHBAQDBwkJBQkECAYLCQQKCggMCAcGBgoDCQUJCgsJBAYFAwgKBAYEBgQGAwwIBwgIBwsICAsJBAUIBQQGCgUGBgQJBAoDDAgDBQUJBwYHCQkECwYECAIJBQQDCgsFBQYHBgoGCgYJCAkGBwcKCQgECAwDBgYMCQMJCQsHCQcICgoMBQgKAwcHBQkGAwcCCwwHBgQECAsDCwUICwgHBQkEBgcICAgJBwoLBQoFAwIFDAQMBwMMCQYFCgIGBQgEBwcJBwkHCwQICQYEBAYEAggCBAMCBggKCQkKCQYDCQQHBgUHBgIICwkIAwkICQoIBQoEBAYJBwgDCwgICAUGCQsICQQJCAcCBQcFCQgGBggGBggGBwkHBwcGBAcJCAcFCAcFCQgIBQgFBQgJCQYJBgQDBwYHCQcFBQMCCwcEBwgICgoKBgUHBwgEAgkIBgcJAggKBgkJCwgJBQkJCQcLCgcGCwQKBgkEBgkGBgYFBAYGCgQFBQkGBQoHCAgFBAMDBgcKCAsHAwYJCgsKCgcKBwUCBwIIBggJDAcGCgoIBwUJBQsDBwcHDAUKBgIIBgYKBQcHBQoLDAUFBgcFBAMHBAsJBAsJCwIDBwUHAwkDBAoHCQgHCQoIBwcJBwkCBAMJCQQJBwsJBgUFCQcKBQgFBQsHBQMJBQIIBwsDAgoKBQkIAwgCCgYLBggGBgkGBQkGCgcCDAYKBggJBQkKDAIHBgkFCAoJAwUFDAYLCQcEBwgIBQsKBwkIBwgHBwoKAgQICQgICggHBAYGCwcDCggHBwQEBggGBAcGBwcKBwcEBQYHCgMKBgcJAgoGBwgMAwoFCggHBgUMBQgHBAYFBwwLCAYMBQQHBQYJCAgFCgQHCQcKCggFAwcHBgwJBggGAwkGBgkHBwcHCgUICgwFBAcFCwcGCAsJBwYKAwcFCQYGBwwCCQgIBwUHBggKCQUGCgcFCQcKBAQHBQkHBAgKAwYGBgsGBgcEBwUHBgYLBAYDCAQJCQQGBAkHBgQKDAkECwgGCwMIBwgFCAgIBAYGBgQECwcFBQUDBgMMCwMEBgYEBgcGBQsFBgwHCgsECwkHAggHBQgHCQIIBgoIBgYEBgoFCAIJBgYIBwoGCQgHCwQKBwsIBwsGBQUHBwkDAgcFBwUHBAUHCgULCwYHBgUJBAcKBgMJDAUGBAcHCQgECAcKAgcHBAsIBggLCAYGBwIDCgUEDAgGCAgECAcDBwcFBwwHCgsDBQYECAYJAwQFBgQIAwgKCgkHCwYCCgMIBggKCwYECQcHCgoKAwkJBwgGBAoIAwYIBQYHCwQJCAMJBwgJBgUFCQQCCAUFCQQIAwkJBAMHCAoIBwQFBgoHCwgHCQcKBwYJBggHAggJBwUMCAoHBwcKBAsIBwUGBgsICQQKCQgJBAcDCgMLBwgICAIICwgLCAkHCgUGBAsGBwYECQUJBAQICgsDBwcCBgIHCgoJBgUDCAoJBAwGAwUJCQQFDAcHBwsGBAcGCwgHBQkIBQsFCwUGBAgGDAoGDAoGCAYHBQcJCwoJAwQHCAYHBwkHAggIAgIECAsJBQQHCQQEBAYFBwgGDAoIAgUKCAYMBgYGBwQDCAcKCAUECQwHCAcEBwkGAggIBQkJCggIAwcIBwsGBggECQUJCgkFBwUDBgcHBwwGCAgKCQYCBQMFBQgLCgULBAoLBgoHCgcHBwYHCQgGAwcLAgwEAgwGBAoJDAMIBggHAgYHCwcGBwMFCgkIBwcFBwgHBgMEBQYFDAoHCQkFCgUIBQwFBwgHBgcFCAQHBwYIBAYLCQgGCAUJCAYGCAcIBgkFBgoHBwkCBQcIAwUCCwcGAwQECwwKDAQHCwQHBQgGCwQJCQQLCAgMCQYFCQgFBQsGAgQFCAoHBwYFAwoIBQYECwkFCggLCwYIBgYHAgsKBQQCBQcGCQcKBQUEBwkJBAgGAwoEBQcIBwgJBgsGCwgFCwgFCQsFBwcHCAYMCAoLCQMGCQcJCQIIBQQHCQcIBwgGCQcHCQgJAwUGBgYFCAgFBQgEBgUFCAoJBggLCwcLCQsKBwMHAwIEBwcGAwgKBwQKBwsFCQYFBQoDBwgLBQgIAwQHBAsEBQgKBwYIBQcKBgUHAwgKCwkHBwsIAgoKCAYICQkKBwQJBwsHBgQHBgYIBwoGBwgKBwoFBgQHCgYIBAsJCAoGBgcKBQgECAMECAkHCQkHBAcKBwgIDAgJCAgKBgQJBwkHBwkFCwgEBgIICQcEBAYJCQkEBwgEBQgKCQYHBggIBgsGBQQIBwgDCAcHBwcGBQUDBgcHBQcFCAkDCAgLCQgFBgUJBgUHBgkGCQYGBAcCBQcJBgIIBAkMBwcCCAYECgcHBAYIBAQEBAcGBwcHCgkJCgoHBAQIBgoICAgFCAkICQgICAgICQYFCgcIBAcHBgUHBwsJBQgKCgYJBgQLCAoJBwkGCwcKBwYLBgUGCQoJBwcFBwcFCAcKAwYIAwgJCgsIBQoIBwoECAwIBAMEBQoGCwgFAgYIBQUFCQYLCAMGBgYKBQoGBwgJBwUJCwkJBggHCwIDBAkDBQcHBgcKCggHBAcLBwgGBwsGAwcECAcGBQoDCgcHCwYIAwsEBwUEBQcHCQUECAMMBAYLBwoHCQcFBgoGBwgMCwcJBwUHCwsJCQYGCAgKAwkHDAQFBgsKBQkJAwYGBwkLBwoFBwYJAwMEDAcDBwYHCgUJBAcHAgkEBwUKAwcIBwUHBQcHCgMICAUEDAgLCQYKCQcHBwkEBQcEBAMDBQYIBgMKAgMHBQcJCwcHCAUHDAwEBQMMBwMFBwkFBAsCCQYECAwHDAgFAwQJBAcFCAoHAwYIBAcICQYHDAYICAkFCAwHDAcHBwUGAwoHBwgICQkGCAkGCgUFCAMFBggICgQGCgoKBwgMAwkHCAcJCAQEAgUJAwUIBQMGCAQFBwwGAwcECgYDBAYJBQQHCAMFBgcFBwQFBgUEBwkGBggICgcGCQkEBAYHCQcICAcFCAYEBgsECAoIBgYJBQcGCgUIBQcEAwUCCAQJBgUFBwcICQUFBwkGCgUEAwcFDAwECAkEBAgHBwgIBwoGDAgDCgMHBwYHBQsJCQcIBQoGBwQIBgcHBwcIAwcFCAgEBwgICgUJCAQFCAgGBgkKBwcIBgQICAkKCQkFBgcDBAMCBAcKBQcJBAgDBwkJCwsIDAwGCAgLBwsHCAoJCAUHCQsGBQQKBwgDBwgEBAQFCwgJCAQFBwgFCwgKBQUCCAgGAgcCCQUKCAkDBgQICgkKCwoJBQcHBAQCBggICQQHBwUECQoECwYHCgIGCQIGBwYGCQoHBggIBwYIBQIMAwgIBgUGCAgKCgYIBwUGCgQJDAgGCAQJBwYFBAQFCwcKBwMKAgcKBQIHCAUGBAgIAwYFBwcHCQUJAggFBgYICQoHBgkGCQYHBgUGAwQHBgcGBwYKCQYEBQcHCgMECQoHBggKBQIICwoMAwgIBwYGCAcICgMHCgYIBQcGCQkJCAYHBQUMDAkGBAUGCAoHBwcGCQgFCQoJBAkKBgYIBQwFCQYHBQQKCAoLAwgDBQMMBgcICwoIBgMJBgkIBQcJBwcHCQcECwoECQgCCQcHBAIEBgcICAULBgkDBwcJCQcICgoJBAUICQoFBgMKBAgHBwUGCAgGCgQJBwgICQcMBwYHCAYKCAcGCwcKCAgHAgYJBwYICAoGBQcEBgUICAkKCgIKCQgJCAoIBwQHBwkECQoGCgYJCQkJBgYHCQYJBgcHDAYHAgMIBQsHCQcFBQgGAwUDBAcFBQcFCggICwUGBQYHCwcFBAcECQgFCwYKBwIIBwQKBwoGBAgECwcICwYKCAUJBwoEBgkJBQcHCgcKCAoECQYLBQkGBwoIBgkIBQsGBwgHBAYIBwcGBgUHBAgEBQYGBgkKBwkFBwIGCgIKBwoHBwgMCwUHCQUCBggHCwsHCwgLAwcGCQsICAsJBQMIBwcCBgUDBAUICAcECAcJBwkHBwgEBwcHAwoFCAUFCQkHBAkIBAsDBAcGBAgKCQgEBQYFBgQFBQoFBQcGBQgFCAsFCQYJCQkFBAkEBgoLBwoHCgkICAUCCAwDBgQICQYLBwoJCAcIBgUCCQUIBAgJAwMKBwcKCgoJCQgHBwQHAwYJBgYHBAoJBwQGBQULDAgJBwIJCQkMAgYJCggHCgIFAwYIBgsJBwcLBwMCBAcDBAQHDAcJCwYDCQUFCgkICAYIBgMJBgUICQgFCgwEBwcHBAMGBQIFBgUKCwkKCQUMDAoFCgwCCwYHBgkLCQsKCQMFBwUKCAYGAwUEBwkFDAUJBAcLBgYGCwgJBwcCAwcGCgwLAgYGBgYJBAgGBQIFBAoFBAMECwkIBggKBwYHAwcJBQwKCAYHBwoIBAkGCAgHCAgECgoGCAQJBgUFCQUJBQcHBgYLBwwJBQcHBgQLBwsHBwoICAwKCgUJBwoLBQoIBQkEAgMGAwcIBgkICQYHBQYDCQcEBwUGBgkHCQoGBQgHBQQICAMHDAQIBwsEBwgGCQQECwIDBwoECQcJCwQIBgkMCgwKCQsHBwYCCwUFCAcHBgUJBgcHBQoIBAoHCgYKCAoKBwcHBgUFDAYHBgUGBAUHCAUHBwIJBggECAcGAwsHBgQMBAUHBwQGBwgEBgkJBQkGBAcGBgQICgUHCQQJBwgJCAYGBgYHBwgHCgoEBgMJBQUGCAcHBQgJBwUFBwsEBwkGBgUFBwYJBAMFCgcICgYFBgYGBQsICAkIBgUIBAgFBwILBwgICAUFCQUJCAgGCQQHCgULBQUEBwgHBwgEAwcEBggLBQkGBgUJBAcHCQkJBwYKCQoLCQQKBAkIBgYHBgIKBwQFAgcHBgMJCAkGCAsFCQMIBwoLBwYIBwMGCAoHCQUHBQcCAgoJBAgICggEBQMFCQkHBwcFAwcHBgcCBAkFCQYIBwkICAcIBwoHBAcMCwcIBAwIBQYHCgoJCgoEBgsJCAsIBQcIBAUHBgkKCQUICAUHAgkEBwkJAwYEBwsDBQcHBQsDCAcICwMICwcIAwcEBAQJBgYFCwsLCgwGCAkKCAUFCAYIBQkKBgUKBgsHCAMHBAQIBgMHCwQMCwsHCQcKCAgDCAcGBwQLBwcMBQkGCwsHBAYIBgkGAgkGCQcIBQcECAsKCQcKBwcICQQDBAYICAIFCAUJBQMKBgUGCQcFBQoGBwUHBQcJCAgDBwYIBgkHCAkFAwcEBQkHBAUEBgUICQgJBgkGDAMIAwgLBwcEBwkDCAUIAgoDCwYHBwUHCAQCBgsICAYGBgQFCwoIAwgJCAoICAkKCQUJCAQGBwcHCAMIBAYICQUKBgULCQoJCQkFBgUIBggDCQgHBwgHBgkIBwwIBgsFAgcIBAcIBgUHCQQGCQQJAwcHCggDBQkIBQYDBwUKCgUIAgMFAwsFCQYIBwkFBQcHCAYEBwUJBgYDBwsICQgHBQcJBwYGCwkHCAYGBQgLCQkKBgYECgkFCQIFBQUFCgoHCQQMBgUFCgcKCgkMBwkJCAoEBQcFBQgHBwkDCQkDCwMIDAkFAwkGBAgKBgYGDAMGBwYHBAcHDAcGCAgGCQkMBgcKBwwFDAYKDAkDBwIGDAgEBwkHBwYMCAgIDAgICQgIAwQGBwgHBgYKBgkDBwMHBwkFCAcEAwkGBwYEBwQEBQQHCQoIBgULCAMDBwcJCQsDBQsGBAQKBQMHDAsFBQsFCQsJCAkECQQKCQIKCAYMBQUFBgYHCAoIBQcLBQsGCgcJBgUKBwMLCQoHBwcJCQsDBgYIBwsKBAQJBgUHCAgECgYJBQUEBwYMBgUGCQsDAwsKCgoDBQgFBwQFAgMKBgQKBgYJBwYFBgUFBwIKCwcICAoEBwoIAwkGCwQHCAUJCAcKDAoHBwgEBgkKBwoJAwQDBgMIBAYHBQgICgcJBgQHCQUGBwcHBAgIBQkGCAcIBwMJCAoKBwoHCAYEAwQFBAUCBAUIBwcGBAkKBQMCBAgHBwcLBgcCCAYCCwUHBAQLCwUHBAgJCAoLAwsKBgcLCQkHBQUEDAIFBwgIBgMGAgUGCwoIBgQIBQcKCwgEBgkIBgkMAwgICAcKBAsGCwcHCAYHBgYFBwgKBgQKCAQIBwUGCQkFCAMEBggJBgcCAwcCBAkGCQUKCQgHCAsGDAQHAwoICwcMCQYJCgsJCQgGBwoKBAYGCQUDCQYFBQYJCQkMCgYDAwYFBAQFBQMHBAcDBwcJCQYCCAcIBQgJBAYGCAQHBgsIBgkJCgcFBAMLCAYKBQQHCAgGCAULCAcHCAYGBgYHCwoECwYECAYGDAcIBgMCAwkJBQcDBgUFBgsDBAUFBggGBwMIBgoIBgQICAYJBwIHCwQCAgwIBgYECwcECQkIBQYFCQYFBAgJBwgKCQoHBQgHBQgGBwoIDAYHBgcGBAYHBQoKBAkEBAYHAggIBQMHCgYMBwkKDAYFBgMEBAQGCgkLBggFBAcMBAgJCAoHBgsIBAYFDAoICQkKBwcGCQUJCAMEBQUHCAgHBQYJBwsKCQUMBggHBwoHBAcCBQcFBAYGCAIIAgcFCQcMBggJCwcJBQcICQULBwIHAgYICQoFAwUFBwYDCAkMCAYKCAcJCQYEBgkFBwcFBgkIBQcKCgcFCAgHCAcHBQUGCQQFBAYGBwMFAwYFCggGCQsIBAoDCgoICAkHCAQKCQgKBwYEBAYCBgoJBwgLBgYEBQgJCAYGBwcIBgkIBwYJCQkHCQgGBAgHBQYEAgUHBgYFCQMICwMJCAcKBAgHDAIHBgUKCQQJBwkGCQIHBgkDBAUHCAoMBQYHCgkJBQYGCgwHBgYIBwYJCAUMAggMCAoFBgcFCAUDCAoHAgoHCQgGBgYKAgcFCAkGCAgEBwgMBQYKCgMMBwwGBwcIAwUGAwMGCAcLCgcJCQgCBgQDBQcEBQsDCgcICwoDBwIIBAkLAwoLBwwEBgYKCAQEAgQHBQcDCQMJCwYECwcGBAcEBgcHCQkEBgcGBAUEDAkLCQoEBgYHBwcHBwcHBwYJBQcCCggHAgkICAoHBQgHCAoJBwYIBAgGCQYIBwUICQgJBwoICAgCBwgDCwsECAQDCAgCBggHBAoJBgkFBQcKCAcIBgsJBwcLCgMIBwgJBAkHBwgLCgkFBAIFDAsGBAQGDAYICAoECgYECwgIBwcKBwYMCAwIBAcGCwgGCQgLBQwGBgoEBgUGBggHAgcLBAQJAwgIAwkEBwUFCAgGBQYGBAYGCAMICAwFAwYJCAgLBwUECQgJCgIFBQQHCQcJCQUIBgkICAcIBwMFBAQECAYFCggJBwQGBQcICAkJCQgGCQQHBgQICQULAwIHBAYDBgUKCQsHBAUMBQQJBwcFCQUIBwcFBwoKBgYLBAYGCggFCAsLBgcKBgoLCgUICAkIBQYDAwYHBgUKBgYHBggJBwsJAwoKAgYGBAgFBQQHBwcLBgkIBQgHBQMGCQYHBgkGAgoGBgoHAwoKBwUDCAoFCAUICAYGCgQMAggGCgwJBAsHBggIBwkDBwcFCQcICAMFCAQGCwUIBQYDCgsEBgYHCAIFBgkIBwgHBAYKCgoJBwQHBwgHBwUIBgkMBgcKCQkFBQgGCgUDCQYJCQMHCAQHBgQHBwwEBwYHCAwGBQMKBQgFBQIKBwQIBAsFCgsJCQYDBwoKAwoGBQoGCQUKCAcIBgMHCQkGBAoICgoHBAkCBAkKCgcHCgQHBwgKBAgICwcHCQkJBQYHCAcIBQcJDAoEBwkHCAYLBwYHAwMCBwsHCQUIBwcGBQoHBgQGAgcGCgsHCgQEBQcICAUIAgMEBgkICwwIBAYDBAQJCgYEBQcIAwUICAQDBQgHBwQMBQYIBgQEAwsLBwUHCQcKAwYKBQQIBgYMBwYJBAkGCAYCBwYHBgYIAwoHCQYECwcHCQYKCAYICQMCCgkIAwUGCgUECgMECgsKBAYFCgoLCAgGCAUKCQcGBAYKCQgHBQYKBQYGBAYICAMFCwoKCQoDBwkKCAQFBQgICAYDCAgKBwUGBgYJCAkHBwcGBgYKCggGBAYFBwYDCgkFBwgJCAcHAwoFCQcDBwkCCgcHBQgFBwYKBwcFDAYHBwYKAwgIBwoGAwgGCQoGCQoHCQoMBgQJBAoKBgMICQYMBAsICgIIBwwICAwIBwgJBwsIBwgDBwoCBAgICggFCgUCBQgGCwkIBwoGCQcHBQYIAwkDBAoEBAUHCQQIBQcICggLBAcFBAcMBQULCQMJBQgHCQgHCAcECwYKCAUFBQYGBggCCAcJCAkICQYGCwMICAUICQMHBQUGBwkGCgYGCAgEBAMKBwoDBwQGBwkJCgoHBAkFBgMICwoJAwQCBwYJBgUICgsGBQsHBgUDBAoLBwcMBgkLCAMGCQkIBwQJAgUJBwYECQgJCgcIBwYHAwYIBwoJAgcMCwIICAkMBwcICQUFBwUJBwcECQYHCggGBQUJAwoDCwYICwoIBgcMBwcHBQkIBgcKDAcDBwYJCQgCAgUFBAQHBAkHCwYGBgUDDAkFBQgLBQgLCAYDBwkFCQwICAkHBQcHBAoDCAgIBQgFBgcHCAgKAgcLBgYJDAUGBQUDCAcECQcGBwsJBQQKBwoKCAQGBAUGBAsFCAQLBQoECgYJCQQKBQYICgMFCQcECwMHBQQGCgcDBQoECQgIBAQJBgwKCgkGCQgJCgUEBgQECQgHCgYMCAYKCAcKCAQEBAsCCgYJBwkEBwsGCQUHBQgJCgYGCAwGCAkFCQMJBgUKCAkICQkFCAwHBwYGBAYHBgcFCQgGBwoJBwwICQYIBQYGBQcICQIIDAYLBAYICAcEBgMHCggHBQoCBQYFCwkGBwsHBAUICQQGAgcCBwYLBAsJAgQLBQUGBwUCBwkFCgcKBwgMCQcJCQQIBgcMBwoHBAUGCAIHBQcGCQsLBwsGBgsGBQYHCwgLDAkJCQgJBgYFBQQLBwgHCAcGBQwGBwcHCAgHCAoHBAkMBAYKCgwFBQcDBgMEAwoLBgoGCAgJCQkICQQHBwgICwcECQkGBgsFCQYIBgkEBAcEBwkJCQsGBgMHBwgJCQYHAgcEBAcIAwQMCQMJCAcIBwcHBwMICggIBQUEBgsHCAgDCwoHAwcHCgcHBgsDBwwEBgoGCAcEAwkHCAYECAQHCQcGBwQJBwkGBQgJBwsIBQcJBAQFBwoLBAgGCAYEBggDBQQLAwwJCAkGBgUHBQkJCgUGCAgJAwUCAwUFBgMICAkHBwkHBgYKBwIKAggGBwIFCQgIBAUKBAYHAwUFBwkKBAMLBgQEAwYHCAgKBQcLBAYJBwsMBQcHBgcIBgkJCAsGBAYKBQYGBAkMBwsKBgcFBgQECQgHCwgCBwwHCQoKBQgHBgQFCgUGBgcLCgMIDAcHBQwJBwgJBgUKAgcGAwUKCAMMCAcKBwcKCgcLBgcFAwUHAgYKAwUDCgcHCQYICwkLBgsHAwkHCQoEBwcJCgcFAgoHCQsGCAsDBAcEBgkMBgkHCAsCBQsHBwYMAwoFAwgDCAYIBgQGBgkIDAQFAwkCBwUFBwkFBgYIBwcIBgQEBgYIAwkDBwsECQkCBwYICwMFBAIKCQUGCAUDBwQHAgcKBgYEBQoLBwkIBQUHCgIKCQkICAcICAcLCwUJDAcFBAoFBQcKCgcJCAgHCwUJCAoJCQQECQkLCQcICQsIBwgGBwoHCAYEBQYJCAYFCgYLBgkIBwkDBgcFCAUFAgcHBwUMDAsLCAsICAgICAYJBAQIBwYICwoGBgUKBgoKBQkJBAgHBwgEBAsHBwcJCAwIBQoHCQcJBgcJCQUDAwsCBgIHCQcGCwgIBwsKBwILBAcMCgQKBQYICQUGDAkKBgoJCAgHCgIFBAYICgcICAgDBwgLBwcFCQIFBwYHCQYJBwoGCwUGBgYGBgMHCAcGBgUFCwkHAwIKCAoHBwcKBAgHCwUICAIHAwgKBwcDCAkLCAYKBwwDBgYMBwYGCQgEBwQHAwYCBgYECQcGBQYJAwUHCwcEBAcECwYDCgsKCwgLCwQGBgUKDAYEBwcJDAkKCQYEAwgJBAgJCQQICQcHBQgEBAkICQQICgQLAgIGBAcHBgsJBQYFCgsKCAwEBwcJCAgGCAcFBAMKBAYGAgMIBwoDCQwIBgcIBwkMBwMHBQgEBwYMCAYGCQYHBggJAwQFBQMCBgcIBgkHCQgHAwcKCgYJCAcFBQUECAUGCwoICwcGCwUKBQgICAYICwYHCQsJBQgIBggMBgoJCAoJCQIFBAgGCggEBQcHBwoICQIEBAMGBwULCAQFCggIBwQECggKBQMKBgcDBgsDBwMDCwUFBwYJCQUECwIFCQQFCwkICAYHBgYFCQUHBgQHBQgDCAsJCAMCCQgFBwQICAMKCQgFBAUGBQwIBwwHAwsGBwgLBggEAgIFCgQHCQUHCwIKBwUKBggHBggFBQUIBwYIBwYFCAMCCAkHCgMDBwIHBQUICgcICAsHAwkDCQUFBAoEAwsFBwUGBwgLBAkGCQsHBQgKBwYLBgcJCAkGCQcKCAcFBwUCCAYDAwcIBwYHCAQECQQKBwcKCQcFBwUIBgcEBwgGCAcHBgQJCAgKCQgECgULCQYJCwYHAwMICAoKCQYKAwYKBQUEBwUIAwgJCggHBQkFAwcLBgYIBwYDBgMECgcECgUHBgcKBAgHBwcHCgQLBwsIBwYGCQkGBwYECAkCCAwKBgsHBggKBwQFBAgDCQUJBgkHBwQKBwsIAgcCBQkLCwMJBQkFAwsIAgUICggHCAcJBwcGBwkHBgoMCQUHBwUICwcFCQcICggECQUHCAsKCQsIBwwHBgYJCAIGDAkFBwYEBQcHCwoJBAYFCgYGCQMECwcJBQgGAwcFBgUGBgUGAwoGAwgMCQMMCQMJBAcEBgYHBwUGBQsCBgcMAwkGBAcLCgIIBgMICAkJCQcFBQgFBQUGCgkMBgsGBQYEBgcCCgcMBgcIBggFCwcHBAUHCgcKCQQHBAsHBgcKCgcHBwoGCQoJCgMIAwUICQcICAoFAwUFCgUECAoJBQUHCgcJBQUJCAUFBgcICAsCBQUJCAUEBwkFBAMFCAQFBwgLBAYHBwUHCggJBQgMCAQJBAcKBwYICwsKCAgKCggHBAwFCAoLBAwLBwYECAkGBAMFBwwGBwkEBgoECAUIBwkIBgoMBAYDCQQFAgMMBgoHBQQCCAUEBwYGCAMICAYLBgMGBwUGCgMLCgsFCQoMBAsIBwYDBggJBgkIBAYKAgsFCAsGBQcJCAgHBwcGBQYDBAsLCQMLBwUJBwoJCAgGAwcFCAgKCAQDBQkCCAUFBAcECQYHBAYGCQgIBQYHBQoIBwwIBQgFBQkJCQsEAwMCBgMFDAUFCAYHAwwHCAkGBQgFBQUFCAQICwYECgYMCAUECgcGCAQFCQYCCggHDAQHCAcICAQMBwsHCQYKCQcIAwUIBwUHCwQGBgUMBgoHDAcGBgcFCAcDBwcJBgYJBwcLDAUGBgcJCAgGCQcDCAUIBAYGAwUECgUECAQGBgsMBAcMBwYGCgQJCAgGBgYHCAcJBwMGBQYLAwUHCQgHAwQHCQsGCwMJBwgCBgUDBgYICAoGBQkKAgYFCQMFCAULCAcJBggGCQkJCAgIBAsHAwcJBgsHAgUKBgYICwcCCAUEBwcKCQcIBgwHCQgLCwcGCQYGAwQMBgkHBwMCCQgHCQoDBQcDCgcHBAgHBgsHCAYKCgMHCAcIBgkIBQIICAcICAcIAwYKBwkGBAMHBQcGDAsFCQkICAoFBAcDBQgHBgYEBgUGBwcLBgkMBgcHBgQDBwUIBgoEBwQGCwcFCgcJBgMCCQkICAcKBgcDCQUIDAgCBAcHCAcCBgMFBAgEBgwJBAUCAwQGCwgJCwYHBgYJBgUGCwgJBwYLBAQDBQgGBgQHCAcMCAUECgUFCgcEBgUCCAsFBQsKCQcLBgcJAwwDBQcECAkHDAUGBAcJBQkHCQcFBAgGCAkFCQoJCAgICwwGAwkEBAgLCAkKCAQDCwQFBwYLCQIJAwgGBwkGCwsICAMGCAcFBwsLBAkKDAQICAoFCAYHCQwIBwoHAgYGBgkIBQULAwUJCwkHCAoGCAkGCgYHBAYJBgUHBAYFBQUICgYHCQcIBgkGBQgICggJBwYFCQMKBgoFCAUHBgkHBwQLBwgIBQcECgkEBgUGDAgHBQYFBQsJCgsIBgUFBgoJAgUIAwcGBwsGBwQDBQgJBgQGCQgHCwYGAwcJAwcJDAgIAwYHCQoIBQcECAYICQMFBQgHBwcIBwsCCQMHCAgDBQgFCwwGBQUMBgkKBAYHBwsDCQIIBwsFBQMDCgYKCQwGCAoCBggGCAUFCQUICQkDCAcICgUICgMGBQQIBwwDCQgJCgUIBAkHCgQFCwwLBAsKBgsKAgwHCQoHBAYEAwcECQkFBwUFBQYGBQYGBAgJBQgFBAIGCQYICgYJAwcHBgQKCgsKCgYHCwgECgoKBgoHBAkIBQkIBAYCBAgHBgIFCggHAwQMCQkDCAoKBwUGCgYHCAMEBQQJBwoJAwUIBgkICAUDCAQJCAoDCQcKAgQDBwgGCAgFBwgJBgYJBQcHCQkHBwYFBAoJCgsKCAYMBwkKCAoKBgMLBggJCAsCDAkHBwsKCQUHBwYIBgkKBgYICQMEBQcLBwoECQkKBwkCBwQHAwMJBgcGCAQLBQUICAYCCwoIBgsIBQIEBAkFCAgLBwIIBwoGBAkICAkJBwYGCAUKBQYJBAkCBwMGBwkJBwMLCQUHBwoEBgsHBAQIBwIHBwcICgUFBwgLCgcGCwMGBggFBQwGBwUDBwUGBwMFBQUJCQYJBwcGCQkFBAsFCAIJBQYKBgQGBwUJBQIHBQoEBgQLAwcHBwkGCAMFAgYHBQYGBQYIBwgFAwoGBQoHBwcGCQkHCgsFCQcKBQkHBwcECgkFCwcHCgwJBgcGBwcEBwcEAgQGBgcKBAcGCQgLBwYICAUGBQcGCQsDAwYGCQkIAgkJCgYGBAYJCAMHBAcJCQkJBwUMBgcMBwUHBwUKCAcJBwQFBwcMCAQFBwQJCgcMBgsJCAkHCAkKBwkFDAQFBgIFBQMJCAMHBQkHBgwGCgMKCQIICQsLBgcDBgoFAgcHCQYHBAMGCwsGCAwJBgsMAwUIBwcCBwYJBQYLBQgEBQoECwcKCQcCBQgKBAUMCQoIBQgIBQUKDAkGBgUFBwUFCAgDBQcMCQgJBwYGDAcEBwkECwYLBAgLCAYGCgcKCAcIBgsHBAcHAgQHDAMJCQYDAgQKBwMHBAQGAwsFBwYGBgoGCQcKCAUGBgQJBgYGBwYGCwIIBAcFCAUGBwIGCAwECQYJCgcJBwsJBwsIBgkHBwgEBgoHCAsGBwYHCQYIBAYDBQgHBQoHCAgCBwoKBwkEBwUHCAgHBgkLCAcKCQUICgIMBgkJBwkHCQQGAwgJBgcHBAgLCAMICQcKCwgFCAYKBgkFBwIHBQgIBwUKBwUFBgMFCwMMBQQIDAsJCgkJBQUKCAoMBwQICAUIAgUMBwcHBgcGBwYJBwkJCgcDCAgHBQcDCwkIAwkFBwIIAgsGCgYGBwYDAggKCAICCggHBAgEBwQECgwGBgUMCAUFCAgGBgcHBwcFBgQHBAUIBgYHCQkECAkFCgsDBwcEBwkHBQgFAwkHDAgKBgcHAwkCDAgICQgIBgUHCQUGAgMGBwYHAwcICAgLCwcJCAkGBAcGCQgFCwsLCQkLCAgFBwgFBwMLBgkGBQgGCAgGBwQKCQcGBAgFBwgJBAUFCwoFBwkJBwgFBgcIBwsJCgwGCAkLCggHCAQICwcHBQoGBQsGBQoIAgYKBQYKBgUHBQUGAgcDCAcLCAkMBQoLBwkMBQkHCQYHBwUJCQYECwcGCAcFCgcJBQYICQYHBwUDAwoFBAUGCwICBQUDCAMHBwsHBwkDCAsIBQkECgYMCwgIBgcJCQQMCQQDBQoHBQYFBwMCCAYLBgYMBwcKBQUHBwkHBwkIBgYCCQkCCQcECAoIBQoGDAQJBgkCAwcFBAcFBAIDCQkDCQUFCwYHBgYEBAkICQgGBgoFBgsGCQgHBgcKBAcJCQcJCQcGBAMGBQgICwsCBwsIBwUFCAQFCQoHBgwJAwQKBgoECAsFBAYJCgQHBAcKBwwIBgYIBwUMAwMECAMEBQkIAwcICQgICggICgYIBgQKBQcIAwsJDAgFDAoGBQoGBQcDCgYFBwgFBwQJBwUHBwkECQYFBwUICAMJAwgHCAgGCQkHCQUEBwwJCgcKBQUHBwMJBAcHCgcHCAUHAwgFBwkKDAgHCgkGBwoGBAUGAwsLBgcJBggKBAcJCAkICAUHBQcEBgcEDAUJBAcGBQoJBQoKCAUDBwsKBQYECQgEBQgJBAUGAwQHCAIFAgYCBQMFBwkHBAQICAsHBwUHCQsGCQQHBAMKBAYFBQcGBgkMBQcKCQMHCAIGAgMECAcHCAoCCAYJBQcHCAUHCwcGBgQEBQIHBwgJCAkECAMFCwQDBwQHBQkHBQgHBwUDAgUEBwcIBwoICAUFBAcDCgkJBgYLCQQJBgkGCAUECggIBgQJCggICwcKCgcGCgcECgQICwkKCwgIBAUICwcGCQkEBggHBgUGBQUIBwgFBAgFBwsICgUDDAgGCwcGAwgKCgYHBgYJDAYLCgkKBAcGCAsKBAgMBAcIBAcHAwoECQYIBwkLBggGBwYGBAYLBgUKCwgGBQgEBgkIBQYEBgkIBQYEBAQFCgoIDAgJCAoFCAYJBQoHCwgFCAYGCAgIBwkLBQoFCgYJCgwEDAYGBwgHBggEBAkGBgkJBgsDBQkICAQEBgkIBAoJAwMEBQoJCAYICQYHAgYHCAUHBQcFCQIFBAYGAgYFCgYGBgsEDAcMBwcJCAMGBgYDBAkLBwcLBwYKBwgFBAQGBgcECAkHBgkICQcJCQkDAggLAgoIBwQHCwoGCAgKBQMIBgcFBAcJBQoGBAMKBgYHAwQKBgUJCAYDCgIHCQoFCAwGBggGBgoHCAcKCAoHCAUFCAYLBAUHCQcLBgQGBgUDBAkHBAkFBQUHBQYGBgwJCQcGBQcFCAgEAwYFCQsLBQYGCggDCQICCAoMAwkIAggJCAYHCgUKBwoKCAgJBgcHBQUDCAgICQkECwwHBwUDCwQHCgsFCQMEAggHBgsHCAkKBQgJBQcMCQkLBggGCAcLBgkDCwwKBAIHCAcFBQQJBgIEAwUFCgcFAwUGCgcIDAkICQYIAwcGCAoHBQgIBQgGCQgGBwoDCwULCgsHCAkFCggHBwsJCQcHCgQHCwUECwQKCQUKCAcGCgUJBQMCCAIEBwMFCwcKBQUIBgcHBwYDBAcGAgUMCAcJCQgHBAgEBwYHCQgGBAYECQMHBQQFBAUFCgkICwkJBgcJBAoGCQgMBwgKCwgFCwgFBwgIBgkKBwcEDAoKCAoFCAkJCQUIBAsKAgkECQYJAwcIBgcJBgsEBgMLAgsLBgoFBwsGCAYDBwQKBQcLBwQJBgkIBAcHCAkGCAQIDAkIBwgGBwsLCAcCBQoHBQYJCQUFBQoFBAUICAoLAwcKCwYDCgYKBggLBwsHBwsHBwsMBAcFAwsHBwsECwUMCgYDCgkFBwcFCQUKCAkIBgcJBQkGBQYHAwgHCgcHBwkJBQUICgcHCgQGBwoDBwkHBAgEBAQLBgkECgQICAYEBwcGAwULBwcHAggJBAcHBgQJBwwKBQkICAQMAgoHAwoDBQcLCAgFBAYICgYJBQoJBwsFBwUIBAoGCAwIBwIIBQkGBgUHBgYICQgJBwgGCAYFBwUFCQYIBgsHAggGBwcGCAoEBwMFBAkFBgUIDAwKAwkFBAIFBwcHBQoGCgQICAIGDAgICwgLCwQDDAoGBgYEBQUCBAgHCAcFDAYJBggKCQgFBQcIDAcHBwQKBgUEBwUJDAYFBQoFBAoGCAUGCAoEBgoKCQgFBwcHBwcKBwkFBwgLBwUKBggECAQKCwkFBQoIBQcGDAkFCAQIBwgICQQJCAkJCQQECAYJCQYICwoFBgMLBwQJBgIJAgkECQMECAgJBgcGBQUFBQMGBgUJBwkKCwcJCQcGBQcJBQoHAgMCAgMHCAMJAwUGAwcGBwkHCgYCAggDCgYFBAsEAwIGAwcGBAkGCgcGBQkFCgMIAwcIBwMDBwUKBAcICAcLCQgHAwQDCwgFCQoJBQkHBgsIBgkIBwwKBwkJCAMHBwsECAgHCgQFBgUICgkGBQQICQQKBQcKAwcEBgQFBAcGCgYGBAUDBwcICQcLBwYDBQUFBwgKCwYKCQYEBgsHCggMCQYHCAwKCwUKCAgKCQwMBwgHCgQHCQgECQIHCgkIBwgKBwcICAUDBQYFDAcIBwYFBAUJCgcGBwcIBgMGBgUFBwsECQMEDAYKBQQCCggDCAsHBwkICQcECQkLAwwLBwkIAgkGCgQFCAcHBwYHDAUFCgcGCQoICggJCQwHBQoGBwMFCQQIBwoEBwgDBwUJCAMJBwcFBwcIBAUDBgcHDAkHCwcJAwsHCwsHAwQGDAkDBwgGBAUJCgYFBwYJBAoGCgoGBgcLCQkJBgcGBAsLBQoGCwgKCQgGCQYHBwULBAgJCQUHBAcIBAgLDAYEBAsDCgoEBAUICAgJBwYKCAUDAwkFBgMGCQgIBwkFBQcHCgkDBgILBgQCDAYEBAUECwsEBwcGBAIHAgcJCAoFCgsFBAcGAgYECgkGCAcFBwoGBQYGBQcFDAUKCQULCAsICgYJCQgECAkDBQoIBwYGBgULBAsFBggICQkJBgUDCgkLAwcHCwcGBAQLAwkICQkHBgcHBAgIAwkEBAcECgsHBAgEBQkFBAQEBgkHBQoICgcHBgcKBwsHAwQLBQkEBQoLCQgJBQULCQMJBwkDBwYJDAQFAwUECwcJCgYHBgQHBQQKCgsLBAcMCQIEBwQHBQcHCAgFCgYLCwQFBAQLDAMICAsHBwoGBwoEAwUIBwoHBQkHCAkLBggGCgoJBwoJBAcJBwgJBAQIBwcICAgDCAwICQkGCQQICwwICwQFCQkGBggLBwsGCAoMCQQDCwcGCAgHBgYKBgcIBwgEBAcFCQkLAwcMBAcLBwUGBwcDCAoJBggJDAcFBwcDBwcKBQgLAwwJBAUDBwcJCAUICQcGBwMDCAoEBgsKBAUGCQUKCQQCBwQJBQoFBgMJCQgEBgwEBwgLBQQHBwkHCAcLBwcDBwcJBggMCAwHBwcHBAUKBgkJBQgHBQUHBgcFCggFCwgIBwUKCQsGAwQKAggGBQIKCQUJCQoGCwcIBQkEBgkGBgsFBgkGBQYIBAgGBAgHBwcLBAYLCQMKCAMGBQkECgkJBAUMBAwFBgkHBwUGCwIEBwQEBgQIDAoHBwoKCAgHCQgJCQUKCwkIBgYICgcHCAgKAwYJBwQGCAgHAwIIBAkIBQoHCAgKCAMKCwIHBwQECgwJCwcFDAMKCQcDCgQJBQQHBAkJBAYHCQgKCwYJCAcJBwgHAwgECAkMCAYJBAwHCAUHBwUHCQsIDAUHBwkICgkJAwQJDAcMCAIKCgwHDAkJCwcLCAoFCgoKBAwJBQgHBwcHBAcIBQkCCAoIBwsHAwQJBwQICQgLAwoIBQgGBAYICgkCBwsEBgYHBQgGBgYEBgUDBAsJBAgMBQoHAwUIAwgHBgsICQcFCQkFBwoJCggCCggIAwICBQcKBgcICgIGCAYGAwYGCgUJBwUICAQKCQYLCwUEBAYFCwoECAcHBAcKCQkHCAsGBwcFCgkGCAQHCwcGCAkHBggIBQUGBgcJBwgGBgMEAggMBQYKBAwHBgUHBwMHBgIFCAgFCwgFAgYKCQUJBwcGBQYGCAQIBQgHCQUICQoFBwkMBAcECAcIBgQEBAUCCAcJCAoECgkMCAQICwcHCQQJBAgLCQoIBgYDCgMHBgYEBgQJCQkGCAQGBwcDCQYKBwsECgsJCgkICAgJCgQGBAgECwcFBgQIAgkCBAkHBQYMAgoKAwkGCAcFCwoKBAgDBgMHBwkFCgQJAwQIBwcDBAgGCwoIBwcCBwIHCwcKBwcGCAgICAcCCAMHCgYKBwYGBwQHCQcGBwkFCAQJCggKBgUFBggECAgFCgUIBAgHCwYIBgcHCAgGCwoICgcJCQgGCQsJBAgICQoIBAUFBAgFBAsECgcGBggDBgULAwwEBQkGDAMFCAoICgMGBAcLAgYFBAUCBAcJCQUKDAcGCgUJCwgEBQMHBwcICgYJCwgICQcHCgkIAwcJAwgJCAoHBAkDBgoIBgQHAwYHBwcICQcICAgHBwsGBgcIBgQEBwcLCQsHAwQHBwoHBgcEBAQHAwQHBwkJBQYGBgoKBwQFBQcDCAoFCQcDCgoICAUKBgkEDAgLCAoEAwsLBwYHBwsDCQUICAkDBAQJBwoLBAcJBQUHAwkHCQgEBgcCBgYHBQYGCAMGBgIJCAcGBAcJCwgEBAwECAUFBgUIBwkHBggICgUHBAQGAgQGCwQEBgkFBwIJCAgGCgUMDAsHCAgHBwUJCAcHBQcKAwYFBAUDCQUJBwQMCwcJCAQDCgQICQgCCwMKCwUIBwgEBwoICgkGCQgGBgcJBQcFBgQJDAMKCAgIBQMGCAgJAwwIBAoHCwMGCAsGBgcLBwgFBAkHBgoKCgMGCAMHBAkGCQcHAgkHCwUJBwcGBwcKBggICwcECAUHAgYMBgsIAwkHBgYHBQgICQcHBwgDCQoDBQcFBggHBgYHBQUMBwgKDAIIBwUHBQoEBwQIAwoEBwIGCwcGBgMIBwYIBgYIBgIECgYIBgcGBggDCgMKBgcIBwkJCQoFBAcJCgMKAgkKCAgIDAcLCQcECAwECwsHBgQFBgMKBwgIBAUGCAcHCgoLBAcMCgUJAwMEDAYLBQkJCAkHCQkFCAoFBAUGCAcJCQYJCAIHBwQIBAYECAgECQQKBwUKCgQLCQQIBwoECAkICgUECQgEBwcICAUHCwcJBwYKCAcHBQsFBQcHBwQJBAsKBwUEBgQICAUEAwYICAQHBwsIBwwKCAkHCAcJBwcJCgYCAwMJCQYKBwMFBQMIBQwEBggHBwUEBAQECQkIBQgFBwcGBwwFBgIGBAYKCAgJBwwFCwoHCAkHBwkECwkHCQUGCQcGCAYECAQJCAcCCQcLBwkFCgcJBwgGBwcIBQkHCQcHBggGCQcDBwcHBwcJCAMLCgcIDAYCBQcLCAcCDAkLAgsIBQsHBQcIBwwDCwYKBQUKBgYGBQkDAgwHCQcFCgUDAgcGCwYIBwgGCAIJCgcFCAMGBgUFCwkEBgkGBwgJBQYEDAUGCAoFDAoKCwULDAsFBAkFBQYKCAwFBwkFBgoLBgcGBAcGBwgIBAUICgYGCQgGCAcFCwgKBgcMBgcGCgUGBgsJCAkFCwgGBQkHAgQDAgoMBwUJCggGBAsKBwwECQUJBwUJCAYLCgQGAgYFCQUEBwQKCgUHBgoIBwYIAwIIBgsGCgYIAwgFBAcGBQkDCAkICgYHBQgIBgQKBggHBQcEBgoIBQQIBwUHBQoDCwQIBAcFBQkKBQgHBAcGCAcGAwkDBwIGCwsJCAYGCAgFCAYFBwYHBgsGBgkKCwcEBQsHBgIGCQQFCwYIBwUJBgYKCAcEBQcLBgkDBwoFBgcLCwIIDAkFCQcKBQcHBwgGBQkECAwIBggHBwMFCwYIBAoDBwwMBwYJBwoGBggFCwUGCggGAwcHBAYGBwUKBwcEAwYEBggFBwQGCAgHCgUEBgUHCgQKBwYJCAcLBgYIBgUGCgcHBgoGBwcDBQgJBgQHCQgICwUIBQUHCgwJBQoGBwgKBQcIAwkGBwYJCAsCAgcHCggEBQkHCgYJAwcFCAkHBAgJCQQFCQYGBggJCAULCQsECAcIBgMLCAYCAgoGAwcCBAYHBgUMBgoGBQIHBwcFCwgGCAYEBQMKCAoDBwcDCwYJBwwJAwYHCggECgUHBwUGBgcHCQoMCQUHAgcEBgkDBwUECgUICgwGBwkICgUFAwkFCAMJAgkDDAoHBAgGCAIDCwoGCAoHBgUICQcHCAkHBwgIAwIHCAsHCAkJBwkIBwkJBwcMBwgHBgMLCAUGBQkDAwgHBwcICAgEBwkHCQYDBgkFBwQIAwsGBAoIBwQIBQcDBgcJCAMHBwcFAwYHCQgFBAkIAwcGBQUECwwLCQgDBwoIBggMBgkICwUFCwQGBQcHCAYHBgcJCAcKBwoFCAYICgQHCQoCCAcLCgQKBwUHBAUJBgcJCQsHBgsFCAcEAgYECAcLCgQKCwcKBgoLCAcGCgcEBAkGBggIBQkJCQQICQcGCgYJCggHCAUJBAQHBgwHBwQJBwMCBgkJCAgJBgILBQYEBQMLBAYGBQkGBwwGAwcEBQUFBgsIBwsGBgkFCwgJCwUEBQIIBgMIBwYFCgUHBQIHCAkHCQYMBgYFBgkFCwYIAwYFAgYIBAkGBgUFBQUKBwMIBQkKAgYHBwsHBQsLAgUMCgYHCAUGBwsFCgUGCwkHBQgKBgMGBwYJCAQGCwgIBwUKCQcIBAkICAMHBwkLAwgEBgoEBwgHBQgFBQkKDAkLBwkGCAgJBwYHBQkHCQgICggJBwgGBwIJCQgHAgcIBgkHCwkHBQQIBgYFBwYHBwcECgoIBQgJAgMHCQkFCQYHCAoHBQUMBwkIBQcDBAMJBgUMBwcICAQICQsFCAMJAwkIBggICgkGBAcGCQoFDAcIBgkJCwYEAwkFBgIKCAwHBQcGBwoKCQcHBgQLBQgLBgwHBwcHBgcECQcFCAgGBgkKCgYGCAUFBQgHCAUDCAgLCAQHDAgLCAwHCgYECgUFCwoKCwUHBQoJBQoGBwsMCAQGBAUJCQcKCwUFAgIHBAcKBwUIBQYFCgsIAwcIBQkGAwYDBQwKCwYHCgILCQkLBwIHBQgHCQcFCAYGDAYGCQkDBgsFCwoIAwQICQgJCwUDCAgICgwJBQcJCgcFBQQGBgoDCAYGBgkHBQkGBwkECwMDBwYFCwwDCwUDAwUICQYICwUDBwcDBAYJBwQHBQQGBAcKBAIHAwYIBAcKCAIDBQgFCAsLBQUGBwIFCAIEBgcJCAYIBwYGCQMJAwcJBQMJBwcLCQsKBgUEBwgHCwcEBwcFBwMFCAYICwkMCgYDCQsGBQgJCAsFCggDAwgDBQkIBwQFBQUGBgcGCQkFAgUJBQcICQYDBwQGCQcIBgcJBgkHBAgHAwgLBAYGBAcKBgoJCQQGCAQFDAMIBQUJBwoHBwUGBAcJBgkLCgwLCQgFAwYJCAsECAkGCQgJBQUHCQgGBgUGCQcGBggGAwgGCQUEBwcHBwgICgUECQsDCAwFBQcIBAgFBwsJCQYKAwQIBwgFBAYHBgUJBAoKCQoLCwcHBwkECwYCCQQGDAYEBQgFCAQHCAcGCAkMBwgECQwMCAYEAwoHCAMJCQcJBwYDBQcICAMFBAMHAgkKBgYFCgoFBAkHBgoHBQkICgMECAcGCQwICQcGBQYDCQIECgoHAwQFBgYHAwQHBgcDBgoECggICQQMCAcHCQsHCQcIBQQEAwcHCQYGBgcDCgcHBwUHDAwFBgcHBgYKCwcDBQwJCgQJBwkJBQUGBQYEBgMFCQgJBAUFBAcICAwIBgsLCgkHBAMEDAUFBgUIBQQJCAQJBQQIBwgCCwcKBgsJBAgHBwsECAgJBwsCCgQGCAMCCQcIAwcIAwUICAsFBgkJBgcKCggFBgMFDAgGCAYICAQFBAoMCQUDCwYECAwCCggKCgYFBwcHBQgGCQkLAwkKCAYGBQcGBwsEBAwECQoJBQUFBgcFBQYIBAQGBQUICgMHCAQFCAgICgMHCQoLCAYECQQLBwcFBwgDBgoJBAUIDAUDBQQJBQkGBgoJBwwCAwgGBwYJCwIIDAsJAwcDBQkICQUHCgYJCAYGCQkHBgYLBwcHBQIGCAQIBAkJBgYHAwYHBQUJBwgJCQcKBwUGCQUJCAgIBwsDCwcMBwkJBwUJCQMHCwkEBAgLAwoJBAcHBgUHAgQHDAUKBgYKCQYGCwgHBAIICAgICgcGBQIIBAYJBwkMAgcFAgUGBwgJCQQFBgcHCQYHBAYLCQMFCAkIBQsDCAYIBQsFCQoFCwcGCAcHBQsLCAQGCQYDCwkDCQQDCwgGBwkICgQDCAUDBgQHBQcLBwUHBAMHCAkHBAoKCQoDBwMLBwYFBAMICwcHBAgHBwkFBgcGBwYHCAULBgsJCQoGCAgHCAsFBwkGBgoJBgkGCAYHAwcFBgUICQwGBwUGBQkDCQUHCQcGDAQIBQQGCQQGCQoGCgYHCwoKCQUKAgkEAwMIAwUIBggKBgcEBAQHBQYGBQUDCQkHBwQKCAkGBAsHBgcLAwgHCggGCQYKBgUFBAgHBAcLBgsJCQgFBgYDBAcGCQYJCAYKCAYJBAUECQUFCAYJBAcCBwoDCgYHBAgIAwMJAwUHBwUICgYFCQQGBwcLCQYHBgsIBAUFAwUGBQcKBQoEAwgEBgULBgkFBQYHBQYICAcIBQcFCAcJAwgFBwMKCAgKBQUHCwkGBwYHAwIIBAYHAgkGCAcCBAYGBQMHBgkCBwUICAoHBQYCCggFBgsGCAYLCAoJBQIHBwgHBwkCAwYGBQYDCQkJCQYHAwkCCAYMBwYCCgQHDAsHBQYHCgoMCQcGBgoFBwMJBAgIAwYGCQcEBgQJCwgHBgMGCwQDCAkCBwgFBwsFAwcICAgEBAYFCAoEBwsHBgQMCQMHBQQHBQQKBwsHBwkIBgUFAwsICQYEBgcJCQUFCQgJBwQICAIFBwgJBAkHCwcIAgUEBggFDAMIBQsICAoMCQUHCAYDBwoFCAcICQgECgoICwcCCwcJBgcFDAIFAgYFCAcGBAcJCAcHCggGBgYKAwsIBAIJDAYIAwoECAkJBAcHDAQIBwYDCwoFCAUKAgoICwUCBwUMCQUHBgoLCAYGCwsCCAsHBgYGCAYHAgcIBwQKAwgDCgYFCQcICQYHBgsICwYICQYGBQYMCwIICQgICgoJAwUICAcKBQgHBgYEBQMGBwcHCQgHCAUJCAUGAwQLCgcLCwYEBwUHCwsIBwMLBgsLCAQMCQcHCQwHBQcFAwkLBggFCAkGBQQJBgQIBQcKCAgGCAgJBwUKAgkGCQgKCQcKBAgGBgcGBQwJBgYFBgoFAwgMBgkIBAUGAwQFCgkIBQMFAwkGBAcKAwcFBAUGBgYHBAUECwoGCQgGCgcECAcFBgoLAwgHCAYMCwgGCQkGAwoKBwoJCAILBgkKBAkIBwoLCQQCCQcIDAcHBwUGBAUCAwUHAwcJBggMAwYHCAgLBQgCBgkEBwgKBggICQgHBAUICAsHBQMDCQkFBQUFBQgGBwQEBAkICAgGBQIICAgJBggDBQkGBwgECQIKBgQIBwcDBwYHBwkDCAQMBQIGBwcHBgsJBgYGBQUHCAgHBAcDCAQDCgQJBwgFCQYECAoJAwkIBQQLDAcFBgYHCAYFCAcLCAQICAQCBwMKBwUIBwgKDAQKCQgHBQsICQMEBQoFCQwGBgYJBQIDBgQGCQcFCAQFDAkFCgkLCAwIBgoIBwgDBgYMAwYECAkECwoLBQcJCAgHBwQIBAYGBgoECgcGDAgLCwoIAgQLBwcFCAkCBwcHDAcMCQgDBQgLCAoIBwYCCgYICQkKCgwECwcHBwsICAgKCgQHCAYGBwYGBAsEDAkKCAQHCAUJCwYECAUIBwQHBQMDAwQEBwUJAwUGBgYHAwsGBQcGCAMGCQoHBgoHCgcIBggLCQcJBQIIBgMFCAkEBQYHAgsGBQUFCQsHBgYGCwkGBwcICQcGCQULBwYLBgcFBwUHCgwHAwkHAgQGCQwJAwQGBwUJCQoGCwQJCQoGCAUJBQcGBgcLBwgFCwoECgYGBQcGCAQGDAUJBwgLBwYKBQMHCwUIBAgKAggHBQgKBAcJAgcJBgcHBgcCCwcHBAkFBwkKBwcCCAUKCQMMCAYGBwgFCAcGBQcEBAcHAgYJAgkCBAgFBAQEBwYIBAULCQwFBgMJCQUMCQgGBgoJBwoIBAYIBgoFBAoMCQYJBQcKCwIICgMFCgkGCQoJBwQLCgkHCAQEBwMFBwgFBgYEBAcDCAUIBggEBwQIBgIHBgsHCQcCCAcKAwIKBwcDAgYHCAYMBwcJBwsICQYHBggHAwYGCAMDCAcCCAcJBQkCCAcHBgoJBgoDCAQKBAkIBwcHCAcJCAcGBgkLBgcHBgoFBgcHCAcMCQoHBwYGAwYMCQMIBQQICQYIBgYJCgoKCQwHBwUKCQYKCwcKCAgDCAgLBwgFCgkHCQkGCAYMBwkIBgcFCAcGCAQFBAcFCAgIBAYHAggKBwUGAgoHCQcMBQYFAwgFBAkKBgoIBgIIBwQJBAYDCAUDCggFBAkJCgoHBgUGCAgHCgsGCAoHBwQMCAcEBQUFCgUJCwYJBQwFCQYHBwgKBwIFBwMKCQsLBggIBAgLAwgECQcHCwoICAoGBgQHAwYLCQkIBwYFBwsHBAoKBgsKCgYHBgQLBQUGCQgJBQsFBAcKBQYJCgkJDAoEBQkKBAcEBQYHBgUHBwUIDAcFAwMGBwgGBwkECAUECgQMCAoICQUJAwYFBQYHBwcKCwoGBAcJBgkHBAYHCQoFAgIFAwcIBwgICQsEBwUIAgkHCAUJBQYJBwYHCAcFCQgHCAQIDAcHCAgKBQYHAwYJCQwGCQgHBAsJCgcKBgsHBgcDBAkMCAgCCQYJCgYICAcEBgQGAgkEBgwICQgGBwYGAwgIDAYICgkJBgUKCQYHCgoCBAgJBAYGDAoLBQgJBwgICgsLBgkJBgYGAgkHBgYHBgcJCwILCwcGBwUJBAoLBAQLBwkGCQUECwkFBAoKBwgKBQoHCgsMBggLCQcFAwcFBAkHDAYEAwYJCAkLBAkIBggIDAgLCAYKBwcJCAIKCQkCAwsHCAsDCAQJCgYHBgkIBwkGCgYLDAsIBQYIBwYHBgQGCQcICwUHCQgCBggICQgIBwMEBAcFBQYICgkIBwMKCwcFBAUHCAkGAwcKCQYGCAoGCwQGAwkHBAMJBggGAwMEBgYMBwcHCAcJBwoIBQQGDAkLCAMECgYLBwgGCgYCCwgEBAkJBgQHBgQLCAgFCQYKAggCBQcEBQkJBwgHBggLCAkGCAYCBAMEBwoECAYICAMGBwoKCQYIBQUGCwcICAgKCgMHDAkIBgcCBwkHBwMEBAcGBwYFCwsLCgkHCQcHAgMGBQcFCQwGBwIEBQQIBwsHBwoIBAcFBwUGBAsFBQgFCQcGCgYJCwkECQgJBAMDCgUMCAQGBwYHCQYJDAUFCwoICAUGBwkGBQcLBwcDBwMMCAoIBwkJCQcGCgcIBAYJCAgJBQQFCAQJCgsFAwgDAgMMBwMFCwgGCQUKCQgLBgcECgoEBAcDCQcIBQgCCwkIBwkFCwQHBgIFCwkGCgcJCgsEAwUJBwYGCgUFCQoKBwwCBwUGCgkFAwUFBwgEAwQECQcFBAYGAgcKBQgICQgJCQsLBgUJBgsKBgoDBwQICggHBAIHBggHBQkKBQgHCQQFBwQGCgsJCwYEBgYHCgYIBggHCgcJAgYIBwoECwgFCgcIBwYHBAwHCggICQgMBwkFCgoKCQQFBgoFCQYGCAUICgkFAwQFBwcKCwgFCAsIBwsGCQkLBwcFCwMKCQYGBAQHCAYDAwgLCQcKBAYGBwMHBQwGBggFBwoEBgQGCwYJCgYEAwcHCAMKCAgKCgMGBgcGBggHDAoICAQHCQUHBgMICQMKBgcEBgkMCgUIBgYHBAwGCwkHBwUGCQQIBQwKAwcHBAgGCQcJCgsICQoJCAcGBwkFBgcGAgQHAwkIBQsKAwoICAcHBQgIAwgGCAcGBAkICAcHBQMGCAUECAYFCAUJCAcGCAgLBAgEBAYJBwkJBgQFBgUKBQsJBAkEBgcIBgUHCAQIBgoIBAgGBgkIBgoJCwcJBgoCBgkGCgkHCAUEBgMLBgcIBgcJBAYGBwgJCAMHCQoEBgYGBQgEBQUICAoMCAkECwsICAgLDAwLBAMFBAYECAcJCgcKBQoGBQgHCgYCBggLCgUCBQcEBwwIBgoICgUJBQUJBwUMCAkHBgIFBAcHCQMHBwUGBAYHAwgDBwoJBQUGBwULBQULCAwJCAUFBAUFCAsFAwIIBgUKBwUIBwwICAsHBQcGBgMIBgILBwYECAoEBAkEBwUJBQkHBwcJBwYMCgQLBgcJCQoEBgUHBwsHAwcJBgMECAcCBQkDBgYHBwcMCAcKBAQJBwgIBAQIAwkFCAoJCwUEBAUCBgUHCgkECgUJBgQICQkLBAMDBwsGBQcEBgcGBAkHCQcHCQcHCgYHBQoFBgUJCQcJCAYIBQMHBQMFCAgGDAUKCAcLBgoDAwgECAgGBwkKBgYHBAgEBQUICAwDCwQCBgcHCAcJCQcKAwgKBQcFCQkEDAoGCQsFCQkHBAYHBwMHCQgHCgkMDAkKAwQLCAgKCwoMBwgICggKCAUJCQsKAgcGBwQGCggLBwIICgYGBgcDCgMMBQgHCQoKBwkJBQkHCgUHCAQJCQgHCAcHCQoKCQwFCQcHCwsDCQMICgcGDAQGBwMHCgwHCgoICAgHBQMIAwUEBAwMBwgGCQYGCwMICAYFBgwHAwYJCwYHCwcHBQgGCwgLCwUDBwcJCgcEBwMHCQcFCAQJBQkHBgIJBQcGBQUFCAYHBwgFBQIKBgsKBAkGCgoHBAQCCgcHBAgFBAgGBQcFCQYJBQcCBQYFBgcLCwUJCgcIAggGCwgGBgUGBQQJCQcHCAsICQwGBwUFAwkKCAoFBwMHBQYDBgYHAgoHCQMHCAYGBwsHBAcJBQUHCQcHBgkLCAkIBwgHCQUHBQYICgQKAgcICgcJBAkJBAsGCwcGBAsKBgQGCwsLCAkJCQkIAwQFCQgDBAsDCAUHBAkHBwgECggEBQUHBwQKBAsEAwUJBgkJCAkHCAQICgsFAwcKCAUMCAgIBAsHCgcFAwoDCgcHCAgIBgcFBwwJCAcDDAgICAUFCQgFBQkHCgoIBgkLBwQFCAgIAwoECwYIBAYCAwwEBwMCBwwHBgcJBAcFCggHBgIJBgYMDAkEBQsDCQYLCwkIBgkKCgYJCQcGCAsGCwcIBQcIBwcHBAcFCAcHBwcHBgkHBQcGCgsLBAMECQYFCAUKBgsJBgsFCAQHDAQJBwYFBAkFCQcGBgkGCgMIBQgJBQMECQwHBwoDCAgEAwkLCAcHCAYHCAgJBQgEBwYEBQcGBwgFBQgFCgkGBwoIBwcEBgoJCwQKBAQIAwsMCQgDAwoGCwcFDAILBQYCCAkLBQYHCAoIBwkFBgUKCgsIBwgIBwQKBAULCwkMCgMHAwkGBwQKCQgLBgQJAgUGBgkICQoDBgYKAwkKBgUKBAcJBwMJCgUFBAgJBgYJBQMJCAUGBwgGCAkHBQcGCgQJBgkHCQcHCwgKBgwKBgoFCgUMCQkICwcDBAUIBgQECgoECAYIAwoEAwgEBwIHBwYHBgcHCgYHBQYKCgYHCgYKBgoHBQUGBwkHBAcIBQwHCAoDBgcJBQYMBQwFBgYJCAkJBwoCBgYGCwQIBQYDBgcFCQYFCwkMCAsKBwgFBgsLCwUFAgYHBAgJBwMIBwcKBwILBwcFDAQJBgQGBQQKCwcGBQcJCAgECgoFBQgFCAkFAwoEBgYHCAcHCAcEDAQHBwgLBAYLBAkIAgYGBggECAcEAwMJBwIHCAcHBAcICwQFCgkDAwkFBAUHBwgIBgsKBwQGBwgKBAYFBwcDAwkIDAkDBQYIBAcECAYDBgQJCgQHBwUGCwgJDAoHBgMKCQkGBgwJDAsIAwYKBwcHCgIHCQoIBAkEBgUJBAYJBgUMBwMLBgsDCgQFBgoHBQYIBgUJBgcGCAQIAgkKCAgHBQoECgYHBwsJCQIEBwgGCQsHCQMGCAoECQUHCgcKAwkGDAYKCAgIBgIFCgcGBwQKBAYFBQYCAwMICQsIBgYHCQgJBgcIBQcJBQYCBAcFCAgHBwkIBwsHBwoEBAoFBgQECAsIAgYLBgYKCAkLCgkKBQYECgoGBgoKBQQHCAsCAwcJCgkIBwoEBgoHBwoECQUFBgcEAwcLBwUFCQcHBgkDBwsJBwUGBAkGBQcKBgwEBQsJAwkECQULAgoKDAIICAsHBwsHCAkDBgYDCQcGBwkHCAYKCAYDBwoGCwoHBgYGBAcHBAYDCAgHCQgKAgUIBQsEAgwDAwoCBQkFBwMKCwsECAMICwYKCAYFBwULBgcJCgYMCQQECAwDBQcIBQcJBAcHBwgCCAcJCwkLCAcGBQUEBwYGCwQGBwkCBwkKCAgKAgMFBAsCBQUGCgoIBQkJBggKBgUJBQQKBwQHCwcIBwgLBQIJBQkLCQkGCAoECwgKAgcLCAYDBgQJBgcGAwIKBAkCCAcKCAkGBQkIDAMIBQUECQgCCwcJBgUGCgUDBgIEBAYKCAsGBgkKBgoCCQoMDAQDAgQFBQQFBgcHBgcGBQcJBQsIBAkJAwoHBwgFCAQHCQMFBwkECAYJBgoHBgUKAwkHCgcJCAkHCAQEBgkIDAkHCwsKBgcHCAgGCQcEBwkKBAMFCQoKBQkJBQUIBQQHAgsGCQMIBQUDBwQHBwkGCwUEBgkDAwgKBwsFBQgFBwYJBQoEDAUHBAMFAwYIBggIBQUKCwUHCwgHDAYHBgsEBAQDCgQICAsICAgEBgYLCQQGBwMGAwkICgwHCQoFBgcICQcHBgoGCgkHBwcEBQUHBAUFCwcHBAcJCwYFBAwICQQGBwgKAwcGBAkFCAUICAYFBwkHBQYFAgMFCggECQcKBAgJBAYKBAQHBgkLCAkHBQsIBwwFAwcHBQkJCwUCCQUHBwgIBAkIBwoKBwoFBwMFDAkFCwoGCgkICQQFBwUDBQoGBgMJBQsIBQYGBQQGBwsIBgkJCAoHBwYLCAQHCQcLBAcHBAcGCQgFCwYICAUKBAIEBQsHCAYEBQkIDAkGBgkDCAoFCQYDCAYEBgMHCAgGCQMJBgYLBgUICQUICQYIAgIHBAoEBAoKAggIBgIFBAQHCAcGBwYGAwgHCgQHBAYEBgYDBQYFCAYFBwcFBQcICAcJBQcHAgsICAIFCAQFCQMFBQQGBwMGCwUEBgoGCQgICAcGCAgKBwcMCwgJBwcICQYIBwUIBwkFCAMJBQMHCgUIBgQKBwIICwkJBQoIBAQHBgQFCAUKCAsFBgYJCAgMCQQEBAoFCQcJBwcHBAcHBQgGBwsGBAMECQkKDAUIBggCBgkIBwcKBgYIBgYICAkFBwUHBgkDBwULBAUICgYIAwcMBAsECQQIAwoICAQLBwgGBggFCQgLBwYKDAcHBgcKBgcHCgQDBwYHCQkMBwoFBwoKBQQFCgcIBgMFCQUGCgMLCAsCBwUECgULCggLCQsIBgoIAwUICgIGCQgHBgIGCAUICAkKDAkGBQQEBAUGBQQGDAkIBgUEBwcDBwUEBgQKBAcHDAMFBgcLCAcIBgkKBQcMBwcICQgGBgUJBAQICwgDBgUHBgwHCQcHBgMHAgkFBgcICQIFCQcLCwgHBwQGBwoJBAcKBggDBwgHAwcKBgkJBgUIBwILDAgHCgUFCgYIBAoGBwcIAgYLBQUEBwQECAkLCAYHAwUGCQcFBAoFCQYHBwYJBgQICgcICQoGCQwJCAgICQcKBwcHDAgHBggKBgYGBgYICgkGBggIBQMEBgYEBgwFBQUJCggKCAYHCAcHCAsJCQcGBQIKBAcFBAgIBQcIBAUKBAUHBAsECQcEBQYGBwUKCwcICQkFAwwJCwUKBggFCAYKCwgFBgkHCAsIBwcIBwYCCQgLCAcGCwkJCQsGCAUGAgoDDAcIBgcIAgsFBAUMCgYKCAQDAgQGBwkHBAMHBAkIBwYEBgwJBgYKBggGBgMDBQUMCwcGBQQHCAcKCQYHBQsGCgYGBgYFAgcMCQYGBAgICAgECgYJCwYHBQUFCAsIBwUFCgMGCAgECgoCAgcJBQcMBQsJBQQGBgkJBwgLBwMMAwkECQQFCggIBQkFCAIIBwgKAwYKCgMJCQUHCgcIBQULCQoJCAwJCQcHCAgHCAgJCAMICAkJBwMLCAgGCgYGBwcDBQMIBgkIBwsJCAQECwMECAcIBwMLBgYKBQYGAwwJDAgLCQcIBwcKBwYHBgQEBAkIBQcHBgUKBQQKCQcDBgULBwkIBAkECggCBAcHBgcFAgkDBwcGBgcHCAQIBgQMBQkFCAgGCwkCAgUIBwQIBgYFBwMICQYFAwoKCAoGCQYHCQUGAgQIBAYGCgcIBgcHBAsGBgwKBAkCBgQIBggDBwwKCQgGCAUGCwcIBwsCCQcICAwIBwoGCwoHBQYMBgQJCAMKBAgDBwYIBQgGCAcGBgkECQQJBgUEAgcECwoIBQcKCQkGCAoIAwMHBggLBwYHAgcDCQoFCAoMBggKBgYGBQcFBwYIBQUDBwYFBQwFBAoGBAcICwcHCQgKCwYLCAQFCQgDAwgDBgYGCgsGCQUCBgYHBgcMBgcKBgkJBQcHBwkEBwgHCAcFBgYHAggCBwsJCwYHCQkEBQgIBwYLBgQJAwYGBgQEBwkGBgUKBAYECAcFBAkJBgcLBwYMBwoKAwUICQIFAwoIBgcJCAgGBQkGCwcHCAUFAwoEBwcJCAIHCQoEBAcDBwsHBgYFBwgKCwoMCwwJBQkKCgkKBgQHCAgCCAcIBwcKBAoFAgUKCwYMCgoLCAwICQUGBAcKBQYFCwcGCAcGBgYECAYKCAsJBgcGCgsGBwMFCQgLBAcEAgwHBQYIBAMKBgMHCAsHBQcHCQgKCggHAgsJCgYDCgkEAwgHBQQGCAIFAgcGCAwFBwgHBQcHAwILBgYJCgYDCAoFBQUKCAkEAwUGCAICBwgHBwgGBwYJCQwGDAcHBgQCBwYJBgsICgMFCQMHBQsIBwcJBAoHCAgIBAgIBwcJBwYGBQcJBQsHBwgEDAcECAgJCAkHBggIBAYHCQYHBQULCgQFCwMFDAcFCQcHCQQJBQgKCAYIBggGCwUHBwcEBwwECQUKBwgJCwwEBAcHBwQGBAoGBAcIAwUIBwYGCAkHBgMHCwgIBgsFDAgECAoGBAsJCQMFCAkECgoMBAYDCgUIBwYGBwgKBwgGBQYFBgMGCwQKBQUHCgIFBwsGBwkGBgYICQcLBAYKBgIJCQYDCgQHCAsLBwcFBwgFBAgLAwUKCQgDCwgHCAoMBwUFCAkDCgoHBgcMBQUKCgsHCQIHCgMMBwcHBAgKCAYJBwQJBwQLBwQMBwcHCAUICQQIBgMEBgUICQcLCwcHBwYGBAoEBwQKCwsHCQsICQQDCQYIBwwFCwcGAwYIAwUECAoHCgcEBgQDCAMHBgsGCQgHCAsHBAUECAsEBgQIBwUFCQgJCwUECgcICAsHBwcKAwcGBAcJBgQICwMDBQMKCQcEAgYFBgMDBwgHCQUICAoKAgsHCQYGAgoKCQQGBQYIBgYMBwkIBAQHCQUGBAUJBAMHCwsJCwkHAwcICAUKBwkLBgoECgoKAwkDAwwECAkHBQcJBQcICwgHCAUFBAUEBwoIBwUIBwMDCAcGCggJBAgJBwIJCQoHCAUHBwgGCAkCBgwHBwQJBgoHBQoEAwYJBgUGBgoFCwcECQcDCAwHBAgGBwcKBgoECAYKAwYFBgYGBggFBwUHBwQHCAgGCQgHBgYHBQILBwYGBwoGBwQICQYHBwcHDAgCBwoHBQwJBAgEBwMIBQoICAQFBggIBwcKBwcFBAgJCAgFCAcIDAoCCAcECQIHBgUHBgcHBgcJDAsECQYLCAoHCAQICAcJBwgDBgYDCgYEBgoCBgkIBgcHCggIBwMKBAYLBAkGBgkHBQUFBgMEBAkJBwYJBQoKCQYFBwcFBgUHAgcICwcGBgsGCAkMBQYLAwQHBQoFCgYGCQIHBQsKCQsHBgsICAkDBggHDAgICQYGBQkKCQYGBgUKCgQGBwQFBwMEBggJCAMHBwMEBAcHCgcECAQICgMGBwgFBwgDCAQGBgcGCQoGBAkFAwQMBwUHBwsCDAgLBQgJAwgDBQgJCwYKAwcDCQcFBgMFBQIKBAcGCAQGBQMJCgcLCwUECgUGCAgHAwoHBgMECAcLCgcEBgcGBQoDAgQHBwsFCAYKBwYMCAMGCAYDCQUHBgcKBgYLBwQGBgYEBAcJCAULCgwCBgcKBgQCCQoFCAIFBgcJCggDBQgDAwYIBgQHBggKBgsHCwQKCQcGBQgHBgQKBwMHBgIIBwMIBQoIDAwKCgYHAwQGCgMIBQUFBwgFBwIKBgoLCAUGAgcEBwgKCQICBAUKCAYEBQgDBAkICQYHBQYIBAUFBQMFBwsICgUJDAkGBgQECQIEBwgKCAkGCAUGCwYFBwgKCgcDBgMCCQUHBQUMBwYEAgcHAwoLCggGBgkICggKBgQGCAcMBwYECAcEAgkICAYGBAkJBwkJCQgICQgHCwQDBAkGBAMGCQoIDAQGBAoGBwgDBwkGCgQIAgsMBggHCAcIBggIAwMFBwkHDAQDCQYFBgoLCAgHCwkLBgUJBgMHBAgLAwYDCgUDCwQHCAQIBgMIBAcGAwYJBgQIBwgIBggIBwgGBQkHCAUGCwwHCAkMCgUGAggKCAsHBAsFBQkHBAwICAYFCQYJCgQGBwYFCAkKCQYGCwQLBQQIBQkDBgUJBgUKBQsKDAgIBAcJCAcFCAMFBgcICQgJCQkFCQoJCQUJCggHCgYMCAcIBwkFCwcMCAcJCwoGCAwHBgsIBQsJAwsHBwUMBgULBgIDBAYIBQcFAwkFCgMCBwgIBwgIBQwKCAYHBgUJDAcJCQQGCwcECQcJCgYFBAwGBAgKBgQIBwUGCAcECQsHCQYHBwYHBgYGCQcGCAcGCQkJCAIGBQUIDAYKCQUICgULCgcICgkFCgMLAggGCAoECwoGCAgGBQcDCQQIBwcHCAcHBAYJBgUIBgULBgkIBgYCCQkDCAkFCwoJBgkKCQMCDAwFBAQEBgsIBQcGBgULCAgIAwcJBQcFBAcIBwIHBwoKBgcFBgYFBAsHBQsDCwQLBwkFBwcFCAkGBwkMBQMFBQsJCQgEAwYHBAoHCAYFCAgCBgkJAgYHCQYHCQYDCgwFCQQLAwoFDAgKBQcLCgYICAgFCggHCAYHAwMGCwUJBgsIBgMGBAoGCwkHCAYKCwYFCQgHDAQICgoJBwgGBwYHBQwKBgYGCQUFCAcKBgUHBQkJCwgECAkGBgcCBwYGBwcEBAcJCQMGAwcEAggJBgQHCgoKCgkGBAYHBgMGCAgHBQcIAwcGAgkCCQgKBAQHAgsKBgoIBQUECggDCwcGAgYCCAcHBAcGCAYHAwkJCAYIAwcKCgkHCggJCQQHCAIGBgUDBgcHCwoKBggFCQUJCgcIBgsHCggFCAMJBwwHBQYHCAcHCAoEBwcHBgkJBgkIBAkKBwkHCAcJBAgHAgYDBwkGCQYHCAoHCwcJBQkEAgYEBwgHBQkKBwkKCQQFBggFBgYKAwsICAoHCAgLBwYGBQcKBQoGCQkLCgoIBQUHCQQEBwMIBgQGCQkHCAcJBwYHCwgIBQgJCQYHCAQGBggICAQMCwMJBAQFCgQICQULCQUHAwkICgMDBwQHCwcICQMFBwgKCAcJCgoDBwgICwsGBwgJCQcHBgsIBwgDCQkHCQoFCwYFBggKCAYKBwgDBwUKDAMJCQQIBgYFBQUHBgcEBwMICwcIBwcICAcMCQcHBQYIBwICCAYDCQYHBwsHBQIHCgMDBwkEBwQLCgMHBgYHBAYIBgoICQYGBgkGCgoKBwMIBQMDBQcMCAcIBAYGBwkJBgcFCwQCCAgFCwsDDAYHBAcGCwUICQYIBAkCCAgFBgYJBgsHCQoFCgYLDAMHCAcEBQkECgYCBgcGAgYFCwUHBwcICgUHBwoHBwkJBwkGCAcDBAQEAwsECQcHBAMGCAUEBwMMBwgGBwcLCQcHCAkEAwgLCQMLBAMJBQoECwkMCQkHCQQICAkFBQcICgkIBAwHBgcJBgoECgkICAwCBgoDCAYIBwoHCAUFBwMGBQsLBgIKBwMJCAcKCQsHBgkIBgcJAggFBgoDCggHCAwGCAsICgkIBQcFBQMIDAcICwcIBwcHBwQICQIHBAkKBgIFDAUJBgcDBwQHBwwIBwwGBQMGCQYDCAgFBQcLBwYMBAcHCwgGAwwHCgYHBwYICAYMCgcJCAUHDAQJBAoIBAgCBwsFCwYKBQUIAwcFBAcFBwMIBwoCCQcHBQkDAgcGCQQFBQUFBwcICwgIBwQICAcJCQQGBAQFCQoHBAUDCgoICAcGCgoHBggKBwUFBAcDDAgECQULBgkJCQsEBwYHBwoDBQcICAIICgYICgoJBwcECAIGCQkECQYMCAkGCAkIBwgHAwwHBwQGBgYIBQcLBQcHCAgKBgUECQkGAwgCBQcKBggMBQQHBAoHAwUCCAUGBQgFBQkMBQUMAwcHBQQICAoJBAIJCQgLBgUIBAwJAwcJCAsDCAsJBQcDCAcGBgQECQcFBwUIBAUIAwoHCgQHBwgIBgkIBgYEBgYIBwIICAUIBwgFAwgFCAUICgQEAgULBwcCBAYICAkIBQcFBAMIBwoECQcHBwgDAwcFBwYICAYHBAsHCAcJBQkHBAgFAgkLBwUJBggGBgcKCwoFCwoDBwcIBwMHBgMJCwgHCggIBQoGCAsFBwgKCgMKBwsFBQMDBgsKCQYKBwkIBwwGCwgEBQkJCAoIBgUDBgcJBgQICAMJBwgGCAkIBgQHCwQJCQUHCAgGBgYIBQUFBwMFCAYLBwQKBgMECQcGBQQKBwgKCAcLCwcEBQMGCAYHCAYIBwgJBwUHBwoHCQoHBwoHCgYKBwUHCAkEBgkHBwYHBQYGDAYIBgcKCAgDCQUHBwkJCQUKCAQDCAcGBgkHBQwLBQUECAIKBAgICgcIBgYHBAoIBgUFCQIDBQYHCQQICAcHCQUGBAgFCgMCCwsIBAgECAgFBwYFAwcICgcHCAYKBwwKCQsKBgYLCAgJCAcFCgUJBQcJBgwHCQYGBwcIBgUJCAQLCAgCBQoJAwULBwcHBgULBgcFCgoJBwkIBQoDCAgGBAkCBAkGDAsFBwYFBQQGBgYHBwgJCAsDCgkHBwgGBwgHCQUHCAgHCAIHAwcHCQkMBgkFCggGBwgHCQIEBgoLBwcIBwUFBgcKAwgICQgHAwQGBwgEBgQFCQcDBwQFBQcFBQcGCgcJBAYJCAsICAgIBQoIBwYDCAcLAwoCBwMJBgcGCQcGBggEBQkLBQcJAgYECgYECAgECAgCBgIJCQwIAwUJBgcICQgGBQgFCQcICQwDCgsKBgkFBgMJBQUGDAwHCgYLCgYCCgoECQkFCgcKBgMHBgYCAwUJCQUICAQECQwGBwcFCQcFAwcICAQFBwcDBwcDBAcHBAcDCAMJBAkJBQoJCggFBAUECAkFCwgDBwMKCAYHBAsLBQYHCgsGBAkIBgYIAggHCAgJBwYJBwcGBgwICQMECwYJBQUIBQwHCAMEBQkHCAsGBwoKCAUJBgQGBwoEBQkEBgcKCgoJBAMKBgcKCAcFAwcKBwkDCAcICAkHBwkLCgcLBwwLBwMGBwYLCQIKCAQIBQkCBQUEBwoGCgkDCQgCBwYHAgkGBgMGBwYFCQcFCAcIBQMJBgYHBwYFCQgFCgcGBgcCBgcEBAoCBgMKCAsJCQYDCAYIAwIFDAcHCQcICwYKBwkGBQgJBQgIAwYHCAcGBQUIAwgHCwgKBwkGBgoHCgkFAgQHBgIFBgcGBAoHBwgDAwcGCQcECgYHBwYHBgMFBAYGCwgGBwkGBQYHCQQEBwoMAwQJCgQICAQLBQsGBggHBwMIBgQJCAYJCwoDBgcHAwkHCgoICgQEAwgHCgUJBAQGBwYFBwcGBAsHCgYECAgFBwkJCQwFBwQKBwgJAwoLCwYLBQkMBwcJBQgLCQMKAgUKBgwGBgwJBgsLCAUICAMJBggDCQcIAwUFBAgDAwsFCAkEBgYECQcIBQYHCQoHCgIHCQUJBwYECQcJCgYFBggHCQcHBAQIDAgHBQQGBwIFCQgLAwgHBQYKCAoMCAUICAwFBwUFCAcHBAQJBwUDBwkIBwgGCAcEBQoDCQcIBgUIBgIHCAcJBwsJCAYCCAMKBQgLCAoLCAUKBgcHBwkMBQgFCwsIBwMGAgQJBggFAwUEAwgECQUJAwsIDAUDBwcHBgcDCAQFCAMECwYHBgcCBwkJCQkLBgIMBwIDBAgICQMIBwcGBwgDBQcKBAcDBQQEBgQHBwgEDAUDCQIFCgYIBQkICAUJCAQLBQYDBwQJBgQICAcGBgsDCQUGBgMJBwgHBQUFBAYFCAgIDAUHBgUCBggJBAkHBwYFAwQLCwcFCgkGBwcJCAYJBQMEBAYHAgYDBgcHCAQHBAUKBwcICAoHBAoJBwgICAkGBQYIBQIGCAMICgUJBgkHBgUEBAQHBgYIBwQFBwUGAwgGBwUGBQgHCgUKBwUGAwkLAwgIAgsHAwgLCggHCAgKCwYJBwcJBwIKBwcFCQcHBwsLCwkJBAgJAwgHBAUICggFCggIAwYGCQkGBwoKBgcCBwIEDAcHCwIJAwkKCwQFBgcGCwkHCQMGBQgKBgcHCQgGBwgHBAUGBQgGBwUCBgYKBAMJCgQHBggJCwYEBwgECgYKBgcDCwUFBQUFBgkLAgcJCgkIBQUGBwQGDAcLAwYEBQgGBgcHBgYHAwkMBgYGCgUKCwQECgkFAwYGCgcEBQkGAwQGBwsCBwgMBwYHCQQIBAgIBwcHCwUJCgkDBgkHBAYGAwcHBAkHBAoICQcHBgoHCQMGCAoFCQoFBwkJBwkFCAQLBwkJCAYJCwYIAwQHBggDBwMFAwoHCQgEBwkHCAYJCwgJBgwIBwgJCAUKBwcKBgcMCgQJCgQHCgkLBQQKBQcFBQkIBwoIBQYICgMJBwcJCAIFBwgLCAUJBAYFCQoMBAQFBwcDCAsHAwQJBgYGBAcFCAcGCgcICwkECQcJBgMHBwcHCgcKBwcICQkIBggJBwQHDAUHBQMJAwoGCgQCCQoHDAoFAgUJCwgECQsDBwkGBwYMBgQKBQoIAgkDBwwGBwcHCQcJAwwJAwkHCwoJBAkDCgoFCAkCBwgJBwYIBgYFCwIEBwUFCgcFBwYLBwUEBgUIBwkIBwgHBwYDCQcHCwYLBAMGBgYJBwoGBwgHBgYHBgwJCAcJBwMFCgcHBQUIBwcJCAgJCgUHBggLBwIHBgQJCAUIAgsGCAUJBQgGCgYIBwkFBwwGAwUIBQUECQgJCAcKCQoCBwcECAYFCgYIBgQMBgQHAwcKBgcJAwQFBwQJBwQHCAMEAwoFCQQICAcDBAYGCQYJCwYHBwgHBwcGBwwJBwgICgQMCQcHBgQJCwgFCAYGAwYGBgcCBgsJCAQHBggJBgcJBAkKBwcHCgYCBgoFCgkFCQcECQIJAwgMCQYKBwMHCAYGCAcECQILDAcFBQYHDAYDBwMICAwKDAYDCAQFBgkMBAoICQcJAggHCAgHCgQKDAMLBgwLBgULAgQIBQgHCwIFBgkDBQcMCgkHBwcGCQkKCwkKCgYCBwcLBQoIBgUJBAMHBgYJCAgHBgkDBQcLCAMFCQIICAQJCQQGBgoJCAgECgsLCAoGBAMIBwkFAwsGBQQIAgcIBQkEBwwIBwYHCAcKBQcLBggGBQcICwcJCAgJBwYGBwcJAgcECgkECgcGBwsEBgoIAwgJBgoGDAIHBQIFBwQGBgIFBQcIBAgIBgQECAUHBAUGBwQIBQcHCgoIBQcKBQQGAwoJCAMJBwkLDAkFCAcFCAoIBQwJDAcGCgcICwIEBwgFCgMLBwcHCQoMCQIFBAcDCQkJCQYCBgUGBgcCCggGAwQDCAkLCQMDCQgGBQgICAYIBgIKBgoJBwgJCAQFCAMEBAILBQMFBAsEBQsKBgcJBwkCBQcGBAIICQgGDAgLBggIBgoKBgQECQoHBAsEBAUKCgkHBgMHCggKBQkHAgkHCQYGCAcKAwkIBwsFBAQFCgwFBQcJBwYFBQcHCAYKAwsECAMHCggKCQUGCAcGCAwHBAMEBQYIBgcEBQkGBgcJCQYDBwYJBgYMCAcJBAcICggEAwkICAsJCggMCgYGCQgKBQcLBggKBAgKCwcKBwgICAUHAgYHAgUIDAUKBAUGBwgCCAcIBwYFCAkKBwIGBgkKCAcFBQYHCQQGCggHBgcHBggFCQcJBgcFCwkKBwsHCgQFCAYLBQkDBwsLAwcICAgFCAsLBgYIBAkFCwQIBgoHBwkLCAsFCAYCCQgJDAkKBQkIBwsEBAgJCgoHBwQHCQcEBgoHCwUHBgQHAggFBAYFDAkICQQKAwsJBQgGBwsIBwoKBgoFBgcECgsLBwcGCQcEBwMECQYLBgcFCwIFAwUHBwMLBwQJBAUGBwQKCAQHCgcFBwoGCQQDAwQICQYHBQcJAwcIBAYFBQMJAwkCDAgKCAoEBwYGAwQLBwYKBQYDCAMICwgHCAQHBwgHBgsKCAUIAwsDCgQKCgoFCAgLCwkJAwgIBwMHBgQFBgsEBQYEBwUJCAgIBwcKBwcGBgUJCgcHBQgCBwcFDAkECAcGBwcCAwQHCQoGBgUFCgsGCAoKBwgKCQQKBwQGCwoFBAQHCQkHBwwICwgGCgIFCAgJCgoGBwcICAoKAwcGBwYHCAUIBAoFBQkHCgkFBgMKBggEBgULCgUKBwkECwgEBwgHCggCBQYKBgcLCwsHCwYGBwYGBQcKBAoFBwkDDAcHAwYGBwkLCggLCQgIBwMHBwkFBggHBQgGBwMMCQYJBQQMBwUHCwQIBAkJCQgJCAgFBAoLBwYIBwoGAgQIBAkLBwsIBQgFBAYJCQoHCwMJBgQGCAkICQUECAIHCQgGBwcJAwkHBwoIBgUICgoGCggEAwcJBgQKBggIBAcJBwIDCAkKAwYFBwsKCwMIBwUHCwoJBgsKBAYGBAQGBwMIBQcFBgYJAgMGBwcFCAoDBgQMBwUJCgMDBwkIBQYGBAgHCwgLBwcJBwUJBwYFCQYGBAwDBQkJCAkICAYLBgcGAwcLCAgCBgUHCwcJAgQJBgcLBgMMBggHAgcIBgMKCgMLCAgJBgYJCgcIBQUHCAkGBwsGBwkKCgMICAkHCQQGCgIJBwgHCQgHBgoHCwoMCgMGBAgJBwUIBwUHBgYHBAUHBwYHBQIICQcDAgcJBgUFCAUICAcMBQMIBAMKBwgJBAUKBwkHAwoICgcLBgcEDAUFCwUIAwgLCAULBAcICAMFBwQICAMGBgcDBgcJBQgGCQICCAgLBAkKCQsHBwgIBQQGBggLCAsHBgUIBQUEAwYDCQcMBQUEBQMKBgkHBwcJBQsLBQYCCAgIBwsMBgsFBwoCCQoHBwIIBgMKBAUICAcECggLBgUHCQgGBgoECgUDBAgGCgwGBgcHBwQGCgcGCAUCBQIIBwcCBwgMCQoICAULBAYKBQgICAUIBwYJBQwJBwcGBQYDCgUICggDCAgFBgYGCQsDBgUHCQUHDAkDCgcKCwMMCgQHAwUIBQUHBAcKBAoJBQIGBwkDCAkIBwoHCQoFAgUHBwcICQQJBwkHBgkDAwkKAwoGBAIIBQIJBwoLBgcIBgUHBQcIBwMJBQYGBwcHCQcJBgMIBgcLAwgCCAcFBQoHBAgICAcFAwQJBQkLBwkJCAkIBgYECwYHBwQGBgkFBgoEBQoHBgsGCQcCDAMKBQYGBwYJBwcJBAUGBggKBQsKCAYECQUFBQkLBwgCCgQKBAkICAkJBgQDCAoECAUICwUDAgUHBwcECwgLAwcGBgYIBAkLCwcJCQcHAwUHCAgEBwsJCQgECgsLBgoKCwcECwUHBAgLBwgLCgoEBgcDBwQFBgoHBQUFBgcHBgYMBAUHCQoGCwkKBQMIDAkIBQkJBwsJBwUFAwsICgkEBQQJCQcFBwsDCAMEBAUICggCBwcDCAUEBAYGBgcDBwoIBgIDBgsHCgcGBgQJBgcGBQUJCQUIDAUJBwgCCAcJCAcGCAUHBQsGCAcGBwwEBQsJCwwMBAYHCQIFBQYGBAQGBgcHAwMIBQYKBwUFCggIBwMLBgwDCAoGCQcHCQYDCQUIBQQJBwMHCgQEBQUICQgICwMHCAYJCQMKBwgDCwwHCgsEBwsGCAcDCAcDCAYFDAgDCQMLCAQICAUHBwYLCwwGBgUGBwkJBwQFAwMEAgYFCwUICAgHBwgFBwQIBgQKBgMHDAQFBAoFBwMHBwoIBAIEAwIIBgcECgMJBwYEBwYHCAkICAkJCAYFBAYHCAcIBwgEBgMHBgUHBQkHCQYGCwgFCQwGCgYFCAIGCQIIBwUMAwQICgUKCgkGBAsIBAQKCAsHBQcHCgYEAwoICQcGAwsMCgoJBwYJDAsEAwQFBwIKCAwGBgkFCQIKBgcHAgkHCAoHBQsECAYGBgUJBAgHCQYFCAgICAgEBwQHBQsIBgYICQcEBQIHCQMJCAYGCwUDBgUGCAgJCgUFBggHCgcIAwoJAwcICgYFBQgEBwgLCAkFBwQHCQkICAgFCAwFCQYMBgULCQQJBggHBgIKBwMLCAcGCQUFBwkCBAUGBwUJCAIFBgYICwkHCAkGBwYKCwgHCAgMBwcHBwkLAggLBAcHDAgLBQgICAcKDAkJCAYEBQMJBwkJBAoMCggJBAgKBwsHBAMIAgUGBQcIBwYKCAcJBgoKAgQJCAQKCQYFCAQHCQcHBwUMCwcHCAcLCAcFBwkJBAUECAYHBgsFCwMLBwcJBggICgYHCQsDBggJCgoDBgwIBgYDCQQHCQcLCQUGCQUICAgFCQYICgILCwoHBQUGBAYFBQkLBggGAgUKAwUHBwQHBQgLBAcJCAYHBQcFCAgLBgUJBgMHBgsJCAkHCQkFBwoFBwsGCQgGBwkKCAUGCgUGBAkIBgYFBwYJBQwGCggJBwYFCgcICggKAwUICgcHCAUKBQcKBAYEBggKBwIHCAwEBwUIBwcFBAoICgcJCQYKBQoFCQoECQcIBQYHCgkHBwYGBAQGBgsFBwcKBQoHCQwCCwUJCwYGAggIBggHBgsGBwYJCgcFBgQGCQkHCAUFBQYFCAkEBwgHBgQMBAcHAwcFBwIJBQcGBAoKBQMJBwkEBQsGBAQCCAkEBwoIBAcEBwQFAgIDBAcHBQsIBgcIBgYHBggIAwgECAgJCgYDBgkLCwUFBwQICAkGBwwDCQgICAQFCwsHCgsICgsHBwoJBAcMBwgIDAcJCQoMCQMDBAkKAwgEBwQIBgcJCAUHBQYFCAoKCAsHBAcGBAMICAYFCAkGCgYJBwgFCAcKBgMICQUGAwUCCQkICgoLCgYKBgYKBwQCDAgLDAwHCAcHBQMJBwULCQcJBQgHCQcGBwYDBgUKBwcHCggFAwcHCgYICQcIBgMFBwkEBAwGCwoHBgcGBggICgUICgUDBwkDCggDBQcHBQgJCAgHBwUJCAYHBAYFAgYDBwYGAwsIDAYFBgILAgkGCAkGBggKAwQHBAoGCAcICAsHCQkGBAMGBQUJBwgEBwQEBAcHCAsGDAMIBQoMCAkKCggIBwIIBwQHBgoECgQEBwcICgkHBwwIBQYKBAUICAkGBAgLBAIGCgMKBwQIBQYLBAkGDAcIBQsHAwsFBwYDBwgDCQoKAwgEBAkFCQMLBQgHCwYHBQgJBwUFCAoGBwkHBgkECgkIBwoECQYFAwoIBgUHCQMJCAcJBAcHCggJBwQKBwUEBAoJBwgMCQsKBwcFBwcICgcGCAkLBAYGCQUCCgYIBgcDBQoKCAYDBQsICQMIBgcIAwYHAgsDBwgEBQoICAQKCwYKBgcGBgkFDAoGCAUGCAwKBQcHBggFBgoKBwoKBQQDBQsKBgQGCQgFAgcJCQkKCgoGBQcDCgoLBAgLCwoGCQwDBQoFCQoHBgcICQIHCgkGBwgGCgcFCgYJDAUHBQcHBgYJBgkFBAUGAwkKCQgHBwkIBwYGBwQGBAkJBQgLBgwLCgYGAwoFBwMHCAQJBQsFBgcEAwUGBwQFCQQJBgYGBAYLBAkMBAYGBgcHBAkHCgYEDAQGCQQJBgoICQcKBQMHAwQICQcJBwcHBwcFAwUEAgkHBAUJCwcGBwsKBwsCCQwHBgcFBgcLCggJCQcIAgQFAgcGBgwLBggGCAYEBQYECQwECAgFCAkGBAgFDAYJBwkGBAoICQMFBwoHBwQIBgMJBAUMBwcGAwoKBAgFBgUEBAIKDAoKBQUFCAYKBQMJBwYCBwYECQcICgYIBQgFCAcHCAsHBgQICAMLBwYFCAYKCwQHCAsICAwJBQgGCgIGBAIFDAYGCgUIBwgFBAcHCQYDBwMICAkKBwUICAYHCAYHCwgGAgMHCAsGCAcICwsIDAkJBAcKBAQFCAsJBAQFCQIICAUHAgkHBwkCCAcFBgkJCQcMBgYIBwQMBgYEBAkKCAoKBgMGBQkGCgMIBgUIBQsMBAwJAgwHBQoIAwsCBwMEBwcHBwsJBwkLBgoCCQYDBgUKAwsIBAkKBgoFCQUKBwUEBggHBAQGBQMCAwcECQMGBgYFBggDAwsLCgcEBgQHBQgIBQoGBQkLBAQICQcFCggGBwkHCgsHBwcFCAsIAgcDCgoIBQoJBQcGCgsJCQUHBgUJCAUEBwYIBgkJCQUHBggDBwkIDAIKAwgICQQEBwcIBwYMBgkHAgkLAwMGCwkHBwcGCQsHCAMICgsKCQwGBwMGBwQICwYKAgkHBgYHBwQHCggECQgKBwIHCAIHBwUJCgwLCwYEBwcIBgUECAIIBQsEBwcFBwgHBAUGCAUGAgkKAgYGAwsFCAoHBQkGAwoGCAULBwkEBAgFBAYHBAgLCQgHAwUGAgoKBQIJBwMHCQYEBAkCCgoHBQIJBwcGCQkEBgQLCQoGCQoKBAMLCQkFBQgICgoHCQMICwwHBgcMCAgJAgYHBQMHBwcKBAkJBAYECAYHBgoGCgMKCQsICgMFCAcJBwQJBwMJCQsLBAgKCAQEBgkFBgcHBwQJBggFCwQHCAUICQMGCggJAgoIBAQECAkDBwcDBggJCAgHCQoHBQcFBAoHBgoIBwYIAgYFBwgFCwgDCQQFCAUFBwcKAwcHCAkICAsGAwUHCAULCAMJBwcHBgYGBQYGCgYMBAIHAwgFBAIGCQQEBgcGBAgMDAgHBQgHBAUKBgoDBQIJBwcJBAwKCwcKBwcECwYGCAgEBgkHBwgGAwYFCgcJBwYDAwYGBwcHCQoHCAcMAwgHAwYFCgcMCAoKCgsGCwwECQcFBwQGAwcJBwUIBgcICAkHBgwKBgsHCwcICAgDAwYEBggGCAgDCQgGBQQHAwgEBAcGBAgGBwkGBQgHBAcLBgYCCgcFBgsLBQMGBwgCBQULCgkLCQkKCAQKBgcDCAQKCQcECQoJBwYIBgkJBgQKCQgJBAgJBQYHBAgJBwUKBwwFBwcHBgYGBQsFCAsFBgkMBgQHCAkJBQYLCwcGCQYGBwMMCQUICQcHBAgLBgwKAwIGBgQHCQUHCgkKBwUJCQcHCgYHCAkLCggHCQcHBQwICwgMBwYFCgsHBQgMAgUJAwoJBwcHCAoKCAgIBwQDCAgLCwYFBQYMAwUHBwUGBgcEBwgGBwQECggDBgsJDAgLCAMGCggDBAoLCggJCQkIBQUHBAYIBwwLCAQIBwMECggHCQMHCgYJBgUHDAUKAwcJBQYICQQHCwIKCAcIBwsGCAoIBwkIBwUECAYKCwkFCgcDCAoGBQoHBAYHCgYEBgYFCgUHCAYJBggJBgkDCQcICgUDBAYIBAgIAgcGCQgCCQMMCgYKAwUJBQoGCAYIBQsJCAQDBQoGBQcLBwYKAgwECAgFBQYKCAcIBAMJCgsFBggJBwUEBwoIBwoFBwgKCAYFBwUIAwcICgcDBggKBQYKBwUGAwkGCQkJBgQJAwcICAgDCAcJBwwHBgYIBwoIBgcIBgkHBQUKCgYGBgcICQYHBAQCBAQIBwcKAgYFCAcLBQgECwkHBQkGAgIJBwoHCgoKCAIGCQQIBgcFBQcICgULBQgKBwcFBwMGCQgKCAYICQUHCggGAgoDAwQGBQUHBgUIDAkFDAUFBwcECgoFBwYJBwkHBQQKBAYMCQoGCwgHBQgGBAUEBQUFBwgJDAkGCAYFBgcKBAoHBQMEBwcLCgUGCQgFCwQHCAgLCgcEBQcGCgsKBwYGBAUHCAYEBwcHCAoKBggKBAcEBggJCAQGBAYGCQMFBwUJCQkHBwgKBAMCCQcJCQwIAgUHBAQIBwUHBgcGBQYDCgQIBgkJCAUIBgcICAMICQQIBgYGBQgLBQcJBAgJCAoGCggDCgULAgUHCAoHBQYHBgcGCgYHBAgIBQcGBwMIAwgGBgkJBQUMDAQDBQMKBgYJAwkICQgMBQkHBQcHBQUJBQsGBgYHBAoHCAkGCwYEDAUIDAgDCAsEBQgGAggLBQMEBAcGCwkHBgcGCAgGBQQFCQcIBggGAwgKDAsFCAMHBAcJCAcJCwQHBwQKBwoGCQwHCAkEBwUCBQkJBAkFBAwECAgCBwcKBggGCAcEBQgFAwgICQUJCgQKCQcJBAcLBQkLCAYFBwcHCQUHBAkGBwsHBQwECQoKBgcICAcGCAgHCQgKCAULAwYJBQoHBgYGCwMEBAMIBwYHCgMJBgoEBAUGBwsJBgQEBwgKBQYHBwcMBQMDBgcMCggLBQcJBwcEBQQECQoCCgYDBAgJBAcFBAUFCQgICQQJBAcGBwQHBgQLCgkECQsFAgYLCwgHCgcICAoGBAgICQcIBAUKAwgHCAYGBwkLCwoIBgcLCQUDCwQKBQQEBwcHBAcIBwMFBgIICAsKBgQEBwcCBwcGBAgDBwYFBgMIBwUHCQMHAwoIBgkIAgcEBAcLBgcFAwoEBgYICAoIBwQDBQYGBwcICQUIAwYHCwoFBwUKBwgIBQUHCwYJBwkJBwgICAQICAUFCgQJCQMGBQMKBwYKCgkICAgHDAkIBgYJDAQJBwgEBgUEBAYGBQoIBwUGCQkHCgYFBwwICgsFBgUGCwUJBgQKCQkICwkCBQcEBgkGBgULAwQIDAQFCQoICQcJBwYHAwcDCwUHBQgHCgYIBwwFCQUECQcHCgIHBwcJCggICQUKCQcHBwUCCAQICQYGCgYJBgYICgcKAgcGBgsGCAYHBgkMBQQLBgsIDAQIBAQFBwcGBwoMBwUFBQsHCAcDBAsFBwkHCgsHCgUHBgMMBwMLCAgGDAcICQsIBgkHCAkMBQQIBgkGCAMKCwkHBwIKCAYHCAkIBwUICQYIBQQHBwMHBggLBgMMBwcHDAcHBwkEAwQKCgIJBwoIAgcFBgYJBwQGBQcFBwsHBgUJDAcJAwgJBwcLBwcFBQkIDAQGCwgICQYHBQULBAkHCggFBgMDCgYHCQYICAMFDAcMAwoHBAcJCwoICAgHCwkIBAYKCQkHCAUGBwUJAwcECAkDBwoJCQgFBgMFAgYHBgoJBgsFBwkHBQIIBwgFCAQHCggGCQcIBAkFCAgKBgUICQgFCwYLBwUFBgIHCgcLBQYHCQQDBQcFCAwFCAUFCwUDBAgHBQkJBwgHBggKBwcIBggECwUGCQUEAwYIBwcEDAkIBgYEBgMDBAIHCQYKCAQGBwUFBQYECwYGAwUHBAkGBgQKCQwFBgwDBgcGBQMEBwsLBgcGBQYEBgcEBQkHBQoGCQUKCAcFBwQIBAQICAcEBgoICwYJBwgDBAMEAwkKCQkJBwkLCQkGBggJCQIIBQkJBwgKBwQHCQsHBwkKBgkJBQsICAsJCAUIBAcIBgYECAoJCAMLBQgHBQoDBAQHCQUGBggFBAcLAgcHAwgICAYGBgMLBQMKCgcCAwMGBQkIBwUHCQcFBggKBgYJBgcHBQoHBggHBgcEBgkKBgMFAwYCBgwHBAoGBAsMCAcFCgQIBgcFBAcFCQgICAYMBQYHBgcGCgQFCAgHCAcEBgYHCAQCBAgFBAoICgcJCAoGBgYGDAcHBwkFCAQLBwYGCAwJBQkLCwcJBwcCCAoHCAYJAwMFAgkCAwUDBQQFBAsFDAUKCAYKBQYGCgUFBQYJAwUGBgUHCgQMCAYDAwMFCAQFBQgJCQgHBQoHCgULBQMLCgMFBAoJCgIGBwgJCQgFCQoHAgkGBQYDBgYIBQQIBgkLBAcFCQoFBwYJBwYFCQkEBwYEBwgIBAoJCgUGBgUCBgIHBwcIBQcLCQgHCwgKBwoGCQQFBgcLCAMFCwcGBQcFBwoJCQcGBgoDBAwKBwoGBQcGBQMHBQgIAwYHAwYIBQMHAwwLBAUFBQsIBgoICQsGBwQJCAcGBQgJBQMIBgoHCAsIBQgKCAgIBwoHAwYJBggIBwgJBAgHBQYHBwgLBwcDCwkFCgQICQYLBAYJBgkHDAgHBQYIBwwIAwYCBQgJBAsKBAMDBwoMBAQEBgkFBQwECQUHBQIGBgUICAcFBwoGBgMFBgYECAMLCQQGBgsKAgQCBgYLAwoHBwMKBQkIBgYHBQkMCQoIBgQKBQgKBAYHCQYDBgUJAggEDAQDDAILBgQJCQQKBgQKBwMFBwcCCgYGBwQIBQMGCAcIAwMHAgUHBQYHBgcFBggFBwsIBQkDCQkFCAYMBwgFCgsGBAUGCgcHBgUHCAQMBwUKBgQKCAkGAwgIBAwFCgQFCgcCAgUJDAcIBgsDBgkICAgMBAoHBwcFBAoEBQcHCgYFBgYGBgYKBAgGBAYHCQwGCAoGBwgDCAoGAgkGCQgGBQgJBwoMCgULCAgIAwUMBggIBQoICQoFBgUGCAoLBgQEBwkDAwgIAgoIBgwHCAcLCwwFBwwHCAcHBAMIBQkIBgYFBAcHCQwGCQUJCwkKBwcGBwoFBQYGBAcHDAYEBwQHCQkKAwYLCgkHBwkJBQcHCQUGCQgFBwYFCQQFBggEBAUECwUDCAYLBwoKBQkHBwUFCQsJBQcDCwoKCQcFBgMKCAMGCgYICAgFBwMCBwcDCAoLCAQFAwwJCAsGBQYHBQYGBggIBggIBgoHCQcHAwcHBAcMBgQDBggGCQoICggGAwoKCwoGBwsGBwQHBAoMBAMKBwcHDAoJCAgKCAcKCQcFBAcLBwQJCAUHAwQDBwcHCAoECAkFBgMEBgYKBgkIBQMHCwkJBQQKBwgJBQcHBQYECgIGCggFCAYKCAcGBwkLBwkDBAoHDAYGCAUJBwcFCgMHCgUFCwMECAYJBgMEBgUCBQQJCwYHCQoHCggKBwYFCgcKCgMICQcGBwYMDAMGCwQHCggHBgYJBgcGBwYLDAQKBwsJBgsICQwICwYHAgcDAwYFBwsHAwkMBQsGBQkIBAkFBwYGBQkEBggIBwcCBgwHCgMCCwcHCgYKAwUMBwgICAkGCwMHBgQGBQcEBgoFBwoFBQYCBwoGBQIDCwsHBAYFCQYICgsJBQoIAwUEAwkHBwUFBAkGBAYIBgYFBwsJCwcICgkGCQYKCggHBQULBgMKBwQFBgcHBAkLBgMCAgsHCQgJBQgKCwQGCQkIBgkGBAYKBwQFBgcFBwYICAkECQcMBwkFAwcGBQUIAwYKAwcJCwMHCgkDBgoGBwkGCwYHCwUKCQcGBQYJBwcFBQgHBAYKCgkIBQsICAQJBwkDCAkIBwsHBgsLCQQGCAUECAUMCAQKCQcKBQkJCAQIBQUIAgYJBwYFBAoDBQcFCQgEBgkLBwcFBwgFAwkJBwcDBgoIBwYHCAcFBAcGBwcHBwgFBgYECgcGBQsECgoECAYHBwkGBAgCCAQHBAcJBwkJBwoEBwQKCgQICQgGCwUFBQcDAwQFCgkGAwULCQcFCQgGBwkKCgkHBgwGCQQJBAgIBAQHBQcKBgQGBQgHBQoEDAkHBwUHBAYMCAYHBAcICAYHCAUEBQgHBQkHCQYHAggHCQgGCAkICAcFCAcHBggGBgoKBQgGBggFBwMJBwYJBgcHBgQIBwMHBgYKCQkHBwkHBwUICAgJAgcGBwgFBwoGDAgJAwYGCAcGBQUJBQgHBwgECgUKCAgIAwMGCQcGAgkFBQoJCgsHBwkICAoHCQMIBQUJBAIKAwwECgYFBgQDBQoHBwYIBwUGCwIKAwkFCQQGAwoICAgHBwUFBwkLCQkFBAUKBQMGBwoJCgoKBQsGCAULBQgJCgcGBQYGCAoLCAMDBQUICQYECQYFBgkFCwkFCgcEAwcJCAYHBQYHCQwHAgsKBwkFCgoGCAsEBwgHCwUIBggHBwgIBwkFCgMHBQMKCQYHCQkKBgUJBggFBQQICQcDAwYIAgkJBQoECgcFCQgLCgYMBgYFAgUIBgQLAwkJBgYFCgICAgcJCAQDCQkICAcHBwgHAwcFCQsMCwoFAwcIAgcCBwUFBAkICQoIBAcJAwUIAgYHCQYHCAkFBQoIAgcJCwcLBQMMBgwHBwsFBwUGBAwMCAIICAcJBwcFBQIHBgkGBgUCCQYCAgQECAgHBwcIAgcKCAcFAggICQsIBgULBggKBwYGCAsFBwUIBgcHCgsIBggFBgIGCgUFBgUCDAYIBQMGBwcGCggHCAUGCgUJBwQKBAgGBQsHCQcGAgcLBQgFCAwFCgYICQUHBgkFBQkFCwoHCwsIBAIKCQUCCgkDCQcFCgcFBgYLBwsJBQkJCQYFDAkDBgQKBwcHBAYDCAsIBQMFCQQEBwgHCgQHCwoKBQcGCgYKBwkICgQFCwgJBAUIBwcKBwYFBQcKBwcFBwkGBwkHBAgEBAUJBgYHCAsHCAYJBQQJCAgKBQMCCwkHCwYKCQgDBAQJBAgHBwoFAwUGBQcGDAYFBQoFCwcICQwJCgYHCAgJBgcIBwMDCAkKBgoICgYCCAUKCwgGBQcGCgkFCwMCBwYGCwoICgoDAwcFCwMIBgsHAwgKBwoGBgYGBwoJCQcJCAMFCwcLBAYEBgYGCQcGCAYGCAMICgkIDAgKBgULCAgHCgYHBQcDBgUICggKCAcDCgQJAgMCBQQHCQcCCQcGBwIICggKCQsGCAcJCwYHBQUJBAcHCAwCBAkJBQcHCQMLCAQICwoICgkGAwQHBgUJBAgKBwIHBAcJBwoFBwcLBgUJBwsJBgYFBQcKBQYFCwkHBAkIBwgLCgcICQMKCgoFBwkFCAMFAwgIBQcJCQYDCgsKCgkDBAUHBQcGCgkIBwcJBQoIBgUFCQkJCAcDBQoJCwcGCAoHBgMKAwcKCQMFBwkJBQcMBggEAwcHBwcCBAYIDAcEBgYICQQIAwwHCAoEBAgIBggHBAIHAgUFBQQEBgMGBwgGBgYDCQkJCQQKCAUDCAYGDAkCAwcHCwcHCQYDBgoFBQwHCwMLBgkKBggHBQQIAwkECQUKDAgFBgcIBgkFCAoJCAQLBgYGCAYGCQYGCAgHBAsJBgUGCQcGCwYDBwoFCQYJAwkGBwMICQgFCAUGCwUCCAgFAgcDBwcHCwUEBwYKBgkGBgkFCgQCCggHCAMGBgUHCAwHBwUGBwsHBgQEBwcGBwkJDAUGBAcJBwcHCAUKBgoHBgcDBggICQkIBggJBgsIBQcDCwkGCAcGBgQHBgwLCgcGCQQFBAQFCQoLAwgLBwgIBgUFBwcJCAgDCgMHBQcDCAgMCgMHBgQICQgICgoHBgYJBwcHCgQEBgsKBAULBQYGBQoFBwcHCgkECAYKCAcEBQsEBwkHCQcGBwMDCAUFCwoICwMFBAgIBQYFCQIHCQkHCgQFBAoGBAoIAwgIAwYDBgQKBgwHBwYHBwoHBggIAgYIBgkIBQgFBQkJAwYIBwUECQgICgoJCQQHCAUJBAgICAcJCwUHBgQGCAgIBgQGBgkIAgoHBwYGBggHCQQCCQsGBAgIBgUHCAkICAUGCgsCCwUJBAYKCQkECggEBgYICAcHBgYKBAUECggEDAgDCwMFBAcGBwcGAwIHCwcIAwMGBAkMCAcICAcLBQgJCAcICgMFBQcGCgcMCwoICAIICAMGAggHBgYLBgYKBAoHBQcMBwgKBgMEBwULAwcHBAUJDAoFBAYEAgYLCwYJCggGCAgHAwcHCwoJBgUJBAgFBwUGBgMKCQoEBAsHBgkHAwMFBwcHCgYHBwcDBgcCBwgHCwcFCAgMBwULBwcMBQgCCAkLBgMHCAcLBQYDCQsIBwQLBwoKBgQCCQUICwYFAwcIBQoFBAUECAYEAgUECwgLCQQGCAoKBAcIBwcGBAcKCAgICQkIBwoIBgcKBAUHBwYFBwUFCAgHCAMKBAILCgYFCAkMBwgICQcCAgcICQsFCQYGCQgEBwQLCAMGDAUJBAoICQUIBQMECQsJBAUMBAwKAwcICAwLCwkKAwMHBgcDBQYHCQYGBgsIBAMDCQUGBgQKAwgKBwgJCAYKBQUHCQgFCggDCAUGCQMJCgUIBwUHBgsJCwoFCAkHCAgICAgECQIICQsLCAQHBgMECAoJBAkIBwsFBQcHBgwHBwwDAgUEBQsFAwcJCQkJBgYEBQgJBAkLBwMJCAUIBgoLBQgFCQgCBwYIAwcDCAsHCwwGBwYGBwYHBgoJBAgKCwQGCQcCBAkGCQcGBgoICgUHBwoHBAcJBwcLCgcJBwoIDAgLCQYECAgMBQsGCAYKCQgFCgcKCQkGCAUFCAQFBwgFBwoFCgcECQgKBwkLBQkDCQwECAcHAwUHCgcFBgcGBgQFCQIDCwkICAcIBwgFCgcCBgkGCQYJBQUIBggIBwcIBAQFBgsFCwoJBgoKBwYHBwoMCgcKCQQKDAcEAgoDBggEBQYDCQMJBgQGBwUGBwUGCAwJCQcFBwgJBQYFCAMGCAkGCQUKBAcFCgcDBggGCwYGCgUHBQwGBgQKCQcKCQcGCAgICwkFCAIGCQcJDAgIBwwFDAYGCAUGBgcECgkECgsEBQcDAwgFCgMHBgoFCAcDBQcGBgUEAwQHBQcFBwQCAwQGCAQGBAIICQILCgcCBwoEBwQICQsHCwcLDAULBwoHCQkICQgJBAYFBAgICAkKBggJBwYKCAYJCwUGBQcIBQoHBAcCBgQGBwkFAgUJBwwJCAYJBwwKCgYMCQgLBwcEBgcIBggGCQMLBAgJBwcFCgYHBwoFBQYGBQoEBAoFBwcGBwYGBgcKBgoHBQQICAUFBwQGCwkFBQUKDAsHCQoGCgwECwcDAwUGAgUGCwUCBQoHBwYDBQcLBggDCgcGCQcKCwgFBgUMBAUMCggGCAcFAwMJBgoGCQcLBgkHCAIMCQIEBQcFCAgGBwkGBQcMBwcGCQgHBQYHBAUJAwYJBQoFCQQLBQcHBgkHCAIHBAoIBQcJBQcFAwgCCQYMBQoHBAYGBgkKBQcJCgYJBQQMBwcHCwUFDAgJBAULCAUKBwkHBgcHBgIMBwQIBQYJCAYIBgULBAkDBQYJBwcJBAcEBwcLBwcEBAYGCgQFCQcECQcEBQsKAwcKBggFBwgGBgMDCgkCBAoKCwMJBwcIBgUGBwUJCAkFBwcIBwoFAgUHCgUGCggFBQQGBQsGCAcFCwYEBwYEAgMHBwcLAwkGCAcECAYFBwMHBQcJBQYKBwcICAYJBwIGBgkHCgUJCgIHBgcFBwgLAwcJCAcFBwkGCwgIAwkHAgIHCwcLCAgLCAcHAwMHCAQCCQcHCAYIBwIHBwwKCgoJBQcHAwYIAgUEBAcHBQkFBgYGBwcGBwQLCQIEBAUHBAQEAwcGCAYFCwcGBgUHBAYMBQkDCAYICQsJCgYDBwcFBwYFBgkCBgMHCgUGCAQJCAQJCAMJBAcHBggJBwgGBAYKBgkEBwQJCAoKBAYLCgkFBgkHBwoKCgoLCgkIBAoJBwYICQYHBwsCBwYKBwYLCgQICggFBgYFBwQDCAoECQcIBQcICgkGCggIBAMLBwwGCwYHBgwHCAoFBggJBwgEBwkHBggLCgQICAgMBQYEBwgFBgsDBwQHBgMGBAcMBQgJBAYFCgYIBwsIBQcDAgUKCAQJBwYECgUEBgUMCgUIBQkFBwYGAgYGBAYFCQULBwMLCQgJBwcJCwgLBgQFBwgKBgYLBAsHCAgIBwkIBwgJBwYECggHBQgDBgcHCwYKBQgFBAcJCAcHCgIFAwgIBgQGBAsEBwUMDAsDBAgHCwYHBwYDAwgIBAcHCwQFCgcGBQQHBggMBQIDBQkMBwgDCwYGCwQFCgsIBgQGCAQFBgsGCQkEBgYLBwgGBwgDCQoECQoHCAcJBwILCggHCQMICgYHBQcHBwgJBAoICAQICwoEBwgIAwwJCAwLCQsHCgsICAcIBwUHBwcECgUIBAkIBgkIBQMJBwMHCAgLBAcJDAoJCAoIDAkIBwcCCQgFBwgMCwYHAgYKCAkGBwUHBQcHBQkICAMJCwoHDAYIBQwKBQwLCwwGBgcLBQcICgYIBgcDBgoLBwkECAgHBgcFBAkJCQYKBgkKBQUGCAkJBQcHBgkGCgUJBQMIBgUFCAYHCAkGCgoKBwYKCQgDBwUJBgUICQYDBwYKCgUGCgoGBwMGBwYHCQwFCAIIBwULAgUEBgkHDAQFCQIDBwkICgcDCwcHCAcHBAUGCAUECAgFCAQMBQoJBgYFBQkICQcLCAQEBggEBQoMCAYGBwMFBQgFCAcGBgYGBAUECAcHBwYLCAMIBwYGBAMECgQCBAYICgMJBAcGCAQFBgcGBAgICAgEBwQECAoKBwcECQQKCgQHBwcHCAMMCwcIBwgICgkIBQoJBgkECwsEDAcKBQcGAgcECgMHCAgKBgYEBQcFDAcCBQUICwgLAwYJBgYECgoFBQkHBQUJAgYGBQcFBQgGBwQLCgIIBwYKBwkDCwQGCAYIBgQIAwUHCwsJCQsLCAsLBgYICwsDBwUIBwYHBwQGBwgFCggDAwoKCwcICQoHCAgHCwcGCAcHDAYJBwYHBAcFBgYICQQKDAcLAgYHCQwKCQoECwgHBwUHCwYFCQQGCAcJBggJCwQECQUICAgJCAYIBgYGAwcHCAIDBgoHBwkHCgcKCAcHAwMGBQcICQcICQYCBQcHCwkFBAgECgQLBAMGCQkCAwgIBwYLCAgDBwcHCQsFBQUEBwQHBgMHBQcICAgGDAQHBgIJCQUJCQYGBAgDAwUHBggLCQkECQgHCgcHBgcGCAYGCAgKCgcCBwkFBQYKBwUDBwkIBAQFCwcKBgYGBwMJCQgEBgoHCgkJBwYJCgYIBgYHBgUFBgcJBQcJAwYHDAkDCwYIAwcIBgkECAkHCAwIDAcFCAkIBAYFCAkECQcICAYFCQMECAUECwoJBAkHCAgIBAcGBwoHBAYFBAsIDAUGCAoFCAQJBQMJBQkLAwgIBgQFCAoIBQgMCwoKAgYHBQcLCQoFCAcICgYICAsLCQYLCAQDBAUJCAgMCwoIBQwEBwIHBgcECAoIBAkJCwsIBQgHBgILBgcLBAYKCQUHBgUFBwcJBgYGCgQEBgYIBQcGBwYFDAoICAoFBgMIBwcMAwkLCgkJBwYIBQMHBggIBwUHAwcDAwkLBAUHBgYMBAcMBwQHCQUIBAcICQgGCQoIBgsGCAYHCAQICgYKBAgJBwYMCAUICQgHCAsICQcFCAYHCgYJCgoJCgMGAgMKBgYGCAcGBgMHCwcHCwYJCQkFBwkHBgUDBwwIBQIMCQcIBQcIAwoGCAoDBAIEBQMHBQcECwkLBwkHBQcGCQMGBgcJCwMJCAMFBwQFCAcEBgcJBgoCBAUECgYICAYHBwYKBQkFCQMKCAcKBgMHCwUDCAICBgcKBwcDCwgFBwgHAwUKCgcICQQDCQoECQYKBQQFCQgLBAYKBgUIBgwJDAQJCQcKAgUFBQgDCwgEBwUGCAcFDAgECwYFBwYEBQoEAgoHBgkJCAcHBAIHCAsIBwUFCgQGBgcGBAYGBwYFBwMIBwQCBAYDBwcHCwULBgkKBAgKBQQGBwMJBwoJCQkJBgcLBQgEBQcGBgIJCwoFBAIKCgoFCwUHCAcIBwoICgYIBwQFBAoJCAcDCQoKCQoHBggHBAcEBgYGCgIJCAQICQkFCgYKCwYHBAkMCAQHDAUFBAUEAwcGBwwJCwUECgMKBwUEAwgGCgkHCwYKBwgJBQMFBgQICQkDCQQHBggIAwkICAgFBAcFAwULBgYGBQkICwIFCAMEBwoDCAYCBwQHCAsECAIJBgkIBAcDCAsICQcDBwUEBwsGBggHAwsDCAYIBQcGBAsICgcFBQsICQgHBgYHBgYFCAcEBgYFBwoDCgMFBAoHCgUCBwoJBgoFCQUMAwsGBwUFCQUEBAMICAgHBggHCQUKCAcICwgGBgcFBQgDBgwECAkLBwkICQoGBAYIBwgKCAkDBQwLCAsKCgUGBQcDCgYFAwcIBgoHBwgKCQgFAgkJCgUECQsHBwwHCQUGBAsJBwUDCAULBwQFCQcDCAkFBgYGBgYCAwgJCAMGBgcGAwMJCQoHCAYKCAgFCwYHBwgCCgIICAoLAggKCAkECwgCBwYHBwgHBgUCBAcICAsFCAsLCAoFCQMECAYGBwkGBAkKBAoICwcKBwcFBwQIDAcFBQwHBQYLAwUICAgMBgUHBwIHCAgICQoMBAIICQQFCQYHBgQLCwgGBQcDBgYGCAcFCAMMCAoICQMJAgkHBwQHBQoHDAcIBwcEBQMGBAkFDAYGBgoFBAcJCwoFBAUICgkKCwYLAwcEBggIAggJBwYICAoFBQUFBgMEBwkLBwQFBwkMAgUFCQkMBwMIBwQHBAUICgwHAwgGBgUHBQcJBwYGCgYJBAoDAwUHBgsCCAUHBgQKBgcDCQcJBAsHBwkICwoGCQQFBAgHCQUJBAYJBgMKBwgGBAUICQoJBAcMBwYFBgcKBAUGAggFCQIDCQcLBQYMCQcICAcICAUECAUFCQgGCAkLBgUJBgQJCgkICAgICQkJBAgHAwYICgcGAgQHCQQGCwgIBgkFBgMICAQLBwcECAgGBgcLBwcGBgMHBwMHCAwKBwcHBAgEBwYKCwcIBwcHBQgEAwgICAQICQUIBgkKCQcJCggJBgUDCAIHBAkHCQUKCAUHBAYHBQoCBQoLBgsKBgcHCQYLCQgLCQcFAwkHCwgFAgQGBwUGCgYKCwkGCwcGCAYJBwgFDAsEBQcGBgkCBggGBwgGBgQDBwgJAwQJCAYHCgULCAcDBwMMAgUEDAQIBQoHAggGAgMHCggHAwQHCQgEBgoEBAcJBQkIDAYHCgoECgMHBgIFCggIBQYFCgcGBwkECQcFBwYIBgoDCgkIBwcEBwsGBgIICQYFBwsHCQQJBgoFBgoFAggICgYGBgoHAwcJBQgGBQYGCAYHAwgHCAoLBQMHBgYIBAsGBggEBQgIBAoFCQMDBAYHCgcIBwMICAQICAgJCgcIBwYIBQkHCwsEBwUDCAcJBQgHBwkKAwYHCQcKBQcHCAMIBwYECwcJCAgEBwgGBAkEBgUICAYFCAgGCQsKCgUGBwcFCwYFCggLBQUIBAUEBgcGBwUHBAgGCAYIBgkEBggJAwgHCQoHBAgLAwoLBQcMAgUICQQICgcDCQkIBwYHAgQJBQcHCgcDCAUFAwsHCgoGBgIICAgGBwIHDAQJCQoDCgYEBgUEBwgFCAcHCQQDDAcEBwsECQYEBwQKBgQFAgUJBAgHAwgDBAgCCQYGBgUKAwcHCQUHAgcJBQYIAwkHAgMLCwUJCAgLBwwGBQYICgYCDAQGBwUGBQcDBwUJBQgHCAQFAwUECQYJBAwJCwoCBgMFBwgJCQcEBwgDCQUKBgoFBwYIBQoDBAUCBwcHBQcIBwYHCQQHBgIGBwsLBwgHBgQEBgQEBAQICAwICQoKBwkICAoIBQQGCgcJBgMEBgYICgcGAwUKCQcECQQFDAkKBQYJBQgLAwcJAgUGCAgDCAcKCQcEBAgIBAQIBwcHCAsJCgYHCQcECggFBgUHCgkDCAcGBgcJCwMMCgYDCAYFBQYJBgUDBgMLBQMIBQcIBQcHCAkFDAQDBAgLBwUICAIGCAcFAwMHCwYHAwgICgYKBwoJBgQMBQcLBwkGBwcFBQoIDAkGBwsGBwMLBAsDBQUFCAkDCgUHBgUIBwYJCAcGCgUEBgcGAwUKCwYEBQcHBggGBwUEAwoHBwcGBgYKBwQHBwcHAwoLCQIGCwUGCQkGCwcDBgcJBAkDCQcJBwQIBgYLAwYGBwsFCAoHCQQFAwgGBgQJBwUKCAgECQoHBAIECAUICQYHBgcFBwkGAwcJCwoHBwIECAcIBgQHBgcJBgQIAgMIBwUKCgkECQYCCAUJBQcKBwQDAwYIBQoEBwoLBggKCAcJCAYGCgYJBgoEBwUHBwUHCAULBgYEBwcGCAsDBgoJCAkICgkIBgUIBwYFCgsFDAcEBggFCAUGCAsIBgcLAwkGCwcKCQgGCAYIBAoEBgoGAwIJCAoMBwMKBQoLCwYGBwwEBwkHCAcFCgYDCgYFBgcJBQkGBQYIBAcLCAQJBwQHBAYKBwcHCQMKBgYJBgYEBwIECAgLBwgLCAUIBgQEBwQIBAcLCAcICAkIBwoIAwQGCAcHCQQIDAoKBAMGCggGCQwHCgcHBwQICwYIBgcDCQYKBgkICAIICgMCBgkGBQcGBwgEBwUDBgoEBAsJBgYFCQIIBQMKCgoIAwkGBQgFCAMHBwUFCwQKBwcJBQIHAgMHBwcFCAQKCgwLCgMDBQsHCwYGBwcEBgcGCQcJBwgDDAcIDAcLCwsGAwcFBgYJBgMICAQFCAcLCAYDBwsHBwgHCggHBgQJBQcGCAoJBwQFCwQLBQUJCwYHCQgKBQkJAwkDBQgJBQcHBgcJCQgGBgUICAcEBwkICggIBAsCCQcFCQUFAggJBgkLBQoIBwkFBgcLBgoDBQoHBQkFBwkIBgcJBQMKCwYLBQQGAwkHBAIEBgQIBwgFBQgHAwcJCAYGCAQKCAUEBgUECwcJAwcKBwwIBgIIAwwJBAgGBAQECAcIBwkHCQcJBwcEBgUHAggCCQkEAgQKDAcFCQsICAUJCAYGCAcMBQgGCAkHCwcHCwUICAcJBQgIBgcJCAUHCQQFCQIHBQMDBQMIBQoJBQUHBAoECAkHCAkEBgIIAwQMBwgJCQgGCgULCAUJAwYKAwQFBwcIBgYICQwHAgcIBgoDBQYIBQYGDAYIAwkEAgUGBAoHCwcIAwwGCAkMBgUJBgkFCgMJBwcFCwoFDAkFCgwJDAMHBAUIBQgJBQIICgcKBggLBwcDCAwHBAYHAwkGCgQJBQoLCgkGBwMHCAMICQgHCgcKBwQICAYJBwUIBwUIAgcKCAcIBwcKCwoLBgoFCQgGBgIGBAgGBggLBQcGAgoFBAYGCQoIDAcFCgYDBAUGBQIHAggHAwgFCgUHBwkKBQcDBAYIBwkCBQYFBQsJCwYIAwwJCAcLBwsHBgoFCgQIBwgHBgoCBgUGBwcIBQQLBQkLBwIGBwgFBwwHCAkDCAcDCggFBwgKCwcFCAIKCwQEAgMJBwgHCAoHCAUECgcKBgQFCAcIBwYLAwUJBwkGCQYFBgYHAwYKBgUHBwcGBwsKBgoGCgkGCQUIBggEBgcHCQkECAMJCQkIBQgIBwsIBQYGCQcFBQcKBAgEBAIGBwcFBwcGBQgJCQIJBQcHBQoKDAUFCgMJCgcICQgLCgcHBQQFBgkFBgoGBQMFBQQGDAcGBQQHCQsHBQkICQUMBQcICgcFCgQGCwIJBwgGBQwHBQgIBgUHBwUJBQcJBgcJBwoEBQcGBgUKDAoGCgQIBQIEBQkEBgQDBwkICgQGBgQCCQYCBgUJCAsGBwUKCwcHCQYKBwsKBgkGBwULCgYHAwYFBAcLBAkFBAcJBggJBwsGCQkIBQUHBQgIBQgKBgcLCQYICwcHCAsIAwwJBQQKCgkHBgcDBggLBQcJAwsFBgYGAwUFBgQGCQgGBQcDBAgJBgsLBwYKBQQDBgkCCQYFBQMHCQQGBQgHBgcICwcJBQQIAwcKCwoHAwgGBAkICwoGAwYEAgQLCgYIAwoGBwkIDAkMCggKBwgCBggGBAcLBAUHBwkCCQYHCQUIBgcIBQwJBwQKBgQHCQYECAkHBgUGBwcIBwMICwcKCAoEBgIMCAkGCwkIBggLCAUKAgMJBwYHBgcIBQkKBwYIBgYICQQGCQoEBwwGCgcIBAgICAUICwUMBwYJCgQIBgIFBgYEBwkHBQgKDAYCBgkHCQsJCgkJBgkGCAMCBQQGAgkKCgYJBwwDCwcHCwsHCgcEBAcGBgoGCAgGCAgHBQcKBgUJBwYHCQsFBgsHBgMGBAQGAgsGAwIIDAQHCAYHCQwHBwsFCAgGCgUECAkHBwcJCAgLAggJBAUICQkJBQkKCAsMAgkIBQsLBwYDBgYDBAYLCAYJCwUGCwcHBwIFCAkDCQYGCgcIBgUIBwgGBgoKBQUHBgoFCAkHAwIDCgQHBwMIBgMLBAIJAwUFBwkKBAoIAgoGCAkJBggEBgILBgYHDAsLBgwKAwIFBwQLCAoIDAMGBQMCBwoHBwwJBQcICwIGBQUHCAkECwQGCQYIBAYJCAgMDAkDBwcEBAkKBQYJAwgHBwUMBQYMCQYGCQQIBgkJBQUDBwgFCgkHBwgICgcJCwIIBAoHBAYGCQgFDAgLBQoFBgsDBwMDCAQGBwcGBwoIBwkICgcGCAUHBQYFBwoIBAcCBQYFBwcIBwYECQwFBgYMCAsJCQgGBwcKCwcHCAYDCwkKDAkIBwcGBgoJBwYICQcDCAkGBAkJBwsDCQcGBgYFCAgHBQcGBAQECQcEBQsJCQMGBAcLCAQHCQsHCgkHBQcGCAsECQMICAgJBQcGBgQHCgYHAwIFBwcFAwYEAwQKAggHBAcGCQcMBgkEBwoFCAYJCwUIBgYJAgUFCAsECAMIBQsKBggICAgJCAgGCwMJBwIIBgkHBgoGBgsJBgkJBggFBggKBgoKBAoJAwUDBQgGBQsFBwUFCAoFBwMIAwMHBQUECQoJCAUMBgcEDAQJBwcLBQgKBQgJCgYIBQcICAgIAgcJBwcIBQkIBwYLAwUJCAkJCAgLBQgKCQkGCAgHBwcLBAUHBQQJCwkDCQkFAwoDBQUGBgwKCAYLBwYJBgYJBwkEAgcGBwgICAgHCAcHBQcIAgkFBwkICgIGBwcGBwwEBwcKBwUGDAkKBQoGBgIFBwcHCwgFBwUJCwgLAwYFBwcKCQcFCgsHCAYMCgkGBQgLCAcICgQICAkJBwYHBQUJAgYFCwQICQsGCAYKBAMEBgsKCwsKBggGCAkFCQgHCwgFAwQFBQUMBAcFCgoEBwkJBwcJCgwJBwcGBwYGBwgIBwcFCQgDCwcHCQYHCwoIBggECQYICAgEBQMICgsJCgQJBgIKBQUHBgcCCwwHCAgLBwsIBQcICQcHAgUEBwoDBgQHBgkICAsCCQgFBwcHAwcFCAsHCAYKCAcGCwsHCwUFCQYFCAcEBAcDCAMICgcDCAMJCQgECAYFCQsIBwgGBQQKBgoIBgUEBwQHCgUFBAcHBgoICAoICgUFCgsECQQKBggKBwYLAwUJBAkEBgcKBgoIBwkHBQILBwMKCgMIBgUIAgIECQYIBgQIBgoGCAoHCwsCBwYJCQgJBgcLAwsIBgkHBAYMCAUKCQgDCgQICgcHBgMLBQYEBwsKBAMLBwYFBgMIDAkGBwgFBwcIDAcMBAIFAwkDCQkIBAUHBgQIBQYGCQkLCgkKBQcIBwMFBgYIBwQCCgYFBwUJCAcLAgcHAwgJCAQGCwoLBwIHBQYFBAUDBgMJCAoHDAYMBAcGBQMHBAYEBwYGBwYMBgYFBAUGBwQFCAcJBgkFBgkIAgcHBAMGCgQLCQMIAwgKBAUHCAMIBwgEDAYFCgkICgkCBgkIBQcHDAkJBwcKCwYFAwMECgcIBAUFCgQJBgcKCAgHBgIIAwoLBgYFBwUICAcDAwoGCAoIBAkICAgFCQkECAcGCQQJDAcIBwkGCAMHAwMEBAYJCAcIBAUJBQcICAcKCAYKBAsCBAgFAwgFBAgIBAgFAwUFBAYLBwkIBwgIBgwHBwcIBgcIBAcGCQcHAwYMCQoGAgkHCwUJCAcHCQsECgcICAYJCgoGCgsHCgYMBQQHBwcHCgcGBggDBgYJBQcFBQgKCAoKBwkICQoICwoHBgYDBwYFBwIHDAMGBwcJCAcGCggHBAMIBwsCBQsKBAcHBQcIBggGCQQGBwoFBQUIBgwMAgIKBAYJBwUKCQkIBwsIBwUIAwgMBwULBQkJCAoMCAkKCAoGCAMHCAcLCAMCBQgGBgcKCgUICQcKDAgHCQYIBgsFBgYLDAcJCAcGCggIBwgGCAUEBAkIBQUIBwUGBAYGCAYKCAUGBAgDBgYECAoCAgcJCwUGBQUFCgcFBQQICggHBAoGAwoJCQoCAgoJBAcHCQgJCQoKBAkGBwsIBgkHCAMGBwUICAUFAwkGCQULBgQHDAQJCQoIBwQKCQMGCAQGBwYFBQoIBwMKCQgFBwkEBwgHBwcGBAoLBwMJBAsGCQcHCQUIBgUJCggMBwYGCAcMBwkGBgkIBwYHCwYHAwcHAwUHBwoKCQoEDAQFCQMIAwkICQMJDAkGAwMKBggGBAYEBwQJBwYFCAcEAwgJBQcGBAcFBQYGCQkFBAUFDAoGBgsLBggGCgcGBQcECgcIBwMGBAYGCwcKBwgJBQcGDAgHCwQMCAgFBAUHCAcGBggDCAcECgYGBgcLBAUICgQKCAIECQsCCAkGBAkIBgYKCAoKCAUKBgsGCggKBQMFBwQLCAQHCAYJBAcIBwkKCgcECQgIBwcJBQMJBggGCAYJBAcKBgsHCQcGBQQJCAcHDAcMBQkJCAYFBwYIAggHBwMHCgQKCgkHBQcIBgUIAgUEBAYIDAUDBAYEAwcHDAoKCQMHCwQDBwMEBwYGBQoMCgYFCwMIBgkIBQQGBwsICQgGCwQIBwsDBAwFBwgJCAsECAkFBwgGBwYJBwkKBAULCwkICAcICAMLBgQEBwsGBwgFCAUJBgcJBwcKBgYGCAkDBwIHAwkFBQUECQkKCgoCBwcFBgUFBgkEBgcIBQYHAgsLAwYFBwoLBgcEBQwIBQMHAggDBQkKCwgEBwQEBQgGCwUDBAUHDAcDBAgIBwMGBQgIBwgECAwECgYICgsJBwUJCQYHBwMIBwgDCwcIAgYGBwwDBwgGBwoHCgUIAwoGBwsHBAQJBgsGAwsJCwgFBwcECAYKBQUMBwYHCgcFAwgEBgMECAYHAgcJCAQLCgYJBwcGCggFCAsKCQYJBwcIBAkKCAkECQMIBwgKBgUDBQkEDAgEBgkHCAYFBwcHCgIDCQYKBQsGBQoFBQYIDAYEBAgDCAYFBAkGBwcECgIKBAcMCggFBgkJCwQCCgkICAYGCQYGBwoKDAoMBQsHAwoHAwkLCQUHCAcGBAkLBgQHBQUECQcHCQUGBQkIBgMMCAUIBwcICQcICQgDCgYJBQYKBwsFBwcGCAgFBgcECAMHCAkICAQIBwwHAwYKCAcLBAIFAwULCAQGCAYFBggLBgkKBwkLBwkHCAYJBgsDCgkFAwYJCgYDCgYLCgILCQcHCQYKBggFBQcICgIEBgcKBggFAgUGBgcICQgMBgYFCAYMCAsJCwYGCAUCCAQCBgcJBwcFAgQJBAQFCAkDBAQHBgMHBgQICAQHAwoICwYJCAUGBwMGBQcGCQoICAoIBwYJBwMHCQcHCQQHBgcLCwgDCAMFCQkDDAcFBwYICAYGCQUHCQcHCAUHAgoGCgkFCAcIBwkHBgsFBwYDBwQKCAgFBQsIBgIHBAMFAgYDBQkIBwcEAwgECAcECgcIBwkHAwsJBQMHBQQEBwYLBAcHCgQGBQQECQULCAkFCgQJCAcLCAcGCQcICAsHCgUIAwUHCQkICQwFCwQHBwQHBgkGBgkGCQgJCgYCBgcHCggKCgcIBwUKCAQJBwQMBgoHBwQLBAcIBgQEBAYJBwUKCQgECAcJBAkIDAgHBQgKCQUECQIFBwcHCgYFBgcGBgQKCAUKBQcGBwUIBAgHBwUICwgKCwgJCwUCAgsFBgYHAwYKCAkIBwYICAkHCAgHDAQGCAkJDAcICAULCAYHCQsDCwQIBQYKAwUCAwcFBAcDCAcFCwkIBAUIBwQKBwoJBgcJCQgKBgkHBwoHCgcKCwcGCQUECAMJBgcFCAULBwUGAgoHBwUFBgQCBwcECQMGBQsECQUMBAcGCAMHCAsLCAoHBgkGDAcHCgUIBwsDCwYHCAkGCgYKBgQHCAMJBgcKBgYJCgoECAkLCQYJBgsEAwUKBQUHCgcIBAQKCQgHCAgHAgcJBgMGBwMKBQkICwYJAwUECAYKBgcJBwgICQgGCwgGCwgJCAsLBwcJAwQIBwcHCQsIBAcLBwUHAwUHCQYJBAUIBgcGCwQKCQMFCggEBgYHCQkHBwgGCAsKCwQIBgUICwgKBwMHBgYICgsLCAICBQcDBgcHBwYKCQcIBwYICQYFCQQHAgYFCwcDDAcJBggHAwMHCwYJCgoGBwYKCQcFBgYEBwsFCAcHCAMHBQcDCgcGCwgKCgMGCgkHBwgKBQcHBQkJBAcDAgYJBwQIBAcDBgQGBQsGBgMHCQcDBgMKCgkFBAULBAkIBgcGBwcEBgkKCQYLBAcDBwcFCwgECAgDBAcHBgQLBgoGCQkGCgUCAwcHBQIFBgICCwsFBwcHDAkHCQQHBwcICAMIBwkHCgoFBgQKCwYGBQYECgYDCwwKCQUIAgIJCgYHBQcKBgoFCAsHAwYGCwYKBAkHBwoKBgsICQgDDAoJBgcECQcIBAkGBAsJBwUJCAoHCgIIAwMCBwcMBgMKBwUGBQoLCwgDCAkGBwYMCwYJBAUIBggIBwgKCQYJAgcGCQQJCwcJCQcLCAcJCAYHBwoIBwYLAwcFCwUGBwYDBwkGCgYHBgUMBwMIBwkICQUIBwYGCgQDCQMGBwUECgcGBwcHCwQGBwcGBQkJAwwIBwcICAUHCAQICAcMBAUHBwsJBgoGCAYGCQYGCggGBAsHBAYDBwsIBAYECwgKCAsECAsHCAcGCwwEBgMKBgYLCQkJAwUGBwUGBwkJBggDBQQHCgUGBwUKCQUICQQGBAQMCQcJCgUFAwkIBQgFBQUMBgYJCggCCAYGBgkJAwoMBwgFBwcDCAMLBwYICAkEBwcCAwgGBwcJDAgEBQoFBQoFDAgECAMICQgKCAsICQcIAwcIBAUFBwUJDAkHCgYGBAYDCAgFCQMKBgIHCAYKCQUHCAwGBQYICwkIBQkICQgGBQUGCAkHCggHCQgKCAcKBggKBAcDCAQDBAMGBwUECAcFBQcHBgcLCAwGBQQKCAwICgYHCAcKCAIECQMJBAYICQgGBQMICwUHBAQDAwgGAggHCwgKBwMFBQkGBAkJCQcDAwsGBAoKBwgLBwkFAggHAwYJBwgDBAcECQcLCAMHBwcHBwQHAwYKAwgICggHCAYFCgcDBgYICAYEAwkDCgkJCAMMBQkJBAYHCQcGBggDBwsFBgYKBwUHBggCBwgHBAkDBAoEBwMGBwYHCwYKCAUHCAcECggFBQYHCQcDCwgJBwoEAwQJBwUGBgQGCQUKBAkCCQcHCggLCAQLCgsJCAcECAUIBQwJBQcGCAsLCQwLBQYKCQkHBAoGCAgFCAUGBwsHBwIIBwgLBQULAwUIBggHBwUHBAUGCgQHCQwIBwYIAwUICAYHCQYFCQYMBgYGBggICgUHCQYGCQcIBQYHBAoHAgsEBwYHAwQKBAgLBQUJAwgMCwYGCQcJBggEBQgEAwUGBAkLBwUECAcICgoJCggHBQUIBwIECQkGBAcHCgQFCggEBggJBQUJCQcFBQYICwcGBwsFBwUJBwgGBgYICQsFBAsLBgkIDAwHBwgGBwYKBAQKCAcMBgUGBgQEBwwIBgIHCQcIBgkJCgQGBgcICgkHCAoMCgQHAwcHCgQJBQYJAwMMCwQKCQgGBQUJCQUGCgUHDAkLBgcGBwoKBwoHAwoGCwoGCAMICAgHCQcKBwgICQMJBgQKAgUKBAUKBwsLDAcGAgkHCAUDBwoLCAYJAgoFBwYKCQwHBgUECgkFBggIBwQGBwgHBwQCCwkFBwoGBQIHBwgFBwoEAwoFAwYGCQgHBgQJBgMIBwgMBwUHCggGAwgKCAkFBAwKBQkGCgcLBwQKCQoHAgQECwYHCAsFAgYFBgwJDAcLBwoFCAYJBwYIAwwHDAcICAMICgkFBgcKBwgGBAgKBgUKCwIICQcICAYCBwUEBwcFCAcJCQMFDAkGCAQEBQgLCAgJBwILCAcICAcEDAgJBAkFBQcGBQcGBAcFBQcKBwkEBwwLAwUGBQYGDAkICwYIBQYKBQQLBQkFBwcGBgMKCggKBggICgcLBAcFCAQJAwYHBwQJAwcCBAULBwkLAgUEBgQJBwcGBAcKBgkFCQkLDAkEBwgCCAsIAwcEBgMFCAkHCAQIBAcIBwMCBQoFCgoJBQYJBgQGBAsECQMHBwgGCQcHCQkFBgUJBQkKAwYDCggFAgcFCAwHCAcEBQoKCgYKAwoIBgYJCQQDCAwGCwkEBwsHBQYLCAoFBQgJCAcHAgwLDAUFCAULBggFAggIBwkHBgkJCAsHBAkDBAILCQIJCgQHBggHBgYICgcJCAgIBgoFBQoIBwUGCQUJBgkKBwcFCwUFCAUGAwgJBgsGAgcLBwYKBQcJBgYFCQMHCwMIBwYHCQUHBwgHAwsHCAkIBgkJBggHCwYEBQYHBwgFBAcGCAQKCwYGBAYHCQUGBAcCBAgJCQcGCAQIBQoFBQUGCAQHBwMGBwUIAwMHBQgKBwcDCgMHBwYJBQsJCQUGBgcGAwoJBwMIBgYJBgsJBgsICwcICAYJBwICCAcICQYFBwgEBAwIBAcFCwsFBggDCAUJBwgECgkHCAQKBwcDBwgFBQwCCQoEDAoHBQgIBggHBgIICQgEBQsHCAMHBgcKBQoKCQcGCAgEBQcGBwYFBgcMBwkKCgkIBgsHCAcHCAoHBgkGBgcJCAsFCQkGBgMKBgQHCwcICggJDAYHCAoJBQQICwMICQQHBgYIBwcKCgkGAwQECgUHAwgGAgUDBgYFBwkICAcHDAwKBgcDCAcGCQkJBQcFBwoDBwUGBgwIBgYFCQUEBwQGBQgHBQkHCgMGCgMGBwQMCAYFBQgHBgcCBQsHBwwJBQwIAgkHBwcHAwMGCAUJBQUECwgFBwcIBwYHBAYJCAIEBAoCCQkEBQcIAwkGBAUHDAcJCgYICggFBwULCAQKBwUICwsHCAUHCwYEBwkEBwkCCQYICwcFCQYGCwUKAgoDDAcKBgYGCQoDBgkEBwYKCAsFBgMGCgUHCgYCBQYIBQcHDAQHBAkHBgQHBwUGCwQDBQcLBgwFCQkJAgoKCAoGCAYJCQoIBwcKAwQHBwMFCggJBggMCAYLBwgEBQYKCQkIBgoHAwQIBggJBAsCCQYFBgYDBQgHBgoGBwUKBQUCBgYGCQcICAoFBQcHBQcICQYGBwUEBQoMBgUHCAMKCggGCgQDCAUKBgYLAwgFCgUJBgoJCAULBwYDBAUCCAcLBAQGCgQFBwgIAwgHCAQGCQUJBgcFCQsIBgkJCQQGCAcKCAoHCAsHCwYEBgUJAwYIAwUJCgYHCQkIBQMHCAoGDAUDBgcJBggIBAUDCAYDBgoMBQgGCAYHAwkFCAoICwUFCAMHCgsLCgcGBgYGCAcICggKBgcKBgQICAQKCAQHCQgHCAkKBwYKBwoFCgIHBQgECQUGBwULCAcJBQcGDAcGAgkCBAYKCwQMBggKAgkIBQUGCgQHCQYGBQoIBgYGCAgHBgwEBQkGCQcHCAQHBQUJBwgKCAcFCAUIBggHCAcGBQUJBQYFCAcCCgsHBwcJBgUFCAcICgMMCwgDCAYKCwkHAwkJCgMFCAoECgcECwoGBQcJBgcGBQYHBQwECQMFBgcLCgYGBwgFBwUICAkHBggHBgMFCwYDBwYJBgcICAYGAwYGCAgHCwgJCwYJBgUECwkKBgkEBwkHBwsIBgkFCgkHCQUJBgoFCgcJBgkIBwkKDAsKCAgKBQcLCgYGBwgHCAMICQcKCQMKDAkDCggDCggJBQcFCAIICQcGCgsIBQcFBAoGBwQIAwkHCQYJCQYFCAgKCwYHAwsEBQcICwcGAgsDBQYDBggHAwcFCQUHCAcIBQgKBAcFBQkFCggHCAYMCQMIBwQHAggFCAgMBwcGCAoDBAYICAgDCQsGBgcECAUECAoHBwkICwMLBQQLCAgCBwsJBwkKCQcGCAYFBwkKBAcICwYKBwYEBQgJCgcFCAUFCQcGBgUHAwsHBwwHCQoKCQoICQIJBgwIBQQIBgcFBggGCQgDCQoHCwgHBwkGBAUDBgcJBQYHBAYJCQkHAwgLBAcHBwIHCgoKBggJDAgHAwgHBwUFCAYDCQIGCAcJBgUFCAcLBQcIBAYGBgUHBgkHBwgGBQgGAgoIBwYLCAsGCQYJBgMGAwYHBQQDAgsIBwYECgQGDAUHBwsLBAQGBgMHCQcGDAULBQwICgYGCwcGCQcGDAQICAoIBQUKCAcICQoKBwgHBwYFBwgGCQYGBAQKBgoIBwkIAwQMBwgHCQYHBwMECAoECQYKBQcFBwQHBwoHCAgLBAYGAwsKBwQIAwUFBwkMBgoIBAgFCwkEBwYIBgUHBAsMBQcHBQQIBwcMBAwHCgUGDAoGCwgHDAsIBwkLCQYDCQkCCAQGCwsCCAcGDAsGCgsGCQcDCwMHCgkEBQcKBwgFCQcIBwUHAgQHBwkKAgIGBQUHBgMDCQsICgQHCAgGCwgDBwMICAIFBwQEBwYGCAwICAQICQsJBgYICAgLBQoCCQoGCAcHAwYKBgkGCwkHBQsKCAYIAwcGCAcFBwcLBgQHBgcEAgkJBAcDDAYGCgcKCAYLBAUDAgMGCwcDBgkGCggKBQgICQcDCgUCAgUJBgUJBwoDBwUKCQUICAoHBAsHAwsFDAMLBQsGCAkLCwoHCwcIAwMJBgQHAwcJBwkDCQgHBwgHAwgHBwcICgIDCgwHAwgJCgMGBQoHBwgJCAYDCQYCCAoHBQUKBQUECAYFBgMJCgkHCQkGBgcDBgYIBQkFBwUGCAcGBAYHAggMBAcGBwcIBggCBwkGBgoLCQcCBwoICAUFBgYJDAgECAQKBQcHBAMIBQcICgkHBwcGCgcFBAQHBQsLCQUFBQYLBAcKCAsKBwkGCAgHCggHBwUICQcKBAgECAgDBQkHBwcHCgcKCQYKBAcECgkGBQQHCgUECAQDBwYMAgcEBwUFBgwJCAkMCQQLAggFCQYKCQcJBgQFCwkGCgYLBgYHBgkLBwcGBwUECwUHBgUIBQQDDAgLCwoIBgUCBAoGDAkKAwQMCwMICAUHCQsLBwUFCAUGCAcHBAYFCgkHCwUGBQcGCAUJCgoIBwYHBggGBQcCBAoIBwcFBwcHCAMDDAcFCgoCCAoHCwcIBQgGCgcLAwUJAwYICAoFBgQICgsKBQcJCQkHBAUFBQUHCQwJBQcDAwcFAwoFBwgIBgcGCAcHCQgIAwkJCgsJCQcKBAUGBgoLCAoJBgoICQkFBwgJCQoECAcCBAcKAwoJBgYHBgoKBwYKCAMHAwYHBwYGBwkGDAUHBwcHAwgHCQYJBgYFCwUGCgYFBwgJBgoJBggICQwHCAkGBwsEBAgCBwsMAwQKCQcHCQQEBQYFCAcGDAkICAUEBwcJCgsHBggDBAoICAcFCgoKAwgFBAUGBgkKCwwECwwFCQYHCQUHBwgHBQQFCAgICAYHCAYKBggIBAsHCQcHBwsHBgUFCAkFCAgHCQcGAgkFBgcLBwgEBgYEBgIDCQcFAgcKCAcDCggIDAMGCgQKCQkHCAkEBQUKBAYKCQcIAwUGCAsHCgIIBQkIBwMGBQMFCAgIBgYGBggJCQkFBQIFCAQICAgJCggHBgUHCQgKBQQFCwcECgQDBwgECAgJCAUEBgwGAwIDBQgFCwYHCQoGBwYFBAsJDAkHCQwDBwYDBQMHAgQICAcGBwMEBQwLCQcHBQYGCQcHCgYFBQcKBgsEBQYJBAcCCAQCBAoDBwYIAgoCCgUGBAgGBQgECAsJBgkGAwUJBwYGBgcHAgcLCQkHAgcFCgUGCgcGBgsEBAcIBQkGBwcLBgcHBwcLBQkJBwQECAUHBQYIBQUJBQgFBQYKBggDBAcMCgMFBQoJBQYJAgwFCQkFCQIDCAsEAgcICgMEBAUFCQsKCQoECAgJCQYLCAQKAwcFBwgGBwcLCAYJBAcHAgcHBggIBgIIBQoLCAsFBwQIBAMHDAkIDAkGBwQHBwgHDAYFBwwHCQkICAkGBgIFCgcHBgUFBQkICgcDCAsGCQIHBggIBwUJCQkLCQkLCwgFBwQHCAcFBgYHBQoGBQkGBggGBAoLBwgEBQgLBgcJBwoKCgsFCAgECwYKCAoDBQUICAUFBAgFBQMHBggLCgcFCwgFBwUGCAgDCgYFAgUJCQUDBwQGBgwECQsLCAUKCQwHCgYDAwkHCAsICgQHBgYCCgMJCQYHBwUHCgQJCAUICgcGCQgICAoHCAcDBAQHBQcGCQcJBQcIBQkKAggHBwcDBwcKBwUCBgoGCQYDAgQLBAcGDAoJBwQLBwkKBgUFBgUECAMIBQYFBgQJDAoDBgYKDAcJBQkLBQYGBQYFDAsDCQYHAwUJCQYFDAcHBAoHBwcDBQQIBwYIBAgEBAoFBQcFCwYHAwoHBwYFCgsHCQUMBwgICAQKBwkHCgcICAoHCQgMCAgHBQwIBQkFBwYFBwMHBAUFBAYDCgQJBgoGCQYJBgkGBAwHBggMCQMHCgoJCAMKCQsDBgQIBQcLAwgJAwcFCAUFBwUIBwkKBwcHDAcECAUGCgkIBwgKBwcHAwQDBAIGBQkGBQcLBwcHBgUGBQgICgkHCAgGAwcGDAUFBgQICAcKCgsIBQYGCQUHCQIFBAYLBQsDCwkEBgoHBAYIBQwKCAcMCAoFCwcMCAUICAgCBgwLCggEBgMGBgkDBAMEBwIGCAoICwsCCgYFCAcHCwMLCgcFCAsJCAgKBAcHCAkFBQYECAYHCAoKBQoFAwcICQgFBQYCCgUEBwcHBAULAwQKBQMIBwcHBggEAwQHBgcICwkDBwgIBQsMCgsGCQYHBgwFCgkFBggHCQkKCQQFBAkDBwkIBwQJCAkKCwgLAwkGAwYHCAYIBQQHAwUHBgUDCAQGCgkIBQUEBgULCQoHBAUGCgUIBwQLCggKBAcKBQsIBgUHBwQFDAUHBgMGBQcKCAgKBwcFBwoIBAoKBQIKCwYGCAwKCQgIAwUGBQsHCAkDCAYGCAcCCAcFCAQDCQQGCAYJCQgGCwYJCAoECQYLBQYJBAsLBQYECAUGCQYHCAYICAsHBgkICAgGBgoMCQIGBgcJCQoICQUMBAsKCQQKBgUCBgcKCwYHBwkICgcHBgoIBgUGAwYDCwYICQMFBAcICAQJBwIJCQcEAwMGCgcGBAcHBwoDBAYHCgkCCAsHBwcDBgULCQgICQkHBggKBAgFAwcDBggLCgwJBwkICQkHBQYIBAkCBggMBggFBwUDBQYGAwgKCwUDCAYCCAMIBwUJCgsJAwYJCgIHAgoMAwgEBgcKCAQKBwwEAgkFCwcLCQkGBAQHBwoGBgYGCggHCgMIBwMGDAYHCgUICggHBQgHAwUHCwgHBwkDCAoHCQYFCgwGCAcEBQMIBAkFBQUFBQUJCAcCBwkEBwcCCQcIBwkFCgYIBwkJBwMDCAQFBwkDAwcGDAIHBgkECQQJBQgDBwoEBgsEBgYKCgQGCAYJBwgICwkDBwkHCAsEBwMKBAUHCQcECwgFBAsGCAYGBAoIBwoEBAsHBAoECAcHCQcLCAoDCQgIBgUFBwgEBwIHBAgHDAkECAoFBwcDBwcMBAkMBwYMBwgGCAoECAQFDAYIBwgJBwcLCQUIAwYJBwYIDAcGCgYIBQUJCAgGCQUEBwgEBgsLBQIEBQgHBwoGBQUFBAUEBwUECAQHCAkHAwUKCgYDBAMCDAYEBwsIAwoJCAMIBgoMCwkJCAUIAwoHBwYEBQcLBwkHBQYGCwYGCAMFCAcGCAYHCAgHCAYKCAkHCQcGCQcMCwkDBQUHBAkHCAgHBwMHBwgHBAoICQcLCgYFBgUKCwsGAwcHDAgHCgwIBwcIBwQJBggDBwUGCwoKCAwECAILCAUHBwkEBwMKBQkKBwYIBQYKBgUKBgcKCQcKBggHBAYKBAUEBwMJCAYEBgoGCQYIAgUDDAUMBQgMCQgIBQQHDAcGBwcCBwcEAwwFBAcGBgQECwgMBQgFBwcGCAUEAwcLBAMHBgcHBQQMCQYFCQQGBgkIAwUFCgkIBwUGCgYKCAMGCgIHBwkKBAcFBwcGCAYHBQkIBAgHCQsICwYICgkHBwcECwQHCgUHBwUHCAgHCQkICwkGAgUGDAQGAwkFAwYFBQYFCQkIBQgDCQcHCwQFBwcDCgsKBAwGAwUICQIEBgYHBQUICwgICAwECQcHCwQGCgQHBwQDCQcHCQQGCQYECQkHBAMGCwUKBAQECAcJBQQLCQoECQgIBwsDBwMICAUJBAkJBwwGCAgECAcLCAcEBgQFCgoFBwYIBAcHCAQIBwgIBwYJBgoCBwMJBwcIAgkDBwIKBgoLCQYGBAUJAwQGCQUJCgMIBAMJBAcFCggGBAIJBAYFBwcFCQsKBwkGCQcKBwcGCgcHBQYJBwoMBAYJCQUCCgcFCwkFBggEBwkICQgDBgcJBAwDBwwKBQYMBwwHDAsJCQcDCAgCBQcHAwoIBAsEBAoJCQcGCQQHCwQHBAUCCQMFBwkHBwcGBgYEBwkMBAUGBQgEBAgKBgUGBQIIBAcHBQgGAwMKBQQDCAcCBgQKCAsEBQUHCAcJCgcHBAYJDAUFCwgEAgYHBwsKBwQIBgcICggLBwoFBwsMCggKCwMFCAkFCgkFCQgGBgcLBQYHBwsGBgcLBwMKCwUGBQIGBgYEBgcFCAYLBQYHCQcECAoHBwYKBAMGCAQGBQQIBQUFCQcIBwoJCAMFBQQICwIFCggFBQkIBQkFBgcGBQUJAgoHCAYFCQoMBQUEAgkGCgUJCQgLBwUDBgMHAwsGCAoDBAYKBAMFCgMECAUKCQsCCQgECAcHCAgDBgQMBAgGBwMIDAcCCggICgkFAwYJBwQHCQIDCAwFDAgCBQgDBwUJBAMHCQMMAwYECQMHBgMFBQcECQkKCwUJAwMIBQQFBwQHCggGBwsIAwYCBQkGBwcDCgQCBQMFBAQGBgcKBgYECAgKBgYEBQkDCwQLBwQIBgoHDAMIBwgLBQoECAULBAUHBggKBAgGBwUGDAcKBAcIBgwHBgIIBQgFCwUKCgIHCQcEBAYIBQMJCQoFBgYHBQYHBggKCgIHBQcDAwYFAgYFBwUFCwgFBwcCCQUECAcHBwwCBAcJCQkJBAQJBAoFBwcEBwsJBwQECQIIBAUFCAcDBAgKCQYGDAQGBAQJAggHBggHCQoKBwUHBwwGBwcJBgwHAgcKBwkKCAoIBgoGDAYGCQoHAwUHBwgEBAYMBAwKBgcKCQwJCAgHCQIFBwIICgUHBwUHBwoFCggJAgoIBwYHBwQHBgkJBQUECgQMCgYEBgcFBgUHBgsKCQkEBQYJAwwGBwcHCwYLCgMKCgUKBgQFCgQGCQYEBwsHBQQGAgYEBggHBgUICQIJCQQIBwsGDAQDBwcHBwQIBgUJAwwHCggCCQcCAwkGBQgFDAYDBgcLCAULBAkFBQUKBQYFBwsKDAUIBwULBAMKCAcEBQoKCgQCBwMCBAoFCAgHBgQJCgcCBggJBgUICQMJCgkFAwkHCAkGBQUICAcFCAcLCgUGCAIHBAgGBAcJBQQICgMGCAsKAwgJBgYHBgUHCAgGCQUHBQoGAgcHCwQFBAcLBgUIBggJBwUGCggGBAIHAwkICQYEBwMDAwcKBAgFBwgKBgoIBwcGAwIJBAYGCAMECQQCBwYDBQYECAgIBwYDAwMCBwsFBwoICQULBwgMCAYHBwkCCgoIBgkMDAUIAgUDBgUIBwUCBwQIAwcJBgMGCAcGCwkHBwsHDAgGBQUIBAkKCggIBwUECgYIBgUIBgMGBAcIBQkGBAYEBwcFCwkGBwoEBQgJBgYHCwQGBAcICQsHBgcEBgoHBwcEBAsFAwgHBQMHBwoJBwsDBQcGBwYKCQwHBgkGCAUFCgMJAwcHCgwFBwcJBQkHCwYEBgUDCgcGBQYKCAMGAgkCBQUMBgUIBAsFCggDCQkKBgcICgoGCAMGBQcKCQYHAwgIBgcEAggHBwUICgUHCAgIAgYJBwIHBQUFBgYHCAUGDAYFBwkGCQkHBAoJCgkEDAgCBQIEBQQHBwUHBAQGCQYIBAUHBgMJBgUFBQgLCQYHBAgGBgIGBwcFCwQGCggKBwYJAwgGBgcFCQQHDAUHAwUHBgsGCAoICQgFBggKCAIEBgcFCQMGBAcGBgcJDAcDBAYLCQgDCQQHCQwFCAYEBgMHBwcEBwYEBwYHBwgIBwcGBgYGBwsIBQQHCAUGCAIIAgcDCQsFBgcJBwgIBgYFCgMFBwgJCAYCBQgJBAkHBQQFCQkIBAUICgkEBQQKDAkGCAcICAsIBwQJBAoHBAQJBwUHCQoDBgYICwMIBggJBQgFBQwFBAoKAwUGBgYIBwkHBwcFCAgLCQcFCQUJAwgCCQMKCggDBAUHBQYDCQYIBgcHCQcHBwUFCQcECAgIBwUIBAYKBQsKBgwKCQgMBAcHCQsDAwYGBQcFCAoIBwcGCQIKCgkIBwgLBwoKBQYGCAoICAcHBwQHAwQGCAoMBwUEBwcJBgMJCAYEBQkDBAUHAgcHBgYGAwQFCwoHCAgJBwgGCwwFCAkHBAcECQgECgcIBwMIBwoFBwMMAwMECQcEBQQHBggJCgMIAwkHAwUHDAcFBgkEBQUDBgcLCwgKAwUGCAYFBgIHBQUGBQoJBwgKBQoKCAcCCAYIBwUGCgkJBgYGBgwEBAsICAcFBgMIBQUIBQcGBwkGCAUJCgQGBwoICAcHBwkHBgMIBgULCAUFBQgICQYFCQoMCQcIBAUHAwQFBggGCAUDCwgHBwUIBwMKBAkIBwUFBwgKBgMJCgMIBgsECwsHCQUIBwYJCQcDBggHBggHCAoEBQcLAwQJDAkLCQYKCAcGCwYEAwgIBQYGBgoICggLBwcGBwcIBwwGCQoECAUHBwgEBgUJBAgEBwQGBwgFCwcDBgIDCgYJCAQKBwgGBgkHBAgGBwoHBwgIBQUICwQGCAgJDAwIBwkMBwUGBwYJBwkGCQcHCQoEDAwIBwcHCAgGBwkIBAsDAwIGCAkJBgQECAkLCAkICQYDCQQJCAcDCAsICAcHBwoHBgoHBwILBAIECQUFAwUGCAoHCAgGCQkECgkHBQoICAcLBQYJBwQJCQoFBwQDBgYGBwUFCAYKCAgCAwgKCQUHCQkDCwUHCAcHCAkGBggLCQYFCgcGBAgDCAcGBAYHBQQGBgQKCAQKAgcGAgcGBgUHBQYHBwUJBAgJCgQIBgQIBwcKBAUECgcHCQUEBwUGBgUICAYHBwoICggEAwULCAgJCwcFCQkHBAUJBgYEBAkGBAYKCQUCCAgCCQsGBggHBwgCBwUHCwcHBgcCBAQGBwkFAwcHCQcJBQULBwoJBgsJCAcFCwcJCAgHBwkJBAkFBQwJCAYKBgcECAoKBggFCQMECAULBQUFBwcICQYEBQsKBwYIBAMGBgoIDAoICAUFCQMIBAgICgwHCgoHBgYHBgkIBwoGCQMHCAcHBgoIAwcJBwcGCgYJCgcKBAQDCQkHBgUIDAwICQgCDAUFBQgKDAQEAwUICQQEBwoGCQoDBwkGCAsGBwYEBgsGCwcCBQUGBwMIAwYHBgwFBgcHCgkHAwoKBQoIBQgHBAYECAwGCQcKBwYGCQwDAgUJBwkGBwwJBgcJCQgJCQsCBAcGCQcFAwgLBgMGBAYGCwUGBgcGCwMCBgUEBwcEAwkHBwgKCQcIAgUDDAcIAwsGCAIGCAkKCQgJBgQKCAkJCQMHBQcFCQkIBAcLCQUCBAcFCgcIBgIEBwYEBwYKBQoGCQcEBwkIBAkKCAcFBggHCQYCBgIJAwcLCAcHCgUKCAYFCQgEBwYJCQcGCAcHAwkHBwUKBggDBAgHDAYLBgkHCgMJBwcDBwcFBAUDCgoICAcJBQkGBAsCCQgKBAQHAgYGDAoJBwUJCAsJCAcHBQYHCAUGBAYGBwwHBAoGBQUIBAoKAwkHCwMJDAkHBgkDCAYIBAgHCQgDCwoHCQgCCwgEBQcEBQMKBQYHBQgHCwUIBAIIBQoKBwkLAwsHCAcDCgMHBgsHBQUKBgcCCwwIBwUHBgQFCgkJCAoFCgkJAgoEBQkECgwHBwgLCAYLBQcJBwgJBwcICAkKBwsHBgYFCQcFBggFBwcFBwQEDAgLCQcDCQsKBwYJBwkIAwMEBwgDBwgIAggGBQYHBQYCBgoIBAgHBwoMCAsFCAgKBQIHBAUDCAgICQcHBwkGCQUECgsIBwcDAwgKBQgHBwkIBgIHBwUFCQcGCQcGAgcGBAsGAwgJAwkICAgHCgMGBwgIBwcJDAgECAcHCwcHBwcJBggIBAoJBgYLCwUJBgkJCQYGCAMLCAIHBAgIBwYJCAsJBQoHCwsEBgcHCQMEBgcFBAcDCQYEBQgICwkICgsKBgYDBwYGCgsHCgQECAYKBggMBwMHBwoIBwkJBQIGBgULCwkGCQYIAwYIBgcGCAMIBQgFCwYHCQwIBwcFBAgHBwYEBwcFAwsLBQYIAwQKBgcEBwkECQUJBwgECAkGCwgICAUIBgYICQcMBwcKDAUEBwYECAwGCAYFBAUGCQYJBgcMCgUKCgoKBgUHBwQICAUIBggGCAgFCgYHBgwJAwUMBgkLBgUIBAgCBgcGCQcGCggHBAIJBgYHAwgKCAcGBQYJAgMGBwUIBQkHBAgJBwYIBgYKCAQEBgUHBwcHCAkCAwsDBQMJBAYGCAcICwIJBwMLCQUHDAYICAcIBQkHCwQLBQYGCQYEBwQFCAQFAwQIDAMCBAUFCQcJCAULBgMJBgoCBwYLCAMKBgcFCQgFBAgIBwYDBgoEBAcHCAcIBAoJBAUCAgcHCgsEBwULAgkHBwYGBAgIBwcDAgoLAwgJBQYLCAUFBgsIBQcGBAkHBwQJCQcGBAgFAgkJBwgDBgkJDAUIBQkEBQUEAwgMCQgFCQIIBgUHBQkLCAUGBwkCCgcJAwcHBQoKBwsGCAgFCAcFCgUFBAkHCQYHCwcHCwcHBwUJCgMIBwcKBggJCwMHBAoICwcIBQQIBQUGBQYHCAgIBggGBAwLCAQDBAcLBwgDCQQGCQUHBgoDBgkECQUDBQcHBQMFBQQHBQcKBQQJAgUGBAULBwcICAYFBwUICwgGAwoHBgMHBAoHBgcJCAYDBwUDBgYMDAoEAgoCBwgJBggIBgcFAwkHBgoLCgMIBgUMCwcKCAcGCQUHCAoHCAcIBggDAwcKBQsHBAgEBAYKCgMJCAkFCgcLBQoJBggFCQkDCgMIAwYKCgkLCQcIBQcKCgcHBwUHCQgFAgkGBggGAwcECAcHCwUHCAcGCAcFCQYEBQoGBAgKBQcFBgcFBgkJCQgIDAoHBgUDCQgGDAIICwQGCAQICwYHCQkGBgUFBggGCwcHBQgDAwUGAwQEBwcGBgIFBQoLCAcLCAsECgcGCQYJDAQKBwkFCgQJBQQHBgMDCAQECAoHAggGCAMCCAUICgcCCAUJCwYGBgsEBQMEAwcIBgYKCgkJCQcGBwQHCAsJCgcECQULBAwGAwgGBAsKCQYEBgoHAwcGBwYECQUFBwICBgoHCAMJBgoGCwgCCAMDCQYDCAoJCggJBgsGCQcEBQcHBwcHCQsKAgYDCAUEBwYHBQgGCwQDBgkGCwcGBAgHBgQGCAkCBAoDBAoKBAQIBwQHBQIFBgYGBQUFBwUGBwYGBAcIBQkHCQUFBAMGBwgFCAQICAQLBAgHAwcMBwUGBgYGBggJBwgJCAUGCQYJCgQJAwcHCgcKBQoIBwUGCggHBwIFBQQFBwwFBgMJCQUFBwcFBAoGBAcJCQcGCQQGBgQHBQoFBggEBgoCBAsFCAgGBQcCBQsGCQMJBgcMBAUECgoFCQUFCAUFCQYFBgoGBgoJBQgIBQQHAwwHAwkCCgsCBAoKBQQDCgUGCQoKBwMICAgMBQYFCAULBAgJBgkHBQgHCAcFCQgIDAYFCAgLAgYICAIJBgYEBwUKCwYMBwgEBwgCAgcIBQQMBAoJCQQGCAkJCQsFCwcJCQYCBQUIBQkIBwQHDAsDDAcHAwQEBgUHCgsGCwUHCQgDCQYIBgYJBAgEBgUJBwYHAwYHBgQIAwQGCQcEBQYEBgMICwcFBgcGCAsGCgcLCgoMCAwDBggGCwUCBwYFBgULBgoFBQwGBwkFCAQJCgYIDAsJCAkGBAkECgMEBAkHCAgLBQgFBgoHCwoMAwcKBQcLBQYFBggJCgoIBwkHCAkJCQoFBgUJCAgGBwUFBQcHBwcHBAkEAgUJBQgIBwoFCgkJBQgJAwYHBQgHBQYJAwQHBgQMBwcJAwkHBQMJCQgHCQUHBgkECAIKBAcHBQcKBgkGBgkFCQUFBAkFBQcICAQDCggJBgQGBwoMCwUIBwsFBwoICwkFBgkGCgYFBQcDCQUGAwkKBQcJBAcLAgUHCAkHBwgKCAYEBAcFAwoICQkDCgwLBAYCCQQICgYICwgIBwkHBgUHBwYMAwgJCAsKCQgLBwcIDAQHDAYKCwcJBAUIBAcDBAcJCQcFCwgJCgYKBwQMBwYIBwYFBAMJCAYFBQcGBgsJBAcFBggCAwYLCAgHBwYHCQUJBwgICQkGBwcIAwUFDAgGCAoHBgcKCQYHBwoHBgsGCggIAgYGBQYGCAQJBgkHBAUECQwJCAoHBwgHBgwHBQoLCQsKCQQKCAcDCwYKBAYIBwcGCAULBwoKBgwHCQcHBgMKCQgICQsGBgsKCQgIBgYIAwIICgkHBAYHCAIKCwwDCAQLAgYECQQHBwkJBwcGBgYHBggKBwsGCQoCCwgGBQMKBQoGBQYICAIGAgwECggECggHAgYFAwMKAgsGDAgKBwcHAwQFCQgMBgkGBwYHBQcJCAUJBAUKCQUIBwkICggGAwwDCAsHBwYJBAkJBQQGAwwMCgYLBgMEBgcIAwcICAUMCgIFBAcHBgoLBQgFBgUHBwsGBwgFAggGBQkMBQYFBwgLCAUIBAQLCQwJCAsMAgYIBgoJCQcFBwkICgUGCwoFBgUHCQkHBwgLBAQCCAYCBwgGCQYEAwkFBgYDCgYEBQgMCgUFCAsMAgoKBwoJCQcJCgcJCQUGBgUFCwQKCAYFBwYHCQcGBwUICwYHCQkHAwIECwsHBwUCBQwFAwQKCQYHDAwIBQcJBwIDBQcLBwkGBAcGCwgHBQsHBgQJBgYIBggKCQgFAgcHBgsDCQkEAwgDBQUJBAgJBQgJBAUGAwgEBAQHCgULCAYJCAYGBgYHCAgKBwQHAwMECQgFDAkHBgcGBwoKBgYGCgkEAggGBAkFCwUDCwkKCwwIBwUHBwoIBggJCggCCAkDBAQICQcJBgkIBQgMBAQGCwgFBAgGCgsJBwQFCgUICAgKCAcHCwkEBwULBQgKBwgHBAkLBwcICQUKAgkDBAcGBQoICwcFCgkHCQcCAwYHBwYECQYFCQsIBQgGCQwHBQgJBwUIAwsDCQkIBwkKBQIHCwkHCwoDBAgKBAQGCgcHBQQCBQoFCgkLBAULCwcLCQgFCAgGBwkKBQkKBwkCBQgGBgoDCggFCgcJBgMHCgcFDAgGCwcMCQQGAwYIBAwKBwoIBQcDAggHCAUIBwgECgIEBAIFAwoMBQcFBwkICQUIBgQMCAUECgMFBwMHBgkKBgkCAgcJBQoDBAcFBQUGBwcECAUEBAoJCgwECAQEBQUFAgYHBwcEBAMGBQgHCQkEDAcHCwkGCAIMBAYJCQULCgIIBgYHBgQICAkJAgsCBwUHBwcDCAcHCQcGCAMEBQkKBAcGBQkHBAUHAwkEBAoICwYEBwcCCgYDBQsFCQkCBwQFBwcKBgoHDAkGCQwJCAQCBwgGCAULCAsKCQoGBQYICAkCDAYJAwkFBwUHAwQEDAoJBwMHBgoDBQQFCAcFBwgHBQcCBwgJCQkKBQcJCAYIBQkHBwYJBAUKBAcCCwQCCgQLBAkJBgYIAgoMBAYEBwUEBwkFBgcGCAUGBwcJBwcIBwQHBgUHCAcHBgQFAwgJBwIHCQMIAwUJCAQGCgYHBAUKBAMLBAgGCAMJBgIHCAgECAkJCgcKCQYJBAoFCAYGCwkMCwgGCAcECgYIBwoDCwoHBwYLAggHAggLCQkGCQUKCgkKDAgGCAcIBQoIDAcGBQsHAwQFCQgFCQoHCgQFCwUHBgUJCwQFCAcECQMIBgkJBAQGBQgGAwUEBggFCwgJCAYJCQgGBwkJAwYECAUJBgUHCwQMBwgLCQsHBwkFCQYHBQYHDAgDCAQDBwgGCwgIBgUKBgYCBQUMBwcHCgkLCAkLAwkFBAQHBwcGCAgHBgkCCwcJBgMKCgcKBwcICAgFBQcLBQMIBQQJDAMIBgoHCgMHCwgFBwcDCgwJBgYHBgMKBQsGBAcFCQYECAMJDAkFCQQEBwsGBgkICAgIBQsHAgcKAgcMBQgLBggLBwsHCAkECwYKCQcKBgYIBQgHBggFBQYHDAoGBQUIDAgFCQYGBQYIBQgLCQcFDAgEDAgHCQYDCQcGBAYJBAYEBwcHBwQICAQMBQUJBQkGBwYJCQYJBQQHBAoFCQUCBAYFBQYHCwQGBgcICQoJCAcFBwQEBwsEBAYKBwMHCQYLBwgHBwMKAwsIAwUDCwgKCAcHCAkKBAQGBgIJBAcGBgcGCAYJCQwMAwgECAgICQcICQgHBAwHCgoHDAYHCwgKBQkHBgcFCQgHBwcIBgcJCQUFCAQJBAMICAcGBggFCwUGBAgLBgcFCwcFCggFCQQMCwoHCQYGAgsICQoICQYFBQsICQsGCggGCAYHBwYHCggICwcIBQgCBAoGCQoKCwUHCQgHCAsJCAgFCgcGBAQLBgIIBQgKBQwDAgMGCQoJCAUIBgkFBwgICAUGCQUCBgoJBQkEBAkICQMJBQQECQcIAwUICgcMCAUKBgsHBQoIAgQFCwcGDAsJAgkGBQoHBgcFCAwKAgcHBQYHCgcDCgUJCAcHBgcIBwgFCAUICQsICgYGCQUEBwcEBQYFCAMHCAYCCQYFBgYIBAYIBgUIBwcJBgcJBAcHCAMGCQgMCgoHBgIHBgYIBAkFCQoECwcLCAMIBwYJBgkJBQkJBAUIBQcJBwYKBAMKCgUHBAcHBAcGBQYGCwQLBwcMCgkJBwUDAwYJBwYHCwkGCgYHCAUICwcICAYLBggHBgoKBwQEDAQCBgMHBwYECQcJCgMKBgwFBwMIBAsJBQwDCAIHCwULBgoIAwgGCAsGAwkHBwMHAwMHCwkECgQIAwsKBAQJCAgKAwgFBAcKBgYHCgYJBQgJCAYGBgYFBAkGBgMFCQgKBQoHBggFBwQHCgIKBQgHCAYICQwGBQoECgQGBAUECAQHCwwKCQUICAQFBwcLBgsEDAQHAwQDBgkDBQoHCAoIBgQCCAgIBgsHBwYHBwoKBwwLCAsHBAcCCQcFBwkJDAcDBgcKDAcFBQwHBAQJBgQLCgkCCAMFAwMFBAoIAwkFCAsEBwQCCgYDCAgIBQQEBgsKBAgIBgcFCQYLBwcDCAkDBgcHCgUFDAgGBwUECAsEBwgCCAcGBggJAwUHBgULAwoGCwcKCgoEBQcFBgcHCgYHBwsGCgoGBAMIBwgLCwYHBAgDBAcGAwsGBwMJBgcJBwcJCAoEBAkFCAQIBwUKBQcHBwUEBAYFAgQIBwgLCAcICAkHBgoHCgMHBQYIBAQECQgHCQMKAgMJBQgJCQsGBQkIAgYJCAYHAwQECAkMCQcFBgQHCQYHBwcIBwUGCggICQIIBwgMBgoIBwgIBAoHAwcLCAgEBwcHCQgFCQgMBgIGBwUKBwcGCgYICAYGBQsHCAYMCQQGCAcMBgoFBQcKBgYGBgQEAwkIBgUEBgYICgcFAwYMBAMHBwIFBwMGBgcEBwIFBgoFCAgHBAcLCAoICAMFCAsDBwcGCAIECwcCBAYDCwkFBAUGBAUJAwoFBwUHBgUECAkFBAgCCAkICAYFCgsFCQkGBAoHBAcFCAMCBwQICQMHCQcIBgsMBAMJAwcKCQsHCggHCQkHBwYFCQULCgUEBwYFCQoGBQUEBAsKCAgKBgsGBgQGBAgJBgsDCQkDBAgMAwYGCAoDCQUHBQYGBwMICAoHCQkJBwMEAgYJBQcJBgQGBwgCBAcFCwYHDAgHBQUDCAMKDAoIBwcDBQoECAgIBQgLCQUJBQkKCAcCCQUICAkFBwkLBwoJCAUCBwcIBgYHBggDBwwKBAoHCQgFCAoJCQsEBggLBQUIBwYFCwcHBwkJCAUKBwcEBQQICAIIBQcHBQgCAwcJBgUJCwkHBwUIBwcGBgkFCAsGCQQFAgkGBQgHBAoMBQgLBQcIDAgHBQUJBwcICgcLAwgHBgUDCAsKCgYHCQkGCQoHBwgJBwQIBAkFCAsLCAgEBwkKBggHBQoMCQsICQQGCgkGBQcHBwUGBwkHBwcJBgoGAwoHCgkKBAgKCAYHBwoEDAoJAgYEDAsHBgYGBgcJCwUGCAsMBgUCCQcHCgYHCQwDBgsCBQQFBwkDCgwJAwgLBAsECQYJAwcKCAQHBwgLBwcCBgcKAwIICAkJAgcHBwkHDAULCAcFCwgFCwcHBQYGBwoCBwYIBgkJBQUGCgQICAUGBgUGDAIHBQkHCgcGAwoJBQcJCAgGAwgIBwgDBgMCCAwFBwUFCwMHCgcGCQkIDAgJCwoHAgcJCAcICQUHBwgJBAcEBAcJCQUGCwYJBwoICAkHCQgHBwQDBAkJAwgHBwYCCgoECAgECAYFAwoIBAULAwYHCQsDCAQEBQUGCQgEBgcIDAYLBQwCBAcECAYGBwMDAgcFBwcHCgQHAwgGCAQKCAgICgkJBgYIBgsGBAgGCgoFBwoIBQQGBAQLBwkFBQcFBwoFCgwIBwUICwkCCAYICwoHBwYJCAkGBwUFAwUHCwYJCQYICAkGBQwGBAcDBwcJCAYCAwgGAwkHCAYMBwkFCwYIBgYKCAMFAwcKBwUGCAgJCggDCQQICAsGBQcHBAcCBwQLCAgJBwgCAwQLCQsEBgwHDAUIBwoHBwYECAcICgIFBAoFBwsFBgoGDAQICQgDBQcICgoGBgMICwMHAwkHAgILBQYFCQoKAggICwcHBwYEBgsKCQsJCwYIBgkECQUIBwgGBwYCCgUHCQUEBwkGBwYLCgcFBAUJBgYCBwYKBgkDCAgEBQUHBwUDBggIBgcJBgQGCgMHCwoFBAgICQoJCAcHAwcJAwQFBwsHBAkHCAQJCQoECAYKCQcGBQQECgQFBgQGCAYJBwsHCAYLAwwJCQQECAkICgYHBgULBwcJBAMHCQgJBggGCQcJBQMGCQwGCQcHBQQKCQYIBQgJCAgMBwYJCggIBwoDBQUFCwsHCQoHCQQICQgHBQwJCQQHBQQJBgoJCwMGDAQEBQUJBgkEBgcFBggEBgYIBQgLCggGCAcHAgcMCQQEBQIHCQgLAwQHCwkHCgcKCgcIBgsDBQoLBgYHCAUFCAoKBQIICwsLCAQJBAgKCQgECgUFCQgDBwsECgMICQoJBgoFBgQICggLBQkFBAUEBwMKBwgICAYFCQcKBgcJBwwHBgcDCgYGBAMFBwkKCQkECQoHBQMMDAYLBQUDBgcDCwYHCQUGBwkGBAcICwgCCQkCBgsGCQUICQUJAgkEBAcHBAYECAcGBAYGBgcKBwsDBAoGBAcIDAQKCgoJBQYLAwkLCwsHBAYJCAcJCgwHBQoICAYECgYFCAUKBwgJCQcHCgYICgcCBQkFDAcIBAYJCAUFBgYKBgoJAgYKBgcKBgYGCAoFCAoGBAYGCAsGCgoGBwoMCQsGBAMIBwYIBwwJCggLBwMGCgkHCQoKCAoDBwMECgYMCAUFDAQFCAsJBwgJBwsEAggKCQYLCgcFAwkGCAsIBgcICgkFBwgECAoMBQUEAwcICQUIBwQEAgYDCAoJBwcICAIKCgcGAwkDCAgGCQkECAYJCgkGCAkGCAcICAcFBwUFCgkDBQYCBQgLBAMICAMIBAoHAgUFBggKCAYHBwYEBgkHCQgJCgcJBwoCCAoCBgYGCQMGCwoDBwcGBwkLCQcGCQUGBQoJAwkGCQUGCAQGCAIEBggHCQcMCQcHCgQHCAYHCQQHBgMJCAYHCgcJAwYGBwcGDAYIBgkKCwkIAgsFCwgFBwgGBgYIAwcFBAgHCAoDBgYGBgUICQsJCQgEAgkLBAgFBAYHBQgIBAYHBggHBAcGAwkGBwgKBwYJBQMIBQYFCAcJCAgHBgULDAoGBggJCAgHBQYECQcJAwcICQkIDAULBwQGBgkHDAYIDAgEBgsKBAYEBQQFBAUEBgUHCQgIBwgGBwgGCwQIBQcGCAkJCwsGBgsKBgUDBwsHCgkGAwYLCgcGAwYGBQIECwoJBQgGCAYHCAcIBwsDAwgFCAYLBwgECQYKCAcDBwwGBgYICggEAwoGBgQCBgoFBQcICgMIBgcGBwIIBQkFCgUKBwoCBwcHBgQECgMHBgQEDAgDAwYJBwkDBwUGCAkIBAcGCAgIBwsFCAUJBAcHCgcIBQkGBgYDBwkHCQUICwcGBgQHBgYFBQYIBgMEBQcHCQIIBgcHBgwFCQcEAwULBgYEBAQHBwsMBAcEBgcLCwUDCAIKBgcJBAsKBQYHDAcKCgQGBwcIBwgIBgoEBAkDCQkHBwkIDAUDBAcICgkJBQcHCgkJBwQFCAYFCgkFBgYGBwQICggICAcKBwUCBwYDBwYGBwYFAwYICgcFBwoGCgkLAwkLBwcHBwUJBAcHCQoHBggFCAcDCgYHAgUJBQoHBwMHBwkGCQwKBwQJBQoGDAsFCggFBgUIAgYIBQcGBgcIBwIFAwkICgMHBAkECAYDCAsHCAwFBQQFCQYECgcEAwQEBgkICQQHCAkGBwoIAwcIBwIFBwQCBgcJBwkICAcGCgcJBQoFAgQHBQgGBAcGBAkIBwcFCAwKCQcJCwYJCgYKCwoHCQkKBwkKBQgDBgUCBQQGBggFBgMFBgMICQoKCwkMBwgGBwQJAgYGBgwHBAcHCgYKBgYICQsHBwMEBgUICgoJCgwHBgcKBwgDBAMJCgQHBAQDBAwHCAUFBwQIBAMIBgcIBQQDBwkFBggICAsJBggJBQcGBgQGCAkECQQHAgkJBQcDBAgJBwgIBwgGCwgCBQoICAcKBggLCgcCAgcFCQsGBwMLBQsHAwMGCgQDBAUFCAYHCAoICAUKCQUJCgcKBgYFCwMHBwcGCgIFBwoMBAkICAcHCQYKBwQEDAMECAQICAkHCAgGBgwJBgcHCQkGAwcGCQcGCAgHCAcIDAcHAwMLBAcHBAYGCAoLCgYFBAUHCgsHBAoIBQQGBgcGBAkKBgoGBwQEAwsGCQcGBQQIBAYIBwYFBQYHBQkJBgQEAgcHCAsJCQoHBQYICQsFCAUIBwMGBQQHCAoDCAUGBQkDDAYJAwgHBgQHBgUGCQgIBwIDCwkHCgcHCwYDCQUICQsHBwgECAcGBwgFAgcEBAcDBwYIBwYJBQwFCwgKCAcHBQkLBwcFAgUCAgcCBwYKBAUJBAMGBQoJBwsHBgMIBgQKBgkEBAIJBgcIAwwKBgcJBwQKCgIKBwgIAwkHCQwHBAUICAsEBwkICAUDBwgKBgULBgcHBgcIAwYKBgIFCQgICAsIBAYIBAsDCAoCBwYJBgQFCQUJBwgFCAcGCAkLBwoEBgUIBwcJBgkIBggHBgcJCAgCCgcGAwwCCQcLBwYJCQoKAwYHBwUHBgYKBggIBwYIAgkCBgUFCgYECgoEBwUJBQcICgoJBwoCAgcCBggIBwQFCAgGBAUJBggCAwkIBwgKBQcECAoHCAUGCwkECgwGBgsFCggIAwkJBAIECAgKBwQCCQcICgQGBwcGAwYIBAwIBAgHBgQGCQoCAwgIBAQJBAcKBwgFBQcJAggIBAcICAYLBwsLCAQLDAcEBAoIBgoGCwYFBAYDBggFBAwFCAUFBQkDCgQLCAYICAcDCAcMBgYLBwkGBQYEBgQMBwgHCAoEBAkGBAUIBQYHCQUFBwwHCAQFCgYJBQsECgUIDAkKBgYEBQgECgYKCAUGCAgLBAkGBwIDBAsIBAgECAYHAwUEBwMKBAYHAwQGBAUFBwoHCwcDBgUMBQcJAgQECQkMCQcIBwoLAwwFCAkHAgUJBwQLBQoIAwkHCwgIDAgICQwGCgoFBQcGCAQGCwoEBAoICAcGCQYJBggLBQUFCAkGBgUDBwUKCAUEBAkCCQcECAcJCAcDCgUKBQYIBgwLAwkLBwkMBwgIBwIIBgIECwkEBAkFCgQJBgYECAUHCQgJDAoHCwQKAwMIBwYEAgMIBwkJCQQHDAcKBgQIBwMICwsGAwUFCAsHCAMFCQgGBgQFCwgIBQQGBAYICQkFAgIECwkHBQcFDAYECwUICAMHCgIHBQUHBQYGBwYJCQoHBwgGAwYCCwkLCAsMBwYGCQMICQUHBQUGBQkJBQcFCQcGCAgMCwUFBAUJCQcDBQUFCAkECQUGCQgJBQIEBwcHCwoHCAYHCAkHBQgJCAcIBwQEBwgECQUIBwUJBQUKCQULBwYECAkEBAUFBgcGCQQKCQUFCQMLBwgJBwgEBQcIBwsJBAUDCQcCBQcEBQUHBgQHBQkIAggDCAYJCgkICggIBgUGCAYHBwcGAwgJCwUGCQgHCwwHBwkJCQgIBQMHBwcHDAcGCwcGBAMKCQcGBwYGCwQFBAsFBQYGBQgJCgkECwgGAwYKBQcEBwMGBwgDCggEBggGCwYGAwUHCQQKBwwICAQJCgYIBAgIBggEBAQHBQUECQIHCgcGCAcCBQcIBwcECQkJCgYIBAYGBQoCCAYIBwQDBAkIBQsFBwkIBQsHBwgHBQQKAggEBwkJBAYIBwsHBwcHBgcFCQIHCQkFBAYLBwsHAgYFCQUGCQkFBAQHBwYDCAwIBwYHCAgHCQoJCAkECgMFCAYHBQsHBwQHCQgGBAoEAgkFBwgIAwMGCAYGBwoKAwgHCwYDCgcGBgoGBQYGBgQHBwgCCAcKBAkHBwgHAwwJCgUFCQkJCwcHCwkJBwgICAYDCAYICQgKCQMHBQoHBQIKBwgFDAcGCQgJCQYJBwsHBgsCBgkHCQgJBgMLBQkGAwgGCAoHAwMLBQoGAgwICAYFCAUJDAgDBAwFCQQCCwQFCQYIAwcIBQkGBAYHBwgLCAgGCgsJBQgIBwcJBwYHBgIKAwgEBQgFBgoLCgIEBwcFDAMEBggHCQUIBwMLCgYGCQYHCgUFCQkGBwUFCAUHBgkGBgYFCgkFBQgHCAkICgUIBQQFBgkICwkGBgoHCAkGBwgJBgMGAwsICAgFBAkICQgGBAgGBwMGBAgGBAYHBwcIBgoHBwgHBAkGBwYHCAYFBggGBgQHCwMGAwYGBgYEBwcGAwcFCAQICwoKBAcFBQoMBwgFCAYDBgUDCQUEBAoJCwcECgoKCQoHCgQIBQUGBQYFBAoGCAkICAMHBgkEBQkJBwkJBwsEBAUJCQQECAsGCAYGBwYJCggHBwYFBQUDAgYHBwgIBAUGCQYLCggGCgYJBAoGCgYKCwULBQkECAcIBgcIDAcMCgcJBwoICAYLBgULCAsJBwgKBwYHCAQJBgkIBQkHBwYJBwUKBwcDCAMIBwUKBAMHBQYJDAYFCgYLCQYIBgQGBQYFBwYJBgcCBQUDCAoGCAkGBQYGCgMJCgcLBggDCAgJBwkIBQMJAwQKCQwLBwYJBgIKBwoHCgkJBwUJBwkFAwIICAYGCwgKBwwHBgcGCgMKCQQHBAoCCwgGBAcKCgsJCQYKBgcCCgUKCQQFBQgHBQoCCAgJBwQJBAYICAYKBwQFBgUIDAsHDAUICAUFBQsJBgQJBAsKBQYLBwcFBQQHCQMLBAsECAkMCQgGAgUKBAcKCAoKBAcICwkMBwUGBgkFCAkKCAcIBgsFBgkEAgQHBAULBwcEBgUGBgwCBQoLBwgEBggIBwoCBwcFBwcHBgULBQkCBggLBgQICQQFBAQMCQUHAgcHCwQICAwIBAMFBgkHBAUHBQUHCAcLCgULCQYHBwUICAYDCAUHCwcHBAcICAoJAwkJBgYFCAkJBwULCwgHAgYHCQkIBQsHCgwHBwYHBwgHBwYHBgUICgoJBQYDCAgICwUICggJAwcEBwkICQkKAgUFDAkFCAcHCQgIBQYDBQgMAwYHBwcHBgIKBwoDCAYKCAYHBgwIBQoLCQcFBQcJBwgLDAUCCgQIBwkGBAcHCgMDBgcGBwcEBgkGBQgJBAgHCAYHCQYGBgUJAgQJBwUHCQIJCwkGBwgFCgcECQUJCQkJCwQJBgUHBwsKCwoFCwUGBwgJBgYGBgkFCwkICAYCCAcDCAMHCQMKBwgJBwUFBQYKBwkJBgsLCQkGCAcGBgUMCgoFCAsMBQkJBwgLCwgICQcDBwcLCgsKCAsGBgUHBwkIBAcDCAYHCAYKBQkHAgIGBgYDCwQKCwgJBwwKBgYKBAcFCgMJBwgHCQkLBwYGBQgFCQUHBAgHBgoLCAkGCAYHBQkJBAMFCAwICAcJCgkICQkGCAwLCwYLBgcGCwcJDAYJBwYECgUMBQcKBwYICgcECAQJAwkFBgsHCgcGBQUMCAgJBwQFCwMLCAMIBgQICAUJBQgJBgkFAwUICQgDBQYHBQYGBAQJBwMECAUJDAIKBAsGCgkJBgQDBAkDCgcGCAkGBQQKCAQGCAQGDAIHBAsFBgMFBgUIBgUIBgkDBgcGCgIHBgkHAgMHCgoHBwYDBgUKCAcKAgQDCAYGDAcLBAgCCwsFBQkFBwIKCQgMBQcJCgoJBAoEBAYJBwMKCgYLBgsHCAYKBwgIBgQHBgcHBAYIDAcHBgcHBwIHBgsLBwwHBgIHBAMGBgYKBwcFCAcICAYHCggFBwsJBggEBwkLCQcHBAYEBAgFCQgJBwUFCQYDCQQIBgcKBwUEBQYEBQsFCwkICQYHCQYFBwQGBQYHBwoFCQkFCAoDAgkEBQoFCAYKCQgHBQoFBAwJBQUGCAwEBQoCCAoJCQQEBQcIAgYFBAoGCQkKBAQFBwoFBgkFBQYDCQUFBQkLBgoIBwUHCwgFCQkHCAgKBgQGCAQGBQgHAgYHBwcIBAsFAgoGCQIDCgkJAwQGCgkIBAYHBAQEBwsDBAkFAwcKCAcKCAYFBgcFCQsGBQUIBwQDBQcDCAkICQQFCQQIBgYECQYHCQQHCQcEBAQICwQJBQgGBwYGCAgIBQkHCAoJBgcHCQcIBAoJBgIHCAkMBgcJCQkHBwcHCwUJAwYICAcLBgMKBgMDBwQGCAUFBAoIBQgFBwYIBgMFCwUGCQUHBAsJCQoMBQgJCAYJCQcHBAkEBQIEAwgJCAYDCAkHCwoKAgIMBwYICQUGBgUKBAkFBwUGBgUHBwkHBQcFBgcFBwgJCAgIBQULAwYIDAQFBQUDCwwLCAkJCgIKBAwJCAMHBggIBwYKBgMGCwMKBwcKCwgGBgYJBwcHAwYFCwMDAgcIBQsJBgoDDAcEBgcIBggGBgsIBwcIBAkEBQkJCAYHCwwGCggHBQMHCAcGCQQICQkECAoGCwgKCQULBAUJBQgDBwcFBAsGCwUDCAQJCAgJAgUGBQgICAwGBgsGCwkHCQYICAcECwkFCAgJCQgGBAUICAgLCAYDBwYKBgcHBgMHCQUHBgcHBgIFBwsIBwQFBQYECQYEBggJBwgFCAgJCQcECAgEBQIJAwcFDAkIBAULCwUHBgkKAgUIBwgECQgFBQwDCQQGBggFBggFCwgJBQcDAwUICQUHAgMJBwsHCgcGCwgKCAYGBQUGBQgECAMLBgkDCwkIBgcHBAUHCAUECAIDCwgICQcIAwUGBQkHBgsKBwcEBAMKBQkGBwgDBwgFBAQDCgoIAwQLCgQIBwgDCwMHBAwFBAYJBQUJCgMEBwgHCggDCAwFCQoJCgwEBwQEBQkFBwUKCwgLCAYEBgoJCAgHCQkEBwQMCAkHBAcIBQQJCQQHBQIIBwkJCAYIBgIJBAcGBwYHBwUFBQoLBgcHDAYEAwgGCQUJCAoGBgcEBQwHAwsJBwgHAwQLDAgECQQLBQUCBwsECAsGBgcGCwoJBwYJCQkCBgQFBQUHAwoFBQUGAgkHDAYHDAcKCwoFAgYGBQQECAoHBwYIBQgJAggDDAcJBwgGCAQLBQcDCggGCQUHBwcEBwULCwcJCwgHCgYFCQkFCwUDDAkKBQUHBQQICQgGAwQKCAwMCAQGBwYDCgkJCAcIBAkHDAgFCgoJCAMICgcFBggFBAoCAwIJCgkGBgQHBggICAcICwcKBQUGAwYLBwsIBAYFAwgFBAIICgoEBQoFCgYJCQMKBAkDCAMFBAQFCwkGBAUGCgQHCQIDBgkKBgcJBQQEBQUHBgcIAgMCCAUICQcGCwkCCwoIBgUFCQUEBgsHCAgJCwkJDAkICgcKBwoJCwUHCAoKCQsHBAoGBwQIBgsKDAYEBQQHCAYLBAgFCQgECQYLBQcDCgwHBwwIBgcHAggHCAYHCQQLBgQFBQMGCAgJDAgKCgcEBAkFBgcKCAQGCQcDCQcGCQcDAgYFDAkJBAQFBwgGCAkFBQgFCAUFBwcECQkGBwQECQYKCQcLBQUFBwUIBQYICAkHCQkLBQYEBwcMCQUGBwQLBQUHBwgGBwUHCAwKBwYJBwUDCgMHBgkDBgUFCQcFBwgJCAsHCwQHBAYIBwwEBgMGBQsMCgUFBQkICQUGBwkHBQkGCAQFAwcHCgwMAgcGCgQFCwkJCwQKBgQJAwYGBAMLBgcIBwkICQYHBQwGCAYHBgcHCggLCgUFBQgHCQcGBgYJAwYHBAgHBQUGCgYFBQgIBQUGCwkFCQkGCwcLBQUKBgsIAwULCgMDCQcJDAMHCQcLBwYDAwcGAwgGBgkFCwYFCgoJBAQICAsHCwQLBgQICQIFBgIMAwUICQoFBgYLCgsICQQHBQcGBgsDBwcICAQGCQYIBggHCgcFDAUCBAgHBgkIBwIHCQgKCgYMCgkJBwQKBQULCQcJBAUJCAQJBQQKBAgHBwUFBQUICQcFBAkHBgcHBwwKCAsHCAUICAUGBwgLBgcGBggIBQsJCgUHBQQKCgUKAwQHCgkKCAkKBQIEAwkGBgsJDAUFBAgEBAoCCwkJBwYFDAgICwgDBgUHAwcLBQcDBwkHCAsGBggHBgoIBAMCAwkECwgLCAILCgcMCwcIBgcHAwMDBAcHBQoGCwcHCAgIBAsKBgcMCQcGCQUGDAYKBwcGDAUGBwYICAsICAYJCQoCBAUGCgoGCQkIAwcKAgkLCgUJBQcLCAUGBQcHDAcIAwYLCAUICQcHCAIKCAQHBAYECAMJCQQJCQgECgsMDAYJBAgCBwQFAwgHBQgICQMKBggHBQUHBgoHCgcEBwYLBwgGBwYJCwkHBwkHBAcIBgcFBQMIBwoJBwYHBQYECwYKCgoEBQoGBwcGCAoDBAQEBQQJCAoJCQUHBgYCBwkLCwgJCAgJCQcFBQcHDAIIAgoHCwUJBwgHBAYLBQYGBgQKBwoGBgsIBAQJBQYIBQMGBwkIDAIHBgkCCwYGBgQFCAMIBQwECwUECggHCwoJCggDAwgICgoGBgIJCQwICQcHBwQKCwkEBQMJCgcJDAYLBwoMBwQGBwoFCQsHBQgGCQMDBwUGBAYKBwUJBwkFCQQCCAQHAwcJBAMHCAMHCQgICAcGBwcHBwcHCAoIAgUHCAYFBwgCCQcICQoHBQMEBgwJBgYHBwkEBggJBgcLCQYKBQkJBgYKCQMDCAQCBwcHAgULCwkFCAIGCQgFCgIEBAoKCQgICAkKBwgICAUKCQkHBQIEBwYCBgkHBwkKAwoDBQQGBAYLBAUKCgcIBwcHAwIECAUGBQoFBQYLBgUJBQwIBQcFBQYHCwoJCwkICAYLCQkDCgcGCAsGBQkCBwIJAwQECwkICQUFBwcKCgYIAwgJBggHBgkKBwgHDAgKAgkDBwYIBQoLBQsEBQcLBwkHCQgEAggLCwkMBwQHCAIHCgQHCwMMCwYECAIJAwoFBwgFCAkKBAQKAwwDBAgDAwYICQcEBgIDBgYLCwUGCAYJCAMGCAYEBwsCCgsKBgkGBwsHCQcICwYGCAoGCQwGCAMGBAMGBwYLBwcKBwsGCAUHCQYHBgYEBAYICQsHCwkGBwMJBwgHCgQHDAYHCQQFAggJBwQLBgkJCgsIAwUFBwcEBQoJCAgJCQIIBgcIBwsHBQYEBAQCCAgDCwsCAwkHDAkICgQKBgcCCgYGBgQHCAUFBAcIBAQFDAoGCwcGBwgHBQoIBgUJBQcHBwYGCQgKBwkFBwYICAQFCgkEBwkJCAQJCQsHBAMIBwgFCAgIBwkHBwkHBAUKBAsGAwsIAgcFCgMKCAcICQUFCQkKDAkMBAQGBQUDCwYHCQUFBQMGDAsGBAUKCAYCBAYHCwQKCQMFCQUIBQwGCgUECAkKCQYEBwgJCgcEAwMHCwkDBwcLCQIKCQcHCwUCCQcEAwQEBQUECQQICAQECQcCBwoECAcHCAoFBAYFBQUKBAsFBQcEBggHCgYJBgkJCAYIBggHCwYICgUJBQsJCAQDCgcHBQUGCwoKBwYICQkHBgQKCAgKBwgGCAQKCQoDBwkGCAIGDAoLBwYDCQQMBAgHBgUFAwkEBwUHBwMLBwYICwcLBggJBwMIBAcHCgwEBAcECQIKCwgEBwoEBQYGCQQKBAUGCAMLCAgDBwcIAwkFBgcHCQkHCQYDCQkFBAYGBwoLBgIHDAsICgkLBAgGBgYKBQkHBQQHBwMGCgQGBQMFCwcJBAYMCwMKAwQECAgICAsGBwwDBQgIBAMDCAsLCQcECAQCAwcIBAUFCwcFBwkGCAoHBgMFBwYCCQkMCgQDBwoJCgUHBggLBQYICQkJAwQJCQcDCAsIBgYFCAYMCAQGCQUJAggDCAQDBwoKBAcKCQkHAwMJBggHBAgHBgUECwoEBAwKBgMGAwUDBwgGBwsCCAcICgcHCQsECQUJBQcHCgIHBwYHBwcKBwkEBwUGAwYKCAcFBwoHCgQHCgUHCAoIBAwICgsDBQQIBggGCAYJBAsKCAsJCAgICQQHAggICQoFBQcICQcJCQcHBwUEAwMHBwUEBwUICQsFBQUIAwkGCQQHBQgCBQoICAQLCAcKBQQJBwYMBQwGCAQIBQkFCwYMBwcFDAgIAwQIBgQHBwwHBgcGBwYICQcHBwkGBQoDBgoFBQwGCwgCCgkGCAgFCQcKBwYIBQUECAcLBQsGBQQFBggECQsGCQcHCQUEBAgDCgYFBAgICAUFBgYLCAwECQYIBwUFCAUKDAQHCgYKBgoFCQYHBQMGAwQKCQUICwcGCgQHBAYICQQFBAQHBQkGBwUGBgoJCQQHCAMIBwUHCAgJBwgKBwUGBQgECQwGCAoGBwcHBgcDCwsKCgQJBgYEBAkJAwUKBAoHAwoCBAgGCAoGBggJBwcEBgkDBAgDBAMFCAwECQUIBAgGAwYHCQYEBgcLCAQJBgUEAwsJBwkLBQYFBgkJBwMGCQYHCgYIAwcIAgcIBgcGBwkGCAYIBAkJCAYDBwUGBwkIBgcICQYMAwYHCQgHDAcJBgUICQkHBQUGCAoDCQIFBwsIBgQHCQoHBQoHCgcJBggHAwgJCQgKBwcJBgsICAcJCQUHBwUFBQMGBQYECAsIBQkGBwsHBQcHAgUGCAkFBwUEBwUFCgoJAwUDDAYJBgoECQgKCQcEDAYFAwYEBQgIBgkFCQkJBQwCCAgEBwULBAUGBwQIBgkKCwcCCgQDBQcKBwcHCQYIBAkGBwsIBQsGCgYHCAkGBAsMBAUGDAgHBwsHAggLCwUGBgoEBgMHCAkHCAQFBgsHBgUHBAUCAgUMAwUGAgIMCQQHAwoIBAkJCwkIBgoJBAYIBgkLCAULBwgJCQcKBwUJCgcJBgMIAwYEBAYFBgkICgoICAcJCQoDCgUIAwsHCAYIBwcFCwoHCAUHBAcFCAYIBwgLCQoKAwoDDAkFBwcHCQoJBAcHBwYGBwYGCAoGBgkHAwoJCgoKBwQFBAcKBQgKCAUHCwYHCAUGBwMIBggKCgoLBwgICwMFBwsKDAQHCgoFCgUDAwcGBAoIBwkFBwQHCAkJCwwMDAkFCAUGCQUJBwgEBgIJBgsEBwYCBwgHAwYGCQgGBQYICgYGCAkHDAgHCQcHCAcKCQQICgULBwcFAwULBQgLBwYJBgYCAgMFAwgDBAsCBwcJCQkECwwICQYHBwcEBQcECwcGBAYHCQoECgkHAgcIAwQJBwQEBAwJCgsMBwkLCAQHBwkJCQgKCwwFBAkFCQcICgIKCgYJBwcHCQsFCgcCCwMFCgUGCAYIBwQEBAYIBQcMCQkHBQkHCAgJBQYMBggHBgQJCggJBQQKCAUFCgsIBgcECAYMAwcGBgsKCAYEBAUIBQgIBQkFCQcGBAMEBwQKBwYKCQgGBgMEBgoKCwgECwcDBQQCCwcFCwgJCAUKBQgJBAYJCwUHBwkHBgoLDAMKBQUGCQkIBQgHAwUKCQcDBgkFBwoICwQFCAQMAwIHCQoMBQUHBAcJCQUHAwcCBQgDCAIKCgkHCAcFBgUJCQkIBgYICAQGBQgJCgkICwgFBQgECwgGCwsHCwYJBAkKCgMDCQkGBwMKCAkKBgUHCAgIBwkHBwUECAULCQkHCAYGBQgHCQkGBAkFCwgICwcGCQUHBgcLCAgEBQgHCAcIBAcMCgYDBwoFBAwLBgQHCAoLBwkJCAoHCggEBAUJBAMGBgUDAwgFCAYJBgYICAgFBwYHBwcDBwgFBwcFDAYHCwgHBggFBgYICgoJBwcHBggECAYGCQYKBgIDBgQKBQcGAwkIBgcDCwYHBAcGBAsLCAUFCAcGCAoFCQoKCQYHCAgKAgYHCAYKCQQHCQUJCAYGBQQHBwcLBwgIDAQDAwgGCAYKBgsJBgUIBgoJCgcHAgcCCAQEBAYKBwcKBgkJCwoECQgHCgcJCgIECwcHAwoGCAcJBAUGCwMFBggJBQcIBQgDBwsDBAUEBwoDBgcMBQoLCgcIBAMFBwYGBAgJDAgICQoDBAUECggKBwcCCAgFBwMICwgMBwYGCgsKBAYGBgMFCQoECwsHCgsFCAwHCwQJBQoJBgoKBggLBgcICAYECAkEBwYLBwgCCgkDCAoJCgcHCQsHBgUJCQwIBwUFAwkCCQcGBQoHCAcGDAcMBgcHCQcGBwkHBAQEBgkICQYMCAcHCwgCCgcJCgcFAgcHAgkHCgUHAwoKAwsKCAMDCAUJCAgFBwMIBgcJDAcGBwQHCAcKBgYIDAgFBggKCgoJBQoEBgYHCQcIBwYHCQYFBwUJBQULBQYJCAUFBQsGBQUKCAoKCAcKCQsJAwYGBgQKCgkFAwIJCQoGBAYJBwgFBgUJCQcJCAkJCAgDCAwFBwgIBAgDCAoEBgQIBwYHCgYIBgsGCgcECwoKCAcHBgcJBQMJCQQKCAoFBwcEBQIFBwoHDAQHBQkIBQgIBgYKCAMLBwYHBwcEBwcJBgQEBQYFAwUICAgCCgkKBwMDCwILAwkIBwoECQkLCAUHBAQJBwYGCAMGBwQKCQUECAYIBgUGBwIGCAgKCQcHAwgKBQIKBwYIBgUHBQQICQgGBQsGCAcIBAcIAwsECgwHBQYIBQYGCQcGBwkFBggLBgYEBQgKBggDBwcKBAoGBgcGCwcICAUGCAIEBwsHCAYMBwkGBgYGBQQIAwkHBQsJCwoJAwUJCwoFBQIECgYFCAcHBwYJCAQJBgoHBAIKBgYHBggLBwMCBwMFBwoFBgkICQoKCwoJBgoCCAkLBQgFBwcJBwoCBwYJCgoFBwUICgUHCAYIAwYJBwsJCAwKBQgIBAMJBwYJBQkJAgUICgQGBwUEBwsFBwgEBAUGBAgGBgUJDAQJCAcGAwQGCwoFCAcICQkHCgYJCggKCQkIAgYFCAcICQkKBwsIBwYFCwUIBgILBQgDBgkMBQQGCgkJCgYDCAwGBAIKCAIKCQcGAwgKBgQHCAgMBQUHAwYLBwgKBAYIBgcFCgsKBwYEBAwHBwQGCAYGCAUHAwQFBAMHBgkFBQoGBQgGCQsJBgULDAULBAMIBwUIBwoICgsIAggGCgkCBwYLCAUJBQYFCQYICQMECAcECgoGBQsKCQQHCwcIBAgGCAYJBwgIBQwIBwgDCwIJCAkIBgMJBAwIBgwGCAcHCgYFBgUHCggKCwcJDAcMBAQJBAYIBAgFCAgFCgUGCggLBAoHCAYHCAcLBwkFBQQKBQQHBwgFCwcHCQgJBwMKCAYKBgYJCAYFBAgECAgLBQYICQgFBAcLCAsMBQgFBwUIAgUHBQYHBwUHBwcHBAUHBwYIBgIJBgMDBggKBwQFCAYDAwUGDAUFBgsKBwgGCQoHBwUJCwcDCQsFBQcICQUKCAgICAQHBwUJCQwICAsIBgoFBQsIBAUHDAQCBAkFBggJCQYJCQIDBgUJCgkECAcKCwIKAwcJBwgECAcJBwgFCAgHCAYFCwsHCAoCCAMFCQkGCwQEBAwICQsEBgkHCAwGCAQJCAYJBwMEBwwJBwcGAgMFBQcLCAYKCgcHBwcJBggKCAcGAwYLBAcICgsECAQHCAYJBQkHBQUFCAgLBAcECAcICgYFCQoGCAgEAwcLBQkFBwoGBAUHBwQICAwGCAsGBwsHCQQEBQMIBgQLBAYICAYHBggECgcICAIJBAsECAYFCAgJCwQDBgsKBggJCAYEBggCAwMHCgcKBQcMBgkCCgUDCAUIAwgECAgMBQsGBgYJBgoGCAYHAgcECgsECAkCBgsICAgIAgoICgcLBQkICQkMBAgHCwkFBwQLBgkJCAgJCQsJCQkGBwQCCwgHBwQJBgoDAgcKCQcHAgYJBwMKCAoHCQsHCwMLCQYIAwgHCQUJBwMICQoDAgkICQYKAwoIBwYJBwkGBAYEBwMHAgQDCgQICQIKBgIHBQgLCQcHBQUICAsICAsFBgkFBwYJBgcDCQoHBAQICQgGCAUIBwQKCgcEBQcICQcJCwcMBgUGAwcLBgQFBgMJBwgJBwYFCgcKCQUKCQwHBgkFAgQFBgUEBQgFCgwDAgcICQMKAgsHCAYHBwoGCwgGCwUFCAgFBwYFBQgGCAUEBwYDBAgFBwUJCAcGBwoLCQMFBwQJCQgDDAwIBwoIBQUFBwkHCQgICgcICQsJBgkHBgkKCgIEDAwIBgUHCAYFBgcJBgsIBQUDBgUKBwQFCgcICAkHBAcKBgkFCAsLBwUHBgoLDAoFCwUFBwQHBwgGCwMHBwgFBwcJBAkFBgkJBQsEBgkLCAUJCQcFBQYGBgQIBAsKCQgFAwYEBwoJCAYICwcLBAYIBwkIBQgJBQgEBwgKBQUIBQgDCQQHBQcFCgMGBAsIBAIHBwYJCAQGBgkGAwcDCAUKCAsGCQIICggHBwUHBgcGCQcJCQUHCwgJBwkHBgcICQkKBwQGDAsGBwYMBgoFCAYHCAwIBQUHCggMBwgKCwQJCQcKBwoFBggFBgoGBQMKCgMHBAYGCwkICAQHCAcHCAoKBwsICAcGBAoJBQYLBAkEBwkGCAMICwcGBwcFCAQGBQwECAgHCAUCBAoHCAsFAgUHAwQHBAgFBAcHAwcKCQUICQYIBgcCCAYHBggKBgUIBgoICgYICAgIBgkLBwgGBgYKBAYJDAcKCAkICgYHBwQHCwoHCgkFBwoIBgsCBAkJCAUGBQkHBQIJCAYFBwsIBQUJCAoJBAoHCQcFAwkIAwoECAgGCQUHBQMHBwgJBgYKBQIGBAUHBwkDBQcKCAcICwYDBQoFCQcFCQYIBgoHDAcCCAQHBgUDBAUGBgMIBggEDAkIBgcJBggFBwUJBwcECwIGBAsDCgYFCQIJCwILCwIDCwUFBQgLCwUGBgcIBwYEAwsGCgMIBwoGBwYFBgsKDAUGBQkEAgIGBQMDCQYJAggGCQoIBwcKBQgEAgYEBwkEBggCBggEBAcJAwYGBAkKBgcEBgoHCQUGBgUKCgcDBQgKCQoKBwQJBgYHAwYGBwYIBgMIAgwJCAYFCAYICAQFBwgGBwsGCAcGCAsGBwYHBQMFAwcDBwUHBwMFCgoGCgsGBQgJCQgICwIJAgMGBQoGCAsDCAoJBAYHCwYDCAoJBwgFCAULBwYGCAcKCAQJCwgJBwoDAgYHBgkIBwcKBwkGBwcECAkGBgUDBAkDBwkLCwQKCAcMCAkHAgkGBQwCBwkJCgkJCQcLCgcICQYHBQoKCwwIBgUHAgsIBgUMCwIGBQgJCAYJBwcKAgoMCgQGCwQEBwoDBAoJBggLBQYDAgcLCAQGBwgKCAYHCAQKBQQDCAYHCQgMBggGCAMCCAUGCQMICgQDBAcLBgkHCQkJBQYLBgUHCAYFBgUFBAIJBggHBwYECQUGCQUMBQUGAwkICQkIBAYGBAYFCwYLCAMHCAgGCQYLCwsLBQUGBwcFCgQJBQcJBQMHAgkICQgCBQkDBQcCCAwIDAkEBQkIBwcFAwYHDAQLAwcMBwQGBwkCBQsKCAcGBgQIBwgHBwwHBQUIBQMDBAcDAwYECggLBQcDCAIEBAUGBggKBwsFCgcKDAUHCAcJBwQDCAsCAwgKBAsFCwUGBwgEBgwJBQoECQUGCAQDBQkJBQoFBggFBwYFBgYLBggDBAcHBgMKCAUJBQkECQMFBAQGAgcHBQkGBwcHBwUICQcLBAcHBAQKBQYHCQMGCAIDCQQKBgYHCAgJBgUMCgUICAoGCggJBAYFBQUJCgkKBAgGAwoGBQgHCQULBggHCgwFBAgKCQkFCgsEBQkLCQwHBAYGBAoICAcEBgkHBwwKCggGBwMGBwgJBwcFBgoHBggLCAYICAQMCQUHBgcGBgcHAwgJCQYFCQYHCQQMAwQKBQcDBQQDCgcLBgYGBgYKAwUEBgcHBwkGAgMIBgkECQYFCgUGCggHBwgHBQIICgwLBgwJCAYJCwcHBwUHCQYHBwIJCwQFBwcKBQkJCQYICQcDBwgIBwUGBwcDBwUECAgIAwgICQoHCQgHBwgKCAgDBgkKCQkHBwYFBwYFBQMJCwoFAgoIAwYMBAYEAwgMAwoGDAoKAgQIBQcICQQJBQYICQcLBQkIBQMFBwUJBwkGCwgKAgYFAwIECAUHBAgGCQcHBgIECgcGBwcIBwYFBwUICQQDDAYEBwsIBQcJCQsIBAcHBwcIBwcIBgoGCAYFCQYCBAgJCQcFBwgHBgYIBgYMCggJBwkJBAsJCAUFBgsGBgkFBgcKCQkHCAoHBgQGBQsJCQoFCgMCBAIGCAkFBggHCAgLDAcEBAUGCgoFCAQFBQcIDAUHBwsIAwsFBQgHCAoHCAcHBgUKBwQHBwUIAwQJCQgGCgYDBAsGBwcGCAgFCgsGBgcHBgwJBwMEDAYFCQoKBwwJCwcGBwwKBwcLBgoJCQcGBwcDBwQHBgMFBQkHBwUIBgYCBAcGBQcMCQYGDAgCCQUICwIJBAoICwMHAwYJDAcDCgoICAcGCAoKCwYHCAkJBwYGBAcHCAsCCAYHCAkGBAQFCgcMCQkDBQsICwcICAULBgYHBwUKCgwIBgoICQgMCQsGCgcFAwkGCAgDBQcJAgcIBAUJCAMEBwoFBwcMBAgMAwMGCwcCCgcHCQYIAwkGBgQDBwoEBwYGAwcHBQMCBQIIAwYCBQgIBQMHBQUCBggIAwQJBwYFBgkGBwUHBgkFBAYFCAcDCwcHCgMICgUGBwYIBgQMBAcKCwUMBgsFCAkJDAYFCAoHCQoLBQYDCQYKCgoLBgcLBgkKCQcEBQoIBgcDCwgJBAQDBwwGCQYGCwYDCgMFBgILBwoICQQDBQQJBQQHBwMEBAgGAwgIBwYMCggFBAcGCgMEBQwHBwcHBwkIBgkFCQYHCAYICAoJBQYGBwgICAgLAwgICwIIAwUJAwgKBQQIBgUECAcFCwQJBggFCgQKCQwFCAkEBwkDBAcFBwkGCQcJBwgJCAgHCAgGBQcHBAgEDAoGBQQHBwMGCAwCBwMFCQcGBQgFCQMHCAQKBgcGBwgGBgUHAwoGCwYJCgUIBwcEBwkHBwsGAwcJAwoGCgQICwcKBAkEBwQHCwUGCAUKBQgHBAIHBQQIAwgHBwgECwgGBgUJBwwIBwoFBgsIBwQFBAUGBwgDBgYLBwQKBgcHCQcICQgGCAUFCAMIBAUHBwkKCQQEBggEBggJAwMGBgkGBQgJAwUFCQYKBwkHCwgFCQQICQcFCAgKCQwHAwsFCgcICAUMBwYCBwsGBwQJBggFBwQLBwYIBgoFAgcFBgoKCAcGBgYJCAUHCAYFAwkJBgkIBQkIBgYHBggLCAgHBQYFBggDAwYEBwYDBgMKBggEAwgCCAsJBgMEBQYGBAIGAwgGBAUKDAQIBwcFCAgFBgcGBQYHDAUKDAkHBQMGBwQHAwgDCQgICAcGDAULBwgHBAkGAwoHBgcJBggHAwgDBQsLBwUFBwYFCAYICAkMBwgEDAcFCgkDBwQHBwwLBQYLBgkHBgcIBwgJBwYHBgYGCQgGBQkHCQgLBQoIBwgGBQcFCgcDBwQHCgcGBgQDCgYKBQcDCAkKBQgDCQcFBgQJBQYDBQUMBwsHCwkDCAkECAYDBAUGCAcJDAwLCAMGBgoMCQQMBAoJCAwLCAMKBAsLBwgGBwMGCQYHAgkHBgUCCwcEAwQGBQUICQcEBgcGCwsHAgQGAwYKBwMECAkHBAgECwYJCAkIBwgJCAYFBQcMBgYGCAYHAwkIBgICCgkKCQQFBgMGBQoEBQgJCAkKBQUJBwUJBgcFBAcHBwgDBAgFCwcHBwgECAMGAgwCBgUGAgMICAQCCAkGCQQGCQUCBgUIBgMLBwUJBggLBQkIBAkJCAMLCQQFCQkECgYKCAcDBwUKBAkHBQUCCQIGDAUFBggHBggIDAYFBgUFBAMDCggJCAgDBwsHBgUHBAoFBgcECQQGAwYGAwUICgUHBgcDCgMKCAwFCgcKBwYKCgcIDAcGDAcHBwYECwYJBQYKBwYGCQcLBwIGCwMDBAkKBAUGCggLBwMGCAoMBwoIBgoECwQHBAoLCgcECQcHBgYHBwoEBwYECAoICAkJCAYFBQYLCgUGCgsIBQcFCgkKCQkLCAgGBgYEBwgFDAYGBwoIAwYCBwcLAwYGAwoKCAIIBggECAQDAwYJBQQECAgGCQYHDAoHCAoICwoKBQkJBAsKCgcHBgYEAwkFBwUGCQgGBQkHCAYHBwcICgwGBwkJAwkFBAUHCgYKDAULCAsHCQcJBgsICQcFBwgIBwkEBAoIAgYHBwMJAwgFCQcGBQsIBQkHBQkFCgoHBwYEAwcECQIJCgYFCAULCggFBQgKBAYGCwMJBwkJCAcHCAcICwgFAwYECgcICQcECAsIAwkJCAgKCwcGBggHAwgHCgUFAwYIAwcDBAYCCwIEBwYGBAoJCAgJBggEBAcMBQkECAUIBgIGCAgICAcICAgJBwkICAUHBQwHBQULCAoFDAgGAwoFCAYICQUFDAUHAgkGBwQHBwwHBgsFCwgGCQYIAwQGCgoHCgoICQcJBwkICggIBgUMAwUKCgwHBwYJAgUJBAgGCAgHCAkGCAkGBQYEDAYHAgYHCwUGBQUIBwgKCAgGCwYIBQsFBAoHCgQGBAQGCQgFBgMECQkFAwgICAcLBAMFCggLDAwJCAoGCAcHBgQKDAcHCgoIBAwIBgQCCgcMCgcIAwcHCAcHCQQGCgkHBwQJBAsFBQIGCAkCCgoLCgQLBgUMCgUHCQoHAwcEBQoHBQMJAwcJCgcLCwQKBQYECAwHCgYGCgQEBwsHBwUJBgUFAwUICQYHCgoEBgkGCQcHCgcEBgIHBggEBgsIBgkCBQMGCgQKBwkLAgsICgkHCgsGBQIKCAcICAcHBwYHAwoGBgoICgkKBwcJBwsJCAUJCgMGBwIJBgMIBQsJCgkHCgQLCQYGCAoICAgFBAgMBgcIBQcJBQkJBwcKDAYLCwsHBgIGCgcICAcJBggGBgcLBgUCCwcKBQUECQYJCAgGBAMKBwcCAwYJCgcCBgMFCQgGDAoCCAcGBgMHCwgGBwsIDAcHCAcHCQoKBgkJBQMGCQYJBggKDAULCQUHAwsFBgkFAwYCCQUEBgYGBQYHCAkFCQcDBwcLBwUJBQcHDAYJBAwLBgcHCAYMBgUDCwUIBggGCgkGBgQICAYGCgQICgoHBwMICAQHDAoGBAYCBgUKCwUGBwkDBggLBAgEBQUDCwoDBQsJCAgGBAQLCAQHBAsIBwUJCAgHBwkGAwUKBQoHBgUHAwYGCQkIBwUJCAYKDAcFAwgHBAQGBwIFCgcGCAgCBgcIBgcGBwoHBgcECwUJBQgKBwoIBgcFDAoIBgcHCAMHBggFBwkICgUGBAcKCAoIBgQHBQYFBwgEBggICgMFBQcGBgYFBQoFCAMICQYDCwIHBgcGDAYICwYFBwYCCggECAQIBwUHBQwHBAcGBggIBwwGBQUICAYEAwcGCAYJCggJBwoKBQUEDAIFBQcIBwQDCAcEBQYGBQMHBQYIAwcJBgcGCwkDCgYIBAQMAgcMBgcGCgYKAgMGCQcIBgcGBAQFCAYKBQgKCAUMBwUDCAMJBQgEBQUJCQwKAwoDCQMGCgcMDAwFAgIDBggEBAkLBQYGBwQGCQUGCgYLBAsHBQgHCQQICwwFBQQEBQcHBwkJBwoHCAkIBgYFBAUKBQkLCAkJCgcGCAQIBAkLAgUIBwUKBwoIAwkJBQgEBAcFBAYICQsGBwYJBQQHCwwEBwcGCAkDBgYKBwoLBwoIBwUJAwcHBQQIBggFCAYHCwcEBwQFBgUICQcHCAkJBAQJBQIIBwUFCQYDCAoGCAcGBQYJAgQGCAcIBgQFCQgEBwQGCQYGBQsMBwgMCgMHBwoIBQgHBQYIBQgGCgYKBAYHCAYGBwgGBwQJCggFCQkGCQYIAwoFAwkIBwkLBwQKBgkDBgcFBwYJCAcIBQgFDAkECAkHDAcHCgcGAgYIAwYFBAgJDAQHAgcEDAsMCAQHBQsHCwUGDAcMCQsHBQsDBwcGBwkGCAoHBAkICAUFCwkGBAgEBwgDBAcDCgUKCQcJBwgECAcEBQcCBwcICQUECAwGCAsJBQQKBwUECAkHCAcCBggMBwMGDAYECAYGBgkEBQgEBAgJCgUFCgYFCwoICAQKBQcFBgUHCwULCgcJBgYHBggHBgkICgYGBwkFCAYFCAUGBQMICAMICggHCAMGCQsGCAMKCAcLBAsJCQYGCQUICgkIBgUKCgcGBQsEBQgFBgkGDAIECAkKBwgGAggJBgoJCQcHCAkHBQMDCAYFBgcEBQcLBwoMDAcHCAcJCQkIAwYGCAsEBgUKBQYDCQoEAgYJAwMMCQgFCAUDBwgDAwUHCwkKCAYGCAcICAgFBAcFBQcLCQcIBwQMCwYFCgkGCAgHBAQJDAUCBggHCAIIBwcFBAQKCgYDCwcECAsJCwgDCAoICwUGDAkCCQgFBQQJCQgLCgkGBwkFAgMECAcFBgkICwsECwoFBQgICAkFCgUFCAgECAgIBAsIBgMJCgoHBwMGDAkLCgkIBAYHCAgDAgoGCQoKBQgJCwsICAQGCQgICAcFBAMJCAYDCQkLBggGBwcGBgYGBQoEBgsLBgUFBwoGBwsFBwcDCQYFCgUIBQkIBgMFBggFCQYICgYHCgMHBgkIBwQHBwkGAwoJCAUGAwcCBwkFCAUFCwgICQYLCwQLCAkFCQgMBAsHBQYJBAcIAwUGBAMFCgcGBgYIBQMFBwQHBAcJDAcICgUKBQcDDAMHBQgHCAkHCgYIBQcFCQUEBgMDCQYJAgwGBQkHBgYFBwYJBwcGCgsJCwQIBwUGBwMEBwsHBwoGCAYEBwgKBggDCwUEBwsJCQUIBQUIBQgMCAcIBAUFBQcCBAwKCQkFBgUHBwoJBgUJBQcJCwkHBAoHBggHBggJCAUHDAgCBwUJCAcKBgUIBAkIBAUKBgYIBQIHAwUDBwYFDAoFBQoHCwMJCwoEBwQIBgIEBQUHCQQICAoHCgkJCwgMCAYMCAcJBQoKAgsHCwQDBAcLCQcIBQkFBQoHCAUGBAgGBwkCCgsIBwUHBAUHBAoEBgQKBAkICgcFCAcHBgQLBQsKCwgGCQgGCwoICAcFBQkECAQIAggEAwcGCwYLCgUHCgkHBwkKCggJCAsEBQkFBgYIBgYGBwcHCgkFAggGCAcFBAUHBQYIBgUIBwgJBwYGBwgJBQoHCgMIBwUKBwgHCQkJCwwGAwQLCwkHCgULCAkJBgQFBwcIAwUJAwYKCAcMBggHBAwGBQkGCgYDCAYHBwMICgkHBAcLBQYICAcGCwYKBgcLCAYIBwcJCAMKCwYHBAoGBwkECgQFCgoHBAkHCAcLBgUECgcICwcHBQcICAUGCQQCCAoGBQoICgIHBwoJBQkDCgUCCQUHCAQDCgcECgcGCgMDCAoFBgcIBgYDBgkIAgoDBAUFBwYKCAwGBwcHCAMHCAgJBwcECgcGCQcHBgUJBQIIBwoICggEBwcFBgYEBggDCAcHDAYLBgkFBAgIAwcKBAUECAoFBwoJCwQHAwcGCwYJCAgFCgoDCAcIAgkHBgUIBgcCBQwDCAkEBAsFCQcKCwoJCAYGBwkHBQkJCQkJBwgHDAcHCgsFAwYEAgsLBAYGBwcCBwsKBQULBAgIBgcHCAIECQcHBwcGBgkEBggEBwYECwkKBgUGCgcGAwcIBwUICgcECQYEBAUGCgoGBgkICgcJCQwIBAMKCAoDCgUKCAcCBgUHBwMDBAYICwoCBwkGCAoHDAMIAwcGCwgLCQUEBgwEBwUJBQYDBwoEAwUFAwYHCAQEBAgDCQoEBwQGBgYKBggFCQkGBwwFCQUKCAgIBAUICwQHCwsGDAMEBgIKBgYIBwUHAwMFBAwLBAoHDAYCAgoEBwwKBgcFCgwJCQQJCQkICgoJBggDCAgKBwsGBAcDCQcIBggFBQUFDAcGAggGDAQICwYLCQoFCQoGBAgMBAkJBggEBggFBQUGBwoHCQsIBAQECAUICAcDBgYJBwgHAwQHCQYLBQgJBQUDCQkMBQkHCAMCCQgFCQkJCAcFAgkLCQkMCQYGBgMDBwkEBgYKBwsGCgsLBwMECQgGCQoFBgQICgUGBgUIAwUGCgUECAYDBQsHCAYMCQcJCAwHAwoIBwcFBAMGCQgHCQcJBwYGBgcLAwgDAwMIBAQJAgcHBQUFCggECgkGCQcFBgYJBQYHBQoEBAcHBQUDBgYJBAQIBQoJBAIEBAMEBAcICwQHBgsFCggHBQcEBwgGCQgKBwUGCgkIBwYDCAcEBgUHBwkGCgcHCAoECQcFCAICCAcKCAcGBAYGCQYJCAYHBwUEBAoCBwgKBAcIBgcECwwJCgkFBwYJBAgHCQkICwgKCAsGCgYJBwgFAggFCQUJBQcJCwgMBwUFBAcGDAcHCwMICQQJBgUJBwoHBwoDBgsFBQQKCwUIBQUFCQoGCQMHCQcHDAYICgoFBQcJCQoECgcGBwYJCgkEBAkLBQULCwcKBQYGAggEBQwHBwQHCAwGBgsGCQYIBwcFCgoKBgUGCAsHBgYECAcHBAUKBQcGCQQHCQMHCgYHBgsDBgQHCQYGBwQECQUJBAgGBQgIBAcHCQkKBwUGBAIFBAcJCggDBwUJCgMDCQUHCAgJBQsHAwUGCAoICAkGBwUICwYKBAMECAoHBQwHBAkDCQcKCAQFBgIFCAgJBwcFAwUHBAcIBwMKBwYGBQYHCgcJBgkEBQcHBAoMCwQIBwQHBQcEBQMJCwsIBAYFAwcMBQcEAwwGCQgFBQgFBQcGCgMHAggGCggFBQoJBwUHAwcECwYJCQQJBAYGCggFCgoHBQgDCAoJBgYECAkGBgUEDAoGAgkIBAYLBQoICAQLBQkFCQwFCAcMAwcIBwgICQgFBgQKCAIGBwcFBQsHBAYEBwcCAgUDCQgGCAkKAgsICQUEBQgIBgcHCgkKDAkEBQgICQoIBgwHBwkIBQcHBwkKBAQFBAcIDAcHCgoFBQcGCQMFBwYKBAgDBQkHAgoKAwQICgYGBAIKBwkGBwoICgoKAgMJCQYDBgsMDAQKCAUICwgICgsEBwYFCQcKCAYICQsKBwkDBggFCwoLBwgFBwgJCgQICQQGCAkMCAsCBwcJCwwGBwsIBgUGBQoGCQcICAkJBQgLCQoHBQgHBwUFBQUJBAwHBgcLBAwIBwQJCQwCCwkJBggGCQUKAwMCCAMEBQYMCwQHBwcIBwcHCAgIBQsJBQQMBgMDCAQICAUGBgkGBAcJCAYIBggKCgoKAgkLAgcIBwkEBwcJBgMHBwgCCAQGCAYJCwYGBgIHBwUEAwgJAgUGBQQIDAgKBwsHBAYICwcJBgcLBAQGBgYDCgQECQcJBQcFDAgHCAwKBAUJBwgEBgcEBwULCAoKCQcCCgQFAwgFCQgEBwYJCwgJCQgFAwcHBQQDBwgMCAkICAkICAYKBgoGBAcGAwYJCQcLBQgGBAgEBwgICAQIBQkGBwcHBQUHCAQIBwoHBQkKAwYFBQoLBgYKAwgDBAkGDAQLBgkKBgYHCgQHBQoJBQwLBQMLCgYHBgoJBAgFCwkICQMJBQgJCAgKCQYJBgMDBgQIAwgJCwcHBQUFAgsKCAYICAcJBgoJBwQLCgQLBQcHBQoFBgQKBAsGBAgIBQgHAwwMAgUICwcGBgcICwUFBwgJBQYGCAkKCQcICQYGBwwKBQQEBAcKBwkDBQgLBAkIBgMIBggFCgcLCwcFBwQGBgIKCwYHAwYGBwkEAwUICwUGCwcLCAUKCQgICAUDCQUKBggHBAgFAwIIBgkGCQQHAgUIBgQHCQcGCQYFCAkICAcJBwgJAwkECAcCBgcHDAYLCAcJBwcCBgcJCAoJAwwHAgoHCAIGDAsKBQsDBQsFCAgFBwcJCAUDCQgECgYKCAgDCAgGDAQICAgJBAMECQwFCwcMBgMMBgkFCAkFCwgHCQkLAgsGCgUIAwgHBwQIBgYJBQYFBwgMAggGBwwCBwcHCgkICgkKCQYDBAULBAQCAwgJCQoLBAUHCQQDBwQKBQMGBQQJCAY=",
                    "dtype": "i1"
                  },
                  "xaxis": "x",
                  "yaxis": "y"
                }
              ],
              "layout": {
                "barmode": "overlay",
                "legend": {
                  "title": {
                    "text": "variable"
                  },
                  "tracegroupgap": 0
                },
                "template": {
                  "data": {
                    "bar": [
                      {
                        "error_x": {
                          "color": "#2a3f5f"
                        },
                        "error_y": {
                          "color": "#2a3f5f"
                        },
                        "marker": {
                          "line": {
                            "color": "#E5ECF6",
                            "width": 0.5
                          },
                          "pattern": {
                            "fillmode": "overlay",
                            "size": 10,
                            "solidity": 0.2
                          }
                        },
                        "type": "bar"
                      }
                    ],
                    "barpolar": [
                      {
                        "marker": {
                          "line": {
                            "color": "#E5ECF6",
                            "width": 0.5
                          },
                          "pattern": {
                            "fillmode": "overlay",
                            "size": 10,
                            "solidity": 0.2
                          }
                        },
                        "type": "barpolar"
                      }
                    ],
                    "carpet": [
                      {
                        "aaxis": {
                          "endlinecolor": "#2a3f5f",
                          "gridcolor": "white",
                          "linecolor": "white",
                          "minorgridcolor": "white",
                          "startlinecolor": "#2a3f5f"
                        },
                        "baxis": {
                          "endlinecolor": "#2a3f5f",
                          "gridcolor": "white",
                          "linecolor": "white",
                          "minorgridcolor": "white",
                          "startlinecolor": "#2a3f5f"
                        },
                        "type": "carpet"
                      }
                    ],
                    "choropleth": [
                      {
                        "colorbar": {
                          "outlinewidth": 0,
                          "ticks": ""
                        },
                        "type": "choropleth"
                      }
                    ],
                    "contour": [
                      {
                        "colorbar": {
                          "outlinewidth": 0,
                          "ticks": ""
                        },
                        "colorscale": [
                          [
                            0,
                            "#0d0887"
                          ],
                          [
                            0.1111111111111111,
                            "#46039f"
                          ],
                          [
                            0.2222222222222222,
                            "#7201a8"
                          ],
                          [
                            0.3333333333333333,
                            "#9c179e"
                          ],
                          [
                            0.4444444444444444,
                            "#bd3786"
                          ],
                          [
                            0.5555555555555556,
                            "#d8576b"
                          ],
                          [
                            0.6666666666666666,
                            "#ed7953"
                          ],
                          [
                            0.7777777777777778,
                            "#fb9f3a"
                          ],
                          [
                            0.8888888888888888,
                            "#fdca26"
                          ],
                          [
                            1,
                            "#f0f921"
                          ]
                        ],
                        "type": "contour"
                      }
                    ],
                    "contourcarpet": [
                      {
                        "colorbar": {
                          "outlinewidth": 0,
                          "ticks": ""
                        },
                        "type": "contourcarpet"
                      }
                    ],
                    "heatmap": [
                      {
                        "colorbar": {
                          "outlinewidth": 0,
                          "ticks": ""
                        },
                        "colorscale": [
                          [
                            0,
                            "#0d0887"
                          ],
                          [
                            0.1111111111111111,
                            "#46039f"
                          ],
                          [
                            0.2222222222222222,
                            "#7201a8"
                          ],
                          [
                            0.3333333333333333,
                            "#9c179e"
                          ],
                          [
                            0.4444444444444444,
                            "#bd3786"
                          ],
                          [
                            0.5555555555555556,
                            "#d8576b"
                          ],
                          [
                            0.6666666666666666,
                            "#ed7953"
                          ],
                          [
                            0.7777777777777778,
                            "#fb9f3a"
                          ],
                          [
                            0.8888888888888888,
                            "#fdca26"
                          ],
                          [
                            1,
                            "#f0f921"
                          ]
                        ],
                        "type": "heatmap"
                      }
                    ],
                    "histogram": [
                      {
                        "marker": {
                          "pattern": {
                            "fillmode": "overlay",
                            "size": 10,
                            "solidity": 0.2
                          }
                        },
                        "type": "histogram"
                      }
                    ],
                    "histogram2d": [
                      {
                        "colorbar": {
                          "outlinewidth": 0,
                          "ticks": ""
                        },
                        "colorscale": [
                          [
                            0,
                            "#0d0887"
                          ],
                          [
                            0.1111111111111111,
                            "#46039f"
                          ],
                          [
                            0.2222222222222222,
                            "#7201a8"
                          ],
                          [
                            0.3333333333333333,
                            "#9c179e"
                          ],
                          [
                            0.4444444444444444,
                            "#bd3786"
                          ],
                          [
                            0.5555555555555556,
                            "#d8576b"
                          ],
                          [
                            0.6666666666666666,
                            "#ed7953"
                          ],
                          [
                            0.7777777777777778,
                            "#fb9f3a"
                          ],
                          [
                            0.8888888888888888,
                            "#fdca26"
                          ],
                          [
                            1,
                            "#f0f921"
                          ]
                        ],
                        "type": "histogram2d"
                      }
                    ],
                    "histogram2dcontour": [
                      {
                        "colorbar": {
                          "outlinewidth": 0,
                          "ticks": ""
                        },
                        "colorscale": [
                          [
                            0,
                            "#0d0887"
                          ],
                          [
                            0.1111111111111111,
                            "#46039f"
                          ],
                          [
                            0.2222222222222222,
                            "#7201a8"
                          ],
                          [
                            0.3333333333333333,
                            "#9c179e"
                          ],
                          [
                            0.4444444444444444,
                            "#bd3786"
                          ],
                          [
                            0.5555555555555556,
                            "#d8576b"
                          ],
                          [
                            0.6666666666666666,
                            "#ed7953"
                          ],
                          [
                            0.7777777777777778,
                            "#fb9f3a"
                          ],
                          [
                            0.8888888888888888,
                            "#fdca26"
                          ],
                          [
                            1,
                            "#f0f921"
                          ]
                        ],
                        "type": "histogram2dcontour"
                      }
                    ],
                    "mesh3d": [
                      {
                        "colorbar": {
                          "outlinewidth": 0,
                          "ticks": ""
                        },
                        "type": "mesh3d"
                      }
                    ],
                    "parcoords": [
                      {
                        "line": {
                          "colorbar": {
                            "outlinewidth": 0,
                            "ticks": ""
                          }
                        },
                        "type": "parcoords"
                      }
                    ],
                    "pie": [
                      {
                        "automargin": true,
                        "type": "pie"
                      }
                    ],
                    "scatter": [
                      {
                        "fillpattern": {
                          "fillmode": "overlay",
                          "size": 10,
                          "solidity": 0.2
                        },
                        "type": "scatter"
                      }
                    ],
                    "scatter3d": [
                      {
                        "line": {
                          "colorbar": {
                            "outlinewidth": 0,
                            "ticks": ""
                          }
                        },
                        "marker": {
                          "colorbar": {
                            "outlinewidth": 0,
                            "ticks": ""
                          }
                        },
                        "type": "scatter3d"
                      }
                    ],
                    "scattercarpet": [
                      {
                        "marker": {
                          "colorbar": {
                            "outlinewidth": 0,
                            "ticks": ""
                          }
                        },
                        "type": "scattercarpet"
                      }
                    ],
                    "scattergeo": [
                      {
                        "marker": {
                          "colorbar": {
                            "outlinewidth": 0,
                            "ticks": ""
                          }
                        },
                        "type": "scattergeo"
                      }
                    ],
                    "scattergl": [
                      {
                        "marker": {
                          "colorbar": {
                            "outlinewidth": 0,
                            "ticks": ""
                          }
                        },
                        "type": "scattergl"
                      }
                    ],
                    "scattermap": [
                      {
                        "marker": {
                          "colorbar": {
                            "outlinewidth": 0,
                            "ticks": ""
                          }
                        },
                        "type": "scattermap"
                      }
                    ],
                    "scattermapbox": [
                      {
                        "marker": {
                          "colorbar": {
                            "outlinewidth": 0,
                            "ticks": ""
                          }
                        },
                        "type": "scattermapbox"
                      }
                    ],
                    "scatterpolar": [
                      {
                        "marker": {
                          "colorbar": {
                            "outlinewidth": 0,
                            "ticks": ""
                          }
                        },
                        "type": "scatterpolar"
                      }
                    ],
                    "scatterpolargl": [
                      {
                        "marker": {
                          "colorbar": {
                            "outlinewidth": 0,
                            "ticks": ""
                          }
                        },
                        "type": "scatterpolargl"
                      }
                    ],
                    "scatterternary": [
                      {
                        "marker": {
                          "colorbar": {
                            "outlinewidth": 0,
                            "ticks": ""
                          }
                        },
                        "type": "scatterternary"
                      }
                    ],
                    "surface": [
                      {
                        "colorbar": {
                          "outlinewidth": 0,
                          "ticks": ""
                        },
                        "colorscale": [
                          [
                            0,
                            "#0d0887"
                          ],
                          [
                            0.1111111111111111,
                            "#46039f"
                          ],
                          [
                            0.2222222222222222,
                            "#7201a8"
                          ],
                          [
                            0.3333333333333333,
                            "#9c179e"
                          ],
                          [
                            0.4444444444444444,
                            "#bd3786"
                          ],
                          [
                            0.5555555555555556,
                            "#d8576b"
                          ],
                          [
                            0.6666666666666666,
                            "#ed7953"
                          ],
                          [
                            0.7777777777777778,
                            "#fb9f3a"
                          ],
                          [
                            0.8888888888888888,
                            "#fdca26"
                          ],
                          [
                            1,
                            "#f0f921"
                          ]
                        ],
                        "type": "surface"
                      }
                    ],
                    "table": [
                      {
                        "cells": {
                          "fill": {
                            "color": "#EBF0F8"
                          },
                          "line": {
                            "color": "white"
                          }
                        },
                        "header": {
                          "fill": {
                            "color": "#C8D4E3"
                          },
                          "line": {
                            "color": "white"
                          }
                        },
                        "type": "table"
                      }
                    ]
                  },
                  "layout": {
                    "annotationdefaults": {
                      "arrowcolor": "#2a3f5f",
                      "arrowhead": 0,
                      "arrowwidth": 1
                    },
                    "autotypenumbers": "strict",
                    "coloraxis": {
                      "colorbar": {
                        "outlinewidth": 0,
                        "ticks": ""
                      }
                    },
                    "colorscale": {
                      "diverging": [
                        [
                          0,
                          "#8e0152"
                        ],
                        [
                          0.1,
                          "#c51b7d"
                        ],
                        [
                          0.2,
                          "#de77ae"
                        ],
                        [
                          0.3,
                          "#f1b6da"
                        ],
                        [
                          0.4,
                          "#fde0ef"
                        ],
                        [
                          0.5,
                          "#f7f7f7"
                        ],
                        [
                          0.6,
                          "#e6f5d0"
                        ],
                        [
                          0.7,
                          "#b8e186"
                        ],
                        [
                          0.8,
                          "#7fbc41"
                        ],
                        [
                          0.9,
                          "#4d9221"
                        ],
                        [
                          1,
                          "#276419"
                        ]
                      ],
                      "sequential": [
                        [
                          0,
                          "#0d0887"
                        ],
                        [
                          0.1111111111111111,
                          "#46039f"
                        ],
                        [
                          0.2222222222222222,
                          "#7201a8"
                        ],
                        [
                          0.3333333333333333,
                          "#9c179e"
                        ],
                        [
                          0.4444444444444444,
                          "#bd3786"
                        ],
                        [
                          0.5555555555555556,
                          "#d8576b"
                        ],
                        [
                          0.6666666666666666,
                          "#ed7953"
                        ],
                        [
                          0.7777777777777778,
                          "#fb9f3a"
                        ],
                        [
                          0.8888888888888888,
                          "#fdca26"
                        ],
                        [
                          1,
                          "#f0f921"
                        ]
                      ],
                      "sequentialminus": [
                        [
                          0,
                          "#0d0887"
                        ],
                        [
                          0.1111111111111111,
                          "#46039f"
                        ],
                        [
                          0.2222222222222222,
                          "#7201a8"
                        ],
                        [
                          0.3333333333333333,
                          "#9c179e"
                        ],
                        [
                          0.4444444444444444,
                          "#bd3786"
                        ],
                        [
                          0.5555555555555556,
                          "#d8576b"
                        ],
                        [
                          0.6666666666666666,
                          "#ed7953"
                        ],
                        [
                          0.7777777777777778,
                          "#fb9f3a"
                        ],
                        [
                          0.8888888888888888,
                          "#fdca26"
                        ],
                        [
                          1,
                          "#f0f921"
                        ]
                      ]
                    },
                    "colorway": [
                      "#636efa",
                      "#EF553B",
                      "#00cc96",
                      "#ab63fa",
                      "#FFA15A",
                      "#19d3f3",
                      "#FF6692",
                      "#B6E880",
                      "#FF97FF",
                      "#FECB52"
                    ],
                    "font": {
                      "color": "#2a3f5f"
                    },
                    "geo": {
                      "bgcolor": "white",
                      "lakecolor": "white",
                      "landcolor": "#E5ECF6",
                      "showlakes": true,
                      "showland": true,
                      "subunitcolor": "white"
                    },
                    "hoverlabel": {
                      "align": "left"
                    },
                    "hovermode": "closest",
                    "mapbox": {
                      "style": "light"
                    },
                    "paper_bgcolor": "white",
                    "plot_bgcolor": "#E5ECF6",
                    "polar": {
                      "angularaxis": {
                        "gridcolor": "white",
                        "linecolor": "white",
                        "ticks": ""
                      },
                      "bgcolor": "#E5ECF6",
                      "radialaxis": {
                        "gridcolor": "white",
                        "linecolor": "white",
                        "ticks": ""
                      }
                    },
                    "scene": {
                      "xaxis": {
                        "backgroundcolor": "#E5ECF6",
                        "gridcolor": "white",
                        "gridwidth": 2,
                        "linecolor": "white",
                        "showbackground": true,
                        "ticks": "",
                        "zerolinecolor": "white"
                      },
                      "yaxis": {
                        "backgroundcolor": "#E5ECF6",
                        "gridcolor": "white",
                        "gridwidth": 2,
                        "linecolor": "white",
                        "showbackground": true,
                        "ticks": "",
                        "zerolinecolor": "white"
                      },
                      "zaxis": {
                        "backgroundcolor": "#E5ECF6",
                        "gridcolor": "white",
                        "gridwidth": 2,
                        "linecolor": "white",
                        "showbackground": true,
                        "ticks": "",
                        "zerolinecolor": "white"
                      }
                    },
                    "shapedefaults": {
                      "line": {
                        "color": "#2a3f5f"
                      }
                    },
                    "ternary": {
                      "aaxis": {
                        "gridcolor": "white",
                        "linecolor": "white",
                        "ticks": ""
                      },
                      "baxis": {
                        "gridcolor": "white",
                        "linecolor": "white",
                        "ticks": ""
                      },
                      "bgcolor": "#E5ECF6",
                      "caxis": {
                        "gridcolor": "white",
                        "linecolor": "white",
                        "ticks": ""
                      }
                    },
                    "title": {
                      "x": 0.05
                    },
                    "xaxis": {
                      "automargin": true,
                      "gridcolor": "white",
                      "linecolor": "white",
                      "ticks": "",
                      "title": {
                        "standoff": 15
                      },
                      "zerolinecolor": "white",
                      "zerolinewidth": 2
                    },
                    "yaxis": {
                      "automargin": true,
                      "gridcolor": "white",
                      "linecolor": "white",
                      "ticks": "",
                      "title": {
                        "standoff": 15
                      },
                      "zerolinecolor": "white",
                      "zerolinewidth": 2
                    }
                  }
                },
                "title": {
                  "text": "Empirical Distributions"
                },
                "xaxis": {
                  "anchor": "y",
                  "domain": [
                    0,
                    1
                  ],
                  "title": {
                    "text": "value"
                  }
                },
                "yaxis": {
                  "anchor": "x",
                  "domain": [
                    0,
                    1
                  ],
                  "title": {
                    "text": "probability"
                  }
                }
              }
            }
          },
          "metadata": {},
          "output_type": "display_data"
        }
      ],
      "source": [
        "plot_df = sim_rolls_df[[\"2 X_1\", \"X_1 + X_2\"]].melt()\n",
        "\n",
        "# Show 5 random rows of plot_df\n",
        "display(plot_df.sample(5))\n",
        "\n",
        "px.histogram(\n",
        "  plot_df,\n",
        "  x=\"value\", \n",
        "  color=\"variable\", \n",
        "  barmode=\"overlay\", \n",
        "  histnorm=\"probability\",\n",
        "  title=\"Empirical Distributions\"\n",
        ")\n"
      ]
    },
    {
      "cell_type": "code",
      "execution_count": null,
      "id": "2e12c993-b92e-473f-b604-e918716078b5",
      "metadata": {},
      "outputs": [
        {
          "data": {
            "text/html": [
              "<div>\n",
              "<style scoped>\n",
              "    .dataframe tbody tr th:only-of-type {\n",
              "        vertical-align: middle;\n",
              "    }\n",
              "\n",
              "    .dataframe tbody tr th {\n",
              "        vertical-align: top;\n",
              "    }\n",
              "\n",
              "    .dataframe thead th {\n",
              "        text-align: right;\n",
              "    }\n",
              "</style>\n",
              "<table border=\"1\" class=\"dataframe\">\n",
              "  <thead>\n",
              "    <tr style=\"text-align: right;\">\n",
              "      <th></th>\n",
              "      <th>2 X_1</th>\n",
              "      <th>X_1 + X_2</th>\n",
              "    </tr>\n",
              "  </thead>\n",
              "  <tbody>\n",
              "    <tr>\n",
              "      <th>Mean</th>\n",
              "      <td>7.002925</td>\n",
              "      <td>7.001050</td>\n",
              "    </tr>\n",
              "    <tr>\n",
              "      <th>Var</th>\n",
              "      <td>11.707838</td>\n",
              "      <td>5.830897</td>\n",
              "    </tr>\n",
              "    <tr>\n",
              "      <th>SD</th>\n",
              "      <td>3.421672</td>\n",
              "      <td>2.414725</td>\n",
              "    </tr>\n",
              "  </tbody>\n",
              "</table>\n",
              "</div>"
            ],
            "text/plain": [
              "          2 X_1  X_1 + X_2\n",
              "Mean   7.002925   7.001050\n",
              "Var   11.707838   5.830897\n",
              "SD     3.421672   2.414725"
            ]
          },
          "execution_count": 127,
          "metadata": {},
          "output_type": "execute_result"
        }
      ],
      "source": [
        "# The empirical means are nearly identical, but the variance\n",
        "# of the two rolls is lower than doubling the first roll.\n",
        "pd.DataFrame([\n",
        "    sim_rolls_df[[\"2 X_1\", \"X_1 + X_2\"]].mean().rename(\"Mean\"),\n",
        "    sim_rolls_df[[\"2 X_1\", \"X_1 + X_2\"]].var().rename(\"Var\"),\n",
        "    np.sqrt(sim_rolls_df[[\"2 X_1\", \"X_1 + X_2\"]].var()).rename(\"SD\")\n",
        "])"
      ]
    },
    {
      "cell_type": "markdown",
      "id": "08fe565e-f5bc-48f6-a7e4-2b111f348352",
      "metadata": {
        "tags": []
      },
      "source": [
        "<br/><br/>\n",
        "\n",
        "---\n",
        "\n",
        "# Which would you pick?\n",
        "\n",
        "> This is a similar demonstration to the double dice roll above. We won't cover it together during the lecture.\n",
        "\n",
        "* $\\large Y_A = 10 X_1 + 10 X_2 $\n",
        "* $\\large Y_B = \\sum\\limits_{i=1}^{20} X_i$\n",
        "* $\\large Y_C = 20 X_1$"
      ]
    },
    {
      "cell_type": "markdown",
      "id": "45805b3b-e965-4992-99e2-4fa2233908ba",
      "metadata": {},
      "source": [
        "First let's construct the probability distribution for a single coin. This will let us flip 20 IID coins later."
      ]
    },
    {
      "cell_type": "code",
      "execution_count": null,
      "id": "95a3afac-6cf2-4aed-a302-473d94267656",
      "metadata": {},
      "outputs": [
        {
          "data": {
            "text/html": [
              "<div>\n",
              "<style scoped>\n",
              "    .dataframe tbody tr th:only-of-type {\n",
              "        vertical-align: middle;\n",
              "    }\n",
              "\n",
              "    .dataframe tbody tr th {\n",
              "        vertical-align: top;\n",
              "    }\n",
              "\n",
              "    .dataframe thead th {\n",
              "        text-align: right;\n",
              "    }\n",
              "</style>\n",
              "<table border=\"1\" class=\"dataframe\">\n",
              "  <thead>\n",
              "    <tr style=\"text-align: right;\">\n",
              "      <th></th>\n",
              "      <th>x</th>\n",
              "      <th>P(X = x)</th>\n",
              "    </tr>\n",
              "  </thead>\n",
              "  <tbody>\n",
              "    <tr>\n",
              "      <th>0</th>\n",
              "      <td>1</td>\n",
              "      <td>0.5</td>\n",
              "    </tr>\n",
              "    <tr>\n",
              "      <th>1</th>\n",
              "      <td>0</td>\n",
              "      <td>0.5</td>\n",
              "    </tr>\n",
              "  </tbody>\n",
              "</table>\n",
              "</div>"
            ],
            "text/plain": [
              "   x  P(X = x)\n",
              "0  1       0.5\n",
              "1  0       0.5"
            ]
          },
          "execution_count": 22,
          "metadata": {},
          "output_type": "execute_result"
        }
      ],
      "source": [
        "# First construct probability distribution for a single fair coin\n",
        "p = 0.5\n",
        "coin_df = pd.DataFrame({\"x\": [1, 0], # [Heads, Tails]\n",
        "                        \"P(X = x)\": [p, 1 - p]})\n",
        "coin_df"
      ]
    },
    {
      "cell_type": "markdown",
      "id": "a96bc5e4-47b1-4604-8e43-8a694235a170",
      "metadata": {},
      "source": [
        "## Choice A:\n",
        "$\\large Y_A = 10 X_1 + 10 X_2 $"
      ]
    },
    {
      "cell_type": "code",
      "execution_count": null,
      "id": "05ee3f27-2eeb-43d3-858e-c77c0b04d5d0",
      "metadata": {},
      "outputs": [
        {
          "data": {
            "text/plain": [
              "array([[False,  True],\n",
              "       [False, False],\n",
              "       [ True,  True],\n",
              "       ...,\n",
              "       [ True, False],\n",
              "       [ True, False],\n",
              "       [False,  True]])"
            ]
          },
          "execution_count": 23,
          "metadata": {},
          "output_type": "execute_result"
        }
      ],
      "source": [
        "N = 10000\n",
        "\n",
        "np.random.rand(N,2) < p"
      ]
    },
    {
      "cell_type": "code",
      "execution_count": null,
      "id": "07dc449b-ec09-47d1-9993-fc22c2da3ed9",
      "metadata": {},
      "outputs": [
        {
          "data": {
            "text/html": [
              "<div>\n",
              "<style scoped>\n",
              "    .dataframe tbody tr th:only-of-type {\n",
              "        vertical-align: middle;\n",
              "    }\n",
              "\n",
              "    .dataframe tbody tr th {\n",
              "        vertical-align: top;\n",
              "    }\n",
              "\n",
              "    .dataframe thead th {\n",
              "        text-align: right;\n",
              "    }\n",
              "</style>\n",
              "<table border=\"1\" class=\"dataframe\">\n",
              "  <thead>\n",
              "    <tr style=\"text-align: right;\">\n",
              "      <th></th>\n",
              "      <th>Choice A</th>\n",
              "    </tr>\n",
              "  </thead>\n",
              "  <tbody>\n",
              "    <tr>\n",
              "      <th>0</th>\n",
              "      <td>10</td>\n",
              "    </tr>\n",
              "    <tr>\n",
              "      <th>1</th>\n",
              "      <td>10</td>\n",
              "    </tr>\n",
              "    <tr>\n",
              "      <th>2</th>\n",
              "      <td>10</td>\n",
              "    </tr>\n",
              "    <tr>\n",
              "      <th>3</th>\n",
              "      <td>20</td>\n",
              "    </tr>\n",
              "    <tr>\n",
              "      <th>4</th>\n",
              "      <td>0</td>\n",
              "    </tr>\n",
              "    <tr>\n",
              "      <th>...</th>\n",
              "      <td>...</td>\n",
              "    </tr>\n",
              "    <tr>\n",
              "      <th>9995</th>\n",
              "      <td>10</td>\n",
              "    </tr>\n",
              "    <tr>\n",
              "      <th>9996</th>\n",
              "      <td>10</td>\n",
              "    </tr>\n",
              "    <tr>\n",
              "      <th>9997</th>\n",
              "      <td>10</td>\n",
              "    </tr>\n",
              "    <tr>\n",
              "      <th>9998</th>\n",
              "      <td>10</td>\n",
              "    </tr>\n",
              "    <tr>\n",
              "      <th>9999</th>\n",
              "      <td>0</td>\n",
              "    </tr>\n",
              "  </tbody>\n",
              "</table>\n",
              "<p>10000 rows × 1 columns</p>\n",
              "</div>"
            ],
            "text/plain": [
              "      Choice A\n",
              "0           10\n",
              "1           10\n",
              "2           10\n",
              "3           20\n",
              "4            0\n",
              "...        ...\n",
              "9995        10\n",
              "9996        10\n",
              "9997        10\n",
              "9998        10\n",
              "9999         0\n",
              "\n",
              "[10000 rows x 1 columns]"
            ]
          },
          "execution_count": 24,
          "metadata": {},
          "output_type": "execute_result"
        }
      ],
      "source": [
        "sim_flips = pd.DataFrame(\n",
        "    {\"Choice A\": np.sum((np.random.rand(N,2) < p) * 10, axis=1)})\n",
        "sim_flips"
      ]
    },
    {
      "cell_type": "markdown",
      "id": "96011076-1c3c-41a8-bbb6-df51348d6f8e",
      "metadata": {
        "tags": []
      },
      "source": [
        "## Choice B:\n",
        "\n",
        "$\\large Y_B = \\sum\\limits_{i=1}^{20} X_i$"
      ]
    },
    {
      "cell_type": "code",
      "execution_count": null,
      "id": "202653ab-aaa5-497e-a1d7-58bfdc22db8a",
      "metadata": {},
      "outputs": [
        {
          "data": {
            "text/html": [
              "<div>\n",
              "<style scoped>\n",
              "    .dataframe tbody tr th:only-of-type {\n",
              "        vertical-align: middle;\n",
              "    }\n",
              "\n",
              "    .dataframe tbody tr th {\n",
              "        vertical-align: top;\n",
              "    }\n",
              "\n",
              "    .dataframe thead th {\n",
              "        text-align: right;\n",
              "    }\n",
              "</style>\n",
              "<table border=\"1\" class=\"dataframe\">\n",
              "  <thead>\n",
              "    <tr style=\"text-align: right;\">\n",
              "      <th></th>\n",
              "      <th>Choice A</th>\n",
              "      <th>Choice B</th>\n",
              "    </tr>\n",
              "  </thead>\n",
              "  <tbody>\n",
              "    <tr>\n",
              "      <th>0</th>\n",
              "      <td>10</td>\n",
              "      <td>10</td>\n",
              "    </tr>\n",
              "    <tr>\n",
              "      <th>1</th>\n",
              "      <td>10</td>\n",
              "      <td>11</td>\n",
              "    </tr>\n",
              "    <tr>\n",
              "      <th>2</th>\n",
              "      <td>10</td>\n",
              "      <td>8</td>\n",
              "    </tr>\n",
              "    <tr>\n",
              "      <th>3</th>\n",
              "      <td>20</td>\n",
              "      <td>9</td>\n",
              "    </tr>\n",
              "    <tr>\n",
              "      <th>4</th>\n",
              "      <td>0</td>\n",
              "      <td>9</td>\n",
              "    </tr>\n",
              "    <tr>\n",
              "      <th>...</th>\n",
              "      <td>...</td>\n",
              "      <td>...</td>\n",
              "    </tr>\n",
              "    <tr>\n",
              "      <th>9995</th>\n",
              "      <td>10</td>\n",
              "      <td>13</td>\n",
              "    </tr>\n",
              "    <tr>\n",
              "      <th>9996</th>\n",
              "      <td>10</td>\n",
              "      <td>11</td>\n",
              "    </tr>\n",
              "    <tr>\n",
              "      <th>9997</th>\n",
              "      <td>10</td>\n",
              "      <td>8</td>\n",
              "    </tr>\n",
              "    <tr>\n",
              "      <th>9998</th>\n",
              "      <td>10</td>\n",
              "      <td>9</td>\n",
              "    </tr>\n",
              "    <tr>\n",
              "      <th>9999</th>\n",
              "      <td>0</td>\n",
              "      <td>11</td>\n",
              "    </tr>\n",
              "  </tbody>\n",
              "</table>\n",
              "<p>10000 rows × 2 columns</p>\n",
              "</div>"
            ],
            "text/plain": [
              "      Choice A  Choice B\n",
              "0           10        10\n",
              "1           10        11\n",
              "2           10         8\n",
              "3           20         9\n",
              "4            0         9\n",
              "...        ...       ...\n",
              "9995        10        13\n",
              "9996        10        11\n",
              "9997        10         8\n",
              "9998        10         9\n",
              "9999         0        11\n",
              "\n",
              "[10000 rows x 2 columns]"
            ]
          },
          "execution_count": 25,
          "metadata": {},
          "output_type": "execute_result"
        }
      ],
      "source": [
        "sim_flips[\"Choice B\"] = np.sum((np.random.rand(N,20) < p), axis=1)\n",
        "sim_flips"
      ]
    },
    {
      "cell_type": "markdown",
      "id": "643826bd-e107-49ab-a702-2ca3d8de0ba9",
      "metadata": {
        "tags": []
      },
      "source": [
        "## Choice C:\n",
        "\n",
        "$\\large Y_C = 20 X_1$"
      ]
    },
    {
      "cell_type": "code",
      "execution_count": null,
      "id": "31a03cb8-5af4-4ce1-bc39-dd96951da7d5",
      "metadata": {},
      "outputs": [
        {
          "data": {
            "text/html": [
              "<div>\n",
              "<style scoped>\n",
              "    .dataframe tbody tr th:only-of-type {\n",
              "        vertical-align: middle;\n",
              "    }\n",
              "\n",
              "    .dataframe tbody tr th {\n",
              "        vertical-align: top;\n",
              "    }\n",
              "\n",
              "    .dataframe thead th {\n",
              "        text-align: right;\n",
              "    }\n",
              "</style>\n",
              "<table border=\"1\" class=\"dataframe\">\n",
              "  <thead>\n",
              "    <tr style=\"text-align: right;\">\n",
              "      <th></th>\n",
              "      <th>Choice A</th>\n",
              "      <th>Choice B</th>\n",
              "      <th>Choice C</th>\n",
              "    </tr>\n",
              "  </thead>\n",
              "  <tbody>\n",
              "    <tr>\n",
              "      <th>0</th>\n",
              "      <td>10</td>\n",
              "      <td>10</td>\n",
              "      <td>20</td>\n",
              "    </tr>\n",
              "    <tr>\n",
              "      <th>1</th>\n",
              "      <td>10</td>\n",
              "      <td>11</td>\n",
              "      <td>20</td>\n",
              "    </tr>\n",
              "    <tr>\n",
              "      <th>2</th>\n",
              "      <td>10</td>\n",
              "      <td>8</td>\n",
              "      <td>0</td>\n",
              "    </tr>\n",
              "    <tr>\n",
              "      <th>3</th>\n",
              "      <td>20</td>\n",
              "      <td>9</td>\n",
              "      <td>20</td>\n",
              "    </tr>\n",
              "    <tr>\n",
              "      <th>4</th>\n",
              "      <td>0</td>\n",
              "      <td>9</td>\n",
              "      <td>20</td>\n",
              "    </tr>\n",
              "    <tr>\n",
              "      <th>...</th>\n",
              "      <td>...</td>\n",
              "      <td>...</td>\n",
              "      <td>...</td>\n",
              "    </tr>\n",
              "    <tr>\n",
              "      <th>9995</th>\n",
              "      <td>10</td>\n",
              "      <td>13</td>\n",
              "      <td>20</td>\n",
              "    </tr>\n",
              "    <tr>\n",
              "      <th>9996</th>\n",
              "      <td>10</td>\n",
              "      <td>11</td>\n",
              "      <td>20</td>\n",
              "    </tr>\n",
              "    <tr>\n",
              "      <th>9997</th>\n",
              "      <td>10</td>\n",
              "      <td>8</td>\n",
              "      <td>0</td>\n",
              "    </tr>\n",
              "    <tr>\n",
              "      <th>9998</th>\n",
              "      <td>10</td>\n",
              "      <td>9</td>\n",
              "      <td>20</td>\n",
              "    </tr>\n",
              "    <tr>\n",
              "      <th>9999</th>\n",
              "      <td>0</td>\n",
              "      <td>11</td>\n",
              "      <td>0</td>\n",
              "    </tr>\n",
              "  </tbody>\n",
              "</table>\n",
              "<p>10000 rows × 3 columns</p>\n",
              "</div>"
            ],
            "text/plain": [
              "      Choice A  Choice B  Choice C\n",
              "0           10        10        20\n",
              "1           10        11        20\n",
              "2           10         8         0\n",
              "3           20         9        20\n",
              "4            0         9        20\n",
              "...        ...       ...       ...\n",
              "9995        10        13        20\n",
              "9996        10        11        20\n",
              "9997        10         8         0\n",
              "9998        10         9        20\n",
              "9999         0        11         0\n",
              "\n",
              "[10000 rows x 3 columns]"
            ]
          },
          "execution_count": 26,
          "metadata": {},
          "output_type": "execute_result"
        }
      ],
      "source": [
        "sim_flips[\"Choice C\"] = 20  * (np.random.rand(N,1) < p) \n",
        "sim_flips"
      ]
    },
    {
      "cell_type": "markdown",
      "id": "34170d01-b2b1-4f94-a8b5-78aec5a1b36a",
      "metadata": {},
      "source": [
        "<br/>\n",
        "If you're curious as to what these distributions look like, I've simulated some populations:"
      ]
    },
    {
      "cell_type": "code",
      "execution_count": null,
      "id": "60aa4de0-e768-46aa-b2e7-522bbcdf7aab",
      "metadata": {},
      "outputs": [
        {
          "data": {
            "application/vnd.plotly.v1+json": {
              "config": {
                "plotlyServerURL": "https://plot.ly"
              },
              "data": [
                {
                  "bingroup": "x",
                  "histnorm": "probability",
                  "hovertemplate": "variable=Choice A<br>value=%{x}<br>probability=%{y}<extra></extra>",
                  "legendgroup": "",
                  "marker": {
                    "color": "#636efa",
                    "opacity": 0.5,
                    "pattern": {
                      "shape": ""
                    }
                  },
                  "name": "",
                  "orientation": "v",
                  "showlegend": false,
                  "type": "histogram",
                  "x": {
                    "bdata": "CgoKFAAKCgAKFAoUAAoKFAAAFAoKFAAUChQKCgAUCgoAFAoUFAoUCgAACgoKFBQKCgAKCgoKCgoKCgoACgoKChQKChQUABQAAAoKAAAKFAoUCgoACgAUCgoACgAKAAAKCgAAChQKCgoUAAAUCgAUFBQUAAAUFAoKCgAUCgoKCgAKFAAKCgoKFAoAAAoAFAoAFAoAChQKFBQUCgAKCgAKCgAKABQKCgAAAAAUFAoKCgoKAAoACgoKCgAKCgoKCgAUChQKFBQKFBQKFAAAFBQAAAoAChQUCgAKFAoUFBQKFAAKCgAKAAoKFAAKFBQKAAAKCgAACgAUCgAAAAoKFAoKFAoKAAoUCgoUFAoUAAoACgoKAAoKAAoKAAAKFAoAChQKFAoKCgAKCgoKAAoKCgAKCgoKFAAKCgoKAAoKAAAKAAoKAAoUAAAKCgoAFBQKCgoAAAoACgAAAAoKCgoAFAAAFAAAAAoKFBQKCgoKCgoKCgoKCgoKAAoAChQUABQKCgoKFAoUChQUFAoKAAoKCgAKAAoUFAAKFBQKFBQUAAoACgoUCgoKCgoKFBQKCgoKFAoKABQKAAAKFBQKCgoAFBQKChQACgoKFAoAChQKCgoKAAoUChQKABQACgAUCgAUCgoUChQKFAoUCgoKCgoKCgoKCgoUCgoKFAAKAAAKFAoAAAAKChQAABQAFAAACgoKCgoKCgAAChQACgAKFBQUCgoKCgoKCgoUCgoKCgAAAAAKCgoUAAoACgoKCgoACgoUFAoKChQKCgoKCgAKCgoAAAoKFAoUFBQUAAAACgoAABQKChQKFAoAChQAFAoKFAoAAAoUChQACgoKFAoUCgAUCgoUCgAKCgAKFBQUAAAUFAoUFAoAAAoAFAoAAAoKCgoKCgoKCgAKFAAKFAoACgoKAAoKFBQAAAoUAAoUAAAACgoKCgoKCgAKFAoKFBQKCgoUFBQKCgoKCgoKFAAKAAAUCgoKCgAKCgoKChQKFAoKCgAACgAKCgoKCgoUCgoKCgoUABQKCgoKCgoKAAAAAAoUCgoUAAoUCgoKAAoKChQKAAAUAAAUAAAKFAoKCgoKChQUChQAChQUAAoUFBQKChQKCgoKFBQKChQKCgAUCgoUFBQKChQACgoUFAAKChQKFAoKABQKChQAABQUCgoUCgoUABQACgoKFAoKCgoKFAoAChQUCgAKCgoKCgoAFBQUABQUCgoAAAoAFBQKAAoKFBQUFAAKCgoAFAAAABQUCgAKFAoUCgAUFBQKFBQKAAoKFBQKCgoKABQKFBQKFAoKCgAUCgoUCgoACgAKCgoAFAAKAAoUCgoKFAoKABQAFAAACgoKAAoKChQAChQKChQKCgoKCgAKCgoAFAoAFAAAFBQKCgoKAAoKChQUABQUCgAKChQACgoKFAAAFAoKFAoKChQAAAAAChQACgoKCgoKFAoACgoKAAAKChQUChQUFBQACgoUCgoKFAoKFBQUCgAUCgAUCgoUCgAACgoUAAoKCgAKAAAKCgoACgAKCgoKCgoUCgoACgoKCgoAFAAUCgoAABQUCgoUCgoUAAoUCgoUAAoUCgAACgoUCgoUChQUFAoKFAoAFAoUCgAUFBQACgoAABQACgoAABQKChQKCgoKCgAKFAAKFAAUCgoKChQUCgAUFAAUFAAACgoKCgoACgoKAAoKCgoKFAoKFAAKCgoKCgAKFAoUCgoKChQKCgoUCgoUFAoKCgoUChQACgAUCgoUABQKCgoKAAoKChQKAAoKCgAKCgAKChQAAAoKChQKABQUChQACgoKABQKCgAKFAoUFAAKCgoUCgoAABQAFAoUFAoAAAoAFAoUAAAACgoKCgoKCgoKABQKCgoKCgAKChQUFAoKCgoAAAAKCgAKChQUCgoAAAoKAAAKFBQKCgoKAAoUFAoACgoKFAoAChQKFAoUFBQKFAoAFAoACgoACgoKCgoACgAACgoKFAoACgAKABQUCgoKFBQKCgAKFAAKAAAKFAoKCgoAChQKCgAKFAoUChQUChQKABQAFBQKFAoKChQKFBQKCgoKAAoAChQKFAoKCgoUCgoKFAAUCgoKAAAACgAKAAAKFAoUABQKCgoKFAAKAAoKFAoUCgAKCgoUAAAUCgoKAAAACgoKCgoUChQACgAACgoACgAKFAoKCgAACgAKAAoKFAoUAAAKChQKAAAUCgAUCgAKCgoKCgoAChQKABQKAAAAChQACgoAAAAKFAoUChQUCgoKCgAKCgoACgoKCgAKCgoKAAAKChQUAAAKCgoKABQAAAoACgoKFAoKCgAACgAKCgoAFBQUAAAUFAoKCgoAFAoKCgoAFAoKFAoAFAoUCgoAABQKChQAABQUCgAACgAUCgoUFAoUFAAKCgoKCgAKCgAAFAAKFAoKCgoAAAAAAAoKFAoUFAAKAAoKCgoKAAoKAAoUChQKChQUCgoUCgoKCgoKCgoKCgAKFAoUCgAUCgoKCgoKCgAKCgoUAAoAChQACgoKChQKFAoUChQKAAoKCgoUCgoUAAoKCgoKCgAUCgoKFAoUChQUCgoUCgoKAAAUCgoUChQUCgoKABQKCgoUFAoAFAoKABQUCgoUChQUCgoAAAAUCgAKAAAUCgoAAAoKCgoUCgoAFAoKAAoUAAAACgoAABQKAAoACgAKAAoAFAAUFAoUCgAACgoUFAAAChQAChQUChQKFAAAABQKCgAUFAAACgoUChQKAAoKAAAKChQKAAoKAAoKFAAKCgAKFAoUCgoKAAoUAAoKCgoKFBQAABQKAAoUFBQKCgoAFAoKABQAChQKCgoUCgoKCgoAChQUCgAKChQAFBQACgoAFAoAABQACgoKChQKFAoKCgAAFAoKCgAKFAAKFBQUAAoAAAoKCgoACgAKAAAKABQAAAoKChQAAAAKAAAUCgoUAAoKABQACgoUCgAKCgoKCgoUFAoKAAoUCgAKFAoUAAoAAAoAAAAKAAoAAAoKCgAKAAoKAAAAChQKChQACgoKFAAKCgoKFAAKChQUCgoKChQUAAoKABQKCgoUCgoUCgoACgoUFAoUFBQAAAoKCgoACgoAFAoUFBQAABQKChQKChQUAAoKFAAAAAAAAAoKCgoKFAoKCgAKCgoUABQKCgoKFAAUFAoKFBQUAAAKCgAUABQUCgoKFAAKCgAAAAoKAAoUCgoKABQKFAAKCgoACgoKFAoUFAoKABQAChQKCgoUABQACgoKCgoKCgoKCgoKCgoKCgoACgAACgoUCgoKCgAKFBQUFAoKCgAUAAoUAAAACgoAFAoKAAoKAAAKFBQAAAoACgoKCgoKChQKAAAUChQKABQKCgoKAAAUChQUABQKABQUCgoKCgAKFAAUAAoUAAAKFBQUCgoKFAoKCgAKFAoKAAAKFBQKCgAKFAoKFBQKCgoKFAoKChQKFAoKCgoKCgoKFAoKFBQKCgoACgoKFBQUCgoACgoKFAoKChQACgoACgoUFAoKAAoKChQKCgAUChQKCgAUCgoACgoAAAAUFBQKAAoKFAoAAAoAChQKFAoKCgoKAAoAFAoKABQUCgoACgAKFBQUChQKCgAAAAoUCgoAFAoUCgoKCgAAFAAUCgoUCgAKAAoKFAAKCgoKFAoUCgAUABQUChQACgAKFAoKFBQAChQKAAoKFAAUFAoAChQKCgAKFBQUAAoUChQAAAoAAAoAFAAKFBQUFAAUFAoUCgoUCgoAFAAAFAoKAAoUAAoKCgoKCgAAFAoUFAoAChQKChQUFBQUABQAFAAKCgoKAAoKChQKABQACgoKCgoKFAoAChQAFAAKCgAACgoUFAoUCgoUCgoUFBQAFAoUABQKFAoAFAoKAAoKCgoUCgAACgAKCgoACgoACgAUChQKFAoACgAKFBQUFAoUCgAKFBQKCgAKFAAKAAoKCgoKABQUFAoACgoKCgoKChQUCgoUFAAKABQKChQUCgoKCgAUCgoKFAoKCgoKChQACgoKCgoACgAAFAAKAAoAABQKCgAAAAoKChQKCgAUCgoKFAAKFAAUCgoAFBQKCgoKAAoACgAUCgAKAAAKFBQKCgoKCgoACgoKCgoKCgoUFAoUFAAAChQUCgAAFBQKFAoAAAoAABQKCgoUCgoKChQACgoKFAAAFAoAChQUChQKCgoKCgoAChQKFBQKCgAAChQKCgoKAAoAFBQAFBQACgAKAAoUFAoACgoKFAoKChQUFBQKCgoACgAAFAAAFAoKFAoACgoKCgAACgAUCgoKChQUAAAKCgoKChQUAAAUChQKCgAUCgoAAAoKCgAUCgoKABQAChQKFBQUABQKCgAAFBQAABQUCgoACgoKFAoUCgoKCgoUCgoKAAoUChQKFAAUCgoKAAoAFAAKCgoKFAoKCgAUCgoUAAoUCgoKABQUFAoKChQAFAAKCgoUAAoUChQKABQKFAoKAAoKABQAAAoUFAoAChQKCgAACgoUCgoKCgoKChQKCgoKFAoUAAoUCgAKCgAKFAoKCgAKCgoACgAKAAoKCgoKFAoKCgAKCgoACgoKCgoKCgoAChQKABQAABQUCgoUCgoAFAAKCgoACgoAChQKABQAFAoUCgAKFAAKAAoAFAoKAAoKCgoKCgoKFBQKFAoACgoUChQKChQKCgoUAAoKFAoKCgAUCgoKFAoAAAoKABQKABQUAAoAChQUCgoKFAoKAAAKFAAUCgoUFAAAFAoAAAoAABQUCgAKFBQUFAAKFAoKFAoUFBQKFAAAFAAKFAAKCgoKCgoACgoUCgoKFAoUCgAACgoUFBQKCgoKCgAACgoKCgoAFAAKFAAUCgAACgAKFAoKAAoKCgoAAAoUCgoKFAAKCgAKCgoKCgoKABQKCgoACgoKFAoAChQKCgoKCgoKAAoKFAoKAAoUAAAKFBQAABQUABQUCgoKAAoKCgAKCgAKCgoUAAoKCgoACgAUCgAACgoUCgAKFAoUFAoKFAoKCgAKChQKChQUCgoKFAAKChQKCgAKAAoKCgoKFAAAAAAAFAoKFAoKFAoKCgAKCgoKChQAChQKCgoKCgAUAAoAAAAKAAoKCgoKAAoAFAoUCgAKCgoKCgoKAAoAAAAKAAAKCgoKChQKCgAACgoAAAoAChQACgoKCgoKABQKCgoAAAoUCgoACgoKCgAKABQKAAoKCgoACgoACgAUCgoAFBQAAAoUAAoKChQKCgoAABQKCgoKFAoAFBQUFBQKCgoKFAoKAAoKFAoUChQKFAoAABQUAAoKCgoKCgAACgAKAAoKCgAKChQUCgoACgoKCgoACgAUCgoKAAAACgoKAAoACgoUCgoACgoKFAAKFAoKCgAKFBQACgAUFAAUCgoKABQKCgoUCgoKFAoKAAoACgoACgoKFBQKCgAUFAoKCgoKAAoUFAoUFAoAFBQKAAoKFAoKFAAAABQUCgoUCgoUCgAUCgAAFAAUCgAUAAoKAAoKCgoACgoACgoAFAoKFAAKFAoUFAAAFBQKChQUFAoAAAoKCgoUCgAACgoKChQKFBQAFAoUFAoKCgoKCgoACgAUFAoAFAoKCgAKAAoKFAoKChQUChQUCgoKCgAKFAoKCgoKFAAKCgAUAAAKCgAUAAoKCgoACgoUAAAUChQKFAAUAAoKFAoKCgoAFAoAFBQKFAAKFAAUAAoUCgoKFAAAFAoACgoKChQKFBQKCgoUFBQACgAUChQKCgoUCgoUCgAACgoUABQACgAACgoKChQAFBQAChQAAAoACgoKChQKFAoKAAoKAAoKCgAAFBQAChQKCgAKAAoUCgoKFAAACgAUChQUFAoKCgoKFAAKCgoKABQAAAoUAAAAFAAAFBQKABQKFAAKAAoACgoACgoAAAoUFAAAChQKFBQKCgoKCgoKCgoAFBQKAAoKCgoKFAoUCgoKAAoUCgoKCgoKFAoAAAoACgoAChQKAAoKFAoKCgoKCgoUCgoACgoKFAoKCgAKCgoUCgAUAAoKChQKFAoKFAoAFBQACgoKChQKCgoKCgoAChQKCgAKCgoKChQKFAoUFAAUFAAUChQKCgoKABQAFBQUFAoAFBQKAAAKFBQKABQKAAAAAAoKCgoKCgoKChQAFAoUAAoUCgAKChQAAAoKAAAKCgoAFAAUABQUAAoKCgAKFAoUFBQKABQAFAoUAAoKFAAACgoAFBQUAAoKABQUAAoKCgoACgoAAAAAFAoUChQKFAoKCgoUChQKAAoKAAAACgAKABQAAAAKCgoKFBQKCgoACgoKCgoKAAoUAAAKCgAKCgAKABQACgoKAAoACgAKCgoAFAAAFAoUCgAUCgoUCgoACgAAFAAKChQKCgoAFAoAFBQUCgAUCgAKChQUCgoKAAoKCgAKCgoAABQKCgoKFAAAChQUChQKChQKChQKFAoKChQKCgoKCgAACgoKABQUCgoKAAAUABQACgoUCgoKChQAChQKFBQUCgAUCgoKFBQKCgoKCgoUABQKFAAKCgAUAAoKFBQKFAoKCgoAFAoAAAoUAAoUFAAUCgAUABQKAAoKFAoKCgoUCgAUFAoUCgoAAAoUChQKChQAFAoAABQKFAAKCgoKCgAAABQKCgoACgoKAAoAFAoAFBQUChQACgoKChQKChQUFAoAAAoAFAoAFAAKFAoACgAKCgAACgoACgAKCgoAFAAKChQAAAAKAAoACgoKCgAKChQKCgoUAAoUCgAACgoUCgoAChQKFAoUChQACgAUCgoACgAAFBQAABQKABQKABQKChQUAAAKCgAUAAoAAAAAFBQUCgoAFAoAAAAKAAoKCgoUFAoUCgoKCgoUFBQUCgoKFAAKCgoKFAoUCgAKAAAKAAoUFAAUAAoKCgoKChQAAAoAABQUAAoAAAoUCgoUCgoKAAoKChQUAAAKCgoKABQKABQKFBQUCgAAABQUFAAUChQACgoACgoUCgAUCgoUCgoKCgoKFAoKFAoKCgoKFAAKFAoUCgoKABQAFAoUChQKCgAKABQKChQACgAUFAAUChQACgoKFAoUChQKAAoAABQKAAoKAAoKChQKAAoUChQKFAAACgoKABQACgoUABQKCgoKFAAKChQKChQUCgoACgoACgoKCgoACgoUCgoKCgAKFBQUChQAFAoUFBQUFAAKFBQAAAoKCgoUChQKChQAFAAACgoUAAAACgAKCgoUAAoACgoAFAAAFAAUAAoKCgoKFAoKCgoKAAAUCgoKFBQUFBQAAAoKFAoUChQKAAAKChQKAAoAAAoUAAoAFAAAChQKCgAKCgAACgoAFBQUCgoKABQUFAAAChQUCgoAFBQACgoUAAAKCgAKCgoKCgoACgoKChQUChQKChQUAAoKFBQKFAoKAAAACgAUCgoKAAAKCgAUAAoACgoKFAAACgoUFBQKCgAACgoKFBQKCgoUChQKCgoUAAoKAAoUCgoUABQKCgoKAAAKFAAKAAoKFAoAAAoKAAAAFAoUAAoUChQKAAAAFAAKChQKChQKFAoUAAoKChQKCgoACgoKChQKCgAKCgoKAAoKABQKCgAAFAAKCgoKChQKFAoAAAoKAAoKChQAChQKCgoKFAAAAAoKCgoKCgoKCgoUCgoKFAoKChQKCgoUFBQUChQKAAoKCgAKFAoKFAoKFAoUCgoKFAAKCgAKChQAFBQKAAAUCgAAChQUCgoKCgoAAAoKCgoAChQAAAAKChQKFAAKCgoKFAoKChQUCgAAFAoKCgoUFAoAFAoKFAAKChQAFAoKCgAKFAoKChQKAAoAFAoKChQAAAoUAAoKFAoUFAoACgAUFAoUCgoUCgAKABQUAAoACgAAFAAKFAoKFAAAChQAChQKFAoUCgoKChQUCgoKFAAUCgoACgoKFAoKAAoKCgAAAAAKAAoKCgoAChQAAAAAChQACgoUCgoKCgoKFAoKFAoUFBQKCgAKAAoKFAoKABQAChQKAAAUAAAACgoKFAAUCgAKCgoUCgAUFBQKCgoKABQKAAoAABQKChQAAAoAAAAACgoAFAoACgoAFAAKChQAAAoKCgoKFAoKCgoKFAoKFBQUFAoKCgoKCgoUAAAKCgoKFAAUCgAKChQUCgoAABQAFAoKABQKChQUFAoUFBQACgoKABQUFBQUCgAKCgoKFBQKFBQUChQKFAoKCgoKFBQACgoKCgoKABQKCgAAChQAFBQUAAAAChQKABQKCgAKFAAUFAAUAAoUCgoKCgAACgAKChQAFAoUFBQAFAoUFAAKCgoAAAoACgAACgAUCgoUAAAACgoKFBQKFAAUFAAKCgoKFAAKFAAKAAAKChQKAAoKFBQAAAAKAAoKAAoUAAoACgoKCgoUAAoAFAoACgAAAAAKABQKFAoKCgoUCgoKFAoKAAoKChQUABQKFAoKFAoKCgAKCgAKChQKCgoUAAoAABQKChQUABQAAAoUFAoAAAoKCgAUCgoKCgoACgoAABQKAAoACgAKAAAKFAoKFBQUAAoACgoKABQKCgAUAAoUCgoKAAAKCgoUCgoUFAoKAAAAFAoKFAoUFBQUChQKFAoKCgAAAAAKABQKCgAACgoACgoKABQAAAoKCgAAFAoACgAKFBQKCgoUCgoKCgAKFAoKFAoKCgoUFAAKFAoUCgoUCgoUCgoKCgoAChQUAAoKAAoAFAAAAAoKCgAAABQKCgAKFAoKFAoKFBQACgoKABQKCgAKABQKChQACgAUAAAKCgoKAAoKCgAKFAAKCgoKCgAUABQKCgoUCgoUAAoKFBQUFBQAChQACgoKFAAKCgAACgoACgAKCgAUAAoKCgAKCgAUCgAUCgAKCgAAFAoUCgoACgoKChQKFBQAAAAUChQKChQUChQKCgoKCgoKCgAUFAoUCgAUCgAKFAoUABQAABQKCgoKABQAFBQKCgAACgoKCgoUABQKChQUAAoUCgAUAAAUFAoUCgoUABQUChQKAAAAAAAKFAAKABQKChQKCgoKChQKChQKFAAKFAoAAAoKFAoKCgAUABQKCgAKCgoAAAAKCgAUCgAKCgAKAAoAFAoUAAoUCgAUABQACgoKFAoKFAoUCgAKFBQKFAoKFAAUChQUCgAUAAAAFBQKFAAAFAoKAAoKFAoAChQUCgoAABQKABQUAAoUFBQAFAoKChQAChQACgoACgoKAAoAChQUAAoAChQUAAAAFAoUCgAKCgoACgoACgoUChQKCgoKCgAKFAAKCgoUCgAUFBQKCgAKCgAKChQUCgAKAAoAFAoKCgoKCgoKFAAUAAoACgoAAAoUCgoKCgoAAAAAFBQKAAoUFBQKCgoKFAoKCgoUFAoAFAoAFBQUCgAKAAoKAAAACgAKChQKAAAKAAoUFBQKCgAUFAoUFAAUABQKAAAAFAoAChQAFBQACgoAAAoUCgoKCgoKAAoUCgoAFAoKFAAUCgAKChQKCgoKChQKCgoUChQKCgAKFAAAFAAUFAoKCgoKAAAAAAoKAAoKFAoKCgoKFBQUABQKAAAKABQKCgoUChQAFAAKAAAKAAAKFAoKCgoKAAAAFBQUFAAUFAoKCgoUFAoKFAoKFAoACgAUFAoAAAoKAAAKAAoKAAoKAAoAAAAUCgoACgoKCgoAFAAAChQKCgAKCgoKCgoAFAoKCgoAFAoAFAoACgAKCgoUAAAAAAAKCgAKCgoUFAAKFAoAAAoUFAoKFAoKAAAKCgoKAAoKCgAKAAoUChQUABQAChQAAAoAChQAAAAACgoACgAKChQKAAAKAAoKCgAKAAoUCgoACgoKFAoKFAoACgoAAAAUCgoKFAAKFBQKAAoKCgAKCgoKCgoUAAAKFAoKFAoKABQUCgAAAAoUAAoAChQACgoKCgoKCgoKAAAUCgoUCgoKFBQKChQUFAoUCgoAAAAKChQUChQAAAoKAAAUAAoKCgoACgoKFBQKCgoKFAoKCgoKAAoKAAoKCgAAFAoKCgAUChQKFAoKCgAUCgoACgoUAAAKFAoKAAAKAAoUCgoUABQKCgoKFAAKAAAKFBQKABQUCgoUCgoUChQKChQKAAoKChQKCgAKCgAACgoACgoAFAoUABQAFAAAAAoKCgAACgAKCgAKAAAKAAAACgoKCgoKFAoKChQKFAAAABQUFAoUChQUFBQUCgAKAAoAChQKCgoKCgoUCgoKCgAKChQKFAoKFAoUAAoKFBQUChQKCgoAAAoKCgoKCgAKCgoKCgoKCgoAChQAFAoUCgoUFAAKFAoKABQKCgAKFAoAFAoKCgoAAAoAAAoUCgAAAAoKFAoKFAoACgoAFAoKFAoUAAoAChQKChQAABQKCgoKChQUFBQAChQKCgAAChQKCgAACgoKChQUFAoACgoAABQKCgAAChQACgAUChQKCgoUAAoACgoUChQKCgoUAAoUAAoAAAAKCgAKCgoAFAoKCgAKCgoKCgoKCgAUCgoUCgoKFAoUCgAKAAAKCgoKFBQAFAAAAAoUCgAAChQUCgAAABQAFAAUCgoKAAoKAAoKCgoKAAAAAAoUFAoUABQKChQKAAoUCgoUFBQKAAoACgoUFBQUCgoACgoAFAoAFBQUCgoKCgoUCgoAFAoUChQAAAAKABQAFBQUAAoAFBQAChQKCgAKChQKCgoKAAoAAAAUFBQUFAoUCgoACgoAFAoKChQKChQKFAoKCgoUAAoUFAoKFBQUFBQAChQKChQAFBQKCgAACgoKChQUCgAKFAAACgoKCgoKCgoUCgoACgoKFAoKFAoKCgoKFAAUAAAUCgoUCgAACgoUAAoUFAAUChQKABQKCgoACgoACgoKCgoAAAoKCgoUAAAACgoACgoUCgAKCgoUAAAUAAoKABQAAAAKAAoAFBQKFBQKCgoAAAoKCgoKCgoKFAoUFBQKFAoKFAoKCgoKAAoAFAoKAAoKFAoAFAAKCgoAFAoKAAoUCgoKCgoAFAAACgoUAAoKAAoKCgoAChQUCgAAChQAChQUAAAKABQKCgoUCgoAFBQKCgoUFAAUChQKChQUAAoACgoUCgoKCgoAFAAKABQKAAAUFBQKAAAKFAoKAAoKAAoKFAoACgoUAAoKCgoUCgoACgoKFAoKFAoAAAoAABQUCgAUFAoAFAoKAAoKFBQAFBQKCgoAFBQUCgoACgAACgAUFAoAFAAUCgoKCgoKCgoKABQUAAAKFAAAChQACgoUCgAKABQKCgoKCgoAAAoAFAAAFAoAAAoKCgoKAAoACgAKFAoUCgAUAAoUAAAKFAAACgoKCgoUFAAUCgoKFAoKFBQKCgAKCgoAAAAACgAKCgoAFBQKCgoKCgoUFAAUAAoKCgoKChQKChQAAAAUChQAFAoAChQKAAAKAAoUCgAAFBQUFAAKFAoUFAoUAAAAABQACgoUFAoUCgoKFAoKFAoKFAAUFAoKAAoKCgoUCgoKFAAKCgoKAAoAFAoKChQKFBQUFAoAFBQKFBQKAAoAFAoKFAAKAAoKFAoAAAoUFBQKFAoAChQUAAAKCgoAChQUCgAKCgoKCgoKCgAKChQAFAoACgAKCgAKFAoUCgoAChQKCgoKFAAKCgoKAAoUCgoUFBQUChQKCgoACgoKFAAKCgoKFAAUAAoKCgoUABQUCgoKCgoUCgoKFAoAChQACgoKABQKCgoUABQAAAoAFAoACgAKAAoUChQKCgAUFAAKFBQUAAoUCgoUCgoKChQUFAoAFAoAFAoUChQUAAAKCgoAFBQAFAAACgoUCgAKAAoAFBQAAAoAAAoAChQKCgoUFBQACgoKCgAAAAAAAAoUAAoUCgAKCgoAABQAAAoAABQUChQAFAoKFAAKCgAAAAoAChQAChQKABQKAAAKChQUCgAKCgoAChQKFAoKCgoACgAKChQKChQKFAAKFAoKAAAKFBQACgoUChQKChQKCgoKFAoACgAKCgAKFAAAFAoKAAoKAAAKChQKChQKCgoKCgAKABQUFAAKCgoUFBQKAAoACgoKFAoAFAoKCgoUAAoUAAAUCgAKFAoKCgoUCgAACgAUAAoKCgoKAAoKCgAKFAoACgoKCgoAAAoKCgoKFBQKCgoKCgoKFAoKFAoAFAAAChQKAAoUFAoUCgAKChQUAAoACgoKChQACgAACgoUFAoKFAoUAAAAAAoUFAAKCgAKAAAACgAAFAoAFAAKCgAAFAoKAAoKFAoUCgAKABQACgoUCgoKCgoKCgAAFAAUABQKCgAUAAoACgAAFAoUAAoUCgoKCgoKFAAKFBQUChQACgAAFAAAABQACgoKCgoKCgoAAAoUFAAACgoUCgoKAAAKFAoAFBQACgoACgAKABQKAAAKCgoKFAoKAAoUCgAKFAAKCgAKChQKAAoAFAoKCgoAABQKFAAKCgoKCgoKCgoAFAAKChQKABQKABQKCgoACgAAChQKCgAKABQAAAAKAAAAFAoKAAoKCgoKCgAUABQAAAoUAAoAAAAKAAoKChQKFAoKCgAAChQKFAAKCgoKChQUCgoKCgoAFAAUCgoUChQKCgoUChQKFAoKFAAKChQKFAoKCgoUAAoKCgAUAAoKCgoUCgoUFAoKAAoACgoUAAAUCgoACgoAFBQKFAAUCgoKFAoUABQKAAoKCgAKFBQAAAAUCgoUFAoAABQKCgoKCgAKCgAKCgoKAAoKABQUAAoKFAoKCgoKFAoACgoKAAAUChQUABQKChQKAAoAChQKCgAAAAoAChQUCgAUAAAKCgoKAAoAFAAUChQUFAAAFAoUCgAKCgoKCgAUCgAKAAoUCgoUFAAKCgAKChQKFAAUChQKCgAKFAAAChQKCgAAFAoKCgoAChQACgoACgAKFBQKCgAUCgAUChQAChQKABQKAAoKChQACgoKAAAKFAAUCgoUCgoKFAoAAAoUCgoUChQACgoKFAoUAAAKCgoACgAAFAoUCgoKAAoKFAoKCgoUAAoKFAoKChQKChQAFAoAFBQACgAACgAKABQUABQACgoAFAoUFAAKCgoAAAoUCgoKABQKFBQUAAAUFAoACgoKCgoUABQUCgAACgAAChQKAAoACgoAFAAACgoKCgoUAAoUChQAFBQKCgoAFAoAAAAKChQKCgoUCgoAAAoKCgoUCgAKFAoKFAoKFAoAChQKFBQACgAUChQKCgAKABQKABQKFAAAAAoACgAAFAAUCgoKAAoACgoUFAoACgoUChQKABQKABQACgoKChQUAAoACgAKCgAUCgoUFAAAFAoKFAoKChQUCgoACgAUFAoKAAAAAAoKCgAKFAoUChQKCgoAFAoKCgAKCgAUAAoKCgoUFAAKFBQUFAoAChQACgoUFAoACgoKCgoKCgoAFBQUFAAUCgAKFAoUCgoAAAoUAAAKCgoACgAUAAoKABQKAAoKAAoKCgAKFAoKCgoUChQKChQACgoKFAoKCgAUChQKCgoAFAoKFAAKChQAAAAKChQUChQUChQKABQKCgoKCgoKAA==",
                    "dtype": "i1"
                  },
                  "xaxis": "x3",
                  "yaxis": "y3"
                },
                {
                  "bingroup": "x",
                  "histnorm": "probability",
                  "hovertemplate": "variable=Choice B<br>value=%{x}<br>probability=%{y}<extra></extra>",
                  "legendgroup": "",
                  "marker": {
                    "color": "#636efa",
                    "opacity": 0.5,
                    "pattern": {
                      "shape": ""
                    }
                  },
                  "name": "",
                  "orientation": "v",
                  "showlegend": false,
                  "type": "histogram",
                  "x": {
                    "bdata": "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",
                    "dtype": "i1"
                  },
                  "xaxis": "x2",
                  "yaxis": "y2"
                },
                {
                  "bingroup": "x",
                  "histnorm": "probability",
                  "hovertemplate": "variable=Choice C<br>value=%{x}<br>probability=%{y}<extra></extra>",
                  "legendgroup": "",
                  "marker": {
                    "color": "#636efa",
                    "opacity": 0.5,
                    "pattern": {
                      "shape": ""
                    }
                  },
                  "name": "",
                  "orientation": "v",
                  "showlegend": false,
                  "type": "histogram",
                  "x": {
                    "bdata": "FBQAFBQAAAAUFBQAABQAAAAAAAAUAAAUAAAUFBQUAAAUABQAABQAABQUABQAABQUFAAAAAAAAAAAFBQAFAAAAAAUFBQAFBQAFBQAABQAAAAUABQAFBQUFAAAAAAAFAAUFBQAAAAUABQAAAAAFBQUFBQAFBQAFAAAFBQAABQUFAAAFAAUAAAAABQUFAAAFAAAABQUAAAUFAAUAAAAAAAUAAAUAAAAABQAAAAAFBQAABQUABQAFBQAFAAAFBQAAAAUAAAUABQAFAAUAAAUFBQAAAAUFAAUFBQUFBQAFBQUFBQAFAAAABQAAAAAFBQUABQUFAAAFBQUFAAUFAAAFBQUABQAFBQAAAAUFAAAFBQUFAAUAAAUAAAUAAAAABQUAAAUFBQUFBQUABQAFBQUFAAUAAAAABQUAAAUFAAAFAAAABQAABQUFAAUAAAAFBQUFAAUABQUABQUFBQAAAAAFAAUAAAAABQAAAAUFBQAABQUFBQAABQAAAAAFAAAFAAAFAAUFAAAABQUFBQUAAAUAAAUFAAUABQAAAAAFAAUFAAUFBQUFAAAAAAUAAAUFAAUFAAUAAAUFBQAFBQAFBQAAAAUFBQUABQUFBQAFAAUFAAAFAAAFAAUAAAAFBQAAAAUFBQAFBQAAAAAFAAUFAAUAAAUFAAUAAAUFBQAFAAUFAAUABQUAAAAFAAUABQAAAAUFBQUABQAFBQUFAAAAAAUABQUABQUFBQAFBQAABQAFBQUFAAUFAAAFAAUAAAAFBQUFBQAFAAAABQUFBQUABQUAAAUFBQUFBQAAAAUAAAAFBQUFAAUFAAAAAAAFAAUAAAAAAAAAAAUFBQAFBQUAAAAABQUFAAUABQUFAAAABQAFAAUFAAUABQUFBQUFAAUAAAUAAAUFBQUABQAABQUFAAAABQUFBQUFBQUFAAAABQAABQAFBQAAAAUFAAUFAAAABQAABQUAAAUFBQAAAAUAAAAABQUFAAAAAAUFAAAFAAAFBQUABQAFBQUFAAAFAAAAAAAFBQUFBQAAAAAFAAUFBQAFAAAAAAUAAAUAAAUFBQAFBQUFBQUABQAABQUABQUFBQAABQUAAAUFBQUFBQAFBQUABQUFBQUABQUFAAUABQUFBQAAAAUFBQUFBQAFBQAAAAAABQUABQAABQUABQAFAAAAAAAFBQUFAAUFAAUAAAAAAAAFBQAFAAUAAAAFBQAAAAAFBQAAAAUFAAAFBQAABQAFBQAAAAAFAAAABQAFAAUFAAAABQUFBQUFBQAFBQAABQAABQAFBQAFAAAAAAAFBQAABQAFBQAABQAABQUABQAFBQAFBQUAAAAABQUABQAABQUABQUABQUFBQUAAAUFBQAABQUFAAUAAAUAAAAAAAUFAAUAAAAFAAUFAAUAAAUABQAFBQAAAAAFAAUABQUFBQAFAAAFAAAFBQAAAAAFBQAABQAFAAAFBQUFBQUABQUABQUFAAAABQAAAAUABQAFAAAFBQUFAAAABQAFBQAABQAAAAAFAAUFBQUFAAUAAAUFBQUABQAABQUAAAUFBQAABQUFBQAFBQUFAAAFBQUAAAAAAAUFBQAAAAUABQAAAAAAAAUFBQUAAAUAAAAFBQAFBQAAAAAFBQUABQUFAAAFBQAFAAAAAAUFAAUFAAAABQAAAAAFAAAFBQUABQAABQAFAAUABQAABQAAAAUAAAUABQUFAAUAAAAABQUABQUFBQAABQAFAAUFBQAFBQUAAAAFAAAFAAUAAAUFBQUABQAAAAUFBQAABQAAAAAFAAAFAAUFBQAAAAAABQAFBQUFBQAABQUABQUFAAUABQUFAAAAAAUFAAAFBQUAAAAAAAAAAAAFBQUAAAAFAAUABQUAAAUAAAUFAAUABQUAAAAFAAUFAAAAAAAABQUFBQUFAAAABQAAAAUFAAAAAAUABQAAAAUABQAFBQUAAAAFAAUABQAFBQUABQAAAAAAAAAABQAFAAAABQUFBQUFAAUFBQUFBQAABQAABQUABQUFAAUABQAFBQUAAAUFAAAABQAABQUFBQUABQUFBQAABQUFAAAFBQUABQUFAAUFAAUABQAFAAUAAAAFBQUFBQAFBQUABQUFAAUAAAAFBQUABQAAAAAABQUAAAAFBQUFAAUABQAABQAAAAAFBQAFBQUAAAUAAAUABQUABQAAAAUFBQUAAAAABQAAAAUAAAAABQAFBQUFAAAFAAUABQUFAAAAAAAAAAAABQAAAAAFAAAABQAFAAUAAAUFAAUAAAAFBQAAAAUFAAAABQUFBQUFBQUABQUFBQAAAAUFBQUAAAAABQUABQUAAAUFBQAAAAUAAAAFAAAFAAUABQUFBQAAAAAFAAUABQUFAAAAAAUABQUFBQAFAAAFAAUABQAABQUFBQAFBQUAAAUFAAUAAAUFAAAFBQUABQAABQUABQAABQUAAAAFAAAFAAAABQAABQAFAAAFAAUFAAAABQUFAAAFAAUABQAFBQAFBQAABQUFAAUAAAUFAAAFBQUFAAUFBQUFAAAABQUABQAABQUFAAAAAAUABQAAAAUFAAUAAAAFBQAABQUAAAAABQUFAAUABQUFBQUABQAABQUAAAUAAAAFAAUFAAAFAAUABQAFBQAAAAUFAAAABQUABQUAAAAABQUFAAAFBQAFAAUFBQUFAAUFBQUABQAAAAUABQUAAAAAAAUABQUABQAFAAAFBQUFAAAAAAUAAAAFBQUFBQAAAAUFAAUFBQUABQUABQUFAAUABQAFAAAFAAAABQUFAAAFAAAABQUFBQAABQUAAAUABQUAAAAAAAAFBQUFBQAFAAUFAAAABQAABQUABQAABQUFBQAFBQUFAAUFAAAFAAAFAAAABQAFAAAFAAAFAAUFAAAABQAFAAAABQUFAAUFAAAFBQAABQUABQUFBQUFAAUAAAUFAAAFAAUABQAAAAUABQUABQAFBQUFAAAABQUAAAAABQAAAAAFBQAABQUFAAAFAAUFBQAFBQAAAAUAAAUFAAAABQUFAAUAAAAABQAFBQAFBQUFAAUAAAUFBQAABQUAAAAAAAAABQAABQUAAAUFAAAFBQAFBQUABQAFBQAABQUABQUFBQAFBQUABQAFBQAFBQAAAAAFAAUFAAUFAAUFAAUFBQAAAAUFBQAABQAFBQAFBQUABQAFBQAFBQAFAAUABQAFAAAABQAFBQAFBQAFAAAFBQUAAAAABQAABQAAAAAABQAFAAAFBQAFBQUFAAUAAAAAAAUABQAABQAFAAUFAAUAAAAFBQUABQAFAAUFBQUFAAAAAAUABQAFBQUABQUABQUFAAUFAAAFBQUFAAUAAAAAAAUFBQUAAAUFAAUFAAUFAAUAAAUAAAUAAAAFAAUFAAUABQUFAAUABQAFBQAFBQAAAAAFBQUFAAUFBQUFAAAABQAAAAUAAAUFAAUFAAAFAAAAAAUABQUAAAUABQUFBQUFAAUFAAAAAAAAAAUFAAAFBQUAAAAFAAUFAAAAAAAAAAUABQAAAAUAAAAFBQAFBQUABQAABQUABQUFBQUAAAAFAAAFBQAFBQUFBQUFBQUABQAFBQAAAAAAAAUABQAABQUFBQAFAAAABQAFBQUABQAFBQUFBQUABQAFBQUAAAAFAAAABQAAAAAFBQAABQAABQUAAAAFBQAABQAABQAFBQUAAAAFBQUFAAAFBQAABQUFBQUFBQAABQAAAAUFBQAFAAAAAAAFAAUFBQUFBQAFBQAFAAUFAAAAAAUFAAAFAAAFAAAABQAABQUABQUFBQAFBQUABQAFAAAABQUABQAAAAAFAAAFBQAABQAFBQAABQAFBQUAAAAAAAAFBQAFBQUABQAFBQAFBQUFAAUFAAAFBQAABQUFAAUFAAUABQAABQUAAAUABQUABQUABQAFAAAFAAUABQAFBQAFBQUABQUAAAAFBQAABQUFAAAFAAAFBQUAAAUAAAUABQUFAAAFBQUFBQAFBQAFAAUFBQAABQAFBQUFAAUAAAAFAAUABQUABQUFBQUAAAAFBQAAAAUAAAAFAAUFBQUABQUFAAAFAAAFBQUFBQAAAAUFAAUFAAUAAAUFBQAAAAUABQAAAAAAAAAAAAUABQUABQAABQAABQUFBQAFBQAABQUFAAAFBQUFAAAFAAAAAAUAAAAABQAFAAUAAAUABQAABQAAAAAFAAAFBQAAAAAAAAAFBQAABQUFAAUABQUABQUABQAFAAAFAAAAAAUAAAAFBQUAAAAAAAUAAAUFAAAFBQAAAAAFAAUAAAUAAAUABQAAAAUFAAAFAAUFAAAAAAUAAAUABQAABQAABQUABQUFAAAFAAAFBQUFAAUABQUFAAAFAAAFBQAAAAAAAAAABQUAAAUAAAUFAAUABQAABQAFAAUABQAAAAUFAAUAAAUAAAUFBQAAAAUFAAAABQUABQUFBQUFAAUAAAUFBQAFBQAABQAFBQAABQUAAAUABQUFBQAABQUAAAAFAAAFAAUFAAUFAAAABQUAAAAFAAAFBQAABQAABQUFAAUAAAUABQUFBQUFAAAAAAAAAAAABQUABQAABQUFAAUABQAFBQUAAAUFBQAAAAAAAAUABQUFAAAFAAUABQUAAAAFAAUFBQAFBQAFAAUAAAUABQUAAAUABQUFAAAABQUAAAUAAAAFAAAAAAUFAAUFBQAABQUFAAAAAAAAAAUABQAAAAUAAAUABQUFBQAABQUFAAUABQAFAAUFAAUABQAAAAUABQAAAAAABQUFAAUABQUABQAAAAAFBQAFAAAFAAAAAAAFAAAFBQUABQAFAAUFBQUFAAUAAAUAAAAFBQUFAAAABQUAAAUFBQAAAAUAAAAFAAAFAAUFAAAFBQUFBQUFAAAAAAAABQAAAAUFBQAABQAFAAUFAAUAAAUFBQUAAAUFAAAFAAAABQUAAAAABQUABQUAAAUABQUFAAAAAAAABQUABQUAAAAABQUFBQAFBQUFAAAFAAUFBQUFAAUFBQUFAAAABQAABQAFBQAAAAUFAAAAAAAFBQUAAAAFAAAAAAAFAAAAAAUAAAUABQAABQUABQUABQUFBQUFAAAFAAUFAAUFBQUFBQAABQAAAAAFBQAFAAUFBQAFAAUAAAAAAAUFBQAFAAAFAAUFBQUFBQAAAAAFBQUABQAABQUFBQAAAAUFAAUFAAUFAAAAAAUFBQAAAAAAAAAABQAAAAUFAAUAAAAFBQUABQAFAAAAAAAABQAFBQAFAAUAAAUAAAAFAAUAAAUAAAUABQUAAAAFBQAAAAAFBQAAAAAAAAAAAAUAAAAFBQAAAAAFBQAFAAUFBQUFBQAAAAAFBQUFAAAFBQUFAAUAAAUAAAUAAAUFAAAFBQUABQUAAAAABQAFAAAABQUFAAUFAAUFAAAAAAUFAAAFBQUFBQUAAAAAAAUFAAAABQAAAAUABQAFAAAFAAUABQAAAAUABQAAAAUAAAUFAAUFAAUAAAAFBQUAAAAFAAAFBQAFBQAABQUAAAUABQAFAAAFBQUAAAAFBQAFBQUAAAUFAAAFAAUAAAAFAAAABQAAAAUABQAFBQUFBQAFAAAAAAAFAAAFAAUABQUFAAAFAAUFAAAAAAAABQAFBQUFAAUAAAAABQUFBQUFBQUFAAAFAAUAAAUFBQAFBQUABQAABQAAAAUABQUFBQAABQUAAAUFBQAABQUABQUFAAUABQUAAAUABQUFAAAAAAUFBQAFAAAAAAAFAAUABQAABQUFAAUFAAUFBQUFAAAFAAAABQUABQAAAAAFAAAAAAAFBQUAAAUAAAUAAAAAAAAFAAAABQUABQAFAAUABQAFAAAABQUFAAUAAAUFBQAFBQAABQUFAAAFBQAAAAAFBQAFBQUABQAABQUABQUAAAUABQAAAAUABQAABQUABQAAAAUFBQUFBQAAAAAFAAUABQUFAAAFAAAABQAABQUFAAUABQAABQAABQUAAAUFAAAABQUFBQUFAAUFAAAFBQUAAAAFAAUAAAUFAAAABQUFAAUFBQAFBQUFBQAAAAUFBQAABQAFBQUAAAAABQAFBQUFAAAABQAABQUABQUABQUFBQAFBQUFBQAAAAUFAAAFBQUAAAAABQAFBQUFAAAABQUAAAUFBQUABQUFBQUFAAAAAAUFAAUAAAAFAAUFAAUFAAAFAAUABQUAAAAABQAABQAABQUFBQAFAAAFAAAAAAUAAAUABQUABQUFAAUFAAAABQAAAAAFAAAFAAAFAAUFBQAFBQAFBQUAAAUAAAAFAAUFBQUABQUFAAUABQUAAAUFBQAFBQUAAAUFBQAFBQAFAAAFAAAABQUAAAUFBQUAAAUFBQUFBQAABQAABQAABQAAAAUABQAABQAFBQAAAAAFAAUAAAAFBQAAAAAFAAAFBQUFBQUFBQUFBQUFAAUAAAUFAAAABQAABQUFBQUFBQAAAAUFAAUFAAUABQAABQUABQAFAAAABQAFBQUFAAAAAAUAAAAFAAUFAAAAAAUFBQAAAAUFBQUFBQUAAAUAAAUFAAAABQAAAAAFBQUAAAAFAAUAAAUAAAUABQAFAAAFAAAAAAAABQAFBQUFBQUABQAABQAAAAUFBQUAAAAABQUABQAAAAUFAAAABQAFBQUAAAAFBQAABQAABQAFBQAAAAAFBQAFAAUFAAAABQUAAAAFAAUAAAUFAAUFAAAABQAFAAAAAAAFAAAFBQAABQAABQUFAAUFBQUFBQAFBQUAAAAFBQAFBQAABQAAAAUABQAAAAUFBQAAAAAFBQUABQUAAAAFBQAFBQUAAAUFAAAFBQAAAAUFAAUFBQUAAAAFAAAABQUABQAAAAAFAAAAAAUAAAUFAAUFBQAFBQUFBQUABQAFBQUFAAUABQUFBQAFBQUAAAAFAAUFBQUFBQUFAAAFBQUABQUABQAAAAAFAAAFBQUAAAAAAAAFAAUFBQUFAAAFBQUFBQUFBQUFAAAFBQUFAAAABQUFBQAAAAUFAAUAAAUAAAAABQUFBQUFBQAFAAUAAAUAAAAFBQUABQAABQAABQAFBQUFAAAFBQAAAAUAAAAABQAFBQAAAAAFAAAFAAAABQAAAAUAAAUFAAAFAAUFBQUFAAAFBQAABQUFBQUAAAUFAAAABQUFBQUAAAUFAAAABQUFBQAAAAAFBQAFBQAAAAUFAAUAAAAFAAUFBQUFBQAFAAAAAAAAAAAAAAUFBQAFBQUABQAFAAUAAAAAAAUFAAAFBQUFAAAFBQUABQAABQUABQAFBQAABQUFBQUABQUAAAUAAAAABQUFBQUFAAUABQAABQUFBQAAAAAFBQUFAAAFBQAFBQUABQUAAAUFBQUFAAUFBQUFBQAAAAAFBQUFAAUFAAAABQAABQAABQAABQUABQAFAAAABQUFBQAFBQAFBQAAAAAFBQAABQUFBQAAAAAFAAUAAAUAAAUABQUAAAUFBQUABQAABQUAAAAAAAUABQUABQAAAAAAAAUABQUFAAAFAAUFBQUFBQUFBQUFBQAFAAUAAAUAAAAFAAUAAAUFBQUABQAFAAAFBQAABQUABQAFBQAAAAUAAAUFAAAFBQAABQUABQAAAAAFAAUFAAUFBQUABQUFAAUFAAAFAAAABQUAAAAABQAAAAAABQUABQUFAAUABQAFBQAAAAAAAAAAAAAFAAAABQUAAAUFAAAABQUABQUABQAFBQAFAAUABQAFAAAFAAAFAAAABQUFBQUABQAFBQUFBQUABQAFAAUAAAAFBQAFAAAFBQAAAAAABQUFBQAFBQAAAAAFBQUFBQUAAAUABQUABQAABQUFBQUFAAAAAAAFBQAAAAUAAAAAAAAFBQAAAAAAAAUABQUFAAUFBQAFBQUAAAUABQAABQAFAAAABQAFAAAAAAUFBQAAAAAFAAAAAAUFAAAFBQAAAAAFBQUFAAAAAAUFBQAFBQAFBQAAAAAFBQUFAAAABQAFBQAFBQUABQAABQAABQUFBQAFAAAFAAAFAAUABQAFBQAFAAAABQAABQAFAAAFAAAFAAUFBQUFAAAFAAAFBQAABQAABQUFBQUABQUFBQAFAAUFBQUFAAUFBQUFBQAAAAAFAAAABQAABQUFBQUAAAAAAAAFBQUAAAAFAAAFAAAFAAUABQUFAAAABQAABQUAAAAFAAAFBQUAAAAAAAAFBQAABQAABQUAAAUFBQUFAAUFAAUAAAUABQAAAAAFBQUABQUABQAABQUFBQAFBQUABQUAAAUFBQAABQUFBQUABQAFAAUABQUAAAUFBQUFBQUABQUFAAAFAAAAAAAFBQUFBQUFBQUFBQUFAAUABQAAAAAABQUFBQAFBQUAAAAAAAAFBQUFBQUFBQUAAAUFAAUFAAUAAAUFBQAAAAAAAAAFAAUAAAAABQUABQAABQAFAAAABQAAAAUFBQUFBQUFBQAABQUAAAUFBQUFBQUAAAUAAAAAAAUAAAUFBQUABQAAAAUFAAUFAAAFBQAFBQAABQAFAAUAAAUAAAUFAAAFBQAFAAAABQAFAAAABQUFBQUAAAAFAAUFBQAFBQAAAAAFBQAABQUABQUABQUFBQUAAAUFBQUFBQUFAAUAAAUFAAUFAAAFBQUAAAAABQAFAAAABQAFAAUFBQUFBQAFBQUFAAUFBQAABQAFBQAABQUFBQUFAAAAAAAFAAAFBQAFBQAFBQUABQUAAAAFAAAABQUAAAAFAAUFBQAFBQAFAAAFAAAABQUFBQUAAAAABQAFAAAAAAAFAAAFAAAABQAFBQUFBQAAAAUABQUFBQAABQAFAAUFBQAFAAAFAAUFBQAAAAUABQUABQUFBQAFBQUFAAUFBQUABQUAAAUAAAAAAAUFAAUFBQUFBQAFBQAAAAAFAAAFAAAFAAAABQUFAAUABQAFBQUFAAAAAAAABQUABQAABQUFAAUAAAAFAAUFBQAAAAUFAAUAAAUFAAUFBQUFBQAFAAUFBQUABQAFAAAFAAAAAAUABQAFBQAABQUFAAAABQUFAAUABQUAAAUFAAUFAAUABQUAAAAABQAFAAAFAAUFAAUAAAUAAAAABQAABQAFBQAABQUABQUAAAUFAAUFBQUAAAAAAAAFAAUFAAAFBQUFBQAAAAUFBQAABQUAAAAFBQUABQAAAAAFBQAFAAUABQUABQUFAAUAAAAFBQAFBQAAAAAABQUAAAAAAAUAAAUFAAAFAAAFBQUFBQUAAAUFBQAFBQAABQAAAAUFBQUABQAAAAUFBQUFBQAAAAUAAAAAAAUFAAAAAAAAAAAABQAFBQUFAAAFAAAFBQAFBQUABQUABQUFBQUFAAUAAAAFBQAABQUFBQAFBQUABQAAAAUFBQAAAAUAAAAFBQUFAAUFBQAAAAAFAAAFBQAFBQAABQUAAAAFBQUFAAUFBQUFBQAABQAFAAAFAAUABQUFBQAFAAAAAAAFAAAAAAUABQUFBQUAAAUABQAFBQUAAAUABQUAAAAFBQAABQAFAAUABQUAAAUABQUABQUFBQAAAAAAAAAABQAAAAUFAAUFAAUABQAABQAFAAAFAAUFBQUABQAABQUFAAUABQUABQUFBQUFAAUAAAAABQAAAAAAAAUABQAFBQAAAAUFBQUFBQUABQUAAAAFBQUAAAUAAAUAAAUFAAAAAAAABQAFAAUABQUABQUAAAAFBQUABQAFBQUFBQAFAAAFAAUFAAAFAAAFBQAAAAAAAAAFBQAFBQUAAAUFBQUFAAUABQUAAAUFAAAFAAAABQAABQAFBQUABQAABQUFAAUFBQUFAAUABQUFBQUABQAABQAABQUFAAAFBQAFAAUAAAAFAAAFBQAFAAUFBQUFBQUABQUABQUFBQAFBQUAAAUFAAAABQAABQAAAAAFBQAFAAUABQUFBQAAAAAABQAAAAAABQUABQUFAAUFBQUFAAAABQAFBQUFBQAFBQUFBQUAAAAAAAUAAAAAAAUFAAUABQAFAAAAAAAFAAAFAAUFBQAABQUABQAFAAAAAAAFBQAABQUABQUFBQAFBQUFBQAFAAUABQUFAAAFBQAFAAAFBQUABQUFBQUABQAFAAUABQAABQAABQUFAAUABQAFAAUABQUFBQAAAAAFAAAAAAUFBQUFBQUAAAUAAAAABQUABQUABQUFAAUAAAAAAAUFBQUFAAAABQUFAAAABQUABQAFAAUAAAUFAAUFBQUAAAAFAAAABQUAAAUFAAAABQAFBQAABQAFAAAFBQUABQAABQAFAAUABQAABQUAAAUABQUFAAAFAAAAAAUABQUFBQAAAAAFAAUFAAUAAAUAAAUFAAAABQAAAAUFBQUABQAFBQAFAAAAAAUFAAUFAAAABQUABQAFAAAFBQAFBQUABQAFAAUABQAABQAFAAUFBQAFBQUABQUFBQUFBQUABQUABQUFBQAFBQUAAAUFAAAFBQUAAAAAAAUFAAAFBQUAAAUAAAUAAAUFBQAAAAUFBQUAAAUFAAUFBQUFAAAABQAFAAAFBQAAAAUABQAFAAUAAAAABQAABQAAAAUABQUAAAAABQAABQAAAAAABQAFBQAAAAUFAAAFAAUFBQAFBQUABQUABQAFBQUABQAFBQAFBQAFBQAFAAAAAAAFBQUAAAUFBQUAAAAFAAAABQAFAAUAAAAFBQAABQAABQAFBQUFAAAAAAAAAAAABQUFAAUABQAAAAUFAAUFBQAFBQUFBQUABQAAAAAFBQUFBQAFBQAFAAAFAAUFAAUABQUABQAFBQAABQAFAAAAAAAFBQUFAAUAAAUABQUFBQUFAAUFAAUFAAUABQUAAAAFBQUFAAAAAAUFBQAFBQAFAAUFAAUABQUFBQUAAAAFAAAFAAAFBQAFAAUFBQAFBQUFAAAFAAUABQAFAAAAAAUABQUFAAAFAAAFBQUAAAUAAAUFAAAAAAAFAAUFAAUABQAAAAAFBQUABQUAAAAFAAAFAAUAAAUABQAABQAABQAAAAUAAAUFAAUABQUABQAAAAAAAAUFAAAFBQUAAAUFBQAABQUFAAAAAAUFAAAABQAFBQAABQUAAAUFBQAABQAFBQUAAAUFBQAAAAAFAAUAAAUFBQUABQAABQUFBQUFAAAABQUFAAUFBQAFAAUABQUABQAABQUAAAUFBQAABQUFBQAFBQAFAAAFBQUAAAUABQUAAAAAAAUFBQAAAAUFBQAFAAUABQUFBQUFBQUFBQAFBQAAAAAABQUABQAFBQUFBQAFAAAAAAAFBQUABQUAAAAFAAUFBQAAAAUABQAABQAABQUFAAUAAAUAAAUFAAAFBQAABQAFBQUABQAFBQUABQUAAAUAAAAFBQAFBQUABQAFAAUABQUABQAFAAUAAAAFBQUFAAAFAAAABQUFBQUFBQAAAAUFBQAAAAAABQUFBQAAAAAAAAAAAAUFAAAABQAAAAAFBQUFAAAABQUAAAAFAAAFBQUFBQUFBQUABQUABQUABQUABQUAAAAAAAUAAAAFAAUAAAAFAAAFBQAABQAFBQAAAAAAAAAFBQAFBQAFBQAABQAABQAABQAFAAAFBQAAAAUFBQUFAAAFAAUABQAABQAFAAUFBQAABQUFBQUABQUAAAAABQUAAAAFAAAFBQAABQAABQAFAAAFAAAFBQAFAAAABQAABQUAAAUABQUAAAAAAAAABQAABQUFAAAFBQUFBQUABQUAAAAFBQAAAAAFAAAABQUABQUABQUAAAUFAAAFAAAAAAUAAAUFBQUAAAAABQAABQAFBQAFAAUFAAAABQUFAAUFAAUFAAAFAAAABQAABQAABQUFBQAFBQAAAAUFAAUFAAUFBQAFBQAAAAAFBQAFAAUABQAABQUAAAUFBQUFBQAAAAAABQAAAAAFBQAFAAAABQAFAAUAAAAFAAUAAAUFAAAAAAUFAAAABQUFAAAAAAAAAAUFBQAFBQUAAAAAAAAAAAAFAAAABQAFBQAAAAUFAAUABQUABQUFAAUFAAAFAAAFAAUABQUFBQUABQAFBQAFAAAABQAAAAAFBQUAAAAAAAAABQAAAAAFAAAAAAAFBQUFAAUAAAUAAAUABQUFAAUABQAAAAAABQUAAAUFAAUFAAUFAAUABQUFBQAFBQAFBQAFBQAFAAUABQUAAAUABQUABQUAAAUABQUABQUFAAAFAAUABQAFBQAAAAUFBQAABQAAAAAAAAUFBQAAAAUABQUAAAUFAAUFBQUFAAAABQAFBQAABQUFBQUFBQUAAAAFBQAAAAUFAAUABQAAAAUFBQUFAAUAAAUABQUFAAAAAAUAAAUFAAUFAAAFBQUFBQUAAAUFBQAABQAFAAAAAAUAAAAFBQAFAAAABQUFAAAFBQAFAAUABQUAAAUFBQAFAAUABQUAAAUAAAAABQAFAAUAAAAFAAUFAAUABQAFBQUAAAAFBQUABQUABQUFBQAFAAUFBQUAAAUFBQUABQAFAAAFAAUABQAABQUFBQUABQUAAAAFBQUFBQAFAAUFAAUFAAUAAAAFAAUFBQAFAAAAAAAABQUAAAUFAAAAAAAFBQUFAAUAAAUAAAUFBQAFAAUFBQAAAAUFBQUFBQUAAAUFAAAFBQUFBQUFBQUAAAAABQUABQAAAAAAAAUABQAABQUFAAAABQAFAAUFAAUABQAABQAFAAAAAAAFBQUABQUAAAUAAAAFBQAABQUABQAFAAUFAAUFBQAFAAAFBQUFBQUAAAAFBQUFAAUAAAUABQAFAAAAAAAABQUAAAAABQAABQAAAAUAAAAFBQAFBQUAAAAFAAAFAAAFAAUFAAAFBQUFBQAAAAUFBQAFBQAAAAUFAAUFBQUFAAAFBQUABQAFAAUFAAAABQUAAAUFBQUFAAUAAAAABQAFBQAFBQUFAAAFAAUAAAAFAAUFBQUAAAAAAAUAAAAFBQUFBQUFBQUFBQUFAAUAAAUABQUAAAUFAAAAAAUFBQAFAAAFBQUFAAAABQUFAAUAAAAAAAAFBQAFAAAAAAAFAAAABQUABQAFBQAFBQUAAAAFAAUAAAUABQAABQAFAAAFAAAABQAABQAFAAAABQAFAAUAAAUFBQUFBQUAAAAFAAAABQUFAAUABQUAAAAFAAAABQUFBQAABQUFAAUFBQAFBQUFAAAFBQAFBQAABQUFAAAABQUFAAAFBQAAAAUFBQAFAAAFAAUFAAAFAAAABQAAAAAAAAAABQAFBQUAAAUABQAFAAUABQAFBQUAAAUAAAAAAAAFAAUAAAAABQUAAAAFBQAAAAAFAAAFAAAABQUABQAFBQUFBQAABQAFAAUFBQUFBQAAAAUFAAAABQAAAAUABQAABQUABQAFAAUFBQUFBQAFBQAABQUABQUFBQUFAAAFAAUABQUFBQUFAAAAAAAFBQUFAAAFAAAAAAAABQUFAAAFAAUFAAUAAAAAAAUFAAUAA==",
                    "dtype": "i1"
                  },
                  "xaxis": "x",
                  "yaxis": "y"
                }
              ],
              "layout": {
                "annotations": [
                  {
                    "font": {},
                    "showarrow": false,
                    "text": "variable=Choice C",
                    "textangle": 90,
                    "x": 0.98,
                    "xanchor": "left",
                    "xref": "paper",
                    "y": 0.15666666666666665,
                    "yanchor": "middle",
                    "yref": "paper"
                  },
                  {
                    "font": {},
                    "showarrow": false,
                    "text": "variable=Choice B",
                    "textangle": 90,
                    "x": 0.98,
                    "xanchor": "left",
                    "xref": "paper",
                    "y": 0.4999999999999999,
                    "yanchor": "middle",
                    "yref": "paper"
                  },
                  {
                    "font": {},
                    "showarrow": false,
                    "text": "variable=Choice A",
                    "textangle": 90,
                    "x": 0.98,
                    "xanchor": "left",
                    "xref": "paper",
                    "y": 0.8433333333333332,
                    "yanchor": "middle",
                    "yref": "paper"
                  }
                ],
                "barmode": "overlay",
                "height": 600,
                "legend": {
                  "tracegroupgap": 0
                },
                "template": {
                  "data": {
                    "bar": [
                      {
                        "error_x": {
                          "color": "#2a3f5f"
                        },
                        "error_y": {
                          "color": "#2a3f5f"
                        },
                        "marker": {
                          "line": {
                            "color": "#E5ECF6",
                            "width": 0.5
                          },
                          "pattern": {
                            "fillmode": "overlay",
                            "size": 10,
                            "solidity": 0.2
                          }
                        },
                        "type": "bar"
                      }
                    ],
                    "barpolar": [
                      {
                        "marker": {
                          "line": {
                            "color": "#E5ECF6",
                            "width": 0.5
                          },
                          "pattern": {
                            "fillmode": "overlay",
                            "size": 10,
                            "solidity": 0.2
                          }
                        },
                        "type": "barpolar"
                      }
                    ],
                    "carpet": [
                      {
                        "aaxis": {
                          "endlinecolor": "#2a3f5f",
                          "gridcolor": "white",
                          "linecolor": "white",
                          "minorgridcolor": "white",
                          "startlinecolor": "#2a3f5f"
                        },
                        "baxis": {
                          "endlinecolor": "#2a3f5f",
                          "gridcolor": "white",
                          "linecolor": "white",
                          "minorgridcolor": "white",
                          "startlinecolor": "#2a3f5f"
                        },
                        "type": "carpet"
                      }
                    ],
                    "choropleth": [
                      {
                        "colorbar": {
                          "outlinewidth": 0,
                          "ticks": ""
                        },
                        "type": "choropleth"
                      }
                    ],
                    "contour": [
                      {
                        "colorbar": {
                          "outlinewidth": 0,
                          "ticks": ""
                        },
                        "colorscale": [
                          [
                            0,
                            "#0d0887"
                          ],
                          [
                            0.1111111111111111,
                            "#46039f"
                          ],
                          [
                            0.2222222222222222,
                            "#7201a8"
                          ],
                          [
                            0.3333333333333333,
                            "#9c179e"
                          ],
                          [
                            0.4444444444444444,
                            "#bd3786"
                          ],
                          [
                            0.5555555555555556,
                            "#d8576b"
                          ],
                          [
                            0.6666666666666666,
                            "#ed7953"
                          ],
                          [
                            0.7777777777777778,
                            "#fb9f3a"
                          ],
                          [
                            0.8888888888888888,
                            "#fdca26"
                          ],
                          [
                            1,
                            "#f0f921"
                          ]
                        ],
                        "type": "contour"
                      }
                    ],
                    "contourcarpet": [
                      {
                        "colorbar": {
                          "outlinewidth": 0,
                          "ticks": ""
                        },
                        "type": "contourcarpet"
                      }
                    ],
                    "heatmap": [
                      {
                        "colorbar": {
                          "outlinewidth": 0,
                          "ticks": ""
                        },
                        "colorscale": [
                          [
                            0,
                            "#0d0887"
                          ],
                          [
                            0.1111111111111111,
                            "#46039f"
                          ],
                          [
                            0.2222222222222222,
                            "#7201a8"
                          ],
                          [
                            0.3333333333333333,
                            "#9c179e"
                          ],
                          [
                            0.4444444444444444,
                            "#bd3786"
                          ],
                          [
                            0.5555555555555556,
                            "#d8576b"
                          ],
                          [
                            0.6666666666666666,
                            "#ed7953"
                          ],
                          [
                            0.7777777777777778,
                            "#fb9f3a"
                          ],
                          [
                            0.8888888888888888,
                            "#fdca26"
                          ],
                          [
                            1,
                            "#f0f921"
                          ]
                        ],
                        "type": "heatmap"
                      }
                    ],
                    "histogram": [
                      {
                        "marker": {
                          "pattern": {
                            "fillmode": "overlay",
                            "size": 10,
                            "solidity": 0.2
                          }
                        },
                        "type": "histogram"
                      }
                    ],
                    "histogram2d": [
                      {
                        "colorbar": {
                          "outlinewidth": 0,
                          "ticks": ""
                        },
                        "colorscale": [
                          [
                            0,
                            "#0d0887"
                          ],
                          [
                            0.1111111111111111,
                            "#46039f"
                          ],
                          [
                            0.2222222222222222,
                            "#7201a8"
                          ],
                          [
                            0.3333333333333333,
                            "#9c179e"
                          ],
                          [
                            0.4444444444444444,
                            "#bd3786"
                          ],
                          [
                            0.5555555555555556,
                            "#d8576b"
                          ],
                          [
                            0.6666666666666666,
                            "#ed7953"
                          ],
                          [
                            0.7777777777777778,
                            "#fb9f3a"
                          ],
                          [
                            0.8888888888888888,
                            "#fdca26"
                          ],
                          [
                            1,
                            "#f0f921"
                          ]
                        ],
                        "type": "histogram2d"
                      }
                    ],
                    "histogram2dcontour": [
                      {
                        "colorbar": {
                          "outlinewidth": 0,
                          "ticks": ""
                        },
                        "colorscale": [
                          [
                            0,
                            "#0d0887"
                          ],
                          [
                            0.1111111111111111,
                            "#46039f"
                          ],
                          [
                            0.2222222222222222,
                            "#7201a8"
                          ],
                          [
                            0.3333333333333333,
                            "#9c179e"
                          ],
                          [
                            0.4444444444444444,
                            "#bd3786"
                          ],
                          [
                            0.5555555555555556,
                            "#d8576b"
                          ],
                          [
                            0.6666666666666666,
                            "#ed7953"
                          ],
                          [
                            0.7777777777777778,
                            "#fb9f3a"
                          ],
                          [
                            0.8888888888888888,
                            "#fdca26"
                          ],
                          [
                            1,
                            "#f0f921"
                          ]
                        ],
                        "type": "histogram2dcontour"
                      }
                    ],
                    "mesh3d": [
                      {
                        "colorbar": {
                          "outlinewidth": 0,
                          "ticks": ""
                        },
                        "type": "mesh3d"
                      }
                    ],
                    "parcoords": [
                      {
                        "line": {
                          "colorbar": {
                            "outlinewidth": 0,
                            "ticks": ""
                          }
                        },
                        "type": "parcoords"
                      }
                    ],
                    "pie": [
                      {
                        "automargin": true,
                        "type": "pie"
                      }
                    ],
                    "scatter": [
                      {
                        "fillpattern": {
                          "fillmode": "overlay",
                          "size": 10,
                          "solidity": 0.2
                        },
                        "type": "scatter"
                      }
                    ],
                    "scatter3d": [
                      {
                        "line": {
                          "colorbar": {
                            "outlinewidth": 0,
                            "ticks": ""
                          }
                        },
                        "marker": {
                          "colorbar": {
                            "outlinewidth": 0,
                            "ticks": ""
                          }
                        },
                        "type": "scatter3d"
                      }
                    ],
                    "scattercarpet": [
                      {
                        "marker": {
                          "colorbar": {
                            "outlinewidth": 0,
                            "ticks": ""
                          }
                        },
                        "type": "scattercarpet"
                      }
                    ],
                    "scattergeo": [
                      {
                        "marker": {
                          "colorbar": {
                            "outlinewidth": 0,
                            "ticks": ""
                          }
                        },
                        "type": "scattergeo"
                      }
                    ],
                    "scattergl": [
                      {
                        "marker": {
                          "colorbar": {
                            "outlinewidth": 0,
                            "ticks": ""
                          }
                        },
                        "type": "scattergl"
                      }
                    ],
                    "scattermap": [
                      {
                        "marker": {
                          "colorbar": {
                            "outlinewidth": 0,
                            "ticks": ""
                          }
                        },
                        "type": "scattermap"
                      }
                    ],
                    "scattermapbox": [
                      {
                        "marker": {
                          "colorbar": {
                            "outlinewidth": 0,
                            "ticks": ""
                          }
                        },
                        "type": "scattermapbox"
                      }
                    ],
                    "scatterpolar": [
                      {
                        "marker": {
                          "colorbar": {
                            "outlinewidth": 0,
                            "ticks": ""
                          }
                        },
                        "type": "scatterpolar"
                      }
                    ],
                    "scatterpolargl": [
                      {
                        "marker": {
                          "colorbar": {
                            "outlinewidth": 0,
                            "ticks": ""
                          }
                        },
                        "type": "scatterpolargl"
                      }
                    ],
                    "scatterternary": [
                      {
                        "marker": {
                          "colorbar": {
                            "outlinewidth": 0,
                            "ticks": ""
                          }
                        },
                        "type": "scatterternary"
                      }
                    ],
                    "surface": [
                      {
                        "colorbar": {
                          "outlinewidth": 0,
                          "ticks": ""
                        },
                        "colorscale": [
                          [
                            0,
                            "#0d0887"
                          ],
                          [
                            0.1111111111111111,
                            "#46039f"
                          ],
                          [
                            0.2222222222222222,
                            "#7201a8"
                          ],
                          [
                            0.3333333333333333,
                            "#9c179e"
                          ],
                          [
                            0.4444444444444444,
                            "#bd3786"
                          ],
                          [
                            0.5555555555555556,
                            "#d8576b"
                          ],
                          [
                            0.6666666666666666,
                            "#ed7953"
                          ],
                          [
                            0.7777777777777778,
                            "#fb9f3a"
                          ],
                          [
                            0.8888888888888888,
                            "#fdca26"
                          ],
                          [
                            1,
                            "#f0f921"
                          ]
                        ],
                        "type": "surface"
                      }
                    ],
                    "table": [
                      {
                        "cells": {
                          "fill": {
                            "color": "#EBF0F8"
                          },
                          "line": {
                            "color": "white"
                          }
                        },
                        "header": {
                          "fill": {
                            "color": "#C8D4E3"
                          },
                          "line": {
                            "color": "white"
                          }
                        },
                        "type": "table"
                      }
                    ]
                  },
                  "layout": {
                    "annotationdefaults": {
                      "arrowcolor": "#2a3f5f",
                      "arrowhead": 0,
                      "arrowwidth": 1
                    },
                    "autotypenumbers": "strict",
                    "coloraxis": {
                      "colorbar": {
                        "outlinewidth": 0,
                        "ticks": ""
                      }
                    },
                    "colorscale": {
                      "diverging": [
                        [
                          0,
                          "#8e0152"
                        ],
                        [
                          0.1,
                          "#c51b7d"
                        ],
                        [
                          0.2,
                          "#de77ae"
                        ],
                        [
                          0.3,
                          "#f1b6da"
                        ],
                        [
                          0.4,
                          "#fde0ef"
                        ],
                        [
                          0.5,
                          "#f7f7f7"
                        ],
                        [
                          0.6,
                          "#e6f5d0"
                        ],
                        [
                          0.7,
                          "#b8e186"
                        ],
                        [
                          0.8,
                          "#7fbc41"
                        ],
                        [
                          0.9,
                          "#4d9221"
                        ],
                        [
                          1,
                          "#276419"
                        ]
                      ],
                      "sequential": [
                        [
                          0,
                          "#0d0887"
                        ],
                        [
                          0.1111111111111111,
                          "#46039f"
                        ],
                        [
                          0.2222222222222222,
                          "#7201a8"
                        ],
                        [
                          0.3333333333333333,
                          "#9c179e"
                        ],
                        [
                          0.4444444444444444,
                          "#bd3786"
                        ],
                        [
                          0.5555555555555556,
                          "#d8576b"
                        ],
                        [
                          0.6666666666666666,
                          "#ed7953"
                        ],
                        [
                          0.7777777777777778,
                          "#fb9f3a"
                        ],
                        [
                          0.8888888888888888,
                          "#fdca26"
                        ],
                        [
                          1,
                          "#f0f921"
                        ]
                      ],
                      "sequentialminus": [
                        [
                          0,
                          "#0d0887"
                        ],
                        [
                          0.1111111111111111,
                          "#46039f"
                        ],
                        [
                          0.2222222222222222,
                          "#7201a8"
                        ],
                        [
                          0.3333333333333333,
                          "#9c179e"
                        ],
                        [
                          0.4444444444444444,
                          "#bd3786"
                        ],
                        [
                          0.5555555555555556,
                          "#d8576b"
                        ],
                        [
                          0.6666666666666666,
                          "#ed7953"
                        ],
                        [
                          0.7777777777777778,
                          "#fb9f3a"
                        ],
                        [
                          0.8888888888888888,
                          "#fdca26"
                        ],
                        [
                          1,
                          "#f0f921"
                        ]
                      ]
                    },
                    "colorway": [
                      "#636efa",
                      "#EF553B",
                      "#00cc96",
                      "#ab63fa",
                      "#FFA15A",
                      "#19d3f3",
                      "#FF6692",
                      "#B6E880",
                      "#FF97FF",
                      "#FECB52"
                    ],
                    "font": {
                      "color": "#2a3f5f"
                    },
                    "geo": {
                      "bgcolor": "white",
                      "lakecolor": "white",
                      "landcolor": "#E5ECF6",
                      "showlakes": true,
                      "showland": true,
                      "subunitcolor": "white"
                    },
                    "hoverlabel": {
                      "align": "left"
                    },
                    "hovermode": "closest",
                    "mapbox": {
                      "style": "light"
                    },
                    "paper_bgcolor": "white",
                    "plot_bgcolor": "#E5ECF6",
                    "polar": {
                      "angularaxis": {
                        "gridcolor": "white",
                        "linecolor": "white",
                        "ticks": ""
                      },
                      "bgcolor": "#E5ECF6",
                      "radialaxis": {
                        "gridcolor": "white",
                        "linecolor": "white",
                        "ticks": ""
                      }
                    },
                    "scene": {
                      "xaxis": {
                        "backgroundcolor": "#E5ECF6",
                        "gridcolor": "white",
                        "gridwidth": 2,
                        "linecolor": "white",
                        "showbackground": true,
                        "ticks": "",
                        "zerolinecolor": "white"
                      },
                      "yaxis": {
                        "backgroundcolor": "#E5ECF6",
                        "gridcolor": "white",
                        "gridwidth": 2,
                        "linecolor": "white",
                        "showbackground": true,
                        "ticks": "",
                        "zerolinecolor": "white"
                      },
                      "zaxis": {
                        "backgroundcolor": "#E5ECF6",
                        "gridcolor": "white",
                        "gridwidth": 2,
                        "linecolor": "white",
                        "showbackground": true,
                        "ticks": "",
                        "zerolinecolor": "white"
                      }
                    },
                    "shapedefaults": {
                      "line": {
                        "color": "#2a3f5f"
                      }
                    },
                    "ternary": {
                      "aaxis": {
                        "gridcolor": "white",
                        "linecolor": "white",
                        "ticks": ""
                      },
                      "baxis": {
                        "gridcolor": "white",
                        "linecolor": "white",
                        "ticks": ""
                      },
                      "bgcolor": "#E5ECF6",
                      "caxis": {
                        "gridcolor": "white",
                        "linecolor": "white",
                        "ticks": ""
                      }
                    },
                    "title": {
                      "x": 0.05
                    },
                    "xaxis": {
                      "automargin": true,
                      "gridcolor": "white",
                      "linecolor": "white",
                      "ticks": "",
                      "title": {
                        "standoff": 15
                      },
                      "zerolinecolor": "white",
                      "zerolinewidth": 2
                    },
                    "yaxis": {
                      "automargin": true,
                      "gridcolor": "white",
                      "linecolor": "white",
                      "ticks": "",
                      "title": {
                        "standoff": 15
                      },
                      "zerolinecolor": "white",
                      "zerolinewidth": 2
                    }
                  }
                },
                "title": {
                  "text": "Empirical Distributions"
                },
                "width": 600,
                "xaxis": {
                  "anchor": "y",
                  "domain": [
                    0,
                    0.98
                  ],
                  "title": {
                    "text": "value"
                  }
                },
                "xaxis2": {
                  "anchor": "y2",
                  "domain": [
                    0,
                    0.98
                  ],
                  "matches": "x",
                  "showticklabels": false
                },
                "xaxis3": {
                  "anchor": "y3",
                  "domain": [
                    0,
                    0.98
                  ],
                  "matches": "x",
                  "showticklabels": false
                },
                "yaxis": {
                  "anchor": "x",
                  "domain": [
                    0,
                    0.3133333333333333
                  ],
                  "title": {
                    "text": "probability"
                  }
                },
                "yaxis2": {
                  "anchor": "x2",
                  "domain": [
                    0.34333333333333327,
                    0.6566666666666665
                  ],
                  "matches": "y",
                  "title": {
                    "text": "probability"
                  }
                },
                "yaxis3": {
                  "anchor": "x3",
                  "domain": [
                    0.6866666666666665,
                    0.9999999999999998
                  ],
                  "matches": "y",
                  "title": {
                    "text": "probability"
                  }
                }
              }
            }
          },
          "metadata": {},
          "output_type": "display_data"
        }
      ],
      "source": [
        "px.histogram(sim_flips.melt(), x=\"value\", facet_row=\"variable\", \n",
        "             barmode=\"overlay\", histnorm=\"probability\",\n",
        "             title=\"Empirical Distributions\",\n",
        "             width=600, height=600)"
      ]
    },
    {
      "cell_type": "code",
      "execution_count": null,
      "id": "fd7f4570-c998-4bc1-9d29-9211c359ab58",
      "metadata": {},
      "outputs": [
        {
          "data": {
            "text/html": [
              "<div>\n",
              "<style scoped>\n",
              "    .dataframe tbody tr th:only-of-type {\n",
              "        vertical-align: middle;\n",
              "    }\n",
              "\n",
              "    .dataframe tbody tr th {\n",
              "        vertical-align: top;\n",
              "    }\n",
              "\n",
              "    .dataframe thead th {\n",
              "        text-align: right;\n",
              "    }\n",
              "</style>\n",
              "<table border=\"1\" class=\"dataframe\">\n",
              "  <thead>\n",
              "    <tr style=\"text-align: right;\">\n",
              "      <th></th>\n",
              "      <th>Choice A</th>\n",
              "      <th>Choice B</th>\n",
              "      <th>Choice C</th>\n",
              "    </tr>\n",
              "  </thead>\n",
              "  <tbody>\n",
              "    <tr>\n",
              "      <th>Mean</th>\n",
              "      <td>10.013000</td>\n",
              "      <td>10.013300</td>\n",
              "      <td>10.076000</td>\n",
              "    </tr>\n",
              "    <tr>\n",
              "      <th>Var</th>\n",
              "      <td>49.334764</td>\n",
              "      <td>4.990022</td>\n",
              "      <td>100.004224</td>\n",
              "    </tr>\n",
              "    <tr>\n",
              "      <th>SD</th>\n",
              "      <td>7.023871</td>\n",
              "      <td>2.233836</td>\n",
              "      <td>10.000211</td>\n",
              "    </tr>\n",
              "  </tbody>\n",
              "</table>\n",
              "</div>"
            ],
            "text/plain": [
              "       Choice A   Choice B    Choice C\n",
              "Mean  10.013000  10.013300   10.076000\n",
              "Var   49.334764   4.990022  100.004224\n",
              "SD     7.023871   2.233836   10.000211"
            ]
          },
          "execution_count": 28,
          "metadata": {},
          "output_type": "execute_result"
        }
      ],
      "source": [
        "pd.DataFrame([\n",
        "    sim_flips.mean().rename(\"Mean\"),\n",
        "    sim_flips.var().rename(\"Var\"),\n",
        "    np.sqrt(sim_flips.var()).rename(\"SD\")\n",
        "])"
      ]
    },
    {
      "cell_type": "markdown",
      "id": "821e6e6f",
      "metadata": {},
      "source": [
        "______"
      ]
    },
    {
      "cell_type": "markdown",
      "id": "712d7c25",
      "metadata": {},
      "source": [
        "## Visualizing the Binomial Distribution\n",
        "\n",
        "> This section replicates figures from the lecture slides. We won't cover it together.\n",
        "\n",
        "The binomial distribution provides the probability of $y$ successes among $n$ trials,\n",
        "where each trial has $p$ probability of success:\n",
        "\n",
        "$$\n",
        "P(Y=y) = \\binom{n}{y} p^y (1-p)^{n-y}\n",
        "$$\n",
        "\n",
        "Equivalently, a binomial RV is a sum of $n$ Bernoulli RVs, each with probability $p$ of success.\n",
        "\n",
        "We can visualize the binomial distribution for different combinations of\n",
        "$n$ and $p$, as a function of $y$: "
      ]
    },
    {
      "cell_type": "code",
      "execution_count": null,
      "id": "69a921c2",
      "metadata": {},
      "outputs": [
        {
          "data": {
            "application/vnd.plotly.v1+json": {
              "config": {
                "plotlyServerURL": "https://plot.ly"
              },
              "data": [
                {
                  "hovertemplate": "n=1<br>y=%{x}<br>P(Y=y)=%{y}<extra></extra>",
                  "legendgroup": "",
                  "marker": {
                    "color": "#636efa",
                    "pattern": {
                      "shape": ""
                    }
                  },
                  "name": "",
                  "orientation": "v",
                  "showlegend": false,
                  "textposition": "auto",
                  "type": "bar",
                  "x": {
                    "bdata": "AAE=",
                    "dtype": "i1"
                  },
                  "xaxis": "x4",
                  "y": {
                    "bdata": "AAAAAAAA4D8AAAAAAADgPw==",
                    "dtype": "f8"
                  },
                  "yaxis": "y4"
                },
                {
                  "hovertemplate": "n=2<br>y=%{x}<br>P(Y=y)=%{y}<extra></extra>",
                  "legendgroup": "",
                  "marker": {
                    "color": "#636efa",
                    "pattern": {
                      "shape": ""
                    }
                  },
                  "name": "",
                  "orientation": "v",
                  "showlegend": false,
                  "textposition": "auto",
                  "type": "bar",
                  "x": {
                    "bdata": "AAEC",
                    "dtype": "i1"
                  },
                  "xaxis": "x5",
                  "y": {
                    "bdata": "AAAAAAAA0D8AAAAAAADgPwAAAAAAANA/",
                    "dtype": "f8"
                  },
                  "yaxis": "y5"
                },
                {
                  "hovertemplate": "n=3<br>y=%{x}<br>P(Y=y)=%{y}<extra></extra>",
                  "legendgroup": "",
                  "marker": {
                    "color": "#636efa",
                    "pattern": {
                      "shape": ""
                    }
                  },
                  "name": "",
                  "orientation": "v",
                  "showlegend": false,
                  "textposition": "auto",
                  "type": "bar",
                  "x": {
                    "bdata": "AAECAw==",
                    "dtype": "i1"
                  },
                  "xaxis": "x6",
                  "y": {
                    "bdata": "AAAAAAAAwD8AAAAAAADYPwAAAAAAANg/AAAAAAAAwD8=",
                    "dtype": "f8"
                  },
                  "yaxis": "y6"
                },
                {
                  "hovertemplate": "n=10<br>y=%{x}<br>P(Y=y)=%{y}<extra></extra>",
                  "legendgroup": "",
                  "marker": {
                    "color": "#636efa",
                    "pattern": {
                      "shape": ""
                    }
                  },
                  "name": "",
                  "orientation": "v",
                  "showlegend": false,
                  "textposition": "auto",
                  "type": "bar",
                  "x": {
                    "bdata": "AAECAwQFBgcICQo=",
                    "dtype": "i1"
                  },
                  "xaxis": "x",
                  "y": {
                    "bdata": "AAAAAAAAUD8AAAAAAACEPwAAAAAAgKY/AAAAAAAAvj8AAAAAAEDKPwAAAAAAgM8/AAAAAABAyj8AAAAAAAC+PwAAAAAAgKY/AAAAAAAAhD8AAAAAAABQPw==",
                    "dtype": "f8"
                  },
                  "yaxis": "y"
                },
                {
                  "hovertemplate": "n=20<br>y=%{x}<br>P(Y=y)=%{y}<extra></extra>",
                  "legendgroup": "",
                  "marker": {
                    "color": "#636efa",
                    "pattern": {
                      "shape": ""
                    }
                  },
                  "name": "",
                  "orientation": "v",
                  "showlegend": false,
                  "textposition": "auto",
                  "type": "bar",
                  "x": {
                    "bdata": "AAECAwQFBgcICQoLDA0ODxAREhMU",
                    "dtype": "i1"
                  },
                  "xaxis": "x2",
                  "y": {
                    "bdata": "AAAAAAAAsD4AAAAAAAD0PgAAAAAAwCc/AAAAAADQUT8AAAAAAO1yPwAAAAAASI4/AAAAAADtoj8AAAAAAO2yPwAAAAAgwb4/AAAAAMCAxD8AAAAAoI3GPwAAAADAgMQ/AAAAACDBvj8AAAAAAO2yPwAAAAAA7aI/AAAAAABIjj8AAAAAAO1yPwAAAAAA0FE/AAAAAADAJz8AAAAAAAD0PgAAAAAAALA+",
                    "dtype": "f8"
                  },
                  "yaxis": "y2"
                },
                {
                  "hovertemplate": "n=100<br>y=%{x}<br>P(Y=y)=%{y}<extra></extra>",
                  "legendgroup": "",
                  "marker": {
                    "color": "#636efa",
                    "pattern": {
                      "shape": ""
                    }
                  },
                  "name": "",
                  "orientation": "v",
                  "showlegend": false,
                  "textposition": "auto",
                  "type": "bar",
                  "x": {
                    "bdata": "AAECAwQFBgcICQoLDA0ODxAREhMUFRYXGBkaGxwdHh8gISIjJCUmJygpKissLS4vMDEyMzQ1Njc4OTo7PD0+P0BBQkNERUZHSElKS0xNTk9QUVJTVFVWV1hZWltcXV5fYGFiY2Q=",
                    "dtype": "i1"
                  },
                  "xaxis": "x3",
                  "y": {
                    "bdata": "AAAAAAAAsDkAAAAAAAAZOgAAAAAAVnM6AAAAACC9wzoAAACApOoNOwAAAIAv81E7AAAArFHDkTsAAADz/9DNOwAAjvbZqQU8AACZnl2uOzwAcDSxvXxvPACiQEb4GaA8YCztrNHazTygYNwvAEP5POrBv0l5nyM9aQ3G+k8gTD3ohIccda1yPQB3tpuBEpc92XO5oeOYuj3IaKbdbrLcPbHjnnNDDv09Ly5Oeg+sGz4w0hHljdc4PubCxsfLD1U+U2zncqvkcD5BPnR7f62JPuWsfduAhKI+2xL4zT5guT4B+mPvKIrQPjYK5tAyiOQ+J512u9VL+D4KJW3sZG4LP++r5c4Ekx0/yDxZj3F4Lj9cdB8vuwU+P///meqLTkw/VJWubAWOWT80J4na9hlmP/lteJMnUnI/kpTMqCQgfT8V/hsnTzWGP/1uRnr7P5A/DuWf4sjTlj9UBStzUMqeP4uAxwSX8aM/DgxqfZ/RqD9qDhUhuaytPxyArzMTDLE/H8gRiarSsj82XHvAr/mzPwQHsdP1X7Q/Nlx7wK/5sz8fyBGJqtKyPxyArzMTDLE/ag4VIbmsrT8ODGp9n9GoP4uAxwSX8aM/VAUrc1DKnj8O5Z/iyNOWP/1uRnr7P5A/Ff4bJ081hj+SlMyoJCB9P/lteJMnUnI/NCeJ2vYZZj9Ula5sBY5ZP///meqLTkw/XHQfL7sFPj/IPFmPcXguP++r5c4Ekx0/CiVt7GRuCz8nnXa71Uv4PjYK5tAyiOQ+Afpj7yiK0D7bEvjNPmC5PuWsfduAhKI+QT50e3+tiT5TbOdyq+RwPubCxsfLD1U+MNIR5Y3XOD4vLk56D6wbPrHjnnNDDv09yGim3W6y3D3Zc7mh45i6PQB3tpuBEpc96ISHHHWtcj1pDcb6TyBMPerBv0l5nyM9oGDcLwBD+TxgLO2s0drNPACiQEb4GaA8AHA0sb18bzwAAJmeXa47PAAAjvbZqQU8AAAA8//QzTsAAACsUcOROwAAAIAv81E7AAAAgKTqDTsAAAAAIL3DOgAAAAAAVnM6AAAAAAAAGToAAAAAAACwOQ==",
                    "dtype": "f8"
                  },
                  "yaxis": "y3"
                }
              ],
              "layout": {
                "annotations": [
                  {
                    "font": {},
                    "showarrow": false,
                    "text": "n=10",
                    "x": 0.13333333333333333,
                    "xanchor": "center",
                    "xref": "paper",
                    "y": 0.425,
                    "yanchor": "bottom",
                    "yref": "paper"
                  },
                  {
                    "font": {},
                    "showarrow": false,
                    "text": "n=20",
                    "x": 0.5,
                    "xanchor": "center",
                    "xref": "paper",
                    "y": 0.425,
                    "yanchor": "bottom",
                    "yref": "paper"
                  },
                  {
                    "font": {},
                    "showarrow": false,
                    "text": "n=100",
                    "x": 0.8666666666666667,
                    "xanchor": "center",
                    "xref": "paper",
                    "y": 0.425,
                    "yanchor": "bottom",
                    "yref": "paper"
                  },
                  {
                    "font": {},
                    "showarrow": false,
                    "text": "n=1",
                    "x": 0.13333333333333333,
                    "xanchor": "center",
                    "xref": "paper",
                    "y": 1,
                    "yanchor": "bottom",
                    "yref": "paper"
                  },
                  {
                    "font": {},
                    "showarrow": false,
                    "text": "n=2",
                    "x": 0.5,
                    "xanchor": "center",
                    "xref": "paper",
                    "y": 1,
                    "yanchor": "bottom",
                    "yref": "paper"
                  },
                  {
                    "font": {},
                    "showarrow": false,
                    "text": "n=3",
                    "x": 0.8666666666666667,
                    "xanchor": "center",
                    "xref": "paper",
                    "y": 1,
                    "yanchor": "bottom",
                    "yref": "paper"
                  }
                ],
                "barmode": "relative",
                "font": {
                  "size": 18
                },
                "height": 600,
                "legend": {
                  "tracegroupgap": 0
                },
                "margin": {
                  "t": 60
                },
                "template": {
                  "data": {
                    "bar": [
                      {
                        "error_x": {
                          "color": "#2a3f5f"
                        },
                        "error_y": {
                          "color": "#2a3f5f"
                        },
                        "marker": {
                          "line": {
                            "color": "#E5ECF6",
                            "width": 0.5
                          },
                          "pattern": {
                            "fillmode": "overlay",
                            "size": 10,
                            "solidity": 0.2
                          }
                        },
                        "type": "bar"
                      }
                    ],
                    "barpolar": [
                      {
                        "marker": {
                          "line": {
                            "color": "#E5ECF6",
                            "width": 0.5
                          },
                          "pattern": {
                            "fillmode": "overlay",
                            "size": 10,
                            "solidity": 0.2
                          }
                        },
                        "type": "barpolar"
                      }
                    ],
                    "carpet": [
                      {
                        "aaxis": {
                          "endlinecolor": "#2a3f5f",
                          "gridcolor": "white",
                          "linecolor": "white",
                          "minorgridcolor": "white",
                          "startlinecolor": "#2a3f5f"
                        },
                        "baxis": {
                          "endlinecolor": "#2a3f5f",
                          "gridcolor": "white",
                          "linecolor": "white",
                          "minorgridcolor": "white",
                          "startlinecolor": "#2a3f5f"
                        },
                        "type": "carpet"
                      }
                    ],
                    "choropleth": [
                      {
                        "colorbar": {
                          "outlinewidth": 0,
                          "ticks": ""
                        },
                        "type": "choropleth"
                      }
                    ],
                    "contour": [
                      {
                        "colorbar": {
                          "outlinewidth": 0,
                          "ticks": ""
                        },
                        "colorscale": [
                          [
                            0,
                            "#0d0887"
                          ],
                          [
                            0.1111111111111111,
                            "#46039f"
                          ],
                          [
                            0.2222222222222222,
                            "#7201a8"
                          ],
                          [
                            0.3333333333333333,
                            "#9c179e"
                          ],
                          [
                            0.4444444444444444,
                            "#bd3786"
                          ],
                          [
                            0.5555555555555556,
                            "#d8576b"
                          ],
                          [
                            0.6666666666666666,
                            "#ed7953"
                          ],
                          [
                            0.7777777777777778,
                            "#fb9f3a"
                          ],
                          [
                            0.8888888888888888,
                            "#fdca26"
                          ],
                          [
                            1,
                            "#f0f921"
                          ]
                        ],
                        "type": "contour"
                      }
                    ],
                    "contourcarpet": [
                      {
                        "colorbar": {
                          "outlinewidth": 0,
                          "ticks": ""
                        },
                        "type": "contourcarpet"
                      }
                    ],
                    "heatmap": [
                      {
                        "colorbar": {
                          "outlinewidth": 0,
                          "ticks": ""
                        },
                        "colorscale": [
                          [
                            0,
                            "#0d0887"
                          ],
                          [
                            0.1111111111111111,
                            "#46039f"
                          ],
                          [
                            0.2222222222222222,
                            "#7201a8"
                          ],
                          [
                            0.3333333333333333,
                            "#9c179e"
                          ],
                          [
                            0.4444444444444444,
                            "#bd3786"
                          ],
                          [
                            0.5555555555555556,
                            "#d8576b"
                          ],
                          [
                            0.6666666666666666,
                            "#ed7953"
                          ],
                          [
                            0.7777777777777778,
                            "#fb9f3a"
                          ],
                          [
                            0.8888888888888888,
                            "#fdca26"
                          ],
                          [
                            1,
                            "#f0f921"
                          ]
                        ],
                        "type": "heatmap"
                      }
                    ],
                    "histogram": [
                      {
                        "marker": {
                          "pattern": {
                            "fillmode": "overlay",
                            "size": 10,
                            "solidity": 0.2
                          }
                        },
                        "type": "histogram"
                      }
                    ],
                    "histogram2d": [
                      {
                        "colorbar": {
                          "outlinewidth": 0,
                          "ticks": ""
                        },
                        "colorscale": [
                          [
                            0,
                            "#0d0887"
                          ],
                          [
                            0.1111111111111111,
                            "#46039f"
                          ],
                          [
                            0.2222222222222222,
                            "#7201a8"
                          ],
                          [
                            0.3333333333333333,
                            "#9c179e"
                          ],
                          [
                            0.4444444444444444,
                            "#bd3786"
                          ],
                          [
                            0.5555555555555556,
                            "#d8576b"
                          ],
                          [
                            0.6666666666666666,
                            "#ed7953"
                          ],
                          [
                            0.7777777777777778,
                            "#fb9f3a"
                          ],
                          [
                            0.8888888888888888,
                            "#fdca26"
                          ],
                          [
                            1,
                            "#f0f921"
                          ]
                        ],
                        "type": "histogram2d"
                      }
                    ],
                    "histogram2dcontour": [
                      {
                        "colorbar": {
                          "outlinewidth": 0,
                          "ticks": ""
                        },
                        "colorscale": [
                          [
                            0,
                            "#0d0887"
                          ],
                          [
                            0.1111111111111111,
                            "#46039f"
                          ],
                          [
                            0.2222222222222222,
                            "#7201a8"
                          ],
                          [
                            0.3333333333333333,
                            "#9c179e"
                          ],
                          [
                            0.4444444444444444,
                            "#bd3786"
                          ],
                          [
                            0.5555555555555556,
                            "#d8576b"
                          ],
                          [
                            0.6666666666666666,
                            "#ed7953"
                          ],
                          [
                            0.7777777777777778,
                            "#fb9f3a"
                          ],
                          [
                            0.8888888888888888,
                            "#fdca26"
                          ],
                          [
                            1,
                            "#f0f921"
                          ]
                        ],
                        "type": "histogram2dcontour"
                      }
                    ],
                    "mesh3d": [
                      {
                        "colorbar": {
                          "outlinewidth": 0,
                          "ticks": ""
                        },
                        "type": "mesh3d"
                      }
                    ],
                    "parcoords": [
                      {
                        "line": {
                          "colorbar": {
                            "outlinewidth": 0,
                            "ticks": ""
                          }
                        },
                        "type": "parcoords"
                      }
                    ],
                    "pie": [
                      {
                        "automargin": true,
                        "type": "pie"
                      }
                    ],
                    "scatter": [
                      {
                        "fillpattern": {
                          "fillmode": "overlay",
                          "size": 10,
                          "solidity": 0.2
                        },
                        "type": "scatter"
                      }
                    ],
                    "scatter3d": [
                      {
                        "line": {
                          "colorbar": {
                            "outlinewidth": 0,
                            "ticks": ""
                          }
                        },
                        "marker": {
                          "colorbar": {
                            "outlinewidth": 0,
                            "ticks": ""
                          }
                        },
                        "type": "scatter3d"
                      }
                    ],
                    "scattercarpet": [
                      {
                        "marker": {
                          "colorbar": {
                            "outlinewidth": 0,
                            "ticks": ""
                          }
                        },
                        "type": "scattercarpet"
                      }
                    ],
                    "scattergeo": [
                      {
                        "marker": {
                          "colorbar": {
                            "outlinewidth": 0,
                            "ticks": ""
                          }
                        },
                        "type": "scattergeo"
                      }
                    ],
                    "scattergl": [
                      {
                        "marker": {
                          "colorbar": {
                            "outlinewidth": 0,
                            "ticks": ""
                          }
                        },
                        "type": "scattergl"
                      }
                    ],
                    "scattermap": [
                      {
                        "marker": {
                          "colorbar": {
                            "outlinewidth": 0,
                            "ticks": ""
                          }
                        },
                        "type": "scattermap"
                      }
                    ],
                    "scattermapbox": [
                      {
                        "marker": {
                          "colorbar": {
                            "outlinewidth": 0,
                            "ticks": ""
                          }
                        },
                        "type": "scattermapbox"
                      }
                    ],
                    "scatterpolar": [
                      {
                        "marker": {
                          "colorbar": {
                            "outlinewidth": 0,
                            "ticks": ""
                          }
                        },
                        "type": "scatterpolar"
                      }
                    ],
                    "scatterpolargl": [
                      {
                        "marker": {
                          "colorbar": {
                            "outlinewidth": 0,
                            "ticks": ""
                          }
                        },
                        "type": "scatterpolargl"
                      }
                    ],
                    "scatterternary": [
                      {
                        "marker": {
                          "colorbar": {
                            "outlinewidth": 0,
                            "ticks": ""
                          }
                        },
                        "type": "scatterternary"
                      }
                    ],
                    "surface": [
                      {
                        "colorbar": {
                          "outlinewidth": 0,
                          "ticks": ""
                        },
                        "colorscale": [
                          [
                            0,
                            "#0d0887"
                          ],
                          [
                            0.1111111111111111,
                            "#46039f"
                          ],
                          [
                            0.2222222222222222,
                            "#7201a8"
                          ],
                          [
                            0.3333333333333333,
                            "#9c179e"
                          ],
                          [
                            0.4444444444444444,
                            "#bd3786"
                          ],
                          [
                            0.5555555555555556,
                            "#d8576b"
                          ],
                          [
                            0.6666666666666666,
                            "#ed7953"
                          ],
                          [
                            0.7777777777777778,
                            "#fb9f3a"
                          ],
                          [
                            0.8888888888888888,
                            "#fdca26"
                          ],
                          [
                            1,
                            "#f0f921"
                          ]
                        ],
                        "type": "surface"
                      }
                    ],
                    "table": [
                      {
                        "cells": {
                          "fill": {
                            "color": "#EBF0F8"
                          },
                          "line": {
                            "color": "white"
                          }
                        },
                        "header": {
                          "fill": {
                            "color": "#C8D4E3"
                          },
                          "line": {
                            "color": "white"
                          }
                        },
                        "type": "table"
                      }
                    ]
                  },
                  "layout": {
                    "annotationdefaults": {
                      "arrowcolor": "#2a3f5f",
                      "arrowhead": 0,
                      "arrowwidth": 1
                    },
                    "autotypenumbers": "strict",
                    "coloraxis": {
                      "colorbar": {
                        "outlinewidth": 0,
                        "ticks": ""
                      }
                    },
                    "colorscale": {
                      "diverging": [
                        [
                          0,
                          "#8e0152"
                        ],
                        [
                          0.1,
                          "#c51b7d"
                        ],
                        [
                          0.2,
                          "#de77ae"
                        ],
                        [
                          0.3,
                          "#f1b6da"
                        ],
                        [
                          0.4,
                          "#fde0ef"
                        ],
                        [
                          0.5,
                          "#f7f7f7"
                        ],
                        [
                          0.6,
                          "#e6f5d0"
                        ],
                        [
                          0.7,
                          "#b8e186"
                        ],
                        [
                          0.8,
                          "#7fbc41"
                        ],
                        [
                          0.9,
                          "#4d9221"
                        ],
                        [
                          1,
                          "#276419"
                        ]
                      ],
                      "sequential": [
                        [
                          0,
                          "#0d0887"
                        ],
                        [
                          0.1111111111111111,
                          "#46039f"
                        ],
                        [
                          0.2222222222222222,
                          "#7201a8"
                        ],
                        [
                          0.3333333333333333,
                          "#9c179e"
                        ],
                        [
                          0.4444444444444444,
                          "#bd3786"
                        ],
                        [
                          0.5555555555555556,
                          "#d8576b"
                        ],
                        [
                          0.6666666666666666,
                          "#ed7953"
                        ],
                        [
                          0.7777777777777778,
                          "#fb9f3a"
                        ],
                        [
                          0.8888888888888888,
                          "#fdca26"
                        ],
                        [
                          1,
                          "#f0f921"
                        ]
                      ],
                      "sequentialminus": [
                        [
                          0,
                          "#0d0887"
                        ],
                        [
                          0.1111111111111111,
                          "#46039f"
                        ],
                        [
                          0.2222222222222222,
                          "#7201a8"
                        ],
                        [
                          0.3333333333333333,
                          "#9c179e"
                        ],
                        [
                          0.4444444444444444,
                          "#bd3786"
                        ],
                        [
                          0.5555555555555556,
                          "#d8576b"
                        ],
                        [
                          0.6666666666666666,
                          "#ed7953"
                        ],
                        [
                          0.7777777777777778,
                          "#fb9f3a"
                        ],
                        [
                          0.8888888888888888,
                          "#fdca26"
                        ],
                        [
                          1,
                          "#f0f921"
                        ]
                      ]
                    },
                    "colorway": [
                      "#636efa",
                      "#EF553B",
                      "#00cc96",
                      "#ab63fa",
                      "#FFA15A",
                      "#19d3f3",
                      "#FF6692",
                      "#B6E880",
                      "#FF97FF",
                      "#FECB52"
                    ],
                    "font": {
                      "color": "#2a3f5f"
                    },
                    "geo": {
                      "bgcolor": "white",
                      "lakecolor": "white",
                      "landcolor": "#E5ECF6",
                      "showlakes": true,
                      "showland": true,
                      "subunitcolor": "white"
                    },
                    "hoverlabel": {
                      "align": "left"
                    },
                    "hovermode": "closest",
                    "mapbox": {
                      "style": "light"
                    },
                    "paper_bgcolor": "white",
                    "plot_bgcolor": "#E5ECF6",
                    "polar": {
                      "angularaxis": {
                        "gridcolor": "white",
                        "linecolor": "white",
                        "ticks": ""
                      },
                      "bgcolor": "#E5ECF6",
                      "radialaxis": {
                        "gridcolor": "white",
                        "linecolor": "white",
                        "ticks": ""
                      }
                    },
                    "scene": {
                      "xaxis": {
                        "backgroundcolor": "#E5ECF6",
                        "gridcolor": "white",
                        "gridwidth": 2,
                        "linecolor": "white",
                        "showbackground": true,
                        "ticks": "",
                        "zerolinecolor": "white"
                      },
                      "yaxis": {
                        "backgroundcolor": "#E5ECF6",
                        "gridcolor": "white",
                        "gridwidth": 2,
                        "linecolor": "white",
                        "showbackground": true,
                        "ticks": "",
                        "zerolinecolor": "white"
                      },
                      "zaxis": {
                        "backgroundcolor": "#E5ECF6",
                        "gridcolor": "white",
                        "gridwidth": 2,
                        "linecolor": "white",
                        "showbackground": true,
                        "ticks": "",
                        "zerolinecolor": "white"
                      }
                    },
                    "shapedefaults": {
                      "line": {
                        "color": "#2a3f5f"
                      }
                    },
                    "ternary": {
                      "aaxis": {
                        "gridcolor": "white",
                        "linecolor": "white",
                        "ticks": ""
                      },
                      "baxis": {
                        "gridcolor": "white",
                        "linecolor": "white",
                        "ticks": ""
                      },
                      "bgcolor": "#E5ECF6",
                      "caxis": {
                        "gridcolor": "white",
                        "linecolor": "white",
                        "ticks": ""
                      }
                    },
                    "title": {
                      "x": 0.05
                    },
                    "xaxis": {
                      "automargin": true,
                      "gridcolor": "white",
                      "linecolor": "white",
                      "ticks": "",
                      "title": {
                        "standoff": 15
                      },
                      "zerolinecolor": "white",
                      "zerolinewidth": 2
                    },
                    "yaxis": {
                      "automargin": true,
                      "gridcolor": "white",
                      "linecolor": "white",
                      "ticks": "",
                      "title": {
                        "standoff": 15
                      },
                      "zerolinecolor": "white",
                      "zerolinewidth": 2
                    }
                  }
                },
                "width": 1000,
                "xaxis": {
                  "anchor": "y",
                  "domain": [
                    0,
                    0.26666666666666666
                  ],
                  "showticklabels": true,
                  "title": {
                    "text": "y"
                  }
                },
                "xaxis2": {
                  "anchor": "y2",
                  "domain": [
                    0.3666666666666667,
                    0.6333333333333333
                  ],
                  "showticklabels": true,
                  "title": {
                    "text": "y"
                  }
                },
                "xaxis3": {
                  "anchor": "y3",
                  "domain": [
                    0.7333333333333334,
                    1
                  ],
                  "showticklabels": true,
                  "title": {
                    "text": "y"
                  }
                },
                "xaxis4": {
                  "anchor": "y4",
                  "domain": [
                    0,
                    0.26666666666666666
                  ],
                  "showticklabels": true
                },
                "xaxis5": {
                  "anchor": "y5",
                  "domain": [
                    0.3666666666666667,
                    0.6333333333333333
                  ],
                  "showticklabels": true
                },
                "xaxis6": {
                  "anchor": "y6",
                  "domain": [
                    0.7333333333333334,
                    1
                  ],
                  "showticklabels": true
                },
                "yaxis": {
                  "anchor": "x",
                  "domain": [
                    0,
                    0.425
                  ],
                  "showticklabels": true,
                  "title": {
                    "text": "P(Y=y)"
                  }
                },
                "yaxis2": {
                  "anchor": "x2",
                  "domain": [
                    0,
                    0.425
                  ],
                  "showticklabels": true
                },
                "yaxis3": {
                  "anchor": "x3",
                  "domain": [
                    0,
                    0.425
                  ],
                  "showticklabels": true
                },
                "yaxis4": {
                  "anchor": "x4",
                  "domain": [
                    0.575,
                    1
                  ],
                  "showticklabels": true,
                  "title": {
                    "text": "P(Y=y)"
                  }
                },
                "yaxis5": {
                  "anchor": "x5",
                  "domain": [
                    0.575,
                    1
                  ],
                  "showticklabels": true
                },
                "yaxis6": {
                  "anchor": "x6",
                  "domain": [
                    0.575,
                    1
                  ],
                  "showticklabels": true
                }
              }
            }
          },
          "metadata": {},
          "output_type": "display_data"
        }
      ],
      "source": [
        "# Make a grid plots the binomial distribution for p = 0.5 and n = [1, 2, 3, 10, 100]\n",
        "\n",
        "# np.math.comb(n,k) gives the binomial coefficient for \"n choose k\"\n",
        "def binom(n, k, p): \n",
        "  return np.math.comb(n, k) * p**k * (1-p)**(n-k)\n",
        "\n",
        "n_values = [1, 2, 3, 10, 20, 100]\n",
        "\n",
        "binom_df = pd.DataFrame({\n",
        "    \"n\": np.concatenate([[n] * (n+1) for n in n_values]),\n",
        "    \"y\": np.concatenate([np.arange(n+1) for n in n_values]),\n",
        "    \"P(Y=y)\": [binom(n, y, 0.5) for n in n_values for y in range(n+1)]\n",
        "})\n",
        "\n",
        "fig = px.bar(binom_df, x=\"y\", y=\"P(Y=y)\", \n",
        "             facet_col=\"n\", facet_col_wrap=3,\n",
        "             facet_col_spacing=0.1, facet_row_spacing=0.15)\n",
        "\n",
        "# Show axis ticks on all subplots\n",
        "fig.update_yaxes(matches=None, showticklabels=True)\n",
        "fig.update_xaxes(matches=None, showticklabels=True)\n",
        "\n",
        "# Increase font size\n",
        "fig.update_layout(font=dict(size=18))\n",
        "\n",
        "# Increase size of figure\n",
        "fig.update_layout(width=1000, height=600)\n",
        "\n",
        "fig.show()\n",
        "\n"
      ]
    },
    {
      "cell_type": "markdown",
      "id": "a88ebf7c-41e1-4607-a61e-6b6c13ba9835",
      "metadata": {},
      "source": [
        "<br/><br/><br/>\n",
        "\n",
        "---\n",
        "\n",
        "# From Population to Sample\n",
        "\n",
        "> This section replicates findings from the lecture. We won't cover it together.\n",
        "\n",
        "Remember the population distribution we looked at earlier:"
      ]
    },
    {
      "cell_type": "code",
      "execution_count": null,
      "id": "9d81997a-86d1-4f32-a709-590619064942",
      "metadata": {},
      "outputs": [
        {
          "data": {
            "text/html": [
              "<div>\n",
              "<style scoped>\n",
              "    .dataframe tbody tr th:only-of-type {\n",
              "        vertical-align: middle;\n",
              "    }\n",
              "\n",
              "    .dataframe tbody tr th {\n",
              "        vertical-align: top;\n",
              "    }\n",
              "\n",
              "    .dataframe thead th {\n",
              "        text-align: right;\n",
              "    }\n",
              "</style>\n",
              "<table border=\"1\" class=\"dataframe\">\n",
              "  <thead>\n",
              "    <tr style=\"text-align: right;\">\n",
              "      <th></th>\n",
              "      <th>x</th>\n",
              "      <th>P(X = x)</th>\n",
              "    </tr>\n",
              "  </thead>\n",
              "  <tbody>\n",
              "    <tr>\n",
              "      <th>0</th>\n",
              "      <td>3</td>\n",
              "      <td>0.1</td>\n",
              "    </tr>\n",
              "    <tr>\n",
              "      <th>1</th>\n",
              "      <td>4</td>\n",
              "      <td>0.2</td>\n",
              "    </tr>\n",
              "    <tr>\n",
              "      <th>2</th>\n",
              "      <td>6</td>\n",
              "      <td>0.4</td>\n",
              "    </tr>\n",
              "    <tr>\n",
              "      <th>3</th>\n",
              "      <td>8</td>\n",
              "      <td>0.3</td>\n",
              "    </tr>\n",
              "  </tbody>\n",
              "</table>\n",
              "</div>"
            ],
            "text/plain": [
              "   x  P(X = x)\n",
              "0  3       0.1\n",
              "1  4       0.2\n",
              "2  6       0.4\n",
              "3  8       0.3"
            ]
          },
          "execution_count": 97,
          "metadata": {},
          "output_type": "execute_result"
        }
      ],
      "source": [
        "dist_df"
      ]
    },
    {
      "cell_type": "code",
      "execution_count": null,
      "id": "872523a7-21ed-4003-b0cc-10c41b1d405f",
      "metadata": {},
      "outputs": [
        {
          "data": {
            "text/html": [
              "<div>\n",
              "<style scoped>\n",
              "    .dataframe tbody tr th:only-of-type {\n",
              "        vertical-align: middle;\n",
              "    }\n",
              "\n",
              "    .dataframe tbody tr th {\n",
              "        vertical-align: top;\n",
              "    }\n",
              "\n",
              "    .dataframe thead th {\n",
              "        text-align: right;\n",
              "    }\n",
              "</style>\n",
              "<table border=\"1\" class=\"dataframe\">\n",
              "  <thead>\n",
              "    <tr style=\"text-align: right;\">\n",
              "      <th></th>\n",
              "      <th>X</th>\n",
              "    </tr>\n",
              "  </thead>\n",
              "  <tbody>\n",
              "    <tr>\n",
              "      <th>0</th>\n",
              "      <td>6</td>\n",
              "    </tr>\n",
              "    <tr>\n",
              "      <th>1</th>\n",
              "      <td>6</td>\n",
              "    </tr>\n",
              "    <tr>\n",
              "      <th>2</th>\n",
              "      <td>4</td>\n",
              "    </tr>\n",
              "    <tr>\n",
              "      <th>3</th>\n",
              "      <td>3</td>\n",
              "    </tr>\n",
              "    <tr>\n",
              "      <th>4</th>\n",
              "      <td>6</td>\n",
              "    </tr>\n",
              "    <tr>\n",
              "      <th>...</th>\n",
              "      <td>...</td>\n",
              "    </tr>\n",
              "    <tr>\n",
              "      <th>99995</th>\n",
              "      <td>6</td>\n",
              "    </tr>\n",
              "    <tr>\n",
              "      <th>99996</th>\n",
              "      <td>6</td>\n",
              "    </tr>\n",
              "    <tr>\n",
              "      <th>99997</th>\n",
              "      <td>4</td>\n",
              "    </tr>\n",
              "    <tr>\n",
              "      <th>99998</th>\n",
              "      <td>8</td>\n",
              "    </tr>\n",
              "    <tr>\n",
              "      <th>99999</th>\n",
              "      <td>8</td>\n",
              "    </tr>\n",
              "  </tbody>\n",
              "</table>\n",
              "<p>100000 rows × 1 columns</p>\n",
              "</div>"
            ],
            "text/plain": [
              "       X\n",
              "0      6\n",
              "1      6\n",
              "2      4\n",
              "3      3\n",
              "4      6\n",
              "...   ..\n",
              "99995  6\n",
              "99996  6\n",
              "99997  4\n",
              "99998  8\n",
              "99999  8\n",
              "\n",
              "[100000 rows x 1 columns]"
            ]
          },
          "execution_count": 99,
          "metadata": {},
          "output_type": "execute_result"
        }
      ],
      "source": [
        "# A population generated from the distribution\n",
        "N = 100000\n",
        "all_samples = np.random.choice(dist_df[\"x\"], N, p=dist_df[\"P(X = x)\"])\n",
        "sim_pop_df = pd.DataFrame({\"X\": all_samples})\n",
        "sim_pop_df"
      ]
    },
    {
      "cell_type": "markdown",
      "id": "45c3ad53-d2a9-416d-8a97-751e26d0041f",
      "metadata": {},
      "source": [
        "<br/><br/><br/>\n",
        "Suppose we draw a sample of size 100 from this giant population.\n",
        "\n",
        "We are performing **Random Sampling with Replacement:** `df.sample(n, replace=True)` ([link](https://pandas.pydata.org/docs/reference/api/pandas.DataFrame.sample.html))"
      ]
    },
    {
      "cell_type": "code",
      "execution_count": null,
      "id": "ad63c3b3-bc4d-4bde-ae82-03e3121806ae",
      "metadata": {},
      "outputs": [
        {
          "data": {
            "text/html": [
              "<div>\n",
              "<style scoped>\n",
              "    .dataframe tbody tr th:only-of-type {\n",
              "        vertical-align: middle;\n",
              "    }\n",
              "\n",
              "    .dataframe tbody tr th {\n",
              "        vertical-align: top;\n",
              "    }\n",
              "\n",
              "    .dataframe thead th {\n",
              "        text-align: right;\n",
              "    }\n",
              "</style>\n",
              "<table border=\"1\" class=\"dataframe\">\n",
              "  <thead>\n",
              "    <tr style=\"text-align: right;\">\n",
              "      <th></th>\n",
              "      <th>X</th>\n",
              "    </tr>\n",
              "  </thead>\n",
              "  <tbody>\n",
              "    <tr>\n",
              "      <th>0</th>\n",
              "      <td>6</td>\n",
              "    </tr>\n",
              "    <tr>\n",
              "      <th>1</th>\n",
              "      <td>8</td>\n",
              "    </tr>\n",
              "    <tr>\n",
              "      <th>2</th>\n",
              "      <td>4</td>\n",
              "    </tr>\n",
              "    <tr>\n",
              "      <th>3</th>\n",
              "      <td>6</td>\n",
              "    </tr>\n",
              "    <tr>\n",
              "      <th>4</th>\n",
              "      <td>6</td>\n",
              "    </tr>\n",
              "    <tr>\n",
              "      <th>...</th>\n",
              "      <td>...</td>\n",
              "    </tr>\n",
              "    <tr>\n",
              "      <th>95</th>\n",
              "      <td>6</td>\n",
              "    </tr>\n",
              "    <tr>\n",
              "      <th>96</th>\n",
              "      <td>4</td>\n",
              "    </tr>\n",
              "    <tr>\n",
              "      <th>97</th>\n",
              "      <td>8</td>\n",
              "    </tr>\n",
              "    <tr>\n",
              "      <th>98</th>\n",
              "      <td>6</td>\n",
              "    </tr>\n",
              "    <tr>\n",
              "      <th>99</th>\n",
              "      <td>8</td>\n",
              "    </tr>\n",
              "  </tbody>\n",
              "</table>\n",
              "<p>100 rows × 1 columns</p>\n",
              "</div>"
            ],
            "text/plain": [
              "    X\n",
              "0   6\n",
              "1   8\n",
              "2   4\n",
              "3   6\n",
              "4   6\n",
              ".. ..\n",
              "95  6\n",
              "96  4\n",
              "97  8\n",
              "98  6\n",
              "99  8\n",
              "\n",
              "[100 rows x 1 columns]"
            ]
          },
          "execution_count": 100,
          "metadata": {},
          "output_type": "execute_result"
        }
      ],
      "source": [
        "n = 100      # Size of our sample\n",
        "sample_df = (\n",
        "             sim_pop_df.sample(n, replace=True)\n",
        "             # Some reformatting below\n",
        "             .reset_index(drop=True)\n",
        "             .rename(columns={\"X\": \"X\"})\n",
        "            )\n",
        "sample_df"
      ]
    },
    {
      "cell_type": "markdown",
      "id": "3df95301-35ba-426d-bdac-6a180c6930d9",
      "metadata": {},
      "source": [
        "Our **sample distribution** (n = 100):"
      ]
    },
    {
      "cell_type": "code",
      "execution_count": null,
      "id": "0fd0f72f-378b-47c5-813c-8fdad2c427f1",
      "metadata": {},
      "outputs": [
        {
          "data": {
            "application/vnd.plotly.v1+json": {
              "config": {
                "plotlyServerURL": "https://plot.ly"
              },
              "data": [
                {
                  "bingroup": "x",
                  "histnorm": "probability",
                  "hovertemplate": "X=%{x}<br>probability=%{y}<extra></extra>",
                  "legendgroup": "",
                  "marker": {
                    "color": "#636efa",
                    "pattern": {
                      "shape": ""
                    }
                  },
                  "name": "",
                  "orientation": "v",
                  "showlegend": false,
                  "type": "histogram",
                  "x": {
                    "bdata": "BggEBgYEBAMECAgDBAYIBgQGCAYIBgYGAwgGBgYGCAYEBgQGAwYICAgGBgYGCAYGCAYIBggEAwYICAQGBgQGCAQGCAYIBAYGCAYEBgYIBggECAYDBgYGBgQICAgIBgYGBAgGCA==",
                    "dtype": "i1"
                  },
                  "xaxis": "x",
                  "yaxis": "y"
                }
              ],
              "layout": {
                "barmode": "relative",
                "legend": {
                  "tracegroupgap": 0
                },
                "template": {
                  "data": {
                    "bar": [
                      {
                        "error_x": {
                          "color": "#2a3f5f"
                        },
                        "error_y": {
                          "color": "#2a3f5f"
                        },
                        "marker": {
                          "line": {
                            "color": "#E5ECF6",
                            "width": 0.5
                          },
                          "pattern": {
                            "fillmode": "overlay",
                            "size": 10,
                            "solidity": 0.2
                          }
                        },
                        "type": "bar"
                      }
                    ],
                    "barpolar": [
                      {
                        "marker": {
                          "line": {
                            "color": "#E5ECF6",
                            "width": 0.5
                          },
                          "pattern": {
                            "fillmode": "overlay",
                            "size": 10,
                            "solidity": 0.2
                          }
                        },
                        "type": "barpolar"
                      }
                    ],
                    "carpet": [
                      {
                        "aaxis": {
                          "endlinecolor": "#2a3f5f",
                          "gridcolor": "white",
                          "linecolor": "white",
                          "minorgridcolor": "white",
                          "startlinecolor": "#2a3f5f"
                        },
                        "baxis": {
                          "endlinecolor": "#2a3f5f",
                          "gridcolor": "white",
                          "linecolor": "white",
                          "minorgridcolor": "white",
                          "startlinecolor": "#2a3f5f"
                        },
                        "type": "carpet"
                      }
                    ],
                    "choropleth": [
                      {
                        "colorbar": {
                          "outlinewidth": 0,
                          "ticks": ""
                        },
                        "type": "choropleth"
                      }
                    ],
                    "contour": [
                      {
                        "colorbar": {
                          "outlinewidth": 0,
                          "ticks": ""
                        },
                        "colorscale": [
                          [
                            0,
                            "#0d0887"
                          ],
                          [
                            0.1111111111111111,
                            "#46039f"
                          ],
                          [
                            0.2222222222222222,
                            "#7201a8"
                          ],
                          [
                            0.3333333333333333,
                            "#9c179e"
                          ],
                          [
                            0.4444444444444444,
                            "#bd3786"
                          ],
                          [
                            0.5555555555555556,
                            "#d8576b"
                          ],
                          [
                            0.6666666666666666,
                            "#ed7953"
                          ],
                          [
                            0.7777777777777778,
                            "#fb9f3a"
                          ],
                          [
                            0.8888888888888888,
                            "#fdca26"
                          ],
                          [
                            1,
                            "#f0f921"
                          ]
                        ],
                        "type": "contour"
                      }
                    ],
                    "contourcarpet": [
                      {
                        "colorbar": {
                          "outlinewidth": 0,
                          "ticks": ""
                        },
                        "type": "contourcarpet"
                      }
                    ],
                    "heatmap": [
                      {
                        "colorbar": {
                          "outlinewidth": 0,
                          "ticks": ""
                        },
                        "colorscale": [
                          [
                            0,
                            "#0d0887"
                          ],
                          [
                            0.1111111111111111,
                            "#46039f"
                          ],
                          [
                            0.2222222222222222,
                            "#7201a8"
                          ],
                          [
                            0.3333333333333333,
                            "#9c179e"
                          ],
                          [
                            0.4444444444444444,
                            "#bd3786"
                          ],
                          [
                            0.5555555555555556,
                            "#d8576b"
                          ],
                          [
                            0.6666666666666666,
                            "#ed7953"
                          ],
                          [
                            0.7777777777777778,
                            "#fb9f3a"
                          ],
                          [
                            0.8888888888888888,
                            "#fdca26"
                          ],
                          [
                            1,
                            "#f0f921"
                          ]
                        ],
                        "type": "heatmap"
                      }
                    ],
                    "histogram": [
                      {
                        "marker": {
                          "pattern": {
                            "fillmode": "overlay",
                            "size": 10,
                            "solidity": 0.2
                          }
                        },
                        "type": "histogram"
                      }
                    ],
                    "histogram2d": [
                      {
                        "colorbar": {
                          "outlinewidth": 0,
                          "ticks": ""
                        },
                        "colorscale": [
                          [
                            0,
                            "#0d0887"
                          ],
                          [
                            0.1111111111111111,
                            "#46039f"
                          ],
                          [
                            0.2222222222222222,
                            "#7201a8"
                          ],
                          [
                            0.3333333333333333,
                            "#9c179e"
                          ],
                          [
                            0.4444444444444444,
                            "#bd3786"
                          ],
                          [
                            0.5555555555555556,
                            "#d8576b"
                          ],
                          [
                            0.6666666666666666,
                            "#ed7953"
                          ],
                          [
                            0.7777777777777778,
                            "#fb9f3a"
                          ],
                          [
                            0.8888888888888888,
                            "#fdca26"
                          ],
                          [
                            1,
                            "#f0f921"
                          ]
                        ],
                        "type": "histogram2d"
                      }
                    ],
                    "histogram2dcontour": [
                      {
                        "colorbar": {
                          "outlinewidth": 0,
                          "ticks": ""
                        },
                        "colorscale": [
                          [
                            0,
                            "#0d0887"
                          ],
                          [
                            0.1111111111111111,
                            "#46039f"
                          ],
                          [
                            0.2222222222222222,
                            "#7201a8"
                          ],
                          [
                            0.3333333333333333,
                            "#9c179e"
                          ],
                          [
                            0.4444444444444444,
                            "#bd3786"
                          ],
                          [
                            0.5555555555555556,
                            "#d8576b"
                          ],
                          [
                            0.6666666666666666,
                            "#ed7953"
                          ],
                          [
                            0.7777777777777778,
                            "#fb9f3a"
                          ],
                          [
                            0.8888888888888888,
                            "#fdca26"
                          ],
                          [
                            1,
                            "#f0f921"
                          ]
                        ],
                        "type": "histogram2dcontour"
                      }
                    ],
                    "mesh3d": [
                      {
                        "colorbar": {
                          "outlinewidth": 0,
                          "ticks": ""
                        },
                        "type": "mesh3d"
                      }
                    ],
                    "parcoords": [
                      {
                        "line": {
                          "colorbar": {
                            "outlinewidth": 0,
                            "ticks": ""
                          }
                        },
                        "type": "parcoords"
                      }
                    ],
                    "pie": [
                      {
                        "automargin": true,
                        "type": "pie"
                      }
                    ],
                    "scatter": [
                      {
                        "fillpattern": {
                          "fillmode": "overlay",
                          "size": 10,
                          "solidity": 0.2
                        },
                        "type": "scatter"
                      }
                    ],
                    "scatter3d": [
                      {
                        "line": {
                          "colorbar": {
                            "outlinewidth": 0,
                            "ticks": ""
                          }
                        },
                        "marker": {
                          "colorbar": {
                            "outlinewidth": 0,
                            "ticks": ""
                          }
                        },
                        "type": "scatter3d"
                      }
                    ],
                    "scattercarpet": [
                      {
                        "marker": {
                          "colorbar": {
                            "outlinewidth": 0,
                            "ticks": ""
                          }
                        },
                        "type": "scattercarpet"
                      }
                    ],
                    "scattergeo": [
                      {
                        "marker": {
                          "colorbar": {
                            "outlinewidth": 0,
                            "ticks": ""
                          }
                        },
                        "type": "scattergeo"
                      }
                    ],
                    "scattergl": [
                      {
                        "marker": {
                          "colorbar": {
                            "outlinewidth": 0,
                            "ticks": ""
                          }
                        },
                        "type": "scattergl"
                      }
                    ],
                    "scattermap": [
                      {
                        "marker": {
                          "colorbar": {
                            "outlinewidth": 0,
                            "ticks": ""
                          }
                        },
                        "type": "scattermap"
                      }
                    ],
                    "scattermapbox": [
                      {
                        "marker": {
                          "colorbar": {
                            "outlinewidth": 0,
                            "ticks": ""
                          }
                        },
                        "type": "scattermapbox"
                      }
                    ],
                    "scatterpolar": [
                      {
                        "marker": {
                          "colorbar": {
                            "outlinewidth": 0,
                            "ticks": ""
                          }
                        },
                        "type": "scatterpolar"
                      }
                    ],
                    "scatterpolargl": [
                      {
                        "marker": {
                          "colorbar": {
                            "outlinewidth": 0,
                            "ticks": ""
                          }
                        },
                        "type": "scatterpolargl"
                      }
                    ],
                    "scatterternary": [
                      {
                        "marker": {
                          "colorbar": {
                            "outlinewidth": 0,
                            "ticks": ""
                          }
                        },
                        "type": "scatterternary"
                      }
                    ],
                    "surface": [
                      {
                        "colorbar": {
                          "outlinewidth": 0,
                          "ticks": ""
                        },
                        "colorscale": [
                          [
                            0,
                            "#0d0887"
                          ],
                          [
                            0.1111111111111111,
                            "#46039f"
                          ],
                          [
                            0.2222222222222222,
                            "#7201a8"
                          ],
                          [
                            0.3333333333333333,
                            "#9c179e"
                          ],
                          [
                            0.4444444444444444,
                            "#bd3786"
                          ],
                          [
                            0.5555555555555556,
                            "#d8576b"
                          ],
                          [
                            0.6666666666666666,
                            "#ed7953"
                          ],
                          [
                            0.7777777777777778,
                            "#fb9f3a"
                          ],
                          [
                            0.8888888888888888,
                            "#fdca26"
                          ],
                          [
                            1,
                            "#f0f921"
                          ]
                        ],
                        "type": "surface"
                      }
                    ],
                    "table": [
                      {
                        "cells": {
                          "fill": {
                            "color": "#EBF0F8"
                          },
                          "line": {
                            "color": "white"
                          }
                        },
                        "header": {
                          "fill": {
                            "color": "#C8D4E3"
                          },
                          "line": {
                            "color": "white"
                          }
                        },
                        "type": "table"
                      }
                    ]
                  },
                  "layout": {
                    "annotationdefaults": {
                      "arrowcolor": "#2a3f5f",
                      "arrowhead": 0,
                      "arrowwidth": 1
                    },
                    "autotypenumbers": "strict",
                    "coloraxis": {
                      "colorbar": {
                        "outlinewidth": 0,
                        "ticks": ""
                      }
                    },
                    "colorscale": {
                      "diverging": [
                        [
                          0,
                          "#8e0152"
                        ],
                        [
                          0.1,
                          "#c51b7d"
                        ],
                        [
                          0.2,
                          "#de77ae"
                        ],
                        [
                          0.3,
                          "#f1b6da"
                        ],
                        [
                          0.4,
                          "#fde0ef"
                        ],
                        [
                          0.5,
                          "#f7f7f7"
                        ],
                        [
                          0.6,
                          "#e6f5d0"
                        ],
                        [
                          0.7,
                          "#b8e186"
                        ],
                        [
                          0.8,
                          "#7fbc41"
                        ],
                        [
                          0.9,
                          "#4d9221"
                        ],
                        [
                          1,
                          "#276419"
                        ]
                      ],
                      "sequential": [
                        [
                          0,
                          "#0d0887"
                        ],
                        [
                          0.1111111111111111,
                          "#46039f"
                        ],
                        [
                          0.2222222222222222,
                          "#7201a8"
                        ],
                        [
                          0.3333333333333333,
                          "#9c179e"
                        ],
                        [
                          0.4444444444444444,
                          "#bd3786"
                        ],
                        [
                          0.5555555555555556,
                          "#d8576b"
                        ],
                        [
                          0.6666666666666666,
                          "#ed7953"
                        ],
                        [
                          0.7777777777777778,
                          "#fb9f3a"
                        ],
                        [
                          0.8888888888888888,
                          "#fdca26"
                        ],
                        [
                          1,
                          "#f0f921"
                        ]
                      ],
                      "sequentialminus": [
                        [
                          0,
                          "#0d0887"
                        ],
                        [
                          0.1111111111111111,
                          "#46039f"
                        ],
                        [
                          0.2222222222222222,
                          "#7201a8"
                        ],
                        [
                          0.3333333333333333,
                          "#9c179e"
                        ],
                        [
                          0.4444444444444444,
                          "#bd3786"
                        ],
                        [
                          0.5555555555555556,
                          "#d8576b"
                        ],
                        [
                          0.6666666666666666,
                          "#ed7953"
                        ],
                        [
                          0.7777777777777778,
                          "#fb9f3a"
                        ],
                        [
                          0.8888888888888888,
                          "#fdca26"
                        ],
                        [
                          1,
                          "#f0f921"
                        ]
                      ]
                    },
                    "colorway": [
                      "#636efa",
                      "#EF553B",
                      "#00cc96",
                      "#ab63fa",
                      "#FFA15A",
                      "#19d3f3",
                      "#FF6692",
                      "#B6E880",
                      "#FF97FF",
                      "#FECB52"
                    ],
                    "font": {
                      "color": "#2a3f5f"
                    },
                    "geo": {
                      "bgcolor": "white",
                      "lakecolor": "white",
                      "landcolor": "#E5ECF6",
                      "showlakes": true,
                      "showland": true,
                      "subunitcolor": "white"
                    },
                    "hoverlabel": {
                      "align": "left"
                    },
                    "hovermode": "closest",
                    "mapbox": {
                      "style": "light"
                    },
                    "paper_bgcolor": "white",
                    "plot_bgcolor": "#E5ECF6",
                    "polar": {
                      "angularaxis": {
                        "gridcolor": "white",
                        "linecolor": "white",
                        "ticks": ""
                      },
                      "bgcolor": "#E5ECF6",
                      "radialaxis": {
                        "gridcolor": "white",
                        "linecolor": "white",
                        "ticks": ""
                      }
                    },
                    "scene": {
                      "xaxis": {
                        "backgroundcolor": "#E5ECF6",
                        "gridcolor": "white",
                        "gridwidth": 2,
                        "linecolor": "white",
                        "showbackground": true,
                        "ticks": "",
                        "zerolinecolor": "white"
                      },
                      "yaxis": {
                        "backgroundcolor": "#E5ECF6",
                        "gridcolor": "white",
                        "gridwidth": 2,
                        "linecolor": "white",
                        "showbackground": true,
                        "ticks": "",
                        "zerolinecolor": "white"
                      },
                      "zaxis": {
                        "backgroundcolor": "#E5ECF6",
                        "gridcolor": "white",
                        "gridwidth": 2,
                        "linecolor": "white",
                        "showbackground": true,
                        "ticks": "",
                        "zerolinecolor": "white"
                      }
                    },
                    "shapedefaults": {
                      "line": {
                        "color": "#2a3f5f"
                      }
                    },
                    "ternary": {
                      "aaxis": {
                        "gridcolor": "white",
                        "linecolor": "white",
                        "ticks": ""
                      },
                      "baxis": {
                        "gridcolor": "white",
                        "linecolor": "white",
                        "ticks": ""
                      },
                      "bgcolor": "#E5ECF6",
                      "caxis": {
                        "gridcolor": "white",
                        "linecolor": "white",
                        "ticks": ""
                      }
                    },
                    "title": {
                      "x": 0.05
                    },
                    "xaxis": {
                      "automargin": true,
                      "gridcolor": "white",
                      "linecolor": "white",
                      "ticks": "",
                      "title": {
                        "standoff": 15
                      },
                      "zerolinecolor": "white",
                      "zerolinewidth": 2
                    },
                    "yaxis": {
                      "automargin": true,
                      "gridcolor": "white",
                      "linecolor": "white",
                      "ticks": "",
                      "title": {
                        "standoff": 15
                      },
                      "zerolinecolor": "white",
                      "zerolinewidth": 2
                    }
                  }
                },
                "title": {
                  "text": "Sample (n = 100)"
                },
                "xaxis": {
                  "anchor": "y",
                  "domain": [
                    0,
                    1
                  ],
                  "title": {
                    "text": "X"
                  }
                },
                "yaxis": {
                  "anchor": "x",
                  "domain": [
                    0,
                    1
                  ],
                  "title": {
                    "text": "probability"
                  }
                }
              }
            }
          },
          "metadata": {},
          "output_type": "display_data"
        }
      ],
      "source": [
        "px.histogram(sample_df, x=\"X\", histnorm=\"probability\", title=\"Sample (n = 100)\")"
      ]
    },
    {
      "cell_type": "markdown",
      "id": "dadbeb02-3d04-41dd-93e7-f4333a00b5d8",
      "metadata": {},
      "source": [
        "<br/>\n",
        "\n",
        "Compare this to our **original population** (N = 80,000):"
      ]
    },
    {
      "cell_type": "code",
      "execution_count": null,
      "id": "2a076885-2cb0-44d6-b390-175a39e3e576",
      "metadata": {},
      "outputs": [
        {
          "data": {
            "application/vnd.plotly.v1+json": {
              "config": {
                "plotlyServerURL": "https://plot.ly"
              },
              "data": [
                {
                  "bingroup": "x",
                  "histnorm": "probability",
                  "hovertemplate": "X=%{x}<br>probability=%{y}<extra></extra>",
                  "legendgroup": "",
                  "marker": {
                    "color": "#636efa",
                    "pattern": {
                      "shape": ""
                    }
                  },
                  "name": "",
                  "orientation": "v",
                  "showlegend": false,
                  "type": "histogram",
                  "x": {
                    "bdata": "CAYICAMECAgGAwYGCAgGCAYGBAQGCAgECAYICAgDCAgGBAYGBgYIAwYGCAYDBAQIBAgIBggGCAgEBAMGBAYEBggGCAgGBgMGBggDBgYECAYIBgYGBAgICAYGBAgGBgYIBggIBgYEBAYEBAQDBAMIBgYGBAYGAwYDAwYEBAYEBgQECAgGBggIBAgIBAYECAYDBgMGBAgICAQIBgYEBAgGBgQECAQEBgMGBgYIBgYGBgMIBgYIBgYGBgYGBgQIBgYGBAgDAwYGCAYGCAgIBAYEBgQGBgYDBAgICAYGCAYGCAYIAwQDCAQGBAQGCAYGBggICAgGBgYEAwgEBgYGBggIAwYICAYGBgYIBgYICAYGBgQGBAgEBggGBgYGBAYICAgECAgIBggGAwYGBAYGAwgIBgQICAYECAQGAwQIBggIAwQICAgGBAgECAYIAwQGBgYGAwYIBggGCAgGCAgGCAMIBAgIBggDAwYGBggGBAYEAwYGCAYEBgYGAwYIBgQGCAYGCAYICAYGCAQDCAYICAYGCAgGBggIBAgIBgYDAwgIBgQGBAMIBgYECAYEBgYGBgQIBgYGBgQGBAgICAQGBgYGCAgEBgQEBgQECAQGCAgECAgEBgYGBgYGAwQGBggIBgYEAwgGCAQIBggGAwMGBggDCAYIBgQDBgYIBgQGBAYGBAMIBgYIBggGAwgICAYIAwYIBAgIBAYEBggGBgQEBggDAwgEBAYGBgQIBAQGCAYIBggGBgYGBgYICAgGCAgGCAYECAYEBgQDBgMIBAYECAYEBggDCAQIAwYGAwgGBggIBgYIAwMIBgYGBAQIBgQGBggIBggIBAQGBgYICAgIBAQIBgYICAYGBAgIBggGBggECAYDBAQECAgGBggGCAgGBgYGBggECAMGCAYIBgMGCAYIBgYGBgQICAYEBgQGBgQGAwYIBgYICAgIBgYGBgQGCAgDCAMEBggEBgYGCAMEBAQEBAYGBgQEAwgICAQGBAYDCAYGCAgEBAQIBAYIBgQGBggECAQIBAYDBgQGBAgIBAMGCAMIBAgECAMIBAYIBAYEAwYEBgYIBgYGBgMECAgDCAMICAYGCAYGAwMEBgYECAYGBAYIBgYGCAgGBAgDBAgEBggGBgYECAgIBAYIBggEBAQDBgQGAwYIAwgEBgYECAMICAgDCAgGCAYDCAgIBgYIBgYDCAgGBgQECAQGBgYGBgQEBgQDBAgEBAYGBggIBgQICAYGBAYEBAYIBgQEBgYGBgYICAQIBAMEBgQGCAMDBAMECAYIBAYGCAYGBgQGBgYGCAYGBAgGCAgGBggGBgMEBggIBgQEBggDBgQIBgYGCAYIBggIAwMIBgQGCAYICAQEBggEBgQGCAMEBgYGBgYICAgDCAgGCAYGAwQDBgYGCAYGBAMDCAYDBgQGCAgGCAMIBAgGBgQDCAYEBggGCAgDBgYDCAYICAMICAQGBAgEBgQIBggGBgYGAwYEBggGBgQICAgEAwYGCAQIBgYGCAYGBgMGAwQICAQEBggEAwgIBggEBAYIAwYGBgQGCAYGCAgIAwQGBAYIAwgGBgMGBgYIBgYGAwYGBAYDBgYGBAYICAMIBggGCAYGAwYEBgYGAwMGBgMICAYGBAQGBAYIBAYGCAgEBgYIBgYDCAgDBgYEBAMGBgYGAwMEBggIBggGAwMICAYGBAgGAwYIBgMGBggGBggECAYICAQGBgQICAQICAYECAgEBggGBggEBAYIBAgIAwMEBAgGBgYGAwYGBAYGCAQGAwYDBgQECAYGBAQECAYECAYGAwgGCAQICAgGBAQIBgYGBAYDAwYIBgYGCAQGCAgDBgYIBgQDBgYECAYDBgMEBggGBgQEBAgIBgYICAgICAYGBgMGCAgIAwQDAwYGCAMEBgYIBgYGBggGCAYGCAYIBAYIBgYEBAQIBAYDAwYICAgGCAYGBgQGBAgGCAgEBgMIBAQGCAYEBgYGCAgEBgYGCAQIBgYGAwMGCAgGCAYIBgYGCAgIBgQGBAMGBgYDBAgIAwYICAQEBggIBgYGCAgIBgYGBAYICAQGCAQICAYGCAgGBggIBAYDCAgEBAMIAwYEBAQIBgYGCAMEAwgGBAgIAwQICAYEBgQDBAgGCAYGCAYIBgMIBAYEBggEBAgECAQIAwYGBgYGBgYGBAYGAwQGBAYIBAgGBAQGBAYGCAYIAwgIBgYGBAgDCAgECAQGCAMGCAgIBggIBgMDBgQDBgYECAYIAwgGAwgIBggGBggDBgYIBgQGAwMGBAYEBgQIBgQEAwQGBggEBggGBAgIBAQEBgYGBgYECAYGCAYEBgYGBAMIBggDBggGCAMICAgEBgYGAwQIBAgIBgMIBgYGBgYGCAgIBAQGCAYECAQGAwYIBAQGBggGCAgIBgYIBgYIBgYGBggGBgYGCAMEBgYDCAYGBgYIBAgIBgYEAwQGCAgGBggIBgYIBgQIBggGBgYIAwgGCAgIBggEAwYGBgYECAYDBAYGCAYICAQGBAgEBgYGBgQEAwYGAwQICAMIBgYIAwgIAwQIBAYICAgICAgGBgYGBAQICAQGBgQGBAQICAQIAwQDCAQGCAYIBgMEBAgGCAgGBgMECAQEBgMEBgYGBggICAMECAQGBgMIAwMGBggICAYDBAgECAYGAwQIBgYGBgYGBggIBgYGCAgGBgYGCAQDBgYEBgYIBAQIBgYGCAYECAYGCAMEAwQEBgYEBggDCAQEAwgGCAYDBAYGBAgGBAgDBgMDBgYIBgMGAwYICAgICAgEBAgGAwYGBgYECAQDCAQGCAMEBgQGBAYICAMGBAgIBgYGCAMIBAQEAwgGCAYGBAYICAQICAQGCAMGBggIBggDBgMGBAQIBAgEBgYEAwgGBAMIBAQGCAYGCAMGBAYICAYICAYGBgYGCAgIBgYGCAgGCAQGBAQGBgYGBggECAgIBgQGCAQDBgYECAYGBAgDCAgGBgQIBggEBgQIBggICAYICAgGAwgEAwMGCAYGBgMIBgYEBAgGCAgIBgMEBAYGBAMGBgYIBAQDBggGBgYIBgYDBggIBggIBggGAwYICAYGCAMIBAgIBgYDBgYEBAYECAgGAwYECAgGBgQGBggGAwYDAwgEBAQGAwgGBgYGCAMICAYIBgYECAYGCAQGBgYGCAYIBgYDBgYGCAgICAQGBAgGCAgDBgYGCAYECAYICAYGBgQGAwMEBggGBgYGCAYIAwYECAYGCAMIBAYIBAQDBAgGCAgECAYGCAMDBggIBgYGCAgECAQGBgQIBgQGBAgDBAMDAwYIBggGBAYEBggIBgYIBgYGBAQIBAYGCAYIBgYICAQGBgQEBgYGBgQEBgQGCAgEAwgICAQGBggIBAQDBgYIBgMECAgECAYGBgYEBAYGBAgICAYGBAQGAwgGBAYGBAgICAYGBAgIBAYGCAgEAwQEBgMEBAYGCAQECAYGBggICAYIBAgIBAQIBgYEAwgGBgYGBgYICAQGBAMGBgMEBgQIBgYGBAgGBgYGCAgDBgYEBgYECAgGBgQGBAYIBgYDBAgECAQGBggIBAYGBAYEAwgGAwQIBAYGBggICAYGCAMGBAMECAMEBggICAQGBgYGBggGBgYEAwMEBggGCAYGBgYIBgYGBgYEBAgDBggICAYECAYIBggECAQECAgGBAgEBggIBggGCAYECAQGCAYEBgYEAwYGBgYIBgMDBgQEBggGBAYEBggDBggIBgYGBAYEBgYIBggGCAMGAwQGBggECAYGBggICAMGBAYIBAQGBggGCAQECAgGBgQIBgYDBgYGBAYEBgYGBAYGCAYGBgMDBAgGBgQGAwQDBAQGCAgGBAYIBgQGAwgICAgECAMEBAgIBgQECAQEAwYGCAgDBgYEBggGBgMGCAYGCAMIBAgIBAYGBAgDCAQGBgQEAwgDBggEBgQDAwgGAwgIBgYIBgYIBggICAgIBAMGBAYDCAgIBAQIBgQECAYGAwQGCAYGAwgGBggIBgQDBggGBggGBggGBAQIBgMEBgYEBAgGCAgEBgYIBAMDCAgEBAYEAwQDCAgEBAQGCAQGBgYICAYGCAgEBAYIAwQIBgMGBgYICAgEBgYIBgYGBggEBAMEBAYGCAYGCAYIBgYGBgQGCAYGAwgGBgYIBgYECAgIBAQIBAQDCAMGCAgGBAQGCAYGCAYGCAgIBAgGBgQGBAgGBgQEBgYEBgYGBgYICAQIBgYDBgMIBggIBgYGCAMIBgYEBAQEAwYEAwYGCAYIBAYIBAMIBggGBgQGBgYIBAgGBAgGCAQEBAYEBAMGCAYGCAMEBgQDBgQGCAMGAwgGAwgIBAgDBggIBgQGAwYIBgYICAQGBAQDCAQGCAQIBAgICAYGAwYIBgYIAwQECAYIBAYIBgYGBgQIAwYGBgMICAgECAQIBggIAwgGBAYEBggICAQGBgYGBgYGBggEBgYEBgQIBAgICAgICAQICAgEBgYEBgYGCAYGAwQGCAMGBAgDBAYECAYGBgQDBggECAQGAwMIBAgDCAQEBgYGBgQIAwgDBggGBgYEBAgGBgYICAQIBAYGBAQDAwYGBAYIBggGCAYICAYECAgDBAgIBgYECAgGBgQGCAQGCAYEBgYEBgQIBggGCAYGBgYDBAgIBgYDCAgGBgYGCAYICAYICAYIBAYGBAMICAgECAQGBgYDBgYIBgYIBgYGCAYIBAgDBgMDBAQDCAgGBggIBgMDCAMICAYDBAgIAwYGAwYGBggGCAgICAYGBAQGBgYGCAYIBAQICAMDCAYIAwYGAwgGAwgGCAYGCAYEBAgGCAMGBgYGCAQEBAYEBAgICAgEBgYECAQGCAMIBgYGBgYGAwgEBgYGBgYIBAgDBgQICAYGBgYGCAQECAgECAYICAgIAwQGCAYGAwQGBAYDCAYEBgMICAgGBgQGBggDBgQGBgYGAwQGBAgECAYDBAgICAYIAwMIBAYGBgQECAYICAYGCAYGBAgDAwQEBAMGBAQDBggICAYIBggGBgYGCAQGBAgGBgYICAgGCAYGBAYECAYIAwQICAYIBgYIBgQICAYGAwMECAgIBggGCAYIBgYGBAQGCAQGBggGBgQIAwgGBggGCAgEBAgGBgYGBAYGCAgGBgYGBgYGCAgIBAYDBggGCAYIBAYGCAQEBAgEBgYIBAYGCAgEBgYEBgMGCAYEBAQGBgMIBAMGBgQDBAgDBgQIBAgIBgYECAQEBAYIBgMICAYICAMIBgQICAYIBgYGAwYIBAgGCAQGBgQIBggGCAYEAwMIBgQGCAMEBgYECAMDBggIAwgGAwQIBAQEAwYIBggGAwYDBgQGCAgIBAYGBgYGCAYEBgQGCAYEBgYICAYIBgYGBggGBgYGBgYICAQIAwYDBgQGBggGCAgEAwMIBggIAwgGCAMGCAMIBgMEBggGBgYGBgYEBgYEAwQICAQGAwYIAwYGCAgGCAYDCAQGAwYGCAgICAYGCAYGCAQEBAYICAYGBAYGCAQGCAYEAwYGBggGAwMGBgMGCAgIBgQICAQIBgQICAYICAYGCAgICAMEBgMDBggEBgYGBgYDBgQGBAYEBgQICAYGBAYEBgYEBggGAwQGCAgIBggICAMIAwgEBgYGBAQGCAgEBgYGBgQIBAQEBAgEBgMIBggECAgIBgYGCAgECAgGAwgGBAQIBAYEBggIBgYGBggGCAQIAwgIBAYDBgYICAMECAgGBAYEBAQIBAQEBgYGBggEBAYECAgGBgMIBggECAYEBgYICAYEAwYGCAYGAwYEAwYGBgYECAYGBgMGAwYEBgQGBAQICAgGCAYGBggGBAYGBAYEBgMGBgMGBgMGCAgEBAYEBgQECAgICAgGBgYGBggEBgYGAwMGBggIAwgIBAYEBgYIBgYEBgMICAgICAQICAgIAwgECAYIBgMIBAYEBgQGBgYGCAYGCAgGCAQIBgMGBAgEBAQGBAgIBgYGBgYECAgDAwYDAwgGBgQDCAQEBgMEBgQDCAYDBAgICAQGCAQICAQEBgQIBAgGBgYIBgQECAYIBggGBAQIBgYEAwgICAQGBggDCAYIBAYGAwYGAwYEBgQEBgQECAQEBggECAgICAYIBgYIBgYGCAMGAwYDBgYIBgMGBggEBAgECAYDCAgICAYEBAQIBgYECAYEBAMGBgYGCAQECAgGBgQGBgMGBggGAwgDCAYGBggIBAYEBgYICAYGCAQGBAYGCAgEAwgDCAgIBAgIBggIBAYICAgGBAYGBgYGBggGCAQGBgYDCAQDBAQGBgYEBggGAwMGBgMGCAYICAYIAwgEBggGBAYIBgYGBgMGCAgGBgQGCAQGBAgEBgQDCAQDBgYIBggGBggEBgQGBggGCAgIBgQIAwYDBgYECAQEBgYGBgYGBgYEAwYECAQICAMEBgQGAwQGBAYGBAYGCAYGCAMICAQIAwQDCAYEAwYDBAgICAgEBggDAwYGBgYICAYGCAgIBAYIBggIBgQICAQGBggGBAgEBAgIBggIBgQIBAgIBgYDBAMGBAYGAwYIBggDCAYECAgGBggGCAYIAwgECAgGBAgEBgQGCAYGBggDBAYGBgQIBAYGBggEAwQECAYIBgYICAgGAwYIBgYDBAMGBAYIBAQDCAgGAwYGBgQIBAYIBAQGBgQGBgQEBggGBgYIBAQGCAYGCAQEAwQGBgYGCAQGBgYEAwgEBggGBAgGBgYEBgYGBggEBgYGBAMGAwgGBgYIBAQGBAgDBgQGCAYGCAgIAwYDBggGBgQDBgMIBgYGBgYIAwYIBgQGAwMGCAYEBAYGCAYGBAYECAYGBAQIAwYICAQEBgYGBgYICAgEBAYGCAYIBAgGCAYEAwYGAwMGBgYECAMIBggIBgYECAYECAYDBgYDBAYGCAMGBgYGBgYGCAYIBAYGBgYIBgQIBggICAgEBggICAYEBggGBAYGBgQICAgEAwYGCAgGCAMGBgYECAMGCAgEBAYEBgYECAYEBgYDCAYGBAgEBgQGBAgGAwYECAgDCAQIBgYIAwgEBgMIBgQGBAQGBggEBggDAwgEBAYEBAYICAgGCAgIBAgIBAYDBgYECAQIBgYGCAYECAYGAwMIBggICAYGCAYICAYIAwQGCAYGAwgGBgQICAgDBAYIBgYEBggGBggGCAYDBgYEBgYGBggIBggIBgYICAYGCAYGBgYIAwgIBgYDBAYECAYEAwQGBAQGBggIBgYEAwYDBgQIBggICAYICAgECAYGCAgIAwYICAQGBgQGAwMGCAgDCAYECAYIBAYEBggGBgYGBAYGBgMGBgQICAYDCAYDBAQIBggIAwgDCAQGCAMEBgMDAwYGBggEBgQIBgYIBgYEBAQGBgYGCAgGBgYGBgYEBgMGCAMECAMEAwQGBgMICAQEBAQGBAYICAYIBggIBAQIBggGCAYGAwQEAwQGBgYGCAYGBgYECAgGCAMICAYGBgYEBgQECAYGBgYIBgMGBggIBAgGBAQICAYGBgYIBgQDBgYEBAQGAwYEBgYGBggIBAYIBgYICAQGBggEBgYICAgIBgQIBAgGBgYEBAQDBgQGBgYGAwQGBAQEBggEBgYGCAMGBgQGBgYGBgYIBgQGBAQIBAYIBgQGBggIBAgDCAQICAQIBgMEBAgEBgMEBgQDCAQEBgYGBAgGBAQICAgEAwgGBgYGCAMEBAQGBggIBgYGBgYIBAYICAYEBgYGBgQDBggIBAMICAgEAwgGCAMGCAMDAwgIBgQGBAQGBgMEAwMIBgYGCAYIBgMGBggGBggDBAQGCAQGBAMICAYIBAQDCAgEAwYICAYGBAQDBgYICAYIBggGBAgICAQDBgQGBgYEBggIBAgGBgYECAMIBgMGBgMGBAgDCAQIBAYIAwYIBgYECAgGBgQGBgQGBAYGCAYIBgQGBgYGCAgGBggGBgMGBggIBAgICAQGCAYGCAYIBggGBAYIAwMICAgGBggECAgGBggGBgQICAYEAwMIBAYGBAgGAwMIBggECAQGCAYGBgMDBAgGBgYIBggGBgYIBggICAYGBgYIBgYGBgMEBAYEBggGBggICAMIBggEBgYEBAYDBAMGCAQEBgYDBggDBggGCAYGBAYDAwYIAwgEBggECAQDCAMGBggDCAQIBAgGBgYGBggEBgQEBgMIAwgGCAQEBggICAYGBggEBggGBAMECAYECAQICAgGCAgEBgMICAQDBgMIBAYICAQIBgQGBAYGBgYICAYICAYGCAYIBggIBAgEBgYICAgGCAYIBgMEBgYIBAYIBgYGBgYGBAQIBgQDBAgIBgYECAYIBAYGBgYIBAQGCAMGBggDCAQGBgYIBgYDBAYIBgYEBgQGBggGCAYECAQICAQGCAgGBgQIAwYDBAYGCAYEBAYICAgICAQEBgQGCAYICAgGBggIAwgIBgYICAYIBgYGBgQICAQGBgQGCAgGAwYIBAgGBgMEBggIBAgDBAYDCAgGCAYIBgYIBggGAwgIBAYEBgYGAwQDBgYIBggIBggGAwYICAgIBgYIBAQDCAgEBAgIBggIBgYEBggEBAYGBggGCAgGCAYEAwYECAgDBAMICAgGCAYIAwYDCAYGCAYIBAYGCAMGCAMEBAYGCAgEBgQDBgQGCAYIBgQGBAgICAYECAQECAYGCAYDBggIBgYGCAMGBgYGCAYGBgMGCAMECAYGBggGAwgEBAMDBgQGBgQGAwgGBgQGBAgDAwYIBgMDBggECAQGAwMIAwQGBAgGBgYIBgQEBgYEBgYIBgYDCAQIBgQIBAYGAwgDBggGCAgICAgEBAMGBAQIBAgGAwYDBAgECAgGCAgGAwMGBAYECAYEBAYGCAQIBggGCAgDAwYECAYGBgYGBAgGBAYIAwYDAwYGBgYIBAYGBAgDCAgEBAMDCAYIBgYGAwYGAwYEBggGCAgGBggGBggGBgYEBgQDCAgICAMGBAYGBgYIBggGAwYGCAYDCAYDCAQGBggDBgYDCAYIBAYEBgYGCAQGBAgGCAYICAYGBgYIBAYEBgMGCAYDBgQDBgYDBAgICAQEBAYEBgYGBggICAQEAwQIBggGBgMIBggIBgYGBAQGBgYICAYGBggGCAMIBggDCAYEBAQGCAYEBAYEBgYICAgGAwgEBgQDBAgIBAMIBggGBgYGBAYEBgQGCAYEBAQICAQECAYEBAYIBAMGAwMIBAYIBAgGCAgIBAMDBgYGAwYIAwQGBAQEBggGAwgGBgYIAwMDBgYGBAgICAYEBAgEAwYEBggIBAQIBAgEBgYICAYEBAQGBgYDCAYGCAYGCAYGBAYGCAYGBAQICAYGBggGBAYGBgYGBgYGBgQEBgQGBgQGAwYGBgYIBAQECAYIBgQGCAQGBggGBAYGBggICAQGAwgIAwYDCAYICAYGBAQIBgQGBAQGCAMDBggGBgQICAgDBAYIAwgGBgQECAYIBgMGBgQIBgYDBgYIBAYECAgDCAQDAwQDBAQECAYEBAYGBgMIBgMDBgMGBgQIBAYIBAgGBggICAgEBAMGBgYGCAQGBgYGCAgEBAYDCAYEBAgIBggICAYDBAYGBgYECAMGBgYIBAgICAYGCAMEBAYIBAgGBAgGCAYEBAYEBAQICAgECAMGCAYIBgYGBgMGBggIBAgGBggGBggIBAQECAYEBAgGBgYGBggECAYGBggEBAQGBAgDBgQIBgQGBgYGCAQICAgEBAQIBgYGBgYIAwgGAwMICAYECAgGBAgDCAMDAwgIBAYIBggEBgMIBAgGCAQIBggEBAQICAgEBggECAgIBggEBAQGBAMEBAYICAYGBgQGAwQIBAYEBAgDBggIBgMIBgYICAQIBgQGAwgDBgYGBAQIBggGBgYEBgQIBgQGBgYEBggDBAQEBggGAwYGBggGBAQGBgYIBgYGCAgDBAYGBgYGBgMGCAgIBAYGCAgIBgQGCAYEBgMEBggDBAgEBgYGBggEBgQDBgQEBgYIBgQGBgYGCAYGCAgEBAMICAQGBgYGBggGBgYEBAYIBAgGBgQGBAYEBgYIBAgIBAQDCAYIBgMGBAgICAYGBgQGBAYECAgIBgYIAwYGAwgDBgYGBAQGBAgICAgGCAYICAQEBgQGCAYGBgQIBgYGBgQIBAMGCAQICAYICAMICAYECAQEBgMGCAYGCAgGBggEAwQIBgYIBAgGBggIBAgEBAgIBAgEBgMIBAYDCAgIBAQGBgYIAwQIBgQIBAYIBggGBAYGBAYICAgIBgQICAYGBAQGBggIBgYIBAYGBgYICAgICAgGCAYIBgYECAgGBgQGBggGBgYIBAQIBggICAgDBgYEBAQIBAQIBgYGBggEBggGBggGCAYGBAYEBgQGBgYGBAgGCAYGBAMICAMIBAQECAYIBAgGCAQGBgYGCAYDCAYGBAYEBggGCAgGBgYICAMGBgYIBgYEBAYEBgYDAwgIBgQDCAYEBAQGBgYDCAQGBgYGAwQGAwQGCAgGCAYGBgQGBAYIBggIBgYEAwQDAwMDCAMICAYGAwQGBgMGAwQGCAQDBAgGCAYIAwYGBAYEBAYGBgQIBAQGBgQGBAYGBggEBgYGBggIBgQECAYIBAgGCAgIBgYICAgGBAgGCAgIBgYGBAgGBgYIBggDCAYIAwgGCAYIBgQDCAQGBgYGAwYGCAMIBgYGCAYGBgYGAwQGAwYEAwQGAwQIBggEBgMGBAMEBgYDBggIBAYGBAgGCAYGBggECAQGBgQECAQECAgIBAgIBggGCAYEBAgIBgYGBggIBgQGBAYGBgYEAwYICAQICAYGAwQICAgGAwYGBggIBgQDBgQGBggGCAgGBggIBAYEBAQGBgQEBAMDCAYIBAgGCAYGBgQECAYGBgQEBggICAYIBAgIBAYGBAYDCAgICAQIBgYIBggGBgYECAYIBgYGBAYGCAgECAYEBgYIBAQIBgQICAYICAgICAYGBgYDCAgIBAgICAgGBAgGBgMGAwMIBgQGBgMGBggGCAQIBgYIAwgGBgYECAQGBAMEBgQGCAYECAgDBgQIBAgICAQICAgGBAgGAwgGBgYIBAgIBAYGBgYIBgQGBgYDBAYGBAQEBgQICAQGBAgGBAYDBgYDBAgGBAgIBgQECAgIBgYGBggEBggECAQGBgYIBgMGCAMEBAYEBAYGBggGBgYDAwYEBAQIBAQGBAMGAwYDCAYIBgQGBgMIBggGAwYDBAQIBAYIBgYDCAQIAwQECAgGCAQIBgYGCAgEBggDBgYEBAYIBgYGCAYICAYIBgYIBggDCAQGCAYGBgYGAwQDCAYGBAgEBAYICAQICAYECAYIBAYGBgYGBAQEBgMIBAYIBggEBggDCAQECAYGBAQGBAgIBggGBAQGCAYIBgMIBAQICAYGBAQDAwQECAYIBgYICAQIBAQGBgYGBgQIBgQIBggDBAgGBAYEBAgGBAgEBggDBAYGBgYECAYEBggICAYGCAMGBggECAYICAYICAYGBAgEBggECAYGBgYGAwgEBAYGBgYGCAQDBgQDCAgGBgYGBgYECAgICAYEBAYGBgQGBgYGAwYIBAQGBgYIBAgEBAMECAQDBgMECAgGBgYDCAMGBggGCAQEBAYEBAYIBggGBAYGAwgGBggIBgYGCAgEBggEBgMGBAYDBAYIBAgEBggGBgQICAgGBAYICAYIBgQIBgYGBAgEBAYGBgMGBgQGBAQIBggEBgQIBAYDBgQEBggGCAQGBgYEBggGAwMEBgYECAMGCAYGCAQGBgYEAwQGCAQICAgGBAYDBggDBggIBAYEBgMEBgYIBgQGBgYIBAgEBgMGAwQIBgYGBgMECAYIAwYGCAQGBgQGBAgECAQEBgYGBAYICAgGCAYIBgMIBgYGCAgGCAgEBgYGBAgEBAgIBggGCAMDBAYEBgMGCAYIBgYIBggEBAYIAwYECAgEBAYGCAQGCAYDBggEBgYGBAgICAQGBgYEBAYDBgYGBgQGBgYGCAMGCAYIAwMEBAgIAwQGBgYGCAYEBggIBAYIBgYIBAgGCAYIBgYGBggGCAYECAgGBgMGBggGBggIBAgGBAYGCAQGBggIBgYIBgMEBgQICAYDCAYGBAgGCAQIBggGAwgEBAgGBggEBgQICAQIBgYDCAMECAgEBggIAwgGBgQGCAYDCAYICAYGBggDCAYGBggEBggGBgMDBggDBAgDCAQECAMGAwYGAwQGAwgICAYGBggGCAYIBgYEBAQEBgMEBAgGCAgIAwQGBgQICAYGAwYDBAQGCAYGBgQICAYECAYGBgMDCAYICAgGBAYGBggGCAQIBAYDBAYEBAYIBAgGBgQEBgYIAwgDBgYECAQGBAYGCAYEBAMIBgQDBgQIAwgIBgYDCAgGBgYGCAgECAgIBgYGBgQGCAYGCAYGAwMIBgQEBAgECAQDBggGBAMGCAMGBgYGBgYGBggGBgYICAQIBgYIBgYGBAQGBAMIBAgIBgMEAwMEAwYGCAYICAYEAwYIBgYGBgYGBAQIBggGBgMICAgGAwMIBgYEBAYECAgGBgQIBggECAQIBAYGBgYGBgYGCAgIBggEBggIBgYEBgQGAwQIBAgGBAYGCAgGCAQIBgQGBgYGCAQECAgGBgQDBggIBggDBgQEBAQGBgYEBgYEAwQGCAgICAYGBggEBggGBgYGBggIBggICAYEBAYGCAQGCAMIAwYGCAgIBggDCAMGBAgICAYEBgQDAwQICAgGBggEAwYICAYIBgQGCAgICAMDBgYGCAYGBAgEBgYGBAYEBggECAYICAQICAYEBgYGCAQIBAgGCAYIBgMICAMGBgQIBAMIBgQIBggIBgYGBAYIBgYGCAQDAwMICAQICAgDBAgIBggGBAYIBgYDCAQGBggGBggGBAgEBggDBgYGBgYDBgYEAwgGBAgIBgYDCAQGBAYECAQECAgGBgYEBAYEAwYGBAMICAYICAYEAwQDBgYEBgYIBgMGBgYIBgYEBgMICAgICAQIBgQGBAYGBgQICAQGBgYGBAgGAwYDCAgGCAgEBAYIBAYIBgYEBAYEBggICAgGBgYGBgYDBgQGBAQICAgGAwYEBgYICAQIBgYGBgYGBggDCAgIBgQGBAYGBggEBgQGBgQGBAYIBAYICAYEBggGBgYICAQIBggDBAYECAMGBgYEBAgICAYGBgYEBAgGBAYDBgYEBggIBAYEBggEBAYDBAgIBgYIBggEBAQEBAYGBggGBggGCAQGAwgGAwgGBAgGBAYIBAYEAwQGBggGCAgICAQGBgMIAwYEBAYGBAYGBAgGBggGBggGBgQDCAgGCAYGAwgGCAMEAwYEBgQGBggGCAgGCAgGBgYGCAgICAQGCAYGCAQGCAQGBgQIBAYEBggECAYGBgYGBAMGBggGBgYIBgQEBgYGCAYICAYEBgYICAYIBgYGBggGAwYGBgQDBAYGBgMEBgYGBAYGAwYEBggGCAYGBgYEBgYGBAYEBAYDBAYICAMGBgMGCAQIBgMGCAgIBAYGBAQEBgYEBAgIBgYECAYGBAgIBggEBAQDBAQGAwMGCAgICAYIAwYICAYGAwYIBAQGAwgEBgYIBgYECAgGBAQICAgIBgYGBAYEBgYGBAgICAYGBAYEBgQICAQGCAQIBgYIBggGBAQGCAgGBgQECAQGBAgIBgMDBggIBgYECAMECAYGBAYECAgIBgYICAMICAMDCAgICAMICAMECAYECAQGCAgECAYEBggDBAgGBgQEBgQIBAYGBAYGCAYGAwQGCAgEAwYIBgYICAgGBgYIBggGBAQIBgYGBggIBggGCAYGBAYICAYEBggGBAgGBgYEBAgIBgYIBggIBgYICAYGBAYIBgQGBgYIBgMGBAQDCAQDBgQIBggEBgYICAMICAQECAgECAgICAYGBggIBgMECAgGBgYGBAYEBAYDBAgGBggEBgYICAYGCAgICAgEBAMEBgYGCAgGBAQGCAQEBgYIAwYIAwYDCAYGBAgGCAgEAwQGBgYIBAYGCAYECAYICAgGAwYEBgYICAgIBgYEBgQGCAYIBAYIBAgEBAQGCAgGAwYGBgQECAgIBAgICAgIBggIBggEBgMICAMGBgMGBggEAwgICAYEBggGBAgIAwMIBgQIBggEBgYICAYIBgYGBgQIBAYIBgMGBggGCAYIBgYDBgYGCAQEBgYGCAMGBgMICAQICAgIAwYDCAQICAgICAYICAYIBggEBggICAYDBgQEBggEAwYIBggECAYIBAYGCAYGAwYICAYIAwgGBAgGAwYIBggGBggECAYGBAYGCAgIBgYECAQGCAYICAYDCAgGBggEBgQGCAYGBAQIBgYIBgYGCAMEBAYGBgMGBgYEBAgEBgMIBggGBgQGAwgIAwgGBgYGBggGBgYGBgYIBgYIBAMEBgYGBggGBggIBgQGBggECAYIAwQGBggGBgYGBggGCAgDBggGBgQIBgYDBAYDBgYGBAQGBgYDAwYGBgMDBggGBggGAwYECAMEAwgICAYIBggGBgYIAwgGBAYIBgMECAYGCAQGBggICAYEBgYIBgMGBgQICAgGCAgIBgYICAMECAYGBgQEAwgEBggGBAYEBgQGCAYIBgYEBAgIAwgGBAYEBggEBgMECAQGBggICAgEBgYECAYGBgYGBgMGCAQIAwQECAQIBgYIBggEBgYICAYIBgYIBgYIBggIBgQIBgQICAgGBAYICAQGBgQECAQECAgGAwQGCAYIBggGCAYECAYECAMGBgYICAYIBAMDBggGCAYGBgQDCAgGCAQIBgQEBAgIBggDCAYGBggICAQGBAYIBAYGBggEBAQICAQEBgYGCAgICAMGAwYGBgQICAYEBAYGCAYIBgQGBgMIBgYGBgYIBggIBggGBgYEBgYGBAYICAgEBgYEBgQDAwgGBggGBAQIBAMGBAQIBgYGCAMEBggECAYIBAYIBggGCAYGBgQEBAQGBAgGAwYGBggEBggGBAYICAQICAgDBggECAYIBAYEBgYIBAQGCAMICAYEBggICAYGCAYDAwYEBAQIBgQGCAYDAwQECAQGCAYGBgQGAwYECAMEBgQIBgYGBAMGCAMGBgYGCAYDBggICAQGBggGCAgECAYGBAQEBgYEAwYDBgYICAgEAwgEBAQEBgYIBgYIBAYEBgYIBgMICAgGBggIBgQEBggGCAMIBgYGBgQGCAgEAwgGCAMDCAQICAgGCAgGCAgGAwQICAgIBggDBAgGCAQGBggGBggEBgQGBggGBAYEBgMIBggDCAQGCAMIAwgIBgYEBgQDBggGCAQIBgMIBgYIAwYIBgYGBAMIAwYGBAYECAgDCAQIBAgIBAgIBggGBgYECAMGCAgGAwQGBAQGBgYICAgGBgQEBggGBgYGCAYDBAgICAgGCAYGBAgGBgYIBgQDBgYEBggEBgQECAQGCAQGBggEAwgGBgYGBggGBggGBAQECAgIBggIBAYGBgYGBgYIBAgEAwQICAYDCAgGCAYEAwYIBgYEBggGBggGCAYEBgYGCAYGBgYGBgQIBAYGBAYDBggGBgMGCAMIBggGCAgGAwMICAgICAQICAYDBggIBgYIBgQEBgMGBgYIBgMICAMGBgYGBggEAwgDBggEBAYEBgMGCAQEBgYIBgQIBAgGCAYIBgYGBggIBgYEBgYEBggGBgYDBgMECAQGBAYEBggEAwgEBggGCAYIBAYGBAYGBgQDBAYDBAgGCAgICAYGBgYEAwgECAgGCAMGBggDAwgGBggEBgQGBAYDBggIBgYIBAMDBgYGBggEAwgICAYICAQGBgYEBgYEBAYDCAYEBgQGCAYEBAgDCAgGCAQIBAgICAYIBgMGCAQDBgYDBgYICAQIBgQGAwQEBgQEBAYIBAYIBAYGAwgIBAgGBAYICAYGCAgECAYIBgYGBgMGCAYGCAgECAYIBAYGAwQGBAYEBgMGCAYGBggGBAgGBgQGBggGBgYICAgGBggIBggDCAYDAwgGBggGBgQICAQGBgYGCAgIBggGBgQIBgYICAYICAYGAwQIBggGBggIBAQIBgYIBgQGBgYGBggICAMIBAYIAwQICAYECAgEBAYDBAQECAYEBAQGBgQGCAgEBgYGCAgDBggGBgYIBgQIBAYECAYGAwYGBgYIBgYECAYICAgIBggGBggEBggGAwgGAwYGAwQGBgYGBgMECAQGCAgGAwgIBgYDCAMGAwgIBAMGBggDCAYGBgQGBAMDAwYEBggEAwYECAQIBgQGBgQIBggGBAgECAYICAgDBgQGBAYIBAYEBggIAwMDCAYGBgYIBAQICAYIBggIBggIBggGBggEBAYECAYICAYIBggEBgYIBAgIBAYDCAgGBgQGBgQDBgMICAgEBgMGBgYDBggGBgYGBAQGBgYGCAgIAwMGAwYIBggICAgIBAQGAwMICAgIAwMECAYIBgMGBggGBgYEAwgICAYDBAgEBgYGAwgIBAgGAwYGBggDBAgEBggGBgYEBAYIBAYIBAYIBgMIBgQGBgQGBgYGAwgIBggIBgYECAYIBgYGBgYICAgDBgMICAQECAYGAwYGCAYEBggICAgIBgQICAYGBggGBggICAMGBggIBggDBgYGBAYDBgYIBgYEBggDCAgECAYGCAQECAgGBAQICAgDBgMDCAQEBAQEBgQGCAgIBggECAYDAwYICAgIAwYGAwYICAYGCAgGCAMIBggGBAgEBgYDCAQIBgYIBggGCAgEBgYICAMGAwYGBgQEBggIBggICAgGCAYIBAYEBgQGBgYGBAYEBgYICAYIAwgIBgMDBAgGAwQECAgICAgGBgYDBgYGBgYECAMEBggGBgYEBgQIBggIBggGCAgECAQGBgYICAYGBgQGBgYECAQGBAQECAMEBAQIBgYEBgYEBAQGCAgDBgQEBgMGCAYGBAgIBgQEBggGCAgGBggIBggECAQEBgQGBggIBAYEBgYGAwYGCAYGBgYDCAgGBgQIBAYGBAgIBAQIBgYGBgYGBggDBAQGBggEBAgIAwYGBggGBgYIBAgDAwQIBgQGAwQIBggGCAYEBgYGBAYDBgYIBAgICAYIBAMIBAYGBgYGBgMGCAYDCAYGBAgGBgYIBgQEBgYGBggICAQDCAgEBAYEBAYGBgYGCAYIBggEBgYECAQGBgYEBggICAgGBgYGCAQIBggIBggDAwgEBgYIBggICAgEBgQGCAQDBggGCAgECAQECAgGCAgEBggICAYGCAgGCAgGBggDBggGBgYEBgYIAwQIBAMGCAgICAMGAwMGBgQEBAQGBgYEBggIBAgIBgYICAgEAwgGBAYICAYGBggGBgQGAwYICAgGCAQIBgQECAYGBAgDAwgEBgQIAwYICAMGBggIBgYECAgEBAgICAQIBAQGCAYGCAYGCAgGCAYIBgYEBAQGCAQDBgYIBggGAwQGCAgGBgYDCAMEBAYIBgYDBAMICAgEBgYGBAgIBgQGBggECAYIBggECAgEBAMEBggIBggGBAYICAQGBgYDBgYIBggIBggGBgQGCAgEBAYIBAYIAwMDBgYIBgYECAMGBAgGBAMDCAgGCAYIBgMGAwMGBggIBAYICAgGBgYGBggDBAYEBAYECAYIBgMGBgQIBgMGBAgGBggEAwQIAwYGBgYEBAYEBgYGCAMGBAMEBgYGBAQIBggGBgYICAQEBggICAYEAwQGCAQEBggGBgYDBgQGBAYGBAgDBgYGBgQGBgQICAYGBAYGBggEBgYECAQEBgYGBgMGBggDBgYIBgYEAwQIAwMGBAYECAgECAYDBggIBAYGBgMGBggEBggDBgYGCAQDBAgEBgQDCAQECAYIBgYGBgMIBgMDBggGBgYDBAYEBAQEAwYEBgYEBgYGCAYGBgMEBgMECAYIBgYECAYICAMGCAgGBgYDBgYECAQGCAgGBggICAQIAwYECAYGCAgGCAgGBgYDBAQDBgYGBgYIBggICAYGBgMICAQGBgYIAwgGAwYECAYDCAgIBgYGBggGBAYEBgMGCAgGBgQIBgMIBgQDBgYGAwYDCAQGCAMIAwYECAgECAYECAYICAgEBgYGBAYGBgYICAYGAwMIBgYGBggGBgYICAgGBgQIBAgGBggIBgQIBgYGCAYIBgQECAQECAgEBgYGBAYIBgYIBgYIAwYDAwgGBggGCAYDBAgGCAYIBggEBgYDBAQGBgYEAwYGBggDBAgIBgYGAwgGCAQGBAYICAQGBAgGBgYDCAYGCAYICAMDBgYECAYEAwYICAgGAwgEBAYGBAYGBgMEBAgGAwYECAYGAwgDBgMEBgQEBgYECAgGCAQEBAMICAYIBAgGBgYIAwgEBggEBggEBgYGBggDBgQIBgYEBAMGBAgECAYGBggECAYEBgMEBAgGAwQGCAYGBAQIBgYGAwYGCAgEBAMGBAYECAMGBAgGBAYGBAQDBggDBggGBgYGAwYIBAgIBgYICAMGBggEBggGBgQIBAgGBgYDCAgGBAgIBgYGCAYIBgYGCAYICAgDBgQDBAgGCAgIBAYIAwgIBAYIAwgGCAYGCAYGBAYGBggEBAYGBggIBggEBggGAwYECAYGBggGBAYIBgMIAwMIAwYGBggGBAMIBggGCAgIAwQIBggGBggGBggGCAQIBAYGBAYGBAQGBgYEBgYIBgQIBggICAgIBgMIBgYGBgMDBggICAgECAgGBgYIBgYGBggGBgQEBggGAwYEBggICAMECAMIAwMICAYGCAgICAYIAwYGCAgGCAQGBggDCAYICAQIBgYGBggIBgYGBgMEAwYEBggGCAYGBggIBAQGBgYIBgYEBAYIBAgGBAMIBgYGBgYDCAgGCAYEBgYDBggIBgQIBggGAwYEBgQEBAQGCAMEBggICAMECAYEAwgGAwYGCAYGCAYIBgQIBAQGBgQIBggGBgYGBAgEBgMIBAYECAYGBgYGCAQEBgQGBAgIAwQEBgMGBAYGBAgGBggGCAMIBAYGBgYIBggGAwQGBAQGCAYGCAgIBAQICAQGBggGBgYIAwQIBgQGBAYIAwYECAQECAgGBgYDBgYEAwYICAgDBgYECAQGCAgIBgYDBgMGBAgGCAgICAMICAYGBAgGBggIBggGCAgECAQGAwYDCAgEBgYEBgMECAQGBgMIBggIBgQIBggGBgMDBAgGCAYIAwYICAYIBAgGCAYGBgYEBgYGBgQIAwQGCAQGBgYICAgGBgMIBAgGBgYDAwYGCAQIBgYGCAQGBAMIBggDAwYEBAYICAgGBggIBgMDBAMGBgQIBgMECAYGBAMIBAQEAwgIBgYDCAgDBgQGBgYEAwYGBgYGBAYGBAgGBAYIBgQEBggIAwQDBgYGBgYIBgQECAgIBAYDBAYGBggGBggDCAQICAgIBgQGBAgIBggECAMGBggGBAYIBgYIAwgIBAQEBgQIBAYEAwgGBAYIAwgICAYGCAYIBgYEBgYEBggEBAYGCAYEBggGBgYGBAYIAwYGBggICAgEBAYEBgQIBgQIAwQDBAYDCAQGAwgGBgYDBgMIBggEAwYGAwgIBAMIBAgECAMEBgYECAgIBgQIBggIBAgDBgQECAYGBAQICAQEBgYEBAMIBAYIBgYEBAgEBAYICAgICAgIAwMGBgMEBgYICAYEBgQGBgYEBggDAwYICAYGBAgICAYDBggIBAgGBAYDBggDBgYGCAYGBAYDBgQIBgQDBggGBgYGBgMGCAQECAgGBgYICAYGCAYGCAgIBgQDCAQGBgMIBgYGCAQGAwgIAwYEBAQGBAgGAwgDBggEBAMGBgQIAwYIAwgGCAgIBAMIBAQIBgYGCAYDCAgEBgYIAwQGBAYGBAQEBgYIBgYDBgYGBAYEBgYIBgQEBggECAgICAQGBggEBgYEBAgGBgQIBAQICAYGAwMIBAQEBgYGBggGAwgEBgYIBggGCAYEBgYIBAQGBAQGCAQEAwQIBgYGBgQIAwYICAgEBgQEBggICAQGBAgIBggEBggGCAQIBAgGBgYGBgYIBgQGBAYGBggIBgYDBggDBAgECAMIAwYECAgGAwYIBAYGCAYECAYGBggECAgIBgQEBAMGCAQEBgYDBgQGBAMDCAgECAYIBggGBggGCAYEBggGBggGBAQGBgYGCAgGBggIBAgDAwgDBgQEBgYECAgDBggGCAQDBAYIBggGCAgGCAgICAQICAgGBAgGBAMGBgQGCAQICAgDBAYICAgGCAQGCAMGBgMEBggGBAgGBAgEBgYIBggEBgQGAwgGBAYGBAYGBggGBgYDCAYEBgYGBAQIBggGCAYIBgYIBgYIBAQGBgYECAgIBgYICAQIAwgIBggDAwYICAgIBAQECAQGAwgECAYIBgYEBAYDAwgECAYEAwQECAYIBgYEBAYGCAYGAwMGBggIBggGCAQEBgYEBAYGCAYDBgQIBgYICAQGCAgGBggDCAYIBAQGCAYGCAgIBAYEBAQEBgQIBggDBAYGBAQIBAYGBgYGCAQGBgMDAwgGBggGBAgGBggEAwQGCAgICAYIBgQECAYGCAMGCAYICAgECAgDBAgGCAMIBAYGBgYEBAYEBgYGBAYICAgGBgYGCAQEBAMICAYGBggICAQGBgQDAwQGAwQGCAYGAwgGBgQIBgQECAgECAMIBAQGBggGBggECAMIBggGCAMGBgYGCAgIBgYIBAQEBgYIAwQGBggEBgQGBggGAwMGBggGCAYGBgYGBAQEBAQECAYECAYGCAYDBgYGCAQECAMEBAgGCAYICAYIBAYGCAYEBgQICAgGBggGBgYGBggDBgYGCAgGCAgEBAgIBAQECAgICAMGCAQEBAgECAYGCAgECAQGCAgDBAgGCAYICAgIBgQDAwQGCAYGCAYGBgQIBAQEBgMGCAgGBgQGBgYGBAYGCAYIBgQGCAYIBgYEBgQGBgYIBgQIBgYIBAQGBgYICAYGBAgGCAgGAwgEBgYIAwQICAgGBAgECAMGAwQEBAYGCAYEBAgIBgQGAwgIBgYGBAYDCAYDBAYGAwgGBAYICAYGCAYEBgQGBgQICAQGAwgECAgIBAgIBggDCAgGBAMIAwQICAYEBggICAYEBAMICAgEBgMGAwMGBgYGCAQDCAYIBggGBgYICAQGCAgICAQGBgYECAYGCAYEBgMEAwgICAQDCAgIAwYECAQGBAYDBAYGBgYICAQEBggGAwQIBAgIBAgEAwMECAMIBgYIBgYEBAgECAgGBggIBAYDBgQIBgQGBgQGBgYGBAYEAwgEBgYEBAQIBAQEBAQGCAYIBgMDBggGCAYGBggDCAQEBgYGCAMICAYIBAgIBgYGBgYEBggEAwQDBAQEBAYDBgYGBgQICAMGAwYGBgYIBgQIBgYEBAYICAYICAQEBAQIBAQDCAMGBggEBgYECAYIBAYGCAQGBgYDCAYIBAQICAYDBgYIBgYGBAgGAwYDBgQDAwYDBgYDCAYGBggGAwYGBgYGBAQEBgYGCAgEAwYDBAYGCAYGBAYGBgQICAYGCAgEAwQECAgEBgMIBAQIBAYICAQECAgGBAQGBAYEBgQGBggGCAgIBAYIAwQIBgYEBAMICAYECAYEBggIBAYIBggEBgQICAgGCAYDCAQGCAQEBgYGAwgGBggGBggIAwYIAwgIBgMIBgQGBgQDBAYEBgMECAYGCAQIBAYECAMICAYGBggIBgYIBggGCAQICAgEAwYGBAgEBgMEBAYIAwQGBAgEBAQIBgYGCAYGCAYGBggGCAMDBggGBgYDBgQGBAMGCAYGCAgGCAYECAQGBAgGAwgECAgICAYIBgQDBgYGBAgEAwYEBAYIBgMIBAQDBgQIBgQEBgYGBAgDBgYIBggGAwgICAQGBgYGCAYEBgYIAwQEBgMGBgQGBggICAYICAQGBgYIBggGBgYIBggDBggGBgMGCAMIBAQGBAMGAwgDBgYGCAYGBAYIBgYICAYGCAgECAYEBgYEBgYGCAYGBggIBggGBggIAwYGBgYEAwYICAYGBAYICAQICAYECAMGBgYIBgQGBAYIBggIBAQICAQGBgYECAQECAQIBggGBAYGCAgGBggECAMGBgMGCAYIBgMGBggGBAQICAYEBAYGBAgGCAYGBgMGBggDBAgGAwYGBAgIAwgGCAYDBAQICAYEBgYECAgIBggIAwQGCAQIBAgICAMEBAYEBAgGBgYGBgMGBAQDBgYEBAMGCAYGCAgGCAQGBggIBggIBgYGCAQGBgQIBggIBAgGBAMGAwYEBgQIBAgEBgYGBAQGBAYICAMGBAYIBgQDBgMDAwYGCAQGBggEBgQDCAQIBgYGBgQDCAMGBgYEBgYGCAMEBgYIAwQGCAMICAgIBgYIBgYIBAQDCAQIBgMGCAgGBgQEBgQIBAYECAYGCAYIBgQIBggDCAgICAYICAQGBgYGBggIBgYIBAQDBggEBggDCAYIBAgIBAQEAwgDBgYECAYGAwYEBgQGBggIBgQGBgYIBAgGBAYIBAYGBgYGBgYGBgYICAgDCAYIAwYGBgQGCAQGBAYICAQGBgYGBAQDBggGCAMICAQDCAYGAwYIBAMGBgYGBgYGCAQIBAgGCAgIAwgGCAMIBggGBgYECAgGBgYGBAQGBAQICAgGCAgEBgYIBgQIBgQEBAYGCAQGCAYGBgYIBggDBgQGCAYICAYIAwgDAwYGCAgIBgYEBgYICAYEBAgICAgICAYGCAYIBgYGCAQDBggIBAgEBAYGBgYGBggGCAMGBgYGBgYEBgQEBAYGBAgICAQICAYGBggEAwYIBAYICAQECAMGBAYECAYIBAYIBAYIBgMEBgYGBgYGCAYEBggDBAQGBgMIBgYDCAYEBgYIAwYIBgYDBgMGCAgEBgYIBgYICAgEBggEBggGBggICAgGAwgGBgYIBgQIAwMGBgYIBAYGBgQEAwgEBgYGBgYGBgMIBggGCAYGBgQGBgMDBAgGBgYIBAQIBgYEBAMEBAgEBgYIBgYEBAgIBgQGBgYECAgIBggGBgYIBAYEAwQDBAQGCAQEBgYGCAgGCAgGBggEAwYDBAYIBAgGCAMGBggECAgDBggGBgQGAwYECAQDAwYIBgMDCAQIBgQIBgYGAwMGCAYGBgYGCAgDCAgGBgYGBAMEBAYGBAgEBAgGCAYIBgMIBgYIBAgGBgQEBAgECAYGBAYEBAMECAYGCAYIBgYICAgDBggGBAMEBgYDBAgGBggDCAYICAQGCAgDAwYGCAYECAYGBgYGCAgEBgQDAwYGBggGCAgDBgYGBgYDCAMGBAYDBgYIBgQGBgYGBAQEBggIBggICAgICAYDAwQGBgMDBAYEBgYEAwMGBggEAwgIBggGBgMECAYECAQGBgMGBgYIBAYIBAYGBggEBgYECAgGBAQICAQGBgYEBgYGCAMEBggEBggIAwQGBggEBAQGBgYGBggGBAYECAYGBgYGCAYGCAgEAwYDBggIBggGBAgEBAgIBggGAwQIBgMDBgMECAYDAwYGBgYDBgYGAwgEBAMGAwYGBggGBggGCAYIBgMECAgGAwMIBgQIBgYICAYIBggGBAgGBAYIBgYGAwYIBgYGCAQGBgQIBgYICAYDBgYGBggIBgYGBAYEBAYGAwgEBgMIAwMICAYGBAgGBgQDBgQIBAYECAYGBgQGBgYIBgYGBgYGCAMECAQDBgYGCAQIBgYGCAYEBAgICAQEBAYDCAQGBgYIBggGBgYDBgMGAwQGBAYEBgYGBAgDBggGCAQGCAgEBAYIAwQGAwMECAQECAQGBggDBggIBAQGBgQEBgYGBggIBgYECAMGCAYICAYEBAQICAYEBAYIBggIBgQIBggEBggICAQIBggDBAYGCAMGBgYDCAYGCAgGCAYGCAYIBgMIBAgIBggGCAQGBAYECAYIBAYICAYEBgYGBggGBgMEBgQEBAMEBgYGBgQICAYEBgYECAgGCAgIAwYDBgYEBggICAQICAQEBgQIBAYGCAgGBgYDBAYDCAMIAwYICAQEBAMEBAgEAwYGBAgDBggGAwgGBggEBAYIBAQIBggGBgYICAgIBggGBgMIBAMGCAgDCAQGAwYDCAgGCAQIBggDBgQDCAYEBAMIAwYGBAYIBgYDCAQECAMEBgMICAgGCAQDBAgGCAQGCAYGCAgDBgYGBAMGBgYECAgEBAYIAwYIBgYGBAYEBgYEBAYDBAYIBgYGBgYGCAYECAQICAMEBggECAMECAYGBgYEBAQEBAYGCAYGCAYDBgQGCAYGCAgIBAQIBAgIBAgICAgGCAgICAgEBggGBggGBggGBAgECAYEBgYGBgQICAYIBAgGBgMIBgQGBgQDBgYIBAYGBAgGBgMGBAYGBgYIAwgGCAYIBgMICAYGCAMIBggGBAYGCAQDBgQIBgQGAwgGCAYICAgGBgQGBgYGBgYICAYGCAYEBgQGBggICAgGCAQGCAYGBAgGBgYIBgYGAwMECAYGCAgIBgQDAwgIBgYGBAMICAQGAwgECAYICAQGAwgIBgYGBgYIAwQIBgQGCAYGBggIBAgGBgYIBggGCAYIBAYDAwgIBgYDBAgGBAgIBgYEBggDCAgICAgGBAgECAMIAwQGBgQDCAYGBgYGBAgEAwYICAYGCAgICAYGBAgIBgYDBAQGAwYECAYGCAYIAwYEBgMGBgQIBAQECAYICAYGBgYIBggIBgYICAYICAgEBAQEBggEBggIBgQEBAQGBgYGBgQIBggIBgYIBAgGBAYIBgYECAgIBgMEBgYGBAgGBgQGBgYGBggIBggGCAgEBgQECAMGBgYGCAYGCAQGBgYICAgEBgYICAQIBgMGBAgGAwgGCAYDCAgGBgYGCAYGCAgGCAQGCAQEAwgGBgYICAgIBgQGBAgDCAMIBggICAYECAgDBAQDBggGBgYGBggICAgEBAYEBgYGBAYGCAQGCAYIAwYGCAQIBggGBAMEBgQGCAQGCAgICAYGBAYDBggECAgGBggIBgMGBgQGCAYDBgMGBAQGBggICAYEBgYDCAMEAwYIBgMECAYDCAYGAwMEBggEBggDAwQGCAYIBAYGBgMGBggIBAQIBAYDBggGBgYGBggICAYIBgYIBAgICAgICAMEBgYGBggECAgGBgQECAMDBAYDCAYGAwYEAwYGBAgICAQDBgMIBgYGAwQECAQGBgYICAgEBgMIBggICAQGCAYGCAYECAYICAQGBgYGBgYICAYGBgQGBAgICAYIBggGBgQEBgYIBAgGCAgICAYEBAYGBAYGAwYEAwQIBAYGAwYEBgQECAYGBAMECAgECAYGAwYIBggEBgYDCAMIBAYIBAYEBAMGCAgEBggEBgQDBgYGBgYEBAYDCAYGBAYICAYGBAgEBgQIBggGBAYGBAQEAwYEBggECAgEBggDBgYDBggGBAYGBggGBAQGCAYEBgYGBgYICAYEBgYIBgQGCAQGBggEBAYGBggIBggICAYGBggIAwQGCAYIBgQIBAMICAQDCAYEBgQGBAgGAwYEAwgGBAQGCAYIBAgGBgYDBAYEBAYGBggGCAQGAwYEBgYGBAgEBggGCAYGCAgECAgGBAgEBAYIBgQGBggECAgIBgYGCAgEBgQIBgYICAQEBgYECAYICAgIBggEAwgGBggIBAQIBgQIBggDBgQGBgMGBgMGCAYDCAYIBAgIBAYIBggEBAYEBAMGAwQDBAgGBgYGBgYEBggEBAgGBAYGCAgIBAMEBAgEBAQIAwMGCAgIAwQGBggGCAYEBAYEBggICAYIBgYGBggIBAQGBAYICAgGBAQGBggICAMEBAMIBgYDBgYGBggGBgYDBgYEBgMGBAgGCAgGBggGCAgDBggGCAMIAwQGAwYEBAgGBgMEBgYIBAgEBgYECAgGBAYICAYGBAQECAQGCAgIBgYIBAYDBgYGBAYGCAQEBggDBgQEAwgIBgYDBgQDBggEBAgEBgYGCAgIAwYEBAgGBgYIBAYEBgYIBgYIAwYICAQIBAYIBggICAQGCAQDBggGCAYEBgMGBgYIBgQIBgYECAYEBgQGAwYICAQEBgMEBggEAwYEBgYGBAQGCAYEBggIAwYGCAYEBgQEBgYEBAgGCAgDAwYICAgICAYGCAgIBgYGBgYDAwYIBgYIAwgIBAgGBAgIBggICAMICAQIBgMIBgQGCAYEBAgICAYICAQEBgYDCAgEBggGCAYECAYIBAgGBgQEBggEAwMICAYGBgYGBgYICAgEBggEAwYGBggECAMICAMEBgMECAYECAQEBgYICAMGAwgIBggDCAgGBgMIAwYGBggGCAYICAYICAYIBggGBgMGCAYGBgYEBAMDBAYGAwgGBgQGBAgICAYGBgYGBgYEBgYIBAQGAwgGBAYGCAYICAgIAwYEBAgGCAgICAMDCAYIBgYECAMECAQDBAYEBgYIBAYGBAgIBgYGCAgDCAMGCAgEBAQDBgYGBgYEAwgDBAMIAwgEAwMGAwgGBgYEBgMGBAQGAwQICAgEAwQGBAQIBggIAwYGCAYGBgYIBAgGAwQIBAYIBAMGBgQDBgYDBgQIAwYEBAMICAgEAwMGCAMGBgMEBAYGBggGBgYEBgYGBgYDBgYIBAYGBggGCAgEBAYIBgYGCAYIBAgIBgYGAwYIBgQECAMECAQGBgYIBggEBAYIAwYICAYGBgQDBgMGCAMECAQGAwQGCAYGBggGBAMIBgQEBgYGBgYICAgDBAYICAgGCAQIAwgEBgYECAgECAQGAwQEAwgGAwYEBgQIAwYGCAQIBggEBAgGCAgICAQGBAQIAwQDAwgDBggEBAQGBgYGBgYGBgYIBAgIBgYGCAMEBAYGBggECAYEBgQGCAgGBgQGCAgDCAQDCAQGBAgGBgQIBggGBgYEBgYGBgYDBgYDBgYEBAYGCAYDCAYIBggGBgYGCAQGAwgEBggECAQICAYICAYDCAYICAgGBgQIBggGBAYEBAYGCAgIBgQGAwYGBgQECAYGAwQIBgYDBggGBAYGBgMICAQICAMEAwYIBgQGCAYGBAYIBgQEBAYGBAQIBAgECAgGBgQDBAMGCAQECAYICAYIBAYGBAQECAYICAYIBggDBAQICAYDBgQGBgMECAYICAYGBgQDBAYECAYGBAMECAYIBAYGCAMGCAYGBgYDBAYIBgQEBAYGCAYEBgQGBggDBAgGBgMGCAgECAgGBAgDCAQEBgYGBAYDBgYIBgQGCAgDAwYIAwYIBAQGBgYEBggIBAgDCAYGCAYICAgDBgYECAQDBggGCAgGBggGBgMIBAgIBgYECAgEBAgGAwQGCAYGAwYDCAgGBgYGAwQGBAgGBgYGBAgIBAgIBgYECAYGBAMIBggEBgYGBAYECAYIBAMIBAgGBgQDBAYGCAQEBgYEBgYICAQDCAgDAwgDBAYGBgYGBgYGBgQDBgYICAYIBggIBgYGCAYIBAYICAYGBgYGBggIBgYIBAQECAMEBgYGBAgGAwgICAMEBAYICAQGCAYECAMGBAYEBAYIAwYGBAYGBgMEBgYGBgQGBggIBAYGBAMGBAMGBgMIBgMGBAgGAwQGCAgGBgQGBAQGBAgGBAQECAYGBggDBAQGAwMICAMIBAQGBgYIBAgGBggICAQIAwQGBggICAgEBgYGCAYGBggIBgYDBAgGCAgGBggICAgGBgYDCAQGBAYIAwYEAwYIBAYIBAMIBAYICAQGBAYIBgYICAYEBgQICAYDCAgGBAYICAQGCAgIBgYDCAMGCAYGBAYEBgQIBAgGBgQGBgYICAYGBgYEBAMDBggDCAgGBgMICAgGCAgDCAYGCAYDBAQGBggGBAYICAMICAQECAgGBAgICAYDAwMEBAgDBgYGCAYECAMGBAQIBgQGCAgGBgQGCAYGAwYICAgGBggDBgQIBggEBgYGCAMIBAgEBAgGBgMDCAMEBggGCAYIBgYEBgYGCAQEBgYIBgQGBgYICAMIBgQGBAYGBgYEBggEBAQIBAMIBAYGCAgGBgYICAgEBgQDBgYGBgYIBAQGBAgICAgEAwYGAwQIBggIBggDAwYIBgQGBgQGBAgIBggIBggGBgYIAwYDCAYIBgMGBggGAwQGBAQGCAYEAwMIBgQEBgQIBAYIBAgGBggICAYGBgYIBgQICAQEBggICAYECAgGBggGAwgIBAYGBAQECAgGBgYICAQGCAgEBggIBAgGCAYGCAYGBgYGCAYGBgQIBgYIBgYGBggIBggGBggEBgYGBAgIBAQGCAQGBggIBgYGCAQDCAQICAYEAwYEBgYGBAMICAgGBggICAYEBgYGAwYIBAYECAMDBgYEBggIBgYIBgYEBgYGAwYGAwMIBgQGBgYGBgQEBAYGBAgGBggGCAgIBAYECAYGBAQEBggGBAYEAwgECAgECAYGBgYICAgEBgQIBgMECAgGCAMGCAgGBAYECAMGBggEAwYIBgQGBggIBggICAYGCAYDBAYICAMGBAYIBgYICAMEBgYEBAYICAYGAwQEBAYGCAYGCAYDBAgICAYGBgQDBAYGAwYEBAMEBggGCAgIBgYGBggGCAgECAQGAwgGBgYGBgQEBgYDBgYICAYEBAYGBgQEBgMGCAYDBgYGBAYIBgMIAwQGAwYEBgYGBAYGBAgEBggICAYGAwYEAwYGBggGBAYIBAYGCAgEAwgICAQEBAgIAwQGCAYECAgGBAQGBAgICAgGBgMGCAgIBgQIBAYGCAYEBAYGCAgICAgEBAgIBggECAQECAYECAYEAwQIBggGBAQIBAgDBgQGCAQGBAYIBgYDBggIBAYGBgYIBgQIBggIBgQDBAgGCAQGBggGBgQICAgIBAMECAYIBgQGBggICAgEAwYEBgYEBAQEBAQGAwQEBgYIBgYIBAgGCAgGBgYGBgYECAYIBgMIAwYECAQGCAQIBAYICAgEBAQGAwYGBgYIBggGCAgIBAgEBgYIAwMEBgQEAwYGBAYICAYEBgQGBAgGBgMIBgYGCAYGCAYECAQEBggECAYICAgIBggGBAYGBAMECAQECAMIBgQEBAgEAwQGAwQIBggDCAYICAYIBAYEBgYDBAgGCAYGBgMDAwMGBAMGCAMIBgYGAwYEBgYICAgICAQIBgMICAYEBAYIAwQGBgQICAQEBgQGBAQEBgYIAwgEBAgDCAYGBAgGBggIBggGCAgGBggEAwMDBAQIAwgECAMDBgYEAwQGCAQDBgYDBAMGBgMGCAYIBgYICAYICAYECAgDBgMGBgYGBAYGBgYGBggEBgMIAwYICAQECAYIBAgGBgYEBAgGBgYGBgMGBgQIAwMGCAYIBgYGBgQGBgQIBgQGBAQGBggEBgYEBgMGBgQIBgYDBAYECAQDCAYEBgYEBAYIBgQGBAYEBAYEBgYIBggIBAMIBAYEBAQIAwgIBgYICAgEBgYIBgYECAgDCAMICAMIBggGBgYGBgQIBgYIAwQECAMGCAYEBgYIAwYEBgYGBgYICAgICAMIBgYIBgQEBAYIBgQIBgYDBAYIBAMIBgYGBgQGCAQGCAgGAwQGBgQEBgYGCAQDCAgGBAYEBgYEBgYDCAQICAYECAgIAwYDBAQGCAYDBAYECAYDBgQICAQGBgQGCAQGCAMEBgYGBggIBgYGAwgGBgYECAQGCAYEBgQICAYGBAYIBgYEBgYDBAQGCAYECAYIBggGBgYGBAMGBgMGBgQGCAYIAwYIBggEAwYGCAgGBgQGBAQDCAMEBggICAYGBgQGCAMECAgGCAYGBggGAwYDBgYEBgMICAgGBggGCAMEBggECAYICAYGBAgICAYGBAYDBAgGBggICAgIBAgGCAQIBgMGBgYIBggDBgYIBAYDBAgGCAgDBAYEBAgGCAgDBAMIBAgIBgYIBgMGCAYIBgYDCAYECAQGCAMGCAMGCAYIBgMIBgMGBgQIBAQGBgYECAMICAgIAwYGCAYGCAMICAYGAwMDBgYGCAQICAYIBgYEBgYEAwYGBAYIBggEBggECAQDBAYGBgYECAYIBggEAwYGBgMGCAMGBAQICAgGBgMEBAYGCAQGAwgEBggIBgYGBgYGBgQEAwYEBgYIBgYEBAgDBggECAYDBgQIBAYIBggIBAYGBggGCAYGBAYIAwgIAwQEAwYICAYDBggGBgQICAYEBgYEBgYGCAYEBAQICAQDCAQEBgYGBAYGBAYGBAMECAYGBAYIAwgGBAgGCAYEAwMGAwYIBggGAwQIBAQEBgYGCAQDCAYICAQGCAgGBgYGCAQGAwgGCAgGCAQIBggDCAgEBgQICAgECAMIBgQICAgGCAMEBgYICAYGBgQICAgICAYIBAgGBAYGCAYICAYIBgQGBAYEBgYGBggGCAQGCAQGAwYIBgYEBgQICAgICAYIBggIBgYEBggEBggGCAgIBAYDBAQGCAYIAwQICAgGCAgGBAYDCAgGBgYIBgQEBAgGCAgEBAgGBAgGCAgDCAgGBAgIBAgIBggGBAQIBAQIBAgEBgQICAgGBAgGAwYDAwMICAYDCAgEBAMICAYEBAMICAQGBAYGAwYDBgQECAYGBgQDAwYGBgYGCAYGBggDBgYIBgYGBAQEBgMGBAQGCAgIBAYGBgQGCAYGBgQGAwgIAwYGCAgICAYECAQIBAQICAYGBgYGBAMECAYGBAYIAwMICAgEBgYECAQDBAYGBggGBAQGCAgEBAgEAwQIAwgGBgMGBggIBggICAQGCAMGCAYGCAYGBAMGCAQEBAMGCAQGCAQGBgQGBgQGBgYIBAYGBggDBggIBAQGCAgGBAMIBgQECAQGCAgGCAgEAwMGBAgICAYEBAYECAYGCAMGBgMGBAYDBgQEBgQGCAYECAgIAwYECAYICAQIBgYEBAYIAwQGBAMGBggGCAYDBAYGCAgGCAgEBAYGBgQICAYEBgYIBAYIBggGBAgDCAYEBgYGCAgECAYGBAQIBgYGBAgGBggICAQIBgQIAwYICAMEBAgDBAgECAYGBggGAwMECAYGBggGBgYGBgYIBgQEAwgGCAYGCAYGBAgGBggEBggDBgYGCAYGCAgDBAgECAYGBgYGCAgGBggIBgQGBgYDBAQICAgGBgYIBggECAYGBAYDBAgIBgQEBgQGBAQGBgMEBggGBgYGBgYGBgYGCAYECAYIBgQECAYICAYECAYGBgYGBgQECAQDCAYECAYIBgYEBgQEBAgEBgQIAwYEBggGAwQEBAQIAwYIBgQEBggIBAYICAYGBgYGAwYDBgYGBgYGCAYECAgIBgYIBAYGBgYGCAYGAwgGBgMEBgQIAwQGAwYGBggGBggICAYIBAQECAYIBgYGBgYGBgYIBgMGAwgICAYGAwMGBgYDBggGCAQGBgYGCAYECAQIBAYGBgQDCAgGBgQEBAMGBgMEBAgGAwgIAwQGBAgICAYGCAYDCAYGCAYGBgYIBggGCAMEBgQEAwYGCAYGBggEBgMDBAYGBAMGBgYIBgQDBgYEBggGCAMEBAYECAQEBgYIBgQIBgYGCAMEAwQEBAgDCAMIBgQGAwMIBAgEBgYGCAYIBgYGBgYEBggECAMGBggIBAYGBgYDBggEBAgECAgIBAgECAgGBgYICAgICAQIBggIBggDCAYEBggIBAQGBgYGCAgIBAYGBgYICAgGCAYECAgDBgMGBgQGBggGBAMGBggIAwYGCAYGBgYECAgEBggIBgYIBAYEBgYDAwQIBAYIBgQGBAQEAwgIBgMEBgYGBgYICAMIBgQEBAQIBAgDBggGBgQGBggGAwgECAYIBgYIBAMIBAYDCAMEBggGCAYDBggIBggICAYIBgYIBgYGBgYECAMGBgQEBggGBAgICAgEAwYECAQGAwQDBgMIBgYIBAQGBAgICAYGCAYECAMDAwgIBAQGBgQICAYDBgYGBAYGCAMICAQICAYDBAYDBggDBAgICAYGBAQECAYIBAYDCAMGCAMDBgQGBgYEBgYIBgQEBgQICAgGCAYDCAQIBggGCAQEBgQIBgYIBgYGAwgGCAYEBggDBAgECAMGBAQGCAYEBggIBAgGCAQGBgYIBgYICAQGBgYEBAgICAQGAwYGCAYEBgYGAwQEAwgIBAYGBgQDBAYIBAYGBgYGBAYIBAYIBAQIBggGBggGBggGBAgEBgYGAwYGCAMIBAYGBAYIBAgGCAYGCAYGBgYDBggDCAgECAYGBgQIBAgGAwYIBgYIBgYGBgYICAYGBgQGBAgICAgECAgICAMGBAQGCAgGBggGBgQGBAYGAwYIAwMICAYDCAYEBgYEBgYIBgMDBggGBggDBggGBAYGCAYIBAYICAMDBAQECAgEBggGBgYIAwYGBggEBAYIBggEBgYECAQICAgICAgGBgQEBAYGBAgECAgGBAYGBggIBgYIAwQGBgQGCAYIBgYGAwgGCAYICAgICAYEBggIBAgICAYICAYEBAgDCAYGBgYGBgQGBgMGAwgIBAgGBgMGAwgGBgYGBgYIAwQGCAYGBgYGBgYIBgQEBgYGAwgIBgQICAgGBgYGBAQGBAgGBgMIBggGBggIBAQICAYGBgQIBgYEBAYEBggDBAQGBAgGCAgICAQICAYGBgYICAgEAwYGAwQGAwgIBgQGBggGCAQEAwYGAwQGBAMIBggIBgMEBAYEBgQIBggIBAQDCAgECAYDBgYGBgQEAwgICAYIBAYGAwYDAwgIBgQGCAgICAYDBggICAYGBgYGCAQIBgMIAwYGAwQDBgYIBgYGCAgIAwgGBggIBAQDCAgIBAQDCAgGBgYEBAgIBgYGBggIBggIBgYEAwYIBgYGBAQEAwYECAYGCAYIBAYGBAMEBgYIBgQICAYGBgYGBAgEBAYICAYGBggICAYGCAQGBgYGBgQICAQIBgYGBgYIBggGCAYIBggEBgYGBgYEBgMIBggIBggGCAgIBAMGBAYIBggIBgYGBAYICAQICAgGCAgIAwQDCAgDBAgEBAYEBgYGAwgECAgEBgMEBgMGBgQEBAYIBAgGBgYDCAYGBAQIAwYGCAYEBAQEBggICAQGBgYGBgQDBgYGAwYGBAMGBgMECAYIBAYGBgYGBgQIBggICAQGBAgGBgYGAwYIAwYGCAQGBAgIBAMGCAgIBgQEBgQIBggGBAgDBgYGBgYGBAYIBgMECAYGBgYIBAgGAwQGBAYDCAgGCAQEBgQGCAQICAgECAYGBgQGBAQGBAYICAYEBgYICAYIBAQEBgYEAwYIBgYIBAYGCAYGBgYGBAYICAMEBggIBgYGAwQIBAQECAYIBggECAgGBAQICAYGBggGBgYGBgYIBgQGCAQEBgMGBAYEBggGCAQIBgYIBgYIBgQECAYICAMIBggDBgQECAgICAMGBgYDAwYGCAQGAwgIBAQGBgYGBgQEBAQEBAQDBgYECAgGBgYIBggGBAgGBgYECAYGBAgEBgQIBgYGBAMGCAYGCAYGBAYGBgQEBAgDCAYGBgQGBgQECAYECAgGCAYICAgGCAYGCAQECAYGCAQGBAYGBggGBgYGBAgGBggEBAQGBAQICAYGCAYGBgYGBgYGBggDBggIBgYGBgQGCAYGBAMGCAYICAMIBggECAMIBAYGCAgGBgQIBAgICAQGBAYGBAYGCAgGBgQIBgYDBgYGBgYGCAgIBgYGBggGAwYECAQGBgMICAYGCAYICAQGBAgIBgYEBggEBgYGBAMEBgMIBgYGCAMGCAYICAYEBggGBgQGBAgEBgYEBgYGBggICAQDBgYDCAMDCAYICAYGBgQEBAQGBgYDBAgEBAgICAgIBggEAwMGCAgDCAYGBgMEBgMGCAMICAgGCAYGCAQGBAYGAwgEBgYGBggICAgEBAYDBggDBAYEBgYGBggGBgYGBgYGCAQIBgYGBgQGBggIBAYGAwQIBAQIBAMICAQIBAgEAwQGBAgGCAgEBgQGBgYGBgQGBgQDBgYGCAYGBgYDBggGBggGBgMICAQGBgYGBAYIBggGCAMEBgYEBgYIAwYGBAYGCAYGBgYEBAMGBggGBgQGBggIBgYIBggIBgYGBgMGBgQGBAgIBgYGBgYECAQGCAYECAYIBgQGBggIBAgEBAQGBgQGBgYIAwMGCAYIBgYGBAgGAwQICAgGBAYGBgYIBggGBgQEBgYEBAQIBAgEAwgGCAYDBAYIAwYICAMIBAgEBAgIBAQGBAYGBgQGBggICAgEBgYIBgQGBgMGCAYICAQIBAYIBgYEBAYDAwYGBgYICAgGBAgGBggGCAgEBgYEBAMGCAQIBgYGCAYGBgMIBgYIBggEAwQGCAgICAYGCAgEAwYGCAMGBgQGCAYGCAYIBgYGBAYGCAgGBgMGBgYICAYIAwgEBgQGBgYICAYDCAYICAgGCAQEBggGAwYGBggGCAYICAYGBgYDBAQICAQDCAQIBgQGBgQGBgQGBgYEBAYGBggIBAQEBAYICAgIBgMGCAgGBAgECAYGCAYGBgYGCAMGBgYGCAMEBgYECAgEBggGBggEBggDAwYICAYDCAgGBgYEBgYECAMIBggDAwYIBgMGAwgGBgQGBgYDBgYIBgYDCAQGBgQEBgYIBAgGCAYEBgYEBgQGBgYIBAgGBggIBgYGBggIBAgEBgMEBAgEBgYIBAgGBAgGBggGCAQECAMGCAYEBgYGCAgICAMGCAYICAQIBggGBgYIAwYIBAYGBgYDBAYEBAYIBggGBggGBgQIBgYICAgICAgIBAMICAgEBgYICAQGBAYGAwgIBgYIBgYDAwYGBgYDBggGCAQGBggGCAgGCAgDBAQGAwgGCAgGAwgGBAgIBgYECAYGBAYICAYDBggECAgGBggIBggIAwQICAMIBgYIBgYGCAYEBAgIAwYGBgYGCAQGBgYGCAQGCAYGBgQGCAgEBAYICAgGAwYIBAYGCAMEBgMIBgMGAwMGCAQDAwQICAgEBgQGBgYICAgIBgYIBgYECAgGAwYIBggGCAYIBggGCAgIBgYICAMDBgQEBggGCAYECAYGBgYGBgQGCAMICAQICAQGBAYGBgYICAMICAgGBggDBgYGCAQIBAgECAYGBgYGAwgIBAYIBggGCAgGBgMGBAQEBgYIBgYGAwQGCAYGCAYEBAgGBggGCAgIBAYIAwYGCAYDBAQDBgYGBgQGBAYIBggGCAQEBggEBgMGCAYEBgMGBggIBggGAwgIBAgEBAgDBgYGCAgDBgMGAwQEBAgEBAgGBAMGBggGCAQGCAgECAQIAwYIBgMIBgMIBAYGCAYIBggGAwgGBAgECAQDBgYGBggIBAMEBAgGCAgGAwgGBgYGBAYGAwQGAwYICAQDBgYICAgIBAQEAwYIBAMGBAgDCAQICAQGBggGBgMGCAMDBgYGBggGAwYDBggDBggGBAYEAwgDAwYEBgYIBggGBgYIBgYIBggECAgGBgYGCAgEBgYGBgYGAwYECAgDBgYEAwgGCAgGBgYEBAgIBgYGBAYIBggGAwgIBgYEBgYIBgMIBggIBgYGBAYGBgMIBgQEBgYGCAYDCAMGCAQGCAYIBAYGCAQDCAgGCAgECAYGBAgIAwYGAwYGBgYGBggECAgGCAgGBAgIBggDCAYIBgYGAwgGBgYICAYIBgYECAYIAwYIBAMGCAQEBgQEBAMEAwgICAYIBAgIBggECAgIBggIBgYGBAYGBAQGBAYDCAYDBAQGBAgECAMIBAgEBAQGBgMEAwQDCAgGBAYECAYEBgYGAwgEBgYGCAYEBgYDCAMICAYICAQIBgQGCAQGBAQGBAYGAwQGBggICAgIAwQGBgYGBAYICAYICAYECAgIBgYDAwYGBggEAwYECAYECAYGBAYICAgGBgYECAQGBAMECAYIBgYGBgYICAYDBAgGCAgICAYEBAQECAYIBgYGCAYECAQGBAQICAYEBgYGCAYGAwYIBAMGBgYEBAQEBgMDAwQGBAYIBgMGAwgIBAYEBgYIBggIBgYEBgQDBAYGCAgICAYGBgMEBAYGBgMEBAYGCAYGBAYGAwgGCAgECAQGBgQEBggGCAQIBgQIAwYGCAQGBgYEBAYGCAQEBgYGBgYGCAgGCAYICAYICAgICAQGCAMGCAYIBggIBgMIAwYGAwgIBggIBggGCAQECAQIBAgIBAQIBgYGBggEBggGBAMECAgICAQIAwgGBgMIBAYIBggGBggIBgQEBAYEBAQECAQIBAYECAgDBggGBAgIAwMDBgYEBgQIAwMGBAYGBgYGAwYIAwYGBggGBAgGBAYEBgYGBggEBAQGBgYIBgMGBgYGCAQIBggGBgQGCAYGBAYGAwgIBAQICAQIAwQEBgYIBgYGBgYGBgYGBgYGBAYGBgQIBAQEBgYGBggGCAYGCAYEBgYICAYGCAYGBgYIBgYGCAgDBgYICAgEBgMGBggEBAYGBAgIBAQGCAYICAgEBgQGBggGAwQEBAYDBAQICAgGBgMICAYGAwYGAwQIBAQICAgICAgICAMIBgYIBggEBggGAwQEAwYGCAYGBgYIBAYGBggGCAYEBgYEAwYIBAYDCAQEBggIAwgEAwYGBAgGBAYEBggGCAYGBgQGBgMGCAgGCAgGCAYDBAMGBAgGBgQIBAgGAwgEBgMGBgQGBgYGCAgEBgMIBgYDBgQICAQIBgQGAwYEBgYIBAMGBgQDBggGAwYGCAMGBggEBgYIBgYEBAYDBggIBgYGBgQGBAYGCAQIBgYGBggEBAgGBggICAMGBggGCAgIBgQICAgGBgYEBggEBAYGBAgGBgYIBgYGBAQIBgQEBggECAQGBgYDBggGBgYGAwgGCAgGBgYGBggGCAYIBAMGBAYICAQIBAgEBgYDAwYIBggGBgMIBgQGCAYGBggIBggEBAYEAwYECAMICAgECAgEBgYGBAQGCAYGCAgIBgYEBggDAwYGAwYIBgYICAgGCAYEBgYEBAgEAwQIBgQGAwYGBgQIBgYECAYECAQIAwMGCAYDAwYIBAgGCAMECAgIBggGBAgIAwYIBgQGBgYGBgQEAwgEBAMGBggICAMEBggGBAMGBAMICAMGBAQIBgYDBgYICAYIBgYIBAgGBgYGBgQIBgQEBAgICAYEBAYICAQGAwgGBgYGCAQGBgYEBgQIBgYIBgYDBgMGBgYEBgYECAQGAwQECAgIBAgICAgECAgGBggGCAYEBgMGBAYIBggGBgYGBggEBggEBgMEBgYGBgYGBgYGAwgDCAMGCAYEAwQGBgMGBgYIBAYDBgYEBggIBgYGBAQGBAQGAwYDCAgICAYICAgDCAQGBgMGCAQGBAYGBggGBgQGAwgGBAYIBAYDCAgGBgQECAQGBgYIBgQIAwYDBAMIAwgIBgQDBgYICAYGAwgGBAYGBgQGBgYIAwYGBggDBgMDAwYGAwgGBgYEBgQGBgMGBAQIAwgGAwQGBggIBgYGCAYECAMDBAQDBgMEBgYGCAYECAgDBAYICAYIBAYGBggGCAYGBggECAgGCAQGBAgGBAQGCAQIAwQGBgYECAYIBgYIBAMIAwYGBgQGBAYIBAYIBgQEBAYDBgQICAgIAwYIBgYIBAgEAwYDCAYECAgECAYEBggDBgQGBggDAwYGBgYIBAYECAgDBgYGAwYGAwYGBggIBAYDBggGAwYICAgEBAgIBgYGCAQIBgQIBAYIBggEAwYIBgQIAwYEAwgEAwYGBgQICAgGBgMGCAQECAgIBAYGAwgIAwMGAwYIBAYEBgYECAMIBAgIBggIBAYDBgQGBggGBgMIBggDBgMGBAYIBAgGCAYEBAgIBgYGBgYIBggEBAMEBgYGCAMIAwgECAQECAQGBggGCAQGBgMICAYECAgICAgICAgEBgYICAYGAwgICAQDAwgGBgQDBgQIAwgEBgQGBgQDBAMDBggGBAgGBAgGBAYIBgQIBgQIAwYDCAMICAgEAwMGBAYEBggICAYEBggEBgQDBAYGCAgDBAMGAwYIBAYDBAgEBAYEBgQIAwMIBggIBAYIBgYECAgGBAgEBgYEAwMDBAMEBggIAwMGCAYIAwgICAQECAQICAYEBAYGCAgIBgMGCAQDBggGBggDBAYEBAgECAYGAwYECAYIBggGCAgGBAgDBgQDBAgGBAQEBgQGCAQIAwgIBgQGCAQECAYIBAMGBgQGBggIBgYIBggGBgYDBAYGBgMICAYICAQGBgMGCAQGBgYGCAQGBggGBAgGBAYGBAYGBgYGBgMGCAgDAwYGCAgDBAYEBAYGBgQGBgQIBAYICAQDBggIBggICAYEBggICAYECAYGCAgGBgMIBgYEBgYDCAgGBggIBggICAQICAYGBgYICAgDBAYDBgQIBgMECAgEBggGCAgGBAgEAwQICAQGBAYGBgQGCAQIBAYIBggIBgMGCAgGBggGCAMICAYGBgYGAwYEBgYGBAYEBAQGAwYGBgQIBggGBgQGBgQEBgMGCAQICAQICAYGBggGBgYIAwgDCAYGBgMDBAMGBgQGBgYEBgYDCAgECAYECAMIBAgGBgYGBggEBgMGBggICAQDBgMGCAgGBAYGBgMIBggGBAYIBgQGBgQIBggEBgYGCAgIAwYGBgQGBAgGCAQIBggIBgYIBgQGCAQIBgYECAQEAwQIAwYEBggIBggIBAMECAYEBggICAgGCAYGCAMEBgYIBgYIAwgGBgYGAwgGCAYGBgYGCAgGBAMECAQIAwYIBgYGCAYECAYEBgYGBAgEBAYGBAgEBgMECAYICAQGBgYIBgYIBgYGCAgECAYGCAMGCAMIBgYGCAQECAYGAwYICAQIAwgGBggGBggEBgYIBgYGAwYIBggGBggGBAYICAYGBgMIAwYGCAYEBggICAgGBgYICAgEBAgICAYIBAYGBgYDAwYICAYGBggGBgQGBggIBAgDBAgEBAYEBgMECAgECAYGCAMIBgYGBAYGBgMDBAYIBAQEBgQGBggICAQIBgYDCAYGBgYGBggGBAgGBAYEBAQGBAYICAYIBgYEBggIBggEAwMICAYDBgYGBggIBggGBgYICAYGBgYGBgQGAwYICAYGCAgIBAgGCAMIBgQICAgGCAYEBAMICAgECAgGBggEBggECAgGBAYGBAQDBAYDCAgDBggEBAgGBAgGBgYDBAYEAwMEBAYIBggGBgYIBAYGCAgGAwQICAYEBgMGBggECAQGCAMECAYICAYIBgQGBAYEBAgGCAgICAYGBAQGCAgEBgYGBAQGBgYICAYIBAYGBAgEAwYIBgQIBgYIBgYGBgYGBggIBggIBgYIBgYEBggEBggDBgQICAQDAwQGBAgIBAYIBAYIBgMIAwQEBAQGBggGBgYGBgYGBAYGCAQIAwQGAwQECAgGBgYIBggGBAgGBggGBgYIBgQECAYICAQGBgMDBggEBAYIBAgIBgYGCAQGAwgGBgYGBAQEBgQIBgYECAgECAgICAYGBgQIBggIBggGAwQIBgYECAQICAYGBgYGBAgEBggGBgMDCAgEAwQICAYGBgYGCAYGAwgGBgQECAQIBAgEAwgGBAQGBggIAwQGCAMEBggEBggIBgQEBgQIBggGBAYEBAYDBgYEBggGCAYIBgMGAwYDAwgGCAQGBggEBAYEBggGBgYIBggIBgYEAwQGBAQEBgYICAYGBgQGBAgGAwQICAQGBAgGAwgEBAgICAYICAYEBAgGAwMDAwYIBgYECAQGBgQDBgYGBggICAYEBgMIBgYICAgDCAMIBgYEBggGBggIBgYGBggIBAgGBgYGBggGBgYGBAYIAwQDBgYEBgMDCAgGCAMGBggGBgYDBggGBgYGBgYIAwMGBgYEBAgICAQGCAQGBgQICAQGCAYGBgYICAQDBggICAYECAgICAQGCAQDCAYGBAYGCAYDAwQEBAYGBAMICAQIAwgICAQDBggGBggIAwYGCAYGBggGBgYGBgYGAwQICAYICAYICAQGBAYEBgYDBgYGBAgGBAgGBAgGBAQDBAQGBgYGCAYICAYGCAYIBgQEBggGBAQIBgYGBggIBAYGBAYIBggIBAgICAMIAwYEBAQICAYIAwgGBgYECAgGBAQIBgMEBgYGBgMIBAQEBgYGCAYGBggDBgYGCAYEBAgEBgYIBAgGCAgIBgQDBgYGBggIBgYICAgIBggGBAgGBggGBAQIBggICAQGCAQGCAQGCAYIBgYGCAgGBggGBggDCAYIBAYECAQECAYGBgMDBAMGBAQGBggGBgYICAYIAwYGCAgDBggICAYIBAYGBgQIBAMGBAgGBgQGBAYGBgMGBAYEBgQECAgEAwMICAQICAMIBAMGAwQGBgYGBAMIBgYGBgQGBAgIBgMGBgMGAwQEBgQGCAQGAwYGBAgICAgICAYGBgYGBgYIBgQGBggGAwgGBgYEBgQDBgYIBAgICAQGBggDBgQIBgQIBAgDBAgEAwgICAMDCAgDBgQICAYGBgYEBgYGBAQIBgYEAwgGBAYICAMECAQEBgYIBgYEBAgGCAMGBgQIBgYGBAYEBgYGBgYDBggGBggGBgYGCAYIBAYGBAMDCAYEBgQGBgYGBggGBAgECAgGAwgEBggDBgYIBggDBAgIBggEBgQEBgYICAgIBggGBgYIAwgGBgYEAwgGBgYGBgQGCAQGCAYECAYICAYIAwQIBggGBAMIBgQIBgYEBAQGBAgGBAYICAgIBAgEBgMDBAgIAwMIBAMEBAYGBgYIBAYGBgYICAYIBAgICAYGAwQGBAYEBgYGBgMGBggEBggDCAgDBAQGBgYGAwMECAMGCAQICAgGBAgIBAYICAgIBgYGAwYIBgQGBgQGCAYIBgYGBggEAwYECAgGBgMGCAQGBgYIBgQGBgYEBggGBAMEBAgIBAYECAgIBggGBgYICAMDBgYGBgQEBAYICAYECAYGBgYGBgYGBgYEBAYGBgYGCAQGBggEBgYDBAQICAQGBgYGBAgIBggIBgYEBggEAwgGCAgGBgMICAYIBgYGCAgEBggECAQIBAgDBgYICAQECAMEBgYICAQECAMECAQGBAYGBggICAgGBgYGCAYGBggEBAYGBgYIBAYGCAgGBgMGBAgEBgQGBgMGCAgGBgQIBgQEBAMGBgMGCAgDBgYICAQGBgQGBggGCAYIBggDBgQECAgECAgEBAgIBgQICAQGCAgGBgMDCAgGCAMEBAgGCAgGCAYGBgYIBgYGBAMECAYGAwgGCAgDCAYGBgYGBgYGBgYEBgYGCAQGBgYIBAYIBgQGBAgECAYEBAYEBgYIBAYECAQGBgYGCAYIBgYDAwYGBggDBgYICAgECAgIBgYICAgGBggICAQIBggIBggDBAYGBAQICAQEBAMGBggICAYDBAYEBgYIBgYEAwgDBgYICAgGCAYGAwgIBgYIBgQGBgYIBgQGBAMICAQGBgMGCAMGBAgGAwgIBgQGAwQGAwQEAwYDCAYIBgYGBgYICAYEBAYEAwYEBggIBAgIBggDBgYEBgMICAQIBggEBgQIAwgICAgIBgYGAwMGAwgIBAYEBAMGCAYIBgQGBgYGCAgGBgQEBgQIBggGBgQEBAMGBggEBggIAwYICAgDBgQGBgYGAwgICAgEBAQECAYDBAMEBgMIBgMGBAQICAgIAwQEBAMIBAYDBAQGAwYGCAYIBgQEBgYGBAQGCAgEBgYEBggGBggEBAYIAwQICAgICAQGBgYGCAYDBgYIBAYECAQGBggIBgYICAMDBAQIAwYGBgQICAMIBAYGCAYGAwQECAYIBggEBAQGCAQDBggEAwQIBgQICAYICAgGBgMGAwgIBAQIBgYIAwYGCAYGBggGBAYDBgMDBggICAgICAYGBggICAYICAYIBgYEBAgGBgQGAwYIBgYDBgYGBAMGBgYGAwgEBgMICAYGAwgGBggECAQGBgMIBgYGBgYIBAYICAQIBggGBggGCAYGBggGBgYIBAYICAYEBgQICAgGBgQIAwYECAYGBgQIBgMIBggGCAYGAwgDBgYECAgECAYGBgYGCAYDBAQGBAYGCAgGCAYEBAgGBgYICAgGCAYGCAYDCAYGBgQIBgYGBAMDAwYDBgYDCAYGCAYICAgGCAYEBAgDBAgEBAgIBAgIBgYDCAYEBgYGAwgECAYIBAYGAwYGCAYECAMGBAMICAYICAYGBggIAwgECAgICAQGAwgIBggIBggEBggIBAYIBggIBgYEBgYGCAgGCAYDCAYECAQIBAMIBgYIBAgIBAYIBgQGBAMGBgYGBAgIAwQGCAgIBgYECAYIBggIAwQEBAYIBggECAgGCAgIBgQIBgQICAYEBAQIAwYEBAYGBAgDCAMIBgYIBAgDCAgEBggEBgQGBgQEBAYIBgMGBggDBgYIBgYGAwYIBAgGBAYGBggIBggECAgIBgYGBgQEBgQGBAgGBggIAwYEBgYGCAYICAQGCAYGBAgDBgYEAwQGBAYECAQIBgQICAYGCAYGBAMIBgYIBgYICAgICAQICAYEBggIBgQECAYECAYEAwQGAwgGBgYGBgQECAgECAgDBAYEBAYECAgGCAMEAwYDBgQDCAgIAwYGBgYDBgQGCAQDBggGBAgGCAgEBAYDBggGBAQIAwgGBgMGBgYIBgQGAwMGBgMGBAQDCAgDCAQECAYECAYIBAgGBggGCAgIBgMDCAgIAwQEBgMIBgQICAMECAYGBgQDBgMIAwYECAgGBgYDCAYECAQGBgQEBAYGBgMEBAYGCAgEBgQGBgYIBgMGBAYDCAgECAQGAwYEBgYEBgYEBgYIAwQIBgYDBAQGCAgIBggIBgQDBgYIBgYICAgIBgYICAYIBgYIAwgGBAMGBggGBgYEAwQDAwgGBgYGBAYEBgYIBgMGBAYGBgYGBgQEBAYIBggIBAgEBgQGBggGAwYEBgYGBgYEBAYECAgGCAYDAwQEBggIBgYGCAQDBgYECAYEBgYDCAYEBggECAYGCAgGCAYDCAYGBgYIBgYDBgYECAYIBgMEBAQICAYGCAYGBAQGBggGCAgGBgQGCAMGCAYDBgQGBggGCAQGAwQGBgQGCAgEBgQIBAYICAgIAwgEBgYECAYDBAQEBggGBAQECAYGAwYIBAgGCAgGBgYIBgYDBggGCAQIBgYICAgGCAYEAwgDBAgGAwQIAwYICAQEBAQIBggEBggEBAgDBgQIAwYGCAgECAYGBgQIBggICAgIAwQICAYEBggECAQECAYDCAgGCAgGBggECAQGCAgIBgQDBAMEBAMGCAMIBgYICAYIBggGBAgDAwgEAwQGBAQGAwYGBgQDBgQGAwQEBgMDBgYGBggGCAYDBAYDBgQICAgGCAYGAwYGBggEAwYEAwYEBAMDBgQGBggGCAQGBAYGAwgGBgQIBgMECAQIBgQEBggGBAgGBggIAwYEBAQEBggIBggGCAYICAYECAYGCAgEBggGCAQIBggGBgYICAYGCAgGCAYECAQICAgGBgYGBAQICAMEBAgGBgMGCAYICAYGCAYGCAYDAwgGBgYGBgYGCAYGBAQGBAYGBgQICAMEBgQIBAgGBAYDBgYGBgYGBAYGBggEBgYECAQGBggGBgYEBAMDBgQGCAgDBgYDBgYDCAYEBgYIBgYGBgQICAgGBAYGBAgIBgYGBggIBggGBgMICAYIBggGCAYIBAYGBgYICAgGBAYEBAYGCAMGBAYGCAgIBgQGBggGBgYECAgGBgYGBAYGCAYGBgQGBgQGCAYGBAQICAYIBgQDCAYGCAgGCAYECAYIBgYGBAQIBgQICAgICAgIBggIBgQGBggEBgYEBgYDBgQDBgYIAwYEBgQGBgMEAwQIBgYIBggEBggEBAYGBgMIAwMEBAYGBggIBggGBgQEBAMDBgQIBggGAwgDBgQEBgYIBAQGBAYICAMICAYGBgYEBgYGBgYEAwYIBgYGBAgDCAYIBAMICAMDCAgIBAQDBgYIBAQGCAgICAgEBgYGBgQGBggGBAYIBgMGCAYICAYGAwQICAQEBggGAwMECAMGAwMDBggGBgQIBAgEBAgGCAYGCAYICAgECAQGBggDBggIBAMGBgYDBAMIBAMIBgQGBgMIBggEBggGBgYGAwgGCAMIBgYGCAgGBgYGBgMIBgYECAgGCAQICAYEAwMEBAYGAwQEAwYDCAYIBgYGCAQGBAgDBgQGBgMGBAgGBgYDCAgICAQGBgQGCAQDCAYEBAYEAwYGCAQDCAQDAwQECAYICAYGCAgGBgQGBggGBgYIBAQGBAYECAgIBgYDBggDCAMIBAYECAgECAYICAgGBAMIBAYEBgMDBgQDCAYGBgYGBgQGBgYGBAYICAQIBAQEBAQGBAgICAYIBgMICAQEBgYGCAYGBgYEBgYDBggDBggEBggGBggGCAYGBAYIBgYIBggGAwQECAYGBgYIBggECAQGCAYGAwQDBgYGAwYGAwYIBgQIAwgGBAYEBgYIBgYGBAgGBggGBAQIAwYEBgQIBgQIBgYECAYEBgYICAgGBAYGBAYEAwYIBggICAQIBAgECAgGCAMIBgMGBAQEBgQDCAYIBggGBAYEAwQGCAgICAYICAQGBAQEBggGBggDBggGAwQGBAgEBggIBgYGAwMEAwMEBAYECAgGBAYGBgMECAQIBgQEBggGBggGAwYGBgYDCAQIBggGCAYGBAYGBgYGBAgICAQIBAMIBAYDBgYIBgYIAwgEBgYEBggGBgQGBgYGBAQGBgYICAYGCAYIBAgGAwYEBggEBAgGCAgGBgQGBggIBgMICAgGBgYDBAgGCAgGBgYICAYECAgICAgGBggGBAYGCAYGCAgGBggEBgYIBgYGBgQEBgYGCAgGCAgGBAYICAQIBAQICAMICAMIBgQICAgICAgDBggGAwMIBgYEBgQIBgYEBgYEBggEAwgIBgYECAYICAgGBgYGAwMICAYEBAgEBgQGBAgGBAgGBgYGCAMGBggIBgYGBAMECAYEBgYDBgYGAwgGBAQICAgIAwgGCAYGBggGAwYGBAYGBggGBgYICAQGAwYICAYIBAYICAYGBgYEBAYGBAQEAwQECAgEBgYGBggDCAYGBAYIBgYGCAQIBAYDBgQECAgDBAgICAgGBggGBAQDCAYGCAgEBgYICAgGCAYDBAQGBgYGCAgGBgQDBAYEBggDCAgGBgYICAgGCAgIBgQICAYICAgICAYIBAQGBggGBgYEBAgEBAgGAwYGBAgIBggDAwYDAwYIBgYGBgQGBgMDBgYIBAgGCAgGBAMICAYIBggGAwMIBggGCAQIBgYICAgGCAMGBAQGCAYICAgIBggIBgQGBgQEBggGCAQIBAQECAgDCAQGBgQGBgYGBgMECAQGAwYGBggGCAQGCAYGBgYIBgQEBAMGCAYIBggICAYGBAYIBgMEBAQGBgYDBAMGCAYDBgYEBggGCAgDBggGCAMIBAQIBgQGCAQGCAYICAYICAgGCAgGCAQGBAgGBAYDBAgEBAYGCAMGBgYECAQGAwgGCAYIBgMEAwYIBgMICAMDBgYGCAYEBggEBAYGBAgICAYGBggGCAYDBggGCAYEBAgECAQICAQECAYIAwYIBggIAwMEAwgDBgMDBggIAwYDCAgIBggICAQGAwgGCAQGBggGBgMDBggGBAMICAgGBgYEAwgEBAYEBgYGCAYGCAQICAgICAgICAYICAMECAYEBgMGBAgIBAgEBAgIBgYGCAYEBggGBggIBgMDBgYGCAgICAgGBAQEBgYIBgYICAYIAwYEAwgEAwYGBgYIBAYEBgYGCAQICAYICAYGBgQGBggDBgQGBgQGBAQGAwMGBAQGCAMIBAgGAwMIBgYGCAQIBAgEBAYGCAMGCAgIBAgGBAMDBgYEAwgICAQGBggGAwgIBggGBgQIBgMDBgYIAwgGBggGBgQEBAgDCAMEBAYEBgYEBgQIBggGCAYGAwgDBgQEBggDBgQGCAYGBgYGBgYDBAQECAYGBAMGCAgDBAgGBgYGBAYECAYEBgQECAYGBAYIBgYICAgIBAMIAwQDBggIBgYGBggDCAgECAYECAQGCAYGBAMIBgYDBAgEBggECAgGBgQDBAMECAMGBAgGBgQEBgYGAwMGCAgIBgQDBgYGCAYGBgYIBAYICAgIBggIBggIBgQGCAYGCAYECAgEBggGBAgGAwgIBgYDBAYGCAQGCAQGBggEBggEBggDCAYGBgQICAYIBAQEBggGBAMIBAQGBggIBggGBgYIBggEBAYIBgYEAwMICAYIBgYIBggGAwgGBggGBgYDBgYIBgYICAgGBAgIBAYGBgYGBgMIBgYEBAQIAwgGBAQICAMIBgQEBAgEBggIBggGBgYGAwYEBgYGBAgGBgYGAwYGBAMICAYGAwgEBggEBgQGCAgGCAgDCAgGBgQGBgQDAwYEBggGBggEBgYGBgMGBAYEBggGCAYGCAYGBAYGAwYGCAQIBgYDBAYIAwYDBgQGCAgEBgYGBgYIAwYICAYGCAYICAYIBAgIBgYGBgYGBAMIBAYGCAYEBggDBAgGBAYGCAYECAQIBgMEAwgIBgYGCAYIBggGCAgGBgYGBAYEBAgDBAQICAYEBAMECAgECAYGBgQGCAgGBggIAwgGCAYIAwgICAgDAwYDCAYIBAQDBgYDBAYEBAgGCAQIBggGCAYICAQGBgYGBAQGBgQIBgQDAwgIBgYIAwYGBggGBgYGBggGCAgICAQDBggICAgGCAQECAMDBgYIAwQIBgYGCAYIAwYECAQGBgYGBgMGBggGAwgGBAYECAQIBgQDBgQGBAYICAQDBggGBggICAYECAYGAwQGBgYEBgMGBggDCAQECAMECAYGCAMIBggIAwYGBgYGBAgIAwYGBAgICAgEBggGBgQICAYGBgYEBAgGBAQICAQEBAgGBgYIBggIBgMECAQICAQECAYEBgYIBAYGBgYIBgYDCAYIBgYGBAMIBAQGAwQIBggGCAYDBAgIBgYEBAQGBggICAYIBggEBAYGBggGAwYECAYECAMGBggIBgYEBggICAQGBAYECAQGCAgGCAQIBAQECAYIBggEBgYIAwgICAgDCAQGBgQGBAgGAwYGBAMGCAgIBgYICAYGBgYGBgQECAgDCAYEAwYDCAMGBgQEBggIAwQIBgYGCAYICAgGBgYIBgQDBgQICAgDBggGBgYIBgMGCAgGBgMICAYGBAYICAQGBgYGBAYGBAgDBgYIAwYIAwYEBggEBgYIBAgIBggGBggIBgQDBgYGCAMIBgMIBggDBgYGCAgGBgYIBgYEBAgGCAYICAQEBAgGCAQIBggICAgGBAMICAYGBggECAMECAYEBgYEBAYIBgQEBggGCAMGBggGBgYGBAYIBAgECAMGAwQIBggGBgMIBggGAwgECAgICAYIBgQGCAQEBgMEBAYDBAYIBgYICAQECAYECAYICAYGAwQDCAYIBggIBgYECAgEBAgEBgQIAwMDBggDCAQIBggEBgYGBgYICAQIBgYGBggICAgIBAQGBgYEBgYIBgMGBggIBgYEBgYICAYICAYGBggGBAgEBgYICAgGBggGBAYGCAMGBgQGAwgDCAQICAgEBAgDCAYIBgQICAYEBAQGBAYIBgYGCAQEBgYGBAgGCAYGCAgIBAgEBgQGBggEAwYGCAQICAYGAwgGBgQIAwgEBgYGAwQICAgGCAQGBAYIBgQECAgGCAQEBAQEBggGBAQIBgQECAgDBgQEBAYGCAQGBAYICAgEAwgGBAQIBAgICAgEBgQGBAgICAQGBAYGBgQIBggGBgMGCAQIBAYDBgYIBgYIBgMIBggDBgYEBAgIBAgICAQDCAQGBAYGBgYIBgYICAYGCAgIBAYGBggGCAgGCAgECAYGCAYIBAMGBggICAYIBAQGCAYGCAYDAwYIBAMECAYGBAYIBggIBgQEAwgGBggICAYGBggGBggGBgYDCAYDBgYGBggDBgYGBAYEBgQGCAQDCAYGCAYEBggGBgYGBggGBAQGBAgGBgYIAwgGCAgEBggGBAgICAMEBgYIBAYIBgYECAYGCAQDBAYGCAQDBgQGBgQIBgYICAgGAwgIBggIAwYGBgMDBAYIAwYIBgMICAgGBggDCAgGBgQGBgYGBgYGCAYIBgYGCAQECAYGBgQGCAgEBgMGBgYECAMGCAQEBAYICAYGAwgIBgYGBgYGCAgGCAgIBgMDBgYDCAgGCAgIBgQGAwgGBgYGCAYGAwYEBgQEBgQIBAgIBAQGCAYGCAYICAYGBAgGCAQDBgMEBgQECAQIBAQIBAYIBAgGCAYGAwQGBgQGBAQIBgYGBAgGAwMGBgYIBgQIBgYGBAQGBAYICAQGAwYGCAgIBggGBgYICAgIAwgIBggGCAQEBggDBgYICAgIAwYGBggDBgQGCAMIBAYIBAYIBgYIBgYICAYIBAYECAMDBgYGBgMIBAYECAgGCAYGAwYIBgYGCAgGCAgIAwYGBAMGBgYICAgGBAQIBAgICAYGCAgECAYGCAgDBgYGCAYIBAQIBggGAwQIBggIBgYDBgQDCAgEBggIBggGBgQICAQGCAgECAQGBggEBgYGBggGAwYECAQDCAQEBAQICAYEBgYGCAgEBAYDBggICAQEBgYIBgYGCAQECAYGBAMIBAQIBgYIBgQICAQGBAQGBggGAwQGBgQGCAQIBggECAYGCAYDBgYDAwYIBggIBgQICAgDBAgGCAQICAgGBAQICAgIBgYGCAgIAwYGBggECAQICAMDCAQEBgYICAgIBggECAYGBgQGAwMGCAYGCAgGBgYIBgQGCAYIAwYGBAYECAYEBgQDBgQICAYGBgYIBAYEBgYECAYGAwQGBgYGBAYGBAYGAwYDBAgECAQGBgYIBAYGCAYEAwYGBggIAwMGCAgIAwYEBAgGBggGCAMIBgQIBAQGCAgDBAQIBgYGBgYGBAgEBAYIBgYDCAgIBgQDBgYGAwgIBAMEBgMEBAgGBAgICAQIBAYGBAYEBAYGBgQEBgYECAMIBAQEAwYECAYECAgGBAYGBAYGAwYIBAgIBAgIBgQGAwYICAYECAQIBgQIBAgIBgMIBgYICAYGCAYGBgYEBgYDBggIBgYGBgYGCAQGBgMGBgYICAYGAwgDBgYDBggIBgYEBggIBgYGBgYEBAMEAwQEBAgEBAQIBgMICAYICAYGCAYDCAgGAwYICAgICAYIBgMEBAYGCAQGCAQEBgQGCAQGBgQECAYICAYICAYECAYICAYGCAQDCAQEBgYICAgDCAYGCAgEBgQDCAYGBgMEBggDBAgIAwgEBgYEBAYGBgMGCAYEBgQIBAgIBggIBAgIBAQGBgQIBggIBAgGBgQGAwMECAYGBggICAgIBggICAgGBgQEAwYICAYIBgYGCAYEBgYGBAYIBAQDBgYIAwYGAwYIBgYICAMGCAgEBgQECAQECAYEBggIAwQGBggGBgYECAMGBAYGCAYGCAYIBgYGBAYEBggEBgYGCAQGBgYGBAgIBggDCAQGCAgGCAMGBAMEBggIBAYICAgGCAQICAgEBAYGBAYGCAYIBggIBAMICAYIBAgGCAYIBAYGBAQGCAQEBAYGBggGBgYIBAgIBgQGAwYGBgQGBggGBggGBAgGBgYICAYIBgMGAwYIBgQIAwYGBgQIBggIBAgEBgMEBggGBAQEBgYIAwYGBAYGBggDCAgDBgYGBggGBgQGBAMEBAYGBgYGBgYGCAQGCAYGBggGCAgIBAgIBgYGAwQDBAYGBgQGAwMICAQGBAgGCAgECAgGBgMGAwQIBAYGCAYDBgMEBAYICAgIBgMGBgQDCAMIBgQIBgQGBAQGBAYEAwYGBggIBggIAwgGCAQGBAYGBggDBgQIBggIBAYGBAYEBgYEAwQGCAYGBgYGBgYIBgYGCAQGCAQDBgYGBgYIAwgIAwgEBAQEBgYECAQIBggDCAYECAgGBAgDBgYIBAQGCAgGCAQGCAYGCAYDCAgICAQIBgYEBAMIAwYEBgQDBggGBgYGCAYIAwYGBggGBAgICAgGBAMEAwYGBAYGBgYGAwgGBggIBAYDAwQEAwYGBggEBgMDAwMGCAQGBgYGBgYECAYICAQDCAYECAQIBggGBgYGCAgGCAYGCAYICAYECAQGBggECAYEBAMGBAQGCAQGBgYICAYGBAYGCAMIBgYECAgEBgYGBggGBgYGCAYGBgQDBgQDCAQIBgYGBgYICAgICAgIBAgGBgQGBggEBgYICAMIBggGBggICAMIAwYDBgYDBgQEBgMECAQEBgYGAwYIBggGAwQIBAgIBAMDBggIBgYGBggIBgQGCAgIBgYECAQDBgYGBgYGBgQEBAQDBggICAYGBgMGCAYIBggDCAMICAYDCAQGBgQGBAQEBgQGBggEBggEBAgGBggICAYGBggGCAYECAMGCAQIBAgIBAMIBAMGBggIBAYGCAYGBgYEBAYIBAgECAYGBgYIBggEBgYEBgYIAwgDBAgGCAYDBgYEBgQICAgEBgYGCAYICAYECAYGBggICAgEBgQIBggGBgYECAgGBgYECAQGCAgGCAYIAwYEBAYGCAYGBAYECAgIBgMGBgYIBAQGBggGBggICAgIBAgGBgQDCAYDAwYGBggICAMGBgYGCAYGBAYGBAQGBgYGBgYIBgQIBgYGAwgGBggGBAYGCAYGBggICAgEBggIBAgIAwYGCAYGAwQGCAQECAYIBAYIBggEBggGCAYIAwQICAgEBgQGCAQEAwYGBgQGBAYEBAgGBggGAwQEAwMIBAQIBggEBAgDCAgEBgYIAwgGCAYIBggGBAgEBgQDCAYGBAgICAYDBAQIBgYEBAYEAwQIBgMIBAYGCAMIBgYGBgYDBAgGBAYECAYIBAQICAYICAYEBgYGAwYECAMDBgYIBgYGCAYGAwYIBgYIBAYEBAQDCAgECAYGBgYDAwgDBgMGBgYIBAQICAgGCAYGBgYIBAYEBAYGBgQICAgIAwYGAwMIBAgGBAMGAwgEAwMEAwgECAYICAgGBAgGBAgGBgYECAYIBgQEBgYIAwYGBAYEAwYEBgQIBgQGBggGAwMGCAgECAYIBgMIBgMIBAYICAgGCAYICAQGBAgEBgYIAwgGCAgECAgGCAYICAgIBgYEBAYECAQGBgQEBAQEBgYIAwYGBAQIBgYIBgQIAwQICAYIBggGCAgDAwgGAwgGBgYICAYGBggICAYGBgYGBggIBAMECAQDBgYICAgGCAMGCAYDBggGBgMECAgEBgMGCAgGCAgICAYIBgYGCAgGBggECAYGBAYIAwYGBgYIAwgIBAgGCAgIBgYGBAgGCAYDBAYIBAYGBAYDAwgIBggGCAYECAQGCAQDBggICAYGCAYDCAYGAwMGBAgGCAgIBAYGCAMIBAgIBAgECAgGBgMGCAgEBgQIBgQGBAYGCAYGBAMDBgYGBgQEBgYIBAgEBAQGCAYGBgYGBgYGAwgIBgYGCAYGBggGCAMECAYGBgQGCAYEBgYEAwYIBgYIBgYEBAMIBAYEBgQGCAYDBAgIBgQGCAQGAwQGBAgEAwYDCAYGBggGAwgIBggEAwQDCAYIBAYIAwQGBggICAMDBggDBAYEAwgICAgGBgQGBgQDBgYGBAQICAYIAwgEBgQIBgYGBAYEBAMIBAYGBgMGAwgICAYGAwQGCAYGBgMEBggEBgQGAwQIBgYDBAYGCAYIBgMIBggIBAgIBAQDCAgEBggIBggGBgYEBgQGBgYGBAYDBggICAQDBgYGBgMGBAgICAYECAYIBggGBgYGBAYEBgQECAQGBgQGBggGCAYEAwQEBAgDBgYECAYGBggGAwQIBggEBAgICAMIBggICAQGBgYDAwgGCAYGBgQIBAgGBAYEBgYIBggGCAQECAYGBgQEBgYDBgQGCAYGCAgGBAgDBgQEBggIBAgDCAMGBggDAwYGBAYGAwQGCAMICAQDAwgEBgMIBgMICAYIBgYDBAYDBgMGBgYICAYIBggIBgYGBgYECAgGCAgIAwgDCAYIBgMGBggGBAgEBggGBAYEBgYDBAgIBgYIBggICAMGBggGCAYDBggGCAQGBgQGBAYDBgYGBgYGAwMDBgQGAwYECAMIBAYGBggDCAYGCAgICAMIBggEBgYIBgYEBgMIBAgDBAgECAgICAQIBgYGBggGBgYEBgYIBggGBgYEBgYGBAgIBggGBAYGBgQGCAYIBggGCAQGBggECAgGBAgDBAMIBgYGBggIBgMGAwgEBgYIBgQDAwgGBggEBgYGBggIBAgIAwYEAwgIBgYGBggICAgIBAYIBAYEBgYEBAQGBAYGCAMIBggGBggECAQEBgYGBgYGBAYDBgYGBgYEBgQECAQEBggIBgMGBgYEAwgIAwgICAYGCAYIBgQGBAQGAwgICAQICAQGBgYGAwQGAwgIBggEBgYICAgGCAgGCAYIBAYGCAMIBgYIBggEBgQGCAgGBAYGAwgECAYGBgMGBgYIBAgECAYIBgYEBgYGBgYDBgYEBgQECAYICAYGBgYGBAYGBAYICAQECAYGAwQGCAgGBgQEBgYEBggGBgQDAwYICAYIBAgGBggDBgQIBAMGBgYIBAYIAwYGCAYICAgIBAYEBgQDCAYIBgQGBgQIBggDCAQEBAQIBggICAMEBggIBAgGBggIBggGCAYEBAQICAMEBggIBgQGBggIBgQEBAgIBgQIBggIBAgIAwQIBgYGBAQIBgYICAQGCAMGBgYGBggGAwYDBAgGAwYEBAgIBgYEBgYIBgYDBAgGBgYEBggICAgECAgIBAgEBgYICAQGBAgIBgYGBAgGBgQECAYEBggEBgYIBggGBgYGBAQDBggGBgYEBAYGBAYGAwgGBgYGBgYEBgQIBggICAYDCAgGBgYECAYEBgQGBAgGCAQEAwYGCAYIBAQGBAYIBgMGBgMIBgYGBgYGCAgICAQECAYGAwMIBgQECAQECAYIBggGBAgGBggECAYDCAgGCAgGBgYGCAQGBAYICAMICAgGCAQECAYIBAgIBgYDBggGBAYGBgYECAYDBggIBgYECAQEAwMEBggEBgQICAYGCAgIAwgGBgYGCAQEBAgGCAYGBgYEAwYGCAYGBAgICAgIBggEBgYICAgICAQGAwgGCAgGBAYGAwgGBAgICAgICAMGBgYEBggGCAYDBggGCAQIBgYGCAgGAwYIBgYIBggGBgQDAwYDBAgIBgMIBgQGBgYICAYEBgQIBgQICAYIBgMGBgYGBgMECAgIBggECAQIBAYICAYIBgYGAwYDCAYICAYGCAYIBggDAwMEAwMGBAgGBggIAwYGBgYGBggIBgYGBgQIBggGCAYDAwQGCAYEBggECAYIAwYGCAYGCAYIBgYGBAYGBggDCAMGCAgGBAMECAYGCAYIBgQDBAYDBggECAYICAgGBggDBAQGCAgEBggEBgYEBAgGBgQIBAYDBgYGBggDCAYIBgQECAgIBggGBgQGBgYGBgMGBggDAwMICAgDBAgEBgQEBAYEBgYICAgIAwMIBAgEBgMICAgICAQEBAgGBgYDBAgECAgDAwYGBggICAYIBggDBgYEAwYDBggEBgYEBgYGCAMGBAQIBAYGBggIBggGBggDBgYECAYIBgYGBgMGBggDBgMECAQGBggGCAMGBgYDBgMIBAgGBAQECAYEBgQGBAgEBAYEBgQGCAQICAMGBAMGBAQDCAYGCAgIBAgGBgYIBgYDBAQIBgYIAwQGBgYIBggICAgDBAYEBAYICAgEBgMGBAgEBAQIBgYGCAgICAQGCAgGBggEAwgEBgYEBgMDBAYGBgQDBgYIBgYICAYGCAYICAYGCAgGCAQGCAQECAYGBgQEBAQICAYIAwQIBAYGCAYGBgYGBgYGBgMGBgYEBgQIBAYIBgYEBgYGCAQIBgQGBggEBggGBAQIBgYIBgMICAgGAwYIBgYGBAYGBAQGBgQIBAQGCAMICAgEBgQIAwMGBgQIBggGBgYIBgYDBAYGBgYGAwgDBAYIBAgGBgYIBgMDCAgIBgQGCAYIBgQGBAYEBgMGBgQGBAQEAwYICAYIAwMEBAYDBAYIBAQGBAYICAgGCAYGBAgIBgYGCAQIBgYGBgMEBAgGCAYDBgYGBgYGBgYGBAYGCAQGCAgGCAgGAwYGAwMDBAgECAgEBAYGBgYGBgQDBgQDCAYIBAgGBgYIBgMGBgYIBgYIBgYIAwMEBAgECAQIBggGCAgGCAYIBAgGBggDBAgGBAQEBggEBgYICAMIBgYGCAgGBggEBAYIAwQECAgEBgYECAgICAgICAQGBAYGBAgEBAgIBgYIBgMECAQIBAYIBggDBgQGBAYGAwgGBgYDBggIBAgIAwYDBAQEBAYICAgGBgQGBAMGBAgGBAQEAwYGCAYDCAYDBgYGCAYICAMICAYGCAQGBgYGCAYICAgEBgQGBgYGBAYGBgYGCAYGBAYECAgEBgYGCAYGBggIBggICAgICAMECAMIBggGBgYGCAYGCAMEBAYEBgYGBAgGCAYEBAMGBgYGBgYIAwYEBgMEBgQGCAQEBAQDAwYGBggICAgGBgMGBgQIBgQGBgYGBgQICAgIAwMIBgYDBAgEBgYIBgQGBAgGAwgGBAQGCAgIBgYGBggGBAYECAMEBggGCAQEAwYIBggICAgEBAgGBgYDBgYGBggGBggGBggICAgEBAYIBgYEBggEBAYIBgYICAYGBgYICAgGCAQDBAgGBgYDBAYECAYGBggIBggGBggGBgQICAQGBgYGCAYDBggGCAQIBggDBggIBAMGBAYDBgQECAYIBggIBgYECAgIAwgIBgQGBgQGBAYIBggEBgMIBgMGAwMDBggGBAYDCAgDCAMICAYEBggECAQGBAgIAwMGBAgDAwgEBAgIBAYGBgQEBgYIBgYIBgYDCAQGBgYIBgQGCAYEBgMEBgMIBgYIBgYGCAYIBAYIBAgIBAgGAwYGAwQGBAMGBgYIBAMGAwYGBgYECAYGBgYGAwYIBAYDBgYDBAYGCAMICAYDBgYICAgIBAYGCAQGCAgECAgIBAQDAwgICAYGBAMECAYDCAYEBAYGBAgGBAYGCAYGBgYIBgYGCAQDBggGBAYICAYEBAQDBgQDBgYIBggGAwYECAgICAYEBAQGBAgGBAgDBggEBgYGBAYICAYGBgMDBgYICAQECAYIBgQGBgYEBgYEBgYIBgYDCAgEAwQGBgQIBggDCAYICAgDAwYGCAMIAwQDBgQICAYECAQGCAgGCAgICAYDBgYIAwYEBggGBAgGBgQGBgYGBgMDAwgGCAgGBAgGBgYIBggGBgYIBgYIBAQIAwgIBAgIBAYGBgYECAgGBgYGAwQEAwgIBggGBAMICAYGBgQDBgYGBAMGBggECAYIBgQDBgYGBgYGBAYEBgMIBAgDBAYGBgYGBgYGBAgGBgYEAwYDBgYIBggIBgQGCAYICAgDAwgDBggIBggEBAYIAwYICAYGBggEBAYICAYDAwYGCAYGBgYICAgGBgMGBgQECAgIBAgGBAYDAwYGBgYIBgYGBgQEBAYECAYIBgYECAMGCAYEBAgEBAgGBggGAwgGCAQICAQEBggIBAYIBAYGBggEAwQIBgYIAwYGCAYEAwgGCAMGCAYEBgQIBAYGAwgEBggECAYGCAMEBgQGCAYEBgQGBgMGBAMDCAgIBgMIBggEBgYEAwQEBAgIBAYDCAgECAQGCAMECAgECAYIBAgEAwYGCAYGCAgGBAYEBgYGCAMIBgMIBgYIBAgDBAYGBgQIBggGAwYGAwQECAYIBAgIBAMIBAYDBggIBgYIBggDAwQIBgQEBgYDCAQEBggGCAYIAwQICAMICAgICAgICAYIBAQICAQIBAYICAYEBAgGAwQICAQECAgIBggGBAQGBgQEBAQIBgYGBggGBgYIBgYGCAQIBgYGCAYECAYDBgYIBggIBggEBgQGBAYECAgGCAYGBgYGBgYICAgECAgGBgQIBAYEBgYIBAMGBgYGCAMEBAYIAwgIBgYDCAgEBggGCAgEBgQGBgYGBAgGAwMGBgQICAYICAYECAgGBgYICAQIBgYECAYGCAYICAYGBgMEBAgGAwYEBAYIBgYEBgYGBgYEBggGBAQGAwYGCAQECAQGBAQGBgYGBAgGBggIBgYGBggECAYEBAYGCAgIBggGCAYICAMIBAMIBggGCAYEBggGCAgGBAQICAgDBAYGBgYGBggIBggGBgQDBAMGAwQEBgYEBgYEBgQIBggEBgQICAYIBgYIBgQICAYIBgMDCAYECAYIBAYGAwgGCAYIBggGCAQGAwYGBAMIBgYGCAgECAYGCAgICAMGCAQIBAMGBgMGBAgGBgYEBggGCAgIBAgGBggGCAgGCAgICAgGBgYEAwMICAgICAYGBAYDBgQGBAYEBAQGBggGAwgGAwYECAQIBAYIBAgGBgMDBgQGBAYGBggICAYGBgYIAwgICAgGCAgICAMGCAYIAwQDBAgICAQGBAQGBgYECAYGAwgGAwMGBgQGAwgEAwYECAYIAwgEBAYICAQIBgYGBggGCAgDCAgECAYGBgYICAQICAYIAwYEBgQGCAgGCAgGBAgIBggIAwQGCAQGBAYIBgQGCAYDCAgGBgYIBgQICAYEBAgGBgYEBgYIBggGBgYIBggGBggEBgYEBgQGBggGCAYEBgYIBgYECAYEBAYEBgYGBgYECAgGBggGBgYECAYGAwYIBgYICAYEAwYIBggIBAgIBAgIBgQDBAYIBAYGCAgGCAQIBAgIBggDCAgEBgQDCAgEBggIBAYGBgYGCAQGBggGBgYGCAMIBggGBAMGBgYDBgYIBgQIAwQEBgYGBAgGAwYDBggEBgYIBAgGAwQGBgMIBggICAgGBgYIBgQICAgIBAQGCAYECAgGCAYIBAYEAwQGBAgIBAYIBAYEBAQGBgYIAwYGBggECAYEBgQGAwgDBgQIAwYGBgYDBAgGCAYGBAYEBgYIBggEAwYEBAQIAwQIBggICAgIAwQDBgQIBAgICAgGAwYGCAYECAYECAYGCAYGBgYGCAQEBggGAwgGCAMECAYGCAQEAwYECAYICAYEBgQDBgYGBgYGBgQIAwMEBgYIBgYIBAYEBAgGBggEAwYICAgGCAQIBggGCAgDBggGBgQGBAYGBAgEBAYGBgMIBgYGBggGCAYDBAMDBggECAQGCAYICAgDAwQIBAQDBgYEBggIAwYGCAQIBAYIBgYECAYICAYGBgYGCAYDCAYEBgQIBAMEBgYGCAYECAQEBAYDCAYGBgYDCAYIBgYECAYGCAgIBgQIBggGBgYICAYGBAQEBAgGBggEBgYGCAYEBAYGCAgIAwgDBgQGBggDBgQGBgQGBgMEBgYGAwgDBAYIAwgIAwgGBgQGBgQGBgYGBAgDBAYIBAQGBAgGBAgDBgMIBAQIBAYEAwYGBgYDBgMIBggDBAYDBggIBggGBAQEBgYGCAgEBggEBAgGBggECAgGAwMIBAYGBggGCAgDCAYGCAgIBAYIBggGBAQICAgEBAgECAYEBAMGBgMICAYICAgEBggEBgYEBAQGBggEBggIAwYIAwYGBgQGAwQDBggDBAQGBgQIAwgGBgYGCAQIBAgEBAYEAwMEBAQECAYEBggIBAYECAgGBgYDBggGBggEBAQGBgYIBgYECAYEAwMGBAgGCAgEBgYGBgQDCAMIBgQECAQEBgMGCAgEBgYGCAYGCAYGCAYIBgYIBAgIBggIBgYGBgQIAwgGBAgGCAQIBggGBAYGBAYIBAYIBggIBAQIBggECAYIBgMICAMGCAYGBgYICAYEAwYGBAYIAwgEBgYECAgGAwgIBAYEAwQGBgQIAwgGBAQEBAYICAgGBAYGBggEBggDBAYIBAgGBggGBgQIBAMECAgGCAQICAgDBgMEAwgIBgMGBAgGCAMGBgYGAwQIBggGBgYGBgQICAgGCAYGCAMGCAQEBgYEBAgIAwgGAwQIBAYIBAYIAwgGBAYICAYGBAQGBgYIBAYDCAgGBggEBgYGBAgGBggEBgYECAYEBgYEBAMICAYDBggGBgYGBAYGBgYGBggDCAMGBgMGBgYGBgYGBgMGBAYDBgQECAYIBgYEBAQEAwQEBgMGBggDBggGCAYGAwYGCAMIBgYIBggIBggDCAYGBggGBgMIBgYGBggECAYGBgYGBgYECAQICAgIBgYIBggGBgQIBgYEBAQIBAYECAQIBgYGBgYEBggGBAgECAMIAwMGCAgIBAMDBgYECAYDCAgGCAYEBgYICAgEAwYIAwQICAgIBAYIBgQGBgYICAYGBgMICAgGBgMGBgYICAYGBgYICAYDAwQDCAQECAYIAwYEBAQDBggIBAgEBgQGBAgGCAYGCAYEBgQICAYGBgMECAQGBgQGCAMIBAMIBgQGBAgGBgYIBgYGBggIAwYDBAYEBgQEBggGBgYGBggGBggIBggDBAQGCAMGCAgIBAgIBggGBgQIBggICAYIBggGBgYGCAMGBggGBgQECAgECAQGBgYECAYEAwYEBgMGBgQICAgGBgYECAMGBgYECAQGBgYDBgYICAYGCAgGCAMICAgGBgYGBgYICAQIBgYIBggEBggGBAgGBggGBAgIBggICAgIAwgGBAYGBgYGBgQGCAgIAwgGBgYGBgQGCAMEBgYDCAMGBggEBAYIBgYEBggDBAMEBgYIBAQGBggGCAgDBAgICAgICAMIBAYEAwYDBAgGCAMGBgYIBgYEBggIAwYIBgQIBAYEBAQIBAYGBgQGBgQGBggGBgYICAgGCAQGBgYICAYGBggGBAMEBgYGAwYGAwQGBAgGBgYIBAYGBgYIBAgGCAgGBgQICAYEBAMGBgQIBgQGBAMGBggGCAMEBAgGAwMGBgMICAgGCAYGCAMIBgQGBggGCAYIBAYGAwYGCAYGBgYDBgYIBgYIBAQGCAgGBgYGBAgIBgMGCAgIAwYGBAYGAwYGBAYGCAgGCAYGCAgGBgYICAgDBggGBgQGBggEBgQGAwQICAgEBAMGBgYEBAgEBggIBgYIBgMIAwgIBggEBAMIBgYICAYEBgMGBggGBAQIBgMEBAYIBgYICAYIBgQGBgYDBgYDAwMDBAgGBgYICAYEAwYIBAYGAwgEBggICAQIBgYEBgYDBggECAYGBgYEBggGBggGCAgEBgYGBAQEBgYEBgYGBggDBgYIBggIBgYGBggGBAYIBAgEBgQGCAQIBggIBggGCAYGBgMICAgIAwYGCAYGBAQIBgQEBggGBAYGCAQECAQGBAQGBgMGCAgDBgMIBgQGBgYDBgMIBggICAYGCAgEBggGBggGBgQGBgYGCAYGCAgIBgQDBgYDAwgGBAYDBgYGBgYIBgYGBAYDBgMIBgYEBggGCAgEAwgGBAYGCAgGCAMICAMEBgYGCAQDBggICAgGBgQGBAQICAgIAwQDBAMICAgEAwgICAgEBgQIBgMIBgYGBggDBAQGBggGBgYIBgYEBgQGBggEBAYDBgYGBgYGBgYECAQIBAgEBggICAgEBgYGBAgEBggICAgDCAQIBgYGBgYIBgYGCAgEBAQIAwQGBgYIBggECAYIBggGBgQGBgYIBgYIBggIBAgGBggIBggEBgQDBAgGCAgECAgIBggGBgYGBgYEBAYEAwYGBAYECAgGCAgECAgDBgQDCAYEBAgDBgYDBAYECAgEBAQDCAgICAQGBgYGBgQEBgYGCAYGBgYDCAgGBggGBAQDBgYGBAgEBgYEBgYICAQDCAQDAwYIBgQEBgYDBgYGBAYIBgYGCAMDCAgICAgGBggGBAYICAQDBAQDAwgGAwMEBAYIBgQIBAMDCAYGBAQIAwYGBgYDBgQGAwYGBAMIBgQGBAYGBAgIBgYIBgYGCAgGCAgGBgYICAQDBgYECAQDBggGAwgGBgYGAwgIAwQICAQDBgQIBAQGAwQIBggGCAYICAMGBgQICAYDBggGAwYGBAYEBgQGBgYGBAYGCAgEBgMIAwMICAQIBggEBggIBggEBAgGBggGAwQGAwgIAwQGBgQICAMGBggIAwgIBggGCAQGBgYGCAgDAwYGBgYGBggEBAgICAYDBAMGBggIBAgGCAgECAYIBgQDAwgIBAQGCAgGCAQGBggICAMGBgYGBggIBAgGCAYIBAYIBAMGBgQDBggDCAYIBAYEBggDCAYGBgYGBggEAwgGAwQGBggIBAYIBgYEBgYECAgDBgYDBgYEBgQGCAYICAQGAwMGBgMEBgYIAwYIBAYEBgYEBAQDBAYGCAQGBgYEAwQECAYICAYGBgYIAwMGBgQECAYGAwYECAYGBgQGBgMEBgYEAwgGCAYGCAgGBgQDBggECAQECAQDBAQDBAgDBgYIBAMGBgQDBgQGCAYGBgYGBAgIBAYECAYEBgYGBAYEBgQECAYDBgYECAYICAgGBgYGBgQECAgGBgMIBAgGBAgGAwYGBgMGBAYICAYGBgQEBgYEBgQIBAgGBgMECAQIBAYICAYGAwMDBAMGBgMIBAgEBgYIAwYIBgYIBgYIBAYGCAYGCAMGCAgGBgYDCAYEBgQIAwMICAYEBAgEAwYEBggEBggGBAYGBAMECAgDBgYECAYIBgMGAwYIBgYEBggIAwgICAQIBggIBgQGCAgIAwYGBAgICAgGBgQDBAQICAgDCAgECAgGCAYGAwYIBgYGCAMIBgYGAwYEBAgEBggECAYGAwMGCAYIBgYEBAQEBAYGCAYEBAMEBgMIBgYEBAYDBgYDBggGAwgGCAYIBgQICAQGBAYDBAQIBgYECAgDBggIBgQECAgDBggICAYEBgYDCAYGCAYGBAMGCAgEAwQIBAQICAYGBAYEBAYGCAgIBgYIBAQGAwQGCAgGBAYGBgQGBAYIBggIBgYGAwMIBgQEBgYDCAgGCAgECAMIBAQGAwgGCAgIBgYGCAYGBgMGBgYGBggGAwQDAwYGAwQGBgQEBgQECAMGBgMGAwYICAQGBggDBAYGBAgGBgYGBgYDBAgIBAMIBgYECAYIBgYGBAYGAwgICAgDCAMIBgQGBAQDBAMIBAQICAYIBggGCAYGBgYDBAYGBgYGBggICAgGBgYGBgQIBgQIBgMIBAQGAwYGAwQGBAgICAQECAYECAQIBAgGAwYGBgYEBAYDBgYDBAgEAwMIBgYEAwYGCAQDBgQECAYGBggEBAgGBgQGBAgEBAMGBggICAgICAgGBgMICAYGBgYIBAYGBggICAgGBgMGCAgGBggDBAQEBAYGBgMGBgYGBggGBggDBAQGBgYIAwMIBAgGBAYEBAMICAgICAgICAYEBgYGBAYIBgYGBggGBAYEBgYGBgYGCAgGBgQGBAYEBggGBAgDBAgEBggICAgIBgYGCAMDCAgECAMEAwYICAgGCAYIBgQICAYEBAgIBggGBggGBggIBgYEBAYDBAgIBggIBAYDBAQGCAYGBAQIBgYGAwgEBgQGBgYEBgQGBAYICAgECAYGBAYECAQGAwgECAYICAgICAQGBgYIBgYEBAYECAgEBgYGAwgGCAQDCAMDBAgGCAYEBgMEAwYIBgYGCAYGBgMEBgYIBggIBAYDCAYGBgYIBgYGBgYGBggDBAgDBggECAYEBAYEBgYGBgMEBgQDBgQGCAgGBggICAMGCAgGBAYIBgYICAgICAgGBgYIBAQEBAMGBgYGBggECAgEBggEBgYDCAYGCAgICAQICAMECAYDAwgICAYGBAYICAgEBgMIBgYIBgYDBggEBgQIBAQGCAQECAYDBgYGBAgIBggEBAQEAwYEBAQIBAgEBAQDCAYDBgQICAQICAYECAgGCAYGBgYIBggGBgMDBgYGBgYEBgYGBAQECAQGBgYGCAYGCAgIAwgDAwgDBggEBgYIBgYGCAYIBAQGBgYEBgYGBAgIBggGAwgGBgQIBggEBgYGBgMGBAYECAQGBgMGCAMGBggGBAQEBggGAwYDBggGCAgGCAYECAgECAYDCAQEBgMICAgEBgMEBAYGAwYGBgYGCAYIBAYIBgYEBAYGBAYECAYGBggDAwQGCAYICAYGBAYIBAYEAwMGBgYEBAYGCAgGBgQIBgYGBAYGBggEBggGBgMECAQIBggGCAgECAMDBAQIAwYIBgQGCAYIBAYIBggGBggGCAgGBggDBAgICAYDCAMGBAQEBgYGAwgIBggIBAYGCAMIBggGCAYIBAYECAQGBAYDAwMEBgYIBgYIBgYDAwQDBAQDBggGBggGAwYICAgDBgQGBggGBgQIBgYIBgYGBAgGBAMEBAYEBgQDCAgDBgQGCAgGCAMICAYIAwgGBAMGCAYIBgQIBAQGBgYICAQIBgYGBAYDBgYGBgYGAwQIBgYGBAYGBgYEBAgIBgMGCAYGCAQGBgQGCAYGBAQICAYICAYEBAYEBggGAwYICAYGCAYGBggGBgMICAQGBgYEAwYDBAQICAYDBgYECAYIBgYEBgYGCAMIBgYIBAgGCAgIBAgGBAgGAwYDCAQDBgYGBAMDBggGCAQEBAQEAwYEBggDCAgGBgQGBgYGAwgGCAMGBggGBAQGCAQIBgQGCAgGCAQGBgQIBgQIBggDBAQGAwYIAwYGBAgIBgYGCAMICAgGBggGBgYDBggIBgYGBgYGCAQDBggGBgYGBAYGCAgEBAYECAYICAYIBgYIAwgDBAgGBggIBgYIBgYEBgQGBgYDCAYEBAYICAQIAwYGBgYICAYDBggGBgYGBAgGCAMGBgQGBAgIAwQIBgYGBggGCAgGAwgGBggDBAgICAYGCAMGBggIBAgIBggDBggGCAgGAwYGBgYICAgEBgYGCAgECAgICAYEAwQGBAQGBgYIBgYIBggEBgYGBggIBggICAYGBgYEBAQICAQEBAQDBggIAwgIBAYIBgMGBgYGCAYGBgYEBAgIBAYECAYGCAgEBgYIBAQICAYEAwYEBggICAYIAwMIBgYGBggGCAYGCAYIBAQGBAYIAwgICAYDCAYIBAYIBgQICAgGBAYGBgQGCAYIAwYICAMEBgYGCAYIBggICAgGBggGBAYGBggDCAYGCAYGBgYGCAYGBgQDAwgICAgGBAYGCAgECAgIBggECAMIBAgGCAgIBgYGCAQGBgMIBgQGBAYGCAQGCAQDCAYDBgYIBgQDCAgGBggICAYGCAYICAYICAQGBAgEBgMEBAYIBgYIAwYGBAYEBAYIBgYGBgYGBAYGCAgICAQEBgYEBAYEBgQIBgYIBAQDBAQGBgMGBAYIBgMIBgYEBggGCAQEBAgGCAYGBAgGCAYGCAYICAQIBAMICAgIBAgEBgYGAwYIAwgGCAYDBAgGBggIBAMIAwQGBgYICAYGBAQICAgIBgYICAYEBgYDBgYGBggICAQDCAQEBAgIBggECAYDCAYICAQGCAgGCAQEAwYGBgYDBggEBAMIBgQEBgYGBgYGBggEBAYICAYIBAgECAgGBAQDCAgIBggGCAQIBggGBAgGBAgICAgGCAgEBAgECAgGBggEBgMGBAQICAQIBggGCAgGBgYDAwgGBggGBggECAYGCAgEBgYIBAYIAwgEBgYGBAYGBgYDBgQGBgQGCAYIAwgGBgQIBAgICAgECAQGAwgGBAgGCAQGCAMGCAQEAwMICAMIBggEBgYGCAgGCAYGBgMECAYGBgYEBAYIAwMIBAgGBgYEBgYEBgYIAwQDBAgGBgQECAgEAwYIAwgGBggGAwQGBgYGCAgECAYEBAMEBgYIBgYGBAMIBgYIAwYGBggGCAYICAQGCAYECAgIBgYGCAYGCAYIBAYEBggGBggGBAYGBggECAgGBAgIBggIAwYECAgIAwYEBAgGCAYGAwgECAQGAwQGBAgGCAgGCAQEBAYGBgQDCAQGBgYGBggDBAQICAMIBgYEBggICAQIBgYGCAgGBgYGCAgECAQIBggGCAgECAQGBggIBAYIBgQICAQGAwYIAwQIAwgGBggIBggEBgQGCAYICAgGBAgGBgQGAwYIBggGBgQICAMDAwQIBggIBgQGBgYECAgEBAgEBggGCAQGBAQGBgQGCAYEBAYIBgQEBggDBgMIBAYECAgGBgQGAwYGCAMIBgYIBgQGBAMGBggGCAYEBgYGBggECAYEBgQIBgYGBAQEAwYIAwgIBgMGBgYDBgMDBgQGBgYIAwYGCAYGBgMGCAMICAYGBgQGBAYGBggIBgQIBgQGCAYDBggIBgMGBAYGAwYIBAMGBAYIBgQGCAYGAwYDBggGCAgIBAYEBggGCAYGBggDBAYICAQGBAQGBAYIBgYEBgYGCAYEBggGCAQGAwgGBgYEBAYGCAYEBAQIBgQICAYDBgYEBggEBggGBAgEBgMIBgQICAgIBAYDBggIBgQDBgQIBggICAYEBgQICAQICAgGBgMGBgQIBAgEBgYGCAMGBggDCAQEBAYGCAgIBgYDBgYEBggIAwQGCAQGBgYIBgYECAgGBAYGBAgECAYGCAQIAwgIBgQIBgQGBgMEAwYGCAgGBAgEBggECAgGBAgIBggECAYEBAYGCAYGAwgDCAYDCAYGCAgGAwYICAgGBgQGCAYGCAYIBgMEAwYICAQEBgYIBgQIBgQGCAYGCAYECAQGBggECAQIBgQICAYDBAgEAwQICAQGBgQGCAYEBAgGBgYIBAYGBggEBgMIBggEBAgEBgYIBggEBAgIBAgIBAYDCAYGCAgICAMECAYIBgQGCAYIBgQGBggIBgYEBggGCAYGAwQIBAYEAwgICAgIBgYICAQEBggIBgYGBAYGBgYECAQECAgIBAgIBgYGCAYDBgYEBAYGBgQIBgMICAgIBgYDCAYGBAgIBgYIBggGCAYGBgQIBAYIBAgICAYGBAYDCAgEBggGBgYEBggGAwYIBgMIBgYIBAMGCAYGBAgEAwQIBggIBgMDCAgGAwgICAgGCAQGBgYGBgYGBgQGAwYECAYIBggDBgYICAYDBAYGCAYIBAQGBggIBgYIBgYDCAYGBAMEBAMGBgQGCAYGBAYGBgYDBggEBggGBgYGBAgIBgYDBAgGCAgGAwMEBgQDBggGBgQEAwQGBgYDBggDCAYECAYECAYDBAYDBAgEBgQGBAMIBgMGBgQGBgYICAgIBgQIBAQIBggGAwQEBAYGBAYIBAYGBgQDCAYEBgYIBAgEAwgECAgGCAQEBAMDBgQDBAQDBAMDCAYIBgYGCAYGBAgIBgYICAQGBAYGBgYGBAgEBgYDBgQIBgYDBgQEBgYGBggICAYGBAQGCAQICAYICAYIBgYEBAYGBAgDBAQEBAYDCAYGCAYECAYGBAYGBAgEBggGCAYEBgYEBggGBggGBggGBggGBgQGBgQECAYECAYGCAgIBgQGBggIAwgGCAYICAYICAgDBggIBAQIBgMIBAQDCAYICAYIBAgGBAgEBAQGAwQEBggIAwYIBAYGBggGBgYGBgQGBgYGBgYIBgYECAYIBAQGBgYDCAQGCAgDCAQIBAgGBAMICAYIBAgIBgQGBgMICAYGBgQEBgQIBgYICAYICAQEBgMICAYGCAQIAwMEAwYGBgYDCAYGBgYICAYGBggGCAQGCAYIAwgECAgICAQGBggECAgIBgYGCAYIBgYGBgYGCAgEBgQGCAMDAwYEBAYGBAgICAYGBggECAQECAgGBggGBAYIBggEAwYGBAgGAwYGCAgEBgYGBggICAYIBgMICAYEBAYECAMDBAgIBggGBgYEBgQICAYIBgMGBgQGAwYICAgDBAgGBggGBggEBgMIBAQGAwQEBgYIBgQECAYIBAYEBgQEBgYGBggGBgYIBggGBgQICAgIBgMGBgMGBAgIAwYICAgICAYGBgMDBggDBAYGCAYEBggICAQGCAQEBgQIBAYGCAYIBAYICAgICAgICAgIBggIBggIBggEBgYEBgQIBAQGBAYGBgYIBAQDBAgDBggGBgQEBgMEAwgIBgMIBgYICAYGBgMIBAYICAgIBgYGBggIBAgIBgYIBgQGCAYGBgYICAgICAMGBgQIBgYIBgMGBAgECAQGAwQGAwQDCAgIBgYGCAgEBAgDCAgEBgYIBggGBggDBgYDBgMGCAYECAYGCAgGCAMIBAMEBggGCAYEBgMEAwgGBgYIBAgGAwMEAwgGBgMIAwYIBgMIBgYIBggECAgIBgQDBAYGBgYICAYECAMIAwMIBgMECAYIBAYIBgYGCAgIBAgEBgQGCAYIBAYEBgYGCAYIAwQGBgQDBAgGBgYIBgMGCAgGCAQGCAQDCAQIBAgICAYGBgYICAQDBAQGBAgEAwYECAYGBgQIBgYIBgYIBAYGBgQIAwgGCAgDCAYDAwYGBgMGBAgGBAYGBgMGBAgIBgMECAYEBAYEAwYIBggGCAgICAYDCAgIBggECAQGCAYDCAMICAYDBAgDBgQIBggGCAMGBggIBgQECAgGBgYDCAYICAYGBAgIAwgGCAQGBgQIBgQGBgYGBgYIBAMECAYEBgQGBgQICAYGAwgGBgQGBgYIBAYGBggGBggDCAYGCAQGBAYGBgMIBAYIBAgEBgYGAwgIBAYEBAgGAwQIBAQDBggICAYGBggGBggIBAYGBggGBgMIBAYDBgYIBAYGBgYIBgQGCAgGBAgGBggGBgQGBAgEBgQICAgGCAQGBAQIBggIBggECAQGBAgGCAgGBgYIBggIBAQGBgYDAwgDAwgICAYICAgGBgMDCAYGAwgEBgYECAQGBggECAQECAYEBgYGBgYGAwQIBgQGCAQEBAgGCAgGBggIBggGBggEAwMDBAQIAwgIBgMDBgYEAwQICAYIAwMGBgQEBgQEBgQEBgYDBgYGBgYGCAYEBggDAwgDBgQEBAYEBggGBgYIBgQIBgQGBAMGBAgDBAYICAYEBggICAYGCAMIBggGCAQIBggEBAYIBggEBgYICAQIBgYDBggICAYIBAQIBAYEBggEBgYGBAQECAQIBgMGBgYGBAMIBggIBgYIBAYIBgYIBgYIAwgIBggIBgMGCAYGCAQGCAYIBgYGCAYIBAQECAQGCAgGBAYIBAQICAQGAwgGCAQGCAYGCAMEBgYGBAgDBgQICAYICAgGBgYGBggIBgYIBgQGBgYEBggDBAYGBAgIBgYGBgQGBggIBgQGBggEBAYICAMICAQECAQEBggICAQIBgYGBgYICAMGAwYIAwQEBgYEBggGAwgIBgYGBAYGCAYGBgMEAwYDAwQGBgYIBgYIBAQIBAYGBggDBgYGBAgGAwgIBAQIAwgICAQIBgYIBggGBgYIAwYGCAgICAYGBAgEBAgIBgMIAwQGBgYGCAYEBgMGBgYGBggIBgYGBAgICAYDBgYGBgQGBAMGBAQIBAgIBAYGBAQGBgYECAYGBggGCAQECAYGBgYEBAgDBgYECAQGCAQDCAYDBAYICAgGBgMICAMIBAMGCAgECAYDCAYIBAYEBAQDBAQEAwgGCAQEBAYIBgYIBggGCAgGCAYGCAQIBgMEBgYDBAYGCAYECAYGBggIBggEBgYGBgYEBggGCAgEAwgIBAQEBgQDBgYGBgYGBggEBggICAYGBAYIBggECAgIBgYGBgQGCAYGBgQGBAgIBgYEAwgGBggDBggIBgYEBgYIBgMGBgYIBgYICAgEAwYDCAgDBAQDBggICAgIBgYICAYIBgQDBgYICAQGBgYGBgQDCAYGCAgGBAQGBAgGCAgGBAYIBgYDCAgECAYGCAMIAwYGBgYGBgYGBgYGCAQECAMIBAQDAwMGBggICAYDBgYICAgECAQECAYECAYIBAgGCAQIBAYIBAYDAwYGCAMGBgQGBgQIBAMIBgMIBggIAwQEAwgGCAYGBgYEBggECAgIBgYDBggGCAQIBAgGCAYGAwYGAwgIBgYGBAYGCAMIBgMGCAYGBgYGBgYGBgYGCAgIBgMEBAYIBggICAMEBgMICAgICAMECAYICAgIAwYGBggGBgYDBgYIBAQGBggEBAYGBgYIBgYICAYEBggIAwYGBAQDAwYDAwYGCAYDBggGBgMEBAYECAYGBgYGCAgIBgYGBgQGBgYGCAgICAQECAgGBgYGBggDBgMEAwgIBgYIBAgEBgYDBggEBAQGBggGBAgICAQGCAgDCAQIBggIAwYGBAgGCAgEBgMGCAQECAYDAwMEBggIBgQGBAYIBgYGBgYIBgYICAYEBgYEBAYIBAgGBgYGCAgIBAYDBggIBAMICAYGCAYICAgGCAYDCAYGBgYEBggEBAgIBAQICAYEBAYGCAgGBgMDBgYIBggECAYIBggGCAMIAwQIBAgGBggGBggEBgQIBAYGCAgIBAYECAQGCAYGBAQEBgYGAwYGCAgEBgYDBAYGBgQIAwYGBAQECAgGBggGBAQGBgMIBAYIBgQECAYEAwMGAwQEAwgDBgYGBgYECAYEAwYIBgYGBgYIBAYGCAMIBgYIBAgGAwgEBgYGBgYGBggECAgECAgIAwYICAYICAgGCAgGBgQEAwgGBgYGBgYICAYIBAYIBgYGBgYDAwYIBgYGBggIBgYIBggICAYEBgYGCAYIBgQICAQGBggICAgDAwQECAYGBggGAwMEBggGBgQGAwMGBAYEAwgICAYEBgYIBggGBgMGBAYGCAQEAwQIBgMICAQIBgYDAwgGCAMGBgYIBggGBgMGBAYGCAgICAQGCAgIAwYIAwQEAwgICAgGBgYIBAYIBAQGCAMDBgYEBAgIBgYICAQEBggDCAgIBgYGCAgIBgQGCAgEBgYGBggGBggGBgMIBAgIBAgICAQDBgQECAYEAwMICAYDBgYIBgYGCAYIAwYICAYECAYEBAgIAwQIBgYEBAYGBgYDAwMEAwMGBgQEBgQDCAgGCAgEBgMICAgEBgYICAMIBgYEBAgGCAYEBgYDBgYIBgQIBAgGBgQIBAYGBgYDCAYIBAgGCAYICAgIBAQEBgQIBAgIBgYDCAgDBAgGBgQGBgQICAYDBAYGBgQGBggGBgQGBgYIBAgGCAYIBAgGBAQGBgYGBAYGBggEBgYIBgMIAwgGBgQICAYECAgICAYGBgQGBggDBgMEBAYIAwYDCAgICAgIBgYICAQDCAgEBgYECAYGCAYGCAYEBggGBgYEBAgGBAYIBggIBAQEBgQGBAgGCAYIBggDCAgGAwQECAgIBggGCAgGBAYECAYICAgDBgYEBggICAYIAwYGCAQDCAYIBgQIBgYDBgYDBggIBggICAYGBgMDCAgIBggGBgYGBggIBgMGBgMIBAYIBgYECAQICAMGCAgGBAYECAYECAYEBAgDAwgIBAQGCAgEBgQICAYGBggGBAYECAYICAYGBgYEBggGBAQIBggGBAgGCAYGAwgGAwYGBgMEBgYGCAYDAwYDBggDBAgGBgQDBgYIAwYGBgYGBgYICAYECAgECAYGAwgEBggECAQEBgYEBgQIBAgGBAgGBgMGBgQGBAgEBgYGBAYDBAYEBgQIBgQIBggGBgMEBAgDCAYIBAgICAgDCAYICAgGCAYICAYGBAgIBggDCAQECAQIBAYECAYGCAgDCAQECAQGBgYGBAgIBAYGCAgGCAYGBggECAQDCAYGBAgGBgYGBAYGBgYIBAgGCAMGBAQGAwMGBAYGBAYEBAYIBgYGCAQGBAYEBAQGBgYGBAYEBgQIAwgICAYGBgYDBAgGBAQEAwQEBgYEBAYGBgYICAgGCAYEBgYEBgQGBgYICAgEBggGBgYECAYDBggEBAYGBgYGBgYDBAgECAMIBgQDCAYGBggICAMGBgQGBAQDBgQIBAYGCAYICAYEBAgICAgECAgGBAYEAwQIBAgEBAQICAYEBgYGBggGBAgGBAgGCAYIBgYEBgQIAwYECAYEBAQGBgYDCAYGBgYDBgYEAwgEBgYGBAQDBgMGBAgDBgYIAwgGBAQDBAgECAQGCAYGCAgEAwQICAgGBggEBAQECAQGCAYIAwQEBAQIBgQEBAQDBggGBgYGBgYGBggECAgGBggDBgYGBggGBgYGAwgIBAYGBgYGCAQGBgMGCAgDBAYIBgYECAMGCAYICAgIBgQGBAMIBgYIAwQGBgMICAQGBgYIBggGBggGBAgICAYGBAMEBgQICAYICAgIBgYIBgYGAwgIBgYIBgQGCAQGCAYIBggDBgYIBgYECAQIBgYIBgYGBgQIBgMDBgMEAwgICAgECAYGCAYIBgYECAYICAQDCAYIBAYECAMIBggGCAQECAMEBgYIBggGCAQIAwgEBAgICAgIBAgDCAgGBgQGBAYGBAYIAwMDBgYDCAgIBgYICAYGBAgEBggGBAQIBggIAwYICAQICAgGAwQGBgQICAYIBggIAwQDBgQECAYECAgGBgYEBAMGAwYEBAMDAwQIBAYGBgYGBAYIAwMEBggDBggGBgYIBAQECAYIAwMECAQEBggGBgQICAMIBggGBAgEBggGBAQGBgYGBgYIBAYGCAgECAgICAQIBAYIBgQDCAQGBAYEBgMICAgGCAQIBgQIBgYGBgYIAwYIBgYGBgYGBAgDCAgGBAYGBgMDBAYIBgYGAwYGBgMIBgYGBggECAYGBAgICAMIBAQDCAYGCAgGBAYGBgYGCAgEBgMICAYIBAYDBAgIBgQGBAYIBgQIAwYIBgYGCAMECAQGBgYGCAQEBgYGBggGAwMICAQGCAgICAYICAgGCAYIBAYEBggGCAgGBgYIBgQEBAYGAwQGBAYGBgQGCAQEBggICAgGBgYEAwYGBggGCAYICAQIBgQIBAQEBgYGBgQGBAYGAwgIBggGBAMGCAYGBAYGCAYGBgYECAYIBgMGBgMECAYEAwYICAQIBggGBggECAYGCAYICAYIAwgDBgQICAQGAwMICAgICAgECAYDBAYIBAgICAQEAwYEBggEBAMIBgYDCAQGBAYGBgYGBAgGBgYIBggEBAYGCAgDCAgGBAgGBggGBggIBgMGCAYECAYGAwgDBgYEBAQIBgQEBgMEBgYGBgYIBgYEBAgECAYGBggIAwMDCAYICAQEBgMGBgQEAwQEBgYGCAYIBgYGBgYIBgYDBAYIBgQEBAQGCAYDBgYEBgYIBgYIBAYDBgYICAgGCAQIBAgIBAYGCAgEBgYDCAQIBgMGAwYECAYGBgQECAYGBgYIBgYGBgQECAQDCAYIBgYGAwQICAYIBgYGBAYDCAQICAQIAwgEBgQIBgYGBAYGBggIBgQDCAgGBgQEBgYGCAQDBAgEBggGCAgDBgQGBAYGBgQGBgQICAYIAwgGBAYEBAQGBgYIBgMGCAYGBggGCAQECAYICAQIBgQGBAQDCAYGBgYGCAYECAgGAwgDBgQEBgMGBgQEBgQECAQIBAgGCAgIBggGBgYICAYIBgYGCAgDBgYEBgYIBAQGBggIBgYIBAgGCAQDBAYGBAMIBgYDCAQGCAgEAwQGAwQGBggGCAYICAQGBgYICAgECAQIBgQIBgYEBgYEBgQIBgYECAgGBggEBAYECAgGBggEBgYGBgYGBAgIBgQGAwYDBAgGBgQGBAgIAwQGBgYICAgEBggDBAYGBggIBAYDBgQICAQEBAQGBgYIBAgGCAYIBggECAgICAYGAwMGBggGCAgIBggIBAYGBAYICAgDBggGBgMDBAMDBAQGBggIAwQDAwYIBgYGBAgGCAYGCAgEBggICAYGCAYIBAgIBAgGAwYGBgQGAwMICAYICAYGCAgEAwYICAMGBgYGAwQGBggECAQECAQEBgYGBAgDBggIBggEBAgICAYDAwYICAgGAwYGBgYIBgQEAwYGBAgGBgQIBggICAgIBAQEBAYGAwQDAwYIBgYEAwYGAwYEBgYDBAgGBAgICAgEBgQECAQGBgMIBgQGBgQGBgQIBgQGCAQGCAYEBgQIBAgGCAYICAYIAwgECAMGBggGBgYDCAgGCAYIBggDBggEBAQECAgIAwQGAwMDCAMGCAgICAQGBgYICAgDBgYGCAYECAYGBgYIBggECAgGBgYGCAgGBggIBgYGBAYIBAgICAMGBggIBAgGBgYGCAQGCAQEBAgGBggIBAgGBgYGCAYGAwMGCAYGBgQDBggECAYGBAgIBgYIBgYICAYGCAgECAYEBAYGCAMGBAgEBgQIBgYEBggIAwQGBgYGBAMIAwYEBgYDBAgECAgEBgYDCAgGBAgGBAgDBgYGCAQICAgICAgECAgIBAYGCAYIBgQGBgYDAwYICAQIBgYEBgYIBAMIAwQECAYECAYDBAQECAMEBggIBggGBgMIBgMGCAYGAwMEBAgEBggIBggGAwgEBgYGBggEBAMIBAYEAwYDAwQIBgYGCAYECAgEBggIBggGBAYIBggDBgYGBAMIBgYGAwYGCAgECAQDBAQGCAYDCAQEBgYGBgYEBAgGCAYGAwMGCAYGBgYICAYGBggIBAgGBggGBAMDBgYDBgYGBggDCAQEBgYGBggICAgGBggIBgQEBAgGCAYGBAgEBgYGBgYIBAYIBAYDAwYEBgYECAYGBAgGBgYGBgQIBgMDBgQEBAQDBgYECAMGBAYGCAYIBAMICAQEBgYECAgIBgQGCAYEBggECAQICAQICAQIBggECAgEBgYICAgICAgGBgQECAYGBgMGBgYIBgYGBAYGCAgICAgIBAQIBgMECAMGCAMEAwQGCAQGCAYIAwQECAgDBggECAgGCAYICAQGBgYGBAgGBgYGBAYEBggGCAMIBgYEBAYEBgQGCAYGBAQGBgMGBgYIBgYGAwgGBAgDCAMGCAYGCAQEBgYECAQDAwgEBgYGAwMEBAQEBgQGBgYICAQEBggIBgMGBgYEBggGBggIAwYECAgGBgYEBgYGBgMECAgICAMEBggICAgIBggGCAMGBggEBAgEAwYGCAgGBggIBgYEBgYEBggGCAYDBAYEBgQGBgYGBAgGBAQGBAQEBgYGBgMEBAYEBggGCAYEBAgDBAYICAgECAgECAMDCAQIBAYIBAgGCAYIBgYGBggGBgQICAYECAMIBggEBgYIBgYGBgQGCAQIBgYIBAgIBAgGBAYGCAgGBgQEBgMDCAQEBggGBgQIBgQGBAgGBAQGBgYGBgYGCAYIBgYICAYGBAYICAYGBAgGBAYIBggDBgQGAwgGCAYIBAMGCAQGBgYIBggEBgYGCAQIBAgIAwMIAwYGBgYEAwgIBgYDCAgGAwQDCAQIBAYIBgYGCAQICAYICAQIBgQGCAgIBAYGBAgGBggIBggICAYGBAQDBAgGCAgGBgYICAgDCAYIBgYGAwYGBgMGCAQICAMICAgGBAYGBgQEAwYGBgQGCAgIBAgECAYGBggGBggIBgYICAgICAgEBAMEBgYEBgQEBAgEBgYIBgYGAwYIBAgGBAgGCAgGCAgIBgQGAwYGBgYGAwYIBgYIBgYGCAYEBAgGBggGBggIBgYDBgYIBAgGCAgGBAgEBgQDAwYIAwYIAwgECAYGBgMEBggGBgYEBgYGCAYGAwgEBAgGCAgIBggIBgQGBAQGCAgDBgYIBggGBgYIBAMIBgYGBgMGBAYIAwgIBgMECAYGBAQECAMEBAYIBAYECAQGBAYGCAYGBAgIBAMGBggGAwQICAgGAwMIBAYIBAYGBAYGCAgGBgYICAMDBgQDBggIBgMIBgYGBgYGCAgGCAYECAQGBgQGCAYGCAMIBAYGCAMECAYICAgGBAYDBAQGBAgGCAMGBAYIAwQECAQGCAgDCAgIBgMECAgGBggIBAYEAwgIBAQIBgYECAgGBAYGBgYEBAgIBAQICAQGCAgIBgYIBgQEBAgGBggGCAYECAgICAgGBggDBggEBgYGCAYIBAgIBAQGCAYIBgYGBAgIBggGBggDBgYEBgYIBAgECAMGBgYIBgQDBgQGCAYGBggGCAYEBAYGBAgIBgMICAgGBAYEBgYGCAYGBggIBggEBgQIBAgGBAgEBggIBggIBgYGBggEBAYGBgQDBgQICAgDCAQDBAYGCAQGAwMIBAgDBggGCAYIBgYEBgMGBAYIBAYIBAYGBAMEBggGBggECAgGAwgGCAQGBgYGCAQEBggICAYGCAYGCAgGCAgGBAQGBAYDCAYEBAQECAQIBAgGBgYDBgQDCAQIAwQGBgYIBAQIBgYEBAgGAwQIBgMGAwQGBgMIBggIAwYEAwYGAwgDCAYIAwYIAwYECAgIBggICAYGBAYGBggGAwgEBgQECAQGBggICAYDCAMIBgYGCAQGCAQGBgQIBgYGBgQIAwgIBgYGBggGBggGBAQGBAQGBgMICAYIBgYDBAYEBAYECAYGBgQGBgYECAYGBgMICAMGBggIBgMICAYEBgYDCAMGBgYIBgQGBAMECAYDBgQGBAgIBgQICAQIAwQGBgYECAgDBgMIBggGBgMGBggGBAgGCAMGAwQGCAgEBgMGCAgGCAQIBAYICAYGBAYGBggECAYGBAQGBgYEBgMIAwgDCAQGCAYIBggIBgQGBggDCAYECAQGAwgGBgMGBgQGBgYGBgQGCAYICAgGBAYGBAYEBggGBAYGBggGCAYEBAYGBggGBggGBggIBggEBggGCAYIBAYGBAYEBggGBgYEAwYGCAgGCAgGBggGCAYDAwYGCAgGCAYIBgMGCAQGBgYIBAgGBAYGAwgGBAMGCAYGBgYEBggGBgYEAwYIBgQIBgYICAYEBAYIBggICAYGBAQGCAMEBgYEBggGBgQGBgMECAgEAwMIBggIAwYIBgYIBAYIBggGBAQGBAYIBgYIBgQDBAgIBAMGBgYDAwQGCAgIAwYIBgYIAwMECAMGCAMEBgYIBgYICAMIAwMGCAQGBggGCAgIBggIBggDBAQGBggGBgQIBggGCAgECAYIBAYGCAMDCAYGCAYEBgYGBgYGCAYEBggIAwgICAgGCAgIBggIBggIBgYEBAYIBAgICAQGBAYEBgQIBAQIBAYICAYGCAYGBgYIAwYDBAYGBgMIAwgECAgGBgMIBggEBAQGCAgGCAgGBgQIBgYICAMGCAgIBgYIBgQGCAgIBgQGBAgGCAMEBgMIBggGBggIBgYICAQGBAYIBggEBgYGBAQGCAYGBAYECAQGBAQDBgYGBAYIBAYGBgYGBgYECAYIBgYGCAYDBAQEBAYEAwYEBggEBgYIBggGAwgEBAYGBgYIBAYIBgYGBAgIBAYGBgQIBgQGBgMDAwQDBggDBAMGBAYECAgGBgQICAYIAwYEBAYIBggEBgYECAgGBgYICAYGBggIAwQGBAYEBgYGBgYGBggECAYGBggIBggIAwgGCAQICAgIBAQIBggIBgYGBgYGBgYEBgQEBgYGCAYDCAgIBAMIBAYIBgYGBAQGCAYEBggICAYGBggIBgYGCAQGCAQGAwYICAgGCAYECAQGCAQGCAYDAwgICAgDCAgGBgQGBgQIBgQICAYECAgGAwYIBAQGCAYGBAYIBgYDBggGBgYICAMGCAgIBAQIBAgEBgYGBAQGCAYEBAYGBgQGBgMGBAgGBgYGCAQIBggIBggGBAYEBgYGAwMIBAYICAYIBgYIAwYICAgGBggECAYGAwYIBAgEBgYGBggGBgMICAgGBAYGBggDAwgGBgQDBgYGCAQIBgMIBAgICAYICAYIBgQEAwYDBggIBggGCAgEBAYGBgQGBgYDBgQICAgGBggIBggGBgYGBggGAwQIBAMICAQGBgQEBggGBAgEBgQGCAgGBAgIBAgGBggDCAQIBgQECAQICAgIAwYICAgIAwMGCAgIBggIBAgGCAYGBggIBgYGBggECAYGCAgIBAYGCAgIBgYIBgYIBgYGCAYDBAQGCAMEAwYGAwYEBgMIBgMGBAgGCAgGBAYGBgYEBgYGBAgIBggDBgMIAwgEBAQDBAYEBgYGBggIBgYGBgYIBAgGCAQGBgMIBggGBgYGBAgICAgECAYGBgYEAwYICAgICAgECAgIBAQICAgDBgYIBggEBgQIBggDBggECAgIAwYGCAgECAgGBAgGCAYIBggGCAYGBgYECAgGBgYGBAYECAgGBAQGBAYGBAgGAwgIAwgDBAgIBAQEBAgEBAYGCAYIBggGBggICAYGBAYIBggGBgYGBgYICAYEAwgIBAQGAwYGBAMGBgMIBAYGBAMIBAgGBgMIBggGCAYGBgYGBgMECAgGBgQEAwYGBgQGCAYEBAYGBgMEBgMGBggGCAQEBAYDCAgEBgYIBgYDBgYGBAYGBAYICAYIBgQGCAYGBgYGBggDBggGBgYGBgMGBggGCAYGBgQICAYEAwYDAwgIBgYICAYICAYEAwQGBggGBAgIBgMGBgQGCAMICAYIAwQICAYEBggECAgGBAQIBAQIBAgIBgYIAwQGCAQGCAgDBAQGCAYECAYGBgQEBAYGCAQGBggGBAQGBAgGCAYIBgYDBgYGBAgGCAgGBggGBgYGBggGCAMIBgYGBgMIBAgIAwYGBgQEBAgGCAgGBggGAwMICAYEBAYDBAgGCAYDCAgDBAYDBggDBAgECAYICAYGBAMEBgYGBAQGCAYIBgYEBgQIBggIBggEAwYGBgYDCAgIBAYDBAYEBAQDBgYEBggDBgQECAgECAMECAgDCAMEBggGBAgIBgQIBgYDBgYEBAQGBAYEBgQGBgYIAwYGCAgEBgYDBggGBAgGBgQGBgQGCAYDBggICAMGAwgICAYIBgYGBgQIAwYDBAMGBggIBgYIBgYIAwgGBgYIBgMGBgYGBggEBAgECAYEBgYIBgYIBgYGAwYEAwQDBgYGCAQGBgYIBgYGBAgDAwgEBggGCAYGAwgICAgGBAQECAMECAgGBAYGAwgDAwgICAMIBgMECAgICAQGCAYGCAYEBggGBAgEBAYGBAMEBgYIBAgEAwgGCAgGBgMEBAgGBAYEBgYGAwQGCAMECAgEBAgICAQGCAYGCAgIBAYIBAYGCAMGBggECAQIBAQGCAgEBggECAYGBgMGCAgDBgYEBggGAwQEBAYGCAQIBgYGBAgDBgQICAYGBAQEBgYECAQGCAQGBAYIBggIBggGBgYGBgMGAwYDBAgIBAYGBAgDBgQIBgQEBAYICAYECAYGBgQGBgYGCAYGCAYEBgMGCAYGBgQGBggICAYICAYGCAQICAYIBgYIAwYEBggGBggGCAYEAwYEBgMGCAYEAwMIBgMICAQICAYIBgMDBgYDBgYEBgQGCAYEBAgGCAgDBAgIBAYEBgQGBgYGBgMDCAQGBAYIBAYDCAgIBgQGBAQIBAgGCAQIBgQEBAgICAgGBAQGBAMEBgQDCAYDCAYDBAQGBgQGBggDCAMIBAgIBgQGCAQICAQIBgMGBgQIBggGBgYICAMIBAgIBAQDCAYGCAQGCAYGCAYDBgYIBggIBggEBgQDBgQICAQIBgYIAwQICAYGBgQIBAQGBAYECAYDAwYECAYIBAYGBAgIBgQEBggGCAMGBAgIBgYEBAYIBAYIBAQGCAYGCAYGBgYGBgMGCAgGCAYDBgYGCAMIBAYGCAgEBggEAwYGCAMIBAQIAwQDCAQICAgECAYEBggDAwgIBggIBAQEBAgGBgMIAwgICAMDCAYDCAYGBgYGBgYDCAgGBgYEBAMDCAQGAwgEBAYIBgMGCAYGAwgGAwgGAwMEBAMICAgEBggGBgMGBgYEAwQECAMGCAQEBggICAYGBAYGBggDBAgICAYIBggGCAgEBgQGCAQEBggICAgGBAYGBgYGBAYIAwYIBgQECAYDBAgGBAYICAgIAwgGCAYGBAgGCAQECAQGBgYICAYDAwYGBggICAgEBgYDBgQDAwQGAwQGCAYEAwYGBgYGCAQEBAYICAYEBAMICAgIBggECAYDCAQGCAYGBAYIBgYGBAYECAgDBgYGBggGCAgIBAQGCAMGCAgGBgYIBgYIBgQEBAgEBgYICAgECAgGAwgICAYICAgIBgYGBgYGCAYGCAYGCAgGBggDAwQGCAMECAgEBgQIBgYIBgYGCAgICAYDBggIBggIBgQIBgQECAgGBgYIBgYEAwYGBgMGBgQDAwYGAwQGCAYEBgYEBgYECAYDAwgDBgYDBgYGBgYIBgYEBggIBAYGBAgIBgQGBggIAwgGBggIBgYDAwYGCAYDBggDBAQGBgYEBAQGBggICAYIBgYDBgQGCAgGBgQIBgQIBAQEAwYGBAYECAYGBgYGBAgICAYIBgQGCAgICAYGBgYICAYDCAMIBAYECAYGBggICAYIBggIBggGBggIBgYIBAYEBAQIBAQIBAYECAgGCAgEBgYGCAgDCAYIAwgEBgQEBgYEAwgIBgMICAgGBAgEBggGCAgIBggGBgQGBgQIBAgICAYDBgYGAwgIBAYICAYGBgYGCAQICAYGCAYIBggIBAgGBgYIBAgEBggGCAQGCAYGBggECAYECAgECAQGCAYEBgYGCAYGBgYDAwgGCAgECAYIBgYIBAMEBgQGBgQIBgMICAQDCAYICAYIBgQECAYEBAQGBAgDBAgGBgYIBAYGAwYGBAYGBgQGBggGBAgGCAgEBgYGBgQDAwYIBAYGBggGBgYGAwQECAYDBgYDAwQECAQECAgIBgMGBgQGCAYIBAYGBggGBgYGCAgGBgQGCAYIBgQIBgYGBgMGCAgGBgYECAQGBggGBAgGAwYIBggGBAQGBAYEBAYICAQGBAMIAwYIBgYEAwQEBgYIBgYGBAYIBAYEBgMIBgYIBggEBgQGBgQICAMDBggDCAYGCAMICAgGBggDCAMIBAgGBggGBgQEAwgDBAQGCAQGBgQGBgYGCAYECAgDBgYGBgYGCAYIAwYGBgQGCAYGBggECAYIBgYEBAYGBgYGCAgICAYGBgYGBgYGBAYGBgYEBgYGBggGBgYGAwYGBgYGBgYGCAYDCAYEBggDAwgEBggGBgYIBAYEBggEBgYDCAMGBggGCAYGCAQEBgQEAwgICAgIBgQDBggGCAgIBgQEBgMIAwgGBAYEBgMGBAgGCAQGBggEAwgDBgYIBggEBgQDBgQGCAMDBgMIBggGBgQGBAgIBggICAgGAwgIBgYGBAYEAwgECAgDCAYECAYGCAgGCAgIBAYEAwgICAQGBAgGBAYEBgMEBgQGBgYIBgYECAYGAwYGAwgEBgYGBAYDAwQEBgQICAgGBgYECAYIBgYIBgYDBgYIBggEBAYEAwgGBgYECAYEBAYIBggGBgQEBAYDCAYGBggEBAYDBgQGBAYDAwgGCAYIBgYGCAMIBggGCAYEAwgEBggIBgMGBgYDBggECAQIAwQDBgYGBgQDBAMIBAYICAYEAwQGBAQIAwgICAYECAgDBggGBgYIBAQEBAgIAwQGCAQEBAYGBgYGBAYGBggGBgQDCAQEBAgICAMGCAYEBgMEBgYEBgMGBggIBgQGCAgICAQGCAQDBAYICAQIBggIBAQGCAYEBggDBAgECAgECAYGBgYGBAYIBAgGCAQGBAgIBAQIBgYGBgYECAMECAYGBgYEAwMGCAQEAwYGBgYGBAgDBgYECAMEAwYEBAgEBggIBAYGBAMGBggIAwYDBAYGCAgGBggIBAYGCAgGBgYIBAMEBAYGBgMIBgMIBAgEBggECAYGBgQDBgYECAYECAYGCAYGBgQGBAgGCAYICAYIBAgDCAgECAgEBgYECAQGBggGBgYEBgMDBgYGBgYIBAYGBgYDBgYIBAgGBAgGBggGBgYGCAMECAYGBgYGBgYECAgGBggEBAYEBgYIBggGBgYECAYGCAMEAwgDCAMGBAYGCAYGBAYICAgEBgMEBAQICAQIBggIBgQGCAYEBggGBAYDBAYIBgYDBggGBgYDAwYDCAYECAgGCAgGBggEBAYGBAYIBgQGBAMEBAYGBgYGBAYGBAgEBgYICAQGBgYICAMGBgMEBAgECAgICAYIAwYDCAQGBgYEBggEAwYGCAMEBgMEBggGBggGBggGBAgICAYEBgYDCAYGBAYIBgYIBggEBggGCAYEBgMDBgYICAYGCAMGCAQECAQICAQGCAYIBgMGCAYDBgYGAwYGCAQICAYECAgEBggIBgYIBgMGBgQICAQGBAYGCAYGBggICAgIBgYGBgQEAwgIBggGBggIBggEBAgGCAQEBAYECAYGBAgEBgQGAwQGBgMDCAMEAwYGCAYEBAYIBAYDBgYGAwYDCAMICAYGAwgGBgYEBgQEBggIBgYIBgYEBgYIBggGBgYGBggECAgECAQGCAgIBggEAwYIBggIBggGBgYDBAgGBgYIBgYEBgQGCAYEBAgGBgMICAgECAgEBgYDBggIAwQGAwMGCAYIAwgDBggGBAgEBAMEBggDBgYGAwQICAgGBgQGBAgGCAgGBgYEBgQIBgYGBggIBggGBggIBAYGCAYGBggEBgYIBgYGBgYEBgQGBAYIBgQGCAgECAgICAMGBAYGAwgGCAMGBgYEBgQIAwgEBgYEBggICAYGBgYICAYGBgQIBggDAwYIBgMIBAgDCAQGCAMGCAgGBAYEBAQECAYGBAYGBAMDBgYIBgQEBAYECAYIBggIBgYIBAgICAYEAwYIBgQGAwgIBgYEAwQICAgIBAYIAwYDCAYIBgYIAwYICAYGBAgGCAgGCAYEBgMIBgQGCAYEAwYEBggGBAYGBggEAwQDBgQGBgQIBgYGCAYECAYGBAgICAgGCAgICAYGBggICAMICAgIBgYDBAMICAYICAQEBAYIBAYEBgYEBAgGBggGCAYGCAYDAwYGBgYEBAYDBggIAwQICAYGAwgGBgMIBAgGBAgGCAQIBgQGCAgGBgQGCAMEBggGAwQIBgYGBgYIBAMGBgMEBgQDBAgEAwQIBAQIBAYECAgECAYGBAgEAwgEBAgGCAYIBAMGAwMGAwYEBgMEBggGBAYDAwgEBgQGBgYGCAgGBgYIBgQGBggIBgMDAwYDCAMGBgQGBAgGBAQICAQIBgYGBggEBgQICAMIBAMDBAQIBgYIBgYGBggICAgGBgQGAwgEBAQEBgQGBAgGCAMGCAgICAQGCAQDBggDAwgGCAMECAYGBAMGBgYIBgYGCAYIBggIBggIBAgGCAgEBgQEBgQEAwQDBgQGAwMIBggEBggIBAYEBAYECAYGBAYGBAYDBgYIBAgGAwYIBAYEBgYGCAQGBAYECAgIBAMGBggGBgQIBgQICAYGCAgEBgQIBgYGCAgIBgQGAwYDBgQEAwgIBAQICAYIBgQGAwQDAwgGCAYEBgYIAwQEBgYIBgQEAwgEBgYGCAMGBgQEAwYGCAYGBgYEBggGAwYGCAQIAwYGCAYICAgGBggIBggICAQEBAQGCAYGBgYECAYGBgQICAQGCAYIBggGCAMIBgYICAMGBgYGCAQICAMECAYIBAgIBgYEBggDBgYGAwYIBgQIBgQGCAQGBgYECAQDCAgIBAYICAYGAwQGBgYEBAgIBgYGBggEAwgIAwYIBAYGBgYGBAQGBggGCAQIAwQIBAYICAYIAwYDBAYGCAYGCAgIBgQIAwYECAYGBAgGBgQIBgQIBgYGAwYGBgQGBgQGBgYIBgYGBgYIBggIBgQICAQEBAgGBggICAgIBggIBAgGCAgEBgQGBAYIBAQGCAYGCAgICAgGCAQIBgYICAYDBAQEBAgEBgMICAQDAwgDBggIBggIBgYGCAQEBAgDBAQGBAYGBggICAYGCAgICAYGBggGCAYGBAgGCAMGCAYGCAgGCAYIBggICAgGBgQGCAYGCAYICAYGBggIBgYDAwgEBAgIBAYIAwQEBggGBgQGBgQGBgQGCAYGCAQIBgYGBAYDBAYGCAgDBgQDCAYIBggGCAgIAwQIBgYICAYIBgMIBgYGAwgGBgYDCAYECAQIAwYICAQIBAQDBggIBgYEBAgDCAYEBAYIBAgIAwQIBgQGCAQGBgQEBAgGBAYGAwgGCAYIBgYICAgGCAgGBggEBgQIBgQIBAYECAMGBAYIBgQEBAQDBgYICAYGBgYGBAQECAYIAwQGBgQICAYGBgQIBgQICAgEBgQGBgYGCAgDBgQIBggEBgYGBgQIBgYGBAMGBgQICAYIBgYGBAYGCAgIAwgIBAYGCAYEBgYGCAgIBgYIAwgECAQEBgYEBgYIBggECAQDBgYEAwYICAgGCAQDCAYGCAYIAwYGCAYEBgMDCAQGBgMICAMEBgYECAYGBgMGBgYGBgMIBgYGCAgICAgIBAYGBgMECAYIBgYIBgQIBggEBggGBgYEBggEBgQGBAYIBAYICAQGCAYGCAYICAMGAwgECAYICAgIBgQGBgMECAgEBggIBAYIBggIBggGCAgGBAgICAMEBAgGBggGBgQECAYIBgYICAQGBgYGAwgGCAMIBggGAwYEBgQGBgYDCAgGBAYGBggIAwgICAgDAwQGBgYIBgYGBAMEBgYGBgMGBAYGBAYIBggGCAgGBAgEBgQGBggICAYGAwYIAwgEAwYGBgQDBAYECAYGBAgGBgQGCAYEBggGAwgICAYGAwQGBgYIBAMGCAMICAYDBgYECAQECAMIBgMGAwgGAwQGBggICAMGCAMGBAYDBggGCAYEBgMGCAgGBAYGBgYIBggIAwQICAgGCAYDBgQEBggECAYIBAYGBgYIBAMEBgYEBAYIBgQGBgQGCAgGCAMEAwYICAgGBAQIBAYGCAMIBgYICAgDBggIBAYGBgQGCAMGBgMDBgMGBgQGBgQGAwQGBAYDBgYIBgYIAwgGBggGBgYICAYGBgYGBgYIBAYIBgQGCAYECAYDBAQGAwQDBgYICAYEBggIBgYIBAgECAQICAYIBAYGBgYGCAYGCAgGBAQEBggGBgQGBgQIBAYGBgYIBAYECAYICAgIBgQIBAYIBgQGCAYIBAgDBAgECAYEAwQECAMIBggGBgQGCAQGCAYIBAQIBAYIBAYDAwgEBgQECAQGCAYIBgYIBggGCAQGAwgECAgICAYGBggGCAYIBAgEBAYICAMGBAQGBggICAYGBgQEBgYIBgYGCAYGCAgECAQGBAgDCAYDBAgGBgYDBgQGBAQIAwYIBgQIBgYGBAgIAwQECAQGCAMIBggGBgYEBgYIBgYEBAYIBgQGBgQICAgEBgYEBggEBggGBgQGCAQGAwgGAwYEAwYEBgYGBAYIBgQIAwQGCAgDBAYICAQGBAQGBAYGBAYIAwYICAYGBgYDBgQGBggIBgQIBgQGBAYGBgYIBAYEBAYICAQGBgYGBgYIBggGCAgGBAQGBgYIBAgIBgQGAwQDBAgEBgYIBAgEAwYECAgICAYDCAYGAwgIBggGBggEAwYGBAgGBggDBgYIBgYGCAYGBgYGCAYGBgYGBggGBAgGBggICAYICAQGBgYICAgGBgQGBgQGCAgEBAgGBAYECAYGCAgECAgDBgYEBAgGBAYGCAYIBAgGBAYGBAgGCAgECAgGCAYGCAgDBAQGBgYGBgQGBAgGBAYEBAYGBgQGCAYGBgQGBgYDBgQIBgYGAwQDBgYGCAYIBAYGAwQIAwYGCAgGCAYEBAMIAwQIBAMGBgYECAMEBAYGBggGCAYIBgQGBggIBggDBAgIBAYEAwYIBAgDBAgECAYGCAYIBggEAwQDCAYGBggDAwYGBAgECAgGBgYEBgMEBgQICAQGCAQICAgGBAgIBAYGBgYIAwQGBAgGBAgICAQDBggGCAQGCAYGBggICAYGBgYEBAgEBgYGBgQGBAMIBggGBAgGBgYGCAgIAwQGCAgECAYGBgYIBAYGBAYEBggIAwQGBAQIBgYGCAYGBAgGBgYECAYGBgQIBgYGBggIAwYEBgQGCAgGBgQICAQIBgMGAwgEBAgGCAQICAYGCAQECAYICAgECAgGBgYGBAYICAgEAwYGBgYDCAMGBgMIBggGCAgIBgYICAYIAwQEBAQDBgMEAwYGBgYIBgQECAYEBAQICAYGBAYIBAgDBgYGBgQGBAYEBAYECAYGBgYIBAgEBgYGBggECAgGBggECAgGAwQGBAgECAQDBggIAwYECAYGBggIBAYIAwYDCAgDBAgIBgYDCAYGBAYECAYEBgQIBAYDCAMECAYGBgYIAwYGCAYGBAQGAwQDAwgGBgYGCAQIBAgEBggIBgMIBgQIBggGBAgGBgYICAYDBgMIBgMGBAYEBgYGBgYIBggGBgQGBAMICAYGBAgGAwMGAwYDBAgIAwgIBAYECAYGCAYIBgQECAYGAwMGBAYGBgYDBgYDCAQGBgYGAwYIBAYGBgYGBgYGBgYIBgMEBgQICAgIBgYIBggEBgYIBAYGBAQGBAYICAYGBAYDBggIBgYGBgQIBAYIBAYEBgYICAYGBggEBgMGBAgIBgYGAwQIBgQGCAMEBgYEBggEBgYIAwYGBAQGBgYGCAYICAYEBggICAQGBAYICAYICAYGBAYIBAMGBggICAYECAgIBAYEBgYGCAYIBgYIBgMGCAMIBggGCAQEBgQGCAYGBgYICAQECAgGCAQEBggGBgYGBggIBAYGCAQGBgQDBAYGBggIBgYIBAgEBAMGBgYIBgQICAQEAwMGCAYICAgGBAYEBgYEBgYEBggDCAMIBgYGBAQGBgYGCAYIBggGAwQIBgQEBAQGBgYEBgMGAwMGCAYGBgYIBAMIBAQEBgYGBAgIBAYGBAYICAMDBgYEBgYGBgQGBAYECAYICAMEBAYIBgYECAYIBgMGCAgEBgYIBgYIBgQIBAYIBAYDCAQIBgYGAwYICAgDCAgDBgMIBAgGBAgEBggIBggIBgQICAgEAwYGBAQGCAYGBgQGCAYDBgYGBgYGAwYIBgYGCAgGCAgICAgIAwYGBgMGBgYEBgQDBggGBgQECAYGCAQGCAYGBgQGBgYGBAYICAYGBgYEBAYGBAYEBgYIAwgGAwYGBAYGBgYICAgGCAYIBgQEBggGBgYIBggGBAgIAwQEBgYEBggGAwYGCAgICAYGBgYIBgQGAwQGCAYGBAgGCAgDBAgDBAQGCAYECAYIAwgIBAgIBgQIBAgGBAYEBAYGBAgIBggEBggGCAYIBAMIBgYEBgQGCAgDCAQEBAMDCAQDBAYDCAQGBggGBggIBAQICAgECAgGBAQEBgYGBAYIBgYGBAQGCAYIBAYIBggDBgYGBAgECAQICAQECAgEBgQGBgQIBggEBgQGBgYDAwgGBAQGBgMIBgYGCAQEBgMEAwgDBAMEBggICAgICAQGBgYIBggGCAYGBgQEBgQEBgQIBAYGCAYGCAQICAQICAYGBgYEAwgGBgYGBgYDBAYGBAQIBgYGBAMDBgQIBggDBAYGAwMGBgYICAYIBAYIBgMDBAYICAgGBggICAYIBAQECAgGBggGCAYIBgYGCAYGAwMIBgYGCAMGBgYIBgYICAgDBAYIBAQEBgYGBgQICAYECAgICAgEBAYEBggGBggECAQGCAYIBgQGBAYGBgYGCAgEBAYGCAQIBgQEBgQDCAQIBggGBggDBAgEAwYICAYIBggIBAQIBgYECAQGAwMIBggECAgGBggDBgMGBAMGBgYGBggICAgIBggECAMGBAMEBggGBgYGBgYGCAQIBggGBAYEBAQGBAgIBgYEBAYGBggGCAYGCAYIBAYICAYEBggGBgMEBgQIBgYGCAgDAwYGCAgIBgYGCAgEBgMGCAQEBAYGBgYGBAYICAgDBgQIBggIBggGCAYEAwYGAwgGBgMDCAYGBAgECAgIBAMGBggGAwgICAgGCAYGBgQIAwgIBggGBgMEBAYIBgYIAwQGBgQGAwgGBggDBgYGCAMGBgQGBAgGCAgGBAgGBggECAgIBggIBAYICAgEBAQGCAYICAQICAgIBgYGCAYGCAQECAgGBggICAYGCAYIBggGCAYICAMGBggIBgYGCAgGBAYGCAgICAQGBgYGBgQGAwQGBgQICAYGBgMECAQGBggGBgYGBgQEBgQDAwgIBgYGBggGBggIBAMIBAQIBAQGCAYGBAgEBggEBggGBgQGBgYDBAgIBAYGAwYGBggDCAgGAwMEBgYEBAgGBAYEBgMECAQGCAYEBggIBAYGBgYIBggEBgYGBAQDBgYEBggGCAQICAQEBggGBggGBAQGAwgGCAgEBAgIBgYGBAYECAgDBggDBgYGBgMICAQICAQDBAYGBAgICAQGBgYEBgQGCAYGBggEBAYDBAgICAYGAwYGAwYIBAMGCAgECAYGCAMEBggGBgYGBAQGBgMGBgMEBggIBggGBAYIBggICAYGCAgGBgYGCAYGCAYDCAgECAgIBgYGBggGBAgECAYGCAgIBgYIBAYGBgYGBAgGBggGCAQGAwgIBAgIBAgIBAMIAwYEBggGBAYEBAQICAYIBAYIBgYICAgIBAYIBggICAQGBAYGBAYEBAYGCAgIAwYEBAYDBgYIBggGAwgGBgYEBgQIBAQEBggEBgYGBgQGCAYICAYGBgYGCAgGBgYGCAMGCAYGAwYIBgYIBAMIBAMIAwYIBAYGBAYGBgMGBgQDCAQGAwgIBgMIAwgICAQIBAgGBggICAYGCAYGBggGCAQECAQGAwgGCAYDBAMIBgMGAwYIBAgIBgYEBAgGCAQECAYICAYGBgYGBgQECAYGBAgEBgYIBgQIBgYGBgYGBAgIBggICAYGBgQICAYIBgYGBgYEBggGAwYGBAMEBAYIAwYIBgYDBgQIBggECAgGBgYGCAYGCAYGCAYIBgYEBgYIBgYGBAgIBAYIBgYGBgYGAwgGBgYIBAYICAYIBggGBgYGCAgEBgYEBAMGBAYGBgYDBAMIAwgGBggICAgGBgQIBgQGBgYIBAYEBAQIAwgIBggDAwQGBggEBAQGBggGBAgIBggECAgIBAQIBggDBgYGBAgIBggGBAgGCAYDBgYIBgYEAwYIBAYGBggGCAQIBgMDCAYEBggDBggICAQGCAQICAgGBgYGBAMGCAYGBgYGBgYGBgYEBAYEBgMGBggGCAMDBggIBAYIAwgGCAgECAgGBAQIBgYECAQGBgMDBAgEBgYEBgQIAwYGCAgGBgMGBAYICAgEAwYIBgYIBgQGBgQIBAYDBAgIBggIBAgDBgYECAMGCAYEBgQGBgMEBAgGBgYICAQECAYGBggGCAMGBgYIAwMGBAYGBAgGCAgGBgYICAMECAQEAwgICAYICAQGAwQIAwgIBAYGBggICAgEBAQEBgYGCAgECAYGBggICAMEBgMEBggECAMDBggDBgYIBgMGBgYEBAYICAgEBggIBggGCAQEBgQEBgYGAwYGBAQGBgYICAgICAgGBgQIBggGBAgIBgQIBgQGCAMGAwMEBAQGBggGBgYGBAgEAwYEBAQICAYGAwMEBgYDAwgGBgMGBAQEBAQGBAQICAgIBgYGBgYECAgGCAYEBgQGBAgIBggIBgYGCAQEBgYDAwYEBAYDCAgGBAYEBAYDCAYICAYIBggGAwgECAQIBAMDCAYECAgIAwgIAwgICAYIBAgGBAgIBgYGCAQEBAQGCAYICAgGBgYGCAYIBggECAQGBgYDBgYIAwYDBAgDAwQICAQGBgMGBggGCAgEAwgGBgMIBAMGBgMGBAYDBgYICAMGBggIBgMEBAQGCAgICAYICAgGCAMEBAQICAQECAYIBAYDCAgIBAQGBggGBggGBAYEBgMGCAgGBggIBggEBgMGBgQDCAQGCAgEBgMECAgIBgYDBggGAwYEBgQIBggGBgYGCAYEBggICAQGBAYEBgQGBgYGCAYICAgGBgQEBgYDBAgDCAYGBAgDAwYIBgMGBAMECAYIBAMIBAYGBggECAgGCAYIBAYICAgGBAgICAgGBAYGBggIBAYIBgMGBAYEBggGBAYGBAQECAYGCAgGBgMIBgMICAYGCAQIBggIBggIBAgGBAYGBAMECAYGCAYGCAYEBggGBAgGBgYECAYEBgQGBggGBAYIBAQICAgGCAYGCAYICAYICAgIBgYDBggGBgMGBggIBAMDAwgGBggEBgQEAwMIAwgIBggIBggGAwYECAQIBgQGBAgIBgYIBgYEBAMICAQGCAgDCAYDCAYDBgYGBAYGBAQICAMGBgYDBgYIBgQEBgYGBAMGBggIBgYICAgIBggDCAMGCAQEAwgGBgQGAwYGCAYDBgQGBAYIBggIBAYICAgGBAgECAgGBAQGAwQEBggGCAgGBggIBggGAwgDBgMDCAgICAQDBgYIBggIAwYGCAYGBgYIAwYIBAQIBgQDCAMEBgYIBgYEBAgDBgQGCAYGBAYGBAgIAwYGBggEBggIBggECAQGBAYGCAgIBAQIAwQGCAgIBgYICAYIBggIAwgIBgYGBgMIBAMIAwMIAwYGBgYICAYGBggECAgIBAgGAwMEBggGBAgECAYGBAYGCAQIBgYGBgQGCAgEBAgDAwYGBggICAYIBggEBggDCAMGCAgIBggIBggECAYGCAYIBgYGCAYGBgQECAgECAYIBgYECAYGBgYIBggGBAYGBgYGBgYIBgQEBgYGCAMEBggGAwYGBAQICAQDBgYICAQICAYICAYGBAYEBgYGBAMIAwQDBggDBAgGBAgICAYICAgIBAgEBggIBAYECAgIBggGBgYGCAYGBAQICAQGAwMGBgQIBgYEBggIBAYGBgYDCAQGCAQGAwgGCAYICAYECAYIBgYEBgYIBgYIBgYDCAMGBAMGAwMGBgMDCAMDBggDCAgDBgYGCAQGBAYGCAYICAQGBgYEAwYDBggGBAYIBgYECAMICAYGCAYGCAYEBggGCAMIBggICAYGBgQIBgYIAwYGCAYGBgQGCAgGBggGCAQICAgEBgYGBAgIBAYECAYIBgYEBgYGCAgGBgYGBAgDCAYIBAYGCAQEBgQDBggEAwgGBgMGBgYICAgIBggDCAMGCAMIBggIAwgEBgQGCAYGBAgGBggICAgGBggEBAMIBAgGBgYGCAMIAwYGCAgIBAMGBgYGBAgIBggGBgMEBgYEBggEBggICAgICAYICAgIBgYEBggGBggGCAYICAYICAQGBggGBgYGBgYEBgQGCAYIBAYEBAYGCAYIBgMIBgMECAMIBAQIBAMECAgGBgQGBAQGBggIBggDBgYICAgIBggECAYIBAMEBgYDBgYGBggGCAYGBgYIBggIBgMEBAYDBAgGBAQGAwYGCAMIBggEBggGBgMIBgYDBgYGBgQGCAYGBgYIAwgDBAYIBAMDCAYIBgQGBgYGBgQGBggGCAYEBggGBAYGBgYEBAYGBggDBgQGBggGCAgGBgYEBgQGBggIBgYICAgIBggECAYGCAQGBgMGBggECAYGBgYGBgMDBAgGBggGCAYIBAYICAYGAwYEBAQICAQGAwYICAYEBgMIBAQGBAYEBgYECAYGBAYGCAgGBAYGCAYIBgYIAwQGCAgGAwMIBAgEBAYEBAgICAgEBggDCAYGCAQIBAYICAYGBgYEBAYEBggICAMDAwQGAwgGBggEBgYIBAYIBgYDBgYIBAYIBggECAQIBAYGCAMGCAMECAYICAgDBgYICAQIAwgIBgYGAwgECAYIBgMIBAgIBgYICAQGAwQGCAYGCAgGBAYGBgYEBAgDBAYIBAQDCAgEBAgGAwQGAwgIBggICAgEAwYIBAYICAQGBAMGCAQGBAgEBggIAwMGCAgIBgMGBAgECAMECAgIBAYIBAQGBgQEBgYGCAQEBAYIBgMGBAYGBAYGBgQICAgECAgGCAgECAgIBggEBgYEBAgGCAMIAwgGBgQGBggGCAgIBgQGBgQGCAgECAMECAYIBAgGBgQIBgYDCAYIAwYEBgMDBgMGBgQIBgYGBgYGCAYIBAQGBggGCAgIBgYECAYGBgYGBAYDCAQGBggGCAgGCAYGBAgEBAYEBgYIBAMDAwgEBggGCAgDAwQGAwgIBggIAwgGBgYGBgQECAgGCAgEBgYECAgIBggGBggEBggGBggGBgYGBgYEBAYGCAgGBgYEBAQIBgMGCAQICAYIBAQIBAgGCAgICAMIBgQGCAQGBggICAMEBAYEBgYIBAQGCAYGCAYECAYIAwYGBAMGBgQGBgMDBggGBAgEBgMGCAYDBAYICAgICAYDBgYICAgIBAgGBgMECAgGCAgEBAQICAQGBggGCAQGCAgGBgYDBgQGCAYEBAgGAwgDBgYGBgMIBAQECAQECAgECAgECAMGBAYGBAgEBgYIAwYIBAMGBAYGBgMIBgMICAMIAwgEBAYGAwQEBAYDBgYICAYGBggGBgYGCAgGBgQGCAYGBggGCAYIBggEBgYGCAgGBAgIBgQEBgYIBAQGBggGAwYGBAMGBgYGCAQGBgQDAwMIBggGBggIBgQIAwYGCAgDAwgGBAgGBgQGCAYGBgQECAgGCAQICAQDBAQGBgYGCAgGBggEBgYECAYGBgYGBgYGCAYDBgYGBAgGAwYIBAgDBgMGBAgICAgGBgYICAQEBgYEAwMECAYEBgQGAwYGBgYGBgYEBgYGCAMGBAgICAQIBggIBggICAQIBgMGCAYEAwgGBgYEBgYEBAYGBgYICAYDBggGCAMGCAgDBgYIBgYECAYGCAQEBgYEAwQGCAgIBgYGCAYIBgYICAgIBgMGAwQIBggGBgQIBAYGBgYGBgQGBgYDCAYEBgYIBgYIBAQEBgYGCAYICAYGBAgGBggGBAMIBgYGCAYECAYGBgQDCAYIBAgGCAYGCAYGBggGBAQDBggICAYECAQICAQGCAYGCAQICAgDBgYECAgICAQIBggEAwgEBgYEBggGBgYICAYIBAMIBAYEBAYGAwQIBggGBAQEBgYDBAgGCAgEBgMIBgMGBgYEBgYIBgYIAwQIBggGBgYGBAQIBggIBAgECAgGBAgDAwYEBgYIBAQDCAQGCAYIBAYEAwgECAgIBgYEAwQGBgYGBAQGCAYICAYGBAYIAwQGAwQECAYECAgICAQIBAYIBggDBgQGAwgECAYECAYGCAQGCAYGBgMDBAgDAwYECAQEAwYIBgYGBgYGBgYICAMGBAgGBggDBgMGBgYICAYGBggEBAYGBAMIAwYDAwYDCAYICAQIBAYEBgYGCAYEBgYGCAYGBAgIBgYGCAYGCAgICAQIBAgEBgQEBAQGBggGBAQGBggGBggIBgQECAgGCAgEBgYGCAYGBgQGBgYGBggGAwYICAYIBgYGCAMIBggGBAYICAMGBAYGBAYEBgMIBAQGBAQIAwYGAwYIBAgGBgQGCAQEAwYIAwYEBAYGBAYGBAYIAwMEBgYEAwYGAwYDBggIBgYECAQEBgYGBgYIBggIBggIBAgIBgYIBggEBAgEBgYGCAgGBAgGBAgIBgYEBAgGBAQGBggEBgYGBggDAwMGBAYECAYDBgYGBggGBAgGBgQIBAMGBggIBggGBgYGBgYGCAgIBgYIBgYGCAYGCAgGAwYGBgQICAgGBgQEBgYIBggIAwQICAYICAQIBgYEBAYGBAYGBgYIBgQGBggDBAgEBgYIBgYDBgQGCAQGCAgDBgYGBgYICAgEBgQEBgYGBgMEAwgGBggIBAgGBggDBAYGCAMGBgMDBAgIBgQECAYGCAQIAwQEBgYDBgYIBAMGBgYGCAYICAYGBAYIAwQGBgYGCAYGBAYGBAgIBggGBgYIBggGBgQGCAQGBAYGAwgGBAgIBAQEAwQDCAMGCAgEBAYDAwQGBgYIBAQIBggGBgYGAwQECAMGCAgICAYEAwYGCAQIBAgICAYEBAQIBgQEBggICAgIBgYGCAgEBgYGCAgGAwYEBgQDCAQGBggGBgYECAYGBAgIBggIBgQEBgYGCAgIBAgEBAMICAYDBAgDBAQIBggIAwYDCAgIBggIAwYGCAgIBgYGBgYEBgYGCAgIBgMEBgYGAwgDBgYIAwMECAgEBgQDBgYGBggECAYIBAgGBgQECAgEBgQEBgYGBggGBAgGBggECAMIBgMGBAMIBAQGBgYDBgQGBggGBAgGCAMGCAMEBAYIBgYDCAYIAwYGBgYGBAQEBgYEBgYEBggGBAYEBAYECAYEBgMGBAYICAgGCAYIBgQEAwQEBggGBggECAYGCAYDBgYIBAMECAYGBgQGBgMDBgQIBggGCAQGBggGBgQGCAgGBgYIBggEBggEBgYIBgYIBAQGBgYGBgYEBggICAYEBAgICAQIBgQECAQEBggGBAMIBAQDCAYICAYGCAYDBggGBAgGBgYEBAgGBgQGBAYGAwMEBAYIBggGCAQIBAgEBAgDAwYICAMGBgYECAQGBAQGBgMGCAgGCAgIAwYGBgYGBAQECAYGBggECAYGBgMEBAQGBAYEAwYEBAQGBAMGBgYGBgYGCAQDBggGBgQIBAYGBggEBAgGBggIAwgGBggGBggGBAgGCAQDBggGCAgGCAgDCAYIBgQGAwQEBAMEBAgEBAgDBgQGCAYEBggEBgYGBAYEBgQGBgYIBgQGBggGAwMICAQGBAgICAYGBgQDBAMGBgMIBAYGBggDBAQDBggGBgMGCAgEBggEBgMEBgQIBgMIAwYGCAgGBgYIBggEAwgICAQGBggIBgQDBggEBggGBgQDBgQICAQICAQICAMDBgQEBAQEBggICAYIAwMEBAQDBggDAwQIBggGCAgGBgYGBAQDBgQGBAQGCAYGBggGBgYIBgYGBAQICAQGBgYEBgMDCAgEBAgIAwYIBgYGAwYIBgYGAwQGBggGBAYDBgYGAwQGAwgIBgYGCAYDBgQGBAgGCAYGBgQICAgEBggEBgYEBgMEBAYEAwgECAgIBgYIBggIAwYEBAgGCAQICAQIBAQGBgQGBggICAYGBggEBgYIBgQIAwYIBgMGCAgGBgYGBgYGCAYGAwgGBAgIAwgGBggGCAQGBAgGCAgICAgICAMGBAYIAwgICAQEBggECAgDAwYGBgQDBggDAwYICAgGBgQGBggIBgYIBgYGCAgGCAYGBgYIBAYGCAgEBAYEBAgGBAgGBggIBggICAgGBAgEBAQGBgYGBgYGCAYGAwYGCAgDAwYGCAgGCAgIBggIBAYIBgYIBggIBggIAwQDBgYGBgMIBAgIBggECAYDBggDAwMDBgQIBgYIBggGBggIBAgGBgYIBgYICAQEBgYIBgYGCAYEBAQDBAYIBgQIBgYEBAYIBAgDCAQECAgIBAgGBgYGBgMGBAYGBAYGBgQGAwYIBgYIBgYEBgYEBAYDCAYGCAgECAYICAYECAMIBAgGCAYGCAYIBggGBggDBgMECAQGBgQDCAQGBAgGBgYGBgYIBgYIBgYEBggGBgYICAQEAwgEBgYEBgMIAwYGCAgGBAQEBAYECAYEBggGCAQIBgYGBAYGCAgEBAYICAgIBAQGCAQEBgYGBgYGCAgIBggDCAQGBAYGAwgIBggGBAYIBgYEBAgDBAQGCAYGAwMGCAgIBAQIBgQIBgQEBAMECAQICAYEAwYICAgGBgQGBAYIBgYIBgQGCAYGCAgGBgYGCAYGBAYICAYDCAYICAQEBgMEBgMGBAgIBgYGBgYECAYDBgYGBgYIBAYGCAQICAgGBgQDCAYIBAYGCAYGCAgGBAYGBAQGBAgIBgYDBgYGAwgICAgEBgMIBgQGBgQIAwYGBgYIBggIBggGCAYDBAYGBAQDCAYGBgQGCAYECAYGAwgIAwYIBAQDCAQIBAQGBggDCAgGBgYGBgYGCAQEBAgIAwYICAQECAgGBAQGBgQEBgMIBgYIBAYGBgYICAYGBggICAgIBgYEBAYIBAgICAQGBggGBAYEBAgGBAgDBgYICAgICAYGCAYIBgYGCAgEBggGAwgIBggGCAYEBAQEBAYICAYIBgQGBgYGBgYEBggGBggGCAYICAQGCAYGBAgIBgQIBAQEBgQIBgQICAYGBgYGAwQDBgMIBgYIAwYIBAMECAQECAMDBgYECAYECAgGBgYEAwgDCAgIBggEBggIBggGBggGBgQEBgYIBggIBggECAMIAwYGCAYGBAYDBgYIAwQGBgYGBggDAwgICAgGBggIBgQEBAYIBgYGBAgGCAQEBAgGBgQGBAYGBAgICAQECAYIBAYGBgYGBgYGAwgGCAQGBAMDBggGCAQIBAgIBgYGBgYDCAgDCAMICAgDAwgGBggIBgYEBgYGCAQGAwYIAwQIBggEBgYEBgYIBAMIBAQICAgGCAYGBgMIBAgGBgQGBggGBgQEBgYGCAQGBggEBgMGBAQGCAQIBggGBgYICAYECAgECAMECAMGCAYEAwQIBAgGBgYEBgQEBAYGBAQIBggEBggIBAQGCAYDBgYEBgQICAYGBgYGBgMIBgMEBAYECAgICAgIAwgDBgYEBgQGCAYGBgMIBggEBgMGBggICAYIBggIBggGBggECAMICAYGAwMEBAQEBgMEBgQGCAYDAwgGCAYICAYECAMEBAgICAYGBAYIBAYIBgYIBgYEBggECAYGBgQICAMDCAQGAwYECAgIBAQIAwQECAQDBgYGBAQIBAYGCAMGBAgICAYICAMIBAYIBgYEBggICAMGBAgIAwgDCAgGBgYGAwgGBgYIBggECAgEBgQICAYECAgGBgQGBAQECAMGCAYGCAYGBgYGCAYGCAgGCAMGBgQGBAgDBgYIBggGBgYIBAgIBgYGBgYEBAgDBggGCAYDBggIBggGBgYGAwQIBgQECAQIBggGBggGCAYGBgQEBgYDCAQECAYDBAYEBgYECAQIBgYIBggGBgMGBgYGBgYGBgMECAgGBggEBgYGBgQECAMGCAYIBAgDCAgEBAMECAMGBgMIBgYGBgMGBAYGCAMEBAMGBgYGAwgEBgMICAYGBgQIBgYGBAgEBgMIBgYEBgYEBAYEBgYGAwYGBgMGBAQIBgYIBAQECAQGBAYGBAYGBAgGBAQICAYGAwYDAwgIBgYGCAgGBgQGBgYGAwgGBgYEBgQGBggGBAYICAMIBgMDCAMGCAYEBAQIBggGAwgIBggGCAgEBgYGAwgIBgYICAYIBAgICAgICAYGBAQEBgQEBAMICAMGBAgDBAYIAwQGCAYICAgIBgQDBAgECAQEAwYDBgYIBAgDBggIBAQIBgYGCAgEBAgICAgGAwMIBggECAYIBAYICAQEBgYGBAYGCAYIBgMGBgYEBggGBgYGBggIBAgIAwgGBgYDBAYDCAgIBgQECAgEAwQEBgYEBgYGCAYIBAgIBgQGCAQGCAgICAgGBAQECAgGCAYIBgYGBAYIBgYGBgYEBgQGAwYIBgYDBAQECAgGAwYIAwYGBgYGBgYICAMEBgYGAwYIBggIAwYGBgQIBgQECAMGBgQGCAYEAwYIBAgIBgMICAYGBgYGBgYICAMEAwMGBAYICAYGCAYGBgYGBAMIAwgEBgQIBgYICAYIBAYICAQEBgQGBgQGBggIBgYDBAgEAwQDCAgICAQGBggIBAYEBgYIBAQGBggECAYGBgYGBAYEAwYIBgYGAwgECAgDBgMGCAgGBAQIBggGCAgGBgYGCAQGBggICAgIBAYEBgMGCAgICAYGBAgIBAYICAYGBggEBAgGCAYGBggGBAYIBggIBggGBAgEBAYGBgYIBgYGCAYIBgYGBgQGBgYEAwYGBgYGBgYEBgYEBgQGBgMGAwQIAwgECAQGCAYGBggIBggGBgYGBgYICAQGCAMGAwYEBggGBgQGBAYIBggGBAMIBgYDCAMGCAQIBgQGBAYGCAQEBgYDCAYIBgQGBgYEBgYICAgGBAgGBggDBAYDBAQGCAQDCAgEAwgGBAYICAYICAYGAwgGBgYGCAMGBAgEBgYEBAQGBgYIBAQGBAMGBgMIBgYGCAYDBAQGBggGCAYDBgYIBgYICAYIAwgIAwgIBAgECAMGCAYGCAQGBgYGBAYECAgGBggECAgICAMGAwMGCAgIBAgICAYIBggDAwYGCAYECAgICAYGBgQIAwYEBAYICAgEAwgEBAgDBgQIBgYIBggGCAYGBAgIAwgIAwgGBAgEBggGCAYICAYGAwgIBgQGAwgICAYGAwQDBAgIBggGBggGAwQGBAYIBgYGBgYGCAgICAMGCAgEBAYGBgYIBAYECAYEBgYIBgYIBggGAwYIAwYDCAYGBgYIBgQGAwMGBAMIAwQGCAgGBAYGCAgGBAgEBgYIBgYICAMGBgYICAMIBgYEBAYEAwQIBgQEBggGBgYDBgQEBgYEAwQICAYGBgYGBgQEBgYICAYIBgQIBAQEBgQICAgIBgYICAYGBAYIBgYGBAQDBAYIAwYIBggGBgMEBAMECAYIBgQGBAgEBggEBgQICAgGBgQGBgYGBggGCAYGBggEBgYICAgEBgYDCAYEAwgGBgQGBAYIBgYGBgYIAwQGBgQGBgMGCAQIBgYICAYIBgYGBgMEBgMGBAYEBgYICAYICAYIBgQEAwgGBAYEAwYEBgYEAwQDBAQGBgYECAgIBgMGCAgIAwYIBgMGBAgGAwgICAgECAgGBgMEAwYIBggIBAMGBgYICAYDBgYGCAYEBAMGBggGBAYDAwQEAwQEBggICAQGBggICAgEBAQEAwMIBgYEBggDBAgIBgQICAgGBgYIBgYGBggIBAYGBgQGBggEBAgGBggECAYGBAQGBAYGBAgGBgYGBggGAwYEBgYEBggGAwYIBAYIBAYDBggIBAgGBAYIBgYDCAYGBAQEBAMGCAQICAMGCAQGBgQEBgMECAQIBAQIBAYEBgQIBgYIBgYDAwgGBgYIBggGAwQECAYEBggEBggGBAgGAwYEBAQICAYEBgMGBgYGBgYIBAQECAgGCAgGCAMGBAQGBAYIBAgEBgYGCAYIAwYIBAgGAwYGBgYIBggIBgYGCAQGAwQGBggGCAYGCAgEBAYIAwYGBAgEAwgIBgMIBgYICAgEBgYIBgYGAwYGBAYICAYECAYGBgYEBggGBAQECAQGCAYICAgICAMGBAYIBAYDBAYGCAgGCAYEBgQIBgMGBggGBgYECAYICAgECAYICAYIBgYEAwQIBgYGCAQIBgYGBggIAwYDAwMEBAQIBggGBAYECAgGCAYIBggIBggEAwQDBAgGBggIBgMDBgQECAYGBgMGBAQECAgGBgQGBAYEBggICAgGBggGCAMIBgYDCAYGBggEBAgIBAQEBAYICAgGBggICAgGBAYGBgYIBggGCAQGBggGBgMGBgMGBgYICAgGAwYGBgYECAQIAwYDBgQGBgMGBAYGCAYIBgQGBgMGCAQDBggGBggGCAYEBggGAwMDCAYGBgMGBgYGCAQGAwYDBgYICAQGBAQECAMIBggGCAgGBgMGBAQICAgIBAgIBgYEBggDAwMEBAQGBgQICAgIAwgEAwYGAwQGBAMGAwMIBAYEBAQIBgYIBAYGAwgEBgYICAgGBAMGBgQIBggGBAYEAwYEBggGBAYGBgQIAwYGBAYDBgYGBAYIBAQGCAgGBggIBAgIBAgDCAYIBggECAYGCAMEBAYGCAgGBAYGCAYGBggGCAgEAwQDBgQGBAYEBgQGBgMDBgMIBAYIAwYGBAYDCAYGCAgIBggDBAMIBgYGBgYEBgQICAYGCAYDBAQIBggECAQGBgQICAMGCAYIAwMIBggIBggIBgYGAwgIBgYGBAgIBAYIAwgIBAQGBgYGBAYGBgQIBggEBgYDCAgEBAMEAwYGBgYIBgYGAwgDAwYDCAYIBgYIBAYDCAQGBggGCAYGBggIBgYECAgECAYGBgQGCAgIBAgGAwgGCAQGBgYEBAMDBAYGBgQGBgYECAYGCAYGBggEBgMDBAYECAMIBAQEBgQIBgMDAwMGBgYEBAgGBgQIBgYGBgYECAYGBggGBAQIAwYGBgQECAYGBgYICAYEBgYGCAYGBAQDCAYECAYGBgMGBgYECAgECAYGAwMGBAYIBgYEBAYICAgIBAYGCAYGBgYICAYICAQEBgYIBggDBgQGBgYIBggECAMIBgYEBgYGBAYIBAQGCAYGCAQGBAgGCAQECAYIBgYIBgMIBgYIAwgEBgYGAwgGBgMIBggIBgYGBgMIBgYIBggIBgYIBAYEBAgIBAgECAYICAYGBAYGBAYGBgYIAwQEBgQGBAgECAYIBgMIAwMGBgYIBgQIBAYIBgYGBggIBgYGBggIBgYIBgYECAMIBgYEBAYDCAgGBgQDBAgGBAgICAYIBgQGAwQGCAQGBgYEBggGCAYGBggGBAQICAgDBggIAwYIBggGCAYIBgQGBggECAYICAgGCAYECAYGAwYGBggGBAgICAQGCAYIBgMICAYGAwYECAYECAYDBgMGCAYICAYIBgYGCAYGCAgGBggGBAYIAwQIBAQDCAgIBgYEAwQGAwMGBAgGBgQGBAYIBgQIAwgECAMGCAQGBgYEBAYGBgQGAwYIBggIBggIBgYEBgYIBAMGBAQGBggIBggGCAQIBgQIBggIBAMEBggDCAYGAwYEBAYICAYIBgQDCAgIBgQEBAYGBgYGBgYGBggGCAQICAgGCAYEBggICAgIAwQEBggEBAMICAgECAYGBgYEAwQIBAQGCAYEBAgGCAYICAYGBggDBgYGAwgGAwgICAgIAwQICAQEBAgGCAgGBAYGBAQGCAMEBggICAYIBgYICAgECAYECAYEAwYGBgQGBAMGBgYICAYGAwYIBggECAgECAQICAgDCAgECAQEBgMGBAgDCAgIBgYIBggIBgQGCAgICAYDBAQIAwYGCAYIBggDBgYIBAgICAMDAwgDAwQGBgQGBggDCAgEBAgECAYGBgYICAYGCAgICAgICAQIBgMEBAYGCAYEAwgGBAMGAwgDCAQICAYICAMGBAQGBgYGBgYGBggGCAgGBAgGBggEBAYGBAgICAQGBggGBgQIBgQDCAQDAwYIBAgEBggICAgGBgMIBgQICAYGBgMGCAYDBgYGBgQGBgQEBgYECAYICAMGCAQIBgQDBAQICAgGBgQGAwYEBgQGBgQECAQEBAgIBggIBAYDCAYGBAgIBAgEBAMGCAgIBgQIBggDBAgGAwQGAwYIAwMEBggGCAQECAYEBgYGAwQGCAYECAQGBgMIBgYIBgMEBggGBgYIBgQICAgEBAYDCAYIBAQECAgGBgYIBAQIBAQDBggIBgYGCAMICAYGBAYDBgYEBggDBggGAwQGCAQGAwQGCAQGBggDBAYDBgQICAYGBgQEBAYDCAgGCAQIBgYEBgYEBgQGBAQEBgYGBAQICAYDCAQGAwYIBgYGCAYGAwMEBgYECAQEBggEAwgDBAYGBgMGBAgEBgYGBAYIAwYGCAQGCAYGBggGCAYGCAYEBAgGAwYGCAQEBgMIBAgIBgQICAgGBgQGBAYIBggECAMGBAgGCAYGBgMGBggEBgYICAYIBAgGBgYGBAgIAwQGBAYECAYDBgYICAYGBAgGCAYGAwMGBgYIBAgGBggGCAYIBgQICAYIBAgEBgQEBggGCAgIAwYEBAYIBgYGCAYIBgYGCAMEBggICAYGBgMGBAYDBggGCAYICAYEBggDBggECAgEBAYDBgYGBAQIBgYDBggECAMECAgECAgIBggDCAQDBAgIBggIBggGCAgIBgQEBggGBgYEBggGBAYECAYECAQGCAYDBAYGBggIBgQIBgQGAwgIBggGBgMIBgYEBgYECAYDBAYEBgQGBAYDCAYEBAgECAYGBAMEBgQGBAQGBAgDBAYGCAQIBAgEAwgEBAQIBAYICAYGBAMGAwYICAYIBggECAQEBAMGAwQEBAQECAgDCAYIBgYEAwgICAQIBgQGBgYIBgYDBggECAQICAYIBAYGBAYEAwgECAgGBggEAwgIBgQEBAgGCAYECAgECAgECAYICAQGCAYGBAgICAYGCAYGBggEBggIBggECAYGBAYGBAYEBggGCAgGAwYGCAgICAQGBgQIBggIBAYGBgQGCAYGBgYEAwYIBggEBAMGBggEBggECAMGBgYGCAYGBAYDAwQGBgQGBgQIBAQGCAgEBgQGBAYEBgYIBgYGBggIBgMGAwgICAMEBAgGCAYGBAQIAwQDBAYGAwgGBgYIAwgECAYGBgYIBAgGCAQGBgYIBggGCAYIBAQECAQIBAYIBgQECAQIBgQGBAYGCAQGBgQEBgYGBAYGBAQGBgYIAwgDCAYECAYGBAYDBAYIBgQIBAYGBggECAYGCAYICAYGBAYGCAQGBggGBggECAQDBgYGAwYGCAYGCAYGCAYEBgYICAQEBAYGBgMGAwMIAwYIBgQIBAgDBggIAwgICAYGCAgGBgMIBAYDCAYIBgYGBAMECAQIBgYGBgMEBAYIBgQGBAQICAYGCAYEBAYGAwYEBAQEBggGAwgECAYGBAMEBgMIBgQGCAgIAwgIBAYDBAgICAYICAgEBgYICAYGAwYGBgQIBgYICAYIAwQDBAYDBgYGBgQGBAgDBggEBggICAgECAYGCAYGBgQECAgICAQEBAYGBAYICAgGBgYGBgYECAYEBggIBAQIBgQICAgGBgYGBAYGAwgICAYIBAQGBggGBgQGBAgGCAYGBAYGBggEBggECAMGBAMGBgQIBgYGBgYGAwQICAYIBAYIBAgECAYEBAYICAgGBAMGBgYGBgQICAYECAgGBggGCAgICAMECAYECAYEBgQGBggIBAYGCAMICAgEBggICAgEBggGBgYGBgQIBgYGCAQECAYDBggIAwgECAYGBAMGBggGBgYGAwgGBAYICAYEBgYICAYEBAgGCAYEBggIBgYGBggGCAQICAYGBAYIBgYECAYEBAYGCAMIBggIBgYGCAgGBAYGBAQEBggIBggIBAQEBgYEBgQICAgGAwYEBgQDCAQGBggGBgYGCAYEBAQECAgECAYIBAQGBggIBgYECAYEBAQGBAYECAYGCAYGAwYIBgYDBgYICAYIBggDBAQICAYIBggECAYGBgMDBggGBgMECAgIBgYGCAQEBggDBgQIBgMDCAMIBAYICAMIBAMECAgEBAYIBAQICAgGBAYDBgQEBgYEBgQGBgQGBAQIAwYICAYEBggGBAgGBgQIBgYGCAMECAQDBggEBggDBgMEBggGBggGBgYIAwgICAQGBgYEBgYEBggIBgYIBAgEBgYGCAYGAwgEBAgIBAgEBggGAwgICAYGAwgGAwYGBgYIAwgEBgYICAYEBgQDBgYIBgYIAwQECAYGBgQEBggIAwgIBAYICAYEBgMECAgECAYIBgYIBggEBgYGAwYGBggGCAYICAgDBAgGBgYIBggGBgYGBAgDAwYICAQECAMGBgYICAgGCAQDBAgEBgYECAYIBAQIAwQIBgQICAQDCAYIBgQIBgMGBAQEBgQEBgQIBAgIAwYIBgQGCAYEBgYGBAYGBgMGBAgGBgYGBgYGBgQGBgQIBgMGBggDBAgGAwYIBAYIBgQGAwgIBgQGCAQGBgYEBAYECAgDBgYIBgYEBAgGCAgGBgYGBAgECAgIBAMDAwYEBAgIBgYIBAQGCAgICAYIBggGBAMECAYGBggGBgQDBgYIBAYICAgGBgYEBgYGBgYDCAgGCAYIAwQGBAYGBgQGBAYGAwQIBgYEBgQIBAgEBAgEAwQGBgQGBgYGBAgGAwYGCAYEBgMGCAYIBgYIBAgDBAgEBgQECAYECAYIBAQGBAYEBgMGBgQGCAYECAYECAQECAgIBgMGBgQICAgGCAQGBAMGCAYIAwgGBggICAgIBggGBggEBggIBgQGBgYICAYIBgYGBgQGBAYEBggICAYICAgICAYIBAYECAgEBggIBAQEBggGBAQICAQEBggDBgQGCAYECAgGBggIBAQIBgYGBggGCAYICAYGBgMEBgYGCAYICAYDAwYEBAMICAYGBgQEBAYGBgQEBAQGCAYICAYGCAYGBggICAYIBggGCAYGCAgGCAgIBgYIBggECAYGCAQGBAYGBggICAQEAwgDCAYIBAYGBgYIAwYGBggGBAYICAYGCAYDCAYIBAgGCAMIBAYECAMICAgGBAYIBAMGAwgGBAQIBggECAMEBgYDBAYIAwgGBggGCAYGBgYGBgYIBgYIBgYIBgYEBgYGAwYECAgGBgYDBgMGBgYGBAgEBAgGBAMEBgQGBgYIAwYGCAMEBggGBgYGBgQIBgYECAYGCAgGBgYDCAgGCAMECAgGBgMGCAMEBAgGBgYGBggICAQIBAYGAwgGBAYEBAQIBgMGBgYGBggIBggDBgYIBAQGBgYEBgYGAwgECAYGCAYGBAYEBAgGBggGAwYICAgDCAYIBgYEBAgDBAYDBgQIBAgICAQGCAQGBAYECAQICAMGCAQICAYECAgEBgYEBgYDCAQGBgYEBgYGBAMIBAMDCAYIBgMICAgGBgQEBAYDCAgGBgYIBggIBgYEBAgICAYDBgYGBgQICAYGCAgECAYICAYGCAYDCAMDAwQEBgYGAwMGCAYGAwgGBAQGAwgDBgYDCAYEBggGBAYICAYDBAYGCAgGBggGCAYGBgMEBAMGBgYICAgEBgMDCAYIBgYEBgMGBgQIBgYDCAYGAwgGBAgIAwYGBgQIBggECAYGCAQGCAQICAQGCAYIBgYGBAgIBAQECAYIAwYGBgQIAwYICAYGBgYEAwYIBAYDBgYGBgYGCAgIBggGBgYEBgMIAwgGBAgIBAYGCAQIBAgGBAQEBAQDBgMICAYGAwgICAgGBgMIAwgDBAYGBggGBAMECAYGBgYGBgQGBAMGCAgGBAQGCAYGCAgGCAQGBAQICAQGBAgEBgQGCAQGCAgICAYGBgQDBgYIBgMIBggIBAgGCAgEAwYIAwMIBAQIBgQIBgQGBAQIBgMECAYICAYGBAMIBAYICAQDBgYEBAQGCAYIBAgEBgQDCAQIBgYGCAgGCAYIBgYGBggGBgQGCAYGAwgGCAQIBggIBAgGBAYGCAgIBgMGCAgGBAgDBggECAYGCAgGBAYGCAYIBAYEBgQIBAgGBgQGCAgEBgQEBgYGBAYIBggIBgYICAQGBgQEBgYGBAgGCAgIBgQGCAgGBgQGBggGBgQGBgYECAgGCAYEBggIBgYDCAYGBggICAgGBgYGCAQGBggGCAQGBAQGCAYDBgYIBggDBgYIBAYGCAMECAYGBAQGBAYGBggGBggGBAMGBgQEBgYEBgYGCAgGCAYGAwYIBgYGBgQGBggIBgQGCAgIBgQEAwYGBgYGBAgICAQIBAgECAYGCAQIBgQGBAQGBAYGAwYIBAQEBAgICAMDCAYGBgYIBgYGBgMIBAgIBAgEBgMIBggGCAgICAYEBAYGAwMIBgQGCAgIBAMGCAgECAgDAwYEBAQECAYGCAMGBgYGBgYGBAgGBgYGBggEBAgGCAYIBAQGCAgGBAQIBgQICAQIBgQGBgYICAgECAQDAwgECAQGCAgDCAYEBgYEAwYGBggEAwQIBAQGCAMICAYGBgYICAYIBAYICAYICAQGBAMIBgMICAMGAwgDCAgGBgYICAYIAwYICAgIBAYGBAgECAYIBgYIBAQICAQICAgIBgYGBgQGBggECAgGAwYGCAgGBgYICAMICAYEBAQECAQEBAQGBAYIBgYICAYEBggGBgMEBAgIBAMGCAMGCAQIBAYGBgYECAQGCAgGBggIAwYGAwYGCAgGCAgICAQGBgYIBgYGBgQGBgYGBAYGBgYEBgQECAgEBggEAwQEBAgGCAgGBggGBAYICAgGCAgGAwYIBAMGCAMGCAgEBgMEBggECAYGBAMIBgYGBggIBAgGCAYEBAQGAwQEBgYICAgIBggICAgGBAgIBgYEBgMICAYECAYGBgYICAYGBggGCAMECAgGCAgGCAYICAgGBggEAwYDBAgIBAMGBAYGBggGBAQIBgQIAwYEBggGAwMEBgQIBggDCAQIBAYEBggIBgYGBgQIBAQIBgQGBgYDAwYEBggEBAYGBggDBAgGAwgGBAgICAgEBggGCAYGBgQGBgQGCAYGCAYGBgMEAwYEBgYIBAQIBAMGCAYGBgYDBAQECAYGBggDAwYEBAgIBgQEBAYIBAYIBAYEAwYIBAYICAYIBgYIBAYIBggGBAYIBgQICAgGCAgGCAMGCAYGBggICAYDCAQIBgQIBgYEBgYIBAQIAwYGBgMIBAQIAwgICAQGCAYGCAYGAwYIBgMGBgMGCAYIAwYIBggIBggICAMGCAMIBgQECAgGAwQGBgYEBAQGBgYGCAgEAwgGCAQDCAYGBgYEBggIBAgGBAYGBAQECAYGBgYICAQICAgIBgYGCAgGBggDCAYGBgYGCAQIBggGBgMGCAgGCAgIBgQGBAgGCAYGCAYECAYGBgYDBgYGBgQGBgYGBgYIBAgGBAYGBgYICAYICAQIBAYEBgYDCAQECAQIAwgGAwYGBAYIBgYGAwYGBggGBAYGCAYGBgQEBgMGBAgDBAQGBgQGCAYGCAYEBgYIBgYECAMIBggECAQGCAgIBAQIAwgEBgYGCAYEBgYGBgQEBggIBgQICAgIBgQICAYICAYGBAYEBggEBAYIBAgIAwYICAMIBgYDBgYGCAYDCAQDCAQGCAYGCAYDBgQGBgYGCAgGCAYGCAYIBAQGAwgDCAQEBgYIBggEBgYEBAYGCAMGCAgDBgYGBgMDBgYGBAYIBAYIAwQIBAgIBAYICAgGBggGBgYIBgMGBgYGBAQIBgYICAYIBggGBggDBggGBggEBgYGBAYGCAYGCAYDBAMDCAQGCAQGBgMGBAgGBgYGCAQIAwYEBgQIBgYIBggDBggGCAYIBgYIBgQGCAYIBAYICAYEBAYGCAYICAYGCAYICAMGBgQEBAgIBAMECAYDCAYIBgYDCAgIBggIBgYICAgIBAQGBggICAYDCAgEBAYIBAgGBggGBAQGAwYICAYECAgDCAgGBgYEAwQDBAYGBAgEBggEAwgGCAMGBAgICAYIBggDBgYIBAYEBggGCAgIAwQGBAgGBAQIBggIBgMIBggIBgQGCAYECAYGBgQGCAgGAwQICAgGBAYDBggICAYDAwYDBgMGAwYECAgGAwQEBggICAYIBgYDCAQEBgYECAgIBAYEBAYGCAYGCAgIBgYIBAgIBggGBggEAwgECAYIBAQGCAYGBAYICAgGCAQEBAgEAwQIBgQECAYGAwQDBgYECAQGCAMIAwQDCAYEBgQEBggICAQIBAYEBgYGBgYIBAMGCAYIBgQIBgYEBgQDBAgIBggGCAYEAwgDBgYDBAgIBggGCAgEBgYGBgYGBgMIBgYGBgMICAYIBggGBAYIAwgGCAgEBAYGBgYDCAgEBgYGBggECAYGBgYGCAYIBgYGCAYEBAgIBggECAgIAwYGBAQIBAMIBAYGCAQDCAYGCAQICAYECAgECAgGCAYGBAYIAwgECAYGCAQDCAgIBAgECAYGBgQGBggICAMIBAYDBAgEBAgGBgQEBgQGBAYICAgICAQIBgYGCAgIAwgGBgQGBAYEBgMIBgYIBAQEBgYGCAYIBAgIBAgECAMGCAMGBgYGBgYIBgMGBgYGCAgGBgQGCAYGAwQIBAgICAgDBggIBgYGBgQGBAYDCAQEAwQGBggICAgECAgDCAQGAwgGBgYEBgQEAwgGCAYECAYGBgYIBAQICAgDCAQDCAYGCAQGBggGBgYICAgDBggIBgYIBgYIBgQGCAQIBggGBggGBgQIBgYDCAYICAYDCAYGCAYGBggIBAQGCAQEBggGBggIBAgIBAgIBgMGBAYIBgYDAwQGBAgDBgYGBgYECAYGCAMDCAgGBAQEBAYICAgDBggGBgYECAQGBAQECAYIBgYGBggECAYGAwMDBgMGBgYICAgGCAgGCAYECAYIBggGCAYEBAMEAwQEBgYICAgIBgYEBgQECAYECAQGCAYGAwYICAYGBAQIBgYGBgQGCAMGBAQIBAQGCAgECAQEAwYGBgYDBgYIBAYGCAYGBgYGAwYDCAQIBgYIBgMEBAgEBAQEBgQIBgQGBgQEBggIAwMGBAQGBggICAgIBgYDBgMEBgQICAYDCAgGBgYIBgQIBgYDBgYECAgGBAYDBgQICAQEBAYGBAYIBgMGAwgGBgYGBAYDBggICAgECAgEBAYIBggICAYEBAYEBggECAQGCAgEBgQIBgYDCAgICAMGCAgGBggIBgYECAgIAwQIBgQEBggGBgQIBAMGAwYICAYGBgYGCAQEBAYECAgGCAYDCAQDCAgGBgYDBggDCAgDCAYICAQEBgYIBAQGBggIBggGBAgIAwQIBgYGAwQDBAMEBgQGCAgEBgQICAYGCAYGBgQEBAYGBgYGCAQIBgYICAQIBggGBAMGAwgIBgMGCAQGBggGAwgIAwYGAwYICAQIAwYDAwYEBgQGBAgECAgICAYIBggGCAYGBgYICAYGBggGBgQIBgYGCAYGBgYEAwgEBggGBAQGBAYDBgYIBAMDBgYDBAgDBgYIBgYGBggDAwYICAQEBggICAYGBgQGBgMIBggIBAMGBgMGCAYIBgYGBggGBgYIBAQICAgEBggEBgYDCAYGBAMIBAgGBgYGCAYEBAYGBAgIAwQIBAYICAgGBggGBAMGBAYGCAgIBgYEBggGBAYGBggICAYGCAYIBgYIBgMGBggIBAgIBgMDCAYEBgYICAgIAwYEBgYICAMIBggICAgECAYIBggGBgYECAYGCAMGAwYECAYEBggIBgMIBAgGBgMDBgQIBgYGBAYIBgYIBgYGBgYGBAQEBgYGAwMGAwYGCAMICAQGCAYGCAYGBgQGCAMIBgMGBAgGBAgIBgQEBgYEAwgDCAgGBgYIAwgGBAQECAQIBggECAQGCAYGCAQICAQIBAgGBAgGBAgEAwgIBgYIBgMGBAMEBAYIBgQGBggEAwYGAwgGBAYGBAQIAwYGBAYDCAgECAYEBAgDAwMIBAQIBgYGCAQGCAgGBAQGBgYGBggGCAgEBgYIBggGBgYDBAgGAwYIBgQEBgYECAgIAwYECAQEBAYGBAYGBgQDBAYIBAYDBgYGBgMDCAYDCAQECAgGCAgECAYIBAgGCAYDBgYIBgQIBggEBgYGBgYECAQGCAgEAwgGBgMEAwYEBgYEBgYDCAQEAwYIBAMGBgMGBAgICAQEBAgGBgYGCAYDBAQDCAgECAQGBggIBgYIBggGBgYGBAYIAwYGCAMGBgYEBgYDAwgGCAYIBggDBAQIBAgGBggICAgIBgQDBAYIBAYIBgYGBgMGCAYGBgYDBgYGBggIBAQGBggIBggDBgYIBAYGBgQGBAYGBAYIAwgGAwYECAYIBAYGCAYICAYIBAYGBgQIBgYIBggGCAMICAMGBAYECAgGCAgECAYIBgQGCAgECAYIBgQECAYDBggIBgMEBgYGBggGAwQDCAYDBgYEAwgIBgYIBgQIBgQICAQDBAgEAwQGCAYICAQGBAg=",
                    "dtype": "i1"
                  },
                  "xaxis": "x",
                  "yaxis": "y"
                }
              ],
              "layout": {
                "barmode": "relative",
                "legend": {
                  "tracegroupgap": 0
                },
                "template": {
                  "data": {
                    "bar": [
                      {
                        "error_x": {
                          "color": "#2a3f5f"
                        },
                        "error_y": {
                          "color": "#2a3f5f"
                        },
                        "marker": {
                          "line": {
                            "color": "#E5ECF6",
                            "width": 0.5
                          },
                          "pattern": {
                            "fillmode": "overlay",
                            "size": 10,
                            "solidity": 0.2
                          }
                        },
                        "type": "bar"
                      }
                    ],
                    "barpolar": [
                      {
                        "marker": {
                          "line": {
                            "color": "#E5ECF6",
                            "width": 0.5
                          },
                          "pattern": {
                            "fillmode": "overlay",
                            "size": 10,
                            "solidity": 0.2
                          }
                        },
                        "type": "barpolar"
                      }
                    ],
                    "carpet": [
                      {
                        "aaxis": {
                          "endlinecolor": "#2a3f5f",
                          "gridcolor": "white",
                          "linecolor": "white",
                          "minorgridcolor": "white",
                          "startlinecolor": "#2a3f5f"
                        },
                        "baxis": {
                          "endlinecolor": "#2a3f5f",
                          "gridcolor": "white",
                          "linecolor": "white",
                          "minorgridcolor": "white",
                          "startlinecolor": "#2a3f5f"
                        },
                        "type": "carpet"
                      }
                    ],
                    "choropleth": [
                      {
                        "colorbar": {
                          "outlinewidth": 0,
                          "ticks": ""
                        },
                        "type": "choropleth"
                      }
                    ],
                    "contour": [
                      {
                        "colorbar": {
                          "outlinewidth": 0,
                          "ticks": ""
                        },
                        "colorscale": [
                          [
                            0,
                            "#0d0887"
                          ],
                          [
                            0.1111111111111111,
                            "#46039f"
                          ],
                          [
                            0.2222222222222222,
                            "#7201a8"
                          ],
                          [
                            0.3333333333333333,
                            "#9c179e"
                          ],
                          [
                            0.4444444444444444,
                            "#bd3786"
                          ],
                          [
                            0.5555555555555556,
                            "#d8576b"
                          ],
                          [
                            0.6666666666666666,
                            "#ed7953"
                          ],
                          [
                            0.7777777777777778,
                            "#fb9f3a"
                          ],
                          [
                            0.8888888888888888,
                            "#fdca26"
                          ],
                          [
                            1,
                            "#f0f921"
                          ]
                        ],
                        "type": "contour"
                      }
                    ],
                    "contourcarpet": [
                      {
                        "colorbar": {
                          "outlinewidth": 0,
                          "ticks": ""
                        },
                        "type": "contourcarpet"
                      }
                    ],
                    "heatmap": [
                      {
                        "colorbar": {
                          "outlinewidth": 0,
                          "ticks": ""
                        },
                        "colorscale": [
                          [
                            0,
                            "#0d0887"
                          ],
                          [
                            0.1111111111111111,
                            "#46039f"
                          ],
                          [
                            0.2222222222222222,
                            "#7201a8"
                          ],
                          [
                            0.3333333333333333,
                            "#9c179e"
                          ],
                          [
                            0.4444444444444444,
                            "#bd3786"
                          ],
                          [
                            0.5555555555555556,
                            "#d8576b"
                          ],
                          [
                            0.6666666666666666,
                            "#ed7953"
                          ],
                          [
                            0.7777777777777778,
                            "#fb9f3a"
                          ],
                          [
                            0.8888888888888888,
                            "#fdca26"
                          ],
                          [
                            1,
                            "#f0f921"
                          ]
                        ],
                        "type": "heatmap"
                      }
                    ],
                    "histogram": [
                      {
                        "marker": {
                          "pattern": {
                            "fillmode": "overlay",
                            "size": 10,
                            "solidity": 0.2
                          }
                        },
                        "type": "histogram"
                      }
                    ],
                    "histogram2d": [
                      {
                        "colorbar": {
                          "outlinewidth": 0,
                          "ticks": ""
                        },
                        "colorscale": [
                          [
                            0,
                            "#0d0887"
                          ],
                          [
                            0.1111111111111111,
                            "#46039f"
                          ],
                          [
                            0.2222222222222222,
                            "#7201a8"
                          ],
                          [
                            0.3333333333333333,
                            "#9c179e"
                          ],
                          [
                            0.4444444444444444,
                            "#bd3786"
                          ],
                          [
                            0.5555555555555556,
                            "#d8576b"
                          ],
                          [
                            0.6666666666666666,
                            "#ed7953"
                          ],
                          [
                            0.7777777777777778,
                            "#fb9f3a"
                          ],
                          [
                            0.8888888888888888,
                            "#fdca26"
                          ],
                          [
                            1,
                            "#f0f921"
                          ]
                        ],
                        "type": "histogram2d"
                      }
                    ],
                    "histogram2dcontour": [
                      {
                        "colorbar": {
                          "outlinewidth": 0,
                          "ticks": ""
                        },
                        "colorscale": [
                          [
                            0,
                            "#0d0887"
                          ],
                          [
                            0.1111111111111111,
                            "#46039f"
                          ],
                          [
                            0.2222222222222222,
                            "#7201a8"
                          ],
                          [
                            0.3333333333333333,
                            "#9c179e"
                          ],
                          [
                            0.4444444444444444,
                            "#bd3786"
                          ],
                          [
                            0.5555555555555556,
                            "#d8576b"
                          ],
                          [
                            0.6666666666666666,
                            "#ed7953"
                          ],
                          [
                            0.7777777777777778,
                            "#fb9f3a"
                          ],
                          [
                            0.8888888888888888,
                            "#fdca26"
                          ],
                          [
                            1,
                            "#f0f921"
                          ]
                        ],
                        "type": "histogram2dcontour"
                      }
                    ],
                    "mesh3d": [
                      {
                        "colorbar": {
                          "outlinewidth": 0,
                          "ticks": ""
                        },
                        "type": "mesh3d"
                      }
                    ],
                    "parcoords": [
                      {
                        "line": {
                          "colorbar": {
                            "outlinewidth": 0,
                            "ticks": ""
                          }
                        },
                        "type": "parcoords"
                      }
                    ],
                    "pie": [
                      {
                        "automargin": true,
                        "type": "pie"
                      }
                    ],
                    "scatter": [
                      {
                        "fillpattern": {
                          "fillmode": "overlay",
                          "size": 10,
                          "solidity": 0.2
                        },
                        "type": "scatter"
                      }
                    ],
                    "scatter3d": [
                      {
                        "line": {
                          "colorbar": {
                            "outlinewidth": 0,
                            "ticks": ""
                          }
                        },
                        "marker": {
                          "colorbar": {
                            "outlinewidth": 0,
                            "ticks": ""
                          }
                        },
                        "type": "scatter3d"
                      }
                    ],
                    "scattercarpet": [
                      {
                        "marker": {
                          "colorbar": {
                            "outlinewidth": 0,
                            "ticks": ""
                          }
                        },
                        "type": "scattercarpet"
                      }
                    ],
                    "scattergeo": [
                      {
                        "marker": {
                          "colorbar": {
                            "outlinewidth": 0,
                            "ticks": ""
                          }
                        },
                        "type": "scattergeo"
                      }
                    ],
                    "scattergl": [
                      {
                        "marker": {
                          "colorbar": {
                            "outlinewidth": 0,
                            "ticks": ""
                          }
                        },
                        "type": "scattergl"
                      }
                    ],
                    "scattermap": [
                      {
                        "marker": {
                          "colorbar": {
                            "outlinewidth": 0,
                            "ticks": ""
                          }
                        },
                        "type": "scattermap"
                      }
                    ],
                    "scattermapbox": [
                      {
                        "marker": {
                          "colorbar": {
                            "outlinewidth": 0,
                            "ticks": ""
                          }
                        },
                        "type": "scattermapbox"
                      }
                    ],
                    "scatterpolar": [
                      {
                        "marker": {
                          "colorbar": {
                            "outlinewidth": 0,
                            "ticks": ""
                          }
                        },
                        "type": "scatterpolar"
                      }
                    ],
                    "scatterpolargl": [
                      {
                        "marker": {
                          "colorbar": {
                            "outlinewidth": 0,
                            "ticks": ""
                          }
                        },
                        "type": "scatterpolargl"
                      }
                    ],
                    "scatterternary": [
                      {
                        "marker": {
                          "colorbar": {
                            "outlinewidth": 0,
                            "ticks": ""
                          }
                        },
                        "type": "scatterternary"
                      }
                    ],
                    "surface": [
                      {
                        "colorbar": {
                          "outlinewidth": 0,
                          "ticks": ""
                        },
                        "colorscale": [
                          [
                            0,
                            "#0d0887"
                          ],
                          [
                            0.1111111111111111,
                            "#46039f"
                          ],
                          [
                            0.2222222222222222,
                            "#7201a8"
                          ],
                          [
                            0.3333333333333333,
                            "#9c179e"
                          ],
                          [
                            0.4444444444444444,
                            "#bd3786"
                          ],
                          [
                            0.5555555555555556,
                            "#d8576b"
                          ],
                          [
                            0.6666666666666666,
                            "#ed7953"
                          ],
                          [
                            0.7777777777777778,
                            "#fb9f3a"
                          ],
                          [
                            0.8888888888888888,
                            "#fdca26"
                          ],
                          [
                            1,
                            "#f0f921"
                          ]
                        ],
                        "type": "surface"
                      }
                    ],
                    "table": [
                      {
                        "cells": {
                          "fill": {
                            "color": "#EBF0F8"
                          },
                          "line": {
                            "color": "white"
                          }
                        },
                        "header": {
                          "fill": {
                            "color": "#C8D4E3"
                          },
                          "line": {
                            "color": "white"
                          }
                        },
                        "type": "table"
                      }
                    ]
                  },
                  "layout": {
                    "annotationdefaults": {
                      "arrowcolor": "#2a3f5f",
                      "arrowhead": 0,
                      "arrowwidth": 1
                    },
                    "autotypenumbers": "strict",
                    "coloraxis": {
                      "colorbar": {
                        "outlinewidth": 0,
                        "ticks": ""
                      }
                    },
                    "colorscale": {
                      "diverging": [
                        [
                          0,
                          "#8e0152"
                        ],
                        [
                          0.1,
                          "#c51b7d"
                        ],
                        [
                          0.2,
                          "#de77ae"
                        ],
                        [
                          0.3,
                          "#f1b6da"
                        ],
                        [
                          0.4,
                          "#fde0ef"
                        ],
                        [
                          0.5,
                          "#f7f7f7"
                        ],
                        [
                          0.6,
                          "#e6f5d0"
                        ],
                        [
                          0.7,
                          "#b8e186"
                        ],
                        [
                          0.8,
                          "#7fbc41"
                        ],
                        [
                          0.9,
                          "#4d9221"
                        ],
                        [
                          1,
                          "#276419"
                        ]
                      ],
                      "sequential": [
                        [
                          0,
                          "#0d0887"
                        ],
                        [
                          0.1111111111111111,
                          "#46039f"
                        ],
                        [
                          0.2222222222222222,
                          "#7201a8"
                        ],
                        [
                          0.3333333333333333,
                          "#9c179e"
                        ],
                        [
                          0.4444444444444444,
                          "#bd3786"
                        ],
                        [
                          0.5555555555555556,
                          "#d8576b"
                        ],
                        [
                          0.6666666666666666,
                          "#ed7953"
                        ],
                        [
                          0.7777777777777778,
                          "#fb9f3a"
                        ],
                        [
                          0.8888888888888888,
                          "#fdca26"
                        ],
                        [
                          1,
                          "#f0f921"
                        ]
                      ],
                      "sequentialminus": [
                        [
                          0,
                          "#0d0887"
                        ],
                        [
                          0.1111111111111111,
                          "#46039f"
                        ],
                        [
                          0.2222222222222222,
                          "#7201a8"
                        ],
                        [
                          0.3333333333333333,
                          "#9c179e"
                        ],
                        [
                          0.4444444444444444,
                          "#bd3786"
                        ],
                        [
                          0.5555555555555556,
                          "#d8576b"
                        ],
                        [
                          0.6666666666666666,
                          "#ed7953"
                        ],
                        [
                          0.7777777777777778,
                          "#fb9f3a"
                        ],
                        [
                          0.8888888888888888,
                          "#fdca26"
                        ],
                        [
                          1,
                          "#f0f921"
                        ]
                      ]
                    },
                    "colorway": [
                      "#636efa",
                      "#EF553B",
                      "#00cc96",
                      "#ab63fa",
                      "#FFA15A",
                      "#19d3f3",
                      "#FF6692",
                      "#B6E880",
                      "#FF97FF",
                      "#FECB52"
                    ],
                    "font": {
                      "color": "#2a3f5f"
                    },
                    "geo": {
                      "bgcolor": "white",
                      "lakecolor": "white",
                      "landcolor": "#E5ECF6",
                      "showlakes": true,
                      "showland": true,
                      "subunitcolor": "white"
                    },
                    "hoverlabel": {
                      "align": "left"
                    },
                    "hovermode": "closest",
                    "mapbox": {
                      "style": "light"
                    },
                    "paper_bgcolor": "white",
                    "plot_bgcolor": "#E5ECF6",
                    "polar": {
                      "angularaxis": {
                        "gridcolor": "white",
                        "linecolor": "white",
                        "ticks": ""
                      },
                      "bgcolor": "#E5ECF6",
                      "radialaxis": {
                        "gridcolor": "white",
                        "linecolor": "white",
                        "ticks": ""
                      }
                    },
                    "scene": {
                      "xaxis": {
                        "backgroundcolor": "#E5ECF6",
                        "gridcolor": "white",
                        "gridwidth": 2,
                        "linecolor": "white",
                        "showbackground": true,
                        "ticks": "",
                        "zerolinecolor": "white"
                      },
                      "yaxis": {
                        "backgroundcolor": "#E5ECF6",
                        "gridcolor": "white",
                        "gridwidth": 2,
                        "linecolor": "white",
                        "showbackground": true,
                        "ticks": "",
                        "zerolinecolor": "white"
                      },
                      "zaxis": {
                        "backgroundcolor": "#E5ECF6",
                        "gridcolor": "white",
                        "gridwidth": 2,
                        "linecolor": "white",
                        "showbackground": true,
                        "ticks": "",
                        "zerolinecolor": "white"
                      }
                    },
                    "shapedefaults": {
                      "line": {
                        "color": "#2a3f5f"
                      }
                    },
                    "ternary": {
                      "aaxis": {
                        "gridcolor": "white",
                        "linecolor": "white",
                        "ticks": ""
                      },
                      "baxis": {
                        "gridcolor": "white",
                        "linecolor": "white",
                        "ticks": ""
                      },
                      "bgcolor": "#E5ECF6",
                      "caxis": {
                        "gridcolor": "white",
                        "linecolor": "white",
                        "ticks": ""
                      }
                    },
                    "title": {
                      "x": 0.05
                    },
                    "xaxis": {
                      "automargin": true,
                      "gridcolor": "white",
                      "linecolor": "white",
                      "ticks": "",
                      "title": {
                        "standoff": 15
                      },
                      "zerolinecolor": "white",
                      "zerolinewidth": 2
                    },
                    "yaxis": {
                      "automargin": true,
                      "gridcolor": "white",
                      "linecolor": "white",
                      "ticks": "",
                      "title": {
                        "standoff": 15
                      },
                      "zerolinecolor": "white",
                      "zerolinewidth": 2
                    }
                  }
                },
                "title": {
                  "text": "Population of X"
                },
                "xaxis": {
                  "anchor": "y",
                  "domain": [
                    0,
                    1
                  ],
                  "title": {
                    "text": "X"
                  }
                },
                "yaxis": {
                  "anchor": "x",
                  "domain": [
                    0,
                    1
                  ],
                  "title": {
                    "text": "probability"
                  }
                }
              }
            }
          },
          "metadata": {},
          "output_type": "display_data"
        }
      ],
      "source": [
        "px.histogram(sim_df, x=\"X\", histnorm=\"probability\", title=\"Population of X\")"
      ]
    },
    {
      "cell_type": "code",
      "execution_count": null,
      "id": "308a5876-4620-4835-8685-cf0183deed96",
      "metadata": {},
      "outputs": [
        {
          "data": {
            "text/html": [
              "<div>\n",
              "<style scoped>\n",
              "    .dataframe tbody tr th:only-of-type {\n",
              "        vertical-align: middle;\n",
              "    }\n",
              "\n",
              "    .dataframe tbody tr th {\n",
              "        vertical-align: top;\n",
              "    }\n",
              "\n",
              "    .dataframe thead th {\n",
              "        text-align: right;\n",
              "    }\n",
              "</style>\n",
              "<table border=\"1\" class=\"dataframe\">\n",
              "  <thead>\n",
              "    <tr style=\"text-align: right;\">\n",
              "      <th></th>\n",
              "      <th>Sample</th>\n",
              "      <th>Population</th>\n",
              "    </tr>\n",
              "  </thead>\n",
              "  <tbody>\n",
              "    <tr>\n",
              "      <th>0</th>\n",
              "      <td>6.080000</td>\n",
              "      <td>5.906038</td>\n",
              "    </tr>\n",
              "    <tr>\n",
              "      <th>1</th>\n",
              "      <td>2.437980</td>\n",
              "      <td>2.870319</td>\n",
              "    </tr>\n",
              "    <tr>\n",
              "      <th>2</th>\n",
              "      <td>1.561403</td>\n",
              "      <td>1.694202</td>\n",
              "    </tr>\n",
              "  </tbody>\n",
              "</table>\n",
              "</div>"
            ],
            "text/plain": [
              "     Sample  Population\n",
              "0  6.080000    5.906038\n",
              "1  2.437980    2.870319\n",
              "2  1.561403    1.694202"
            ]
          },
          "execution_count": 103,
          "metadata": {},
          "output_type": "execute_result"
        }
      ],
      "source": [
        "pd.DataFrame(\n",
        "    {\"Sample\": [sample_df[\"X\"].mean(), sample_df[\"X\"].var(), np.sqrt(sample_df[\"X\"].var())],\n",
        "     \"Population\": [sim_df[\"X\"].mean(), sim_df[\"X\"].var(), np.sqrt(sim_df[\"X\"].var())]})"
      ]
    },
    {
      "cell_type": "code",
      "execution_count": null,
      "id": "1a8e08e2",
      "metadata": {},
      "outputs": [
        {
          "data": {
            "image/png": "[encoded data removed]",
            "text/plain": [
              "<Figure size 3000x600 with 3 Axes>"
            ]
          },
          "metadata": {
            "needs_background": "light"
          },
          "output_type": "display_data"
        }
      ],
      "source": [
        "# Three different distributions of X where E(X)=25\n",
        "\n",
        "# First distribution\n",
        "dist1_df = pd.DataFrame({\"x\": [20, 25, 30],\n",
        "                         \"P(X = x)\": [0.2, 0.5, 0.2]})\n",
        "# Second distribution -- really skewed\n",
        "dist2_df = pd.DataFrame({\"x\": [0, 25, 50],\n",
        "                         \"P(X = x)\": [0.49, 0.02, 0.49]})\n",
        "# Third distribution -- skewed left\n",
        "dist3_df = pd.DataFrame({\"x\": [0, 25, 150],\n",
        "                         \"P(X = x)\": [0.5, 0.4, 0.1]})\n",
        "\n",
        "fig, axs = plt.subplots(1, 3, figsize=(10, 2))\n",
        "for i, dist_df in enumerate([dist1_df, dist2_df, dist3_df]):\n",
        "    sns.barplot(x=\"x\", y=\"P(X = x)\", data=dist_df, ax=axs[i], color=\"skyblue\")\n",
        "\n",
        "plt.tight_layout()\n",
        "\n",
        "plt.show()\n"
      ]
    }
  ],
  "metadata": {
    "kernelspec": {
      "display_name": "Python 3",
      "language": "python",
      "name": "python3"
    },
    "language_info": {
      "codemirror_mode": {
        "name": "ipython",
        "version": 3
      },
      "file_extension": ".py",
      "mimetype": "text/x-python",
      "name": "python",
      "nbconvert_exporter": "python",
      "pygments_lexer": "ipython3",
      "version": "3.9.6"
    }
  },
  "nbformat": 4,
  "nbformat_minor": 5
}
