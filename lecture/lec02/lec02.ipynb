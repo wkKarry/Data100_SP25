{
 "cells": [
  {
   "cell_type": "markdown",
   "metadata": {},
   "source": [
    "# Lecture 2 – Data 100, Spring 2025\n",
    "\n",
    "Data 100, Spring 2025\n",
    "\n",
    "[Acknowledgments Page](https://ds100.org/sp25/acks/)\n",
    "\n",
    "A high-level overview of the [`pandas`](https://pandas.pydata.org) library to accompany Lecture 2."
   ]
  },
  {
   "cell_type": "code",
   "execution_count": 1,
   "metadata": {},
   "outputs": [],
   "source": [
    "# `pd` is the conventional alias for Pandas, as `np` is for NumPy\n",
    "import pandas as pd"
   ]
  },
  {
   "cell_type": "markdown",
   "metadata": {},
   "source": [
    "## Series, DataFrames, and Indices "
   ]
  },
  {
   "cell_type": "markdown",
   "metadata": {},
   "source": [
    "Series, DataFrames, and Indices are fundamental `pandas` data structures for storing tabular data and processing the data using vectorized operations."
   ]
  },
  {
   "cell_type": "markdown",
   "metadata": {},
   "source": [
    "### Series\n",
    "\n",
    "A `Series` is a 1-D labeled array of data. We can think of it as columnar data. \n",
    "\n",
    "#### Creating a new `Series` object\n",
    "Below, we create a `Series` object and will look into its two components: 1) values and 2) index."
   ]
  },
  {
   "cell_type": "code",
   "execution_count": 2,
   "metadata": {},
   "outputs": [
    {
     "data": {
      "text/plain": [
       "0     welcome\n",
       "1          to\n",
       "2    data 100\n",
       "dtype: object"
      ]
     },
     "execution_count": 2,
     "metadata": {},
     "output_type": "execute_result"
    }
   ],
   "source": [
    "s = pd.Series([\"welcome\", \"to\", \"data 100\"])\n",
    "\n",
    "s"
   ]
  },
  {
   "cell_type": "code",
   "execution_count": 3,
   "metadata": {},
   "outputs": [
    {
     "data": {
      "text/plain": [
       "array(['welcome', 'to', 'data 100'], dtype=object)"
      ]
     },
     "execution_count": 3,
     "metadata": {},
     "output_type": "execute_result"
    }
   ],
   "source": [
    "s.values"
   ]
  },
  {
   "cell_type": "code",
   "execution_count": 4,
   "metadata": {},
   "outputs": [
    {
     "data": {
      "text/plain": [
       "RangeIndex(start=0, stop=3, step=1)"
      ]
     },
     "execution_count": 4,
     "metadata": {},
     "output_type": "execute_result"
    }
   ],
   "source": [
    "s.index"
   ]
  },
  {
   "cell_type": "markdown",
   "metadata": {},
   "source": [
    "In the example above, `pandas` automatically generated an `Index` of integer labels. We can also create a `Series` object by providing a custom `Index`."
   ]
  },
  {
   "cell_type": "code",
   "execution_count": 5,
   "metadata": {},
   "outputs": [
    {
     "data": {
      "text/plain": [
       "a    -1\n",
       "b    10\n",
       "c     2\n",
       "dtype: int64"
      ]
     },
     "execution_count": 5,
     "metadata": {},
     "output_type": "execute_result"
    }
   ],
   "source": [
    "s = pd.Series([-1, 10, 2], index=[\"a\", \"b\", \"c\"])\n",
    "s"
   ]
  },
  {
   "cell_type": "code",
   "execution_count": 6,
   "metadata": {},
   "outputs": [
    {
     "data": {
      "text/plain": [
       "array([-1, 10,  2])"
      ]
     },
     "execution_count": 6,
     "metadata": {},
     "output_type": "execute_result"
    }
   ],
   "source": [
    "s.values"
   ]
  },
  {
   "cell_type": "code",
   "execution_count": 7,
   "metadata": {},
   "outputs": [
    {
     "data": {
      "text/plain": [
       "Index(['a', 'b', 'c'], dtype='object')"
      ]
     },
     "execution_count": 7,
     "metadata": {},
     "output_type": "execute_result"
    }
   ],
   "source": [
    "s.index"
   ]
  },
  {
   "cell_type": "markdown",
   "metadata": {},
   "source": [
    "After it has been created, we can reassign the Index of a `Series` to a new Index."
   ]
  },
  {
   "cell_type": "code",
   "execution_count": 8,
   "metadata": {},
   "outputs": [
    {
     "data": {
      "text/plain": [
       "first     -1\n",
       "second    10\n",
       "third      2\n",
       "dtype: int64"
      ]
     },
     "execution_count": 8,
     "metadata": {},
     "output_type": "execute_result"
    }
   ],
   "source": [
    "s.index = [\"first\", \"second\", \"third\"]\n",
    "s"
   ]
  },
  {
   "cell_type": "markdown",
   "metadata": {},
   "source": [
    "#### Selection in Series\n",
    "We can select a single value or a set of values in a `Series` using:\n",
    "- A single label\n",
    "- A list of labels\n",
    "- A filtering condition"
   ]
  },
  {
   "cell_type": "code",
   "execution_count": 9,
   "metadata": {},
   "outputs": [
    {
     "data": {
      "text/plain": [
       "a    4\n",
       "b   -2\n",
       "c    0\n",
       "d    6\n",
       "dtype: int64"
      ]
     },
     "execution_count": 9,
     "metadata": {},
     "output_type": "execute_result"
    }
   ],
   "source": [
    "s = pd.Series([4, -2, 0, 6], index=[\"a\", \"b\", \"c\", \"d\"])\n",
    "s"
   ]
  },
  {
   "cell_type": "markdown",
   "metadata": {},
   "source": [
    "**Selection using one or more label(s)**"
   ]
  },
  {
   "cell_type": "code",
   "execution_count": 10,
   "metadata": {},
   "outputs": [
    {
     "data": {
      "text/plain": [
       "4"
      ]
     },
     "execution_count": 10,
     "metadata": {},
     "output_type": "execute_result"
    }
   ],
   "source": [
    "# Selection using a single label\n",
    "# Notice how the return value is a single array element\n",
    "s[\"a\"]"
   ]
  },
  {
   "cell_type": "code",
   "execution_count": 11,
   "metadata": {},
   "outputs": [
    {
     "data": {
      "text/plain": [
       "a    4\n",
       "c    0\n",
       "dtype: int64"
      ]
     },
     "execution_count": 11,
     "metadata": {},
     "output_type": "execute_result"
    }
   ],
   "source": [
    "# Selection using a list of labels\n",
    "# Notice how the return value is another Series\n",
    "s[[\"a\", \"c\"]]"
   ]
  },
  {
   "cell_type": "markdown",
   "metadata": {},
   "source": [
    "**Selection using a filter condition**"
   ]
  },
  {
   "cell_type": "code",
   "execution_count": 12,
   "metadata": {},
   "outputs": [
    {
     "data": {
      "text/plain": [
       "a     True\n",
       "b    False\n",
       "c    False\n",
       "d     True\n",
       "dtype: bool"
      ]
     },
     "execution_count": 12,
     "metadata": {},
     "output_type": "execute_result"
    }
   ],
   "source": [
    "# Filter condition: select all elements greater than 0\n",
    "s>0"
   ]
  },
  {
   "cell_type": "code",
   "execution_count": 13,
   "metadata": {},
   "outputs": [
    {
     "data": {
      "text/plain": [
       "a    4\n",
       "d    6\n",
       "dtype: int64"
      ]
     },
     "execution_count": 13,
     "metadata": {},
     "output_type": "execute_result"
    }
   ],
   "source": [
    "# Use the Boolean filter to select data from the original Series\n",
    "s[s>0]"
   ]
  },
  {
   "cell_type": "markdown",
   "metadata": {},
   "source": [
    "### DataFrame\n",
    "\n",
    "A `DataFrame` is a 2-D tabular data structure with both row and column labels. In this lecture, we will see how a `DataFrame` can be created from scratch or loaded from a file. "
   ]
  },
  {
   "cell_type": "markdown",
   "metadata": {},
   "source": [
    "#### Creating a new `DataFrame` object\n",
    "We can also create a `DataFrame` in a variety of ways. Here, we cover the following:\n",
    "1. From a CSV file\n",
    "2. Using a list and column names\n",
    "3. From a dictionary\n",
    "4. From a `Series`\n",
    "\n",
    "\n",
    "##### Creating a `DataFrame` from a CSV file\n",
    "For loading data into a `DataFrame`, `pandas` has a number of very useful file reading tools. We'll be using `read_csv` today to load data from a CSV file into a `DataFrame` object. "
   ]
  },
  {
   "cell_type": "code",
   "execution_count": 14,
   "metadata": {},
   "outputs": [
    {
     "data": {
      "text/html": [
       "<div>\n",
       "<style scoped>\n",
       "    .dataframe tbody tr th:only-of-type {\n",
       "        vertical-align: middle;\n",
       "    }\n",
       "\n",
       "    .dataframe tbody tr th {\n",
       "        vertical-align: top;\n",
       "    }\n",
       "\n",
       "    .dataframe thead th {\n",
       "        text-align: right;\n",
       "    }\n",
       "</style>\n",
       "<table border=\"1\" class=\"dataframe\">\n",
       "  <thead>\n",
       "    <tr style=\"text-align: right;\">\n",
       "      <th></th>\n",
       "      <th>Year</th>\n",
       "      <th>Candidate</th>\n",
       "      <th>Party</th>\n",
       "      <th>Popular vote</th>\n",
       "      <th>Result</th>\n",
       "      <th>%</th>\n",
       "    </tr>\n",
       "  </thead>\n",
       "  <tbody>\n",
       "    <tr>\n",
       "      <th>0</th>\n",
       "      <td>1824</td>\n",
       "      <td>Andrew Jackson</td>\n",
       "      <td>Democratic-Republican</td>\n",
       "      <td>151271</td>\n",
       "      <td>loss</td>\n",
       "      <td>57.210122</td>\n",
       "    </tr>\n",
       "    <tr>\n",
       "      <th>1</th>\n",
       "      <td>1824</td>\n",
       "      <td>John Quincy Adams</td>\n",
       "      <td>Democratic-Republican</td>\n",
       "      <td>113142</td>\n",
       "      <td>win</td>\n",
       "      <td>42.789878</td>\n",
       "    </tr>\n",
       "    <tr>\n",
       "      <th>2</th>\n",
       "      <td>1828</td>\n",
       "      <td>Andrew Jackson</td>\n",
       "      <td>Democratic</td>\n",
       "      <td>642806</td>\n",
       "      <td>win</td>\n",
       "      <td>56.203927</td>\n",
       "    </tr>\n",
       "    <tr>\n",
       "      <th>3</th>\n",
       "      <td>1828</td>\n",
       "      <td>John Quincy Adams</td>\n",
       "      <td>National Republican</td>\n",
       "      <td>500897</td>\n",
       "      <td>loss</td>\n",
       "      <td>43.796073</td>\n",
       "    </tr>\n",
       "    <tr>\n",
       "      <th>4</th>\n",
       "      <td>1832</td>\n",
       "      <td>Andrew Jackson</td>\n",
       "      <td>Democratic</td>\n",
       "      <td>702735</td>\n",
       "      <td>win</td>\n",
       "      <td>54.574789</td>\n",
       "    </tr>\n",
       "    <tr>\n",
       "      <th>...</th>\n",
       "      <td>...</td>\n",
       "      <td>...</td>\n",
       "      <td>...</td>\n",
       "      <td>...</td>\n",
       "      <td>...</td>\n",
       "      <td>...</td>\n",
       "    </tr>\n",
       "    <tr>\n",
       "      <th>182</th>\n",
       "      <td>2024</td>\n",
       "      <td>Donald Trump</td>\n",
       "      <td>Republican</td>\n",
       "      <td>77303568</td>\n",
       "      <td>win</td>\n",
       "      <td>49.808629</td>\n",
       "    </tr>\n",
       "    <tr>\n",
       "      <th>183</th>\n",
       "      <td>2024</td>\n",
       "      <td>Kamala Harris</td>\n",
       "      <td>Democratic</td>\n",
       "      <td>75019230</td>\n",
       "      <td>loss</td>\n",
       "      <td>48.336772</td>\n",
       "    </tr>\n",
       "    <tr>\n",
       "      <th>184</th>\n",
       "      <td>2024</td>\n",
       "      <td>Jill Stein</td>\n",
       "      <td>Green</td>\n",
       "      <td>861155</td>\n",
       "      <td>loss</td>\n",
       "      <td>0.554864</td>\n",
       "    </tr>\n",
       "    <tr>\n",
       "      <th>185</th>\n",
       "      <td>2024</td>\n",
       "      <td>Robert Kennedy</td>\n",
       "      <td>Independent</td>\n",
       "      <td>756383</td>\n",
       "      <td>loss</td>\n",
       "      <td>0.487357</td>\n",
       "    </tr>\n",
       "    <tr>\n",
       "      <th>186</th>\n",
       "      <td>2024</td>\n",
       "      <td>Chase Oliver</td>\n",
       "      <td>Libertarian Party</td>\n",
       "      <td>650130</td>\n",
       "      <td>loss</td>\n",
       "      <td>0.418895</td>\n",
       "    </tr>\n",
       "  </tbody>\n",
       "</table>\n",
       "<p>187 rows × 6 columns</p>\n",
       "</div>"
      ],
      "text/plain": [
       "     Year          Candidate                  Party  Popular vote Result  \\\n",
       "0    1824     Andrew Jackson  Democratic-Republican        151271   loss   \n",
       "1    1824  John Quincy Adams  Democratic-Republican        113142    win   \n",
       "2    1828     Andrew Jackson             Democratic        642806    win   \n",
       "3    1828  John Quincy Adams    National Republican        500897   loss   \n",
       "4    1832     Andrew Jackson             Democratic        702735    win   \n",
       "..    ...                ...                    ...           ...    ...   \n",
       "182  2024       Donald Trump             Republican      77303568    win   \n",
       "183  2024      Kamala Harris             Democratic      75019230   loss   \n",
       "184  2024         Jill Stein                  Green        861155   loss   \n",
       "185  2024     Robert Kennedy            Independent        756383   loss   \n",
       "186  2024       Chase Oliver      Libertarian Party        650130   loss   \n",
       "\n",
       "             %  \n",
       "0    57.210122  \n",
       "1    42.789878  \n",
       "2    56.203927  \n",
       "3    43.796073  \n",
       "4    54.574789  \n",
       "..         ...  \n",
       "182  49.808629  \n",
       "183  48.336772  \n",
       "184   0.554864  \n",
       "185   0.487357  \n",
       "186   0.418895  \n",
       "\n",
       "[187 rows x 6 columns]"
      ]
     },
     "execution_count": 14,
     "metadata": {},
     "output_type": "execute_result"
    }
   ],
   "source": [
    "elections = pd.read_csv(\"data/elections.csv\")\n",
    "elections"
   ]
  },
  {
   "cell_type": "markdown",
   "metadata": {},
   "source": [
    "By passing a column to the `index_col` attribute, the `Index` can be defined at the initialization."
   ]
  },
  {
   "cell_type": "code",
   "execution_count": 15,
   "metadata": {},
   "outputs": [
    {
     "data": {
      "text/html": [
       "<div>\n",
       "<style scoped>\n",
       "    .dataframe tbody tr th:only-of-type {\n",
       "        vertical-align: middle;\n",
       "    }\n",
       "\n",
       "    .dataframe tbody tr th {\n",
       "        vertical-align: top;\n",
       "    }\n",
       "\n",
       "    .dataframe thead th {\n",
       "        text-align: right;\n",
       "    }\n",
       "</style>\n",
       "<table border=\"1\" class=\"dataframe\">\n",
       "  <thead>\n",
       "    <tr style=\"text-align: right;\">\n",
       "      <th></th>\n",
       "      <th>Year</th>\n",
       "      <th>Party</th>\n",
       "      <th>Popular vote</th>\n",
       "      <th>Result</th>\n",
       "      <th>%</th>\n",
       "    </tr>\n",
       "    <tr>\n",
       "      <th>Candidate</th>\n",
       "      <th></th>\n",
       "      <th></th>\n",
       "      <th></th>\n",
       "      <th></th>\n",
       "      <th></th>\n",
       "    </tr>\n",
       "  </thead>\n",
       "  <tbody>\n",
       "    <tr>\n",
       "      <th>Andrew Jackson</th>\n",
       "      <td>1824</td>\n",
       "      <td>Democratic-Republican</td>\n",
       "      <td>151271</td>\n",
       "      <td>loss</td>\n",
       "      <td>57.210122</td>\n",
       "    </tr>\n",
       "    <tr>\n",
       "      <th>John Quincy Adams</th>\n",
       "      <td>1824</td>\n",
       "      <td>Democratic-Republican</td>\n",
       "      <td>113142</td>\n",
       "      <td>win</td>\n",
       "      <td>42.789878</td>\n",
       "    </tr>\n",
       "    <tr>\n",
       "      <th>Andrew Jackson</th>\n",
       "      <td>1828</td>\n",
       "      <td>Democratic</td>\n",
       "      <td>642806</td>\n",
       "      <td>win</td>\n",
       "      <td>56.203927</td>\n",
       "    </tr>\n",
       "    <tr>\n",
       "      <th>John Quincy Adams</th>\n",
       "      <td>1828</td>\n",
       "      <td>National Republican</td>\n",
       "      <td>500897</td>\n",
       "      <td>loss</td>\n",
       "      <td>43.796073</td>\n",
       "    </tr>\n",
       "    <tr>\n",
       "      <th>Andrew Jackson</th>\n",
       "      <td>1832</td>\n",
       "      <td>Democratic</td>\n",
       "      <td>702735</td>\n",
       "      <td>win</td>\n",
       "      <td>54.574789</td>\n",
       "    </tr>\n",
       "    <tr>\n",
       "      <th>...</th>\n",
       "      <td>...</td>\n",
       "      <td>...</td>\n",
       "      <td>...</td>\n",
       "      <td>...</td>\n",
       "      <td>...</td>\n",
       "    </tr>\n",
       "    <tr>\n",
       "      <th>Donald Trump</th>\n",
       "      <td>2024</td>\n",
       "      <td>Republican</td>\n",
       "      <td>77303568</td>\n",
       "      <td>win</td>\n",
       "      <td>49.808629</td>\n",
       "    </tr>\n",
       "    <tr>\n",
       "      <th>Kamala Harris</th>\n",
       "      <td>2024</td>\n",
       "      <td>Democratic</td>\n",
       "      <td>75019230</td>\n",
       "      <td>loss</td>\n",
       "      <td>48.336772</td>\n",
       "    </tr>\n",
       "    <tr>\n",
       "      <th>Jill Stein</th>\n",
       "      <td>2024</td>\n",
       "      <td>Green</td>\n",
       "      <td>861155</td>\n",
       "      <td>loss</td>\n",
       "      <td>0.554864</td>\n",
       "    </tr>\n",
       "    <tr>\n",
       "      <th>Robert Kennedy</th>\n",
       "      <td>2024</td>\n",
       "      <td>Independent</td>\n",
       "      <td>756383</td>\n",
       "      <td>loss</td>\n",
       "      <td>0.487357</td>\n",
       "    </tr>\n",
       "    <tr>\n",
       "      <th>Chase Oliver</th>\n",
       "      <td>2024</td>\n",
       "      <td>Libertarian Party</td>\n",
       "      <td>650130</td>\n",
       "      <td>loss</td>\n",
       "      <td>0.418895</td>\n",
       "    </tr>\n",
       "  </tbody>\n",
       "</table>\n",
       "<p>187 rows × 5 columns</p>\n",
       "</div>"
      ],
      "text/plain": [
       "                   Year                  Party  Popular vote Result          %\n",
       "Candidate                                                                     \n",
       "Andrew Jackson     1824  Democratic-Republican        151271   loss  57.210122\n",
       "John Quincy Adams  1824  Democratic-Republican        113142    win  42.789878\n",
       "Andrew Jackson     1828             Democratic        642806    win  56.203927\n",
       "John Quincy Adams  1828    National Republican        500897   loss  43.796073\n",
       "Andrew Jackson     1832             Democratic        702735    win  54.574789\n",
       "...                 ...                    ...           ...    ...        ...\n",
       "Donald Trump       2024             Republican      77303568    win  49.808629\n",
       "Kamala Harris      2024             Democratic      75019230   loss  48.336772\n",
       "Jill Stein         2024                  Green        861155   loss   0.554864\n",
       "Robert Kennedy     2024            Independent        756383   loss   0.487357\n",
       "Chase Oliver       2024      Libertarian Party        650130   loss   0.418895\n",
       "\n",
       "[187 rows x 5 columns]"
      ]
     },
     "execution_count": 15,
     "metadata": {},
     "output_type": "execute_result"
    }
   ],
   "source": [
    "elections = pd.read_csv(\"data/elections.csv\", index_col=\"Candidate\")\n",
    "elections"
   ]
  },
  {
   "cell_type": "code",
   "execution_count": 16,
   "metadata": {},
   "outputs": [
    {
     "data": {
      "text/html": [
       "<div>\n",
       "<style scoped>\n",
       "    .dataframe tbody tr th:only-of-type {\n",
       "        vertical-align: middle;\n",
       "    }\n",
       "\n",
       "    .dataframe tbody tr th {\n",
       "        vertical-align: top;\n",
       "    }\n",
       "\n",
       "    .dataframe thead th {\n",
       "        text-align: right;\n",
       "    }\n",
       "</style>\n",
       "<table border=\"1\" class=\"dataframe\">\n",
       "  <thead>\n",
       "    <tr style=\"text-align: right;\">\n",
       "      <th></th>\n",
       "      <th>Candidate</th>\n",
       "      <th>Party</th>\n",
       "      <th>Popular vote</th>\n",
       "      <th>Result</th>\n",
       "      <th>%</th>\n",
       "    </tr>\n",
       "    <tr>\n",
       "      <th>Year</th>\n",
       "      <th></th>\n",
       "      <th></th>\n",
       "      <th></th>\n",
       "      <th></th>\n",
       "      <th></th>\n",
       "    </tr>\n",
       "  </thead>\n",
       "  <tbody>\n",
       "    <tr>\n",
       "      <th>1824</th>\n",
       "      <td>Andrew Jackson</td>\n",
       "      <td>Democratic-Republican</td>\n",
       "      <td>151271</td>\n",
       "      <td>loss</td>\n",
       "      <td>57.210122</td>\n",
       "    </tr>\n",
       "    <tr>\n",
       "      <th>1824</th>\n",
       "      <td>John Quincy Adams</td>\n",
       "      <td>Democratic-Republican</td>\n",
       "      <td>113142</td>\n",
       "      <td>win</td>\n",
       "      <td>42.789878</td>\n",
       "    </tr>\n",
       "    <tr>\n",
       "      <th>1828</th>\n",
       "      <td>Andrew Jackson</td>\n",
       "      <td>Democratic</td>\n",
       "      <td>642806</td>\n",
       "      <td>win</td>\n",
       "      <td>56.203927</td>\n",
       "    </tr>\n",
       "    <tr>\n",
       "      <th>1828</th>\n",
       "      <td>John Quincy Adams</td>\n",
       "      <td>National Republican</td>\n",
       "      <td>500897</td>\n",
       "      <td>loss</td>\n",
       "      <td>43.796073</td>\n",
       "    </tr>\n",
       "    <tr>\n",
       "      <th>1832</th>\n",
       "      <td>Andrew Jackson</td>\n",
       "      <td>Democratic</td>\n",
       "      <td>702735</td>\n",
       "      <td>win</td>\n",
       "      <td>54.574789</td>\n",
       "    </tr>\n",
       "    <tr>\n",
       "      <th>...</th>\n",
       "      <td>...</td>\n",
       "      <td>...</td>\n",
       "      <td>...</td>\n",
       "      <td>...</td>\n",
       "      <td>...</td>\n",
       "    </tr>\n",
       "    <tr>\n",
       "      <th>2024</th>\n",
       "      <td>Donald Trump</td>\n",
       "      <td>Republican</td>\n",
       "      <td>77303568</td>\n",
       "      <td>win</td>\n",
       "      <td>49.808629</td>\n",
       "    </tr>\n",
       "    <tr>\n",
       "      <th>2024</th>\n",
       "      <td>Kamala Harris</td>\n",
       "      <td>Democratic</td>\n",
       "      <td>75019230</td>\n",
       "      <td>loss</td>\n",
       "      <td>48.336772</td>\n",
       "    </tr>\n",
       "    <tr>\n",
       "      <th>2024</th>\n",
       "      <td>Jill Stein</td>\n",
       "      <td>Green</td>\n",
       "      <td>861155</td>\n",
       "      <td>loss</td>\n",
       "      <td>0.554864</td>\n",
       "    </tr>\n",
       "    <tr>\n",
       "      <th>2024</th>\n",
       "      <td>Robert Kennedy</td>\n",
       "      <td>Independent</td>\n",
       "      <td>756383</td>\n",
       "      <td>loss</td>\n",
       "      <td>0.487357</td>\n",
       "    </tr>\n",
       "    <tr>\n",
       "      <th>2024</th>\n",
       "      <td>Chase Oliver</td>\n",
       "      <td>Libertarian Party</td>\n",
       "      <td>650130</td>\n",
       "      <td>loss</td>\n",
       "      <td>0.418895</td>\n",
       "    </tr>\n",
       "  </tbody>\n",
       "</table>\n",
       "<p>187 rows × 5 columns</p>\n",
       "</div>"
      ],
      "text/plain": [
       "              Candidate                  Party  Popular vote Result          %\n",
       "Year                                                                          \n",
       "1824     Andrew Jackson  Democratic-Republican        151271   loss  57.210122\n",
       "1824  John Quincy Adams  Democratic-Republican        113142    win  42.789878\n",
       "1828     Andrew Jackson             Democratic        642806    win  56.203927\n",
       "1828  John Quincy Adams    National Republican        500897   loss  43.796073\n",
       "1832     Andrew Jackson             Democratic        702735    win  54.574789\n",
       "...                 ...                    ...           ...    ...        ...\n",
       "2024       Donald Trump             Republican      77303568    win  49.808629\n",
       "2024      Kamala Harris             Democratic      75019230   loss  48.336772\n",
       "2024         Jill Stein                  Green        861155   loss   0.554864\n",
       "2024     Robert Kennedy            Independent        756383   loss   0.487357\n",
       "2024       Chase Oliver      Libertarian Party        650130   loss   0.418895\n",
       "\n",
       "[187 rows x 5 columns]"
      ]
     },
     "execution_count": 16,
     "metadata": {},
     "output_type": "execute_result"
    }
   ],
   "source": [
    "elections = pd.read_csv(\"data/elections.csv\", index_col=\"Year\")\n",
    "elections"
   ]
  },
  {
   "cell_type": "markdown",
   "metadata": {},
   "source": [
    "##### Creating a `DataFrame` using a list and column names"
   ]
  },
  {
   "cell_type": "code",
   "execution_count": 17,
   "metadata": {},
   "outputs": [
    {
     "data": {
      "text/html": [
       "<div>\n",
       "<style scoped>\n",
       "    .dataframe tbody tr th:only-of-type {\n",
       "        vertical-align: middle;\n",
       "    }\n",
       "\n",
       "    .dataframe tbody tr th {\n",
       "        vertical-align: top;\n",
       "    }\n",
       "\n",
       "    .dataframe thead th {\n",
       "        text-align: right;\n",
       "    }\n",
       "</style>\n",
       "<table border=\"1\" class=\"dataframe\">\n",
       "  <thead>\n",
       "    <tr style=\"text-align: right;\">\n",
       "      <th></th>\n",
       "      <th>Number</th>\n",
       "    </tr>\n",
       "  </thead>\n",
       "  <tbody>\n",
       "    <tr>\n",
       "      <th>0</th>\n",
       "      <td>1</td>\n",
       "    </tr>\n",
       "    <tr>\n",
       "      <th>1</th>\n",
       "      <td>2</td>\n",
       "    </tr>\n",
       "    <tr>\n",
       "      <th>2</th>\n",
       "      <td>3</td>\n",
       "    </tr>\n",
       "  </tbody>\n",
       "</table>\n",
       "</div>"
      ],
      "text/plain": [
       "   Number\n",
       "0       1\n",
       "1       2\n",
       "2       3"
      ]
     },
     "metadata": {},
     "output_type": "display_data"
    }
   ],
   "source": [
    "# Creating a single-column DataFrame using a list\n",
    "df_list_1 = pd.DataFrame([1, 2, 3], \n",
    "                         columns=[\"Number\"])\n",
    "display(df_list_1)"
   ]
  },
  {
   "cell_type": "code",
   "execution_count": 18,
   "metadata": {},
   "outputs": [
    {
     "data": {
      "text/html": [
       "<div>\n",
       "<style scoped>\n",
       "    .dataframe tbody tr th:only-of-type {\n",
       "        vertical-align: middle;\n",
       "    }\n",
       "\n",
       "    .dataframe tbody tr th {\n",
       "        vertical-align: top;\n",
       "    }\n",
       "\n",
       "    .dataframe thead th {\n",
       "        text-align: right;\n",
       "    }\n",
       "</style>\n",
       "<table border=\"1\" class=\"dataframe\">\n",
       "  <thead>\n",
       "    <tr style=\"text-align: right;\">\n",
       "      <th></th>\n",
       "      <th>Number</th>\n",
       "      <th>Description</th>\n",
       "    </tr>\n",
       "  </thead>\n",
       "  <tbody>\n",
       "    <tr>\n",
       "      <th>0</th>\n",
       "      <td>1</td>\n",
       "      <td>one</td>\n",
       "    </tr>\n",
       "    <tr>\n",
       "      <th>1</th>\n",
       "      <td>2</td>\n",
       "      <td>two</td>\n",
       "    </tr>\n",
       "  </tbody>\n",
       "</table>\n",
       "</div>"
      ],
      "text/plain": [
       "   Number Description\n",
       "0       1         one\n",
       "1       2         two"
      ]
     },
     "execution_count": 18,
     "metadata": {},
     "output_type": "execute_result"
    }
   ],
   "source": [
    "# Creating a multi-column DataFrame using a list of lists\n",
    "df_list_2 = pd.DataFrame([[1, \"one\"], [2, \"two\"]], \n",
    "                         columns=[\"Number\", \"Description\"])\n",
    "df_list_2"
   ]
  },
  {
   "cell_type": "markdown",
   "metadata": {},
   "source": [
    "##### Creating a `DataFrame` from a dictionary"
   ]
  },
  {
   "cell_type": "code",
   "execution_count": 19,
   "metadata": {},
   "outputs": [
    {
     "data": {
      "text/html": [
       "<div>\n",
       "<style scoped>\n",
       "    .dataframe tbody tr th:only-of-type {\n",
       "        vertical-align: middle;\n",
       "    }\n",
       "\n",
       "    .dataframe tbody tr th {\n",
       "        vertical-align: top;\n",
       "    }\n",
       "\n",
       "    .dataframe thead th {\n",
       "        text-align: right;\n",
       "    }\n",
       "</style>\n",
       "<table border=\"1\" class=\"dataframe\">\n",
       "  <thead>\n",
       "    <tr style=\"text-align: right;\">\n",
       "      <th></th>\n",
       "      <th>Fruit</th>\n",
       "      <th>Price</th>\n",
       "    </tr>\n",
       "  </thead>\n",
       "  <tbody>\n",
       "    <tr>\n",
       "      <th>0</th>\n",
       "      <td>Strawberry</td>\n",
       "      <td>5.49</td>\n",
       "    </tr>\n",
       "    <tr>\n",
       "      <th>1</th>\n",
       "      <td>Orange</td>\n",
       "      <td>3.99</td>\n",
       "    </tr>\n",
       "  </tbody>\n",
       "</table>\n",
       "</div>"
      ],
      "text/plain": [
       "        Fruit  Price\n",
       "0  Strawberry   5.49\n",
       "1      Orange   3.99"
      ]
     },
     "execution_count": 19,
     "metadata": {},
     "output_type": "execute_result"
    }
   ],
   "source": [
    "# Creating a DataFrame from a dictionary of columns\n",
    "df_dict_1 = pd.DataFrame({\"Fruit\":[\"Strawberry\", \"Orange\"], \n",
    "                          \"Price\":[5.49, 3.99]})\n",
    "df_dict_1"
   ]
  },
  {
   "cell_type": "code",
   "execution_count": 20,
   "metadata": {},
   "outputs": [
    {
     "data": {
      "text/html": [
       "<div>\n",
       "<style scoped>\n",
       "    .dataframe tbody tr th:only-of-type {\n",
       "        vertical-align: middle;\n",
       "    }\n",
       "\n",
       "    .dataframe tbody tr th {\n",
       "        vertical-align: top;\n",
       "    }\n",
       "\n",
       "    .dataframe thead th {\n",
       "        text-align: right;\n",
       "    }\n",
       "</style>\n",
       "<table border=\"1\" class=\"dataframe\">\n",
       "  <thead>\n",
       "    <tr style=\"text-align: right;\">\n",
       "      <th></th>\n",
       "      <th>Fruit</th>\n",
       "      <th>Price</th>\n",
       "    </tr>\n",
       "  </thead>\n",
       "  <tbody>\n",
       "    <tr>\n",
       "      <th>0</th>\n",
       "      <td>Strawberry</td>\n",
       "      <td>5.49</td>\n",
       "    </tr>\n",
       "    <tr>\n",
       "      <th>1</th>\n",
       "      <td>Orange</td>\n",
       "      <td>3.99</td>\n",
       "    </tr>\n",
       "  </tbody>\n",
       "</table>\n",
       "</div>"
      ],
      "text/plain": [
       "        Fruit  Price\n",
       "0  Strawberry   5.49\n",
       "1      Orange   3.99"
      ]
     },
     "execution_count": 20,
     "metadata": {},
     "output_type": "execute_result"
    }
   ],
   "source": [
    "# Creating a DataFrame from a list of row dictionaries\n",
    "df_dict_2 = pd.DataFrame([{\"Fruit\":\"Strawberry\", \"Price\":5.49}, \n",
    "                          {\"Fruit\":\"Orange\", \"Price\":3.99}])\n",
    "df_dict_2"
   ]
  },
  {
   "cell_type": "markdown",
   "metadata": {},
   "source": [
    "##### Creating a `DataFrame` from a `Series`"
   ]
  },
  {
   "cell_type": "code",
   "execution_count": 21,
   "metadata": {},
   "outputs": [],
   "source": [
    "# In the examples below, we create a DataFrame from a Series\n",
    "\n",
    "s_a = pd.Series([\"a1\", \"a2\", \"a3\"], index=[\"r1\", \"r2\", \"r3\"])\n",
    "s_b = pd.Series([\"b1\", \"b2\", \"b3\"], index=[\"r1\", \"r2\", \"r3\"])"
   ]
  },
  {
   "cell_type": "code",
   "execution_count": 22,
   "metadata": {},
   "outputs": [
    {
     "data": {
      "text/html": [
       "<div>\n",
       "<style scoped>\n",
       "    .dataframe tbody tr th:only-of-type {\n",
       "        vertical-align: middle;\n",
       "    }\n",
       "\n",
       "    .dataframe tbody tr th {\n",
       "        vertical-align: top;\n",
       "    }\n",
       "\n",
       "    .dataframe thead th {\n",
       "        text-align: right;\n",
       "    }\n",
       "</style>\n",
       "<table border=\"1\" class=\"dataframe\">\n",
       "  <thead>\n",
       "    <tr style=\"text-align: right;\">\n",
       "      <th></th>\n",
       "      <th>A-column</th>\n",
       "      <th>B-column</th>\n",
       "    </tr>\n",
       "  </thead>\n",
       "  <tbody>\n",
       "    <tr>\n",
       "      <th>r1</th>\n",
       "      <td>a1</td>\n",
       "      <td>b1</td>\n",
       "    </tr>\n",
       "    <tr>\n",
       "      <th>r2</th>\n",
       "      <td>a2</td>\n",
       "      <td>b2</td>\n",
       "    </tr>\n",
       "    <tr>\n",
       "      <th>r3</th>\n",
       "      <td>a3</td>\n",
       "      <td>b3</td>\n",
       "    </tr>\n",
       "  </tbody>\n",
       "</table>\n",
       "</div>"
      ],
      "text/plain": [
       "   A-column B-column\n",
       "r1       a1       b1\n",
       "r2       a2       b2\n",
       "r3       a3       b3"
      ]
     },
     "execution_count": 22,
     "metadata": {},
     "output_type": "execute_result"
    }
   ],
   "source": [
    "# Passing Series objects for columns\n",
    "df_ser = pd.DataFrame({\"A-column\":s_a, \"B-column\":s_b})\n",
    "df_ser"
   ]
  },
  {
   "cell_type": "code",
   "execution_count": 23,
   "metadata": {},
   "outputs": [
    {
     "data": {
      "text/html": [
       "<div>\n",
       "<style scoped>\n",
       "    .dataframe tbody tr th:only-of-type {\n",
       "        vertical-align: middle;\n",
       "    }\n",
       "\n",
       "    .dataframe tbody tr th {\n",
       "        vertical-align: top;\n",
       "    }\n",
       "\n",
       "    .dataframe thead th {\n",
       "        text-align: right;\n",
       "    }\n",
       "</style>\n",
       "<table border=\"1\" class=\"dataframe\">\n",
       "  <thead>\n",
       "    <tr style=\"text-align: right;\">\n",
       "      <th></th>\n",
       "      <th>0</th>\n",
       "    </tr>\n",
       "  </thead>\n",
       "  <tbody>\n",
       "    <tr>\n",
       "      <th>r1</th>\n",
       "      <td>a1</td>\n",
       "    </tr>\n",
       "    <tr>\n",
       "      <th>r2</th>\n",
       "      <td>a2</td>\n",
       "    </tr>\n",
       "    <tr>\n",
       "      <th>r3</th>\n",
       "      <td>a3</td>\n",
       "    </tr>\n",
       "  </tbody>\n",
       "</table>\n",
       "</div>"
      ],
      "text/plain": [
       "     0\n",
       "r1  a1\n",
       "r2  a2\n",
       "r3  a3"
      ]
     },
     "execution_count": 23,
     "metadata": {},
     "output_type": "execute_result"
    }
   ],
   "source": [
    "# Passing a Series to the DataFrame constructor to make a one-column DataFrame\n",
    "df_ser = pd.DataFrame(s_a)\n",
    "df_ser"
   ]
  },
  {
   "cell_type": "code",
   "execution_count": 24,
   "metadata": {},
   "outputs": [
    {
     "data": {
      "text/html": [
       "<div>\n",
       "<style scoped>\n",
       "    .dataframe tbody tr th:only-of-type {\n",
       "        vertical-align: middle;\n",
       "    }\n",
       "\n",
       "    .dataframe tbody tr th {\n",
       "        vertical-align: top;\n",
       "    }\n",
       "\n",
       "    .dataframe thead th {\n",
       "        text-align: right;\n",
       "    }\n",
       "</style>\n",
       "<table border=\"1\" class=\"dataframe\">\n",
       "  <thead>\n",
       "    <tr style=\"text-align: right;\">\n",
       "      <th></th>\n",
       "      <th>0</th>\n",
       "    </tr>\n",
       "  </thead>\n",
       "  <tbody>\n",
       "    <tr>\n",
       "      <th>r1</th>\n",
       "      <td>a1</td>\n",
       "    </tr>\n",
       "    <tr>\n",
       "      <th>r2</th>\n",
       "      <td>a2</td>\n",
       "    </tr>\n",
       "    <tr>\n",
       "      <th>r3</th>\n",
       "      <td>a3</td>\n",
       "    </tr>\n",
       "  </tbody>\n",
       "</table>\n",
       "</div>"
      ],
      "text/plain": [
       "     0\n",
       "r1  a1\n",
       "r2  a2\n",
       "r3  a3"
      ]
     },
     "execution_count": 24,
     "metadata": {},
     "output_type": "execute_result"
    }
   ],
   "source": [
    "# Using to_frame() to convert a Series to DataFrame\n",
    "ser_to_df = s_a.to_frame()\n",
    "ser_to_df"
   ]
  },
  {
   "cell_type": "code",
   "execution_count": 25,
   "metadata": {},
   "outputs": [
    {
     "data": {
      "text/html": [
       "<div>\n",
       "<style scoped>\n",
       "    .dataframe tbody tr th:only-of-type {\n",
       "        vertical-align: middle;\n",
       "    }\n",
       "\n",
       "    .dataframe tbody tr th {\n",
       "        vertical-align: top;\n",
       "    }\n",
       "\n",
       "    .dataframe thead th {\n",
       "        text-align: right;\n",
       "    }\n",
       "</style>\n",
       "<table border=\"1\" class=\"dataframe\">\n",
       "  <thead>\n",
       "    <tr style=\"text-align: right;\">\n",
       "      <th></th>\n",
       "      <th>Year</th>\n",
       "      <th>Party</th>\n",
       "      <th>Popular vote</th>\n",
       "      <th>Result</th>\n",
       "      <th>%</th>\n",
       "    </tr>\n",
       "    <tr>\n",
       "      <th>Candidate</th>\n",
       "      <th></th>\n",
       "      <th></th>\n",
       "      <th></th>\n",
       "      <th></th>\n",
       "      <th></th>\n",
       "    </tr>\n",
       "  </thead>\n",
       "  <tbody>\n",
       "    <tr>\n",
       "      <th>Andrew Jackson</th>\n",
       "      <td>1824</td>\n",
       "      <td>Democratic-Republican</td>\n",
       "      <td>151271</td>\n",
       "      <td>loss</td>\n",
       "      <td>57.210122</td>\n",
       "    </tr>\n",
       "    <tr>\n",
       "      <th>John Quincy Adams</th>\n",
       "      <td>1824</td>\n",
       "      <td>Democratic-Republican</td>\n",
       "      <td>113142</td>\n",
       "      <td>win</td>\n",
       "      <td>42.789878</td>\n",
       "    </tr>\n",
       "    <tr>\n",
       "      <th>Andrew Jackson</th>\n",
       "      <td>1828</td>\n",
       "      <td>Democratic</td>\n",
       "      <td>642806</td>\n",
       "      <td>win</td>\n",
       "      <td>56.203927</td>\n",
       "    </tr>\n",
       "    <tr>\n",
       "      <th>John Quincy Adams</th>\n",
       "      <td>1828</td>\n",
       "      <td>National Republican</td>\n",
       "      <td>500897</td>\n",
       "      <td>loss</td>\n",
       "      <td>43.796073</td>\n",
       "    </tr>\n",
       "    <tr>\n",
       "      <th>Andrew Jackson</th>\n",
       "      <td>1832</td>\n",
       "      <td>Democratic</td>\n",
       "      <td>702735</td>\n",
       "      <td>win</td>\n",
       "      <td>54.574789</td>\n",
       "    </tr>\n",
       "  </tbody>\n",
       "</table>\n",
       "</div>"
      ],
      "text/plain": [
       "                   Year                  Party  Popular vote Result          %\n",
       "Candidate                                                                     \n",
       "Andrew Jackson     1824  Democratic-Republican        151271   loss  57.210122\n",
       "John Quincy Adams  1824  Democratic-Republican        113142    win  42.789878\n",
       "Andrew Jackson     1828             Democratic        642806    win  56.203927\n",
       "John Quincy Adams  1828    National Republican        500897   loss  43.796073\n",
       "Andrew Jackson     1832             Democratic        702735    win  54.574789"
      ]
     },
     "execution_count": 25,
     "metadata": {},
     "output_type": "execute_result"
    }
   ],
   "source": [
    "# Creating a DataFrame from a CSV file and specifying the Index column\n",
    "elections = pd.read_csv(\"data/elections.csv\", index_col=\"Candidate\")\n",
    "elections.head(5) # Using `.head` shows only the first 5 rows to save space"
   ]
  },
  {
   "cell_type": "code",
   "execution_count": 26,
   "metadata": {},
   "outputs": [
    {
     "data": {
      "text/html": [
       "<div>\n",
       "<style scoped>\n",
       "    .dataframe tbody tr th:only-of-type {\n",
       "        vertical-align: middle;\n",
       "    }\n",
       "\n",
       "    .dataframe tbody tr th {\n",
       "        vertical-align: top;\n",
       "    }\n",
       "\n",
       "    .dataframe thead th {\n",
       "        text-align: right;\n",
       "    }\n",
       "</style>\n",
       "<table border=\"1\" class=\"dataframe\">\n",
       "  <thead>\n",
       "    <tr style=\"text-align: right;\">\n",
       "      <th></th>\n",
       "      <th>Candidate</th>\n",
       "      <th>Year</th>\n",
       "      <th>Popular vote</th>\n",
       "      <th>Result</th>\n",
       "      <th>%</th>\n",
       "    </tr>\n",
       "    <tr>\n",
       "      <th>Party</th>\n",
       "      <th></th>\n",
       "      <th></th>\n",
       "      <th></th>\n",
       "      <th></th>\n",
       "      <th></th>\n",
       "    </tr>\n",
       "  </thead>\n",
       "  <tbody>\n",
       "    <tr>\n",
       "      <th>Democratic-Republican</th>\n",
       "      <td>Andrew Jackson</td>\n",
       "      <td>1824</td>\n",
       "      <td>151271</td>\n",
       "      <td>loss</td>\n",
       "      <td>57.210122</td>\n",
       "    </tr>\n",
       "    <tr>\n",
       "      <th>Democratic-Republican</th>\n",
       "      <td>John Quincy Adams</td>\n",
       "      <td>1824</td>\n",
       "      <td>113142</td>\n",
       "      <td>win</td>\n",
       "      <td>42.789878</td>\n",
       "    </tr>\n",
       "    <tr>\n",
       "      <th>Democratic</th>\n",
       "      <td>Andrew Jackson</td>\n",
       "      <td>1828</td>\n",
       "      <td>642806</td>\n",
       "      <td>win</td>\n",
       "      <td>56.203927</td>\n",
       "    </tr>\n",
       "    <tr>\n",
       "      <th>National Republican</th>\n",
       "      <td>John Quincy Adams</td>\n",
       "      <td>1828</td>\n",
       "      <td>500897</td>\n",
       "      <td>loss</td>\n",
       "      <td>43.796073</td>\n",
       "    </tr>\n",
       "    <tr>\n",
       "      <th>Democratic</th>\n",
       "      <td>Andrew Jackson</td>\n",
       "      <td>1832</td>\n",
       "      <td>702735</td>\n",
       "      <td>win</td>\n",
       "      <td>54.574789</td>\n",
       "    </tr>\n",
       "    <tr>\n",
       "      <th>...</th>\n",
       "      <td>...</td>\n",
       "      <td>...</td>\n",
       "      <td>...</td>\n",
       "      <td>...</td>\n",
       "      <td>...</td>\n",
       "    </tr>\n",
       "    <tr>\n",
       "      <th>Republican</th>\n",
       "      <td>Donald Trump</td>\n",
       "      <td>2024</td>\n",
       "      <td>77303568</td>\n",
       "      <td>win</td>\n",
       "      <td>49.808629</td>\n",
       "    </tr>\n",
       "    <tr>\n",
       "      <th>Democratic</th>\n",
       "      <td>Kamala Harris</td>\n",
       "      <td>2024</td>\n",
       "      <td>75019230</td>\n",
       "      <td>loss</td>\n",
       "      <td>48.336772</td>\n",
       "    </tr>\n",
       "    <tr>\n",
       "      <th>Green</th>\n",
       "      <td>Jill Stein</td>\n",
       "      <td>2024</td>\n",
       "      <td>861155</td>\n",
       "      <td>loss</td>\n",
       "      <td>0.554864</td>\n",
       "    </tr>\n",
       "    <tr>\n",
       "      <th>Independent</th>\n",
       "      <td>Robert Kennedy</td>\n",
       "      <td>2024</td>\n",
       "      <td>756383</td>\n",
       "      <td>loss</td>\n",
       "      <td>0.487357</td>\n",
       "    </tr>\n",
       "    <tr>\n",
       "      <th>Libertarian Party</th>\n",
       "      <td>Chase Oliver</td>\n",
       "      <td>2024</td>\n",
       "      <td>650130</td>\n",
       "      <td>loss</td>\n",
       "      <td>0.418895</td>\n",
       "    </tr>\n",
       "  </tbody>\n",
       "</table>\n",
       "<p>187 rows × 5 columns</p>\n",
       "</div>"
      ],
      "text/plain": [
       "                               Candidate  Year  Popular vote Result          %\n",
       "Party                                                                         \n",
       "Democratic-Republican     Andrew Jackson  1824        151271   loss  57.210122\n",
       "Democratic-Republican  John Quincy Adams  1824        113142    win  42.789878\n",
       "Democratic                Andrew Jackson  1828        642806    win  56.203927\n",
       "National Republican    John Quincy Adams  1828        500897   loss  43.796073\n",
       "Democratic                Andrew Jackson  1832        702735    win  54.574789\n",
       "...                                  ...   ...           ...    ...        ...\n",
       "Republican                  Donald Trump  2024      77303568    win  49.808629\n",
       "Democratic                 Kamala Harris  2024      75019230   loss  48.336772\n",
       "Green                         Jill Stein  2024        861155   loss   0.554864\n",
       "Independent               Robert Kennedy  2024        756383   loss   0.487357\n",
       "Libertarian Party           Chase Oliver  2024        650130   loss   0.418895\n",
       "\n",
       "[187 rows x 5 columns]"
      ]
     },
     "execution_count": 26,
     "metadata": {},
     "output_type": "execute_result"
    }
   ],
   "source": [
    "elections.reset_index(inplace=True) # Need to reset the Index to keep 'Candidate' as one of the DataFrane Columns\n",
    "elections.set_index(\"Party\", inplace=True) # This sets the Index to the \"Candidate\" column\n",
    "elections"
   ]
  },
  {
   "cell_type": "markdown",
   "metadata": {},
   "source": [
    "#### `DataFrame` attributes: `index`, `columns`, and `shape`"
   ]
  },
  {
   "cell_type": "code",
   "execution_count": 27,
   "metadata": {},
   "outputs": [
    {
     "data": {
      "text/plain": [
       "Index(['Democratic-Republican', 'Democratic-Republican', 'Democratic',\n",
       "       'National Republican', 'Democratic', 'National Republican',\n",
       "       'Anti-Masonic', 'Whig', 'Democratic', 'Whig',\n",
       "       ...\n",
       "       'Green', 'Democratic', 'Republican', 'Libertarian', 'Green',\n",
       "       'Republican', 'Democratic', 'Green', 'Independent',\n",
       "       'Libertarian Party'],\n",
       "      dtype='object', name='Party', length=187)"
      ]
     },
     "execution_count": 27,
     "metadata": {},
     "output_type": "execute_result"
    }
   ],
   "source": [
    "elections.index"
   ]
  },
  {
   "cell_type": "code",
   "execution_count": 28,
   "metadata": {},
   "outputs": [
    {
     "data": {
      "text/plain": [
       "Index(['Candidate', 'Year', 'Popular vote', 'Result', '%'], dtype='object')"
      ]
     },
     "execution_count": 28,
     "metadata": {},
     "output_type": "execute_result"
    }
   ],
   "source": [
    "elections.columns"
   ]
  },
  {
   "cell_type": "markdown",
   "metadata": {},
   "source": [
    "The `Index` column can be set to the default list of integers by calling `reset_index()` on a `DataFrame`."
   ]
  },
  {
   "cell_type": "code",
   "execution_count": 29,
   "metadata": {},
   "outputs": [
    {
     "data": {
      "text/html": [
       "<div>\n",
       "<style scoped>\n",
       "    .dataframe tbody tr th:only-of-type {\n",
       "        vertical-align: middle;\n",
       "    }\n",
       "\n",
       "    .dataframe tbody tr th {\n",
       "        vertical-align: top;\n",
       "    }\n",
       "\n",
       "    .dataframe thead th {\n",
       "        text-align: right;\n",
       "    }\n",
       "</style>\n",
       "<table border=\"1\" class=\"dataframe\">\n",
       "  <thead>\n",
       "    <tr style=\"text-align: right;\">\n",
       "      <th></th>\n",
       "      <th>Party</th>\n",
       "      <th>Candidate</th>\n",
       "      <th>Year</th>\n",
       "      <th>Popular vote</th>\n",
       "      <th>Result</th>\n",
       "      <th>%</th>\n",
       "    </tr>\n",
       "  </thead>\n",
       "  <tbody>\n",
       "    <tr>\n",
       "      <th>0</th>\n",
       "      <td>Democratic-Republican</td>\n",
       "      <td>Andrew Jackson</td>\n",
       "      <td>1824</td>\n",
       "      <td>151271</td>\n",
       "      <td>loss</td>\n",
       "      <td>57.210122</td>\n",
       "    </tr>\n",
       "    <tr>\n",
       "      <th>1</th>\n",
       "      <td>Democratic-Republican</td>\n",
       "      <td>John Quincy Adams</td>\n",
       "      <td>1824</td>\n",
       "      <td>113142</td>\n",
       "      <td>win</td>\n",
       "      <td>42.789878</td>\n",
       "    </tr>\n",
       "    <tr>\n",
       "      <th>2</th>\n",
       "      <td>Democratic</td>\n",
       "      <td>Andrew Jackson</td>\n",
       "      <td>1828</td>\n",
       "      <td>642806</td>\n",
       "      <td>win</td>\n",
       "      <td>56.203927</td>\n",
       "    </tr>\n",
       "    <tr>\n",
       "      <th>3</th>\n",
       "      <td>National Republican</td>\n",
       "      <td>John Quincy Adams</td>\n",
       "      <td>1828</td>\n",
       "      <td>500897</td>\n",
       "      <td>loss</td>\n",
       "      <td>43.796073</td>\n",
       "    </tr>\n",
       "    <tr>\n",
       "      <th>4</th>\n",
       "      <td>Democratic</td>\n",
       "      <td>Andrew Jackson</td>\n",
       "      <td>1832</td>\n",
       "      <td>702735</td>\n",
       "      <td>win</td>\n",
       "      <td>54.574789</td>\n",
       "    </tr>\n",
       "    <tr>\n",
       "      <th>...</th>\n",
       "      <td>...</td>\n",
       "      <td>...</td>\n",
       "      <td>...</td>\n",
       "      <td>...</td>\n",
       "      <td>...</td>\n",
       "      <td>...</td>\n",
       "    </tr>\n",
       "    <tr>\n",
       "      <th>182</th>\n",
       "      <td>Republican</td>\n",
       "      <td>Donald Trump</td>\n",
       "      <td>2024</td>\n",
       "      <td>77303568</td>\n",
       "      <td>win</td>\n",
       "      <td>49.808629</td>\n",
       "    </tr>\n",
       "    <tr>\n",
       "      <th>183</th>\n",
       "      <td>Democratic</td>\n",
       "      <td>Kamala Harris</td>\n",
       "      <td>2024</td>\n",
       "      <td>75019230</td>\n",
       "      <td>loss</td>\n",
       "      <td>48.336772</td>\n",
       "    </tr>\n",
       "    <tr>\n",
       "      <th>184</th>\n",
       "      <td>Green</td>\n",
       "      <td>Jill Stein</td>\n",
       "      <td>2024</td>\n",
       "      <td>861155</td>\n",
       "      <td>loss</td>\n",
       "      <td>0.554864</td>\n",
       "    </tr>\n",
       "    <tr>\n",
       "      <th>185</th>\n",
       "      <td>Independent</td>\n",
       "      <td>Robert Kennedy</td>\n",
       "      <td>2024</td>\n",
       "      <td>756383</td>\n",
       "      <td>loss</td>\n",
       "      <td>0.487357</td>\n",
       "    </tr>\n",
       "    <tr>\n",
       "      <th>186</th>\n",
       "      <td>Libertarian Party</td>\n",
       "      <td>Chase Oliver</td>\n",
       "      <td>2024</td>\n",
       "      <td>650130</td>\n",
       "      <td>loss</td>\n",
       "      <td>0.418895</td>\n",
       "    </tr>\n",
       "  </tbody>\n",
       "</table>\n",
       "<p>187 rows × 6 columns</p>\n",
       "</div>"
      ],
      "text/plain": [
       "                     Party          Candidate  Year  Popular vote Result  \\\n",
       "0    Democratic-Republican     Andrew Jackson  1824        151271   loss   \n",
       "1    Democratic-Republican  John Quincy Adams  1824        113142    win   \n",
       "2               Democratic     Andrew Jackson  1828        642806    win   \n",
       "3      National Republican  John Quincy Adams  1828        500897   loss   \n",
       "4               Democratic     Andrew Jackson  1832        702735    win   \n",
       "..                     ...                ...   ...           ...    ...   \n",
       "182             Republican       Donald Trump  2024      77303568    win   \n",
       "183             Democratic      Kamala Harris  2024      75019230   loss   \n",
       "184                  Green         Jill Stein  2024        861155   loss   \n",
       "185            Independent     Robert Kennedy  2024        756383   loss   \n",
       "186      Libertarian Party       Chase Oliver  2024        650130   loss   \n",
       "\n",
       "             %  \n",
       "0    57.210122  \n",
       "1    42.789878  \n",
       "2    56.203927  \n",
       "3    43.796073  \n",
       "4    54.574789  \n",
       "..         ...  \n",
       "182  49.808629  \n",
       "183  48.336772  \n",
       "184   0.554864  \n",
       "185   0.487357  \n",
       "186   0.418895  \n",
       "\n",
       "[187 rows x 6 columns]"
      ]
     },
     "execution_count": 29,
     "metadata": {},
     "output_type": "execute_result"
    }
   ],
   "source": [
    "elections.reset_index(inplace=True) # Revert the Index back to its default numeric labeling\n",
    "elections"
   ]
  },
  {
   "cell_type": "code",
   "execution_count": 30,
   "metadata": {},
   "outputs": [
    {
     "data": {
      "text/plain": [
       "(187, 6)"
      ]
     },
     "execution_count": 30,
     "metadata": {},
     "output_type": "execute_result"
    }
   ],
   "source": [
    "elections.shape"
   ]
  },
  {
   "cell_type": "markdown",
   "metadata": {},
   "source": [
    "### Slicing in `DataFrame`s"
   ]
  },
  {
   "cell_type": "markdown",
   "metadata": {},
   "source": [
    "We can use `.head` to return only a few rows of a dataframe."
   ]
  },
  {
   "cell_type": "code",
   "execution_count": 31,
   "metadata": {},
   "outputs": [
    {
     "data": {
      "text/html": [
       "<div>\n",
       "<style scoped>\n",
       "    .dataframe tbody tr th:only-of-type {\n",
       "        vertical-align: middle;\n",
       "    }\n",
       "\n",
       "    .dataframe tbody tr th {\n",
       "        vertical-align: top;\n",
       "    }\n",
       "\n",
       "    .dataframe thead th {\n",
       "        text-align: right;\n",
       "    }\n",
       "</style>\n",
       "<table border=\"1\" class=\"dataframe\">\n",
       "  <thead>\n",
       "    <tr style=\"text-align: right;\">\n",
       "      <th></th>\n",
       "      <th>Year</th>\n",
       "      <th>Candidate</th>\n",
       "      <th>Party</th>\n",
       "      <th>Popular vote</th>\n",
       "      <th>Result</th>\n",
       "      <th>%</th>\n",
       "    </tr>\n",
       "  </thead>\n",
       "  <tbody>\n",
       "    <tr>\n",
       "      <th>0</th>\n",
       "      <td>1824</td>\n",
       "      <td>Andrew Jackson</td>\n",
       "      <td>Democratic-Republican</td>\n",
       "      <td>151271</td>\n",
       "      <td>loss</td>\n",
       "      <td>57.210122</td>\n",
       "    </tr>\n",
       "    <tr>\n",
       "      <th>1</th>\n",
       "      <td>1824</td>\n",
       "      <td>John Quincy Adams</td>\n",
       "      <td>Democratic-Republican</td>\n",
       "      <td>113142</td>\n",
       "      <td>win</td>\n",
       "      <td>42.789878</td>\n",
       "    </tr>\n",
       "    <tr>\n",
       "      <th>2</th>\n",
       "      <td>1828</td>\n",
       "      <td>Andrew Jackson</td>\n",
       "      <td>Democratic</td>\n",
       "      <td>642806</td>\n",
       "      <td>win</td>\n",
       "      <td>56.203927</td>\n",
       "    </tr>\n",
       "    <tr>\n",
       "      <th>3</th>\n",
       "      <td>1828</td>\n",
       "      <td>John Quincy Adams</td>\n",
       "      <td>National Republican</td>\n",
       "      <td>500897</td>\n",
       "      <td>loss</td>\n",
       "      <td>43.796073</td>\n",
       "    </tr>\n",
       "    <tr>\n",
       "      <th>4</th>\n",
       "      <td>1832</td>\n",
       "      <td>Andrew Jackson</td>\n",
       "      <td>Democratic</td>\n",
       "      <td>702735</td>\n",
       "      <td>win</td>\n",
       "      <td>54.574789</td>\n",
       "    </tr>\n",
       "  </tbody>\n",
       "</table>\n",
       "</div>"
      ],
      "text/plain": [
       "   Year          Candidate                  Party  Popular vote Result  \\\n",
       "0  1824     Andrew Jackson  Democratic-Republican        151271   loss   \n",
       "1  1824  John Quincy Adams  Democratic-Republican        113142    win   \n",
       "2  1828     Andrew Jackson             Democratic        642806    win   \n",
       "3  1828  John Quincy Adams    National Republican        500897   loss   \n",
       "4  1832     Andrew Jackson             Democratic        702735    win   \n",
       "\n",
       "           %  \n",
       "0  57.210122  \n",
       "1  42.789878  \n",
       "2  56.203927  \n",
       "3  43.796073  \n",
       "4  54.574789  "
      ]
     },
     "execution_count": 31,
     "metadata": {},
     "output_type": "execute_result"
    }
   ],
   "source": [
    "# Loading DataFrame again to keep the original ordering of columns\n",
    "elections = pd.read_csv(\"data/elections.csv\")\n",
    "\n",
    "elections.head() # By default, calling .head with no argument will show the first 5 rows"
   ]
  },
  {
   "cell_type": "code",
   "execution_count": 32,
   "metadata": {},
   "outputs": [
    {
     "data": {
      "text/html": [
       "<div>\n",
       "<style scoped>\n",
       "    .dataframe tbody tr th:only-of-type {\n",
       "        vertical-align: middle;\n",
       "    }\n",
       "\n",
       "    .dataframe tbody tr th {\n",
       "        vertical-align: top;\n",
       "    }\n",
       "\n",
       "    .dataframe thead th {\n",
       "        text-align: right;\n",
       "    }\n",
       "</style>\n",
       "<table border=\"1\" class=\"dataframe\">\n",
       "  <thead>\n",
       "    <tr style=\"text-align: right;\">\n",
       "      <th></th>\n",
       "      <th>Year</th>\n",
       "      <th>Candidate</th>\n",
       "      <th>Party</th>\n",
       "      <th>Popular vote</th>\n",
       "      <th>Result</th>\n",
       "      <th>%</th>\n",
       "    </tr>\n",
       "  </thead>\n",
       "  <tbody>\n",
       "    <tr>\n",
       "      <th>0</th>\n",
       "      <td>1824</td>\n",
       "      <td>Andrew Jackson</td>\n",
       "      <td>Democratic-Republican</td>\n",
       "      <td>151271</td>\n",
       "      <td>loss</td>\n",
       "      <td>57.210122</td>\n",
       "    </tr>\n",
       "    <tr>\n",
       "      <th>1</th>\n",
       "      <td>1824</td>\n",
       "      <td>John Quincy Adams</td>\n",
       "      <td>Democratic-Republican</td>\n",
       "      <td>113142</td>\n",
       "      <td>win</td>\n",
       "      <td>42.789878</td>\n",
       "    </tr>\n",
       "    <tr>\n",
       "      <th>2</th>\n",
       "      <td>1828</td>\n",
       "      <td>Andrew Jackson</td>\n",
       "      <td>Democratic</td>\n",
       "      <td>642806</td>\n",
       "      <td>win</td>\n",
       "      <td>56.203927</td>\n",
       "    </tr>\n",
       "  </tbody>\n",
       "</table>\n",
       "</div>"
      ],
      "text/plain": [
       "   Year          Candidate                  Party  Popular vote Result  \\\n",
       "0  1824     Andrew Jackson  Democratic-Republican        151271   loss   \n",
       "1  1824  John Quincy Adams  Democratic-Republican        113142    win   \n",
       "2  1828     Andrew Jackson             Democratic        642806    win   \n",
       "\n",
       "           %  \n",
       "0  57.210122  \n",
       "1  42.789878  \n",
       "2  56.203927  "
      ]
     },
     "execution_count": 32,
     "metadata": {},
     "output_type": "execute_result"
    }
   ],
   "source": [
    "elections.head(3)"
   ]
  },
  {
   "cell_type": "markdown",
   "metadata": {},
   "source": [
    "We can also use `.tail` to get the last so many rows."
   ]
  },
  {
   "cell_type": "code",
   "execution_count": 33,
   "metadata": {},
   "outputs": [
    {
     "data": {
      "text/html": [
       "<div>\n",
       "<style scoped>\n",
       "    .dataframe tbody tr th:only-of-type {\n",
       "        vertical-align: middle;\n",
       "    }\n",
       "\n",
       "    .dataframe tbody tr th {\n",
       "        vertical-align: top;\n",
       "    }\n",
       "\n",
       "    .dataframe thead th {\n",
       "        text-align: right;\n",
       "    }\n",
       "</style>\n",
       "<table border=\"1\" class=\"dataframe\">\n",
       "  <thead>\n",
       "    <tr style=\"text-align: right;\">\n",
       "      <th></th>\n",
       "      <th>Year</th>\n",
       "      <th>Candidate</th>\n",
       "      <th>Party</th>\n",
       "      <th>Popular vote</th>\n",
       "      <th>Result</th>\n",
       "      <th>%</th>\n",
       "    </tr>\n",
       "  </thead>\n",
       "  <tbody>\n",
       "    <tr>\n",
       "      <th>182</th>\n",
       "      <td>2024</td>\n",
       "      <td>Donald Trump</td>\n",
       "      <td>Republican</td>\n",
       "      <td>77303568</td>\n",
       "      <td>win</td>\n",
       "      <td>49.808629</td>\n",
       "    </tr>\n",
       "    <tr>\n",
       "      <th>183</th>\n",
       "      <td>2024</td>\n",
       "      <td>Kamala Harris</td>\n",
       "      <td>Democratic</td>\n",
       "      <td>75019230</td>\n",
       "      <td>loss</td>\n",
       "      <td>48.336772</td>\n",
       "    </tr>\n",
       "    <tr>\n",
       "      <th>184</th>\n",
       "      <td>2024</td>\n",
       "      <td>Jill Stein</td>\n",
       "      <td>Green</td>\n",
       "      <td>861155</td>\n",
       "      <td>loss</td>\n",
       "      <td>0.554864</td>\n",
       "    </tr>\n",
       "    <tr>\n",
       "      <th>185</th>\n",
       "      <td>2024</td>\n",
       "      <td>Robert Kennedy</td>\n",
       "      <td>Independent</td>\n",
       "      <td>756383</td>\n",
       "      <td>loss</td>\n",
       "      <td>0.487357</td>\n",
       "    </tr>\n",
       "    <tr>\n",
       "      <th>186</th>\n",
       "      <td>2024</td>\n",
       "      <td>Chase Oliver</td>\n",
       "      <td>Libertarian Party</td>\n",
       "      <td>650130</td>\n",
       "      <td>loss</td>\n",
       "      <td>0.418895</td>\n",
       "    </tr>\n",
       "  </tbody>\n",
       "</table>\n",
       "</div>"
      ],
      "text/plain": [
       "     Year       Candidate              Party  Popular vote Result          %\n",
       "182  2024    Donald Trump         Republican      77303568    win  49.808629\n",
       "183  2024   Kamala Harris         Democratic      75019230   loss  48.336772\n",
       "184  2024      Jill Stein              Green        861155   loss   0.554864\n",
       "185  2024  Robert Kennedy        Independent        756383   loss   0.487357\n",
       "186  2024    Chase Oliver  Libertarian Party        650130   loss   0.418895"
      ]
     },
     "execution_count": 33,
     "metadata": {},
     "output_type": "execute_result"
    }
   ],
   "source": [
    "elections.tail(5)"
   ]
  },
  {
   "cell_type": "markdown",
   "metadata": {},
   "source": [
    "#### Label-Based Extraction Using`loc`\n",
    "\n",
    "Arguments to `.loc` can be:\n",
    "1. A list.\n",
    "2. A slice (syntax is **inclusive** of the right-hand side of the slice).\n",
    "3. A single value.\n"
   ]
  },
  {
   "cell_type": "markdown",
   "metadata": {},
   "source": [
    "`loc` selects items by row and column *label*."
   ]
  },
  {
   "cell_type": "code",
   "execution_count": 34,
   "metadata": {},
   "outputs": [
    {
     "data": {
      "text/html": [
       "<div>\n",
       "<style scoped>\n",
       "    .dataframe tbody tr th:only-of-type {\n",
       "        vertical-align: middle;\n",
       "    }\n",
       "\n",
       "    .dataframe tbody tr th {\n",
       "        vertical-align: top;\n",
       "    }\n",
       "\n",
       "    .dataframe thead th {\n",
       "        text-align: right;\n",
       "    }\n",
       "</style>\n",
       "<table border=\"1\" class=\"dataframe\">\n",
       "  <thead>\n",
       "    <tr style=\"text-align: right;\">\n",
       "      <th></th>\n",
       "      <th>Year</th>\n",
       "      <th>Candidate</th>\n",
       "      <th>Result</th>\n",
       "    </tr>\n",
       "  </thead>\n",
       "  <tbody>\n",
       "    <tr>\n",
       "      <th>87</th>\n",
       "      <td>1932</td>\n",
       "      <td>Herbert Hoover</td>\n",
       "      <td>loss</td>\n",
       "    </tr>\n",
       "    <tr>\n",
       "      <th>25</th>\n",
       "      <td>1860</td>\n",
       "      <td>John C. Breckinridge</td>\n",
       "      <td>loss</td>\n",
       "    </tr>\n",
       "    <tr>\n",
       "      <th>179</th>\n",
       "      <td>2020</td>\n",
       "      <td>Donald Trump</td>\n",
       "      <td>loss</td>\n",
       "    </tr>\n",
       "  </tbody>\n",
       "</table>\n",
       "</div>"
      ],
      "text/plain": [
       "     Year             Candidate Result\n",
       "87   1932        Herbert Hoover   loss\n",
       "25   1860  John C. Breckinridge   loss\n",
       "179  2020          Donald Trump   loss"
      ]
     },
     "execution_count": 34,
     "metadata": {},
     "output_type": "execute_result"
    }
   ],
   "source": [
    "# Selection by a list\n",
    "elections.loc[[87, 25, 179], [\"Year\", \"Candidate\", \"Result\"]]"
   ]
  },
  {
   "cell_type": "code",
   "execution_count": 35,
   "metadata": {},
   "outputs": [
    {
     "data": {
      "text/html": [
       "<div>\n",
       "<style scoped>\n",
       "    .dataframe tbody tr th:only-of-type {\n",
       "        vertical-align: middle;\n",
       "    }\n",
       "\n",
       "    .dataframe tbody tr th {\n",
       "        vertical-align: top;\n",
       "    }\n",
       "\n",
       "    .dataframe thead th {\n",
       "        text-align: right;\n",
       "    }\n",
       "</style>\n",
       "<table border=\"1\" class=\"dataframe\">\n",
       "  <thead>\n",
       "    <tr style=\"text-align: right;\">\n",
       "      <th></th>\n",
       "      <th>Popular vote</th>\n",
       "      <th>Result</th>\n",
       "      <th>%</th>\n",
       "    </tr>\n",
       "  </thead>\n",
       "  <tbody>\n",
       "    <tr>\n",
       "      <th>87</th>\n",
       "      <td>15761254</td>\n",
       "      <td>loss</td>\n",
       "      <td>39.830594</td>\n",
       "    </tr>\n",
       "    <tr>\n",
       "      <th>25</th>\n",
       "      <td>848019</td>\n",
       "      <td>loss</td>\n",
       "      <td>18.138998</td>\n",
       "    </tr>\n",
       "    <tr>\n",
       "      <th>179</th>\n",
       "      <td>74216154</td>\n",
       "      <td>loss</td>\n",
       "      <td>46.858542</td>\n",
       "    </tr>\n",
       "  </tbody>\n",
       "</table>\n",
       "</div>"
      ],
      "text/plain": [
       "     Popular vote Result          %\n",
       "87       15761254   loss  39.830594\n",
       "25         848019   loss  18.138998\n",
       "179      74216154   loss  46.858542"
      ]
     },
     "execution_count": 35,
     "metadata": {},
     "output_type": "execute_result"
    }
   ],
   "source": [
    "# Selection by a list and a slice of columns\n",
    "elections.loc[[87, 25, 179], \"Popular vote\":\"%\"]"
   ]
  },
  {
   "cell_type": "code",
   "execution_count": 36,
   "metadata": {},
   "outputs": [
    {
     "data": {
      "text/html": [
       "<div>\n",
       "<style scoped>\n",
       "    .dataframe tbody tr th:only-of-type {\n",
       "        vertical-align: middle;\n",
       "    }\n",
       "\n",
       "    .dataframe tbody tr th {\n",
       "        vertical-align: top;\n",
       "    }\n",
       "\n",
       "    .dataframe thead th {\n",
       "        text-align: right;\n",
       "    }\n",
       "</style>\n",
       "<table border=\"1\" class=\"dataframe\">\n",
       "  <thead>\n",
       "    <tr style=\"text-align: right;\">\n",
       "      <th></th>\n",
       "      <th>Year</th>\n",
       "      <th>Candidate</th>\n",
       "      <th>Result</th>\n",
       "    </tr>\n",
       "  </thead>\n",
       "  <tbody>\n",
       "    <tr>\n",
       "      <th>0</th>\n",
       "      <td>1824</td>\n",
       "      <td>Andrew Jackson</td>\n",
       "      <td>loss</td>\n",
       "    </tr>\n",
       "    <tr>\n",
       "      <th>1</th>\n",
       "      <td>1824</td>\n",
       "      <td>John Quincy Adams</td>\n",
       "      <td>win</td>\n",
       "    </tr>\n",
       "    <tr>\n",
       "      <th>2</th>\n",
       "      <td>1828</td>\n",
       "      <td>Andrew Jackson</td>\n",
       "      <td>win</td>\n",
       "    </tr>\n",
       "    <tr>\n",
       "      <th>3</th>\n",
       "      <td>1828</td>\n",
       "      <td>John Quincy Adams</td>\n",
       "      <td>loss</td>\n",
       "    </tr>\n",
       "    <tr>\n",
       "      <th>4</th>\n",
       "      <td>1832</td>\n",
       "      <td>Andrew Jackson</td>\n",
       "      <td>win</td>\n",
       "    </tr>\n",
       "    <tr>\n",
       "      <th>...</th>\n",
       "      <td>...</td>\n",
       "      <td>...</td>\n",
       "      <td>...</td>\n",
       "    </tr>\n",
       "    <tr>\n",
       "      <th>182</th>\n",
       "      <td>2024</td>\n",
       "      <td>Donald Trump</td>\n",
       "      <td>win</td>\n",
       "    </tr>\n",
       "    <tr>\n",
       "      <th>183</th>\n",
       "      <td>2024</td>\n",
       "      <td>Kamala Harris</td>\n",
       "      <td>loss</td>\n",
       "    </tr>\n",
       "    <tr>\n",
       "      <th>184</th>\n",
       "      <td>2024</td>\n",
       "      <td>Jill Stein</td>\n",
       "      <td>loss</td>\n",
       "    </tr>\n",
       "    <tr>\n",
       "      <th>185</th>\n",
       "      <td>2024</td>\n",
       "      <td>Robert Kennedy</td>\n",
       "      <td>loss</td>\n",
       "    </tr>\n",
       "    <tr>\n",
       "      <th>186</th>\n",
       "      <td>2024</td>\n",
       "      <td>Chase Oliver</td>\n",
       "      <td>loss</td>\n",
       "    </tr>\n",
       "  </tbody>\n",
       "</table>\n",
       "<p>187 rows × 3 columns</p>\n",
       "</div>"
      ],
      "text/plain": [
       "     Year          Candidate Result\n",
       "0    1824     Andrew Jackson   loss\n",
       "1    1824  John Quincy Adams    win\n",
       "2    1828     Andrew Jackson    win\n",
       "3    1828  John Quincy Adams   loss\n",
       "4    1832     Andrew Jackson    win\n",
       "..    ...                ...    ...\n",
       "182  2024       Donald Trump    win\n",
       "183  2024      Kamala Harris   loss\n",
       "184  2024         Jill Stein   loss\n",
       "185  2024     Robert Kennedy   loss\n",
       "186  2024       Chase Oliver   loss\n",
       "\n",
       "[187 rows x 3 columns]"
      ]
     },
     "execution_count": 36,
     "metadata": {},
     "output_type": "execute_result"
    }
   ],
   "source": [
    "# Extracting all rows using a colon\n",
    "elections.loc[:, [\"Year\", \"Candidate\", \"Result\"]]"
   ]
  },
  {
   "cell_type": "code",
   "execution_count": 37,
   "metadata": {},
   "outputs": [
    {
     "data": {
      "text/html": [
       "<div>\n",
       "<style scoped>\n",
       "    .dataframe tbody tr th:only-of-type {\n",
       "        vertical-align: middle;\n",
       "    }\n",
       "\n",
       "    .dataframe tbody tr th {\n",
       "        vertical-align: top;\n",
       "    }\n",
       "\n",
       "    .dataframe thead th {\n",
       "        text-align: right;\n",
       "    }\n",
       "</style>\n",
       "<table border=\"1\" class=\"dataframe\">\n",
       "  <thead>\n",
       "    <tr style=\"text-align: right;\">\n",
       "      <th></th>\n",
       "      <th>Year</th>\n",
       "      <th>Candidate</th>\n",
       "      <th>Party</th>\n",
       "      <th>Popular vote</th>\n",
       "      <th>Result</th>\n",
       "      <th>%</th>\n",
       "    </tr>\n",
       "  </thead>\n",
       "  <tbody>\n",
       "    <tr>\n",
       "      <th>87</th>\n",
       "      <td>1932</td>\n",
       "      <td>Herbert Hoover</td>\n",
       "      <td>Republican</td>\n",
       "      <td>15761254</td>\n",
       "      <td>loss</td>\n",
       "      <td>39.830594</td>\n",
       "    </tr>\n",
       "    <tr>\n",
       "      <th>25</th>\n",
       "      <td>1860</td>\n",
       "      <td>John C. Breckinridge</td>\n",
       "      <td>Southern Democratic</td>\n",
       "      <td>848019</td>\n",
       "      <td>loss</td>\n",
       "      <td>18.138998</td>\n",
       "    </tr>\n",
       "    <tr>\n",
       "      <th>179</th>\n",
       "      <td>2020</td>\n",
       "      <td>Donald Trump</td>\n",
       "      <td>Republican</td>\n",
       "      <td>74216154</td>\n",
       "      <td>loss</td>\n",
       "      <td>46.858542</td>\n",
       "    </tr>\n",
       "  </tbody>\n",
       "</table>\n",
       "</div>"
      ],
      "text/plain": [
       "     Year             Candidate                Party  Popular vote Result  \\\n",
       "87   1932        Herbert Hoover           Republican      15761254   loss   \n",
       "25   1860  John C. Breckinridge  Southern Democratic        848019   loss   \n",
       "179  2020          Donald Trump           Republican      74216154   loss   \n",
       "\n",
       "             %  \n",
       "87   39.830594  \n",
       "25   18.138998  \n",
       "179  46.858542  "
      ]
     },
     "execution_count": 37,
     "metadata": {},
     "output_type": "execute_result"
    }
   ],
   "source": [
    "# Extracting all columns using a colon\n",
    "elections.loc[[87, 25, 179], :]"
   ]
  },
  {
   "cell_type": "code",
   "execution_count": 38,
   "metadata": {},
   "outputs": [
    {
     "data": {
      "text/plain": [
       "87     15761254\n",
       "25       848019\n",
       "179    74216154\n",
       "Name: Popular vote, dtype: int64"
      ]
     },
     "execution_count": 38,
     "metadata": {},
     "output_type": "execute_result"
    }
   ],
   "source": [
    "# Selection by a list and a single-column label\n",
    "elections.loc[[87, 25, 179], \"Popular vote\"]"
   ]
  },
  {
   "cell_type": "code",
   "execution_count": 39,
   "metadata": {},
   "outputs": [
    {
     "data": {
      "text/html": [
       "<div>\n",
       "<style scoped>\n",
       "    .dataframe tbody tr th:only-of-type {\n",
       "        vertical-align: middle;\n",
       "    }\n",
       "\n",
       "    .dataframe tbody tr th {\n",
       "        vertical-align: top;\n",
       "    }\n",
       "\n",
       "    .dataframe thead th {\n",
       "        text-align: right;\n",
       "    }\n",
       "</style>\n",
       "<table border=\"1\" class=\"dataframe\">\n",
       "  <thead>\n",
       "    <tr style=\"text-align: right;\">\n",
       "      <th></th>\n",
       "      <th>Popular vote</th>\n",
       "    </tr>\n",
       "  </thead>\n",
       "  <tbody>\n",
       "    <tr>\n",
       "      <th>87</th>\n",
       "      <td>15761254</td>\n",
       "    </tr>\n",
       "    <tr>\n",
       "      <th>25</th>\n",
       "      <td>848019</td>\n",
       "    </tr>\n",
       "    <tr>\n",
       "      <th>179</th>\n",
       "      <td>74216154</td>\n",
       "    </tr>\n",
       "  </tbody>\n",
       "</table>\n",
       "</div>"
      ],
      "text/plain": [
       "     Popular vote\n",
       "87       15761254\n",
       "25         848019\n",
       "179      74216154"
      ]
     },
     "execution_count": 39,
     "metadata": {},
     "output_type": "execute_result"
    }
   ],
   "source": [
    "# Note that if we pass \"Popular vote\" in a list, the output will be a DataFrame\n",
    "elections.loc[[87, 25, 179], [\"Popular vote\"]]"
   ]
  },
  {
   "cell_type": "code",
   "execution_count": 40,
   "metadata": {},
   "outputs": [
    {
     "data": {
      "text/plain": [
       "'Andrew Jackson'"
      ]
     },
     "execution_count": 40,
     "metadata": {},
     "output_type": "execute_result"
    }
   ],
   "source": [
    "# Selection by a row label and a column label\n",
    "elections.loc[0, \"Candidate\"]"
   ]
  },
  {
   "cell_type": "markdown",
   "metadata": {},
   "source": [
    "#### Integer-Based Extraction Using `iloc`"
   ]
  },
  {
   "cell_type": "markdown",
   "metadata": {},
   "source": [
    "`iloc` selects items by row and column *integer* position.\n",
    "\n",
    "Arguments to `.iloc` can be:\n",
    "1. A list.\n",
    "2. A slice (syntax is exclusive of the right hand side of the slice).\n",
    "3. A single value.\n"
   ]
  },
  {
   "cell_type": "code",
   "execution_count": 41,
   "metadata": {},
   "outputs": [
    {
     "data": {
      "text/html": [
       "<div>\n",
       "<style scoped>\n",
       "    .dataframe tbody tr th:only-of-type {\n",
       "        vertical-align: middle;\n",
       "    }\n",
       "\n",
       "    .dataframe tbody tr th {\n",
       "        vertical-align: top;\n",
       "    }\n",
       "\n",
       "    .dataframe thead th {\n",
       "        text-align: right;\n",
       "    }\n",
       "</style>\n",
       "<table border=\"1\" class=\"dataframe\">\n",
       "  <thead>\n",
       "    <tr style=\"text-align: right;\">\n",
       "      <th></th>\n",
       "      <th>Year</th>\n",
       "      <th>Candidate</th>\n",
       "      <th>Party</th>\n",
       "    </tr>\n",
       "  </thead>\n",
       "  <tbody>\n",
       "    <tr>\n",
       "      <th>1</th>\n",
       "      <td>1824</td>\n",
       "      <td>John Quincy Adams</td>\n",
       "      <td>Democratic-Republican</td>\n",
       "    </tr>\n",
       "    <tr>\n",
       "      <th>2</th>\n",
       "      <td>1828</td>\n",
       "      <td>Andrew Jackson</td>\n",
       "      <td>Democratic</td>\n",
       "    </tr>\n",
       "    <tr>\n",
       "      <th>3</th>\n",
       "      <td>1828</td>\n",
       "      <td>John Quincy Adams</td>\n",
       "      <td>National Republican</td>\n",
       "    </tr>\n",
       "  </tbody>\n",
       "</table>\n",
       "</div>"
      ],
      "text/plain": [
       "   Year          Candidate                  Party\n",
       "1  1824  John Quincy Adams  Democratic-Republican\n",
       "2  1828     Andrew Jackson             Democratic\n",
       "3  1828  John Quincy Adams    National Republican"
      ]
     },
     "execution_count": 41,
     "metadata": {},
     "output_type": "execute_result"
    }
   ],
   "source": [
    "# Select the rows at positions 1, 2, and 3.\n",
    "# Select the columns at positions 0, 1, and 2.\n",
    "# Remember that Python indexing begins at position 0!\n",
    "elections.iloc[[1, 2, 3], [0, 1, 2]]"
   ]
  },
  {
   "cell_type": "code",
   "execution_count": 42,
   "metadata": {},
   "outputs": [
    {
     "data": {
      "text/html": [
       "<div>\n",
       "<style scoped>\n",
       "    .dataframe tbody tr th:only-of-type {\n",
       "        vertical-align: middle;\n",
       "    }\n",
       "\n",
       "    .dataframe tbody tr th {\n",
       "        vertical-align: top;\n",
       "    }\n",
       "\n",
       "    .dataframe thead th {\n",
       "        text-align: right;\n",
       "    }\n",
       "</style>\n",
       "<table border=\"1\" class=\"dataframe\">\n",
       "  <thead>\n",
       "    <tr style=\"text-align: right;\">\n",
       "      <th></th>\n",
       "      <th>Year</th>\n",
       "      <th>Candidate</th>\n",
       "      <th>Party</th>\n",
       "    </tr>\n",
       "  </thead>\n",
       "  <tbody>\n",
       "    <tr>\n",
       "      <th>1</th>\n",
       "      <td>1824</td>\n",
       "      <td>John Quincy Adams</td>\n",
       "      <td>Democratic-Republican</td>\n",
       "    </tr>\n",
       "    <tr>\n",
       "      <th>2</th>\n",
       "      <td>1828</td>\n",
       "      <td>Andrew Jackson</td>\n",
       "      <td>Democratic</td>\n",
       "    </tr>\n",
       "    <tr>\n",
       "      <th>3</th>\n",
       "      <td>1828</td>\n",
       "      <td>John Quincy Adams</td>\n",
       "      <td>National Republican</td>\n",
       "    </tr>\n",
       "  </tbody>\n",
       "</table>\n",
       "</div>"
      ],
      "text/plain": [
       "   Year          Candidate                  Party\n",
       "1  1824  John Quincy Adams  Democratic-Republican\n",
       "2  1828     Andrew Jackson             Democratic\n",
       "3  1828  John Quincy Adams    National Republican"
      ]
     },
     "execution_count": 42,
     "metadata": {},
     "output_type": "execute_result"
    }
   ],
   "source": [
    "# Index-based extraction using a list of rows and a slice of column indices\n",
    "elections.iloc[[1, 2, 3], 0:3]"
   ]
  },
  {
   "cell_type": "code",
   "execution_count": 43,
   "metadata": {},
   "outputs": [
    {
     "data": {
      "text/html": [
       "<div>\n",
       "<style scoped>\n",
       "    .dataframe tbody tr th:only-of-type {\n",
       "        vertical-align: middle;\n",
       "    }\n",
       "\n",
       "    .dataframe tbody tr th {\n",
       "        vertical-align: top;\n",
       "    }\n",
       "\n",
       "    .dataframe thead th {\n",
       "        text-align: right;\n",
       "    }\n",
       "</style>\n",
       "<table border=\"1\" class=\"dataframe\">\n",
       "  <thead>\n",
       "    <tr style=\"text-align: right;\">\n",
       "      <th></th>\n",
       "      <th>Year</th>\n",
       "      <th>Candidate</th>\n",
       "      <th>Party</th>\n",
       "    </tr>\n",
       "  </thead>\n",
       "  <tbody>\n",
       "    <tr>\n",
       "      <th>0</th>\n",
       "      <td>1824</td>\n",
       "      <td>Andrew Jackson</td>\n",
       "      <td>Democratic-Republican</td>\n",
       "    </tr>\n",
       "    <tr>\n",
       "      <th>1</th>\n",
       "      <td>1824</td>\n",
       "      <td>John Quincy Adams</td>\n",
       "      <td>Democratic-Republican</td>\n",
       "    </tr>\n",
       "    <tr>\n",
       "      <th>2</th>\n",
       "      <td>1828</td>\n",
       "      <td>Andrew Jackson</td>\n",
       "      <td>Democratic</td>\n",
       "    </tr>\n",
       "    <tr>\n",
       "      <th>3</th>\n",
       "      <td>1828</td>\n",
       "      <td>John Quincy Adams</td>\n",
       "      <td>National Republican</td>\n",
       "    </tr>\n",
       "    <tr>\n",
       "      <th>4</th>\n",
       "      <td>1832</td>\n",
       "      <td>Andrew Jackson</td>\n",
       "      <td>Democratic</td>\n",
       "    </tr>\n",
       "    <tr>\n",
       "      <th>...</th>\n",
       "      <td>...</td>\n",
       "      <td>...</td>\n",
       "      <td>...</td>\n",
       "    </tr>\n",
       "    <tr>\n",
       "      <th>182</th>\n",
       "      <td>2024</td>\n",
       "      <td>Donald Trump</td>\n",
       "      <td>Republican</td>\n",
       "    </tr>\n",
       "    <tr>\n",
       "      <th>183</th>\n",
       "      <td>2024</td>\n",
       "      <td>Kamala Harris</td>\n",
       "      <td>Democratic</td>\n",
       "    </tr>\n",
       "    <tr>\n",
       "      <th>184</th>\n",
       "      <td>2024</td>\n",
       "      <td>Jill Stein</td>\n",
       "      <td>Green</td>\n",
       "    </tr>\n",
       "    <tr>\n",
       "      <th>185</th>\n",
       "      <td>2024</td>\n",
       "      <td>Robert Kennedy</td>\n",
       "      <td>Independent</td>\n",
       "    </tr>\n",
       "    <tr>\n",
       "      <th>186</th>\n",
       "      <td>2024</td>\n",
       "      <td>Chase Oliver</td>\n",
       "      <td>Libertarian Party</td>\n",
       "    </tr>\n",
       "  </tbody>\n",
       "</table>\n",
       "<p>187 rows × 3 columns</p>\n",
       "</div>"
      ],
      "text/plain": [
       "     Year          Candidate                  Party\n",
       "0    1824     Andrew Jackson  Democratic-Republican\n",
       "1    1824  John Quincy Adams  Democratic-Republican\n",
       "2    1828     Andrew Jackson             Democratic\n",
       "3    1828  John Quincy Adams    National Republican\n",
       "4    1832     Andrew Jackson             Democratic\n",
       "..    ...                ...                    ...\n",
       "182  2024       Donald Trump             Republican\n",
       "183  2024      Kamala Harris             Democratic\n",
       "184  2024         Jill Stein                  Green\n",
       "185  2024     Robert Kennedy            Independent\n",
       "186  2024       Chase Oliver      Libertarian Party\n",
       "\n",
       "[187 rows x 3 columns]"
      ]
     },
     "execution_count": 43,
     "metadata": {},
     "output_type": "execute_result"
    }
   ],
   "source": [
    "# Selecting all rows using a colon\n",
    "elections.iloc[:, 0:3]"
   ]
  },
  {
   "cell_type": "code",
   "execution_count": 44,
   "metadata": {},
   "outputs": [
    {
     "data": {
      "text/plain": [
       "1    John Quincy Adams\n",
       "2       Andrew Jackson\n",
       "3    John Quincy Adams\n",
       "Name: Candidate, dtype: object"
      ]
     },
     "execution_count": 44,
     "metadata": {},
     "output_type": "execute_result"
    }
   ],
   "source": [
    "elections.iloc[[1, 2, 3], 1]"
   ]
  },
  {
   "cell_type": "code",
   "execution_count": 45,
   "metadata": {},
   "outputs": [
    {
     "data": {
      "text/plain": [
       "'Andrew Jackson'"
      ]
     },
     "execution_count": 45,
     "metadata": {},
     "output_type": "execute_result"
    }
   ],
   "source": [
    "# Extracting the value at row 0 and the second column\n",
    "elections.iloc[0,1]"
   ]
  },
  {
   "cell_type": "markdown",
   "metadata": {},
   "source": [
    "#### Context-dependent Extraction using `[]`"
   ]
  },
  {
   "cell_type": "markdown",
   "metadata": {},
   "source": [
    "We could technically do anything we want using `loc` or `iloc`. However, in practice, the `[]` operator is often used instead to yield more concise code.\n",
    "\n",
    "`[]` is a bit trickier to understand than `loc` or `iloc`, but it achieves essentially the same functionality. The difference is that `[]` is *context-dependent*.\n",
    "\n",
    "`[]` only takes one argument, which may be:\n",
    "1. A slice of row integers.\n",
    "2. A list of column labels.\n",
    "3. A single column label.\n"
   ]
  },
  {
   "cell_type": "markdown",
   "metadata": {},
   "source": [
    "If we provide a slice of row numbers, we get the numbered rows."
   ]
  },
  {
   "cell_type": "code",
   "execution_count": 46,
   "metadata": {
    "tags": []
   },
   "outputs": [
    {
     "data": {
      "text/html": [
       "<div>\n",
       "<style scoped>\n",
       "    .dataframe tbody tr th:only-of-type {\n",
       "        vertical-align: middle;\n",
       "    }\n",
       "\n",
       "    .dataframe tbody tr th {\n",
       "        vertical-align: top;\n",
       "    }\n",
       "\n",
       "    .dataframe thead th {\n",
       "        text-align: right;\n",
       "    }\n",
       "</style>\n",
       "<table border=\"1\" class=\"dataframe\">\n",
       "  <thead>\n",
       "    <tr style=\"text-align: right;\">\n",
       "      <th></th>\n",
       "      <th>Year</th>\n",
       "      <th>Candidate</th>\n",
       "      <th>Party</th>\n",
       "      <th>Popular vote</th>\n",
       "      <th>Result</th>\n",
       "      <th>%</th>\n",
       "    </tr>\n",
       "  </thead>\n",
       "  <tbody>\n",
       "    <tr>\n",
       "      <th>3</th>\n",
       "      <td>1828</td>\n",
       "      <td>John Quincy Adams</td>\n",
       "      <td>National Republican</td>\n",
       "      <td>500897</td>\n",
       "      <td>loss</td>\n",
       "      <td>43.796073</td>\n",
       "    </tr>\n",
       "    <tr>\n",
       "      <th>4</th>\n",
       "      <td>1832</td>\n",
       "      <td>Andrew Jackson</td>\n",
       "      <td>Democratic</td>\n",
       "      <td>702735</td>\n",
       "      <td>win</td>\n",
       "      <td>54.574789</td>\n",
       "    </tr>\n",
       "    <tr>\n",
       "      <th>5</th>\n",
       "      <td>1832</td>\n",
       "      <td>Henry Clay</td>\n",
       "      <td>National Republican</td>\n",
       "      <td>484205</td>\n",
       "      <td>loss</td>\n",
       "      <td>37.603628</td>\n",
       "    </tr>\n",
       "    <tr>\n",
       "      <th>6</th>\n",
       "      <td>1832</td>\n",
       "      <td>William Wirt</td>\n",
       "      <td>Anti-Masonic</td>\n",
       "      <td>100715</td>\n",
       "      <td>loss</td>\n",
       "      <td>7.821583</td>\n",
       "    </tr>\n",
       "  </tbody>\n",
       "</table>\n",
       "</div>"
      ],
      "text/plain": [
       "   Year          Candidate                Party  Popular vote Result  \\\n",
       "3  1828  John Quincy Adams  National Republican        500897   loss   \n",
       "4  1832     Andrew Jackson           Democratic        702735    win   \n",
       "5  1832         Henry Clay  National Republican        484205   loss   \n",
       "6  1832       William Wirt         Anti-Masonic        100715   loss   \n",
       "\n",
       "           %  \n",
       "3  43.796073  \n",
       "4  54.574789  \n",
       "5  37.603628  \n",
       "6   7.821583  "
      ]
     },
     "execution_count": 46,
     "metadata": {},
     "output_type": "execute_result"
    }
   ],
   "source": [
    "elections[3:7]"
   ]
  },
  {
   "cell_type": "markdown",
   "metadata": {},
   "source": [
    "If we provide a list of column names, we get the listed columns."
   ]
  },
  {
   "cell_type": "code",
   "execution_count": 47,
   "metadata": {},
   "outputs": [
    {
     "data": {
      "text/html": [
       "<div>\n",
       "<style scoped>\n",
       "    .dataframe tbody tr th:only-of-type {\n",
       "        vertical-align: middle;\n",
       "    }\n",
       "\n",
       "    .dataframe tbody tr th {\n",
       "        vertical-align: top;\n",
       "    }\n",
       "\n",
       "    .dataframe thead th {\n",
       "        text-align: right;\n",
       "    }\n",
       "</style>\n",
       "<table border=\"1\" class=\"dataframe\">\n",
       "  <thead>\n",
       "    <tr style=\"text-align: right;\">\n",
       "      <th></th>\n",
       "      <th>Year</th>\n",
       "      <th>Candidate</th>\n",
       "      <th>Result</th>\n",
       "    </tr>\n",
       "  </thead>\n",
       "  <tbody>\n",
       "    <tr>\n",
       "      <th>0</th>\n",
       "      <td>1824</td>\n",
       "      <td>Andrew Jackson</td>\n",
       "      <td>loss</td>\n",
       "    </tr>\n",
       "    <tr>\n",
       "      <th>1</th>\n",
       "      <td>1824</td>\n",
       "      <td>John Quincy Adams</td>\n",
       "      <td>win</td>\n",
       "    </tr>\n",
       "    <tr>\n",
       "      <th>2</th>\n",
       "      <td>1828</td>\n",
       "      <td>Andrew Jackson</td>\n",
       "      <td>win</td>\n",
       "    </tr>\n",
       "    <tr>\n",
       "      <th>3</th>\n",
       "      <td>1828</td>\n",
       "      <td>John Quincy Adams</td>\n",
       "      <td>loss</td>\n",
       "    </tr>\n",
       "    <tr>\n",
       "      <th>4</th>\n",
       "      <td>1832</td>\n",
       "      <td>Andrew Jackson</td>\n",
       "      <td>win</td>\n",
       "    </tr>\n",
       "    <tr>\n",
       "      <th>...</th>\n",
       "      <td>...</td>\n",
       "      <td>...</td>\n",
       "      <td>...</td>\n",
       "    </tr>\n",
       "    <tr>\n",
       "      <th>182</th>\n",
       "      <td>2024</td>\n",
       "      <td>Donald Trump</td>\n",
       "      <td>win</td>\n",
       "    </tr>\n",
       "    <tr>\n",
       "      <th>183</th>\n",
       "      <td>2024</td>\n",
       "      <td>Kamala Harris</td>\n",
       "      <td>loss</td>\n",
       "    </tr>\n",
       "    <tr>\n",
       "      <th>184</th>\n",
       "      <td>2024</td>\n",
       "      <td>Jill Stein</td>\n",
       "      <td>loss</td>\n",
       "    </tr>\n",
       "    <tr>\n",
       "      <th>185</th>\n",
       "      <td>2024</td>\n",
       "      <td>Robert Kennedy</td>\n",
       "      <td>loss</td>\n",
       "    </tr>\n",
       "    <tr>\n",
       "      <th>186</th>\n",
       "      <td>2024</td>\n",
       "      <td>Chase Oliver</td>\n",
       "      <td>loss</td>\n",
       "    </tr>\n",
       "  </tbody>\n",
       "</table>\n",
       "<p>187 rows × 3 columns</p>\n",
       "</div>"
      ],
      "text/plain": [
       "     Year          Candidate Result\n",
       "0    1824     Andrew Jackson   loss\n",
       "1    1824  John Quincy Adams    win\n",
       "2    1828     Andrew Jackson    win\n",
       "3    1828  John Quincy Adams   loss\n",
       "4    1832     Andrew Jackson    win\n",
       "..    ...                ...    ...\n",
       "182  2024       Donald Trump    win\n",
       "183  2024      Kamala Harris   loss\n",
       "184  2024         Jill Stein   loss\n",
       "185  2024     Robert Kennedy   loss\n",
       "186  2024       Chase Oliver   loss\n",
       "\n",
       "[187 rows x 3 columns]"
      ]
     },
     "execution_count": 47,
     "metadata": {},
     "output_type": "execute_result"
    }
   ],
   "source": [
    "elections[[\"Year\", \"Candidate\", \"Result\"]]"
   ]
  },
  {
   "cell_type": "markdown",
   "metadata": {},
   "source": [
    "And if we provide a single column name we get back just that column, stored as a `Series`."
   ]
  },
  {
   "cell_type": "code",
   "execution_count": 49,
   "metadata": {
    "tags": []
   },
   "outputs": [
    {
     "data": {
      "text/plain": [
       "0         Andrew Jackson\n",
       "1      John Quincy Adams\n",
       "2         Andrew Jackson\n",
       "3      John Quincy Adams\n",
       "4         Andrew Jackson\n",
       "             ...        \n",
       "182         Donald Trump\n",
       "183        Kamala Harris\n",
       "184           Jill Stein\n",
       "185       Robert Kennedy\n",
       "186         Chase Oliver\n",
       "Name: Candidate, Length: 187, dtype: object"
      ]
     },
     "execution_count": 49,
     "metadata": {},
     "output_type": "execute_result"
    }
   ],
   "source": [
    "elections[\"Candidate\"]"
   ]
  },
  {
   "cell_type": "markdown",
   "metadata": {},
   "source": [
    "### Slido Exercises\n",
    "\n",
    "**Question 1**\n",
    "\n",
    "What's the output of the following code?"
   ]
  },
  {
   "cell_type": "code",
   "execution_count": 48,
   "metadata": {},
   "outputs": [
    {
     "data": {
      "text/plain": [
       "array([5, 6])"
      ]
     },
     "execution_count": 48,
     "metadata": {},
     "output_type": "execute_result"
    }
   ],
   "source": [
    "example = pd.Series([4, 5, 6], index=[\"one\", \"two\", \"three\"])\n",
    "example[example > 4].values"
   ]
  },
  {
   "cell_type": "markdown",
   "metadata": {},
   "source": [
    "**Question 2**\n",
    "\n",
    "  We are expecting to get the following output:\n",
    "\n",
    "<img src=\"images/medium.jpeg\" width=\"200px\" />\n"
   ]
  },
  {
   "cell_type": "code",
   "execution_count": 21,
   "metadata": {},
   "outputs": [
    {
     "data": {
      "text/html": [
       "<div>\n",
       "<style scoped>\n",
       "    .dataframe tbody tr th:only-of-type {\n",
       "        vertical-align: middle;\n",
       "    }\n",
       "\n",
       "    .dataframe tbody tr th {\n",
       "        vertical-align: top;\n",
       "    }\n",
       "\n",
       "    .dataframe thead th {\n",
       "        text-align: right;\n",
       "    }\n",
       "</style>\n",
       "<table border=\"1\" class=\"dataframe\">\n",
       "  <thead>\n",
       "    <tr style=\"text-align: right;\">\n",
       "      <th></th>\n",
       "      <th>Group</th>\n",
       "      <th>Score</th>\n",
       "    </tr>\n",
       "  </thead>\n",
       "  <tbody>\n",
       "    <tr>\n",
       "      <th>0</th>\n",
       "      <td>A</td>\n",
       "      <td>B</td>\n",
       "    </tr>\n",
       "    <tr>\n",
       "      <th>1</th>\n",
       "      <td>84</td>\n",
       "      <td>79</td>\n",
       "    </tr>\n",
       "  </tbody>\n",
       "</table>\n",
       "</div>"
      ],
      "text/plain": [
       "  Group Score\n",
       "0     A     B\n",
       "1    84    79"
      ]
     },
     "execution_count": 21,
     "metadata": {},
     "output_type": "execute_result"
    }
   ],
   "source": [
    "df1 = pd.DataFrame([[\"A\", \"B\"], [84, 79]], columns=[\"Group\", \"Score\"])\n",
    "df1"
   ]
  },
  {
   "cell_type": "code",
   "execution_count": 22,
   "metadata": {},
   "outputs": [
    {
     "data": {
      "text/html": [
       "<div>\n",
       "<style scoped>\n",
       "    .dataframe tbody tr th:only-of-type {\n",
       "        vertical-align: middle;\n",
       "    }\n",
       "\n",
       "    .dataframe tbody tr th {\n",
       "        vertical-align: top;\n",
       "    }\n",
       "\n",
       "    .dataframe thead th {\n",
       "        text-align: right;\n",
       "    }\n",
       "</style>\n",
       "<table border=\"1\" class=\"dataframe\">\n",
       "  <thead>\n",
       "    <tr style=\"text-align: right;\">\n",
       "      <th></th>\n",
       "      <th>Group</th>\n",
       "      <th>Score</th>\n",
       "    </tr>\n",
       "  </thead>\n",
       "  <tbody>\n",
       "    <tr>\n",
       "      <th>0</th>\n",
       "      <td>A</td>\n",
       "      <td>84</td>\n",
       "    </tr>\n",
       "    <tr>\n",
       "      <th>1</th>\n",
       "      <td>B</td>\n",
       "      <td>79</td>\n",
       "    </tr>\n",
       "  </tbody>\n",
       "</table>\n",
       "</div>"
      ],
      "text/plain": [
       "  Group  Score\n",
       "0     A     84\n",
       "1     B     79"
      ]
     },
     "execution_count": 22,
     "metadata": {},
     "output_type": "execute_result"
    }
   ],
   "source": [
    "df2 = pd.DataFrame([[\"A\", 84], [\"B\", 79]], columns=[\"Group\", \"Score\"])\n",
    "df2"
   ]
  },
  {
   "cell_type": "code",
   "execution_count": 24,
   "metadata": {},
   "outputs": [
    {
     "data": {
      "text/html": [
       "<div>\n",
       "<style scoped>\n",
       "    .dataframe tbody tr th:only-of-type {\n",
       "        vertical-align: middle;\n",
       "    }\n",
       "\n",
       "    .dataframe tbody tr th {\n",
       "        vertical-align: top;\n",
       "    }\n",
       "\n",
       "    .dataframe thead th {\n",
       "        text-align: right;\n",
       "    }\n",
       "</style>\n",
       "<table border=\"1\" class=\"dataframe\">\n",
       "  <thead>\n",
       "    <tr style=\"text-align: right;\">\n",
       "      <th></th>\n",
       "      <th>Group</th>\n",
       "      <th>Score</th>\n",
       "    </tr>\n",
       "  </thead>\n",
       "  <tbody>\n",
       "  </tbody>\n",
       "</table>\n",
       "</div>"
      ],
      "text/plain": [
       "Empty DataFrame\n",
       "Columns: [Group, Score]\n",
       "Index: []"
      ]
     },
     "execution_count": 24,
     "metadata": {},
     "output_type": "execute_result"
    }
   ],
   "source": [
    "df3 = pd.DataFrame({\"A\": 84, \"B\": 79}, columns=[\"Group\", \"Score\"])\n",
    "df3"
   ]
  },
  {
   "cell_type": "code",
   "execution_count": 25,
   "metadata": {},
   "outputs": [
    {
     "data": {
      "text/html": [
       "<div>\n",
       "<style scoped>\n",
       "    .dataframe tbody tr th:only-of-type {\n",
       "        vertical-align: middle;\n",
       "    }\n",
       "\n",
       "    .dataframe tbody tr th {\n",
       "        vertical-align: top;\n",
       "    }\n",
       "\n",
       "    .dataframe thead th {\n",
       "        text-align: right;\n",
       "    }\n",
       "</style>\n",
       "<table border=\"1\" class=\"dataframe\">\n",
       "  <thead>\n",
       "    <tr style=\"text-align: right;\">\n",
       "      <th></th>\n",
       "      <th>Group</th>\n",
       "      <th>Score</th>\n",
       "    </tr>\n",
       "  </thead>\n",
       "  <tbody>\n",
       "    <tr>\n",
       "      <th>0</th>\n",
       "      <td>A</td>\n",
       "      <td>84</td>\n",
       "    </tr>\n",
       "    <tr>\n",
       "      <th>1</th>\n",
       "      <td>B</td>\n",
       "      <td>79</td>\n",
       "    </tr>\n",
       "  </tbody>\n",
       "</table>\n",
       "</div>"
      ],
      "text/plain": [
       "  Group  Score\n",
       "0     A     84\n",
       "1     B     79"
      ]
     },
     "execution_count": 25,
     "metadata": {},
     "output_type": "execute_result"
    }
   ],
   "source": [
    "df4 = pd.DataFrame({\"Group\": [\"A\", \"B\"], \"Score\": [84, 79]})\n",
    "df4"
   ]
  },
  {
   "cell_type": "code",
   "execution_count": 26,
   "metadata": {},
   "outputs": [
    {
     "data": {
      "text/html": [
       "<div>\n",
       "<style scoped>\n",
       "    .dataframe tbody tr th:only-of-type {\n",
       "        vertical-align: middle;\n",
       "    }\n",
       "\n",
       "    .dataframe tbody tr th {\n",
       "        vertical-align: top;\n",
       "    }\n",
       "\n",
       "    .dataframe thead th {\n",
       "        text-align: right;\n",
       "    }\n",
       "</style>\n",
       "<table border=\"1\" class=\"dataframe\">\n",
       "  <thead>\n",
       "    <tr style=\"text-align: right;\">\n",
       "      <th></th>\n",
       "      <th>Group</th>\n",
       "      <th>Score</th>\n",
       "    </tr>\n",
       "  </thead>\n",
       "  <tbody>\n",
       "    <tr>\n",
       "      <th>0</th>\n",
       "      <td>A</td>\n",
       "      <td>84</td>\n",
       "    </tr>\n",
       "    <tr>\n",
       "      <th>1</th>\n",
       "      <td>B</td>\n",
       "      <td>79</td>\n",
       "    </tr>\n",
       "  </tbody>\n",
       "</table>\n",
       "</div>"
      ],
      "text/plain": [
       "  Group  Score\n",
       "0     A     84\n",
       "1     B     79"
      ]
     },
     "execution_count": 26,
     "metadata": {},
     "output_type": "execute_result"
    }
   ],
   "source": [
    "df5 = pd.DataFrame([{\"Group\": \"A\", \"Score\": 84}, {\"Group\": \"B\", \"Score\": 79}])\n",
    "df5"
   ]
  },
  {
   "cell_type": "code",
   "execution_count": 49,
   "metadata": {},
   "outputs": [
    {
     "data": {
      "text/plain": [
       "Index(['c1', 'c2'], dtype='object')"
      ]
     },
     "execution_count": 49,
     "metadata": {},
     "output_type": "execute_result"
    }
   ],
   "source": [
    "df = pd.DataFrame({\"c1\":[1, 2, 3, 4], \"c2\":[2, 4, 6, 8]})\n",
    "df.columns"
   ]
  },
  {
   "cell_type": "markdown",
   "metadata": {},
   "source": [
    "**Question 3**\n",
    "\n",
    "Which of the following statements correctly return the value \"blue fish\" from the \"weird\" DataFrame?"
   ]
  },
  {
   "cell_type": "code",
   "execution_count": 50,
   "metadata": {},
   "outputs": [
    {
     "data": {
      "text/html": [
       "<div>\n",
       "<style scoped>\n",
       "    .dataframe tbody tr th:only-of-type {\n",
       "        vertical-align: middle;\n",
       "    }\n",
       "\n",
       "    .dataframe tbody tr th {\n",
       "        vertical-align: top;\n",
       "    }\n",
       "\n",
       "    .dataframe thead th {\n",
       "        text-align: right;\n",
       "    }\n",
       "</style>\n",
       "<table border=\"1\" class=\"dataframe\">\n",
       "  <thead>\n",
       "    <tr style=\"text-align: right;\">\n",
       "      <th></th>\n",
       "      <th>a</th>\n",
       "      <th>b</th>\n",
       "    </tr>\n",
       "  </thead>\n",
       "  <tbody>\n",
       "    <tr>\n",
       "      <th>0</th>\n",
       "      <td>one fish</td>\n",
       "      <td>red fish</td>\n",
       "    </tr>\n",
       "    <tr>\n",
       "      <th>1</th>\n",
       "      <td>two fish</td>\n",
       "      <td>blue fish</td>\n",
       "    </tr>\n",
       "  </tbody>\n",
       "</table>\n",
       "</div>"
      ],
      "text/plain": [
       "          a          b\n",
       "0  one fish   red fish\n",
       "1  two fish  blue fish"
      ]
     },
     "execution_count": 50,
     "metadata": {},
     "output_type": "execute_result"
    }
   ],
   "source": [
    "weird = pd.DataFrame({\"a\":[\"one fish\", \"two fish\"], \n",
    "                      \"b\":[\"red fish\", \"blue fish\"]})\n",
    "weird"
   ]
  },
  {
   "cell_type": "code",
   "execution_count": null,
   "metadata": {},
   "outputs": [],
   "source": [
    "weird.iloc[1, 1]"
   ]
  },
  {
   "cell_type": "code",
   "execution_count": null,
   "metadata": {},
   "outputs": [],
   "source": [
    "weird.loc[1, 1]"
   ]
  },
  {
   "cell_type": "code",
   "execution_count": null,
   "metadata": {},
   "outputs": [],
   "source": [
    "weird.iloc[1, :]"
   ]
  },
  {
   "cell_type": "code",
   "execution_count": null,
   "metadata": {},
   "outputs": [],
   "source": [
    "weird.loc[1, 'b']"
   ]
  },
  {
   "cell_type": "code",
   "execution_count": null,
   "metadata": {},
   "outputs": [],
   "source": [
    "weird.iloc[1, 0]"
   ]
  },
  {
   "cell_type": "code",
   "execution_count": null,
   "metadata": {},
   "outputs": [],
   "source": [
    "weird[1]['b']"
   ]
  },
  {
   "cell_type": "code",
   "execution_count": null,
   "metadata": {},
   "outputs": [],
   "source": [
    "weird['b'][1]"
   ]
  },
  {
   "cell_type": "code",
   "execution_count": null,
   "metadata": {},
   "outputs": [],
   "source": []
  }
 ],
 "metadata": {
  "kernelspec": {
   "display_name": "Python 3 (ipykernel)",
   "language": "python",
   "name": "python3"
  },
  "language_info": {
   "codemirror_mode": {
    "name": "ipython",
    "version": 3
   },
   "file_extension": ".py",
   "mimetype": "text/x-python",
   "name": "python",
   "nbconvert_exporter": "python",
   "pygments_lexer": "ipython3",
   "version": "3.11.11"
  }
 },
 "nbformat": 4,
 "nbformat_minor": 4
}
