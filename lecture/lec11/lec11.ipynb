{
 "cells": [
  {
   "cell_type": "markdown",
   "metadata": {},
   "source": [
    "# 📈 Lecture 11 – Data 100, Spring 2025\n",
    "\n",
    "Data 100, Spring 2025\n",
    "\n",
    "[Acknowledgments Page](https://ds100.org/sp25/acks/)"
   ]
  },
  {
   "cell_type": "code",
   "execution_count": 8,
   "metadata": {
    "tags": []
   },
   "outputs": [],
   "source": [
    "import numpy as np\n",
    "import pandas as pd\n",
    "import matplotlib.pyplot as plt\n",
    "%matplotlib inline\n",
    "import seaborn as sns\n",
    "import itertools\n",
    "from mpl_toolkits.mplot3d import Axes3D"
   ]
  },
  {
   "cell_type": "code",
   "execution_count": 9,
   "metadata": {
    "tags": []
   },
   "outputs": [],
   "source": [
    "# Big font helper\n",
    "def adjust_fontsize(size=None):\n",
    "    SMALL_SIZE = 8\n",
    "    MEDIUM_SIZE = 10\n",
    "    BIGGER_SIZE = 12\n",
    "    if size != None:\n",
    "        SMALL_SIZE = MEDIUM_SIZE = BIGGER_SIZE = size\n",
    "\n",
    "    plt.rc('font', size=SMALL_SIZE)          # controls default text sizes\n",
    "    plt.rc('axes', titlesize=SMALL_SIZE)     # fontsize of the axes title\n",
    "    plt.rc('axes', labelsize=MEDIUM_SIZE)    # fontsize of the x and y labels\n",
    "    plt.rc('xtick', labelsize=SMALL_SIZE)    # fontsize of the tick labels\n",
    "    plt.rc('ytick', labelsize=SMALL_SIZE)    # fontsize of the tick labels\n",
    "    plt.rc('legend', fontsize=SMALL_SIZE)    # legend fontsize\n",
    "    plt.rc('figure', titlesize=BIGGER_SIZE)  # fontsize of the figure title"
   ]
  },
  {
   "cell_type": "markdown",
   "metadata": {},
   "source": [
    "## 🦭 Dugongs Part 1: Comparing Two Different Models, Both Fit with MSE"
   ]
  },
  {
   "cell_type": "code",
   "execution_count": 10,
   "metadata": {},
   "outputs": [
    {
     "data": {
      "text/html": [
       "<div>\n",
       "<style scoped>\n",
       "    .dataframe tbody tr th:only-of-type {\n",
       "        vertical-align: middle;\n",
       "    }\n",
       "\n",
       "    .dataframe tbody tr th {\n",
       "        vertical-align: top;\n",
       "    }\n",
       "\n",
       "    .dataframe thead th {\n",
       "        text-align: right;\n",
       "    }\n",
       "</style>\n",
       "<table border=\"1\" class=\"dataframe\">\n",
       "  <thead>\n",
       "    <tr style=\"text-align: right;\">\n",
       "      <th></th>\n",
       "      <th>Length</th>\n",
       "      <th>Age</th>\n",
       "    </tr>\n",
       "  </thead>\n",
       "  <tbody>\n",
       "    <tr>\n",
       "      <th>0</th>\n",
       "      <td>1.77</td>\n",
       "      <td>1.5</td>\n",
       "    </tr>\n",
       "    <tr>\n",
       "      <th>1</th>\n",
       "      <td>1.80</td>\n",
       "      <td>1.0</td>\n",
       "    </tr>\n",
       "    <tr>\n",
       "      <th>2</th>\n",
       "      <td>1.85</td>\n",
       "      <td>1.5</td>\n",
       "    </tr>\n",
       "    <tr>\n",
       "      <th>3</th>\n",
       "      <td>1.87</td>\n",
       "      <td>1.5</td>\n",
       "    </tr>\n",
       "    <tr>\n",
       "      <th>4</th>\n",
       "      <td>2.02</td>\n",
       "      <td>2.5</td>\n",
       "    </tr>\n",
       "  </tbody>\n",
       "</table>\n",
       "</div>"
      ],
      "text/plain": [
       "   Length  Age\n",
       "0    1.77  1.5\n",
       "1    1.80  1.0\n",
       "2    1.85  1.5\n",
       "3    1.87  1.5\n",
       "4    2.02  2.5"
      ]
     },
     "metadata": {},
     "output_type": "display_data"
    }
   ],
   "source": [
    "dugongs = pd.read_csv(\"data/dugongs.csv\")\n",
    "display(dugongs.head())\n",
    "\n",
    "data_constant = dugongs[\"Age\"]\n",
    "data_linear = dugongs[[\"Length\", \"Age\"]]"
   ]
  },
  {
   "cell_type": "markdown",
   "metadata": {},
   "source": [
    "### 🎢 Loss Surfaces\n",
    "\n",
    "The average loss of the constant model using L2 loss (i.e., squared loss) is\n",
    "\n",
    "$$\n",
    "\\Large\n",
    "\\hat{R}(\\theta_0) = \\frac{1}{n}\\sum_{i=1}^n (y_i - \\theta_0)^2\n",
    "$$"
   ]
  },
  {
   "cell_type": "code",
   "execution_count": 11,
   "metadata": {},
   "outputs": [
    {
     "data": {
      "image/png": "[encoded data removed]",
      "text/plain": [
       "<Figure size 432x288 with 1 Axes>"
      ]
     },
     "metadata": {
      "needs_background": "light"
     },
     "output_type": "display_data"
    }
   ],
   "source": [
    "plt.style.use('default') # Revert style to default mpl\n",
    "adjust_fontsize(size=16)\n",
    "%matplotlib inline\n",
    "\n",
    "# Calculates the MSE for a constant model given some value of theta\n",
    "def mse_constant(theta, data):\n",
    "    return np.mean(np.array([(y_obs - theta) ** 2 for y_obs in data]), axis=0)\n",
    "\n",
    "# Set up a range of theta values and calculate the MSE for each\n",
    "thetas = np.linspace(-20, 42, 1000)\n",
    "l2_loss_thetas = mse_constant(thetas, data_constant)\n",
    "\n",
    "# Plot the MSE as a function of the thetas\n",
    "plt.plot(thetas, l2_loss_thetas)\n",
    "plt.xlabel(r'$\\theta_0$')\n",
    "plt.ylabel(r'MSE')\n",
    "\n",
    "# Optimal point\n",
    "thetahat = np.mean(data_constant)\n",
    "plt.scatter([thetahat], [mse_constant(thetahat, data_constant)], s=50, label = r\"$\\hat{\\theta}_0$\")\n",
    "plt.legend()\n",
    "# plt.savefig('mse_constant_loss.png', bbox_inches = 'tight');\n",
    "plt.show()"
   ]
  },
  {
   "cell_type": "markdown",
   "metadata": {},
   "source": [
    "The average loss for the SLR model using L2 loss is the following:\n",
    "\n",
    "$$\n",
    "\\Large\n",
    "\\hat{R}(\\theta_0, \\theta_1) = \\frac{1}{n}\\sum_{i=1}^n (y_i - (\\theta_0 + \\theta_1x))^2\n",
    "$$\n",
    "\n",
    "Note: Unlike the average loss of the constant model, which has one input, the average loss of SLR has two inputs!"
   ]
  },
  {
   "cell_type": "code",
   "execution_count": 12,
   "metadata": {},
   "outputs": [
    {
     "data": {
      "application/vnd.plotly.v1+json": {
       "config": {
        "plotlyServerURL": "https://plot.ly"
       },
       "data": [
        {
         "name": "z=MSE",
         "type": "surface",
         "x": {
          "bdata": "AAAAAAAAVMBeLW7C/K5TwLxa3IT5XVPAGohKR/YMU8B4tbgJ87tSwNbiJszvalLANBCVjuwZUsCSPQNR6chRwPBqcRPmd1HATpjf1eImUcCsxU2Y39VQwArzu1rchFDAaCAqHdkzUMCLmzC/q8VPwEf2DESlI0/AA1HpyJ6BTsC/q8VNmN9NwHsGotKRPU3AN2F+V4ubTMDzu1rchPlLwK8WN2F+V0vAanET5ne1SsAmzO9qcRNKwOImzO9qcUnAnoGodGTPSMBa3IT5XS1IwBY3YX5Xi0fA0pE9A1HpRsCO7BmISkdGwEpH9gxEpUXABqLSkT0DRcDC/K4WN2FEwH5Xi5swv0PAOrJnICodQ8D2DESlI3tCwLJnICod2UHAbsL8rhY3QcAqHdkzEJVAwMzvanET5j/ARKUjewaiPsC8WtyE+V09wDIQlY7sGTzAqsVNmN/VOsAiewai0pE5wJowv6vFTTjAEuZ3tbgJN8CKmzC/q8U1wAJR6ciegTTAegai0pE9M8Dyu1rchPkxwGpxE+Z3tTDAwE2Y39XiLsCwuAnzu1oswKAjewai0inAkI7sGYhKJ8CA+V0tbsIkwHBkz0BUOiLAwJ6BqHRkH8CgdGTPQFQawIBKR/YMRBXAYCAqHdkzEMCA7BmISkcGwIAwv6vFTfi/ACAqHdkz0L+AICod2TPwP4Bkz0BUOgJAwLgJ87taDECABqLSkT0TQKAwv6vFTRhAwFrchPldHUBwwvyuFjchQIBXi5swvyNAkOwZiEpHJkCggah0ZM8oQLAWN2F+VytAwKvFTZjfLUBoICod2TMwQPBqcRPmdzFAeLW4CfO7MkAAAAAAAAA0QA==",
          "dtype": "f8"
         },
         "y": {
          "bdata": "AAAAAAAAJMD6XS1uwvwiwPO7WtyE+SHA7BmISkf2IMDM72pxE+YfwL+rxU2Y3x3AsmcgKh3ZG8ClI3sGotIZwJjf1eImzBfAi5swv6vFFcB+V4ubML8TwHET5ne1uBHAyJ6BqHRkD8CuFjdhflcLwJSO7BmISgfAegai0pE9A8DA/K4WN2H+v5DsGYhKR/a/sLgJ87ta7L+AML+rxU3Yv4AgKh3ZM8A/gKh0ZM9A5D94ZM9AVDryP7B0ZM9AVPo/cML8rhY3AUCISkf2DEQFQKTSkT0DUQlAwFrchPldDUBscRPmd7UQQHi1uAnzuxJAhvldLW7CFECUPQNR6cgWQKCBqHRkzxhArMVNmN/VGkC4CfO7WtwcQMhNmN/V4h5A6siegah0IEDwanET5nchQPgMRKUjeyJA/q4WN2F+I0AEUenInoEkQArzu1rchCVAEJWO7BmIJkAYN2F+V4snQB7ZMxCVjihAJHsGotKRKUAsHdkzEJUqQDK/q8VNmCtAOGF+V4ubLEA+A1HpyJ4tQESlI3sGoi5ATEf2DESlL0CpdGTPQFQwQKzFTZjf1TBAsBY3YX5XMUCzZyAqHdkxQLa4CfO7WjJAuQnzu1rcMkC8WtyE+V0zQMCrxU2Y3zNAw/yuFjdhNEDGTZjf1eI0QMqegah0ZDVAze9qcRPmNUDQQFQ6smc2QNSRPQNR6TZA1uImzO9qN0DaMxCVjuw3QNyE+V0tbjhA4NXiJszvOEDkJszvanE5QOZ3tbgJ8zlA6siegah0OkDuGYhKR/Y6QPBqcRPmdztA9Lta3IT5O0D4DESlI3s8QPpdLW7C/DxA/q4WN2F+PUAAAAAAAAA+QA==",
          "dtype": "f8"
         },
         "z": {
          "bdata": "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",
          "dtype": "f8",
          "shape": "80, 80"
         }
        },
        {
         "marker": {
          "size": 12
         },
         "mode": "markers",
         "name": "theta hat",
         "type": "scatter3d",
         "x": [
          -44.56682825223212
         ],
         "y": [
          23.771679029504632
         ],
         "z": [
          18.58759103220046
         ]
        }
       ],
       "layout": {
        "autosize": false,
        "margin": {
         "b": 10,
         "l": 10,
         "r": 20,
         "t": 10
        },
        "scene": {
         "xaxis": {
          "title": {
           "text": "theta_0"
          }
         },
         "yaxis": {
          "title": {
           "text": "theta_1"
          }
         },
         "zaxis": {
          "title": {
           "text": "z=MSE"
          }
         }
        },
        "template": {
         "data": {
          "bar": [
           {
            "error_x": {
             "color": "#2a3f5f"
            },
            "error_y": {
             "color": "#2a3f5f"
            },
            "marker": {
             "line": {
              "color": "#E5ECF6",
              "width": 0.5
             },
             "pattern": {
              "fillmode": "overlay",
              "size": 10,
              "solidity": 0.2
             }
            },
            "type": "bar"
           }
          ],
          "barpolar": [
           {
            "marker": {
             "line": {
              "color": "#E5ECF6",
              "width": 0.5
             },
             "pattern": {
              "fillmode": "overlay",
              "size": 10,
              "solidity": 0.2
             }
            },
            "type": "barpolar"
           }
          ],
          "carpet": [
           {
            "aaxis": {
             "endlinecolor": "#2a3f5f",
             "gridcolor": "white",
             "linecolor": "white",
             "minorgridcolor": "white",
             "startlinecolor": "#2a3f5f"
            },
            "baxis": {
             "endlinecolor": "#2a3f5f",
             "gridcolor": "white",
             "linecolor": "white",
             "minorgridcolor": "white",
             "startlinecolor": "#2a3f5f"
            },
            "type": "carpet"
           }
          ],
          "choropleth": [
           {
            "colorbar": {
             "outlinewidth": 0,
             "ticks": ""
            },
            "type": "choropleth"
           }
          ],
          "contour": [
           {
            "colorbar": {
             "outlinewidth": 0,
             "ticks": ""
            },
            "colorscale": [
             [
              0,
              "#0d0887"
             ],
             [
              0.1111111111111111,
              "#46039f"
             ],
             [
              0.2222222222222222,
              "#7201a8"
             ],
             [
              0.3333333333333333,
              "#9c179e"
             ],
             [
              0.4444444444444444,
              "#bd3786"
             ],
             [
              0.5555555555555556,
              "#d8576b"
             ],
             [
              0.6666666666666666,
              "#ed7953"
             ],
             [
              0.7777777777777778,
              "#fb9f3a"
             ],
             [
              0.8888888888888888,
              "#fdca26"
             ],
             [
              1,
              "#f0f921"
             ]
            ],
            "type": "contour"
           }
          ],
          "contourcarpet": [
           {
            "colorbar": {
             "outlinewidth": 0,
             "ticks": ""
            },
            "type": "contourcarpet"
           }
          ],
          "heatmap": [
           {
            "colorbar": {
             "outlinewidth": 0,
             "ticks": ""
            },
            "colorscale": [
             [
              0,
              "#0d0887"
             ],
             [
              0.1111111111111111,
              "#46039f"
             ],
             [
              0.2222222222222222,
              "#7201a8"
             ],
             [
              0.3333333333333333,
              "#9c179e"
             ],
             [
              0.4444444444444444,
              "#bd3786"
             ],
             [
              0.5555555555555556,
              "#d8576b"
             ],
             [
              0.6666666666666666,
              "#ed7953"
             ],
             [
              0.7777777777777778,
              "#fb9f3a"
             ],
             [
              0.8888888888888888,
              "#fdca26"
             ],
             [
              1,
              "#f0f921"
             ]
            ],
            "type": "heatmap"
           }
          ],
          "histogram": [
           {
            "marker": {
             "pattern": {
              "fillmode": "overlay",
              "size": 10,
              "solidity": 0.2
             }
            },
            "type": "histogram"
           }
          ],
          "histogram2d": [
           {
            "colorbar": {
             "outlinewidth": 0,
             "ticks": ""
            },
            "colorscale": [
             [
              0,
              "#0d0887"
             ],
             [
              0.1111111111111111,
              "#46039f"
             ],
             [
              0.2222222222222222,
              "#7201a8"
             ],
             [
              0.3333333333333333,
              "#9c179e"
             ],
             [
              0.4444444444444444,
              "#bd3786"
             ],
             [
              0.5555555555555556,
              "#d8576b"
             ],
             [
              0.6666666666666666,
              "#ed7953"
             ],
             [
              0.7777777777777778,
              "#fb9f3a"
             ],
             [
              0.8888888888888888,
              "#fdca26"
             ],
             [
              1,
              "#f0f921"
             ]
            ],
            "type": "histogram2d"
           }
          ],
          "histogram2dcontour": [
           {
            "colorbar": {
             "outlinewidth": 0,
             "ticks": ""
            },
            "colorscale": [
             [
              0,
              "#0d0887"
             ],
             [
              0.1111111111111111,
              "#46039f"
             ],
             [
              0.2222222222222222,
              "#7201a8"
             ],
             [
              0.3333333333333333,
              "#9c179e"
             ],
             [
              0.4444444444444444,
              "#bd3786"
             ],
             [
              0.5555555555555556,
              "#d8576b"
             ],
             [
              0.6666666666666666,
              "#ed7953"
             ],
             [
              0.7777777777777778,
              "#fb9f3a"
             ],
             [
              0.8888888888888888,
              "#fdca26"
             ],
             [
              1,
              "#f0f921"
             ]
            ],
            "type": "histogram2dcontour"
           }
          ],
          "mesh3d": [
           {
            "colorbar": {
             "outlinewidth": 0,
             "ticks": ""
            },
            "type": "mesh3d"
           }
          ],
          "parcoords": [
           {
            "line": {
             "colorbar": {
              "outlinewidth": 0,
              "ticks": ""
             }
            },
            "type": "parcoords"
           }
          ],
          "pie": [
           {
            "automargin": true,
            "type": "pie"
           }
          ],
          "scatter": [
           {
            "fillpattern": {
             "fillmode": "overlay",
             "size": 10,
             "solidity": 0.2
            },
            "type": "scatter"
           }
          ],
          "scatter3d": [
           {
            "line": {
             "colorbar": {
              "outlinewidth": 0,
              "ticks": ""
             }
            },
            "marker": {
             "colorbar": {
              "outlinewidth": 0,
              "ticks": ""
             }
            },
            "type": "scatter3d"
           }
          ],
          "scattercarpet": [
           {
            "marker": {
             "colorbar": {
              "outlinewidth": 0,
              "ticks": ""
             }
            },
            "type": "scattercarpet"
           }
          ],
          "scattergeo": [
           {
            "marker": {
             "colorbar": {
              "outlinewidth": 0,
              "ticks": ""
             }
            },
            "type": "scattergeo"
           }
          ],
          "scattergl": [
           {
            "marker": {
             "colorbar": {
              "outlinewidth": 0,
              "ticks": ""
             }
            },
            "type": "scattergl"
           }
          ],
          "scattermap": [
           {
            "marker": {
             "colorbar": {
              "outlinewidth": 0,
              "ticks": ""
             }
            },
            "type": "scattermap"
           }
          ],
          "scattermapbox": [
           {
            "marker": {
             "colorbar": {
              "outlinewidth": 0,
              "ticks": ""
             }
            },
            "type": "scattermapbox"
           }
          ],
          "scatterpolar": [
           {
            "marker": {
             "colorbar": {
              "outlinewidth": 0,
              "ticks": ""
             }
            },
            "type": "scatterpolar"
           }
          ],
          "scatterpolargl": [
           {
            "marker": {
             "colorbar": {
              "outlinewidth": 0,
              "ticks": ""
             }
            },
            "type": "scatterpolargl"
           }
          ],
          "scatterternary": [
           {
            "marker": {
             "colorbar": {
              "outlinewidth": 0,
              "ticks": ""
             }
            },
            "type": "scatterternary"
           }
          ],
          "surface": [
           {
            "colorbar": {
             "outlinewidth": 0,
             "ticks": ""
            },
            "colorscale": [
             [
              0,
              "#0d0887"
             ],
             [
              0.1111111111111111,
              "#46039f"
             ],
             [
              0.2222222222222222,
              "#7201a8"
             ],
             [
              0.3333333333333333,
              "#9c179e"
             ],
             [
              0.4444444444444444,
              "#bd3786"
             ],
             [
              0.5555555555555556,
              "#d8576b"
             ],
             [
              0.6666666666666666,
              "#ed7953"
             ],
             [
              0.7777777777777778,
              "#fb9f3a"
             ],
             [
              0.8888888888888888,
              "#fdca26"
             ],
             [
              1,
              "#f0f921"
             ]
            ],
            "type": "surface"
           }
          ],
          "table": [
           {
            "cells": {
             "fill": {
              "color": "#EBF0F8"
             },
             "line": {
              "color": "white"
             }
            },
            "header": {
             "fill": {
              "color": "#C8D4E3"
             },
             "line": {
              "color": "white"
             }
            },
            "type": "table"
           }
          ]
         },
         "layout": {
          "annotationdefaults": {
           "arrowcolor": "#2a3f5f",
           "arrowhead": 0,
           "arrowwidth": 1
          },
          "autotypenumbers": "strict",
          "coloraxis": {
           "colorbar": {
            "outlinewidth": 0,
            "ticks": ""
           }
          },
          "colorscale": {
           "diverging": [
            [
             0,
             "#8e0152"
            ],
            [
             0.1,
             "#c51b7d"
            ],
            [
             0.2,
             "#de77ae"
            ],
            [
             0.3,
             "#f1b6da"
            ],
            [
             0.4,
             "#fde0ef"
            ],
            [
             0.5,
             "#f7f7f7"
            ],
            [
             0.6,
             "#e6f5d0"
            ],
            [
             0.7,
             "#b8e186"
            ],
            [
             0.8,
             "#7fbc41"
            ],
            [
             0.9,
             "#4d9221"
            ],
            [
             1,
             "#276419"
            ]
           ],
           "sequential": [
            [
             0,
             "#0d0887"
            ],
            [
             0.1111111111111111,
             "#46039f"
            ],
            [
             0.2222222222222222,
             "#7201a8"
            ],
            [
             0.3333333333333333,
             "#9c179e"
            ],
            [
             0.4444444444444444,
             "#bd3786"
            ],
            [
             0.5555555555555556,
             "#d8576b"
            ],
            [
             0.6666666666666666,
             "#ed7953"
            ],
            [
             0.7777777777777778,
             "#fb9f3a"
            ],
            [
             0.8888888888888888,
             "#fdca26"
            ],
            [
             1,
             "#f0f921"
            ]
           ],
           "sequentialminus": [
            [
             0,
             "#0d0887"
            ],
            [
             0.1111111111111111,
             "#46039f"
            ],
            [
             0.2222222222222222,
             "#7201a8"
            ],
            [
             0.3333333333333333,
             "#9c179e"
            ],
            [
             0.4444444444444444,
             "#bd3786"
            ],
            [
             0.5555555555555556,
             "#d8576b"
            ],
            [
             0.6666666666666666,
             "#ed7953"
            ],
            [
             0.7777777777777778,
             "#fb9f3a"
            ],
            [
             0.8888888888888888,
             "#fdca26"
            ],
            [
             1,
             "#f0f921"
            ]
           ]
          },
          "colorway": [
           "#636efa",
           "#EF553B",
           "#00cc96",
           "#ab63fa",
           "#FFA15A",
           "#19d3f3",
           "#FF6692",
           "#B6E880",
           "#FF97FF",
           "#FECB52"
          ],
          "font": {
           "color": "#2a3f5f"
          },
          "geo": {
           "bgcolor": "white",
           "lakecolor": "white",
           "landcolor": "#E5ECF6",
           "showlakes": true,
           "showland": true,
           "subunitcolor": "white"
          },
          "hoverlabel": {
           "align": "left"
          },
          "hovermode": "closest",
          "mapbox": {
           "style": "light"
          },
          "paper_bgcolor": "white",
          "plot_bgcolor": "#E5ECF6",
          "polar": {
           "angularaxis": {
            "gridcolor": "white",
            "linecolor": "white",
            "ticks": ""
           },
           "bgcolor": "#E5ECF6",
           "radialaxis": {
            "gridcolor": "white",
            "linecolor": "white",
            "ticks": ""
           }
          },
          "scene": {
           "xaxis": {
            "backgroundcolor": "#E5ECF6",
            "gridcolor": "white",
            "gridwidth": 2,
            "linecolor": "white",
            "showbackground": true,
            "ticks": "",
            "zerolinecolor": "white"
           },
           "yaxis": {
            "backgroundcolor": "#E5ECF6",
            "gridcolor": "white",
            "gridwidth": 2,
            "linecolor": "white",
            "showbackground": true,
            "ticks": "",
            "zerolinecolor": "white"
           },
           "zaxis": {
            "backgroundcolor": "#E5ECF6",
            "gridcolor": "white",
            "gridwidth": 2,
            "linecolor": "white",
            "showbackground": true,
            "ticks": "",
            "zerolinecolor": "white"
           }
          },
          "shapedefaults": {
           "line": {
            "color": "#2a3f5f"
           }
          },
          "ternary": {
           "aaxis": {
            "gridcolor": "white",
            "linecolor": "white",
            "ticks": ""
           },
           "baxis": {
            "gridcolor": "white",
            "linecolor": "white",
            "ticks": ""
           },
           "bgcolor": "#E5ECF6",
           "caxis": {
            "gridcolor": "white",
            "linecolor": "white",
            "ticks": ""
           }
          },
          "title": {
           "x": 0.05
          },
          "xaxis": {
           "automargin": true,
           "gridcolor": "white",
           "linecolor": "white",
           "ticks": "",
           "title": {
            "standoff": 15
           },
           "zerolinecolor": "white",
           "zerolinewidth": 2
          },
          "yaxis": {
           "automargin": true,
           "gridcolor": "white",
           "linecolor": "white",
           "ticks": "",
           "title": {
            "standoff": 15
           },
           "zerolinecolor": "white",
           "zerolinewidth": 2
          }
         }
        },
        "width": 500
       }
      }
     },
     "metadata": {},
     "output_type": "display_data"
    }
   ],
   "source": [
    "# Run this cell to see a 3D visualization of the loss surface\n",
    "import itertools\n",
    "import plotly.graph_objects as go\n",
    "\n",
    "# Calculates the MSE for a linear model given some values of theta_0 and theta_1\n",
    "def mse_linear(theta_0, theta_1, data_linear):\n",
    "    data_x, data_y = data_linear.iloc[:,0], data_linear.iloc[:,1]\n",
    "    return np.mean(np.array([(y - (theta_0+theta_1*x)) ** 2 for x, y in zip(data_x, data_y)]), axis=0)\n",
    "\n",
    "# Set up a grid of theta values and calculate the MSE for each\n",
    "theta_0_values = np.linspace(-80, 20, 80)\n",
    "theta_1_values = np.linspace(-10,30, 80)\n",
    "mse_values = [mse_linear(theta_0, theta_1, data_linear) \\\n",
    "              for theta_0, theta_1 in itertools.product(theta_0_values, theta_1_values)]\n",
    "mse_values = np.reshape(mse_values, (len(theta_0_values), len(theta_1_values)), order='F')\n",
    "\n",
    "# Optimal point\n",
    "data_x, data_y = data_linear.iloc[:,0], data_linear.iloc[:,1]\n",
    "theta_1_hat = np.corrcoef(data_x, data_y)[0, 1] * np.std(data_y) / np.std(data_x)\n",
    "theta_0_hat = np.mean(data_y) - theta_1_hat * np.mean(data_x)\n",
    "fig_lin = go.Figure(data=[go.Surface(x=theta_0_values, y=theta_1_values, z=mse_values,name='z=MSE')])\n",
    "fig_lin.add_trace(go.Scatter3d(x=[theta_0_hat], y=[theta_1_hat], \\\n",
    "                               z=[mse_linear(theta_0_hat, theta_1_hat, data_linear)],\\\n",
    "                               mode='markers', marker=dict(size=12),name='theta hat'))\n",
    "\n",
    "fig_lin.update_layout(\n",
    "    autosize=False,\n",
    "    scene = dict(\n",
    "                    xaxis_title='theta_0',\n",
    "                    yaxis_title='theta_1',\n",
    "                    zaxis_title='z=MSE'),\n",
    "                    width=500,\n",
    "                    margin=dict(r=20, b=10, l=10, t=10))\n",
    "\n",
    "fig_lin.show()"
   ]
  },
  {
   "cell_type": "markdown",
   "metadata": {
    "tags": []
   },
   "source": [
    "### 🧮 Computing the RMSE of SLR and constant model fit with MSE"
   ]
  },
  {
   "cell_type": "code",
   "execution_count": 13,
   "metadata": {},
   "outputs": [
    {
     "name": "stdout",
     "output_type": "stream",
     "text": [
      "Least Squares Constant Model RMSE: 7.72\n",
      "Least Squares Linear Model RMSE:   4.31\n"
     ]
    }
   ],
   "source": [
    "print(\"Least Squares Constant Model RMSE:\",\n",
    "          round(np.sqrt(mse_constant(thetahat, data_constant)), 2)\n",
    "      )\n",
    "print(\"Least Squares Linear Model RMSE:  \",\n",
    "          round(np.sqrt(mse_linear(theta_0_hat, theta_1_hat, data_linear)),2)\n",
    "      )"
   ]
  },
  {
   "cell_type": "markdown",
   "metadata": {},
   "source": [
    "Interpreting the RMSE (Root Mean Square Error):\n",
    "* Constant model error is HIGHER than linear model error\n",
    "* Linear model fit is BETTER than constant model fit (if using RMSE as our metric)"
   ]
  },
  {
   "cell_type": "markdown",
   "metadata": {},
   "source": [
    "### 🔮 Predictions\n",
    "\n",
    "This plotting code is just for your reference. \n",
    "\n",
    "This code generates the figures used in the lecture. "
   ]
  },
  {
   "cell_type": "code",
   "execution_count": 14,
   "metadata": {},
   "outputs": [],
   "source": [
    "yobs = data_linear[\"Age\"]      # The true observations y\n",
    "xs = data_linear[\"Length\"]     # Needed for linear predictions\n",
    "n = len(yobs)                  # Predictions\n",
    "\n",
    "yhats_constant = [thetahat for i in range(n)]    # Not used, but food for thought\n",
    "yhats_linear = [theta_0_hat + theta_1_hat * x for x in xs]"
   ]
  },
  {
   "cell_type": "code",
   "execution_count": 15,
   "metadata": {},
   "outputs": [
    {
     "data": {
      "image/png": "[encoded data removed]",
      "text/plain": [
       "<Figure size 576x108 with 1 Axes>"
      ]
     },
     "metadata": {
      "needs_background": "light"
     },
     "output_type": "display_data"
    }
   ],
   "source": [
    "sns.set_theme()\n",
    "adjust_fontsize(size=16)\n",
    "%matplotlib inline\n",
    "\n",
    "fig = plt.figure(figsize=(8, 1.5))\n",
    "sns.rugplot(yobs, height=0.25, lw=2) ;\n",
    "plt.axvline(thetahat, color='red', lw=4, label=r\"$\\hat{\\theta}_0$\");\n",
    "plt.legend()\n",
    "plt.yticks([])\n",
    "# plt.savefig('dugong_rug.png', bbox_inches = 'tight');\n",
    "plt.show()"
   ]
  },
  {
   "cell_type": "code",
   "execution_count": null,
   "metadata": {},
   "outputs": [
    {
     "data": {
      "image/png": "[encoded data removed]",
      "text/plain": [
       "<Figure size 432x288 with 1 Axes>"
      ]
     },
     "metadata": {
      "needs_background": "light"
     },
     "output_type": "display_data"
    }
   ],
   "source": [
    "# In case we're in a weird style state\n",
    "sns.set_theme()\n",
    "adjust_fontsize(size=16)\n",
    "%matplotlib inline\n",
    "\n",
    "sns.scatterplot(x=xs, y=yobs)\n",
    "plt.axhline(y=thetahat, color='red', lw=4)\n",
    "# plt.savefig('dugong_constant_line.png', bbox_inches = 'tight');\n",
    "plt.show()"
   ]
  },
  {
   "cell_type": "code",
   "execution_count": null,
   "metadata": {},
   "outputs": [
    {
     "data": {
      "image/png": "[encoded data removed]",
      "text/plain": [
       "<Figure size 432x288 with 1 Axes>"
      ]
     },
     "metadata": {
      "needs_background": "light"
     },
     "output_type": "display_data"
    }
   ],
   "source": [
    "# In case we're in a weird style state\n",
    "sns.set_theme()\n",
    "adjust_fontsize(size=16)\n",
    "%matplotlib inline\n",
    "\n",
    "sns.scatterplot(x=xs, y=yobs)\n",
    "plt.plot(xs, yhats_linear, color='red', lw=4)\n",
    "# plt.savefig('dugong_line.png', bbox_inches = 'tight');\n",
    "plt.show()"
   ]
  },
  {
   "cell_type": "markdown",
   "metadata": {},
   "source": [
    "<br/>\n",
    "\n",
    "---\n",
    "\n",
    "## 🧋 Boba Tea:  Two Constant Models, Fit to Different Losses\n",
    "\n",
    "### Exploring MAE"
   ]
  },
  {
   "cell_type": "code",
   "execution_count": null,
   "metadata": {},
   "outputs": [],
   "source": [
    "boba = np.array([20, 21, 22, 29, 33])"
   ]
  },
  {
   "cell_type": "markdown",
   "metadata": {},
   "source": [
    "Let's plot the $L_1$ loss for a **single** observation. We'll plot the $L_1$ loss for the first observation; since $y_1 = 20$, we'll be plotting\n",
    "\n",
    "$$\n",
    "\\Large\n",
    "L_1(20, \\theta_0) = |20 - \\theta_0|\n",
    "$$"
   ]
  },
  {
   "cell_type": "code",
   "execution_count": null,
   "metadata": {},
   "outputs": [],
   "source": [
    "thetas = np.linspace(10, 30, 1000)\n",
    "l1_loss_single_obvs = np.abs(boba[0] - thetas)"
   ]
  },
  {
   "cell_type": "code",
   "execution_count": null,
   "metadata": {},
   "outputs": [
    {
     "data": {
      "image/png": "[encoded data removed]",
      "text/plain": [
       "<Figure size 432x288 with 1 Axes>"
      ]
     },
     "metadata": {
      "needs_background": "light"
     },
     "output_type": "display_data"
    }
   ],
   "source": [
    "plt.style.use('default') # Revert style to default mpl\n",
    "adjust_fontsize(size=16)\n",
    "%matplotlib inline\n",
    "\n",
    "plt.plot(thetas, l1_loss_single_obvs,  'g--', );\n",
    "plt.xlabel(r'$\\theta_0$');\n",
    "plt.ylabel(r'L1 Loss for $y = 20$');\n",
    "# plt.savefig('l1_loss_single_obs.png', bbox_inches = 'tight');"
   ]
  },
  {
   "cell_type": "code",
   "execution_count": null,
   "metadata": {},
   "outputs": [
    {
     "data": {
      "image/png": "[encoded data removed]",
      "text/plain": [
       "<Figure size 432x288 with 1 Axes>"
      ]
     },
     "metadata": {
      "needs_background": "light"
     },
     "output_type": "display_data"
    }
   ],
   "source": [
    "def mae_constant(theta_0, data):\n",
    "    return np.mean(np.array([np.abs(y_obs - theta_0) for y_obs in data]), axis=0)\n",
    "\n",
    "thetas = np.linspace(10, 40, 1000)\n",
    "l1_loss_thetas = mae_constant(thetas, boba)\n",
    "plt.plot(thetas, l1_loss_thetas, color = 'green', lw=3);\n",
    "plt.xlabel(r'$\\theta_0$');\n",
    "plt.ylabel(r'MAE across all data');\n",
    "# plt.savefig('l1_loss_average.png', bbox_inches = 'tight');"
   ]
  },
  {
   "cell_type": "markdown",
   "metadata": {},
   "source": [
    "### 🥣 Median Minimizes MAE for the Constant Model\n"
   ]
  },
  {
   "cell_type": "code",
   "execution_count": null,
   "metadata": {},
   "outputs": [
    {
     "data": {
      "image/png": "[encoded data removed]",
      "text/plain": [
       "<Figure size 576x108 with 1 Axes>"
      ]
     },
     "metadata": {
      "needs_background": "light"
     },
     "output_type": "display_data"
    }
   ],
   "source": [
    "# In case we're in a weird style state\n",
    "sns.set_theme()\n",
    "adjust_fontsize(size=16)\n",
    "%matplotlib inline\n",
    "\n",
    "yobs = boba\n",
    "thetahat = np.median(yobs)\n",
    "\n",
    "fig = plt.figure(figsize=(8, 1.5))\n",
    "sns.rugplot(yobs, height=0.25, lw=2) ;\n",
    "plt.scatter([thetahat], [-.1], color='green', lw=4, label=r\"$\\hat{\\theta}_0$\");\n",
    "plt.xlabel(\"Sales\")\n",
    "plt.legend()\n",
    "plt.yticks([])\n",
    "# plt.savefig('boba_rug.png', bbox_inches = 'tight');\n",
    "plt.show()"
   ]
  },
  {
   "cell_type": "markdown",
   "metadata": {},
   "source": [
    "### 2️⃣ Two Constant Models, Fit to Different Losses"
   ]
  },
  {
   "cell_type": "code",
   "execution_count": null,
   "metadata": {},
   "outputs": [],
   "source": [
    "plt.style.use('default') # Revert style to default mpl\n",
    "adjust_fontsize(size=16)\n",
    "%matplotlib inline\n",
    "\n",
    "nplots = 2\n",
    "def plot_losses(data, title=None, theta_range=(10, 40)):\n",
    "    thetas = np.linspace(theta_range[0], theta_range[1], 1000)\n",
    "    l2_loss_thetas = mse_constant(thetas, data)\n",
    "    thetahat_mse = np.mean(data)\n",
    "\n",
    "    l1_loss_thetas = mae_constant(thetas, data)\n",
    "    thetahat_mae = np.median(data)\n",
    "\n",
    "    fig, axs = plt.subplots(1, nplots, figsize=(5*2+0.5, 3.5))\n",
    "    axs[0].plot(thetas, l2_loss_thetas, lw=3);\n",
    "    axs[0].scatter([thetahat_mse], [mse_constant(thetahat_mse, data)], s=100)\n",
    "    axs[0].annotate(r\"$\\hat{\\theta}_0$ = \" + f\"{thetahat_mse:.1f}\",\n",
    "                    xy=(thetahat_mse, np.average(axs[0].get_ylim())),\n",
    "                    size=20, ha='center', va='top',\n",
    "                    bbox=dict(boxstyle='round', fc='w'))\n",
    "    axs[0].set_xlabel(r'$\\theta_0$');\n",
    "    axs[0].set_ylabel(r'MSE');\n",
    "\n",
    "    axs[1].plot(thetas, l1_loss_thetas, color = 'green', lw=3);\n",
    "    axs[1].scatter([thetahat_mae], [mae_constant(thetahat_mae, data)], color='green', s=100)\n",
    "    axs[1].annotate(r\"$\\hat{\\theta}_0$ = \" + f\"{thetahat_mae:.1f}\",\n",
    "                    xy=(thetahat_mae, np.average(axs[1].get_ylim())),\n",
    "                    size=20, ha='center', va='top',\n",
    "                    bbox=dict(boxstyle='round', fc='w'))\n",
    "    axs[1].set_xlabel(r'$\\theta_0$');\n",
    "    axs[1].set_ylabel(r'MAE');\n",
    "    if title:\n",
    "        fig.suptitle(title)\n",
    "    fig.tight_layout()\n",
    "    return fig"
   ]
  },
  {
   "cell_type": "code",
   "execution_count": null,
   "metadata": {},
   "outputs": [
    {
     "data": {
      "image/png": "[encoded data removed]",
      "text/plain": [
       "<Figure size 756x252 with 2 Axes>"
      ]
     },
     "metadata": {
      "needs_background": "light"
     },
     "output_type": "display_data"
    }
   ],
   "source": [
    "fig = plot_losses(boba)\n",
    "plt.figure(fig)\n",
    "# plt.savefig('loss_compare.png', bbox_inches = 'tight');\n",
    "plt.show()"
   ]
  },
  {
   "cell_type": "markdown",
   "metadata": {},
   "source": [
    "#### More loss comparison: Outliers"
   ]
  },
  {
   "cell_type": "code",
   "execution_count": null,
   "metadata": {},
   "outputs": [
    {
     "data": {
      "image/png": "[encoded data removed]",
      "text/plain": [
       "<Figure size 756x252 with 2 Axes>"
      ]
     },
     "metadata": {
      "needs_background": "light"
     },
     "output_type": "display_data"
    }
   ],
   "source": [
    "boba_outlier = np.array([20, 21, 22, 29, 33, 1033])\n",
    "fig = plot_losses(boba_outlier, theta_range=[-10, 300])\n",
    "plt.figure(fig)\n",
    "# plt.savefig('loss_outlier.png', bbox_inches = 'tight');\n",
    "plt.show()"
   ]
  },
  {
   "cell_type": "markdown",
   "metadata": {},
   "source": [
    "#### Uniqueness under Different Loss Functions"
   ]
  },
  {
   "cell_type": "code",
   "execution_count": null,
   "metadata": {},
   "outputs": [
    {
     "data": {
      "image/png": "[encoded data removed]",
      "text/plain": [
       "<Figure size 756x252 with 2 Axes>"
      ]
     },
     "metadata": {
      "needs_background": "light"
     },
     "output_type": "display_data"
    }
   ],
   "source": [
    "boba_even = np.array([20, 21, 22, 29, 33, 35])\n",
    "fig = plot_losses(boba_even)\n",
    "plt.figure(fig)\n",
    "#plt.savefig('loss_unique.png', bbox_inches = 'tight');\n",
    "plt.show()"
   ]
  },
  {
   "cell_type": "markdown",
   "metadata": {},
   "source": [
    "#### Bonus: MAE loss curve for SLR?\n",
    "\n",
    "We saw earlier that the MSE (average L2) loss curve for Simple Linear Regression is smooth and parabolic in 3 dimensions. What does the MAE for SLR curve look like?\n",
    "\n",
    "It's **beyond the scope of this course**, but for the curious, the below cell plots the mean absolute error (average L1 loss) on the boba dataset for a simple linear regression model . I don't plot the minimum because I don't know if there's a closed form solution (you could solve it numerically with techniques you learn in lab).\n",
    "\n",
    "Since the boba dataset didn't have input, I've arbitrarily used \"temperature of that day\" as input. I made up the numbers (assume degrees Farenheit)."
   ]
  },
  {
   "cell_type": "code",
   "execution_count": null,
   "metadata": {},
   "outputs": [
    {
     "data": {
      "text/html": [
       "<div>\n",
       "<style scoped>\n",
       "    .dataframe tbody tr th:only-of-type {\n",
       "        vertical-align: middle;\n",
       "    }\n",
       "\n",
       "    .dataframe tbody tr th {\n",
       "        vertical-align: top;\n",
       "    }\n",
       "\n",
       "    .dataframe thead th {\n",
       "        text-align: right;\n",
       "    }\n",
       "</style>\n",
       "<table border=\"1\" class=\"dataframe\">\n",
       "  <thead>\n",
       "    <tr style=\"text-align: right;\">\n",
       "      <th></th>\n",
       "      <th>temps</th>\n",
       "      <th>sales</th>\n",
       "    </tr>\n",
       "  </thead>\n",
       "  <tbody>\n",
       "    <tr>\n",
       "      <th>0</th>\n",
       "      <td>40</td>\n",
       "      <td>20</td>\n",
       "    </tr>\n",
       "    <tr>\n",
       "      <th>1</th>\n",
       "      <td>44</td>\n",
       "      <td>21</td>\n",
       "    </tr>\n",
       "    <tr>\n",
       "      <th>2</th>\n",
       "      <td>55</td>\n",
       "      <td>22</td>\n",
       "    </tr>\n",
       "    <tr>\n",
       "      <th>3</th>\n",
       "      <td>70</td>\n",
       "      <td>29</td>\n",
       "    </tr>\n",
       "    <tr>\n",
       "      <th>4</th>\n",
       "      <td>85</td>\n",
       "      <td>33</td>\n",
       "    </tr>\n",
       "  </tbody>\n",
       "</table>\n",
       "</div>"
      ],
      "text/plain": [
       "   temps  sales\n",
       "0     40     20\n",
       "1     44     21\n",
       "2     55     22\n",
       "3     70     29\n",
       "4     85     33"
      ]
     },
     "execution_count": 249,
     "metadata": {},
     "output_type": "execute_result"
    }
   ],
   "source": [
    "boba_df = pd.DataFrame({\"sales\": [20, 21, 22, 29, 33],\n",
    "                        \"temps\": [40, 44, 55, 70, 85]},\n",
    "                       columns=[\"temps\", \"sales\"])\n",
    "boba_df"
   ]
  },
  {
   "cell_type": "code",
   "execution_count": null,
   "metadata": {},
   "outputs": [
    {
     "data": {
      "application/vnd.plotly.v1+json": {
       "config": {
        "plotlyServerURL": "https://plot.ly"
       },
       "data": [
        {
         "name": "z=MAE",
         "type": "surface",
         "x": {
          "bdata": "AAAAAAAANMD9rhY3YX4zwPpdLW7C/DLA9gxEpSN7MsDzu1rchPkxwPBqcRPmdzHA7BmISkf2MMDpyJ6BqHQwwMzvanET5i/Axk2Y39XiLsC/q8VNmN8twLgJ87ta3CzAsmcgKh3ZK8CsxU2Y39UqwKUjewai0inAnoGodGTPKMCY39XiJswnwJI9A1HpyCbAi5swv6vFJcCE+V0tbsIkwH5Xi5swvyPAeLW4CfO7IsBxE+Z3tbghwGpxE+Z3tSDAyJ6BqHRkH8C8WtyE+V0dwK4WN2F+VxvAoNKRPQNRGcCUjuwZiEoXwIhKR/YMRBXAegai0pE9E8BswvyuFjcRwMD8rhY3YQ7AqHRkz0BUCsCQ7BmISkcGwHBkz0BUOgLAsLgJ87ta/L+AqHRkz0D0v4Awv6vFTei/QCAqHdkz0L+AICod2TPQP6Awv6vFTeg/gKh0ZM9A9D/AuAnzu1r8P3hkz0BUOgJAkOwZiEpHBkCwdGTPQFQKQMj8rhY3YQ5AcML8rhY3EUB8BqLSkT0TQIhKR/YMRBVAmI7sGYhKF0Ck0pE9A1EZQLAWN2F+VxtAwFrchPldHUDMnoGodGQfQGxxE+Z3tSBAchPmd7W4IUB4tbgJ87siQIBXi5swvyNAhvldLW7CJECMmzC/q8UlQJQ9A1HpyCZAmt/V4ibMJ0Cggah0ZM8oQKgjewai0ilArMVNmN/VKkC0ZyAqHdkrQLgJ87ta3CxAwKvFTZjfLUDITZjf1eIuQMzvanET5i9A6siegah0MEDuGYhKR/YwQPBqcRPmdzFA9Lta3IT5MUD4DESlI3syQPpdLW7C/DJA/q4WN2F+M0AAAAAAAAA0QA==",
          "dtype": "f8"
         },
         "y": {
          "bdata": "AAAAAAAAScC8WtyE+V1IwHi1uAnzu0fANBCVjuwZR8DwanET5ndGwKzFTZjf1UXAaCAqHdkzRcAkewai0pFEwODV4ibM70PAnDC/q8VNQ8BYi5swv6tCwBPmd7W4CULAz0BUOrJnQcCLmzC/q8VAwEf2DESlI0DABqLSkT0DP8B+V4ubML89wPYMRKUjezzAbsL8rhY3O8Dmd7W4CfM5wF4tbsL8rjjA1eImzO9qN8BNmN/V4iY2wMVNmN/V4jTAPQNR6cieM8C1uAnzu1oywCxuwvyuFjHASEf2DESlL8A4smcgKh0twCgd2TMQlSrAGIhKR/YMKMAI87ta3IQlwPhdLW7C/CLA6Miegah0IMCwZyAqHdkbwJA9A1HpyBbAcBPmd7W4EcCg0pE9A1EJwMD8rhY3Yf6/gKh0ZM9A5L+AqHRkz0DkP+D8rhY3Yf4/sNKRPQNRCUB4E+Z3tbgRQJg9A1HpyBZAuGcgKh3ZG0DsyJ6BqHQgQPxdLW7C/CJADPO7WtyEJUAciEpH9gwoQCwd2TMQlSpAQLJnICodLUBQR/YMRKUvQDBuwvyuFjFAuLgJ87taMkBAA1HpyJ4zQMhNmN/V4jRAUJjf1eImNkDY4ibM72o3QGAtbsL8rjhA6He1uAnzOUBwwvyuFjc7QPgMRKUjezxAgFeLmzC/PUAIotKRPQM/QEj2DESlI0BAjJswv6vFQEDQQFQ6smdBQBTmd7W4CUJAWIubML+rQkCcML+rxU1DQODV4ibM70NAJHsGotKRREBoICod2TNFQKzFTZjf1UVA8GpxE+Z3RkA0EJWO7BlHQHi1uAnzu0dAvFrchPldSEAAAAAAAABJQA==",
          "dtype": "f8"
         },
         "z": {
          "bdata": "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",
          "dtype": "f8",
          "shape": "80, 80"
         }
        }
       ],
       "layout": {
        "autosize": false,
        "margin": {
         "b": 10,
         "l": 10,
         "r": 20,
         "t": 10
        },
        "scene": {
         "xaxis": {
          "title": {
           "text": "x=theta_0"
          }
         },
         "yaxis": {
          "title": {
           "text": "y=theta_1"
          }
         },
         "zaxis": {
          "title": {
           "text": "z=MAE"
          }
         }
        },
        "template": {
         "data": {
          "bar": [
           {
            "error_x": {
             "color": "#2a3f5f"
            },
            "error_y": {
             "color": "#2a3f5f"
            },
            "marker": {
             "line": {
              "color": "#E5ECF6",
              "width": 0.5
             },
             "pattern": {
              "fillmode": "overlay",
              "size": 10,
              "solidity": 0.2
             }
            },
            "type": "bar"
           }
          ],
          "barpolar": [
           {
            "marker": {
             "line": {
              "color": "#E5ECF6",
              "width": 0.5
             },
             "pattern": {
              "fillmode": "overlay",
              "size": 10,
              "solidity": 0.2
             }
            },
            "type": "barpolar"
           }
          ],
          "carpet": [
           {
            "aaxis": {
             "endlinecolor": "#2a3f5f",
             "gridcolor": "white",
             "linecolor": "white",
             "minorgridcolor": "white",
             "startlinecolor": "#2a3f5f"
            },
            "baxis": {
             "endlinecolor": "#2a3f5f",
             "gridcolor": "white",
             "linecolor": "white",
             "minorgridcolor": "white",
             "startlinecolor": "#2a3f5f"
            },
            "type": "carpet"
           }
          ],
          "choropleth": [
           {
            "colorbar": {
             "outlinewidth": 0,
             "ticks": ""
            },
            "type": "choropleth"
           }
          ],
          "contour": [
           {
            "colorbar": {
             "outlinewidth": 0,
             "ticks": ""
            },
            "colorscale": [
             [
              0,
              "#0d0887"
             ],
             [
              0.1111111111111111,
              "#46039f"
             ],
             [
              0.2222222222222222,
              "#7201a8"
             ],
             [
              0.3333333333333333,
              "#9c179e"
             ],
             [
              0.4444444444444444,
              "#bd3786"
             ],
             [
              0.5555555555555556,
              "#d8576b"
             ],
             [
              0.6666666666666666,
              "#ed7953"
             ],
             [
              0.7777777777777778,
              "#fb9f3a"
             ],
             [
              0.8888888888888888,
              "#fdca26"
             ],
             [
              1,
              "#f0f921"
             ]
            ],
            "type": "contour"
           }
          ],
          "contourcarpet": [
           {
            "colorbar": {
             "outlinewidth": 0,
             "ticks": ""
            },
            "type": "contourcarpet"
           }
          ],
          "heatmap": [
           {
            "colorbar": {
             "outlinewidth": 0,
             "ticks": ""
            },
            "colorscale": [
             [
              0,
              "#0d0887"
             ],
             [
              0.1111111111111111,
              "#46039f"
             ],
             [
              0.2222222222222222,
              "#7201a8"
             ],
             [
              0.3333333333333333,
              "#9c179e"
             ],
             [
              0.4444444444444444,
              "#bd3786"
             ],
             [
              0.5555555555555556,
              "#d8576b"
             ],
             [
              0.6666666666666666,
              "#ed7953"
             ],
             [
              0.7777777777777778,
              "#fb9f3a"
             ],
             [
              0.8888888888888888,
              "#fdca26"
             ],
             [
              1,
              "#f0f921"
             ]
            ],
            "type": "heatmap"
           }
          ],
          "histogram": [
           {
            "marker": {
             "pattern": {
              "fillmode": "overlay",
              "size": 10,
              "solidity": 0.2
             }
            },
            "type": "histogram"
           }
          ],
          "histogram2d": [
           {
            "colorbar": {
             "outlinewidth": 0,
             "ticks": ""
            },
            "colorscale": [
             [
              0,
              "#0d0887"
             ],
             [
              0.1111111111111111,
              "#46039f"
             ],
             [
              0.2222222222222222,
              "#7201a8"
             ],
             [
              0.3333333333333333,
              "#9c179e"
             ],
             [
              0.4444444444444444,
              "#bd3786"
             ],
             [
              0.5555555555555556,
              "#d8576b"
             ],
             [
              0.6666666666666666,
              "#ed7953"
             ],
             [
              0.7777777777777778,
              "#fb9f3a"
             ],
             [
              0.8888888888888888,
              "#fdca26"
             ],
             [
              1,
              "#f0f921"
             ]
            ],
            "type": "histogram2d"
           }
          ],
          "histogram2dcontour": [
           {
            "colorbar": {
             "outlinewidth": 0,
             "ticks": ""
            },
            "colorscale": [
             [
              0,
              "#0d0887"
             ],
             [
              0.1111111111111111,
              "#46039f"
             ],
             [
              0.2222222222222222,
              "#7201a8"
             ],
             [
              0.3333333333333333,
              "#9c179e"
             ],
             [
              0.4444444444444444,
              "#bd3786"
             ],
             [
              0.5555555555555556,
              "#d8576b"
             ],
             [
              0.6666666666666666,
              "#ed7953"
             ],
             [
              0.7777777777777778,
              "#fb9f3a"
             ],
             [
              0.8888888888888888,
              "#fdca26"
             ],
             [
              1,
              "#f0f921"
             ]
            ],
            "type": "histogram2dcontour"
           }
          ],
          "mesh3d": [
           {
            "colorbar": {
             "outlinewidth": 0,
             "ticks": ""
            },
            "type": "mesh3d"
           }
          ],
          "parcoords": [
           {
            "line": {
             "colorbar": {
              "outlinewidth": 0,
              "ticks": ""
             }
            },
            "type": "parcoords"
           }
          ],
          "pie": [
           {
            "automargin": true,
            "type": "pie"
           }
          ],
          "scatter": [
           {
            "fillpattern": {
             "fillmode": "overlay",
             "size": 10,
             "solidity": 0.2
            },
            "type": "scatter"
           }
          ],
          "scatter3d": [
           {
            "line": {
             "colorbar": {
              "outlinewidth": 0,
              "ticks": ""
             }
            },
            "marker": {
             "colorbar": {
              "outlinewidth": 0,
              "ticks": ""
             }
            },
            "type": "scatter3d"
           }
          ],
          "scattercarpet": [
           {
            "marker": {
             "colorbar": {
              "outlinewidth": 0,
              "ticks": ""
             }
            },
            "type": "scattercarpet"
           }
          ],
          "scattergeo": [
           {
            "marker": {
             "colorbar": {
              "outlinewidth": 0,
              "ticks": ""
             }
            },
            "type": "scattergeo"
           }
          ],
          "scattergl": [
           {
            "marker": {
             "colorbar": {
              "outlinewidth": 0,
              "ticks": ""
             }
            },
            "type": "scattergl"
           }
          ],
          "scattermap": [
           {
            "marker": {
             "colorbar": {
              "outlinewidth": 0,
              "ticks": ""
             }
            },
            "type": "scattermap"
           }
          ],
          "scattermapbox": [
           {
            "marker": {
             "colorbar": {
              "outlinewidth": 0,
              "ticks": ""
             }
            },
            "type": "scattermapbox"
           }
          ],
          "scatterpolar": [
           {
            "marker": {
             "colorbar": {
              "outlinewidth": 0,
              "ticks": ""
             }
            },
            "type": "scatterpolar"
           }
          ],
          "scatterpolargl": [
           {
            "marker": {
             "colorbar": {
              "outlinewidth": 0,
              "ticks": ""
             }
            },
            "type": "scatterpolargl"
           }
          ],
          "scatterternary": [
           {
            "marker": {
             "colorbar": {
              "outlinewidth": 0,
              "ticks": ""
             }
            },
            "type": "scatterternary"
           }
          ],
          "surface": [
           {
            "colorbar": {
             "outlinewidth": 0,
             "ticks": ""
            },
            "colorscale": [
             [
              0,
              "#0d0887"
             ],
             [
              0.1111111111111111,
              "#46039f"
             ],
             [
              0.2222222222222222,
              "#7201a8"
             ],
             [
              0.3333333333333333,
              "#9c179e"
             ],
             [
              0.4444444444444444,
              "#bd3786"
             ],
             [
              0.5555555555555556,
              "#d8576b"
             ],
             [
              0.6666666666666666,
              "#ed7953"
             ],
             [
              0.7777777777777778,
              "#fb9f3a"
             ],
             [
              0.8888888888888888,
              "#fdca26"
             ],
             [
              1,
              "#f0f921"
             ]
            ],
            "type": "surface"
           }
          ],
          "table": [
           {
            "cells": {
             "fill": {
              "color": "#EBF0F8"
             },
             "line": {
              "color": "white"
             }
            },
            "header": {
             "fill": {
              "color": "#C8D4E3"
             },
             "line": {
              "color": "white"
             }
            },
            "type": "table"
           }
          ]
         },
         "layout": {
          "annotationdefaults": {
           "arrowcolor": "#2a3f5f",
           "arrowhead": 0,
           "arrowwidth": 1
          },
          "autotypenumbers": "strict",
          "coloraxis": {
           "colorbar": {
            "outlinewidth": 0,
            "ticks": ""
           }
          },
          "colorscale": {
           "diverging": [
            [
             0,
             "#8e0152"
            ],
            [
             0.1,
             "#c51b7d"
            ],
            [
             0.2,
             "#de77ae"
            ],
            [
             0.3,
             "#f1b6da"
            ],
            [
             0.4,
             "#fde0ef"
            ],
            [
             0.5,
             "#f7f7f7"
            ],
            [
             0.6,
             "#e6f5d0"
            ],
            [
             0.7,
             "#b8e186"
            ],
            [
             0.8,
             "#7fbc41"
            ],
            [
             0.9,
             "#4d9221"
            ],
            [
             1,
             "#276419"
            ]
           ],
           "sequential": [
            [
             0,
             "#0d0887"
            ],
            [
             0.1111111111111111,
             "#46039f"
            ],
            [
             0.2222222222222222,
             "#7201a8"
            ],
            [
             0.3333333333333333,
             "#9c179e"
            ],
            [
             0.4444444444444444,
             "#bd3786"
            ],
            [
             0.5555555555555556,
             "#d8576b"
            ],
            [
             0.6666666666666666,
             "#ed7953"
            ],
            [
             0.7777777777777778,
             "#fb9f3a"
            ],
            [
             0.8888888888888888,
             "#fdca26"
            ],
            [
             1,
             "#f0f921"
            ]
           ],
           "sequentialminus": [
            [
             0,
             "#0d0887"
            ],
            [
             0.1111111111111111,
             "#46039f"
            ],
            [
             0.2222222222222222,
             "#7201a8"
            ],
            [
             0.3333333333333333,
             "#9c179e"
            ],
            [
             0.4444444444444444,
             "#bd3786"
            ],
            [
             0.5555555555555556,
             "#d8576b"
            ],
            [
             0.6666666666666666,
             "#ed7953"
            ],
            [
             0.7777777777777778,
             "#fb9f3a"
            ],
            [
             0.8888888888888888,
             "#fdca26"
            ],
            [
             1,
             "#f0f921"
            ]
           ]
          },
          "colorway": [
           "#636efa",
           "#EF553B",
           "#00cc96",
           "#ab63fa",
           "#FFA15A",
           "#19d3f3",
           "#FF6692",
           "#B6E880",
           "#FF97FF",
           "#FECB52"
          ],
          "font": {
           "color": "#2a3f5f"
          },
          "geo": {
           "bgcolor": "white",
           "lakecolor": "white",
           "landcolor": "#E5ECF6",
           "showlakes": true,
           "showland": true,
           "subunitcolor": "white"
          },
          "hoverlabel": {
           "align": "left"
          },
          "hovermode": "closest",
          "mapbox": {
           "style": "light"
          },
          "paper_bgcolor": "white",
          "plot_bgcolor": "#E5ECF6",
          "polar": {
           "angularaxis": {
            "gridcolor": "white",
            "linecolor": "white",
            "ticks": ""
           },
           "bgcolor": "#E5ECF6",
           "radialaxis": {
            "gridcolor": "white",
            "linecolor": "white",
            "ticks": ""
           }
          },
          "scene": {
           "xaxis": {
            "backgroundcolor": "#E5ECF6",
            "gridcolor": "white",
            "gridwidth": 2,
            "linecolor": "white",
            "showbackground": true,
            "ticks": "",
            "zerolinecolor": "white"
           },
           "yaxis": {
            "backgroundcolor": "#E5ECF6",
            "gridcolor": "white",
            "gridwidth": 2,
            "linecolor": "white",
            "showbackground": true,
            "ticks": "",
            "zerolinecolor": "white"
           },
           "zaxis": {
            "backgroundcolor": "#E5ECF6",
            "gridcolor": "white",
            "gridwidth": 2,
            "linecolor": "white",
            "showbackground": true,
            "ticks": "",
            "zerolinecolor": "white"
           }
          },
          "shapedefaults": {
           "line": {
            "color": "#2a3f5f"
           }
          },
          "ternary": {
           "aaxis": {
            "gridcolor": "white",
            "linecolor": "white",
            "ticks": ""
           },
           "baxis": {
            "gridcolor": "white",
            "linecolor": "white",
            "ticks": ""
           },
           "bgcolor": "#E5ECF6",
           "caxis": {
            "gridcolor": "white",
            "linecolor": "white",
            "ticks": ""
           }
          },
          "title": {
           "x": 0.05
          },
          "xaxis": {
           "automargin": true,
           "gridcolor": "white",
           "linecolor": "white",
           "ticks": "",
           "title": {
            "standoff": 15
           },
           "zerolinecolor": "white",
           "zerolinewidth": 2
          },
          "yaxis": {
           "automargin": true,
           "gridcolor": "white",
           "linecolor": "white",
           "ticks": "",
           "title": {
            "standoff": 15
           },
           "zerolinecolor": "white",
           "zerolinewidth": 2
          }
         }
        },
        "width": 500
       }
      }
     },
     "metadata": {},
     "output_type": "display_data"
    }
   ],
   "source": [
    "# Just run this cell\n",
    "import itertools\n",
    "import plotly.graph_objects as go\n",
    "\n",
    "data_linear = boba_df\n",
    "\n",
    "def mAe_linear(theta_0, theta_1, data_linear):\n",
    "    data_x, data_y = data_linear.iloc[:,0], data_linear.iloc[:,1]\n",
    "    return np.mean(np.array([np.abs(y - (theta_0+theta_1*x)) for x, y in zip(data_x, data_y)]), axis=0)\n",
    "\n",
    "theta_0_values = np.linspace(-20, 20, 80)\n",
    "theta_1_values = np.linspace(-50, 50, 80)\n",
    "mAe_values = [mAe_linear(theta_0, theta_1, data_linear) \\\n",
    "              for theta_0, theta_1 in itertools.product(theta_0_values, theta_1_values)]\n",
    "mAe_values = np.reshape(mAe_values, (len(theta_0_values), len(theta_1_values)), order='F')\n",
    "\n",
    "# Optimal point\n",
    "fig_lin_mae = go.Figure(data=[go.Surface(x=theta_0_values, y=theta_1_values, z=mAe_values,name='z=MAE')])\n",
    "\n",
    "fig_lin_mae.update_layout(\n",
    "    autosize=False,\n",
    "    scene = dict(\n",
    "                    xaxis_title='x=theta_0',\n",
    "                    yaxis_title='y=theta_1',\n",
    "                    zaxis_title='z=MAE'),\n",
    "                    width=500,\n",
    "                    margin=dict(r=20, b=10, l=10, t=10))\n",
    "fig_lin_mae.show()"
   ]
  },
  {
   "cell_type": "markdown",
   "metadata": {},
   "source": [
    "Now observe the difference between the MAE loss and the MSE loss for one application."
   ]
  },
  {
   "cell_type": "code",
   "execution_count": null,
   "metadata": {},
   "outputs": [
    {
     "data": {
      "application/vnd.plotly.v1+json": {
       "config": {
        "plotlyServerURL": "https://plot.ly"
       },
       "data": [
        {
         "name": "z=MSE",
         "type": "surface",
         "x": {
          "bdata": "AAAAAAAANMD9rhY3YX4zwPpdLW7C/DLA9gxEpSN7MsDzu1rchPkxwPBqcRPmdzHA7BmISkf2MMDpyJ6BqHQwwMzvanET5i/Axk2Y39XiLsC/q8VNmN8twLgJ87ta3CzAsmcgKh3ZK8CsxU2Y39UqwKUjewai0inAnoGodGTPKMCY39XiJswnwJI9A1HpyCbAi5swv6vFJcCE+V0tbsIkwH5Xi5swvyPAeLW4CfO7IsBxE+Z3tbghwGpxE+Z3tSDAyJ6BqHRkH8C8WtyE+V0dwK4WN2F+VxvAoNKRPQNRGcCUjuwZiEoXwIhKR/YMRBXAegai0pE9E8BswvyuFjcRwMD8rhY3YQ7AqHRkz0BUCsCQ7BmISkcGwHBkz0BUOgLAsLgJ87ta/L+AqHRkz0D0v4Awv6vFTei/QCAqHdkz0L+AICod2TPQP6Awv6vFTeg/gKh0ZM9A9D/AuAnzu1r8P3hkz0BUOgJAkOwZiEpHBkCwdGTPQFQKQMj8rhY3YQ5AcML8rhY3EUB8BqLSkT0TQIhKR/YMRBVAmI7sGYhKF0Ck0pE9A1EZQLAWN2F+VxtAwFrchPldHUDMnoGodGQfQGxxE+Z3tSBAchPmd7W4IUB4tbgJ87siQIBXi5swvyNAhvldLW7CJECMmzC/q8UlQJQ9A1HpyCZAmt/V4ibMJ0Cggah0ZM8oQKgjewai0ilArMVNmN/VKkC0ZyAqHdkrQLgJ87ta3CxAwKvFTZjfLUDITZjf1eIuQMzvanET5i9A6siegah0MEDuGYhKR/YwQPBqcRPmdzFA9Lta3IT5MUD4DESlI3syQPpdLW7C/DJA/q4WN2F+M0AAAAAAAAA0QA==",
          "dtype": "f8"
         },
         "y": {
          "bdata": "AAAAAAAAScC8WtyE+V1IwHi1uAnzu0fANBCVjuwZR8DwanET5ndGwKzFTZjf1UXAaCAqHdkzRcAkewai0pFEwODV4ibM70PAnDC/q8VNQ8BYi5swv6tCwBPmd7W4CULAz0BUOrJnQcCLmzC/q8VAwEf2DESlI0DABqLSkT0DP8B+V4ubML89wPYMRKUjezzAbsL8rhY3O8Dmd7W4CfM5wF4tbsL8rjjA1eImzO9qN8BNmN/V4iY2wMVNmN/V4jTAPQNR6cieM8C1uAnzu1oywCxuwvyuFjHASEf2DESlL8A4smcgKh0twCgd2TMQlSrAGIhKR/YMKMAI87ta3IQlwPhdLW7C/CLA6Miegah0IMCwZyAqHdkbwJA9A1HpyBbAcBPmd7W4EcCg0pE9A1EJwMD8rhY3Yf6/gKh0ZM9A5L+AqHRkz0DkP+D8rhY3Yf4/sNKRPQNRCUB4E+Z3tbgRQJg9A1HpyBZAuGcgKh3ZG0DsyJ6BqHQgQPxdLW7C/CJADPO7WtyEJUAciEpH9gwoQCwd2TMQlSpAQLJnICodLUBQR/YMRKUvQDBuwvyuFjFAuLgJ87taMkBAA1HpyJ4zQMhNmN/V4jRAUJjf1eImNkDY4ibM72o3QGAtbsL8rjhA6He1uAnzOUBwwvyuFjc7QPgMRKUjezxAgFeLmzC/PUAIotKRPQM/QEj2DESlI0BAjJswv6vFQEDQQFQ6smdBQBTmd7W4CUJAWIubML+rQkCcML+rxU1DQODV4ibM70NAJHsGotKRREBoICod2TNFQKzFTZjf1UVA8GpxE+Z3RkA0EJWO7BlHQHi1uAnzu0dAvFrchPldSEAAAAAAAABJQA==",
          "dtype": "f8"
         },
         "z": {
          "bdata": "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",
          "dtype": "f8",
          "shape": "80, 80"
         }
        }
       ],
       "layout": {
        "autosize": false,
        "margin": {
         "b": 10,
         "l": 10,
         "r": 20,
         "t": 10
        },
        "scene": {
         "xaxis": {
          "title": {
           "text": "x=theta_0"
          }
         },
         "yaxis": {
          "title": {
           "text": "y=theta_1"
          }
         },
         "zaxis": {
          "title": {
           "text": "z=MSE"
          }
         }
        },
        "template": {
         "data": {
          "bar": [
           {
            "error_x": {
             "color": "#2a3f5f"
            },
            "error_y": {
             "color": "#2a3f5f"
            },
            "marker": {
             "line": {
              "color": "#E5ECF6",
              "width": 0.5
             },
             "pattern": {
              "fillmode": "overlay",
              "size": 10,
              "solidity": 0.2
             }
            },
            "type": "bar"
           }
          ],
          "barpolar": [
           {
            "marker": {
             "line": {
              "color": "#E5ECF6",
              "width": 0.5
             },
             "pattern": {
              "fillmode": "overlay",
              "size": 10,
              "solidity": 0.2
             }
            },
            "type": "barpolar"
           }
          ],
          "carpet": [
           {
            "aaxis": {
             "endlinecolor": "#2a3f5f",
             "gridcolor": "white",
             "linecolor": "white",
             "minorgridcolor": "white",
             "startlinecolor": "#2a3f5f"
            },
            "baxis": {
             "endlinecolor": "#2a3f5f",
             "gridcolor": "white",
             "linecolor": "white",
             "minorgridcolor": "white",
             "startlinecolor": "#2a3f5f"
            },
            "type": "carpet"
           }
          ],
          "choropleth": [
           {
            "colorbar": {
             "outlinewidth": 0,
             "ticks": ""
            },
            "type": "choropleth"
           }
          ],
          "contour": [
           {
            "colorbar": {
             "outlinewidth": 0,
             "ticks": ""
            },
            "colorscale": [
             [
              0,
              "#0d0887"
             ],
             [
              0.1111111111111111,
              "#46039f"
             ],
             [
              0.2222222222222222,
              "#7201a8"
             ],
             [
              0.3333333333333333,
              "#9c179e"
             ],
             [
              0.4444444444444444,
              "#bd3786"
             ],
             [
              0.5555555555555556,
              "#d8576b"
             ],
             [
              0.6666666666666666,
              "#ed7953"
             ],
             [
              0.7777777777777778,
              "#fb9f3a"
             ],
             [
              0.8888888888888888,
              "#fdca26"
             ],
             [
              1,
              "#f0f921"
             ]
            ],
            "type": "contour"
           }
          ],
          "contourcarpet": [
           {
            "colorbar": {
             "outlinewidth": 0,
             "ticks": ""
            },
            "type": "contourcarpet"
           }
          ],
          "heatmap": [
           {
            "colorbar": {
             "outlinewidth": 0,
             "ticks": ""
            },
            "colorscale": [
             [
              0,
              "#0d0887"
             ],
             [
              0.1111111111111111,
              "#46039f"
             ],
             [
              0.2222222222222222,
              "#7201a8"
             ],
             [
              0.3333333333333333,
              "#9c179e"
             ],
             [
              0.4444444444444444,
              "#bd3786"
             ],
             [
              0.5555555555555556,
              "#d8576b"
             ],
             [
              0.6666666666666666,
              "#ed7953"
             ],
             [
              0.7777777777777778,
              "#fb9f3a"
             ],
             [
              0.8888888888888888,
              "#fdca26"
             ],
             [
              1,
              "#f0f921"
             ]
            ],
            "type": "heatmap"
           }
          ],
          "histogram": [
           {
            "marker": {
             "pattern": {
              "fillmode": "overlay",
              "size": 10,
              "solidity": 0.2
             }
            },
            "type": "histogram"
           }
          ],
          "histogram2d": [
           {
            "colorbar": {
             "outlinewidth": 0,
             "ticks": ""
            },
            "colorscale": [
             [
              0,
              "#0d0887"
             ],
             [
              0.1111111111111111,
              "#46039f"
             ],
             [
              0.2222222222222222,
              "#7201a8"
             ],
             [
              0.3333333333333333,
              "#9c179e"
             ],
             [
              0.4444444444444444,
              "#bd3786"
             ],
             [
              0.5555555555555556,
              "#d8576b"
             ],
             [
              0.6666666666666666,
              "#ed7953"
             ],
             [
              0.7777777777777778,
              "#fb9f3a"
             ],
             [
              0.8888888888888888,
              "#fdca26"
             ],
             [
              1,
              "#f0f921"
             ]
            ],
            "type": "histogram2d"
           }
          ],
          "histogram2dcontour": [
           {
            "colorbar": {
             "outlinewidth": 0,
             "ticks": ""
            },
            "colorscale": [
             [
              0,
              "#0d0887"
             ],
             [
              0.1111111111111111,
              "#46039f"
             ],
             [
              0.2222222222222222,
              "#7201a8"
             ],
             [
              0.3333333333333333,
              "#9c179e"
             ],
             [
              0.4444444444444444,
              "#bd3786"
             ],
             [
              0.5555555555555556,
              "#d8576b"
             ],
             [
              0.6666666666666666,
              "#ed7953"
             ],
             [
              0.7777777777777778,
              "#fb9f3a"
             ],
             [
              0.8888888888888888,
              "#fdca26"
             ],
             [
              1,
              "#f0f921"
             ]
            ],
            "type": "histogram2dcontour"
           }
          ],
          "mesh3d": [
           {
            "colorbar": {
             "outlinewidth": 0,
             "ticks": ""
            },
            "type": "mesh3d"
           }
          ],
          "parcoords": [
           {
            "line": {
             "colorbar": {
              "outlinewidth": 0,
              "ticks": ""
             }
            },
            "type": "parcoords"
           }
          ],
          "pie": [
           {
            "automargin": true,
            "type": "pie"
           }
          ],
          "scatter": [
           {
            "fillpattern": {
             "fillmode": "overlay",
             "size": 10,
             "solidity": 0.2
            },
            "type": "scatter"
           }
          ],
          "scatter3d": [
           {
            "line": {
             "colorbar": {
              "outlinewidth": 0,
              "ticks": ""
             }
            },
            "marker": {
             "colorbar": {
              "outlinewidth": 0,
              "ticks": ""
             }
            },
            "type": "scatter3d"
           }
          ],
          "scattercarpet": [
           {
            "marker": {
             "colorbar": {
              "outlinewidth": 0,
              "ticks": ""
             }
            },
            "type": "scattercarpet"
           }
          ],
          "scattergeo": [
           {
            "marker": {
             "colorbar": {
              "outlinewidth": 0,
              "ticks": ""
             }
            },
            "type": "scattergeo"
           }
          ],
          "scattergl": [
           {
            "marker": {
             "colorbar": {
              "outlinewidth": 0,
              "ticks": ""
             }
            },
            "type": "scattergl"
           }
          ],
          "scattermap": [
           {
            "marker": {
             "colorbar": {
              "outlinewidth": 0,
              "ticks": ""
             }
            },
            "type": "scattermap"
           }
          ],
          "scattermapbox": [
           {
            "marker": {
             "colorbar": {
              "outlinewidth": 0,
              "ticks": ""
             }
            },
            "type": "scattermapbox"
           }
          ],
          "scatterpolar": [
           {
            "marker": {
             "colorbar": {
              "outlinewidth": 0,
              "ticks": ""
             }
            },
            "type": "scatterpolar"
           }
          ],
          "scatterpolargl": [
           {
            "marker": {
             "colorbar": {
              "outlinewidth": 0,
              "ticks": ""
             }
            },
            "type": "scatterpolargl"
           }
          ],
          "scatterternary": [
           {
            "marker": {
             "colorbar": {
              "outlinewidth": 0,
              "ticks": ""
             }
            },
            "type": "scatterternary"
           }
          ],
          "surface": [
           {
            "colorbar": {
             "outlinewidth": 0,
             "ticks": ""
            },
            "colorscale": [
             [
              0,
              "#0d0887"
             ],
             [
              0.1111111111111111,
              "#46039f"
             ],
             [
              0.2222222222222222,
              "#7201a8"
             ],
             [
              0.3333333333333333,
              "#9c179e"
             ],
             [
              0.4444444444444444,
              "#bd3786"
             ],
             [
              0.5555555555555556,
              "#d8576b"
             ],
             [
              0.6666666666666666,
              "#ed7953"
             ],
             [
              0.7777777777777778,
              "#fb9f3a"
             ],
             [
              0.8888888888888888,
              "#fdca26"
             ],
             [
              1,
              "#f0f921"
             ]
            ],
            "type": "surface"
           }
          ],
          "table": [
           {
            "cells": {
             "fill": {
              "color": "#EBF0F8"
             },
             "line": {
              "color": "white"
             }
            },
            "header": {
             "fill": {
              "color": "#C8D4E3"
             },
             "line": {
              "color": "white"
             }
            },
            "type": "table"
           }
          ]
         },
         "layout": {
          "annotationdefaults": {
           "arrowcolor": "#2a3f5f",
           "arrowhead": 0,
           "arrowwidth": 1
          },
          "autotypenumbers": "strict",
          "coloraxis": {
           "colorbar": {
            "outlinewidth": 0,
            "ticks": ""
           }
          },
          "colorscale": {
           "diverging": [
            [
             0,
             "#8e0152"
            ],
            [
             0.1,
             "#c51b7d"
            ],
            [
             0.2,
             "#de77ae"
            ],
            [
             0.3,
             "#f1b6da"
            ],
            [
             0.4,
             "#fde0ef"
            ],
            [
             0.5,
             "#f7f7f7"
            ],
            [
             0.6,
             "#e6f5d0"
            ],
            [
             0.7,
             "#b8e186"
            ],
            [
             0.8,
             "#7fbc41"
            ],
            [
             0.9,
             "#4d9221"
            ],
            [
             1,
             "#276419"
            ]
           ],
           "sequential": [
            [
             0,
             "#0d0887"
            ],
            [
             0.1111111111111111,
             "#46039f"
            ],
            [
             0.2222222222222222,
             "#7201a8"
            ],
            [
             0.3333333333333333,
             "#9c179e"
            ],
            [
             0.4444444444444444,
             "#bd3786"
            ],
            [
             0.5555555555555556,
             "#d8576b"
            ],
            [
             0.6666666666666666,
             "#ed7953"
            ],
            [
             0.7777777777777778,
             "#fb9f3a"
            ],
            [
             0.8888888888888888,
             "#fdca26"
            ],
            [
             1,
             "#f0f921"
            ]
           ],
           "sequentialminus": [
            [
             0,
             "#0d0887"
            ],
            [
             0.1111111111111111,
             "#46039f"
            ],
            [
             0.2222222222222222,
             "#7201a8"
            ],
            [
             0.3333333333333333,
             "#9c179e"
            ],
            [
             0.4444444444444444,
             "#bd3786"
            ],
            [
             0.5555555555555556,
             "#d8576b"
            ],
            [
             0.6666666666666666,
             "#ed7953"
            ],
            [
             0.7777777777777778,
             "#fb9f3a"
            ],
            [
             0.8888888888888888,
             "#fdca26"
            ],
            [
             1,
             "#f0f921"
            ]
           ]
          },
          "colorway": [
           "#636efa",
           "#EF553B",
           "#00cc96",
           "#ab63fa",
           "#FFA15A",
           "#19d3f3",
           "#FF6692",
           "#B6E880",
           "#FF97FF",
           "#FECB52"
          ],
          "font": {
           "color": "#2a3f5f"
          },
          "geo": {
           "bgcolor": "white",
           "lakecolor": "white",
           "landcolor": "#E5ECF6",
           "showlakes": true,
           "showland": true,
           "subunitcolor": "white"
          },
          "hoverlabel": {
           "align": "left"
          },
          "hovermode": "closest",
          "mapbox": {
           "style": "light"
          },
          "paper_bgcolor": "white",
          "plot_bgcolor": "#E5ECF6",
          "polar": {
           "angularaxis": {
            "gridcolor": "white",
            "linecolor": "white",
            "ticks": ""
           },
           "bgcolor": "#E5ECF6",
           "radialaxis": {
            "gridcolor": "white",
            "linecolor": "white",
            "ticks": ""
           }
          },
          "scene": {
           "xaxis": {
            "backgroundcolor": "#E5ECF6",
            "gridcolor": "white",
            "gridwidth": 2,
            "linecolor": "white",
            "showbackground": true,
            "ticks": "",
            "zerolinecolor": "white"
           },
           "yaxis": {
            "backgroundcolor": "#E5ECF6",
            "gridcolor": "white",
            "gridwidth": 2,
            "linecolor": "white",
            "showbackground": true,
            "ticks": "",
            "zerolinecolor": "white"
           },
           "zaxis": {
            "backgroundcolor": "#E5ECF6",
            "gridcolor": "white",
            "gridwidth": 2,
            "linecolor": "white",
            "showbackground": true,
            "ticks": "",
            "zerolinecolor": "white"
           }
          },
          "shapedefaults": {
           "line": {
            "color": "#2a3f5f"
           }
          },
          "ternary": {
           "aaxis": {
            "gridcolor": "white",
            "linecolor": "white",
            "ticks": ""
           },
           "baxis": {
            "gridcolor": "white",
            "linecolor": "white",
            "ticks": ""
           },
           "bgcolor": "#E5ECF6",
           "caxis": {
            "gridcolor": "white",
            "linecolor": "white",
            "ticks": ""
           }
          },
          "title": {
           "x": 0.05
          },
          "xaxis": {
           "automargin": true,
           "gridcolor": "white",
           "linecolor": "white",
           "ticks": "",
           "title": {
            "standoff": 15
           },
           "zerolinecolor": "white",
           "zerolinewidth": 2
          },
          "yaxis": {
           "automargin": true,
           "gridcolor": "white",
           "linecolor": "white",
           "ticks": "",
           "title": {
            "standoff": 15
           },
           "zerolinecolor": "white",
           "zerolinewidth": 2
          }
         }
        },
        "width": 500
       }
      }
     },
     "metadata": {},
     "output_type": "display_data"
    }
   ],
   "source": [
    "# Just run this cell\n",
    "\n",
    "def mSe_linear(theta_0, theta_1, data_linear):\n",
    "    data_x, data_y = data_linear.iloc[:,0], data_linear.iloc[:,1]\n",
    "    return np.mean(np.array([(y - (theta_0+theta_1*x))**2 for x, y in zip(data_x, data_y)]), axis=0)\n",
    "\n",
    "theta_0_values = np.linspace(-20, 20, 80)\n",
    "theta_1_values = np.linspace(-50, 50, 80)\n",
    "mSe_values = [mSe_linear(theta_0, theta_1, data_linear) \\\n",
    "              for theta_0, theta_1 in itertools.product(theta_0_values, theta_1_values)]\n",
    "mSe_values = np.reshape(mSe_values, (len(theta_0_values), len(theta_1_values)), order='F')\n",
    "\n",
    "# Optimal point\n",
    "fig_lin_mae = go.Figure(data=[go.Surface(x=theta_0_values, y=theta_1_values, z=mSe_values,name='z=MSE')])\n",
    "\n",
    "fig_lin_mae.update_layout(\n",
    "    autosize=False,\n",
    "    scene = dict(\n",
    "                    xaxis_title='x=theta_0',\n",
    "                    yaxis_title='y=theta_1',\n",
    "                    zaxis_title='z=MSE'),\n",
    "                    width=500,\n",
    "                    margin=dict(r=20, b=10, l=10, t=10))\n",
    "fig_lin_mae.show()"
   ]
  },
  {
   "cell_type": "markdown",
   "metadata": {},
   "source": [
    "## 🦭 Dugongs Part 2\n",
    "\n",
    "The content in the rest of this notebook will be covered just in slides. \n",
    "\n",
    "The code below exists just so you can reproduce the figures in the slides.\n",
    "\n",
    "### Residual Plot"
   ]
  },
  {
   "cell_type": "code",
   "execution_count": null,
   "metadata": {},
   "outputs": [
    {
     "data": {
      "text/html": [
       "<div>\n",
       "<style scoped>\n",
       "    .dataframe tbody tr th:only-of-type {\n",
       "        vertical-align: middle;\n",
       "    }\n",
       "\n",
       "    .dataframe tbody tr th {\n",
       "        vertical-align: top;\n",
       "    }\n",
       "\n",
       "    .dataframe thead th {\n",
       "        text-align: right;\n",
       "    }\n",
       "</style>\n",
       "<table border=\"1\" class=\"dataframe\">\n",
       "  <thead>\n",
       "    <tr style=\"text-align: right;\">\n",
       "      <th></th>\n",
       "      <th>Length</th>\n",
       "      <th>Age</th>\n",
       "    </tr>\n",
       "  </thead>\n",
       "  <tbody>\n",
       "    <tr>\n",
       "      <th>0</th>\n",
       "      <td>1.77</td>\n",
       "      <td>1.5</td>\n",
       "    </tr>\n",
       "    <tr>\n",
       "      <th>1</th>\n",
       "      <td>1.80</td>\n",
       "      <td>1.0</td>\n",
       "    </tr>\n",
       "    <tr>\n",
       "      <th>2</th>\n",
       "      <td>1.85</td>\n",
       "      <td>1.5</td>\n",
       "    </tr>\n",
       "    <tr>\n",
       "      <th>3</th>\n",
       "      <td>1.87</td>\n",
       "      <td>1.5</td>\n",
       "    </tr>\n",
       "    <tr>\n",
       "      <th>4</th>\n",
       "      <td>2.02</td>\n",
       "      <td>2.5</td>\n",
       "    </tr>\n",
       "  </tbody>\n",
       "</table>\n",
       "</div>"
      ],
      "text/plain": [
       "   Length  Age\n",
       "0    1.77  1.5\n",
       "1    1.80  1.0\n",
       "2    1.85  1.5\n",
       "3    1.87  1.5\n",
       "4    2.02  2.5"
      ]
     },
     "execution_count": 252,
     "metadata": {},
     "output_type": "execute_result"
    }
   ],
   "source": [
    "dugongs = pd.read_csv(\"data/dugongs.csv\")\n",
    "dugongs.head()"
   ]
  },
  {
   "cell_type": "code",
   "execution_count": null,
   "metadata": {},
   "outputs": [],
   "source": [
    "yobs = dugongs[\"Age\"]      # The true observations y\n",
    "xs = dugongs[\"Length\"]     # Needed for linear predictions\n",
    "\n",
    "theta_1_hat = np.corrcoef(xs, yobs)[0, 1] * np.std(yobs) / np.std(xs)\n",
    "theta_0_hat = np.mean(yobs) - theta_1_hat * np.mean(xs)\n",
    "yhats_linear = theta_0_hat + theta_1_hat * xs"
   ]
  },
  {
   "cell_type": "code",
   "execution_count": null,
   "metadata": {},
   "outputs": [
    {
     "data": {
      "text/plain": [
       "0.8296474554905716"
      ]
     },
     "execution_count": 254,
     "metadata": {},
     "output_type": "execute_result"
    }
   ],
   "source": [
    "np.corrcoef(xs, yobs)[0, 1]"
   ]
  },
  {
   "cell_type": "markdown",
   "metadata": {},
   "source": [
    "The correlation coefficient is pretty high...but there's an issue.\n",
    "\n",
    "Let's first plot the Dugong linear fit again. It doesn't look so bad if we see it here."
   ]
  },
  {
   "cell_type": "code",
   "execution_count": null,
   "metadata": {},
   "outputs": [
    {
     "data": {
      "image/png": "[encoded data removed]",
      "text/plain": [
       "<Figure size 432x288 with 1 Axes>"
      ]
     },
     "metadata": {
      "needs_background": "light"
     },
     "output_type": "display_data"
    }
   ],
   "source": [
    "# In case we're in a weird style state\n",
    "sns.set_theme()\n",
    "adjust_fontsize(size=16)\n",
    "%matplotlib inline\n",
    "\n",
    "sns.scatterplot(x=xs, y=yobs)\n",
    "# plt.savefig('dugong_scatter.pdf', bbox_inches = 'tight');\n",
    "plt.show()"
   ]
  },
  {
   "cell_type": "code",
   "execution_count": null,
   "metadata": {},
   "outputs": [
    {
     "data": {
      "image/png": "[encoded data removed]",
      "text/plain": [
       "<Figure size 432x288 with 1 Axes>"
      ]
     },
     "metadata": {
      "needs_background": "light"
     },
     "output_type": "display_data"
    }
   ],
   "source": [
    "sns.scatterplot(x=xs, y=yobs)\n",
    "plt.plot(xs, yhats_linear, color='red', lw=1)\n",
    "# plt.savefig('dugong_line.pdf', bbox_inches = 'tight');\n",
    "plt.show()"
   ]
  },
  {
   "cell_type": "markdown",
   "metadata": {},
   "source": [
    "Let's further inspect by plotting residuals."
   ]
  },
  {
   "cell_type": "code",
   "execution_count": null,
   "metadata": {},
   "outputs": [
    {
     "data": {
      "image/png": "[encoded data removed]",
      "text/plain": [
       "<Figure size 432x288 with 1 Axes>"
      ]
     },
     "metadata": {
      "needs_background": "light"
     },
     "output_type": "display_data"
    }
   ],
   "source": [
    "residuals = yobs - yhats_linear\n",
    "\n",
    "sns.scatterplot(x=xs, y=residuals, color='red', lw=1)\n",
    "plt.axhline(0, color='black')\n",
    "plt.ylabel(r\"$Age - \\widehat{Age}$\")\n",
    "# plt.savefig('dugong_residuals.pdf', bbox_inches = 'tight');\n",
    "plt.show()"
   ]
  },
  {
   "cell_type": "markdown",
   "metadata": {},
   "source": [
    "### Log transformation of y"
   ]
  },
  {
   "cell_type": "markdown",
   "metadata": {},
   "source": [
    "We could fit a line to the linear model that relates $ z = \\log(y)$ to $x$:\n",
    "\n",
    "$$ \n",
    "\\Large\n",
    "\\hat{z} = \\theta_0 + \\theta_1 x\n",
    "$$"
   ]
  },
  {
   "cell_type": "code",
   "execution_count": null,
   "metadata": {},
   "outputs": [],
   "source": [
    "dugongs[\"Log(Age)\"] = np.log(dugongs[\"Age\"])\n",
    "zobs = dugongs[\"Log(Age)\"]      # The LOG of true observations y\n",
    "xs = dugongs[\"Length\"]     # Needed for linear predictions\n",
    "\n",
    "ztheta_1_hat = np.corrcoef(xs, zobs)[0, 1] * np.std(zobs) / np.std(xs)\n",
    "ztheta_0_hat = np.mean(zobs) - ztheta_1_hat * np.mean(xs)\n",
    "zhats_linear = ztheta_0_hat + ztheta_1_hat * xs"
   ]
  },
  {
   "cell_type": "code",
   "execution_count": null,
   "metadata": {},
   "outputs": [
    {
     "data": {
      "image/png": "[encoded data removed]",
      "text/plain": [
       "<Figure size 432x288 with 1 Axes>"
      ]
     },
     "metadata": {
      "needs_background": "light"
     },
     "output_type": "display_data"
    }
   ],
   "source": [
    "sns.scatterplot(x=xs, y=zobs)\n",
    "# plt.savefig('dugong_zscatter.pdf', bbox_inches = 'tight');"
   ]
  },
  {
   "cell_type": "code",
   "execution_count": null,
   "metadata": {},
   "outputs": [
    {
     "data": {
      "image/png": "[encoded data removed]",
      "text/plain": [
       "<Figure size 432x288 with 1 Axes>"
      ]
     },
     "metadata": {
      "needs_background": "light"
     },
     "output_type": "display_data"
    }
   ],
   "source": [
    "sns.scatterplot(x=xs, y=zobs)\n",
    "plt.plot(xs, zhats_linear, color='red', lw=1)\n",
    "# plt.savefig('dugong_zline.pdf', bbox_inches = 'tight');\n",
    "plt.show()"
   ]
  },
  {
   "cell_type": "code",
   "execution_count": null,
   "metadata": {},
   "outputs": [
    {
     "data": {
      "image/png": "[encoded data removed]",
      "text/plain": [
       "<Figure size 432x288 with 1 Axes>"
      ]
     },
     "metadata": {
      "needs_background": "light"
     },
     "output_type": "display_data"
    }
   ],
   "source": [
    "zresiduals = zobs - zhats_linear\n",
    "\n",
    "sns.scatterplot(x=xs, y=zresiduals, color='red', lw=4)\n",
    "plt.axhline(0, color='black')\n",
    "plt.ylabel(r\"$\\log(Age) - \\widehat{\\log(Age)}$\")\n",
    "# plt.savefig('dugong_zresiduals.pdf', bbox_inches = 'tight');\n",
    "plt.show()"
   ]
  },
  {
   "cell_type": "markdown",
   "metadata": {},
   "source": [
    "### Map back to the original coordinates\n",
    "\n",
    "$$ \n",
    "\\begin{align*}\n",
    "\\hat{z} &= \\theta_0 + \\theta_1 x\\\\\n",
    "\\widehat{\\log(y)}&= \\theta_0 + \\theta_1 x\\\\\n",
    "e^{\\widehat{\\log(y)}}&= e^{\\theta_0 + \\theta_1 x}\\\\\n",
    "\\hat{y}&=e^{\\theta_0 + \\theta_1 x}\\\n",
    "\\end{align*}\n",
    "$$"
   ]
  },
  {
   "cell_type": "code",
   "execution_count": null,
   "metadata": {},
   "outputs": [
    {
     "data": {
      "image/png": "[encoded data removed]",
      "text/plain": [
       "<Figure size 432x288 with 1 Axes>"
      ]
     },
     "metadata": {
      "needs_background": "light"
     },
     "output_type": "display_data"
    }
   ],
   "source": [
    "ypred = np.exp(zhats_linear)\n",
    "sns.scatterplot(x=xs, y=yobs)\n",
    "plt.plot(xs, ypred, color='red', lw=1)\n",
    "# plt.savefig('dugong_zcurve.pdf', bbox_inches = 'tight');\n",
    "plt.show()"
   ]
  },
  {
   "cell_type": "markdown",
   "metadata": {},
   "source": [
    "### Squaring transformation of x"
   ]
  },
  {
   "cell_type": "markdown",
   "metadata": {},
   "source": [
    "We could fit a line to the linear model that relates $y$ to $x^2$:\n",
    "\n",
    "$$ \n",
    "\\Large\n",
    "y = \\theta_0 + \\theta_1 x^2\n",
    "$$\n",
    "\n",
    "**Note: This is a bad way to include a quadratic term. To allow extra flexibility in the quadratic fit, we should model this with multiple regression as $y = \\theta_0 + \\theta_1 x + \\theta_2 x^2$.** So, this section is just for exposition. "
   ]
  },
  {
   "cell_type": "code",
   "execution_count": null,
   "metadata": {},
   "outputs": [],
   "source": [
    "dugongs[\"Length^2\"] = dugongs[\"Length\"] ** 2\n",
    "xs = dugongs[\"Length^2\"]   # Needed for linear predictions\n",
    "\n",
    "quad_theta_1_hat = np.corrcoef(xs, yobs)[0, 1] * np.std(yobs) / np.std(xs)\n",
    "quad_theta_0_hat = np.mean(yobs) - quad_theta_1_hat * np.mean(xs)\n",
    "yhats_quad = quad_theta_0_hat + quad_theta_1_hat * xs"
   ]
  },
  {
   "cell_type": "code",
   "execution_count": null,
   "metadata": {},
   "outputs": [
    {
     "data": {
      "image/png": "[encoded data removed]",
      "text/plain": [
       "<Figure size 432x288 with 1 Axes>"
      ]
     },
     "metadata": {
      "needs_background": "light"
     },
     "output_type": "display_data"
    }
   ],
   "source": [
    "sns.scatterplot(x=xs, y=yobs)\n",
    "plt.xlabel(r\"$Length^2$\")\n",
    "# plt.savefig('dugong_quad_scatter.pdf', bbox_inches = 'tight');"
   ]
  },
  {
   "cell_type": "code",
   "execution_count": null,
   "metadata": {},
   "outputs": [
    {
     "data": {
      "image/png": "[encoded data removed]",
      "text/plain": [
       "<Figure size 432x288 with 1 Axes>"
      ]
     },
     "metadata": {
      "needs_background": "light"
     },
     "output_type": "display_data"
    }
   ],
   "source": [
    "sns.scatterplot(x=xs, y=yobs)\n",
    "\n",
    "# Need more granularity or plotted line looks curved\n",
    "xrange = np.linspace(xs.min(), xs.max(), 1000)\n",
    "quad_preds_range = quad_theta_0_hat + quad_theta_1_hat * xrange\n",
    "plt.plot(xrange, quad_preds_range, color='red', lw=1)\n",
    "\n",
    "plt.xlabel(r\"$Length^2$\")\n",
    "# plt.savefig('dugong_quad_line.pdf', bbox_inches = 'tight');\n",
    "plt.show()"
   ]
  },
  {
   "cell_type": "code",
   "execution_count": null,
   "metadata": {},
   "outputs": [
    {
     "data": {
      "image/png": "[encoded data removed]",
      "text/plain": [
       "<Figure size 432x288 with 1 Axes>"
      ]
     },
     "metadata": {
      "needs_background": "light"
     },
     "output_type": "display_data"
    }
   ],
   "source": [
    "quad_residuals = yobs - quad_hats_linear\n",
    "\n",
    "sns.scatterplot(x=xs, y=quad_residuals, color='red', lw=4)\n",
    "plt.axhline(0, color='black')\n",
    "plt.ylabel(r\"$Age - \\widehat{Age}$\")\n",
    "plt.xlabel(r\"$Length^2$\")\n",
    "# plt.savefig('dugong_quad_residuals.pdf', bbox_inches = 'tight');\n",
    "plt.show()"
   ]
  },
  {
   "cell_type": "code",
   "execution_count": null,
   "metadata": {},
   "outputs": [
    {
     "data": {
      "image/png": "[encoded data removed]",
      "text/plain": [
       "<Figure size 432x288 with 1 Axes>"
      ]
     },
     "metadata": {
      "needs_background": "light"
     },
     "output_type": "display_data"
    }
   ],
   "source": [
    "xs = dugongs[\"Length\"]  \n",
    "sns.scatterplot(x=xs, y=yobs)\n",
    "plt.plot(xs, yhats_quad, color='red', lw=1)\n",
    "# plt.savefig('dugong_quad_curve.pdf', bbox_inches = 'tight');\n",
    "plt.show()"
   ]
  }
 ],
 "metadata": {
  "kernelspec": {
   "display_name": "Python 3",
   "language": "python",
   "name": "python3"
  },
  "language_info": {
   "codemirror_mode": {
    "name": "ipython",
    "version": 3
   },
   "file_extension": ".py",
   "mimetype": "text/x-python",
   "name": "python",
   "nbconvert_exporter": "python",
   "pygments_lexer": "ipython3",
   "version": "3.8.9"
  }
 },
 "nbformat": 4,
 "nbformat_minor": 4
}
