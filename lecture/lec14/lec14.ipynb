{
 "cells": [
  {
   "cell_type": "markdown",
   "id": "fc255dd2-0ee4-4308-b2cc-173178ea709c",
   "metadata": {},
   "source": [
    "# 🔥 Lecture 14 – Data 100, Spring 2025\n",
    "\n",
    "Data 100, Spring 2025\n",
    "\n",
    "[Acknowledgments Page](https://ds100.org/sp25/acks/)"
   ]
  },
  {
   "cell_type": "code",
   "execution_count": 1,
   "id": "9132fc95",
   "metadata": {},
   "outputs": [],
   "source": [
    "import pandas as pd\n",
    "import numpy as np\n",
    "import seaborn as sns\n",
    "import matplotlib.pyplot as plt\n",
    "import warnings\n",
    "import plotly.express as px\n",
    "import plotly.graph_objects as go\n",
    "pd.options.mode.chained_assignment = None \n",
    "warnings.simplefilter(action='ignore', category=UserWarning)\n",
    "np.random.seed(42)\n",
    "pd.options.display.precision = 2"
   ]
  },
  {
   "cell_type": "markdown",
   "id": "81168b67-b5ff-4005-8c06-608e07f2c7b2",
   "metadata": {},
   "source": [
    "## Feature Engineering\n",
    "\n",
    "Feature engineering is the process of applying **feature functions** to generate new features for use in modeling. In this lecture, we will discuss:\n",
    "* One-hot encoding\n",
    "* Polynomial features\n",
    "\n",
    "To do so, we'll work with our familiar `tips` dataset."
   ]
  },
  {
   "cell_type": "code",
   "execution_count": 2,
   "id": "81a66496",
   "metadata": {},
   "outputs": [
    {
     "data": {
      "text/html": [
       "<div>\n",
       "<style scoped>\n",
       "    .dataframe tbody tr th:only-of-type {\n",
       "        vertical-align: middle;\n",
       "    }\n",
       "\n",
       "    .dataframe tbody tr th {\n",
       "        vertical-align: top;\n",
       "    }\n",
       "\n",
       "    .dataframe thead th {\n",
       "        text-align: right;\n",
       "    }\n",
       "</style>\n",
       "<table border=\"1\" class=\"dataframe\">\n",
       "  <thead>\n",
       "    <tr style=\"text-align: right;\">\n",
       "      <th></th>\n",
       "      <th>total_bill</th>\n",
       "      <th>tip</th>\n",
       "      <th>sex</th>\n",
       "      <th>smoker</th>\n",
       "      <th>day</th>\n",
       "      <th>time</th>\n",
       "      <th>size</th>\n",
       "    </tr>\n",
       "  </thead>\n",
       "  <tbody>\n",
       "    <tr>\n",
       "      <th>0</th>\n",
       "      <td>16.99</td>\n",
       "      <td>1.01</td>\n",
       "      <td>Female</td>\n",
       "      <td>No</td>\n",
       "      <td>Sun</td>\n",
       "      <td>Dinner</td>\n",
       "      <td>2</td>\n",
       "    </tr>\n",
       "    <tr>\n",
       "      <th>1</th>\n",
       "      <td>10.34</td>\n",
       "      <td>1.66</td>\n",
       "      <td>Male</td>\n",
       "      <td>No</td>\n",
       "      <td>Sun</td>\n",
       "      <td>Dinner</td>\n",
       "      <td>3</td>\n",
       "    </tr>\n",
       "    <tr>\n",
       "      <th>2</th>\n",
       "      <td>21.01</td>\n",
       "      <td>3.50</td>\n",
       "      <td>Male</td>\n",
       "      <td>No</td>\n",
       "      <td>Sun</td>\n",
       "      <td>Dinner</td>\n",
       "      <td>3</td>\n",
       "    </tr>\n",
       "    <tr>\n",
       "      <th>3</th>\n",
       "      <td>23.68</td>\n",
       "      <td>3.31</td>\n",
       "      <td>Male</td>\n",
       "      <td>No</td>\n",
       "      <td>Sun</td>\n",
       "      <td>Dinner</td>\n",
       "      <td>2</td>\n",
       "    </tr>\n",
       "    <tr>\n",
       "      <th>4</th>\n",
       "      <td>24.59</td>\n",
       "      <td>3.61</td>\n",
       "      <td>Female</td>\n",
       "      <td>No</td>\n",
       "      <td>Sun</td>\n",
       "      <td>Dinner</td>\n",
       "      <td>4</td>\n",
       "    </tr>\n",
       "  </tbody>\n",
       "</table>\n",
       "</div>"
      ],
      "text/plain": [
       "   total_bill   tip     sex smoker  day    time  size\n",
       "0       16.99  1.01  Female     No  Sun  Dinner     2\n",
       "1       10.34  1.66    Male     No  Sun  Dinner     3\n",
       "2       21.01  3.50    Male     No  Sun  Dinner     3\n",
       "3       23.68  3.31    Male     No  Sun  Dinner     2\n",
       "4       24.59  3.61  Female     No  Sun  Dinner     4"
      ]
     },
     "execution_count": 2,
     "metadata": {},
     "output_type": "execute_result"
    }
   ],
   "source": [
    "tips = sns.load_dataset(\"tips\")\n",
    "tips.head()"
   ]
  },
  {
   "cell_type": "markdown",
   "id": "b4fefbb1-3125-42f5-ab5d-4dfd0c36e961",
   "metadata": {},
   "source": [
    "### One-Hot Encoding\n",
    "\n",
    "One-hot encoding is a feature engineering technique to generate numeric feature from categorical data. For example, we can use one-hot encoding to incorporate the day of the week as an input into a regression model.\n",
    "\n",
    "![](ohe.png)\n",
    "\n",
    "Suppose we want to use a design matrix of three features – the `total_bill`, `size`, and `day` – to predict the tip. "
   ]
  },
  {
   "cell_type": "code",
   "execution_count": 3,
   "id": "ef6f49ed",
   "metadata": {},
   "outputs": [],
   "source": [
    "X_raw = tips[[\"total_bill\", \"size\", \"day\"]]\n",
    "y = tips[\"tip\"]"
   ]
  },
  {
   "cell_type": "markdown",
   "id": "91d683b1-a7cf-45ed-bf65-1b4ebb66da50",
   "metadata": {},
   "source": [
    "Because `day` is non-numeric, we will apply one-hot encoding before fitting a model.\n",
    "\n",
    "The `OneHotEncoder` class of `sklearn` ([documentation](https://scikit-learn.org/stable/modules/generated/sklearn.preprocessing.OneHotEncoder.html#sklearn.preprocessing.OneHotEncoder.get_feature_names_out)) offers a quick way to perform one-hot encoding. You will explore its use in detail in Lab 7. \n",
    "\n",
    "For now, recognize that we follow a very similar workflow to when we were working with the `LinearRegression` class: \n",
    "\n",
    "1. We initialize a `OneHotEncoder` object.\n",
    "\n",
    "2. We fit the object to our data.\n",
    "\n",
    "3. We use `.transform` to apply the fitted encoder and generate the one-hot encoded columns."
   ]
  },
  {
   "cell_type": "code",
   "execution_count": 4,
   "id": "fc958780-bfb8-45c7-a33a-27a9b6d276d2",
   "metadata": {},
   "outputs": [
    {
     "data": {
      "text/html": [
       "<style>#sk-container-id-1 {color: black;background-color: white;}#sk-container-id-1 pre{padding: 0;}#sk-container-id-1 div.sk-toggleable {background-color: white;}#sk-container-id-1 label.sk-toggleable__label {cursor: pointer;display: block;width: 100%;margin-bottom: 0;padding: 0.3em;box-sizing: border-box;text-align: center;}#sk-container-id-1 label.sk-toggleable__label-arrow:before {content: \"▸\";float: left;margin-right: 0.25em;color: #696969;}#sk-container-id-1 label.sk-toggleable__label-arrow:hover:before {color: black;}#sk-container-id-1 div.sk-estimator:hover label.sk-toggleable__label-arrow:before {color: black;}#sk-container-id-1 div.sk-toggleable__content {max-height: 0;max-width: 0;overflow: hidden;text-align: left;background-color: #f0f8ff;}#sk-container-id-1 div.sk-toggleable__content pre {margin: 0.2em;color: black;border-radius: 0.25em;background-color: #f0f8ff;}#sk-container-id-1 input.sk-toggleable__control:checked~div.sk-toggleable__content {max-height: 200px;max-width: 100%;overflow: auto;}#sk-container-id-1 input.sk-toggleable__control:checked~label.sk-toggleable__label-arrow:before {content: \"▾\";}#sk-container-id-1 div.sk-estimator input.sk-toggleable__control:checked~label.sk-toggleable__label {background-color: #d4ebff;}#sk-container-id-1 div.sk-label input.sk-toggleable__control:checked~label.sk-toggleable__label {background-color: #d4ebff;}#sk-container-id-1 input.sk-hidden--visually {border: 0;clip: rect(1px 1px 1px 1px);clip: rect(1px, 1px, 1px, 1px);height: 1px;margin: -1px;overflow: hidden;padding: 0;position: absolute;width: 1px;}#sk-container-id-1 div.sk-estimator {font-family: monospace;background-color: #f0f8ff;border: 1px dotted black;border-radius: 0.25em;box-sizing: border-box;margin-bottom: 0.5em;}#sk-container-id-1 div.sk-estimator:hover {background-color: #d4ebff;}#sk-container-id-1 div.sk-parallel-item::after {content: \"\";width: 100%;border-bottom: 1px solid gray;flex-grow: 1;}#sk-container-id-1 div.sk-label:hover label.sk-toggleable__label {background-color: #d4ebff;}#sk-container-id-1 div.sk-serial::before {content: \"\";position: absolute;border-left: 1px solid gray;box-sizing: border-box;top: 0;bottom: 0;left: 50%;z-index: 0;}#sk-container-id-1 div.sk-serial {display: flex;flex-direction: column;align-items: center;background-color: white;padding-right: 0.2em;padding-left: 0.2em;position: relative;}#sk-container-id-1 div.sk-item {position: relative;z-index: 1;}#sk-container-id-1 div.sk-parallel {display: flex;align-items: stretch;justify-content: center;background-color: white;position: relative;}#sk-container-id-1 div.sk-item::before, #sk-container-id-1 div.sk-parallel-item::before {content: \"\";position: absolute;border-left: 1px solid gray;box-sizing: border-box;top: 0;bottom: 0;left: 50%;z-index: -1;}#sk-container-id-1 div.sk-parallel-item {display: flex;flex-direction: column;z-index: 1;position: relative;background-color: white;}#sk-container-id-1 div.sk-parallel-item:first-child::after {align-self: flex-end;width: 50%;}#sk-container-id-1 div.sk-parallel-item:last-child::after {align-self: flex-start;width: 50%;}#sk-container-id-1 div.sk-parallel-item:only-child::after {width: 0;}#sk-container-id-1 div.sk-dashed-wrapped {border: 1px dashed gray;margin: 0 0.4em 0.5em 0.4em;box-sizing: border-box;padding-bottom: 0.4em;background-color: white;}#sk-container-id-1 div.sk-label label {font-family: monospace;font-weight: bold;display: inline-block;line-height: 1.2em;}#sk-container-id-1 div.sk-label-container {text-align: center;}#sk-container-id-1 div.sk-container {/* jupyter's `normalize.less` sets `[hidden] { display: none; }` but bootstrap.min.css set `[hidden] { display: none !important; }` so we also need the `!important` here to be able to override the default hidden behavior on the sphinx rendered scikit-learn.org. See: https://github.com/scikit-learn/scikit-learn/issues/21755 */display: inline-block !important;position: relative;}#sk-container-id-1 div.sk-text-repr-fallback {display: none;}</style><div id=\"sk-container-id-1\" class=\"sk-top-container\"><div class=\"sk-text-repr-fallback\"><pre>OneHotEncoder()</pre><b>In a Jupyter environment, please rerun this cell to show the HTML representation or trust the notebook. <br />On GitHub, the HTML representation is unable to render, please try loading this page with nbviewer.org.</b></div><div class=\"sk-container\" hidden><div class=\"sk-item\"><div class=\"sk-estimator sk-toggleable\"><input class=\"sk-toggleable__control sk-hidden--visually\" id=\"sk-estimator-id-1\" type=\"checkbox\" checked><label for=\"sk-estimator-id-1\" class=\"sk-toggleable__label sk-toggleable__label-arrow\">OneHotEncoder</label><div class=\"sk-toggleable__content\"><pre>OneHotEncoder()</pre></div></div></div></div></div>"
      ],
      "text/plain": [
       "OneHotEncoder()"
      ]
     },
     "execution_count": 4,
     "metadata": {},
     "output_type": "execute_result"
    }
   ],
   "source": [
    "from sklearn.preprocessing import OneHotEncoder\n",
    "\n",
    "# 1. Initialize a OneHotEncoder object\n",
    "ohe = OneHotEncoder()\n",
    "\n",
    "# 2. Fit the encoder\n",
    "ohe.fit(tips[[\"day\"]])\n",
    "ohe"
   ]
  },
  {
   "cell_type": "code",
   "execution_count": 5,
   "id": "1afa6ed4",
   "metadata": {},
   "outputs": [
    {
     "data": {
      "text/plain": [
       "array(['day_Fri', 'day_Sat', 'day_Sun', 'day_Thur'], dtype=object)"
      ]
     },
     "execution_count": 5,
     "metadata": {},
     "output_type": "execute_result"
    }
   ],
   "source": [
    "# .get_feature_names_out() method returns the names of the unique values\n",
    "# the encoder was trained on. Notice how the names are constructed:\n",
    "# {name of column}_{unique value in the column}\n",
    "ohe.get_feature_names_out()"
   ]
  },
  {
   "cell_type": "code",
   "execution_count": 6,
   "id": "8ee7017f",
   "metadata": {},
   "outputs": [
    {
     "data": {
      "text/plain": [
       "<3x4 sparse matrix of type '<class 'numpy.float64'>'\n",
       "\twith 3 stored elements in Compressed Sparse Row format>"
      ]
     },
     "execution_count": 6,
     "metadata": {},
     "output_type": "execute_result"
    }
   ],
   "source": [
    "# .transform() converts a list of sub-lists into a one-hot encoded array.\n",
    "# Each sub-list represents the features of an observation. \n",
    "# Notice we get back a sparse matrix, a special kind of matrix with many zeros.\n",
    "ohe.transform([['Sat'], ['Sat'], ['Fri']])"
   ]
  },
  {
   "cell_type": "code",
   "execution_count": 7,
   "id": "695a9319",
   "metadata": {},
   "outputs": [
    {
     "data": {
      "text/plain": [
       "array([[0., 1., 0., 0.],\n",
       "       [0., 1., 0., 0.],\n",
       "       [1., 0., 0., 0.]])"
      ]
     },
     "execution_count": 7,
     "metadata": {},
     "output_type": "execute_result"
    }
   ],
   "source": [
    "# .toarray() is needed to convert the sparse matrix to a dense matrix.\n",
    "ohe.transform([['Sat'], ['Sat'], ['Fri']]).toarray()"
   ]
  },
  {
   "cell_type": "code",
   "execution_count": 8,
   "id": "a9312b8c-0932-40bf-a6f6-30c20bbb4d13",
   "metadata": {},
   "outputs": [],
   "source": [
    "# This gives an error! The encoder has never seen 'Funday' before.\n",
    "# ohe.transform([['Funday']])"
   ]
  },
  {
   "cell_type": "code",
   "execution_count": 9,
   "id": "c95ef887-74a1-4378-8ba4-e21ec9ff2679",
   "metadata": {},
   "outputs": [
    {
     "name": "stdout",
     "output_type": "stream",
     "text": [
      "The first 5 rows of the one-hot encoded matrix:\n"
     ]
    },
    {
     "data": {
      "text/plain": [
       "array([[0., 0., 1., 0.],\n",
       "       [0., 0., 1., 0.],\n",
       "       [0., 0., 1., 0.],\n",
       "       [0., 0., 1., 0.],\n",
       "       [0., 0., 1., 0.]])"
      ]
     },
     "execution_count": 9,
     "metadata": {},
     "output_type": "execute_result"
    }
   ],
   "source": [
    "# 3. Use the encoder to transform the raw \"day\" feature \n",
    "encoded_day = ohe.transform(tips[[\"day\"]]).toarray()\n",
    "\n",
    "print(\"The first 5 rows of the one-hot encoded matrix:\")\n",
    "encoded_day[:5, :]"
   ]
  },
  {
   "cell_type": "code",
   "execution_count": 10,
   "id": "3ac743f7-8117-4011-b36b-939aa7dad9e0",
   "metadata": {},
   "outputs": [
    {
     "data": {
      "text/html": [
       "<div>\n",
       "<style scoped>\n",
       "    .dataframe tbody tr th:only-of-type {\n",
       "        vertical-align: middle;\n",
       "    }\n",
       "\n",
       "    .dataframe tbody tr th {\n",
       "        vertical-align: top;\n",
       "    }\n",
       "\n",
       "    .dataframe thead th {\n",
       "        text-align: right;\n",
       "    }\n",
       "</style>\n",
       "<table border=\"1\" class=\"dataframe\">\n",
       "  <thead>\n",
       "    <tr style=\"text-align: right;\">\n",
       "      <th></th>\n",
       "      <th>day_Fri</th>\n",
       "      <th>day_Sat</th>\n",
       "      <th>day_Sun</th>\n",
       "      <th>day_Thur</th>\n",
       "    </tr>\n",
       "  </thead>\n",
       "  <tbody>\n",
       "    <tr>\n",
       "      <th>0</th>\n",
       "      <td>0.0</td>\n",
       "      <td>0.0</td>\n",
       "      <td>1.0</td>\n",
       "      <td>0.0</td>\n",
       "    </tr>\n",
       "    <tr>\n",
       "      <th>1</th>\n",
       "      <td>0.0</td>\n",
       "      <td>0.0</td>\n",
       "      <td>1.0</td>\n",
       "      <td>0.0</td>\n",
       "    </tr>\n",
       "    <tr>\n",
       "      <th>2</th>\n",
       "      <td>0.0</td>\n",
       "      <td>0.0</td>\n",
       "      <td>1.0</td>\n",
       "      <td>0.0</td>\n",
       "    </tr>\n",
       "    <tr>\n",
       "      <th>3</th>\n",
       "      <td>0.0</td>\n",
       "      <td>0.0</td>\n",
       "      <td>1.0</td>\n",
       "      <td>0.0</td>\n",
       "    </tr>\n",
       "    <tr>\n",
       "      <th>4</th>\n",
       "      <td>0.0</td>\n",
       "      <td>0.0</td>\n",
       "      <td>1.0</td>\n",
       "      <td>0.0</td>\n",
       "    </tr>\n",
       "  </tbody>\n",
       "</table>\n",
       "</div>"
      ],
      "text/plain": [
       "   day_Fri  day_Sat  day_Sun  day_Thur\n",
       "0      0.0      0.0      1.0       0.0\n",
       "1      0.0      0.0      1.0       0.0\n",
       "2      0.0      0.0      1.0       0.0\n",
       "3      0.0      0.0      1.0       0.0\n",
       "4      0.0      0.0      1.0       0.0"
      ]
     },
     "execution_count": 10,
     "metadata": {},
     "output_type": "execute_result"
    }
   ],
   "source": [
    "# Convert the matrix into a one-hot encoded dataframe\n",
    "encoded_day_df = pd.DataFrame(encoded_day, columns=ohe.get_feature_names_out())\n",
    "encoded_day_df.head()"
   ]
  },
  {
   "cell_type": "markdown",
   "id": "68105ccb-6f42-4b38-9b76-6752b7c7df72",
   "metadata": {},
   "source": [
    "The `OneHotEncoder` has converted the categorical `day` feature into four numeric features! Recall that the `tips` dataset only included data for Thursday through Sunday, which is why only four days of the week appear. \n",
    "\n",
    "Let's join this one-hot encoding to the original data to form our featurized design matrix. We drop the original `day` column so our design matrix only includes numeric values."
   ]
  },
  {
   "cell_type": "code",
   "execution_count": 11,
   "id": "ea867e6b-742a-4627-95a2-f0f80d1a0dc2",
   "metadata": {},
   "outputs": [
    {
     "data": {
      "text/html": [
       "<div>\n",
       "<style scoped>\n",
       "    .dataframe tbody tr th:only-of-type {\n",
       "        vertical-align: middle;\n",
       "    }\n",
       "\n",
       "    .dataframe tbody tr th {\n",
       "        vertical-align: top;\n",
       "    }\n",
       "\n",
       "    .dataframe thead th {\n",
       "        text-align: right;\n",
       "    }\n",
       "</style>\n",
       "<table border=\"1\" class=\"dataframe\">\n",
       "  <thead>\n",
       "    <tr style=\"text-align: right;\">\n",
       "      <th></th>\n",
       "      <th>total_bill</th>\n",
       "      <th>size</th>\n",
       "      <th>day_Fri</th>\n",
       "      <th>day_Sat</th>\n",
       "      <th>day_Sun</th>\n",
       "      <th>day_Thur</th>\n",
       "    </tr>\n",
       "  </thead>\n",
       "  <tbody>\n",
       "    <tr>\n",
       "      <th>0</th>\n",
       "      <td>16.99</td>\n",
       "      <td>2</td>\n",
       "      <td>0.0</td>\n",
       "      <td>0.0</td>\n",
       "      <td>1.0</td>\n",
       "      <td>0.0</td>\n",
       "    </tr>\n",
       "    <tr>\n",
       "      <th>1</th>\n",
       "      <td>10.34</td>\n",
       "      <td>3</td>\n",
       "      <td>0.0</td>\n",
       "      <td>0.0</td>\n",
       "      <td>1.0</td>\n",
       "      <td>0.0</td>\n",
       "    </tr>\n",
       "    <tr>\n",
       "      <th>2</th>\n",
       "      <td>21.01</td>\n",
       "      <td>3</td>\n",
       "      <td>0.0</td>\n",
       "      <td>0.0</td>\n",
       "      <td>1.0</td>\n",
       "      <td>0.0</td>\n",
       "    </tr>\n",
       "    <tr>\n",
       "      <th>3</th>\n",
       "      <td>23.68</td>\n",
       "      <td>2</td>\n",
       "      <td>0.0</td>\n",
       "      <td>0.0</td>\n",
       "      <td>1.0</td>\n",
       "      <td>0.0</td>\n",
       "    </tr>\n",
       "    <tr>\n",
       "      <th>4</th>\n",
       "      <td>24.59</td>\n",
       "      <td>4</td>\n",
       "      <td>0.0</td>\n",
       "      <td>0.0</td>\n",
       "      <td>1.0</td>\n",
       "      <td>0.0</td>\n",
       "    </tr>\n",
       "  </tbody>\n",
       "</table>\n",
       "</div>"
      ],
      "text/plain": [
       "   total_bill  size  day_Fri  day_Sat  day_Sun  day_Thur\n",
       "0       16.99     2      0.0      0.0      1.0       0.0\n",
       "1       10.34     3      0.0      0.0      1.0       0.0\n",
       "2       21.01     3      0.0      0.0      1.0       0.0\n",
       "3       23.68     2      0.0      0.0      1.0       0.0\n",
       "4       24.59     4      0.0      0.0      1.0       0.0"
      ]
     },
     "execution_count": 11,
     "metadata": {},
     "output_type": "execute_result"
    }
   ],
   "source": [
    "# Join the one-hot encoded features to the original data, and drop\n",
    "# the original categorical column.\n",
    "X = X_raw.join(encoded_day_df).drop(columns=\"day\")\n",
    "\n",
    "X.head()"
   ]
  },
  {
   "cell_type": "markdown",
   "id": "8f6dc523-b40c-45f7-8bf4-c74bd4e6f375",
   "metadata": {},
   "source": [
    "Now, we can use `sklearn`'s `LinearRegression` class to fit a model to this design matrix."
   ]
  },
  {
   "cell_type": "code",
   "execution_count": 12,
   "id": "ee8bcc7e-642b-4cf7-bb7b-5d74adc24f47",
   "metadata": {},
   "outputs": [
    {
     "data": {
      "text/html": [
       "<div>\n",
       "<style scoped>\n",
       "    .dataframe tbody tr th:only-of-type {\n",
       "        vertical-align: middle;\n",
       "    }\n",
       "\n",
       "    .dataframe tbody tr th {\n",
       "        vertical-align: top;\n",
       "    }\n",
       "\n",
       "    .dataframe thead th {\n",
       "        text-align: right;\n",
       "    }\n",
       "</style>\n",
       "<table border=\"1\" class=\"dataframe\">\n",
       "  <thead>\n",
       "    <tr style=\"text-align: right;\">\n",
       "      <th></th>\n",
       "      <th>Model Coefficient</th>\n",
       "    </tr>\n",
       "    <tr>\n",
       "      <th>Feature</th>\n",
       "      <th></th>\n",
       "    </tr>\n",
       "  </thead>\n",
       "  <tbody>\n",
       "    <tr>\n",
       "      <th>total_bill</th>\n",
       "      <td>0.09</td>\n",
       "    </tr>\n",
       "    <tr>\n",
       "      <th>size</th>\n",
       "      <td>0.19</td>\n",
       "    </tr>\n",
       "    <tr>\n",
       "      <th>day_Fri</th>\n",
       "      <td>0.75</td>\n",
       "    </tr>\n",
       "    <tr>\n",
       "      <th>day_Sat</th>\n",
       "      <td>0.62</td>\n",
       "    </tr>\n",
       "    <tr>\n",
       "      <th>day_Sun</th>\n",
       "      <td>0.73</td>\n",
       "    </tr>\n",
       "    <tr>\n",
       "      <th>day_Thur</th>\n",
       "      <td>0.67</td>\n",
       "    </tr>\n",
       "  </tbody>\n",
       "</table>\n",
       "</div>"
      ],
      "text/plain": [
       "            Model Coefficient\n",
       "Feature                      \n",
       "total_bill               0.09\n",
       "size                     0.19\n",
       "day_Fri                  0.75\n",
       "day_Sat                  0.62\n",
       "day_Sun                  0.73\n",
       "day_Thur                 0.67"
      ]
     },
     "execution_count": 12,
     "metadata": {},
     "output_type": "execute_result"
    }
   ],
   "source": [
    "from sklearn.linear_model import LinearRegression\n",
    "\n",
    "# For now, we tell sklearn to not add an additional bias column. \n",
    "# Otherwise, the bias column and one-hot encoded columns will be \n",
    "# linearly dependent, and XTX will not be invertible.\n",
    "ohe_model = LinearRegression(fit_intercept=False) \n",
    "\n",
    "ohe_model.fit(X, y)\n",
    "\n",
    "pd.DataFrame({\n",
    "  \"Feature\": X.columns, \n",
    "  \"Model Coefficient\": ohe_model.coef_\n",
    "}).set_index(\"Feature\")"
   ]
  },
  {
   "cell_type": "code",
   "execution_count": 13,
   "id": "f56fedde",
   "metadata": {},
   "outputs": [
    {
     "data": {
      "text/plain": [
       "0.0"
      ]
     },
     "execution_count": 13,
     "metadata": {},
     "output_type": "execute_result"
    }
   ],
   "source": [
    "# Notice the intercept is set to 0, so it does not affect the model.\n",
    "# This is because we set fit_intercept=False.\n",
    "ohe_model.intercept_"
   ]
  },
  {
   "cell_type": "code",
   "execution_count": 14,
   "id": "ae4824ea",
   "metadata": {},
   "outputs": [
    {
     "data": {
      "text/html": [
       "<div>\n",
       "<style scoped>\n",
       "    .dataframe tbody tr th:only-of-type {\n",
       "        vertical-align: middle;\n",
       "    }\n",
       "\n",
       "    .dataframe tbody tr th {\n",
       "        vertical-align: top;\n",
       "    }\n",
       "\n",
       "    .dataframe thead th {\n",
       "        text-align: right;\n",
       "    }\n",
       "</style>\n",
       "<table border=\"1\" class=\"dataframe\">\n",
       "  <thead>\n",
       "    <tr style=\"text-align: right;\">\n",
       "      <th></th>\n",
       "      <th>total_bill</th>\n",
       "      <th>size</th>\n",
       "      <th>day_Sat</th>\n",
       "      <th>day_Sun</th>\n",
       "      <th>day_Thur</th>\n",
       "    </tr>\n",
       "  </thead>\n",
       "  <tbody>\n",
       "    <tr>\n",
       "      <th>0</th>\n",
       "      <td>16.99</td>\n",
       "      <td>2</td>\n",
       "      <td>0.0</td>\n",
       "      <td>1.0</td>\n",
       "      <td>0.0</td>\n",
       "    </tr>\n",
       "    <tr>\n",
       "      <th>1</th>\n",
       "      <td>10.34</td>\n",
       "      <td>3</td>\n",
       "      <td>0.0</td>\n",
       "      <td>1.0</td>\n",
       "      <td>0.0</td>\n",
       "    </tr>\n",
       "    <tr>\n",
       "      <th>2</th>\n",
       "      <td>21.01</td>\n",
       "      <td>3</td>\n",
       "      <td>0.0</td>\n",
       "      <td>1.0</td>\n",
       "      <td>0.0</td>\n",
       "    </tr>\n",
       "    <tr>\n",
       "      <th>3</th>\n",
       "      <td>23.68</td>\n",
       "      <td>2</td>\n",
       "      <td>0.0</td>\n",
       "      <td>1.0</td>\n",
       "      <td>0.0</td>\n",
       "    </tr>\n",
       "    <tr>\n",
       "      <th>4</th>\n",
       "      <td>24.59</td>\n",
       "      <td>4</td>\n",
       "      <td>0.0</td>\n",
       "      <td>1.0</td>\n",
       "      <td>0.0</td>\n",
       "    </tr>\n",
       "  </tbody>\n",
       "</table>\n",
       "</div>"
      ],
      "text/plain": [
       "   total_bill  size  day_Sat  day_Sun  day_Thur\n",
       "0       16.99     2      0.0      1.0       0.0\n",
       "1       10.34     3      0.0      1.0       0.0\n",
       "2       21.01     3      0.0      1.0       0.0\n",
       "3       23.68     2      0.0      1.0       0.0\n",
       "4       24.59     4      0.0      1.0       0.0"
      ]
     },
     "metadata": {},
     "output_type": "display_data"
    }
   ],
   "source": [
    "# This time, let's see what happens when we include an intercept. \n",
    "ohe_model2 = LinearRegression(fit_intercept=True) \n",
    "\n",
    "# This code does the same as above.\n",
    "# Including an intercept is the LinearRegression default.\n",
    "# ohe_model2 = LinearRegression() \n",
    "\n",
    "# Remove the \"day_Fri\" column as the reference level, so that our one-hot \n",
    "# encoded columns are not linearly dependent.\n",
    "new_X = X.drop('day_Fri', axis=1)\n",
    "\n",
    "display(new_X.head())"
   ]
  },
  {
   "cell_type": "code",
   "execution_count": 15,
   "id": "25f157e8",
   "metadata": {},
   "outputs": [
    {
     "data": {
      "text/html": [
       "<div>\n",
       "<style scoped>\n",
       "    .dataframe tbody tr th:only-of-type {\n",
       "        vertical-align: middle;\n",
       "    }\n",
       "\n",
       "    .dataframe tbody tr th {\n",
       "        vertical-align: top;\n",
       "    }\n",
       "\n",
       "    .dataframe thead th {\n",
       "        text-align: right;\n",
       "    }\n",
       "</style>\n",
       "<table border=\"1\" class=\"dataframe\">\n",
       "  <thead>\n",
       "    <tr style=\"text-align: right;\">\n",
       "      <th></th>\n",
       "      <th>Model Coefficient</th>\n",
       "    </tr>\n",
       "    <tr>\n",
       "      <th>Feature</th>\n",
       "      <th></th>\n",
       "    </tr>\n",
       "  </thead>\n",
       "  <tbody>\n",
       "    <tr>\n",
       "      <th>Intercept</th>\n",
       "      <td>0.75</td>\n",
       "    </tr>\n",
       "    <tr>\n",
       "      <th>total_bill</th>\n",
       "      <td>0.09</td>\n",
       "    </tr>\n",
       "    <tr>\n",
       "      <th>size</th>\n",
       "      <td>0.19</td>\n",
       "    </tr>\n",
       "    <tr>\n",
       "      <th>day_Sat</th>\n",
       "      <td>-0.12</td>\n",
       "    </tr>\n",
       "    <tr>\n",
       "      <th>day_Sun</th>\n",
       "      <td>-0.01</td>\n",
       "    </tr>\n",
       "    <tr>\n",
       "      <th>day_Thur</th>\n",
       "      <td>-0.08</td>\n",
       "    </tr>\n",
       "  </tbody>\n",
       "</table>\n",
       "</div>"
      ],
      "text/plain": [
       "            Model Coefficient\n",
       "Feature                      \n",
       "Intercept                0.75\n",
       "total_bill               0.09\n",
       "size                     0.19\n",
       "day_Sat                 -0.12\n",
       "day_Sun                 -0.01\n",
       "day_Thur                -0.08"
      ]
     },
     "execution_count": 15,
     "metadata": {},
     "output_type": "execute_result"
    }
   ],
   "source": [
    "# ohe_model2 will add a bias column in the background, \n",
    "# since we set fit_intercept=True earlier.\n",
    "ohe_model2.fit(new_X, y)\n",
    "\n",
    "pd.DataFrame({\n",
    "  \"Feature\": np.append('Intercept', new_X.columns), \n",
    "  \"Model Coefficient\": np.append(ohe_model2.intercept_, ohe_model2.coef_)\n",
    "}).set_index(\"Feature\")"
   ]
  },
  {
   "cell_type": "markdown",
   "id": "050ef24d",
   "metadata": {},
   "source": [
    "Note that the two models above will generate identical predictions. The only difference is the **interpretability** of the coefficients."
   ]
  },
  {
   "cell_type": "markdown",
   "id": "9e739f6c",
   "metadata": {},
   "source": [
    "We could have also had one-hot encoder object drop the reference column earlier in the pipeline:"
   ]
  },
  {
   "cell_type": "code",
   "execution_count": 16,
   "id": "2a84b056",
   "metadata": {},
   "outputs": [
    {
     "data": {
      "text/html": [
       "<div>\n",
       "<style scoped>\n",
       "    .dataframe tbody tr th:only-of-type {\n",
       "        vertical-align: middle;\n",
       "    }\n",
       "\n",
       "    .dataframe tbody tr th {\n",
       "        vertical-align: top;\n",
       "    }\n",
       "\n",
       "    .dataframe thead th {\n",
       "        text-align: right;\n",
       "    }\n",
       "</style>\n",
       "<table border=\"1\" class=\"dataframe\">\n",
       "  <thead>\n",
       "    <tr style=\"text-align: right;\">\n",
       "      <th></th>\n",
       "      <th>day_Sat</th>\n",
       "      <th>day_Sun</th>\n",
       "      <th>day_Thur</th>\n",
       "    </tr>\n",
       "  </thead>\n",
       "  <tbody>\n",
       "    <tr>\n",
       "      <th>0</th>\n",
       "      <td>0.0</td>\n",
       "      <td>1.0</td>\n",
       "      <td>0.0</td>\n",
       "    </tr>\n",
       "    <tr>\n",
       "      <th>1</th>\n",
       "      <td>0.0</td>\n",
       "      <td>1.0</td>\n",
       "      <td>0.0</td>\n",
       "    </tr>\n",
       "    <tr>\n",
       "      <th>2</th>\n",
       "      <td>0.0</td>\n",
       "      <td>1.0</td>\n",
       "      <td>0.0</td>\n",
       "    </tr>\n",
       "    <tr>\n",
       "      <th>3</th>\n",
       "      <td>0.0</td>\n",
       "      <td>1.0</td>\n",
       "      <td>0.0</td>\n",
       "    </tr>\n",
       "    <tr>\n",
       "      <th>4</th>\n",
       "      <td>0.0</td>\n",
       "      <td>1.0</td>\n",
       "      <td>0.0</td>\n",
       "    </tr>\n",
       "  </tbody>\n",
       "</table>\n",
       "</div>"
      ],
      "text/plain": [
       "   day_Sat  day_Sun  day_Thur\n",
       "0      0.0      1.0       0.0\n",
       "1      0.0      1.0       0.0\n",
       "2      0.0      1.0       0.0\n",
       "3      0.0      1.0       0.0\n",
       "4      0.0      1.0       0.0"
      ]
     },
     "execution_count": 16,
     "metadata": {},
     "output_type": "execute_result"
    }
   ],
   "source": [
    "# Initialize a OneHotEncoder object.\n",
    "# This time, we will drop the first column of the one-hot encoded columns.\n",
    "# This is the only change from the previous example!\n",
    "ohe2 = OneHotEncoder(drop='first')\n",
    "\n",
    "# Fit the encoder\n",
    "ohe2.fit(tips[[\"day\"]])\n",
    "\n",
    "# Use the encoder to transform the raw \"day\" feature\n",
    "encoded_day = ohe2.transform(tips[[\"day\"]]).toarray()\n",
    "\n",
    "encoded_day_df = pd.DataFrame(encoded_day, columns=ohe2.get_feature_names_out())\n",
    "\n",
    "encoded_day_df.head()"
   ]
  },
  {
   "cell_type": "markdown",
   "id": "7f812912-becc-4475-b33e-add6e2b3a8c4",
   "metadata": {},
   "source": [
    "### Bonus: Advanced Feature Engineering Pipelines in Scikit Learn\n",
    "You can use the scikit learn `Pipeline` class to define sophisticated feature engineering pipelines that combine different transformations that are all fit at once.\n",
    "\n",
    "A pipeline is a sequence of transformations and models that are composed to form a new model. It is implemented as a list of  (\"name\", model/transformation) tuples.  Here we have a feature engineering stage followed by a linear model. The feature engineering stage uses a `ColumnTransformer` that applies named transformations to selected columns."
   ]
  },
  {
   "cell_type": "code",
   "execution_count": 17,
   "id": "fafdf96d-96ae-440f-b820-2ec649fc01d0",
   "metadata": {},
   "outputs": [
    {
     "data": {
      "text/html": [
       "<style>#sk-container-id-2 {color: black;background-color: white;}#sk-container-id-2 pre{padding: 0;}#sk-container-id-2 div.sk-toggleable {background-color: white;}#sk-container-id-2 label.sk-toggleable__label {cursor: pointer;display: block;width: 100%;margin-bottom: 0;padding: 0.3em;box-sizing: border-box;text-align: center;}#sk-container-id-2 label.sk-toggleable__label-arrow:before {content: \"▸\";float: left;margin-right: 0.25em;color: #696969;}#sk-container-id-2 label.sk-toggleable__label-arrow:hover:before {color: black;}#sk-container-id-2 div.sk-estimator:hover label.sk-toggleable__label-arrow:before {color: black;}#sk-container-id-2 div.sk-toggleable__content {max-height: 0;max-width: 0;overflow: hidden;text-align: left;background-color: #f0f8ff;}#sk-container-id-2 div.sk-toggleable__content pre {margin: 0.2em;color: black;border-radius: 0.25em;background-color: #f0f8ff;}#sk-container-id-2 input.sk-toggleable__control:checked~div.sk-toggleable__content {max-height: 200px;max-width: 100%;overflow: auto;}#sk-container-id-2 input.sk-toggleable__control:checked~label.sk-toggleable__label-arrow:before {content: \"▾\";}#sk-container-id-2 div.sk-estimator input.sk-toggleable__control:checked~label.sk-toggleable__label {background-color: #d4ebff;}#sk-container-id-2 div.sk-label input.sk-toggleable__control:checked~label.sk-toggleable__label {background-color: #d4ebff;}#sk-container-id-2 input.sk-hidden--visually {border: 0;clip: rect(1px 1px 1px 1px);clip: rect(1px, 1px, 1px, 1px);height: 1px;margin: -1px;overflow: hidden;padding: 0;position: absolute;width: 1px;}#sk-container-id-2 div.sk-estimator {font-family: monospace;background-color: #f0f8ff;border: 1px dotted black;border-radius: 0.25em;box-sizing: border-box;margin-bottom: 0.5em;}#sk-container-id-2 div.sk-estimator:hover {background-color: #d4ebff;}#sk-container-id-2 div.sk-parallel-item::after {content: \"\";width: 100%;border-bottom: 1px solid gray;flex-grow: 1;}#sk-container-id-2 div.sk-label:hover label.sk-toggleable__label {background-color: #d4ebff;}#sk-container-id-2 div.sk-serial::before {content: \"\";position: absolute;border-left: 1px solid gray;box-sizing: border-box;top: 0;bottom: 0;left: 50%;z-index: 0;}#sk-container-id-2 div.sk-serial {display: flex;flex-direction: column;align-items: center;background-color: white;padding-right: 0.2em;padding-left: 0.2em;position: relative;}#sk-container-id-2 div.sk-item {position: relative;z-index: 1;}#sk-container-id-2 div.sk-parallel {display: flex;align-items: stretch;justify-content: center;background-color: white;position: relative;}#sk-container-id-2 div.sk-item::before, #sk-container-id-2 div.sk-parallel-item::before {content: \"\";position: absolute;border-left: 1px solid gray;box-sizing: border-box;top: 0;bottom: 0;left: 50%;z-index: -1;}#sk-container-id-2 div.sk-parallel-item {display: flex;flex-direction: column;z-index: 1;position: relative;background-color: white;}#sk-container-id-2 div.sk-parallel-item:first-child::after {align-self: flex-end;width: 50%;}#sk-container-id-2 div.sk-parallel-item:last-child::after {align-self: flex-start;width: 50%;}#sk-container-id-2 div.sk-parallel-item:only-child::after {width: 0;}#sk-container-id-2 div.sk-dashed-wrapped {border: 1px dashed gray;margin: 0 0.4em 0.5em 0.4em;box-sizing: border-box;padding-bottom: 0.4em;background-color: white;}#sk-container-id-2 div.sk-label label {font-family: monospace;font-weight: bold;display: inline-block;line-height: 1.2em;}#sk-container-id-2 div.sk-label-container {text-align: center;}#sk-container-id-2 div.sk-container {/* jupyter's `normalize.less` sets `[hidden] { display: none; }` but bootstrap.min.css set `[hidden] { display: none !important; }` so we also need the `!important` here to be able to override the default hidden behavior on the sphinx rendered scikit-learn.org. See: https://github.com/scikit-learn/scikit-learn/issues/21755 */display: inline-block !important;position: relative;}#sk-container-id-2 div.sk-text-repr-fallback {display: none;}</style><div id=\"sk-container-id-2\" class=\"sk-top-container\"><div class=\"sk-text-repr-fallback\"><pre>Pipeline(steps=[(&#x27;Feature Engineering&#x27;,\n",
       "                 ColumnTransformer(remainder=&#x27;passthrough&#x27;,\n",
       "                                   transformers=[(&#x27;OHE&#x27;, OneHotEncoder(),\n",
       "                                                  [&#x27;day&#x27;]),\n",
       "                                                 (&#x27;Polynomial&#x27;,\n",
       "                                                  PolynomialFeatures(degree=4),\n",
       "                                                  [&#x27;total_bill&#x27;])])),\n",
       "                (&#x27;Linear Model&#x27;, LinearRegression())])</pre><b>In a Jupyter environment, please rerun this cell to show the HTML representation or trust the notebook. <br />On GitHub, the HTML representation is unable to render, please try loading this page with nbviewer.org.</b></div><div class=\"sk-container\" hidden><div class=\"sk-item sk-dashed-wrapped\"><div class=\"sk-label-container\"><div class=\"sk-label sk-toggleable\"><input class=\"sk-toggleable__control sk-hidden--visually\" id=\"sk-estimator-id-2\" type=\"checkbox\" ><label for=\"sk-estimator-id-2\" class=\"sk-toggleable__label sk-toggleable__label-arrow\">Pipeline</label><div class=\"sk-toggleable__content\"><pre>Pipeline(steps=[(&#x27;Feature Engineering&#x27;,\n",
       "                 ColumnTransformer(remainder=&#x27;passthrough&#x27;,\n",
       "                                   transformers=[(&#x27;OHE&#x27;, OneHotEncoder(),\n",
       "                                                  [&#x27;day&#x27;]),\n",
       "                                                 (&#x27;Polynomial&#x27;,\n",
       "                                                  PolynomialFeatures(degree=4),\n",
       "                                                  [&#x27;total_bill&#x27;])])),\n",
       "                (&#x27;Linear Model&#x27;, LinearRegression())])</pre></div></div></div><div class=\"sk-serial\"><div class=\"sk-item sk-dashed-wrapped\"><div class=\"sk-label-container\"><div class=\"sk-label sk-toggleable\"><input class=\"sk-toggleable__control sk-hidden--visually\" id=\"sk-estimator-id-3\" type=\"checkbox\" ><label for=\"sk-estimator-id-3\" class=\"sk-toggleable__label sk-toggleable__label-arrow\">Feature Engineering: ColumnTransformer</label><div class=\"sk-toggleable__content\"><pre>ColumnTransformer(remainder=&#x27;passthrough&#x27;,\n",
       "                  transformers=[(&#x27;OHE&#x27;, OneHotEncoder(), [&#x27;day&#x27;]),\n",
       "                                (&#x27;Polynomial&#x27;, PolynomialFeatures(degree=4),\n",
       "                                 [&#x27;total_bill&#x27;])])</pre></div></div></div><div class=\"sk-parallel\"><div class=\"sk-parallel-item\"><div class=\"sk-item\"><div class=\"sk-label-container\"><div class=\"sk-label sk-toggleable\"><input class=\"sk-toggleable__control sk-hidden--visually\" id=\"sk-estimator-id-4\" type=\"checkbox\" ><label for=\"sk-estimator-id-4\" class=\"sk-toggleable__label sk-toggleable__label-arrow\">OHE</label><div class=\"sk-toggleable__content\"><pre>[&#x27;day&#x27;]</pre></div></div></div><div class=\"sk-serial\"><div class=\"sk-item\"><div class=\"sk-estimator sk-toggleable\"><input class=\"sk-toggleable__control sk-hidden--visually\" id=\"sk-estimator-id-5\" type=\"checkbox\" ><label for=\"sk-estimator-id-5\" class=\"sk-toggleable__label sk-toggleable__label-arrow\">OneHotEncoder</label><div class=\"sk-toggleable__content\"><pre>OneHotEncoder()</pre></div></div></div></div></div></div><div class=\"sk-parallel-item\"><div class=\"sk-item\"><div class=\"sk-label-container\"><div class=\"sk-label sk-toggleable\"><input class=\"sk-toggleable__control sk-hidden--visually\" id=\"sk-estimator-id-6\" type=\"checkbox\" ><label for=\"sk-estimator-id-6\" class=\"sk-toggleable__label sk-toggleable__label-arrow\">Polynomial</label><div class=\"sk-toggleable__content\"><pre>[&#x27;total_bill&#x27;]</pre></div></div></div><div class=\"sk-serial\"><div class=\"sk-item\"><div class=\"sk-estimator sk-toggleable\"><input class=\"sk-toggleable__control sk-hidden--visually\" id=\"sk-estimator-id-7\" type=\"checkbox\" ><label for=\"sk-estimator-id-7\" class=\"sk-toggleable__label sk-toggleable__label-arrow\">PolynomialFeatures</label><div class=\"sk-toggleable__content\"><pre>PolynomialFeatures(degree=4)</pre></div></div></div></div></div></div><div class=\"sk-parallel-item\"><div class=\"sk-item\"><div class=\"sk-label-container\"><div class=\"sk-label sk-toggleable\"><input class=\"sk-toggleable__control sk-hidden--visually\" id=\"sk-estimator-id-8\" type=\"checkbox\" ><label for=\"sk-estimator-id-8\" class=\"sk-toggleable__label sk-toggleable__label-arrow\">remainder</label><div class=\"sk-toggleable__content\"><pre></pre></div></div></div><div class=\"sk-serial\"><div class=\"sk-item\"><div class=\"sk-estimator sk-toggleable\"><input class=\"sk-toggleable__control sk-hidden--visually\" id=\"sk-estimator-id-9\" type=\"checkbox\" ><label for=\"sk-estimator-id-9\" class=\"sk-toggleable__label sk-toggleable__label-arrow\">passthrough</label><div class=\"sk-toggleable__content\"><pre>passthrough</pre></div></div></div></div></div></div></div></div><div class=\"sk-item\"><div class=\"sk-estimator sk-toggleable\"><input class=\"sk-toggleable__control sk-hidden--visually\" id=\"sk-estimator-id-10\" type=\"checkbox\" ><label for=\"sk-estimator-id-10\" class=\"sk-toggleable__label sk-toggleable__label-arrow\">LinearRegression</label><div class=\"sk-toggleable__content\"><pre>LinearRegression()</pre></div></div></div></div></div></div></div>"
      ],
      "text/plain": [
       "Pipeline(steps=[('Feature Engineering',\n",
       "                 ColumnTransformer(remainder='passthrough',\n",
       "                                   transformers=[('OHE', OneHotEncoder(),\n",
       "                                                  ['day']),\n",
       "                                                 ('Polynomial',\n",
       "                                                  PolynomialFeatures(degree=4),\n",
       "                                                  ['total_bill'])])),\n",
       "                ('Linear Model', LinearRegression())])"
      ]
     },
     "execution_count": 17,
     "metadata": {},
     "output_type": "execute_result"
    }
   ],
   "source": [
    "from sklearn.pipeline import Pipeline\n",
    "from sklearn.compose import ColumnTransformer\n",
    "from sklearn.preprocessing import PolynomialFeatures\n",
    "\n",
    "pl = Pipeline([\n",
    "    (\"Feature Engineering\", \n",
    "     ColumnTransformer(  \n",
    "         [(\"OHE\", OneHotEncoder(), [\"day\"]),\n",
    "         (\"Polynomial\", PolynomialFeatures(4), ['total_bill'])], \n",
    "        remainder=\"passthrough\")), \n",
    "    (\"Linear Model\", LinearRegression()) # Linear Model\n",
    "]) \n",
    "pl"
   ]
  },
  {
   "cell_type": "code",
   "execution_count": 18,
   "id": "26117cc6-5564-47c2-9953-71a42533f513",
   "metadata": {},
   "outputs": [
    {
     "data": {
      "text/html": [
       "<style>#sk-container-id-3 {color: black;background-color: white;}#sk-container-id-3 pre{padding: 0;}#sk-container-id-3 div.sk-toggleable {background-color: white;}#sk-container-id-3 label.sk-toggleable__label {cursor: pointer;display: block;width: 100%;margin-bottom: 0;padding: 0.3em;box-sizing: border-box;text-align: center;}#sk-container-id-3 label.sk-toggleable__label-arrow:before {content: \"▸\";float: left;margin-right: 0.25em;color: #696969;}#sk-container-id-3 label.sk-toggleable__label-arrow:hover:before {color: black;}#sk-container-id-3 div.sk-estimator:hover label.sk-toggleable__label-arrow:before {color: black;}#sk-container-id-3 div.sk-toggleable__content {max-height: 0;max-width: 0;overflow: hidden;text-align: left;background-color: #f0f8ff;}#sk-container-id-3 div.sk-toggleable__content pre {margin: 0.2em;color: black;border-radius: 0.25em;background-color: #f0f8ff;}#sk-container-id-3 input.sk-toggleable__control:checked~div.sk-toggleable__content {max-height: 200px;max-width: 100%;overflow: auto;}#sk-container-id-3 input.sk-toggleable__control:checked~label.sk-toggleable__label-arrow:before {content: \"▾\";}#sk-container-id-3 div.sk-estimator input.sk-toggleable__control:checked~label.sk-toggleable__label {background-color: #d4ebff;}#sk-container-id-3 div.sk-label input.sk-toggleable__control:checked~label.sk-toggleable__label {background-color: #d4ebff;}#sk-container-id-3 input.sk-hidden--visually {border: 0;clip: rect(1px 1px 1px 1px);clip: rect(1px, 1px, 1px, 1px);height: 1px;margin: -1px;overflow: hidden;padding: 0;position: absolute;width: 1px;}#sk-container-id-3 div.sk-estimator {font-family: monospace;background-color: #f0f8ff;border: 1px dotted black;border-radius: 0.25em;box-sizing: border-box;margin-bottom: 0.5em;}#sk-container-id-3 div.sk-estimator:hover {background-color: #d4ebff;}#sk-container-id-3 div.sk-parallel-item::after {content: \"\";width: 100%;border-bottom: 1px solid gray;flex-grow: 1;}#sk-container-id-3 div.sk-label:hover label.sk-toggleable__label {background-color: #d4ebff;}#sk-container-id-3 div.sk-serial::before {content: \"\";position: absolute;border-left: 1px solid gray;box-sizing: border-box;top: 0;bottom: 0;left: 50%;z-index: 0;}#sk-container-id-3 div.sk-serial {display: flex;flex-direction: column;align-items: center;background-color: white;padding-right: 0.2em;padding-left: 0.2em;position: relative;}#sk-container-id-3 div.sk-item {position: relative;z-index: 1;}#sk-container-id-3 div.sk-parallel {display: flex;align-items: stretch;justify-content: center;background-color: white;position: relative;}#sk-container-id-3 div.sk-item::before, #sk-container-id-3 div.sk-parallel-item::before {content: \"\";position: absolute;border-left: 1px solid gray;box-sizing: border-box;top: 0;bottom: 0;left: 50%;z-index: -1;}#sk-container-id-3 div.sk-parallel-item {display: flex;flex-direction: column;z-index: 1;position: relative;background-color: white;}#sk-container-id-3 div.sk-parallel-item:first-child::after {align-self: flex-end;width: 50%;}#sk-container-id-3 div.sk-parallel-item:last-child::after {align-self: flex-start;width: 50%;}#sk-container-id-3 div.sk-parallel-item:only-child::after {width: 0;}#sk-container-id-3 div.sk-dashed-wrapped {border: 1px dashed gray;margin: 0 0.4em 0.5em 0.4em;box-sizing: border-box;padding-bottom: 0.4em;background-color: white;}#sk-container-id-3 div.sk-label label {font-family: monospace;font-weight: bold;display: inline-block;line-height: 1.2em;}#sk-container-id-3 div.sk-label-container {text-align: center;}#sk-container-id-3 div.sk-container {/* jupyter's `normalize.less` sets `[hidden] { display: none; }` but bootstrap.min.css set `[hidden] { display: none !important; }` so we also need the `!important` here to be able to override the default hidden behavior on the sphinx rendered scikit-learn.org. See: https://github.com/scikit-learn/scikit-learn/issues/21755 */display: inline-block !important;position: relative;}#sk-container-id-3 div.sk-text-repr-fallback {display: none;}</style><div id=\"sk-container-id-3\" class=\"sk-top-container\"><div class=\"sk-text-repr-fallback\"><pre>Pipeline(steps=[(&#x27;Feature Engineering&#x27;,\n",
       "                 ColumnTransformer(remainder=&#x27;passthrough&#x27;,\n",
       "                                   transformers=[(&#x27;OHE&#x27;, OneHotEncoder(),\n",
       "                                                  [&#x27;day&#x27;]),\n",
       "                                                 (&#x27;Polynomial&#x27;,\n",
       "                                                  PolynomialFeatures(degree=4),\n",
       "                                                  [&#x27;total_bill&#x27;])])),\n",
       "                (&#x27;Linear Model&#x27;, LinearRegression())])</pre><b>In a Jupyter environment, please rerun this cell to show the HTML representation or trust the notebook. <br />On GitHub, the HTML representation is unable to render, please try loading this page with nbviewer.org.</b></div><div class=\"sk-container\" hidden><div class=\"sk-item sk-dashed-wrapped\"><div class=\"sk-label-container\"><div class=\"sk-label sk-toggleable\"><input class=\"sk-toggleable__control sk-hidden--visually\" id=\"sk-estimator-id-11\" type=\"checkbox\" ><label for=\"sk-estimator-id-11\" class=\"sk-toggleable__label sk-toggleable__label-arrow\">Pipeline</label><div class=\"sk-toggleable__content\"><pre>Pipeline(steps=[(&#x27;Feature Engineering&#x27;,\n",
       "                 ColumnTransformer(remainder=&#x27;passthrough&#x27;,\n",
       "                                   transformers=[(&#x27;OHE&#x27;, OneHotEncoder(),\n",
       "                                                  [&#x27;day&#x27;]),\n",
       "                                                 (&#x27;Polynomial&#x27;,\n",
       "                                                  PolynomialFeatures(degree=4),\n",
       "                                                  [&#x27;total_bill&#x27;])])),\n",
       "                (&#x27;Linear Model&#x27;, LinearRegression())])</pre></div></div></div><div class=\"sk-serial\"><div class=\"sk-item sk-dashed-wrapped\"><div class=\"sk-label-container\"><div class=\"sk-label sk-toggleable\"><input class=\"sk-toggleable__control sk-hidden--visually\" id=\"sk-estimator-id-12\" type=\"checkbox\" ><label for=\"sk-estimator-id-12\" class=\"sk-toggleable__label sk-toggleable__label-arrow\">Feature Engineering: ColumnTransformer</label><div class=\"sk-toggleable__content\"><pre>ColumnTransformer(remainder=&#x27;passthrough&#x27;,\n",
       "                  transformers=[(&#x27;OHE&#x27;, OneHotEncoder(), [&#x27;day&#x27;]),\n",
       "                                (&#x27;Polynomial&#x27;, PolynomialFeatures(degree=4),\n",
       "                                 [&#x27;total_bill&#x27;])])</pre></div></div></div><div class=\"sk-parallel\"><div class=\"sk-parallel-item\"><div class=\"sk-item\"><div class=\"sk-label-container\"><div class=\"sk-label sk-toggleable\"><input class=\"sk-toggleable__control sk-hidden--visually\" id=\"sk-estimator-id-13\" type=\"checkbox\" ><label for=\"sk-estimator-id-13\" class=\"sk-toggleable__label sk-toggleable__label-arrow\">OHE</label><div class=\"sk-toggleable__content\"><pre>[&#x27;day&#x27;]</pre></div></div></div><div class=\"sk-serial\"><div class=\"sk-item\"><div class=\"sk-estimator sk-toggleable\"><input class=\"sk-toggleable__control sk-hidden--visually\" id=\"sk-estimator-id-14\" type=\"checkbox\" ><label for=\"sk-estimator-id-14\" class=\"sk-toggleable__label sk-toggleable__label-arrow\">OneHotEncoder</label><div class=\"sk-toggleable__content\"><pre>OneHotEncoder()</pre></div></div></div></div></div></div><div class=\"sk-parallel-item\"><div class=\"sk-item\"><div class=\"sk-label-container\"><div class=\"sk-label sk-toggleable\"><input class=\"sk-toggleable__control sk-hidden--visually\" id=\"sk-estimator-id-15\" type=\"checkbox\" ><label for=\"sk-estimator-id-15\" class=\"sk-toggleable__label sk-toggleable__label-arrow\">Polynomial</label><div class=\"sk-toggleable__content\"><pre>[&#x27;total_bill&#x27;]</pre></div></div></div><div class=\"sk-serial\"><div class=\"sk-item\"><div class=\"sk-estimator sk-toggleable\"><input class=\"sk-toggleable__control sk-hidden--visually\" id=\"sk-estimator-id-16\" type=\"checkbox\" ><label for=\"sk-estimator-id-16\" class=\"sk-toggleable__label sk-toggleable__label-arrow\">PolynomialFeatures</label><div class=\"sk-toggleable__content\"><pre>PolynomialFeatures(degree=4)</pre></div></div></div></div></div></div><div class=\"sk-parallel-item\"><div class=\"sk-item\"><div class=\"sk-label-container\"><div class=\"sk-label sk-toggleable\"><input class=\"sk-toggleable__control sk-hidden--visually\" id=\"sk-estimator-id-17\" type=\"checkbox\" ><label for=\"sk-estimator-id-17\" class=\"sk-toggleable__label sk-toggleable__label-arrow\">remainder</label><div class=\"sk-toggleable__content\"><pre>[&#x27;size&#x27;]</pre></div></div></div><div class=\"sk-serial\"><div class=\"sk-item\"><div class=\"sk-estimator sk-toggleable\"><input class=\"sk-toggleable__control sk-hidden--visually\" id=\"sk-estimator-id-18\" type=\"checkbox\" ><label for=\"sk-estimator-id-18\" class=\"sk-toggleable__label sk-toggleable__label-arrow\">passthrough</label><div class=\"sk-toggleable__content\"><pre>passthrough</pre></div></div></div></div></div></div></div></div><div class=\"sk-item\"><div class=\"sk-estimator sk-toggleable\"><input class=\"sk-toggleable__control sk-hidden--visually\" id=\"sk-estimator-id-19\" type=\"checkbox\" ><label for=\"sk-estimator-id-19\" class=\"sk-toggleable__label sk-toggleable__label-arrow\">LinearRegression</label><div class=\"sk-toggleable__content\"><pre>LinearRegression()</pre></div></div></div></div></div></div></div>"
      ],
      "text/plain": [
       "Pipeline(steps=[('Feature Engineering',\n",
       "                 ColumnTransformer(remainder='passthrough',\n",
       "                                   transformers=[('OHE', OneHotEncoder(),\n",
       "                                                  ['day']),\n",
       "                                                 ('Polynomial',\n",
       "                                                  PolynomialFeatures(degree=4),\n",
       "                                                  ['total_bill'])])),\n",
       "                ('Linear Model', LinearRegression())])"
      ]
     },
     "execution_count": 18,
     "metadata": {},
     "output_type": "execute_result"
    }
   ],
   "source": [
    "pl.fit(X_raw, y)"
   ]
  },
  {
   "cell_type": "markdown",
   "id": "4863159a-d922-42f9-8637-5ba9e6968119",
   "metadata": {},
   "source": [
    "All the features:"
   ]
  },
  {
   "cell_type": "code",
   "execution_count": 19,
   "id": "603e32f0-38a8-4306-adb7-46b82094e64a",
   "metadata": {},
   "outputs": [
    {
     "data": {
      "text/plain": [
       "array(['OHE__day_Fri', 'OHE__day_Sat', 'OHE__day_Sun', 'OHE__day_Thur',\n",
       "       'Polynomial__1', 'Polynomial__total_bill',\n",
       "       'Polynomial__total_bill^2', 'Polynomial__total_bill^3',\n",
       "       'Polynomial__total_bill^4', 'remainder__size'], dtype=object)"
      ]
     },
     "execution_count": 19,
     "metadata": {},
     "output_type": "execute_result"
    }
   ],
   "source": [
    "pl['Feature Engineering'].get_feature_names_out()"
   ]
  },
  {
   "cell_type": "code",
   "execution_count": 20,
   "id": "433fcea1-a1af-46db-a757-1e5ce9abdc4e",
   "metadata": {},
   "outputs": [
    {
     "data": {
      "text/html": [
       "<div>\n",
       "<style scoped>\n",
       "    .dataframe tbody tr th:only-of-type {\n",
       "        vertical-align: middle;\n",
       "    }\n",
       "\n",
       "    .dataframe tbody tr th {\n",
       "        vertical-align: top;\n",
       "    }\n",
       "\n",
       "    .dataframe thead th {\n",
       "        text-align: right;\n",
       "    }\n",
       "</style>\n",
       "<table border=\"1\" class=\"dataframe\">\n",
       "  <thead>\n",
       "    <tr style=\"text-align: right;\">\n",
       "      <th></th>\n",
       "      <th>total_bill</th>\n",
       "      <th>tip</th>\n",
       "      <th>sex</th>\n",
       "      <th>smoker</th>\n",
       "      <th>day</th>\n",
       "      <th>time</th>\n",
       "      <th>size</th>\n",
       "      <th>predicted</th>\n",
       "    </tr>\n",
       "  </thead>\n",
       "  <tbody>\n",
       "    <tr>\n",
       "      <th>0</th>\n",
       "      <td>16.99</td>\n",
       "      <td>1.01</td>\n",
       "      <td>Female</td>\n",
       "      <td>No</td>\n",
       "      <td>Sun</td>\n",
       "      <td>Dinner</td>\n",
       "      <td>2</td>\n",
       "      <td>2.78</td>\n",
       "    </tr>\n",
       "    <tr>\n",
       "      <th>1</th>\n",
       "      <td>10.34</td>\n",
       "      <td>1.66</td>\n",
       "      <td>Male</td>\n",
       "      <td>No</td>\n",
       "      <td>Sun</td>\n",
       "      <td>Dinner</td>\n",
       "      <td>3</td>\n",
       "      <td>2.11</td>\n",
       "    </tr>\n",
       "    <tr>\n",
       "      <th>2</th>\n",
       "      <td>21.01</td>\n",
       "      <td>3.50</td>\n",
       "      <td>Male</td>\n",
       "      <td>No</td>\n",
       "      <td>Sun</td>\n",
       "      <td>Dinner</td>\n",
       "      <td>3</td>\n",
       "      <td>3.49</td>\n",
       "    </tr>\n",
       "    <tr>\n",
       "      <th>3</th>\n",
       "      <td>23.68</td>\n",
       "      <td>3.31</td>\n",
       "      <td>Male</td>\n",
       "      <td>No</td>\n",
       "      <td>Sun</td>\n",
       "      <td>Dinner</td>\n",
       "      <td>2</td>\n",
       "      <td>3.54</td>\n",
       "    </tr>\n",
       "    <tr>\n",
       "      <th>4</th>\n",
       "      <td>24.59</td>\n",
       "      <td>3.61</td>\n",
       "      <td>Female</td>\n",
       "      <td>No</td>\n",
       "      <td>Sun</td>\n",
       "      <td>Dinner</td>\n",
       "      <td>4</td>\n",
       "      <td>4.00</td>\n",
       "    </tr>\n",
       "    <tr>\n",
       "      <th>...</th>\n",
       "      <td>...</td>\n",
       "      <td>...</td>\n",
       "      <td>...</td>\n",
       "      <td>...</td>\n",
       "      <td>...</td>\n",
       "      <td>...</td>\n",
       "      <td>...</td>\n",
       "      <td>...</td>\n",
       "    </tr>\n",
       "    <tr>\n",
       "      <th>239</th>\n",
       "      <td>29.03</td>\n",
       "      <td>5.92</td>\n",
       "      <td>Male</td>\n",
       "      <td>No</td>\n",
       "      <td>Sat</td>\n",
       "      <td>Dinner</td>\n",
       "      <td>3</td>\n",
       "      <td>3.78</td>\n",
       "    </tr>\n",
       "    <tr>\n",
       "      <th>240</th>\n",
       "      <td>27.18</td>\n",
       "      <td>2.00</td>\n",
       "      <td>Female</td>\n",
       "      <td>Yes</td>\n",
       "      <td>Sat</td>\n",
       "      <td>Dinner</td>\n",
       "      <td>2</td>\n",
       "      <td>3.54</td>\n",
       "    </tr>\n",
       "    <tr>\n",
       "      <th>241</th>\n",
       "      <td>22.67</td>\n",
       "      <td>2.00</td>\n",
       "      <td>Male</td>\n",
       "      <td>Yes</td>\n",
       "      <td>Sat</td>\n",
       "      <td>Dinner</td>\n",
       "      <td>2</td>\n",
       "      <td>3.28</td>\n",
       "    </tr>\n",
       "    <tr>\n",
       "      <th>242</th>\n",
       "      <td>17.82</td>\n",
       "      <td>1.75</td>\n",
       "      <td>Male</td>\n",
       "      <td>No</td>\n",
       "      <td>Sat</td>\n",
       "      <td>Dinner</td>\n",
       "      <td>2</td>\n",
       "      <td>2.72</td>\n",
       "    </tr>\n",
       "    <tr>\n",
       "      <th>243</th>\n",
       "      <td>18.78</td>\n",
       "      <td>3.00</td>\n",
       "      <td>Female</td>\n",
       "      <td>No</td>\n",
       "      <td>Thur</td>\n",
       "      <td>Dinner</td>\n",
       "      <td>2</td>\n",
       "      <td>2.99</td>\n",
       "    </tr>\n",
       "  </tbody>\n",
       "</table>\n",
       "<p>244 rows × 8 columns</p>\n",
       "</div>"
      ],
      "text/plain": [
       "     total_bill   tip     sex smoker   day    time  size  predicted\n",
       "0         16.99  1.01  Female     No   Sun  Dinner     2       2.78\n",
       "1         10.34  1.66    Male     No   Sun  Dinner     3       2.11\n",
       "2         21.01  3.50    Male     No   Sun  Dinner     3       3.49\n",
       "3         23.68  3.31    Male     No   Sun  Dinner     2       3.54\n",
       "4         24.59  3.61  Female     No   Sun  Dinner     4       4.00\n",
       "..          ...   ...     ...    ...   ...     ...   ...        ...\n",
       "239       29.03  5.92    Male     No   Sat  Dinner     3       3.78\n",
       "240       27.18  2.00  Female    Yes   Sat  Dinner     2       3.54\n",
       "241       22.67  2.00    Male    Yes   Sat  Dinner     2       3.28\n",
       "242       17.82  1.75    Male     No   Sat  Dinner     2       2.72\n",
       "243       18.78  3.00  Female     No  Thur  Dinner     2       2.99\n",
       "\n",
       "[244 rows x 8 columns]"
      ]
     },
     "execution_count": 20,
     "metadata": {},
     "output_type": "execute_result"
    }
   ],
   "source": [
    "tips[\"predicted\"] = pl.predict(X_raw)\n",
    "tips"
   ]
  },
  {
   "cell_type": "markdown",
   "id": "5e5356ce-c42c-4955-b803-01f39d7ee680",
   "metadata": {},
   "source": [
    "<br/><br/><br/>\n",
    "**Return to Lecture**\n",
    "\n",
    "<br/><br/><br/>"
   ]
  },
  {
   "cell_type": "markdown",
   "id": "c0615660-3122-4181-aeb9-ef886cea19ea",
   "metadata": {},
   "source": [
    "### Polynomial Features\n",
    "\n",
    "Consider the `vehicles` dataset, which includes information about cars."
   ]
  },
  {
   "cell_type": "code",
   "execution_count": 21,
   "id": "4716c468-74e5-4960-864b-40f2e8af5446",
   "metadata": {},
   "outputs": [
    {
     "data": {
      "text/html": [
       "<div>\n",
       "<style scoped>\n",
       "    .dataframe tbody tr th:only-of-type {\n",
       "        vertical-align: middle;\n",
       "    }\n",
       "\n",
       "    .dataframe tbody tr th {\n",
       "        vertical-align: top;\n",
       "    }\n",
       "\n",
       "    .dataframe thead th {\n",
       "        text-align: right;\n",
       "    }\n",
       "</style>\n",
       "<table border=\"1\" class=\"dataframe\">\n",
       "  <thead>\n",
       "    <tr style=\"text-align: right;\">\n",
       "      <th></th>\n",
       "      <th>mpg</th>\n",
       "      <th>cylinders</th>\n",
       "      <th>displacement</th>\n",
       "      <th>hp</th>\n",
       "      <th>weight</th>\n",
       "      <th>acceleration</th>\n",
       "      <th>model_year</th>\n",
       "      <th>origin</th>\n",
       "      <th>name</th>\n",
       "    </tr>\n",
       "  </thead>\n",
       "  <tbody>\n",
       "    <tr>\n",
       "      <th>19</th>\n",
       "      <td>26.0</td>\n",
       "      <td>4</td>\n",
       "      <td>97.0</td>\n",
       "      <td>46.0</td>\n",
       "      <td>1835</td>\n",
       "      <td>20.5</td>\n",
       "      <td>70</td>\n",
       "      <td>europe</td>\n",
       "      <td>volkswagen 1131 deluxe sedan</td>\n",
       "    </tr>\n",
       "    <tr>\n",
       "      <th>102</th>\n",
       "      <td>26.0</td>\n",
       "      <td>4</td>\n",
       "      <td>97.0</td>\n",
       "      <td>46.0</td>\n",
       "      <td>1950</td>\n",
       "      <td>21.0</td>\n",
       "      <td>73</td>\n",
       "      <td>europe</td>\n",
       "      <td>volkswagen super beetle</td>\n",
       "    </tr>\n",
       "    <tr>\n",
       "      <th>326</th>\n",
       "      <td>43.4</td>\n",
       "      <td>4</td>\n",
       "      <td>90.0</td>\n",
       "      <td>48.0</td>\n",
       "      <td>2335</td>\n",
       "      <td>23.7</td>\n",
       "      <td>80</td>\n",
       "      <td>europe</td>\n",
       "      <td>vw dasher (diesel)</td>\n",
       "    </tr>\n",
       "    <tr>\n",
       "      <th>325</th>\n",
       "      <td>44.3</td>\n",
       "      <td>4</td>\n",
       "      <td>90.0</td>\n",
       "      <td>48.0</td>\n",
       "      <td>2085</td>\n",
       "      <td>21.7</td>\n",
       "      <td>80</td>\n",
       "      <td>europe</td>\n",
       "      <td>vw rabbit c (diesel)</td>\n",
       "    </tr>\n",
       "    <tr>\n",
       "      <th>244</th>\n",
       "      <td>43.1</td>\n",
       "      <td>4</td>\n",
       "      <td>90.0</td>\n",
       "      <td>48.0</td>\n",
       "      <td>1985</td>\n",
       "      <td>21.5</td>\n",
       "      <td>78</td>\n",
       "      <td>europe</td>\n",
       "      <td>volkswagen rabbit custom diesel</td>\n",
       "    </tr>\n",
       "  </tbody>\n",
       "</table>\n",
       "</div>"
      ],
      "text/plain": [
       "      mpg  cylinders  displacement    hp  weight  acceleration  model_year  \\\n",
       "19   26.0          4          97.0  46.0    1835          20.5          70   \n",
       "102  26.0          4          97.0  46.0    1950          21.0          73   \n",
       "326  43.4          4          90.0  48.0    2335          23.7          80   \n",
       "325  44.3          4          90.0  48.0    2085          21.7          80   \n",
       "244  43.1          4          90.0  48.0    1985          21.5          78   \n",
       "\n",
       "     origin                             name  \n",
       "19   europe     volkswagen 1131 deluxe sedan  \n",
       "102  europe          volkswagen super beetle  \n",
       "326  europe               vw dasher (diesel)  \n",
       "325  europe             vw rabbit c (diesel)  \n",
       "244  europe  volkswagen rabbit custom diesel  "
      ]
     },
     "execution_count": 21,
     "metadata": {},
     "output_type": "execute_result"
    }
   ],
   "source": [
    "vehicles = sns.load_dataset(\"mpg\")\n",
    "\n",
    "vehicles = vehicles.dropna().rename(columns = {\"horsepower\": \"hp\"}).sort_values(\"hp\")\n",
    "\n",
    "vehicles.head()"
   ]
  },
  {
   "cell_type": "markdown",
   "id": "a27378d6-516e-417a-b80a-0282ea4243df",
   "metadata": {},
   "source": [
    "Suppose we want to use the `hp` (horsepower) of a car to predict its `mpg` (gas mileage in miles per gallon). If we visualize the relationship between these two variables, we see a non-linear curvature. Fitting a linear model to these variables results in a high (poor) value of RMSE. \n",
    "\n",
    "$$\\hat{y} = \\theta_0 + \\theta_1 (\\text{hp})$$"
   ]
  },
  {
   "cell_type": "code",
   "execution_count": 22,
   "id": "33629843-f23d-4624-accf-a9b6af482d53",
   "metadata": {},
   "outputs": [
    {
     "name": "stdout",
     "output_type": "stream",
     "text": [
      "MSE of model with (hp) feature: 23.943662938603108\n"
     ]
    },
    {
     "data": {
      "application/vnd.plotly.v1+json": {
       "config": {
        "plotlyServerURL": "https://plot.ly"
       },
       "data": [
        {
         "hovertemplate": "hp=%{x}<br>mpg=%{y}<extra></extra>",
         "legendgroup": "",
         "marker": {
          "color": "#636efa",
          "symbol": "circle"
         },
         "mode": "markers",
         "name": "",
         "orientation": "v",
         "showlegend": false,
         "type": "scatter",
         "x": {
          "bdata": "AAAAAAAAR0AAAAAAAABHQAAAAAAAAEhAAAAAAAAASEAAAAAAAABIQAAAAAAAgEhAAAAAAAAASkAAAAAAAABKQAAAAAAAAEpAAAAAAAAASkAAAAAAAIBKQAAAAAAAgEpAAAAAAAAAS0AAAAAAAABNQAAAAAAAAE1AAAAAAAAATkAAAAAAAABOQAAAAAAAAE5AAAAAAAAATkAAAAAAAABOQAAAAAAAgE5AAAAAAAAAT0AAAAAAAABPQAAAAAAAgE9AAAAAAACAT0AAAAAAAIBPQAAAAAAAAFBAAAAAAABAUEAAAAAAAEBQQAAAAAAAQFBAAAAAAABAUEAAAAAAAEBQQAAAAAAAQFBAAAAAAABAUEAAAAAAAEBQQAAAAAAAQFBAAAAAAABAUEAAAAAAAIBQQAAAAAAAwFBAAAAAAADAUEAAAAAAAMBQQAAAAAAAwFBAAAAAAADAUEAAAAAAAMBQQAAAAAAAwFBAAAAAAADAUEAAAAAAAMBQQAAAAAAAwFBAAAAAAADAUEAAAAAAAMBQQAAAAAAAAFFAAAAAAAAAUUAAAAAAAABRQAAAAAAAAFFAAAAAAAAAUUAAAAAAAABRQAAAAAAAQFFAAAAAAABAUUAAAAAAAEBRQAAAAAAAgFFAAAAAAACAUUAAAAAAAIBRQAAAAAAAgFFAAAAAAACAUUAAAAAAAIBRQAAAAAAAgFFAAAAAAACAUUAAAAAAAIBRQAAAAAAAgFFAAAAAAACAUUAAAAAAAIBRQAAAAAAAwFFAAAAAAADAUUAAAAAAAMBRQAAAAAAAwFFAAAAAAADAUUAAAAAAAABSQAAAAAAAAFJAAAAAAAAAUkAAAAAAAABSQAAAAAAAAFJAAAAAAAAAUkAAAAAAAIBSQAAAAAAAgFJAAAAAAACAUkAAAAAAAMBSQAAAAAAAwFJAAAAAAADAUkAAAAAAAMBSQAAAAAAAwFJAAAAAAADAUkAAAAAAAMBSQAAAAAAAwFJAAAAAAADAUkAAAAAAAMBSQAAAAAAAwFJAAAAAAADAUkAAAAAAAMBSQAAAAAAAwFJAAAAAAAAAU0AAAAAAAABTQAAAAAAAAFNAAAAAAAAAU0AAAAAAAEBTQAAAAAAAgFNAAAAAAACAU0AAAAAAAIBTQAAAAAAAgFNAAAAAAACAU0AAAAAAAIBTQAAAAAAAwFNAAAAAAADAU0AAAAAAAABUQAAAAAAAAFRAAAAAAAAAVEAAAAAAAABUQAAAAAAAAFRAAAAAAAAAVEAAAAAAAABUQAAAAAAAQFRAAAAAAABAVEAAAAAAAIBUQAAAAAAAwFRAAAAAAADAVEAAAAAAAMBUQAAAAAAAwFRAAAAAAAAAVUAAAAAAAABVQAAAAAAAAFVAAAAAAAAAVUAAAAAAAABVQAAAAAAAAFVAAAAAAABAVUAAAAAAAEBVQAAAAAAAQFVAAAAAAABAVUAAAAAAAEBVQAAAAAAAQFVAAAAAAABAVUAAAAAAAEBVQAAAAAAAQFVAAAAAAACAVUAAAAAAAIBVQAAAAAAAgFVAAAAAAACAVUAAAAAAAIBVQAAAAAAAwFVAAAAAAADAVUAAAAAAAABWQAAAAAAAAFZAAAAAAAAAVkAAAAAAAABWQAAAAAAAAFZAAAAAAAAAVkAAAAAAAABWQAAAAAAAAFZAAAAAAAAAVkAAAAAAAABWQAAAAAAAAFZAAAAAAAAAVkAAAAAAAABWQAAAAAAAAFZAAAAAAAAAVkAAAAAAAABWQAAAAAAAAFZAAAAAAAAAVkAAAAAAAABWQAAAAAAAQFZAAAAAAACAVkAAAAAAAIBWQAAAAAAAgFZAAAAAAACAVkAAAAAAAIBWQAAAAAAAgFZAAAAAAACAVkAAAAAAAIBWQAAAAAAAgFZAAAAAAACAVkAAAAAAAIBWQAAAAAAAgFZAAAAAAACAVkAAAAAAAIBWQAAAAAAAgFZAAAAAAACAVkAAAAAAAIBWQAAAAAAAgFZAAAAAAACAVkAAAAAAAIBWQAAAAAAAwFZAAAAAAAAAV0AAAAAAAABXQAAAAAAAAFdAAAAAAAAAV0AAAAAAAABXQAAAAAAAAFdAAAAAAABAV0AAAAAAAIBXQAAAAAAAwFdAAAAAAADAV0AAAAAAAMBXQAAAAAAAwFdAAAAAAADAV0AAAAAAAMBXQAAAAAAAwFdAAAAAAADAV0AAAAAAAMBXQAAAAAAAwFdAAAAAAADAV0AAAAAAAMBXQAAAAAAAwFdAAAAAAADAV0AAAAAAAABYQAAAAAAAAFhAAAAAAAAAWEAAAAAAAEBYQAAAAAAAQFhAAAAAAABAWEAAAAAAAEBYQAAAAAAAQFhAAAAAAABAWEAAAAAAAEBYQAAAAAAAQFhAAAAAAABAWEAAAAAAAIBYQAAAAAAAgFhAAAAAAAAAWUAAAAAAAABZQAAAAAAAAFlAAAAAAAAAWUAAAAAAAABZQAAAAAAAAFlAAAAAAAAAWUAAAAAAAABZQAAAAAAAAFlAAAAAAAAAWUAAAAAAAABZQAAAAAAAAFlAAAAAAAAAWUAAAAAAAABZQAAAAAAAAFlAAAAAAAAAWUAAAAAAAABZQAAAAAAAgFlAAAAAAADAWUAAAAAAAEBaQAAAAAAAQFpAAAAAAABAWkAAAAAAAEBaQAAAAAAAQFpAAAAAAABAWkAAAAAAAEBaQAAAAAAAQFpAAAAAAABAWkAAAAAAAEBaQAAAAAAAQFpAAAAAAABAWkAAAAAAAMBaQAAAAAAAAFtAAAAAAACAW0AAAAAAAIBbQAAAAAAAgFtAAAAAAACAW0AAAAAAAIBbQAAAAAAAgFtAAAAAAACAW0AAAAAAAIBbQAAAAAAAgFtAAAAAAACAW0AAAAAAAIBbQAAAAAAAgFtAAAAAAACAW0AAAAAAAIBbQAAAAAAAgFtAAAAAAACAW0AAAAAAAIBbQAAAAAAAgFtAAAAAAAAAXEAAAAAAAABcQAAAAAAAAFxAAAAAAABAXEAAAAAAAMBcQAAAAAAAwFxAAAAAAADAXEAAAAAAAMBcQAAAAAAAwFxAAAAAAAAAXUAAAAAAAABeQAAAAAAAAF5AAAAAAAAAXkAAAAAAAABeQAAAAAAAgF5AAAAAAABAX0AAAAAAAEBfQAAAAAAAQF9AAAAAAAAgYEAAAAAAACBgQAAAAAAAQGBAAAAAAABAYEAAAAAAAEBgQAAAAAAAQGBAAAAAAABAYEAAAAAAAIBgQAAAAAAAoGBAAAAAAADgYEAAAAAAACBhQAAAAAAAQGFAAAAAAABgYUAAAAAAAGBhQAAAAAAAgGFAAAAAAACAYUAAAAAAAIBhQAAAAAAAgGFAAAAAAACAYUAAAAAAAIBhQAAAAAAAgGFAAAAAAADAYUAAAAAAACBiQAAAAAAAIGJAAAAAAAAgYkAAAAAAACBiQAAAAAAAIGJAAAAAAAAgYkAAAAAAACBiQAAAAAAAgGJAAAAAAACgYkAAAAAAAMBiQAAAAAAAwGJAAAAAAADAYkAAAAAAAMBiQAAAAAAAwGJAAAAAAADAYkAAAAAAAMBiQAAAAAAAwGJAAAAAAADAYkAAAAAAAMBiQAAAAAAAwGJAAAAAAADAYkAAAAAAAMBiQAAAAAAAwGJAAAAAAADAYkAAAAAAAMBiQAAAAAAAwGJAAAAAAADAYkAAAAAAAMBiQAAAAAAAwGJAAAAAAADAYkAAAAAAAMBiQAAAAAAAAGNAAAAAAAAgY0AAAAAAACBjQAAAAAAAYGNAAAAAAABgY0AAAAAAAMBjQAAAAAAAAGRAAAAAAAAAZEAAAAAAAKBkQAAAAAAAoGRAAAAAAACgZEAAAAAAAKBkQAAAAAAA4GRAAAAAAABAZUAAAAAAAEBlQAAAAAAAQGVAAAAAAABAZUAAAAAAAEBlQAAAAAAA4GVAAAAAAADgZUAAAAAAAOBlQAAAAAAA4GVAAAAAAADgZUAAAAAAAIBmQAAAAAAAgGZAAAAAAACAZkAAAAAAAIBmQAAAAAAAgGZAAAAAAADAZ0AAAAAAAMBnQAAAAAAAwGdAAAAAAAAgaEAAAAAAAMBoQAAAAAAAwGhAAAAAAAAAaUAAAAAAAABqQAAAAAAAQGpAAAAAAADgakAAAAAAAOBqQAAAAAAA4GpAAAAAAACAa0AAAAAAACBsQAAAAAAAIGxAAAAAAAAgbEAAAAAAAMBsQA==",
          "dtype": "f8"
         },
         "xaxis": "x",
         "y": {
          "bdata": "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",
          "dtype": "f8"
         },
         "yaxis": "y"
        },
        {
         "mode": "lines",
         "name": "Linear Prediction",
         "type": "scatter",
         "x": {
          "bdata": "AAAAAAAAR0AAAAAAAABHQAAAAAAAAEhAAAAAAAAASEAAAAAAAABIQAAAAAAAgEhAAAAAAAAASkAAAAAAAABKQAAAAAAAAEpAAAAAAAAASkAAAAAAAIBKQAAAAAAAgEpAAAAAAAAAS0AAAAAAAABNQAAAAAAAAE1AAAAAAAAATkAAAAAAAABOQAAAAAAAAE5AAAAAAAAATkAAAAAAAABOQAAAAAAAgE5AAAAAAAAAT0AAAAAAAABPQAAAAAAAgE9AAAAAAACAT0AAAAAAAIBPQAAAAAAAAFBAAAAAAABAUEAAAAAAAEBQQAAAAAAAQFBAAAAAAABAUEAAAAAAAEBQQAAAAAAAQFBAAAAAAABAUEAAAAAAAEBQQAAAAAAAQFBAAAAAAABAUEAAAAAAAIBQQAAAAAAAwFBAAAAAAADAUEAAAAAAAMBQQAAAAAAAwFBAAAAAAADAUEAAAAAAAMBQQAAAAAAAwFBAAAAAAADAUEAAAAAAAMBQQAAAAAAAwFBAAAAAAADAUEAAAAAAAMBQQAAAAAAAAFFAAAAAAAAAUUAAAAAAAABRQAAAAAAAAFFAAAAAAAAAUUAAAAAAAABRQAAAAAAAQFFAAAAAAABAUUAAAAAAAEBRQAAAAAAAgFFAAAAAAACAUUAAAAAAAIBRQAAAAAAAgFFAAAAAAACAUUAAAAAAAIBRQAAAAAAAgFFAAAAAAACAUUAAAAAAAIBRQAAAAAAAgFFAAAAAAACAUUAAAAAAAIBRQAAAAAAAwFFAAAAAAADAUUAAAAAAAMBRQAAAAAAAwFFAAAAAAADAUUAAAAAAAABSQAAAAAAAAFJAAAAAAAAAUkAAAAAAAABSQAAAAAAAAFJAAAAAAAAAUkAAAAAAAIBSQAAAAAAAgFJAAAAAAACAUkAAAAAAAMBSQAAAAAAAwFJAAAAAAADAUkAAAAAAAMBSQAAAAAAAwFJAAAAAAADAUkAAAAAAAMBSQAAAAAAAwFJAAAAAAADAUkAAAAAAAMBSQAAAAAAAwFJAAAAAAADAUkAAAAAAAMBSQAAAAAAAwFJAAAAAAAAAU0AAAAAAAABTQAAAAAAAAFNAAAAAAAAAU0AAAAAAAEBTQAAAAAAAgFNAAAAAAACAU0AAAAAAAIBTQAAAAAAAgFNAAAAAAACAU0AAAAAAAIBTQAAAAAAAwFNAAAAAAADAU0AAAAAAAABUQAAAAAAAAFRAAAAAAAAAVEAAAAAAAABUQAAAAAAAAFRAAAAAAAAAVEAAAAAAAABUQAAAAAAAQFRAAAAAAABAVEAAAAAAAIBUQAAAAAAAwFRAAAAAAADAVEAAAAAAAMBUQAAAAAAAwFRAAAAAAAAAVUAAAAAAAABVQAAAAAAAAFVAAAAAAAAAVUAAAAAAAABVQAAAAAAAAFVAAAAAAABAVUAAAAAAAEBVQAAAAAAAQFVAAAAAAABAVUAAAAAAAEBVQAAAAAAAQFVAAAAAAABAVUAAAAAAAEBVQAAAAAAAQFVAAAAAAACAVUAAAAAAAIBVQAAAAAAAgFVAAAAAAACAVUAAAAAAAIBVQAAAAAAAwFVAAAAAAADAVUAAAAAAAABWQAAAAAAAAFZAAAAAAAAAVkAAAAAAAABWQAAAAAAAAFZAAAAAAAAAVkAAAAAAAABWQAAAAAAAAFZAAAAAAAAAVkAAAAAAAABWQAAAAAAAAFZAAAAAAAAAVkAAAAAAAABWQAAAAAAAAFZAAAAAAAAAVkAAAAAAAABWQAAAAAAAAFZAAAAAAAAAVkAAAAAAAABWQAAAAAAAQFZAAAAAAACAVkAAAAAAAIBWQAAAAAAAgFZAAAAAAACAVkAAAAAAAIBWQAAAAAAAgFZAAAAAAACAVkAAAAAAAIBWQAAAAAAAgFZAAAAAAACAVkAAAAAAAIBWQAAAAAAAgFZAAAAAAACAVkAAAAAAAIBWQAAAAAAAgFZAAAAAAACAVkAAAAAAAIBWQAAAAAAAgFZAAAAAAACAVkAAAAAAAIBWQAAAAAAAwFZAAAAAAAAAV0AAAAAAAABXQAAAAAAAAFdAAAAAAAAAV0AAAAAAAABXQAAAAAAAAFdAAAAAAABAV0AAAAAAAIBXQAAAAAAAwFdAAAAAAADAV0AAAAAAAMBXQAAAAAAAwFdAAAAAAADAV0AAAAAAAMBXQAAAAAAAwFdAAAAAAADAV0AAAAAAAMBXQAAAAAAAwFdAAAAAAADAV0AAAAAAAMBXQAAAAAAAwFdAAAAAAADAV0AAAAAAAABYQAAAAAAAAFhAAAAAAAAAWEAAAAAAAEBYQAAAAAAAQFhAAAAAAABAWEAAAAAAAEBYQAAAAAAAQFhAAAAAAABAWEAAAAAAAEBYQAAAAAAAQFhAAAAAAABAWEAAAAAAAIBYQAAAAAAAgFhAAAAAAAAAWUAAAAAAAABZQAAAAAAAAFlAAAAAAAAAWUAAAAAAAABZQAAAAAAAAFlAAAAAAAAAWUAAAAAAAABZQAAAAAAAAFlAAAAAAAAAWUAAAAAAAABZQAAAAAAAAFlAAAAAAAAAWUAAAAAAAABZQAAAAAAAAFlAAAAAAAAAWUAAAAAAAABZQAAAAAAAgFlAAAAAAADAWUAAAAAAAEBaQAAAAAAAQFpAAAAAAABAWkAAAAAAAEBaQAAAAAAAQFpAAAAAAABAWkAAAAAAAEBaQAAAAAAAQFpAAAAAAABAWkAAAAAAAEBaQAAAAAAAQFpAAAAAAABAWkAAAAAAAMBaQAAAAAAAAFtAAAAAAACAW0AAAAAAAIBbQAAAAAAAgFtAAAAAAACAW0AAAAAAAIBbQAAAAAAAgFtAAAAAAACAW0AAAAAAAIBbQAAAAAAAgFtAAAAAAACAW0AAAAAAAIBbQAAAAAAAgFtAAAAAAACAW0AAAAAAAIBbQAAAAAAAgFtAAAAAAACAW0AAAAAAAIBbQAAAAAAAgFtAAAAAAAAAXEAAAAAAAABcQAAAAAAAAFxAAAAAAABAXEAAAAAAAMBcQAAAAAAAwFxAAAAAAADAXEAAAAAAAMBcQAAAAAAAwFxAAAAAAAAAXUAAAAAAAABeQAAAAAAAAF5AAAAAAAAAXkAAAAAAAABeQAAAAAAAgF5AAAAAAABAX0AAAAAAAEBfQAAAAAAAQF9AAAAAAAAgYEAAAAAAACBgQAAAAAAAQGBAAAAAAABAYEAAAAAAAEBgQAAAAAAAQGBAAAAAAABAYEAAAAAAAIBgQAAAAAAAoGBAAAAAAADgYEAAAAAAACBhQAAAAAAAQGFAAAAAAABgYUAAAAAAAGBhQAAAAAAAgGFAAAAAAACAYUAAAAAAAIBhQAAAAAAAgGFAAAAAAACAYUAAAAAAAIBhQAAAAAAAgGFAAAAAAADAYUAAAAAAACBiQAAAAAAAIGJAAAAAAAAgYkAAAAAAACBiQAAAAAAAIGJAAAAAAAAgYkAAAAAAACBiQAAAAAAAgGJAAAAAAACgYkAAAAAAAMBiQAAAAAAAwGJAAAAAAADAYkAAAAAAAMBiQAAAAAAAwGJAAAAAAADAYkAAAAAAAMBiQAAAAAAAwGJAAAAAAADAYkAAAAAAAMBiQAAAAAAAwGJAAAAAAADAYkAAAAAAAMBiQAAAAAAAwGJAAAAAAADAYkAAAAAAAMBiQAAAAAAAwGJAAAAAAADAYkAAAAAAAMBiQAAAAAAAwGJAAAAAAADAYkAAAAAAAMBiQAAAAAAAAGNAAAAAAAAgY0AAAAAAACBjQAAAAAAAYGNAAAAAAABgY0AAAAAAAMBjQAAAAAAAAGRAAAAAAAAAZEAAAAAAAKBkQAAAAAAAoGRAAAAAAACgZEAAAAAAAKBkQAAAAAAA4GRAAAAAAABAZUAAAAAAAEBlQAAAAAAAQGVAAAAAAABAZUAAAAAAAEBlQAAAAAAA4GVAAAAAAADgZUAAAAAAAOBlQAAAAAAA4GVAAAAAAADgZUAAAAAAAIBmQAAAAAAAgGZAAAAAAACAZkAAAAAAAIBmQAAAAAAAgGZAAAAAAADAZ0AAAAAAAMBnQAAAAAAAwGdAAAAAAAAgaEAAAAAAAMBoQAAAAAAAwGhAAAAAAAAAaUAAAAAAAABqQAAAAAAAQGpAAAAAAADgakAAAAAAAOBqQAAAAAAA4GpAAAAAAACAa0AAAAAAACBsQAAAAAAAIGxAAAAAAAAgbEAAAAAAAMBsQA==",
          "dtype": "f8"
         },
         "y": {
          "bdata": "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",
          "dtype": "f8"
         }
        }
       ],
       "layout": {
        "height": 600,
        "legend": {
         "tracegroupgap": 0
        },
        "margin": {
         "t": 60
        },
        "template": {
         "data": {
          "bar": [
           {
            "error_x": {
             "color": "#2a3f5f"
            },
            "error_y": {
             "color": "#2a3f5f"
            },
            "marker": {
             "line": {
              "color": "#E5ECF6",
              "width": 0.5
             },
             "pattern": {
              "fillmode": "overlay",
              "size": 10,
              "solidity": 0.2
             }
            },
            "type": "bar"
           }
          ],
          "barpolar": [
           {
            "marker": {
             "line": {
              "color": "#E5ECF6",
              "width": 0.5
             },
             "pattern": {
              "fillmode": "overlay",
              "size": 10,
              "solidity": 0.2
             }
            },
            "type": "barpolar"
           }
          ],
          "carpet": [
           {
            "aaxis": {
             "endlinecolor": "#2a3f5f",
             "gridcolor": "white",
             "linecolor": "white",
             "minorgridcolor": "white",
             "startlinecolor": "#2a3f5f"
            },
            "baxis": {
             "endlinecolor": "#2a3f5f",
             "gridcolor": "white",
             "linecolor": "white",
             "minorgridcolor": "white",
             "startlinecolor": "#2a3f5f"
            },
            "type": "carpet"
           }
          ],
          "choropleth": [
           {
            "colorbar": {
             "outlinewidth": 0,
             "ticks": ""
            },
            "type": "choropleth"
           }
          ],
          "contour": [
           {
            "colorbar": {
             "outlinewidth": 0,
             "ticks": ""
            },
            "colorscale": [
             [
              0,
              "#0d0887"
             ],
             [
              0.1111111111111111,
              "#46039f"
             ],
             [
              0.2222222222222222,
              "#7201a8"
             ],
             [
              0.3333333333333333,
              "#9c179e"
             ],
             [
              0.4444444444444444,
              "#bd3786"
             ],
             [
              0.5555555555555556,
              "#d8576b"
             ],
             [
              0.6666666666666666,
              "#ed7953"
             ],
             [
              0.7777777777777778,
              "#fb9f3a"
             ],
             [
              0.8888888888888888,
              "#fdca26"
             ],
             [
              1,
              "#f0f921"
             ]
            ],
            "type": "contour"
           }
          ],
          "contourcarpet": [
           {
            "colorbar": {
             "outlinewidth": 0,
             "ticks": ""
            },
            "type": "contourcarpet"
           }
          ],
          "heatmap": [
           {
            "colorbar": {
             "outlinewidth": 0,
             "ticks": ""
            },
            "colorscale": [
             [
              0,
              "#0d0887"
             ],
             [
              0.1111111111111111,
              "#46039f"
             ],
             [
              0.2222222222222222,
              "#7201a8"
             ],
             [
              0.3333333333333333,
              "#9c179e"
             ],
             [
              0.4444444444444444,
              "#bd3786"
             ],
             [
              0.5555555555555556,
              "#d8576b"
             ],
             [
              0.6666666666666666,
              "#ed7953"
             ],
             [
              0.7777777777777778,
              "#fb9f3a"
             ],
             [
              0.8888888888888888,
              "#fdca26"
             ],
             [
              1,
              "#f0f921"
             ]
            ],
            "type": "heatmap"
           }
          ],
          "histogram": [
           {
            "marker": {
             "pattern": {
              "fillmode": "overlay",
              "size": 10,
              "solidity": 0.2
             }
            },
            "type": "histogram"
           }
          ],
          "histogram2d": [
           {
            "colorbar": {
             "outlinewidth": 0,
             "ticks": ""
            },
            "colorscale": [
             [
              0,
              "#0d0887"
             ],
             [
              0.1111111111111111,
              "#46039f"
             ],
             [
              0.2222222222222222,
              "#7201a8"
             ],
             [
              0.3333333333333333,
              "#9c179e"
             ],
             [
              0.4444444444444444,
              "#bd3786"
             ],
             [
              0.5555555555555556,
              "#d8576b"
             ],
             [
              0.6666666666666666,
              "#ed7953"
             ],
             [
              0.7777777777777778,
              "#fb9f3a"
             ],
             [
              0.8888888888888888,
              "#fdca26"
             ],
             [
              1,
              "#f0f921"
             ]
            ],
            "type": "histogram2d"
           }
          ],
          "histogram2dcontour": [
           {
            "colorbar": {
             "outlinewidth": 0,
             "ticks": ""
            },
            "colorscale": [
             [
              0,
              "#0d0887"
             ],
             [
              0.1111111111111111,
              "#46039f"
             ],
             [
              0.2222222222222222,
              "#7201a8"
             ],
             [
              0.3333333333333333,
              "#9c179e"
             ],
             [
              0.4444444444444444,
              "#bd3786"
             ],
             [
              0.5555555555555556,
              "#d8576b"
             ],
             [
              0.6666666666666666,
              "#ed7953"
             ],
             [
              0.7777777777777778,
              "#fb9f3a"
             ],
             [
              0.8888888888888888,
              "#fdca26"
             ],
             [
              1,
              "#f0f921"
             ]
            ],
            "type": "histogram2dcontour"
           }
          ],
          "mesh3d": [
           {
            "colorbar": {
             "outlinewidth": 0,
             "ticks": ""
            },
            "type": "mesh3d"
           }
          ],
          "parcoords": [
           {
            "line": {
             "colorbar": {
              "outlinewidth": 0,
              "ticks": ""
             }
            },
            "type": "parcoords"
           }
          ],
          "pie": [
           {
            "automargin": true,
            "type": "pie"
           }
          ],
          "scatter": [
           {
            "fillpattern": {
             "fillmode": "overlay",
             "size": 10,
             "solidity": 0.2
            },
            "type": "scatter"
           }
          ],
          "scatter3d": [
           {
            "line": {
             "colorbar": {
              "outlinewidth": 0,
              "ticks": ""
             }
            },
            "marker": {
             "colorbar": {
              "outlinewidth": 0,
              "ticks": ""
             }
            },
            "type": "scatter3d"
           }
          ],
          "scattercarpet": [
           {
            "marker": {
             "colorbar": {
              "outlinewidth": 0,
              "ticks": ""
             }
            },
            "type": "scattercarpet"
           }
          ],
          "scattergeo": [
           {
            "marker": {
             "colorbar": {
              "outlinewidth": 0,
              "ticks": ""
             }
            },
            "type": "scattergeo"
           }
          ],
          "scattergl": [
           {
            "marker": {
             "colorbar": {
              "outlinewidth": 0,
              "ticks": ""
             }
            },
            "type": "scattergl"
           }
          ],
          "scattermap": [
           {
            "marker": {
             "colorbar": {
              "outlinewidth": 0,
              "ticks": ""
             }
            },
            "type": "scattermap"
           }
          ],
          "scattermapbox": [
           {
            "marker": {
             "colorbar": {
              "outlinewidth": 0,
              "ticks": ""
             }
            },
            "type": "scattermapbox"
           }
          ],
          "scatterpolar": [
           {
            "marker": {
             "colorbar": {
              "outlinewidth": 0,
              "ticks": ""
             }
            },
            "type": "scatterpolar"
           }
          ],
          "scatterpolargl": [
           {
            "marker": {
             "colorbar": {
              "outlinewidth": 0,
              "ticks": ""
             }
            },
            "type": "scatterpolargl"
           }
          ],
          "scatterternary": [
           {
            "marker": {
             "colorbar": {
              "outlinewidth": 0,
              "ticks": ""
             }
            },
            "type": "scatterternary"
           }
          ],
          "surface": [
           {
            "colorbar": {
             "outlinewidth": 0,
             "ticks": ""
            },
            "colorscale": [
             [
              0,
              "#0d0887"
             ],
             [
              0.1111111111111111,
              "#46039f"
             ],
             [
              0.2222222222222222,
              "#7201a8"
             ],
             [
              0.3333333333333333,
              "#9c179e"
             ],
             [
              0.4444444444444444,
              "#bd3786"
             ],
             [
              0.5555555555555556,
              "#d8576b"
             ],
             [
              0.6666666666666666,
              "#ed7953"
             ],
             [
              0.7777777777777778,
              "#fb9f3a"
             ],
             [
              0.8888888888888888,
              "#fdca26"
             ],
             [
              1,
              "#f0f921"
             ]
            ],
            "type": "surface"
           }
          ],
          "table": [
           {
            "cells": {
             "fill": {
              "color": "#EBF0F8"
             },
             "line": {
              "color": "white"
             }
            },
            "header": {
             "fill": {
              "color": "#C8D4E3"
             },
             "line": {
              "color": "white"
             }
            },
            "type": "table"
           }
          ]
         },
         "layout": {
          "annotationdefaults": {
           "arrowcolor": "#2a3f5f",
           "arrowhead": 0,
           "arrowwidth": 1
          },
          "autotypenumbers": "strict",
          "coloraxis": {
           "colorbar": {
            "outlinewidth": 0,
            "ticks": ""
           }
          },
          "colorscale": {
           "diverging": [
            [
             0,
             "#8e0152"
            ],
            [
             0.1,
             "#c51b7d"
            ],
            [
             0.2,
             "#de77ae"
            ],
            [
             0.3,
             "#f1b6da"
            ],
            [
             0.4,
             "#fde0ef"
            ],
            [
             0.5,
             "#f7f7f7"
            ],
            [
             0.6,
             "#e6f5d0"
            ],
            [
             0.7,
             "#b8e186"
            ],
            [
             0.8,
             "#7fbc41"
            ],
            [
             0.9,
             "#4d9221"
            ],
            [
             1,
             "#276419"
            ]
           ],
           "sequential": [
            [
             0,
             "#0d0887"
            ],
            [
             0.1111111111111111,
             "#46039f"
            ],
            [
             0.2222222222222222,
             "#7201a8"
            ],
            [
             0.3333333333333333,
             "#9c179e"
            ],
            [
             0.4444444444444444,
             "#bd3786"
            ],
            [
             0.5555555555555556,
             "#d8576b"
            ],
            [
             0.6666666666666666,
             "#ed7953"
            ],
            [
             0.7777777777777778,
             "#fb9f3a"
            ],
            [
             0.8888888888888888,
             "#fdca26"
            ],
            [
             1,
             "#f0f921"
            ]
           ],
           "sequentialminus": [
            [
             0,
             "#0d0887"
            ],
            [
             0.1111111111111111,
             "#46039f"
            ],
            [
             0.2222222222222222,
             "#7201a8"
            ],
            [
             0.3333333333333333,
             "#9c179e"
            ],
            [
             0.4444444444444444,
             "#bd3786"
            ],
            [
             0.5555555555555556,
             "#d8576b"
            ],
            [
             0.6666666666666666,
             "#ed7953"
            ],
            [
             0.7777777777777778,
             "#fb9f3a"
            ],
            [
             0.8888888888888888,
             "#fdca26"
            ],
            [
             1,
             "#f0f921"
            ]
           ]
          },
          "colorway": [
           "#636efa",
           "#EF553B",
           "#00cc96",
           "#ab63fa",
           "#FFA15A",
           "#19d3f3",
           "#FF6692",
           "#B6E880",
           "#FF97FF",
           "#FECB52"
          ],
          "font": {
           "color": "#2a3f5f"
          },
          "geo": {
           "bgcolor": "white",
           "lakecolor": "white",
           "landcolor": "#E5ECF6",
           "showlakes": true,
           "showland": true,
           "subunitcolor": "white"
          },
          "hoverlabel": {
           "align": "left"
          },
          "hovermode": "closest",
          "mapbox": {
           "style": "light"
          },
          "paper_bgcolor": "white",
          "plot_bgcolor": "#E5ECF6",
          "polar": {
           "angularaxis": {
            "gridcolor": "white",
            "linecolor": "white",
            "ticks": ""
           },
           "bgcolor": "#E5ECF6",
           "radialaxis": {
            "gridcolor": "white",
            "linecolor": "white",
            "ticks": ""
           }
          },
          "scene": {
           "xaxis": {
            "backgroundcolor": "#E5ECF6",
            "gridcolor": "white",
            "gridwidth": 2,
            "linecolor": "white",
            "showbackground": true,
            "ticks": "",
            "zerolinecolor": "white"
           },
           "yaxis": {
            "backgroundcolor": "#E5ECF6",
            "gridcolor": "white",
            "gridwidth": 2,
            "linecolor": "white",
            "showbackground": true,
            "ticks": "",
            "zerolinecolor": "white"
           },
           "zaxis": {
            "backgroundcolor": "#E5ECF6",
            "gridcolor": "white",
            "gridwidth": 2,
            "linecolor": "white",
            "showbackground": true,
            "ticks": "",
            "zerolinecolor": "white"
           }
          },
          "shapedefaults": {
           "line": {
            "color": "#2a3f5f"
           }
          },
          "ternary": {
           "aaxis": {
            "gridcolor": "white",
            "linecolor": "white",
            "ticks": ""
           },
           "baxis": {
            "gridcolor": "white",
            "linecolor": "white",
            "ticks": ""
           },
           "bgcolor": "#E5ECF6",
           "caxis": {
            "gridcolor": "white",
            "linecolor": "white",
            "ticks": ""
           }
          },
          "title": {
           "x": 0.05
          },
          "xaxis": {
           "automargin": true,
           "gridcolor": "white",
           "linecolor": "white",
           "ticks": "",
           "title": {
            "standoff": 15
           },
           "zerolinecolor": "white",
           "zerolinewidth": 2
          },
          "yaxis": {
           "automargin": true,
           "gridcolor": "white",
           "linecolor": "white",
           "ticks": "",
           "title": {
            "standoff": 15
           },
           "zerolinecolor": "white",
           "zerolinewidth": 2
          }
         }
        },
        "width": 800,
        "xaxis": {
         "anchor": "y",
         "domain": [
          0,
          1
         ],
         "title": {
          "text": "hp"
         }
        },
        "yaxis": {
         "anchor": "x",
         "domain": [
          0,
          1
         ],
         "title": {
          "text": "mpg"
         }
        }
       }
      }
     },
     "metadata": {},
     "output_type": "display_data"
    }
   ],
   "source": [
    "X = vehicles[[\"hp\"]]\n",
    "y = vehicles[\"mpg\"]\n",
    "\n",
    "hp_model = LinearRegression()\n",
    "hp_model.fit(X, y)\n",
    "hp_model_predictions = hp_model.predict(X)\n",
    "\n",
    "print(f\"MSE of model with (hp) feature: {np.mean((y-hp_model_predictions)**2)}\")\n",
    "\n",
    "fig = px.scatter(vehicles, x=\"hp\", y=\"mpg\", width=800, height=600)\n",
    "fig.add_trace(go.Scatter(x=vehicles[\"hp\"], y=hp_model_predictions,\n",
    "                         mode=\"lines\", name=\"Linear Prediction\"))\n",
    "# sns.scatterplot(data=vehicles, x=\"hp\", y=\"mpg\")\n",
    "# plt.plot(vehicles[\"hp\"], hp_model_predictions, c=\"tab:red\");\n",
    "\n"
   ]
  },
  {
   "cell_type": "markdown",
   "id": "249691a7-ea35-493c-ad04-f224e61f50c4",
   "metadata": {},
   "source": [
    "To capture the non-linear relationship between the variables, we can introduce a non-linear feature: `hp` squared. Our new model is:\n",
    "\n",
    "$$\\hat{y} = \\theta_0 + \\theta_1 (\\text{hp}) + \\theta_2 (\\text{hp}^2)$$"
   ]
  },
  {
   "cell_type": "code",
   "execution_count": 23,
   "id": "d95f79d3-df91-408e-b78d-3ba61a7a6a4b",
   "metadata": {},
   "outputs": [
    {
     "name": "stdout",
     "output_type": "stream",
     "text": [
      "MSE of model with (hp^2) feature: 18.984768907617216\n"
     ]
    },
    {
     "data": {
      "application/vnd.plotly.v1+json": {
       "config": {
        "plotlyServerURL": "https://plot.ly"
       },
       "data": [
        {
         "hovertemplate": "hp=%{x}<br>mpg=%{y}<extra></extra>",
         "legendgroup": "",
         "marker": {
          "color": "#636efa",
          "symbol": "circle"
         },
         "mode": "markers",
         "name": "",
         "orientation": "v",
         "showlegend": false,
         "type": "scatter",
         "x": {
          "bdata": "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",
          "dtype": "f8"
         },
         "xaxis": "x",
         "y": {
          "bdata": "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",
          "dtype": "f8"
         },
         "yaxis": "y"
        },
        {
         "mode": "lines",
         "name": "Quadratic Prediction",
         "type": "scatter",
         "x": {
          "bdata": "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",
          "dtype": "f8"
         },
         "y": {
          "bdata": "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",
          "dtype": "f8"
         }
        }
       ],
       "layout": {
        "height": 600,
        "legend": {
         "tracegroupgap": 0
        },
        "margin": {
         "t": 60
        },
        "template": {
         "data": {
          "bar": [
           {
            "error_x": {
             "color": "#2a3f5f"
            },
            "error_y": {
             "color": "#2a3f5f"
            },
            "marker": {
             "line": {
              "color": "#E5ECF6",
              "width": 0.5
             },
             "pattern": {
              "fillmode": "overlay",
              "size": 10,
              "solidity": 0.2
             }
            },
            "type": "bar"
           }
          ],
          "barpolar": [
           {
            "marker": {
             "line": {
              "color": "#E5ECF6",
              "width": 0.5
             },
             "pattern": {
              "fillmode": "overlay",
              "size": 10,
              "solidity": 0.2
             }
            },
            "type": "barpolar"
           }
          ],
          "carpet": [
           {
            "aaxis": {
             "endlinecolor": "#2a3f5f",
             "gridcolor": "white",
             "linecolor": "white",
             "minorgridcolor": "white",
             "startlinecolor": "#2a3f5f"
            },
            "baxis": {
             "endlinecolor": "#2a3f5f",
             "gridcolor": "white",
             "linecolor": "white",
             "minorgridcolor": "white",
             "startlinecolor": "#2a3f5f"
            },
            "type": "carpet"
           }
          ],
          "choropleth": [
           {
            "colorbar": {
             "outlinewidth": 0,
             "ticks": ""
            },
            "type": "choropleth"
           }
          ],
          "contour": [
           {
            "colorbar": {
             "outlinewidth": 0,
             "ticks": ""
            },
            "colorscale": [
             [
              0,
              "#0d0887"
             ],
             [
              0.1111111111111111,
              "#46039f"
             ],
             [
              0.2222222222222222,
              "#7201a8"
             ],
             [
              0.3333333333333333,
              "#9c179e"
             ],
             [
              0.4444444444444444,
              "#bd3786"
             ],
             [
              0.5555555555555556,
              "#d8576b"
             ],
             [
              0.6666666666666666,
              "#ed7953"
             ],
             [
              0.7777777777777778,
              "#fb9f3a"
             ],
             [
              0.8888888888888888,
              "#fdca26"
             ],
             [
              1,
              "#f0f921"
             ]
            ],
            "type": "contour"
           }
          ],
          "contourcarpet": [
           {
            "colorbar": {
             "outlinewidth": 0,
             "ticks": ""
            },
            "type": "contourcarpet"
           }
          ],
          "heatmap": [
           {
            "colorbar": {
             "outlinewidth": 0,
             "ticks": ""
            },
            "colorscale": [
             [
              0,
              "#0d0887"
             ],
             [
              0.1111111111111111,
              "#46039f"
             ],
             [
              0.2222222222222222,
              "#7201a8"
             ],
             [
              0.3333333333333333,
              "#9c179e"
             ],
             [
              0.4444444444444444,
              "#bd3786"
             ],
             [
              0.5555555555555556,
              "#d8576b"
             ],
             [
              0.6666666666666666,
              "#ed7953"
             ],
             [
              0.7777777777777778,
              "#fb9f3a"
             ],
             [
              0.8888888888888888,
              "#fdca26"
             ],
             [
              1,
              "#f0f921"
             ]
            ],
            "type": "heatmap"
           }
          ],
          "histogram": [
           {
            "marker": {
             "pattern": {
              "fillmode": "overlay",
              "size": 10,
              "solidity": 0.2
             }
            },
            "type": "histogram"
           }
          ],
          "histogram2d": [
           {
            "colorbar": {
             "outlinewidth": 0,
             "ticks": ""
            },
            "colorscale": [
             [
              0,
              "#0d0887"
             ],
             [
              0.1111111111111111,
              "#46039f"
             ],
             [
              0.2222222222222222,
              "#7201a8"
             ],
             [
              0.3333333333333333,
              "#9c179e"
             ],
             [
              0.4444444444444444,
              "#bd3786"
             ],
             [
              0.5555555555555556,
              "#d8576b"
             ],
             [
              0.6666666666666666,
              "#ed7953"
             ],
             [
              0.7777777777777778,
              "#fb9f3a"
             ],
             [
              0.8888888888888888,
              "#fdca26"
             ],
             [
              1,
              "#f0f921"
             ]
            ],
            "type": "histogram2d"
           }
          ],
          "histogram2dcontour": [
           {
            "colorbar": {
             "outlinewidth": 0,
             "ticks": ""
            },
            "colorscale": [
             [
              0,
              "#0d0887"
             ],
             [
              0.1111111111111111,
              "#46039f"
             ],
             [
              0.2222222222222222,
              "#7201a8"
             ],
             [
              0.3333333333333333,
              "#9c179e"
             ],
             [
              0.4444444444444444,
              "#bd3786"
             ],
             [
              0.5555555555555556,
              "#d8576b"
             ],
             [
              0.6666666666666666,
              "#ed7953"
             ],
             [
              0.7777777777777778,
              "#fb9f3a"
             ],
             [
              0.8888888888888888,
              "#fdca26"
             ],
             [
              1,
              "#f0f921"
             ]
            ],
            "type": "histogram2dcontour"
           }
          ],
          "mesh3d": [
           {
            "colorbar": {
             "outlinewidth": 0,
             "ticks": ""
            },
            "type": "mesh3d"
           }
          ],
          "parcoords": [
           {
            "line": {
             "colorbar": {
              "outlinewidth": 0,
              "ticks": ""
             }
            },
            "type": "parcoords"
           }
          ],
          "pie": [
           {
            "automargin": true,
            "type": "pie"
           }
          ],
          "scatter": [
           {
            "fillpattern": {
             "fillmode": "overlay",
             "size": 10,
             "solidity": 0.2
            },
            "type": "scatter"
           }
          ],
          "scatter3d": [
           {
            "line": {
             "colorbar": {
              "outlinewidth": 0,
              "ticks": ""
             }
            },
            "marker": {
             "colorbar": {
              "outlinewidth": 0,
              "ticks": ""
             }
            },
            "type": "scatter3d"
           }
          ],
          "scattercarpet": [
           {
            "marker": {
             "colorbar": {
              "outlinewidth": 0,
              "ticks": ""
             }
            },
            "type": "scattercarpet"
           }
          ],
          "scattergeo": [
           {
            "marker": {
             "colorbar": {
              "outlinewidth": 0,
              "ticks": ""
             }
            },
            "type": "scattergeo"
           }
          ],
          "scattergl": [
           {
            "marker": {
             "colorbar": {
              "outlinewidth": 0,
              "ticks": ""
             }
            },
            "type": "scattergl"
           }
          ],
          "scattermap": [
           {
            "marker": {
             "colorbar": {
              "outlinewidth": 0,
              "ticks": ""
             }
            },
            "type": "scattermap"
           }
          ],
          "scattermapbox": [
           {
            "marker": {
             "colorbar": {
              "outlinewidth": 0,
              "ticks": ""
             }
            },
            "type": "scattermapbox"
           }
          ],
          "scatterpolar": [
           {
            "marker": {
             "colorbar": {
              "outlinewidth": 0,
              "ticks": ""
             }
            },
            "type": "scatterpolar"
           }
          ],
          "scatterpolargl": [
           {
            "marker": {
             "colorbar": {
              "outlinewidth": 0,
              "ticks": ""
             }
            },
            "type": "scatterpolargl"
           }
          ],
          "scatterternary": [
           {
            "marker": {
             "colorbar": {
              "outlinewidth": 0,
              "ticks": ""
             }
            },
            "type": "scatterternary"
           }
          ],
          "surface": [
           {
            "colorbar": {
             "outlinewidth": 0,
             "ticks": ""
            },
            "colorscale": [
             [
              0,
              "#0d0887"
             ],
             [
              0.1111111111111111,
              "#46039f"
             ],
             [
              0.2222222222222222,
              "#7201a8"
             ],
             [
              0.3333333333333333,
              "#9c179e"
             ],
             [
              0.4444444444444444,
              "#bd3786"
             ],
             [
              0.5555555555555556,
              "#d8576b"
             ],
             [
              0.6666666666666666,
              "#ed7953"
             ],
             [
              0.7777777777777778,
              "#fb9f3a"
             ],
             [
              0.8888888888888888,
              "#fdca26"
             ],
             [
              1,
              "#f0f921"
             ]
            ],
            "type": "surface"
           }
          ],
          "table": [
           {
            "cells": {
             "fill": {
              "color": "#EBF0F8"
             },
             "line": {
              "color": "white"
             }
            },
            "header": {
             "fill": {
              "color": "#C8D4E3"
             },
             "line": {
              "color": "white"
             }
            },
            "type": "table"
           }
          ]
         },
         "layout": {
          "annotationdefaults": {
           "arrowcolor": "#2a3f5f",
           "arrowhead": 0,
           "arrowwidth": 1
          },
          "autotypenumbers": "strict",
          "coloraxis": {
           "colorbar": {
            "outlinewidth": 0,
            "ticks": ""
           }
          },
          "colorscale": {
           "diverging": [
            [
             0,
             "#8e0152"
            ],
            [
             0.1,
             "#c51b7d"
            ],
            [
             0.2,
             "#de77ae"
            ],
            [
             0.3,
             "#f1b6da"
            ],
            [
             0.4,
             "#fde0ef"
            ],
            [
             0.5,
             "#f7f7f7"
            ],
            [
             0.6,
             "#e6f5d0"
            ],
            [
             0.7,
             "#b8e186"
            ],
            [
             0.8,
             "#7fbc41"
            ],
            [
             0.9,
             "#4d9221"
            ],
            [
             1,
             "#276419"
            ]
           ],
           "sequential": [
            [
             0,
             "#0d0887"
            ],
            [
             0.1111111111111111,
             "#46039f"
            ],
            [
             0.2222222222222222,
             "#7201a8"
            ],
            [
             0.3333333333333333,
             "#9c179e"
            ],
            [
             0.4444444444444444,
             "#bd3786"
            ],
            [
             0.5555555555555556,
             "#d8576b"
            ],
            [
             0.6666666666666666,
             "#ed7953"
            ],
            [
             0.7777777777777778,
             "#fb9f3a"
            ],
            [
             0.8888888888888888,
             "#fdca26"
            ],
            [
             1,
             "#f0f921"
            ]
           ],
           "sequentialminus": [
            [
             0,
             "#0d0887"
            ],
            [
             0.1111111111111111,
             "#46039f"
            ],
            [
             0.2222222222222222,
             "#7201a8"
            ],
            [
             0.3333333333333333,
             "#9c179e"
            ],
            [
             0.4444444444444444,
             "#bd3786"
            ],
            [
             0.5555555555555556,
             "#d8576b"
            ],
            [
             0.6666666666666666,
             "#ed7953"
            ],
            [
             0.7777777777777778,
             "#fb9f3a"
            ],
            [
             0.8888888888888888,
             "#fdca26"
            ],
            [
             1,
             "#f0f921"
            ]
           ]
          },
          "colorway": [
           "#636efa",
           "#EF553B",
           "#00cc96",
           "#ab63fa",
           "#FFA15A",
           "#19d3f3",
           "#FF6692",
           "#B6E880",
           "#FF97FF",
           "#FECB52"
          ],
          "font": {
           "color": "#2a3f5f"
          },
          "geo": {
           "bgcolor": "white",
           "lakecolor": "white",
           "landcolor": "#E5ECF6",
           "showlakes": true,
           "showland": true,
           "subunitcolor": "white"
          },
          "hoverlabel": {
           "align": "left"
          },
          "hovermode": "closest",
          "mapbox": {
           "style": "light"
          },
          "paper_bgcolor": "white",
          "plot_bgcolor": "#E5ECF6",
          "polar": {
           "angularaxis": {
            "gridcolor": "white",
            "linecolor": "white",
            "ticks": ""
           },
           "bgcolor": "#E5ECF6",
           "radialaxis": {
            "gridcolor": "white",
            "linecolor": "white",
            "ticks": ""
           }
          },
          "scene": {
           "xaxis": {
            "backgroundcolor": "#E5ECF6",
            "gridcolor": "white",
            "gridwidth": 2,
            "linecolor": "white",
            "showbackground": true,
            "ticks": "",
            "zerolinecolor": "white"
           },
           "yaxis": {
            "backgroundcolor": "#E5ECF6",
            "gridcolor": "white",
            "gridwidth": 2,
            "linecolor": "white",
            "showbackground": true,
            "ticks": "",
            "zerolinecolor": "white"
           },
           "zaxis": {
            "backgroundcolor": "#E5ECF6",
            "gridcolor": "white",
            "gridwidth": 2,
            "linecolor": "white",
            "showbackground": true,
            "ticks": "",
            "zerolinecolor": "white"
           }
          },
          "shapedefaults": {
           "line": {
            "color": "#2a3f5f"
           }
          },
          "ternary": {
           "aaxis": {
            "gridcolor": "white",
            "linecolor": "white",
            "ticks": ""
           },
           "baxis": {
            "gridcolor": "white",
            "linecolor": "white",
            "ticks": ""
           },
           "bgcolor": "#E5ECF6",
           "caxis": {
            "gridcolor": "white",
            "linecolor": "white",
            "ticks": ""
           }
          },
          "title": {
           "x": 0.05
          },
          "xaxis": {
           "automargin": true,
           "gridcolor": "white",
           "linecolor": "white",
           "ticks": "",
           "title": {
            "standoff": 15
           },
           "zerolinecolor": "white",
           "zerolinewidth": 2
          },
          "yaxis": {
           "automargin": true,
           "gridcolor": "white",
           "linecolor": "white",
           "ticks": "",
           "title": {
            "standoff": 15
           },
           "zerolinecolor": "white",
           "zerolinewidth": 2
          }
         }
        },
        "width": 800,
        "xaxis": {
         "anchor": "y",
         "domain": [
          0,
          1
         ],
         "title": {
          "text": "hp"
         }
        },
        "yaxis": {
         "anchor": "x",
         "domain": [
          0,
          1
         ],
         "title": {
          "text": "mpg"
         }
        }
       }
      }
     },
     "metadata": {},
     "output_type": "display_data"
    }
   ],
   "source": [
    "X = vehicles[[\"hp\"]]\n",
    "X.loc[:, \"hp^2\"] = vehicles[\"hp\"]**2\n",
    "\n",
    "hp2_model = LinearRegression()\n",
    "hp2_model.fit(X, y)\n",
    "hp2_model_predictions = hp2_model.predict(X)\n",
    "\n",
    "\n",
    "print(f\"MSE of model with (hp^2) feature: {np.mean((y-hp2_model_predictions)**2)}\")\n",
    "\n",
    "fig = px.scatter(vehicles, x=\"hp\", y=\"mpg\", width=800, height=600)\n",
    "fig.add_trace(go.Scatter(x=vehicles[\"hp\"], y=hp2_model_predictions,\n",
    "                         mode=\"lines\", name=\"Quadratic Prediction\"))\n",
    "# sns.scatterplot(data=vehicles, x=\"hp\", y=\"mpg\")\n",
    "# plt.plot(vehicles[\"hp\"], hp2_model_predictions, c=\"tab:red\");\n"
   ]
  },
  {
   "cell_type": "markdown",
   "id": "6337bad5-873a-48ca-aa70-ba2467b60619",
   "metadata": {},
   "source": [
    "What if we take things further and add even *more* polynomial features?\n",
    "\n",
    "The cell below fits models of increasing complexity and computes their MSEs."
   ]
  },
  {
   "cell_type": "code",
   "execution_count": 24,
   "id": "8032da0c-757a-4472-940c-e72718bc514c",
   "metadata": {},
   "outputs": [],
   "source": [
    "def mse(predictions, observations):\n",
    "    return np.mean((observations - predictions)**2)\n",
    "\n",
    "# Add hp^3 and hp^4 as features to the data\n",
    "X[\"hp^3\"] = vehicles[\"hp\"]**3\n",
    "X[\"hp^4\"] = vehicles[\"hp\"]**4\n",
    "\n",
    "# Fit a model with order 3\n",
    "hp3_model = LinearRegression()\n",
    "hp3_model.fit(X[[\"hp\", \"hp^2\", \"hp^3\"]], vehicles[\"mpg\"])\n",
    "hp3_model_predictions = hp3_model.predict(X[[\"hp\", \"hp^2\", \"hp^3\"]])\n",
    "\n",
    "# Fit a model with order 4\n",
    "hp4_model = LinearRegression()\n",
    "hp4_model.fit(X[[\"hp\", \"hp^2\", \"hp^3\", \"hp^4\"]], vehicles[\"mpg\"])\n",
    "hp4_model_predictions = hp4_model.predict(X[[\"hp\", \"hp^2\", \"hp^3\", \"hp^4\"]])"
   ]
  },
  {
   "cell_type": "code",
   "execution_count": 25,
   "id": "f41811ae-72f0-4fb7-9f8c-8a57960386fd",
   "metadata": {},
   "outputs": [
    {
     "data": {
      "application/vnd.plotly.v1+json": {
       "config": {
        "plotlyServerURL": "https://plot.ly"
       },
       "data": [
        {
         "hovertemplate": "hp=%{x}<br>mpg=%{y}<extra></extra>",
         "legendgroup": "",
         "marker": {
          "color": "#636efa",
          "symbol": "circle"
         },
         "mode": "markers",
         "name": "",
         "orientation": "v",
         "showlegend": false,
         "type": "scatter",
         "x": {
          "bdata": "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",
          "dtype": "f8"
         },
         "xaxis": "x",
         "y": {
          "bdata": "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",
          "dtype": "f8"
         },
         "yaxis": "y"
        },
        {
         "mode": "lines",
         "name": "HP MSE=23.944",
         "type": "scatter",
         "x": {
          "bdata": "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",
          "dtype": "f8"
         },
         "y": {
          "bdata": "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",
          "dtype": "f8"
         }
        },
        {
         "mode": "lines",
         "name": "HP^2 MSE=18.985",
         "type": "scatter",
         "x": {
          "bdata": "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",
          "dtype": "f8"
         },
         "y": {
          "bdata": "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",
          "dtype": "f8"
         }
        },
        {
         "mode": "lines",
         "name": "HP^3 MSE=18.945",
         "type": "scatter",
         "x": {
          "bdata": "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",
          "dtype": "f8"
         },
         "y": {
          "bdata": "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",
          "dtype": "f8"
         }
        },
        {
         "mode": "lines",
         "name": "HP^4 MSE=18.876",
         "type": "scatter",
         "x": {
          "bdata": "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",
          "dtype": "f8"
         },
         "y": {
          "bdata": "DulI2VzbQkAO6UjZXNtCQHGLAyhNj0JAcYsDKE2PQkBxiwMoTY9CQGA+R90KaUJAXv9OuYj1QUBe/065iPVBQF7/TrmI9UFAXv9OuYj1QUA4LP411s5BQDgs/jXWzkFA4S8c+xCoQUA0m23FiAxBQDSbbcWIDEFAmMEIX7C+QECYwQhfsL5AQJjBCF+wvkBAmMEIX7C+QECYwQhfsL5AQAniJvXKl0BAdoURc+5wQEB2hRFz7nBAQPyfihEeSkBA/J+KER5KQED8n4oRHkpAQINsLvxcI0BAgtnmolz5P0CC2eaiXPk/QILZ5qJc+T9Agtnmolz5P0CC2eaiXPk/QILZ5qJc+T9Agtnmolz5P0CC2eaiXPk/QILZ5qJc+T9Agtnmolz5P0Bt0lRFKqw/QGXi/OcoXz9AZeL85yhfP0Bl4vznKF8/QGXi/OcoXz9AZeL85yhfP0Bl4vznKF8/QGXi/OcoXz9AZeL85yhfP0Bl4vznKF8/QGXi/OcoXz9AZeL85yhfP0Bl4vznKF8/QJy16XheEj9AnLXpeF4SP0Cctel4XhI/QJy16XheEj9AnLXpeF4SP0Cctel4XhI/QN2F2svQxT5A3YXay9DFPkDdhdrL0MU+QJAaQ5qFeT5AkBpDmoV5PkCQGkOahXk+QJAaQ5qFeT5AkBpDmoV5PkCQGkOahXk+QJAaQ5qFeT5AkBpDmoV5PkCQGkOahXk+QJAaQ5qFeT5AkBpDmoV5PkCQGkOahXk+QLDIS4OCLT5AsMhLg4ItPkCwyEuDgi0+QLDIS4OCLT5AsMhLg4ItPkDWctELzeE9QNZy0QvN4T1A1nLRC83hPUDWctELzeE9QNZy0QvN4T1A1nLRC83hPUB9CU6LYEs9QH0JTotgSz1AfQlOi2BLPUAmf4UItAA9QCZ/hQi0AD1AJn+FCLQAPUAmf4UItAA9QCZ/hQi0AD1AJn+FCLQAPUAmf4UItAA9QCZ/hQi0AD1AJn+FCLQAPUAmf4UItAA9QCZ/hQi0AD1AJn+FCLQAPUAmf4UItAA9QCZ/hQi0AD1AHwO7MWq2PEAfA7sxarY8QB8DuzFqtjxAHwO7MWq2PED6O1IIiGw8QN5dY3MSIzxA3l1jcxIjPEDeXWNzEiM8QN5dY3MSIzxA3l1jcxIjPEDeXWNzEiM8QI8quz8O2jtAjyq7Pw7aO0Bk8dofgJE7QGTx2h+AkTtAZPHaH4CRO0Bk8dofgJE7QGTx2h+AkTtAZPHaH4CRO0Bk8dofgJE7QFKP+KtsSTtAUo/4q2xJO0Dibv5h2AE7QDuIi6XHujpAO4iLpce6OkA7iIulx7o6QDuIi6XHujpAFWHzvz50OkAVYfO/PnQ6QBVh878+dDpAFWHzvz50OkAVYfO/PnQ6QBVh878+dDpAyAw+4EEuOkDIDD7gQS46QMgMPuBBLjpAyAw+4EEuOkDIDD7gQS46QMgMPuBBLjpAyAw+4EEuOkDIDD7gQS46QMgMPuBBLjpAPCwoG9XoOUA8LCgb1eg5QDwsKBvV6DlAPCwoG9XoOUA8LCgb1eg5QP7tImv8ozlA/u0ia/yjOUAkDlSwu185QCQOVLC7XzlAJA5UsLtfOUAkDlSwu185QCQOVLC7XzlAJA5UsLtfOUAkDlSwu185QCQOVLC7XzlAJA5UsLtfOUAkDlSwu185QCQOVLC7XzlAJA5UsLtfOUAkDlSwu185QCQOVLC7XzlAJA5UsLtfOUAkDlSwu185QCQOVLC7XzlAJA5UsLtfOUAkDlSwu185QG7WlbAWHDlAIh53FxHZOEAiHncXEdk4QCIedxcR2ThAIh53FxHZOEAiHncXEdk4QCIedxcR2ThAIh53FxHZOEAiHncXEdk4QCIedxcR2ThAIh53FxHZOEAiHncXEdk4QCIedxcR2ThAIh53FxHZOEAiHncXEdk4QCIedxcR2ThAIh53FxHZOEAiHncXEdk4QCIedxcR2ThAIh53FxHZOEAiHncXEdk4QC5KO3auljhADk3aQ/JUOEAOTdpD8lQ4QA5N2kPyVDhADk3aQ/JUOEAOTdpD8lQ4QA5N2kPyVDhA3aYA3d8TOEBOZQ+EetM3QKcjHGHFkzdApyMcYcWTN0CnIxxhxZM3QKcjHGHFkzdApyMcYcWTN0CnIxxhxZM3QKcjHGHFkzdApyMcYcWTN0CnIxxhxZM3QKcjHGHFkzdApyMcYcWTN0CnIxxhxZM3QKcjHGHFkzdApyMcYcWTN0DJCvGBw1Q3QMkK8YHDVDdAyQrxgcNUN0A00QzadxY3QDTRDNp3FjdANNEM2ncWN0A00QzadxY3QDTRDNp3FjdANNEM2ncWN0A00QzadxY3QDTRDNp3FjdANNEM2ncWN0D6uqJC5dg2QPq6okLl2DZA1cyQJvZfNkDVzJAm9l82QNXMkCb2XzZA1cyQJvZfNkDVzJAm9l82QNXMkCb2XzZA1cyQJvZfNkDVzJAm9l82QNXMkCb2XzZA1cyQJvZfNkDVzJAm9l82QNXMkCb2XzZA1cyQJvZfNkDVzJAm9l82QNXMkCb2XzZA1cyQJvZfNkDVzJAm9l82QOVwcOkK6jVAZGQZxjywNUCSegaf+j41QJJ6Bp/6PjVAknoGn/o+NUCSegaf+j41QJJ6Bp/6PjVAknoGn/o+NUCSegaf+j41QJJ6Bp/6PjVAknoGn/o+NUCSegaf+j41QJJ6Bp/6PjVAknoGn/o+NUDx04j76NA0QGxuERoXmzRAFj98z+kxNEAWP3zP6TE0QBY/fM/pMTRAFj98z+kxNEAWP3zP6TE0QBY/fM/pMTRAFj98z+kxNEAWP3zP6TE0QBY/fM/pMTRAFj98z+kxNEAWP3zP6TE0QBY/fM/pMTRAFj98z+kxNEAWP3zP6TE0QBY/fM/pMTRAFj98z+kxNEAWP3zP6TE0QBY/fM/pMTRAhlOnZw/MM0CGU6dnD8wzQIZTp2cPzDNArFUFv2SaM0Dy3b6KmjkzQPLdvoqaOTNA8t2+ipo5M0Dy3b6KmjkzQPLdvoqaOTNACkgwGX0KM0AMzGhxo1YyQAzMaHGjVjJADMxocaNWMkAMzGhxo1YyQJaDQLDpATJAsi/i8VqJMUCyL+LxWokxQLIv4vFaiTFAwFZces70MEDAVlx6zvQwQHjgYEjX0TBAeOBgSNfRMEB44GBI19EwQHjgYEjX0TBAeOBgSNfRMEBcpdiRgI4wQNSSXKkfbjBAWGfofu4vMEA4WPIBROovQLixEBv9sS9ACJQPCGF7L0AIlA8IYXsvQDj9k9psRi9AOP2T2mxGL0A4/ZPabEYvQDj9k9psRi9AOP2T2mxGL0A4/ZPabEYvQDj9k9psRi9ASOXOb2/hLkDgI0lyCVYuQOAjSXIJVi5A4CNJcglWLkDgI0lyCVYuQOAjSXIJVi5A4CNJcglWLkDgI0lyCVYuQPB1UjDE2C1AINNHSRGyLUDAfMmr3YwtQMB8yavdjC1AwHzJq92MLUDAfMmr3YwtQMB8yavdjC1AwHzJq92MLUDAfMmr3YwtQMB8yavdjC1AwHzJq92MLUDAfMmr3YwtQMB8yavdjC1AwHzJq92MLUDAfMmr3YwtQMB8yavdjC1AwHzJq92MLUDAfMmr3YwtQMB8yavdjC1AwHzJq92MLUDAfMmr3YwtQMB8yavdjC1AwHzJq92MLUDAfMmr3YwtQKB1f1XfRi1AEGlBnQkmLUAQaUGdCSYtQGCkiQmU6CxAYKSJCZToLEBIMxUPjZYsQEiamalWZixASJqZqVZmLECIwKRFzwIsQIjApEXPAixAiMCkRc8CLECIwKRFzwIsQEh0bBHB4itA6NvxMie6K0Do2/EyJ7orQOjb8TInuitA6NvxMie6K0Do2/EyJ7orQMgTY2IHiCtAyBNjYgeIK0DIE2NiB4grQMgTY2IHiCtAyBNjYgeIK0CI8nVgmGcrQIjydWCYZytAiPJ1YJhnK0CI8nVgmGcrQIjydWCYZytAuLp/BO1FK0C4un8E7UUrQLi6fwTtRStA6HefMUc+K0A4NYzOsC0rQDg1jM6wLStAiDsfq2EkK0DohteBvuMqQKinGposyipAiJVQq+FzKkCIlVCr4XMqQIiVUKvhcypAqFzu0H32KUCo/+cPpkgpQKj/5w+mSClAqP/nD6ZIKUBo48wIf2AoQA==",
          "dtype": "f8"
         }
        }
       ],
       "layout": {
        "height": 600,
        "legend": {
         "tracegroupgap": 0
        },
        "margin": {
         "t": 60
        },
        "template": {
         "data": {
          "bar": [
           {
            "error_x": {
             "color": "#2a3f5f"
            },
            "error_y": {
             "color": "#2a3f5f"
            },
            "marker": {
             "line": {
              "color": "#E5ECF6",
              "width": 0.5
             },
             "pattern": {
              "fillmode": "overlay",
              "size": 10,
              "solidity": 0.2
             }
            },
            "type": "bar"
           }
          ],
          "barpolar": [
           {
            "marker": {
             "line": {
              "color": "#E5ECF6",
              "width": 0.5
             },
             "pattern": {
              "fillmode": "overlay",
              "size": 10,
              "solidity": 0.2
             }
            },
            "type": "barpolar"
           }
          ],
          "carpet": [
           {
            "aaxis": {
             "endlinecolor": "#2a3f5f",
             "gridcolor": "white",
             "linecolor": "white",
             "minorgridcolor": "white",
             "startlinecolor": "#2a3f5f"
            },
            "baxis": {
             "endlinecolor": "#2a3f5f",
             "gridcolor": "white",
             "linecolor": "white",
             "minorgridcolor": "white",
             "startlinecolor": "#2a3f5f"
            },
            "type": "carpet"
           }
          ],
          "choropleth": [
           {
            "colorbar": {
             "outlinewidth": 0,
             "ticks": ""
            },
            "type": "choropleth"
           }
          ],
          "contour": [
           {
            "colorbar": {
             "outlinewidth": 0,
             "ticks": ""
            },
            "colorscale": [
             [
              0,
              "#0d0887"
             ],
             [
              0.1111111111111111,
              "#46039f"
             ],
             [
              0.2222222222222222,
              "#7201a8"
             ],
             [
              0.3333333333333333,
              "#9c179e"
             ],
             [
              0.4444444444444444,
              "#bd3786"
             ],
             [
              0.5555555555555556,
              "#d8576b"
             ],
             [
              0.6666666666666666,
              "#ed7953"
             ],
             [
              0.7777777777777778,
              "#fb9f3a"
             ],
             [
              0.8888888888888888,
              "#fdca26"
             ],
             [
              1,
              "#f0f921"
             ]
            ],
            "type": "contour"
           }
          ],
          "contourcarpet": [
           {
            "colorbar": {
             "outlinewidth": 0,
             "ticks": ""
            },
            "type": "contourcarpet"
           }
          ],
          "heatmap": [
           {
            "colorbar": {
             "outlinewidth": 0,
             "ticks": ""
            },
            "colorscale": [
             [
              0,
              "#0d0887"
             ],
             [
              0.1111111111111111,
              "#46039f"
             ],
             [
              0.2222222222222222,
              "#7201a8"
             ],
             [
              0.3333333333333333,
              "#9c179e"
             ],
             [
              0.4444444444444444,
              "#bd3786"
             ],
             [
              0.5555555555555556,
              "#d8576b"
             ],
             [
              0.6666666666666666,
              "#ed7953"
             ],
             [
              0.7777777777777778,
              "#fb9f3a"
             ],
             [
              0.8888888888888888,
              "#fdca26"
             ],
             [
              1,
              "#f0f921"
             ]
            ],
            "type": "heatmap"
           }
          ],
          "histogram": [
           {
            "marker": {
             "pattern": {
              "fillmode": "overlay",
              "size": 10,
              "solidity": 0.2
             }
            },
            "type": "histogram"
           }
          ],
          "histogram2d": [
           {
            "colorbar": {
             "outlinewidth": 0,
             "ticks": ""
            },
            "colorscale": [
             [
              0,
              "#0d0887"
             ],
             [
              0.1111111111111111,
              "#46039f"
             ],
             [
              0.2222222222222222,
              "#7201a8"
             ],
             [
              0.3333333333333333,
              "#9c179e"
             ],
             [
              0.4444444444444444,
              "#bd3786"
             ],
             [
              0.5555555555555556,
              "#d8576b"
             ],
             [
              0.6666666666666666,
              "#ed7953"
             ],
             [
              0.7777777777777778,
              "#fb9f3a"
             ],
             [
              0.8888888888888888,
              "#fdca26"
             ],
             [
              1,
              "#f0f921"
             ]
            ],
            "type": "histogram2d"
           }
          ],
          "histogram2dcontour": [
           {
            "colorbar": {
             "outlinewidth": 0,
             "ticks": ""
            },
            "colorscale": [
             [
              0,
              "#0d0887"
             ],
             [
              0.1111111111111111,
              "#46039f"
             ],
             [
              0.2222222222222222,
              "#7201a8"
             ],
             [
              0.3333333333333333,
              "#9c179e"
             ],
             [
              0.4444444444444444,
              "#bd3786"
             ],
             [
              0.5555555555555556,
              "#d8576b"
             ],
             [
              0.6666666666666666,
              "#ed7953"
             ],
             [
              0.7777777777777778,
              "#fb9f3a"
             ],
             [
              0.8888888888888888,
              "#fdca26"
             ],
             [
              1,
              "#f0f921"
             ]
            ],
            "type": "histogram2dcontour"
           }
          ],
          "mesh3d": [
           {
            "colorbar": {
             "outlinewidth": 0,
             "ticks": ""
            },
            "type": "mesh3d"
           }
          ],
          "parcoords": [
           {
            "line": {
             "colorbar": {
              "outlinewidth": 0,
              "ticks": ""
             }
            },
            "type": "parcoords"
           }
          ],
          "pie": [
           {
            "automargin": true,
            "type": "pie"
           }
          ],
          "scatter": [
           {
            "fillpattern": {
             "fillmode": "overlay",
             "size": 10,
             "solidity": 0.2
            },
            "type": "scatter"
           }
          ],
          "scatter3d": [
           {
            "line": {
             "colorbar": {
              "outlinewidth": 0,
              "ticks": ""
             }
            },
            "marker": {
             "colorbar": {
              "outlinewidth": 0,
              "ticks": ""
             }
            },
            "type": "scatter3d"
           }
          ],
          "scattercarpet": [
           {
            "marker": {
             "colorbar": {
              "outlinewidth": 0,
              "ticks": ""
             }
            },
            "type": "scattercarpet"
           }
          ],
          "scattergeo": [
           {
            "marker": {
             "colorbar": {
              "outlinewidth": 0,
              "ticks": ""
             }
            },
            "type": "scattergeo"
           }
          ],
          "scattergl": [
           {
            "marker": {
             "colorbar": {
              "outlinewidth": 0,
              "ticks": ""
             }
            },
            "type": "scattergl"
           }
          ],
          "scattermap": [
           {
            "marker": {
             "colorbar": {
              "outlinewidth": 0,
              "ticks": ""
             }
            },
            "type": "scattermap"
           }
          ],
          "scattermapbox": [
           {
            "marker": {
             "colorbar": {
              "outlinewidth": 0,
              "ticks": ""
             }
            },
            "type": "scattermapbox"
           }
          ],
          "scatterpolar": [
           {
            "marker": {
             "colorbar": {
              "outlinewidth": 0,
              "ticks": ""
             }
            },
            "type": "scatterpolar"
           }
          ],
          "scatterpolargl": [
           {
            "marker": {
             "colorbar": {
              "outlinewidth": 0,
              "ticks": ""
             }
            },
            "type": "scatterpolargl"
           }
          ],
          "scatterternary": [
           {
            "marker": {
             "colorbar": {
              "outlinewidth": 0,
              "ticks": ""
             }
            },
            "type": "scatterternary"
           }
          ],
          "surface": [
           {
            "colorbar": {
             "outlinewidth": 0,
             "ticks": ""
            },
            "colorscale": [
             [
              0,
              "#0d0887"
             ],
             [
              0.1111111111111111,
              "#46039f"
             ],
             [
              0.2222222222222222,
              "#7201a8"
             ],
             [
              0.3333333333333333,
              "#9c179e"
             ],
             [
              0.4444444444444444,
              "#bd3786"
             ],
             [
              0.5555555555555556,
              "#d8576b"
             ],
             [
              0.6666666666666666,
              "#ed7953"
             ],
             [
              0.7777777777777778,
              "#fb9f3a"
             ],
             [
              0.8888888888888888,
              "#fdca26"
             ],
             [
              1,
              "#f0f921"
             ]
            ],
            "type": "surface"
           }
          ],
          "table": [
           {
            "cells": {
             "fill": {
              "color": "#EBF0F8"
             },
             "line": {
              "color": "white"
             }
            },
            "header": {
             "fill": {
              "color": "#C8D4E3"
             },
             "line": {
              "color": "white"
             }
            },
            "type": "table"
           }
          ]
         },
         "layout": {
          "annotationdefaults": {
           "arrowcolor": "#2a3f5f",
           "arrowhead": 0,
           "arrowwidth": 1
          },
          "autotypenumbers": "strict",
          "coloraxis": {
           "colorbar": {
            "outlinewidth": 0,
            "ticks": ""
           }
          },
          "colorscale": {
           "diverging": [
            [
             0,
             "#8e0152"
            ],
            [
             0.1,
             "#c51b7d"
            ],
            [
             0.2,
             "#de77ae"
            ],
            [
             0.3,
             "#f1b6da"
            ],
            [
             0.4,
             "#fde0ef"
            ],
            [
             0.5,
             "#f7f7f7"
            ],
            [
             0.6,
             "#e6f5d0"
            ],
            [
             0.7,
             "#b8e186"
            ],
            [
             0.8,
             "#7fbc41"
            ],
            [
             0.9,
             "#4d9221"
            ],
            [
             1,
             "#276419"
            ]
           ],
           "sequential": [
            [
             0,
             "#0d0887"
            ],
            [
             0.1111111111111111,
             "#46039f"
            ],
            [
             0.2222222222222222,
             "#7201a8"
            ],
            [
             0.3333333333333333,
             "#9c179e"
            ],
            [
             0.4444444444444444,
             "#bd3786"
            ],
            [
             0.5555555555555556,
             "#d8576b"
            ],
            [
             0.6666666666666666,
             "#ed7953"
            ],
            [
             0.7777777777777778,
             "#fb9f3a"
            ],
            [
             0.8888888888888888,
             "#fdca26"
            ],
            [
             1,
             "#f0f921"
            ]
           ],
           "sequentialminus": [
            [
             0,
             "#0d0887"
            ],
            [
             0.1111111111111111,
             "#46039f"
            ],
            [
             0.2222222222222222,
             "#7201a8"
            ],
            [
             0.3333333333333333,
             "#9c179e"
            ],
            [
             0.4444444444444444,
             "#bd3786"
            ],
            [
             0.5555555555555556,
             "#d8576b"
            ],
            [
             0.6666666666666666,
             "#ed7953"
            ],
            [
             0.7777777777777778,
             "#fb9f3a"
            ],
            [
             0.8888888888888888,
             "#fdca26"
            ],
            [
             1,
             "#f0f921"
            ]
           ]
          },
          "colorway": [
           "#636efa",
           "#EF553B",
           "#00cc96",
           "#ab63fa",
           "#FFA15A",
           "#19d3f3",
           "#FF6692",
           "#B6E880",
           "#FF97FF",
           "#FECB52"
          ],
          "font": {
           "color": "#2a3f5f"
          },
          "geo": {
           "bgcolor": "white",
           "lakecolor": "white",
           "landcolor": "#E5ECF6",
           "showlakes": true,
           "showland": true,
           "subunitcolor": "white"
          },
          "hoverlabel": {
           "align": "left"
          },
          "hovermode": "closest",
          "mapbox": {
           "style": "light"
          },
          "paper_bgcolor": "white",
          "plot_bgcolor": "#E5ECF6",
          "polar": {
           "angularaxis": {
            "gridcolor": "white",
            "linecolor": "white",
            "ticks": ""
           },
           "bgcolor": "#E5ECF6",
           "radialaxis": {
            "gridcolor": "white",
            "linecolor": "white",
            "ticks": ""
           }
          },
          "scene": {
           "xaxis": {
            "backgroundcolor": "#E5ECF6",
            "gridcolor": "white",
            "gridwidth": 2,
            "linecolor": "white",
            "showbackground": true,
            "ticks": "",
            "zerolinecolor": "white"
           },
           "yaxis": {
            "backgroundcolor": "#E5ECF6",
            "gridcolor": "white",
            "gridwidth": 2,
            "linecolor": "white",
            "showbackground": true,
            "ticks": "",
            "zerolinecolor": "white"
           },
           "zaxis": {
            "backgroundcolor": "#E5ECF6",
            "gridcolor": "white",
            "gridwidth": 2,
            "linecolor": "white",
            "showbackground": true,
            "ticks": "",
            "zerolinecolor": "white"
           }
          },
          "shapedefaults": {
           "line": {
            "color": "#2a3f5f"
           }
          },
          "ternary": {
           "aaxis": {
            "gridcolor": "white",
            "linecolor": "white",
            "ticks": ""
           },
           "baxis": {
            "gridcolor": "white",
            "linecolor": "white",
            "ticks": ""
           },
           "bgcolor": "#E5ECF6",
           "caxis": {
            "gridcolor": "white",
            "linecolor": "white",
            "ticks": ""
           }
          },
          "title": {
           "x": 0.05
          },
          "xaxis": {
           "automargin": true,
           "gridcolor": "white",
           "linecolor": "white",
           "ticks": "",
           "title": {
            "standoff": 15
           },
           "zerolinecolor": "white",
           "zerolinewidth": 2
          },
          "yaxis": {
           "automargin": true,
           "gridcolor": "white",
           "linecolor": "white",
           "ticks": "",
           "title": {
            "standoff": 15
           },
           "zerolinecolor": "white",
           "zerolinewidth": 2
          }
         }
        },
        "width": 800,
        "xaxis": {
         "anchor": "y",
         "domain": [
          0,
          1
         ],
         "title": {
          "text": "hp"
         }
        },
        "yaxis": {
         "anchor": "x",
         "domain": [
          0,
          1
         ],
         "title": {
          "text": "mpg"
         }
        }
       }
      }
     },
     "metadata": {},
     "output_type": "display_data"
    }
   ],
   "source": [
    "fig = px.scatter(vehicles, x=\"hp\", y=\"mpg\", width=800, height=600)\n",
    "fig.add_trace(go.Scatter(\n",
    "    x=vehicles[\"hp\"], y=hp_model_predictions, mode=\"lines\", \n",
    "    name=f\"HP MSE={np.round(mse(vehicles['mpg'], hp_model_predictions),3)}\"))\n",
    "fig.add_trace(go.Scatter(\n",
    "    x=vehicles[\"hp\"], y=hp2_model_predictions, mode=\"lines\", \n",
    "    name=f\"HP^2 MSE={np.round(mse(vehicles['mpg'], hp2_model_predictions),3)}\"))\n",
    "fig.add_trace(go.Scatter(\n",
    "    x=vehicles[\"hp\"], y=hp3_model_predictions, mode=\"lines\", \n",
    "    name=f\"HP^3 MSE={np.round(mse(vehicles['mpg'], hp3_model_predictions),3)}\"))\n",
    "fig.add_trace(go.Scatter(\n",
    "    x=vehicles[\"hp\"], y=hp4_model_predictions, mode=\"lines\", \n",
    "    name=f\"HP^4 MSE={np.round(mse(vehicles['mpg'], hp4_model_predictions),3)}\"))"
   ]
  },
  {
   "cell_type": "markdown",
   "id": "07e18e62-17fb-4530-a4a4-dda3a999b03d",
   "metadata": {},
   "source": [
    "Visualizing differently:"
   ]
  },
  {
   "cell_type": "code",
   "execution_count": 26,
   "id": "791063a6-24ef-4f88-8e65-e457112a9510",
   "metadata": {},
   "outputs": [
    {
     "data": {
      "image/png": "[encoded data removed]",
      "text/plain": [
       "<Figure size 2400x600 with 3 Axes>"
      ]
     },
     "metadata": {
      "needs_background": "light"
     },
     "output_type": "display_data"
    }
   ],
   "source": [
    "# Plot the models' predictions\n",
    "fig, ax = plt.subplots(1, 3, dpi=200, figsize=(12, 3))\n",
    "\n",
    "predictions_dict = {0:hp2_model_predictions, 1:hp3_model_predictions, 2:hp4_model_predictions}\n",
    "\n",
    "for i in predictions_dict:\n",
    "    ax[i].scatter(vehicles[\"hp\"], vehicles[\"mpg\"], edgecolor=\"white\", lw=0.5)\n",
    "    ax[i].plot(vehicles[\"hp\"], predictions_dict[i], \"tab:red\")\n",
    "    ax[i].set_title(f\"Model with order {i+2}\")\n",
    "    ax[i].set_xlabel(\"hp\")\n",
    "    ax[i].set_ylabel(\"mpg\")\n",
    "    ax[i].annotate(f\"MSE: {np.round(mse(vehicles['mpg'], predictions_dict[i]), 3)}\", (120, 40))\n",
    "\n",
    "plt.subplots_adjust(wspace=0.3);"
   ]
  },
  {
   "cell_type": "markdown",
   "id": "e266b33f-37c6-4d39-b19c-f18fc576b19a",
   "metadata": {},
   "source": [
    "## Complexity and Overfitting\n",
    "\n",
    "What we saw above was the phenomenon of **model complexity** – as we add additional features to the design matrix, the model becomes increasingly *complex*. Models with higher complexity have lower values of training error. Intuitively, this makes sense: with more features at its disposal, the model can match the observations in the trainining data more and more closely. \n",
    "\n",
    "We can run an experiment to see this in action. In the cell below, we fit many models of progressively higher complexity, then plot the MSE of predictions on the training set. The code used (specifically, the `Pipeline` and `PolynomialFeatures` functions of `sklearn`) is out of scope.\n",
    "\n",
    "The **order** of a polynomial model is the highest power of any term in the model. An order 0 model takes the form $\\hat{y} = \\theta_0$, while an order 4 model takes the form $\\hat{y} = \\theta_0 + \\theta_1 x + \\theta_2 x^2 + \\theta_3 x^3 + \\theta_4 x^4$."
   ]
  },
  {
   "cell_type": "code",
   "execution_count": 27,
   "id": "cc3c06c3-f3bb-452f-acef-6df2661affbc",
   "metadata": {},
   "outputs": [
    {
     "data": {
      "image/png": "[encoded data removed]",
      "text/plain": [
       "<Figure size 432x288 with 1 Axes>"
      ]
     },
     "metadata": {
      "needs_background": "light"
     },
     "output_type": "display_data"
    },
    {
     "data": {
      "image/png": "[encoded data removed]",
      "text/plain": [
       "<Figure size 2250x900 with 6 Axes>"
      ]
     },
     "metadata": {
      "needs_background": "light"
     },
     "output_type": "display_data"
    }
   ],
   "source": [
    "from sklearn.pipeline import Pipeline\n",
    "from sklearn.preprocessing import PolynomialFeatures\n",
    "\n",
    "def fit_model_dataset(degree, dataset):\n",
    "    pipelined_model = Pipeline([\n",
    "            ('polynomial_transformation', PolynomialFeatures(degree)),\n",
    "            ('linear_regression', LinearRegression())    \n",
    "        ])\n",
    "\n",
    "    pipelined_model.fit(dataset[[\"hp\"]], dataset[\"mpg\"])\n",
    "    return mse(dataset['mpg'], pipelined_model.predict(dataset[[\"hp\"]]))\n",
    "\n",
    "errors = [fit_model_dataset(degree, vehicles) for degree in range(0, 6)]\n",
    "MSEs_and_k = pd.DataFrame({\"k\": range(0, 6), \"MSE\": errors})\n",
    "\n",
    "plt.plot(range(0, 6), errors)\n",
    "plt.xlabel(\"Model Complexity (degree of polynomial)\")\n",
    "plt.ylabel(\"Training MSE\");\n",
    "\n",
    "def plot_degree_k_model(k, MSEs_and_k, axs):\n",
    "    pipelined_model = Pipeline([\n",
    "        ('poly_transform', PolynomialFeatures(degree = k)),\n",
    "        ('regression', LinearRegression(fit_intercept = True))    \n",
    "    ])\n",
    "    pipelined_model.fit(vehicles[[\"hp\"]], vehicles[\"mpg\"])\n",
    "    \n",
    "    row = k // 3\n",
    "    col = k % 3\n",
    "    ax = axs[row, col]\n",
    "    \n",
    "    sns.scatterplot(data=vehicles, x='hp', y='mpg', ax=ax)\n",
    "    \n",
    "    x_range = np.linspace(45, 210, 100).reshape(-1, 1)\n",
    "    ax.plot(x_range, pipelined_model.predict(pd.DataFrame(x_range, columns=['hp'])), c='tab:red', linewidth=2)\n",
    "    \n",
    "    ax.set_ylim((0, 50))\n",
    "    mse_str = f\"MSE: {MSEs_and_k.loc[k, 'MSE']:.4}\\nDegree: {k}\"\n",
    "    ax.text(130, 35, mse_str, dict(size=14))\n",
    "\n",
    "fig = plt.figure(figsize=(15, 6), dpi=150)\n",
    "axs = fig.subplots(nrows=2, ncols=3)\n",
    "\n",
    "for k in range(6):\n",
    "    plot_degree_k_model(k, MSEs_and_k, axs)\n",
    "fig.subplots_adjust(wspace=0.4, hspace=0.3)"
   ]
  },
  {
   "cell_type": "markdown",
   "id": "0197e1e3-681c-4192-8cd1-b7c97c936cbe",
   "metadata": {},
   "source": [
    "As the model increases in polynomial degree (that is, it increases in complexity), the training MSE decreases, plateauing at roughly ~18.\n",
    "\n",
    "In fact, it is a mathematical fact that if we create a polynomial model with degree $n-1$, we can *perfectly* model a set of $n$ points. For example, a set of 5 points can be perfectly modeled by a degree 4 model."
   ]
  },
  {
   "cell_type": "code",
   "execution_count": 28,
   "id": "e4bb0a9a-7052-4dcc-83a3-3b72546688fe",
   "metadata": {},
   "outputs": [
    {
     "data": {
      "image/png": "[encoded data removed]",
      "text/plain": [
       "<Figure size 2400x600 with 3 Axes>"
      ]
     },
     "metadata": {
      "needs_background": "light"
     },
     "output_type": "display_data"
    }
   ],
   "source": [
    "np.random.seed(101)\n",
    "\n",
    "fig, ax = plt.subplots(1, 3, dpi=200, figsize=(12, 3))\n",
    "\n",
    "for i in range(0, 3):\n",
    "    points = 3*np.random.uniform(size=(5, 2))\n",
    "\n",
    "    polynomial_model = Pipeline([\n",
    "                ('polynomial_transformation', PolynomialFeatures(4)),\n",
    "                ('linear_regression', LinearRegression())    \n",
    "            ])\n",
    "\n",
    "    polynomial_model.fit(points[:, [0]], points[:, 1])\n",
    "\n",
    "    ax[i].scatter(points[:, 0], points[:, 1])\n",
    "\n",
    "    xs = np.linspace(0, 3)\n",
    "    ax[i].plot(xs, polynomial_model.predict(xs[:, np.newaxis]), c=\"tab:red\");"
   ]
  },
  {
   "cell_type": "markdown",
   "id": "91667111-8fef-4fed-9c23-6f204796737a",
   "metadata": {},
   "source": [
    "You may be tempted to always design models with high polynomial degree – after all, we know that we could theoretically achieve perfect predictions by creating a model with enough polynomial features. \n",
    "\n",
    "It turns out that the examples we looked at above represent a somewhat artificial scenario: we trained our model on all the data we had available, then used the model to make predictions on this very same dataset. A more realistic situation is when we wish to apply our model on unseen data – that is, datapoints that it did not encounter during the model fitting process. \n",
    "\n",
    "Suppose we obtain a random sample of 6 datapoints from our population of vehicle data. We want to train a model on these 6 points and use it to make predictions on unseen data (perhaps cars for which we don't already know the true `mpg`). "
   ]
  },
  {
   "cell_type": "code",
   "execution_count": 29,
   "id": "0e56a90f-6a45-4383-9b91-a1527744f79e",
   "metadata": {},
   "outputs": [
    {
     "data": {
      "image/png": "[encoded data removed]",
      "text/plain": [
       "<Figure size 432x288 with 1 Axes>"
      ]
     },
     "metadata": {
      "needs_background": "light"
     },
     "output_type": "display_data"
    }
   ],
   "source": [
    "np.random.seed(100)\n",
    "\n",
    "sample_6 = vehicles.sample(6)\n",
    "\n",
    "sns.scatterplot(data=sample_6, x=\"hp\", y=\"mpg\")\n",
    "plt.ylim(-35, 50)\n",
    "plt.xlim(0, 250);"
   ]
  },
  {
   "cell_type": "markdown",
   "id": "ed3200ca-4f9a-4bd3-a63b-c2152e38e86d",
   "metadata": {},
   "source": [
    "If we design a model with polynomial degree 5, we can make perfect predictions on this sample of training data."
   ]
  },
  {
   "cell_type": "code",
   "execution_count": 30,
   "id": "6abf0537-6172-44f1-9685-8026576313ff",
   "metadata": {},
   "outputs": [
    {
     "data": {
      "image/png": "[encoded data removed]",
      "text/plain": [
       "<Figure size 432x288 with 1 Axes>"
      ]
     },
     "metadata": {
      "needs_background": "light"
     },
     "output_type": "display_data"
    }
   ],
   "source": [
    "degree_5_model = Pipeline([\n",
    "                ('polynomial_transformation', PolynomialFeatures(5)),\n",
    "                ('linear_regression', LinearRegression())    \n",
    "            ])\n",
    "\n",
    "degree_5_model.fit(sample_6[[\"hp\"]], sample_6[\"mpg\"])\n",
    "xs = np.linspace(0, 250, 1000)\n",
    "degree_5_model_predictions = degree_5_model.predict(xs[:, np.newaxis])\n",
    "\n",
    "plt.plot(xs, degree_5_model_predictions, c=\"tab:red\")\n",
    "sns.scatterplot(data=sample_6, x=\"hp\", y=\"mpg\", s=50)\n",
    "plt.ylim(-35, 50)\n",
    "plt.xlim(0, 250);"
   ]
  },
  {
   "cell_type": "markdown",
   "id": "3d19c1df-fb2d-4d5f-a623-10cc7c241976",
   "metadata": {},
   "source": [
    "However, when we reapply this fitted model to the full population of data, it fails to capture the major trends of the dataset."
   ]
  },
  {
   "cell_type": "code",
   "execution_count": 31,
   "id": "b67b9bb6-5c12-47c4-85d9-7c7fa6b61ed3",
   "metadata": {},
   "outputs": [
    {
     "data": {
      "image/png": "[encoded data removed]",
      "text/plain": [
       "<Figure size 432x288 with 1 Axes>"
      ]
     },
     "metadata": {
      "needs_background": "light"
     },
     "output_type": "display_data"
    }
   ],
   "source": [
    "plt.plot(xs, degree_5_model_predictions, c=\"tab:red\")\n",
    "sns.scatterplot(data=vehicles, x=\"hp\", y=\"mpg\", s=50)\n",
    "plt.ylim(-35, 50);"
   ]
  },
  {
   "cell_type": "markdown",
   "id": "d59caca6-18a7-4568-b4ec-e5f4ee02a505",
   "metadata": {},
   "source": [
    "The model has **overfit** to the data used to train it. It has essentially \"memorized\" the six datapoints used during model fitting, and does not generalize well to new data. \n",
    "\n",
    "Complex models tend to be more sensitive to the data used to train them. The **variance** of a model refers to its tendency to vary depending on the training data used during model fitting. It turns out that our degree-5 model has very high model variance. If we randomly sample new sets of datapoints to use in training, the model varies erratically. "
   ]
  },
  {
   "cell_type": "code",
   "execution_count": 32,
   "id": "81cc6d82-afb9-4a4a-bbc2-73d0b8904400",
   "metadata": {},
   "outputs": [
    {
     "data": {
      "image/png": "[encoded data removed]",
      "text/plain": [
       "<Figure size 2400x600 with 3 Axes>"
      ]
     },
     "metadata": {
      "needs_background": "light"
     },
     "output_type": "display_data"
    }
   ],
   "source": [
    "np.random.seed(100)\n",
    "\n",
    "fig, ax = plt.subplots(1, 3, dpi=200, figsize=(12, 3))\n",
    "\n",
    "for i in range(0, 3):\n",
    "    sample = vehicles.sample(6)\n",
    "\n",
    "    polynomial_model = Pipeline([\n",
    "                ('polynomial_transformation', PolynomialFeatures(5)),\n",
    "                ('linear_regression', LinearRegression())    \n",
    "            ])\n",
    "\n",
    "    polynomial_model.fit(sample[[\"hp\"]], sample[\"mpg\"])\n",
    "\n",
    "    ax[i].scatter(sample[[\"hp\"]], sample[\"mpg\"])\n",
    "\n",
    "    xs = np.linspace(50, 210, 1000)\n",
    "    ax[i].plot(xs, polynomial_model.predict(xs[:, np.newaxis]), c=\"tab:red\")\n",
    "    ax[i].set_ylim(-80, 100)\n",
    "    ax[i].set_xlabel(\"hp\")\n",
    "    ax[i].set_ylabel(\"mpg\")\n",
    "    ax[i].set_title(f\"Resample #{i+1}\")\n",
    "    \n",
    "fig.tight_layout();"
   ]
  },
  {
   "cell_type": "markdown",
   "id": "a8f36b32-eab0-4982-8f88-d988b71f3604",
   "metadata": {},
   "source": [
    "Visualizing differently:"
   ]
  },
  {
   "cell_type": "code",
   "execution_count": 33,
   "id": "e2fed5aa-adac-4990-be53-874486ac3241",
   "metadata": {},
   "outputs": [
    {
     "data": {
      "application/vnd.plotly.v1+json": {
       "config": {
        "plotlyServerURL": "https://plot.ly"
       },
       "data": [
        {
         "hovertemplate": "hp=%{x}<br>mpg=%{y}<extra></extra>",
         "legendgroup": "",
         "marker": {
          "color": "#636efa",
          "symbol": "circle"
         },
         "mode": "markers",
         "name": "",
         "orientation": "v",
         "showlegend": false,
         "type": "scatter",
         "x": {
          "bdata": "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",
          "dtype": "f8"
         },
         "xaxis": "x",
         "y": {
          "bdata": "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",
          "dtype": "f8"
         },
         "yaxis": "y"
        },
        {
         "legendgroup": "Sample 1",
         "marker": {
          "color": "#EF553B",
          "size": 16
         },
         "mode": "markers",
         "name": "Sample 1",
         "showlegend": false,
         "type": "scatter",
         "x": {
          "bdata": "AAAAAACAUkAAAAAAAIBTQAAAAAAAwFdAAAAAAAAAWEAAAAAAAABcQAAAAAAA4GVA",
          "dtype": "f8"
         },
         "y": {
          "bdata": "AAAAAACAQEAAAAAAAIA+QJqZmZmZGTVAAAAAAAAAOEAAAAAAAAAzQAAAAAAAACpA",
          "dtype": "f8"
         }
        },
        {
         "legendgroup": "Sample 1",
         "line": {
          "color": "#EF553B"
         },
         "mode": "lines",
         "name": "Sample 1",
         "type": "scatter",
         "x": {
          "bdata": "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",
          "dtype": "f8"
         },
         "y": {
          "bdata": "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",
          "dtype": "f8"
         }
        },
        {
         "legendgroup": "Sample 2",
         "marker": {
          "color": "#00CC96",
          "size": 16
         },
         "mode": "markers",
         "name": "Sample 2",
         "showlegend": false,
         "type": "scatter",
         "x": {
          "bdata": "AAAAAACAUkAAAAAAAABVQAAAAAAAAFdAAAAAAACAWUAAAAAAAMBiQAAAAAAAwGJA",
          "dtype": "f8"
         },
         "y": {
          "bdata": "AAAAAAAAQkAzMzMzMzM7QAAAAAAAADhAAAAAAAAANEAAAAAAAIAyQAAAAAAAACxA",
          "dtype": "f8"
         }
        },
        {
         "legendgroup": "Sample 2",
         "line": {
          "color": "#00CC96"
         },
         "mode": "lines",
         "name": "Sample 2",
         "type": "scatter",
         "x": {
          "bdata": "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",
          "dtype": "f8"
         },
         "y": {
          "bdata": "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",
          "dtype": "f8"
         }
        },
        {
         "legendgroup": "Sample 3",
         "marker": {
          "color": "#AB63FA",
          "size": 16
         },
         "mode": "markers",
         "name": "Sample 3",
         "showlegend": false,
         "type": "scatter",
         "x": {
          "bdata": "AAAAAABAWkAAAAAAAABbQAAAAAAAwGFAAAAAAADAYkAAAAAAACBjQAAAAAAAAGRA",
          "dtype": "f8"
         },
         "y": {
          "bdata": "ZmZmZmbmO0AAAAAAAAAzQAAAAAAAAC9AAAAAAAAAMEAAAAAAAAAsQAAAAAAAAChA",
          "dtype": "f8"
         }
        },
        {
         "legendgroup": "Sample 3",
         "line": {
          "color": "#AB63FA"
         },
         "mode": "lines",
         "name": "Sample 3",
         "type": "scatter",
         "x": {
          "bdata": "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",
          "dtype": "f8"
         },
         "y": {
          "bdata": "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",
          "dtype": "f8"
         }
        }
       ],
       "layout": {
        "height": 600,
        "legend": {
         "tracegroupgap": 0
        },
        "margin": {
         "t": 60
        },
        "template": {
         "data": {
          "bar": [
           {
            "error_x": {
             "color": "#2a3f5f"
            },
            "error_y": {
             "color": "#2a3f5f"
            },
            "marker": {
             "line": {
              "color": "#E5ECF6",
              "width": 0.5
             },
             "pattern": {
              "fillmode": "overlay",
              "size": 10,
              "solidity": 0.2
             }
            },
            "type": "bar"
           }
          ],
          "barpolar": [
           {
            "marker": {
             "line": {
              "color": "#E5ECF6",
              "width": 0.5
             },
             "pattern": {
              "fillmode": "overlay",
              "size": 10,
              "solidity": 0.2
             }
            },
            "type": "barpolar"
           }
          ],
          "carpet": [
           {
            "aaxis": {
             "endlinecolor": "#2a3f5f",
             "gridcolor": "white",
             "linecolor": "white",
             "minorgridcolor": "white",
             "startlinecolor": "#2a3f5f"
            },
            "baxis": {
             "endlinecolor": "#2a3f5f",
             "gridcolor": "white",
             "linecolor": "white",
             "minorgridcolor": "white",
             "startlinecolor": "#2a3f5f"
            },
            "type": "carpet"
           }
          ],
          "choropleth": [
           {
            "colorbar": {
             "outlinewidth": 0,
             "ticks": ""
            },
            "type": "choropleth"
           }
          ],
          "contour": [
           {
            "colorbar": {
             "outlinewidth": 0,
             "ticks": ""
            },
            "colorscale": [
             [
              0,
              "#0d0887"
             ],
             [
              0.1111111111111111,
              "#46039f"
             ],
             [
              0.2222222222222222,
              "#7201a8"
             ],
             [
              0.3333333333333333,
              "#9c179e"
             ],
             [
              0.4444444444444444,
              "#bd3786"
             ],
             [
              0.5555555555555556,
              "#d8576b"
             ],
             [
              0.6666666666666666,
              "#ed7953"
             ],
             [
              0.7777777777777778,
              "#fb9f3a"
             ],
             [
              0.8888888888888888,
              "#fdca26"
             ],
             [
              1,
              "#f0f921"
             ]
            ],
            "type": "contour"
           }
          ],
          "contourcarpet": [
           {
            "colorbar": {
             "outlinewidth": 0,
             "ticks": ""
            },
            "type": "contourcarpet"
           }
          ],
          "heatmap": [
           {
            "colorbar": {
             "outlinewidth": 0,
             "ticks": ""
            },
            "colorscale": [
             [
              0,
              "#0d0887"
             ],
             [
              0.1111111111111111,
              "#46039f"
             ],
             [
              0.2222222222222222,
              "#7201a8"
             ],
             [
              0.3333333333333333,
              "#9c179e"
             ],
             [
              0.4444444444444444,
              "#bd3786"
             ],
             [
              0.5555555555555556,
              "#d8576b"
             ],
             [
              0.6666666666666666,
              "#ed7953"
             ],
             [
              0.7777777777777778,
              "#fb9f3a"
             ],
             [
              0.8888888888888888,
              "#fdca26"
             ],
             [
              1,
              "#f0f921"
             ]
            ],
            "type": "heatmap"
           }
          ],
          "histogram": [
           {
            "marker": {
             "pattern": {
              "fillmode": "overlay",
              "size": 10,
              "solidity": 0.2
             }
            },
            "type": "histogram"
           }
          ],
          "histogram2d": [
           {
            "colorbar": {
             "outlinewidth": 0,
             "ticks": ""
            },
            "colorscale": [
             [
              0,
              "#0d0887"
             ],
             [
              0.1111111111111111,
              "#46039f"
             ],
             [
              0.2222222222222222,
              "#7201a8"
             ],
             [
              0.3333333333333333,
              "#9c179e"
             ],
             [
              0.4444444444444444,
              "#bd3786"
             ],
             [
              0.5555555555555556,
              "#d8576b"
             ],
             [
              0.6666666666666666,
              "#ed7953"
             ],
             [
              0.7777777777777778,
              "#fb9f3a"
             ],
             [
              0.8888888888888888,
              "#fdca26"
             ],
             [
              1,
              "#f0f921"
             ]
            ],
            "type": "histogram2d"
           }
          ],
          "histogram2dcontour": [
           {
            "colorbar": {
             "outlinewidth": 0,
             "ticks": ""
            },
            "colorscale": [
             [
              0,
              "#0d0887"
             ],
             [
              0.1111111111111111,
              "#46039f"
             ],
             [
              0.2222222222222222,
              "#7201a8"
             ],
             [
              0.3333333333333333,
              "#9c179e"
             ],
             [
              0.4444444444444444,
              "#bd3786"
             ],
             [
              0.5555555555555556,
              "#d8576b"
             ],
             [
              0.6666666666666666,
              "#ed7953"
             ],
             [
              0.7777777777777778,
              "#fb9f3a"
             ],
             [
              0.8888888888888888,
              "#fdca26"
             ],
             [
              1,
              "#f0f921"
             ]
            ],
            "type": "histogram2dcontour"
           }
          ],
          "mesh3d": [
           {
            "colorbar": {
             "outlinewidth": 0,
             "ticks": ""
            },
            "type": "mesh3d"
           }
          ],
          "parcoords": [
           {
            "line": {
             "colorbar": {
              "outlinewidth": 0,
              "ticks": ""
             }
            },
            "type": "parcoords"
           }
          ],
          "pie": [
           {
            "automargin": true,
            "type": "pie"
           }
          ],
          "scatter": [
           {
            "fillpattern": {
             "fillmode": "overlay",
             "size": 10,
             "solidity": 0.2
            },
            "type": "scatter"
           }
          ],
          "scatter3d": [
           {
            "line": {
             "colorbar": {
              "outlinewidth": 0,
              "ticks": ""
             }
            },
            "marker": {
             "colorbar": {
              "outlinewidth": 0,
              "ticks": ""
             }
            },
            "type": "scatter3d"
           }
          ],
          "scattercarpet": [
           {
            "marker": {
             "colorbar": {
              "outlinewidth": 0,
              "ticks": ""
             }
            },
            "type": "scattercarpet"
           }
          ],
          "scattergeo": [
           {
            "marker": {
             "colorbar": {
              "outlinewidth": 0,
              "ticks": ""
             }
            },
            "type": "scattergeo"
           }
          ],
          "scattergl": [
           {
            "marker": {
             "colorbar": {
              "outlinewidth": 0,
              "ticks": ""
             }
            },
            "type": "scattergl"
           }
          ],
          "scattermap": [
           {
            "marker": {
             "colorbar": {
              "outlinewidth": 0,
              "ticks": ""
             }
            },
            "type": "scattermap"
           }
          ],
          "scattermapbox": [
           {
            "marker": {
             "colorbar": {
              "outlinewidth": 0,
              "ticks": ""
             }
            },
            "type": "scattermapbox"
           }
          ],
          "scatterpolar": [
           {
            "marker": {
             "colorbar": {
              "outlinewidth": 0,
              "ticks": ""
             }
            },
            "type": "scatterpolar"
           }
          ],
          "scatterpolargl": [
           {
            "marker": {
             "colorbar": {
              "outlinewidth": 0,
              "ticks": ""
             }
            },
            "type": "scatterpolargl"
           }
          ],
          "scatterternary": [
           {
            "marker": {
             "colorbar": {
              "outlinewidth": 0,
              "ticks": ""
             }
            },
            "type": "scatterternary"
           }
          ],
          "surface": [
           {
            "colorbar": {
             "outlinewidth": 0,
             "ticks": ""
            },
            "colorscale": [
             [
              0,
              "#0d0887"
             ],
             [
              0.1111111111111111,
              "#46039f"
             ],
             [
              0.2222222222222222,
              "#7201a8"
             ],
             [
              0.3333333333333333,
              "#9c179e"
             ],
             [
              0.4444444444444444,
              "#bd3786"
             ],
             [
              0.5555555555555556,
              "#d8576b"
             ],
             [
              0.6666666666666666,
              "#ed7953"
             ],
             [
              0.7777777777777778,
              "#fb9f3a"
             ],
             [
              0.8888888888888888,
              "#fdca26"
             ],
             [
              1,
              "#f0f921"
             ]
            ],
            "type": "surface"
           }
          ],
          "table": [
           {
            "cells": {
             "fill": {
              "color": "#EBF0F8"
             },
             "line": {
              "color": "white"
             }
            },
            "header": {
             "fill": {
              "color": "#C8D4E3"
             },
             "line": {
              "color": "white"
             }
            },
            "type": "table"
           }
          ]
         },
         "layout": {
          "annotationdefaults": {
           "arrowcolor": "#2a3f5f",
           "arrowhead": 0,
           "arrowwidth": 1
          },
          "autotypenumbers": "strict",
          "coloraxis": {
           "colorbar": {
            "outlinewidth": 0,
            "ticks": ""
           }
          },
          "colorscale": {
           "diverging": [
            [
             0,
             "#8e0152"
            ],
            [
             0.1,
             "#c51b7d"
            ],
            [
             0.2,
             "#de77ae"
            ],
            [
             0.3,
             "#f1b6da"
            ],
            [
             0.4,
             "#fde0ef"
            ],
            [
             0.5,
             "#f7f7f7"
            ],
            [
             0.6,
             "#e6f5d0"
            ],
            [
             0.7,
             "#b8e186"
            ],
            [
             0.8,
             "#7fbc41"
            ],
            [
             0.9,
             "#4d9221"
            ],
            [
             1,
             "#276419"
            ]
           ],
           "sequential": [
            [
             0,
             "#0d0887"
            ],
            [
             0.1111111111111111,
             "#46039f"
            ],
            [
             0.2222222222222222,
             "#7201a8"
            ],
            [
             0.3333333333333333,
             "#9c179e"
            ],
            [
             0.4444444444444444,
             "#bd3786"
            ],
            [
             0.5555555555555556,
             "#d8576b"
            ],
            [
             0.6666666666666666,
             "#ed7953"
            ],
            [
             0.7777777777777778,
             "#fb9f3a"
            ],
            [
             0.8888888888888888,
             "#fdca26"
            ],
            [
             1,
             "#f0f921"
            ]
           ],
           "sequentialminus": [
            [
             0,
             "#0d0887"
            ],
            [
             0.1111111111111111,
             "#46039f"
            ],
            [
             0.2222222222222222,
             "#7201a8"
            ],
            [
             0.3333333333333333,
             "#9c179e"
            ],
            [
             0.4444444444444444,
             "#bd3786"
            ],
            [
             0.5555555555555556,
             "#d8576b"
            ],
            [
             0.6666666666666666,
             "#ed7953"
            ],
            [
             0.7777777777777778,
             "#fb9f3a"
            ],
            [
             0.8888888888888888,
             "#fdca26"
            ],
            [
             1,
             "#f0f921"
            ]
           ]
          },
          "colorway": [
           "#636efa",
           "#EF553B",
           "#00cc96",
           "#ab63fa",
           "#FFA15A",
           "#19d3f3",
           "#FF6692",
           "#B6E880",
           "#FF97FF",
           "#FECB52"
          ],
          "font": {
           "color": "#2a3f5f"
          },
          "geo": {
           "bgcolor": "white",
           "lakecolor": "white",
           "landcolor": "#E5ECF6",
           "showlakes": true,
           "showland": true,
           "subunitcolor": "white"
          },
          "hoverlabel": {
           "align": "left"
          },
          "hovermode": "closest",
          "mapbox": {
           "style": "light"
          },
          "paper_bgcolor": "white",
          "plot_bgcolor": "#E5ECF6",
          "polar": {
           "angularaxis": {
            "gridcolor": "white",
            "linecolor": "white",
            "ticks": ""
           },
           "bgcolor": "#E5ECF6",
           "radialaxis": {
            "gridcolor": "white",
            "linecolor": "white",
            "ticks": ""
           }
          },
          "scene": {
           "xaxis": {
            "backgroundcolor": "#E5ECF6",
            "gridcolor": "white",
            "gridwidth": 2,
            "linecolor": "white",
            "showbackground": true,
            "ticks": "",
            "zerolinecolor": "white"
           },
           "yaxis": {
            "backgroundcolor": "#E5ECF6",
            "gridcolor": "white",
            "gridwidth": 2,
            "linecolor": "white",
            "showbackground": true,
            "ticks": "",
            "zerolinecolor": "white"
           },
           "zaxis": {
            "backgroundcolor": "#E5ECF6",
            "gridcolor": "white",
            "gridwidth": 2,
            "linecolor": "white",
            "showbackground": true,
            "ticks": "",
            "zerolinecolor": "white"
           }
          },
          "shapedefaults": {
           "line": {
            "color": "#2a3f5f"
           }
          },
          "ternary": {
           "aaxis": {
            "gridcolor": "white",
            "linecolor": "white",
            "ticks": ""
           },
           "baxis": {
            "gridcolor": "white",
            "linecolor": "white",
            "ticks": ""
           },
           "bgcolor": "#E5ECF6",
           "caxis": {
            "gridcolor": "white",
            "linecolor": "white",
            "ticks": ""
           }
          },
          "title": {
           "x": 0.05
          },
          "xaxis": {
           "automargin": true,
           "gridcolor": "white",
           "linecolor": "white",
           "ticks": "",
           "title": {
            "standoff": 15
           },
           "zerolinecolor": "white",
           "zerolinewidth": 2
          },
          "yaxis": {
           "automargin": true,
           "gridcolor": "white",
           "linecolor": "white",
           "ticks": "",
           "title": {
            "standoff": 15
           },
           "zerolinecolor": "white",
           "zerolinewidth": 2
          }
         }
        },
        "width": 800,
        "xaxis": {
         "anchor": "y",
         "domain": [
          0,
          1
         ],
         "title": {
          "text": "hp"
         }
        },
        "yaxis": {
         "anchor": "x",
         "domain": [
          0,
          1
         ],
         "range": [
          0,
          50
         ],
         "title": {
          "text": "mpg"
         }
        }
       }
      }
     },
     "metadata": {},
     "output_type": "display_data"
    }
   ],
   "source": [
    "np.random.seed(16)\n",
    "\n",
    "fig = px.scatter(vehicles, x=\"hp\", y=\"mpg\", width=800, height=600)\n",
    "\n",
    "for i in range(0, 3):\n",
    "    sample = vehicles.sample(6).sort_values(\"hp\")\n",
    "    \n",
    "    polynomial_model = Pipeline([\n",
    "                ('polynomial_transformation', PolynomialFeatures(5)),\n",
    "                ('linear_regression', LinearRegression())    \n",
    "            ])\n",
    "\n",
    "    polynomial_model.fit(sample[[\"hp\"]], sample[\"mpg\"])\n",
    "    \n",
    "    name = f\"Sample {i+1}\"\n",
    "    fig.add_trace(go.Scatter(x=sample[\"hp\"], y=sample[\"mpg\"], \n",
    "        name=name, legendgroup=name, mode=\"markers\", showlegend=False,\n",
    "        marker_size=16,\n",
    "        marker_color=px.colors.qualitative.Plotly[i+1]))\n",
    "    xs = np.linspace(10, 250, 1000)\n",
    "    fig.add_trace(go.Scatter(x=xs, \n",
    "        y=polynomial_model.predict(xs[:, np.newaxis]),\n",
    "        name=name, legendgroup=name, mode=\"lines\",\n",
    "        line_color=px.colors.qualitative.Plotly[i+1]))\n",
    "\n",
    "fig.update_yaxes(range=[0, 50])"
   ]
  }
 ],
 "metadata": {
  "kernelspec": {
   "display_name": "Python 3",
   "language": "python",
   "name": "python3"
  },
  "language_info": {
   "codemirror_mode": {
    "name": "ipython",
    "version": 3
   },
   "file_extension": ".py",
   "mimetype": "text/x-python",
   "name": "python",
   "nbconvert_exporter": "python",
   "pygments_lexer": "ipython3",
   "version": "3.8.9"
  }
 },
 "nbformat": 4,
 "nbformat_minor": 5
}
