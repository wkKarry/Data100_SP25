{
 "cells": [
  {
   "cell_type": "markdown",
   "id": "6c6d2b77-a7bb-41eb-ab16-3542184a7b91",
   "metadata": {},
   "source": [
    "# Lecture 24 – Data 100, Spring 2025\n",
    "\n",
    "Data 100, Spring 2025\n",
    "\n",
    "[Acknowledgments Page](https://ds100.org/sp25/acks/)"
   ]
  },
  {
   "cell_type": "code",
   "execution_count": 13,
   "id": "2f1b941e-654b-42dd-9385-afe39fcde915",
   "metadata": {},
   "outputs": [],
   "source": [
    "import pandas as pd\n",
    "import numpy as np\n",
    "import scipy as sp\n",
    "import plotly.express as px\n",
    "import seaborn as sns"
   ]
  },
  {
   "cell_type": "markdown",
   "id": "8ef2b69d",
   "metadata": {},
   "source": [
    "## Working with High Dimensional Data\n",
    "\n",
    "In the following cells we will use visualization tools to push as far as we can in visualizing the MPG dataset in high-dimensional space:"
   ]
  },
  {
   "cell_type": "code",
   "execution_count": 14,
   "id": "fd65834b",
   "metadata": {},
   "outputs": [
    {
     "data": {
      "text/html": [
       "<div>\n",
       "<style scoped>\n",
       "    .dataframe tbody tr th:only-of-type {\n",
       "        vertical-align: middle;\n",
       "    }\n",
       "\n",
       "    .dataframe tbody tr th {\n",
       "        vertical-align: top;\n",
       "    }\n",
       "\n",
       "    .dataframe thead th {\n",
       "        text-align: right;\n",
       "    }\n",
       "</style>\n",
       "<table border=\"1\" class=\"dataframe\">\n",
       "  <thead>\n",
       "    <tr style=\"text-align: right;\">\n",
       "      <th></th>\n",
       "      <th>mpg</th>\n",
       "      <th>cylinders</th>\n",
       "      <th>displacement</th>\n",
       "      <th>horsepower</th>\n",
       "      <th>weight</th>\n",
       "      <th>acceleration</th>\n",
       "      <th>model_year</th>\n",
       "      <th>origin</th>\n",
       "      <th>name</th>\n",
       "    </tr>\n",
       "  </thead>\n",
       "  <tbody>\n",
       "    <tr>\n",
       "      <th>0</th>\n",
       "      <td>18.0</td>\n",
       "      <td>8</td>\n",
       "      <td>307.0</td>\n",
       "      <td>130.0</td>\n",
       "      <td>3504</td>\n",
       "      <td>12.0</td>\n",
       "      <td>70</td>\n",
       "      <td>usa</td>\n",
       "      <td>chevrolet chevelle malibu</td>\n",
       "    </tr>\n",
       "    <tr>\n",
       "      <th>1</th>\n",
       "      <td>15.0</td>\n",
       "      <td>8</td>\n",
       "      <td>350.0</td>\n",
       "      <td>165.0</td>\n",
       "      <td>3693</td>\n",
       "      <td>11.5</td>\n",
       "      <td>70</td>\n",
       "      <td>usa</td>\n",
       "      <td>buick skylark 320</td>\n",
       "    </tr>\n",
       "    <tr>\n",
       "      <th>2</th>\n",
       "      <td>18.0</td>\n",
       "      <td>8</td>\n",
       "      <td>318.0</td>\n",
       "      <td>150.0</td>\n",
       "      <td>3436</td>\n",
       "      <td>11.0</td>\n",
       "      <td>70</td>\n",
       "      <td>usa</td>\n",
       "      <td>plymouth satellite</td>\n",
       "    </tr>\n",
       "    <tr>\n",
       "      <th>3</th>\n",
       "      <td>16.0</td>\n",
       "      <td>8</td>\n",
       "      <td>304.0</td>\n",
       "      <td>150.0</td>\n",
       "      <td>3433</td>\n",
       "      <td>12.0</td>\n",
       "      <td>70</td>\n",
       "      <td>usa</td>\n",
       "      <td>amc rebel sst</td>\n",
       "    </tr>\n",
       "    <tr>\n",
       "      <th>4</th>\n",
       "      <td>17.0</td>\n",
       "      <td>8</td>\n",
       "      <td>302.0</td>\n",
       "      <td>140.0</td>\n",
       "      <td>3449</td>\n",
       "      <td>10.5</td>\n",
       "      <td>70</td>\n",
       "      <td>usa</td>\n",
       "      <td>ford torino</td>\n",
       "    </tr>\n",
       "  </tbody>\n",
       "</table>\n",
       "</div>"
      ],
      "text/plain": [
       "    mpg  cylinders  displacement  horsepower  weight  acceleration  \\\n",
       "0  18.0          8         307.0       130.0    3504          12.0   \n",
       "1  15.0          8         350.0       165.0    3693          11.5   \n",
       "2  18.0          8         318.0       150.0    3436          11.0   \n",
       "3  16.0          8         304.0       150.0    3433          12.0   \n",
       "4  17.0          8         302.0       140.0    3449          10.5   \n",
       "\n",
       "   model_year origin                       name  \n",
       "0          70    usa  chevrolet chevelle malibu  \n",
       "1          70    usa          buick skylark 320  \n",
       "2          70    usa         plymouth satellite  \n",
       "3          70    usa              amc rebel sst  \n",
       "4          70    usa                ford torino  "
      ]
     },
     "execution_count": 14,
     "metadata": {},
     "output_type": "execute_result"
    }
   ],
   "source": [
    "mpg = sns.load_dataset(\"mpg\").dropna()\n",
    "mpg.head()"
   ]
  },
  {
   "cell_type": "markdown",
   "id": "e95f0c05",
   "metadata": {},
   "source": [
    "## Visualizing 1 Dimensional Data"
   ]
  },
  {
   "cell_type": "code",
   "execution_count": 15,
   "id": "d39d4471",
   "metadata": {},
   "outputs": [
    {
     "data": {
      "application/vnd.plotly.v1+json": {
       "config": {
        "plotlyServerURL": "https://plot.ly"
       },
       "data": [
        {
         "bingroup": "x",
         "hovertemplate": "displacement=%{x}<br>count=%{y}<extra></extra>",
         "legendgroup": "",
         "marker": {
          "color": "#636efa",
          "pattern": {
           "shape": ""
          }
         },
         "name": "",
         "orientation": "v",
         "showlegend": false,
         "type": "histogram",
         "x": {
          "bdata": "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",
          "dtype": "f8"
         },
         "xaxis": "x",
         "yaxis": "y"
        }
       ],
       "layout": {
        "barmode": "relative",
        "legend": {
         "tracegroupgap": 0
        },
        "margin": {
         "t": 60
        },
        "template": {
         "data": {
          "bar": [
           {
            "error_x": {
             "color": "#2a3f5f"
            },
            "error_y": {
             "color": "#2a3f5f"
            },
            "marker": {
             "line": {
              "color": "#E5ECF6",
              "width": 0.5
             },
             "pattern": {
              "fillmode": "overlay",
              "size": 10,
              "solidity": 0.2
             }
            },
            "type": "bar"
           }
          ],
          "barpolar": [
           {
            "marker": {
             "line": {
              "color": "#E5ECF6",
              "width": 0.5
             },
             "pattern": {
              "fillmode": "overlay",
              "size": 10,
              "solidity": 0.2
             }
            },
            "type": "barpolar"
           }
          ],
          "carpet": [
           {
            "aaxis": {
             "endlinecolor": "#2a3f5f",
             "gridcolor": "white",
             "linecolor": "white",
             "minorgridcolor": "white",
             "startlinecolor": "#2a3f5f"
            },
            "baxis": {
             "endlinecolor": "#2a3f5f",
             "gridcolor": "white",
             "linecolor": "white",
             "minorgridcolor": "white",
             "startlinecolor": "#2a3f5f"
            },
            "type": "carpet"
           }
          ],
          "choropleth": [
           {
            "colorbar": {
             "outlinewidth": 0,
             "ticks": ""
            },
            "type": "choropleth"
           }
          ],
          "contour": [
           {
            "colorbar": {
             "outlinewidth": 0,
             "ticks": ""
            },
            "colorscale": [
             [
              0,
              "#0d0887"
             ],
             [
              0.1111111111111111,
              "#46039f"
             ],
             [
              0.2222222222222222,
              "#7201a8"
             ],
             [
              0.3333333333333333,
              "#9c179e"
             ],
             [
              0.4444444444444444,
              "#bd3786"
             ],
             [
              0.5555555555555556,
              "#d8576b"
             ],
             [
              0.6666666666666666,
              "#ed7953"
             ],
             [
              0.7777777777777778,
              "#fb9f3a"
             ],
             [
              0.8888888888888888,
              "#fdca26"
             ],
             [
              1,
              "#f0f921"
             ]
            ],
            "type": "contour"
           }
          ],
          "contourcarpet": [
           {
            "colorbar": {
             "outlinewidth": 0,
             "ticks": ""
            },
            "type": "contourcarpet"
           }
          ],
          "heatmap": [
           {
            "colorbar": {
             "outlinewidth": 0,
             "ticks": ""
            },
            "colorscale": [
             [
              0,
              "#0d0887"
             ],
             [
              0.1111111111111111,
              "#46039f"
             ],
             [
              0.2222222222222222,
              "#7201a8"
             ],
             [
              0.3333333333333333,
              "#9c179e"
             ],
             [
              0.4444444444444444,
              "#bd3786"
             ],
             [
              0.5555555555555556,
              "#d8576b"
             ],
             [
              0.6666666666666666,
              "#ed7953"
             ],
             [
              0.7777777777777778,
              "#fb9f3a"
             ],
             [
              0.8888888888888888,
              "#fdca26"
             ],
             [
              1,
              "#f0f921"
             ]
            ],
            "type": "heatmap"
           }
          ],
          "histogram": [
           {
            "marker": {
             "pattern": {
              "fillmode": "overlay",
              "size": 10,
              "solidity": 0.2
             }
            },
            "type": "histogram"
           }
          ],
          "histogram2d": [
           {
            "colorbar": {
             "outlinewidth": 0,
             "ticks": ""
            },
            "colorscale": [
             [
              0,
              "#0d0887"
             ],
             [
              0.1111111111111111,
              "#46039f"
             ],
             [
              0.2222222222222222,
              "#7201a8"
             ],
             [
              0.3333333333333333,
              "#9c179e"
             ],
             [
              0.4444444444444444,
              "#bd3786"
             ],
             [
              0.5555555555555556,
              "#d8576b"
             ],
             [
              0.6666666666666666,
              "#ed7953"
             ],
             [
              0.7777777777777778,
              "#fb9f3a"
             ],
             [
              0.8888888888888888,
              "#fdca26"
             ],
             [
              1,
              "#f0f921"
             ]
            ],
            "type": "histogram2d"
           }
          ],
          "histogram2dcontour": [
           {
            "colorbar": {
             "outlinewidth": 0,
             "ticks": ""
            },
            "colorscale": [
             [
              0,
              "#0d0887"
             ],
             [
              0.1111111111111111,
              "#46039f"
             ],
             [
              0.2222222222222222,
              "#7201a8"
             ],
             [
              0.3333333333333333,
              "#9c179e"
             ],
             [
              0.4444444444444444,
              "#bd3786"
             ],
             [
              0.5555555555555556,
              "#d8576b"
             ],
             [
              0.6666666666666666,
              "#ed7953"
             ],
             [
              0.7777777777777778,
              "#fb9f3a"
             ],
             [
              0.8888888888888888,
              "#fdca26"
             ],
             [
              1,
              "#f0f921"
             ]
            ],
            "type": "histogram2dcontour"
           }
          ],
          "mesh3d": [
           {
            "colorbar": {
             "outlinewidth": 0,
             "ticks": ""
            },
            "type": "mesh3d"
           }
          ],
          "parcoords": [
           {
            "line": {
             "colorbar": {
              "outlinewidth": 0,
              "ticks": ""
             }
            },
            "type": "parcoords"
           }
          ],
          "pie": [
           {
            "automargin": true,
            "type": "pie"
           }
          ],
          "scatter": [
           {
            "fillpattern": {
             "fillmode": "overlay",
             "size": 10,
             "solidity": 0.2
            },
            "type": "scatter"
           }
          ],
          "scatter3d": [
           {
            "line": {
             "colorbar": {
              "outlinewidth": 0,
              "ticks": ""
             }
            },
            "marker": {
             "colorbar": {
              "outlinewidth": 0,
              "ticks": ""
             }
            },
            "type": "scatter3d"
           }
          ],
          "scattercarpet": [
           {
            "marker": {
             "colorbar": {
              "outlinewidth": 0,
              "ticks": ""
             }
            },
            "type": "scattercarpet"
           }
          ],
          "scattergeo": [
           {
            "marker": {
             "colorbar": {
              "outlinewidth": 0,
              "ticks": ""
             }
            },
            "type": "scattergeo"
           }
          ],
          "scattergl": [
           {
            "marker": {
             "colorbar": {
              "outlinewidth": 0,
              "ticks": ""
             }
            },
            "type": "scattergl"
           }
          ],
          "scattermap": [
           {
            "marker": {
             "colorbar": {
              "outlinewidth": 0,
              "ticks": ""
             }
            },
            "type": "scattermap"
           }
          ],
          "scattermapbox": [
           {
            "marker": {
             "colorbar": {
              "outlinewidth": 0,
              "ticks": ""
             }
            },
            "type": "scattermapbox"
           }
          ],
          "scatterpolar": [
           {
            "marker": {
             "colorbar": {
              "outlinewidth": 0,
              "ticks": ""
             }
            },
            "type": "scatterpolar"
           }
          ],
          "scatterpolargl": [
           {
            "marker": {
             "colorbar": {
              "outlinewidth": 0,
              "ticks": ""
             }
            },
            "type": "scatterpolargl"
           }
          ],
          "scatterternary": [
           {
            "marker": {
             "colorbar": {
              "outlinewidth": 0,
              "ticks": ""
             }
            },
            "type": "scatterternary"
           }
          ],
          "surface": [
           {
            "colorbar": {
             "outlinewidth": 0,
             "ticks": ""
            },
            "colorscale": [
             [
              0,
              "#0d0887"
             ],
             [
              0.1111111111111111,
              "#46039f"
             ],
             [
              0.2222222222222222,
              "#7201a8"
             ],
             [
              0.3333333333333333,
              "#9c179e"
             ],
             [
              0.4444444444444444,
              "#bd3786"
             ],
             [
              0.5555555555555556,
              "#d8576b"
             ],
             [
              0.6666666666666666,
              "#ed7953"
             ],
             [
              0.7777777777777778,
              "#fb9f3a"
             ],
             [
              0.8888888888888888,
              "#fdca26"
             ],
             [
              1,
              "#f0f921"
             ]
            ],
            "type": "surface"
           }
          ],
          "table": [
           {
            "cells": {
             "fill": {
              "color": "#EBF0F8"
             },
             "line": {
              "color": "white"
             }
            },
            "header": {
             "fill": {
              "color": "#C8D4E3"
             },
             "line": {
              "color": "white"
             }
            },
            "type": "table"
           }
          ]
         },
         "layout": {
          "annotationdefaults": {
           "arrowcolor": "#2a3f5f",
           "arrowhead": 0,
           "arrowwidth": 1
          },
          "autotypenumbers": "strict",
          "coloraxis": {
           "colorbar": {
            "outlinewidth": 0,
            "ticks": ""
           }
          },
          "colorscale": {
           "diverging": [
            [
             0,
             "#8e0152"
            ],
            [
             0.1,
             "#c51b7d"
            ],
            [
             0.2,
             "#de77ae"
            ],
            [
             0.3,
             "#f1b6da"
            ],
            [
             0.4,
             "#fde0ef"
            ],
            [
             0.5,
             "#f7f7f7"
            ],
            [
             0.6,
             "#e6f5d0"
            ],
            [
             0.7,
             "#b8e186"
            ],
            [
             0.8,
             "#7fbc41"
            ],
            [
             0.9,
             "#4d9221"
            ],
            [
             1,
             "#276419"
            ]
           ],
           "sequential": [
            [
             0,
             "#0d0887"
            ],
            [
             0.1111111111111111,
             "#46039f"
            ],
            [
             0.2222222222222222,
             "#7201a8"
            ],
            [
             0.3333333333333333,
             "#9c179e"
            ],
            [
             0.4444444444444444,
             "#bd3786"
            ],
            [
             0.5555555555555556,
             "#d8576b"
            ],
            [
             0.6666666666666666,
             "#ed7953"
            ],
            [
             0.7777777777777778,
             "#fb9f3a"
            ],
            [
             0.8888888888888888,
             "#fdca26"
            ],
            [
             1,
             "#f0f921"
            ]
           ],
           "sequentialminus": [
            [
             0,
             "#0d0887"
            ],
            [
             0.1111111111111111,
             "#46039f"
            ],
            [
             0.2222222222222222,
             "#7201a8"
            ],
            [
             0.3333333333333333,
             "#9c179e"
            ],
            [
             0.4444444444444444,
             "#bd3786"
            ],
            [
             0.5555555555555556,
             "#d8576b"
            ],
            [
             0.6666666666666666,
             "#ed7953"
            ],
            [
             0.7777777777777778,
             "#fb9f3a"
            ],
            [
             0.8888888888888888,
             "#fdca26"
            ],
            [
             1,
             "#f0f921"
            ]
           ]
          },
          "colorway": [
           "#636efa",
           "#EF553B",
           "#00cc96",
           "#ab63fa",
           "#FFA15A",
           "#19d3f3",
           "#FF6692",
           "#B6E880",
           "#FF97FF",
           "#FECB52"
          ],
          "font": {
           "color": "#2a3f5f"
          },
          "geo": {
           "bgcolor": "white",
           "lakecolor": "white",
           "landcolor": "#E5ECF6",
           "showlakes": true,
           "showland": true,
           "subunitcolor": "white"
          },
          "hoverlabel": {
           "align": "left"
          },
          "hovermode": "closest",
          "mapbox": {
           "style": "light"
          },
          "paper_bgcolor": "white",
          "plot_bgcolor": "#E5ECF6",
          "polar": {
           "angularaxis": {
            "gridcolor": "white",
            "linecolor": "white",
            "ticks": ""
           },
           "bgcolor": "#E5ECF6",
           "radialaxis": {
            "gridcolor": "white",
            "linecolor": "white",
            "ticks": ""
           }
          },
          "scene": {
           "xaxis": {
            "backgroundcolor": "#E5ECF6",
            "gridcolor": "white",
            "gridwidth": 2,
            "linecolor": "white",
            "showbackground": true,
            "ticks": "",
            "zerolinecolor": "white"
           },
           "yaxis": {
            "backgroundcolor": "#E5ECF6",
            "gridcolor": "white",
            "gridwidth": 2,
            "linecolor": "white",
            "showbackground": true,
            "ticks": "",
            "zerolinecolor": "white"
           },
           "zaxis": {
            "backgroundcolor": "#E5ECF6",
            "gridcolor": "white",
            "gridwidth": 2,
            "linecolor": "white",
            "showbackground": true,
            "ticks": "",
            "zerolinecolor": "white"
           }
          },
          "shapedefaults": {
           "line": {
            "color": "#2a3f5f"
           }
          },
          "ternary": {
           "aaxis": {
            "gridcolor": "white",
            "linecolor": "white",
            "ticks": ""
           },
           "baxis": {
            "gridcolor": "white",
            "linecolor": "white",
            "ticks": ""
           },
           "bgcolor": "#E5ECF6",
           "caxis": {
            "gridcolor": "white",
            "linecolor": "white",
            "ticks": ""
           }
          },
          "title": {
           "x": 0.05
          },
          "xaxis": {
           "automargin": true,
           "gridcolor": "white",
           "linecolor": "white",
           "ticks": "",
           "title": {
            "standoff": 15
           },
           "zerolinecolor": "white",
           "zerolinewidth": 2
          },
          "yaxis": {
           "automargin": true,
           "gridcolor": "white",
           "linecolor": "white",
           "ticks": "",
           "title": {
            "standoff": 15
           },
           "zerolinecolor": "white",
           "zerolinewidth": 2
          }
         }
        },
        "xaxis": {
         "anchor": "y",
         "domain": [
          0,
          1
         ],
         "title": {
          "text": "displacement"
         }
        },
        "yaxis": {
         "anchor": "x",
         "domain": [
          0,
          1
         ],
         "title": {
          "text": "count"
         }
        }
       }
      }
     },
     "metadata": {},
     "output_type": "display_data"
    }
   ],
   "source": [
    "px.histogram(mpg, x=\"displacement\")"
   ]
  },
  {
   "cell_type": "markdown",
   "id": "4b0d59da",
   "metadata": {},
   "source": [
    "## Visualizing 2 Dimensional Data"
   ]
  },
  {
   "cell_type": "code",
   "execution_count": 16,
   "id": "6d3d077b",
   "metadata": {},
   "outputs": [
    {
     "data": {
      "application/vnd.plotly.v1+json": {
       "config": {
        "plotlyServerURL": "https://plot.ly"
       },
       "data": [
        {
         "hovertemplate": "displacement=%{x}<br>horsepower=%{y}<extra></extra>",
         "legendgroup": "",
         "marker": {
          "color": "#636efa",
          "symbol": "circle"
         },
         "mode": "markers",
         "name": "",
         "orientation": "v",
         "showlegend": false,
         "type": "scatter",
         "x": {
          "bdata": "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",
          "dtype": "f8"
         },
         "xaxis": "x",
         "y": {
          "bdata": "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",
          "dtype": "f8"
         },
         "yaxis": "y"
        }
       ],
       "layout": {
        "legend": {
         "tracegroupgap": 0
        },
        "margin": {
         "t": 60
        },
        "template": {
         "data": {
          "bar": [
           {
            "error_x": {
             "color": "#2a3f5f"
            },
            "error_y": {
             "color": "#2a3f5f"
            },
            "marker": {
             "line": {
              "color": "#E5ECF6",
              "width": 0.5
             },
             "pattern": {
              "fillmode": "overlay",
              "size": 10,
              "solidity": 0.2
             }
            },
            "type": "bar"
           }
          ],
          "barpolar": [
           {
            "marker": {
             "line": {
              "color": "#E5ECF6",
              "width": 0.5
             },
             "pattern": {
              "fillmode": "overlay",
              "size": 10,
              "solidity": 0.2
             }
            },
            "type": "barpolar"
           }
          ],
          "carpet": [
           {
            "aaxis": {
             "endlinecolor": "#2a3f5f",
             "gridcolor": "white",
             "linecolor": "white",
             "minorgridcolor": "white",
             "startlinecolor": "#2a3f5f"
            },
            "baxis": {
             "endlinecolor": "#2a3f5f",
             "gridcolor": "white",
             "linecolor": "white",
             "minorgridcolor": "white",
             "startlinecolor": "#2a3f5f"
            },
            "type": "carpet"
           }
          ],
          "choropleth": [
           {
            "colorbar": {
             "outlinewidth": 0,
             "ticks": ""
            },
            "type": "choropleth"
           }
          ],
          "contour": [
           {
            "colorbar": {
             "outlinewidth": 0,
             "ticks": ""
            },
            "colorscale": [
             [
              0,
              "#0d0887"
             ],
             [
              0.1111111111111111,
              "#46039f"
             ],
             [
              0.2222222222222222,
              "#7201a8"
             ],
             [
              0.3333333333333333,
              "#9c179e"
             ],
             [
              0.4444444444444444,
              "#bd3786"
             ],
             [
              0.5555555555555556,
              "#d8576b"
             ],
             [
              0.6666666666666666,
              "#ed7953"
             ],
             [
              0.7777777777777778,
              "#fb9f3a"
             ],
             [
              0.8888888888888888,
              "#fdca26"
             ],
             [
              1,
              "#f0f921"
             ]
            ],
            "type": "contour"
           }
          ],
          "contourcarpet": [
           {
            "colorbar": {
             "outlinewidth": 0,
             "ticks": ""
            },
            "type": "contourcarpet"
           }
          ],
          "heatmap": [
           {
            "colorbar": {
             "outlinewidth": 0,
             "ticks": ""
            },
            "colorscale": [
             [
              0,
              "#0d0887"
             ],
             [
              0.1111111111111111,
              "#46039f"
             ],
             [
              0.2222222222222222,
              "#7201a8"
             ],
             [
              0.3333333333333333,
              "#9c179e"
             ],
             [
              0.4444444444444444,
              "#bd3786"
             ],
             [
              0.5555555555555556,
              "#d8576b"
             ],
             [
              0.6666666666666666,
              "#ed7953"
             ],
             [
              0.7777777777777778,
              "#fb9f3a"
             ],
             [
              0.8888888888888888,
              "#fdca26"
             ],
             [
              1,
              "#f0f921"
             ]
            ],
            "type": "heatmap"
           }
          ],
          "histogram": [
           {
            "marker": {
             "pattern": {
              "fillmode": "overlay",
              "size": 10,
              "solidity": 0.2
             }
            },
            "type": "histogram"
           }
          ],
          "histogram2d": [
           {
            "colorbar": {
             "outlinewidth": 0,
             "ticks": ""
            },
            "colorscale": [
             [
              0,
              "#0d0887"
             ],
             [
              0.1111111111111111,
              "#46039f"
             ],
             [
              0.2222222222222222,
              "#7201a8"
             ],
             [
              0.3333333333333333,
              "#9c179e"
             ],
             [
              0.4444444444444444,
              "#bd3786"
             ],
             [
              0.5555555555555556,
              "#d8576b"
             ],
             [
              0.6666666666666666,
              "#ed7953"
             ],
             [
              0.7777777777777778,
              "#fb9f3a"
             ],
             [
              0.8888888888888888,
              "#fdca26"
             ],
             [
              1,
              "#f0f921"
             ]
            ],
            "type": "histogram2d"
           }
          ],
          "histogram2dcontour": [
           {
            "colorbar": {
             "outlinewidth": 0,
             "ticks": ""
            },
            "colorscale": [
             [
              0,
              "#0d0887"
             ],
             [
              0.1111111111111111,
              "#46039f"
             ],
             [
              0.2222222222222222,
              "#7201a8"
             ],
             [
              0.3333333333333333,
              "#9c179e"
             ],
             [
              0.4444444444444444,
              "#bd3786"
             ],
             [
              0.5555555555555556,
              "#d8576b"
             ],
             [
              0.6666666666666666,
              "#ed7953"
             ],
             [
              0.7777777777777778,
              "#fb9f3a"
             ],
             [
              0.8888888888888888,
              "#fdca26"
             ],
             [
              1,
              "#f0f921"
             ]
            ],
            "type": "histogram2dcontour"
           }
          ],
          "mesh3d": [
           {
            "colorbar": {
             "outlinewidth": 0,
             "ticks": ""
            },
            "type": "mesh3d"
           }
          ],
          "parcoords": [
           {
            "line": {
             "colorbar": {
              "outlinewidth": 0,
              "ticks": ""
             }
            },
            "type": "parcoords"
           }
          ],
          "pie": [
           {
            "automargin": true,
            "type": "pie"
           }
          ],
          "scatter": [
           {
            "fillpattern": {
             "fillmode": "overlay",
             "size": 10,
             "solidity": 0.2
            },
            "type": "scatter"
           }
          ],
          "scatter3d": [
           {
            "line": {
             "colorbar": {
              "outlinewidth": 0,
              "ticks": ""
             }
            },
            "marker": {
             "colorbar": {
              "outlinewidth": 0,
              "ticks": ""
             }
            },
            "type": "scatter3d"
           }
          ],
          "scattercarpet": [
           {
            "marker": {
             "colorbar": {
              "outlinewidth": 0,
              "ticks": ""
             }
            },
            "type": "scattercarpet"
           }
          ],
          "scattergeo": [
           {
            "marker": {
             "colorbar": {
              "outlinewidth": 0,
              "ticks": ""
             }
            },
            "type": "scattergeo"
           }
          ],
          "scattergl": [
           {
            "marker": {
             "colorbar": {
              "outlinewidth": 0,
              "ticks": ""
             }
            },
            "type": "scattergl"
           }
          ],
          "scattermap": [
           {
            "marker": {
             "colorbar": {
              "outlinewidth": 0,
              "ticks": ""
             }
            },
            "type": "scattermap"
           }
          ],
          "scattermapbox": [
           {
            "marker": {
             "colorbar": {
              "outlinewidth": 0,
              "ticks": ""
             }
            },
            "type": "scattermapbox"
           }
          ],
          "scatterpolar": [
           {
            "marker": {
             "colorbar": {
              "outlinewidth": 0,
              "ticks": ""
             }
            },
            "type": "scatterpolar"
           }
          ],
          "scatterpolargl": [
           {
            "marker": {
             "colorbar": {
              "outlinewidth": 0,
              "ticks": ""
             }
            },
            "type": "scatterpolargl"
           }
          ],
          "scatterternary": [
           {
            "marker": {
             "colorbar": {
              "outlinewidth": 0,
              "ticks": ""
             }
            },
            "type": "scatterternary"
           }
          ],
          "surface": [
           {
            "colorbar": {
             "outlinewidth": 0,
             "ticks": ""
            },
            "colorscale": [
             [
              0,
              "#0d0887"
             ],
             [
              0.1111111111111111,
              "#46039f"
             ],
             [
              0.2222222222222222,
              "#7201a8"
             ],
             [
              0.3333333333333333,
              "#9c179e"
             ],
             [
              0.4444444444444444,
              "#bd3786"
             ],
             [
              0.5555555555555556,
              "#d8576b"
             ],
             [
              0.6666666666666666,
              "#ed7953"
             ],
             [
              0.7777777777777778,
              "#fb9f3a"
             ],
             [
              0.8888888888888888,
              "#fdca26"
             ],
             [
              1,
              "#f0f921"
             ]
            ],
            "type": "surface"
           }
          ],
          "table": [
           {
            "cells": {
             "fill": {
              "color": "#EBF0F8"
             },
             "line": {
              "color": "white"
             }
            },
            "header": {
             "fill": {
              "color": "#C8D4E3"
             },
             "line": {
              "color": "white"
             }
            },
            "type": "table"
           }
          ]
         },
         "layout": {
          "annotationdefaults": {
           "arrowcolor": "#2a3f5f",
           "arrowhead": 0,
           "arrowwidth": 1
          },
          "autotypenumbers": "strict",
          "coloraxis": {
           "colorbar": {
            "outlinewidth": 0,
            "ticks": ""
           }
          },
          "colorscale": {
           "diverging": [
            [
             0,
             "#8e0152"
            ],
            [
             0.1,
             "#c51b7d"
            ],
            [
             0.2,
             "#de77ae"
            ],
            [
             0.3,
             "#f1b6da"
            ],
            [
             0.4,
             "#fde0ef"
            ],
            [
             0.5,
             "#f7f7f7"
            ],
            [
             0.6,
             "#e6f5d0"
            ],
            [
             0.7,
             "#b8e186"
            ],
            [
             0.8,
             "#7fbc41"
            ],
            [
             0.9,
             "#4d9221"
            ],
            [
             1,
             "#276419"
            ]
           ],
           "sequential": [
            [
             0,
             "#0d0887"
            ],
            [
             0.1111111111111111,
             "#46039f"
            ],
            [
             0.2222222222222222,
             "#7201a8"
            ],
            [
             0.3333333333333333,
             "#9c179e"
            ],
            [
             0.4444444444444444,
             "#bd3786"
            ],
            [
             0.5555555555555556,
             "#d8576b"
            ],
            [
             0.6666666666666666,
             "#ed7953"
            ],
            [
             0.7777777777777778,
             "#fb9f3a"
            ],
            [
             0.8888888888888888,
             "#fdca26"
            ],
            [
             1,
             "#f0f921"
            ]
           ],
           "sequentialminus": [
            [
             0,
             "#0d0887"
            ],
            [
             0.1111111111111111,
             "#46039f"
            ],
            [
             0.2222222222222222,
             "#7201a8"
            ],
            [
             0.3333333333333333,
             "#9c179e"
            ],
            [
             0.4444444444444444,
             "#bd3786"
            ],
            [
             0.5555555555555556,
             "#d8576b"
            ],
            [
             0.6666666666666666,
             "#ed7953"
            ],
            [
             0.7777777777777778,
             "#fb9f3a"
            ],
            [
             0.8888888888888888,
             "#fdca26"
            ],
            [
             1,
             "#f0f921"
            ]
           ]
          },
          "colorway": [
           "#636efa",
           "#EF553B",
           "#00cc96",
           "#ab63fa",
           "#FFA15A",
           "#19d3f3",
           "#FF6692",
           "#B6E880",
           "#FF97FF",
           "#FECB52"
          ],
          "font": {
           "color": "#2a3f5f"
          },
          "geo": {
           "bgcolor": "white",
           "lakecolor": "white",
           "landcolor": "#E5ECF6",
           "showlakes": true,
           "showland": true,
           "subunitcolor": "white"
          },
          "hoverlabel": {
           "align": "left"
          },
          "hovermode": "closest",
          "mapbox": {
           "style": "light"
          },
          "paper_bgcolor": "white",
          "plot_bgcolor": "#E5ECF6",
          "polar": {
           "angularaxis": {
            "gridcolor": "white",
            "linecolor": "white",
            "ticks": ""
           },
           "bgcolor": "#E5ECF6",
           "radialaxis": {
            "gridcolor": "white",
            "linecolor": "white",
            "ticks": ""
           }
          },
          "scene": {
           "xaxis": {
            "backgroundcolor": "#E5ECF6",
            "gridcolor": "white",
            "gridwidth": 2,
            "linecolor": "white",
            "showbackground": true,
            "ticks": "",
            "zerolinecolor": "white"
           },
           "yaxis": {
            "backgroundcolor": "#E5ECF6",
            "gridcolor": "white",
            "gridwidth": 2,
            "linecolor": "white",
            "showbackground": true,
            "ticks": "",
            "zerolinecolor": "white"
           },
           "zaxis": {
            "backgroundcolor": "#E5ECF6",
            "gridcolor": "white",
            "gridwidth": 2,
            "linecolor": "white",
            "showbackground": true,
            "ticks": "",
            "zerolinecolor": "white"
           }
          },
          "shapedefaults": {
           "line": {
            "color": "#2a3f5f"
           }
          },
          "ternary": {
           "aaxis": {
            "gridcolor": "white",
            "linecolor": "white",
            "ticks": ""
           },
           "baxis": {
            "gridcolor": "white",
            "linecolor": "white",
            "ticks": ""
           },
           "bgcolor": "#E5ECF6",
           "caxis": {
            "gridcolor": "white",
            "linecolor": "white",
            "ticks": ""
           }
          },
          "title": {
           "x": 0.05
          },
          "xaxis": {
           "automargin": true,
           "gridcolor": "white",
           "linecolor": "white",
           "ticks": "",
           "title": {
            "standoff": 15
           },
           "zerolinecolor": "white",
           "zerolinewidth": 2
          },
          "yaxis": {
           "automargin": true,
           "gridcolor": "white",
           "linecolor": "white",
           "ticks": "",
           "title": {
            "standoff": 15
           },
           "zerolinecolor": "white",
           "zerolinewidth": 2
          }
         }
        },
        "xaxis": {
         "anchor": "y",
         "domain": [
          0,
          1
         ],
         "title": {
          "text": "displacement"
         }
        },
        "yaxis": {
         "anchor": "x",
         "domain": [
          0,
          1
         ],
         "title": {
          "text": "horsepower"
         }
        }
       }
      }
     },
     "metadata": {},
     "output_type": "display_data"
    }
   ],
   "source": [
    "px.scatter(mpg, x=\"displacement\", y=\"horsepower\")"
   ]
  },
  {
   "cell_type": "markdown",
   "id": "93d8f8f3",
   "metadata": {},
   "source": [
    "## Visualizing 3 Dimensional Data"
   ]
  },
  {
   "cell_type": "code",
   "execution_count": 17,
   "id": "56186d74",
   "metadata": {},
   "outputs": [
    {
     "data": {
      "application/vnd.plotly.v1+json": {
       "config": {
        "plotlyServerURL": "https://plot.ly"
       },
       "data": [
        {
         "hovertemplate": "displacement=%{x}<br>horsepower=%{y}<br>weight=%{z}<extra></extra>",
         "legendgroup": "",
         "marker": {
          "color": "#636efa",
          "size": 3,
          "symbol": "circle"
         },
         "mode": "markers",
         "name": "",
         "scene": "scene",
         "showlegend": false,
         "type": "scatter3d",
         "x": {
          "bdata": "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",
          "dtype": "f8"
         },
         "y": {
          "bdata": "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",
          "dtype": "f8"
         },
         "z": {
          "bdata": "sA1tDmwNaQ15DfUQAhHYEEkRCg/rDRkOsQ4ODEQJEQvWChsKUggrB3AKfglHCboIWAoHEhgRHhF8ElII2Ai0CEoKbw0BDeYM2AxxEHAROhAAEFsTihIUFJILaAnSDEMMrAhLCBoIEQjtBk0GKgejB+YITgjOCGgJsgiyECERJxAhEFgOGRKWEWgRRhEaCTQPAhDGEO0PdQvPCaMLjQhbCfAIygl0CDQIBBBYDpQPyg/BDlgTcBELEY0QfxJXE+0OMQzODIELzQtYC54HhRMqEy4SkxHlCucIYQlLCUwIBgmoCdkI8g+2EEsHbggWCjQLRw1kCvcKUA4eDFULCA2eB5MJLAfuCcUOMA4dDi0QWxJpER4SoRCrCKsH/AhxBtMHTQg8CMYIuQlXCdAHwAyDDWgNVgw8ElgRkhExEkMPOQ+SDskO3wuVDGEMewhPCmILIAqOCq8I8QmoC5EHiwyGCo0LgQtvCgMHoAmsCAwKzwiaCHcQXhB6D3cQoQwZDcQLDQzzB3QIkQcDB0MO9g09DnkMIQfGB2sIBQpODGQPxgxyC+wOHBHXDx4Pqw79B2sIIQf8CJkHKA/cDywQxxDADWENLg7FDXwQRRDlEO8QlAe0CtkIwwoDCBsIwQeOCP8KKAqgCsEHCAfBBxYICAclDZcO8g3PDVMMlQugCmYNigw0Df4LJA5SDWENdQ2FDPAPawgACvwItgjTCbkKJwtlCQ4LRAzrClINxgdXCK0MrgtKC8EMIA0AD40Ocw/2DggR1g8VDmQPhQe3B3sHbgrKDTwPdgxcDZgIZgjkB1IIbgojCowK/AlgCLAHSAjjB3YKNgu7CzUNjAiXCu4JggnZCD4I8Ao+CCUIHwmGC7IMOgdhCDUHXgt0CcQJ8gi6CUsKPAqlClEJ2wZTB+AGEQi3BwIIwQenCP0HTAmOCKIILgk3CksKngxYDFQLcgtXDY0O9AuJDS0KUApbCQ8K3QmvCjELvAfpB7IHTQhNCHAInQjFCK0HrQfLB4ELxwsZChMLaQpCCYYL5gpSCPcIQQqgCg==",
          "dtype": "i2"
         }
        }
       ],
       "layout": {
        "height": 600,
        "legend": {
         "tracegroupgap": 0
        },
        "margin": {
         "t": 60
        },
        "scene": {
         "domain": {
          "x": [
           0,
           1
          ],
          "y": [
           0,
           1
          ]
         },
         "xaxis": {
          "title": {
           "text": "displacement"
          }
         },
         "yaxis": {
          "title": {
           "text": "horsepower"
          }
         },
         "zaxis": {
          "title": {
           "text": "weight"
          }
         }
        },
        "template": {
         "data": {
          "bar": [
           {
            "error_x": {
             "color": "#2a3f5f"
            },
            "error_y": {
             "color": "#2a3f5f"
            },
            "marker": {
             "line": {
              "color": "#E5ECF6",
              "width": 0.5
             },
             "pattern": {
              "fillmode": "overlay",
              "size": 10,
              "solidity": 0.2
             }
            },
            "type": "bar"
           }
          ],
          "barpolar": [
           {
            "marker": {
             "line": {
              "color": "#E5ECF6",
              "width": 0.5
             },
             "pattern": {
              "fillmode": "overlay",
              "size": 10,
              "solidity": 0.2
             }
            },
            "type": "barpolar"
           }
          ],
          "carpet": [
           {
            "aaxis": {
             "endlinecolor": "#2a3f5f",
             "gridcolor": "white",
             "linecolor": "white",
             "minorgridcolor": "white",
             "startlinecolor": "#2a3f5f"
            },
            "baxis": {
             "endlinecolor": "#2a3f5f",
             "gridcolor": "white",
             "linecolor": "white",
             "minorgridcolor": "white",
             "startlinecolor": "#2a3f5f"
            },
            "type": "carpet"
           }
          ],
          "choropleth": [
           {
            "colorbar": {
             "outlinewidth": 0,
             "ticks": ""
            },
            "type": "choropleth"
           }
          ],
          "contour": [
           {
            "colorbar": {
             "outlinewidth": 0,
             "ticks": ""
            },
            "colorscale": [
             [
              0,
              "#0d0887"
             ],
             [
              0.1111111111111111,
              "#46039f"
             ],
             [
              0.2222222222222222,
              "#7201a8"
             ],
             [
              0.3333333333333333,
              "#9c179e"
             ],
             [
              0.4444444444444444,
              "#bd3786"
             ],
             [
              0.5555555555555556,
              "#d8576b"
             ],
             [
              0.6666666666666666,
              "#ed7953"
             ],
             [
              0.7777777777777778,
              "#fb9f3a"
             ],
             [
              0.8888888888888888,
              "#fdca26"
             ],
             [
              1,
              "#f0f921"
             ]
            ],
            "type": "contour"
           }
          ],
          "contourcarpet": [
           {
            "colorbar": {
             "outlinewidth": 0,
             "ticks": ""
            },
            "type": "contourcarpet"
           }
          ],
          "heatmap": [
           {
            "colorbar": {
             "outlinewidth": 0,
             "ticks": ""
            },
            "colorscale": [
             [
              0,
              "#0d0887"
             ],
             [
              0.1111111111111111,
              "#46039f"
             ],
             [
              0.2222222222222222,
              "#7201a8"
             ],
             [
              0.3333333333333333,
              "#9c179e"
             ],
             [
              0.4444444444444444,
              "#bd3786"
             ],
             [
              0.5555555555555556,
              "#d8576b"
             ],
             [
              0.6666666666666666,
              "#ed7953"
             ],
             [
              0.7777777777777778,
              "#fb9f3a"
             ],
             [
              0.8888888888888888,
              "#fdca26"
             ],
             [
              1,
              "#f0f921"
             ]
            ],
            "type": "heatmap"
           }
          ],
          "histogram": [
           {
            "marker": {
             "pattern": {
              "fillmode": "overlay",
              "size": 10,
              "solidity": 0.2
             }
            },
            "type": "histogram"
           }
          ],
          "histogram2d": [
           {
            "colorbar": {
             "outlinewidth": 0,
             "ticks": ""
            },
            "colorscale": [
             [
              0,
              "#0d0887"
             ],
             [
              0.1111111111111111,
              "#46039f"
             ],
             [
              0.2222222222222222,
              "#7201a8"
             ],
             [
              0.3333333333333333,
              "#9c179e"
             ],
             [
              0.4444444444444444,
              "#bd3786"
             ],
             [
              0.5555555555555556,
              "#d8576b"
             ],
             [
              0.6666666666666666,
              "#ed7953"
             ],
             [
              0.7777777777777778,
              "#fb9f3a"
             ],
             [
              0.8888888888888888,
              "#fdca26"
             ],
             [
              1,
              "#f0f921"
             ]
            ],
            "type": "histogram2d"
           }
          ],
          "histogram2dcontour": [
           {
            "colorbar": {
             "outlinewidth": 0,
             "ticks": ""
            },
            "colorscale": [
             [
              0,
              "#0d0887"
             ],
             [
              0.1111111111111111,
              "#46039f"
             ],
             [
              0.2222222222222222,
              "#7201a8"
             ],
             [
              0.3333333333333333,
              "#9c179e"
             ],
             [
              0.4444444444444444,
              "#bd3786"
             ],
             [
              0.5555555555555556,
              "#d8576b"
             ],
             [
              0.6666666666666666,
              "#ed7953"
             ],
             [
              0.7777777777777778,
              "#fb9f3a"
             ],
             [
              0.8888888888888888,
              "#fdca26"
             ],
             [
              1,
              "#f0f921"
             ]
            ],
            "type": "histogram2dcontour"
           }
          ],
          "mesh3d": [
           {
            "colorbar": {
             "outlinewidth": 0,
             "ticks": ""
            },
            "type": "mesh3d"
           }
          ],
          "parcoords": [
           {
            "line": {
             "colorbar": {
              "outlinewidth": 0,
              "ticks": ""
             }
            },
            "type": "parcoords"
           }
          ],
          "pie": [
           {
            "automargin": true,
            "type": "pie"
           }
          ],
          "scatter": [
           {
            "fillpattern": {
             "fillmode": "overlay",
             "size": 10,
             "solidity": 0.2
            },
            "type": "scatter"
           }
          ],
          "scatter3d": [
           {
            "line": {
             "colorbar": {
              "outlinewidth": 0,
              "ticks": ""
             }
            },
            "marker": {
             "colorbar": {
              "outlinewidth": 0,
              "ticks": ""
             }
            },
            "type": "scatter3d"
           }
          ],
          "scattercarpet": [
           {
            "marker": {
             "colorbar": {
              "outlinewidth": 0,
              "ticks": ""
             }
            },
            "type": "scattercarpet"
           }
          ],
          "scattergeo": [
           {
            "marker": {
             "colorbar": {
              "outlinewidth": 0,
              "ticks": ""
             }
            },
            "type": "scattergeo"
           }
          ],
          "scattergl": [
           {
            "marker": {
             "colorbar": {
              "outlinewidth": 0,
              "ticks": ""
             }
            },
            "type": "scattergl"
           }
          ],
          "scattermap": [
           {
            "marker": {
             "colorbar": {
              "outlinewidth": 0,
              "ticks": ""
             }
            },
            "type": "scattermap"
           }
          ],
          "scattermapbox": [
           {
            "marker": {
             "colorbar": {
              "outlinewidth": 0,
              "ticks": ""
             }
            },
            "type": "scattermapbox"
           }
          ],
          "scatterpolar": [
           {
            "marker": {
             "colorbar": {
              "outlinewidth": 0,
              "ticks": ""
             }
            },
            "type": "scatterpolar"
           }
          ],
          "scatterpolargl": [
           {
            "marker": {
             "colorbar": {
              "outlinewidth": 0,
              "ticks": ""
             }
            },
            "type": "scatterpolargl"
           }
          ],
          "scatterternary": [
           {
            "marker": {
             "colorbar": {
              "outlinewidth": 0,
              "ticks": ""
             }
            },
            "type": "scatterternary"
           }
          ],
          "surface": [
           {
            "colorbar": {
             "outlinewidth": 0,
             "ticks": ""
            },
            "colorscale": [
             [
              0,
              "#0d0887"
             ],
             [
              0.1111111111111111,
              "#46039f"
             ],
             [
              0.2222222222222222,
              "#7201a8"
             ],
             [
              0.3333333333333333,
              "#9c179e"
             ],
             [
              0.4444444444444444,
              "#bd3786"
             ],
             [
              0.5555555555555556,
              "#d8576b"
             ],
             [
              0.6666666666666666,
              "#ed7953"
             ],
             [
              0.7777777777777778,
              "#fb9f3a"
             ],
             [
              0.8888888888888888,
              "#fdca26"
             ],
             [
              1,
              "#f0f921"
             ]
            ],
            "type": "surface"
           }
          ],
          "table": [
           {
            "cells": {
             "fill": {
              "color": "#EBF0F8"
             },
             "line": {
              "color": "white"
             }
            },
            "header": {
             "fill": {
              "color": "#C8D4E3"
             },
             "line": {
              "color": "white"
             }
            },
            "type": "table"
           }
          ]
         },
         "layout": {
          "annotationdefaults": {
           "arrowcolor": "#2a3f5f",
           "arrowhead": 0,
           "arrowwidth": 1
          },
          "autotypenumbers": "strict",
          "coloraxis": {
           "colorbar": {
            "outlinewidth": 0,
            "ticks": ""
           }
          },
          "colorscale": {
           "diverging": [
            [
             0,
             "#8e0152"
            ],
            [
             0.1,
             "#c51b7d"
            ],
            [
             0.2,
             "#de77ae"
            ],
            [
             0.3,
             "#f1b6da"
            ],
            [
             0.4,
             "#fde0ef"
            ],
            [
             0.5,
             "#f7f7f7"
            ],
            [
             0.6,
             "#e6f5d0"
            ],
            [
             0.7,
             "#b8e186"
            ],
            [
             0.8,
             "#7fbc41"
            ],
            [
             0.9,
             "#4d9221"
            ],
            [
             1,
             "#276419"
            ]
           ],
           "sequential": [
            [
             0,
             "#0d0887"
            ],
            [
             0.1111111111111111,
             "#46039f"
            ],
            [
             0.2222222222222222,
             "#7201a8"
            ],
            [
             0.3333333333333333,
             "#9c179e"
            ],
            [
             0.4444444444444444,
             "#bd3786"
            ],
            [
             0.5555555555555556,
             "#d8576b"
            ],
            [
             0.6666666666666666,
             "#ed7953"
            ],
            [
             0.7777777777777778,
             "#fb9f3a"
            ],
            [
             0.8888888888888888,
             "#fdca26"
            ],
            [
             1,
             "#f0f921"
            ]
           ],
           "sequentialminus": [
            [
             0,
             "#0d0887"
            ],
            [
             0.1111111111111111,
             "#46039f"
            ],
            [
             0.2222222222222222,
             "#7201a8"
            ],
            [
             0.3333333333333333,
             "#9c179e"
            ],
            [
             0.4444444444444444,
             "#bd3786"
            ],
            [
             0.5555555555555556,
             "#d8576b"
            ],
            [
             0.6666666666666666,
             "#ed7953"
            ],
            [
             0.7777777777777778,
             "#fb9f3a"
            ],
            [
             0.8888888888888888,
             "#fdca26"
            ],
            [
             1,
             "#f0f921"
            ]
           ]
          },
          "colorway": [
           "#636efa",
           "#EF553B",
           "#00cc96",
           "#ab63fa",
           "#FFA15A",
           "#19d3f3",
           "#FF6692",
           "#B6E880",
           "#FF97FF",
           "#FECB52"
          ],
          "font": {
           "color": "#2a3f5f"
          },
          "geo": {
           "bgcolor": "white",
           "lakecolor": "white",
           "landcolor": "#E5ECF6",
           "showlakes": true,
           "showland": true,
           "subunitcolor": "white"
          },
          "hoverlabel": {
           "align": "left"
          },
          "hovermode": "closest",
          "mapbox": {
           "style": "light"
          },
          "paper_bgcolor": "white",
          "plot_bgcolor": "#E5ECF6",
          "polar": {
           "angularaxis": {
            "gridcolor": "white",
            "linecolor": "white",
            "ticks": ""
           },
           "bgcolor": "#E5ECF6",
           "radialaxis": {
            "gridcolor": "white",
            "linecolor": "white",
            "ticks": ""
           }
          },
          "scene": {
           "xaxis": {
            "backgroundcolor": "#E5ECF6",
            "gridcolor": "white",
            "gridwidth": 2,
            "linecolor": "white",
            "showbackground": true,
            "ticks": "",
            "zerolinecolor": "white"
           },
           "yaxis": {
            "backgroundcolor": "#E5ECF6",
            "gridcolor": "white",
            "gridwidth": 2,
            "linecolor": "white",
            "showbackground": true,
            "ticks": "",
            "zerolinecolor": "white"
           },
           "zaxis": {
            "backgroundcolor": "#E5ECF6",
            "gridcolor": "white",
            "gridwidth": 2,
            "linecolor": "white",
            "showbackground": true,
            "ticks": "",
            "zerolinecolor": "white"
           }
          },
          "shapedefaults": {
           "line": {
            "color": "#2a3f5f"
           }
          },
          "ternary": {
           "aaxis": {
            "gridcolor": "white",
            "linecolor": "white",
            "ticks": ""
           },
           "baxis": {
            "gridcolor": "white",
            "linecolor": "white",
            "ticks": ""
           },
           "bgcolor": "#E5ECF6",
           "caxis": {
            "gridcolor": "white",
            "linecolor": "white",
            "ticks": ""
           }
          },
          "title": {
           "x": 0.05
          },
          "xaxis": {
           "automargin": true,
           "gridcolor": "white",
           "linecolor": "white",
           "ticks": "",
           "title": {
            "standoff": 15
           },
           "zerolinecolor": "white",
           "zerolinewidth": 2
          },
          "yaxis": {
           "automargin": true,
           "gridcolor": "white",
           "linecolor": "white",
           "ticks": "",
           "title": {
            "standoff": 15
           },
           "zerolinecolor": "white",
           "zerolinewidth": 2
          }
         }
        },
        "width": 800
       }
      }
     },
     "metadata": {},
     "output_type": "display_data"
    }
   ],
   "source": [
    "fig = px.scatter_3d(mpg, x=\"displacement\", y=\"horsepower\", z=\"weight\",\n",
    "                    width=800, height=600)\n",
    "fig.update_traces(marker=dict(size=3))"
   ]
  },
  {
   "cell_type": "markdown",
   "id": "afd23c9a",
   "metadata": {},
   "source": [
    "## Visualizing 4 Dimensional Data"
   ]
  },
  {
   "cell_type": "code",
   "execution_count": 18,
   "id": "ba25ffa5",
   "metadata": {},
   "outputs": [
    {
     "data": {
      "application/vnd.plotly.v1+json": {
       "config": {
        "plotlyServerURL": "https://plot.ly"
       },
       "data": [
        {
         "hovertemplate": "displacement=%{x}<br>horsepower=%{y}<br>weight=%{z}<br>model_year=%{marker.color}<extra></extra>",
         "legendgroup": "",
         "marker": {
          "color": {
           "bdata": "RkZGRkZGRkZGRkZGRkZGRkZGRkZGRkZGRkZGRkZHR0dHR0dHR0dHR0dHR0dHR0dHR0dHR0dHR0dISEhISEhISEhISEhISEhISEhISEhISEhISEhISUlJSUlJSUlJSUlJSUlJSUlJSUlJSUlJSUlJSUlJSUlJSUlJSUlJSUpKSkpKSkpKSkpKSkpKSkpKSkpKSkpKSkpKS0tLS0tLS0tLS0tLS0tLS0tLS0tLS0tLS0tLS0tLTExMTExMTExMTExMTExMTExMTExMTExMTExMTExMTExMTE1NTU1NTU1NTU1NTU1NTU1NTU1NTU1NTU1NTU1OTk5OTk5OTk5OTk5OTk5OTk5OTk5OTk5OTk5OTk5OTk5OTk5PT09PT09PT09PT09PT09PT09PT09PT09PT09PT1BQUFBQUFBQUFBQUFBQUFBQUFBQUFBQUFBQUFFRUVFRUVFRUVFRUVFRUVFRUVFRUVFRUVFRUVFSUlJSUlJSUlJSUlJSUlJSUlJSUlJSUlJSUlJSUlI=",
           "dtype": "i1"
          },
          "coloraxis": "coloraxis",
          "opacity": 0.7,
          "size": 5,
          "symbol": "circle"
         },
         "mode": "markers",
         "name": "",
         "scene": "scene",
         "showlegend": false,
         "type": "scatter3d",
         "x": {
          "bdata": "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",
          "dtype": "f8"
         },
         "y": {
          "bdata": "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",
          "dtype": "f8"
         },
         "z": {
          "bdata": "sA1tDmwNaQ15DfUQAhHYEEkRCg/rDRkOsQ4ODEQJEQvWChsKUggrB3AKfglHCboIWAoHEhgRHhF8ElII2Ai0CEoKbw0BDeYM2AxxEHAROhAAEFsTihIUFJILaAnSDEMMrAhLCBoIEQjtBk0GKgejB+YITgjOCGgJsgiyECERJxAhEFgOGRKWEWgRRhEaCTQPAhDGEO0PdQvPCaMLjQhbCfAIygl0CDQIBBBYDpQPyg/BDlgTcBELEY0QfxJXE+0OMQzODIELzQtYC54HhRMqEy4SkxHlCucIYQlLCUwIBgmoCdkI8g+2EEsHbggWCjQLRw1kCvcKUA4eDFULCA2eB5MJLAfuCcUOMA4dDi0QWxJpER4SoRCrCKsH/AhxBtMHTQg8CMYIuQlXCdAHwAyDDWgNVgw8ElgRkhExEkMPOQ+SDskO3wuVDGEMewhPCmILIAqOCq8I8QmoC5EHiwyGCo0LgQtvCgMHoAmsCAwKzwiaCHcQXhB6D3cQoQwZDcQLDQzzB3QIkQcDB0MO9g09DnkMIQfGB2sIBQpODGQPxgxyC+wOHBHXDx4Pqw79B2sIIQf8CJkHKA/cDywQxxDADWENLg7FDXwQRRDlEO8QlAe0CtkIwwoDCBsIwQeOCP8KKAqgCsEHCAfBBxYICAclDZcO8g3PDVMMlQugCmYNigw0Df4LJA5SDWENdQ2FDPAPawgACvwItgjTCbkKJwtlCQ4LRAzrClINxgdXCK0MrgtKC8EMIA0AD40Ocw/2DggR1g8VDmQPhQe3B3sHbgrKDTwPdgxcDZgIZgjkB1IIbgojCowK/AlgCLAHSAjjB3YKNgu7CzUNjAiXCu4JggnZCD4I8Ao+CCUIHwmGC7IMOgdhCDUHXgt0CcQJ8gi6CUsKPAqlClEJ2wZTB+AGEQi3BwIIwQenCP0HTAmOCKIILgk3CksKngxYDFQLcgtXDY0O9AuJDS0KUApbCQ8K3QmvCjELvAfpB7IHTQhNCHAInQjFCK0HrQfLB4ELxwsZChMLaQpCCYYL5gpSCPcIQQqgCg==",
          "dtype": "i2"
         }
        }
       ],
       "layout": {
        "coloraxis": {
         "colorbar": {
          "title": {
           "text": "model_year"
          }
         },
         "colorscale": [
          [
           0,
           "#0d0887"
          ],
          [
           0.1111111111111111,
           "#46039f"
          ],
          [
           0.2222222222222222,
           "#7201a8"
          ],
          [
           0.3333333333333333,
           "#9c179e"
          ],
          [
           0.4444444444444444,
           "#bd3786"
          ],
          [
           0.5555555555555556,
           "#d8576b"
          ],
          [
           0.6666666666666666,
           "#ed7953"
          ],
          [
           0.7777777777777778,
           "#fb9f3a"
          ],
          [
           0.8888888888888888,
           "#fdca26"
          ],
          [
           1,
           "#f0f921"
          ]
         ]
        },
        "height": 600,
        "legend": {
         "tracegroupgap": 0
        },
        "margin": {
         "t": 60
        },
        "scene": {
         "domain": {
          "x": [
           0,
           1
          ],
          "y": [
           0,
           1
          ]
         },
         "xaxis": {
          "title": {
           "text": "displacement"
          }
         },
         "yaxis": {
          "title": {
           "text": "horsepower"
          }
         },
         "zaxis": {
          "title": {
           "text": "weight"
          }
         }
        },
        "template": {
         "data": {
          "bar": [
           {
            "error_x": {
             "color": "#2a3f5f"
            },
            "error_y": {
             "color": "#2a3f5f"
            },
            "marker": {
             "line": {
              "color": "#E5ECF6",
              "width": 0.5
             },
             "pattern": {
              "fillmode": "overlay",
              "size": 10,
              "solidity": 0.2
             }
            },
            "type": "bar"
           }
          ],
          "barpolar": [
           {
            "marker": {
             "line": {
              "color": "#E5ECF6",
              "width": 0.5
             },
             "pattern": {
              "fillmode": "overlay",
              "size": 10,
              "solidity": 0.2
             }
            },
            "type": "barpolar"
           }
          ],
          "carpet": [
           {
            "aaxis": {
             "endlinecolor": "#2a3f5f",
             "gridcolor": "white",
             "linecolor": "white",
             "minorgridcolor": "white",
             "startlinecolor": "#2a3f5f"
            },
            "baxis": {
             "endlinecolor": "#2a3f5f",
             "gridcolor": "white",
             "linecolor": "white",
             "minorgridcolor": "white",
             "startlinecolor": "#2a3f5f"
            },
            "type": "carpet"
           }
          ],
          "choropleth": [
           {
            "colorbar": {
             "outlinewidth": 0,
             "ticks": ""
            },
            "type": "choropleth"
           }
          ],
          "contour": [
           {
            "colorbar": {
             "outlinewidth": 0,
             "ticks": ""
            },
            "colorscale": [
             [
              0,
              "#0d0887"
             ],
             [
              0.1111111111111111,
              "#46039f"
             ],
             [
              0.2222222222222222,
              "#7201a8"
             ],
             [
              0.3333333333333333,
              "#9c179e"
             ],
             [
              0.4444444444444444,
              "#bd3786"
             ],
             [
              0.5555555555555556,
              "#d8576b"
             ],
             [
              0.6666666666666666,
              "#ed7953"
             ],
             [
              0.7777777777777778,
              "#fb9f3a"
             ],
             [
              0.8888888888888888,
              "#fdca26"
             ],
             [
              1,
              "#f0f921"
             ]
            ],
            "type": "contour"
           }
          ],
          "contourcarpet": [
           {
            "colorbar": {
             "outlinewidth": 0,
             "ticks": ""
            },
            "type": "contourcarpet"
           }
          ],
          "heatmap": [
           {
            "colorbar": {
             "outlinewidth": 0,
             "ticks": ""
            },
            "colorscale": [
             [
              0,
              "#0d0887"
             ],
             [
              0.1111111111111111,
              "#46039f"
             ],
             [
              0.2222222222222222,
              "#7201a8"
             ],
             [
              0.3333333333333333,
              "#9c179e"
             ],
             [
              0.4444444444444444,
              "#bd3786"
             ],
             [
              0.5555555555555556,
              "#d8576b"
             ],
             [
              0.6666666666666666,
              "#ed7953"
             ],
             [
              0.7777777777777778,
              "#fb9f3a"
             ],
             [
              0.8888888888888888,
              "#fdca26"
             ],
             [
              1,
              "#f0f921"
             ]
            ],
            "type": "heatmap"
           }
          ],
          "histogram": [
           {
            "marker": {
             "pattern": {
              "fillmode": "overlay",
              "size": 10,
              "solidity": 0.2
             }
            },
            "type": "histogram"
           }
          ],
          "histogram2d": [
           {
            "colorbar": {
             "outlinewidth": 0,
             "ticks": ""
            },
            "colorscale": [
             [
              0,
              "#0d0887"
             ],
             [
              0.1111111111111111,
              "#46039f"
             ],
             [
              0.2222222222222222,
              "#7201a8"
             ],
             [
              0.3333333333333333,
              "#9c179e"
             ],
             [
              0.4444444444444444,
              "#bd3786"
             ],
             [
              0.5555555555555556,
              "#d8576b"
             ],
             [
              0.6666666666666666,
              "#ed7953"
             ],
             [
              0.7777777777777778,
              "#fb9f3a"
             ],
             [
              0.8888888888888888,
              "#fdca26"
             ],
             [
              1,
              "#f0f921"
             ]
            ],
            "type": "histogram2d"
           }
          ],
          "histogram2dcontour": [
           {
            "colorbar": {
             "outlinewidth": 0,
             "ticks": ""
            },
            "colorscale": [
             [
              0,
              "#0d0887"
             ],
             [
              0.1111111111111111,
              "#46039f"
             ],
             [
              0.2222222222222222,
              "#7201a8"
             ],
             [
              0.3333333333333333,
              "#9c179e"
             ],
             [
              0.4444444444444444,
              "#bd3786"
             ],
             [
              0.5555555555555556,
              "#d8576b"
             ],
             [
              0.6666666666666666,
              "#ed7953"
             ],
             [
              0.7777777777777778,
              "#fb9f3a"
             ],
             [
              0.8888888888888888,
              "#fdca26"
             ],
             [
              1,
              "#f0f921"
             ]
            ],
            "type": "histogram2dcontour"
           }
          ],
          "mesh3d": [
           {
            "colorbar": {
             "outlinewidth": 0,
             "ticks": ""
            },
            "type": "mesh3d"
           }
          ],
          "parcoords": [
           {
            "line": {
             "colorbar": {
              "outlinewidth": 0,
              "ticks": ""
             }
            },
            "type": "parcoords"
           }
          ],
          "pie": [
           {
            "automargin": true,
            "type": "pie"
           }
          ],
          "scatter": [
           {
            "fillpattern": {
             "fillmode": "overlay",
             "size": 10,
             "solidity": 0.2
            },
            "type": "scatter"
           }
          ],
          "scatter3d": [
           {
            "line": {
             "colorbar": {
              "outlinewidth": 0,
              "ticks": ""
             }
            },
            "marker": {
             "colorbar": {
              "outlinewidth": 0,
              "ticks": ""
             }
            },
            "type": "scatter3d"
           }
          ],
          "scattercarpet": [
           {
            "marker": {
             "colorbar": {
              "outlinewidth": 0,
              "ticks": ""
             }
            },
            "type": "scattercarpet"
           }
          ],
          "scattergeo": [
           {
            "marker": {
             "colorbar": {
              "outlinewidth": 0,
              "ticks": ""
             }
            },
            "type": "scattergeo"
           }
          ],
          "scattergl": [
           {
            "marker": {
             "colorbar": {
              "outlinewidth": 0,
              "ticks": ""
             }
            },
            "type": "scattergl"
           }
          ],
          "scattermap": [
           {
            "marker": {
             "colorbar": {
              "outlinewidth": 0,
              "ticks": ""
             }
            },
            "type": "scattermap"
           }
          ],
          "scattermapbox": [
           {
            "marker": {
             "colorbar": {
              "outlinewidth": 0,
              "ticks": ""
             }
            },
            "type": "scattermapbox"
           }
          ],
          "scatterpolar": [
           {
            "marker": {
             "colorbar": {
              "outlinewidth": 0,
              "ticks": ""
             }
            },
            "type": "scatterpolar"
           }
          ],
          "scatterpolargl": [
           {
            "marker": {
             "colorbar": {
              "outlinewidth": 0,
              "ticks": ""
             }
            },
            "type": "scatterpolargl"
           }
          ],
          "scatterternary": [
           {
            "marker": {
             "colorbar": {
              "outlinewidth": 0,
              "ticks": ""
             }
            },
            "type": "scatterternary"
           }
          ],
          "surface": [
           {
            "colorbar": {
             "outlinewidth": 0,
             "ticks": ""
            },
            "colorscale": [
             [
              0,
              "#0d0887"
             ],
             [
              0.1111111111111111,
              "#46039f"
             ],
             [
              0.2222222222222222,
              "#7201a8"
             ],
             [
              0.3333333333333333,
              "#9c179e"
             ],
             [
              0.4444444444444444,
              "#bd3786"
             ],
             [
              0.5555555555555556,
              "#d8576b"
             ],
             [
              0.6666666666666666,
              "#ed7953"
             ],
             [
              0.7777777777777778,
              "#fb9f3a"
             ],
             [
              0.8888888888888888,
              "#fdca26"
             ],
             [
              1,
              "#f0f921"
             ]
            ],
            "type": "surface"
           }
          ],
          "table": [
           {
            "cells": {
             "fill": {
              "color": "#EBF0F8"
             },
             "line": {
              "color": "white"
             }
            },
            "header": {
             "fill": {
              "color": "#C8D4E3"
             },
             "line": {
              "color": "white"
             }
            },
            "type": "table"
           }
          ]
         },
         "layout": {
          "annotationdefaults": {
           "arrowcolor": "#2a3f5f",
           "arrowhead": 0,
           "arrowwidth": 1
          },
          "autotypenumbers": "strict",
          "coloraxis": {
           "colorbar": {
            "outlinewidth": 0,
            "ticks": ""
           }
          },
          "colorscale": {
           "diverging": [
            [
             0,
             "#8e0152"
            ],
            [
             0.1,
             "#c51b7d"
            ],
            [
             0.2,
             "#de77ae"
            ],
            [
             0.3,
             "#f1b6da"
            ],
            [
             0.4,
             "#fde0ef"
            ],
            [
             0.5,
             "#f7f7f7"
            ],
            [
             0.6,
             "#e6f5d0"
            ],
            [
             0.7,
             "#b8e186"
            ],
            [
             0.8,
             "#7fbc41"
            ],
            [
             0.9,
             "#4d9221"
            ],
            [
             1,
             "#276419"
            ]
           ],
           "sequential": [
            [
             0,
             "#0d0887"
            ],
            [
             0.1111111111111111,
             "#46039f"
            ],
            [
             0.2222222222222222,
             "#7201a8"
            ],
            [
             0.3333333333333333,
             "#9c179e"
            ],
            [
             0.4444444444444444,
             "#bd3786"
            ],
            [
             0.5555555555555556,
             "#d8576b"
            ],
            [
             0.6666666666666666,
             "#ed7953"
            ],
            [
             0.7777777777777778,
             "#fb9f3a"
            ],
            [
             0.8888888888888888,
             "#fdca26"
            ],
            [
             1,
             "#f0f921"
            ]
           ],
           "sequentialminus": [
            [
             0,
             "#0d0887"
            ],
            [
             0.1111111111111111,
             "#46039f"
            ],
            [
             0.2222222222222222,
             "#7201a8"
            ],
            [
             0.3333333333333333,
             "#9c179e"
            ],
            [
             0.4444444444444444,
             "#bd3786"
            ],
            [
             0.5555555555555556,
             "#d8576b"
            ],
            [
             0.6666666666666666,
             "#ed7953"
            ],
            [
             0.7777777777777778,
             "#fb9f3a"
            ],
            [
             0.8888888888888888,
             "#fdca26"
            ],
            [
             1,
             "#f0f921"
            ]
           ]
          },
          "colorway": [
           "#636efa",
           "#EF553B",
           "#00cc96",
           "#ab63fa",
           "#FFA15A",
           "#19d3f3",
           "#FF6692",
           "#B6E880",
           "#FF97FF",
           "#FECB52"
          ],
          "font": {
           "color": "#2a3f5f"
          },
          "geo": {
           "bgcolor": "white",
           "lakecolor": "white",
           "landcolor": "#E5ECF6",
           "showlakes": true,
           "showland": true,
           "subunitcolor": "white"
          },
          "hoverlabel": {
           "align": "left"
          },
          "hovermode": "closest",
          "mapbox": {
           "style": "light"
          },
          "paper_bgcolor": "white",
          "plot_bgcolor": "#E5ECF6",
          "polar": {
           "angularaxis": {
            "gridcolor": "white",
            "linecolor": "white",
            "ticks": ""
           },
           "bgcolor": "#E5ECF6",
           "radialaxis": {
            "gridcolor": "white",
            "linecolor": "white",
            "ticks": ""
           }
          },
          "scene": {
           "xaxis": {
            "backgroundcolor": "#E5ECF6",
            "gridcolor": "white",
            "gridwidth": 2,
            "linecolor": "white",
            "showbackground": true,
            "ticks": "",
            "zerolinecolor": "white"
           },
           "yaxis": {
            "backgroundcolor": "#E5ECF6",
            "gridcolor": "white",
            "gridwidth": 2,
            "linecolor": "white",
            "showbackground": true,
            "ticks": "",
            "zerolinecolor": "white"
           },
           "zaxis": {
            "backgroundcolor": "#E5ECF6",
            "gridcolor": "white",
            "gridwidth": 2,
            "linecolor": "white",
            "showbackground": true,
            "ticks": "",
            "zerolinecolor": "white"
           }
          },
          "shapedefaults": {
           "line": {
            "color": "#2a3f5f"
           }
          },
          "ternary": {
           "aaxis": {
            "gridcolor": "white",
            "linecolor": "white",
            "ticks": ""
           },
           "baxis": {
            "gridcolor": "white",
            "linecolor": "white",
            "ticks": ""
           },
           "bgcolor": "#E5ECF6",
           "caxis": {
            "gridcolor": "white",
            "linecolor": "white",
            "ticks": ""
           }
          },
          "title": {
           "x": 0.05
          },
          "xaxis": {
           "automargin": true,
           "gridcolor": "white",
           "linecolor": "white",
           "ticks": "",
           "title": {
            "standoff": 15
           },
           "zerolinecolor": "white",
           "zerolinewidth": 2
          },
          "yaxis": {
           "automargin": true,
           "gridcolor": "white",
           "linecolor": "white",
           "ticks": "",
           "title": {
            "standoff": 15
           },
           "zerolinecolor": "white",
           "zerolinewidth": 2
          }
         }
        },
        "width": 800
       }
      }
     },
     "metadata": {},
     "output_type": "display_data"
    }
   ],
   "source": [
    "fig = px.scatter_3d(mpg, x=\"displacement\", \n",
    "                    y=\"horsepower\", \n",
    "                    z=\"weight\", \n",
    "                    color=\"model_year\",\n",
    "                    width=800, height=600, \n",
    "                    opacity=.7)\n",
    "fig.update_traces(marker=dict(size=5))"
   ]
  },
  {
   "cell_type": "markdown",
   "id": "00de33a5",
   "metadata": {},
   "source": [
    "## Visualizing 6 Dimensional Data\n",
    "\n",
    "Try clicking on the origin symbols in the legend to see how the plot changes. "
   ]
  },
  {
   "cell_type": "code",
   "execution_count": 19,
   "id": "ebf12039-abcf-4e39-a925-f392adf8c48e",
   "metadata": {},
   "outputs": [
    {
     "data": {
      "application/vnd.plotly.v1+json": {
       "config": {
        "plotlyServerURL": "https://plot.ly"
       },
       "data": [
        {
         "hovertemplate": "origin=usa<br>displacement=%{x}<br>horsepower=%{y}<br>weight=%{z}<br>mpg=%{marker.size}<br>model_year=%{marker.color}<extra></extra>",
         "legendgroup": "usa",
         "marker": {
          "color": {
           "bdata": "RkZGRkZGRkZGRkZGRkZGRkZGRkZGRkdHR0dHR0dHR0dHR0dHR0dHR0dISEhISEhISEhISEhISEhISEhJSUlJSUlJSUlJSUlJSUlJSUlJSUlJSUlJSUlJSUpKSkpKSkpKSkpKSkpKS0tLS0tLS0tLS0tLS0tLS0tLS0tMTExMTExMTExMTExMTExMTExMTExMTU1NTU1NTU1NTU1NTU1NTU1NTk5OTk5OTk5OTk5OTk5OTk5OTk5OTk9PT09PT09PT09PT09PT09PT09PT09PUFBQUFBQUVFRUVFRUVFRUVFRUVJSUlJSUlJSUlJSUlJSUlJSUlI=",
           "dtype": "i1"
          },
          "coloraxis": "coloraxis",
          "opacity": 0.7,
          "size": {
           "bdata": "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",
           "dtype": "f8"
          },
          "sizemode": "area",
          "sizeref": 0.1165,
          "symbol": "circle"
         },
         "mode": "markers",
         "name": "usa",
         "scene": "scene",
         "showlegend": true,
         "type": "scatter3d",
         "x": {
          "bdata": "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",
          "dtype": "f8"
         },
         "y": {
          "bdata": "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",
          "dtype": "f8"
         },
         "z": {
          "bdata": "sA1tDmwNaQ15DfUQAhHYEEkRCg/rDRkOsQ4ODBEL1gobClgKBxIYER4RfBLYCEoKbw0BDeYM2AxxEHAROhAAEFsTihIUFJILaAnSDEMMrAijB04IaAmyCLIQIREnECEQWA4ZEpYRaBFGETQPAhDGEO0PWwl0CAQQWA6UD8oPwQ5YE3ARCxGNEH8SVxPtDjEMzgyBC80LWAuFEyoTLhKTEeUKYQkGCagJ8g+2EEcNUA4eDFULCA2TCe4JxQ4wDh0OLRBbEmkRHhKhEE0IwAyDDWgNVgw8ElgRkhExEkMPOQ+SDskO3wuVDGEMTwpiCyAKqAuLDAwKzwh3EF4Qeg93EKEMGQ3ECw0M8wd0CEMO9g09DnkMBQpkDxwR1w8eD6sOawj8CCgP3A8sEMcQwA1hDS4OxQ18EEUQ5RDvELQKwwoDCBsICAclDZcO8g3PDVMMlQugCmYNigw0Df4LJA5SDWENdQ2FDPAPawi2CLkKJwutDK4LSgvBDCANAA+NDnMP9g4IEdYPFQ5kD3sHbgo8D1wNmAhmCG4KIwqMCvwJSAh2CjYLuws1DfAKuglLCjwKpQpRCVMHpwj9B0wJVw2NDvQLiQ0tClAKWwkPCt0JrwoxC00ITQiBC8cLGQoTC0IJhgvmCvcIQQqgCg==",
          "dtype": "i2"
         }
        },
        {
         "hovertemplate": "origin=japan<br>displacement=%{x}<br>horsepower=%{y}<br>weight=%{z}<br>mpg=%{marker.size}<br>model_year=%{marker.color}<extra></extra>",
         "legendgroup": "japan",
         "marker": {
          "color": {
           "bdata": "RkZHR0dHSEhISEhJSUlJSkpKSkpKS0tLS0xMTExNTU1NTU1OTk5OTk5OTk9PUFBQUFBQUFBQUFBQUFFRUVFRUVFRUVFRUVJSUlJSUlJSUg==",
           "dtype": "i1"
          },
          "coloraxis": "coloraxis",
          "opacity": 0.7,
          "size": {
           "bdata": "AAAAAAAAOEAAAAAAAAA7QAAAAAAAADtAAAAAAAAAOUAAAAAAAAA/QAAAAAAAgEFAAAAAAAAAOEAAAAAAAAAzQAAAAAAAADxAAAAAAAAAN0AAAAAAAAA7QAAAAAAAADRAAAAAAAAANkAAAAAAAAAyQAAAAAAAADRAAAAAAAAAP0AAAAAAAABAQAAAAAAAAD9AAAAAAAAAQEAAAAAAAAA4QAAAAAAAADpAAAAAAAAAPUAAAAAAAAA4QAAAAAAAADhAAAAAAACAQEAAAAAAAIBAQAAAAAAAAEBAAAAAAAAAPEAAAAAAAAAzQAAAAAAAgD9AAAAAAADAQEAAAAAAAAA6QAAAAAAAAD5AAAAAAAAANkAAAAAAAIA1QGZmZmZmZkBAMzMzMzOzQ0DNzMzMzAxCQAAAAAAAgDtAMzMzMzMzO0CamZmZmRk1QGZmZmZm5jdAAAAAAACAPUDNzMzMzAxBQM3MzMzMzD9AzczMzMwMQ0CamZmZmZlCQM3MzMzMzD1AzczMzMxMP0AAAAAAAIBCQJqZmZmZGUBAzczMzMxMR0BmZmZmZmZEQM3MzMzMTEZAZmZmZmbmQECamZmZmVlAQDMzMzMzszdAMzMzMzMzQEDNzMzMzIxDQM3MzMzMjEFAZmZmZmYmQEAAAAAAAIBCQJqZmZmZ2UJAzczMzMwMQUCamZmZmdlAQDMzMzMzM0BAMzMzMzNzQECamZmZmZk/QGZmZmZmZjlAMzMzMzMzOEAAAAAAAIBCQAAAAAAAAD9AAAAAAAAAQkAAAAAAAABCQAAAAAAAAEFAAAAAAAAAQ0AAAAAAAABAQAAAAAAAAENAAAAAAAAAQEA=",
           "dtype": "f8"
          },
          "sizemode": "area",
          "sizeref": 0.1165,
          "symbol": "diamond"
         },
         "mode": "markers",
         "name": "japan",
         "scene": "scene",
         "showlegend": true,
         "type": "scatter3d",
         "x": {
          "bdata": "AAAAAABAXEAAAAAAAEBYQAAAAAAAQFhAAAAAAABAXEAAAAAAAMBRQAAAAAAAAFJAAAAAAABAXEAAAAAAAIBRQAAAAAAAQFhAAAAAAAAAXkAAAAAAAEBYQAAAAAAAQFhAAAAAAAAAW0AAAAAAAIBRQAAAAAAAgGNAAAAAAADAU0AAAAAAAMBRQAAAAAAAAFNAAAAAAADAVEAAAAAAAABeQAAAAAAAAFtAAAAAAABAWEAAAAAAAMBgQAAAAAAAwF1AAAAAAADAVkAAAAAAAMBWQAAAAAAAQFVAAAAAAABAWEAAAAAAAIBjQAAAAAAAgFhAAAAAAABAVUAAAAAAAEBYQAAAAAAAQFhAAAAAAABAYkAAAAAAAABUQAAAAAAAgFNAAAAAAABAVUAAAAAAAMBWQAAAAAAAwGBAAAAAAADAXUAAAAAAAMBgQAAAAAAAwF1AAAAAAACAWEAAAAAAAIBVQAAAAAAAQFVAAAAAAABAVkAAAAAAAIBVQAAAAAAAwGBAAAAAAAAAXkAAAAAAAMBdQAAAAAAAAFtAAAAAAACAVUAAAAAAAEBVQAAAAAAAwFZAAAAAAABAWEAAAAAAAABlQAAAAAAAgFFAAAAAAADAWkAAAAAAAMBTQAAAAAAAQFRAAAAAAABAWEAAAAAAAEBVQAAAAAAAQFZAAAAAAADAVkAAAAAAAMBaQAAAAAAAAFtAAAAAAADAXUAAAAAAAABeQAAAAAAAAGVAAAAAAABAYkAAAAAAAMBWQAAAAAAAwFZAAAAAAAAAXkAAAAAAAMBaQAAAAAAAAFtAAAAAAADAVkAAAAAAAMBWQAAAAAAAwFZAAAAAAAAAYkA=",
          "dtype": "f8"
         },
         "y": {
          "bdata": "AAAAAADAV0AAAAAAAABWQAAAAAAAAFZAAAAAAADAV0AAAAAAAEBQQAAAAAAAQFFAAAAAAADAV0AAAAAAAEBYQAAAAAAAAFdAAAAAAABAWEAAAAAAAABWQAAAAAAAAFZAAAAAAACAV0AAAAAAAIBWQAAAAAAAgF5AAAAAAADAUEAAAAAAAEBQQAAAAAAAAEpAAAAAAACATkAAAAAAAEBYQAAAAAAAQFdAAAAAAADAUkAAAAAAAABYQAAAAAAAQFhAAAAAAACASkAAAAAAAIBKQAAAAAAAgFFAAAAAAADAUkAAAAAAAABbQAAAAAAAAFFAAAAAAACAUUAAAAAAAMBSQAAAAAAAwFBAAAAAAABAWEAAAAAAAIBbQAAAAAAAAEpAAAAAAACAUUAAAAAAAABOQAAAAAAAwFdAAAAAAABAWEAAAAAAAMBXQAAAAAAAQFhAAAAAAAAAUUAAAAAAAEBQQAAAAAAAQFBAAAAAAAAATkAAAAAAAEBQQAAAAAAAgFZAAAAAAADAUkAAAAAAAABXQAAAAAAAwFJAAAAAAABAUEAAAAAAAEBQQAAAAAAAwFBAAAAAAADAUEAAAAAAAIBgQAAAAAAAAFlAAAAAAAAAUkAAAAAAAABNQAAAAAAAAE5AAAAAAADAUEAAAAAAAEBQQAAAAAAAAE9AAAAAAAAAUUAAAAAAAMBSQAAAAAAAwFJAAAAAAAAAWUAAAAAAAIBSQAAAAAAAAF1AAAAAAAAAXkAAAAAAAABRQAAAAAAAAFFAAAAAAAAAVkAAAAAAAMBSQAAAAAAAgFFAAAAAAADAUEAAAAAAAMBQQAAAAAAAwFBAAAAAAAAAWEA=",
          "dtype": "f8"
         },
         "z": {
          "bdata": "RAlSCFIItAjtBk0G5ggaCfAIygk0COcISwlMCPcKngcsB3EG0we5CVcJewiOCvEJAwcDB8YHawhyC/0HmQfZCMEH/wqgCsEHFggIBwAK/AjTCWUJVwi3B+QHsAfjB5cK7gmCCdkIPgg+CDoHYQheC3QJ8gjbBuAGEQi3BwIIwQeiCC4JNwpLClQLcgvpB7IHcAidCMUIrQetB8sHaQo=",
          "dtype": "i2"
         }
        },
        {
         "hovertemplate": "origin=europe<br>displacement=%{x}<br>horsepower=%{y}<br>weight=%{z}<br>mpg=%{marker.size}<br>model_year=%{marker.color}<extra></extra>",
         "legendgroup": "europe",
         "marker": {
          "color": {
           "bdata": "RkZGRkZHR0dHSEhISEhJSUlJSUlJSkpKSkpKS0tLS0tLTExMTExMTExNTU1NTk5OTk5OT09PT1BQUFBQUFBQUVFRUlI=",
           "dtype": "i1"
          },
          "coloraxis": "coloraxis",
          "opacity": 0.7,
          "size": {
           "bdata": "AAAAAAAAOkAAAAAAAAA5QAAAAAAAADhAAAAAAAAAOUAAAAAAAAA6QAAAAAAAADxAAAAAAAAAPkAAAAAAAAA+QAAAAAAAADtAAAAAAAAAN0AAAAAAAAAyQAAAAAAAADZAAAAAAAAANUAAAAAAAAA6QAAAAAAAADpAAAAAAAAAOkAAAAAAAAA9QAAAAAAAADhAAAAAAAAANEAAAAAAAAAzQAAAAAAAADhAAAAAAAAAPUAAAAAAAAA6QAAAAAAAADpAAAAAAAAAOEAAAAAAAAA6QAAAAAAAAD9AAAAAAAAAOUAAAAAAAAA9QAAAAAAAADdAAAAAAAAAN0AAAAAAAAA2QAAAAAAAADlAAAAAAAAAPEAAAAAAAAA5QAAAAAAAADtAAAAAAAAAPUAAAAAAAIA9QAAAAAAAADRAAAAAAAAAM0AAAAAAAIAwQAAAAAAAAEJAAAAAAAAAPUAAAAAAAIA+QAAAAAAAgDVAzczMzMyMRUDNzMzMzEw0QAAAAAAAADFAmpmZmZmZNUAzMzMzMzMwQAAAAAAAgD9AZmZmZmbmP0BmZmZmZmY5QDMzMzMzMztAZmZmZmamQkAAAAAAAMBEQGZmZmZmJkFAZmZmZmYmRkAzMzMzM7NFQDMzMzMzM0JAAAAAAAAAPkDNzMzMzMw9QAAAAAAAgEFAAAAAAACAQECamZmZmRk8QDMzMzMzsz5AAAAAAAAAQkAAAAAAAABGQA==",
           "dtype": "f8"
          },
          "sizemode": "area",
          "sizeref": 0.1165,
          "symbol": "square"
         },
         "mode": "markers",
         "name": "europe",
         "scene": "scene",
         "showlegend": true,
         "type": "scatter3d",
         "x": {
          "bdata": "AAAAAABAWEAAAAAAAIBbQAAAAAAAwFpAAAAAAAAAWkAAAAAAAEBeQAAAAAAAAF1AAAAAAADAU0AAAAAAAABWQAAAAAAAQFhAAAAAAABAWEAAAAAAAEBeQAAAAAAAQF5AAAAAAAAAXkAAAAAAAABYQAAAAAAAQFhAAAAAAACAWEAAAAAAAABRQAAAAAAAAF1AAAAAAACAXEAAAAAAAEBeQAAAAAAAQF5AAAAAAACAWEAAAAAAAMBTQAAAAAAAQFhAAAAAAACAVkAAAAAAAABdQAAAAAAAwFNAAAAAAACAVkAAAAAAAIBWQAAAAAAAwFxAAAAAAAAAXkAAAAAAAEBeQAAAAAAAQF5AAAAAAADAWkAAAAAAAABdQAAAAAAAQFlAAAAAAACAVkAAAAAAAEBYQAAAAAAAQGBAAAAAAAAAXkAAAAAAAABlQAAAAAAAwFNAAAAAAABAWEAAAAAAAEBYQAAAAAAAQF5AAAAAAACAVkAAAAAAAGBgQAAAAAAAYGRAAAAAAABAXkAAAAAAAGBkQAAAAAAAQFZAAAAAAABAVkAAAAAAAOBmQAAAAAAAoGFAAAAAAADAVkAAAAAAAIBYQAAAAAAAQFhAAAAAAACAVkAAAAAAAIBWQAAAAAAAQF5AAAAAAABAYkAAAAAAAEBWQAAAAAAAgF5AAAAAAABAWkAAAAAAAKBhQAAAAAAAIGJAAAAAAABAWkAAAAAAAEBYQA==",
          "dtype": "f8"
         },
         "y": {
          "bdata": "AAAAAAAAR0AAAAAAAMBVQAAAAAAAgFZAAAAAAADAV0AAAAAAAEBcQAAAAAAAgFZAAAAAAACAUUAAAAAAAABTQAAAAAAAAE5AAAAAAAAAS0AAAAAAAABcQAAAAAAAAFNAAAAAAADAVUAAAAAAAEBRQAAAAAAAAEdAAAAAAACAVkAAAAAAAIBIQAAAAAAAwFJAAAAAAADAVkAAAAAAAABcQAAAAAAAgFtAAAAAAADAVEAAAAAAAMBQQAAAAAAAgFNAAAAAAADAUkAAAAAAAMBSQAAAAAAAwFBAAAAAAADAUUAAAAAAAIBRQAAAAAAAwFdAAAAAAAAAVkAAAAAAAIBYQAAAAAAAwFxAAAAAAACAVUAAAAAAAEBUQAAAAAAAwFRAAAAAAACAUUAAAAAAAMBRQAAAAAAAgFlAAAAAAAAAVkAAAAAAAABeQAAAAAAAAE1AAAAAAACAU0AAAAAAAIBTQAAAAAAAgFtAAAAAAAAASEAAAAAAAMBZQAAAAAAAQF9AAAAAAADAXEAAAAAAAKBgQAAAAAAAwFFAAAAAAADAUUAAAAAAAEBTQAAAAAAAwFFAAAAAAABAUUAAAAAAAABTQAAAAAAAgFNAAAAAAAAASEAAAAAAAABIQAAAAAAAwFBAAAAAAADAUEAAAAAAAABPQAAAAAAAAFZAAAAAAACAUkAAAAAAAABUQAAAAAAAAFNAAAAAAACAUkAAAAAAAABKQA==",
          "dtype": "f8"
         },
         "z": {
          "bdata": "KwdwCn4JRwm6CEsIGggRCCoHzgh1C88JowuNCJ4H2QhLB24IFgo0C2QKqwirB/wIPAjGCNAHrwiRB4YKjQuBC28KoAmsCJoIkQchB04MxgzsDiEHlAeOCCgKwQcOC0QM6wpSDcYHhQfKDXYMUghgCIwIJQgfCYYLsgw1B8QJjgieDFgMvAdSCA==",
          "dtype": "i2"
         }
        }
       ],
       "layout": {
        "coloraxis": {
         "colorbar": {
          "title": {
           "text": "model_year"
          }
         },
         "colorscale": [
          [
           0,
           "#0d0887"
          ],
          [
           0.1111111111111111,
           "#46039f"
          ],
          [
           0.2222222222222222,
           "#7201a8"
          ],
          [
           0.3333333333333333,
           "#9c179e"
          ],
          [
           0.4444444444444444,
           "#bd3786"
          ],
          [
           0.5555555555555556,
           "#d8576b"
          ],
          [
           0.6666666666666666,
           "#ed7953"
          ],
          [
           0.7777777777777778,
           "#fb9f3a"
          ],
          [
           0.8888888888888888,
           "#fdca26"
          ],
          [
           1,
           "#f0f921"
          ]
         ],
         "showscale": false
        },
        "height": 600,
        "legend": {
         "itemsizing": "constant",
         "title": {
          "text": "origin"
         },
         "tracegroupgap": 0
        },
        "margin": {
         "t": 60
        },
        "scene": {
         "domain": {
          "x": [
           0,
           1
          ],
          "y": [
           0,
           1
          ]
         },
         "xaxis": {
          "range": [
           50,
           500
          ],
          "title": {
           "text": "displacement"
          }
         },
         "yaxis": {
          "range": [
           40,
           250
          ],
          "title": {
           "text": "horsepower"
          }
         },
         "zaxis": {
          "range": [
           1000,
           5000
          ],
          "title": {
           "text": "weight"
          }
         }
        },
        "template": {
         "data": {
          "bar": [
           {
            "error_x": {
             "color": "#2a3f5f"
            },
            "error_y": {
             "color": "#2a3f5f"
            },
            "marker": {
             "line": {
              "color": "#E5ECF6",
              "width": 0.5
             },
             "pattern": {
              "fillmode": "overlay",
              "size": 10,
              "solidity": 0.2
             }
            },
            "type": "bar"
           }
          ],
          "barpolar": [
           {
            "marker": {
             "line": {
              "color": "#E5ECF6",
              "width": 0.5
             },
             "pattern": {
              "fillmode": "overlay",
              "size": 10,
              "solidity": 0.2
             }
            },
            "type": "barpolar"
           }
          ],
          "carpet": [
           {
            "aaxis": {
             "endlinecolor": "#2a3f5f",
             "gridcolor": "white",
             "linecolor": "white",
             "minorgridcolor": "white",
             "startlinecolor": "#2a3f5f"
            },
            "baxis": {
             "endlinecolor": "#2a3f5f",
             "gridcolor": "white",
             "linecolor": "white",
             "minorgridcolor": "white",
             "startlinecolor": "#2a3f5f"
            },
            "type": "carpet"
           }
          ],
          "choropleth": [
           {
            "colorbar": {
             "outlinewidth": 0,
             "ticks": ""
            },
            "type": "choropleth"
           }
          ],
          "contour": [
           {
            "colorbar": {
             "outlinewidth": 0,
             "ticks": ""
            },
            "colorscale": [
             [
              0,
              "#0d0887"
             ],
             [
              0.1111111111111111,
              "#46039f"
             ],
             [
              0.2222222222222222,
              "#7201a8"
             ],
             [
              0.3333333333333333,
              "#9c179e"
             ],
             [
              0.4444444444444444,
              "#bd3786"
             ],
             [
              0.5555555555555556,
              "#d8576b"
             ],
             [
              0.6666666666666666,
              "#ed7953"
             ],
             [
              0.7777777777777778,
              "#fb9f3a"
             ],
             [
              0.8888888888888888,
              "#fdca26"
             ],
             [
              1,
              "#f0f921"
             ]
            ],
            "type": "contour"
           }
          ],
          "contourcarpet": [
           {
            "colorbar": {
             "outlinewidth": 0,
             "ticks": ""
            },
            "type": "contourcarpet"
           }
          ],
          "heatmap": [
           {
            "colorbar": {
             "outlinewidth": 0,
             "ticks": ""
            },
            "colorscale": [
             [
              0,
              "#0d0887"
             ],
             [
              0.1111111111111111,
              "#46039f"
             ],
             [
              0.2222222222222222,
              "#7201a8"
             ],
             [
              0.3333333333333333,
              "#9c179e"
             ],
             [
              0.4444444444444444,
              "#bd3786"
             ],
             [
              0.5555555555555556,
              "#d8576b"
             ],
             [
              0.6666666666666666,
              "#ed7953"
             ],
             [
              0.7777777777777778,
              "#fb9f3a"
             ],
             [
              0.8888888888888888,
              "#fdca26"
             ],
             [
              1,
              "#f0f921"
             ]
            ],
            "type": "heatmap"
           }
          ],
          "histogram": [
           {
            "marker": {
             "pattern": {
              "fillmode": "overlay",
              "size": 10,
              "solidity": 0.2
             }
            },
            "type": "histogram"
           }
          ],
          "histogram2d": [
           {
            "colorbar": {
             "outlinewidth": 0,
             "ticks": ""
            },
            "colorscale": [
             [
              0,
              "#0d0887"
             ],
             [
              0.1111111111111111,
              "#46039f"
             ],
             [
              0.2222222222222222,
              "#7201a8"
             ],
             [
              0.3333333333333333,
              "#9c179e"
             ],
             [
              0.4444444444444444,
              "#bd3786"
             ],
             [
              0.5555555555555556,
              "#d8576b"
             ],
             [
              0.6666666666666666,
              "#ed7953"
             ],
             [
              0.7777777777777778,
              "#fb9f3a"
             ],
             [
              0.8888888888888888,
              "#fdca26"
             ],
             [
              1,
              "#f0f921"
             ]
            ],
            "type": "histogram2d"
           }
          ],
          "histogram2dcontour": [
           {
            "colorbar": {
             "outlinewidth": 0,
             "ticks": ""
            },
            "colorscale": [
             [
              0,
              "#0d0887"
             ],
             [
              0.1111111111111111,
              "#46039f"
             ],
             [
              0.2222222222222222,
              "#7201a8"
             ],
             [
              0.3333333333333333,
              "#9c179e"
             ],
             [
              0.4444444444444444,
              "#bd3786"
             ],
             [
              0.5555555555555556,
              "#d8576b"
             ],
             [
              0.6666666666666666,
              "#ed7953"
             ],
             [
              0.7777777777777778,
              "#fb9f3a"
             ],
             [
              0.8888888888888888,
              "#fdca26"
             ],
             [
              1,
              "#f0f921"
             ]
            ],
            "type": "histogram2dcontour"
           }
          ],
          "mesh3d": [
           {
            "colorbar": {
             "outlinewidth": 0,
             "ticks": ""
            },
            "type": "mesh3d"
           }
          ],
          "parcoords": [
           {
            "line": {
             "colorbar": {
              "outlinewidth": 0,
              "ticks": ""
             }
            },
            "type": "parcoords"
           }
          ],
          "pie": [
           {
            "automargin": true,
            "type": "pie"
           }
          ],
          "scatter": [
           {
            "fillpattern": {
             "fillmode": "overlay",
             "size": 10,
             "solidity": 0.2
            },
            "type": "scatter"
           }
          ],
          "scatter3d": [
           {
            "line": {
             "colorbar": {
              "outlinewidth": 0,
              "ticks": ""
             }
            },
            "marker": {
             "colorbar": {
              "outlinewidth": 0,
              "ticks": ""
             }
            },
            "type": "scatter3d"
           }
          ],
          "scattercarpet": [
           {
            "marker": {
             "colorbar": {
              "outlinewidth": 0,
              "ticks": ""
             }
            },
            "type": "scattercarpet"
           }
          ],
          "scattergeo": [
           {
            "marker": {
             "colorbar": {
              "outlinewidth": 0,
              "ticks": ""
             }
            },
            "type": "scattergeo"
           }
          ],
          "scattergl": [
           {
            "marker": {
             "colorbar": {
              "outlinewidth": 0,
              "ticks": ""
             }
            },
            "type": "scattergl"
           }
          ],
          "scattermap": [
           {
            "marker": {
             "colorbar": {
              "outlinewidth": 0,
              "ticks": ""
             }
            },
            "type": "scattermap"
           }
          ],
          "scattermapbox": [
           {
            "marker": {
             "colorbar": {
              "outlinewidth": 0,
              "ticks": ""
             }
            },
            "type": "scattermapbox"
           }
          ],
          "scatterpolar": [
           {
            "marker": {
             "colorbar": {
              "outlinewidth": 0,
              "ticks": ""
             }
            },
            "type": "scatterpolar"
           }
          ],
          "scatterpolargl": [
           {
            "marker": {
             "colorbar": {
              "outlinewidth": 0,
              "ticks": ""
             }
            },
            "type": "scatterpolargl"
           }
          ],
          "scatterternary": [
           {
            "marker": {
             "colorbar": {
              "outlinewidth": 0,
              "ticks": ""
             }
            },
            "type": "scatterternary"
           }
          ],
          "surface": [
           {
            "colorbar": {
             "outlinewidth": 0,
             "ticks": ""
            },
            "colorscale": [
             [
              0,
              "#0d0887"
             ],
             [
              0.1111111111111111,
              "#46039f"
             ],
             [
              0.2222222222222222,
              "#7201a8"
             ],
             [
              0.3333333333333333,
              "#9c179e"
             ],
             [
              0.4444444444444444,
              "#bd3786"
             ],
             [
              0.5555555555555556,
              "#d8576b"
             ],
             [
              0.6666666666666666,
              "#ed7953"
             ],
             [
              0.7777777777777778,
              "#fb9f3a"
             ],
             [
              0.8888888888888888,
              "#fdca26"
             ],
             [
              1,
              "#f0f921"
             ]
            ],
            "type": "surface"
           }
          ],
          "table": [
           {
            "cells": {
             "fill": {
              "color": "#EBF0F8"
             },
             "line": {
              "color": "white"
             }
            },
            "header": {
             "fill": {
              "color": "#C8D4E3"
             },
             "line": {
              "color": "white"
             }
            },
            "type": "table"
           }
          ]
         },
         "layout": {
          "annotationdefaults": {
           "arrowcolor": "#2a3f5f",
           "arrowhead": 0,
           "arrowwidth": 1
          },
          "autotypenumbers": "strict",
          "coloraxis": {
           "colorbar": {
            "outlinewidth": 0,
            "ticks": ""
           }
          },
          "colorscale": {
           "diverging": [
            [
             0,
             "#8e0152"
            ],
            [
             0.1,
             "#c51b7d"
            ],
            [
             0.2,
             "#de77ae"
            ],
            [
             0.3,
             "#f1b6da"
            ],
            [
             0.4,
             "#fde0ef"
            ],
            [
             0.5,
             "#f7f7f7"
            ],
            [
             0.6,
             "#e6f5d0"
            ],
            [
             0.7,
             "#b8e186"
            ],
            [
             0.8,
             "#7fbc41"
            ],
            [
             0.9,
             "#4d9221"
            ],
            [
             1,
             "#276419"
            ]
           ],
           "sequential": [
            [
             0,
             "#0d0887"
            ],
            [
             0.1111111111111111,
             "#46039f"
            ],
            [
             0.2222222222222222,
             "#7201a8"
            ],
            [
             0.3333333333333333,
             "#9c179e"
            ],
            [
             0.4444444444444444,
             "#bd3786"
            ],
            [
             0.5555555555555556,
             "#d8576b"
            ],
            [
             0.6666666666666666,
             "#ed7953"
            ],
            [
             0.7777777777777778,
             "#fb9f3a"
            ],
            [
             0.8888888888888888,
             "#fdca26"
            ],
            [
             1,
             "#f0f921"
            ]
           ],
           "sequentialminus": [
            [
             0,
             "#0d0887"
            ],
            [
             0.1111111111111111,
             "#46039f"
            ],
            [
             0.2222222222222222,
             "#7201a8"
            ],
            [
             0.3333333333333333,
             "#9c179e"
            ],
            [
             0.4444444444444444,
             "#bd3786"
            ],
            [
             0.5555555555555556,
             "#d8576b"
            ],
            [
             0.6666666666666666,
             "#ed7953"
            ],
            [
             0.7777777777777778,
             "#fb9f3a"
            ],
            [
             0.8888888888888888,
             "#fdca26"
            ],
            [
             1,
             "#f0f921"
            ]
           ]
          },
          "colorway": [
           "#636efa",
           "#EF553B",
           "#00cc96",
           "#ab63fa",
           "#FFA15A",
           "#19d3f3",
           "#FF6692",
           "#B6E880",
           "#FF97FF",
           "#FECB52"
          ],
          "font": {
           "color": "#2a3f5f"
          },
          "geo": {
           "bgcolor": "white",
           "lakecolor": "white",
           "landcolor": "#E5ECF6",
           "showlakes": true,
           "showland": true,
           "subunitcolor": "white"
          },
          "hoverlabel": {
           "align": "left"
          },
          "hovermode": "closest",
          "mapbox": {
           "style": "light"
          },
          "paper_bgcolor": "white",
          "plot_bgcolor": "#E5ECF6",
          "polar": {
           "angularaxis": {
            "gridcolor": "white",
            "linecolor": "white",
            "ticks": ""
           },
           "bgcolor": "#E5ECF6",
           "radialaxis": {
            "gridcolor": "white",
            "linecolor": "white",
            "ticks": ""
           }
          },
          "scene": {
           "xaxis": {
            "backgroundcolor": "#E5ECF6",
            "gridcolor": "white",
            "gridwidth": 2,
            "linecolor": "white",
            "showbackground": true,
            "ticks": "",
            "zerolinecolor": "white"
           },
           "yaxis": {
            "backgroundcolor": "#E5ECF6",
            "gridcolor": "white",
            "gridwidth": 2,
            "linecolor": "white",
            "showbackground": true,
            "ticks": "",
            "zerolinecolor": "white"
           },
           "zaxis": {
            "backgroundcolor": "#E5ECF6",
            "gridcolor": "white",
            "gridwidth": 2,
            "linecolor": "white",
            "showbackground": true,
            "ticks": "",
            "zerolinecolor": "white"
           }
          },
          "shapedefaults": {
           "line": {
            "color": "#2a3f5f"
           }
          },
          "ternary": {
           "aaxis": {
            "gridcolor": "white",
            "linecolor": "white",
            "ticks": ""
           },
           "baxis": {
            "gridcolor": "white",
            "linecolor": "white",
            "ticks": ""
           },
           "bgcolor": "#E5ECF6",
           "caxis": {
            "gridcolor": "white",
            "linecolor": "white",
            "ticks": ""
           }
          },
          "title": {
           "x": 0.05
          },
          "xaxis": {
           "automargin": true,
           "gridcolor": "white",
           "linecolor": "white",
           "ticks": "",
           "title": {
            "standoff": 15
           },
           "zerolinecolor": "white",
           "zerolinewidth": 2
          },
          "yaxis": {
           "automargin": true,
           "gridcolor": "white",
           "linecolor": "white",
           "ticks": "",
           "title": {
            "standoff": 15
           },
           "zerolinecolor": "white",
           "zerolinewidth": 2
          }
         }
        },
        "width": 900
       }
      }
     },
     "metadata": {},
     "output_type": "display_data"
    }
   ],
   "source": [
    "fig = px.scatter_3d(mpg, x=\"displacement\", \n",
    "                    y=\"horsepower\", \n",
    "                    z=\"weight\", \n",
    "                    color=\"model_year\",\n",
    "                    size=\"mpg\",\n",
    "                    symbol=\"origin\",\n",
    "                    width=900, height=600, \n",
    "                    opacity=.7)\n",
    "# remove heat map legend and freeze the axes\n",
    "fig.update_layout(coloraxis_showscale=False,\n",
    "                  scene=(dict(xaxis_range=[50, 500], \n",
    "                              yaxis_range=[40, 250], \n",
    "                              zaxis_range=[1000, 5000])))\n"
   ]
  },
  {
   "cell_type": "markdown",
   "id": "c0ca8641",
   "metadata": {},
   "source": [
    "Visualizing data in high-dimensional space is challenging. In general, the plots we made here can be sometimes helpful for interactive visualizations but can be difficult to interpret in a static form.\n"
   ]
  },
  {
   "cell_type": "markdown",
   "id": "1a533ba0",
   "metadata": {},
   "source": [
    "### Dimensionality Reduction \n",
    "\n",
    "One common approach to visualizing high-dimensional data is to use dimensionality reduction techniques. These techniques aim to find a lower-dimensional representation of the data that captures the most important information."
   ]
  },
  {
   "cell_type": "code",
   "execution_count": 20,
   "id": "364d42e7",
   "metadata": {},
   "outputs": [
    {
     "data": {
      "text/html": [
       "<div>\n",
       "<style scoped>\n",
       "    .dataframe tbody tr th:only-of-type {\n",
       "        vertical-align: middle;\n",
       "    }\n",
       "\n",
       "    .dataframe tbody tr th {\n",
       "        vertical-align: top;\n",
       "    }\n",
       "\n",
       "    .dataframe thead th {\n",
       "        text-align: right;\n",
       "    }\n",
       "</style>\n",
       "<table border=\"1\" class=\"dataframe\">\n",
       "  <thead>\n",
       "    <tr style=\"text-align: right;\">\n",
       "      <th></th>\n",
       "      <th>mpg</th>\n",
       "      <th>cylinders</th>\n",
       "      <th>displacement</th>\n",
       "      <th>horsepower</th>\n",
       "      <th>weight</th>\n",
       "      <th>acceleration</th>\n",
       "      <th>model_year</th>\n",
       "      <th>origin</th>\n",
       "      <th>name</th>\n",
       "      <th>z1</th>\n",
       "      <th>z2</th>\n",
       "    </tr>\n",
       "  </thead>\n",
       "  <tbody>\n",
       "    <tr>\n",
       "      <th>0</th>\n",
       "      <td>18.0</td>\n",
       "      <td>8</td>\n",
       "      <td>307.0</td>\n",
       "      <td>130.0</td>\n",
       "      <td>3504</td>\n",
       "      <td>12.0</td>\n",
       "      <td>70</td>\n",
       "      <td>usa</td>\n",
       "      <td>chevrolet chevelle malibu</td>\n",
       "      <td>536.462765</td>\n",
       "      <td>50.770168</td>\n",
       "    </tr>\n",
       "    <tr>\n",
       "      <th>1</th>\n",
       "      <td>15.0</td>\n",
       "      <td>8</td>\n",
       "      <td>350.0</td>\n",
       "      <td>165.0</td>\n",
       "      <td>3693</td>\n",
       "      <td>11.5</td>\n",
       "      <td>70</td>\n",
       "      <td>usa</td>\n",
       "      <td>buick skylark 320</td>\n",
       "      <td>730.376262</td>\n",
       "      <td>79.103119</td>\n",
       "    </tr>\n",
       "    <tr>\n",
       "      <th>2</th>\n",
       "      <td>18.0</td>\n",
       "      <td>8</td>\n",
       "      <td>318.0</td>\n",
       "      <td>150.0</td>\n",
       "      <td>3436</td>\n",
       "      <td>11.0</td>\n",
       "      <td>70</td>\n",
       "      <td>usa</td>\n",
       "      <td>plymouth satellite</td>\n",
       "      <td>470.999791</td>\n",
       "      <td>75.360935</td>\n",
       "    </tr>\n",
       "    <tr>\n",
       "      <th>3</th>\n",
       "      <td>16.0</td>\n",
       "      <td>8</td>\n",
       "      <td>304.0</td>\n",
       "      <td>150.0</td>\n",
       "      <td>3433</td>\n",
       "      <td>12.0</td>\n",
       "      <td>70</td>\n",
       "      <td>usa</td>\n",
       "      <td>amc rebel sst</td>\n",
       "      <td>466.436304</td>\n",
       "      <td>62.509155</td>\n",
       "    </tr>\n",
       "    <tr>\n",
       "      <th>4</th>\n",
       "      <td>17.0</td>\n",
       "      <td>8</td>\n",
       "      <td>302.0</td>\n",
       "      <td>140.0</td>\n",
       "      <td>3449</td>\n",
       "      <td>10.5</td>\n",
       "      <td>70</td>\n",
       "      <td>usa</td>\n",
       "      <td>ford torino</td>\n",
       "      <td>481.692727</td>\n",
       "      <td>55.684400</td>\n",
       "    </tr>\n",
       "  </tbody>\n",
       "</table>\n",
       "</div>"
      ],
      "text/plain": [
       "    mpg  cylinders  displacement  horsepower  weight  acceleration  \\\n",
       "0  18.0          8         307.0       130.0    3504          12.0   \n",
       "1  15.0          8         350.0       165.0    3693          11.5   \n",
       "2  18.0          8         318.0       150.0    3436          11.0   \n",
       "3  16.0          8         304.0       150.0    3433          12.0   \n",
       "4  17.0          8         302.0       140.0    3449          10.5   \n",
       "\n",
       "   model_year origin                       name          z1         z2  \n",
       "0          70    usa  chevrolet chevelle malibu  536.462765  50.770168  \n",
       "1          70    usa          buick skylark 320  730.376262  79.103119  \n",
       "2          70    usa         plymouth satellite  470.999791  75.360935  \n",
       "3          70    usa              amc rebel sst  466.436304  62.509155  \n",
       "4          70    usa                ford torino  481.692727  55.684400  "
      ]
     },
     "execution_count": 20,
     "metadata": {},
     "output_type": "execute_result"
    }
   ],
   "source": [
    "from sklearn.decomposition import PCA\n",
    "pca = PCA(n_components=2,)\n",
    "\n",
    "X = pd.get_dummies(mpg[[\"displacement\", \"horsepower\", \"weight\", \"model_year\", \"origin\", \"mpg\"]])\n",
    "zs = pca.fit_transform(X)\n",
    "mpg[[\"z1\", \"z2\"]] = zs\n",
    "mpg.head()"
   ]
  },
  {
   "cell_type": "markdown",
   "id": "7463bd26",
   "metadata": {},
   "source": [
    "In the plot below, notice how the general pattern in the 6-dimensional plot above has been retained, but we no longer directly plot any of the original features."
   ]
  },
  {
   "cell_type": "code",
   "execution_count": 21,
   "id": "f11492e9",
   "metadata": {},
   "outputs": [
    {
     "data": {
      "application/vnd.plotly.v1+json": {
       "config": {
        "plotlyServerURL": "https://plot.ly"
       },
       "data": [
        {
         "hovertemplate": "z1=%{x}<br>z2=%{y}<extra></extra>",
         "legendgroup": "",
         "marker": {
          "color": "#636efa",
          "symbol": "circle"
         },
         "mode": "markers",
         "name": "",
         "orientation": "v",
         "showlegend": false,
         "type": "scatter",
         "x": {
          "bdata": "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",
          "dtype": "f8"
         },
         "xaxis": "x",
         "y": {
          "bdata": "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",
          "dtype": "f8"
         },
         "yaxis": "y"
        }
       ],
       "layout": {
        "legend": {
         "tracegroupgap": 0,
         "x": 0.92,
         "y": 1
        },
        "margin": {
         "t": 60
        },
        "template": {
         "data": {
          "bar": [
           {
            "error_x": {
             "color": "#2a3f5f"
            },
            "error_y": {
             "color": "#2a3f5f"
            },
            "marker": {
             "line": {
              "color": "#E5ECF6",
              "width": 0.5
             },
             "pattern": {
              "fillmode": "overlay",
              "size": 10,
              "solidity": 0.2
             }
            },
            "type": "bar"
           }
          ],
          "barpolar": [
           {
            "marker": {
             "line": {
              "color": "#E5ECF6",
              "width": 0.5
             },
             "pattern": {
              "fillmode": "overlay",
              "size": 10,
              "solidity": 0.2
             }
            },
            "type": "barpolar"
           }
          ],
          "carpet": [
           {
            "aaxis": {
             "endlinecolor": "#2a3f5f",
             "gridcolor": "white",
             "linecolor": "white",
             "minorgridcolor": "white",
             "startlinecolor": "#2a3f5f"
            },
            "baxis": {
             "endlinecolor": "#2a3f5f",
             "gridcolor": "white",
             "linecolor": "white",
             "minorgridcolor": "white",
             "startlinecolor": "#2a3f5f"
            },
            "type": "carpet"
           }
          ],
          "choropleth": [
           {
            "colorbar": {
             "outlinewidth": 0,
             "ticks": ""
            },
            "type": "choropleth"
           }
          ],
          "contour": [
           {
            "colorbar": {
             "outlinewidth": 0,
             "ticks": ""
            },
            "colorscale": [
             [
              0,
              "#0d0887"
             ],
             [
              0.1111111111111111,
              "#46039f"
             ],
             [
              0.2222222222222222,
              "#7201a8"
             ],
             [
              0.3333333333333333,
              "#9c179e"
             ],
             [
              0.4444444444444444,
              "#bd3786"
             ],
             [
              0.5555555555555556,
              "#d8576b"
             ],
             [
              0.6666666666666666,
              "#ed7953"
             ],
             [
              0.7777777777777778,
              "#fb9f3a"
             ],
             [
              0.8888888888888888,
              "#fdca26"
             ],
             [
              1,
              "#f0f921"
             ]
            ],
            "type": "contour"
           }
          ],
          "contourcarpet": [
           {
            "colorbar": {
             "outlinewidth": 0,
             "ticks": ""
            },
            "type": "contourcarpet"
           }
          ],
          "heatmap": [
           {
            "colorbar": {
             "outlinewidth": 0,
             "ticks": ""
            },
            "colorscale": [
             [
              0,
              "#0d0887"
             ],
             [
              0.1111111111111111,
              "#46039f"
             ],
             [
              0.2222222222222222,
              "#7201a8"
             ],
             [
              0.3333333333333333,
              "#9c179e"
             ],
             [
              0.4444444444444444,
              "#bd3786"
             ],
             [
              0.5555555555555556,
              "#d8576b"
             ],
             [
              0.6666666666666666,
              "#ed7953"
             ],
             [
              0.7777777777777778,
              "#fb9f3a"
             ],
             [
              0.8888888888888888,
              "#fdca26"
             ],
             [
              1,
              "#f0f921"
             ]
            ],
            "type": "heatmap"
           }
          ],
          "histogram": [
           {
            "marker": {
             "pattern": {
              "fillmode": "overlay",
              "size": 10,
              "solidity": 0.2
             }
            },
            "type": "histogram"
           }
          ],
          "histogram2d": [
           {
            "colorbar": {
             "outlinewidth": 0,
             "ticks": ""
            },
            "colorscale": [
             [
              0,
              "#0d0887"
             ],
             [
              0.1111111111111111,
              "#46039f"
             ],
             [
              0.2222222222222222,
              "#7201a8"
             ],
             [
              0.3333333333333333,
              "#9c179e"
             ],
             [
              0.4444444444444444,
              "#bd3786"
             ],
             [
              0.5555555555555556,
              "#d8576b"
             ],
             [
              0.6666666666666666,
              "#ed7953"
             ],
             [
              0.7777777777777778,
              "#fb9f3a"
             ],
             [
              0.8888888888888888,
              "#fdca26"
             ],
             [
              1,
              "#f0f921"
             ]
            ],
            "type": "histogram2d"
           }
          ],
          "histogram2dcontour": [
           {
            "colorbar": {
             "outlinewidth": 0,
             "ticks": ""
            },
            "colorscale": [
             [
              0,
              "#0d0887"
             ],
             [
              0.1111111111111111,
              "#46039f"
             ],
             [
              0.2222222222222222,
              "#7201a8"
             ],
             [
              0.3333333333333333,
              "#9c179e"
             ],
             [
              0.4444444444444444,
              "#bd3786"
             ],
             [
              0.5555555555555556,
              "#d8576b"
             ],
             [
              0.6666666666666666,
              "#ed7953"
             ],
             [
              0.7777777777777778,
              "#fb9f3a"
             ],
             [
              0.8888888888888888,
              "#fdca26"
             ],
             [
              1,
              "#f0f921"
             ]
            ],
            "type": "histogram2dcontour"
           }
          ],
          "mesh3d": [
           {
            "colorbar": {
             "outlinewidth": 0,
             "ticks": ""
            },
            "type": "mesh3d"
           }
          ],
          "parcoords": [
           {
            "line": {
             "colorbar": {
              "outlinewidth": 0,
              "ticks": ""
             }
            },
            "type": "parcoords"
           }
          ],
          "pie": [
           {
            "automargin": true,
            "type": "pie"
           }
          ],
          "scatter": [
           {
            "fillpattern": {
             "fillmode": "overlay",
             "size": 10,
             "solidity": 0.2
            },
            "type": "scatter"
           }
          ],
          "scatter3d": [
           {
            "line": {
             "colorbar": {
              "outlinewidth": 0,
              "ticks": ""
             }
            },
            "marker": {
             "colorbar": {
              "outlinewidth": 0,
              "ticks": ""
             }
            },
            "type": "scatter3d"
           }
          ],
          "scattercarpet": [
           {
            "marker": {
             "colorbar": {
              "outlinewidth": 0,
              "ticks": ""
             }
            },
            "type": "scattercarpet"
           }
          ],
          "scattergeo": [
           {
            "marker": {
             "colorbar": {
              "outlinewidth": 0,
              "ticks": ""
             }
            },
            "type": "scattergeo"
           }
          ],
          "scattergl": [
           {
            "marker": {
             "colorbar": {
              "outlinewidth": 0,
              "ticks": ""
             }
            },
            "type": "scattergl"
           }
          ],
          "scattermap": [
           {
            "marker": {
             "colorbar": {
              "outlinewidth": 0,
              "ticks": ""
             }
            },
            "type": "scattermap"
           }
          ],
          "scattermapbox": [
           {
            "marker": {
             "colorbar": {
              "outlinewidth": 0,
              "ticks": ""
             }
            },
            "type": "scattermapbox"
           }
          ],
          "scatterpolar": [
           {
            "marker": {
             "colorbar": {
              "outlinewidth": 0,
              "ticks": ""
             }
            },
            "type": "scatterpolar"
           }
          ],
          "scatterpolargl": [
           {
            "marker": {
             "colorbar": {
              "outlinewidth": 0,
              "ticks": ""
             }
            },
            "type": "scatterpolargl"
           }
          ],
          "scatterternary": [
           {
            "marker": {
             "colorbar": {
              "outlinewidth": 0,
              "ticks": ""
             }
            },
            "type": "scatterternary"
           }
          ],
          "surface": [
           {
            "colorbar": {
             "outlinewidth": 0,
             "ticks": ""
            },
            "colorscale": [
             [
              0,
              "#0d0887"
             ],
             [
              0.1111111111111111,
              "#46039f"
             ],
             [
              0.2222222222222222,
              "#7201a8"
             ],
             [
              0.3333333333333333,
              "#9c179e"
             ],
             [
              0.4444444444444444,
              "#bd3786"
             ],
             [
              0.5555555555555556,
              "#d8576b"
             ],
             [
              0.6666666666666666,
              "#ed7953"
             ],
             [
              0.7777777777777778,
              "#fb9f3a"
             ],
             [
              0.8888888888888888,
              "#fdca26"
             ],
             [
              1,
              "#f0f921"
             ]
            ],
            "type": "surface"
           }
          ],
          "table": [
           {
            "cells": {
             "fill": {
              "color": "#EBF0F8"
             },
             "line": {
              "color": "white"
             }
            },
            "header": {
             "fill": {
              "color": "#C8D4E3"
             },
             "line": {
              "color": "white"
             }
            },
            "type": "table"
           }
          ]
         },
         "layout": {
          "annotationdefaults": {
           "arrowcolor": "#2a3f5f",
           "arrowhead": 0,
           "arrowwidth": 1
          },
          "autotypenumbers": "strict",
          "coloraxis": {
           "colorbar": {
            "outlinewidth": 0,
            "ticks": ""
           }
          },
          "colorscale": {
           "diverging": [
            [
             0,
             "#8e0152"
            ],
            [
             0.1,
             "#c51b7d"
            ],
            [
             0.2,
             "#de77ae"
            ],
            [
             0.3,
             "#f1b6da"
            ],
            [
             0.4,
             "#fde0ef"
            ],
            [
             0.5,
             "#f7f7f7"
            ],
            [
             0.6,
             "#e6f5d0"
            ],
            [
             0.7,
             "#b8e186"
            ],
            [
             0.8,
             "#7fbc41"
            ],
            [
             0.9,
             "#4d9221"
            ],
            [
             1,
             "#276419"
            ]
           ],
           "sequential": [
            [
             0,
             "#0d0887"
            ],
            [
             0.1111111111111111,
             "#46039f"
            ],
            [
             0.2222222222222222,
             "#7201a8"
            ],
            [
             0.3333333333333333,
             "#9c179e"
            ],
            [
             0.4444444444444444,
             "#bd3786"
            ],
            [
             0.5555555555555556,
             "#d8576b"
            ],
            [
             0.6666666666666666,
             "#ed7953"
            ],
            [
             0.7777777777777778,
             "#fb9f3a"
            ],
            [
             0.8888888888888888,
             "#fdca26"
            ],
            [
             1,
             "#f0f921"
            ]
           ],
           "sequentialminus": [
            [
             0,
             "#0d0887"
            ],
            [
             0.1111111111111111,
             "#46039f"
            ],
            [
             0.2222222222222222,
             "#7201a8"
            ],
            [
             0.3333333333333333,
             "#9c179e"
            ],
            [
             0.4444444444444444,
             "#bd3786"
            ],
            [
             0.5555555555555556,
             "#d8576b"
            ],
            [
             0.6666666666666666,
             "#ed7953"
            ],
            [
             0.7777777777777778,
             "#fb9f3a"
            ],
            [
             0.8888888888888888,
             "#fdca26"
            ],
            [
             1,
             "#f0f921"
            ]
           ]
          },
          "colorway": [
           "#636efa",
           "#EF553B",
           "#00cc96",
           "#ab63fa",
           "#FFA15A",
           "#19d3f3",
           "#FF6692",
           "#B6E880",
           "#FF97FF",
           "#FECB52"
          ],
          "font": {
           "color": "#2a3f5f"
          },
          "geo": {
           "bgcolor": "white",
           "lakecolor": "white",
           "landcolor": "#E5ECF6",
           "showlakes": true,
           "showland": true,
           "subunitcolor": "white"
          },
          "hoverlabel": {
           "align": "left"
          },
          "hovermode": "closest",
          "mapbox": {
           "style": "light"
          },
          "paper_bgcolor": "white",
          "plot_bgcolor": "#E5ECF6",
          "polar": {
           "angularaxis": {
            "gridcolor": "white",
            "linecolor": "white",
            "ticks": ""
           },
           "bgcolor": "#E5ECF6",
           "radialaxis": {
            "gridcolor": "white",
            "linecolor": "white",
            "ticks": ""
           }
          },
          "scene": {
           "xaxis": {
            "backgroundcolor": "#E5ECF6",
            "gridcolor": "white",
            "gridwidth": 2,
            "linecolor": "white",
            "showbackground": true,
            "ticks": "",
            "zerolinecolor": "white"
           },
           "yaxis": {
            "backgroundcolor": "#E5ECF6",
            "gridcolor": "white",
            "gridwidth": 2,
            "linecolor": "white",
            "showbackground": true,
            "ticks": "",
            "zerolinecolor": "white"
           },
           "zaxis": {
            "backgroundcolor": "#E5ECF6",
            "gridcolor": "white",
            "gridwidth": 2,
            "linecolor": "white",
            "showbackground": true,
            "ticks": "",
            "zerolinecolor": "white"
           }
          },
          "shapedefaults": {
           "line": {
            "color": "#2a3f5f"
           }
          },
          "ternary": {
           "aaxis": {
            "gridcolor": "white",
            "linecolor": "white",
            "ticks": ""
           },
           "baxis": {
            "gridcolor": "white",
            "linecolor": "white",
            "ticks": ""
           },
           "bgcolor": "#E5ECF6",
           "caxis": {
            "gridcolor": "white",
            "linecolor": "white",
            "ticks": ""
           }
          },
          "title": {
           "x": 0.05
          },
          "xaxis": {
           "automargin": true,
           "gridcolor": "white",
           "linecolor": "white",
           "ticks": "",
           "title": {
            "standoff": 15
           },
           "zerolinecolor": "white",
           "zerolinewidth": 2
          },
          "yaxis": {
           "automargin": true,
           "gridcolor": "white",
           "linecolor": "white",
           "ticks": "",
           "title": {
            "standoff": 15
           },
           "zerolinecolor": "white",
           "zerolinewidth": 2
          }
         }
        },
        "xaxis": {
         "anchor": "y",
         "domain": [
          0,
          1
         ],
         "range": [
          -1500,
          2500
         ],
         "title": {
          "text": "z1"
         }
        },
        "yaxis": {
         "anchor": "x",
         "domain": [
          0,
          1
         ],
         "range": [
          -200,
          300
         ],
         "title": {
          "text": "z2"
         }
        }
       }
      }
     },
     "metadata": {},
     "output_type": "display_data"
    }
   ],
   "source": [
    "fig = px.scatter(mpg, x=\"z1\", y=\"z2\")\n",
    "fig.update_layout(legend=dict(x=.92, y=1), xaxis_range=[-1500, 2500], yaxis_range=[-200, 300])"
   ]
  },
  {
   "cell_type": "markdown",
   "id": "0fade2dd",
   "metadata": {},
   "source": [
    "We can color the points in the plot above to make it easier to see how patterns have been retained:"
   ]
  },
  {
   "cell_type": "code",
   "execution_count": 22,
   "id": "813bde71",
   "metadata": {},
   "outputs": [
    {
     "data": {
      "application/vnd.plotly.v1+json": {
       "config": {
        "plotlyServerURL": "https://plot.ly"
       },
       "data": [
        {
         "customdata": [
          [
           307,
           130,
           3504,
           "chevrolet chevelle malibu"
          ],
          [
           350,
           165,
           3693,
           "buick skylark 320"
          ],
          [
           318,
           150,
           3436,
           "plymouth satellite"
          ],
          [
           304,
           150,
           3433,
           "amc rebel sst"
          ],
          [
           302,
           140,
           3449,
           "ford torino"
          ],
          [
           429,
           198,
           4341,
           "ford galaxie 500"
          ],
          [
           454,
           220,
           4354,
           "chevrolet impala"
          ],
          [
           440,
           215,
           4312,
           "plymouth fury iii"
          ],
          [
           455,
           225,
           4425,
           "pontiac catalina"
          ],
          [
           390,
           190,
           3850,
           "amc ambassador dpl"
          ],
          [
           383,
           170,
           3563,
           "dodge challenger se"
          ],
          [
           340,
           160,
           3609,
           "plymouth 'cuda 340"
          ],
          [
           400,
           150,
           3761,
           "chevrolet monte carlo"
          ],
          [
           455,
           225,
           3086,
           "buick estate wagon (sw)"
          ],
          [
           198,
           95,
           2833,
           "plymouth duster"
          ],
          [
           199,
           97,
           2774,
           "amc hornet"
          ],
          [
           200,
           85,
           2587,
           "ford maverick"
          ],
          [
           199,
           90,
           2648,
           "amc gremlin"
          ],
          [
           360,
           215,
           4615,
           "ford f250"
          ],
          [
           307,
           200,
           4376,
           "chevy c20"
          ],
          [
           318,
           210,
           4382,
           "dodge d200"
          ],
          [
           304,
           193,
           4732,
           "hi 1200d"
          ],
          [
           140,
           90,
           2264,
           "chevrolet vega 2300"
          ],
          [
           232,
           100,
           2634,
           "amc gremlin"
          ],
          [
           225,
           105,
           3439,
           "plymouth satellite custom"
          ],
          [
           250,
           100,
           3329,
           "chevrolet chevelle malibu"
          ],
          [
           250,
           88,
           3302,
           "ford torino 500"
          ],
          [
           232,
           100,
           3288,
           "amc matador"
          ],
          [
           350,
           165,
           4209,
           "chevrolet impala"
          ],
          [
           400,
           175,
           4464,
           "pontiac catalina brougham"
          ],
          [
           351,
           153,
           4154,
           "ford galaxie 500"
          ],
          [
           318,
           150,
           4096,
           "plymouth fury iii"
          ],
          [
           383,
           180,
           4955,
           "dodge monaco (sw)"
          ],
          [
           400,
           170,
           4746,
           "ford country squire (sw)"
          ],
          [
           400,
           175,
           5140,
           "pontiac safari (sw)"
          ],
          [
           258,
           110,
           2962,
           "amc hornet sportabout (sw)"
          ],
          [
           140,
           72,
           2408,
           "chevrolet vega (sw)"
          ],
          [
           250,
           100,
           3282,
           "pontiac firebird"
          ],
          [
           250,
           88,
           3139,
           "ford mustang"
          ],
          [
           122,
           86,
           2220,
           "mercury capri 2000"
          ],
          [
           91,
           70,
           1955,
           "plymouth cricket"
          ],
          [
           97.5,
           80,
           2126,
           "dodge colt hardtop"
          ],
          [
           140,
           90,
           2408,
           "chevrolet vega"
          ],
          [
           122,
           86,
           2226,
           "ford pinto runabout"
          ],
          [
           350,
           165,
           4274,
           "chevrolet impala"
          ],
          [
           400,
           175,
           4385,
           "pontiac catalina"
          ],
          [
           318,
           150,
           4135,
           "plymouth fury iii"
          ],
          [
           351,
           153,
           4129,
           "ford galaxie 500"
          ],
          [
           304,
           150,
           3672,
           "amc ambassador sst"
          ],
          [
           429,
           208,
           4633,
           "mercury marquis"
          ],
          [
           350,
           155,
           4502,
           "buick lesabre custom"
          ],
          [
           350,
           160,
           4456,
           "oldsmobile delta 88 royale"
          ],
          [
           400,
           190,
           4422,
           "chrysler newport royal"
          ],
          [
           304,
           150,
           3892,
           "amc matador (sw)"
          ],
          [
           307,
           130,
           4098,
           "chevrolet chevelle concours (sw)"
          ],
          [
           302,
           140,
           4294,
           "ford gran torino (sw)"
          ],
          [
           318,
           150,
           4077,
           "plymouth satellite custom (sw)"
          ],
          [
           122,
           86,
           2395,
           "ford pinto (sw)"
          ],
          [
           98,
           80,
           2164,
           "dodge colt (sw)"
          ],
          [
           350,
           175,
           4100,
           "buick century 350"
          ],
          [
           304,
           150,
           3672,
           "amc matador"
          ],
          [
           350,
           145,
           3988,
           "chevrolet malibu"
          ],
          [
           302,
           137,
           4042,
           "ford gran torino"
          ],
          [
           318,
           150,
           3777,
           "dodge coronet custom"
          ],
          [
           429,
           198,
           4952,
           "mercury marquis brougham"
          ],
          [
           400,
           150,
           4464,
           "chevrolet caprice classic"
          ],
          [
           351,
           158,
           4363,
           "ford ltd"
          ],
          [
           318,
           150,
           4237,
           "plymouth fury gran sedan"
          ],
          [
           440,
           215,
           4735,
           "chrysler new yorker brougham"
          ],
          [
           455,
           225,
           4951,
           "buick electra 225 custom"
          ],
          [
           360,
           175,
           3821,
           "amc ambassador brougham"
          ],
          [
           225,
           105,
           3121,
           "plymouth valiant"
          ],
          [
           250,
           100,
           3278,
           "chevrolet nova custom"
          ],
          [
           232,
           100,
           2945,
           "amc hornet"
          ],
          [
           250,
           88,
           3021,
           "ford maverick"
          ],
          [
           198,
           95,
           2904,
           "plymouth duster"
          ],
          [
           400,
           150,
           4997,
           "chevrolet impala"
          ],
          [
           400,
           167,
           4906,
           "ford country"
          ],
          [
           360,
           170,
           4654,
           "plymouth custom suburb"
          ],
          [
           350,
           180,
           4499,
           "oldsmobile vista cruiser"
          ],
          [
           232,
           100,
           2789,
           "amc gremlin"
          ],
          [
           140,
           72,
           2401,
           "chevrolet vega"
          ],
          [
           122,
           85,
           2310,
           "ford pinto"
          ],
          [
           155,
           107,
           2472,
           "mercury capri v6"
          ],
          [
           350,
           145,
           4082,
           "chevrolet monte carlo s"
          ],
          [
           400,
           230,
           4278,
           "pontiac grand prix"
          ],
          [
           318,
           150,
           3399,
           "dodge dart custom"
          ],
          [
           350,
           180,
           3664,
           "oldsmobile omega"
          ],
          [
           198,
           95,
           3102,
           "plymouth duster"
          ],
          [
           232,
           100,
           2901,
           "amc hornet"
          ],
          [
           250,
           100,
           3336,
           "chevrolet nova"
          ],
          [
           122,
           80,
           2451,
           "ford pinto"
          ],
          [
           140,
           75,
           2542,
           "chevrolet vega"
          ],
          [
           250,
           100,
           3781,
           "chevrolet chevelle malibu classic"
          ],
          [
           258,
           110,
           3632,
           "amc matador"
          ],
          [
           225,
           105,
           3613,
           "plymouth satellite sebring"
          ],
          [
           302,
           140,
           4141,
           "ford gran torino"
          ],
          [
           350,
           150,
           4699,
           "buick century luxus (sw)"
          ],
          [
           318,
           150,
           4457,
           "dodge coronet custom (sw)"
          ],
          [
           302,
           140,
           4638,
           "ford gran torino (sw)"
          ],
          [
           304,
           150,
           4257,
           "amc matador (sw)"
          ],
          [
           90,
           75,
           2125,
           "dodge colt"
          ],
          [
           225,
           95,
           3264,
           "plymouth valiant custom"
          ],
          [
           250,
           105,
           3459,
           "chevrolet nova"
          ],
          [
           250,
           72,
           3432,
           "mercury monarch"
          ],
          [
           250,
           72,
           3158,
           "ford maverick"
          ],
          [
           400,
           170,
           4668,
           "pontiac catalina"
          ],
          [
           350,
           145,
           4440,
           "chevrolet bel air"
          ],
          [
           318,
           150,
           4498,
           "plymouth grand fury"
          ],
          [
           351,
           148,
           4657,
           "ford ltd"
          ],
          [
           231,
           110,
           3907,
           "buick century"
          ],
          [
           250,
           105,
           3897,
           "chevroelt chevelle malibu"
          ],
          [
           258,
           110,
           3730,
           "amc matador"
          ],
          [
           225,
           95,
           3785,
           "plymouth fury"
          ],
          [
           231,
           110,
           3039,
           "buick skyhawk"
          ],
          [
           262,
           110,
           3221,
           "chevrolet monza 2+2"
          ],
          [
           302,
           129,
           3169,
           "ford mustang ii"
          ],
          [
           140,
           83,
           2639,
           "ford pinto"
          ],
          [
           232,
           100,
           2914,
           "amc gremlin"
          ],
          [
           140,
           78,
           2592,
           "pontiac astro"
          ],
          [
           171,
           97,
           2984,
           "ford pinto"
          ],
          [
           232,
           90,
           3211,
           "amc pacer"
          ],
          [
           140,
           92,
           2572,
           "capri ii"
          ],
          [
           98,
           79,
           2255,
           "dodge colt"
          ],
          [
           305,
           140,
           4215,
           "chevrolet chevelle malibu classic"
          ],
          [
           318,
           150,
           4190,
           "dodge coronet brougham"
          ],
          [
           304,
           120,
           3962,
           "amc matador"
          ],
          [
           351,
           152,
           4215,
           "ford gran torino"
          ],
          [
           225,
           100,
           3233,
           "plymouth valiant"
          ],
          [
           250,
           105,
           3353,
           "chevrolet nova"
          ],
          [
           200,
           81,
           3012,
           "ford maverick"
          ],
          [
           232,
           90,
           3085,
           "amc hornet"
          ],
          [
           85,
           52,
           2035,
           "chevrolet chevette"
          ],
          [
           98,
           60,
           2164,
           "chevrolet woody"
          ],
          [
           225,
           100,
           3651,
           "dodge aspen se"
          ],
          [
           250,
           78,
           3574,
           "ford granada ghia"
          ],
          [
           250,
           110,
           3645,
           "pontiac ventura sj"
          ],
          [
           258,
           95,
           3193,
           "amc pacer d/l"
          ],
          [
           140,
           72,
           2565,
           "ford pinto"
          ],
          [
           318,
           150,
           3940,
           "plymouth volare premier v8"
          ],
          [
           350,
           180,
           4380,
           "cadillac seville"
          ],
          [
           350,
           145,
           4055,
           "chevy c10"
          ],
          [
           302,
           130,
           3870,
           "ford f108"
          ],
          [
           318,
           150,
           3755,
           "dodge d100"
          ],
          [
           111,
           80,
           2155,
           "buick opel isuzu deluxe"
          ],
          [
           122,
           96,
           2300,
           "plymouth arrow gs"
          ],
          [
           305,
           145,
           3880,
           "chevrolet caprice classic"
          ],
          [
           260,
           110,
           4060,
           "oldsmobile cutlass supreme"
          ],
          [
           318,
           145,
           4140,
           "dodge monaco brougham"
          ],
          [
           302,
           130,
           4295,
           "mercury cougar brougham"
          ],
          [
           250,
           110,
           3520,
           "chevrolet concours"
          ],
          [
           231,
           105,
           3425,
           "buick skylark"
          ],
          [
           225,
           100,
           3630,
           "plymouth volare custom"
          ],
          [
           250,
           98,
           3525,
           "ford granada"
          ],
          [
           400,
           180,
           4220,
           "pontiac grand prix lj"
          ],
          [
           350,
           170,
           4165,
           "chevrolet monte carlo landau"
          ],
          [
           400,
           190,
           4325,
           "chrysler cordoba"
          ],
          [
           351,
           149,
           4335,
           "ford thunderbird"
          ],
          [
           151,
           88,
           2740,
           "pontiac sunbird coupe"
          ],
          [
           140,
           89,
           2755,
           "ford mustang ii 2+2"
          ],
          [
           98,
           63,
           2051,
           "chevrolet chevette"
          ],
          [
           98,
           83,
           2075,
           "dodge colt m/m"
          ],
          [
           98,
           66,
           1800,
           "ford fiesta"
          ],
          [
           260,
           110,
           3365,
           "oldsmobile cutlass salon brougham"
          ],
          [
           318,
           140,
           3735,
           "dodge diplomat"
          ],
          [
           302,
           139,
           3570,
           "mercury monarch ghia"
          ],
          [
           231,
           105,
           3535,
           "pontiac phoenix lj"
          ],
          [
           200,
           95,
           3155,
           "chevrolet malibu"
          ],
          [
           200,
           85,
           2965,
           "ford fairmont (auto)"
          ],
          [
           140,
           88,
           2720,
           "ford fairmont (man)"
          ],
          [
           225,
           100,
           3430,
           "plymouth volare"
          ],
          [
           232,
           90,
           3210,
           "amc concord"
          ],
          [
           231,
           105,
           3380,
           "buick century special"
          ],
          [
           200,
           85,
           3070,
           "mercury zephyr"
          ],
          [
           225,
           110,
           3620,
           "dodge aspen"
          ],
          [
           258,
           120,
           3410,
           "amc concord d/l"
          ],
          [
           305,
           145,
           3425,
           "chevrolet monte carlo landau"
          ],
          [
           231,
           165,
           3445,
           "buick regal sport coupe (turbo)"
          ],
          [
           302,
           139,
           3205,
           "ford futura"
          ],
          [
           318,
           140,
           4080,
           "dodge magnum xe"
          ],
          [
           98,
           68,
           2155,
           "chevrolet chevette"
          ],
          [
           105,
           75,
           2230,
           "dodge omni"
          ],
          [
           156,
           105,
           2745,
           "plymouth sapporo"
          ],
          [
           151,
           85,
           2855,
           "oldsmobile starfire sx"
          ],
          [
           231,
           115,
           3245,
           "pontiac lemans v6"
          ],
          [
           200,
           85,
           2990,
           "mercury zephyr 6"
          ],
          [
           140,
           88,
           2890,
           "ford fairmont 4"
          ],
          [
           232,
           90,
           3265,
           "amc concord dl 6"
          ],
          [
           225,
           110,
           3360,
           "dodge aspen 6"
          ],
          [
           305,
           130,
           3840,
           "chevrolet caprice classic"
          ],
          [
           302,
           129,
           3725,
           "ford ltd landau"
          ],
          [
           351,
           138,
           3955,
           "mercury grand marquis"
          ],
          [
           318,
           135,
           3830,
           "dodge st. regis"
          ],
          [
           350,
           155,
           4360,
           "buick estate wagon (sw)"
          ],
          [
           351,
           142,
           4054,
           "ford country squire (sw)"
          ],
          [
           267,
           125,
           3605,
           "chevrolet malibu classic (sw)"
          ],
          [
           360,
           150,
           3940,
           "chrysler lebaron town @ country (sw)"
          ],
          [
           98,
           80,
           1915,
           "dodge colt hatchback custom"
          ],
          [
           121,
           80,
           2670,
           "amc spirit dl"
          ],
          [
           350,
           125,
           3900,
           "cadillac eldorado"
          ],
          [
           260,
           90,
           3420,
           "oldsmobile cutlass salon brougham"
          ],
          [
           105,
           70,
           2200,
           "plymouth horizon"
          ],
          [
           105,
           70,
           2150,
           "plymouth horizon tc3"
          ],
          [
           151,
           90,
           2670,
           "buick skylark limited"
          ],
          [
           173,
           115,
           2595,
           "chevrolet citation"
          ],
          [
           173,
           115,
           2700,
           "oldsmobile omega brougham"
          ],
          [
           151,
           90,
           2556,
           "pontiac phoenix"
          ],
          [
           98,
           70,
           2120,
           "chevrolet chevette"
          ],
          [
           151,
           90,
           2678,
           "chevrolet citation"
          ],
          [
           140,
           88,
           2870,
           "ford fairmont"
          ],
          [
           151,
           90,
           3003,
           "amc concord"
          ],
          [
           225,
           90,
           3381,
           "dodge aspen"
          ],
          [
           156,
           105,
           2800,
           "dodge colt"
          ],
          [
           135,
           84,
           2490,
           "plymouth reliant"
          ],
          [
           151,
           84,
           2635,
           "buick skylark"
          ],
          [
           156,
           92,
           2620,
           "dodge aries wagon (sw)"
          ],
          [
           173,
           110,
           2725,
           "chevrolet citation"
          ],
          [
           135,
           84,
           2385,
           "plymouth reliant"
          ],
          [
           86,
           64,
           1875,
           "plymouth champ"
          ],
          [
           105,
           63,
           2215,
           "plymouth horizon 4"
          ],
          [
           98,
           65,
           2045,
           "ford escort 4w"
          ],
          [
           98,
           65,
           2380,
           "ford escort 2h"
          ],
          [
           231,
           110,
           3415,
           "buick century"
          ],
          [
           350,
           105,
           3725,
           "oldsmobile cutlass ls"
          ],
          [
           200,
           88,
           3060,
           "ford granada gl"
          ],
          [
           225,
           85,
           3465,
           "chrysler lebaron salon"
          ],
          [
           112,
           88,
           2605,
           "chevrolet cavalier"
          ],
          [
           112,
           88,
           2640,
           "chevrolet cavalier wagon"
          ],
          [
           112,
           88,
           2395,
           "chevrolet cavalier 2-door"
          ],
          [
           112,
           85,
           2575,
           "pontiac j2000 se hatchback"
          ],
          [
           135,
           84,
           2525,
           "dodge aries se"
          ],
          [
           151,
           90,
           2735,
           "pontiac phoenix"
          ],
          [
           140,
           92,
           2865,
           "ford fairmont futura"
          ],
          [
           105,
           63,
           2125,
           "plymouth horizon miser"
          ],
          [
           98,
           70,
           2125,
           "mercury lynx l"
          ],
          [
           181,
           110,
           2945,
           "buick century limited"
          ],
          [
           262,
           85,
           3015,
           "oldsmobile cutlass ciera (diesel)"
          ],
          [
           156,
           92,
           2585,
           "chrysler lebaron medallion"
          ],
          [
           232,
           112,
           2835,
           "ford granada l"
          ],
          [
           135,
           84,
           2370,
           "dodge charger 2.2"
          ],
          [
           151,
           90,
           2950,
           "chevrolet camaro"
          ],
          [
           140,
           86,
           2790,
           "ford mustang gl"
          ],
          [
           135,
           84,
           2295,
           "dodge rampage"
          ],
          [
           120,
           79,
           2625,
           "ford ranger"
          ],
          [
           119,
           82,
           2720,
           "chevy s-10"
          ]
         ],
         "hovertemplate": "origin=usa<br>z1=%{x}<br>z2=%{y}<br>displacement=%{customdata[0]}<br>horsepower=%{customdata[1]}<br>weight=%{customdata[2]}<br>name=%{customdata[3]}<br>model_year=%{marker.color}<extra></extra>",
         "legendgroup": "usa",
         "marker": {
          "color": {
           "bdata": "RkZGRkZGRkZGRkZGRkZGRkZGRkZGRkdHR0dHR0dHR0dHR0dHR0dHR0dISEhISEhISEhISEhISEhISEhJSUlJSUlJSUlJSUlJSUlJSUlJSUlJSUlJSUlJSUpKSkpKSkpKSkpKSkpKS0tLS0tLS0tLS0tLS0tLS0tLS0tMTExMTExMTExMTExMTExMTExMTExMTU1NTU1NTU1NTU1NTU1NTU1NTk5OTk5OTk5OTk5OTk5OTk5OTk5OTk9PT09PT09PT09PT09PT09PT09PT09PUFBQUFBQUVFRUVFRUVFRUVFRUVJSUlJSUlJSUlJSUlJSUlJSUlI=",
           "dtype": "i1"
          },
          "coloraxis": "coloraxis",
          "symbol": "circle"
         },
         "mode": "markers",
         "name": "usa",
         "orientation": "v",
         "showlegend": true,
         "type": "scatter",
         "x": {
          "bdata": "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",
          "dtype": "f8"
         },
         "xaxis": "x",
         "y": {
          "bdata": "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",
          "dtype": "f8"
         },
         "yaxis": "y"
        },
        {
         "customdata": [
          [
           113,
           95,
           2372,
           "toyota corona mark ii"
          ],
          [
           97,
           88,
           2130,
           "datsun pl510"
          ],
          [
           97,
           88,
           2130,
           "datsun pl510"
          ],
          [
           113,
           95,
           2228,
           "toyota corona"
          ],
          [
           71,
           65,
           1773,
           "toyota corolla 1200"
          ],
          [
           72,
           69,
           1613,
           "datsun 1200"
          ],
          [
           113,
           95,
           2278,
           "toyota corona hardtop"
          ],
          [
           70,
           97,
           2330,
           "mazda rx2 coupe"
          ],
          [
           97,
           92,
           2288,
           "datsun 510 (sw)"
          ],
          [
           120,
           97,
           2506,
           "toyouta corona mark ii (sw)"
          ],
          [
           97,
           88,
           2100,
           "toyota corolla 1600 (sw)"
          ],
          [
           97,
           88,
           2279,
           "toyota carina"
          ],
          [
           108,
           94,
           2379,
           "datsun 610"
          ],
          [
           70,
           90,
           2124,
           "maxda rx3"
          ],
          [
           156,
           122,
           2807,
           "toyota mark ii"
          ],
          [
           79,
           67,
           1950,
           "datsun b210"
          ],
          [
           71,
           65,
           1836,
           "toyota corolla 1200"
          ],
          [
           76,
           52,
           1649,
           "toyota corona"
          ],
          [
           83,
           61,
           2003,
           "datsun 710"
          ],
          [
           120,
           97,
           2489,
           "honda civic"
          ],
          [
           108,
           93,
           2391,
           "subaru"
          ],
          [
           97,
           75,
           2171,
           "toyota corolla"
          ],
          [
           134,
           96,
           2702,
           "toyota corona"
          ],
          [
           119,
           97,
           2545,
           "datsun 710"
          ],
          [
           91,
           53,
           1795,
           "honda civic cvcc"
          ],
          [
           91,
           53,
           1795,
           "honda civic"
          ],
          [
           85,
           70,
           1990,
           "datsun b-210"
          ],
          [
           97,
           75,
           2155,
           "toyota corolla"
          ],
          [
           156,
           108,
           2930,
           "toyota mark ii"
          ],
          [
           98,
           68,
           2045,
           "honda accord cvcc"
          ],
          [
           85,
           70,
           1945,
           "datsun f-10 hatchback"
          ],
          [
           97,
           75,
           2265,
           "toyota corolla liftback"
          ],
          [
           97,
           67,
           1985,
           "subaru dl"
          ],
          [
           146,
           97,
           2815,
           "datsun 810"
          ],
          [
           80,
           110,
           2720,
           "mazda rx-4"
          ],
          [
           78,
           52,
           1985,
           "mazda glc deluxe"
          ],
          [
           85,
           70,
           2070,
           "datsun b210 gx"
          ],
          [
           91,
           60,
           1800,
           "honda civic cvcc"
          ],
          [
           134,
           95,
           2560,
           "toyota corona"
          ],
          [
           119,
           97,
           2300,
           "datsun 510"
          ],
          [
           134,
           95,
           2515,
           "toyota celica gt liftback"
          ],
          [
           119,
           97,
           2405,
           "datsun 200-sx"
          ],
          [
           98,
           68,
           2135,
           "honda accord lx"
          ],
          [
           86,
           65,
           1975,
           "maxda glc deluxe"
          ],
          [
           85,
           65,
           2020,
           "datsun 210"
          ],
          [
           89,
           60,
           1968,
           "toyota corolla tercel"
          ],
          [
           86,
           65,
           2019,
           "datsun 310"
          ],
          [
           134,
           90,
           2711,
           "toyota corona liftback"
          ],
          [
           120,
           75,
           2542,
           "mazda 626"
          ],
          [
           119,
           92,
           2434,
           "datsun 510 hatchback"
          ],
          [
           108,
           75,
           2265,
           "toyota corolla"
          ],
          [
           86,
           65,
           2110,
           "mazda glc"
          ],
          [
           85,
           65,
           2110,
           "datsun 210"
          ],
          [
           91,
           67,
           1850,
           "honda civic 1500 gl"
          ],
          [
           97,
           67,
           2145,
           "subaru dl"
          ],
          [
           168,
           132,
           2910,
           "datsun 280-zx"
          ],
          [
           70,
           100,
           2420,
           "mazda rx-7 gs"
          ],
          [
           107,
           72,
           2290,
           "honda accord"
          ],
          [
           79,
           58,
           1755,
           "toyota starlet"
          ],
          [
           81,
           60,
           1760,
           "honda civic 1300"
          ],
          [
           97,
           67,
           2065,
           "subaru"
          ],
          [
           85,
           65,
           1975,
           "datsun 210 mpg"
          ],
          [
           89,
           62,
           2050,
           "toyota tercel"
          ],
          [
           91,
           68,
           1985,
           "mazda glc 4"
          ],
          [
           107,
           75,
           2210,
           "honda prelude"
          ],
          [
           108,
           75,
           2350,
           "toyota corolla"
          ],
          [
           119,
           100,
           2615,
           "datsun 200sx"
          ],
          [
           120,
           74,
           2635,
           "mazda 626"
          ],
          [
           168,
           116,
           2900,
           "toyota cressida"
          ],
          [
           146,
           120,
           2930,
           "datsun 810 maxima"
          ],
          [
           91,
           68,
           2025,
           "mazda glc custom l"
          ],
          [
           91,
           68,
           1970,
           "mazda glc custom"
          ],
          [
           120,
           88,
           2160,
           "nissan stanza xe"
          ],
          [
           107,
           75,
           2205,
           "honda accord"
          ],
          [
           108,
           70,
           2245,
           "toyota corolla"
          ],
          [
           91,
           67,
           1965,
           "honda civic"
          ],
          [
           91,
           67,
           1965,
           "honda civic (auto)"
          ],
          [
           91,
           67,
           1995,
           "datsun 310 gx"
          ],
          [
           144,
           96,
           2665,
           "toyota celica gt"
          ]
         ],
         "hovertemplate": "origin=japan<br>z1=%{x}<br>z2=%{y}<br>displacement=%{customdata[0]}<br>horsepower=%{customdata[1]}<br>weight=%{customdata[2]}<br>name=%{customdata[3]}<br>model_year=%{marker.color}<extra></extra>",
         "legendgroup": "japan",
         "marker": {
          "color": {
           "bdata": "RkZHR0dHSEhISEhJSUlJSkpKSkpKS0tLS0xMTExNTU1NTU1OTk5OTk5OTk9PUFBQUFBQUFBQUFBQUFFRUVFRUVFRUVFRUVJSUlJSUlJSUg==",
           "dtype": "i1"
          },
          "coloraxis": "coloraxis",
          "symbol": "diamond"
         },
         "mode": "markers",
         "name": "japan",
         "orientation": "v",
         "showlegend": true,
         "type": "scatter",
         "x": {
          "bdata": "XGYq23EWg8DY6lyuNamKwElcSGs4qYrAiGBWwguOh8Db3pVLte2SwKC//Q4LaJXAhXm12u8AhsBCz1CXZoqEwM+f1bVWwYXA8n0ApoXOfcC6Oalod5eLwHf0wa6UCYbAzDIW/qbjgsAmaPBiavCKwOWIMrdJoGXA7SbPmPUqkMD1yxuEm/ORwAnM/xfR2ZTAgfqX/k6vjsAtOl67r9x+wPO9SnXshILA68WTTtlnicDiZq4Ex4xxwNP/fhAgZXvAX3BwIimPksAXKeaAKo+SwP8v0yjuEY/AVJlbjtvmicDpOx7ZR7pJwJ0S6MjgUY3ADN0NTrE7kMAyi1yXN32GwDtz2et7L4/AHpf6spbmZMCQ4lOhschwwAdFFWS4RY/AqbM9ahuXjMCww8awU3qSwHIEkGUvXXrAJX/tv2BMhcBeupIHHSd9wH1mPIhaCoLA06GMpw+HisAI4Q8E2omPwKDM+AVGJY7Aev/9FoLAj8Dw0/iKoyyOwCqQb4hjAnHARSkONKehe8BowiKAbyaBwNOvvXCQc4bANUmME5Bai8D0wZEDIFuLwD8J7bD5spHABKPOkig5isAFxX5DEUdRwJaKaXIhv4HA1mTRlOWuhcBwxgsd6TKTwFM1va21HZPAKZObUF+0jMA+0z3F9oqPwMXURsexNI3AOL2C1/M0j8C75RN5WCmIwMw6Lz6W0IPAqVDfKrMMd8CTSA51Rt11wJ77Hr7M5lPAjGtCerEWSsAuJkIGfveNwD08EHvkq4/A0rmdf5ymicAJDguzM1GIwJGC98MTFIfAZu8X41XUj8DLFGSM+NOPwGSDoqIZ5o7A09gmpEDHc8A=",
          "dtype": "f8"
         },
         "xaxis": "x",
         "y": {
          "bdata": "JKkNPkclGsBRZgsuS70VQFY998LDpBVAmDXnKTioJUACbDYHeQgxQOq9moiPOENAxvAST+4cE0A94xZvYMJEwIQoY9IUEynA6fx8HlIWL8BoDFc2zwYiQAZyIES9DCnAofJ6gQnmKMC6craW0rUywLaoCu6UwSTA4ogteDPdDUD5HFdxGqgiQPXx66liZ0BALehjuQgz5r/V8vmUuBsrwKD6z7KOlSzA9l4Hf29nDMDZIVtdqF86wH7a1rguSzXAv4QxUSeYPUCAemx2BZI9QHo2qimYnhVAHU01jSH3+b+DmM9BD3k9wEJP+9Kg5SRAnAEjSJOWJUCr5fkuCNEtwFN6TcatezBAvyk5EhFkPMCwdKl8Id9SwE0siQ8XKxjAzANac/fFEcCIScAMKvM+QHM3xYPZRyPAhiusqwhjIEB9bEY3eFoQwMwsIHplwxHAahOIwvnW2r9qcmOTF0MaQH9sF8ZNKcw/Mu4WKjlVIUC3KU1i9bHyP7VZYC2xeD3AwHztFhjKOsAvAqRe2W0jwO4Mouj9thLAJSyOXUn+I8B88COGqa4lwM7a7Xt/yzpAPMvJ+uj3B8CQINIEvMMhwGWs5eCM40nAebGHgt8WI8BSYnTj3U84QLSfgq1IRDpAqeMkR9y0GkCeG1l3vhQWQO1FEeBoU+W/ueHj/6zeJUDk2MGE/CHvP4wEv5Av9i3AhrTVu0IpPcALA+tG3y1DwN00zjrrrCjAB7CTECrJQcDCFWgndxkYQE1Gb2yljilA05xIuEohN0D/ngtA7jT4P8sxFqaPpQ7AinqQsYbsKUCHnJFMgSIqQE74KqfVqyJAZKc+pap9KcA=",
          "dtype": "f8"
         },
         "yaxis": "y"
        },
        {
         "customdata": [
          [
           97,
           46,
           1835,
           "volkswagen 1131 deluxe sedan"
          ],
          [
           110,
           87,
           2672,
           "peugeot 504"
          ],
          [
           107,
           90,
           2430,
           "audi 100 ls"
          ],
          [
           104,
           95,
           2375,
           "saab 99e"
          ],
          [
           121,
           113,
           2234,
           "bmw 2002"
          ],
          [
           116,
           90,
           2123,
           "opel 1900"
          ],
          [
           79,
           70,
           2074,
           "peugeot 304"
          ],
          [
           88,
           76,
           2065,
           "fiat 124b"
          ],
          [
           97,
           60,
           1834,
           "volkswagen model 111"
          ],
          [
           97,
           54,
           2254,
           "volkswagen type 3"
          ],
          [
           121,
           112,
           2933,
           "volvo 145e (sw)"
          ],
          [
           121,
           76,
           2511,
           "volkswagen 411 (sw)"
          ],
          [
           120,
           87,
           2979,
           "peugeot 504 (sw)"
          ],
          [
           96,
           69,
           2189,
           "renault 12 (sw)"
          ],
          [
           97,
           46,
           1950,
           "volkswagen super beetle"
          ],
          [
           98,
           90,
           2265,
           "fiat 124 sport coupe"
          ],
          [
           68,
           49,
           1867,
           "fiat 128"
          ],
          [
           116,
           75,
           2158,
           "opel manta"
          ],
          [
           114,
           91,
           2582,
           "audi 100ls"
          ],
          [
           121,
           112,
           2868,
           "volvo 144ea"
          ],
          [
           121,
           110,
           2660,
           "saab 99le"
          ],
          [
           98,
           83,
           2219,
           "audi fox"
          ],
          [
           79,
           67,
           1963,
           "volkswagen dasher"
          ],
          [
           97,
           78,
           2300,
           "opel manta"
          ],
          [
           90,
           75,
           2108,
           "fiat 128"
          ],
          [
           116,
           75,
           2246,
           "fiat 124 tc"
          ],
          [
           79,
           67,
           2000,
           "fiat x1.9"
          ],
          [
           90,
           71,
           2223,
           "volkswagen dasher"
          ],
          [
           90,
           70,
           1937,
           "volkswagen rabbit"
          ],
          [
           115,
           95,
           2694,
           "audi 100ls"
          ],
          [
           120,
           88,
           2957,
           "peugeot 504"
          ],
          [
           121,
           98,
           2945,
           "volvo 244dl"
          ],
          [
           121,
           115,
           2671,
           "saab 99le"
          ],
          [
           107,
           86,
           2464,
           "fiat 131"
          ],
          [
           116,
           81,
           2220,
           "opel 1900"
          ],
          [
           101,
           83,
           2202,
           "renault 12tl"
          ],
          [
           90,
           70,
           1937,
           "vw rabbit"
          ],
          [
           97,
           71,
           1825,
           "volkswagen rabbit"
          ],
          [
           130,
           102,
           3150,
           "volvo 245"
          ],
          [
           120,
           88,
           3270,
           "peugeot 504"
          ],
          [
           168,
           120,
           3820,
           "mercedes-benz 280s"
          ],
          [
           79,
           58,
           1825,
           "renault 5 gtl"
          ],
          [
           97,
           78,
           1940,
           "volkswagen rabbit custom"
          ],
          [
           97,
           78,
           2190,
           "volkswagen dasher"
          ],
          [
           121,
           110,
           2600,
           "bmw 320i"
          ],
          [
           90,
           48,
           1985,
           "volkswagen rabbit custom diesel"
          ],
          [
           131,
           103,
           2830,
           "audi 5000"
          ],
          [
           163,
           125,
           3140,
           "volvo 264gl"
          ],
          [
           121,
           115,
           2795,
           "saab 99gle"
          ],
          [
           163,
           133,
           3410,
           "peugeot 604sl"
          ],
          [
           89,
           71,
           1990,
           "volkswagen scirocco"
          ],
          [
           89,
           71,
           1925,
           "vw rabbit custom"
          ],
          [
           183,
           77,
           3530,
           "mercedes benz 300d"
          ],
          [
           141,
           71,
           3190,
           "peugeot 504"
          ],
          [
           91,
           69,
           2130,
           "fiat strada custom"
          ],
          [
           98,
           76,
           2144,
           "vw rabbit"
          ],
          [
           97,
           78,
           2188,
           "audi 4000"
          ],
          [
           90,
           48,
           2085,
           "vw rabbit c (diesel)"
          ],
          [
           90,
           48,
           2335,
           "vw dasher (diesel)"
          ],
          [
           121,
           67,
           2950,
           "audi 5000s (diesel)"
          ],
          [
           146,
           67,
           3250,
           "mercedes-benz 240d"
          ],
          [
           89,
           62,
           1845,
           "vokswagen rabbit"
          ],
          [
           122,
           88,
           2500,
           "triumph tr7 coupe"
          ],
          [
           105,
           74,
           2190,
           "volkswagen jetta"
          ],
          [
           141,
           80,
           3230,
           "peugeot 505s turbo diesel"
          ],
          [
           145,
           76,
           3160,
           "volvo diesel"
          ],
          [
           105,
           74,
           1980,
           "volkswagen rabbit l"
          ],
          [
           97,
           52,
           2130,
           "vw pickup"
          ]
         ],
         "hovertemplate": "origin=europe<br>z1=%{x}<br>z2=%{y}<br>displacement=%{customdata[0]}<br>horsepower=%{customdata[1]}<br>weight=%{customdata[2]}<br>name=%{customdata[3]}<br>model_year=%{marker.color}<extra></extra>",
         "legendgroup": "europe",
         "marker": {
          "color": {
           "bdata": "RkZGRkZHR0dHSEhISEhJSUlJSUlJSkpKSkpKS0tLS0tLTExMTExMTExNTU1NTk5OTk5OT09PT1BQUFBQUFBQUVFRUlI=",
           "dtype": "i1"
          },
          "coloraxis": "coloraxis",
          "symbol": "square"
         },
         "mode": "markers",
         "name": "europe",
         "orientation": "v",
         "showlegend": true,
         "type": "scatter",
         "x": {
          "bdata": "NW+CvXHukcDt/YpLx5pzwCQ3dBPnUIHAy+PG6OkGg8D/ZWX/hFGHwEs0O6rdzorAGoElFC98jMDMwflAjbmMwD3edr1E8JHADdZtSOHahsAspv7suCdKwAOiCyxAin3AmkG2pxEKH8Ax4FRKetuIwAM1rbLXJZDA9MG9RZV3hsBHcnHNSXyRwBMHaf5gvYnAmh2z7dUlecA4UhOE2DVdwNtvfKnYNnTAjKwNnkDnh8DEW5oBYe6PwIJWothOZoXAc/eBGztii8DTyAT5rwKHwMyd0vHbyI7AvHdSUFDSh8Cy6YPWBVmQwNBDhIUYL3LAYAzKKQyUPcCfPenuPn1EwDzrlvsvhXPAWEzb63REgMCuD7yPP8+HwPEFr35oa4jAaqL5NAdZkMDmCqBaZBKSwE7RS8PQdmRADeV0vGOScUBF2ZtP4A6KQKjosHvaHJLAHNQfYKxIkMAlcG+nJNCIwOAfbcqR73fAdhGwsJ08j8Az2BlZJTljwL8I7Xs7z2NAiU89KNqmZ8AJ8J0B8Kx6QPGtVjvzDY/AlmXIsxSJkMARya+BrQ+BQGlnJEsebWlAWcB2oVe1isC9rp6/2D2KwMeAq91J4IjA+KZFqZcijMA+5JM6PmGEwNVPTO5sq0LAM6Vxysp1cEDUBY2EEsiRwDZol5JlMX7A/Bo9Y0TKiMChQub0n25uQOVUu0gcyGVAxm24jhtOj8AWoi66l7WKwA==",
          "dtype": "f8"
         },
         "xaxis": "x",
         "y": {
          "bdata": "UgAW0Y6XPECKJmO0ggVIwGTTPlnPtzTAgJCTq2HfLsBNZWZBGAs3QGvBJaKi0DhAbYy45YiMJMA3JFDuO+jxP5wNsisDbEBAzKDHL7yqM8B789Xz99NOwJV3tpngcTXAKVaqpaXqUsA6mI7xSK0gwEWlCC8BPS1ADP//mJnLIsCu8hKhrzv/v/qPTzXYIjBAlAWI0ssVQMAk3rZsk+tKwJVNVpe0YT3A4J4JpygAGMDlNxUnjPoBQIrn/9jWLDLAGQSVhhqaA8AT4ubWRcIVQPnMWogPgQLA2Br3G72VMcDH+oGVM54wQG8Jixvb1UXA5ajgdzk0UsB72MBU9NpQwPjna+pgST3APfMmdug7OsCiu7zAS64kQO1YS3CY5vG/iPC8uhGYMECxIAYz8YVCQCn7Obu9nlTAnCQlzrGmW8CCO+fRGIVewPIMjh1S/y9Apb5RLms3OUBcZtWWLB4UwD8NuhdMLjbApPb+zgGED0BEAzkb001FwDjmNqsml0XAL7adadIkRsCBb9JU3FpSwM8+lk0A5SJA/L4vI/xFMUBTIECR2XdVwLeV8cbrlVXAkZgutSg4GcD9pABqQ7fjP4iDwVaTtBPAtptAfUtvIMA9yQYt6DVDwMgawQ7LaFPAiqmcrTmIVsAD4offN0Y4QEyea50uAzDAeZs9gHZb8z+sQPfLxyNWwF7fuzEwY1PAzc7hioKEOkA0V0AnzocXwA==",
          "dtype": "f8"
         },
         "yaxis": "y"
        }
       ],
       "layout": {
        "coloraxis": {
         "colorbar": {
          "title": {
           "text": "model_year"
          }
         },
         "colorscale": [
          [
           0,
           "#0d0887"
          ],
          [
           0.1111111111111111,
           "#46039f"
          ],
          [
           0.2222222222222222,
           "#7201a8"
          ],
          [
           0.3333333333333333,
           "#9c179e"
          ],
          [
           0.4444444444444444,
           "#bd3786"
          ],
          [
           0.5555555555555556,
           "#d8576b"
          ],
          [
           0.6666666666666666,
           "#ed7953"
          ],
          [
           0.7777777777777778,
           "#fb9f3a"
          ],
          [
           0.8888888888888888,
           "#fdca26"
          ],
          [
           1,
           "#f0f921"
          ]
         ]
        },
        "legend": {
         "title": {
          "text": "origin"
         },
         "tracegroupgap": 0,
         "x": 0.92,
         "y": 1
        },
        "margin": {
         "t": 60
        },
        "template": {
         "data": {
          "bar": [
           {
            "error_x": {
             "color": "#2a3f5f"
            },
            "error_y": {
             "color": "#2a3f5f"
            },
            "marker": {
             "line": {
              "color": "#E5ECF6",
              "width": 0.5
             },
             "pattern": {
              "fillmode": "overlay",
              "size": 10,
              "solidity": 0.2
             }
            },
            "type": "bar"
           }
          ],
          "barpolar": [
           {
            "marker": {
             "line": {
              "color": "#E5ECF6",
              "width": 0.5
             },
             "pattern": {
              "fillmode": "overlay",
              "size": 10,
              "solidity": 0.2
             }
            },
            "type": "barpolar"
           }
          ],
          "carpet": [
           {
            "aaxis": {
             "endlinecolor": "#2a3f5f",
             "gridcolor": "white",
             "linecolor": "white",
             "minorgridcolor": "white",
             "startlinecolor": "#2a3f5f"
            },
            "baxis": {
             "endlinecolor": "#2a3f5f",
             "gridcolor": "white",
             "linecolor": "white",
             "minorgridcolor": "white",
             "startlinecolor": "#2a3f5f"
            },
            "type": "carpet"
           }
          ],
          "choropleth": [
           {
            "colorbar": {
             "outlinewidth": 0,
             "ticks": ""
            },
            "type": "choropleth"
           }
          ],
          "contour": [
           {
            "colorbar": {
             "outlinewidth": 0,
             "ticks": ""
            },
            "colorscale": [
             [
              0,
              "#0d0887"
             ],
             [
              0.1111111111111111,
              "#46039f"
             ],
             [
              0.2222222222222222,
              "#7201a8"
             ],
             [
              0.3333333333333333,
              "#9c179e"
             ],
             [
              0.4444444444444444,
              "#bd3786"
             ],
             [
              0.5555555555555556,
              "#d8576b"
             ],
             [
              0.6666666666666666,
              "#ed7953"
             ],
             [
              0.7777777777777778,
              "#fb9f3a"
             ],
             [
              0.8888888888888888,
              "#fdca26"
             ],
             [
              1,
              "#f0f921"
             ]
            ],
            "type": "contour"
           }
          ],
          "contourcarpet": [
           {
            "colorbar": {
             "outlinewidth": 0,
             "ticks": ""
            },
            "type": "contourcarpet"
           }
          ],
          "heatmap": [
           {
            "colorbar": {
             "outlinewidth": 0,
             "ticks": ""
            },
            "colorscale": [
             [
              0,
              "#0d0887"
             ],
             [
              0.1111111111111111,
              "#46039f"
             ],
             [
              0.2222222222222222,
              "#7201a8"
             ],
             [
              0.3333333333333333,
              "#9c179e"
             ],
             [
              0.4444444444444444,
              "#bd3786"
             ],
             [
              0.5555555555555556,
              "#d8576b"
             ],
             [
              0.6666666666666666,
              "#ed7953"
             ],
             [
              0.7777777777777778,
              "#fb9f3a"
             ],
             [
              0.8888888888888888,
              "#fdca26"
             ],
             [
              1,
              "#f0f921"
             ]
            ],
            "type": "heatmap"
           }
          ],
          "histogram": [
           {
            "marker": {
             "pattern": {
              "fillmode": "overlay",
              "size": 10,
              "solidity": 0.2
             }
            },
            "type": "histogram"
           }
          ],
          "histogram2d": [
           {
            "colorbar": {
             "outlinewidth": 0,
             "ticks": ""
            },
            "colorscale": [
             [
              0,
              "#0d0887"
             ],
             [
              0.1111111111111111,
              "#46039f"
             ],
             [
              0.2222222222222222,
              "#7201a8"
             ],
             [
              0.3333333333333333,
              "#9c179e"
             ],
             [
              0.4444444444444444,
              "#bd3786"
             ],
             [
              0.5555555555555556,
              "#d8576b"
             ],
             [
              0.6666666666666666,
              "#ed7953"
             ],
             [
              0.7777777777777778,
              "#fb9f3a"
             ],
             [
              0.8888888888888888,
              "#fdca26"
             ],
             [
              1,
              "#f0f921"
             ]
            ],
            "type": "histogram2d"
           }
          ],
          "histogram2dcontour": [
           {
            "colorbar": {
             "outlinewidth": 0,
             "ticks": ""
            },
            "colorscale": [
             [
              0,
              "#0d0887"
             ],
             [
              0.1111111111111111,
              "#46039f"
             ],
             [
              0.2222222222222222,
              "#7201a8"
             ],
             [
              0.3333333333333333,
              "#9c179e"
             ],
             [
              0.4444444444444444,
              "#bd3786"
             ],
             [
              0.5555555555555556,
              "#d8576b"
             ],
             [
              0.6666666666666666,
              "#ed7953"
             ],
             [
              0.7777777777777778,
              "#fb9f3a"
             ],
             [
              0.8888888888888888,
              "#fdca26"
             ],
             [
              1,
              "#f0f921"
             ]
            ],
            "type": "histogram2dcontour"
           }
          ],
          "mesh3d": [
           {
            "colorbar": {
             "outlinewidth": 0,
             "ticks": ""
            },
            "type": "mesh3d"
           }
          ],
          "parcoords": [
           {
            "line": {
             "colorbar": {
              "outlinewidth": 0,
              "ticks": ""
             }
            },
            "type": "parcoords"
           }
          ],
          "pie": [
           {
            "automargin": true,
            "type": "pie"
           }
          ],
          "scatter": [
           {
            "fillpattern": {
             "fillmode": "overlay",
             "size": 10,
             "solidity": 0.2
            },
            "type": "scatter"
           }
          ],
          "scatter3d": [
           {
            "line": {
             "colorbar": {
              "outlinewidth": 0,
              "ticks": ""
             }
            },
            "marker": {
             "colorbar": {
              "outlinewidth": 0,
              "ticks": ""
             }
            },
            "type": "scatter3d"
           }
          ],
          "scattercarpet": [
           {
            "marker": {
             "colorbar": {
              "outlinewidth": 0,
              "ticks": ""
             }
            },
            "type": "scattercarpet"
           }
          ],
          "scattergeo": [
           {
            "marker": {
             "colorbar": {
              "outlinewidth": 0,
              "ticks": ""
             }
            },
            "type": "scattergeo"
           }
          ],
          "scattergl": [
           {
            "marker": {
             "colorbar": {
              "outlinewidth": 0,
              "ticks": ""
             }
            },
            "type": "scattergl"
           }
          ],
          "scattermap": [
           {
            "marker": {
             "colorbar": {
              "outlinewidth": 0,
              "ticks": ""
             }
            },
            "type": "scattermap"
           }
          ],
          "scattermapbox": [
           {
            "marker": {
             "colorbar": {
              "outlinewidth": 0,
              "ticks": ""
             }
            },
            "type": "scattermapbox"
           }
          ],
          "scatterpolar": [
           {
            "marker": {
             "colorbar": {
              "outlinewidth": 0,
              "ticks": ""
             }
            },
            "type": "scatterpolar"
           }
          ],
          "scatterpolargl": [
           {
            "marker": {
             "colorbar": {
              "outlinewidth": 0,
              "ticks": ""
             }
            },
            "type": "scatterpolargl"
           }
          ],
          "scatterternary": [
           {
            "marker": {
             "colorbar": {
              "outlinewidth": 0,
              "ticks": ""
             }
            },
            "type": "scatterternary"
           }
          ],
          "surface": [
           {
            "colorbar": {
             "outlinewidth": 0,
             "ticks": ""
            },
            "colorscale": [
             [
              0,
              "#0d0887"
             ],
             [
              0.1111111111111111,
              "#46039f"
             ],
             [
              0.2222222222222222,
              "#7201a8"
             ],
             [
              0.3333333333333333,
              "#9c179e"
             ],
             [
              0.4444444444444444,
              "#bd3786"
             ],
             [
              0.5555555555555556,
              "#d8576b"
             ],
             [
              0.6666666666666666,
              "#ed7953"
             ],
             [
              0.7777777777777778,
              "#fb9f3a"
             ],
             [
              0.8888888888888888,
              "#fdca26"
             ],
             [
              1,
              "#f0f921"
             ]
            ],
            "type": "surface"
           }
          ],
          "table": [
           {
            "cells": {
             "fill": {
              "color": "#EBF0F8"
             },
             "line": {
              "color": "white"
             }
            },
            "header": {
             "fill": {
              "color": "#C8D4E3"
             },
             "line": {
              "color": "white"
             }
            },
            "type": "table"
           }
          ]
         },
         "layout": {
          "annotationdefaults": {
           "arrowcolor": "#2a3f5f",
           "arrowhead": 0,
           "arrowwidth": 1
          },
          "autotypenumbers": "strict",
          "coloraxis": {
           "colorbar": {
            "outlinewidth": 0,
            "ticks": ""
           }
          },
          "colorscale": {
           "diverging": [
            [
             0,
             "#8e0152"
            ],
            [
             0.1,
             "#c51b7d"
            ],
            [
             0.2,
             "#de77ae"
            ],
            [
             0.3,
             "#f1b6da"
            ],
            [
             0.4,
             "#fde0ef"
            ],
            [
             0.5,
             "#f7f7f7"
            ],
            [
             0.6,
             "#e6f5d0"
            ],
            [
             0.7,
             "#b8e186"
            ],
            [
             0.8,
             "#7fbc41"
            ],
            [
             0.9,
             "#4d9221"
            ],
            [
             1,
             "#276419"
            ]
           ],
           "sequential": [
            [
             0,
             "#0d0887"
            ],
            [
             0.1111111111111111,
             "#46039f"
            ],
            [
             0.2222222222222222,
             "#7201a8"
            ],
            [
             0.3333333333333333,
             "#9c179e"
            ],
            [
             0.4444444444444444,
             "#bd3786"
            ],
            [
             0.5555555555555556,
             "#d8576b"
            ],
            [
             0.6666666666666666,
             "#ed7953"
            ],
            [
             0.7777777777777778,
             "#fb9f3a"
            ],
            [
             0.8888888888888888,
             "#fdca26"
            ],
            [
             1,
             "#f0f921"
            ]
           ],
           "sequentialminus": [
            [
             0,
             "#0d0887"
            ],
            [
             0.1111111111111111,
             "#46039f"
            ],
            [
             0.2222222222222222,
             "#7201a8"
            ],
            [
             0.3333333333333333,
             "#9c179e"
            ],
            [
             0.4444444444444444,
             "#bd3786"
            ],
            [
             0.5555555555555556,
             "#d8576b"
            ],
            [
             0.6666666666666666,
             "#ed7953"
            ],
            [
             0.7777777777777778,
             "#fb9f3a"
            ],
            [
             0.8888888888888888,
             "#fdca26"
            ],
            [
             1,
             "#f0f921"
            ]
           ]
          },
          "colorway": [
           "#636efa",
           "#EF553B",
           "#00cc96",
           "#ab63fa",
           "#FFA15A",
           "#19d3f3",
           "#FF6692",
           "#B6E880",
           "#FF97FF",
           "#FECB52"
          ],
          "font": {
           "color": "#2a3f5f"
          },
          "geo": {
           "bgcolor": "white",
           "lakecolor": "white",
           "landcolor": "#E5ECF6",
           "showlakes": true,
           "showland": true,
           "subunitcolor": "white"
          },
          "hoverlabel": {
           "align": "left"
          },
          "hovermode": "closest",
          "mapbox": {
           "style": "light"
          },
          "paper_bgcolor": "white",
          "plot_bgcolor": "#E5ECF6",
          "polar": {
           "angularaxis": {
            "gridcolor": "white",
            "linecolor": "white",
            "ticks": ""
           },
           "bgcolor": "#E5ECF6",
           "radialaxis": {
            "gridcolor": "white",
            "linecolor": "white",
            "ticks": ""
           }
          },
          "scene": {
           "xaxis": {
            "backgroundcolor": "#E5ECF6",
            "gridcolor": "white",
            "gridwidth": 2,
            "linecolor": "white",
            "showbackground": true,
            "ticks": "",
            "zerolinecolor": "white"
           },
           "yaxis": {
            "backgroundcolor": "#E5ECF6",
            "gridcolor": "white",
            "gridwidth": 2,
            "linecolor": "white",
            "showbackground": true,
            "ticks": "",
            "zerolinecolor": "white"
           },
           "zaxis": {
            "backgroundcolor": "#E5ECF6",
            "gridcolor": "white",
            "gridwidth": 2,
            "linecolor": "white",
            "showbackground": true,
            "ticks": "",
            "zerolinecolor": "white"
           }
          },
          "shapedefaults": {
           "line": {
            "color": "#2a3f5f"
           }
          },
          "ternary": {
           "aaxis": {
            "gridcolor": "white",
            "linecolor": "white",
            "ticks": ""
           },
           "baxis": {
            "gridcolor": "white",
            "linecolor": "white",
            "ticks": ""
           },
           "bgcolor": "#E5ECF6",
           "caxis": {
            "gridcolor": "white",
            "linecolor": "white",
            "ticks": ""
           }
          },
          "title": {
           "x": 0.05
          },
          "xaxis": {
           "automargin": true,
           "gridcolor": "white",
           "linecolor": "white",
           "ticks": "",
           "title": {
            "standoff": 15
           },
           "zerolinecolor": "white",
           "zerolinewidth": 2
          },
          "yaxis": {
           "automargin": true,
           "gridcolor": "white",
           "linecolor": "white",
           "ticks": "",
           "title": {
            "standoff": 15
           },
           "zerolinecolor": "white",
           "zerolinewidth": 2
          }
         }
        },
        "xaxis": {
         "anchor": "y",
         "domain": [
          0,
          1
         ],
         "range": [
          -1500,
          2500
         ],
         "title": {
          "text": "z1"
         }
        },
        "yaxis": {
         "anchor": "x",
         "domain": [
          0,
          1
         ],
         "range": [
          -200,
          300
         ],
         "title": {
          "text": "z2"
         }
        }
       }
      }
     },
     "metadata": {},
     "output_type": "display_data"
    }
   ],
   "source": [
    "fig = px.scatter(mpg, x=\"z1\", y=\"z2\", color=\"model_year\", symbol=\"origin\", \n",
    "                 hover_data=[\"displacement\", \"horsepower\", \"weight\", \"name\"])\n",
    "fig.update_layout(legend=dict(x=.92, y=1), xaxis_range=[-1500, 2500], yaxis_range=[-200, 300])"
   ]
  }
 ],
 "metadata": {
  "kernelspec": {
   "display_name": "Python 3",
   "language": "python",
   "name": "python3"
  },
  "language_info": {
   "codemirror_mode": {
    "name": "ipython",
    "version": 3
   },
   "file_extension": ".py",
   "mimetype": "text/x-python",
   "name": "python",
   "nbconvert_exporter": "python",
   "pygments_lexer": "ipython3",
   "version": "3.9.12"
  }
 },
 "nbformat": 4,
 "nbformat_minor": 5
}
